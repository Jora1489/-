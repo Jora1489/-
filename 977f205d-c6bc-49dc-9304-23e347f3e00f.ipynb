{
 "cells": [
  {
   "cell_type": "markdown",
   "id": "fb51155a",
   "metadata": {},
   "source": [
    "# Исследование надежности заемщиков."
   ]
  },
  {
   "cell_type": "markdown",
   "id": "fe8d6492",
   "metadata": {},
   "source": [
    " Надежность заемщиков является основной причиной выдачи кредитов.В зависимости от семейного положения, возраста, количества или отсутствия дейтей меняется и срок возврата заемных средств. Далее расмотрим ,как изменяется зависимость от должности, возраста, места работы, количество детей и прочим факторам, и возврата крелита в срок. "
   ]
  },
  {
   "cell_type": "markdown",
   "id": "241591b3",
   "metadata": {},
   "source": [
    "### Шаг 1. Обзор данных"
   ]
  },
  {
   "cell_type": "code",
   "execution_count": 2,
   "id": "0fc1c61b",
   "metadata": {},
   "outputs": [],
   "source": [
    "import pandas as pd"
   ]
  },
  {
   "cell_type": "code",
   "execution_count": 4,
   "id": "0d9a42f3",
   "metadata": {
    "scrolled": true
   },
   "outputs": [
    {
     "name": "stdout",
     "output_type": "stream",
     "text": [
      "<class 'pandas.core.frame.DataFrame'>\n",
      "RangeIndex: 21525 entries, 0 to 21524\n",
      "Data columns (total 12 columns):\n",
      " #   Column            Non-Null Count  Dtype  \n",
      "---  ------            --------------  -----  \n",
      " 0   children          21525 non-null  int64  \n",
      " 1   days_employed     19351 non-null  float64\n",
      " 2   dob_years         21525 non-null  int64  \n",
      " 3   education         21525 non-null  object \n",
      " 4   education_id      21525 non-null  int64  \n",
      " 5   family_status     21525 non-null  object \n",
      " 6   family_status_id  21525 non-null  int64  \n",
      " 7   gender            21525 non-null  object \n",
      " 8   income_type       21525 non-null  object \n",
      " 9   debt              21525 non-null  int64  \n",
      " 10  total_income      19351 non-null  float64\n",
      " 11  purpose           21525 non-null  object \n",
      "dtypes: float64(2), int64(5), object(5)\n",
      "memory usage: 2.0+ MB\n"
     ]
    }
   ],
   "source": [
    "data = pd.read_csv('C:/Users/Жора/Downloads/проекты/готовое/2й предобработка данных/data.csv')\n",
    "data.info()\n",
    "#display(data)"
   ]
  },
  {
   "cell_type": "code",
   "execution_count": 5,
   "id": "6e606317",
   "metadata": {
    "scrolled": true
   },
   "outputs": [
    {
     "data": {
      "text/html": [
       "<div>\n",
       "<style scoped>\n",
       "    .dataframe tbody tr th:only-of-type {\n",
       "        vertical-align: middle;\n",
       "    }\n",
       "\n",
       "    .dataframe tbody tr th {\n",
       "        vertical-align: top;\n",
       "    }\n",
       "\n",
       "    .dataframe thead th {\n",
       "        text-align: right;\n",
       "    }\n",
       "</style>\n",
       "<table border=\"1\" class=\"dataframe\">\n",
       "  <thead>\n",
       "    <tr style=\"text-align: right;\">\n",
       "      <th></th>\n",
       "      <th>children</th>\n",
       "      <th>days_employed</th>\n",
       "      <th>dob_years</th>\n",
       "      <th>education</th>\n",
       "      <th>education_id</th>\n",
       "      <th>family_status</th>\n",
       "      <th>family_status_id</th>\n",
       "      <th>gender</th>\n",
       "      <th>income_type</th>\n",
       "      <th>debt</th>\n",
       "      <th>total_income</th>\n",
       "      <th>purpose</th>\n",
       "    </tr>\n",
       "  </thead>\n",
       "  <tbody>\n",
       "    <tr>\n",
       "      <th>0</th>\n",
       "      <td>1</td>\n",
       "      <td>-8437.673028</td>\n",
       "      <td>42</td>\n",
       "      <td>высшее</td>\n",
       "      <td>0</td>\n",
       "      <td>женат / замужем</td>\n",
       "      <td>0</td>\n",
       "      <td>F</td>\n",
       "      <td>сотрудник</td>\n",
       "      <td>0</td>\n",
       "      <td>253875.639453</td>\n",
       "      <td>покупка жилья</td>\n",
       "    </tr>\n",
       "    <tr>\n",
       "      <th>1</th>\n",
       "      <td>1</td>\n",
       "      <td>-4024.803754</td>\n",
       "      <td>36</td>\n",
       "      <td>среднее</td>\n",
       "      <td>1</td>\n",
       "      <td>женат / замужем</td>\n",
       "      <td>0</td>\n",
       "      <td>F</td>\n",
       "      <td>сотрудник</td>\n",
       "      <td>0</td>\n",
       "      <td>112080.014102</td>\n",
       "      <td>приобретение автомобиля</td>\n",
       "    </tr>\n",
       "    <tr>\n",
       "      <th>2</th>\n",
       "      <td>0</td>\n",
       "      <td>-5623.422610</td>\n",
       "      <td>33</td>\n",
       "      <td>Среднее</td>\n",
       "      <td>1</td>\n",
       "      <td>женат / замужем</td>\n",
       "      <td>0</td>\n",
       "      <td>M</td>\n",
       "      <td>сотрудник</td>\n",
       "      <td>0</td>\n",
       "      <td>145885.952297</td>\n",
       "      <td>покупка жилья</td>\n",
       "    </tr>\n",
       "    <tr>\n",
       "      <th>3</th>\n",
       "      <td>3</td>\n",
       "      <td>-4124.747207</td>\n",
       "      <td>32</td>\n",
       "      <td>среднее</td>\n",
       "      <td>1</td>\n",
       "      <td>женат / замужем</td>\n",
       "      <td>0</td>\n",
       "      <td>M</td>\n",
       "      <td>сотрудник</td>\n",
       "      <td>0</td>\n",
       "      <td>267628.550329</td>\n",
       "      <td>дополнительное образование</td>\n",
       "    </tr>\n",
       "    <tr>\n",
       "      <th>4</th>\n",
       "      <td>0</td>\n",
       "      <td>340266.072047</td>\n",
       "      <td>53</td>\n",
       "      <td>среднее</td>\n",
       "      <td>1</td>\n",
       "      <td>гражданский брак</td>\n",
       "      <td>1</td>\n",
       "      <td>F</td>\n",
       "      <td>пенсионер</td>\n",
       "      <td>0</td>\n",
       "      <td>158616.077870</td>\n",
       "      <td>сыграть свадьбу</td>\n",
       "    </tr>\n",
       "  </tbody>\n",
       "</table>\n",
       "</div>"
      ],
      "text/plain": [
       "   children  days_employed  dob_years education  education_id  \\\n",
       "0         1   -8437.673028         42    высшее             0   \n",
       "1         1   -4024.803754         36   среднее             1   \n",
       "2         0   -5623.422610         33   Среднее             1   \n",
       "3         3   -4124.747207         32   среднее             1   \n",
       "4         0  340266.072047         53   среднее             1   \n",
       "\n",
       "      family_status  family_status_id gender income_type  debt   total_income  \\\n",
       "0   женат / замужем                 0      F   сотрудник     0  253875.639453   \n",
       "1   женат / замужем                 0      F   сотрудник     0  112080.014102   \n",
       "2   женат / замужем                 0      M   сотрудник     0  145885.952297   \n",
       "3   женат / замужем                 0      M   сотрудник     0  267628.550329   \n",
       "4  гражданский брак                 1      F   пенсионер     0  158616.077870   \n",
       "\n",
       "                      purpose  \n",
       "0               покупка жилья  \n",
       "1     приобретение автомобиля  \n",
       "2               покупка жилья  \n",
       "3  дополнительное образование  \n",
       "4             сыграть свадьбу  "
      ]
     },
     "metadata": {},
     "output_type": "display_data"
    }
   ],
   "source": [
    "display(data.head())"
   ]
  },
  {
   "cell_type": "markdown",
   "id": "a41cb88c",
   "metadata": {},
   "source": [
    "После запроса информации по таблице видно что в стобцах days_employed и total_income меньше значений 19351, тогда как в других по 21525."
   ]
  },
  {
   "cell_type": "code",
   "execution_count": 6,
   "id": "643cd13a",
   "metadata": {
    "scrolled": true
   },
   "outputs": [
    {
     "data": {
      "text/html": [
       "<div>\n",
       "<style scoped>\n",
       "    .dataframe tbody tr th:only-of-type {\n",
       "        vertical-align: middle;\n",
       "    }\n",
       "\n",
       "    .dataframe tbody tr th {\n",
       "        vertical-align: top;\n",
       "    }\n",
       "\n",
       "    .dataframe thead th {\n",
       "        text-align: right;\n",
       "    }\n",
       "</style>\n",
       "<table border=\"1\" class=\"dataframe\">\n",
       "  <thead>\n",
       "    <tr style=\"text-align: right;\">\n",
       "      <th></th>\n",
       "      <th>children</th>\n",
       "      <th>days_employed</th>\n",
       "      <th>dob_years</th>\n",
       "      <th>education_id</th>\n",
       "      <th>family_status_id</th>\n",
       "      <th>debt</th>\n",
       "      <th>total_income</th>\n",
       "    </tr>\n",
       "  </thead>\n",
       "  <tbody>\n",
       "    <tr>\n",
       "      <th>count</th>\n",
       "      <td>21525.000000</td>\n",
       "      <td>19351.000000</td>\n",
       "      <td>21525.000000</td>\n",
       "      <td>21525.000000</td>\n",
       "      <td>21525.000000</td>\n",
       "      <td>21525.000000</td>\n",
       "      <td>1.935100e+04</td>\n",
       "    </tr>\n",
       "    <tr>\n",
       "      <th>mean</th>\n",
       "      <td>0.538908</td>\n",
       "      <td>63046.497661</td>\n",
       "      <td>43.293380</td>\n",
       "      <td>0.817236</td>\n",
       "      <td>0.972544</td>\n",
       "      <td>0.080883</td>\n",
       "      <td>1.674223e+05</td>\n",
       "    </tr>\n",
       "    <tr>\n",
       "      <th>std</th>\n",
       "      <td>1.381587</td>\n",
       "      <td>140827.311974</td>\n",
       "      <td>12.574584</td>\n",
       "      <td>0.548138</td>\n",
       "      <td>1.420324</td>\n",
       "      <td>0.272661</td>\n",
       "      <td>1.029716e+05</td>\n",
       "    </tr>\n",
       "    <tr>\n",
       "      <th>min</th>\n",
       "      <td>-1.000000</td>\n",
       "      <td>-18388.949901</td>\n",
       "      <td>0.000000</td>\n",
       "      <td>0.000000</td>\n",
       "      <td>0.000000</td>\n",
       "      <td>0.000000</td>\n",
       "      <td>2.066726e+04</td>\n",
       "    </tr>\n",
       "    <tr>\n",
       "      <th>25%</th>\n",
       "      <td>0.000000</td>\n",
       "      <td>-2747.423625</td>\n",
       "      <td>33.000000</td>\n",
       "      <td>1.000000</td>\n",
       "      <td>0.000000</td>\n",
       "      <td>0.000000</td>\n",
       "      <td>1.030532e+05</td>\n",
       "    </tr>\n",
       "    <tr>\n",
       "      <th>50%</th>\n",
       "      <td>0.000000</td>\n",
       "      <td>-1203.369529</td>\n",
       "      <td>42.000000</td>\n",
       "      <td>1.000000</td>\n",
       "      <td>0.000000</td>\n",
       "      <td>0.000000</td>\n",
       "      <td>1.450179e+05</td>\n",
       "    </tr>\n",
       "    <tr>\n",
       "      <th>75%</th>\n",
       "      <td>1.000000</td>\n",
       "      <td>-291.095954</td>\n",
       "      <td>53.000000</td>\n",
       "      <td>1.000000</td>\n",
       "      <td>1.000000</td>\n",
       "      <td>0.000000</td>\n",
       "      <td>2.034351e+05</td>\n",
       "    </tr>\n",
       "    <tr>\n",
       "      <th>max</th>\n",
       "      <td>20.000000</td>\n",
       "      <td>401755.400475</td>\n",
       "      <td>75.000000</td>\n",
       "      <td>4.000000</td>\n",
       "      <td>4.000000</td>\n",
       "      <td>1.000000</td>\n",
       "      <td>2.265604e+06</td>\n",
       "    </tr>\n",
       "  </tbody>\n",
       "</table>\n",
       "</div>"
      ],
      "text/plain": [
       "           children  days_employed     dob_years  education_id  \\\n",
       "count  21525.000000   19351.000000  21525.000000  21525.000000   \n",
       "mean       0.538908   63046.497661     43.293380      0.817236   \n",
       "std        1.381587  140827.311974     12.574584      0.548138   \n",
       "min       -1.000000  -18388.949901      0.000000      0.000000   \n",
       "25%        0.000000   -2747.423625     33.000000      1.000000   \n",
       "50%        0.000000   -1203.369529     42.000000      1.000000   \n",
       "75%        1.000000    -291.095954     53.000000      1.000000   \n",
       "max       20.000000  401755.400475     75.000000      4.000000   \n",
       "\n",
       "       family_status_id          debt  total_income  \n",
       "count      21525.000000  21525.000000  1.935100e+04  \n",
       "mean           0.972544      0.080883  1.674223e+05  \n",
       "std            1.420324      0.272661  1.029716e+05  \n",
       "min            0.000000      0.000000  2.066726e+04  \n",
       "25%            0.000000      0.000000  1.030532e+05  \n",
       "50%            0.000000      0.000000  1.450179e+05  \n",
       "75%            1.000000      0.000000  2.034351e+05  \n",
       "max            4.000000      1.000000  2.265604e+06  "
      ]
     },
     "execution_count": 6,
     "metadata": {},
     "output_type": "execute_result"
    }
   ],
   "source": [
    "data.describe()"
   ]
  },
  {
   "cell_type": "markdown",
   "id": "355d540a",
   "metadata": {},
   "source": [
    "### Шаг 2.1 Заполнение пропусков"
   ]
  },
  {
   "cell_type": "markdown",
   "id": "d2d5026d",
   "metadata": {},
   "source": [
    "Проверю сколько пропущенных значений в столбцах days_employed и total_income."
   ]
  },
  {
   "cell_type": "code",
   "execution_count": 7,
   "id": "3cc86c22",
   "metadata": {
    "scrolled": true
   },
   "outputs": [
    {
     "data": {
      "text/plain": [
       "children               0\n",
       "days_employed       2174\n",
       "dob_years              0\n",
       "education              0\n",
       "education_id           0\n",
       "family_status          0\n",
       "family_status_id       0\n",
       "gender                 0\n",
       "income_type            0\n",
       "debt                   0\n",
       "total_income        2174\n",
       "purpose                0\n",
       "dtype: int64"
      ]
     },
     "metadata": {},
     "output_type": "display_data"
    }
   ],
   "source": [
    "display(data.isna().sum())"
   ]
  },
  {
   "cell_type": "markdown",
   "id": "dda27353",
   "metadata": {},
   "source": [
    "В столбце total_income присутствует 2174 пропущенных значения(Nan). В total_income находится информация \n",
    "о заработной плате человека, и так как значений не мало их проще заменить на медианное значение. так как среднее значение здесь\n",
    "не подойдет, потому что заработная плата у многих разная."
   ]
  },
  {
   "cell_type": "code",
   "execution_count": 8,
   "id": "57b1a105",
   "metadata": {},
   "outputs": [
    {
     "name": "stdout",
     "output_type": "stream",
     "text": [
      "145017.93753253992\n"
     ]
    },
    {
     "data": {
      "text/html": [
       "<div>\n",
       "<style scoped>\n",
       "    .dataframe tbody tr th:only-of-type {\n",
       "        vertical-align: middle;\n",
       "    }\n",
       "\n",
       "    .dataframe tbody tr th {\n",
       "        vertical-align: top;\n",
       "    }\n",
       "\n",
       "    .dataframe thead th {\n",
       "        text-align: right;\n",
       "    }\n",
       "</style>\n",
       "<table border=\"1\" class=\"dataframe\">\n",
       "  <thead>\n",
       "    <tr style=\"text-align: right;\">\n",
       "      <th></th>\n",
       "      <th>children</th>\n",
       "      <th>days_employed</th>\n",
       "      <th>dob_years</th>\n",
       "      <th>education</th>\n",
       "      <th>education_id</th>\n",
       "      <th>family_status</th>\n",
       "      <th>family_status_id</th>\n",
       "      <th>gender</th>\n",
       "      <th>income_type</th>\n",
       "      <th>debt</th>\n",
       "      <th>total_income</th>\n",
       "      <th>purpose</th>\n",
       "    </tr>\n",
       "  </thead>\n",
       "  <tbody>\n",
       "    <tr>\n",
       "      <th>12</th>\n",
       "      <td>0</td>\n",
       "      <td>NaN</td>\n",
       "      <td>65</td>\n",
       "      <td>среднее</td>\n",
       "      <td>1</td>\n",
       "      <td>гражданский брак</td>\n",
       "      <td>1</td>\n",
       "      <td>M</td>\n",
       "      <td>пенсионер</td>\n",
       "      <td>0</td>\n",
       "      <td>145017.937533</td>\n",
       "      <td>сыграть свадьбу</td>\n",
       "    </tr>\n",
       "    <tr>\n",
       "      <th>26</th>\n",
       "      <td>0</td>\n",
       "      <td>NaN</td>\n",
       "      <td>41</td>\n",
       "      <td>среднее</td>\n",
       "      <td>1</td>\n",
       "      <td>женат / замужем</td>\n",
       "      <td>0</td>\n",
       "      <td>M</td>\n",
       "      <td>госслужащий</td>\n",
       "      <td>0</td>\n",
       "      <td>145017.937533</td>\n",
       "      <td>образование</td>\n",
       "    </tr>\n",
       "    <tr>\n",
       "      <th>29</th>\n",
       "      <td>0</td>\n",
       "      <td>NaN</td>\n",
       "      <td>63</td>\n",
       "      <td>среднее</td>\n",
       "      <td>1</td>\n",
       "      <td>Не женат / не замужем</td>\n",
       "      <td>4</td>\n",
       "      <td>F</td>\n",
       "      <td>пенсионер</td>\n",
       "      <td>0</td>\n",
       "      <td>145017.937533</td>\n",
       "      <td>строительство жилой недвижимости</td>\n",
       "    </tr>\n",
       "    <tr>\n",
       "      <th>41</th>\n",
       "      <td>0</td>\n",
       "      <td>NaN</td>\n",
       "      <td>50</td>\n",
       "      <td>среднее</td>\n",
       "      <td>1</td>\n",
       "      <td>женат / замужем</td>\n",
       "      <td>0</td>\n",
       "      <td>F</td>\n",
       "      <td>госслужащий</td>\n",
       "      <td>0</td>\n",
       "      <td>145017.937533</td>\n",
       "      <td>сделка с подержанным автомобилем</td>\n",
       "    </tr>\n",
       "    <tr>\n",
       "      <th>55</th>\n",
       "      <td>0</td>\n",
       "      <td>NaN</td>\n",
       "      <td>54</td>\n",
       "      <td>среднее</td>\n",
       "      <td>1</td>\n",
       "      <td>гражданский брак</td>\n",
       "      <td>1</td>\n",
       "      <td>F</td>\n",
       "      <td>пенсионер</td>\n",
       "      <td>1</td>\n",
       "      <td>145017.937533</td>\n",
       "      <td>сыграть свадьбу</td>\n",
       "    </tr>\n",
       "    <tr>\n",
       "      <th>...</th>\n",
       "      <td>...</td>\n",
       "      <td>...</td>\n",
       "      <td>...</td>\n",
       "      <td>...</td>\n",
       "      <td>...</td>\n",
       "      <td>...</td>\n",
       "      <td>...</td>\n",
       "      <td>...</td>\n",
       "      <td>...</td>\n",
       "      <td>...</td>\n",
       "      <td>...</td>\n",
       "      <td>...</td>\n",
       "    </tr>\n",
       "    <tr>\n",
       "      <th>21489</th>\n",
       "      <td>2</td>\n",
       "      <td>NaN</td>\n",
       "      <td>47</td>\n",
       "      <td>Среднее</td>\n",
       "      <td>1</td>\n",
       "      <td>женат / замужем</td>\n",
       "      <td>0</td>\n",
       "      <td>M</td>\n",
       "      <td>компаньон</td>\n",
       "      <td>0</td>\n",
       "      <td>145017.937533</td>\n",
       "      <td>сделка с автомобилем</td>\n",
       "    </tr>\n",
       "    <tr>\n",
       "      <th>21495</th>\n",
       "      <td>1</td>\n",
       "      <td>NaN</td>\n",
       "      <td>50</td>\n",
       "      <td>среднее</td>\n",
       "      <td>1</td>\n",
       "      <td>гражданский брак</td>\n",
       "      <td>1</td>\n",
       "      <td>F</td>\n",
       "      <td>сотрудник</td>\n",
       "      <td>0</td>\n",
       "      <td>145017.937533</td>\n",
       "      <td>свадьба</td>\n",
       "    </tr>\n",
       "    <tr>\n",
       "      <th>21497</th>\n",
       "      <td>0</td>\n",
       "      <td>NaN</td>\n",
       "      <td>48</td>\n",
       "      <td>ВЫСШЕЕ</td>\n",
       "      <td>0</td>\n",
       "      <td>женат / замужем</td>\n",
       "      <td>0</td>\n",
       "      <td>F</td>\n",
       "      <td>компаньон</td>\n",
       "      <td>0</td>\n",
       "      <td>145017.937533</td>\n",
       "      <td>строительство недвижимости</td>\n",
       "    </tr>\n",
       "    <tr>\n",
       "      <th>21502</th>\n",
       "      <td>1</td>\n",
       "      <td>NaN</td>\n",
       "      <td>42</td>\n",
       "      <td>среднее</td>\n",
       "      <td>1</td>\n",
       "      <td>женат / замужем</td>\n",
       "      <td>0</td>\n",
       "      <td>F</td>\n",
       "      <td>сотрудник</td>\n",
       "      <td>0</td>\n",
       "      <td>145017.937533</td>\n",
       "      <td>строительство жилой недвижимости</td>\n",
       "    </tr>\n",
       "    <tr>\n",
       "      <th>21510</th>\n",
       "      <td>2</td>\n",
       "      <td>NaN</td>\n",
       "      <td>28</td>\n",
       "      <td>среднее</td>\n",
       "      <td>1</td>\n",
       "      <td>женат / замужем</td>\n",
       "      <td>0</td>\n",
       "      <td>F</td>\n",
       "      <td>сотрудник</td>\n",
       "      <td>0</td>\n",
       "      <td>145017.937533</td>\n",
       "      <td>приобретение автомобиля</td>\n",
       "    </tr>\n",
       "  </tbody>\n",
       "</table>\n",
       "<p>2174 rows × 12 columns</p>\n",
       "</div>"
      ],
      "text/plain": [
       "       children  days_employed  dob_years education  education_id  \\\n",
       "12            0            NaN         65   среднее             1   \n",
       "26            0            NaN         41   среднее             1   \n",
       "29            0            NaN         63   среднее             1   \n",
       "41            0            NaN         50   среднее             1   \n",
       "55            0            NaN         54   среднее             1   \n",
       "...         ...            ...        ...       ...           ...   \n",
       "21489         2            NaN         47   Среднее             1   \n",
       "21495         1            NaN         50   среднее             1   \n",
       "21497         0            NaN         48    ВЫСШЕЕ             0   \n",
       "21502         1            NaN         42   среднее             1   \n",
       "21510         2            NaN         28   среднее             1   \n",
       "\n",
       "               family_status  family_status_id gender  income_type  debt  \\\n",
       "12          гражданский брак                 1      M    пенсионер     0   \n",
       "26           женат / замужем                 0      M  госслужащий     0   \n",
       "29     Не женат / не замужем                 4      F    пенсионер     0   \n",
       "41           женат / замужем                 0      F  госслужащий     0   \n",
       "55          гражданский брак                 1      F    пенсионер     1   \n",
       "...                      ...               ...    ...          ...   ...   \n",
       "21489        женат / замужем                 0      M    компаньон     0   \n",
       "21495       гражданский брак                 1      F    сотрудник     0   \n",
       "21497        женат / замужем                 0      F    компаньон     0   \n",
       "21502        женат / замужем                 0      F    сотрудник     0   \n",
       "21510        женат / замужем                 0      F    сотрудник     0   \n",
       "\n",
       "        total_income                           purpose  \n",
       "12     145017.937533                   сыграть свадьбу  \n",
       "26     145017.937533                       образование  \n",
       "29     145017.937533  строительство жилой недвижимости  \n",
       "41     145017.937533  сделка с подержанным автомобилем  \n",
       "55     145017.937533                   сыграть свадьбу  \n",
       "...              ...                               ...  \n",
       "21489  145017.937533              сделка с автомобилем  \n",
       "21495  145017.937533                           свадьба  \n",
       "21497  145017.937533        строительство недвижимости  \n",
       "21502  145017.937533  строительство жилой недвижимости  \n",
       "21510  145017.937533           приобретение автомобиля  \n",
       "\n",
       "[2174 rows x 12 columns]"
      ]
     },
     "metadata": {},
     "output_type": "display_data"
    },
    {
     "name": "stdout",
     "output_type": "stream",
     "text": [
      "0\n"
     ]
    }
   ],
   "source": [
    "median_total = data['total_income'].median()\n",
    "print(median_total)\n",
    "data['total_income']=data['total_income'].fillna(median_total)\n",
    "display(data[data['days_employed'].isna()])\n",
    "print(data['debt'].isna().sum())"
   ]
  },
  {
   "cell_type": "markdown",
   "id": "bfba153f",
   "metadata": {},
   "source": [
    "Поиск пропусков в зависимости от пола, гендера, тип занятости"
   ]
  },
  {
   "cell_type": "code",
   "execution_count": 9,
   "id": "105edef7",
   "metadata": {},
   "outputs": [
    {
     "data": {
      "text/plain": [
       "'Пропущенных значений в графе по полу -0'"
      ]
     },
     "metadata": {},
     "output_type": "display_data"
    },
    {
     "data": {
      "text/plain": [
       "'Пропущенных значений в графе по возрасту -0'"
      ]
     },
     "metadata": {},
     "output_type": "display_data"
    },
    {
     "data": {
      "text/plain": [
       "'Пропущенных значений в графе по типу занятости -0'"
      ]
     },
     "metadata": {},
     "output_type": "display_data"
    }
   ],
   "source": [
    "gender = data['gender'].isna().sum()\n",
    "display(f'Пропущенных значений в графе по полу -{gender}')\n",
    "dob_years = data['dob_years'].isna().sum()\n",
    "display(f'Пропущенных значений в графе по возрасту -{dob_years}')\n",
    "income_type=data['income_type'].isna().sum()\n",
    "display(f'Пропущенных значений в графе по типу занятости -{income_type}')"
   ]
  },
  {
   "cell_type": "code",
   "execution_count": 10,
   "id": "449fbf82",
   "metadata": {},
   "outputs": [
    {
     "data": {
      "text/plain": [
       "children            0\n",
       "days_employed       0\n",
       "dob_years           0\n",
       "education           0\n",
       "education_id        0\n",
       "family_status       0\n",
       "family_status_id    0\n",
       "gender              0\n",
       "income_type         0\n",
       "debt                0\n",
       "total_income        0\n",
       "purpose             0\n",
       "dtype: int64"
      ]
     },
     "metadata": {},
     "output_type": "display_data"
    }
   ],
   "source": [
    "data_mean=(data['days_employed'].min() + data['days_employed'].max())/2\n",
    "data['days_employed']=data['days_employed'].fillna(data_mean)\n",
    "display(data.isna().sum())"
   ]
  },
  {
   "cell_type": "markdown",
   "id": "4faec347",
   "metadata": {},
   "source": [
    "### Шаг 2.2 Проверка данных на аномалии и исправления."
   ]
  },
  {
   "cell_type": "code",
   "execution_count": 11,
   "id": "5f939e9e",
   "metadata": {
    "scrolled": false
   },
   "outputs": [
    {
     "name": "stdout",
     "output_type": "stream",
     "text": [
      "<class 'pandas.core.frame.DataFrame'>\n",
      "RangeIndex: 21525 entries, 0 to 21524\n",
      "Data columns (total 12 columns):\n",
      " #   Column            Non-Null Count  Dtype  \n",
      "---  ------            --------------  -----  \n",
      " 0   children          21525 non-null  int64  \n",
      " 1   days_employed     21525 non-null  float64\n",
      " 2   dob_years         21525 non-null  int64  \n",
      " 3   education         21525 non-null  object \n",
      " 4   education_id      21525 non-null  int64  \n",
      " 5   family_status     21525 non-null  object \n",
      " 6   family_status_id  21525 non-null  int64  \n",
      " 7   gender            21525 non-null  object \n",
      " 8   income_type       21525 non-null  object \n",
      " 9   debt              21525 non-null  int64  \n",
      " 10  total_income      21525 non-null  float64\n",
      " 11  purpose           21525 non-null  object \n",
      "dtypes: float64(2), int64(5), object(5)\n",
      "memory usage: 2.0+ MB\n"
     ]
    }
   ],
   "source": [
    "data.info()"
   ]
  },
  {
   "cell_type": "code",
   "execution_count": 12,
   "id": "82974a12",
   "metadata": {},
   "outputs": [
    {
     "data": {
      "text/plain": [
       "children  days_employed   dob_years  education  education_id  family_status          family_status_id  gender  income_type  debt  total_income   purpose                               \n",
       "0          191683.225287  47         среднее    1             женат / замужем        0                 F       сотрудник    0     145017.937533  ремонт жилью                              3\n",
       "                          62         среднее    1             женат / замужем        0                 F       пенсионер    0     145017.937533  ремонт жилью                              3\n",
       "                          47         среднее    1             женат / замужем        0                 F       сотрудник    0     145017.937533  строительство недвижимости                2\n",
       "                          23         среднее    1             Не женат / не замужем  4                 F       сотрудник    0     145017.937533  сделка с подержанным автомобилем          2\n",
       "                          35         среднее    1             гражданский брак       1                 F       сотрудник    0     145017.937533  сыграть свадьбу                           2\n",
       "                                                                                                                                                                                          ..\n",
       "          -786.694104     28         среднее    1             женат / замужем        0                 F       сотрудник    0     154380.545964  покупка жилья                             1\n",
       "          -786.975665     29         среднее    1             гражданский брак       1                 F       компаньон    0     556011.755418  покупка жилой недвижимости                1\n",
       "          -787.389690     24         среднее    1             Не женат / не замужем  4                 F       компаньон    1     112763.365295  операции с жильем                         1\n",
       "          -788.099826     49         среднее    1             женат / замужем        0                 F       сотрудник    0     201270.497067  строительство собственной недвижимости    1\n",
       "20         385267.263676  62         среднее    1             гражданский брак       1                 F       пенсионер    0     192221.076774  операции с коммерческой недвижимостью     1\n",
       "Length: 21471, dtype: int64"
      ]
     },
     "metadata": {},
     "output_type": "display_data"
    }
   ],
   "source": [
    "display(data.value_counts())"
   ]
  },
  {
   "cell_type": "markdown",
   "id": "67f4890f",
   "metadata": {},
   "source": [
    "### Шаг 2.3. Изменение типов данных."
   ]
  },
  {
   "cell_type": "markdown",
   "id": "949e906c",
   "metadata": {},
   "source": [
    "Из запрощенной информации по таблице видно что у двух столбцов занчения float, заменю их на int, так удобнее для чтения и работы."
   ]
  },
  {
   "cell_type": "code",
   "execution_count": 13,
   "id": "2f2075fa",
   "metadata": {},
   "outputs": [
    {
     "name": "stdout",
     "output_type": "stream",
     "text": [
      "<class 'pandas.core.frame.DataFrame'>\n",
      "RangeIndex: 21525 entries, 0 to 21524\n",
      "Data columns (total 12 columns):\n",
      " #   Column            Non-Null Count  Dtype \n",
      "---  ------            --------------  ----- \n",
      " 0   children          21525 non-null  int64 \n",
      " 1   days_employed     21525 non-null  int32 \n",
      " 2   dob_years         21525 non-null  int32 \n",
      " 3   education         21525 non-null  object\n",
      " 4   education_id      21525 non-null  int8  \n",
      " 5   family_status     21525 non-null  object\n",
      " 6   family_status_id  21525 non-null  int8  \n",
      " 7   gender            21525 non-null  object\n",
      " 8   income_type       21525 non-null  object\n",
      " 9   debt              21525 non-null  int8  \n",
      " 10  total_income      21525 non-null  int32 \n",
      " 11  purpose           21525 non-null  object\n",
      "dtypes: int32(3), int64(1), int8(3), object(5)\n",
      "memory usage: 1.3+ MB\n"
     ]
    },
    {
     "data": {
      "text/plain": [
       " 0     14149\n",
       " 1      4818\n",
       " 2      2055\n",
       " 3       330\n",
       " 20       76\n",
       "-1        47\n",
       " 4        41\n",
       " 5         9\n",
       "Name: children, dtype: int64"
      ]
     },
     "execution_count": 13,
     "metadata": {},
     "output_type": "execute_result"
    }
   ],
   "source": [
    "data['total_income']= data['total_income'].astype('int32')\n",
    "data['days_employed']=data['days_employed'].astype('int32')\n",
    "data['children']=data['children'].astype('int64')\n",
    "data['education_id']=data['education_id'].astype('int8')\n",
    "data['family_status_id']=data['family_status_id'].astype('int8')\n",
    "data['dob_years']=data['dob_years'].astype('int32')\n",
    "data['debt']=data['debt'].astype('int8')\n",
    "data.info()\n",
    "data['children'].value_counts()\n",
    "#display(data)"
   ]
  },
  {
   "cell_type": "markdown",
   "id": "60f6c742",
   "metadata": {},
   "source": [
    "### Шаг 2.4. Удаление дубликатов."
   ]
  },
  {
   "cell_type": "code",
   "execution_count": 14,
   "id": "9be7d476",
   "metadata": {},
   "outputs": [
    {
     "data": {
      "text/plain": [
       "21510"
      ]
     },
     "metadata": {},
     "output_type": "display_data"
    },
    {
     "data": {
      "text/html": [
       "<div>\n",
       "<style scoped>\n",
       "    .dataframe tbody tr th:only-of-type {\n",
       "        vertical-align: middle;\n",
       "    }\n",
       "\n",
       "    .dataframe tbody tr th {\n",
       "        vertical-align: top;\n",
       "    }\n",
       "\n",
       "    .dataframe thead th {\n",
       "        text-align: right;\n",
       "    }\n",
       "</style>\n",
       "<table border=\"1\" class=\"dataframe\">\n",
       "  <thead>\n",
       "    <tr style=\"text-align: right;\">\n",
       "      <th></th>\n",
       "      <th>children</th>\n",
       "      <th>days_employed</th>\n",
       "      <th>dob_years</th>\n",
       "      <th>education</th>\n",
       "      <th>education_id</th>\n",
       "      <th>family_status</th>\n",
       "      <th>family_status_id</th>\n",
       "      <th>gender</th>\n",
       "      <th>income_type</th>\n",
       "      <th>debt</th>\n",
       "      <th>total_income</th>\n",
       "      <th>purpose</th>\n",
       "    </tr>\n",
       "  </thead>\n",
       "  <tbody>\n",
       "    <tr>\n",
       "      <th>0</th>\n",
       "      <td>1</td>\n",
       "      <td>-8437</td>\n",
       "      <td>42</td>\n",
       "      <td>высшее</td>\n",
       "      <td>0</td>\n",
       "      <td>женат / замужем</td>\n",
       "      <td>0</td>\n",
       "      <td>F</td>\n",
       "      <td>сотрудник</td>\n",
       "      <td>0</td>\n",
       "      <td>253875</td>\n",
       "      <td>покупка жилья</td>\n",
       "    </tr>\n",
       "    <tr>\n",
       "      <th>1</th>\n",
       "      <td>1</td>\n",
       "      <td>-4024</td>\n",
       "      <td>36</td>\n",
       "      <td>среднее</td>\n",
       "      <td>1</td>\n",
       "      <td>женат / замужем</td>\n",
       "      <td>0</td>\n",
       "      <td>F</td>\n",
       "      <td>сотрудник</td>\n",
       "      <td>0</td>\n",
       "      <td>112080</td>\n",
       "      <td>приобретение автомобиля</td>\n",
       "    </tr>\n",
       "    <tr>\n",
       "      <th>2</th>\n",
       "      <td>0</td>\n",
       "      <td>-5623</td>\n",
       "      <td>33</td>\n",
       "      <td>Среднее</td>\n",
       "      <td>1</td>\n",
       "      <td>женат / замужем</td>\n",
       "      <td>0</td>\n",
       "      <td>M</td>\n",
       "      <td>сотрудник</td>\n",
       "      <td>0</td>\n",
       "      <td>145885</td>\n",
       "      <td>покупка жилья</td>\n",
       "    </tr>\n",
       "    <tr>\n",
       "      <th>3</th>\n",
       "      <td>3</td>\n",
       "      <td>-4124</td>\n",
       "      <td>32</td>\n",
       "      <td>среднее</td>\n",
       "      <td>1</td>\n",
       "      <td>женат / замужем</td>\n",
       "      <td>0</td>\n",
       "      <td>M</td>\n",
       "      <td>сотрудник</td>\n",
       "      <td>0</td>\n",
       "      <td>267628</td>\n",
       "      <td>дополнительное образование</td>\n",
       "    </tr>\n",
       "    <tr>\n",
       "      <th>4</th>\n",
       "      <td>0</td>\n",
       "      <td>340266</td>\n",
       "      <td>53</td>\n",
       "      <td>среднее</td>\n",
       "      <td>1</td>\n",
       "      <td>гражданский брак</td>\n",
       "      <td>1</td>\n",
       "      <td>F</td>\n",
       "      <td>пенсионер</td>\n",
       "      <td>0</td>\n",
       "      <td>158616</td>\n",
       "      <td>сыграть свадьбу</td>\n",
       "    </tr>\n",
       "    <tr>\n",
       "      <th>...</th>\n",
       "      <td>...</td>\n",
       "      <td>...</td>\n",
       "      <td>...</td>\n",
       "      <td>...</td>\n",
       "      <td>...</td>\n",
       "      <td>...</td>\n",
       "      <td>...</td>\n",
       "      <td>...</td>\n",
       "      <td>...</td>\n",
       "      <td>...</td>\n",
       "      <td>...</td>\n",
       "      <td>...</td>\n",
       "    </tr>\n",
       "    <tr>\n",
       "      <th>21520</th>\n",
       "      <td>1</td>\n",
       "      <td>-4529</td>\n",
       "      <td>43</td>\n",
       "      <td>среднее</td>\n",
       "      <td>1</td>\n",
       "      <td>гражданский брак</td>\n",
       "      <td>1</td>\n",
       "      <td>F</td>\n",
       "      <td>компаньон</td>\n",
       "      <td>0</td>\n",
       "      <td>224791</td>\n",
       "      <td>операции с жильем</td>\n",
       "    </tr>\n",
       "    <tr>\n",
       "      <th>21521</th>\n",
       "      <td>0</td>\n",
       "      <td>343937</td>\n",
       "      <td>67</td>\n",
       "      <td>среднее</td>\n",
       "      <td>1</td>\n",
       "      <td>женат / замужем</td>\n",
       "      <td>0</td>\n",
       "      <td>F</td>\n",
       "      <td>пенсионер</td>\n",
       "      <td>0</td>\n",
       "      <td>155999</td>\n",
       "      <td>сделка с автомобилем</td>\n",
       "    </tr>\n",
       "    <tr>\n",
       "      <th>21522</th>\n",
       "      <td>1</td>\n",
       "      <td>-2113</td>\n",
       "      <td>38</td>\n",
       "      <td>среднее</td>\n",
       "      <td>1</td>\n",
       "      <td>гражданский брак</td>\n",
       "      <td>1</td>\n",
       "      <td>M</td>\n",
       "      <td>сотрудник</td>\n",
       "      <td>1</td>\n",
       "      <td>89672</td>\n",
       "      <td>недвижимость</td>\n",
       "    </tr>\n",
       "    <tr>\n",
       "      <th>21523</th>\n",
       "      <td>3</td>\n",
       "      <td>-3112</td>\n",
       "      <td>38</td>\n",
       "      <td>среднее</td>\n",
       "      <td>1</td>\n",
       "      <td>женат / замужем</td>\n",
       "      <td>0</td>\n",
       "      <td>M</td>\n",
       "      <td>сотрудник</td>\n",
       "      <td>1</td>\n",
       "      <td>244093</td>\n",
       "      <td>на покупку своего автомобиля</td>\n",
       "    </tr>\n",
       "    <tr>\n",
       "      <th>21524</th>\n",
       "      <td>2</td>\n",
       "      <td>-1984</td>\n",
       "      <td>40</td>\n",
       "      <td>среднее</td>\n",
       "      <td>1</td>\n",
       "      <td>женат / замужем</td>\n",
       "      <td>0</td>\n",
       "      <td>F</td>\n",
       "      <td>сотрудник</td>\n",
       "      <td>0</td>\n",
       "      <td>82047</td>\n",
       "      <td>на покупку автомобиля</td>\n",
       "    </tr>\n",
       "  </tbody>\n",
       "</table>\n",
       "<p>21525 rows × 12 columns</p>\n",
       "</div>"
      ],
      "text/plain": [
       "       children  days_employed  dob_years education  education_id  \\\n",
       "0             1          -8437         42    высшее             0   \n",
       "1             1          -4024         36   среднее             1   \n",
       "2             0          -5623         33   Среднее             1   \n",
       "3             3          -4124         32   среднее             1   \n",
       "4             0         340266         53   среднее             1   \n",
       "...         ...            ...        ...       ...           ...   \n",
       "21520         1          -4529         43   среднее             1   \n",
       "21521         0         343937         67   среднее             1   \n",
       "21522         1          -2113         38   среднее             1   \n",
       "21523         3          -3112         38   среднее             1   \n",
       "21524         2          -1984         40   среднее             1   \n",
       "\n",
       "          family_status  family_status_id gender income_type  debt  \\\n",
       "0       женат / замужем                 0      F   сотрудник     0   \n",
       "1       женат / замужем                 0      F   сотрудник     0   \n",
       "2       женат / замужем                 0      M   сотрудник     0   \n",
       "3       женат / замужем                 0      M   сотрудник     0   \n",
       "4      гражданский брак                 1      F   пенсионер     0   \n",
       "...                 ...               ...    ...         ...   ...   \n",
       "21520  гражданский брак                 1      F   компаньон     0   \n",
       "21521   женат / замужем                 0      F   пенсионер     0   \n",
       "21522  гражданский брак                 1      M   сотрудник     1   \n",
       "21523   женат / замужем                 0      M   сотрудник     1   \n",
       "21524   женат / замужем                 0      F   сотрудник     0   \n",
       "\n",
       "       total_income                       purpose  \n",
       "0            253875                 покупка жилья  \n",
       "1            112080       приобретение автомобиля  \n",
       "2            145885                 покупка жилья  \n",
       "3            267628    дополнительное образование  \n",
       "4            158616               сыграть свадьбу  \n",
       "...             ...                           ...  \n",
       "21520        224791             операции с жильем  \n",
       "21521        155999          сделка с автомобилем  \n",
       "21522         89672                  недвижимость  \n",
       "21523        244093  на покупку своего автомобиля  \n",
       "21524         82047         на покупку автомобиля  \n",
       "\n",
       "[21525 rows x 12 columns]"
      ]
     },
     "metadata": {},
     "output_type": "display_data"
    },
    {
     "name": "stdout",
     "output_type": "stream",
     "text": [
      "0    14149\n",
      "1     4865\n",
      "2     2131\n",
      "3      330\n",
      "4       41\n",
      "5        9\n",
      "Name: children, dtype: int64\n"
     ]
    },
    {
     "data": {
      "text/html": [
       "<div>\n",
       "<style scoped>\n",
       "    .dataframe tbody tr th:only-of-type {\n",
       "        vertical-align: middle;\n",
       "    }\n",
       "\n",
       "    .dataframe tbody tr th {\n",
       "        vertical-align: top;\n",
       "    }\n",
       "\n",
       "    .dataframe thead th {\n",
       "        text-align: right;\n",
       "    }\n",
       "</style>\n",
       "<table border=\"1\" class=\"dataframe\">\n",
       "  <thead>\n",
       "    <tr style=\"text-align: right;\">\n",
       "      <th></th>\n",
       "      <th>children</th>\n",
       "      <th>days_employed</th>\n",
       "      <th>dob_years</th>\n",
       "      <th>education</th>\n",
       "      <th>education_id</th>\n",
       "      <th>family_status</th>\n",
       "      <th>family_status_id</th>\n",
       "      <th>gender</th>\n",
       "      <th>income_type</th>\n",
       "      <th>debt</th>\n",
       "      <th>total_income</th>\n",
       "      <th>purpose</th>\n",
       "    </tr>\n",
       "  </thead>\n",
       "  <tbody>\n",
       "    <tr>\n",
       "      <th>0</th>\n",
       "      <td>1</td>\n",
       "      <td>-8437</td>\n",
       "      <td>42</td>\n",
       "      <td>высшее</td>\n",
       "      <td>0</td>\n",
       "      <td>женат / замужем</td>\n",
       "      <td>0</td>\n",
       "      <td>F</td>\n",
       "      <td>сотрудник</td>\n",
       "      <td>0</td>\n",
       "      <td>253875</td>\n",
       "      <td>покупка жилья</td>\n",
       "    </tr>\n",
       "    <tr>\n",
       "      <th>1</th>\n",
       "      <td>1</td>\n",
       "      <td>-4024</td>\n",
       "      <td>36</td>\n",
       "      <td>среднее</td>\n",
       "      <td>1</td>\n",
       "      <td>женат / замужем</td>\n",
       "      <td>0</td>\n",
       "      <td>F</td>\n",
       "      <td>сотрудник</td>\n",
       "      <td>0</td>\n",
       "      <td>112080</td>\n",
       "      <td>приобретение автомобиля</td>\n",
       "    </tr>\n",
       "    <tr>\n",
       "      <th>2</th>\n",
       "      <td>0</td>\n",
       "      <td>-5623</td>\n",
       "      <td>33</td>\n",
       "      <td>Среднее</td>\n",
       "      <td>1</td>\n",
       "      <td>женат / замужем</td>\n",
       "      <td>0</td>\n",
       "      <td>M</td>\n",
       "      <td>сотрудник</td>\n",
       "      <td>0</td>\n",
       "      <td>145885</td>\n",
       "      <td>покупка жилья</td>\n",
       "    </tr>\n",
       "    <tr>\n",
       "      <th>3</th>\n",
       "      <td>3</td>\n",
       "      <td>-4124</td>\n",
       "      <td>32</td>\n",
       "      <td>среднее</td>\n",
       "      <td>1</td>\n",
       "      <td>женат / замужем</td>\n",
       "      <td>0</td>\n",
       "      <td>M</td>\n",
       "      <td>сотрудник</td>\n",
       "      <td>0</td>\n",
       "      <td>267628</td>\n",
       "      <td>дополнительное образование</td>\n",
       "    </tr>\n",
       "    <tr>\n",
       "      <th>4</th>\n",
       "      <td>0</td>\n",
       "      <td>340266</td>\n",
       "      <td>53</td>\n",
       "      <td>среднее</td>\n",
       "      <td>1</td>\n",
       "      <td>гражданский брак</td>\n",
       "      <td>1</td>\n",
       "      <td>F</td>\n",
       "      <td>пенсионер</td>\n",
       "      <td>0</td>\n",
       "      <td>158616</td>\n",
       "      <td>сыграть свадьбу</td>\n",
       "    </tr>\n",
       "    <tr>\n",
       "      <th>...</th>\n",
       "      <td>...</td>\n",
       "      <td>...</td>\n",
       "      <td>...</td>\n",
       "      <td>...</td>\n",
       "      <td>...</td>\n",
       "      <td>...</td>\n",
       "      <td>...</td>\n",
       "      <td>...</td>\n",
       "      <td>...</td>\n",
       "      <td>...</td>\n",
       "      <td>...</td>\n",
       "      <td>...</td>\n",
       "    </tr>\n",
       "    <tr>\n",
       "      <th>21466</th>\n",
       "      <td>1</td>\n",
       "      <td>-4529</td>\n",
       "      <td>43</td>\n",
       "      <td>среднее</td>\n",
       "      <td>1</td>\n",
       "      <td>гражданский брак</td>\n",
       "      <td>1</td>\n",
       "      <td>F</td>\n",
       "      <td>компаньон</td>\n",
       "      <td>0</td>\n",
       "      <td>224791</td>\n",
       "      <td>операции с жильем</td>\n",
       "    </tr>\n",
       "    <tr>\n",
       "      <th>21467</th>\n",
       "      <td>0</td>\n",
       "      <td>343937</td>\n",
       "      <td>67</td>\n",
       "      <td>среднее</td>\n",
       "      <td>1</td>\n",
       "      <td>женат / замужем</td>\n",
       "      <td>0</td>\n",
       "      <td>F</td>\n",
       "      <td>пенсионер</td>\n",
       "      <td>0</td>\n",
       "      <td>155999</td>\n",
       "      <td>сделка с автомобилем</td>\n",
       "    </tr>\n",
       "    <tr>\n",
       "      <th>21468</th>\n",
       "      <td>1</td>\n",
       "      <td>-2113</td>\n",
       "      <td>38</td>\n",
       "      <td>среднее</td>\n",
       "      <td>1</td>\n",
       "      <td>гражданский брак</td>\n",
       "      <td>1</td>\n",
       "      <td>M</td>\n",
       "      <td>сотрудник</td>\n",
       "      <td>1</td>\n",
       "      <td>89672</td>\n",
       "      <td>недвижимость</td>\n",
       "    </tr>\n",
       "    <tr>\n",
       "      <th>21469</th>\n",
       "      <td>3</td>\n",
       "      <td>-3112</td>\n",
       "      <td>38</td>\n",
       "      <td>среднее</td>\n",
       "      <td>1</td>\n",
       "      <td>женат / замужем</td>\n",
       "      <td>0</td>\n",
       "      <td>M</td>\n",
       "      <td>сотрудник</td>\n",
       "      <td>1</td>\n",
       "      <td>244093</td>\n",
       "      <td>на покупку своего автомобиля</td>\n",
       "    </tr>\n",
       "    <tr>\n",
       "      <th>21470</th>\n",
       "      <td>2</td>\n",
       "      <td>-1984</td>\n",
       "      <td>40</td>\n",
       "      <td>среднее</td>\n",
       "      <td>1</td>\n",
       "      <td>женат / замужем</td>\n",
       "      <td>0</td>\n",
       "      <td>F</td>\n",
       "      <td>сотрудник</td>\n",
       "      <td>0</td>\n",
       "      <td>82047</td>\n",
       "      <td>на покупку автомобиля</td>\n",
       "    </tr>\n",
       "  </tbody>\n",
       "</table>\n",
       "<p>21471 rows × 12 columns</p>\n",
       "</div>"
      ],
      "text/plain": [
       "       children  days_employed  dob_years education  education_id  \\\n",
       "0             1          -8437         42    высшее             0   \n",
       "1             1          -4024         36   среднее             1   \n",
       "2             0          -5623         33   Среднее             1   \n",
       "3             3          -4124         32   среднее             1   \n",
       "4             0         340266         53   среднее             1   \n",
       "...         ...            ...        ...       ...           ...   \n",
       "21466         1          -4529         43   среднее             1   \n",
       "21467         0         343937         67   среднее             1   \n",
       "21468         1          -2113         38   среднее             1   \n",
       "21469         3          -3112         38   среднее             1   \n",
       "21470         2          -1984         40   среднее             1   \n",
       "\n",
       "          family_status  family_status_id gender income_type  debt  \\\n",
       "0       женат / замужем                 0      F   сотрудник     0   \n",
       "1       женат / замужем                 0      F   сотрудник     0   \n",
       "2       женат / замужем                 0      M   сотрудник     0   \n",
       "3       женат / замужем                 0      M   сотрудник     0   \n",
       "4      гражданский брак                 1      F   пенсионер     0   \n",
       "...                 ...               ...    ...         ...   ...   \n",
       "21466  гражданский брак                 1      F   компаньон     0   \n",
       "21467   женат / замужем                 0      F   пенсионер     0   \n",
       "21468  гражданский брак                 1      M   сотрудник     1   \n",
       "21469   женат / замужем                 0      M   сотрудник     1   \n",
       "21470   женат / замужем                 0      F   сотрудник     0   \n",
       "\n",
       "       total_income                       purpose  \n",
       "0            253875                 покупка жилья  \n",
       "1            112080       приобретение автомобиля  \n",
       "2            145885                 покупка жилья  \n",
       "3            267628    дополнительное образование  \n",
       "4            158616               сыграть свадьбу  \n",
       "...             ...                           ...  \n",
       "21466        224791             операции с жильем  \n",
       "21467        155999          сделка с автомобилем  \n",
       "21468         89672                  недвижимость  \n",
       "21469        244093  на покупку своего автомобиля  \n",
       "21470         82047         на покупку автомобиля  \n",
       "\n",
       "[21471 rows x 12 columns]"
      ]
     },
     "metadata": {},
     "output_type": "display_data"
    }
   ],
   "source": [
    "display(data['education'].duplicated().sum())\n",
    "display(data)\n",
    "data['children']=data['children'].replace(-1,1)\n",
    "data['children']=data['children'].replace(20,2)\n",
    "print(data['children'].value_counts())\n",
    "data=data.drop_duplicates().reset_index(drop=True)\n",
    "display(data)"
   ]
  },
  {
   "cell_type": "markdown",
   "id": "8c4ff716",
   "metadata": {},
   "source": [
    "Следующим шагом проверю таблицу на неявные повторы, как видно ниже в основном изменен регистр в графе об образовании и\n",
    "в столбце при вызове уникальных занчений по возрасту нашелся человек с возратсом 0, это явно ошибка."
   ]
  },
  {
   "cell_type": "code",
   "execution_count": 15,
   "id": "9beaa5b9",
   "metadata": {},
   "outputs": [
    {
     "name": "stdout",
     "output_type": "stream",
     "text": [
      "среднее                13705\n",
      "высшее                  4710\n",
      "СРЕДНЕЕ                  772\n",
      "Среднее                  711\n",
      "неоконченное высшее      668\n",
      "ВЫСШЕЕ                   273\n",
      "Высшее                   268\n",
      "начальное                250\n",
      "Неоконченное высшее       47\n",
      "НЕОКОНЧЕННОЕ ВЫСШЕЕ       29\n",
      "НАЧАЛЬНОЕ                 17\n",
      "Начальное                 15\n",
      "ученая степень             4\n",
      "Ученая степень             1\n",
      "УЧЕНАЯ СТЕПЕНЬ             1\n",
      "Name: education, dtype: int64\n",
      "женат / замужем          12344\n",
      "гражданский брак          4163\n",
      "Не женат / не замужем     2810\n",
      "в разводе                 1195\n",
      "вдовец / вдова             959\n",
      "Name: family_status, dtype: int64\n"
     ]
    }
   ],
   "source": [
    "print(data['education'].value_counts())\n",
    "\n",
    "print(data['family_status'].value_counts())"
   ]
  },
  {
   "cell_type": "code",
   "execution_count": 16,
   "id": "daad6678",
   "metadata": {},
   "outputs": [
    {
     "data": {
      "text/plain": [
       "среднее                15188\n",
       "высшее                  5251\n",
       "неоконченное высшее      744\n",
       "начальное                282\n",
       "ученая степень             6\n",
       "Name: education, dtype: int64"
      ]
     },
     "metadata": {},
     "output_type": "display_data"
    },
    {
     "data": {
      "text/plain": [
       "женат / замужем          12344\n",
       "гражданский брак          4163\n",
       "не женат / не замужем     2810\n",
       "в разводе                 1195\n",
       "вдовец / вдова             959\n",
       "Name: family_status, dtype: int64"
      ]
     },
     "metadata": {},
     "output_type": "display_data"
    },
    {
     "data": {
      "text/html": [
       "<div>\n",
       "<style scoped>\n",
       "    .dataframe tbody tr th:only-of-type {\n",
       "        vertical-align: middle;\n",
       "    }\n",
       "\n",
       "    .dataframe tbody tr th {\n",
       "        vertical-align: top;\n",
       "    }\n",
       "\n",
       "    .dataframe thead th {\n",
       "        text-align: right;\n",
       "    }\n",
       "</style>\n",
       "<table border=\"1\" class=\"dataframe\">\n",
       "  <thead>\n",
       "    <tr style=\"text-align: right;\">\n",
       "      <th></th>\n",
       "      <th>children</th>\n",
       "      <th>days_employed</th>\n",
       "      <th>dob_years</th>\n",
       "      <th>education</th>\n",
       "      <th>education_id</th>\n",
       "      <th>family_status</th>\n",
       "      <th>family_status_id</th>\n",
       "      <th>gender</th>\n",
       "      <th>income_type</th>\n",
       "      <th>debt</th>\n",
       "      <th>total_income</th>\n",
       "      <th>purpose</th>\n",
       "    </tr>\n",
       "  </thead>\n",
       "  <tbody>\n",
       "    <tr>\n",
       "      <th>0</th>\n",
       "      <td>1</td>\n",
       "      <td>-8437</td>\n",
       "      <td>42</td>\n",
       "      <td>высшее</td>\n",
       "      <td>0</td>\n",
       "      <td>женат / замужем</td>\n",
       "      <td>0</td>\n",
       "      <td>F</td>\n",
       "      <td>сотрудник</td>\n",
       "      <td>0</td>\n",
       "      <td>253875</td>\n",
       "      <td>покупка жилья</td>\n",
       "    </tr>\n",
       "    <tr>\n",
       "      <th>1</th>\n",
       "      <td>1</td>\n",
       "      <td>-4024</td>\n",
       "      <td>36</td>\n",
       "      <td>среднее</td>\n",
       "      <td>1</td>\n",
       "      <td>женат / замужем</td>\n",
       "      <td>0</td>\n",
       "      <td>F</td>\n",
       "      <td>сотрудник</td>\n",
       "      <td>0</td>\n",
       "      <td>112080</td>\n",
       "      <td>приобретение автомобиля</td>\n",
       "    </tr>\n",
       "    <tr>\n",
       "      <th>2</th>\n",
       "      <td>0</td>\n",
       "      <td>-5623</td>\n",
       "      <td>33</td>\n",
       "      <td>среднее</td>\n",
       "      <td>1</td>\n",
       "      <td>женат / замужем</td>\n",
       "      <td>0</td>\n",
       "      <td>M</td>\n",
       "      <td>сотрудник</td>\n",
       "      <td>0</td>\n",
       "      <td>145885</td>\n",
       "      <td>покупка жилья</td>\n",
       "    </tr>\n",
       "    <tr>\n",
       "      <th>3</th>\n",
       "      <td>3</td>\n",
       "      <td>-4124</td>\n",
       "      <td>32</td>\n",
       "      <td>среднее</td>\n",
       "      <td>1</td>\n",
       "      <td>женат / замужем</td>\n",
       "      <td>0</td>\n",
       "      <td>M</td>\n",
       "      <td>сотрудник</td>\n",
       "      <td>0</td>\n",
       "      <td>267628</td>\n",
       "      <td>дополнительное образование</td>\n",
       "    </tr>\n",
       "    <tr>\n",
       "      <th>4</th>\n",
       "      <td>0</td>\n",
       "      <td>340266</td>\n",
       "      <td>53</td>\n",
       "      <td>среднее</td>\n",
       "      <td>1</td>\n",
       "      <td>гражданский брак</td>\n",
       "      <td>1</td>\n",
       "      <td>F</td>\n",
       "      <td>пенсионер</td>\n",
       "      <td>0</td>\n",
       "      <td>158616</td>\n",
       "      <td>сыграть свадьбу</td>\n",
       "    </tr>\n",
       "    <tr>\n",
       "      <th>...</th>\n",
       "      <td>...</td>\n",
       "      <td>...</td>\n",
       "      <td>...</td>\n",
       "      <td>...</td>\n",
       "      <td>...</td>\n",
       "      <td>...</td>\n",
       "      <td>...</td>\n",
       "      <td>...</td>\n",
       "      <td>...</td>\n",
       "      <td>...</td>\n",
       "      <td>...</td>\n",
       "      <td>...</td>\n",
       "    </tr>\n",
       "    <tr>\n",
       "      <th>21449</th>\n",
       "      <td>1</td>\n",
       "      <td>-4529</td>\n",
       "      <td>43</td>\n",
       "      <td>среднее</td>\n",
       "      <td>1</td>\n",
       "      <td>гражданский брак</td>\n",
       "      <td>1</td>\n",
       "      <td>F</td>\n",
       "      <td>компаньон</td>\n",
       "      <td>0</td>\n",
       "      <td>224791</td>\n",
       "      <td>операции с жильем</td>\n",
       "    </tr>\n",
       "    <tr>\n",
       "      <th>21450</th>\n",
       "      <td>0</td>\n",
       "      <td>343937</td>\n",
       "      <td>67</td>\n",
       "      <td>среднее</td>\n",
       "      <td>1</td>\n",
       "      <td>женат / замужем</td>\n",
       "      <td>0</td>\n",
       "      <td>F</td>\n",
       "      <td>пенсионер</td>\n",
       "      <td>0</td>\n",
       "      <td>155999</td>\n",
       "      <td>сделка с автомобилем</td>\n",
       "    </tr>\n",
       "    <tr>\n",
       "      <th>21451</th>\n",
       "      <td>1</td>\n",
       "      <td>-2113</td>\n",
       "      <td>38</td>\n",
       "      <td>среднее</td>\n",
       "      <td>1</td>\n",
       "      <td>гражданский брак</td>\n",
       "      <td>1</td>\n",
       "      <td>M</td>\n",
       "      <td>сотрудник</td>\n",
       "      <td>1</td>\n",
       "      <td>89672</td>\n",
       "      <td>недвижимость</td>\n",
       "    </tr>\n",
       "    <tr>\n",
       "      <th>21452</th>\n",
       "      <td>3</td>\n",
       "      <td>-3112</td>\n",
       "      <td>38</td>\n",
       "      <td>среднее</td>\n",
       "      <td>1</td>\n",
       "      <td>женат / замужем</td>\n",
       "      <td>0</td>\n",
       "      <td>M</td>\n",
       "      <td>сотрудник</td>\n",
       "      <td>1</td>\n",
       "      <td>244093</td>\n",
       "      <td>на покупку своего автомобиля</td>\n",
       "    </tr>\n",
       "    <tr>\n",
       "      <th>21453</th>\n",
       "      <td>2</td>\n",
       "      <td>-1984</td>\n",
       "      <td>40</td>\n",
       "      <td>среднее</td>\n",
       "      <td>1</td>\n",
       "      <td>женат / замужем</td>\n",
       "      <td>0</td>\n",
       "      <td>F</td>\n",
       "      <td>сотрудник</td>\n",
       "      <td>0</td>\n",
       "      <td>82047</td>\n",
       "      <td>на покупку автомобиля</td>\n",
       "    </tr>\n",
       "  </tbody>\n",
       "</table>\n",
       "<p>21454 rows × 12 columns</p>\n",
       "</div>"
      ],
      "text/plain": [
       "       children  days_employed  dob_years education  education_id  \\\n",
       "0             1          -8437         42    высшее             0   \n",
       "1             1          -4024         36   среднее             1   \n",
       "2             0          -5623         33   среднее             1   \n",
       "3             3          -4124         32   среднее             1   \n",
       "4             0         340266         53   среднее             1   \n",
       "...         ...            ...        ...       ...           ...   \n",
       "21449         1          -4529         43   среднее             1   \n",
       "21450         0         343937         67   среднее             1   \n",
       "21451         1          -2113         38   среднее             1   \n",
       "21452         3          -3112         38   среднее             1   \n",
       "21453         2          -1984         40   среднее             1   \n",
       "\n",
       "          family_status  family_status_id gender income_type  debt  \\\n",
       "0       женат / замужем                 0      F   сотрудник     0   \n",
       "1       женат / замужем                 0      F   сотрудник     0   \n",
       "2       женат / замужем                 0      M   сотрудник     0   \n",
       "3       женат / замужем                 0      M   сотрудник     0   \n",
       "4      гражданский брак                 1      F   пенсионер     0   \n",
       "...                 ...               ...    ...         ...   ...   \n",
       "21449  гражданский брак                 1      F   компаньон     0   \n",
       "21450   женат / замужем                 0      F   пенсионер     0   \n",
       "21451  гражданский брак                 1      M   сотрудник     1   \n",
       "21452   женат / замужем                 0      M   сотрудник     1   \n",
       "21453   женат / замужем                 0      F   сотрудник     0   \n",
       "\n",
       "       total_income                       purpose  \n",
       "0            253875                 покупка жилья  \n",
       "1            112080       приобретение автомобиля  \n",
       "2            145885                 покупка жилья  \n",
       "3            267628    дополнительное образование  \n",
       "4            158616               сыграть свадьбу  \n",
       "...             ...                           ...  \n",
       "21449        224791             операции с жильем  \n",
       "21450        155999          сделка с автомобилем  \n",
       "21451         89672                  недвижимость  \n",
       "21452        244093  на покупку своего автомобиля  \n",
       "21453         82047         на покупку автомобиля  \n",
       "\n",
       "[21454 rows x 12 columns]"
      ]
     },
     "metadata": {},
     "output_type": "display_data"
    },
    {
     "data": {
      "text/plain": [
       "array([42, 36, 33, 32, 53, 27, 43, 50, 35, 41, 40, 65, 54, 56, 26, 48, 24,\n",
       "       21, 57, 67, 28, 63, 62, 47, 34, 68, 25, 31, 30, 20, 49, 37, 45, 61,\n",
       "       64, 44, 52, 46, 23, 38, 39, 51,  0, 59, 29, 60, 55, 58, 71, 22, 73,\n",
       "       66, 69, 19, 72, 70, 74, 75])"
      ]
     },
     "execution_count": 16,
     "metadata": {},
     "output_type": "execute_result"
    }
   ],
   "source": [
    "data['education']=data['education'].str.lower()\n",
    "data['family_status']=data['family_status'].str.lower()\n",
    "display(data['education'].value_counts())\n",
    "display(data['family_status'].value_counts())\n",
    "data=data.drop_duplicates().reset_index(drop=True)\n",
    "display(data)\n",
    "data['dob_years'].unique() "
   ]
  },
  {
   "cell_type": "code",
   "execution_count": 17,
   "id": "19a6a70e",
   "metadata": {},
   "outputs": [
    {
     "name": "stdout",
     "output_type": "stream",
     "text": [
      "15172\n",
      "5250\n",
      "744\n",
      "282\n",
      "6\n"
     ]
    }
   ],
   "source": [
    "print(data[data['education']=='среднее']['education_id'].count())\n",
    "print(data[data['education']=='высшее']['education_id'].count())\n",
    "print(data[data['education']=='неоконченное высшее']['education_id'].count())\n",
    "print(data[data['education']=='начальное']['education_id'].count())\n",
    "print(data[data['education']=='ученая степень']['education_id'].count())\n",
    "data=data.drop(data[data['dob_years']==0].index)\n"
   ]
  },
  {
   "cell_type": "code",
   "execution_count": 18,
   "id": "4365d4e3",
   "metadata": {},
   "outputs": [
    {
     "data": {
      "text/html": [
       "<div>\n",
       "<style scoped>\n",
       "    .dataframe tbody tr th:only-of-type {\n",
       "        vertical-align: middle;\n",
       "    }\n",
       "\n",
       "    .dataframe tbody tr th {\n",
       "        vertical-align: top;\n",
       "    }\n",
       "\n",
       "    .dataframe thead th {\n",
       "        text-align: right;\n",
       "    }\n",
       "</style>\n",
       "<table border=\"1\" class=\"dataframe\">\n",
       "  <thead>\n",
       "    <tr style=\"text-align: right;\">\n",
       "      <th></th>\n",
       "      <th>children</th>\n",
       "      <th>days_employed</th>\n",
       "      <th>dob_years</th>\n",
       "      <th>education</th>\n",
       "      <th>education_id</th>\n",
       "      <th>family_status</th>\n",
       "      <th>family_status_id</th>\n",
       "      <th>gender</th>\n",
       "      <th>income_type</th>\n",
       "      <th>debt</th>\n",
       "      <th>total_income</th>\n",
       "      <th>purpose</th>\n",
       "    </tr>\n",
       "  </thead>\n",
       "  <tbody>\n",
       "    <tr>\n",
       "      <th>0</th>\n",
       "      <td>1</td>\n",
       "      <td>-8437</td>\n",
       "      <td>42</td>\n",
       "      <td>высшее</td>\n",
       "      <td>0</td>\n",
       "      <td>женат / замужем</td>\n",
       "      <td>0</td>\n",
       "      <td>F</td>\n",
       "      <td>сотрудник</td>\n",
       "      <td>0</td>\n",
       "      <td>253875</td>\n",
       "      <td>покупка жилья</td>\n",
       "    </tr>\n",
       "    <tr>\n",
       "      <th>1</th>\n",
       "      <td>1</td>\n",
       "      <td>-4024</td>\n",
       "      <td>36</td>\n",
       "      <td>среднее</td>\n",
       "      <td>1</td>\n",
       "      <td>женат / замужем</td>\n",
       "      <td>0</td>\n",
       "      <td>F</td>\n",
       "      <td>сотрудник</td>\n",
       "      <td>0</td>\n",
       "      <td>112080</td>\n",
       "      <td>приобретение автомобиля</td>\n",
       "    </tr>\n",
       "    <tr>\n",
       "      <th>2</th>\n",
       "      <td>0</td>\n",
       "      <td>-5623</td>\n",
       "      <td>33</td>\n",
       "      <td>среднее</td>\n",
       "      <td>1</td>\n",
       "      <td>женат / замужем</td>\n",
       "      <td>0</td>\n",
       "      <td>M</td>\n",
       "      <td>сотрудник</td>\n",
       "      <td>0</td>\n",
       "      <td>145885</td>\n",
       "      <td>покупка жилья</td>\n",
       "    </tr>\n",
       "    <tr>\n",
       "      <th>3</th>\n",
       "      <td>3</td>\n",
       "      <td>-4124</td>\n",
       "      <td>32</td>\n",
       "      <td>среднее</td>\n",
       "      <td>1</td>\n",
       "      <td>женат / замужем</td>\n",
       "      <td>0</td>\n",
       "      <td>M</td>\n",
       "      <td>сотрудник</td>\n",
       "      <td>0</td>\n",
       "      <td>267628</td>\n",
       "      <td>дополнительное образование</td>\n",
       "    </tr>\n",
       "    <tr>\n",
       "      <th>4</th>\n",
       "      <td>0</td>\n",
       "      <td>340266</td>\n",
       "      <td>53</td>\n",
       "      <td>среднее</td>\n",
       "      <td>1</td>\n",
       "      <td>гражданский брак</td>\n",
       "      <td>1</td>\n",
       "      <td>F</td>\n",
       "      <td>пенсионер</td>\n",
       "      <td>0</td>\n",
       "      <td>158616</td>\n",
       "      <td>сыграть свадьбу</td>\n",
       "    </tr>\n",
       "    <tr>\n",
       "      <th>5</th>\n",
       "      <td>0</td>\n",
       "      <td>-926</td>\n",
       "      <td>27</td>\n",
       "      <td>высшее</td>\n",
       "      <td>0</td>\n",
       "      <td>гражданский брак</td>\n",
       "      <td>1</td>\n",
       "      <td>M</td>\n",
       "      <td>компаньон</td>\n",
       "      <td>0</td>\n",
       "      <td>255763</td>\n",
       "      <td>покупка жилья</td>\n",
       "    </tr>\n",
       "    <tr>\n",
       "      <th>6</th>\n",
       "      <td>0</td>\n",
       "      <td>-2879</td>\n",
       "      <td>43</td>\n",
       "      <td>высшее</td>\n",
       "      <td>0</td>\n",
       "      <td>женат / замужем</td>\n",
       "      <td>0</td>\n",
       "      <td>F</td>\n",
       "      <td>компаньон</td>\n",
       "      <td>0</td>\n",
       "      <td>240525</td>\n",
       "      <td>операции с жильем</td>\n",
       "    </tr>\n",
       "    <tr>\n",
       "      <th>7</th>\n",
       "      <td>0</td>\n",
       "      <td>-152</td>\n",
       "      <td>50</td>\n",
       "      <td>среднее</td>\n",
       "      <td>1</td>\n",
       "      <td>женат / замужем</td>\n",
       "      <td>0</td>\n",
       "      <td>M</td>\n",
       "      <td>сотрудник</td>\n",
       "      <td>0</td>\n",
       "      <td>135823</td>\n",
       "      <td>образование</td>\n",
       "    </tr>\n",
       "    <tr>\n",
       "      <th>8</th>\n",
       "      <td>2</td>\n",
       "      <td>-6929</td>\n",
       "      <td>35</td>\n",
       "      <td>высшее</td>\n",
       "      <td>0</td>\n",
       "      <td>гражданский брак</td>\n",
       "      <td>1</td>\n",
       "      <td>F</td>\n",
       "      <td>сотрудник</td>\n",
       "      <td>0</td>\n",
       "      <td>95856</td>\n",
       "      <td>на проведение свадьбы</td>\n",
       "    </tr>\n",
       "    <tr>\n",
       "      <th>9</th>\n",
       "      <td>0</td>\n",
       "      <td>-2188</td>\n",
       "      <td>41</td>\n",
       "      <td>среднее</td>\n",
       "      <td>1</td>\n",
       "      <td>женат / замужем</td>\n",
       "      <td>0</td>\n",
       "      <td>M</td>\n",
       "      <td>сотрудник</td>\n",
       "      <td>0</td>\n",
       "      <td>144425</td>\n",
       "      <td>покупка жилья для семьи</td>\n",
       "    </tr>\n",
       "  </tbody>\n",
       "</table>\n",
       "</div>"
      ],
      "text/plain": [
       "   children  days_employed  dob_years education  education_id  \\\n",
       "0         1          -8437         42    высшее             0   \n",
       "1         1          -4024         36   среднее             1   \n",
       "2         0          -5623         33   среднее             1   \n",
       "3         3          -4124         32   среднее             1   \n",
       "4         0         340266         53   среднее             1   \n",
       "5         0           -926         27    высшее             0   \n",
       "6         0          -2879         43    высшее             0   \n",
       "7         0           -152         50   среднее             1   \n",
       "8         2          -6929         35    высшее             0   \n",
       "9         0          -2188         41   среднее             1   \n",
       "\n",
       "      family_status  family_status_id gender income_type  debt  total_income  \\\n",
       "0   женат / замужем                 0      F   сотрудник     0        253875   \n",
       "1   женат / замужем                 0      F   сотрудник     0        112080   \n",
       "2   женат / замужем                 0      M   сотрудник     0        145885   \n",
       "3   женат / замужем                 0      M   сотрудник     0        267628   \n",
       "4  гражданский брак                 1      F   пенсионер     0        158616   \n",
       "5  гражданский брак                 1      M   компаньон     0        255763   \n",
       "6   женат / замужем                 0      F   компаньон     0        240525   \n",
       "7   женат / замужем                 0      M   сотрудник     0        135823   \n",
       "8  гражданский брак                 1      F   сотрудник     0         95856   \n",
       "9   женат / замужем                 0      M   сотрудник     0        144425   \n",
       "\n",
       "                      purpose  \n",
       "0               покупка жилья  \n",
       "1     приобретение автомобиля  \n",
       "2               покупка жилья  \n",
       "3  дополнительное образование  \n",
       "4             сыграть свадьбу  \n",
       "5               покупка жилья  \n",
       "6           операции с жильем  \n",
       "7                 образование  \n",
       "8       на проведение свадьбы  \n",
       "9     покупка жилья для семьи  "
      ]
     },
     "metadata": {},
     "output_type": "display_data"
    },
    {
     "data": {
      "text/plain": [
       "array([42, 36, 33, 32, 53, 27, 43, 50, 35, 41, 40, 65, 54, 56, 26, 48, 24,\n",
       "       21, 57, 67, 28, 63, 62, 47, 34, 68, 25, 31, 30, 20, 49, 37, 45, 61,\n",
       "       64, 44, 52, 46, 23, 38, 39, 51, 59, 29, 60, 55, 58, 71, 22, 73, 66,\n",
       "       69, 19, 72, 70, 74, 75])"
      ]
     },
     "execution_count": 18,
     "metadata": {},
     "output_type": "execute_result"
    }
   ],
   "source": [
    "display(data.head(10))\n",
    "data['dob_years'].unique()"
   ]
  },
  {
   "cell_type": "markdown",
   "id": "4f99a803",
   "metadata": {},
   "source": [
    "### Шаг 2.5. Формирование дополнительных датафреймов словарей, декомпозиция исходного датафрейма."
   ]
  },
  {
   "cell_type": "code",
   "execution_count": 19,
   "id": "616cf4ce",
   "metadata": {},
   "outputs": [
    {
     "data": {
      "text/html": [
       "<div>\n",
       "<style scoped>\n",
       "    .dataframe tbody tr th:only-of-type {\n",
       "        vertical-align: middle;\n",
       "    }\n",
       "\n",
       "    .dataframe tbody tr th {\n",
       "        vertical-align: top;\n",
       "    }\n",
       "\n",
       "    .dataframe thead th {\n",
       "        text-align: right;\n",
       "    }\n",
       "</style>\n",
       "<table border=\"1\" class=\"dataframe\">\n",
       "  <thead>\n",
       "    <tr style=\"text-align: right;\">\n",
       "      <th></th>\n",
       "      <th>education</th>\n",
       "      <th>education_id</th>\n",
       "    </tr>\n",
       "  </thead>\n",
       "  <tbody>\n",
       "    <tr>\n",
       "      <th>0</th>\n",
       "      <td>высшее</td>\n",
       "      <td>0</td>\n",
       "    </tr>\n",
       "    <tr>\n",
       "      <th>1</th>\n",
       "      <td>среднее</td>\n",
       "      <td>1</td>\n",
       "    </tr>\n",
       "    <tr>\n",
       "      <th>2</th>\n",
       "      <td>среднее</td>\n",
       "      <td>1</td>\n",
       "    </tr>\n",
       "    <tr>\n",
       "      <th>3</th>\n",
       "      <td>среднее</td>\n",
       "      <td>1</td>\n",
       "    </tr>\n",
       "    <tr>\n",
       "      <th>4</th>\n",
       "      <td>среднее</td>\n",
       "      <td>1</td>\n",
       "    </tr>\n",
       "    <tr>\n",
       "      <th>...</th>\n",
       "      <td>...</td>\n",
       "      <td>...</td>\n",
       "    </tr>\n",
       "    <tr>\n",
       "      <th>21449</th>\n",
       "      <td>среднее</td>\n",
       "      <td>1</td>\n",
       "    </tr>\n",
       "    <tr>\n",
       "      <th>21450</th>\n",
       "      <td>среднее</td>\n",
       "      <td>1</td>\n",
       "    </tr>\n",
       "    <tr>\n",
       "      <th>21451</th>\n",
       "      <td>среднее</td>\n",
       "      <td>1</td>\n",
       "    </tr>\n",
       "    <tr>\n",
       "      <th>21452</th>\n",
       "      <td>среднее</td>\n",
       "      <td>1</td>\n",
       "    </tr>\n",
       "    <tr>\n",
       "      <th>21453</th>\n",
       "      <td>среднее</td>\n",
       "      <td>1</td>\n",
       "    </tr>\n",
       "  </tbody>\n",
       "</table>\n",
       "<p>21353 rows × 2 columns</p>\n",
       "</div>"
      ],
      "text/plain": [
       "      education  education_id\n",
       "0        высшее             0\n",
       "1       среднее             1\n",
       "2       среднее             1\n",
       "3       среднее             1\n",
       "4       среднее             1\n",
       "...         ...           ...\n",
       "21449   среднее             1\n",
       "21450   среднее             1\n",
       "21451   среднее             1\n",
       "21452   среднее             1\n",
       "21453   среднее             1\n",
       "\n",
       "[21353 rows x 2 columns]"
      ]
     },
     "metadata": {},
     "output_type": "display_data"
    }
   ],
   "source": [
    "new_education=data[['education','education_id']]\n",
    "display(new_education)"
   ]
  },
  {
   "cell_type": "code",
   "execution_count": 20,
   "id": "63e3670f",
   "metadata": {},
   "outputs": [
    {
     "data": {
      "text/html": [
       "<div>\n",
       "<style scoped>\n",
       "    .dataframe tbody tr th:only-of-type {\n",
       "        vertical-align: middle;\n",
       "    }\n",
       "\n",
       "    .dataframe tbody tr th {\n",
       "        vertical-align: top;\n",
       "    }\n",
       "\n",
       "    .dataframe thead th {\n",
       "        text-align: right;\n",
       "    }\n",
       "</style>\n",
       "<table border=\"1\" class=\"dataframe\">\n",
       "  <thead>\n",
       "    <tr style=\"text-align: right;\">\n",
       "      <th></th>\n",
       "      <th>family_status</th>\n",
       "      <th>family_status_id</th>\n",
       "    </tr>\n",
       "  </thead>\n",
       "  <tbody>\n",
       "    <tr>\n",
       "      <th>0</th>\n",
       "      <td>женат / замужем</td>\n",
       "      <td>0</td>\n",
       "    </tr>\n",
       "    <tr>\n",
       "      <th>1</th>\n",
       "      <td>женат / замужем</td>\n",
       "      <td>0</td>\n",
       "    </tr>\n",
       "    <tr>\n",
       "      <th>2</th>\n",
       "      <td>женат / замужем</td>\n",
       "      <td>0</td>\n",
       "    </tr>\n",
       "    <tr>\n",
       "      <th>3</th>\n",
       "      <td>женат / замужем</td>\n",
       "      <td>0</td>\n",
       "    </tr>\n",
       "    <tr>\n",
       "      <th>4</th>\n",
       "      <td>гражданский брак</td>\n",
       "      <td>1</td>\n",
       "    </tr>\n",
       "    <tr>\n",
       "      <th>...</th>\n",
       "      <td>...</td>\n",
       "      <td>...</td>\n",
       "    </tr>\n",
       "    <tr>\n",
       "      <th>21449</th>\n",
       "      <td>гражданский брак</td>\n",
       "      <td>1</td>\n",
       "    </tr>\n",
       "    <tr>\n",
       "      <th>21450</th>\n",
       "      <td>женат / замужем</td>\n",
       "      <td>0</td>\n",
       "    </tr>\n",
       "    <tr>\n",
       "      <th>21451</th>\n",
       "      <td>гражданский брак</td>\n",
       "      <td>1</td>\n",
       "    </tr>\n",
       "    <tr>\n",
       "      <th>21452</th>\n",
       "      <td>женат / замужем</td>\n",
       "      <td>0</td>\n",
       "    </tr>\n",
       "    <tr>\n",
       "      <th>21453</th>\n",
       "      <td>женат / замужем</td>\n",
       "      <td>0</td>\n",
       "    </tr>\n",
       "  </tbody>\n",
       "</table>\n",
       "<p>21353 rows × 2 columns</p>\n",
       "</div>"
      ],
      "text/plain": [
       "          family_status  family_status_id\n",
       "0       женат / замужем                 0\n",
       "1       женат / замужем                 0\n",
       "2       женат / замужем                 0\n",
       "3       женат / замужем                 0\n",
       "4      гражданский брак                 1\n",
       "...                 ...               ...\n",
       "21449  гражданский брак                 1\n",
       "21450   женат / замужем                 0\n",
       "21451  гражданский брак                 1\n",
       "21452   женат / замужем                 0\n",
       "21453   женат / замужем                 0\n",
       "\n",
       "[21353 rows x 2 columns]"
      ]
     },
     "metadata": {},
     "output_type": "display_data"
    },
    {
     "data": {
      "text/plain": [
       "family_status          family_status_id\n",
       "женат / замужем        0                   12290\n",
       "гражданский брак       1                    4130\n",
       "не женат / не замужем  4                    2794\n",
       "в разводе              3                    1185\n",
       "вдовец / вдова         2                     954\n",
       "dtype: int64"
      ]
     },
     "metadata": {},
     "output_type": "display_data"
    }
   ],
   "source": [
    "new_family = data[['family_status', 'family_status_id']]\n",
    "display(new_family)\n",
    "display(new_family.value_counts())"
   ]
  },
  {
   "cell_type": "code",
   "execution_count": 21,
   "id": "72b38817",
   "metadata": {},
   "outputs": [
    {
     "data": {
      "text/html": [
       "<div>\n",
       "<style scoped>\n",
       "    .dataframe tbody tr th:only-of-type {\n",
       "        vertical-align: middle;\n",
       "    }\n",
       "\n",
       "    .dataframe tbody tr th {\n",
       "        vertical-align: top;\n",
       "    }\n",
       "\n",
       "    .dataframe thead th {\n",
       "        text-align: right;\n",
       "    }\n",
       "</style>\n",
       "<table border=\"1\" class=\"dataframe\">\n",
       "  <thead>\n",
       "    <tr style=\"text-align: right;\">\n",
       "      <th></th>\n",
       "      <th>children</th>\n",
       "      <th>days_employed</th>\n",
       "      <th>dob_years</th>\n",
       "      <th>education_id</th>\n",
       "      <th>family_status_id</th>\n",
       "      <th>gender</th>\n",
       "      <th>income_type</th>\n",
       "      <th>debt</th>\n",
       "      <th>total_income</th>\n",
       "      <th>purpose</th>\n",
       "    </tr>\n",
       "  </thead>\n",
       "  <tbody>\n",
       "    <tr>\n",
       "      <th>7718</th>\n",
       "      <td>0</td>\n",
       "      <td>-1963</td>\n",
       "      <td>54</td>\n",
       "      <td>0</td>\n",
       "      <td>0</td>\n",
       "      <td>F</td>\n",
       "      <td>сотрудник</td>\n",
       "      <td>0</td>\n",
       "      <td>136493</td>\n",
       "      <td>получение дополнительного образования</td>\n",
       "    </tr>\n",
       "    <tr>\n",
       "      <th>10056</th>\n",
       "      <td>0</td>\n",
       "      <td>-2634</td>\n",
       "      <td>42</td>\n",
       "      <td>0</td>\n",
       "      <td>1</td>\n",
       "      <td>M</td>\n",
       "      <td>госслужащий</td>\n",
       "      <td>0</td>\n",
       "      <td>252707</td>\n",
       "      <td>сыграть свадьбу</td>\n",
       "    </tr>\n",
       "    <tr>\n",
       "      <th>10057</th>\n",
       "      <td>0</td>\n",
       "      <td>-5958</td>\n",
       "      <td>57</td>\n",
       "      <td>0</td>\n",
       "      <td>0</td>\n",
       "      <td>F</td>\n",
       "      <td>сотрудник</td>\n",
       "      <td>0</td>\n",
       "      <td>77913</td>\n",
       "      <td>автомобиль</td>\n",
       "    </tr>\n",
       "    <tr>\n",
       "      <th>10058</th>\n",
       "      <td>0</td>\n",
       "      <td>-8642</td>\n",
       "      <td>57</td>\n",
       "      <td>1</td>\n",
       "      <td>0</td>\n",
       "      <td>M</td>\n",
       "      <td>компаньон</td>\n",
       "      <td>0</td>\n",
       "      <td>205397</td>\n",
       "      <td>дополнительное образование</td>\n",
       "    </tr>\n",
       "    <tr>\n",
       "      <th>10059</th>\n",
       "      <td>0</td>\n",
       "      <td>-1188</td>\n",
       "      <td>39</td>\n",
       "      <td>1</td>\n",
       "      <td>1</td>\n",
       "      <td>M</td>\n",
       "      <td>компаньон</td>\n",
       "      <td>0</td>\n",
       "      <td>201279</td>\n",
       "      <td>свадьба</td>\n",
       "    </tr>\n",
       "    <tr>\n",
       "      <th>...</th>\n",
       "      <td>...</td>\n",
       "      <td>...</td>\n",
       "      <td>...</td>\n",
       "      <td>...</td>\n",
       "      <td>...</td>\n",
       "      <td>...</td>\n",
       "      <td>...</td>\n",
       "      <td>...</td>\n",
       "      <td>...</td>\n",
       "      <td>...</td>\n",
       "    </tr>\n",
       "    <tr>\n",
       "      <th>15787</th>\n",
       "      <td>5</td>\n",
       "      <td>-418</td>\n",
       "      <td>31</td>\n",
       "      <td>1</td>\n",
       "      <td>0</td>\n",
       "      <td>F</td>\n",
       "      <td>сотрудник</td>\n",
       "      <td>0</td>\n",
       "      <td>77552</td>\n",
       "      <td>сделка с подержанным автомобилем</td>\n",
       "    </tr>\n",
       "    <tr>\n",
       "      <th>20770</th>\n",
       "      <td>5</td>\n",
       "      <td>-2386</td>\n",
       "      <td>35</td>\n",
       "      <td>1</td>\n",
       "      <td>0</td>\n",
       "      <td>F</td>\n",
       "      <td>компаньон</td>\n",
       "      <td>0</td>\n",
       "      <td>204241</td>\n",
       "      <td>жилье</td>\n",
       "    </tr>\n",
       "    <tr>\n",
       "      <th>7859</th>\n",
       "      <td>5</td>\n",
       "      <td>-773</td>\n",
       "      <td>36</td>\n",
       "      <td>1</td>\n",
       "      <td>0</td>\n",
       "      <td>F</td>\n",
       "      <td>сотрудник</td>\n",
       "      <td>0</td>\n",
       "      <td>48772</td>\n",
       "      <td>операции с жильем</td>\n",
       "    </tr>\n",
       "    <tr>\n",
       "      <th>3977</th>\n",
       "      <td>5</td>\n",
       "      <td>191683</td>\n",
       "      <td>42</td>\n",
       "      <td>1</td>\n",
       "      <td>1</td>\n",
       "      <td>M</td>\n",
       "      <td>сотрудник</td>\n",
       "      <td>0</td>\n",
       "      <td>145017</td>\n",
       "      <td>на покупку своего автомобиля</td>\n",
       "    </tr>\n",
       "    <tr>\n",
       "      <th>16173</th>\n",
       "      <td>5</td>\n",
       "      <td>-387</td>\n",
       "      <td>35</td>\n",
       "      <td>1</td>\n",
       "      <td>1</td>\n",
       "      <td>F</td>\n",
       "      <td>госслужащий</td>\n",
       "      <td>0</td>\n",
       "      <td>126102</td>\n",
       "      <td>на проведение свадьбы</td>\n",
       "    </tr>\n",
       "  </tbody>\n",
       "</table>\n",
       "<p>21353 rows × 10 columns</p>\n",
       "</div>"
      ],
      "text/plain": [
       "       children  days_employed  dob_years  education_id  family_status_id  \\\n",
       "7718          0          -1963         54             0                 0   \n",
       "10056         0          -2634         42             0                 1   \n",
       "10057         0          -5958         57             0                 0   \n",
       "10058         0          -8642         57             1                 0   \n",
       "10059         0          -1188         39             1                 1   \n",
       "...         ...            ...        ...           ...               ...   \n",
       "15787         5           -418         31             1                 0   \n",
       "20770         5          -2386         35             1                 0   \n",
       "7859          5           -773         36             1                 0   \n",
       "3977          5         191683         42             1                 1   \n",
       "16173         5           -387         35             1                 1   \n",
       "\n",
       "      gender  income_type  debt  total_income  \\\n",
       "7718       F    сотрудник     0        136493   \n",
       "10056      M  госслужащий     0        252707   \n",
       "10057      F    сотрудник     0         77913   \n",
       "10058      M    компаньон     0        205397   \n",
       "10059      M    компаньон     0        201279   \n",
       "...      ...          ...   ...           ...   \n",
       "15787      F    сотрудник     0         77552   \n",
       "20770      F    компаньон     0        204241   \n",
       "7859       F    сотрудник     0         48772   \n",
       "3977       M    сотрудник     0        145017   \n",
       "16173      F  госслужащий     0        126102   \n",
       "\n",
       "                                     purpose  \n",
       "7718   получение дополнительного образования  \n",
       "10056                        сыграть свадьбу  \n",
       "10057                             автомобиль  \n",
       "10058             дополнительное образование  \n",
       "10059                                свадьба  \n",
       "...                                      ...  \n",
       "15787       сделка с подержанным автомобилем  \n",
       "20770                                  жилье  \n",
       "7859                       операции с жильем  \n",
       "3977            на покупку своего автомобиля  \n",
       "16173                  на проведение свадьбы  \n",
       "\n",
       "[21353 rows x 10 columns]"
      ]
     },
     "metadata": {},
     "output_type": "display_data"
    }
   ],
   "source": [
    "data=data.drop(['education','family_status'], axis=1)\n",
    "display(data.sort_values('children'))"
   ]
  },
  {
   "cell_type": "markdown",
   "id": "20f2b571",
   "metadata": {},
   "source": [
    "### Шаг 2.6. Категоризация дохода."
   ]
  },
  {
   "cell_type": "code",
   "execution_count": 22,
   "id": "6d98d6ce",
   "metadata": {},
   "outputs": [
    {
     "data": {
      "text/html": [
       "<div>\n",
       "<style scoped>\n",
       "    .dataframe tbody tr th:only-of-type {\n",
       "        vertical-align: middle;\n",
       "    }\n",
       "\n",
       "    .dataframe tbody tr th {\n",
       "        vertical-align: top;\n",
       "    }\n",
       "\n",
       "    .dataframe thead th {\n",
       "        text-align: right;\n",
       "    }\n",
       "</style>\n",
       "<table border=\"1\" class=\"dataframe\">\n",
       "  <thead>\n",
       "    <tr style=\"text-align: right;\">\n",
       "      <th></th>\n",
       "      <th>children</th>\n",
       "      <th>days_employed</th>\n",
       "      <th>dob_years</th>\n",
       "      <th>education_id</th>\n",
       "      <th>family_status_id</th>\n",
       "      <th>gender</th>\n",
       "      <th>income_type</th>\n",
       "      <th>debt</th>\n",
       "      <th>total_income</th>\n",
       "      <th>purpose</th>\n",
       "      <th>price</th>\n",
       "      <th>dob_years_category</th>\n",
       "    </tr>\n",
       "  </thead>\n",
       "  <tbody>\n",
       "    <tr>\n",
       "      <th>0</th>\n",
       "      <td>1</td>\n",
       "      <td>-8437</td>\n",
       "      <td>42</td>\n",
       "      <td>0</td>\n",
       "      <td>0</td>\n",
       "      <td>F</td>\n",
       "      <td>сотрудник</td>\n",
       "      <td>0</td>\n",
       "      <td>253875</td>\n",
       "      <td>покупка жилья</td>\n",
       "      <td>B</td>\n",
       "      <td>взрослые</td>\n",
       "    </tr>\n",
       "    <tr>\n",
       "      <th>1</th>\n",
       "      <td>1</td>\n",
       "      <td>-4024</td>\n",
       "      <td>36</td>\n",
       "      <td>1</td>\n",
       "      <td>0</td>\n",
       "      <td>F</td>\n",
       "      <td>сотрудник</td>\n",
       "      <td>0</td>\n",
       "      <td>112080</td>\n",
       "      <td>приобретение автомобиля</td>\n",
       "      <td>C</td>\n",
       "      <td>пенсионеры</td>\n",
       "    </tr>\n",
       "    <tr>\n",
       "      <th>2</th>\n",
       "      <td>0</td>\n",
       "      <td>-5623</td>\n",
       "      <td>33</td>\n",
       "      <td>1</td>\n",
       "      <td>0</td>\n",
       "      <td>M</td>\n",
       "      <td>сотрудник</td>\n",
       "      <td>0</td>\n",
       "      <td>145885</td>\n",
       "      <td>покупка жилья</td>\n",
       "      <td>C</td>\n",
       "      <td>молодые</td>\n",
       "    </tr>\n",
       "    <tr>\n",
       "      <th>3</th>\n",
       "      <td>3</td>\n",
       "      <td>-4124</td>\n",
       "      <td>32</td>\n",
       "      <td>1</td>\n",
       "      <td>0</td>\n",
       "      <td>M</td>\n",
       "      <td>сотрудник</td>\n",
       "      <td>0</td>\n",
       "      <td>267628</td>\n",
       "      <td>дополнительное образование</td>\n",
       "      <td>B</td>\n",
       "      <td>молодые</td>\n",
       "    </tr>\n",
       "    <tr>\n",
       "      <th>4</th>\n",
       "      <td>0</td>\n",
       "      <td>340266</td>\n",
       "      <td>53</td>\n",
       "      <td>1</td>\n",
       "      <td>1</td>\n",
       "      <td>F</td>\n",
       "      <td>пенсионер</td>\n",
       "      <td>0</td>\n",
       "      <td>158616</td>\n",
       "      <td>сыграть свадьбу</td>\n",
       "      <td>C</td>\n",
       "      <td>взрослые</td>\n",
       "    </tr>\n",
       "    <tr>\n",
       "      <th>...</th>\n",
       "      <td>...</td>\n",
       "      <td>...</td>\n",
       "      <td>...</td>\n",
       "      <td>...</td>\n",
       "      <td>...</td>\n",
       "      <td>...</td>\n",
       "      <td>...</td>\n",
       "      <td>...</td>\n",
       "      <td>...</td>\n",
       "      <td>...</td>\n",
       "      <td>...</td>\n",
       "      <td>...</td>\n",
       "    </tr>\n",
       "    <tr>\n",
       "      <th>21449</th>\n",
       "      <td>1</td>\n",
       "      <td>-4529</td>\n",
       "      <td>43</td>\n",
       "      <td>1</td>\n",
       "      <td>1</td>\n",
       "      <td>F</td>\n",
       "      <td>компаньон</td>\n",
       "      <td>0</td>\n",
       "      <td>224791</td>\n",
       "      <td>операции с жильем</td>\n",
       "      <td>B</td>\n",
       "      <td>взрослые</td>\n",
       "    </tr>\n",
       "    <tr>\n",
       "      <th>21450</th>\n",
       "      <td>0</td>\n",
       "      <td>343937</td>\n",
       "      <td>67</td>\n",
       "      <td>1</td>\n",
       "      <td>0</td>\n",
       "      <td>F</td>\n",
       "      <td>пенсионер</td>\n",
       "      <td>0</td>\n",
       "      <td>155999</td>\n",
       "      <td>сделка с автомобилем</td>\n",
       "      <td>C</td>\n",
       "      <td>пенсионеры</td>\n",
       "    </tr>\n",
       "    <tr>\n",
       "      <th>21451</th>\n",
       "      <td>1</td>\n",
       "      <td>-2113</td>\n",
       "      <td>38</td>\n",
       "      <td>1</td>\n",
       "      <td>1</td>\n",
       "      <td>M</td>\n",
       "      <td>сотрудник</td>\n",
       "      <td>1</td>\n",
       "      <td>89672</td>\n",
       "      <td>недвижимость</td>\n",
       "      <td>C</td>\n",
       "      <td>взрослые</td>\n",
       "    </tr>\n",
       "    <tr>\n",
       "      <th>21452</th>\n",
       "      <td>3</td>\n",
       "      <td>-3112</td>\n",
       "      <td>38</td>\n",
       "      <td>1</td>\n",
       "      <td>0</td>\n",
       "      <td>M</td>\n",
       "      <td>сотрудник</td>\n",
       "      <td>1</td>\n",
       "      <td>244093</td>\n",
       "      <td>на покупку своего автомобиля</td>\n",
       "      <td>B</td>\n",
       "      <td>взрослые</td>\n",
       "    </tr>\n",
       "    <tr>\n",
       "      <th>21453</th>\n",
       "      <td>2</td>\n",
       "      <td>-1984</td>\n",
       "      <td>40</td>\n",
       "      <td>1</td>\n",
       "      <td>0</td>\n",
       "      <td>F</td>\n",
       "      <td>сотрудник</td>\n",
       "      <td>0</td>\n",
       "      <td>82047</td>\n",
       "      <td>на покупку автомобиля</td>\n",
       "      <td>C</td>\n",
       "      <td>взрослые</td>\n",
       "    </tr>\n",
       "  </tbody>\n",
       "</table>\n",
       "<p>21353 rows × 12 columns</p>\n",
       "</div>"
      ],
      "text/plain": [
       "       children  days_employed  dob_years  education_id  family_status_id  \\\n",
       "0             1          -8437         42             0                 0   \n",
       "1             1          -4024         36             1                 0   \n",
       "2             0          -5623         33             1                 0   \n",
       "3             3          -4124         32             1                 0   \n",
       "4             0         340266         53             1                 1   \n",
       "...         ...            ...        ...           ...               ...   \n",
       "21449         1          -4529         43             1                 1   \n",
       "21450         0         343937         67             1                 0   \n",
       "21451         1          -2113         38             1                 1   \n",
       "21452         3          -3112         38             1                 0   \n",
       "21453         2          -1984         40             1                 0   \n",
       "\n",
       "      gender income_type  debt  total_income                       purpose  \\\n",
       "0          F   сотрудник     0        253875                 покупка жилья   \n",
       "1          F   сотрудник     0        112080       приобретение автомобиля   \n",
       "2          M   сотрудник     0        145885                 покупка жилья   \n",
       "3          M   сотрудник     0        267628    дополнительное образование   \n",
       "4          F   пенсионер     0        158616               сыграть свадьбу   \n",
       "...      ...         ...   ...           ...                           ...   \n",
       "21449      F   компаньон     0        224791             операции с жильем   \n",
       "21450      F   пенсионер     0        155999          сделка с автомобилем   \n",
       "21451      M   сотрудник     1         89672                  недвижимость   \n",
       "21452      M   сотрудник     1        244093  на покупку своего автомобиля   \n",
       "21453      F   сотрудник     0         82047         на покупку автомобиля   \n",
       "\n",
       "      price dob_years_category  \n",
       "0         B           взрослые  \n",
       "1         C         пенсионеры  \n",
       "2         C            молодые  \n",
       "3         B            молодые  \n",
       "4         C           взрослые  \n",
       "...     ...                ...  \n",
       "21449     B           взрослые  \n",
       "21450     C         пенсионеры  \n",
       "21451     C           взрослые  \n",
       "21452     B           взрослые  \n",
       "21453     C           взрослые  \n",
       "\n",
       "[21353 rows x 12 columns]"
      ]
     },
     "metadata": {},
     "output_type": "display_data"
    }
   ],
   "source": [
    "def price(kosten):\n",
    "    if kosten<=30000:\n",
    "        return 'E'\n",
    "    elif 3000<kosten<=50000:\n",
    "        return 'D'\n",
    "    elif 50000<kosten<=200000:\n",
    "        return 'C'\n",
    "    elif 200000<kosten<=1000000:\n",
    "        return 'B'\n",
    "    else:\n",
    "        return 'A'\n",
    "data['price']=data['total_income'].apply(lambda kosten:price(kosten))\n",
    "\n",
    "def dob_years_group(age):\n",
    "    if 19<=age<=35:\n",
    "        return 'молодые'\n",
    "    if 36<age<59:\n",
    "        return 'взрослые'\n",
    "    return 'пенсионеры'\n",
    "data['dob_years_category']=data['dob_years'].apply(lambda age:dob_years_group(age))\n",
    "display(data)"
   ]
  },
  {
   "cell_type": "markdown",
   "id": "8e6696f8",
   "metadata": {},
   "source": [
    "В условии к задаче не было указано о создании стобца dob_years_category\n",
    "но когда дошел до обработки данных эта групировка очень помогла."
   ]
  },
  {
   "cell_type": "markdown",
   "id": "b05ca302",
   "metadata": {},
   "source": [
    "### Шаг 2.7. Категоризация целей кредита."
   ]
  },
  {
   "cell_type": "code",
   "execution_count": 23,
   "id": "1bb86d2c",
   "metadata": {},
   "outputs": [
    {
     "data": {
      "text/plain": [
       "свадьба                                   786\n",
       "на проведение свадьбы                     764\n",
       "сыграть свадьбу                           760\n",
       "операции с недвижимостью                  672\n",
       "покупка коммерческой недвижимости         658\n",
       "покупка жилья для сдачи                   649\n",
       "операции с коммерческой недвижимостью     648\n",
       "операции с жильем                         646\n",
       "покупка жилья                             640\n",
       "жилье                                     640\n",
       "покупка жилья для семьи                   637\n",
       "строительство собственной недвижимости    633\n",
       "недвижимость                              629\n",
       "операции со своей недвижимостью           627\n",
       "строительство жилой недвижимости          621\n",
       "строительство недвижимости                619\n",
       "покупка своего жилья                      619\n",
       "покупка недвижимости                      618\n",
       "ремонт жилью                              605\n",
       "покупка жилой недвижимости                603\n",
       "на покупку своего автомобиля              502\n",
       "заняться высшим образованием              493\n",
       "автомобиль                                490\n",
       "сделка с подержанным автомобилем          484\n",
       "на покупку подержанного автомобиля        478\n",
       "автомобили                                476\n",
       "свой автомобиль                           475\n",
       "на покупку автомобиля                     466\n",
       "приобретение автомобиля                   459\n",
       "дополнительное образование                458\n",
       "сделка с автомобилем                      454\n",
       "высшее образование                        449\n",
       "образование                               444\n",
       "получение дополнительного образования     444\n",
       "получение образования                     441\n",
       "профильное образование                    435\n",
       "получение высшего образования             424\n",
       "заняться образованием                     407\n",
       "Name: purpose, dtype: int64"
      ]
     },
     "metadata": {},
     "output_type": "display_data"
    }
   ],
   "source": [
    "display(data['purpose'].value_counts())\n"
   ]
  },
  {
   "cell_type": "code",
   "execution_count": 24,
   "id": "6d1392c0",
   "metadata": {},
   "outputs": [
    {
     "data": {
      "text/html": [
       "<div>\n",
       "<style scoped>\n",
       "    .dataframe tbody tr th:only-of-type {\n",
       "        vertical-align: middle;\n",
       "    }\n",
       "\n",
       "    .dataframe tbody tr th {\n",
       "        vertical-align: top;\n",
       "    }\n",
       "\n",
       "    .dataframe thead th {\n",
       "        text-align: right;\n",
       "    }\n",
       "</style>\n",
       "<table border=\"1\" class=\"dataframe\">\n",
       "  <thead>\n",
       "    <tr style=\"text-align: right;\">\n",
       "      <th></th>\n",
       "      <th>children</th>\n",
       "      <th>days_employed</th>\n",
       "      <th>dob_years</th>\n",
       "      <th>education_id</th>\n",
       "      <th>family_status_id</th>\n",
       "      <th>gender</th>\n",
       "      <th>income_type</th>\n",
       "      <th>debt</th>\n",
       "      <th>total_income</th>\n",
       "      <th>purpose</th>\n",
       "      <th>price</th>\n",
       "      <th>dob_years_category</th>\n",
       "      <th>purpose_category</th>\n",
       "    </tr>\n",
       "  </thead>\n",
       "  <tbody>\n",
       "    <tr>\n",
       "      <th>0</th>\n",
       "      <td>1</td>\n",
       "      <td>-8437</td>\n",
       "      <td>42</td>\n",
       "      <td>0</td>\n",
       "      <td>0</td>\n",
       "      <td>F</td>\n",
       "      <td>сотрудник</td>\n",
       "      <td>0</td>\n",
       "      <td>253875</td>\n",
       "      <td>покупка жилья</td>\n",
       "      <td>B</td>\n",
       "      <td>взрослые</td>\n",
       "      <td>операции с недвижимостью</td>\n",
       "    </tr>\n",
       "    <tr>\n",
       "      <th>1</th>\n",
       "      <td>1</td>\n",
       "      <td>-4024</td>\n",
       "      <td>36</td>\n",
       "      <td>1</td>\n",
       "      <td>0</td>\n",
       "      <td>F</td>\n",
       "      <td>сотрудник</td>\n",
       "      <td>0</td>\n",
       "      <td>112080</td>\n",
       "      <td>приобретение автомобиля</td>\n",
       "      <td>C</td>\n",
       "      <td>пенсионеры</td>\n",
       "      <td>операции с автомобилем</td>\n",
       "    </tr>\n",
       "    <tr>\n",
       "      <th>2</th>\n",
       "      <td>0</td>\n",
       "      <td>-5623</td>\n",
       "      <td>33</td>\n",
       "      <td>1</td>\n",
       "      <td>0</td>\n",
       "      <td>M</td>\n",
       "      <td>сотрудник</td>\n",
       "      <td>0</td>\n",
       "      <td>145885</td>\n",
       "      <td>покупка жилья</td>\n",
       "      <td>C</td>\n",
       "      <td>молодые</td>\n",
       "      <td>операции с недвижимостью</td>\n",
       "    </tr>\n",
       "    <tr>\n",
       "      <th>3</th>\n",
       "      <td>3</td>\n",
       "      <td>-4124</td>\n",
       "      <td>32</td>\n",
       "      <td>1</td>\n",
       "      <td>0</td>\n",
       "      <td>M</td>\n",
       "      <td>сотрудник</td>\n",
       "      <td>0</td>\n",
       "      <td>267628</td>\n",
       "      <td>дополнительное образование</td>\n",
       "      <td>B</td>\n",
       "      <td>молодые</td>\n",
       "      <td>получение образования</td>\n",
       "    </tr>\n",
       "    <tr>\n",
       "      <th>4</th>\n",
       "      <td>0</td>\n",
       "      <td>340266</td>\n",
       "      <td>53</td>\n",
       "      <td>1</td>\n",
       "      <td>1</td>\n",
       "      <td>F</td>\n",
       "      <td>пенсионер</td>\n",
       "      <td>0</td>\n",
       "      <td>158616</td>\n",
       "      <td>сыграть свадьбу</td>\n",
       "      <td>C</td>\n",
       "      <td>взрослые</td>\n",
       "      <td>проведение свадьбы</td>\n",
       "    </tr>\n",
       "    <tr>\n",
       "      <th>...</th>\n",
       "      <td>...</td>\n",
       "      <td>...</td>\n",
       "      <td>...</td>\n",
       "      <td>...</td>\n",
       "      <td>...</td>\n",
       "      <td>...</td>\n",
       "      <td>...</td>\n",
       "      <td>...</td>\n",
       "      <td>...</td>\n",
       "      <td>...</td>\n",
       "      <td>...</td>\n",
       "      <td>...</td>\n",
       "      <td>...</td>\n",
       "    </tr>\n",
       "    <tr>\n",
       "      <th>21449</th>\n",
       "      <td>1</td>\n",
       "      <td>-4529</td>\n",
       "      <td>43</td>\n",
       "      <td>1</td>\n",
       "      <td>1</td>\n",
       "      <td>F</td>\n",
       "      <td>компаньон</td>\n",
       "      <td>0</td>\n",
       "      <td>224791</td>\n",
       "      <td>операции с жильем</td>\n",
       "      <td>B</td>\n",
       "      <td>взрослые</td>\n",
       "      <td>операции с недвижимостью</td>\n",
       "    </tr>\n",
       "    <tr>\n",
       "      <th>21450</th>\n",
       "      <td>0</td>\n",
       "      <td>343937</td>\n",
       "      <td>67</td>\n",
       "      <td>1</td>\n",
       "      <td>0</td>\n",
       "      <td>F</td>\n",
       "      <td>пенсионер</td>\n",
       "      <td>0</td>\n",
       "      <td>155999</td>\n",
       "      <td>сделка с автомобилем</td>\n",
       "      <td>C</td>\n",
       "      <td>пенсионеры</td>\n",
       "      <td>операции с автомобилем</td>\n",
       "    </tr>\n",
       "    <tr>\n",
       "      <th>21451</th>\n",
       "      <td>1</td>\n",
       "      <td>-2113</td>\n",
       "      <td>38</td>\n",
       "      <td>1</td>\n",
       "      <td>1</td>\n",
       "      <td>M</td>\n",
       "      <td>сотрудник</td>\n",
       "      <td>1</td>\n",
       "      <td>89672</td>\n",
       "      <td>недвижимость</td>\n",
       "      <td>C</td>\n",
       "      <td>взрослые</td>\n",
       "      <td>операции с недвижимостью</td>\n",
       "    </tr>\n",
       "    <tr>\n",
       "      <th>21452</th>\n",
       "      <td>3</td>\n",
       "      <td>-3112</td>\n",
       "      <td>38</td>\n",
       "      <td>1</td>\n",
       "      <td>0</td>\n",
       "      <td>M</td>\n",
       "      <td>сотрудник</td>\n",
       "      <td>1</td>\n",
       "      <td>244093</td>\n",
       "      <td>на покупку своего автомобиля</td>\n",
       "      <td>B</td>\n",
       "      <td>взрослые</td>\n",
       "      <td>операции с автомобилем</td>\n",
       "    </tr>\n",
       "    <tr>\n",
       "      <th>21453</th>\n",
       "      <td>2</td>\n",
       "      <td>-1984</td>\n",
       "      <td>40</td>\n",
       "      <td>1</td>\n",
       "      <td>0</td>\n",
       "      <td>F</td>\n",
       "      <td>сотрудник</td>\n",
       "      <td>0</td>\n",
       "      <td>82047</td>\n",
       "      <td>на покупку автомобиля</td>\n",
       "      <td>C</td>\n",
       "      <td>взрослые</td>\n",
       "      <td>операции с автомобилем</td>\n",
       "    </tr>\n",
       "  </tbody>\n",
       "</table>\n",
       "<p>21353 rows × 13 columns</p>\n",
       "</div>"
      ],
      "text/plain": [
       "       children  days_employed  dob_years  education_id  family_status_id  \\\n",
       "0             1          -8437         42             0                 0   \n",
       "1             1          -4024         36             1                 0   \n",
       "2             0          -5623         33             1                 0   \n",
       "3             3          -4124         32             1                 0   \n",
       "4             0         340266         53             1                 1   \n",
       "...         ...            ...        ...           ...               ...   \n",
       "21449         1          -4529         43             1                 1   \n",
       "21450         0         343937         67             1                 0   \n",
       "21451         1          -2113         38             1                 1   \n",
       "21452         3          -3112         38             1                 0   \n",
       "21453         2          -1984         40             1                 0   \n",
       "\n",
       "      gender income_type  debt  total_income                       purpose  \\\n",
       "0          F   сотрудник     0        253875                 покупка жилья   \n",
       "1          F   сотрудник     0        112080       приобретение автомобиля   \n",
       "2          M   сотрудник     0        145885                 покупка жилья   \n",
       "3          M   сотрудник     0        267628    дополнительное образование   \n",
       "4          F   пенсионер     0        158616               сыграть свадьбу   \n",
       "...      ...         ...   ...           ...                           ...   \n",
       "21449      F   компаньон     0        224791             операции с жильем   \n",
       "21450      F   пенсионер     0        155999          сделка с автомобилем   \n",
       "21451      M   сотрудник     1         89672                  недвижимость   \n",
       "21452      M   сотрудник     1        244093  на покупку своего автомобиля   \n",
       "21453      F   сотрудник     0         82047         на покупку автомобиля   \n",
       "\n",
       "      price dob_years_category          purpose_category  \n",
       "0         B           взрослые  операции с недвижимостью  \n",
       "1         C         пенсионеры    операции с автомобилем  \n",
       "2         C            молодые  операции с недвижимостью  \n",
       "3         B            молодые     получение образования  \n",
       "4         C           взрослые        проведение свадьбы  \n",
       "...     ...                ...                       ...  \n",
       "21449     B           взрослые  операции с недвижимостью  \n",
       "21450     C         пенсионеры    операции с автомобилем  \n",
       "21451     C           взрослые  операции с недвижимостью  \n",
       "21452     B           взрослые    операции с автомобилем  \n",
       "21453     C           взрослые    операции с автомобилем  \n",
       "\n",
       "[21353 rows x 13 columns]"
      ]
     },
     "metadata": {},
     "output_type": "display_data"
    }
   ],
   "source": [
    "def purpose_new(row):\n",
    "    if 'свадьб' in row:\n",
    "        return 'проведение свадьбы'\n",
    "    elif 'недвижимост' in row or 'жиль' in row:\n",
    "        return 'операции с недвижимостью'\n",
    "    elif 'образован' in row:\n",
    "        return 'получение образования'\n",
    "    elif 'автомоб' in row:\n",
    "        return 'операции с автомобилем'\n",
    "data['purpose_category']=data['purpose'].apply(lambda row:purpose_new(row))\n",
    "\n",
    "display(data)"
   ]
  },
  {
   "cell_type": "markdown",
   "id": "80dc038f",
   "metadata": {},
   "source": [
    "### Ответы на вопросы."
   ]
  },
  {
   "cell_type": "markdown",
   "id": "05c9a3d4",
   "metadata": {},
   "source": [
    "##### Вопрос 1:Есть ли зависимость между количеством детей и возвратом кредита в срок?"
   ]
  },
  {
   "cell_type": "code",
   "execution_count": 25,
   "id": "58abdedd",
   "metadata": {},
   "outputs": [
    {
     "data": {
      "text/html": [
       "<div>\n",
       "<style scoped>\n",
       "    .dataframe tbody tr th:only-of-type {\n",
       "        vertical-align: middle;\n",
       "    }\n",
       "\n",
       "    .dataframe tbody tr th {\n",
       "        vertical-align: top;\n",
       "    }\n",
       "\n",
       "    .dataframe thead tr th {\n",
       "        text-align: left;\n",
       "    }\n",
       "\n",
       "    .dataframe thead tr:last-of-type th {\n",
       "        text-align: right;\n",
       "    }\n",
       "</style>\n",
       "<table border=\"1\" class=\"dataframe\">\n",
       "  <thead>\n",
       "    <tr>\n",
       "      <th></th>\n",
       "      <th colspan=\"2\" halign=\"left\">debt</th>\n",
       "    </tr>\n",
       "    <tr>\n",
       "      <th></th>\n",
       "      <th>count</th>\n",
       "      <th>sum</th>\n",
       "    </tr>\n",
       "    <tr>\n",
       "      <th>children</th>\n",
       "      <th></th>\n",
       "      <th></th>\n",
       "    </tr>\n",
       "  </thead>\n",
       "  <tbody>\n",
       "    <tr>\n",
       "      <th>0</th>\n",
       "      <td>14022</td>\n",
       "      <td>1058.0</td>\n",
       "    </tr>\n",
       "    <tr>\n",
       "      <th>1</th>\n",
       "      <td>4839</td>\n",
       "      <td>442.0</td>\n",
       "    </tr>\n",
       "    <tr>\n",
       "      <th>2</th>\n",
       "      <td>2114</td>\n",
       "      <td>202.0</td>\n",
       "    </tr>\n",
       "    <tr>\n",
       "      <th>3</th>\n",
       "      <td>328</td>\n",
       "      <td>27.0</td>\n",
       "    </tr>\n",
       "    <tr>\n",
       "      <th>4</th>\n",
       "      <td>41</td>\n",
       "      <td>4.0</td>\n",
       "    </tr>\n",
       "    <tr>\n",
       "      <th>5</th>\n",
       "      <td>9</td>\n",
       "      <td>0.0</td>\n",
       "    </tr>\n",
       "  </tbody>\n",
       "</table>\n",
       "</div>"
      ],
      "text/plain": [
       "           debt        \n",
       "          count     sum\n",
       "children               \n",
       "0         14022  1058.0\n",
       "1          4839   442.0\n",
       "2          2114   202.0\n",
       "3           328    27.0\n",
       "4            41     4.0\n",
       "5             9     0.0"
      ]
     },
     "metadata": {},
     "output_type": "display_data"
    },
    {
     "name": "stdout",
     "output_type": "stream",
     "text": [
      "children\n",
      "0    7.545286\n",
      "1    9.134119\n",
      "2    9.555345\n",
      "3    8.231707\n",
      "4    9.756098\n",
      "5    0.000000\n",
      "dtype: float64\n"
     ]
    },
    {
     "data": {
      "text/html": [
       "<div>\n",
       "<style scoped>\n",
       "    .dataframe tbody tr th:only-of-type {\n",
       "        vertical-align: middle;\n",
       "    }\n",
       "\n",
       "    .dataframe tbody tr th {\n",
       "        vertical-align: top;\n",
       "    }\n",
       "\n",
       "    .dataframe thead tr th {\n",
       "        text-align: left;\n",
       "    }\n",
       "\n",
       "    .dataframe thead tr:last-of-type th {\n",
       "        text-align: right;\n",
       "    }\n",
       "</style>\n",
       "<table border=\"1\" class=\"dataframe\">\n",
       "  <thead>\n",
       "    <tr>\n",
       "      <th></th>\n",
       "      <th colspan=\"2\" halign=\"left\">debt</th>\n",
       "    </tr>\n",
       "    <tr>\n",
       "      <th></th>\n",
       "      <th>count</th>\n",
       "      <th>sum</th>\n",
       "    </tr>\n",
       "    <tr>\n",
       "      <th>ch_category</th>\n",
       "      <th></th>\n",
       "      <th></th>\n",
       "    </tr>\n",
       "  </thead>\n",
       "  <tbody>\n",
       "    <tr>\n",
       "      <th>A</th>\n",
       "      <td>14022</td>\n",
       "      <td>1058.0</td>\n",
       "    </tr>\n",
       "    <tr>\n",
       "      <th>B</th>\n",
       "      <td>4839</td>\n",
       "      <td>442.0</td>\n",
       "    </tr>\n",
       "    <tr>\n",
       "      <th>C</th>\n",
       "      <td>2114</td>\n",
       "      <td>202.0</td>\n",
       "    </tr>\n",
       "    <tr>\n",
       "      <th>D</th>\n",
       "      <td>378</td>\n",
       "      <td>31.0</td>\n",
       "    </tr>\n",
       "  </tbody>\n",
       "</table>\n",
       "</div>"
      ],
      "text/plain": [
       "              debt        \n",
       "             count     sum\n",
       "ch_category               \n",
       "A            14022  1058.0\n",
       "B             4839   442.0\n",
       "C             2114   202.0\n",
       "D              378    31.0"
      ]
     },
     "metadata": {},
     "output_type": "display_data"
    },
    {
     "data": {
      "text/plain": [
       "ch_category\n",
       "A    7.545286\n",
       "B    9.134119\n",
       "C    9.555345\n",
       "D    8.201058\n",
       "dtype: float64"
      ]
     },
     "metadata": {},
     "output_type": "display_data"
    }
   ],
   "source": [
    "chil_debt=data.groupby('children').agg({'debt':['count','sum']})\n",
    "display(chil_debt)\n",
    "chil_quality=chil_debt['debt']['sum']/chil_debt['debt']['count']\n",
    "print(chil_quality*100)\n",
    "def ch3(count):\n",
    "    if count ==0:\n",
    "        return 'A'\n",
    "    elif count ==1:\n",
    "        return 'B'\n",
    "    elif count==2:\n",
    "        return 'C'\n",
    "    else:\n",
    "        return 'D'\n",
    "data['ch_category']=data['children'].apply(lambda count:ch3(count))\n",
    "#display(data)\n",
    "chil_debt1=data.groupby('ch_category').agg({'debt':['count','sum']})\n",
    "display(chil_debt1)\n",
    "chil_quality1=chil_debt1['debt']['sum']/chil_debt1['debt']['count']\n",
    "display(chil_quality1*100)"
   ]
  },
  {
   "cell_type": "markdown",
   "id": "c44d881d",
   "metadata": {},
   "source": [
    "По данным получается, что люди у которых  нет детей меньше всех просрачивают платеж, когда люди у которых 1,2 и 4 чаще остальных опоздывают с платежом по кредиту, и чуть меньше опоздывают люди у которых 3 ребенка. Вывод на глазах, дети влияют на своевременный возврат кредита, и чем больше их тем чаще нарушается график хотя и не существенно."
   ]
  },
  {
   "cell_type": "markdown",
   "id": "d78b509a",
   "metadata": {},
   "source": [
    "По попводу 5х детей не до конца понял почему тут 0 ноль появился, хотя проверял значения, может чего пропустил?"
   ]
  },
  {
   "cell_type": "markdown",
   "id": "539767d2",
   "metadata": {},
   "source": [
    "Есть ли зависимость между семейным положением и возвратом кредита в срок?\n"
   ]
  },
  {
   "cell_type": "code",
   "execution_count": 26,
   "id": "8ad4e13b",
   "metadata": {},
   "outputs": [
    {
     "data": {
      "text/html": [
       "<div>\n",
       "<style scoped>\n",
       "    .dataframe tbody tr th:only-of-type {\n",
       "        vertical-align: middle;\n",
       "    }\n",
       "\n",
       "    .dataframe tbody tr th {\n",
       "        vertical-align: top;\n",
       "    }\n",
       "\n",
       "    .dataframe thead tr th {\n",
       "        text-align: left;\n",
       "    }\n",
       "\n",
       "    .dataframe thead tr:last-of-type th {\n",
       "        text-align: right;\n",
       "    }\n",
       "</style>\n",
       "<table border=\"1\" class=\"dataframe\">\n",
       "  <thead>\n",
       "    <tr>\n",
       "      <th></th>\n",
       "      <th colspan=\"2\" halign=\"left\">debt</th>\n",
       "    </tr>\n",
       "    <tr>\n",
       "      <th></th>\n",
       "      <th>count</th>\n",
       "      <th>sum</th>\n",
       "    </tr>\n",
       "    <tr>\n",
       "      <th>family_status_id</th>\n",
       "      <th></th>\n",
       "      <th></th>\n",
       "    </tr>\n",
       "  </thead>\n",
       "  <tbody>\n",
       "    <tr>\n",
       "      <th>0</th>\n",
       "      <td>12290</td>\n",
       "      <td>927.0</td>\n",
       "    </tr>\n",
       "    <tr>\n",
       "      <th>1</th>\n",
       "      <td>4130</td>\n",
       "      <td>386.0</td>\n",
       "    </tr>\n",
       "    <tr>\n",
       "      <th>2</th>\n",
       "      <td>954</td>\n",
       "      <td>62.0</td>\n",
       "    </tr>\n",
       "    <tr>\n",
       "      <th>3</th>\n",
       "      <td>1185</td>\n",
       "      <td>85.0</td>\n",
       "    </tr>\n",
       "    <tr>\n",
       "      <th>4</th>\n",
       "      <td>2794</td>\n",
       "      <td>273.0</td>\n",
       "    </tr>\n",
       "  </tbody>\n",
       "</table>\n",
       "</div>"
      ],
      "text/plain": [
       "                   debt       \n",
       "                  count    sum\n",
       "family_status_id              \n",
       "0                 12290  927.0\n",
       "1                  4130  386.0\n",
       "2                   954   62.0\n",
       "3                  1185   85.0\n",
       "4                  2794  273.0"
      ]
     },
     "metadata": {},
     "output_type": "display_data"
    },
    {
     "data": {
      "text/plain": [
       "family_status          family_status_id\n",
       "женат / замужем        0                   12290\n",
       "гражданский брак       1                    4130\n",
       "не женат / не замужем  4                    2794\n",
       "в разводе              3                    1185\n",
       "вдовец / вдова         2                     954\n",
       "dtype: int64"
      ]
     },
     "metadata": {},
     "output_type": "display_data"
    },
    {
     "data": {
      "text/plain": [
       "family_status_id\n",
       "0    7.542718\n",
       "1    9.346247\n",
       "2    6.498952\n",
       "3    7.172996\n",
       "4    9.770938\n",
       "dtype: float64"
      ]
     },
     "metadata": {},
     "output_type": "display_data"
    }
   ],
   "source": [
    "family_grouped=data.groupby('family_status_id').agg({'debt':['count','sum']}) \n",
    "family_debt_quality=family_grouped['debt']['sum']/family_grouped['debt']['count']\n",
    "display(family_grouped)\n",
    "display(new_family.value_counts())\n",
    "display(family_debt_quality*100)"
   ]
  },
  {
   "cell_type": "markdown",
   "id": "1fc0a373",
   "metadata": {},
   "source": [
    "Из полученных данных выходи, что чаще всех просрачивают платеж по кредиту люди состоящие в гражданском браке \n",
    "и не женаты/не замужные, что собственно не удивительно)\n",
    "Реже опаздывают с платежом женаты/замужные и те кто в разводе, и реже всех просрачивают платеж вдовцы и вдовы.\n",
    "На вопрос есть ли связь между семейным положением и возвратом кредита - она есть, чем меньше у людей ответственности\n",
    "а это не замужные/не женатые и состоящие в гражданском браке тем чаще опаздывают с платежом.\n"
   ]
  },
  {
   "cell_type": "markdown",
   "id": "618984bf",
   "metadata": {},
   "source": [
    "Есть ли зависимость между уровнем дохода и возвратом кредита в срок?"
   ]
  },
  {
   "cell_type": "code",
   "execution_count": 27,
   "id": "70acc837",
   "metadata": {},
   "outputs": [
    {
     "data": {
      "text/html": [
       "<div>\n",
       "<style scoped>\n",
       "    .dataframe tbody tr th:only-of-type {\n",
       "        vertical-align: middle;\n",
       "    }\n",
       "\n",
       "    .dataframe tbody tr th {\n",
       "        vertical-align: top;\n",
       "    }\n",
       "\n",
       "    .dataframe thead th {\n",
       "        text-align: right;\n",
       "    }\n",
       "</style>\n",
       "<table border=\"1\" class=\"dataframe\">\n",
       "  <thead>\n",
       "    <tr style=\"text-align: right;\">\n",
       "      <th></th>\n",
       "      <th>count</th>\n",
       "      <th>sum</th>\n",
       "    </tr>\n",
       "    <tr>\n",
       "      <th>price</th>\n",
       "      <th></th>\n",
       "      <th></th>\n",
       "    </tr>\n",
       "  </thead>\n",
       "  <tbody>\n",
       "    <tr>\n",
       "      <th>A</th>\n",
       "      <td>25</td>\n",
       "      <td>2.0</td>\n",
       "    </tr>\n",
       "    <tr>\n",
       "      <th>B</th>\n",
       "      <td>5015</td>\n",
       "      <td>355.0</td>\n",
       "    </tr>\n",
       "    <tr>\n",
       "      <th>C</th>\n",
       "      <td>15943</td>\n",
       "      <td>1353.0</td>\n",
       "    </tr>\n",
       "    <tr>\n",
       "      <th>D</th>\n",
       "      <td>348</td>\n",
       "      <td>21.0</td>\n",
       "    </tr>\n",
       "    <tr>\n",
       "      <th>E</th>\n",
       "      <td>22</td>\n",
       "      <td>2.0</td>\n",
       "    </tr>\n",
       "  </tbody>\n",
       "</table>\n",
       "</div>"
      ],
      "text/plain": [
       "       count     sum\n",
       "price               \n",
       "A         25     2.0\n",
       "B       5015   355.0\n",
       "C      15943  1353.0\n",
       "D        348    21.0\n",
       "E         22     2.0"
      ]
     },
     "metadata": {},
     "output_type": "display_data"
    },
    {
     "data": {
      "text/plain": [
       "price\n",
       "A    8.000000\n",
       "B    7.078764\n",
       "C    8.486483\n",
       "D    6.034483\n",
       "E    9.090909\n",
       "dtype: float64"
      ]
     },
     "metadata": {},
     "output_type": "display_data"
    }
   ],
   "source": [
    "total_income_grouped=data.groupby('price').agg({'debt':['count','sum']}) \n",
    "total_debt_quality=total_income_grouped['debt']['sum']/total_income_grouped['debt']['count']\n",
    "display(total_income_grouped['debt'])\n",
    "display(total_debt_quality*100)"
   ]
  },
  {
   "cell_type": "markdown",
   "id": "9126dbd4",
   "metadata": {},
   "source": [
    "Значений для низкого и высокго заработка не большие и не думаю что они чтото покажут, а вот люди выше среднего до 1000000 - 'B'\n",
    "где то в середине списка лишь 7% , люди с заработком до 200000 -'C'- чаще просрачивают платеж,и и еще реже люди с заработком до\n",
    "50000 -'D'. \n",
    "Етсь ли зависимость между заработком и вовремя вернуть кредит, да и  зависит от уровня достатка, люди с заработком выше \n",
    "среднего и ниже меньше просрачивают по платежам, хотя люди со среднем достатком чаще грешат забывчивостью."
   ]
  },
  {
   "cell_type": "markdown",
   "id": "c92d3c45",
   "metadata": {},
   "source": [
    "Как разные цели кредита влияют на его возврат в срок?"
   ]
  },
  {
   "cell_type": "code",
   "execution_count": 28,
   "id": "310455fc",
   "metadata": {},
   "outputs": [
    {
     "data": {
      "text/html": [
       "<div>\n",
       "<style scoped>\n",
       "    .dataframe tbody tr th:only-of-type {\n",
       "        vertical-align: middle;\n",
       "    }\n",
       "\n",
       "    .dataframe tbody tr th {\n",
       "        vertical-align: top;\n",
       "    }\n",
       "\n",
       "    .dataframe thead th {\n",
       "        text-align: right;\n",
       "    }\n",
       "</style>\n",
       "<table border=\"1\" class=\"dataframe\">\n",
       "  <thead>\n",
       "    <tr style=\"text-align: right;\">\n",
       "      <th>price</th>\n",
       "      <th>A</th>\n",
       "      <th>B</th>\n",
       "      <th>C</th>\n",
       "      <th>D</th>\n",
       "      <th>E</th>\n",
       "    </tr>\n",
       "    <tr>\n",
       "      <th>dob_years_category</th>\n",
       "      <th></th>\n",
       "      <th></th>\n",
       "      <th></th>\n",
       "      <th></th>\n",
       "      <th></th>\n",
       "    </tr>\n",
       "  </thead>\n",
       "  <tbody>\n",
       "    <tr>\n",
       "      <th>взрослые</th>\n",
       "      <td>2.0</td>\n",
       "      <td>189.0</td>\n",
       "      <td>638.0</td>\n",
       "      <td>9.0</td>\n",
       "      <td>1.0</td>\n",
       "    </tr>\n",
       "    <tr>\n",
       "      <th>молодые</th>\n",
       "      <td>0.0</td>\n",
       "      <td>133.0</td>\n",
       "      <td>560.0</td>\n",
       "      <td>5.0</td>\n",
       "      <td>0.0</td>\n",
       "    </tr>\n",
       "    <tr>\n",
       "      <th>пенсионеры</th>\n",
       "      <td>0.0</td>\n",
       "      <td>33.0</td>\n",
       "      <td>155.0</td>\n",
       "      <td>7.0</td>\n",
       "      <td>1.0</td>\n",
       "    </tr>\n",
       "  </tbody>\n",
       "</table>\n",
       "</div>"
      ],
      "text/plain": [
       "price                 A      B      C    D    E\n",
       "dob_years_category                             \n",
       "взрослые            2.0  189.0  638.0  9.0  1.0\n",
       "молодые             0.0  133.0  560.0  5.0  0.0\n",
       "пенсионеры          0.0   33.0  155.0  7.0  1.0"
      ]
     },
     "metadata": {},
     "output_type": "display_data"
    }
   ],
   "source": [
    "data_pivot=data.pivot_table(index=['dob_years_category'],columns='price',values='debt',aggfunc='sum')\n",
    "display(data_pivot)"
   ]
  },
  {
   "cell_type": "markdown",
   "id": "59a888b9",
   "metadata": {},
   "source": [
    "Из сводной таблицы выходит что чаще всего опаздывают с платежом взрослые от 39 лет люди среднего достатка до 200000, примерно так же \n",
    "забывают оплатить кредит молодые люди срденего достатка, и следом но реже люди с заработком выше среднего от 39 лет до 1000000.\n",
    "В основном просрачивает средний сегмент что наверно обусловлено экономией средств, тогда как люди обеспеченые почти не забывают."
   ]
  },
  {
   "cell_type": "code",
   "execution_count": 29,
   "id": "2a0961dc",
   "metadata": {
    "scrolled": true
   },
   "outputs": [
    {
     "data": {
      "text/html": [
       "<div>\n",
       "<style scoped>\n",
       "    .dataframe tbody tr th:only-of-type {\n",
       "        vertical-align: middle;\n",
       "    }\n",
       "\n",
       "    .dataframe tbody tr th {\n",
       "        vertical-align: top;\n",
       "    }\n",
       "\n",
       "    .dataframe thead th {\n",
       "        text-align: right;\n",
       "    }\n",
       "</style>\n",
       "<table border=\"1\" class=\"dataframe\">\n",
       "  <thead>\n",
       "    <tr style=\"text-align: right;\">\n",
       "      <th></th>\n",
       "      <th>price</th>\n",
       "      <th>A</th>\n",
       "      <th>B</th>\n",
       "      <th>C</th>\n",
       "      <th>D</th>\n",
       "      <th>E</th>\n",
       "    </tr>\n",
       "    <tr>\n",
       "      <th>income_type</th>\n",
       "      <th>dob_years_category</th>\n",
       "      <th></th>\n",
       "      <th></th>\n",
       "      <th></th>\n",
       "      <th></th>\n",
       "      <th></th>\n",
       "    </tr>\n",
       "  </thead>\n",
       "  <tbody>\n",
       "    <tr>\n",
       "      <th rowspan=\"2\" valign=\"top\">безработный</th>\n",
       "      <th>взрослые</th>\n",
       "      <td>NaN</td>\n",
       "      <td>0.0</td>\n",
       "      <td>NaN</td>\n",
       "      <td>NaN</td>\n",
       "      <td>NaN</td>\n",
       "    </tr>\n",
       "    <tr>\n",
       "      <th>молодые</th>\n",
       "      <td>NaN</td>\n",
       "      <td>NaN</td>\n",
       "      <td>1.0</td>\n",
       "      <td>NaN</td>\n",
       "      <td>NaN</td>\n",
       "    </tr>\n",
       "    <tr>\n",
       "      <th>в декрете</th>\n",
       "      <th>взрослые</th>\n",
       "      <td>NaN</td>\n",
       "      <td>NaN</td>\n",
       "      <td>1.0</td>\n",
       "      <td>NaN</td>\n",
       "      <td>NaN</td>\n",
       "    </tr>\n",
       "    <tr>\n",
       "      <th rowspan=\"3\" valign=\"top\">госслужащий</th>\n",
       "      <th>взрослые</th>\n",
       "      <td>NaN</td>\n",
       "      <td>10.0</td>\n",
       "      <td>34.0</td>\n",
       "      <td>0.0</td>\n",
       "      <td>0.0</td>\n",
       "    </tr>\n",
       "    <tr>\n",
       "      <th>молодые</th>\n",
       "      <td>NaN</td>\n",
       "      <td>8.0</td>\n",
       "      <td>28.0</td>\n",
       "      <td>1.0</td>\n",
       "      <td>NaN</td>\n",
       "    </tr>\n",
       "    <tr>\n",
       "      <th>пенсионеры</th>\n",
       "      <td>NaN</td>\n",
       "      <td>0.0</td>\n",
       "      <td>5.0</td>\n",
       "      <td>NaN</td>\n",
       "      <td>NaN</td>\n",
       "    </tr>\n",
       "    <tr>\n",
       "      <th rowspan=\"3\" valign=\"top\">компаньон</th>\n",
       "      <th>взрослые</th>\n",
       "      <td>2.0</td>\n",
       "      <td>60.0</td>\n",
       "      <td>113.0</td>\n",
       "      <td>1.0</td>\n",
       "      <td>0.0</td>\n",
       "    </tr>\n",
       "    <tr>\n",
       "      <th>молодые</th>\n",
       "      <td>0.0</td>\n",
       "      <td>41.0</td>\n",
       "      <td>132.0</td>\n",
       "      <td>0.0</td>\n",
       "      <td>NaN</td>\n",
       "    </tr>\n",
       "    <tr>\n",
       "      <th>пенсионеры</th>\n",
       "      <td>0.0</td>\n",
       "      <td>9.0</td>\n",
       "      <td>17.0</td>\n",
       "      <td>0.0</td>\n",
       "      <td>NaN</td>\n",
       "    </tr>\n",
       "    <tr>\n",
       "      <th rowspan=\"3\" valign=\"top\">пенсионер</th>\n",
       "      <th>взрослые</th>\n",
       "      <td>NaN</td>\n",
       "      <td>18.0</td>\n",
       "      <td>79.0</td>\n",
       "      <td>2.0</td>\n",
       "      <td>1.0</td>\n",
       "    </tr>\n",
       "    <tr>\n",
       "      <th>молодые</th>\n",
       "      <td>NaN</td>\n",
       "      <td>0.0</td>\n",
       "      <td>1.0</td>\n",
       "      <td>NaN</td>\n",
       "      <td>NaN</td>\n",
       "    </tr>\n",
       "    <tr>\n",
       "      <th>пенсионеры</th>\n",
       "      <td>NaN</td>\n",
       "      <td>13.0</td>\n",
       "      <td>95.0</td>\n",
       "      <td>5.0</td>\n",
       "      <td>1.0</td>\n",
       "    </tr>\n",
       "    <tr>\n",
       "      <th rowspan=\"2\" valign=\"top\">предприниматель</th>\n",
       "      <th>взрослые</th>\n",
       "      <td>NaN</td>\n",
       "      <td>NaN</td>\n",
       "      <td>0.0</td>\n",
       "      <td>NaN</td>\n",
       "      <td>NaN</td>\n",
       "    </tr>\n",
       "    <tr>\n",
       "      <th>молодые</th>\n",
       "      <td>NaN</td>\n",
       "      <td>0.0</td>\n",
       "      <td>NaN</td>\n",
       "      <td>NaN</td>\n",
       "      <td>NaN</td>\n",
       "    </tr>\n",
       "    <tr>\n",
       "      <th rowspan=\"3\" valign=\"top\">сотрудник</th>\n",
       "      <th>взрослые</th>\n",
       "      <td>0.0</td>\n",
       "      <td>101.0</td>\n",
       "      <td>411.0</td>\n",
       "      <td>6.0</td>\n",
       "      <td>0.0</td>\n",
       "    </tr>\n",
       "    <tr>\n",
       "      <th>молодые</th>\n",
       "      <td>0.0</td>\n",
       "      <td>84.0</td>\n",
       "      <td>398.0</td>\n",
       "      <td>4.0</td>\n",
       "      <td>0.0</td>\n",
       "    </tr>\n",
       "    <tr>\n",
       "      <th>пенсионеры</th>\n",
       "      <td>0.0</td>\n",
       "      <td>11.0</td>\n",
       "      <td>38.0</td>\n",
       "      <td>2.0</td>\n",
       "      <td>NaN</td>\n",
       "    </tr>\n",
       "    <tr>\n",
       "      <th>студент</th>\n",
       "      <th>молодые</th>\n",
       "      <td>NaN</td>\n",
       "      <td>NaN</td>\n",
       "      <td>0.0</td>\n",
       "      <td>NaN</td>\n",
       "      <td>NaN</td>\n",
       "    </tr>\n",
       "  </tbody>\n",
       "</table>\n",
       "</div>"
      ],
      "text/plain": [
       "price                                 A      B      C    D    E\n",
       "income_type     dob_years_category                             \n",
       "безработный     взрослые            NaN    0.0    NaN  NaN  NaN\n",
       "                молодые             NaN    NaN    1.0  NaN  NaN\n",
       "в декрете       взрослые            NaN    NaN    1.0  NaN  NaN\n",
       "госслужащий     взрослые            NaN   10.0   34.0  0.0  0.0\n",
       "                молодые             NaN    8.0   28.0  1.0  NaN\n",
       "                пенсионеры          NaN    0.0    5.0  NaN  NaN\n",
       "компаньон       взрослые            2.0   60.0  113.0  1.0  0.0\n",
       "                молодые             0.0   41.0  132.0  0.0  NaN\n",
       "                пенсионеры          0.0    9.0   17.0  0.0  NaN\n",
       "пенсионер       взрослые            NaN   18.0   79.0  2.0  1.0\n",
       "                молодые             NaN    0.0    1.0  NaN  NaN\n",
       "                пенсионеры          NaN   13.0   95.0  5.0  1.0\n",
       "предприниматель взрослые            NaN    NaN    0.0  NaN  NaN\n",
       "                молодые             NaN    0.0    NaN  NaN  NaN\n",
       "сотрудник       взрослые            0.0  101.0  411.0  6.0  0.0\n",
       "                молодые             0.0   84.0  398.0  4.0  0.0\n",
       "                пенсионеры          0.0   11.0   38.0  2.0  NaN\n",
       "студент         молодые             NaN    NaN    0.0  NaN  NaN"
      ]
     },
     "metadata": {},
     "output_type": "display_data"
    }
   ],
   "source": [
    "data_pivot=data.pivot_table(index=['income_type','dob_years_category'],columns='price',values='debt',aggfunc='sum')\n",
    "display(data_pivot)"
   ]
  },
  {
   "cell_type": "markdown",
   "id": "68d881f8",
   "metadata": {},
   "source": [
    "Место работы или ее отсутствие"
   ]
  },
  {
   "cell_type": "code",
   "execution_count": 30,
   "id": "2a8ebf7d",
   "metadata": {},
   "outputs": [
    {
     "data": {
      "text/plain": [
       "purpose_category\n",
       "операции с недвижимостью    7.237087\n",
       "проведение свадьбы          7.965368\n",
       "получение образования       9.261577\n",
       "операции с автомобилем      9.337068\n",
       "dtype: float64"
      ]
     },
     "metadata": {},
     "output_type": "display_data"
    }
   ],
   "source": [
    "purpose_grouped=data.groupby('purpose_category').agg({'debt':['sum','count']})\n",
    "purpose_convers=(purpose_grouped['debt']['sum']/purpose_grouped['debt']['count'])*100\n",
    "display(purpose_convers.sort_values())"
   ]
  },
  {
   "cell_type": "markdown",
   "id": "84847442",
   "metadata": {},
   "source": [
    "цели кредита влияют на срок его погашения, и чаще других это кредиты на образование и автомобиль 9%,за проведение свадьбы и операции с недвижимостью кредиты чаще помнят и опаздывают лишь 7%"
   ]
  },
  {
   "cell_type": "markdown",
   "id": "6c0d6100",
   "metadata": {},
   "source": [
    "## Общий вывод:"
   ]
  },
  {
   "cell_type": "markdown",
   "id": "2c45f450",
   "metadata": {},
   "source": [
    "    Проделанный анализ показывает, что определенный критерии и факторы такие как должность, возраст, семейное положение, количество детей или их отсутсвие влияет на срок возврата кредита.\n",
    "    Если у человека нет детей то кредит возвращается реже, лишь в 7,5% случаях, тогда как люди с 1 ребенком и 2-мя чаще других опаздывают со сроком, 9,1% и 9,4% соответственно, и люди с 3 и более детьми просрачивают платеж в 8%, что подталкивает к выводу что люди 1 или 2 мя детьми чаще остальных забывают про кредитным обязательства.\n",
    "    Возраст заемщика, место работы. и его финансовое положение не менее показателеен при возврате кредитных средств - чаще остальных опаздывают с возвратом денег это сотрудники в взрослом и молодом возрасте со средним достатком до 200000, далее следует категория команьоны с этих же возрастных категориях со средним достатком до 200000 и меньше остальных опаздывают с платежом пенсионеры и гослужащие во взрослом возрасте со средним и высоким достатком.\n",
    "    Цели кредита так же имеют весомое значение при возврате вовремя кредитных средств. В случаях когда цель была операция с недвижимостью или на проведение свадьбы то заемщики не возвращали средства вовремя лишь в 7-8 % случаях, тогда как на образование или покупку автомобиля приводили к задержке до 9,3% случаях."
   ]
  }
 ],
 "metadata": {
  "ExecuteTimeLog": [
   {
    "duration": 504,
    "start_time": "2022-05-15T12:19:06.235Z"
   },
   {
    "duration": 77,
    "start_time": "2022-05-15T12:19:27.416Z"
   },
   {
    "duration": 77,
    "start_time": "2022-05-15T12:20:05.064Z"
   },
   {
    "duration": 72,
    "start_time": "2022-05-15T12:21:21.854Z"
   },
   {
    "duration": 68,
    "start_time": "2022-05-15T12:21:34.167Z"
   },
   {
    "duration": 78,
    "start_time": "2022-05-15T12:22:12.737Z"
   },
   {
    "duration": 83,
    "start_time": "2022-05-15T12:29:22.971Z"
   },
   {
    "duration": 21,
    "start_time": "2022-05-15T12:29:25.292Z"
   },
   {
    "duration": 79,
    "start_time": "2022-05-15T12:30:10.108Z"
   },
   {
    "duration": 10,
    "start_time": "2022-05-15T12:30:25.152Z"
   },
   {
    "duration": 6,
    "start_time": "2022-05-15T12:30:42.962Z"
   },
   {
    "duration": 14,
    "start_time": "2022-05-15T12:32:09.975Z"
   },
   {
    "duration": 88,
    "start_time": "2022-05-15T12:33:13.226Z"
   },
   {
    "duration": 17,
    "start_time": "2022-05-15T12:33:21.875Z"
   },
   {
    "duration": 21,
    "start_time": "2022-05-15T12:35:56.645Z"
   },
   {
    "duration": 15,
    "start_time": "2022-05-15T12:36:39.065Z"
   },
   {
    "duration": 8,
    "start_time": "2022-05-15T12:36:46.545Z"
   },
   {
    "duration": 22,
    "start_time": "2022-05-15T12:37:02.425Z"
   },
   {
    "duration": 5,
    "start_time": "2022-05-15T12:37:20.075Z"
   },
   {
    "duration": 21,
    "start_time": "2022-05-15T12:37:40.284Z"
   },
   {
    "duration": 77,
    "start_time": "2022-05-15T12:38:05.765Z"
   },
   {
    "duration": 42,
    "start_time": "2022-05-15T12:39:11.258Z"
   },
   {
    "duration": 10,
    "start_time": "2022-05-15T12:44:07.404Z"
   },
   {
    "duration": 47,
    "start_time": "2022-05-15T12:44:54.255Z"
   },
   {
    "duration": 48,
    "start_time": "2022-05-15T13:00:39.877Z"
   },
   {
    "duration": 50,
    "start_time": "2022-05-15T13:02:16.402Z"
   },
   {
    "duration": 55,
    "start_time": "2022-05-15T13:04:12.435Z"
   },
   {
    "duration": 26,
    "start_time": "2022-05-15T13:05:16.757Z"
   },
   {
    "duration": 16,
    "start_time": "2022-05-15T13:05:37.790Z"
   },
   {
    "duration": 30,
    "start_time": "2022-05-15T13:06:24.128Z"
   },
   {
    "duration": 69,
    "start_time": "2022-05-15T13:12:07.334Z"
   },
   {
    "duration": 37,
    "start_time": "2022-05-15T13:12:34.040Z"
   },
   {
    "duration": 5,
    "start_time": "2022-05-15T13:17:13.529Z"
   },
   {
    "duration": 39,
    "start_time": "2022-05-15T13:17:23.487Z"
   },
   {
    "duration": 39,
    "start_time": "2022-05-15T13:17:41.084Z"
   },
   {
    "duration": 11,
    "start_time": "2022-05-15T13:18:20.487Z"
   },
   {
    "duration": 31,
    "start_time": "2022-05-15T13:18:47.777Z"
   },
   {
    "duration": 13,
    "start_time": "2022-05-15T13:19:06.832Z"
   },
   {
    "duration": 78,
    "start_time": "2022-05-15T13:20:10.693Z"
   },
   {
    "duration": 11,
    "start_time": "2022-05-15T13:20:16.646Z"
   },
   {
    "duration": 99,
    "start_time": "2022-05-15T13:31:09.454Z"
   },
   {
    "duration": 91,
    "start_time": "2022-05-15T13:31:25.676Z"
   },
   {
    "duration": 4,
    "start_time": "2022-05-15T14:13:29.279Z"
   },
   {
    "duration": 6,
    "start_time": "2022-05-15T14:14:39.658Z"
   },
   {
    "duration": 5,
    "start_time": "2022-05-15T14:14:48.772Z"
   },
   {
    "duration": 83,
    "start_time": "2022-05-15T14:14:53.133Z"
   },
   {
    "duration": 86,
    "start_time": "2022-05-15T14:14:57.549Z"
   },
   {
    "duration": 89,
    "start_time": "2022-05-15T14:15:09.999Z"
   },
   {
    "duration": 11,
    "start_time": "2022-05-15T14:15:14.225Z"
   },
   {
    "duration": 90,
    "start_time": "2022-05-15T14:15:15.271Z"
   },
   {
    "duration": 23,
    "start_time": "2022-05-15T14:15:16.239Z"
   },
   {
    "duration": 4,
    "start_time": "2022-05-15T14:15:17.359Z"
   },
   {
    "duration": 13,
    "start_time": "2022-05-15T14:18:04.912Z"
   },
   {
    "duration": 106,
    "start_time": "2022-05-15T14:18:10.523Z"
   },
   {
    "duration": 11,
    "start_time": "2022-05-15T14:18:14.085Z"
   },
   {
    "duration": 96,
    "start_time": "2022-05-15T14:18:14.762Z"
   },
   {
    "duration": 31,
    "start_time": "2022-05-15T14:18:15.522Z"
   },
   {
    "duration": 13,
    "start_time": "2022-05-15T14:18:16.412Z"
   },
   {
    "duration": 88,
    "start_time": "2022-05-15T14:18:43.524Z"
   },
   {
    "duration": 11,
    "start_time": "2022-05-15T14:18:46.325Z"
   },
   {
    "duration": 13,
    "start_time": "2022-05-15T14:19:05.477Z"
   },
   {
    "duration": 16,
    "start_time": "2022-05-15T14:19:36.201Z"
   },
   {
    "duration": 87,
    "start_time": "2022-05-15T14:19:46.203Z"
   },
   {
    "duration": 15,
    "start_time": "2022-05-15T14:19:52.425Z"
   },
   {
    "duration": 31,
    "start_time": "2022-05-15T14:19:54.473Z"
   },
   {
    "duration": 13,
    "start_time": "2022-05-15T14:19:55.760Z"
   },
   {
    "duration": 8,
    "start_time": "2022-05-15T14:20:27.995Z"
   },
   {
    "duration": 9,
    "start_time": "2022-05-15T14:20:41.203Z"
   },
   {
    "duration": 13,
    "start_time": "2022-05-15T14:21:17.185Z"
   },
   {
    "duration": 11,
    "start_time": "2022-05-15T14:22:10.589Z"
   },
   {
    "duration": 84,
    "start_time": "2022-05-15T14:22:23.003Z"
   },
   {
    "duration": 10,
    "start_time": "2022-05-15T14:22:26.612Z"
   },
   {
    "duration": 23,
    "start_time": "2022-05-15T14:22:28.259Z"
   },
   {
    "duration": 12,
    "start_time": "2022-05-15T14:22:32.620Z"
   },
   {
    "duration": 9,
    "start_time": "2022-05-15T14:22:40.020Z"
   },
   {
    "duration": 71,
    "start_time": "2022-05-15T17:07:49.271Z"
   },
   {
    "duration": 717,
    "start_time": "2022-05-15T17:07:59.495Z"
   },
   {
    "duration": 15,
    "start_time": "2022-05-15T17:08:03.522Z"
   },
   {
    "duration": 42,
    "start_time": "2022-05-15T17:08:05.544Z"
   },
   {
    "duration": 25,
    "start_time": "2022-05-15T17:08:06.778Z"
   },
   {
    "duration": 14,
    "start_time": "2022-05-15T17:08:07.907Z"
   },
   {
    "duration": 60,
    "start_time": "2022-05-15T17:08:10.467Z"
   },
   {
    "duration": 60,
    "start_time": "2022-05-15T17:08:29.510Z"
   },
   {
    "duration": 40,
    "start_time": "2022-05-15T17:14:15.996Z"
   },
   {
    "duration": 105,
    "start_time": "2022-05-15T17:14:21.646Z"
   },
   {
    "duration": 49,
    "start_time": "2022-05-15T17:22:07.258Z"
   },
   {
    "duration": 13,
    "start_time": "2022-05-15T17:23:50.441Z"
   },
   {
    "duration": 19,
    "start_time": "2022-05-15T17:24:12.081Z"
   },
   {
    "duration": 32,
    "start_time": "2022-05-15T17:29:32.323Z"
   },
   {
    "duration": 20,
    "start_time": "2022-05-15T17:29:52.637Z"
   },
   {
    "duration": 2638,
    "start_time": "2022-05-15T17:36:08.938Z"
   },
   {
    "duration": 108,
    "start_time": "2022-05-15T17:36:30.138Z"
   },
   {
    "duration": 14,
    "start_time": "2022-05-15T17:36:35.245Z"
   },
   {
    "duration": 38,
    "start_time": "2022-05-15T17:36:37.407Z"
   },
   {
    "duration": 18,
    "start_time": "2022-05-15T17:36:38.576Z"
   },
   {
    "duration": 147,
    "start_time": "2022-05-15T17:36:39.919Z"
   },
   {
    "duration": 3,
    "start_time": "2022-05-15T17:36:52.100Z"
   },
   {
    "duration": 2481,
    "start_time": "2022-05-15T17:36:55.219Z"
   },
   {
    "duration": 26,
    "start_time": "2022-05-15T17:37:10.306Z"
   },
   {
    "duration": 20,
    "start_time": "2022-05-15T17:45:36.672Z"
   },
   {
    "duration": 117,
    "start_time": "2022-05-15T17:45:49.220Z"
   },
   {
    "duration": 14,
    "start_time": "2022-05-15T17:45:53.846Z"
   },
   {
    "duration": 35,
    "start_time": "2022-05-15T17:45:56.582Z"
   },
   {
    "duration": 17,
    "start_time": "2022-05-15T17:45:57.543Z"
   },
   {
    "duration": 4,
    "start_time": "2022-05-15T17:46:02.053Z"
   },
   {
    "duration": 21,
    "start_time": "2022-05-15T17:46:05.578Z"
   },
   {
    "duration": 23,
    "start_time": "2022-05-15T17:46:20.221Z"
   },
   {
    "duration": 24,
    "start_time": "2022-05-15T17:46:54.241Z"
   },
   {
    "duration": 130,
    "start_time": "2022-05-15T17:48:03.027Z"
   },
   {
    "duration": 23,
    "start_time": "2022-05-15T17:48:15.947Z"
   },
   {
    "duration": 11,
    "start_time": "2022-05-15T17:49:06.423Z"
   },
   {
    "duration": 24,
    "start_time": "2022-05-15T17:49:12.908Z"
   },
   {
    "duration": 2135,
    "start_time": "2022-05-15T17:50:14.667Z"
   },
   {
    "duration": 34,
    "start_time": "2022-05-15T17:50:32.785Z"
   },
   {
    "duration": 18,
    "start_time": "2022-05-15T17:52:19.401Z"
   },
   {
    "duration": 54,
    "start_time": "2022-05-15T17:52:41.782Z"
   },
   {
    "duration": 79,
    "start_time": "2022-05-15T17:53:23.722Z"
   },
   {
    "duration": 8,
    "start_time": "2022-05-15T17:55:12.116Z"
   },
   {
    "duration": 14,
    "start_time": "2022-05-15T17:59:18.163Z"
   },
   {
    "duration": 15,
    "start_time": "2022-05-15T17:59:32.769Z"
   },
   {
    "duration": 13,
    "start_time": "2022-05-15T17:59:43.881Z"
   },
   {
    "duration": 12,
    "start_time": "2022-05-15T18:01:34.360Z"
   },
   {
    "duration": 8,
    "start_time": "2022-05-15T18:03:15.886Z"
   },
   {
    "duration": 39,
    "start_time": "2022-05-15T18:08:54.339Z"
   },
   {
    "duration": 25,
    "start_time": "2022-05-15T18:10:05.691Z"
   },
   {
    "duration": 27,
    "start_time": "2022-05-15T18:10:41.187Z"
   },
   {
    "duration": 22,
    "start_time": "2022-05-15T18:12:28.390Z"
   },
   {
    "duration": 9,
    "start_time": "2022-05-15T18:13:08.454Z"
   },
   {
    "duration": 111,
    "start_time": "2022-05-15T18:13:33.948Z"
   },
   {
    "duration": 13,
    "start_time": "2022-05-15T18:13:37.106Z"
   },
   {
    "duration": 34,
    "start_time": "2022-05-15T18:13:39.185Z"
   },
   {
    "duration": 18,
    "start_time": "2022-05-15T18:13:40.135Z"
   },
   {
    "duration": 4,
    "start_time": "2022-05-15T18:13:44.050Z"
   },
   {
    "duration": 21,
    "start_time": "2022-05-15T18:13:46.505Z"
   },
   {
    "duration": 23,
    "start_time": "2022-05-15T18:13:50.140Z"
   },
   {
    "duration": 8,
    "start_time": "2022-05-15T18:13:53.755Z"
   },
   {
    "duration": 22,
    "start_time": "2022-05-15T18:14:01.604Z"
   },
   {
    "duration": 19,
    "start_time": "2022-05-15T18:14:55.534Z"
   },
   {
    "duration": 21,
    "start_time": "2022-05-15T18:15:28.982Z"
   },
   {
    "duration": 21,
    "start_time": "2022-05-15T18:15:58.347Z"
   },
   {
    "duration": 8,
    "start_time": "2022-05-15T18:16:25.372Z"
   },
   {
    "duration": 27,
    "start_time": "2022-05-15T18:17:46.313Z"
   },
   {
    "duration": 44,
    "start_time": "2022-05-15T18:18:05.456Z"
   },
   {
    "duration": 25,
    "start_time": "2022-05-15T18:19:37.727Z"
   },
   {
    "duration": 15,
    "start_time": "2022-05-15T18:23:10.614Z"
   },
   {
    "duration": 13,
    "start_time": "2022-05-15T18:24:41.706Z"
   },
   {
    "duration": 18,
    "start_time": "2022-05-15T18:25:40.597Z"
   },
   {
    "duration": 23,
    "start_time": "2022-05-15T18:25:49.712Z"
   },
   {
    "duration": 15,
    "start_time": "2022-05-15T18:25:50.779Z"
   },
   {
    "duration": 108,
    "start_time": "2022-05-15T18:26:22.969Z"
   },
   {
    "duration": 13,
    "start_time": "2022-05-15T18:26:26.577Z"
   },
   {
    "duration": 35,
    "start_time": "2022-05-15T18:26:28.109Z"
   },
   {
    "duration": 19,
    "start_time": "2022-05-15T18:26:29.212Z"
   },
   {
    "duration": 3,
    "start_time": "2022-05-15T18:26:31.988Z"
   },
   {
    "duration": 23,
    "start_time": "2022-05-15T18:26:34.030Z"
   },
   {
    "duration": 23,
    "start_time": "2022-05-15T18:26:35.767Z"
   },
   {
    "duration": 8,
    "start_time": "2022-05-15T18:26:40.777Z"
   },
   {
    "duration": 24,
    "start_time": "2022-05-15T18:26:41.834Z"
   },
   {
    "duration": 18,
    "start_time": "2022-05-15T18:26:43.745Z"
   },
   {
    "duration": 15,
    "start_time": "2022-05-15T18:27:35.522Z"
   },
   {
    "duration": 15,
    "start_time": "2022-05-15T18:29:23.780Z"
   },
   {
    "duration": 14,
    "start_time": "2022-05-15T18:30:09.070Z"
   },
   {
    "duration": 14,
    "start_time": "2022-05-15T18:30:22.354Z"
   },
   {
    "duration": 16,
    "start_time": "2022-05-15T18:30:43.018Z"
   },
   {
    "duration": 19,
    "start_time": "2022-05-15T18:32:10.494Z"
   },
   {
    "duration": 26,
    "start_time": "2022-05-15T18:33:28.512Z"
   },
   {
    "duration": 29,
    "start_time": "2022-05-15T18:33:39.840Z"
   },
   {
    "duration": 26,
    "start_time": "2022-05-15T18:34:19.347Z"
   },
   {
    "duration": 26,
    "start_time": "2022-05-15T18:34:20.368Z"
   },
   {
    "duration": 21,
    "start_time": "2022-05-15T18:34:39.044Z"
   },
   {
    "duration": 24,
    "start_time": "2022-05-15T18:35:56.750Z"
   },
   {
    "duration": 131,
    "start_time": "2022-05-15T18:38:06.368Z"
   },
   {
    "duration": 7,
    "start_time": "2022-05-15T18:38:12.712Z"
   },
   {
    "duration": 22,
    "start_time": "2022-05-15T18:54:26.524Z"
   },
   {
    "duration": 26,
    "start_time": "2022-05-15T18:54:28.711Z"
   },
   {
    "duration": 14,
    "start_time": "2022-05-15T18:54:48.857Z"
   },
   {
    "duration": 27,
    "start_time": "2022-05-15T18:55:04.046Z"
   },
   {
    "duration": 14,
    "start_time": "2022-05-15T18:56:33.635Z"
   },
   {
    "duration": 8,
    "start_time": "2022-05-15T18:56:58.028Z"
   },
   {
    "duration": 14,
    "start_time": "2022-05-15T18:58:38.458Z"
   },
   {
    "duration": 46,
    "start_time": "2022-05-15T19:00:29.198Z"
   },
   {
    "duration": 26,
    "start_time": "2022-05-15T19:00:36.148Z"
   },
   {
    "duration": 28,
    "start_time": "2022-05-15T19:00:44.488Z"
   },
   {
    "duration": 14,
    "start_time": "2022-05-15T19:19:02.449Z"
   },
   {
    "duration": 15,
    "start_time": "2022-05-15T19:19:12.839Z"
   },
   {
    "duration": 16,
    "start_time": "2022-05-15T19:20:46.705Z"
   },
   {
    "duration": 18,
    "start_time": "2022-05-15T19:31:20.904Z"
   },
   {
    "duration": 12,
    "start_time": "2022-05-15T19:31:44.853Z"
   },
   {
    "duration": 19,
    "start_time": "2022-05-15T19:31:51.799Z"
   },
   {
    "duration": 17,
    "start_time": "2022-05-15T19:33:25.809Z"
   },
   {
    "duration": 15,
    "start_time": "2022-05-15T19:34:37.786Z"
   },
   {
    "duration": 9,
    "start_time": "2022-05-15T19:36:01.088Z"
   },
   {
    "duration": 16,
    "start_time": "2022-05-15T19:36:08.211Z"
   },
   {
    "duration": 19,
    "start_time": "2022-05-15T19:36:18.993Z"
   },
   {
    "duration": 17,
    "start_time": "2022-05-15T19:38:29.109Z"
   },
   {
    "duration": 118,
    "start_time": "2022-05-15T19:38:35.640Z"
   },
   {
    "duration": 20,
    "start_time": "2022-05-15T19:38:37.880Z"
   },
   {
    "duration": 36,
    "start_time": "2022-05-15T19:38:39.330Z"
   },
   {
    "duration": 16,
    "start_time": "2022-05-15T19:38:39.953Z"
   },
   {
    "duration": 4,
    "start_time": "2022-05-15T19:38:41.567Z"
   },
   {
    "duration": 20,
    "start_time": "2022-05-15T19:38:43.372Z"
   },
   {
    "duration": 22,
    "start_time": "2022-05-15T19:38:44.670Z"
   },
   {
    "duration": 6,
    "start_time": "2022-05-15T19:38:46.302Z"
   },
   {
    "duration": 12,
    "start_time": "2022-05-15T19:38:47.265Z"
   },
   {
    "duration": 45,
    "start_time": "2022-05-15T19:38:49.178Z"
   },
   {
    "duration": 26,
    "start_time": "2022-05-15T19:38:50.201Z"
   },
   {
    "duration": 24,
    "start_time": "2022-05-15T19:38:52.123Z"
   },
   {
    "duration": 14,
    "start_time": "2022-05-15T19:38:53.447Z"
   },
   {
    "duration": 15,
    "start_time": "2022-05-15T19:38:54.369Z"
   },
   {
    "duration": 24,
    "start_time": "2022-05-15T19:38:55.426Z"
   },
   {
    "duration": 45,
    "start_time": "2022-05-16T06:49:18.321Z"
   },
   {
    "duration": 498,
    "start_time": "2022-05-16T06:49:33.753Z"
   },
   {
    "duration": 10,
    "start_time": "2022-05-16T06:49:37.769Z"
   },
   {
    "duration": 21,
    "start_time": "2022-05-16T06:49:39.270Z"
   },
   {
    "duration": 12,
    "start_time": "2022-05-16T06:49:40.475Z"
   },
   {
    "duration": 2,
    "start_time": "2022-05-16T06:49:42.311Z"
   },
   {
    "duration": 14,
    "start_time": "2022-05-16T06:49:43.920Z"
   },
   {
    "duration": 15,
    "start_time": "2022-05-16T06:49:47.981Z"
   },
   {
    "duration": 5,
    "start_time": "2022-05-16T06:49:51.263Z"
   },
   {
    "duration": 9,
    "start_time": "2022-05-16T06:49:53.073Z"
   },
   {
    "duration": 29,
    "start_time": "2022-05-16T06:49:53.957Z"
   },
   {
    "duration": 18,
    "start_time": "2022-05-16T06:49:55.550Z"
   },
   {
    "duration": 14,
    "start_time": "2022-05-16T06:49:56.971Z"
   },
   {
    "duration": 13,
    "start_time": "2022-05-16T06:50:02.365Z"
   },
   {
    "duration": 9,
    "start_time": "2022-05-16T06:50:04.469Z"
   },
   {
    "duration": 15,
    "start_time": "2022-05-16T06:50:05.780Z"
   },
   {
    "duration": 31,
    "start_time": "2022-05-16T06:50:45.629Z"
   },
   {
    "duration": 83,
    "start_time": "2022-05-16T06:51:03.269Z"
   },
   {
    "duration": 9,
    "start_time": "2022-05-16T06:51:05.603Z"
   },
   {
    "duration": 22,
    "start_time": "2022-05-16T06:51:06.992Z"
   },
   {
    "duration": 12,
    "start_time": "2022-05-16T06:51:07.831Z"
   },
   {
    "duration": 2,
    "start_time": "2022-05-16T06:51:09.269Z"
   },
   {
    "duration": 13,
    "start_time": "2022-05-16T06:51:10.431Z"
   },
   {
    "duration": 15,
    "start_time": "2022-05-16T06:51:11.881Z"
   },
   {
    "duration": 5,
    "start_time": "2022-05-16T06:51:13.709Z"
   },
   {
    "duration": 8,
    "start_time": "2022-05-16T06:51:14.231Z"
   },
   {
    "duration": 33,
    "start_time": "2022-05-16T06:51:15.157Z"
   },
   {
    "duration": 18,
    "start_time": "2022-05-16T06:51:15.868Z"
   },
   {
    "duration": 14,
    "start_time": "2022-05-16T06:51:16.550Z"
   },
   {
    "duration": 10,
    "start_time": "2022-05-16T06:51:18.623Z"
   },
   {
    "duration": 12,
    "start_time": "2022-05-16T06:51:19.348Z"
   },
   {
    "duration": 16,
    "start_time": "2022-05-16T06:51:20.390Z"
   },
   {
    "duration": 10,
    "start_time": "2022-05-16T06:53:13.109Z"
   },
   {
    "duration": 15,
    "start_time": "2022-05-16T06:53:31.231Z"
   },
   {
    "duration": 492,
    "start_time": "2022-05-16T06:54:07.648Z"
   },
   {
    "duration": 11,
    "start_time": "2022-05-16T06:54:08.141Z"
   },
   {
    "duration": 29,
    "start_time": "2022-05-16T06:54:08.153Z"
   },
   {
    "duration": 10,
    "start_time": "2022-05-16T06:54:08.184Z"
   },
   {
    "duration": 2,
    "start_time": "2022-05-16T06:54:08.196Z"
   },
   {
    "duration": 15,
    "start_time": "2022-05-16T06:54:08.199Z"
   },
   {
    "duration": 14,
    "start_time": "2022-05-16T06:54:08.216Z"
   },
   {
    "duration": 4,
    "start_time": "2022-05-16T06:54:08.232Z"
   },
   {
    "duration": 38,
    "start_time": "2022-05-16T06:54:08.237Z"
   },
   {
    "duration": 29,
    "start_time": "2022-05-16T06:54:08.278Z"
   },
   {
    "duration": 18,
    "start_time": "2022-05-16T06:54:08.309Z"
   },
   {
    "duration": 44,
    "start_time": "2022-05-16T06:54:08.328Z"
   },
   {
    "duration": 9,
    "start_time": "2022-05-16T06:54:08.374Z"
   },
   {
    "duration": 13,
    "start_time": "2022-05-16T06:54:08.384Z"
   },
   {
    "duration": 28,
    "start_time": "2022-05-16T06:54:08.399Z"
   },
   {
    "duration": 126,
    "start_time": "2022-05-16T07:10:42.839Z"
   },
   {
    "duration": 96,
    "start_time": "2022-05-16T07:11:16.075Z"
   },
   {
    "duration": 893,
    "start_time": "2022-05-16T07:11:34.152Z"
   },
   {
    "duration": 103,
    "start_time": "2022-05-16T07:11:47.000Z"
   },
   {
    "duration": 94,
    "start_time": "2022-05-16T07:23:06.000Z"
   },
   {
    "duration": 103,
    "start_time": "2022-05-16T07:23:44.952Z"
   },
   {
    "duration": 103,
    "start_time": "2022-05-16T07:23:57.952Z"
   },
   {
    "duration": 75,
    "start_time": "2022-05-16T07:24:23.992Z"
   },
   {
    "duration": 78,
    "start_time": "2022-05-16T07:24:46.032Z"
   },
   {
    "duration": 118,
    "start_time": "2022-05-16T07:24:53.614Z"
   },
   {
    "duration": 416,
    "start_time": "2022-05-16T07:31:24.712Z"
   },
   {
    "duration": 461,
    "start_time": "2022-05-16T07:32:13.487Z"
   },
   {
    "duration": 10,
    "start_time": "2022-05-16T07:32:13.949Z"
   },
   {
    "duration": 27,
    "start_time": "2022-05-16T07:32:13.961Z"
   },
   {
    "duration": 11,
    "start_time": "2022-05-16T07:32:13.990Z"
   },
   {
    "duration": 2,
    "start_time": "2022-05-16T07:32:14.003Z"
   },
   {
    "duration": 15,
    "start_time": "2022-05-16T07:32:14.006Z"
   },
   {
    "duration": 14,
    "start_time": "2022-05-16T07:32:14.023Z"
   },
   {
    "duration": 4,
    "start_time": "2022-05-16T07:32:14.038Z"
   },
   {
    "duration": 8,
    "start_time": "2022-05-16T07:32:14.071Z"
   },
   {
    "duration": 30,
    "start_time": "2022-05-16T07:32:14.081Z"
   },
   {
    "duration": 17,
    "start_time": "2022-05-16T07:32:14.113Z"
   },
   {
    "duration": 41,
    "start_time": "2022-05-16T07:32:14.131Z"
   },
   {
    "duration": 15,
    "start_time": "2022-05-16T07:32:14.174Z"
   },
   {
    "duration": 17,
    "start_time": "2022-05-16T07:32:14.190Z"
   },
   {
    "duration": 24,
    "start_time": "2022-05-16T07:32:14.208Z"
   },
   {
    "duration": 404,
    "start_time": "2022-05-16T07:32:14.234Z"
   },
   {
    "duration": 22,
    "start_time": "2022-05-16T07:32:58.346Z"
   },
   {
    "duration": 15,
    "start_time": "2022-05-16T07:36:29.426Z"
   },
   {
    "duration": 8,
    "start_time": "2022-05-16T07:37:11.425Z"
   },
   {
    "duration": 93,
    "start_time": "2022-05-16T07:42:02.627Z"
   },
   {
    "duration": 569,
    "start_time": "2022-05-16T07:42:09.618Z"
   },
   {
    "duration": 353,
    "start_time": "2022-05-16T07:42:42.106Z"
   },
   {
    "duration": 21,
    "start_time": "2022-05-16T07:43:40.106Z"
   },
   {
    "duration": 7,
    "start_time": "2022-05-16T07:43:42.484Z"
   },
   {
    "duration": 401,
    "start_time": "2022-05-16T07:43:43.346Z"
   },
   {
    "duration": 1785,
    "start_time": "2022-05-16T07:44:08.004Z"
   },
   {
    "duration": 13,
    "start_time": "2022-05-16T07:44:49.226Z"
   },
   {
    "duration": 22,
    "start_time": "2022-05-16T07:44:57.266Z"
   },
   {
    "duration": 20,
    "start_time": "2022-05-16T07:45:47.307Z"
   },
   {
    "duration": 24,
    "start_time": "2022-05-16T07:56:05.346Z"
   },
   {
    "duration": 22,
    "start_time": "2022-05-16T07:58:05.874Z"
   },
   {
    "duration": 7,
    "start_time": "2022-05-16T08:08:08.767Z"
   },
   {
    "duration": 9,
    "start_time": "2022-05-16T08:08:24.186Z"
   },
   {
    "duration": 8,
    "start_time": "2022-05-16T08:08:30.025Z"
   },
   {
    "duration": 7,
    "start_time": "2022-05-16T08:08:34.315Z"
   },
   {
    "duration": 7,
    "start_time": "2022-05-16T08:08:39.065Z"
   },
   {
    "duration": 8,
    "start_time": "2022-05-16T08:10:52.265Z"
   },
   {
    "duration": 87,
    "start_time": "2022-05-16T08:11:47.113Z"
   },
   {
    "duration": 72,
    "start_time": "2022-05-16T08:12:13.639Z"
   },
   {
    "duration": 87,
    "start_time": "2022-05-16T08:15:11.145Z"
   },
   {
    "duration": 4,
    "start_time": "2022-05-16T08:16:25.822Z"
   },
   {
    "duration": 4,
    "start_time": "2022-05-16T08:23:07.545Z"
   },
   {
    "duration": 7,
    "start_time": "2022-05-16T08:28:08.545Z"
   },
   {
    "duration": 7,
    "start_time": "2022-05-16T08:29:49.105Z"
   },
   {
    "duration": 9,
    "start_time": "2022-05-16T08:33:04.266Z"
   },
   {
    "duration": 8,
    "start_time": "2022-05-16T08:34:33.905Z"
   },
   {
    "duration": 434,
    "start_time": "2022-05-16T08:35:05.628Z"
   },
   {
    "duration": 11,
    "start_time": "2022-05-16T08:35:06.064Z"
   },
   {
    "duration": 27,
    "start_time": "2022-05-16T08:35:06.076Z"
   },
   {
    "duration": 12,
    "start_time": "2022-05-16T08:35:06.105Z"
   },
   {
    "duration": 2,
    "start_time": "2022-05-16T08:35:06.119Z"
   },
   {
    "duration": 15,
    "start_time": "2022-05-16T08:35:06.122Z"
   },
   {
    "duration": 40,
    "start_time": "2022-05-16T08:35:06.139Z"
   },
   {
    "duration": 5,
    "start_time": "2022-05-16T08:35:06.180Z"
   },
   {
    "duration": 13,
    "start_time": "2022-05-16T08:35:06.187Z"
   },
   {
    "duration": 32,
    "start_time": "2022-05-16T08:35:06.202Z"
   },
   {
    "duration": 44,
    "start_time": "2022-05-16T08:35:06.236Z"
   },
   {
    "duration": 15,
    "start_time": "2022-05-16T08:35:06.282Z"
   },
   {
    "duration": 18,
    "start_time": "2022-05-16T08:35:06.299Z"
   },
   {
    "duration": 13,
    "start_time": "2022-05-16T08:35:06.319Z"
   },
   {
    "duration": 17,
    "start_time": "2022-05-16T08:35:06.334Z"
   },
   {
    "duration": 39,
    "start_time": "2022-05-16T08:35:06.353Z"
   },
   {
    "duration": 10,
    "start_time": "2022-05-16T08:35:06.393Z"
   },
   {
    "duration": 82,
    "start_time": "2022-05-16T08:35:06.404Z"
   },
   {
    "duration": 19,
    "start_time": "2022-05-16T08:35:30.229Z"
   },
   {
    "duration": 22,
    "start_time": "2022-05-16T08:42:20.561Z"
   },
   {
    "duration": 28,
    "start_time": "2022-05-16T08:43:20.188Z"
   },
   {
    "duration": 23,
    "start_time": "2022-05-16T08:43:52.268Z"
   },
   {
    "duration": 23,
    "start_time": "2022-05-16T09:01:42.323Z"
   },
   {
    "duration": 19,
    "start_time": "2022-05-16T09:03:36.148Z"
   },
   {
    "duration": 18,
    "start_time": "2022-05-16T09:03:58.868Z"
   },
   {
    "duration": 93,
    "start_time": "2022-05-16T09:05:00.468Z"
   },
   {
    "duration": 20,
    "start_time": "2022-05-16T09:05:11.749Z"
   },
   {
    "duration": 29,
    "start_time": "2022-05-16T09:08:19.149Z"
   },
   {
    "duration": 1377,
    "start_time": "2022-05-16T09:09:40.954Z"
   },
   {
    "duration": 511,
    "start_time": "2022-05-16T09:09:57.443Z"
   },
   {
    "duration": 10,
    "start_time": "2022-05-16T09:09:57.956Z"
   },
   {
    "duration": 23,
    "start_time": "2022-05-16T09:09:57.967Z"
   },
   {
    "duration": 11,
    "start_time": "2022-05-16T09:09:57.991Z"
   },
   {
    "duration": 2,
    "start_time": "2022-05-16T09:09:58.004Z"
   },
   {
    "duration": 15,
    "start_time": "2022-05-16T09:09:58.008Z"
   },
   {
    "duration": 13,
    "start_time": "2022-05-16T09:09:58.025Z"
   },
   {
    "duration": 34,
    "start_time": "2022-05-16T09:09:58.071Z"
   },
   {
    "duration": 9,
    "start_time": "2022-05-16T09:09:58.107Z"
   },
   {
    "duration": 55,
    "start_time": "2022-05-16T09:09:58.117Z"
   },
   {
    "duration": 17,
    "start_time": "2022-05-16T09:09:58.173Z"
   },
   {
    "duration": 13,
    "start_time": "2022-05-16T09:09:58.192Z"
   },
   {
    "duration": 12,
    "start_time": "2022-05-16T09:09:58.207Z"
   },
   {
    "duration": 9,
    "start_time": "2022-05-16T09:09:58.221Z"
   },
   {
    "duration": 40,
    "start_time": "2022-05-16T09:09:58.232Z"
   },
   {
    "duration": 23,
    "start_time": "2022-05-16T09:09:58.273Z"
   },
   {
    "duration": 6,
    "start_time": "2022-05-16T09:09:58.298Z"
   },
   {
    "duration": 24,
    "start_time": "2022-05-16T09:09:58.305Z"
   },
   {
    "duration": 61,
    "start_time": "2022-05-16T09:09:58.330Z"
   },
   {
    "duration": 11,
    "start_time": "2022-05-16T09:10:52.269Z"
   },
   {
    "duration": 64,
    "start_time": "2022-05-16T09:11:07.268Z"
   },
   {
    "duration": 488,
    "start_time": "2022-05-16T09:11:12.763Z"
   },
   {
    "duration": 10,
    "start_time": "2022-05-16T09:11:13.253Z"
   },
   {
    "duration": 25,
    "start_time": "2022-05-16T09:11:13.264Z"
   },
   {
    "duration": 12,
    "start_time": "2022-05-16T09:11:13.291Z"
   },
   {
    "duration": 2,
    "start_time": "2022-05-16T09:11:13.305Z"
   },
   {
    "duration": 17,
    "start_time": "2022-05-16T09:11:13.309Z"
   },
   {
    "duration": 16,
    "start_time": "2022-05-16T09:11:13.328Z"
   },
   {
    "duration": 33,
    "start_time": "2022-05-16T09:11:13.371Z"
   },
   {
    "duration": 9,
    "start_time": "2022-05-16T09:11:13.405Z"
   },
   {
    "duration": 32,
    "start_time": "2022-05-16T09:11:13.416Z"
   },
   {
    "duration": 19,
    "start_time": "2022-05-16T09:11:13.470Z"
   },
   {
    "duration": 11,
    "start_time": "2022-05-16T09:11:13.490Z"
   },
   {
    "duration": 14,
    "start_time": "2022-05-16T09:11:13.502Z"
   },
   {
    "duration": 12,
    "start_time": "2022-05-16T09:11:13.517Z"
   },
   {
    "duration": 41,
    "start_time": "2022-05-16T09:11:13.531Z"
   },
   {
    "duration": 25,
    "start_time": "2022-05-16T09:11:13.574Z"
   },
   {
    "duration": 8,
    "start_time": "2022-05-16T09:11:13.600Z"
   },
   {
    "duration": 22,
    "start_time": "2022-05-16T09:11:13.609Z"
   },
   {
    "duration": 58,
    "start_time": "2022-05-16T09:11:13.633Z"
   },
   {
    "duration": 76,
    "start_time": "2022-05-16T09:12:01.505Z"
   },
   {
    "duration": 11,
    "start_time": "2022-05-16T09:12:05.003Z"
   },
   {
    "duration": 19,
    "start_time": "2022-05-16T09:12:06.826Z"
   },
   {
    "duration": 11,
    "start_time": "2022-05-16T09:12:08.025Z"
   },
   {
    "duration": 2,
    "start_time": "2022-05-16T09:12:11.266Z"
   },
   {
    "duration": 14,
    "start_time": "2022-05-16T09:12:13.145Z"
   },
   {
    "duration": 15,
    "start_time": "2022-05-16T09:12:16.065Z"
   },
   {
    "duration": 34,
    "start_time": "2022-05-16T09:12:21.304Z"
   },
   {
    "duration": 9,
    "start_time": "2022-05-16T09:12:22.665Z"
   },
   {
    "duration": 37,
    "start_time": "2022-05-16T09:12:23.746Z"
   },
   {
    "duration": 17,
    "start_time": "2022-05-16T09:12:27.625Z"
   },
   {
    "duration": 11,
    "start_time": "2022-05-16T09:12:31.864Z"
   },
   {
    "duration": 10,
    "start_time": "2022-05-16T09:12:34.866Z"
   },
   {
    "duration": 11,
    "start_time": "2022-05-16T09:12:49.031Z"
   },
   {
    "duration": 16,
    "start_time": "2022-05-16T09:12:54.986Z"
   },
   {
    "duration": 23,
    "start_time": "2022-05-16T09:12:57.986Z"
   },
   {
    "duration": 7,
    "start_time": "2022-05-16T09:13:33.905Z"
   },
   {
    "duration": 22,
    "start_time": "2022-05-16T09:13:35.985Z"
   },
   {
    "duration": 1626,
    "start_time": "2022-05-16T09:14:05.065Z"
   },
   {
    "duration": 82,
    "start_time": "2022-05-16T09:14:19.347Z"
   },
   {
    "duration": 10,
    "start_time": "2022-05-16T09:14:21.544Z"
   },
   {
    "duration": 21,
    "start_time": "2022-05-16T09:14:22.544Z"
   },
   {
    "duration": 12,
    "start_time": "2022-05-16T09:14:27.224Z"
   },
   {
    "duration": 2,
    "start_time": "2022-05-16T09:14:29.787Z"
   },
   {
    "duration": 13,
    "start_time": "2022-05-16T09:14:31.465Z"
   },
   {
    "duration": 16,
    "start_time": "2022-05-16T09:14:33.305Z"
   },
   {
    "duration": 33,
    "start_time": "2022-05-16T09:14:35.025Z"
   },
   {
    "duration": 8,
    "start_time": "2022-05-16T09:14:36.745Z"
   },
   {
    "duration": 31,
    "start_time": "2022-05-16T09:14:38.705Z"
   },
   {
    "duration": 17,
    "start_time": "2022-05-16T09:14:40.105Z"
   },
   {
    "duration": 12,
    "start_time": "2022-05-16T09:14:41.107Z"
   },
   {
    "duration": 11,
    "start_time": "2022-05-16T09:14:46.108Z"
   },
   {
    "duration": 12,
    "start_time": "2022-05-16T09:14:46.945Z"
   },
   {
    "duration": 19,
    "start_time": "2022-05-16T09:14:51.625Z"
   },
   {
    "duration": 23,
    "start_time": "2022-05-16T09:15:00.665Z"
   },
   {
    "duration": 8,
    "start_time": "2022-05-16T09:15:02.624Z"
   },
   {
    "duration": 22,
    "start_time": "2022-05-16T09:15:04.507Z"
   },
   {
    "duration": 39,
    "start_time": "2022-05-16T09:15:27.168Z"
   },
   {
    "duration": 37,
    "start_time": "2022-05-16T09:15:31.705Z"
   },
   {
    "duration": 28,
    "start_time": "2022-05-16T09:15:36.945Z"
   },
   {
    "duration": 22,
    "start_time": "2022-05-16T09:15:59.225Z"
   },
   {
    "duration": 33,
    "start_time": "2022-05-16T09:16:06.346Z"
   },
   {
    "duration": 22,
    "start_time": "2022-05-16T09:16:09.974Z"
   },
   {
    "duration": 26,
    "start_time": "2022-05-16T09:51:07.592Z"
   },
   {
    "duration": 25,
    "start_time": "2022-05-16T09:51:44.025Z"
   },
   {
    "duration": 17,
    "start_time": "2022-05-16T09:54:32.984Z"
   },
   {
    "duration": 25,
    "start_time": "2022-05-16T09:54:46.223Z"
   },
   {
    "duration": 26,
    "start_time": "2022-05-16T09:55:14.223Z"
   },
   {
    "duration": 1400,
    "start_time": "2022-05-16T09:57:40.040Z"
   },
   {
    "duration": 498,
    "start_time": "2022-05-16T09:57:47.045Z"
   },
   {
    "duration": 9,
    "start_time": "2022-05-16T09:57:47.545Z"
   },
   {
    "duration": 34,
    "start_time": "2022-05-16T09:57:47.556Z"
   },
   {
    "duration": 11,
    "start_time": "2022-05-16T09:57:47.591Z"
   },
   {
    "duration": 2,
    "start_time": "2022-05-16T09:57:47.604Z"
   },
   {
    "duration": 15,
    "start_time": "2022-05-16T09:57:47.607Z"
   },
   {
    "duration": 14,
    "start_time": "2022-05-16T09:57:47.624Z"
   },
   {
    "duration": 67,
    "start_time": "2022-05-16T09:57:47.640Z"
   },
   {
    "duration": 8,
    "start_time": "2022-05-16T09:57:47.708Z"
   },
   {
    "duration": 88,
    "start_time": "2022-05-16T09:57:47.718Z"
   },
   {
    "duration": 17,
    "start_time": "2022-05-16T09:57:47.808Z"
   },
   {
    "duration": 11,
    "start_time": "2022-05-16T09:57:47.826Z"
   },
   {
    "duration": 10,
    "start_time": "2022-05-16T09:57:47.838Z"
   },
   {
    "duration": 19,
    "start_time": "2022-05-16T09:57:47.870Z"
   },
   {
    "duration": 18,
    "start_time": "2022-05-16T09:57:47.891Z"
   },
   {
    "duration": 22,
    "start_time": "2022-05-16T09:57:47.911Z"
   },
   {
    "duration": 8,
    "start_time": "2022-05-16T09:57:47.935Z"
   },
   {
    "duration": 54,
    "start_time": "2022-05-16T09:57:47.944Z"
   },
   {
    "duration": 1435,
    "start_time": "2022-05-16T09:58:53.385Z"
   },
   {
    "duration": 84,
    "start_time": "2022-05-16T09:59:13.824Z"
   },
   {
    "duration": 10,
    "start_time": "2022-05-16T09:59:16.744Z"
   },
   {
    "duration": 21,
    "start_time": "2022-05-16T09:59:18.186Z"
   },
   {
    "duration": 12,
    "start_time": "2022-05-16T09:59:19.825Z"
   },
   {
    "duration": 2,
    "start_time": "2022-05-16T09:59:22.347Z"
   },
   {
    "duration": 12,
    "start_time": "2022-05-16T09:59:23.947Z"
   },
   {
    "duration": 17,
    "start_time": "2022-05-16T09:59:25.864Z"
   },
   {
    "duration": 37,
    "start_time": "2022-05-16T09:59:28.741Z"
   },
   {
    "duration": 9,
    "start_time": "2022-05-16T09:59:29.544Z"
   },
   {
    "duration": 61,
    "start_time": "2022-05-16T09:59:30.984Z"
   },
   {
    "duration": 17,
    "start_time": "2022-05-16T09:59:35.544Z"
   },
   {
    "duration": 11,
    "start_time": "2022-05-16T09:59:39.024Z"
   },
   {
    "duration": 12,
    "start_time": "2022-05-16T09:59:42.624Z"
   },
   {
    "duration": 10,
    "start_time": "2022-05-16T09:59:49.104Z"
   },
   {
    "duration": 17,
    "start_time": "2022-05-16T09:59:53.384Z"
   },
   {
    "duration": 22,
    "start_time": "2022-05-16T10:00:06.344Z"
   },
   {
    "duration": 7,
    "start_time": "2022-05-16T10:00:11.464Z"
   },
   {
    "duration": 23,
    "start_time": "2022-05-16T10:00:12.896Z"
   },
   {
    "duration": 1393,
    "start_time": "2022-05-16T10:02:43.664Z"
   },
   {
    "duration": 75,
    "start_time": "2022-05-16T10:02:52.825Z"
   },
   {
    "duration": 10,
    "start_time": "2022-05-16T10:02:55.105Z"
   },
   {
    "duration": 21,
    "start_time": "2022-05-16T10:02:56.184Z"
   },
   {
    "duration": 12,
    "start_time": "2022-05-16T10:02:56.846Z"
   },
   {
    "duration": 2,
    "start_time": "2022-05-16T10:02:58.185Z"
   },
   {
    "duration": 15,
    "start_time": "2022-05-16T10:02:59.344Z"
   },
   {
    "duration": 15,
    "start_time": "2022-05-16T10:03:00.937Z"
   },
   {
    "duration": 39,
    "start_time": "2022-05-16T10:03:02.744Z"
   },
   {
    "duration": 9,
    "start_time": "2022-05-16T10:03:04.632Z"
   },
   {
    "duration": 64,
    "start_time": "2022-05-16T10:03:06.768Z"
   },
   {
    "duration": 17,
    "start_time": "2022-05-16T10:03:11.304Z"
   },
   {
    "duration": 14,
    "start_time": "2022-05-16T10:03:17.872Z"
   },
   {
    "duration": 12,
    "start_time": "2022-05-16T10:03:22.024Z"
   },
   {
    "duration": 47,
    "start_time": "2022-05-16T10:04:14.904Z"
   },
   {
    "duration": 35,
    "start_time": "2022-05-16T10:04:40.824Z"
   },
   {
    "duration": 33,
    "start_time": "2022-05-16T10:04:50.625Z"
   },
   {
    "duration": 9,
    "start_time": "2022-05-16T10:04:56.030Z"
   },
   {
    "duration": 62,
    "start_time": "2022-05-16T10:04:56.904Z"
   },
   {
    "duration": 18,
    "start_time": "2022-05-16T10:04:57.705Z"
   },
   {
    "duration": 11,
    "start_time": "2022-05-16T10:04:58.829Z"
   },
   {
    "duration": 11,
    "start_time": "2022-05-16T10:05:00.552Z"
   },
   {
    "duration": 11,
    "start_time": "2022-05-16T10:05:10.426Z"
   },
   {
    "duration": 17,
    "start_time": "2022-05-16T10:05:13.107Z"
   },
   {
    "duration": 24,
    "start_time": "2022-05-16T10:05:16.514Z"
   },
   {
    "duration": 8,
    "start_time": "2022-05-16T10:05:20.384Z"
   },
   {
    "duration": 27,
    "start_time": "2022-05-16T10:05:21.467Z"
   },
   {
    "duration": 102,
    "start_time": "2022-05-16T10:10:36.863Z"
   },
   {
    "duration": 31,
    "start_time": "2022-05-16T10:10:45.694Z"
   },
   {
    "duration": 21,
    "start_time": "2022-05-16T10:11:46.903Z"
   },
   {
    "duration": 20,
    "start_time": "2022-05-16T10:16:09.392Z"
   },
   {
    "duration": 24,
    "start_time": "2022-05-16T10:19:41.902Z"
   },
   {
    "duration": 469,
    "start_time": "2022-05-16T10:19:51.090Z"
   },
   {
    "duration": 17,
    "start_time": "2022-05-16T10:19:51.561Z"
   },
   {
    "duration": 29,
    "start_time": "2022-05-16T10:19:51.580Z"
   },
   {
    "duration": 11,
    "start_time": "2022-05-16T10:19:51.610Z"
   },
   {
    "duration": 2,
    "start_time": "2022-05-16T10:19:51.623Z"
   },
   {
    "duration": 15,
    "start_time": "2022-05-16T10:19:51.627Z"
   },
   {
    "duration": 35,
    "start_time": "2022-05-16T10:19:51.644Z"
   },
   {
    "duration": 36,
    "start_time": "2022-05-16T10:19:51.681Z"
   },
   {
    "duration": 8,
    "start_time": "2022-05-16T10:19:51.719Z"
   },
   {
    "duration": 85,
    "start_time": "2022-05-16T10:19:51.728Z"
   },
   {
    "duration": 16,
    "start_time": "2022-05-16T10:19:51.814Z"
   },
   {
    "duration": 10,
    "start_time": "2022-05-16T10:19:51.831Z"
   },
   {
    "duration": 37,
    "start_time": "2022-05-16T10:19:51.842Z"
   },
   {
    "duration": 10,
    "start_time": "2022-05-16T10:19:51.882Z"
   },
   {
    "duration": 19,
    "start_time": "2022-05-16T10:19:51.894Z"
   },
   {
    "duration": 24,
    "start_time": "2022-05-16T10:19:51.914Z"
   },
   {
    "duration": 6,
    "start_time": "2022-05-16T10:19:51.940Z"
   },
   {
    "duration": 53,
    "start_time": "2022-05-16T10:19:51.948Z"
   },
   {
    "duration": 89,
    "start_time": "2022-05-16T10:19:52.003Z"
   },
   {
    "duration": 22,
    "start_time": "2022-05-16T10:20:43.820Z"
   },
   {
    "duration": 22,
    "start_time": "2022-05-16T10:21:47.226Z"
   },
   {
    "duration": 26,
    "start_time": "2022-05-16T10:22:21.419Z"
   },
   {
    "duration": 22,
    "start_time": "2022-05-16T10:22:32.410Z"
   },
   {
    "duration": 1435,
    "start_time": "2022-05-16T10:23:48.786Z"
   },
   {
    "duration": 81,
    "start_time": "2022-05-16T10:27:07.626Z"
   },
   {
    "duration": 10,
    "start_time": "2022-05-16T10:27:09.791Z"
   },
   {
    "duration": 21,
    "start_time": "2022-05-16T10:27:10.826Z"
   },
   {
    "duration": 13,
    "start_time": "2022-05-16T10:27:11.705Z"
   },
   {
    "duration": 2,
    "start_time": "2022-05-16T10:27:13.265Z"
   },
   {
    "duration": 13,
    "start_time": "2022-05-16T10:27:14.507Z"
   },
   {
    "duration": 14,
    "start_time": "2022-05-16T10:27:15.906Z"
   },
   {
    "duration": 37,
    "start_time": "2022-05-16T10:27:17.266Z"
   },
   {
    "duration": 8,
    "start_time": "2022-05-16T10:27:18.185Z"
   },
   {
    "duration": 65,
    "start_time": "2022-05-16T10:27:18.945Z"
   },
   {
    "duration": 17,
    "start_time": "2022-05-16T10:27:40.305Z"
   },
   {
    "duration": 11,
    "start_time": "2022-05-16T10:27:41.025Z"
   },
   {
    "duration": 12,
    "start_time": "2022-05-16T10:27:43.505Z"
   },
   {
    "duration": 11,
    "start_time": "2022-05-16T10:27:44.345Z"
   },
   {
    "duration": 17,
    "start_time": "2022-05-16T10:28:06.945Z"
   },
   {
    "duration": 23,
    "start_time": "2022-05-16T10:28:09.145Z"
   },
   {
    "duration": 7,
    "start_time": "2022-05-16T10:28:10.601Z"
   },
   {
    "duration": 23,
    "start_time": "2022-05-16T10:28:11.225Z"
   },
   {
    "duration": 1368,
    "start_time": "2022-05-16T10:28:13.626Z"
   },
   {
    "duration": 2423,
    "start_time": "2022-05-16T10:29:09.146Z"
   },
   {
    "duration": 1541,
    "start_time": "2022-05-16T10:29:14.793Z"
   },
   {
    "duration": 26,
    "start_time": "2022-05-16T10:29:21.484Z"
   },
   {
    "duration": 1397,
    "start_time": "2022-05-16T10:31:48.505Z"
   },
   {
    "duration": 445,
    "start_time": "2022-05-16T10:31:55.031Z"
   },
   {
    "duration": 13,
    "start_time": "2022-05-16T10:31:55.478Z"
   },
   {
    "duration": 25,
    "start_time": "2022-05-16T10:31:55.493Z"
   },
   {
    "duration": 13,
    "start_time": "2022-05-16T10:31:55.520Z"
   },
   {
    "duration": 2,
    "start_time": "2022-05-16T10:31:55.535Z"
   },
   {
    "duration": 52,
    "start_time": "2022-05-16T10:31:55.538Z"
   },
   {
    "duration": 15,
    "start_time": "2022-05-16T10:31:55.591Z"
   },
   {
    "duration": 33,
    "start_time": "2022-05-16T10:31:55.607Z"
   },
   {
    "duration": 8,
    "start_time": "2022-05-16T10:31:55.641Z"
   },
   {
    "duration": 70,
    "start_time": "2022-05-16T10:31:55.671Z"
   },
   {
    "duration": 30,
    "start_time": "2022-05-16T10:31:55.742Z"
   },
   {
    "duration": 14,
    "start_time": "2022-05-16T10:31:55.774Z"
   },
   {
    "duration": 10,
    "start_time": "2022-05-16T10:31:55.789Z"
   },
   {
    "duration": 9,
    "start_time": "2022-05-16T10:31:55.802Z"
   },
   {
    "duration": 17,
    "start_time": "2022-05-16T10:31:55.812Z"
   },
   {
    "duration": 58,
    "start_time": "2022-05-16T10:31:55.830Z"
   },
   {
    "duration": 6,
    "start_time": "2022-05-16T10:31:55.890Z"
   },
   {
    "duration": 22,
    "start_time": "2022-05-16T10:31:55.898Z"
   },
   {
    "duration": 99,
    "start_time": "2022-05-16T10:31:55.922Z"
   },
   {
    "duration": 11,
    "start_time": "2022-05-16T10:33:40.352Z"
   },
   {
    "duration": 1354,
    "start_time": "2022-05-16T10:34:18.388Z"
   },
   {
    "duration": 1383,
    "start_time": "2022-05-16T10:34:36.638Z"
   },
   {
    "duration": 23,
    "start_time": "2022-05-16T10:35:04.188Z"
   },
   {
    "duration": 14,
    "start_time": "2022-05-16T10:39:54.227Z"
   },
   {
    "duration": 12,
    "start_time": "2022-05-16T10:40:04.927Z"
   },
   {
    "duration": 12,
    "start_time": "2022-05-16T10:41:03.548Z"
   },
   {
    "duration": 10,
    "start_time": "2022-05-16T10:49:13.438Z"
   },
   {
    "duration": 9,
    "start_time": "2022-05-16T10:51:24.204Z"
   },
   {
    "duration": 9,
    "start_time": "2022-05-16T10:51:35.035Z"
   },
   {
    "duration": 459,
    "start_time": "2022-05-16T10:51:42.814Z"
   },
   {
    "duration": 15,
    "start_time": "2022-05-16T10:51:43.275Z"
   },
   {
    "duration": 22,
    "start_time": "2022-05-16T10:51:43.291Z"
   },
   {
    "duration": 11,
    "start_time": "2022-05-16T10:51:43.315Z"
   },
   {
    "duration": 2,
    "start_time": "2022-05-16T10:51:43.328Z"
   },
   {
    "duration": 41,
    "start_time": "2022-05-16T10:51:43.331Z"
   },
   {
    "duration": 21,
    "start_time": "2022-05-16T10:51:43.374Z"
   },
   {
    "duration": 33,
    "start_time": "2022-05-16T10:51:43.397Z"
   },
   {
    "duration": 9,
    "start_time": "2022-05-16T10:51:43.431Z"
   },
   {
    "duration": 90,
    "start_time": "2022-05-16T10:51:43.441Z"
   },
   {
    "duration": 18,
    "start_time": "2022-05-16T10:51:43.532Z"
   },
   {
    "duration": 15,
    "start_time": "2022-05-16T10:51:43.571Z"
   },
   {
    "duration": 12,
    "start_time": "2022-05-16T10:51:43.588Z"
   },
   {
    "duration": 10,
    "start_time": "2022-05-16T10:51:43.603Z"
   },
   {
    "duration": 18,
    "start_time": "2022-05-16T10:51:43.615Z"
   },
   {
    "duration": 59,
    "start_time": "2022-05-16T10:51:43.634Z"
   },
   {
    "duration": 7,
    "start_time": "2022-05-16T10:51:43.694Z"
   },
   {
    "duration": 22,
    "start_time": "2022-05-16T10:51:43.702Z"
   },
   {
    "duration": 23,
    "start_time": "2022-05-16T10:51:43.726Z"
   },
   {
    "duration": 86,
    "start_time": "2022-05-16T10:51:43.750Z"
   },
   {
    "duration": 11,
    "start_time": "2022-05-16T10:51:58.684Z"
   },
   {
    "duration": 13,
    "start_time": "2022-05-16T10:52:58.703Z"
   },
   {
    "duration": 13,
    "start_time": "2022-05-16T10:53:10.584Z"
   },
   {
    "duration": 14,
    "start_time": "2022-05-16T10:53:28.294Z"
   },
   {
    "duration": 1117,
    "start_time": "2022-05-16T10:55:05.985Z"
   },
   {
    "duration": 16,
    "start_time": "2022-05-16T10:55:50.833Z"
   },
   {
    "duration": 14,
    "start_time": "2022-05-16T10:56:12.723Z"
   },
   {
    "duration": 10,
    "start_time": "2022-05-16T10:57:47.822Z"
   },
   {
    "duration": 471,
    "start_time": "2022-05-16T10:57:53.597Z"
   },
   {
    "duration": 15,
    "start_time": "2022-05-16T10:57:54.069Z"
   },
   {
    "duration": 26,
    "start_time": "2022-05-16T10:57:54.085Z"
   },
   {
    "duration": 11,
    "start_time": "2022-05-16T10:57:54.113Z"
   },
   {
    "duration": 3,
    "start_time": "2022-05-16T10:57:54.126Z"
   },
   {
    "duration": 17,
    "start_time": "2022-05-16T10:57:54.130Z"
   },
   {
    "duration": 27,
    "start_time": "2022-05-16T10:57:54.171Z"
   },
   {
    "duration": 32,
    "start_time": "2022-05-16T10:57:54.199Z"
   },
   {
    "duration": 8,
    "start_time": "2022-05-16T10:57:54.233Z"
   },
   {
    "duration": 82,
    "start_time": "2022-05-16T10:57:54.242Z"
   },
   {
    "duration": 17,
    "start_time": "2022-05-16T10:57:54.325Z"
   },
   {
    "duration": 11,
    "start_time": "2022-05-16T10:57:54.344Z"
   },
   {
    "duration": 12,
    "start_time": "2022-05-16T10:57:54.371Z"
   },
   {
    "duration": 23,
    "start_time": "2022-05-16T10:57:54.386Z"
   },
   {
    "duration": 14,
    "start_time": "2022-05-16T10:57:54.411Z"
   },
   {
    "duration": 23,
    "start_time": "2022-05-16T10:57:54.427Z"
   },
   {
    "duration": 9,
    "start_time": "2022-05-16T10:57:54.473Z"
   },
   {
    "duration": 24,
    "start_time": "2022-05-16T10:57:54.485Z"
   },
   {
    "duration": 23,
    "start_time": "2022-05-16T10:57:54.511Z"
   },
   {
    "duration": 44,
    "start_time": "2022-05-16T10:57:54.536Z"
   },
   {
    "duration": 45,
    "start_time": "2022-05-16T11:04:58.307Z"
   },
   {
    "duration": 510,
    "start_time": "2022-05-16T11:05:07.987Z"
   },
   {
    "duration": 10,
    "start_time": "2022-05-16T11:05:08.499Z"
   },
   {
    "duration": 22,
    "start_time": "2022-05-16T11:05:08.511Z"
   },
   {
    "duration": 12,
    "start_time": "2022-05-16T11:05:08.536Z"
   },
   {
    "duration": 4,
    "start_time": "2022-05-16T11:05:08.576Z"
   },
   {
    "duration": 36,
    "start_time": "2022-05-16T11:05:08.582Z"
   },
   {
    "duration": 15,
    "start_time": "2022-05-16T11:05:08.620Z"
   },
   {
    "duration": 33,
    "start_time": "2022-05-16T11:05:08.636Z"
   },
   {
    "duration": 15,
    "start_time": "2022-05-16T11:05:08.670Z"
   },
   {
    "duration": 73,
    "start_time": "2022-05-16T11:05:08.687Z"
   },
   {
    "duration": 22,
    "start_time": "2022-05-16T11:05:08.761Z"
   },
   {
    "duration": 24,
    "start_time": "2022-05-16T11:05:08.784Z"
   },
   {
    "duration": 10,
    "start_time": "2022-05-16T11:05:08.810Z"
   },
   {
    "duration": 16,
    "start_time": "2022-05-16T11:05:08.822Z"
   },
   {
    "duration": 39,
    "start_time": "2022-05-16T11:05:08.840Z"
   },
   {
    "duration": 31,
    "start_time": "2022-05-16T11:05:08.880Z"
   },
   {
    "duration": 7,
    "start_time": "2022-05-16T11:05:08.912Z"
   },
   {
    "duration": 21,
    "start_time": "2022-05-16T11:05:08.920Z"
   },
   {
    "duration": 57,
    "start_time": "2022-05-16T11:05:08.943Z"
   },
   {
    "duration": 608,
    "start_time": "2022-05-16T11:05:24.576Z"
   },
   {
    "duration": 10,
    "start_time": "2022-05-16T11:05:26.728Z"
   },
   {
    "duration": 23,
    "start_time": "2022-05-16T11:05:27.709Z"
   },
   {
    "duration": 12,
    "start_time": "2022-05-16T11:05:28.345Z"
   },
   {
    "duration": 3,
    "start_time": "2022-05-16T11:05:30.044Z"
   },
   {
    "duration": 14,
    "start_time": "2022-05-16T11:05:31.015Z"
   },
   {
    "duration": 14,
    "start_time": "2022-05-16T11:05:31.921Z"
   },
   {
    "duration": 32,
    "start_time": "2022-05-16T11:05:32.810Z"
   },
   {
    "duration": 8,
    "start_time": "2022-05-16T11:05:33.215Z"
   },
   {
    "duration": 59,
    "start_time": "2022-05-16T11:05:33.700Z"
   },
   {
    "duration": 22,
    "start_time": "2022-05-16T11:05:34.163Z"
   },
   {
    "duration": 11,
    "start_time": "2022-05-16T11:05:34.713Z"
   },
   {
    "duration": 9,
    "start_time": "2022-05-16T11:05:36.402Z"
   },
   {
    "duration": 18,
    "start_time": "2022-05-16T11:05:37.396Z"
   },
   {
    "duration": 17,
    "start_time": "2022-05-16T11:05:38.099Z"
   },
   {
    "duration": 21,
    "start_time": "2022-05-16T11:05:41.347Z"
   },
   {
    "duration": 8,
    "start_time": "2022-05-16T11:05:42.611Z"
   },
   {
    "duration": 33,
    "start_time": "2022-05-16T11:05:43.269Z"
   },
   {
    "duration": 27,
    "start_time": "2022-05-16T11:05:48.533Z"
   },
   {
    "duration": 63,
    "start_time": "2022-05-16T11:07:18.852Z"
   },
   {
    "duration": 6,
    "start_time": "2022-05-16T11:09:11.530Z"
   },
   {
    "duration": 457,
    "start_time": "2022-05-16T11:09:43.239Z"
   },
   {
    "duration": 10,
    "start_time": "2022-05-16T11:09:43.698Z"
   },
   {
    "duration": 21,
    "start_time": "2022-05-16T11:09:43.709Z"
   },
   {
    "duration": 11,
    "start_time": "2022-05-16T11:09:43.732Z"
   },
   {
    "duration": 30,
    "start_time": "2022-05-16T11:09:43.745Z"
   },
   {
    "duration": 24,
    "start_time": "2022-05-16T11:09:43.777Z"
   },
   {
    "duration": 15,
    "start_time": "2022-05-16T11:09:43.803Z"
   },
   {
    "duration": 34,
    "start_time": "2022-05-16T11:09:43.819Z"
   },
   {
    "duration": 20,
    "start_time": "2022-05-16T11:09:43.854Z"
   },
   {
    "duration": 67,
    "start_time": "2022-05-16T11:09:43.877Z"
   },
   {
    "duration": 30,
    "start_time": "2022-05-16T11:09:43.945Z"
   },
   {
    "duration": 15,
    "start_time": "2022-05-16T11:09:43.977Z"
   },
   {
    "duration": 9,
    "start_time": "2022-05-16T11:09:43.994Z"
   },
   {
    "duration": 14,
    "start_time": "2022-05-16T11:09:44.006Z"
   },
   {
    "duration": 16,
    "start_time": "2022-05-16T11:09:44.022Z"
   },
   {
    "duration": 56,
    "start_time": "2022-05-16T11:09:44.039Z"
   },
   {
    "duration": 8,
    "start_time": "2022-05-16T11:09:44.097Z"
   },
   {
    "duration": 23,
    "start_time": "2022-05-16T11:09:44.107Z"
   },
   {
    "duration": 61,
    "start_time": "2022-05-16T11:09:44.132Z"
   },
   {
    "duration": 58,
    "start_time": "2022-05-16T11:09:44.195Z"
   },
   {
    "duration": 13,
    "start_time": "2022-05-16T11:09:59.191Z"
   },
   {
    "duration": 7,
    "start_time": "2022-05-16T11:10:10.351Z"
   },
   {
    "duration": 7,
    "start_time": "2022-05-16T11:10:49.460Z"
   },
   {
    "duration": 7,
    "start_time": "2022-05-16T11:11:20.013Z"
   },
   {
    "duration": 46,
    "start_time": "2022-05-16T11:29:47.744Z"
   },
   {
    "duration": 455,
    "start_time": "2022-05-16T11:29:53.997Z"
   },
   {
    "duration": 9,
    "start_time": "2022-05-16T11:29:54.454Z"
   },
   {
    "duration": 26,
    "start_time": "2022-05-16T11:29:54.464Z"
   },
   {
    "duration": 12,
    "start_time": "2022-05-16T11:29:54.492Z"
   },
   {
    "duration": 3,
    "start_time": "2022-05-16T11:29:54.506Z"
   },
   {
    "duration": 15,
    "start_time": "2022-05-16T11:29:54.510Z"
   },
   {
    "duration": 52,
    "start_time": "2022-05-16T11:29:54.527Z"
   },
   {
    "duration": 32,
    "start_time": "2022-05-16T11:29:54.581Z"
   },
   {
    "duration": 8,
    "start_time": "2022-05-16T11:29:54.615Z"
   },
   {
    "duration": 80,
    "start_time": "2022-05-16T11:29:54.626Z"
   },
   {
    "duration": 15,
    "start_time": "2022-05-16T11:29:54.708Z"
   },
   {
    "duration": 10,
    "start_time": "2022-05-16T11:29:54.725Z"
   },
   {
    "duration": 36,
    "start_time": "2022-05-16T11:29:54.736Z"
   },
   {
    "duration": 17,
    "start_time": "2022-05-16T11:29:54.774Z"
   },
   {
    "duration": 16,
    "start_time": "2022-05-16T11:29:54.792Z"
   },
   {
    "duration": 21,
    "start_time": "2022-05-16T11:29:54.810Z"
   },
   {
    "duration": 9,
    "start_time": "2022-05-16T11:29:54.833Z"
   },
   {
    "duration": 46,
    "start_time": "2022-05-16T11:29:54.844Z"
   },
   {
    "duration": 25,
    "start_time": "2022-05-16T11:29:54.891Z"
   },
   {
    "duration": 76,
    "start_time": "2022-05-16T11:29:54.917Z"
   },
   {
    "duration": 18,
    "start_time": "2022-05-16T11:30:05.573Z"
   },
   {
    "duration": 50,
    "start_time": "2022-05-16T11:34:46.085Z"
   },
   {
    "duration": 540,
    "start_time": "2022-05-16T11:34:59.079Z"
   },
   {
    "duration": 10,
    "start_time": "2022-05-16T11:34:59.621Z"
   },
   {
    "duration": 41,
    "start_time": "2022-05-16T11:34:59.633Z"
   },
   {
    "duration": 17,
    "start_time": "2022-05-16T11:34:59.676Z"
   },
   {
    "duration": 3,
    "start_time": "2022-05-16T11:34:59.696Z"
   },
   {
    "duration": 24,
    "start_time": "2022-05-16T11:34:59.700Z"
   },
   {
    "duration": 15,
    "start_time": "2022-05-16T11:34:59.726Z"
   },
   {
    "duration": 34,
    "start_time": "2022-05-16T11:34:59.771Z"
   },
   {
    "duration": 9,
    "start_time": "2022-05-16T11:34:59.807Z"
   },
   {
    "duration": 101,
    "start_time": "2022-05-16T11:34:59.817Z"
   },
   {
    "duration": 17,
    "start_time": "2022-05-16T11:34:59.920Z"
   },
   {
    "duration": 12,
    "start_time": "2022-05-16T11:34:59.938Z"
   },
   {
    "duration": 12,
    "start_time": "2022-05-16T11:34:59.971Z"
   },
   {
    "duration": 23,
    "start_time": "2022-05-16T11:34:59.986Z"
   },
   {
    "duration": 19,
    "start_time": "2022-05-16T11:35:00.011Z"
   },
   {
    "duration": 53,
    "start_time": "2022-05-16T11:35:00.032Z"
   },
   {
    "duration": 8,
    "start_time": "2022-05-16T11:35:00.087Z"
   },
   {
    "duration": 27,
    "start_time": "2022-05-16T11:35:00.096Z"
   },
   {
    "duration": 52,
    "start_time": "2022-05-16T11:35:00.125Z"
   },
   {
    "duration": 48,
    "start_time": "2022-05-16T11:47:00.297Z"
   },
   {
    "duration": 601,
    "start_time": "2022-05-16T11:47:18.325Z"
   },
   {
    "duration": 10,
    "start_time": "2022-05-16T11:47:18.928Z"
   },
   {
    "duration": 23,
    "start_time": "2022-05-16T11:47:18.939Z"
   },
   {
    "duration": 12,
    "start_time": "2022-05-16T11:47:18.971Z"
   },
   {
    "duration": 2,
    "start_time": "2022-05-16T11:47:18.986Z"
   },
   {
    "duration": 17,
    "start_time": "2022-05-16T11:47:18.989Z"
   },
   {
    "duration": 15,
    "start_time": "2022-05-16T11:47:19.007Z"
   },
   {
    "duration": 68,
    "start_time": "2022-05-16T11:47:19.024Z"
   },
   {
    "duration": 9,
    "start_time": "2022-05-16T11:47:19.094Z"
   },
   {
    "duration": 119,
    "start_time": "2022-05-16T11:47:19.105Z"
   },
   {
    "duration": 18,
    "start_time": "2022-05-16T11:47:19.226Z"
   },
   {
    "duration": 28,
    "start_time": "2022-05-16T11:47:19.245Z"
   },
   {
    "duration": 16,
    "start_time": "2022-05-16T11:47:19.275Z"
   },
   {
    "duration": 21,
    "start_time": "2022-05-16T11:47:19.294Z"
   },
   {
    "duration": 23,
    "start_time": "2022-05-16T11:47:19.316Z"
   },
   {
    "duration": 44,
    "start_time": "2022-05-16T11:47:19.341Z"
   },
   {
    "duration": 8,
    "start_time": "2022-05-16T11:47:19.387Z"
   },
   {
    "duration": 23,
    "start_time": "2022-05-16T11:47:19.397Z"
   },
   {
    "duration": 95,
    "start_time": "2022-05-16T11:47:19.422Z"
   },
   {
    "duration": 0,
    "start_time": "2022-05-16T11:47:19.519Z"
   },
   {
    "duration": 8,
    "start_time": "2022-05-16T11:47:35.895Z"
   },
   {
    "duration": 9,
    "start_time": "2022-05-16T11:48:05.524Z"
   },
   {
    "duration": 11,
    "start_time": "2022-05-16T11:48:18.604Z"
   },
   {
    "duration": 28,
    "start_time": "2022-05-16T11:48:29.074Z"
   },
   {
    "duration": 12,
    "start_time": "2022-05-16T11:55:46.147Z"
   },
   {
    "duration": 14,
    "start_time": "2022-05-16T11:56:09.305Z"
   },
   {
    "duration": 13,
    "start_time": "2022-05-16T11:56:26.198Z"
   },
   {
    "duration": 11,
    "start_time": "2022-05-16T11:58:43.368Z"
   },
   {
    "duration": 11,
    "start_time": "2022-05-16T11:59:01.684Z"
   },
   {
    "duration": 14,
    "start_time": "2022-05-16T11:59:06.818Z"
   },
   {
    "duration": 10,
    "start_time": "2022-05-16T11:59:10.227Z"
   },
   {
    "duration": 469,
    "start_time": "2022-05-16T11:59:17.091Z"
   },
   {
    "duration": 17,
    "start_time": "2022-05-16T11:59:17.562Z"
   },
   {
    "duration": 34,
    "start_time": "2022-05-16T11:59:17.580Z"
   },
   {
    "duration": 12,
    "start_time": "2022-05-16T11:59:17.615Z"
   },
   {
    "duration": 3,
    "start_time": "2022-05-16T11:59:17.629Z"
   },
   {
    "duration": 17,
    "start_time": "2022-05-16T11:59:17.633Z"
   },
   {
    "duration": 24,
    "start_time": "2022-05-16T11:59:17.670Z"
   },
   {
    "duration": 35,
    "start_time": "2022-05-16T11:59:17.696Z"
   },
   {
    "duration": 8,
    "start_time": "2022-05-16T11:59:17.732Z"
   },
   {
    "duration": 89,
    "start_time": "2022-05-16T11:59:17.742Z"
   },
   {
    "duration": 16,
    "start_time": "2022-05-16T11:59:17.832Z"
   },
   {
    "duration": 25,
    "start_time": "2022-05-16T11:59:17.850Z"
   },
   {
    "duration": 18,
    "start_time": "2022-05-16T11:59:17.882Z"
   },
   {
    "duration": 17,
    "start_time": "2022-05-16T11:59:17.903Z"
   },
   {
    "duration": 17,
    "start_time": "2022-05-16T11:59:17.922Z"
   },
   {
    "duration": 45,
    "start_time": "2022-05-16T11:59:17.941Z"
   },
   {
    "duration": 11,
    "start_time": "2022-05-16T11:59:17.988Z"
   },
   {
    "duration": 30,
    "start_time": "2022-05-16T11:59:18.001Z"
   },
   {
    "duration": 19,
    "start_time": "2022-05-16T11:59:18.032Z"
   },
   {
    "duration": 88,
    "start_time": "2022-05-16T11:59:18.072Z"
   },
   {
    "duration": 18,
    "start_time": "2022-05-16T12:06:10.028Z"
   },
   {
    "duration": 1478,
    "start_time": "2022-05-16T12:08:05.718Z"
   },
   {
    "duration": 482,
    "start_time": "2022-05-16T12:08:14.784Z"
   },
   {
    "duration": 13,
    "start_time": "2022-05-16T12:08:15.267Z"
   },
   {
    "duration": 24,
    "start_time": "2022-05-16T12:08:15.282Z"
   },
   {
    "duration": 14,
    "start_time": "2022-05-16T12:08:15.309Z"
   },
   {
    "duration": 3,
    "start_time": "2022-05-16T12:08:15.325Z"
   },
   {
    "duration": 53,
    "start_time": "2022-05-16T12:08:15.330Z"
   },
   {
    "duration": 17,
    "start_time": "2022-05-16T12:08:15.385Z"
   },
   {
    "duration": 24,
    "start_time": "2022-05-16T12:08:15.404Z"
   },
   {
    "duration": 8,
    "start_time": "2022-05-16T12:08:15.430Z"
   },
   {
    "duration": 65,
    "start_time": "2022-05-16T12:08:15.473Z"
   },
   {
    "duration": 40,
    "start_time": "2022-05-16T12:08:15.540Z"
   },
   {
    "duration": 11,
    "start_time": "2022-05-16T12:08:15.581Z"
   },
   {
    "duration": 10,
    "start_time": "2022-05-16T12:08:15.594Z"
   },
   {
    "duration": 17,
    "start_time": "2022-05-16T12:08:15.606Z"
   },
   {
    "duration": 50,
    "start_time": "2022-05-16T12:08:15.624Z"
   },
   {
    "duration": 21,
    "start_time": "2022-05-16T12:08:15.676Z"
   },
   {
    "duration": 9,
    "start_time": "2022-05-16T12:08:15.699Z"
   },
   {
    "duration": 22,
    "start_time": "2022-05-16T12:08:15.709Z"
   },
   {
    "duration": 39,
    "start_time": "2022-05-16T12:08:15.732Z"
   },
   {
    "duration": 63,
    "start_time": "2022-05-16T12:08:15.773Z"
   },
   {
    "duration": 2039,
    "start_time": "2022-05-16T12:09:06.369Z"
   },
   {
    "duration": 486,
    "start_time": "2022-05-16T12:09:13.154Z"
   },
   {
    "duration": 10,
    "start_time": "2022-05-16T12:09:13.641Z"
   },
   {
    "duration": 31,
    "start_time": "2022-05-16T12:09:13.653Z"
   },
   {
    "duration": 12,
    "start_time": "2022-05-16T12:09:13.685Z"
   },
   {
    "duration": 2,
    "start_time": "2022-05-16T12:09:13.699Z"
   },
   {
    "duration": 16,
    "start_time": "2022-05-16T12:09:13.702Z"
   },
   {
    "duration": 18,
    "start_time": "2022-05-16T12:09:13.720Z"
   },
   {
    "duration": 45,
    "start_time": "2022-05-16T12:09:13.771Z"
   },
   {
    "duration": 8,
    "start_time": "2022-05-16T12:09:13.817Z"
   },
   {
    "duration": 78,
    "start_time": "2022-05-16T12:09:13.827Z"
   },
   {
    "duration": 18,
    "start_time": "2022-05-16T12:09:13.907Z"
   },
   {
    "duration": 11,
    "start_time": "2022-05-16T12:09:13.926Z"
   },
   {
    "duration": 35,
    "start_time": "2022-05-16T12:09:13.939Z"
   },
   {
    "duration": 15,
    "start_time": "2022-05-16T12:09:13.977Z"
   },
   {
    "duration": 14,
    "start_time": "2022-05-16T12:09:13.994Z"
   },
   {
    "duration": 22,
    "start_time": "2022-05-16T12:09:14.010Z"
   },
   {
    "duration": 7,
    "start_time": "2022-05-16T12:09:14.033Z"
   },
   {
    "duration": 51,
    "start_time": "2022-05-16T12:09:14.041Z"
   },
   {
    "duration": 13,
    "start_time": "2022-05-16T12:09:14.094Z"
   },
   {
    "duration": 85,
    "start_time": "2022-05-16T12:09:14.109Z"
   },
   {
    "duration": 1405,
    "start_time": "2022-05-16T12:09:50.641Z"
   },
   {
    "duration": 452,
    "start_time": "2022-05-16T12:09:56.499Z"
   },
   {
    "duration": 9,
    "start_time": "2022-05-16T12:09:56.953Z"
   },
   {
    "duration": 24,
    "start_time": "2022-05-16T12:09:56.964Z"
   },
   {
    "duration": 11,
    "start_time": "2022-05-16T12:09:56.989Z"
   },
   {
    "duration": 3,
    "start_time": "2022-05-16T12:09:57.001Z"
   },
   {
    "duration": 14,
    "start_time": "2022-05-16T12:09:57.005Z"
   },
   {
    "duration": 17,
    "start_time": "2022-05-16T12:09:57.021Z"
   },
   {
    "duration": 50,
    "start_time": "2022-05-16T12:09:57.071Z"
   },
   {
    "duration": 8,
    "start_time": "2022-05-16T12:09:57.123Z"
   },
   {
    "duration": 82,
    "start_time": "2022-05-16T12:09:57.132Z"
   },
   {
    "duration": 16,
    "start_time": "2022-05-16T12:09:57.215Z"
   },
   {
    "duration": 11,
    "start_time": "2022-05-16T12:09:57.233Z"
   },
   {
    "duration": 30,
    "start_time": "2022-05-16T12:09:57.246Z"
   },
   {
    "duration": 15,
    "start_time": "2022-05-16T12:09:57.278Z"
   },
   {
    "duration": 16,
    "start_time": "2022-05-16T12:09:57.295Z"
   },
   {
    "duration": 22,
    "start_time": "2022-05-16T12:09:57.313Z"
   },
   {
    "duration": 43,
    "start_time": "2022-05-16T12:09:57.336Z"
   },
   {
    "duration": 26,
    "start_time": "2022-05-16T12:09:57.381Z"
   },
   {
    "duration": 16,
    "start_time": "2022-05-16T12:09:57.409Z"
   },
   {
    "duration": 76,
    "start_time": "2022-05-16T12:09:57.426Z"
   },
   {
    "duration": 1484,
    "start_time": "2022-05-16T12:10:58.643Z"
   },
   {
    "duration": 1914,
    "start_time": "2022-05-16T12:11:06.615Z"
   },
   {
    "duration": 0,
    "start_time": "2022-05-16T12:11:08.531Z"
   },
   {
    "duration": 78,
    "start_time": "2022-05-16T12:11:14.025Z"
   },
   {
    "duration": 10,
    "start_time": "2022-05-16T12:11:17.675Z"
   },
   {
    "duration": 22,
    "start_time": "2022-05-16T12:11:19.271Z"
   },
   {
    "duration": 12,
    "start_time": "2022-05-16T12:11:19.998Z"
   },
   {
    "duration": 2,
    "start_time": "2022-05-16T12:11:21.665Z"
   },
   {
    "duration": 16,
    "start_time": "2022-05-16T12:11:23.684Z"
   },
   {
    "duration": 17,
    "start_time": "2022-05-16T12:11:30.295Z"
   },
   {
    "duration": 51,
    "start_time": "2022-05-16T12:11:33.065Z"
   },
   {
    "duration": 9,
    "start_time": "2022-05-16T12:11:35.284Z"
   },
   {
    "duration": 61,
    "start_time": "2022-05-16T12:11:36.255Z"
   },
   {
    "duration": 20,
    "start_time": "2022-05-16T12:12:11.575Z"
   },
   {
    "duration": 11,
    "start_time": "2022-05-16T12:12:17.668Z"
   },
   {
    "duration": 13,
    "start_time": "2022-05-16T12:12:42.765Z"
   },
   {
    "duration": 10,
    "start_time": "2022-05-16T12:12:55.535Z"
   },
   {
    "duration": 12,
    "start_time": "2022-05-16T12:24:13.945Z"
   },
   {
    "duration": 13,
    "start_time": "2022-05-16T12:24:35.704Z"
   },
   {
    "duration": 13,
    "start_time": "2022-05-16T12:24:57.587Z"
   },
   {
    "duration": 18,
    "start_time": "2022-05-16T12:27:10.204Z"
   },
   {
    "duration": 18,
    "start_time": "2022-05-16T13:36:05.246Z"
   },
   {
    "duration": 20,
    "start_time": "2022-05-16T13:37:06.906Z"
   },
   {
    "duration": 76,
    "start_time": "2022-05-16T13:37:30.726Z"
   },
   {
    "duration": 20,
    "start_time": "2022-05-16T13:37:38.326Z"
   },
   {
    "duration": 18,
    "start_time": "2022-05-16T13:39:38.836Z"
   },
   {
    "duration": 15,
    "start_time": "2022-05-16T13:42:24.428Z"
   },
   {
    "duration": 14,
    "start_time": "2022-05-16T13:43:07.909Z"
   },
   {
    "duration": 14,
    "start_time": "2022-05-16T13:43:15.796Z"
   },
   {
    "duration": 12,
    "start_time": "2022-05-16T13:43:41.797Z"
   },
   {
    "duration": 14,
    "start_time": "2022-05-16T13:45:09.211Z"
   },
   {
    "duration": 13,
    "start_time": "2022-05-16T13:45:38.357Z"
   },
   {
    "duration": 14,
    "start_time": "2022-05-16T13:45:53.456Z"
   },
   {
    "duration": 116,
    "start_time": "2022-05-16T13:48:42.906Z"
   },
   {
    "duration": 75,
    "start_time": "2022-05-16T13:49:42.080Z"
   },
   {
    "duration": 23,
    "start_time": "2022-05-16T13:50:00.466Z"
   },
   {
    "duration": 21,
    "start_time": "2022-05-16T13:50:19.216Z"
   },
   {
    "duration": 19,
    "start_time": "2022-05-16T13:50:52.016Z"
   },
   {
    "duration": 32,
    "start_time": "2022-05-16T13:51:22.457Z"
   },
   {
    "duration": 32,
    "start_time": "2022-05-16T13:57:20.316Z"
   },
   {
    "duration": 31,
    "start_time": "2022-05-16T13:57:43.566Z"
   },
   {
    "duration": 19,
    "start_time": "2022-05-16T13:58:16.360Z"
   },
   {
    "duration": 25,
    "start_time": "2022-05-16T13:59:07.120Z"
   },
   {
    "duration": 18,
    "start_time": "2022-05-16T13:59:26.346Z"
   },
   {
    "duration": 120,
    "start_time": "2022-05-16T14:03:09.496Z"
   },
   {
    "duration": 80,
    "start_time": "2022-05-16T14:03:31.379Z"
   },
   {
    "duration": 25,
    "start_time": "2022-05-16T14:04:00.153Z"
   },
   {
    "duration": 11,
    "start_time": "2022-05-16T14:05:34.168Z"
   },
   {
    "duration": 11,
    "start_time": "2022-05-16T14:05:43.228Z"
   },
   {
    "duration": 12,
    "start_time": "2022-05-16T14:07:16.230Z"
   },
   {
    "duration": 27,
    "start_time": "2022-05-16T14:08:26.021Z"
   },
   {
    "duration": 74,
    "start_time": "2022-05-16T17:17:04.269Z"
   },
   {
    "duration": 667,
    "start_time": "2022-05-16T17:17:12.118Z"
   },
   {
    "duration": 16,
    "start_time": "2022-05-16T17:17:12.789Z"
   },
   {
    "duration": 56,
    "start_time": "2022-05-16T17:17:12.808Z"
   },
   {
    "duration": 18,
    "start_time": "2022-05-16T17:17:12.867Z"
   },
   {
    "duration": 31,
    "start_time": "2022-05-16T17:17:12.889Z"
   },
   {
    "duration": 41,
    "start_time": "2022-05-16T17:17:12.953Z"
   },
   {
    "duration": 117,
    "start_time": "2022-05-16T17:17:12.997Z"
   },
   {
    "duration": 0,
    "start_time": "2022-05-16T17:17:13.120Z"
   },
   {
    "duration": 0,
    "start_time": "2022-05-16T17:17:13.123Z"
   },
   {
    "duration": 0,
    "start_time": "2022-05-16T17:17:13.125Z"
   },
   {
    "duration": 0,
    "start_time": "2022-05-16T17:17:13.127Z"
   },
   {
    "duration": 0,
    "start_time": "2022-05-16T17:17:13.130Z"
   },
   {
    "duration": 0,
    "start_time": "2022-05-16T17:17:13.132Z"
   },
   {
    "duration": 0,
    "start_time": "2022-05-16T17:17:13.134Z"
   },
   {
    "duration": 0,
    "start_time": "2022-05-16T17:17:13.137Z"
   },
   {
    "duration": 0,
    "start_time": "2022-05-16T17:17:13.140Z"
   },
   {
    "duration": 0,
    "start_time": "2022-05-16T17:17:13.142Z"
   },
   {
    "duration": 0,
    "start_time": "2022-05-16T17:17:13.144Z"
   },
   {
    "duration": 0,
    "start_time": "2022-05-16T17:17:13.147Z"
   },
   {
    "duration": 0,
    "start_time": "2022-05-16T17:17:13.149Z"
   },
   {
    "duration": 0,
    "start_time": "2022-05-16T17:17:13.151Z"
   },
   {
    "duration": 0,
    "start_time": "2022-05-16T17:17:13.154Z"
   },
   {
    "duration": 0,
    "start_time": "2022-05-16T17:17:13.156Z"
   },
   {
    "duration": 1,
    "start_time": "2022-05-16T17:17:13.158Z"
   },
   {
    "duration": 0,
    "start_time": "2022-05-16T17:17:13.161Z"
   },
   {
    "duration": 0,
    "start_time": "2022-05-16T17:17:13.164Z"
   },
   {
    "duration": 860,
    "start_time": "2022-05-16T17:17:27.520Z"
   },
   {
    "duration": 109,
    "start_time": "2022-05-16T17:17:38.768Z"
   },
   {
    "duration": 13,
    "start_time": "2022-05-16T17:17:42.393Z"
   },
   {
    "duration": 35,
    "start_time": "2022-05-16T17:17:44.229Z"
   },
   {
    "duration": 17,
    "start_time": "2022-05-16T17:17:47.853Z"
   },
   {
    "duration": 22,
    "start_time": "2022-05-16T17:17:53.417Z"
   },
   {
    "duration": 26,
    "start_time": "2022-05-16T17:17:58.625Z"
   },
   {
    "duration": 148,
    "start_time": "2022-05-16T17:18:03.058Z"
   },
   {
    "duration": 82,
    "start_time": "2022-05-16T17:18:15.769Z"
   },
   {
    "duration": 13,
    "start_time": "2022-05-16T17:18:21.856Z"
   },
   {
    "duration": 96,
    "start_time": "2022-05-16T17:18:23.090Z"
   },
   {
    "duration": 34,
    "start_time": "2022-05-16T17:18:24.126Z"
   },
   {
    "duration": 20,
    "start_time": "2022-05-16T17:18:27.092Z"
   },
   {
    "duration": 16,
    "start_time": "2022-05-16T17:18:30.794Z"
   },
   {
    "duration": 24,
    "start_time": "2022-05-16T17:18:32.156Z"
   },
   {
    "duration": 28,
    "start_time": "2022-05-16T17:18:34.722Z"
   },
   {
    "duration": 50,
    "start_time": "2022-05-16T17:19:18.075Z"
   },
   {
    "duration": 11,
    "start_time": "2022-05-16T17:19:29.184Z"
   },
   {
    "duration": 39,
    "start_time": "2022-05-16T17:19:30.516Z"
   },
   {
    "duration": 20,
    "start_time": "2022-05-16T17:19:47.009Z"
   },
   {
    "duration": 42,
    "start_time": "2022-05-16T17:28:01.660Z"
   },
   {
    "duration": 21,
    "start_time": "2022-05-16T17:28:45.709Z"
   },
   {
    "duration": 29,
    "start_time": "2022-05-16T17:29:34.967Z"
   },
   {
    "duration": 30,
    "start_time": "2022-05-16T17:30:04.367Z"
   },
   {
    "duration": 22,
    "start_time": "2022-05-16T17:36:50.394Z"
   },
   {
    "duration": 31,
    "start_time": "2022-05-16T17:50:19.915Z"
   },
   {
    "duration": 45,
    "start_time": "2022-05-16T17:56:55.813Z"
   },
   {
    "duration": 18,
    "start_time": "2022-05-16T17:58:05.244Z"
   },
   {
    "duration": 17,
    "start_time": "2022-05-16T18:01:33.826Z"
   },
   {
    "duration": 517,
    "start_time": "2022-05-17T16:11:28.470Z"
   },
   {
    "duration": 10,
    "start_time": "2022-05-17T16:11:28.989Z"
   },
   {
    "duration": 26,
    "start_time": "2022-05-17T16:11:29.001Z"
   },
   {
    "duration": 12,
    "start_time": "2022-05-17T16:11:29.029Z"
   },
   {
    "duration": 14,
    "start_time": "2022-05-17T16:11:29.043Z"
   },
   {
    "duration": 45,
    "start_time": "2022-05-17T16:11:29.059Z"
   },
   {
    "duration": 53,
    "start_time": "2022-05-17T16:11:29.106Z"
   },
   {
    "duration": 29,
    "start_time": "2022-05-17T16:11:29.161Z"
   },
   {
    "duration": 66,
    "start_time": "2022-05-17T16:11:29.192Z"
   },
   {
    "duration": 41,
    "start_time": "2022-05-17T16:11:29.260Z"
   },
   {
    "duration": 14,
    "start_time": "2022-05-17T16:11:29.303Z"
   },
   {
    "duration": 12,
    "start_time": "2022-05-17T16:11:29.318Z"
   },
   {
    "duration": 21,
    "start_time": "2022-05-17T16:11:29.332Z"
   },
   {
    "duration": 48,
    "start_time": "2022-05-17T16:11:29.354Z"
   },
   {
    "duration": 30,
    "start_time": "2022-05-17T16:11:29.403Z"
   },
   {
    "duration": 10,
    "start_time": "2022-05-17T16:11:29.435Z"
   },
   {
    "duration": 45,
    "start_time": "2022-05-17T16:11:29.446Z"
   },
   {
    "duration": 14,
    "start_time": "2022-05-17T16:11:29.492Z"
   },
   {
    "duration": 4,
    "start_time": "2022-05-17T16:11:29.508Z"
   },
   {
    "duration": 22,
    "start_time": "2022-05-17T16:11:29.513Z"
   },
   {
    "duration": 145,
    "start_time": "2022-05-17T16:11:29.537Z"
   },
   {
    "duration": 0,
    "start_time": "2022-05-17T16:11:29.684Z"
   },
   {
    "duration": 0,
    "start_time": "2022-05-17T16:11:29.685Z"
   },
   {
    "duration": 0,
    "start_time": "2022-05-17T16:11:29.686Z"
   },
   {
    "duration": 0,
    "start_time": "2022-05-17T16:11:29.687Z"
   },
   {
    "duration": 50,
    "start_time": "2022-05-17T18:23:11.760Z"
   },
   {
    "duration": 0,
    "start_time": "2022-05-17T18:23:11.812Z"
   },
   {
    "duration": 0,
    "start_time": "2022-05-17T18:23:11.813Z"
   },
   {
    "duration": 0,
    "start_time": "2022-05-17T18:23:11.814Z"
   },
   {
    "duration": 550,
    "start_time": "2022-05-17T18:23:37.335Z"
   },
   {
    "duration": 11,
    "start_time": "2022-05-17T18:23:37.888Z"
   },
   {
    "duration": 42,
    "start_time": "2022-05-17T18:23:37.901Z"
   },
   {
    "duration": 12,
    "start_time": "2022-05-17T18:23:37.945Z"
   },
   {
    "duration": 29,
    "start_time": "2022-05-17T18:23:37.959Z"
   },
   {
    "duration": 36,
    "start_time": "2022-05-17T18:23:37.990Z"
   },
   {
    "duration": 61,
    "start_time": "2022-05-17T18:23:38.028Z"
   },
   {
    "duration": 9,
    "start_time": "2022-05-17T18:23:38.091Z"
   },
   {
    "duration": 93,
    "start_time": "2022-05-17T18:23:38.102Z"
   },
   {
    "duration": 23,
    "start_time": "2022-05-17T18:23:38.198Z"
   },
   {
    "duration": 32,
    "start_time": "2022-05-17T18:23:38.223Z"
   },
   {
    "duration": 23,
    "start_time": "2022-05-17T18:23:38.257Z"
   },
   {
    "duration": 25,
    "start_time": "2022-05-17T18:23:38.282Z"
   },
   {
    "duration": 21,
    "start_time": "2022-05-17T18:23:38.309Z"
   },
   {
    "duration": 70,
    "start_time": "2022-05-17T18:23:38.332Z"
   },
   {
    "duration": 18,
    "start_time": "2022-05-17T18:23:38.404Z"
   },
   {
    "duration": 48,
    "start_time": "2022-05-17T18:23:38.423Z"
   },
   {
    "duration": 25,
    "start_time": "2022-05-17T18:23:38.473Z"
   },
   {
    "duration": 24,
    "start_time": "2022-05-17T18:23:38.500Z"
   },
   {
    "duration": 158,
    "start_time": "2022-05-17T18:23:38.526Z"
   },
   {
    "duration": 0,
    "start_time": "2022-05-17T18:23:38.686Z"
   },
   {
    "duration": 0,
    "start_time": "2022-05-17T18:23:38.688Z"
   },
   {
    "duration": 0,
    "start_time": "2022-05-17T18:23:38.689Z"
   },
   {
    "duration": 0,
    "start_time": "2022-05-17T18:23:38.690Z"
   },
   {
    "duration": 0,
    "start_time": "2022-05-17T18:23:38.691Z"
   },
   {
    "duration": 0,
    "start_time": "2022-05-17T18:23:38.692Z"
   },
   {
    "duration": 29,
    "start_time": "2022-05-17T18:24:23.220Z"
   },
   {
    "duration": 187,
    "start_time": "2022-05-17T18:24:23.405Z"
   },
   {
    "duration": 16,
    "start_time": "2022-05-17T18:24:25.390Z"
   },
   {
    "duration": 24,
    "start_time": "2022-05-17T18:24:26.116Z"
   },
   {
    "duration": 32,
    "start_time": "2022-05-17T18:24:26.435Z"
   },
   {
    "duration": 13,
    "start_time": "2022-05-17T18:24:26.772Z"
   },
   {
    "duration": 85,
    "start_time": "2022-05-31T10:56:41.417Z"
   },
   {
    "duration": 991,
    "start_time": "2022-05-31T10:56:50.318Z"
   },
   {
    "duration": 26,
    "start_time": "2022-05-31T10:56:51.311Z"
   },
   {
    "duration": 45,
    "start_time": "2022-05-31T10:56:57.149Z"
   },
   {
    "duration": 13,
    "start_time": "2022-05-31T10:56:58.582Z"
   },
   {
    "duration": 23,
    "start_time": "2022-05-31T10:56:59.518Z"
   },
   {
    "duration": 10,
    "start_time": "2022-05-31T10:57:00.788Z"
   },
   {
    "duration": 14,
    "start_time": "2022-05-31T10:57:01.225Z"
   },
   {
    "duration": 20,
    "start_time": "2022-05-31T10:57:06.817Z"
   },
   {
    "duration": 38,
    "start_time": "2022-05-31T10:57:07.706Z"
   },
   {
    "duration": 28,
    "start_time": "2022-05-31T10:57:09.200Z"
   }
  ],
  "kernelspec": {
   "display_name": "Python 3 (ipykernel)",
   "language": "python",
   "name": "python3"
  },
  "language_info": {
   "codemirror_mode": {
    "name": "ipython",
    "version": 3
   },
   "file_extension": ".py",
   "mimetype": "text/x-python",
   "name": "python",
   "nbconvert_exporter": "python",
   "pygments_lexer": "ipython3",
   "version": "3.9.12"
  },
  "toc": {
   "base_numbering": 1,
   "nav_menu": {},
   "number_sections": true,
   "sideBar": true,
   "skip_h1_title": true,
   "title_cell": "Table of Contents",
   "title_sidebar": "Contents",
   "toc_cell": false,
   "toc_position": {},
   "toc_section_display": true,
   "toc_window_display": false
  }
 },
 "nbformat": 4,
 "nbformat_minor": 5
}
