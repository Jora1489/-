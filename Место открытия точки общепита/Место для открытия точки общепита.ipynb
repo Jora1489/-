{
 "cells": [
  {
   "cell_type": "markdown",
   "metadata": {},
   "source": [
    "# Описание проекта - Открыть точку общепита в Москве та еще задачка, и с целью эфективности вложений в открытие своего дела, нужно оценить текущее положение дел на рынке и сроки окупаемости ."
   ]
  },
  {
   "cell_type": "markdown",
   "metadata": {},
   "source": [
    "## Название проекта - Рынок заведений общественного питания Москвы"
   ]
  },
  {
   "cell_type": "markdown",
   "metadata": {},
   "source": [
    "## Цель проекта - на основе имеющихся данных подготовить анализ данных о заведениях общепита в Москве. "
   ]
  },
  {
   "cell_type": "markdown",
   "metadata": {},
   "source": [
    "## Общая информация:"
   ]
  },
  {
   "cell_type": "code",
   "execution_count": 1,
   "metadata": {},
   "outputs": [],
   "source": [
    "import pandas as pd\n",
    "import datetime as dt\n",
    "import numpy as np\n",
    "import matplotlib.pyplot as plt\n",
    "%matplotlib inline\n",
    "import seaborn as sns\n",
    "from io import BytesIO\n",
    "import requests\n"
   ]
  },
  {
   "cell_type": "code",
   "execution_count": 3,
   "metadata": {},
   "outputs": [
    {
     "name": "stdout",
     "output_type": "stream",
     "text": [
      "<class 'pandas.core.frame.DataFrame'>\n",
      "RangeIndex: 15366 entries, 0 to 15365\n",
      "Data columns (total 6 columns):\n",
      " #   Column       Non-Null Count  Dtype \n",
      "---  ------       --------------  ----- \n",
      " 0   id           15366 non-null  int64 \n",
      " 1   object_name  15366 non-null  object\n",
      " 2   chain        15366 non-null  object\n",
      " 3   object_type  15366 non-null  object\n",
      " 4   address      15366 non-null  object\n",
      " 5   number       15366 non-null  int64 \n",
      "dtypes: int64(2), object(4)\n",
      "memory usage: 720.4+ KB\n"
     ]
    }
   ],
   "source": [
    "rest_data.info()"
   ]
  },
  {
   "cell_type": "code",
   "execution_count": 4,
   "metadata": {},
   "outputs": [
    {
     "data": {
      "text/html": [
       "<div>\n",
       "<style scoped>\n",
       "    .dataframe tbody tr th:only-of-type {\n",
       "        vertical-align: middle;\n",
       "    }\n",
       "\n",
       "    .dataframe tbody tr th {\n",
       "        vertical-align: top;\n",
       "    }\n",
       "\n",
       "    .dataframe thead th {\n",
       "        text-align: right;\n",
       "    }\n",
       "</style>\n",
       "<table border=\"1\" class=\"dataframe\">\n",
       "  <thead>\n",
       "    <tr style=\"text-align: right;\">\n",
       "      <th></th>\n",
       "      <th>id</th>\n",
       "      <th>object_name</th>\n",
       "      <th>chain</th>\n",
       "      <th>object_type</th>\n",
       "      <th>address</th>\n",
       "      <th>number</th>\n",
       "    </tr>\n",
       "  </thead>\n",
       "  <tbody>\n",
       "    <tr>\n",
       "      <th>0</th>\n",
       "      <td>151635</td>\n",
       "      <td>СМЕТАНА</td>\n",
       "      <td>нет</td>\n",
       "      <td>кафе</td>\n",
       "      <td>город Москва, улица Егора Абакумова, дом 9</td>\n",
       "      <td>48</td>\n",
       "    </tr>\n",
       "    <tr>\n",
       "      <th>1</th>\n",
       "      <td>77874</td>\n",
       "      <td>Родник</td>\n",
       "      <td>нет</td>\n",
       "      <td>кафе</td>\n",
       "      <td>город Москва, улица Талалихина, дом 2/1, корпус 1</td>\n",
       "      <td>35</td>\n",
       "    </tr>\n",
       "    <tr>\n",
       "      <th>2</th>\n",
       "      <td>24309</td>\n",
       "      <td>Кафе «Академия»</td>\n",
       "      <td>нет</td>\n",
       "      <td>кафе</td>\n",
       "      <td>город Москва, Абельмановская улица, дом 6</td>\n",
       "      <td>95</td>\n",
       "    </tr>\n",
       "    <tr>\n",
       "      <th>3</th>\n",
       "      <td>21894</td>\n",
       "      <td>ПИЦЦЕТОРИЯ</td>\n",
       "      <td>да</td>\n",
       "      <td>кафе</td>\n",
       "      <td>город Москва, Абрамцевская улица, дом 1</td>\n",
       "      <td>40</td>\n",
       "    </tr>\n",
       "    <tr>\n",
       "      <th>4</th>\n",
       "      <td>119365</td>\n",
       "      <td>Кафе «Вишневая метель»</td>\n",
       "      <td>нет</td>\n",
       "      <td>кафе</td>\n",
       "      <td>город Москва, Абрамцевская улица, дом 9, корпус 1</td>\n",
       "      <td>50</td>\n",
       "    </tr>\n",
       "    <tr>\n",
       "      <th>5</th>\n",
       "      <td>27429</td>\n",
       "      <td>СТОЛ. ПРИ ГОУ СОШ № 1051</td>\n",
       "      <td>нет</td>\n",
       "      <td>столовая</td>\n",
       "      <td>город Москва, Абрамцевская улица, дом 15, корп...</td>\n",
       "      <td>240</td>\n",
       "    </tr>\n",
       "    <tr>\n",
       "      <th>6</th>\n",
       "      <td>148815</td>\n",
       "      <td>Брусника</td>\n",
       "      <td>да</td>\n",
       "      <td>кафе</td>\n",
       "      <td>город Москва, переулок Сивцев Вражек, дом 6/2</td>\n",
       "      <td>10</td>\n",
       "    </tr>\n",
       "  </tbody>\n",
       "</table>\n",
       "</div>"
      ],
      "text/plain": [
       "       id               object_name chain object_type  \\\n",
       "0  151635                   СМЕТАНА   нет        кафе   \n",
       "1   77874                    Родник   нет        кафе   \n",
       "2   24309           Кафе «Академия»   нет        кафе   \n",
       "3   21894                ПИЦЦЕТОРИЯ    да        кафе   \n",
       "4  119365    Кафе «Вишневая метель»   нет        кафе   \n",
       "5   27429  СТОЛ. ПРИ ГОУ СОШ № 1051   нет    столовая   \n",
       "6  148815                  Брусника    да        кафе   \n",
       "\n",
       "                                             address  number  \n",
       "0         город Москва, улица Егора Абакумова, дом 9      48  \n",
       "1  город Москва, улица Талалихина, дом 2/1, корпус 1      35  \n",
       "2          город Москва, Абельмановская улица, дом 6      95  \n",
       "3            город Москва, Абрамцевская улица, дом 1      40  \n",
       "4  город Москва, Абрамцевская улица, дом 9, корпус 1      50  \n",
       "5  город Москва, Абрамцевская улица, дом 15, корп...     240  \n",
       "6      город Москва, переулок Сивцев Вражек, дом 6/2      10  "
      ]
     },
     "metadata": {},
     "output_type": "display_data"
    }
   ],
   "source": [
    "display(rest_data.head(7))"
   ]
  },
  {
   "cell_type": "code",
   "execution_count": 5,
   "metadata": {},
   "outputs": [
    {
     "data": {
      "text/html": [
       "<div>\n",
       "<style scoped>\n",
       "    .dataframe tbody tr th:only-of-type {\n",
       "        vertical-align: middle;\n",
       "    }\n",
       "\n",
       "    .dataframe tbody tr th {\n",
       "        vertical-align: top;\n",
       "    }\n",
       "\n",
       "    .dataframe thead th {\n",
       "        text-align: right;\n",
       "    }\n",
       "</style>\n",
       "<table border=\"1\" class=\"dataframe\">\n",
       "  <thead>\n",
       "    <tr style=\"text-align: right;\">\n",
       "      <th></th>\n",
       "      <th>id</th>\n",
       "      <th>number</th>\n",
       "    </tr>\n",
       "  </thead>\n",
       "  <tbody>\n",
       "    <tr>\n",
       "      <th>count</th>\n",
       "      <td>15366.000000</td>\n",
       "      <td>15366.000000</td>\n",
       "    </tr>\n",
       "    <tr>\n",
       "      <th>mean</th>\n",
       "      <td>119720.066901</td>\n",
       "      <td>59.547182</td>\n",
       "    </tr>\n",
       "    <tr>\n",
       "      <th>std</th>\n",
       "      <td>73036.130732</td>\n",
       "      <td>74.736833</td>\n",
       "    </tr>\n",
       "    <tr>\n",
       "      <th>min</th>\n",
       "      <td>838.000000</td>\n",
       "      <td>0.000000</td>\n",
       "    </tr>\n",
       "    <tr>\n",
       "      <th>25%</th>\n",
       "      <td>28524.000000</td>\n",
       "      <td>12.000000</td>\n",
       "    </tr>\n",
       "    <tr>\n",
       "      <th>50%</th>\n",
       "      <td>144974.500000</td>\n",
       "      <td>40.000000</td>\n",
       "    </tr>\n",
       "    <tr>\n",
       "      <th>75%</th>\n",
       "      <td>184262.250000</td>\n",
       "      <td>80.000000</td>\n",
       "    </tr>\n",
       "    <tr>\n",
       "      <th>max</th>\n",
       "      <td>223439.000000</td>\n",
       "      <td>1700.000000</td>\n",
       "    </tr>\n",
       "  </tbody>\n",
       "</table>\n",
       "</div>"
      ],
      "text/plain": [
       "                  id        number\n",
       "count   15366.000000  15366.000000\n",
       "mean   119720.066901     59.547182\n",
       "std     73036.130732     74.736833\n",
       "min       838.000000      0.000000\n",
       "25%     28524.000000     12.000000\n",
       "50%    144974.500000     40.000000\n",
       "75%    184262.250000     80.000000\n",
       "max    223439.000000   1700.000000"
      ]
     },
     "execution_count": 5,
     "metadata": {},
     "output_type": "execute_result"
    }
   ],
   "source": [
    "rest_data.describe()"
   ]
  },
  {
   "cell_type": "markdown",
   "metadata": {},
   "source": [
    "Поиск пропусков"
   ]
  },
  {
   "cell_type": "code",
   "execution_count": 6,
   "metadata": {},
   "outputs": [
    {
     "data": {
      "text/plain": [
       "id             0\n",
       "object_name    0\n",
       "chain          0\n",
       "object_type    0\n",
       "address        0\n",
       "number         0\n",
       "dtype: int64"
      ]
     },
     "execution_count": 6,
     "metadata": {},
     "output_type": "execute_result"
    }
   ],
   "source": [
    "rest_data.isna().sum()"
   ]
  },
  {
   "cell_type": "markdown",
   "metadata": {},
   "source": [
    "Поиск дубликатов"
   ]
  },
  {
   "cell_type": "code",
   "execution_count": 7,
   "metadata": {},
   "outputs": [
    {
     "data": {
      "text/plain": [
       "0"
      ]
     },
     "metadata": {},
     "output_type": "display_data"
    }
   ],
   "source": [
    "display(rest_data.duplicated().sum())"
   ]
  },
  {
   "cell_type": "markdown",
   "metadata": {},
   "source": [
    "Изменение шрифта"
   ]
  },
  {
   "cell_type": "code",
   "execution_count": 8,
   "metadata": {},
   "outputs": [],
   "source": [
    "rest_data['object_name'] = rest_data['object_name'].str.lower()"
   ]
  },
  {
   "cell_type": "markdown",
   "metadata": {},
   "source": [
    "#### Вывод - в имеющихся данных пропусков и дубликатов не найдено, все оставил как есть, кроме написания названий точек общепита - их написание сменил, так как все были по разному написаны и привел к общему образцу."
   ]
  },
  {
   "cell_type": "markdown",
   "metadata": {},
   "source": [
    "Поиск дубликатов только по столбцам 'object_name','chain','object_type','address'"
   ]
  },
  {
   "cell_type": "code",
   "execution_count": 9,
   "metadata": {},
   "outputs": [
    {
     "data": {
      "text/plain": [
       "183"
      ]
     },
     "execution_count": 9,
     "metadata": {},
     "output_type": "execute_result"
    }
   ],
   "source": [
    "rest_data.duplicated(subset=['object_name','chain','object_type','address'],keep='last').sum()\n"
   ]
  },
  {
   "cell_type": "code",
   "execution_count": 10,
   "metadata": {},
   "outputs": [],
   "source": [
    "rest_data=rest_data.drop_duplicates(subset=['object_name','chain','object_type','address'],keep='last').reset_index()\n"
   ]
  },
  {
   "cell_type": "code",
   "execution_count": 11,
   "metadata": {},
   "outputs": [],
   "source": [
    "rest_data = rest_data.drop('index', axis=1)"
   ]
  },
  {
   "cell_type": "markdown",
   "metadata": {},
   "source": [
    "Заведения с min и max количеством мест и сети с 1 заведением"
   ]
  },
  {
   "cell_type": "code",
   "execution_count": 12,
   "metadata": {},
   "outputs": [
    {
     "data": {
      "text/plain": [
       "0"
      ]
     },
     "execution_count": 12,
     "metadata": {},
     "output_type": "execute_result"
    }
   ],
   "source": [
    "rest_data['number'].min()"
   ]
  },
  {
   "cell_type": "code",
   "execution_count": 13,
   "metadata": {},
   "outputs": [
    {
     "data": {
      "text/plain": [
       "1700"
      ]
     },
     "execution_count": 13,
     "metadata": {},
     "output_type": "execute_result"
    }
   ],
   "source": [
    "rest_data['number'].max()"
   ]
  },
  {
   "cell_type": "code",
   "execution_count": 14,
   "metadata": {},
   "outputs": [
    {
     "data": {
      "text/html": [
       "<div>\n",
       "<style scoped>\n",
       "    .dataframe tbody tr th:only-of-type {\n",
       "        vertical-align: middle;\n",
       "    }\n",
       "\n",
       "    .dataframe tbody tr th {\n",
       "        vertical-align: top;\n",
       "    }\n",
       "\n",
       "    .dataframe thead th {\n",
       "        text-align: right;\n",
       "    }\n",
       "</style>\n",
       "<table border=\"1\" class=\"dataframe\">\n",
       "  <thead>\n",
       "    <tr style=\"text-align: right;\">\n",
       "      <th></th>\n",
       "      <th>id</th>\n",
       "      <th>object_name</th>\n",
       "      <th>chain</th>\n",
       "      <th>object_type</th>\n",
       "      <th>address</th>\n",
       "      <th>number</th>\n",
       "    </tr>\n",
       "  </thead>\n",
       "  <tbody>\n",
       "    <tr>\n",
       "      <th>3</th>\n",
       "      <td>21894</td>\n",
       "      <td>пиццетория</td>\n",
       "      <td>да</td>\n",
       "      <td>кафе</td>\n",
       "      <td>город Москва, Абрамцевская улица, дом 1</td>\n",
       "      <td>40</td>\n",
       "    </tr>\n",
       "    <tr>\n",
       "      <th>6</th>\n",
       "      <td>148815</td>\n",
       "      <td>брусника</td>\n",
       "      <td>да</td>\n",
       "      <td>кафе</td>\n",
       "      <td>город Москва, переулок Сивцев Вражек, дом 6/2</td>\n",
       "      <td>10</td>\n",
       "    </tr>\n",
       "    <tr>\n",
       "      <th>13</th>\n",
       "      <td>22579</td>\n",
       "      <td>алло пицца</td>\n",
       "      <td>да</td>\n",
       "      <td>кафе</td>\n",
       "      <td>город Москва, улица Авиаторов, дом 14</td>\n",
       "      <td>32</td>\n",
       "    </tr>\n",
       "    <tr>\n",
       "      <th>16</th>\n",
       "      <td>144107</td>\n",
       "      <td>суши wok</td>\n",
       "      <td>да</td>\n",
       "      <td>предприятие быстрого обслуживания</td>\n",
       "      <td>город Москва, Азовская улица, дом 3</td>\n",
       "      <td>7</td>\n",
       "    </tr>\n",
       "    <tr>\n",
       "      <th>18</th>\n",
       "      <td>58565</td>\n",
       "      <td>тануки</td>\n",
       "      <td>да</td>\n",
       "      <td>ресторан</td>\n",
       "      <td>город Москва, Большая Академическая улица, дом 65</td>\n",
       "      <td>160</td>\n",
       "    </tr>\n",
       "    <tr>\n",
       "      <th>...</th>\n",
       "      <td>...</td>\n",
       "      <td>...</td>\n",
       "      <td>...</td>\n",
       "      <td>...</td>\n",
       "      <td>...</td>\n",
       "      <td>...</td>\n",
       "    </tr>\n",
       "    <tr>\n",
       "      <th>15178</th>\n",
       "      <td>219759</td>\n",
       "      <td>шоколадница</td>\n",
       "      <td>да</td>\n",
       "      <td>кафе</td>\n",
       "      <td>город Москва, улица Вавилова, дом 3</td>\n",
       "      <td>36</td>\n",
       "    </tr>\n",
       "    <tr>\n",
       "      <th>15179</th>\n",
       "      <td>208537</td>\n",
       "      <td>шоколадница</td>\n",
       "      <td>да</td>\n",
       "      <td>кафе</td>\n",
       "      <td>город Москва, 3-й Крутицкий переулок, дом 18</td>\n",
       "      <td>50</td>\n",
       "    </tr>\n",
       "    <tr>\n",
       "      <th>15180</th>\n",
       "      <td>209186</td>\n",
       "      <td>шоколадница</td>\n",
       "      <td>да</td>\n",
       "      <td>кафе</td>\n",
       "      <td>город Москва, улица Земляной Вал, дом 33</td>\n",
       "      <td>20</td>\n",
       "    </tr>\n",
       "    <tr>\n",
       "      <th>15181</th>\n",
       "      <td>221900</td>\n",
       "      <td>шоколадница</td>\n",
       "      <td>да</td>\n",
       "      <td>кафе</td>\n",
       "      <td>город Москва, поселение Московский, Киевское ш...</td>\n",
       "      <td>36</td>\n",
       "    </tr>\n",
       "    <tr>\n",
       "      <th>15182</th>\n",
       "      <td>222535</td>\n",
       "      <td>шоколадница</td>\n",
       "      <td>да</td>\n",
       "      <td>кафе</td>\n",
       "      <td>город Москва, Ходынский бульвар, дом 4</td>\n",
       "      <td>10</td>\n",
       "    </tr>\n",
       "  </tbody>\n",
       "</table>\n",
       "<p>2949 rows × 6 columns</p>\n",
       "</div>"
      ],
      "text/plain": [
       "           id  object_name chain                        object_type  \\\n",
       "3       21894   пиццетория    да                               кафе   \n",
       "6      148815     брусника    да                               кафе   \n",
       "13      22579   алло пицца    да                               кафе   \n",
       "16     144107     суши wok    да  предприятие быстрого обслуживания   \n",
       "18      58565       тануки    да                           ресторан   \n",
       "...       ...          ...   ...                                ...   \n",
       "15178  219759  шоколадница    да                               кафе   \n",
       "15179  208537  шоколадница    да                               кафе   \n",
       "15180  209186  шоколадница    да                               кафе   \n",
       "15181  221900  шоколадница    да                               кафе   \n",
       "15182  222535  шоколадница    да                               кафе   \n",
       "\n",
       "                                                 address  number  \n",
       "3                город Москва, Абрамцевская улица, дом 1      40  \n",
       "6          город Москва, переулок Сивцев Вражек, дом 6/2      10  \n",
       "13                 город Москва, улица Авиаторов, дом 14      32  \n",
       "16                   город Москва, Азовская улица, дом 3       7  \n",
       "18     город Москва, Большая Академическая улица, дом 65     160  \n",
       "...                                                  ...     ...  \n",
       "15178                город Москва, улица Вавилова, дом 3      36  \n",
       "15179       город Москва, 3-й Крутицкий переулок, дом 18      50  \n",
       "15180           город Москва, улица Земляной Вал, дом 33      20  \n",
       "15181  город Москва, поселение Московский, Киевское ш...      36  \n",
       "15182             город Москва, Ходынский бульвар, дом 4      10  \n",
       "\n",
       "[2949 rows x 6 columns]"
      ]
     },
     "execution_count": 14,
     "metadata": {},
     "output_type": "execute_result"
    }
   ],
   "source": [
    "rest_data_ch=rest_data.query('chain==\"да\"')\n",
    "rest_data_ch"
   ]
  },
  {
   "cell_type": "code",
   "execution_count": 15,
   "metadata": {},
   "outputs": [
    {
     "data": {
      "text/html": [
       "<div>\n",
       "<style scoped>\n",
       "    .dataframe tbody tr th:only-of-type {\n",
       "        vertical-align: middle;\n",
       "    }\n",
       "\n",
       "    .dataframe tbody tr th {\n",
       "        vertical-align: top;\n",
       "    }\n",
       "\n",
       "    .dataframe thead th {\n",
       "        text-align: right;\n",
       "    }\n",
       "</style>\n",
       "<table border=\"1\" class=\"dataframe\">\n",
       "  <thead>\n",
       "    <tr style=\"text-align: right;\">\n",
       "      <th></th>\n",
       "      <th>object_type</th>\n",
       "    </tr>\n",
       "    <tr>\n",
       "      <th>object_name</th>\n",
       "      <th></th>\n",
       "    </tr>\n",
       "  </thead>\n",
       "  <tbody>\n",
       "    <tr>\n",
       "      <th>kfc</th>\n",
       "      <td>155</td>\n",
       "    </tr>\n",
       "    <tr>\n",
       "      <th>шоколадница</th>\n",
       "      <td>154</td>\n",
       "    </tr>\n",
       "    <tr>\n",
       "      <th>макдоналдс</th>\n",
       "      <td>148</td>\n",
       "    </tr>\n",
       "    <tr>\n",
       "      <th>бургер кинг</th>\n",
       "      <td>136</td>\n",
       "    </tr>\n",
       "    <tr>\n",
       "      <th>теремок</th>\n",
       "      <td>94</td>\n",
       "    </tr>\n",
       "    <tr>\n",
       "      <th>...</th>\n",
       "      <td>...</td>\n",
       "    </tr>\n",
       "    <tr>\n",
       "      <th>кафе «торнадо»</th>\n",
       "      <td>1</td>\n",
       "    </tr>\n",
       "    <tr>\n",
       "      <th>кафе «тапчан»</th>\n",
       "      <td>1</td>\n",
       "    </tr>\n",
       "    <tr>\n",
       "      <th>кафе «тануки»</th>\n",
       "      <td>1</td>\n",
       "    </tr>\n",
       "    <tr>\n",
       "      <th>кафе «суши сет»</th>\n",
       "      <td>1</td>\n",
       "    </tr>\n",
       "    <tr>\n",
       "      <th>кофе с собой gate 42</th>\n",
       "      <td>1</td>\n",
       "    </tr>\n",
       "  </tbody>\n",
       "</table>\n",
       "<p>577 rows × 1 columns</p>\n",
       "</div>"
      ],
      "text/plain": [
       "                      object_type\n",
       "object_name                      \n",
       "kfc                           155\n",
       "шоколадница                   154\n",
       "макдоналдс                    148\n",
       "бургер кинг                   136\n",
       "теремок                        94\n",
       "...                           ...\n",
       "кафе «торнадо»                  1\n",
       "кафе «тапчан»                   1\n",
       "кафе «тануки»                   1\n",
       "кафе «суши сет»                 1\n",
       "кофе с собой gate 42            1\n",
       "\n",
       "[577 rows x 1 columns]"
      ]
     },
     "execution_count": 15,
     "metadata": {},
     "output_type": "execute_result"
    }
   ],
   "source": [
    "rest_data_ch = rest_data_ch.pivot_table(index='object_name', values='object_type', aggfunc='count')\n",
    "rest_data_ch = rest_data_ch.sort_values(by='object_type', ascending=False)\n",
    "rest_data_ch"
   ]
  },
  {
   "cell_type": "code",
   "execution_count": 16,
   "metadata": {},
   "outputs": [
    {
     "data": {
      "text/html": [
       "<div>\n",
       "<style scoped>\n",
       "    .dataframe tbody tr th:only-of-type {\n",
       "        vertical-align: middle;\n",
       "    }\n",
       "\n",
       "    .dataframe tbody tr th {\n",
       "        vertical-align: top;\n",
       "    }\n",
       "\n",
       "    .dataframe thead th {\n",
       "        text-align: right;\n",
       "    }\n",
       "</style>\n",
       "<table border=\"1\" class=\"dataframe\">\n",
       "  <thead>\n",
       "    <tr style=\"text-align: right;\">\n",
       "      <th></th>\n",
       "      <th>object_type</th>\n",
       "    </tr>\n",
       "    <tr>\n",
       "      <th>object_name</th>\n",
       "      <th></th>\n",
       "    </tr>\n",
       "  </thead>\n",
       "  <tbody>\n",
       "    <tr>\n",
       "      <th>папа джонс пицца</th>\n",
       "      <td>1</td>\n",
       "    </tr>\n",
       "    <tr>\n",
       "      <th>помидор</th>\n",
       "      <td>1</td>\n",
       "    </tr>\n",
       "    <tr>\n",
       "      <th>пбо «kfc покрышкина»</th>\n",
       "      <td>1</td>\n",
       "    </tr>\n",
       "    <tr>\n",
       "      <th>шоколад</th>\n",
       "      <td>1</td>\n",
       "    </tr>\n",
       "    <tr>\n",
       "      <th>чин чин</th>\n",
       "      <td>1</td>\n",
       "    </tr>\n",
       "    <tr>\n",
       "      <th>...</th>\n",
       "      <td>...</td>\n",
       "    </tr>\n",
       "    <tr>\n",
       "      <th>кафе «торнадо»</th>\n",
       "      <td>1</td>\n",
       "    </tr>\n",
       "    <tr>\n",
       "      <th>кафе «тапчан»</th>\n",
       "      <td>1</td>\n",
       "    </tr>\n",
       "    <tr>\n",
       "      <th>кафе «тануки»</th>\n",
       "      <td>1</td>\n",
       "    </tr>\n",
       "    <tr>\n",
       "      <th>кафе «суши сет»</th>\n",
       "      <td>1</td>\n",
       "    </tr>\n",
       "    <tr>\n",
       "      <th>кофе с собой gate 42</th>\n",
       "      <td>1</td>\n",
       "    </tr>\n",
       "  </tbody>\n",
       "</table>\n",
       "<p>334 rows × 1 columns</p>\n",
       "</div>"
      ],
      "text/plain": [
       "                      object_type\n",
       "object_name                      \n",
       "папа джонс пицца                1\n",
       "помидор                         1\n",
       "пбо «kfc покрышкина»            1\n",
       "шоколад                         1\n",
       "чин чин                         1\n",
       "...                           ...\n",
       "кафе «торнадо»                  1\n",
       "кафе «тапчан»                   1\n",
       "кафе «тануки»                   1\n",
       "кафе «суши сет»                 1\n",
       "кофе с собой gate 42            1\n",
       "\n",
       "[334 rows x 1 columns]"
      ]
     },
     "execution_count": 16,
     "metadata": {},
     "output_type": "execute_result"
    }
   ],
   "source": [
    "rest_data_ch1 = rest_data_ch.query('object_type==1')\n",
    "rest_data_ch1"
   ]
  },
  {
   "cell_type": "markdown",
   "metadata": {},
   "source": [
    "## Шаг №2. Анализ данных"
   ]
  },
  {
   "cell_type": "markdown",
   "metadata": {},
   "source": [
    "### Исследуйте соотношение видов объектов общественного питания по количеству. Постройте график."
   ]
  },
  {
   "cell_type": "code",
   "execution_count": 17,
   "metadata": {},
   "outputs": [
    {
     "data": {
      "text/html": [
       "<div>\n",
       "<style scoped>\n",
       "    .dataframe tbody tr th:only-of-type {\n",
       "        vertical-align: middle;\n",
       "    }\n",
       "\n",
       "    .dataframe tbody tr th {\n",
       "        vertical-align: top;\n",
       "    }\n",
       "\n",
       "    .dataframe thead th {\n",
       "        text-align: right;\n",
       "    }\n",
       "</style>\n",
       "<table border=\"1\" class=\"dataframe\">\n",
       "  <thead>\n",
       "    <tr style=\"text-align: right;\">\n",
       "      <th></th>\n",
       "      <th>object_type</th>\n",
       "      <th>object_name</th>\n",
       "    </tr>\n",
       "  </thead>\n",
       "  <tbody>\n",
       "    <tr>\n",
       "      <th>0</th>\n",
       "      <td>кафе</td>\n",
       "      <td>6008</td>\n",
       "    </tr>\n",
       "    <tr>\n",
       "      <th>1</th>\n",
       "      <td>столовая</td>\n",
       "      <td>2575</td>\n",
       "    </tr>\n",
       "    <tr>\n",
       "      <th>2</th>\n",
       "      <td>ресторан</td>\n",
       "      <td>2275</td>\n",
       "    </tr>\n",
       "    <tr>\n",
       "      <th>3</th>\n",
       "      <td>предприятие быстрого обслуживания</td>\n",
       "      <td>1890</td>\n",
       "    </tr>\n",
       "    <tr>\n",
       "      <th>4</th>\n",
       "      <td>бар</td>\n",
       "      <td>853</td>\n",
       "    </tr>\n",
       "    <tr>\n",
       "      <th>5</th>\n",
       "      <td>буфет</td>\n",
       "      <td>570</td>\n",
       "    </tr>\n",
       "    <tr>\n",
       "      <th>6</th>\n",
       "      <td>кафетерий</td>\n",
       "      <td>393</td>\n",
       "    </tr>\n",
       "    <tr>\n",
       "      <th>7</th>\n",
       "      <td>закусочная</td>\n",
       "      <td>347</td>\n",
       "    </tr>\n",
       "    <tr>\n",
       "      <th>8</th>\n",
       "      <td>магазин (отдел кулинарии)</td>\n",
       "      <td>272</td>\n",
       "    </tr>\n",
       "  </tbody>\n",
       "</table>\n",
       "</div>"
      ],
      "text/plain": [
       "                         object_type  object_name\n",
       "0                               кафе         6008\n",
       "1                           столовая         2575\n",
       "2                           ресторан         2275\n",
       "3  предприятие быстрого обслуживания         1890\n",
       "4                                бар          853\n",
       "5                              буфет          570\n",
       "6                          кафетерий          393\n",
       "7                         закусочная          347\n",
       "8          магазин (отдел кулинарии)          272"
      ]
     },
     "execution_count": 17,
     "metadata": {},
     "output_type": "execute_result"
    }
   ],
   "source": [
    "rest_data123=rest_data.pivot_table(index='object_type', values='object_name', aggfunc='count')\n",
    "rest_data123=rest_data123.sort_values(by='object_name', ascending=False).reset_index()\n",
    "rest_data123"
   ]
  },
  {
   "cell_type": "code",
   "execution_count": 18,
   "metadata": {},
   "outputs": [
    {
     "data": {
      "image/png": "[encoded data removed]",
      "text/plain": [
       "<Figure size 720x432 with 1 Axes>"
      ]
     },
     "metadata": {
      "needs_background": "light"
     },
     "output_type": "display_data"
    }
   ],
   "source": [
    "plt.figure(figsize=(10,6)) \n",
    "sns.set() \n",
    "temp = rest_data.groupby('object_type').count().reset_index()\n",
    "ax = sns.barplot(x='number', y='object_type', data=temp.sort_values('number', ascending=False),color='green')\n",
    "ax.set_title('Объекты общественного питания в Москве')\n",
    "ax.set_xlabel('Количество объектов')\n",
    "ax.set_ylabel('Назвние объекта')\n",
    "plt.show()"
   ]
  },
  {
   "cell_type": "markdown",
   "metadata": {},
   "source": [
    "#### Вывод - из полученного графика видно, что самым популярным объектом является кафе, их 6008 шт. в Москве, далее столовая - 2575 шт., ресторан - 2275 шт. и тд."
   ]
  },
  {
   "cell_type": "markdown",
   "metadata": {},
   "source": [
    "### Исследуйте соотношение сетевых и несетевых заведений по количеству. Постройте график."
   ]
  },
  {
   "cell_type": "code",
   "execution_count": 19,
   "metadata": {},
   "outputs": [
    {
     "data": {
      "image/png": "[encoded data removed]",
      "text/plain": [
       "<Figure size 432x288 with 1 Axes>"
      ]
     },
     "metadata": {},
     "output_type": "display_data"
    }
   ],
   "source": [
    "sns.set() \n",
    "plt.xticks(rotation=45)\n",
    "plt.ylabel('Количество объектов')\n",
    "plt.xlabel('Сетевой или нет объект')\n",
    "sns.histplot(rest_data[\"chain\"],color='green')\n",
    "plt.title(\"Гистограмма рапспределения по сетевой рапространенности\")\n",
    "plt.show()"
   ]
  },
  {
   "cell_type": "code",
   "execution_count": 20,
   "metadata": {},
   "outputs": [
    {
     "data": {
      "text/plain": [
       "chain\n",
       "да      2949\n",
       "нет    12234\n",
       "Name: object_type, dtype: int64"
      ]
     },
     "execution_count": 20,
     "metadata": {},
     "output_type": "execute_result"
    }
   ],
   "source": [
    "rest_data.groupby('chain')['object_type'].count()\n"
   ]
  },
  {
   "cell_type": "markdown",
   "metadata": {},
   "source": [
    "#### Вывод - данные говорят сами за себя, сетевых предприятий почти в 4 раза меньше, сестевых - 2968 шт., не сетевых - 12398."
   ]
  },
  {
   "cell_type": "markdown",
   "metadata": {},
   "source": [
    "### Для какого вида объекта общественного питания характерно сетевое распространение?"
   ]
  },
  {
   "cell_type": "code",
   "execution_count": 21,
   "metadata": {},
   "outputs": [
    {
     "data": {
      "text/plain": [
       "object_type\n",
       "кафе                                 1387\n",
       "предприятие быстрого обслуживания     784\n",
       "ресторан                              542\n",
       "магазин (отдел кулинарии)              78\n",
       "закусочная                             56\n",
       "кафетерий                              51\n",
       "бар                                    37\n",
       "буфет                                  11\n",
       "столовая                                3\n",
       "Name: object_name, dtype: int64"
      ]
     },
     "execution_count": 21,
     "metadata": {},
     "output_type": "execute_result"
    }
   ],
   "source": [
    "rest_data_chain_yes = rest_data.query('chain==\"да\"')\n",
    "rest_data_chain_yes.groupby('object_type')['object_name'].count().sort_values(ascending=False)"
   ]
  },
  {
   "cell_type": "code",
   "execution_count": 22,
   "metadata": {},
   "outputs": [
    {
     "data": {
      "image/png": "[encoded data removed]",
      "text/plain": [
       "<Figure size 720x288 with 1 Axes>"
      ]
     },
     "metadata": {},
     "output_type": "display_data"
    }
   ],
   "source": [
    "plt.figure(figsize=(10,4)) \n",
    "sns.set() \n",
    "temp1 = rest_data_chain_yes.groupby('object_type').count().reset_index()\n",
    "plt.xticks(rotation=45)\n",
    "plt.ylabel('Количество объектов')\n",
    "plt.xlabel('Сетевой объект')\n",
    "sns.barplot(x='number', y='object_type', data=temp1.sort_values('number', ascending=False),color='green')\n",
    "plt.title(\"Типы объетков и их количество(сеть)\") \n",
    "plt.show() "
   ]
  },
  {
   "cell_type": "markdown",
   "metadata": {},
   "source": [
    "#### Вывод - Гистограмма показывает, что самое распространненое  место среди сетевых объектов  кафе, их 1396 шт., далее предприятие быстрого обслуживания - 791 шт., ресторан - 544 шт."
   ]
  },
  {
   "cell_type": "code",
   "execution_count": 23,
   "metadata": {},
   "outputs": [
    {
     "data": {
      "text/html": [
       "<div>\n",
       "<style scoped>\n",
       "    .dataframe tbody tr th:only-of-type {\n",
       "        vertical-align: middle;\n",
       "    }\n",
       "\n",
       "    .dataframe tbody tr th {\n",
       "        vertical-align: top;\n",
       "    }\n",
       "\n",
       "    .dataframe thead th {\n",
       "        text-align: right;\n",
       "    }\n",
       "</style>\n",
       "<table border=\"1\" class=\"dataframe\">\n",
       "  <thead>\n",
       "    <tr style=\"text-align: right;\">\n",
       "      <th></th>\n",
       "      <th>object_name</th>\n",
       "      <th>chogort</th>\n",
       "      <th>%_object_type</th>\n",
       "    </tr>\n",
       "    <tr>\n",
       "      <th>object_type</th>\n",
       "      <th></th>\n",
       "      <th></th>\n",
       "      <th></th>\n",
       "    </tr>\n",
       "  </thead>\n",
       "  <tbody>\n",
       "    <tr>\n",
       "      <th>предприятие быстрого обслуживания</th>\n",
       "      <td>784</td>\n",
       "      <td>1890</td>\n",
       "      <td>0.414815</td>\n",
       "    </tr>\n",
       "    <tr>\n",
       "      <th>магазин (отдел кулинарии)</th>\n",
       "      <td>78</td>\n",
       "      <td>272</td>\n",
       "      <td>0.286765</td>\n",
       "    </tr>\n",
       "    <tr>\n",
       "      <th>ресторан</th>\n",
       "      <td>542</td>\n",
       "      <td>2275</td>\n",
       "      <td>0.238242</td>\n",
       "    </tr>\n",
       "    <tr>\n",
       "      <th>кафе</th>\n",
       "      <td>1387</td>\n",
       "      <td>6008</td>\n",
       "      <td>0.230859</td>\n",
       "    </tr>\n",
       "    <tr>\n",
       "      <th>закусочная</th>\n",
       "      <td>56</td>\n",
       "      <td>347</td>\n",
       "      <td>0.161383</td>\n",
       "    </tr>\n",
       "    <tr>\n",
       "      <th>кафетерий</th>\n",
       "      <td>51</td>\n",
       "      <td>393</td>\n",
       "      <td>0.129771</td>\n",
       "    </tr>\n",
       "    <tr>\n",
       "      <th>бар</th>\n",
       "      <td>37</td>\n",
       "      <td>853</td>\n",
       "      <td>0.043376</td>\n",
       "    </tr>\n",
       "    <tr>\n",
       "      <th>буфет</th>\n",
       "      <td>11</td>\n",
       "      <td>570</td>\n",
       "      <td>0.019298</td>\n",
       "    </tr>\n",
       "    <tr>\n",
       "      <th>столовая</th>\n",
       "      <td>3</td>\n",
       "      <td>2575</td>\n",
       "      <td>0.001165</td>\n",
       "    </tr>\n",
       "  </tbody>\n",
       "</table>\n",
       "</div>"
      ],
      "text/plain": [
       "                                   object_name  chogort  %_object_type\n",
       "object_type                                                           \n",
       "предприятие быстрого обслуживания          784     1890       0.414815\n",
       "магазин (отдел кулинарии)                   78      272       0.286765\n",
       "ресторан                                   542     2275       0.238242\n",
       "кафе                                      1387     6008       0.230859\n",
       "закусочная                                  56      347       0.161383\n",
       "кафетерий                                   51      393       0.129771\n",
       "бар                                         37      853       0.043376\n",
       "буфет                                       11      570       0.019298\n",
       "столовая                                     3     2575       0.001165"
      ]
     },
     "execution_count": 23,
     "metadata": {},
     "output_type": "execute_result"
    }
   ],
   "source": [
    "payer = pd.pivot_table(rest_data_chain_yes, index = 'object_type', values='object_name', aggfunc = 'count')\n",
    "\n",
    "payer['chogort'] = rest_data['object_type'].value_counts().sort_values()\n",
    "payer['%_object_type'] = payer['object_name']/payer['chogort']\n",
    "payer=payer.sort_values(by='%_object_type', ascending=False)\n",
    "payer"
   ]
  },
  {
   "cell_type": "code",
   "execution_count": 24,
   "metadata": {},
   "outputs": [
    {
     "data": {
      "image/png": "[encoded data removed]",
      "text/plain": [
       "<Figure size 432x288 with 2 Axes>"
      ]
     },
     "metadata": {},
     "output_type": "display_data"
    }
   ],
   "source": [
    "sns.heatmap(payer.drop(columns=['object_name','chogort']), annot=True, fmt='.2%', cmap= 'coolwarm')\n",
    "plt.title('Тепловая карта процентного соотношения cетевых объектов')\n",
    "\n",
    "plt.show()"
   ]
  },
  {
   "cell_type": "markdown",
   "metadata": {},
   "source": [
    "### Что характерно для сетевых заведений: много заведений с небольшим числом посадочных мест в каждом или мало заведений с большим количеством посадочных мест?"
   ]
  },
  {
   "cell_type": "code",
   "execution_count": 25,
   "metadata": {},
   "outputs": [
    {
     "data": {
      "text/plain": [
       "number\n",
       "0      262\n",
       "1       15\n",
       "2       29\n",
       "3       16\n",
       "4       44\n",
       "      ... \n",
       "430      1\n",
       "456      1\n",
       "480      1\n",
       "500      1\n",
       "580      1\n",
       "Name: object_type, Length: 194, dtype: int64"
      ]
     },
     "execution_count": 25,
     "metadata": {},
     "output_type": "execute_result"
    }
   ],
   "source": [
    "rest_data_chain_yes.groupby('number')['object_type'].count()"
   ]
  },
  {
   "cell_type": "code",
   "execution_count": 26,
   "metadata": {},
   "outputs": [
    {
     "data": {
      "image/png": "[encoded data removed]",
      "text/plain": [
       "<Figure size 720x288 with 1 Axes>"
      ]
     },
     "metadata": {},
     "output_type": "display_data"
    }
   ],
   "source": [
    "plt.figure(figsize=(10,4)) \n",
    "sns.set() \n",
    "plt.xticks(rotation=45)\n",
    "plt.ylabel('Количество объектов')\n",
    "plt.xlabel('Количество посадочных мест')\n",
    "sns.histplot(rest_data_chain_yes[\"number\"],color='green')\n",
    "plt.title(\"Гистограмма распределения посадочных мест в заведениях общепита(сеть)\") \n",
    "plt.show() "
   ]
  },
  {
   "cell_type": "code",
   "execution_count": 27,
   "metadata": {},
   "outputs": [
    {
     "data": {
      "text/plain": [
       "object_type\n",
       "кафе                                 1387\n",
       "предприятие быстрого обслуживания     784\n",
       "ресторан                              542\n",
       "магазин (отдел кулинарии)              78\n",
       "закусочная                             56\n",
       "кафетерий                              51\n",
       "бар                                    37\n",
       "буфет                                  11\n",
       "столовая                                3\n",
       "Name: number, dtype: int64"
      ]
     },
     "execution_count": 27,
     "metadata": {},
     "output_type": "execute_result"
    }
   ],
   "source": [
    "rest_data_chain_yes.groupby('object_type')['number'].count().sort_values(ascending=False)"
   ]
  },
  {
   "cell_type": "markdown",
   "metadata": {},
   "source": [
    "Посмотрим на колчиство посадочных мест в зависимости от типа объекта "
   ]
  },
  {
   "cell_type": "code",
   "execution_count": 28,
   "metadata": {},
   "outputs": [
    {
     "data": {
      "text/html": [
       "<div>\n",
       "<style scoped>\n",
       "    .dataframe tbody tr th:only-of-type {\n",
       "        vertical-align: middle;\n",
       "    }\n",
       "\n",
       "    .dataframe tbody tr th {\n",
       "        vertical-align: top;\n",
       "    }\n",
       "\n",
       "    .dataframe thead th {\n",
       "        text-align: right;\n",
       "    }\n",
       "</style>\n",
       "<table border=\"1\" class=\"dataframe\">\n",
       "  <thead>\n",
       "    <tr style=\"text-align: right;\">\n",
       "      <th></th>\n",
       "      <th>object_name</th>\n",
       "      <th>count</th>\n",
       "      <th>median</th>\n",
       "    </tr>\n",
       "  </thead>\n",
       "  <tbody>\n",
       "    <tr>\n",
       "      <th>0</th>\n",
       "      <td>beverly hills diner</td>\n",
       "      <td>1</td>\n",
       "      <td>88.0</td>\n",
       "    </tr>\n",
       "    <tr>\n",
       "      <th>1</th>\n",
       "      <td>bierloga</td>\n",
       "      <td>1</td>\n",
       "      <td>75.0</td>\n",
       "    </tr>\n",
       "    <tr>\n",
       "      <th>2</th>\n",
       "      <td>black &amp; white</td>\n",
       "      <td>1</td>\n",
       "      <td>40.0</td>\n",
       "    </tr>\n",
       "    <tr>\n",
       "      <th>3</th>\n",
       "      <td>bocconcino</td>\n",
       "      <td>3</td>\n",
       "      <td>68.0</td>\n",
       "    </tr>\n",
       "    <tr>\n",
       "      <th>4</th>\n",
       "      <td>boobo</td>\n",
       "      <td>1</td>\n",
       "      <td>46.0</td>\n",
       "    </tr>\n",
       "    <tr>\n",
       "      <th>...</th>\n",
       "      <td>...</td>\n",
       "      <td>...</td>\n",
       "      <td>...</td>\n",
       "    </tr>\n",
       "    <tr>\n",
       "      <th>572</th>\n",
       "      <td>ямми микс</td>\n",
       "      <td>1</td>\n",
       "      <td>2.0</td>\n",
       "    </tr>\n",
       "    <tr>\n",
       "      <th>573</th>\n",
       "      <td>ян примус</td>\n",
       "      <td>1</td>\n",
       "      <td>300.0</td>\n",
       "    </tr>\n",
       "    <tr>\n",
       "      <th>574</th>\n",
       "      <td>японский ресторан «ваби-саби»</td>\n",
       "      <td>1</td>\n",
       "      <td>155.0</td>\n",
       "    </tr>\n",
       "    <tr>\n",
       "      <th>575</th>\n",
       "      <td>япоша</td>\n",
       "      <td>2</td>\n",
       "      <td>105.0</td>\n",
       "    </tr>\n",
       "    <tr>\n",
       "      <th>576</th>\n",
       "      <td>ёрш</td>\n",
       "      <td>4</td>\n",
       "      <td>104.0</td>\n",
       "    </tr>\n",
       "  </tbody>\n",
       "</table>\n",
       "<p>577 rows × 3 columns</p>\n",
       "</div>"
      ],
      "text/plain": [
       "                       object_name  count  median\n",
       "0              beverly hills diner      1    88.0\n",
       "1                         bierloga      1    75.0\n",
       "2                    black & white      1    40.0\n",
       "3                       bocconcino      3    68.0\n",
       "4                            boobo      1    46.0\n",
       "..                             ...    ...     ...\n",
       "572                      ямми микс      1     2.0\n",
       "573                      ян примус      1   300.0\n",
       "574  японский ресторан «ваби-саби»      1   155.0\n",
       "575                          япоша      2   105.0\n",
       "576                            ёрш      4   104.0\n",
       "\n",
       "[577 rows x 3 columns]"
      ]
     },
     "execution_count": 28,
     "metadata": {},
     "output_type": "execute_result"
    }
   ],
   "source": [
    "# группируем данные по наименованиям сети\n",
    "rest_chain_group = rest_data_chain_yes.groupby('object_name')['number'].agg(['count','median']).reset_index()\n",
    "rest_chain_group"
   ]
  },
  {
   "cell_type": "code",
   "execution_count": 29,
   "metadata": {},
   "outputs": [
    {
     "data": {
      "image/png": "[encoded data removed]",
      "text/plain": [
       "<Figure size 720x432 with 1 Axes>"
      ]
     },
     "metadata": {},
     "output_type": "display_data"
    }
   ],
   "source": [
    "fig, test = plt.subplots()\n",
    "test.scatter(rest_chain_group['median'],rest_chain_group['count'])\n",
    "\n",
    "test.set_title('Диаграмма расеивания по количеству мест по заведениям') \n",
    "test.set_xlabel('Среднее количество мест по заведениям')\n",
    "test.set_ylabel('Количество заведений') \n",
    "fig.set_figheight(6)  \n",
    "fig.set_figwidth(10)  \n",
    "\n",
    "plt.show()"
   ]
  },
  {
   "cell_type": "code",
   "execution_count": 30,
   "metadata": {},
   "outputs": [
    {
     "data": {
      "image/png": "[encoded data removed]",
      "text/plain": [
       "<Figure size 576x288 with 1 Axes>"
      ]
     },
     "metadata": {},
     "output_type": "display_data"
    }
   ],
   "source": [
    "plt.figure(figsize=(8,4)) \n",
    "sns.set() \n",
    "plt.xticks(rotation=45)\n",
    "sns.boxplot(x='number', y='object_type', data=rest_data_chain_yes)\n",
    "plt.title(\" Распределения посадочных мест в заведениях общепита по типу объекта(сеть)\") \n",
    "plt.ylabel('Количество посадочных мест')\n",
    "plt.xlabel('Объект')\n",
    "plt.show()"
   ]
  },
  {
   "cell_type": "markdown",
   "metadata": {},
   "source": [
    "#### Вывод - для сетевых заведений, если смотреть по посадочным местам то преобладает кафе в количестве 1396 шт. но разброс по количеству посадочных мест не большой от 20 до 60 посадочных мест, предприятие общественного питания имеет  791 точек но разброс по местам примерно тот же что и у кафе немного меньше до 50 мест, ресторанов хоть и меньше - 544 шт. но разнос по посадкам больше - от 60 до 130 мест и тд."
   ]
  },
  {
   "cell_type": "markdown",
   "metadata": {},
   "source": [
    "### Для каждого вида объекта общественного питания опишите среднее количество посадочных мест. Какой вид предоставляет в среднем самое большое количество посадочных мест? Постройте графики"
   ]
  },
  {
   "cell_type": "code",
   "execution_count": 31,
   "metadata": {},
   "outputs": [
    {
     "data": {
      "text/html": [
       "<div>\n",
       "<style scoped>\n",
       "    .dataframe tbody tr th:only-of-type {\n",
       "        vertical-align: middle;\n",
       "    }\n",
       "\n",
       "    .dataframe tbody tr th {\n",
       "        vertical-align: top;\n",
       "    }\n",
       "\n",
       "    .dataframe thead th {\n",
       "        text-align: right;\n",
       "    }\n",
       "</style>\n",
       "<table border=\"1\" class=\"dataframe\">\n",
       "  <thead>\n",
       "    <tr style=\"text-align: right;\">\n",
       "      <th></th>\n",
       "      <th>object_type</th>\n",
       "      <th>number</th>\n",
       "    </tr>\n",
       "  </thead>\n",
       "  <tbody>\n",
       "    <tr>\n",
       "      <th>0</th>\n",
       "      <td>столовая</td>\n",
       "      <td>103</td>\n",
       "    </tr>\n",
       "    <tr>\n",
       "      <th>1</th>\n",
       "      <td>ресторан</td>\n",
       "      <td>80</td>\n",
       "    </tr>\n",
       "    <tr>\n",
       "      <th>2</th>\n",
       "      <td>бар</td>\n",
       "      <td>35</td>\n",
       "    </tr>\n",
       "    <tr>\n",
       "      <th>3</th>\n",
       "      <td>буфет</td>\n",
       "      <td>32</td>\n",
       "    </tr>\n",
       "    <tr>\n",
       "      <th>4</th>\n",
       "      <td>кафе</td>\n",
       "      <td>31</td>\n",
       "    </tr>\n",
       "    <tr>\n",
       "      <th>5</th>\n",
       "      <td>кафетерий</td>\n",
       "      <td>6</td>\n",
       "    </tr>\n",
       "    <tr>\n",
       "      <th>6</th>\n",
       "      <td>предприятие быстрого обслуживания</td>\n",
       "      <td>6</td>\n",
       "    </tr>\n",
       "    <tr>\n",
       "      <th>7</th>\n",
       "      <td>закусочная</td>\n",
       "      <td>0</td>\n",
       "    </tr>\n",
       "    <tr>\n",
       "      <th>8</th>\n",
       "      <td>магазин (отдел кулинарии)</td>\n",
       "      <td>0</td>\n",
       "    </tr>\n",
       "  </tbody>\n",
       "</table>\n",
       "</div>"
      ],
      "text/plain": [
       "                         object_type  number\n",
       "0                           столовая     103\n",
       "1                           ресторан      80\n",
       "2                                бар      35\n",
       "3                              буфет      32\n",
       "4                               кафе      31\n",
       "5                          кафетерий       6\n",
       "6  предприятие быстрого обслуживания       6\n",
       "7                         закусочная       0\n",
       "8          магазин (отдел кулинарии)       0"
      ]
     },
     "execution_count": 31,
     "metadata": {},
     "output_type": "execute_result"
    }
   ],
   "source": [
    "rest_data_median = rest_data.pivot_table(index = 'object_type', values = 'number', aggfunc='median')\n",
    "rest_data_median= rest_data_median.sort_values(by='number', ascending=False).reset_index()\n",
    "rest_data_median"
   ]
  },
  {
   "cell_type": "code",
   "execution_count": 32,
   "metadata": {},
   "outputs": [
    {
     "data": {
      "image/png": "[encoded data removed]",
      "text/plain": [
       "<Figure size 432x288 with 1 Axes>"
      ]
     },
     "metadata": {},
     "output_type": "display_data"
    }
   ],
   "source": [
    "sns.set() \n",
    "plt.xticks(rotation=45)\n",
    "sns.barplot(x='number', y='object_type', data=rest_data_median, color='green')\n",
    "plt.title(\" Распределения посадочных мест в заведениях общепита по типу объекта(среднее)\") \n",
    "plt.ylabel('Количество посадочных мест')\n",
    "plt.xlabel('Объект')\n",
    "plt.show()"
   ]
  },
  {
   "cell_type": "markdown",
   "metadata": {},
   "source": [
    "#### Вывод - по средним значениям на 1 м месте находиться столовая с 103 мест, далее ресторан - 80 мест, бар - 35 мест и тд."
   ]
  },
  {
   "cell_type": "markdown",
   "metadata": {},
   "source": [
    "### Выделите в отдельный столбец информацию об улице из столбца address "
   ]
  },
  {
   "cell_type": "code",
   "execution_count": 33,
   "metadata": {},
   "outputs": [
    {
     "data": {
      "text/html": [
       "<div>\n",
       "<style scoped>\n",
       "    .dataframe tbody tr th:only-of-type {\n",
       "        vertical-align: middle;\n",
       "    }\n",
       "\n",
       "    .dataframe tbody tr th {\n",
       "        vertical-align: top;\n",
       "    }\n",
       "\n",
       "    .dataframe thead th {\n",
       "        text-align: right;\n",
       "    }\n",
       "</style>\n",
       "<table border=\"1\" class=\"dataframe\">\n",
       "  <thead>\n",
       "    <tr style=\"text-align: right;\">\n",
       "      <th></th>\n",
       "      <th>id</th>\n",
       "      <th>object_name</th>\n",
       "      <th>chain</th>\n",
       "      <th>object_type</th>\n",
       "      <th>address</th>\n",
       "      <th>number</th>\n",
       "    </tr>\n",
       "  </thead>\n",
       "  <tbody>\n",
       "    <tr>\n",
       "      <th>0</th>\n",
       "      <td>151635</td>\n",
       "      <td>сметана</td>\n",
       "      <td>нет</td>\n",
       "      <td>кафе</td>\n",
       "      <td>город Москва, улица Егора Абакумова, дом 9</td>\n",
       "      <td>48</td>\n",
       "    </tr>\n",
       "    <tr>\n",
       "      <th>1</th>\n",
       "      <td>77874</td>\n",
       "      <td>родник</td>\n",
       "      <td>нет</td>\n",
       "      <td>кафе</td>\n",
       "      <td>город Москва, улица Талалихина, дом 2/1, корпус 1</td>\n",
       "      <td>35</td>\n",
       "    </tr>\n",
       "    <tr>\n",
       "      <th>2</th>\n",
       "      <td>24309</td>\n",
       "      <td>кафе «академия»</td>\n",
       "      <td>нет</td>\n",
       "      <td>кафе</td>\n",
       "      <td>город Москва, Абельмановская улица, дом 6</td>\n",
       "      <td>95</td>\n",
       "    </tr>\n",
       "    <tr>\n",
       "      <th>3</th>\n",
       "      <td>21894</td>\n",
       "      <td>пиццетория</td>\n",
       "      <td>да</td>\n",
       "      <td>кафе</td>\n",
       "      <td>город Москва, Абрамцевская улица, дом 1</td>\n",
       "      <td>40</td>\n",
       "    </tr>\n",
       "    <tr>\n",
       "      <th>4</th>\n",
       "      <td>119365</td>\n",
       "      <td>кафе «вишневая метель»</td>\n",
       "      <td>нет</td>\n",
       "      <td>кафе</td>\n",
       "      <td>город Москва, Абрамцевская улица, дом 9, корпус 1</td>\n",
       "      <td>50</td>\n",
       "    </tr>\n",
       "  </tbody>\n",
       "</table>\n",
       "</div>"
      ],
      "text/plain": [
       "       id             object_name chain object_type  \\\n",
       "0  151635                 сметана   нет        кафе   \n",
       "1   77874                  родник   нет        кафе   \n",
       "2   24309         кафе «академия»   нет        кафе   \n",
       "3   21894              пиццетория    да        кафе   \n",
       "4  119365  кафе «вишневая метель»   нет        кафе   \n",
       "\n",
       "                                             address  number  \n",
       "0         город Москва, улица Егора Абакумова, дом 9      48  \n",
       "1  город Москва, улица Талалихина, дом 2/1, корпус 1      35  \n",
       "2          город Москва, Абельмановская улица, дом 6      95  \n",
       "3            город Москва, Абрамцевская улица, дом 1      40  \n",
       "4  город Москва, Абрамцевская улица, дом 9, корпус 1      50  "
      ]
     },
     "execution_count": 33,
     "metadata": {},
     "output_type": "execute_result"
    }
   ],
   "source": [
    "rest_data.head()"
   ]
  },
  {
   "cell_type": "code",
   "execution_count": 36,
   "metadata": {},
   "outputs": [],
   "source": [
    "rest_data['street'] = rest_data['address'].apply(lambda x: x.split(',')[1])"
   ]
  },
  {
   "cell_type": "code",
   "execution_count": 37,
   "metadata": {},
   "outputs": [],
   "source": [
    "rest_data = rest_data[~rest_data['street'].str.contains('город|поселение|посёлок|поселок|владение|дом|село|Проезд|тупик|линия|километр')]"
   ]
  },
  {
   "cell_type": "code",
   "execution_count": 38,
   "metadata": {},
   "outputs": [
    {
     "data": {
      "text/html": [
       "<div>\n",
       "<style scoped>\n",
       "    .dataframe tbody tr th:only-of-type {\n",
       "        vertical-align: middle;\n",
       "    }\n",
       "\n",
       "    .dataframe tbody tr th {\n",
       "        vertical-align: top;\n",
       "    }\n",
       "\n",
       "    .dataframe thead th {\n",
       "        text-align: right;\n",
       "    }\n",
       "</style>\n",
       "<table border=\"1\" class=\"dataframe\">\n",
       "  <thead>\n",
       "    <tr style=\"text-align: right;\">\n",
       "      <th></th>\n",
       "      <th>id</th>\n",
       "      <th>object_name</th>\n",
       "      <th>chain</th>\n",
       "      <th>object_type</th>\n",
       "      <th>address</th>\n",
       "      <th>number</th>\n",
       "      <th>street</th>\n",
       "    </tr>\n",
       "  </thead>\n",
       "  <tbody>\n",
       "    <tr>\n",
       "      <th>0</th>\n",
       "      <td>151635</td>\n",
       "      <td>сметана</td>\n",
       "      <td>нет</td>\n",
       "      <td>кафе</td>\n",
       "      <td>город Москва, улица Егора Абакумова, дом 9</td>\n",
       "      <td>48</td>\n",
       "      <td>улица Егора Абакумова</td>\n",
       "    </tr>\n",
       "    <tr>\n",
       "      <th>1</th>\n",
       "      <td>77874</td>\n",
       "      <td>родник</td>\n",
       "      <td>нет</td>\n",
       "      <td>кафе</td>\n",
       "      <td>город Москва, улица Талалихина, дом 2/1, корпус 1</td>\n",
       "      <td>35</td>\n",
       "      <td>улица Талалихина</td>\n",
       "    </tr>\n",
       "    <tr>\n",
       "      <th>2</th>\n",
       "      <td>24309</td>\n",
       "      <td>кафе «академия»</td>\n",
       "      <td>нет</td>\n",
       "      <td>кафе</td>\n",
       "      <td>город Москва, Абельмановская улица, дом 6</td>\n",
       "      <td>95</td>\n",
       "      <td>Абельмановская улица</td>\n",
       "    </tr>\n",
       "    <tr>\n",
       "      <th>3</th>\n",
       "      <td>21894</td>\n",
       "      <td>пиццетория</td>\n",
       "      <td>да</td>\n",
       "      <td>кафе</td>\n",
       "      <td>город Москва, Абрамцевская улица, дом 1</td>\n",
       "      <td>40</td>\n",
       "      <td>Абрамцевская улица</td>\n",
       "    </tr>\n",
       "    <tr>\n",
       "      <th>4</th>\n",
       "      <td>119365</td>\n",
       "      <td>кафе «вишневая метель»</td>\n",
       "      <td>нет</td>\n",
       "      <td>кафе</td>\n",
       "      <td>город Москва, Абрамцевская улица, дом 9, корпус 1</td>\n",
       "      <td>50</td>\n",
       "      <td>Абрамцевская улица</td>\n",
       "    </tr>\n",
       "    <tr>\n",
       "      <th>...</th>\n",
       "      <td>...</td>\n",
       "      <td>...</td>\n",
       "      <td>...</td>\n",
       "      <td>...</td>\n",
       "      <td>...</td>\n",
       "      <td>...</td>\n",
       "      <td>...</td>\n",
       "    </tr>\n",
       "    <tr>\n",
       "      <th>15177</th>\n",
       "      <td>222077</td>\n",
       "      <td>кофейня «шоколадница»</td>\n",
       "      <td>да</td>\n",
       "      <td>кафе</td>\n",
       "      <td>город Москва, Кантемировская улица, дом 47</td>\n",
       "      <td>72</td>\n",
       "      <td>Кантемировская улица</td>\n",
       "    </tr>\n",
       "    <tr>\n",
       "      <th>15178</th>\n",
       "      <td>219759</td>\n",
       "      <td>шоколадница</td>\n",
       "      <td>да</td>\n",
       "      <td>кафе</td>\n",
       "      <td>город Москва, улица Вавилова, дом 3</td>\n",
       "      <td>36</td>\n",
       "      <td>улица Вавилова</td>\n",
       "    </tr>\n",
       "    <tr>\n",
       "      <th>15179</th>\n",
       "      <td>208537</td>\n",
       "      <td>шоколадница</td>\n",
       "      <td>да</td>\n",
       "      <td>кафе</td>\n",
       "      <td>город Москва, 3-й Крутицкий переулок, дом 18</td>\n",
       "      <td>50</td>\n",
       "      <td>3-й Крутицкий переулок</td>\n",
       "    </tr>\n",
       "    <tr>\n",
       "      <th>15180</th>\n",
       "      <td>209186</td>\n",
       "      <td>шоколадница</td>\n",
       "      <td>да</td>\n",
       "      <td>кафе</td>\n",
       "      <td>город Москва, улица Земляной Вал, дом 33</td>\n",
       "      <td>20</td>\n",
       "      <td>улица Земляной Вал</td>\n",
       "    </tr>\n",
       "    <tr>\n",
       "      <th>15182</th>\n",
       "      <td>222535</td>\n",
       "      <td>шоколадница</td>\n",
       "      <td>да</td>\n",
       "      <td>кафе</td>\n",
       "      <td>город Москва, Ходынский бульвар, дом 4</td>\n",
       "      <td>10</td>\n",
       "      <td>Ходынский бульвар</td>\n",
       "    </tr>\n",
       "  </tbody>\n",
       "</table>\n",
       "<p>14178 rows × 7 columns</p>\n",
       "</div>"
      ],
      "text/plain": [
       "           id             object_name chain object_type  \\\n",
       "0      151635                 сметана   нет        кафе   \n",
       "1       77874                  родник   нет        кафе   \n",
       "2       24309         кафе «академия»   нет        кафе   \n",
       "3       21894              пиццетория    да        кафе   \n",
       "4      119365  кафе «вишневая метель»   нет        кафе   \n",
       "...       ...                     ...   ...         ...   \n",
       "15177  222077   кофейня «шоколадница»    да        кафе   \n",
       "15178  219759             шоколадница    да        кафе   \n",
       "15179  208537             шоколадница    да        кафе   \n",
       "15180  209186             шоколадница    да        кафе   \n",
       "15182  222535             шоколадница    да        кафе   \n",
       "\n",
       "                                                 address  number  \\\n",
       "0             город Москва, улица Егора Абакумова, дом 9      48   \n",
       "1      город Москва, улица Талалихина, дом 2/1, корпус 1      35   \n",
       "2              город Москва, Абельмановская улица, дом 6      95   \n",
       "3                город Москва, Абрамцевская улица, дом 1      40   \n",
       "4      город Москва, Абрамцевская улица, дом 9, корпус 1      50   \n",
       "...                                                  ...     ...   \n",
       "15177         город Москва, Кантемировская улица, дом 47      72   \n",
       "15178                город Москва, улица Вавилова, дом 3      36   \n",
       "15179       город Москва, 3-й Крутицкий переулок, дом 18      50   \n",
       "15180           город Москва, улица Земляной Вал, дом 33      20   \n",
       "15182             город Москва, Ходынский бульвар, дом 4      10   \n",
       "\n",
       "                        street  \n",
       "0        улица Егора Абакумова  \n",
       "1             улица Талалихина  \n",
       "2         Абельмановская улица  \n",
       "3           Абрамцевская улица  \n",
       "4           Абрамцевская улица  \n",
       "...                        ...  \n",
       "15177     Кантемировская улица  \n",
       "15178           улица Вавилова  \n",
       "15179   3-й Крутицкий переулок  \n",
       "15180       улица Земляной Вал  \n",
       "15182        Ходынский бульвар  \n",
       "\n",
       "[14178 rows x 7 columns]"
      ]
     },
     "execution_count": 38,
     "metadata": {},
     "output_type": "execute_result"
    }
   ],
   "source": [
    "rest_data.head()"
   ]
  },
  {
   "cell_type": "code",
   "execution_count": 39,
   "metadata": {},
   "outputs": [
    {
     "data": {
      "text/html": [
       "<div>\n",
       "<style scoped>\n",
       "    .dataframe tbody tr th:only-of-type {\n",
       "        vertical-align: middle;\n",
       "    }\n",
       "\n",
       "    .dataframe tbody tr th {\n",
       "        vertical-align: top;\n",
       "    }\n",
       "\n",
       "    .dataframe thead th {\n",
       "        text-align: right;\n",
       "    }\n",
       "</style>\n",
       "<table border=\"1\" class=\"dataframe\">\n",
       "  <thead>\n",
       "    <tr style=\"text-align: right;\">\n",
       "      <th></th>\n",
       "      <th>street</th>\n",
       "      <th>id</th>\n",
       "    </tr>\n",
       "  </thead>\n",
       "  <tbody>\n",
       "    <tr>\n",
       "      <th>1740</th>\n",
       "      <td>Фролов переулок</td>\n",
       "      <td>1</td>\n",
       "    </tr>\n",
       "    <tr>\n",
       "      <th>1741</th>\n",
       "      <td>Хилков переулок</td>\n",
       "      <td>1</td>\n",
       "    </tr>\n",
       "    <tr>\n",
       "      <th>1742</th>\n",
       "      <td>Фруктовая улица</td>\n",
       "      <td>1</td>\n",
       "    </tr>\n",
       "    <tr>\n",
       "      <th>1743</th>\n",
       "      <td>Кооперативная улица</td>\n",
       "      <td>1</td>\n",
       "    </tr>\n",
       "    <tr>\n",
       "      <th>1744</th>\n",
       "      <td>Конаковский проезд</td>\n",
       "      <td>1</td>\n",
       "    </tr>\n",
       "    <tr>\n",
       "      <th>1745</th>\n",
       "      <td>Хавская улица</td>\n",
       "      <td>1</td>\n",
       "    </tr>\n",
       "    <tr>\n",
       "      <th>1746</th>\n",
       "      <td>Композиторская улица</td>\n",
       "      <td>1</td>\n",
       "    </tr>\n",
       "    <tr>\n",
       "      <th>1747</th>\n",
       "      <td>Хвалынский бульвар</td>\n",
       "      <td>1</td>\n",
       "    </tr>\n",
       "    <tr>\n",
       "      <th>1748</th>\n",
       "      <td>Козицкий переулок</td>\n",
       "      <td>1</td>\n",
       "    </tr>\n",
       "    <tr>\n",
       "      <th>1749</th>\n",
       "      <td>Чукотский проезд</td>\n",
       "      <td>1</td>\n",
       "    </tr>\n",
       "    <tr>\n",
       "      <th>1750</th>\n",
       "      <td>Икшинская улица</td>\n",
       "      <td>1</td>\n",
       "    </tr>\n",
       "    <tr>\n",
       "      <th>1751</th>\n",
       "      <td>Дмитровский переулок</td>\n",
       "      <td>1</td>\n",
       "    </tr>\n",
       "    <tr>\n",
       "      <th>1752</th>\n",
       "      <td>деревня Давыдково</td>\n",
       "      <td>1</td>\n",
       "    </tr>\n",
       "    <tr>\n",
       "      <th>1753</th>\n",
       "      <td>Ясногорская улица</td>\n",
       "      <td>1</td>\n",
       "    </tr>\n",
       "    <tr>\n",
       "      <th>1754</th>\n",
       "      <td>Есенинский бульвар</td>\n",
       "      <td>1</td>\n",
       "    </tr>\n",
       "    <tr>\n",
       "      <th>1755</th>\n",
       "      <td>Елоховский проезд</td>\n",
       "      <td>1</td>\n",
       "    </tr>\n",
       "    <tr>\n",
       "      <th>1756</th>\n",
       "      <td>Яузский бульвар</td>\n",
       "      <td>1</td>\n",
       "    </tr>\n",
       "    <tr>\n",
       "      <th>1757</th>\n",
       "      <td>Яхромская улица</td>\n",
       "      <td>1</td>\n",
       "    </tr>\n",
       "    <tr>\n",
       "      <th>1758</th>\n",
       "      <td>Егорьевский проезд</td>\n",
       "      <td>1</td>\n",
       "    </tr>\n",
       "    <tr>\n",
       "      <th>1759</th>\n",
       "      <td>Докучаев переулок</td>\n",
       "      <td>1</td>\n",
       "    </tr>\n",
       "    <tr>\n",
       "      <th>1760</th>\n",
       "      <td>деревня Дудкино</td>\n",
       "      <td>1</td>\n",
       "    </tr>\n",
       "    <tr>\n",
       "      <th>1761</th>\n",
       "      <td>Жигулёвская улица</td>\n",
       "      <td>1</td>\n",
       "    </tr>\n",
       "    <tr>\n",
       "      <th>1762</th>\n",
       "      <td>деревня Сенькино-Секерино</td>\n",
       "      <td>1</td>\n",
       "    </tr>\n",
       "    <tr>\n",
       "      <th>1763</th>\n",
       "      <td>деревня Столбово</td>\n",
       "      <td>1</td>\n",
       "    </tr>\n",
       "    <tr>\n",
       "      <th>1764</th>\n",
       "      <td>переулок Васнецова</td>\n",
       "      <td>1</td>\n",
       "    </tr>\n",
       "    <tr>\n",
       "      <th>1765</th>\n",
       "      <td>переулок Красина</td>\n",
       "      <td>1</td>\n",
       "    </tr>\n",
       "    <tr>\n",
       "      <th>1766</th>\n",
       "      <td>переулок Маяковского</td>\n",
       "      <td>1</td>\n",
       "    </tr>\n",
       "    <tr>\n",
       "      <th>1767</th>\n",
       "      <td>переулок Расковой</td>\n",
       "      <td>1</td>\n",
       "    </tr>\n",
       "    <tr>\n",
       "      <th>1768</th>\n",
       "      <td>переулок Хользунова</td>\n",
       "      <td>1</td>\n",
       "    </tr>\n",
       "    <tr>\n",
       "      <th>1769</th>\n",
       "      <td>Живарев переулок</td>\n",
       "      <td>1</td>\n",
       "    </tr>\n",
       "    <tr>\n",
       "      <th>1770</th>\n",
       "      <td>Жуков проезд</td>\n",
       "      <td>1</td>\n",
       "    </tr>\n",
       "    <tr>\n",
       "      <th>1771</th>\n",
       "      <td>Измайловская площадь</td>\n",
       "      <td>1</td>\n",
       "    </tr>\n",
       "    <tr>\n",
       "      <th>1772</th>\n",
       "      <td>Щёлковский проезд</td>\n",
       "      <td>1</td>\n",
       "    </tr>\n",
       "    <tr>\n",
       "      <th>1773</th>\n",
       "      <td>Известковый переулок</td>\n",
       "      <td>1</td>\n",
       "    </tr>\n",
       "    <tr>\n",
       "      <th>1774</th>\n",
       "      <td>Изваринская улица</td>\n",
       "      <td>1</td>\n",
       "    </tr>\n",
       "    <tr>\n",
       "      <th>1775</th>\n",
       "      <td>Ижорский проезд</td>\n",
       "      <td>1</td>\n",
       "    </tr>\n",
       "    <tr>\n",
       "      <th>1776</th>\n",
       "      <td>Штурвальная улица</td>\n",
       "      <td>1</td>\n",
       "    </tr>\n",
       "    <tr>\n",
       "      <th>1777</th>\n",
       "      <td>Шубинский переулок</td>\n",
       "      <td>1</td>\n",
       "    </tr>\n",
       "    <tr>\n",
       "      <th>1778</th>\n",
       "      <td>Иваньковское шоссе</td>\n",
       "      <td>1</td>\n",
       "    </tr>\n",
       "    <tr>\n",
       "      <th>1779</th>\n",
       "      <td>Зюзинская улица</td>\n",
       "      <td>1</td>\n",
       "    </tr>\n",
       "    <tr>\n",
       "      <th>1780</th>\n",
       "      <td>Зубарев переулок</td>\n",
       "      <td>1</td>\n",
       "    </tr>\n",
       "    <tr>\n",
       "      <th>1781</th>\n",
       "      <td>Янтарный проезд</td>\n",
       "      <td>1</td>\n",
       "    </tr>\n",
       "    <tr>\n",
       "      <th>1782</th>\n",
       "      <td>Электрический переулок</td>\n",
       "      <td>1</td>\n",
       "    </tr>\n",
       "    <tr>\n",
       "      <th>1783</th>\n",
       "      <td>Звонарский переулок</td>\n",
       "      <td>1</td>\n",
       "    </tr>\n",
       "    <tr>\n",
       "      <th>1784</th>\n",
       "      <td>Зарайская улица</td>\n",
       "      <td>1</td>\n",
       "    </tr>\n",
       "    <tr>\n",
       "      <th>1785</th>\n",
       "      <td>Юрловский проезд</td>\n",
       "      <td>1</td>\n",
       "    </tr>\n",
       "    <tr>\n",
       "      <th>1786</th>\n",
       "      <td>Заводской проезд</td>\n",
       "      <td>1</td>\n",
       "    </tr>\n",
       "    <tr>\n",
       "      <th>1787</th>\n",
       "      <td>Якиманский переулок</td>\n",
       "      <td>1</td>\n",
       "    </tr>\n",
       "    <tr>\n",
       "      <th>1788</th>\n",
       "      <td>Ялтинская улица</td>\n",
       "      <td>1</td>\n",
       "    </tr>\n",
       "    <tr>\n",
       "      <th>1789</th>\n",
       "      <td>Пенягинская улица</td>\n",
       "      <td>1</td>\n",
       "    </tr>\n",
       "  </tbody>\n",
       "</table>\n",
       "</div>"
      ],
      "text/plain": [
       "                          street  id\n",
       "1740             Фролов переулок   1\n",
       "1741             Хилков переулок   1\n",
       "1742             Фруктовая улица   1\n",
       "1743         Кооперативная улица   1\n",
       "1744          Конаковский проезд   1\n",
       "1745               Хавская улица   1\n",
       "1746        Композиторская улица   1\n",
       "1747          Хвалынский бульвар   1\n",
       "1748           Козицкий переулок   1\n",
       "1749            Чукотский проезд   1\n",
       "1750             Икшинская улица   1\n",
       "1751        Дмитровский переулок   1\n",
       "1752           деревня Давыдково   1\n",
       "1753           Ясногорская улица   1\n",
       "1754          Есенинский бульвар   1\n",
       "1755           Елоховский проезд   1\n",
       "1756             Яузский бульвар   1\n",
       "1757             Яхромская улица   1\n",
       "1758          Егорьевский проезд   1\n",
       "1759           Докучаев переулок   1\n",
       "1760             деревня Дудкино   1\n",
       "1761           Жигулёвская улица   1\n",
       "1762   деревня Сенькино-Секерино   1\n",
       "1763            деревня Столбово   1\n",
       "1764          переулок Васнецова   1\n",
       "1765            переулок Красина   1\n",
       "1766        переулок Маяковского   1\n",
       "1767           переулок Расковой   1\n",
       "1768         переулок Хользунова   1\n",
       "1769            Живарев переулок   1\n",
       "1770                Жуков проезд   1\n",
       "1771        Измайловская площадь   1\n",
       "1772           Щёлковский проезд   1\n",
       "1773        Известковый переулок   1\n",
       "1774           Изваринская улица   1\n",
       "1775             Ижорский проезд   1\n",
       "1776           Штурвальная улица   1\n",
       "1777          Шубинский переулок   1\n",
       "1778          Иваньковское шоссе   1\n",
       "1779             Зюзинская улица   1\n",
       "1780            Зубарев переулок   1\n",
       "1781             Янтарный проезд   1\n",
       "1782      Электрический переулок   1\n",
       "1783         Звонарский переулок   1\n",
       "1784             Зарайская улица   1\n",
       "1785            Юрловский проезд   1\n",
       "1786            Заводской проезд   1\n",
       "1787         Якиманский переулок   1\n",
       "1788             Ялтинская улица   1\n",
       "1789           Пенягинская улица   1"
      ]
     },
     "execution_count": 39,
     "metadata": {},
     "output_type": "execute_result"
    }
   ],
   "source": [
    "rest_address = rest_data.groupby('street').agg({'id':'count'}).sort_values(by='id', ascending=False).reset_index()\n",
    "rest_address.tail(50)"
   ]
  },
  {
   "cell_type": "markdown",
   "metadata": {},
   "source": [
    "### Постройте график топ-10 улиц по количеству объектов общественного питания. Воспользуйтесь внешней информацией и ответьте на вопрос — в каких районах Москвы находятся эти улицы?"
   ]
  },
  {
   "cell_type": "code",
   "execution_count": 40,
   "metadata": {},
   "outputs": [
    {
     "data": {
      "text/html": [
       "<div>\n",
       "<style scoped>\n",
       "    .dataframe tbody tr th:only-of-type {\n",
       "        vertical-align: middle;\n",
       "    }\n",
       "\n",
       "    .dataframe tbody tr th {\n",
       "        vertical-align: top;\n",
       "    }\n",
       "\n",
       "    .dataframe thead th {\n",
       "        text-align: right;\n",
       "    }\n",
       "</style>\n",
       "<table border=\"1\" class=\"dataframe\">\n",
       "  <thead>\n",
       "    <tr style=\"text-align: right;\">\n",
       "      <th></th>\n",
       "      <th>object_name</th>\n",
       "    </tr>\n",
       "    <tr>\n",
       "      <th>street</th>\n",
       "      <th></th>\n",
       "    </tr>\n",
       "  </thead>\n",
       "  <tbody>\n",
       "    <tr>\n",
       "      <th>проспект Мира</th>\n",
       "      <td>196</td>\n",
       "    </tr>\n",
       "    <tr>\n",
       "      <th>Профсоюзная улица</th>\n",
       "      <td>180</td>\n",
       "    </tr>\n",
       "    <tr>\n",
       "      <th>Ленинградский проспект</th>\n",
       "      <td>170</td>\n",
       "    </tr>\n",
       "    <tr>\n",
       "      <th>Пресненская набережная</th>\n",
       "      <td>165</td>\n",
       "    </tr>\n",
       "    <tr>\n",
       "      <th>Варшавское шоссе</th>\n",
       "      <td>159</td>\n",
       "    </tr>\n",
       "    <tr>\n",
       "      <th>Ленинский проспект</th>\n",
       "      <td>147</td>\n",
       "    </tr>\n",
       "    <tr>\n",
       "      <th>проспект Вернадского</th>\n",
       "      <td>126</td>\n",
       "    </tr>\n",
       "    <tr>\n",
       "      <th>Кутузовский проспект</th>\n",
       "      <td>114</td>\n",
       "    </tr>\n",
       "    <tr>\n",
       "      <th>Каширское шоссе</th>\n",
       "      <td>110</td>\n",
       "    </tr>\n",
       "    <tr>\n",
       "      <th>Кировоградская улица</th>\n",
       "      <td>107</td>\n",
       "    </tr>\n",
       "  </tbody>\n",
       "</table>\n",
       "</div>"
      ],
      "text/plain": [
       "                         object_name\n",
       "street                              \n",
       " проспект Мира                   196\n",
       " Профсоюзная улица               180\n",
       " Ленинградский проспект          170\n",
       " Пресненская набережная          165\n",
       " Варшавское шоссе                159\n",
       " Ленинский проспект              147\n",
       " проспект Вернадского            126\n",
       " Кутузовский проспект            114\n",
       " Каширское шоссе                 110\n",
       " Кировоградская улица            107"
      ]
     },
     "execution_count": 40,
     "metadata": {},
     "output_type": "execute_result"
    }
   ],
   "source": [
    "top = rest_data.pivot_table(index='street', values = 'object_name', aggfunc='count')\n",
    "\n",
    "top10 = top.sort_values('object_name', ascending=False).head(10)\n",
    "\n",
    "top10"
   ]
  },
  {
   "cell_type": "code",
   "execution_count": 41,
   "metadata": {},
   "outputs": [
    {
     "data": {
      "text/html": [
       "<div>\n",
       "<style scoped>\n",
       "    .dataframe tbody tr th:only-of-type {\n",
       "        vertical-align: middle;\n",
       "    }\n",
       "\n",
       "    .dataframe tbody tr th {\n",
       "        vertical-align: top;\n",
       "    }\n",
       "\n",
       "    .dataframe thead th {\n",
       "        text-align: right;\n",
       "    }\n",
       "</style>\n",
       "<table border=\"1\" class=\"dataframe\">\n",
       "  <thead>\n",
       "    <tr style=\"text-align: right;\">\n",
       "      <th></th>\n",
       "      <th>street</th>\n",
       "      <th>id</th>\n",
       "      <th>object_name</th>\n",
       "      <th>chain</th>\n",
       "      <th>object_type</th>\n",
       "      <th>address</th>\n",
       "      <th>number</th>\n",
       "    </tr>\n",
       "  </thead>\n",
       "  <tbody>\n",
       "    <tr>\n",
       "      <th>0</th>\n",
       "      <td>проспект Мира</td>\n",
       "      <td>196</td>\n",
       "      <td>196</td>\n",
       "      <td>196</td>\n",
       "      <td>196</td>\n",
       "      <td>196</td>\n",
       "      <td>196</td>\n",
       "    </tr>\n",
       "    <tr>\n",
       "      <th>1</th>\n",
       "      <td>Профсоюзная улица</td>\n",
       "      <td>180</td>\n",
       "      <td>180</td>\n",
       "      <td>180</td>\n",
       "      <td>180</td>\n",
       "      <td>180</td>\n",
       "      <td>180</td>\n",
       "    </tr>\n",
       "    <tr>\n",
       "      <th>2</th>\n",
       "      <td>Ленинградский проспект</td>\n",
       "      <td>170</td>\n",
       "      <td>170</td>\n",
       "      <td>170</td>\n",
       "      <td>170</td>\n",
       "      <td>170</td>\n",
       "      <td>170</td>\n",
       "    </tr>\n",
       "    <tr>\n",
       "      <th>3</th>\n",
       "      <td>Пресненская набережная</td>\n",
       "      <td>165</td>\n",
       "      <td>165</td>\n",
       "      <td>165</td>\n",
       "      <td>165</td>\n",
       "      <td>165</td>\n",
       "      <td>165</td>\n",
       "    </tr>\n",
       "    <tr>\n",
       "      <th>4</th>\n",
       "      <td>Варшавское шоссе</td>\n",
       "      <td>159</td>\n",
       "      <td>159</td>\n",
       "      <td>159</td>\n",
       "      <td>159</td>\n",
       "      <td>159</td>\n",
       "      <td>159</td>\n",
       "    </tr>\n",
       "    <tr>\n",
       "      <th>5</th>\n",
       "      <td>Ленинский проспект</td>\n",
       "      <td>147</td>\n",
       "      <td>147</td>\n",
       "      <td>147</td>\n",
       "      <td>147</td>\n",
       "      <td>147</td>\n",
       "      <td>147</td>\n",
       "    </tr>\n",
       "    <tr>\n",
       "      <th>6</th>\n",
       "      <td>проспект Вернадского</td>\n",
       "      <td>126</td>\n",
       "      <td>126</td>\n",
       "      <td>126</td>\n",
       "      <td>126</td>\n",
       "      <td>126</td>\n",
       "      <td>126</td>\n",
       "    </tr>\n",
       "    <tr>\n",
       "      <th>7</th>\n",
       "      <td>Кутузовский проспект</td>\n",
       "      <td>114</td>\n",
       "      <td>114</td>\n",
       "      <td>114</td>\n",
       "      <td>114</td>\n",
       "      <td>114</td>\n",
       "      <td>114</td>\n",
       "    </tr>\n",
       "    <tr>\n",
       "      <th>8</th>\n",
       "      <td>Каширское шоссе</td>\n",
       "      <td>110</td>\n",
       "      <td>110</td>\n",
       "      <td>110</td>\n",
       "      <td>110</td>\n",
       "      <td>110</td>\n",
       "      <td>110</td>\n",
       "    </tr>\n",
       "    <tr>\n",
       "      <th>9</th>\n",
       "      <td>Кировоградская улица</td>\n",
       "      <td>107</td>\n",
       "      <td>107</td>\n",
       "      <td>107</td>\n",
       "      <td>107</td>\n",
       "      <td>107</td>\n",
       "      <td>107</td>\n",
       "    </tr>\n",
       "  </tbody>\n",
       "</table>\n",
       "</div>"
      ],
      "text/plain": [
       "                    street   id  object_name  chain  object_type  address  \\\n",
       "0            проспект Мира  196          196    196          196      196   \n",
       "1        Профсоюзная улица  180          180    180          180      180   \n",
       "2   Ленинградский проспект  170          170    170          170      170   \n",
       "3   Пресненская набережная  165          165    165          165      165   \n",
       "4         Варшавское шоссе  159          159    159          159      159   \n",
       "5       Ленинский проспект  147          147    147          147      147   \n",
       "6     проспект Вернадского  126          126    126          126      126   \n",
       "7     Кутузовский проспект  114          114    114          114      114   \n",
       "8          Каширское шоссе  110          110    110          110      110   \n",
       "9     Кировоградская улица  107          107    107          107      107   \n",
       "\n",
       "   number  \n",
       "0     196  \n",
       "1     180  \n",
       "2     170  \n",
       "3     165  \n",
       "4     159  \n",
       "5     147  \n",
       "6     126  \n",
       "7     114  \n",
       "8     110  \n",
       "9     107  "
      ]
     },
     "execution_count": 41,
     "metadata": {},
     "output_type": "execute_result"
    }
   ],
   "source": [
    "temp = rest_data.groupby('street').count().sort_values(by='object_type', ascending=False).head(10).reset_index()\n",
    "temp"
   ]
  },
  {
   "cell_type": "code",
   "execution_count": 42,
   "metadata": {},
   "outputs": [
    {
     "data": {
      "image/png": "[encoded data removed]",
      "text/plain": [
       "<Figure size 432x288 with 1 Axes>"
      ]
     },
     "metadata": {},
     "output_type": "display_data"
    }
   ],
   "source": [
    "ax = sns.barplot(x='object_type', y='street', data=temp, color='green')\n",
    "ax.set_title('Топ-10 улиц по количеству объектов общественного питания')\n",
    "ax.set_xlabel('Название улицы')\n",
    "ax.set_ylabel('Количество объектов')\n",
    "plt.xticks(rotation=45)\n",
    "plt.show()"
   ]
  },
  {
   "cell_type": "code",
   "execution_count": 43,
   "metadata": {},
   "outputs": [
    {
     "data": {
      "text/html": [
       "<div>\n",
       "<style scoped>\n",
       "    .dataframe tbody tr th:only-of-type {\n",
       "        vertical-align: middle;\n",
       "    }\n",
       "\n",
       "    .dataframe tbody tr th {\n",
       "        vertical-align: top;\n",
       "    }\n",
       "\n",
       "    .dataframe thead th {\n",
       "        text-align: right;\n",
       "    }\n",
       "</style>\n",
       "<table border=\"1\" class=\"dataframe\">\n",
       "  <thead>\n",
       "    <tr style=\"text-align: right;\">\n",
       "      <th></th>\n",
       "      <th>ID</th>\n",
       "      <th>Name</th>\n",
       "      <th>global_id</th>\n",
       "      <th>IsNetObject</th>\n",
       "      <th>OperatingCompany</th>\n",
       "      <th>TypeObject</th>\n",
       "      <th>AdmArea</th>\n",
       "      <th>District</th>\n",
       "      <th>Address</th>\n",
       "      <th>PublicPhone</th>\n",
       "      <th>SeatsCount</th>\n",
       "      <th>SocialPrivileges</th>\n",
       "      <th>Longitude_WGS84</th>\n",
       "      <th>Latitude_WGS84</th>\n",
       "      <th>geodata_center</th>\n",
       "      <th>geoarea</th>\n",
       "    </tr>\n",
       "  </thead>\n",
       "  <tbody>\n",
       "    <tr>\n",
       "      <th>0</th>\n",
       "      <td>Код</td>\n",
       "      <td>Наименование</td>\n",
       "      <td>global_id</td>\n",
       "      <td>Является сетевым</td>\n",
       "      <td>Название управляющей компании</td>\n",
       "      <td>Вид объекта</td>\n",
       "      <td>Административный округ по адресу</td>\n",
       "      <td>Район</td>\n",
       "      <td>Адрес</td>\n",
       "      <td>Контактный телефон</td>\n",
       "      <td>Число посадочных мест</td>\n",
       "      <td>Показатель социальных льгот</td>\n",
       "      <td>Долгота в WGS-84</td>\n",
       "      <td>Широта в WGS-84</td>\n",
       "      <td>geodata_center</td>\n",
       "      <td>geoarea</td>\n",
       "    </tr>\n",
       "    <tr>\n",
       "      <th>1</th>\n",
       "      <td>00151635</td>\n",
       "      <td>СМЕТАНА</td>\n",
       "      <td>637376221</td>\n",
       "      <td>нет</td>\n",
       "      <td>NaN</td>\n",
       "      <td>кафе</td>\n",
       "      <td>Северо-Восточный административный округ</td>\n",
       "      <td>Ярославский район</td>\n",
       "      <td>город Москва, улица Егора Абакумова, дом 9</td>\n",
       "      <td>PublicPhone:(499) 183-14-10\\n\\n</td>\n",
       "      <td>48</td>\n",
       "      <td>нет</td>\n",
       "      <td>37.7145650004360390</td>\n",
       "      <td>55.8790015313033730</td>\n",
       "      <td>NaN</td>\n",
       "      <td>NaN</td>\n",
       "    </tr>\n",
       "    <tr>\n",
       "      <th>2</th>\n",
       "      <td>000077874</td>\n",
       "      <td>Родник</td>\n",
       "      <td>637376331</td>\n",
       "      <td>нет</td>\n",
       "      <td>NaN</td>\n",
       "      <td>кафе</td>\n",
       "      <td>Центральный административный округ</td>\n",
       "      <td>Таганский район</td>\n",
       "      <td>город Москва, улица Талалихина, дом 2/1, корпус 1</td>\n",
       "      <td>PublicPhone:(495) 676-55-35\\n\\n</td>\n",
       "      <td>35</td>\n",
       "      <td>нет</td>\n",
       "      <td>37.6733061300344000</td>\n",
       "      <td>55.7382386551547000</td>\n",
       "      <td>NaN</td>\n",
       "      <td>NaN</td>\n",
       "    </tr>\n",
       "    <tr>\n",
       "      <th>3</th>\n",
       "      <td>000024309</td>\n",
       "      <td>Кафе «Академия»</td>\n",
       "      <td>637376349</td>\n",
       "      <td>нет</td>\n",
       "      <td>NaN</td>\n",
       "      <td>ресторан</td>\n",
       "      <td>Центральный административный округ</td>\n",
       "      <td>Таганский район</td>\n",
       "      <td>Российская Федерация, город Москва, внутригоро...</td>\n",
       "      <td>PublicPhone:(495) 662-30-10\\n\\n</td>\n",
       "      <td>95</td>\n",
       "      <td>нет</td>\n",
       "      <td>37.6696475969381000</td>\n",
       "      <td>55.7355114718314000</td>\n",
       "      <td>NaN</td>\n",
       "      <td>NaN</td>\n",
       "    </tr>\n",
       "    <tr>\n",
       "      <th>4</th>\n",
       "      <td>000027429</td>\n",
       "      <td>ГБОУ «Школа № 1430 имени Героя Социалистическо...</td>\n",
       "      <td>637376480</td>\n",
       "      <td>нет</td>\n",
       "      <td>NaN</td>\n",
       "      <td>столовая</td>\n",
       "      <td>Северо-Восточный административный округ</td>\n",
       "      <td>район Лианозово</td>\n",
       "      <td>город Москва, Угличская улица, дом 17</td>\n",
       "      <td>PublicPhone:(499) 908-06-15\\n\\n</td>\n",
       "      <td>240</td>\n",
       "      <td>нет</td>\n",
       "      <td>37.5669400000000020</td>\n",
       "      <td>55.9040188006692200</td>\n",
       "      <td>NaN</td>\n",
       "      <td>NaN</td>\n",
       "    </tr>\n",
       "  </tbody>\n",
       "</table>\n",
       "</div>"
      ],
      "text/plain": [
       "          ID                                               Name  global_id  \\\n",
       "0        Код                                       Наименование  global_id   \n",
       "1   00151635                                            СМЕТАНА  637376221   \n",
       "2  000077874                                             Родник  637376331   \n",
       "3  000024309                                    Кафе «Академия»  637376349   \n",
       "4  000027429  ГБОУ «Школа № 1430 имени Героя Социалистическо...  637376480   \n",
       "\n",
       "        IsNetObject               OperatingCompany   TypeObject  \\\n",
       "0  Является сетевым  Название управляющей компании  Вид объекта   \n",
       "1               нет                            NaN         кафе   \n",
       "2               нет                            NaN         кафе   \n",
       "3               нет                            NaN     ресторан   \n",
       "4               нет                            NaN     столовая   \n",
       "\n",
       "                                   AdmArea           District  \\\n",
       "0         Административный округ по адресу              Район   \n",
       "1  Северо-Восточный административный округ  Ярославский район   \n",
       "2       Центральный административный округ    Таганский район   \n",
       "3       Центральный административный округ    Таганский район   \n",
       "4  Северо-Восточный административный округ    район Лианозово   \n",
       "\n",
       "                                             Address  \\\n",
       "0                                              Адрес   \n",
       "1         город Москва, улица Егора Абакумова, дом 9   \n",
       "2  город Москва, улица Талалихина, дом 2/1, корпус 1   \n",
       "3  Российская Федерация, город Москва, внутригоро...   \n",
       "4              город Москва, Угличская улица, дом 17   \n",
       "\n",
       "                       PublicPhone             SeatsCount  \\\n",
       "0               Контактный телефон  Число посадочных мест   \n",
       "1  PublicPhone:(499) 183-14-10\\n\\n                     48   \n",
       "2  PublicPhone:(495) 676-55-35\\n\\n                     35   \n",
       "3  PublicPhone:(495) 662-30-10\\n\\n                     95   \n",
       "4  PublicPhone:(499) 908-06-15\\n\\n                    240   \n",
       "\n",
       "              SocialPrivileges      Longitude_WGS84       Latitude_WGS84  \\\n",
       "0  Показатель социальных льгот     Долгота в WGS-84      Широта в WGS-84   \n",
       "1                          нет  37.7145650004360390  55.8790015313033730   \n",
       "2                          нет  37.6733061300344000  55.7382386551547000   \n",
       "3                          нет  37.6696475969381000  55.7355114718314000   \n",
       "4                          нет  37.5669400000000020  55.9040188006692200   \n",
       "\n",
       "   geodata_center  geoarea  \n",
       "0  geodata_center  geoarea  \n",
       "1             NaN      NaN  \n",
       "2             NaN      NaN  \n",
       "3             NaN      NaN  \n",
       "4             NaN      NaN  "
      ]
     },
     "execution_count": 43,
     "metadata": {},
     "output_type": "execute_result"
    }
   ],
   "source": [
    "spreadsheet_id = '1c0GVZSnLlmILMxK7fFgf3FboEl5KoAx38jOw8L_gFuo'\n",
    "file_name = 'https://docs.google.com/spreadsheets/d/{}/export?format=csv'.format(spreadsheet_id)\n",
    "r = requests.get(file_name)\n",
    "df = pd.read_csv(BytesIO(r.content))\n",
    "df.head(5)"
   ]
  },
  {
   "cell_type": "code",
   "execution_count": 44,
   "metadata": {},
   "outputs": [
    {
     "data": {
      "text/html": [
       "<div>\n",
       "<style scoped>\n",
       "    .dataframe tbody tr th:only-of-type {\n",
       "        vertical-align: middle;\n",
       "    }\n",
       "\n",
       "    .dataframe tbody tr th {\n",
       "        vertical-align: top;\n",
       "    }\n",
       "\n",
       "    .dataframe thead th {\n",
       "        text-align: right;\n",
       "    }\n",
       "</style>\n",
       "<table border=\"1\" class=\"dataframe\">\n",
       "  <thead>\n",
       "    <tr style=\"text-align: right;\">\n",
       "      <th></th>\n",
       "      <th>district</th>\n",
       "      <th>address</th>\n",
       "    </tr>\n",
       "  </thead>\n",
       "  <tbody>\n",
       "    <tr>\n",
       "      <th>0</th>\n",
       "      <td>Район</td>\n",
       "      <td>Адрес</td>\n",
       "    </tr>\n",
       "    <tr>\n",
       "      <th>1</th>\n",
       "      <td>Ярославский район</td>\n",
       "      <td>город Москва, улица Егора Абакумова, дом 9</td>\n",
       "    </tr>\n",
       "    <tr>\n",
       "      <th>2</th>\n",
       "      <td>Таганский район</td>\n",
       "      <td>город Москва, улица Талалихина, дом 2/1, корпус 1</td>\n",
       "    </tr>\n",
       "    <tr>\n",
       "      <th>3</th>\n",
       "      <td>Таганский район</td>\n",
       "      <td>Российская Федерация, город Москва, внутригоро...</td>\n",
       "    </tr>\n",
       "    <tr>\n",
       "      <th>4</th>\n",
       "      <td>район Лианозово</td>\n",
       "      <td>город Москва, Угличская улица, дом 17</td>\n",
       "    </tr>\n",
       "  </tbody>\n",
       "</table>\n",
       "</div>"
      ],
      "text/plain": [
       "            district                                            address\n",
       "0              Район                                              Адрес\n",
       "1  Ярославский район         город Москва, улица Егора Абакумова, дом 9\n",
       "2    Таганский район  город Москва, улица Талалихина, дом 2/1, корпус 1\n",
       "3    Таганский район  Российская Федерация, город Москва, внутригоро...\n",
       "4    район Лианозово              город Москва, Угличская улица, дом 17"
      ]
     },
     "execution_count": 44,
     "metadata": {},
     "output_type": "execute_result"
    }
   ],
   "source": [
    "df = df[['District','Address']]\n",
    "df = df.rename(columns={'District':'district', 'Address':'address'})\n",
    "df.head(5)"
   ]
  },
  {
   "cell_type": "code",
   "execution_count": 45,
   "metadata": {},
   "outputs": [
    {
     "name": "stderr",
     "output_type": "stream",
     "text": [
      "/tmp/ipykernel_524/1812223149.py:4: FutureWarning: The default value of regex will change from True to False in a future version. In addition, single character regular expressions will*not* be treated as literal strings when regex=True.\n",
      "  df['address'] = df['address'].str.replace(s, ' ')\n"
     ]
    }
   ],
   "source": [
    "symbols = [',', '«', '»', '(', ')', '\"', '  ']\n",
    "\n",
    "for s in symbols:\n",
    "    df['address'] = df['address'].str.replace(s, ' ')\n",
    "df['address'] = df['address'].str.replace('ё','е')"
   ]
  },
  {
   "cell_type": "code",
   "execution_count": 46,
   "metadata": {},
   "outputs": [
    {
     "data": {
      "text/html": [
       "<div>\n",
       "<style scoped>\n",
       "    .dataframe tbody tr th:only-of-type {\n",
       "        vertical-align: middle;\n",
       "    }\n",
       "\n",
       "    .dataframe tbody tr th {\n",
       "        vertical-align: top;\n",
       "    }\n",
       "\n",
       "    .dataframe thead th {\n",
       "        text-align: right;\n",
       "    }\n",
       "</style>\n",
       "<table border=\"1\" class=\"dataframe\">\n",
       "  <thead>\n",
       "    <tr style=\"text-align: right;\">\n",
       "      <th></th>\n",
       "      <th>district</th>\n",
       "      <th>address</th>\n",
       "      <th>street</th>\n",
       "    </tr>\n",
       "  </thead>\n",
       "  <tbody>\n",
       "    <tr>\n",
       "      <th>0</th>\n",
       "      <td>Район</td>\n",
       "      <td>Адрес</td>\n",
       "      <td></td>\n",
       "    </tr>\n",
       "    <tr>\n",
       "      <th>1</th>\n",
       "      <td>Ярославский район</td>\n",
       "      <td>город Москва улица Егора Абакумова дом 9</td>\n",
       "      <td>улица Егора Абакумова</td>\n",
       "    </tr>\n",
       "    <tr>\n",
       "      <th>2</th>\n",
       "      <td>Таганский район</td>\n",
       "      <td>город Москва улица Талалихина дом 2/1 корпус 1</td>\n",
       "      <td>улица Талалихина</td>\n",
       "    </tr>\n",
       "    <tr>\n",
       "      <th>3</th>\n",
       "      <td>Таганский район</td>\n",
       "      <td>Российская Федерация город Москва внутригородс...</td>\n",
       "      <td>едерация город Москва внутригородская территор...</td>\n",
       "    </tr>\n",
       "    <tr>\n",
       "      <th>4</th>\n",
       "      <td>район Лианозово</td>\n",
       "      <td>город Москва Угличская улица дом 17</td>\n",
       "      <td>Угличская улица</td>\n",
       "    </tr>\n",
       "  </tbody>\n",
       "</table>\n",
       "</div>"
      ],
      "text/plain": [
       "            district                                            address  \\\n",
       "0              Район                                              Адрес   \n",
       "1  Ярославский район           город Москва улица Егора Абакумова дом 9   \n",
       "2    Таганский район     город Москва улица Талалихина дом 2/1 корпус 1   \n",
       "3    Таганский район  Российская Федерация город Москва внутригородс...   \n",
       "4    район Лианозово                город Москва Угличская улица дом 17   \n",
       "\n",
       "                                              street  \n",
       "0                                                     \n",
       "1                              улица Егора Абакумова  \n",
       "2                                   улица Талалихина  \n",
       "3  едерация город Москва внутригородская территор...  \n",
       "4                                    Угличская улица  "
      ]
     },
     "execution_count": 46,
     "metadata": {},
     "output_type": "execute_result"
    }
   ],
   "source": [
    "address = df['address'].to_list()\n",
    "streets = []\n",
    "\n",
    "for street in address:  \n",
    "    start = street.find('город москва')\n",
    "    end = street.find('дом ')\n",
    "    streets.append(street[start+13:end-1])\n",
    "    \n",
    "        \n",
    "df['street'] = streets    \n",
    "df.head(5) "
   ]
  },
  {
   "cell_type": "code",
   "execution_count": 47,
   "metadata": {},
   "outputs": [],
   "source": [
    "df = df[~df['street'].str.contains('шоссе|поселение|посёлок|поселок|владение|дом|село|Проезд|тупик|линия|километр')]"
   ]
  },
  {
   "cell_type": "code",
   "execution_count": 48,
   "metadata": {},
   "outputs": [
    {
     "data": {
      "text/html": [
       "<div>\n",
       "<style scoped>\n",
       "    .dataframe tbody tr th:only-of-type {\n",
       "        vertical-align: middle;\n",
       "    }\n",
       "\n",
       "    .dataframe tbody tr th {\n",
       "        vertical-align: top;\n",
       "    }\n",
       "\n",
       "    .dataframe thead th {\n",
       "        text-align: right;\n",
       "    }\n",
       "</style>\n",
       "<table border=\"1\" class=\"dataframe\">\n",
       "  <thead>\n",
       "    <tr style=\"text-align: right;\">\n",
       "      <th></th>\n",
       "      <th>street</th>\n",
       "      <th>object_name</th>\n",
       "      <th>district</th>\n",
       "    </tr>\n",
       "  </thead>\n",
       "  <tbody>\n",
       "    <tr>\n",
       "      <th>0</th>\n",
       "      <td>проспект Мира</td>\n",
       "      <td>196</td>\n",
       "      <td>Мещанский район</td>\n",
       "    </tr>\n",
       "    <tr>\n",
       "      <th>1</th>\n",
       "      <td>проспект Мира</td>\n",
       "      <td>196</td>\n",
       "      <td>Мещанский район</td>\n",
       "    </tr>\n",
       "    <tr>\n",
       "      <th>2</th>\n",
       "      <td>проспект Мира</td>\n",
       "      <td>196</td>\n",
       "      <td>Мещанский район</td>\n",
       "    </tr>\n",
       "    <tr>\n",
       "      <th>3</th>\n",
       "      <td>проспект Мира</td>\n",
       "      <td>196</td>\n",
       "      <td>Мещанский район</td>\n",
       "    </tr>\n",
       "    <tr>\n",
       "      <th>4</th>\n",
       "      <td>проспект Мира</td>\n",
       "      <td>196</td>\n",
       "      <td>Мещанский район</td>\n",
       "    </tr>\n",
       "    <tr>\n",
       "      <th>...</th>\n",
       "      <td>...</td>\n",
       "      <td>...</td>\n",
       "      <td>...</td>\n",
       "    </tr>\n",
       "    <tr>\n",
       "      <th>1105</th>\n",
       "      <td>Кировоградская улица</td>\n",
       "      <td>107</td>\n",
       "      <td>район Чертаново Северное</td>\n",
       "    </tr>\n",
       "    <tr>\n",
       "      <th>1106</th>\n",
       "      <td>Кировоградская улица</td>\n",
       "      <td>107</td>\n",
       "      <td>район Чертаново Южное</td>\n",
       "    </tr>\n",
       "    <tr>\n",
       "      <th>1107</th>\n",
       "      <td>Кировоградская улица</td>\n",
       "      <td>107</td>\n",
       "      <td>район Чертаново Центральное</td>\n",
       "    </tr>\n",
       "    <tr>\n",
       "      <th>1108</th>\n",
       "      <td>Кировоградская улица</td>\n",
       "      <td>107</td>\n",
       "      <td>район Чертаново Центральное</td>\n",
       "    </tr>\n",
       "    <tr>\n",
       "      <th>1109</th>\n",
       "      <td>Кировоградская улица</td>\n",
       "      <td>107</td>\n",
       "      <td>район Чертаново Северное</td>\n",
       "    </tr>\n",
       "  </tbody>\n",
       "</table>\n",
       "<p>1110 rows × 3 columns</p>\n",
       "</div>"
      ],
      "text/plain": [
       "                     street  object_name                     district\n",
       "0             проспект Мира          196              Мещанский район\n",
       "1             проспект Мира          196              Мещанский район\n",
       "2             проспект Мира          196              Мещанский район\n",
       "3             проспект Мира          196              Мещанский район\n",
       "4             проспект Мира          196              Мещанский район\n",
       "...                     ...          ...                          ...\n",
       "1105   Кировоградская улица          107     район Чертаново Северное\n",
       "1106   Кировоградская улица          107        район Чертаново Южное\n",
       "1107   Кировоградская улица          107  район Чертаново Центральное\n",
       "1108   Кировоградская улица          107  район Чертаново Центральное\n",
       "1109   Кировоградская улица          107     район Чертаново Северное\n",
       "\n",
       "[1110 rows x 3 columns]"
      ]
     },
     "execution_count": 48,
     "metadata": {},
     "output_type": "execute_result"
    }
   ],
   "source": [
    "rest_data_top = temp.merge(df, on='street',how='left')\n",
    "rest_data_top = rest_data_top[['street', 'object_name','district']]\n",
    "rest_data_top"
   ]
  },
  {
   "cell_type": "code",
   "execution_count": 49,
   "metadata": {},
   "outputs": [
    {
     "data": {
      "text/html": [
       "<div>\n",
       "<style scoped>\n",
       "    .dataframe tbody tr th:only-of-type {\n",
       "        vertical-align: middle;\n",
       "    }\n",
       "\n",
       "    .dataframe tbody tr th {\n",
       "        vertical-align: top;\n",
       "    }\n",
       "\n",
       "    .dataframe thead th {\n",
       "        text-align: right;\n",
       "    }\n",
       "</style>\n",
       "<table border=\"1\" class=\"dataframe\">\n",
       "  <thead>\n",
       "    <tr style=\"text-align: right;\">\n",
       "      <th></th>\n",
       "      <th></th>\n",
       "      <th>object_name</th>\n",
       "    </tr>\n",
       "    <tr>\n",
       "      <th>street</th>\n",
       "      <th>district</th>\n",
       "      <th></th>\n",
       "    </tr>\n",
       "  </thead>\n",
       "  <tbody>\n",
       "    <tr>\n",
       "      <th rowspan=\"5\" valign=\"top\">проспект Мира</th>\n",
       "      <th>район Свиблово</th>\n",
       "      <td>53</td>\n",
       "    </tr>\n",
       "    <tr>\n",
       "      <th>район Ростокино</th>\n",
       "      <td>6</td>\n",
       "    </tr>\n",
       "    <tr>\n",
       "      <th>Останкинский район</th>\n",
       "      <td>40</td>\n",
       "    </tr>\n",
       "    <tr>\n",
       "      <th>Мещанский район</th>\n",
       "      <td>60</td>\n",
       "    </tr>\n",
       "    <tr>\n",
       "      <th>Алексеевский район</th>\n",
       "      <td>37</td>\n",
       "    </tr>\n",
       "    <tr>\n",
       "      <th rowspan=\"5\" valign=\"top\">проспект Вернадского</th>\n",
       "      <th>поселение Вороновское</th>\n",
       "      <td>1</td>\n",
       "    </tr>\n",
       "    <tr>\n",
       "      <th>Ломоносовский район</th>\n",
       "      <td>11</td>\n",
       "    </tr>\n",
       "    <tr>\n",
       "      <th>район Проспект Вернадского</th>\n",
       "      <td>23</td>\n",
       "    </tr>\n",
       "    <tr>\n",
       "      <th>район Раменки</th>\n",
       "      <td>24</td>\n",
       "    </tr>\n",
       "    <tr>\n",
       "      <th>район Тропарёво-Никулино</th>\n",
       "      <td>76</td>\n",
       "    </tr>\n",
       "    <tr>\n",
       "      <th rowspan=\"6\" valign=\"top\">Профсоюзная улица</th>\n",
       "      <th>район Ясенево</th>\n",
       "      <td>22</td>\n",
       "    </tr>\n",
       "    <tr>\n",
       "      <th>район Черёмушки</th>\n",
       "      <td>23</td>\n",
       "    </tr>\n",
       "    <tr>\n",
       "      <th>район Тёплый Стан</th>\n",
       "      <td>27</td>\n",
       "    </tr>\n",
       "    <tr>\n",
       "      <th>район Коньково</th>\n",
       "      <td>39</td>\n",
       "    </tr>\n",
       "    <tr>\n",
       "      <th>Обручевский район</th>\n",
       "      <td>24</td>\n",
       "    </tr>\n",
       "    <tr>\n",
       "      <th>Академический район</th>\n",
       "      <td>1</td>\n",
       "    </tr>\n",
       "    <tr>\n",
       "      <th>Пресненская набережная</th>\n",
       "      <th>Пресненский район</th>\n",
       "      <td>103</td>\n",
       "    </tr>\n",
       "    <tr>\n",
       "      <th rowspan=\"8\" valign=\"top\">Ленинский проспект</th>\n",
       "      <th>район Якиманка</th>\n",
       "      <td>12</td>\n",
       "    </tr>\n",
       "    <tr>\n",
       "      <th>район Тропарёво-Никулино</th>\n",
       "      <td>18</td>\n",
       "    </tr>\n",
       "    <tr>\n",
       "      <th>район Проспект Вернадского</th>\n",
       "      <td>22</td>\n",
       "    </tr>\n",
       "    <tr>\n",
       "      <th>Обручевский район</th>\n",
       "      <td>35</td>\n",
       "    </tr>\n",
       "    <tr>\n",
       "      <th>Ломоносовский район</th>\n",
       "      <td>13</td>\n",
       "    </tr>\n",
       "    <tr>\n",
       "      <th>Донской район</th>\n",
       "      <td>8</td>\n",
       "    </tr>\n",
       "    <tr>\n",
       "      <th>Гагаринский район</th>\n",
       "      <td>30</td>\n",
       "    </tr>\n",
       "    <tr>\n",
       "      <th>район Тёплый Стан</th>\n",
       "      <td>13</td>\n",
       "    </tr>\n",
       "    <tr>\n",
       "      <th rowspan=\"4\" valign=\"top\">Ленинградский проспект</th>\n",
       "      <th>район Сокол</th>\n",
       "      <td>29</td>\n",
       "    </tr>\n",
       "    <tr>\n",
       "      <th>район Беговой</th>\n",
       "      <td>72</td>\n",
       "    </tr>\n",
       "    <tr>\n",
       "      <th>район Аэропорт</th>\n",
       "      <td>82</td>\n",
       "    </tr>\n",
       "    <tr>\n",
       "      <th>Хорошёвский район</th>\n",
       "      <td>18</td>\n",
       "    </tr>\n",
       "    <tr>\n",
       "      <th rowspan=\"3\" valign=\"top\">Кутузовский проспект</th>\n",
       "      <th>район Фили-Давыдково</th>\n",
       "      <td>25</td>\n",
       "    </tr>\n",
       "    <tr>\n",
       "      <th>район Дорогомилово</th>\n",
       "      <td>55</td>\n",
       "    </tr>\n",
       "    <tr>\n",
       "      <th>поселение Краснопахорское</th>\n",
       "      <td>11</td>\n",
       "    </tr>\n",
       "    <tr>\n",
       "      <th rowspan=\"3\" valign=\"top\">Кировоградская улица</th>\n",
       "      <th>район Чертаново Южное</th>\n",
       "      <td>8</td>\n",
       "    </tr>\n",
       "    <tr>\n",
       "      <th>район Чертаново Центральное</th>\n",
       "      <td>72</td>\n",
       "    </tr>\n",
       "    <tr>\n",
       "      <th>район Чертаново Северное</th>\n",
       "      <td>15</td>\n",
       "    </tr>\n",
       "  </tbody>\n",
       "</table>\n",
       "</div>"
      ],
      "text/plain": [
       "                                                     object_name\n",
       "street                  district                                \n",
       " проспект Мира          район Свиблово                        53\n",
       "                        район Ростокино                        6\n",
       "                        Останкинский район                    40\n",
       "                        Мещанский район                       60\n",
       "                        Алексеевский район                    37\n",
       " проспект Вернадского   поселение Вороновское                  1\n",
       "                        Ломоносовский район                   11\n",
       "                        район Проспект Вернадского            23\n",
       "                        район Раменки                         24\n",
       "                        район Тропарёво-Никулино              76\n",
       " Профсоюзная улица      район Ясенево                         22\n",
       "                        район Черёмушки                       23\n",
       "                        район Тёплый Стан                     27\n",
       "                        район Коньково                        39\n",
       "                        Обручевский район                     24\n",
       "                        Академический район                    1\n",
       " Пресненская набережная Пресненский район                    103\n",
       " Ленинский проспект     район Якиманка                        12\n",
       "                        район Тропарёво-Никулино              18\n",
       "                        район Проспект Вернадского            22\n",
       "                        Обручевский район                     35\n",
       "                        Ломоносовский район                   13\n",
       "                        Донской район                          8\n",
       "                        Гагаринский район                     30\n",
       "                        район Тёплый Стан                     13\n",
       " Ленинградский проспект район Сокол                           29\n",
       "                        район Беговой                         72\n",
       "                        район Аэропорт                        82\n",
       "                        Хорошёвский район                     18\n",
       " Кутузовский проспект   район Фили-Давыдково                  25\n",
       "                        район Дорогомилово                    55\n",
       "                        поселение Краснопахорское             11\n",
       " Кировоградская улица   район Чертаново Южное                  8\n",
       "                        район Чертаново Центральное           72\n",
       "                        район Чертаново Северное              15"
      ]
     },
     "execution_count": 49,
     "metadata": {},
     "output_type": "execute_result"
    }
   ],
   "source": [
    "rest_data_top.groupby(by=['street','district']).count().sort_values('street', ascending=False)"
   ]
  },
  {
   "cell_type": "markdown",
   "metadata": {},
   "source": [
    "#### Вывод -  10- ку улиц по количеству объектов питания возглавляет проспект Мира с 204 объектами, по внешней информации проспект находится в СВАО район Алексеевский, далее Профсоюзная улица  - 182 объекта ЮЗАО район на территории районов Академический, Коньково, Обручевский, Тёплый Стан, Черёмушки, Ясенево, Ленингадский проспект - 170 объектов Район Беговой, Аэропорт, Сокол, Хорошёвский и тд.\n",
    "- по районам 5ка самых популярных - Пресненский район,район Тропарёво-Никулино ,район Аэропорт,район Чертаново Центральное,район Беговой"
   ]
  },
  {
   "cell_type": "markdown",
   "metadata": {},
   "source": [
    "### Найдите число улиц с одним объектом общественного питания. Воспользуйтесь внешней информацией и ответьте на вопрос — в каких районах Москвы находятся эти улицы?"
   ]
  },
  {
   "cell_type": "code",
   "execution_count": 50,
   "metadata": {},
   "outputs": [
    {
     "data": {
      "text/html": [
       "<div>\n",
       "<style scoped>\n",
       "    .dataframe tbody tr th:only-of-type {\n",
       "        vertical-align: middle;\n",
       "    }\n",
       "\n",
       "    .dataframe tbody tr th {\n",
       "        vertical-align: top;\n",
       "    }\n",
       "\n",
       "    .dataframe thead th {\n",
       "        text-align: right;\n",
       "    }\n",
       "</style>\n",
       "<table border=\"1\" class=\"dataframe\">\n",
       "  <thead>\n",
       "    <tr style=\"text-align: right;\">\n",
       "      <th></th>\n",
       "      <th>object_name</th>\n",
       "    </tr>\n",
       "    <tr>\n",
       "      <th>street</th>\n",
       "      <th></th>\n",
       "    </tr>\n",
       "  </thead>\n",
       "  <tbody>\n",
       "    <tr>\n",
       "      <th>1-й Балтийский переулок</th>\n",
       "      <td>1</td>\n",
       "    </tr>\n",
       "    <tr>\n",
       "      <th>1-й Басманный переулок</th>\n",
       "      <td>1</td>\n",
       "    </tr>\n",
       "    <tr>\n",
       "      <th>1-й Ботанический проезд</th>\n",
       "      <td>1</td>\n",
       "    </tr>\n",
       "    <tr>\n",
       "      <th>1-й Вешняковский проезд</th>\n",
       "      <td>1</td>\n",
       "    </tr>\n",
       "    <tr>\n",
       "      <th>1-й Голутвинский переулок</th>\n",
       "      <td>1</td>\n",
       "    </tr>\n",
       "    <tr>\n",
       "      <th>...</th>\n",
       "      <td>...</td>\n",
       "    </tr>\n",
       "    <tr>\n",
       "      <th>улица Шеногина</th>\n",
       "      <td>1</td>\n",
       "    </tr>\n",
       "    <tr>\n",
       "      <th>улица Шумилова</th>\n",
       "      <td>1</td>\n",
       "    </tr>\n",
       "    <tr>\n",
       "      <th>улица Шумкина</th>\n",
       "      <td>1</td>\n",
       "    </tr>\n",
       "    <tr>\n",
       "      <th>улица Щорса</th>\n",
       "      <td>1</td>\n",
       "    </tr>\n",
       "    <tr>\n",
       "      <th>шоссе Фрезер</th>\n",
       "      <td>1</td>\n",
       "    </tr>\n",
       "  </tbody>\n",
       "</table>\n",
       "<p>520 rows × 1 columns</p>\n",
       "</div>"
      ],
      "text/plain": [
       "                            object_name\n",
       "street                                 \n",
       " 1-й Балтийский переулок              1\n",
       " 1-й Басманный переулок               1\n",
       " 1-й Ботанический проезд              1\n",
       " 1-й Вешняковский проезд              1\n",
       " 1-й Голутвинский переулок            1\n",
       "...                                 ...\n",
       " улица Шеногина                       1\n",
       " улица Шумилова                       1\n",
       " улица Шумкина                        1\n",
       " улица Щорса                          1\n",
       " шоссе Фрезер                         1\n",
       "\n",
       "[520 rows x 1 columns]"
      ]
     },
     "execution_count": 50,
     "metadata": {},
     "output_type": "execute_result"
    }
   ],
   "source": [
    "top10 = top.query('object_name==1')\n",
    "top10\n"
   ]
  },
  {
   "cell_type": "code",
   "execution_count": 51,
   "metadata": {},
   "outputs": [
    {
     "data": {
      "text/html": [
       "<div>\n",
       "<style scoped>\n",
       "    .dataframe tbody tr th:only-of-type {\n",
       "        vertical-align: middle;\n",
       "    }\n",
       "\n",
       "    .dataframe tbody tr th {\n",
       "        vertical-align: top;\n",
       "    }\n",
       "\n",
       "    .dataframe thead th {\n",
       "        text-align: right;\n",
       "    }\n",
       "</style>\n",
       "<table border=\"1\" class=\"dataframe\">\n",
       "  <thead>\n",
       "    <tr style=\"text-align: right;\">\n",
       "      <th></th>\n",
       "      <th>street</th>\n",
       "      <th>district</th>\n",
       "      <th>object_name</th>\n",
       "    </tr>\n",
       "  </thead>\n",
       "  <tbody>\n",
       "    <tr>\n",
       "      <th>0</th>\n",
       "      <td>1-й Балтийский переулок</td>\n",
       "      <td>район Аэропорт</td>\n",
       "      <td>1</td>\n",
       "    </tr>\n",
       "    <tr>\n",
       "      <th>1</th>\n",
       "      <td>1-й Басманный переулок</td>\n",
       "      <td>Красносельский район</td>\n",
       "      <td>1</td>\n",
       "    </tr>\n",
       "    <tr>\n",
       "      <th>2</th>\n",
       "      <td>1-й Ботанический проезд</td>\n",
       "      <td>район Свиблово</td>\n",
       "      <td>1</td>\n",
       "    </tr>\n",
       "    <tr>\n",
       "      <th>3</th>\n",
       "      <td>1-й Вешняковский проезд</td>\n",
       "      <td>NaN</td>\n",
       "      <td>1</td>\n",
       "    </tr>\n",
       "    <tr>\n",
       "      <th>4</th>\n",
       "      <td>1-й Голутвинский переулок</td>\n",
       "      <td>район Якиманка</td>\n",
       "      <td>1</td>\n",
       "    </tr>\n",
       "    <tr>\n",
       "      <th>...</th>\n",
       "      <td>...</td>\n",
       "      <td>...</td>\n",
       "      <td>...</td>\n",
       "    </tr>\n",
       "    <tr>\n",
       "      <th>675</th>\n",
       "      <td>улица Щорса</td>\n",
       "      <td>район Солнцево</td>\n",
       "      <td>1</td>\n",
       "    </tr>\n",
       "    <tr>\n",
       "      <th>676</th>\n",
       "      <td>улица Щорса</td>\n",
       "      <td>район Солнцево</td>\n",
       "      <td>1</td>\n",
       "    </tr>\n",
       "    <tr>\n",
       "      <th>677</th>\n",
       "      <td>улица Щорса</td>\n",
       "      <td>район Солнцево</td>\n",
       "      <td>1</td>\n",
       "    </tr>\n",
       "    <tr>\n",
       "      <th>678</th>\n",
       "      <td>улица Щорса</td>\n",
       "      <td>район Солнцево</td>\n",
       "      <td>1</td>\n",
       "    </tr>\n",
       "    <tr>\n",
       "      <th>679</th>\n",
       "      <td>шоссе Фрезер</td>\n",
       "      <td>NaN</td>\n",
       "      <td>1</td>\n",
       "    </tr>\n",
       "  </tbody>\n",
       "</table>\n",
       "<p>680 rows × 3 columns</p>\n",
       "</div>"
      ],
      "text/plain": [
       "                         street              district  object_name\n",
       "0       1-й Балтийский переулок        район Аэропорт            1\n",
       "1        1-й Басманный переулок  Красносельский район            1\n",
       "2       1-й Ботанический проезд        район Свиблово            1\n",
       "3       1-й Вешняковский проезд                   NaN            1\n",
       "4     1-й Голутвинский переулок        район Якиманка            1\n",
       "..                          ...                   ...          ...\n",
       "675                 улица Щорса        район Солнцево            1\n",
       "676                 улица Щорса        район Солнцево            1\n",
       "677                 улица Щорса        район Солнцево            1\n",
       "678                 улица Щорса        район Солнцево            1\n",
       "679                шоссе Фрезер                   NaN            1\n",
       "\n",
       "[680 rows x 3 columns]"
      ]
     },
     "execution_count": 51,
     "metadata": {},
     "output_type": "execute_result"
    }
   ],
   "source": [
    "top1 = top10.merge(df, on='street', how='left')\n",
    "top2 = top1[['street','district','object_name']]\n",
    "top2"
   ]
  },
  {
   "cell_type": "code",
   "execution_count": 52,
   "metadata": {},
   "outputs": [
    {
     "data": {
      "text/html": [
       "<div>\n",
       "<style scoped>\n",
       "    .dataframe tbody tr th:only-of-type {\n",
       "        vertical-align: middle;\n",
       "    }\n",
       "\n",
       "    .dataframe tbody tr th {\n",
       "        vertical-align: top;\n",
       "    }\n",
       "\n",
       "    .dataframe thead th {\n",
       "        text-align: right;\n",
       "    }\n",
       "</style>\n",
       "<table border=\"1\" class=\"dataframe\">\n",
       "  <thead>\n",
       "    <tr style=\"text-align: right;\">\n",
       "      <th></th>\n",
       "      <th>street</th>\n",
       "    </tr>\n",
       "    <tr>\n",
       "      <th>district</th>\n",
       "      <th></th>\n",
       "    </tr>\n",
       "  </thead>\n",
       "  <tbody>\n",
       "    <tr>\n",
       "      <th>район Солнцево</th>\n",
       "      <td>36</td>\n",
       "    </tr>\n",
       "    <tr>\n",
       "      <th>Тверской район</th>\n",
       "      <td>21</td>\n",
       "    </tr>\n",
       "    <tr>\n",
       "      <th>Таганский район</th>\n",
       "      <td>21</td>\n",
       "    </tr>\n",
       "    <tr>\n",
       "      <th>Басманный район</th>\n",
       "      <td>18</td>\n",
       "    </tr>\n",
       "    <tr>\n",
       "      <th>район Хамовники</th>\n",
       "      <td>17</td>\n",
       "    </tr>\n",
       "    <tr>\n",
       "      <th>...</th>\n",
       "      <td>...</td>\n",
       "    </tr>\n",
       "    <tr>\n",
       "      <th>район Очаково-Матвеевское</th>\n",
       "      <td>1</td>\n",
       "    </tr>\n",
       "    <tr>\n",
       "      <th>Обручевский район</th>\n",
       "      <td>1</td>\n",
       "    </tr>\n",
       "    <tr>\n",
       "      <th>район Марьино</th>\n",
       "      <td>1</td>\n",
       "    </tr>\n",
       "    <tr>\n",
       "      <th>район Некрасовка</th>\n",
       "      <td>1</td>\n",
       "    </tr>\n",
       "    <tr>\n",
       "      <th>район Нагатино-Садовники</th>\n",
       "      <td>1</td>\n",
       "    </tr>\n",
       "  </tbody>\n",
       "</table>\n",
       "<p>88 rows × 1 columns</p>\n",
       "</div>"
      ],
      "text/plain": [
       "                           street\n",
       "district                         \n",
       "район Солнцево                 36\n",
       "Тверской район                 21\n",
       "Таганский район                21\n",
       "Басманный район                18\n",
       "район Хамовники                17\n",
       "...                           ...\n",
       "район Очаково-Матвеевское       1\n",
       "Обручевский район               1\n",
       "район Марьино                   1\n",
       "район Некрасовка                1\n",
       "район Нагатино-Садовники        1\n",
       "\n",
       "[88 rows x 1 columns]"
      ]
     },
     "execution_count": 52,
     "metadata": {},
     "output_type": "execute_result"
    }
   ],
   "source": [
    "top23 = top2.pivot_table(index=['district'], values='street', aggfunc='count')\n",
    "top23.sort_values('street', ascending=False)"
   ]
  },
  {
   "cell_type": "markdown",
   "metadata": {},
   "source": [
    "#### Вывод - список улицы на которых расположен один объект общественного питания состовляет 680 объекта, улицы расположены по всей Москве с севера Москвы и заканчивая територией недавноприсоеденной к Москве, среди заведений котрые находятся по одному на улице в районе Солнцево - 36 заведений, Тверской район - 21 заведение, Таганский район - 21,Басманный район - 18, район Хамовники - 17, кроме Солнцево все остальные сосредоточены в центре Москвы."
   ]
  },
  {
   "cell_type": "markdown",
   "metadata": {},
   "source": [
    "## Общий вывод - по имеющимся данным видно что самым популярным является небольшой объект типа кафе или предприятия быстрого питания, хотя с общепит и опережает ресторан но последний опережает по количеству посадочным мест и эти три варината для откртия на мой взгляд является более перспективными и я бы больше выделил на 2е место ресторан нежели общепит (качество всетаки лучше)/ по месту расположения труднее, здесть было б интресно посмотреть динамикку появления тех или иных точек  в районах, но если смотреть по популярнйости то хоть проспект Мира и возглавляет рейтинг по количеству объектов то наверно лучше выбрать улицу на 3 или 4 месте там всетаки не такая большая конкуренция  а именно Ленинградский проспект, Пресненская набережная( последняя видно страдает изза высокой аренды и не так много точек),Варшавское шоссе,по районам 5ка самых популярных - Пресненский район,район Тропарёво-Никулино ,район Аэропорт,район Чертаново Центральное,район Беговой"
   ]
  },
  {
   "cell_type": "markdown",
   "metadata": {},
   "source": [
    "### Шаг №3. Подготовка презентации"
   ]
  },
  {
   "cell_type": "markdown",
   "metadata": {},
   "source": [
    "Презентация: https://disk.yandex.ru/i/6OZ7Pf25rzpJGQ "
   ]
  }
 ],
 "metadata": {
  "ExecuteTimeLog": [
   {
    "duration": 1224,
    "start_time": "2022-08-27T10:06:51.682Z"
   },
   {
    "duration": 252,
    "start_time": "2022-08-27T10:08:47.196Z"
   },
   {
    "duration": 13,
    "start_time": "2022-08-27T10:08:48.333Z"
   },
   {
    "duration": 12,
    "start_time": "2022-08-27T10:08:52.861Z"
   },
   {
    "duration": 13,
    "start_time": "2022-08-27T10:08:53.626Z"
   },
   {
    "duration": 7,
    "start_time": "2022-08-27T10:09:33.552Z"
   },
   {
    "duration": 4,
    "start_time": "2022-08-27T10:09:49.743Z"
   },
   {
    "duration": 66,
    "start_time": "2022-08-27T10:09:50.480Z"
   },
   {
    "duration": 12,
    "start_time": "2022-08-27T10:09:51.008Z"
   },
   {
    "duration": 8,
    "start_time": "2022-08-27T10:09:51.527Z"
   },
   {
    "duration": 14,
    "start_time": "2022-08-27T10:09:52.146Z"
   },
   {
    "duration": 16,
    "start_time": "2022-08-27T10:11:29.658Z"
   },
   {
    "duration": 5,
    "start_time": "2022-08-27T10:12:31.731Z"
   },
   {
    "duration": 21,
    "start_time": "2022-08-27T10:13:39.184Z"
   },
   {
    "duration": 110,
    "start_time": "2022-08-27T10:15:23.373Z"
   },
   {
    "duration": 22,
    "start_time": "2022-08-27T10:15:50.555Z"
   },
   {
    "duration": 20,
    "start_time": "2022-08-27T10:16:23.241Z"
   },
   {
    "duration": 21,
    "start_time": "2022-08-27T10:16:32.723Z"
   },
   {
    "duration": 42,
    "start_time": "2022-08-27T10:18:19.672Z"
   },
   {
    "duration": 16,
    "start_time": "2022-08-27T10:18:28.560Z"
   },
   {
    "duration": 9,
    "start_time": "2022-08-27T10:21:33.884Z"
   },
   {
    "duration": 7,
    "start_time": "2022-08-27T10:21:34.292Z"
   },
   {
    "duration": 6,
    "start_time": "2022-08-27T10:22:09.015Z"
   },
   {
    "duration": 5,
    "start_time": "2022-08-27T10:22:10.414Z"
   },
   {
    "duration": 11,
    "start_time": "2022-08-27T10:25:36.076Z"
   },
   {
    "duration": 6,
    "start_time": "2022-08-27T10:25:36.541Z"
   },
   {
    "duration": 9,
    "start_time": "2022-08-27T10:27:04.154Z"
   },
   {
    "duration": 5,
    "start_time": "2022-08-27T10:27:04.794Z"
   },
   {
    "duration": 52,
    "start_time": "2022-08-27T10:29:53.438Z"
   },
   {
    "duration": 141,
    "start_time": "2022-08-27T10:30:25.835Z"
   },
   {
    "duration": 143,
    "start_time": "2022-08-27T10:31:24.795Z"
   },
   {
    "duration": 137,
    "start_time": "2022-08-27T10:31:50.205Z"
   },
   {
    "duration": 105,
    "start_time": "2022-08-27T10:32:18.087Z"
   },
   {
    "duration": 6,
    "start_time": "2022-08-27T10:33:36.625Z"
   },
   {
    "duration": 134,
    "start_time": "2022-08-27T10:33:37.843Z"
   },
   {
    "duration": 141,
    "start_time": "2022-08-27T10:34:12.211Z"
   },
   {
    "duration": 1032,
    "start_time": "2022-08-27T10:35:09.970Z"
   },
   {
    "duration": 108,
    "start_time": "2022-08-27T10:35:11.004Z"
   },
   {
    "duration": 164,
    "start_time": "2022-08-27T10:35:36.483Z"
   },
   {
    "duration": 123,
    "start_time": "2022-08-27T10:39:04.104Z"
   },
   {
    "duration": 187,
    "start_time": "2022-08-27T10:39:47.060Z"
   },
   {
    "duration": 185,
    "start_time": "2022-08-27T10:40:43.735Z"
   },
   {
    "duration": 460,
    "start_time": "2022-08-27T10:41:00.072Z"
   },
   {
    "duration": 203,
    "start_time": "2022-08-27T10:42:05.125Z"
   },
   {
    "duration": 161,
    "start_time": "2022-08-27T10:43:31.379Z"
   },
   {
    "duration": 141,
    "start_time": "2022-08-27T10:44:08.131Z"
   },
   {
    "duration": 167,
    "start_time": "2022-08-27T10:44:54.535Z"
   },
   {
    "duration": 634,
    "start_time": "2022-08-27T10:49:17.399Z"
   },
   {
    "duration": 7,
    "start_time": "2022-08-27T10:49:29.854Z"
   },
   {
    "duration": 314,
    "start_time": "2022-08-27T10:49:30.403Z"
   },
   {
    "duration": 708,
    "start_time": "2022-08-27T10:49:36.504Z"
   },
   {
    "duration": 101,
    "start_time": "2022-08-27T10:51:12.063Z"
   },
   {
    "duration": 297,
    "start_time": "2022-08-27T10:53:43.016Z"
   },
   {
    "duration": 190,
    "start_time": "2022-08-27T10:53:53.336Z"
   },
   {
    "duration": 184,
    "start_time": "2022-08-27T10:54:56.241Z"
   },
   {
    "duration": 199,
    "start_time": "2022-08-27T10:55:30.846Z"
   },
   {
    "duration": 10,
    "start_time": "2022-08-27T10:55:49.935Z"
   },
   {
    "duration": 7,
    "start_time": "2022-08-27T10:56:03.624Z"
   },
   {
    "duration": 9,
    "start_time": "2022-08-27T11:02:56.733Z"
   },
   {
    "duration": 8,
    "start_time": "2022-08-27T11:05:18.191Z"
   },
   {
    "duration": 15128,
    "start_time": "2022-08-27T11:05:25.035Z"
   },
   {
    "duration": 17,
    "start_time": "2022-08-27T11:05:40.165Z"
   },
   {
    "duration": 19,
    "start_time": "2022-08-27T11:05:55.436Z"
   },
   {
    "duration": 14,
    "start_time": "2022-08-27T11:06:29.809Z"
   },
   {
    "duration": 18180,
    "start_time": "2022-08-27T11:06:46.515Z"
   },
   {
    "duration": 18,
    "start_time": "2022-08-27T11:09:33.300Z"
   },
   {
    "duration": 10,
    "start_time": "2022-08-27T11:10:47.626Z"
   },
   {
    "duration": 13,
    "start_time": "2022-08-27T11:10:55.369Z"
   },
   {
    "duration": 7,
    "start_time": "2022-08-27T11:11:09.201Z"
   },
   {
    "duration": 9,
    "start_time": "2022-08-27T11:11:26.627Z"
   },
   {
    "duration": 891,
    "start_time": "2022-08-27T11:11:53.709Z"
   },
   {
    "duration": 16,
    "start_time": "2022-08-27T11:12:58.569Z"
   },
   {
    "duration": 7,
    "start_time": "2022-08-27T11:14:19.350Z"
   },
   {
    "duration": 12,
    "start_time": "2022-08-27T11:14:25.590Z"
   },
   {
    "duration": 1187,
    "start_time": "2022-08-27T11:14:35.089Z"
   },
   {
    "duration": 0,
    "start_time": "2022-08-27T11:14:36.279Z"
   },
   {
    "duration": 0,
    "start_time": "2022-08-27T11:14:36.280Z"
   },
   {
    "duration": 0,
    "start_time": "2022-08-27T11:14:36.282Z"
   },
   {
    "duration": 0,
    "start_time": "2022-08-27T11:14:36.283Z"
   },
   {
    "duration": 0,
    "start_time": "2022-08-27T11:14:36.284Z"
   },
   {
    "duration": 0,
    "start_time": "2022-08-27T11:14:36.298Z"
   },
   {
    "duration": 1,
    "start_time": "2022-08-27T11:14:36.299Z"
   },
   {
    "duration": 0,
    "start_time": "2022-08-27T11:14:36.301Z"
   },
   {
    "duration": 3,
    "start_time": "2022-08-27T11:15:00.236Z"
   },
   {
    "duration": 69,
    "start_time": "2022-08-27T11:15:00.980Z"
   },
   {
    "duration": 13,
    "start_time": "2022-08-27T11:15:01.652Z"
   },
   {
    "duration": 12,
    "start_time": "2022-08-27T11:15:02.236Z"
   },
   {
    "duration": 14,
    "start_time": "2022-08-27T11:15:02.628Z"
   },
   {
    "duration": 7,
    "start_time": "2022-08-27T11:15:03.564Z"
   },
   {
    "duration": 17,
    "start_time": "2022-08-27T11:15:04.132Z"
   },
   {
    "duration": 12,
    "start_time": "2022-08-27T11:15:06.085Z"
   },
   {
    "duration": 5,
    "start_time": "2022-08-27T11:15:44.063Z"
   },
   {
    "duration": 14,
    "start_time": "2022-08-27T11:15:51.703Z"
   },
   {
    "duration": 9,
    "start_time": "2022-08-27T11:17:18.477Z"
   },
   {
    "duration": 16983,
    "start_time": "2022-08-27T11:17:33.029Z"
   },
   {
    "duration": 22,
    "start_time": "2022-08-27T11:19:44.391Z"
   },
   {
    "duration": 17,
    "start_time": "2022-08-27T11:20:19.328Z"
   },
   {
    "duration": 807,
    "start_time": "2022-08-27T11:20:56.385Z"
   },
   {
    "duration": 169,
    "start_time": "2022-08-27T11:23:09.280Z"
   },
   {
    "duration": 230,
    "start_time": "2022-08-27T11:23:30.099Z"
   },
   {
    "duration": 195,
    "start_time": "2022-08-27T11:23:41.172Z"
   },
   {
    "duration": 249,
    "start_time": "2022-08-27T11:25:48.228Z"
   },
   {
    "duration": 231,
    "start_time": "2022-08-27T11:26:07.197Z"
   },
   {
    "duration": 2021,
    "start_time": "2022-08-27T11:26:15.174Z"
   },
   {
    "duration": 10,
    "start_time": "2022-08-27T11:27:25.050Z"
   },
   {
    "duration": 854,
    "start_time": "2022-08-27T11:27:28.355Z"
   },
   {
    "duration": 2,
    "start_time": "2022-08-27T11:27:51.163Z"
   },
   {
    "duration": 884,
    "start_time": "2022-08-27T11:27:51.676Z"
   },
   {
    "duration": 1175,
    "start_time": "2022-08-27T11:28:14.242Z"
   },
   {
    "duration": 110,
    "start_time": "2022-08-27T11:28:15.419Z"
   },
   {
    "duration": 12,
    "start_time": "2022-08-27T11:28:15.530Z"
   },
   {
    "duration": 64,
    "start_time": "2022-08-27T11:28:15.543Z"
   },
   {
    "duration": 13,
    "start_time": "2022-08-27T11:28:15.610Z"
   },
   {
    "duration": 7,
    "start_time": "2022-08-27T11:28:15.625Z"
   },
   {
    "duration": 71,
    "start_time": "2022-08-27T11:28:15.633Z"
   },
   {
    "duration": 17,
    "start_time": "2022-08-27T11:28:15.707Z"
   },
   {
    "duration": 573,
    "start_time": "2022-08-27T11:28:15.725Z"
   },
   {
    "duration": 13,
    "start_time": "2022-08-27T11:29:04.932Z"
   },
   {
    "duration": 129,
    "start_time": "2022-08-27T11:29:23.597Z"
   },
   {
    "duration": 14,
    "start_time": "2022-08-27T11:29:53.657Z"
   },
   {
    "duration": 13,
    "start_time": "2022-08-27T11:30:18.424Z"
   },
   {
    "duration": 12,
    "start_time": "2022-08-27T11:30:29.115Z"
   },
   {
    "duration": 181,
    "start_time": "2022-08-27T11:30:52.507Z"
   },
   {
    "duration": 842,
    "start_time": "2022-08-27T11:31:08.126Z"
   },
   {
    "duration": 15,
    "start_time": "2022-08-27T11:32:06.832Z"
   },
   {
    "duration": 8,
    "start_time": "2022-08-27T11:32:32.609Z"
   },
   {
    "duration": 13,
    "start_time": "2022-08-27T11:32:41.233Z"
   },
   {
    "duration": 137,
    "start_time": "2022-08-27T11:32:49.850Z"
   },
   {
    "duration": 221,
    "start_time": "2022-08-27T11:33:03.682Z"
   },
   {
    "duration": 151,
    "start_time": "2022-08-27T11:34:02.558Z"
   },
   {
    "duration": 18,
    "start_time": "2022-08-27T11:34:56.946Z"
   },
   {
    "duration": 145,
    "start_time": "2022-08-27T11:40:57.265Z"
   },
   {
    "duration": 17,
    "start_time": "2022-08-27T11:41:02.432Z"
   },
   {
    "duration": 6,
    "start_time": "2022-08-27T11:41:33.595Z"
   },
   {
    "duration": 213,
    "start_time": "2022-08-27T11:41:36.875Z"
   },
   {
    "duration": 18,
    "start_time": "2022-08-27T11:42:11.924Z"
   },
   {
    "duration": 7,
    "start_time": "2022-08-27T11:42:32.655Z"
   },
   {
    "duration": 10,
    "start_time": "2022-08-27T11:42:51.448Z"
   },
   {
    "duration": 24,
    "start_time": "2022-08-27T11:42:56.880Z"
   },
   {
    "duration": 14,
    "start_time": "2022-08-27T11:43:41.567Z"
   },
   {
    "duration": 7,
    "start_time": "2022-08-27T11:44:07.797Z"
   },
   {
    "duration": 8,
    "start_time": "2022-08-27T11:44:19.720Z"
   },
   {
    "duration": 13,
    "start_time": "2022-08-27T11:45:19.617Z"
   },
   {
    "duration": 8,
    "start_time": "2022-08-27T11:48:26.986Z"
   },
   {
    "duration": 11,
    "start_time": "2022-08-27T11:50:01.877Z"
   },
   {
    "duration": 7,
    "start_time": "2022-08-27T11:52:35.701Z"
   },
   {
    "duration": 5,
    "start_time": "2022-08-27T11:53:45.530Z"
   },
   {
    "duration": 214,
    "start_time": "2022-08-27T11:53:46.632Z"
   },
   {
    "duration": 7,
    "start_time": "2022-08-27T11:54:07.602Z"
   },
   {
    "duration": 924,
    "start_time": "2022-08-27T11:54:29.852Z"
   },
   {
    "duration": 173,
    "start_time": "2022-08-27T11:54:47.422Z"
   },
   {
    "duration": 275,
    "start_time": "2022-08-27T11:54:58.716Z"
   },
   {
    "duration": 210,
    "start_time": "2022-08-27T11:55:20.415Z"
   },
   {
    "duration": 1604,
    "start_time": "2022-08-27T16:06:31.505Z"
   },
   {
    "duration": 145,
    "start_time": "2022-08-27T16:06:33.111Z"
   },
   {
    "duration": 16,
    "start_time": "2022-08-27T16:06:33.258Z"
   },
   {
    "duration": 14,
    "start_time": "2022-08-27T16:06:34.299Z"
   },
   {
    "duration": 25,
    "start_time": "2022-08-27T16:06:35.165Z"
   },
   {
    "duration": 9,
    "start_time": "2022-08-27T16:06:36.912Z"
   },
   {
    "duration": 19,
    "start_time": "2022-08-27T16:06:40.624Z"
   },
   {
    "duration": 8,
    "start_time": "2022-08-27T16:06:51.821Z"
   },
   {
    "duration": 323,
    "start_time": "2022-08-27T16:06:53.298Z"
   },
   {
    "duration": 303,
    "start_time": "2022-08-27T16:07:15.552Z"
   },
   {
    "duration": 308,
    "start_time": "2022-08-27T16:08:02.748Z"
   },
   {
    "duration": 265,
    "start_time": "2022-08-27T16:11:14.797Z"
   },
   {
    "duration": 277,
    "start_time": "2022-08-27T16:11:46.339Z"
   },
   {
    "duration": 223,
    "start_time": "2022-08-27T16:12:01.738Z"
   },
   {
    "duration": 280,
    "start_time": "2022-08-27T16:12:55.599Z"
   },
   {
    "duration": 11,
    "start_time": "2022-08-27T16:13:13.098Z"
   },
   {
    "duration": 29,
    "start_time": "2022-08-27T16:13:24.795Z"
   },
   {
    "duration": 21,
    "start_time": "2022-08-27T16:16:42.708Z"
   },
   {
    "duration": 246,
    "start_time": "2022-08-27T16:16:44.367Z"
   },
   {
    "duration": 34,
    "start_time": "2022-08-27T16:17:30.018Z"
   },
   {
    "duration": 349,
    "start_time": "2022-08-27T16:17:30.700Z"
   },
   {
    "duration": 193,
    "start_time": "2022-08-27T16:17:52.588Z"
   },
   {
    "duration": 8,
    "start_time": "2022-08-27T16:18:44.018Z"
   },
   {
    "duration": 9,
    "start_time": "2022-08-27T16:19:36.739Z"
   },
   {
    "duration": 9,
    "start_time": "2022-08-27T16:20:05.517Z"
   },
   {
    "duration": 14,
    "start_time": "2022-08-27T16:20:30.768Z"
   },
   {
    "duration": 1313,
    "start_time": "2022-08-27T16:21:00.729Z"
   },
   {
    "duration": 127,
    "start_time": "2022-08-27T16:21:02.045Z"
   },
   {
    "duration": 25,
    "start_time": "2022-08-27T16:21:02.174Z"
   },
   {
    "duration": 33,
    "start_time": "2022-08-27T16:21:02.203Z"
   },
   {
    "duration": 28,
    "start_time": "2022-08-27T16:21:02.239Z"
   },
   {
    "duration": 14,
    "start_time": "2022-08-27T16:21:02.269Z"
   },
   {
    "duration": 66,
    "start_time": "2022-08-27T16:21:02.284Z"
   },
   {
    "duration": 10,
    "start_time": "2022-08-27T16:21:02.352Z"
   },
   {
    "duration": 326,
    "start_time": "2022-08-27T16:21:02.365Z"
   },
   {
    "duration": 34,
    "start_time": "2022-08-27T16:21:02.695Z"
   },
   {
    "duration": 228,
    "start_time": "2022-08-27T16:21:02.732Z"
   },
   {
    "duration": 15,
    "start_time": "2022-08-27T16:21:02.961Z"
   },
   {
    "duration": 47,
    "start_time": "2022-08-27T16:21:02.978Z"
   },
   {
    "duration": 225,
    "start_time": "2022-08-27T16:21:03.029Z"
   },
   {
    "duration": 17,
    "start_time": "2022-08-27T16:21:42.157Z"
   },
   {
    "duration": 210,
    "start_time": "2022-08-27T16:21:58.812Z"
   },
   {
    "duration": 38,
    "start_time": "2022-08-27T16:22:44.646Z"
   },
   {
    "duration": 217,
    "start_time": "2022-08-27T16:22:45.447Z"
   },
   {
    "duration": 8,
    "start_time": "2022-08-27T16:23:21.032Z"
   },
   {
    "duration": 214,
    "start_time": "2022-08-27T16:23:33.314Z"
   },
   {
    "duration": 13,
    "start_time": "2022-08-27T16:24:09.052Z"
   },
   {
    "duration": 30,
    "start_time": "2022-08-27T16:24:37.594Z"
   },
   {
    "duration": 196,
    "start_time": "2022-08-27T16:24:38.738Z"
   },
   {
    "duration": 8,
    "start_time": "2022-08-27T16:24:40.524Z"
   },
   {
    "duration": 14,
    "start_time": "2022-08-27T16:24:44.832Z"
   },
   {
    "duration": 10,
    "start_time": "2022-08-27T16:24:45.791Z"
   },
   {
    "duration": 219,
    "start_time": "2022-08-27T16:24:47.308Z"
   },
   {
    "duration": 9,
    "start_time": "2022-08-27T16:24:54.912Z"
   },
   {
    "duration": 322,
    "start_time": "2022-08-27T16:24:56.441Z"
   },
   {
    "duration": 21,
    "start_time": "2022-08-27T16:25:35.016Z"
   },
   {
    "duration": 226,
    "start_time": "2022-08-27T16:25:36.012Z"
   },
   {
    "duration": 13,
    "start_time": "2022-08-27T16:25:37.418Z"
   },
   {
    "duration": 19,
    "start_time": "2022-08-27T16:25:40.910Z"
   },
   {
    "duration": 10,
    "start_time": "2022-08-27T16:25:42.294Z"
   },
   {
    "duration": 203,
    "start_time": "2022-08-27T16:25:43.455Z"
   },
   {
    "duration": 235,
    "start_time": "2022-08-27T16:26:14.762Z"
   },
   {
    "duration": 8,
    "start_time": "2022-08-27T16:26:16.013Z"
   },
   {
    "duration": 1289,
    "start_time": "2022-08-27T16:26:54.134Z"
   },
   {
    "duration": 83,
    "start_time": "2022-08-27T16:26:55.426Z"
   },
   {
    "duration": 21,
    "start_time": "2022-08-27T16:26:55.511Z"
   },
   {
    "duration": 14,
    "start_time": "2022-08-27T16:26:55.535Z"
   },
   {
    "duration": 45,
    "start_time": "2022-08-27T16:26:55.551Z"
   },
   {
    "duration": 30,
    "start_time": "2022-08-27T16:26:55.600Z"
   },
   {
    "duration": 22,
    "start_time": "2022-08-27T16:26:55.632Z"
   },
   {
    "duration": 8,
    "start_time": "2022-08-27T16:26:55.656Z"
   },
   {
    "duration": 347,
    "start_time": "2022-08-27T16:26:55.665Z"
   },
   {
    "duration": 197,
    "start_time": "2022-08-27T16:26:56.014Z"
   },
   {
    "duration": 9,
    "start_time": "2022-08-27T16:26:56.213Z"
   },
   {
    "duration": 25,
    "start_time": "2022-08-27T16:26:56.224Z"
   },
   {
    "duration": 28,
    "start_time": "2022-08-27T16:26:56.251Z"
   },
   {
    "duration": 351,
    "start_time": "2022-08-27T16:26:56.281Z"
   },
   {
    "duration": 13,
    "start_time": "2022-08-27T16:28:16.416Z"
   },
   {
    "duration": 10,
    "start_time": "2022-08-27T16:29:26.891Z"
   },
   {
    "duration": 8,
    "start_time": "2022-08-27T16:30:13.013Z"
   },
   {
    "duration": 7,
    "start_time": "2022-08-27T16:31:22.511Z"
   },
   {
    "duration": 6,
    "start_time": "2022-08-27T16:32:04.096Z"
   },
   {
    "duration": 111,
    "start_time": "2022-08-27T16:32:19.237Z"
   },
   {
    "duration": 6,
    "start_time": "2022-08-27T16:32:36.922Z"
   },
   {
    "duration": 375,
    "start_time": "2022-08-27T16:34:03.765Z"
   },
   {
    "duration": 770,
    "start_time": "2022-08-27T16:36:39.866Z"
   },
   {
    "duration": 739,
    "start_time": "2022-08-27T16:37:24.709Z"
   },
   {
    "duration": 9,
    "start_time": "2022-08-27T16:41:00.283Z"
   },
   {
    "duration": 8,
    "start_time": "2022-08-27T16:41:45.456Z"
   },
   {
    "duration": 18,
    "start_time": "2022-08-27T16:43:55.949Z"
   },
   {
    "duration": 23,
    "start_time": "2022-08-27T16:44:39.517Z"
   },
   {
    "duration": 558,
    "start_time": "2022-08-27T16:45:30.348Z"
   },
   {
    "duration": 13,
    "start_time": "2022-08-27T16:47:38.289Z"
   },
   {
    "duration": 266,
    "start_time": "2022-08-27T16:48:38.562Z"
   },
   {
    "duration": 529,
    "start_time": "2022-08-27T16:49:38.116Z"
   },
   {
    "duration": 606,
    "start_time": "2022-08-27T16:49:57.154Z"
   },
   {
    "duration": 8,
    "start_time": "2022-08-27T16:51:15.729Z"
   },
   {
    "duration": 1230,
    "start_time": "2022-08-27T16:54:51.287Z"
   },
   {
    "duration": 1788,
    "start_time": "2022-08-27T16:55:32.104Z"
   },
   {
    "duration": 10,
    "start_time": "2022-08-27T16:57:33.211Z"
   },
   {
    "duration": 108,
    "start_time": "2022-08-27T17:00:35.349Z"
   },
   {
    "duration": 111,
    "start_time": "2022-08-27T17:00:48.831Z"
   },
   {
    "duration": 15,
    "start_time": "2022-08-27T17:04:40.185Z"
   },
   {
    "duration": 14,
    "start_time": "2022-08-27T17:05:43.576Z"
   },
   {
    "duration": 10,
    "start_time": "2022-08-27T17:07:22.716Z"
   },
   {
    "duration": 3,
    "start_time": "2022-08-27T17:07:57.386Z"
   },
   {
    "duration": 474,
    "start_time": "2022-08-27T17:07:58.287Z"
   },
   {
    "duration": 465,
    "start_time": "2022-08-27T17:08:30.385Z"
   },
   {
    "duration": 186,
    "start_time": "2022-08-27T17:08:51.678Z"
   },
   {
    "duration": 14,
    "start_time": "2022-08-27T17:09:06.596Z"
   },
   {
    "duration": 282,
    "start_time": "2022-08-27T17:09:13.070Z"
   },
   {
    "duration": 310,
    "start_time": "2022-08-27T17:09:49.918Z"
   },
   {
    "duration": 297,
    "start_time": "2022-08-27T17:10:32.817Z"
   },
   {
    "duration": 305,
    "start_time": "2022-08-27T17:11:12.868Z"
   },
   {
    "duration": 8,
    "start_time": "2022-08-27T17:12:53.291Z"
   },
   {
    "duration": 9,
    "start_time": "2022-08-27T17:13:44.731Z"
   },
   {
    "duration": 40,
    "start_time": "2022-08-27T17:13:57.250Z"
   },
   {
    "duration": 62,
    "start_time": "2022-08-27T17:17:32.101Z"
   },
   {
    "duration": 34,
    "start_time": "2022-08-27T17:17:34.832Z"
   },
   {
    "duration": 37,
    "start_time": "2022-08-27T17:18:20.319Z"
   },
   {
    "duration": 31,
    "start_time": "2022-08-27T17:18:31.839Z"
   },
   {
    "duration": 26,
    "start_time": "2022-08-27T17:18:39.831Z"
   },
   {
    "duration": 36,
    "start_time": "2022-08-27T17:24:27.077Z"
   },
   {
    "duration": 39,
    "start_time": "2022-08-27T17:26:33.348Z"
   },
   {
    "duration": 13,
    "start_time": "2022-08-27T17:27:15.574Z"
   },
   {
    "duration": 12,
    "start_time": "2022-08-27T17:28:06.942Z"
   },
   {
    "duration": 12,
    "start_time": "2022-08-27T17:28:24.033Z"
   },
   {
    "duration": 12,
    "start_time": "2022-08-27T17:28:31.456Z"
   },
   {
    "duration": 12,
    "start_time": "2022-08-27T17:28:53.991Z"
   },
   {
    "duration": 177,
    "start_time": "2022-08-27T17:31:08.850Z"
   },
   {
    "duration": 10,
    "start_time": "2022-08-27T17:31:21.683Z"
   },
   {
    "duration": 373,
    "start_time": "2022-08-27T17:31:22.765Z"
   },
   {
    "duration": 1230,
    "start_time": "2022-08-27T17:34:04.457Z"
   },
   {
    "duration": 71,
    "start_time": "2022-08-27T17:34:05.690Z"
   },
   {
    "duration": 15,
    "start_time": "2022-08-27T17:34:05.763Z"
   },
   {
    "duration": 33,
    "start_time": "2022-08-27T17:34:05.782Z"
   },
   {
    "duration": 17,
    "start_time": "2022-08-27T17:34:05.817Z"
   },
   {
    "duration": 9,
    "start_time": "2022-08-27T17:34:05.835Z"
   },
   {
    "duration": 31,
    "start_time": "2022-08-27T17:34:05.845Z"
   },
   {
    "duration": 9,
    "start_time": "2022-08-27T17:34:05.878Z"
   },
   {
    "duration": 302,
    "start_time": "2022-08-27T17:34:05.889Z"
   },
   {
    "duration": 175,
    "start_time": "2022-08-27T17:34:06.193Z"
   },
   {
    "duration": 10,
    "start_time": "2022-08-27T17:34:06.371Z"
   },
   {
    "duration": 14,
    "start_time": "2022-08-27T17:34:06.384Z"
   },
   {
    "duration": 321,
    "start_time": "2022-08-27T17:34:06.400Z"
   },
   {
    "duration": 16,
    "start_time": "2022-08-27T17:34:06.724Z"
   },
   {
    "duration": 9,
    "start_time": "2022-08-27T17:34:06.741Z"
   },
   {
    "duration": 397,
    "start_time": "2022-08-27T17:34:06.751Z"
   },
   {
    "duration": 7,
    "start_time": "2022-08-27T17:34:07.150Z"
   },
   {
    "duration": 689,
    "start_time": "2022-08-27T17:34:07.158Z"
   },
   {
    "duration": 34,
    "start_time": "2022-08-27T17:34:07.848Z"
   },
   {
    "duration": 606,
    "start_time": "2022-08-27T17:34:07.884Z"
   },
   {
    "duration": 320,
    "start_time": "2022-08-27T17:34:08.492Z"
   },
   {
    "duration": 87,
    "start_time": "2022-08-27T17:34:08.815Z"
   },
   {
    "duration": 23,
    "start_time": "2022-08-27T17:34:08.904Z"
   },
   {
    "duration": 18,
    "start_time": "2022-08-27T17:34:08.928Z"
   },
   {
    "duration": 366,
    "start_time": "2022-08-27T17:34:08.948Z"
   },
   {
    "duration": 1246,
    "start_time": "2022-08-27T17:35:34.418Z"
   },
   {
    "duration": 84,
    "start_time": "2022-08-27T17:35:35.666Z"
   },
   {
    "duration": 16,
    "start_time": "2022-08-27T17:35:35.752Z"
   },
   {
    "duration": 31,
    "start_time": "2022-08-27T17:35:35.770Z"
   },
   {
    "duration": 15,
    "start_time": "2022-08-27T17:35:35.803Z"
   },
   {
    "duration": 10,
    "start_time": "2022-08-27T17:35:35.820Z"
   },
   {
    "duration": 22,
    "start_time": "2022-08-27T17:35:35.832Z"
   },
   {
    "duration": 20,
    "start_time": "2022-08-27T17:35:35.856Z"
   },
   {
    "duration": 291,
    "start_time": "2022-08-27T17:35:35.877Z"
   },
   {
    "duration": 166,
    "start_time": "2022-08-27T17:35:36.170Z"
   },
   {
    "duration": 8,
    "start_time": "2022-08-27T17:35:36.338Z"
   },
   {
    "duration": 27,
    "start_time": "2022-08-27T17:35:36.347Z"
   },
   {
    "duration": 317,
    "start_time": "2022-08-27T17:35:36.375Z"
   },
   {
    "duration": 20,
    "start_time": "2022-08-27T17:35:36.696Z"
   },
   {
    "duration": 25,
    "start_time": "2022-08-27T17:35:36.718Z"
   },
   {
    "duration": 389,
    "start_time": "2022-08-27T17:35:36.745Z"
   },
   {
    "duration": 7,
    "start_time": "2022-08-27T17:35:37.136Z"
   },
   {
    "duration": 694,
    "start_time": "2022-08-27T17:35:37.145Z"
   },
   {
    "duration": 34,
    "start_time": "2022-08-27T17:35:37.841Z"
   },
   {
    "duration": 558,
    "start_time": "2022-08-27T17:35:37.881Z"
   },
   {
    "duration": 311,
    "start_time": "2022-08-27T17:35:38.440Z"
   },
   {
    "duration": 81,
    "start_time": "2022-08-27T17:35:38.753Z"
   },
   {
    "duration": 20,
    "start_time": "2022-08-27T17:35:38.837Z"
   },
   {
    "duration": 25,
    "start_time": "2022-08-27T17:35:38.870Z"
   },
   {
    "duration": 1172,
    "start_time": "2022-08-27T17:37:36.105Z"
   },
   {
    "duration": 76,
    "start_time": "2022-08-27T17:37:37.279Z"
   },
   {
    "duration": 21,
    "start_time": "2022-08-27T17:37:37.357Z"
   },
   {
    "duration": 22,
    "start_time": "2022-08-27T17:37:37.380Z"
   },
   {
    "duration": 17,
    "start_time": "2022-08-27T17:37:37.404Z"
   },
   {
    "duration": 7,
    "start_time": "2022-08-27T17:37:37.423Z"
   },
   {
    "duration": 18,
    "start_time": "2022-08-27T17:37:37.432Z"
   },
   {
    "duration": 28,
    "start_time": "2022-08-27T17:37:37.451Z"
   },
   {
    "duration": 289,
    "start_time": "2022-08-27T17:37:37.481Z"
   },
   {
    "duration": 180,
    "start_time": "2022-08-27T17:37:37.772Z"
   },
   {
    "duration": 16,
    "start_time": "2022-08-27T17:37:37.954Z"
   },
   {
    "duration": 22,
    "start_time": "2022-08-27T17:37:37.972Z"
   },
   {
    "duration": 300,
    "start_time": "2022-08-27T17:37:37.996Z"
   },
   {
    "duration": 14,
    "start_time": "2022-08-27T17:37:38.299Z"
   },
   {
    "duration": 9,
    "start_time": "2022-08-27T17:37:38.316Z"
   },
   {
    "duration": 397,
    "start_time": "2022-08-27T17:37:38.327Z"
   },
   {
    "duration": 7,
    "start_time": "2022-08-27T17:37:38.726Z"
   },
   {
    "duration": 630,
    "start_time": "2022-08-27T17:37:38.734Z"
   },
   {
    "duration": 22,
    "start_time": "2022-08-27T17:37:39.367Z"
   },
   {
    "duration": 636,
    "start_time": "2022-08-27T17:37:39.391Z"
   },
   {
    "duration": 385,
    "start_time": "2022-08-27T17:37:40.029Z"
   },
   {
    "duration": 101,
    "start_time": "2022-08-27T17:37:40.416Z"
   },
   {
    "duration": 25,
    "start_time": "2022-08-27T17:37:40.519Z"
   },
   {
    "duration": 43,
    "start_time": "2022-08-27T17:37:40.546Z"
   },
   {
    "duration": 254,
    "start_time": "2022-08-27T17:37:40.591Z"
   },
   {
    "duration": 126,
    "start_time": "2022-08-27T17:39:27.056Z"
   },
   {
    "duration": 19,
    "start_time": "2022-08-27T17:40:02.293Z"
   },
   {
    "duration": 20,
    "start_time": "2022-08-27T17:40:21.025Z"
   },
   {
    "duration": 1335,
    "start_time": "2022-08-27T17:44:11.751Z"
   },
   {
    "duration": 72,
    "start_time": "2022-08-27T17:44:13.088Z"
   },
   {
    "duration": 15,
    "start_time": "2022-08-27T17:44:13.162Z"
   },
   {
    "duration": 27,
    "start_time": "2022-08-27T17:44:13.178Z"
   },
   {
    "duration": 16,
    "start_time": "2022-08-27T17:44:13.208Z"
   },
   {
    "duration": 8,
    "start_time": "2022-08-27T17:44:13.226Z"
   },
   {
    "duration": 33,
    "start_time": "2022-08-27T17:44:13.236Z"
   },
   {
    "duration": 9,
    "start_time": "2022-08-27T17:44:13.272Z"
   },
   {
    "duration": 293,
    "start_time": "2022-08-27T17:44:13.283Z"
   },
   {
    "duration": 168,
    "start_time": "2022-08-27T17:44:13.579Z"
   },
   {
    "duration": 19,
    "start_time": "2022-08-27T17:44:13.749Z"
   },
   {
    "duration": 12,
    "start_time": "2022-08-27T17:44:13.771Z"
   },
   {
    "duration": 288,
    "start_time": "2022-08-27T17:44:13.785Z"
   },
   {
    "duration": 13,
    "start_time": "2022-08-27T17:44:14.076Z"
   },
   {
    "duration": 14,
    "start_time": "2022-08-27T17:44:14.091Z"
   },
   {
    "duration": 329,
    "start_time": "2022-08-27T17:44:14.107Z"
   },
   {
    "duration": 6,
    "start_time": "2022-08-27T17:44:14.438Z"
   },
   {
    "duration": 682,
    "start_time": "2022-08-27T17:44:14.445Z"
   },
   {
    "duration": 18,
    "start_time": "2022-08-27T17:44:15.129Z"
   },
   {
    "duration": 574,
    "start_time": "2022-08-27T17:44:15.148Z"
   },
   {
    "duration": 334,
    "start_time": "2022-08-27T17:44:15.723Z"
   },
   {
    "duration": 74,
    "start_time": "2022-08-27T17:44:16.059Z"
   },
   {
    "duration": 35,
    "start_time": "2022-08-27T17:44:16.135Z"
   },
   {
    "duration": 23,
    "start_time": "2022-08-27T17:44:16.172Z"
   },
   {
    "duration": 259,
    "start_time": "2022-08-27T17:44:16.196Z"
   },
   {
    "duration": 9,
    "start_time": "2022-08-27T17:45:35.344Z"
   },
   {
    "duration": 1351,
    "start_time": "2022-08-27T17:45:36.409Z"
   },
   {
    "duration": 1648,
    "start_time": "2022-08-27T17:46:04.807Z"
   },
   {
    "duration": 1216,
    "start_time": "2022-08-27T17:46:19.949Z"
   },
   {
    "duration": 9,
    "start_time": "2022-08-27T17:47:17.433Z"
   },
   {
    "duration": 13,
    "start_time": "2022-08-27T17:47:18.566Z"
   },
   {
    "duration": 12,
    "start_time": "2022-08-27T17:48:15.749Z"
   },
   {
    "duration": 16,
    "start_time": "2022-08-27T17:48:50.912Z"
   },
   {
    "duration": 14,
    "start_time": "2022-08-27T17:48:52.126Z"
   },
   {
    "duration": 22,
    "start_time": "2022-08-27T17:49:06.340Z"
   },
   {
    "duration": 14,
    "start_time": "2022-08-27T17:49:22.091Z"
   },
   {
    "duration": 13,
    "start_time": "2022-08-27T17:49:53.128Z"
   },
   {
    "duration": 20,
    "start_time": "2022-08-27T17:50:42.446Z"
   },
   {
    "duration": 230,
    "start_time": "2022-08-27T17:50:43.597Z"
   },
   {
    "duration": 22,
    "start_time": "2022-08-27T17:55:08.820Z"
   },
   {
    "duration": 26,
    "start_time": "2022-08-27T17:55:48.319Z"
   },
   {
    "duration": 154,
    "start_time": "2022-08-27T17:59:30.840Z"
   },
   {
    "duration": 11,
    "start_time": "2022-08-27T18:03:01.081Z"
   },
   {
    "duration": 9,
    "start_time": "2022-08-27T18:03:58.443Z"
   },
   {
    "duration": 11,
    "start_time": "2022-08-27T18:04:29.384Z"
   },
   {
    "duration": 18,
    "start_time": "2022-08-27T18:04:41.854Z"
   },
   {
    "duration": 21,
    "start_time": "2022-08-27T18:06:06.155Z"
   },
   {
    "duration": 20,
    "start_time": "2022-08-27T18:06:49.999Z"
   },
   {
    "duration": 35,
    "start_time": "2022-08-27T18:07:01.780Z"
   },
   {
    "duration": 17,
    "start_time": "2022-08-27T18:07:08.323Z"
   },
   {
    "duration": 22,
    "start_time": "2022-08-27T18:07:19.907Z"
   },
   {
    "duration": 129,
    "start_time": "2022-08-27T18:10:39.082Z"
   },
   {
    "duration": 55,
    "start_time": "2022-08-28T08:19:12.037Z"
   },
   {
    "duration": 1404,
    "start_time": "2022-08-28T08:19:17.133Z"
   },
   {
    "duration": 644,
    "start_time": "2022-08-28T08:19:18.539Z"
   },
   {
    "duration": 17,
    "start_time": "2022-08-28T08:19:19.923Z"
   },
   {
    "duration": 15,
    "start_time": "2022-08-28T08:19:20.764Z"
   },
   {
    "duration": 18,
    "start_time": "2022-08-28T08:19:22.125Z"
   },
   {
    "duration": 9,
    "start_time": "2022-08-28T08:19:22.748Z"
   },
   {
    "duration": 19,
    "start_time": "2022-08-28T08:19:23.548Z"
   },
   {
    "duration": 12,
    "start_time": "2022-08-28T08:19:24.187Z"
   },
   {
    "duration": 16,
    "start_time": "2022-08-28T08:19:36.205Z"
   },
   {
    "duration": 263,
    "start_time": "2022-08-28T08:23:34.124Z"
   },
   {
    "duration": 249,
    "start_time": "2022-08-28T08:24:12.959Z"
   },
   {
    "duration": 264,
    "start_time": "2022-08-28T08:25:41.838Z"
   },
   {
    "duration": 291,
    "start_time": "2022-08-28T08:27:07.457Z"
   },
   {
    "duration": 244,
    "start_time": "2022-08-28T08:27:36.379Z"
   },
   {
    "duration": 267,
    "start_time": "2022-08-28T08:28:04.180Z"
   },
   {
    "duration": 160,
    "start_time": "2022-08-28T08:31:31.152Z"
   },
   {
    "duration": 170,
    "start_time": "2022-08-28T08:32:41.766Z"
   },
   {
    "duration": 296,
    "start_time": "2022-08-28T08:32:57.272Z"
   },
   {
    "duration": 16,
    "start_time": "2022-08-28T08:34:55.305Z"
   },
   {
    "duration": 9,
    "start_time": "2022-08-28T08:35:11.263Z"
   },
   {
    "duration": 232,
    "start_time": "2022-08-28T08:36:53.750Z"
   },
   {
    "duration": 232,
    "start_time": "2022-08-28T08:37:28.701Z"
   },
   {
    "duration": 223,
    "start_time": "2022-08-28T08:37:54.161Z"
   },
   {
    "duration": 242,
    "start_time": "2022-08-28T08:38:06.878Z"
   },
   {
    "duration": 234,
    "start_time": "2022-08-28T08:38:22.706Z"
   },
   {
    "duration": 239,
    "start_time": "2022-08-28T08:38:36.340Z"
   },
   {
    "duration": 320,
    "start_time": "2022-08-28T08:43:09.043Z"
   },
   {
    "duration": 8,
    "start_time": "2022-08-28T08:43:32.630Z"
   },
   {
    "duration": 330,
    "start_time": "2022-08-28T08:47:27.055Z"
   },
   {
    "duration": 367,
    "start_time": "2022-08-28T08:47:47.405Z"
   },
   {
    "duration": 866,
    "start_time": "2022-08-28T08:49:24.930Z"
   },
   {
    "duration": 851,
    "start_time": "2022-08-28T08:49:33.302Z"
   },
   {
    "duration": 875,
    "start_time": "2022-08-28T08:49:50.781Z"
   },
   {
    "duration": 1202,
    "start_time": "2022-08-28T08:50:10.097Z"
   },
   {
    "duration": 83,
    "start_time": "2022-08-28T08:50:11.301Z"
   },
   {
    "duration": 14,
    "start_time": "2022-08-28T08:50:11.385Z"
   },
   {
    "duration": 14,
    "start_time": "2022-08-28T08:50:11.400Z"
   },
   {
    "duration": 30,
    "start_time": "2022-08-28T08:50:11.416Z"
   },
   {
    "duration": 8,
    "start_time": "2022-08-28T08:50:11.448Z"
   },
   {
    "duration": 23,
    "start_time": "2022-08-28T08:50:11.458Z"
   },
   {
    "duration": 11,
    "start_time": "2022-08-28T08:50:11.483Z"
   },
   {
    "duration": 30,
    "start_time": "2022-08-28T08:50:11.496Z"
   },
   {
    "duration": 274,
    "start_time": "2022-08-28T08:50:11.529Z"
   },
   {
    "duration": 162,
    "start_time": "2022-08-28T08:50:11.805Z"
   },
   {
    "duration": 8,
    "start_time": "2022-08-28T08:50:11.969Z"
   },
   {
    "duration": 12,
    "start_time": "2022-08-28T08:50:11.979Z"
   },
   {
    "duration": 243,
    "start_time": "2022-08-28T08:50:12.011Z"
   },
   {
    "duration": 7,
    "start_time": "2022-08-28T08:50:12.257Z"
   },
   {
    "duration": 311,
    "start_time": "2022-08-28T08:50:12.267Z"
   },
   {
    "duration": 7,
    "start_time": "2022-08-28T08:50:12.581Z"
   },
   {
    "duration": 846,
    "start_time": "2022-08-28T08:50:12.590Z"
   },
   {
    "duration": 376,
    "start_time": "2022-08-28T08:50:13.439Z"
   },
   {
    "duration": 20,
    "start_time": "2022-08-28T08:50:13.820Z"
   },
   {
    "duration": 518,
    "start_time": "2022-08-28T08:50:13.842Z"
   },
   {
    "duration": 336,
    "start_time": "2022-08-28T08:50:14.362Z"
   },
   {
    "duration": 87,
    "start_time": "2022-08-28T08:50:14.699Z"
   },
   {
    "duration": 41,
    "start_time": "2022-08-28T08:50:14.787Z"
   },
   {
    "duration": 50,
    "start_time": "2022-08-28T08:50:14.830Z"
   },
   {
    "duration": 254,
    "start_time": "2022-08-28T08:50:14.882Z"
   },
   {
    "duration": 16,
    "start_time": "2022-08-28T08:50:15.139Z"
   },
   {
    "duration": 22,
    "start_time": "2022-08-28T08:50:15.157Z"
   },
   {
    "duration": 688,
    "start_time": "2022-08-28T08:50:38.046Z"
   },
   {
    "duration": 792,
    "start_time": "2022-08-28T08:51:05.400Z"
   },
   {
    "duration": 684,
    "start_time": "2022-08-28T08:52:19.109Z"
   },
   {
    "duration": 681,
    "start_time": "2022-08-28T08:52:38.123Z"
   },
   {
    "duration": 708,
    "start_time": "2022-08-28T08:53:01.734Z"
   },
   {
    "duration": 323,
    "start_time": "2022-08-28T08:53:32.879Z"
   },
   {
    "duration": 405,
    "start_time": "2022-08-28T08:54:08.489Z"
   },
   {
    "duration": 308,
    "start_time": "2022-08-28T08:54:22.360Z"
   },
   {
    "duration": 308,
    "start_time": "2022-08-28T08:55:05.468Z"
   },
   {
    "duration": 640,
    "start_time": "2022-08-28T09:01:51.434Z"
   },
   {
    "duration": 513,
    "start_time": "2022-08-28T09:02:06.435Z"
   },
   {
    "duration": 750,
    "start_time": "2022-08-28T09:02:51.433Z"
   },
   {
    "duration": 574,
    "start_time": "2022-08-28T09:03:37.303Z"
   },
   {
    "duration": 585,
    "start_time": "2022-08-28T09:04:22.300Z"
   },
   {
    "duration": 330,
    "start_time": "2022-08-28T09:05:33.028Z"
   },
   {
    "duration": 263,
    "start_time": "2022-08-28T09:06:12.130Z"
   },
   {
    "duration": 165,
    "start_time": "2022-08-28T09:06:34.035Z"
   },
   {
    "duration": 601,
    "start_time": "2022-08-28T09:06:57.203Z"
   },
   {
    "duration": 6,
    "start_time": "2022-08-28T09:06:58.732Z"
   },
   {
    "duration": 181,
    "start_time": "2022-08-28T09:06:59.701Z"
   },
   {
    "duration": 8,
    "start_time": "2022-08-28T09:07:28.758Z"
   },
   {
    "duration": 191,
    "start_time": "2022-08-28T09:07:56.375Z"
   },
   {
    "duration": 1242,
    "start_time": "2022-08-28T09:08:39.529Z"
   },
   {
    "duration": 90,
    "start_time": "2022-08-28T09:08:40.773Z"
   },
   {
    "duration": 16,
    "start_time": "2022-08-28T09:08:40.865Z"
   },
   {
    "duration": 15,
    "start_time": "2022-08-28T09:08:40.882Z"
   },
   {
    "duration": 26,
    "start_time": "2022-08-28T09:08:40.908Z"
   },
   {
    "duration": 10,
    "start_time": "2022-08-28T09:08:40.936Z"
   },
   {
    "duration": 20,
    "start_time": "2022-08-28T09:08:40.948Z"
   },
   {
    "duration": 11,
    "start_time": "2022-08-28T09:08:40.970Z"
   },
   {
    "duration": 35,
    "start_time": "2022-08-28T09:08:40.983Z"
   },
   {
    "duration": 247,
    "start_time": "2022-08-28T09:08:41.020Z"
   },
   {
    "duration": 170,
    "start_time": "2022-08-28T09:08:41.269Z"
   },
   {
    "duration": 8,
    "start_time": "2022-08-28T09:08:41.440Z"
   },
   {
    "duration": 24,
    "start_time": "2022-08-28T09:08:41.449Z"
   },
   {
    "duration": 281,
    "start_time": "2022-08-28T09:08:41.476Z"
   },
   {
    "duration": 7,
    "start_time": "2022-08-28T09:08:41.758Z"
   },
   {
    "duration": 304,
    "start_time": "2022-08-28T09:08:41.766Z"
   },
   {
    "duration": 7,
    "start_time": "2022-08-28T09:08:42.072Z"
   },
   {
    "duration": 711,
    "start_time": "2022-08-28T09:08:42.081Z"
   },
   {
    "duration": 400,
    "start_time": "2022-08-28T09:08:42.793Z"
   },
   {
    "duration": 36,
    "start_time": "2022-08-28T09:08:43.194Z"
   },
   {
    "duration": 544,
    "start_time": "2022-08-28T09:08:43.232Z"
   },
   {
    "duration": 7,
    "start_time": "2022-08-28T09:08:43.778Z"
   },
   {
    "duration": 302,
    "start_time": "2022-08-28T09:08:43.786Z"
   },
   {
    "duration": 0,
    "start_time": "2022-08-28T09:08:44.089Z"
   },
   {
    "duration": 0,
    "start_time": "2022-08-28T09:08:44.090Z"
   },
   {
    "duration": 0,
    "start_time": "2022-08-28T09:08:44.091Z"
   },
   {
    "duration": 0,
    "start_time": "2022-08-28T09:08:44.093Z"
   },
   {
    "duration": 0,
    "start_time": "2022-08-28T09:08:44.094Z"
   },
   {
    "duration": 0,
    "start_time": "2022-08-28T09:08:44.109Z"
   },
   {
    "duration": 183,
    "start_time": "2022-08-28T09:09:20.709Z"
   },
   {
    "duration": 150,
    "start_time": "2022-08-28T09:10:13.900Z"
   },
   {
    "duration": 14,
    "start_time": "2022-08-28T09:10:24.799Z"
   },
   {
    "duration": 13,
    "start_time": "2022-08-28T09:10:30.577Z"
   },
   {
    "duration": 17,
    "start_time": "2022-08-28T09:10:47.299Z"
   },
   {
    "duration": 16,
    "start_time": "2022-08-28T09:12:15.431Z"
   },
   {
    "duration": 16,
    "start_time": "2022-08-28T09:12:23.062Z"
   },
   {
    "duration": 543,
    "start_time": "2022-08-28T09:12:26.127Z"
   },
   {
    "duration": 10,
    "start_time": "2022-08-28T09:12:27.503Z"
   },
   {
    "duration": 12,
    "start_time": "2022-08-28T09:12:28.935Z"
   },
   {
    "duration": 20,
    "start_time": "2022-08-28T09:12:47.000Z"
   },
   {
    "duration": 564,
    "start_time": "2022-08-28T09:12:50.881Z"
   },
   {
    "duration": 8,
    "start_time": "2022-08-28T09:12:53.345Z"
   },
   {
    "duration": 326,
    "start_time": "2022-08-28T09:12:54.381Z"
   },
   {
    "duration": 269,
    "start_time": "2022-08-28T09:13:08.633Z"
   },
   {
    "duration": 3,
    "start_time": "2022-08-28T09:14:19.174Z"
   },
   {
    "duration": 279,
    "start_time": "2022-08-28T09:14:19.846Z"
   },
   {
    "duration": 204,
    "start_time": "2022-08-28T09:14:44.471Z"
   },
   {
    "duration": 219,
    "start_time": "2022-08-28T09:19:59.466Z"
   },
   {
    "duration": 330,
    "start_time": "2022-08-28T09:21:11.625Z"
   },
   {
    "duration": 251,
    "start_time": "2022-08-28T09:21:37.553Z"
   },
   {
    "duration": 72,
    "start_time": "2022-08-28T09:23:01.133Z"
   },
   {
    "duration": 24,
    "start_time": "2022-08-28T09:23:03.524Z"
   },
   {
    "duration": 23,
    "start_time": "2022-08-28T09:23:09.973Z"
   },
   {
    "duration": 19,
    "start_time": "2022-08-28T09:23:34.524Z"
   },
   {
    "duration": 16,
    "start_time": "2022-08-28T09:23:59.330Z"
   },
   {
    "duration": 20,
    "start_time": "2022-08-28T09:24:16.009Z"
   },
   {
    "duration": 378,
    "start_time": "2022-08-28T09:24:47.347Z"
   },
   {
    "duration": 244,
    "start_time": "2022-08-28T09:25:19.845Z"
   },
   {
    "duration": 28,
    "start_time": "2022-08-28T09:30:29.295Z"
   },
   {
    "duration": 2,
    "start_time": "2022-08-28T09:42:22.965Z"
   },
   {
    "duration": 288,
    "start_time": "2022-08-28T09:47:49.511Z"
   },
   {
    "duration": 14,
    "start_time": "2022-08-28T09:54:03.015Z"
   },
   {
    "duration": 1153,
    "start_time": "2022-08-28T09:54:03.901Z"
   },
   {
    "duration": 220,
    "start_time": "2022-08-28T09:55:03.258Z"
   },
   {
    "duration": 1143,
    "start_time": "2022-08-28T09:55:16.729Z"
   },
   {
    "duration": 14,
    "start_time": "2022-08-28T09:55:25.329Z"
   },
   {
    "duration": 1164,
    "start_time": "2022-08-28T09:55:37.554Z"
   },
   {
    "duration": 75,
    "start_time": "2022-08-28T09:55:38.721Z"
   },
   {
    "duration": 15,
    "start_time": "2022-08-28T09:55:38.798Z"
   },
   {
    "duration": 17,
    "start_time": "2022-08-28T09:55:38.816Z"
   },
   {
    "duration": 31,
    "start_time": "2022-08-28T09:55:38.835Z"
   },
   {
    "duration": 9,
    "start_time": "2022-08-28T09:55:38.867Z"
   },
   {
    "duration": 43,
    "start_time": "2022-08-28T09:55:38.878Z"
   },
   {
    "duration": 17,
    "start_time": "2022-08-28T09:55:38.923Z"
   },
   {
    "duration": 16,
    "start_time": "2022-08-28T09:55:38.943Z"
   },
   {
    "duration": 280,
    "start_time": "2022-08-28T09:55:38.962Z"
   },
   {
    "duration": 167,
    "start_time": "2022-08-28T09:55:39.244Z"
   },
   {
    "duration": 10,
    "start_time": "2022-08-28T09:55:39.413Z"
   },
   {
    "duration": 27,
    "start_time": "2022-08-28T09:55:39.425Z"
   },
   {
    "duration": 284,
    "start_time": "2022-08-28T09:55:39.454Z"
   },
   {
    "duration": 8,
    "start_time": "2022-08-28T09:55:39.740Z"
   },
   {
    "duration": 331,
    "start_time": "2022-08-28T09:55:39.751Z"
   },
   {
    "duration": 9,
    "start_time": "2022-08-28T09:55:40.083Z"
   },
   {
    "duration": 723,
    "start_time": "2022-08-28T09:55:40.093Z"
   },
   {
    "duration": 443,
    "start_time": "2022-08-28T09:55:40.820Z"
   },
   {
    "duration": 23,
    "start_time": "2022-08-28T09:55:41.266Z"
   },
   {
    "duration": 230,
    "start_time": "2022-08-28T09:55:41.291Z"
   },
   {
    "duration": 95,
    "start_time": "2022-08-28T09:55:41.523Z"
   },
   {
    "duration": 29,
    "start_time": "2022-08-28T09:55:41.620Z"
   },
   {
    "duration": 27,
    "start_time": "2022-08-28T09:55:41.651Z"
   },
   {
    "duration": 328,
    "start_time": "2022-08-28T09:55:41.681Z"
   },
   {
    "duration": 25,
    "start_time": "2022-08-28T09:55:42.011Z"
   },
   {
    "duration": 55,
    "start_time": "2022-08-28T09:55:42.039Z"
   },
   {
    "duration": 246,
    "start_time": "2022-08-28T09:57:56.385Z"
   },
   {
    "duration": 332,
    "start_time": "2022-08-28T10:00:30.987Z"
   },
   {
    "duration": 335,
    "start_time": "2022-08-28T10:01:41.018Z"
   },
   {
    "duration": 327,
    "start_time": "2022-08-28T10:01:50.561Z"
   },
   {
    "duration": 706,
    "start_time": "2022-08-28T10:24:51.639Z"
   },
   {
    "duration": 1213,
    "start_time": "2022-08-28T10:26:16.775Z"
   },
   {
    "duration": 86,
    "start_time": "2022-08-28T10:26:17.990Z"
   },
   {
    "duration": 15,
    "start_time": "2022-08-28T10:26:18.078Z"
   },
   {
    "duration": 12,
    "start_time": "2022-08-28T10:26:18.094Z"
   },
   {
    "duration": 29,
    "start_time": "2022-08-28T10:26:18.109Z"
   },
   {
    "duration": 10,
    "start_time": "2022-08-28T10:26:18.140Z"
   },
   {
    "duration": 23,
    "start_time": "2022-08-28T10:26:18.151Z"
   },
   {
    "duration": 14,
    "start_time": "2022-08-28T10:26:18.176Z"
   },
   {
    "duration": 29,
    "start_time": "2022-08-28T10:26:18.192Z"
   },
   {
    "duration": 242,
    "start_time": "2022-08-28T10:26:18.225Z"
   },
   {
    "duration": 173,
    "start_time": "2022-08-28T10:26:18.470Z"
   },
   {
    "duration": 10,
    "start_time": "2022-08-28T10:26:18.645Z"
   },
   {
    "duration": 14,
    "start_time": "2022-08-28T10:26:18.657Z"
   },
   {
    "duration": 263,
    "start_time": "2022-08-28T10:26:18.674Z"
   },
   {
    "duration": 7,
    "start_time": "2022-08-28T10:26:18.939Z"
   },
   {
    "duration": 311,
    "start_time": "2022-08-28T10:26:18.948Z"
   },
   {
    "duration": 7,
    "start_time": "2022-08-28T10:26:19.261Z"
   },
   {
    "duration": 688,
    "start_time": "2022-08-28T10:26:19.270Z"
   },
   {
    "duration": 414,
    "start_time": "2022-08-28T10:26:19.960Z"
   },
   {
    "duration": 17,
    "start_time": "2022-08-28T10:26:20.376Z"
   },
   {
    "duration": 267,
    "start_time": "2022-08-28T10:26:20.394Z"
   },
   {
    "duration": 91,
    "start_time": "2022-08-28T10:26:20.663Z"
   },
   {
    "duration": 24,
    "start_time": "2022-08-28T10:26:20.756Z"
   },
   {
    "duration": 47,
    "start_time": "2022-08-28T10:26:20.782Z"
   },
   {
    "duration": 271,
    "start_time": "2022-08-28T10:26:20.831Z"
   },
   {
    "duration": 31,
    "start_time": "2022-08-28T10:26:21.109Z"
   },
   {
    "duration": 1400,
    "start_time": "2022-08-28T13:30:37.311Z"
   },
   {
    "duration": 107,
    "start_time": "2022-08-28T13:30:38.713Z"
   },
   {
    "duration": 14,
    "start_time": "2022-08-28T13:30:38.822Z"
   },
   {
    "duration": 11,
    "start_time": "2022-08-28T13:30:38.839Z"
   },
   {
    "duration": 17,
    "start_time": "2022-08-28T13:30:38.852Z"
   },
   {
    "duration": 17,
    "start_time": "2022-08-28T13:30:38.890Z"
   },
   {
    "duration": 41,
    "start_time": "2022-08-28T13:30:38.908Z"
   },
   {
    "duration": 11,
    "start_time": "2022-08-28T13:30:38.951Z"
   },
   {
    "duration": 12,
    "start_time": "2022-08-28T13:30:40.420Z"
   },
   {
    "duration": 331,
    "start_time": "2022-08-28T13:30:40.611Z"
   },
   {
    "duration": 192,
    "start_time": "2022-08-28T13:30:41.768Z"
   },
   {
    "duration": 9,
    "start_time": "2022-08-28T13:30:41.963Z"
   },
   {
    "duration": 18,
    "start_time": "2022-08-28T13:30:42.714Z"
   },
   {
    "duration": 288,
    "start_time": "2022-08-28T13:30:42.875Z"
   },
   {
    "duration": 10,
    "start_time": "2022-08-28T13:30:43.825Z"
   },
   {
    "duration": 374,
    "start_time": "2022-08-28T13:30:44.028Z"
   },
   {
    "duration": 10,
    "start_time": "2022-08-28T13:30:44.587Z"
   },
   {
    "duration": 737,
    "start_time": "2022-08-28T13:30:45.211Z"
   },
   {
    "duration": 600,
    "start_time": "2022-08-28T13:30:46.405Z"
   },
   {
    "duration": 22,
    "start_time": "2022-08-28T13:30:47.740Z"
   },
   {
    "duration": 317,
    "start_time": "2022-08-28T13:30:48.341Z"
   },
   {
    "duration": 130,
    "start_time": "2022-08-28T13:30:50.247Z"
   },
   {
    "duration": 31,
    "start_time": "2022-08-28T13:32:27.709Z"
   },
   {
    "duration": 29,
    "start_time": "2022-08-28T13:33:10.918Z"
   },
   {
    "duration": 44,
    "start_time": "2022-08-28T17:50:35.351Z"
   },
   {
    "duration": 2024,
    "start_time": "2022-08-28T17:50:39.186Z"
   },
   {
    "duration": 294,
    "start_time": "2022-08-28T17:50:41.212Z"
   },
   {
    "duration": 14,
    "start_time": "2022-08-28T17:50:41.507Z"
   },
   {
    "duration": 15,
    "start_time": "2022-08-28T17:50:41.523Z"
   },
   {
    "duration": 16,
    "start_time": "2022-08-28T17:50:41.539Z"
   },
   {
    "duration": 34,
    "start_time": "2022-08-28T17:50:41.557Z"
   },
   {
    "duration": 19,
    "start_time": "2022-08-28T17:50:41.593Z"
   },
   {
    "duration": 15,
    "start_time": "2022-08-28T17:50:41.614Z"
   },
   {
    "duration": 22,
    "start_time": "2022-08-28T17:50:41.631Z"
   },
   {
    "duration": 39,
    "start_time": "2022-08-28T17:50:41.656Z"
   },
   {
    "duration": 209,
    "start_time": "2022-08-28T17:50:41.699Z"
   },
   {
    "duration": 151,
    "start_time": "2022-08-28T17:50:41.910Z"
   },
   {
    "duration": 6,
    "start_time": "2022-08-28T17:50:42.062Z"
   },
   {
    "duration": 18,
    "start_time": "2022-08-28T17:50:42.070Z"
   },
   {
    "duration": 247,
    "start_time": "2022-08-28T17:50:42.090Z"
   },
   {
    "duration": 6,
    "start_time": "2022-08-28T17:50:42.339Z"
   },
   {
    "duration": 276,
    "start_time": "2022-08-28T17:50:42.346Z"
   },
   {
    "duration": 7,
    "start_time": "2022-08-28T17:50:42.623Z"
   },
   {
    "duration": 670,
    "start_time": "2022-08-28T17:50:42.632Z"
   },
   {
    "duration": 348,
    "start_time": "2022-08-28T17:50:43.304Z"
   },
   {
    "duration": 17,
    "start_time": "2022-08-28T17:50:43.654Z"
   },
   {
    "duration": 203,
    "start_time": "2022-08-28T17:50:43.684Z"
   },
   {
    "duration": 60,
    "start_time": "2022-08-28T17:50:43.888Z"
   },
   {
    "duration": 36,
    "start_time": "2022-08-28T17:50:43.950Z"
   },
   {
    "duration": 21,
    "start_time": "2022-08-28T17:50:43.988Z"
   },
   {
    "duration": 14,
    "start_time": "2022-08-28T17:50:44.010Z"
   },
   {
    "duration": 264,
    "start_time": "2022-08-28T17:50:44.025Z"
   },
   {
    "duration": 22,
    "start_time": "2022-08-28T17:50:44.292Z"
   },
   {
    "duration": 13,
    "start_time": "2022-08-28T17:54:09.315Z"
   },
   {
    "duration": 28,
    "start_time": "2022-08-28T17:54:33.445Z"
   },
   {
    "duration": 9,
    "start_time": "2022-08-28T17:55:23.616Z"
   },
   {
    "duration": 15,
    "start_time": "2022-08-28T17:59:53.849Z"
   },
   {
    "duration": 15,
    "start_time": "2022-08-28T18:00:07.051Z"
   },
   {
    "duration": 20,
    "start_time": "2022-08-28T18:01:12.051Z"
   },
   {
    "duration": 14,
    "start_time": "2022-08-28T18:02:54.190Z"
   },
   {
    "duration": 15,
    "start_time": "2022-08-28T18:02:55.054Z"
   },
   {
    "duration": 13,
    "start_time": "2022-08-28T18:02:55.919Z"
   },
   {
    "duration": 17,
    "start_time": "2022-08-28T18:03:42.729Z"
   },
   {
    "duration": 14,
    "start_time": "2022-08-28T18:03:43.641Z"
   },
   {
    "duration": 13,
    "start_time": "2022-08-28T18:04:27.022Z"
   },
   {
    "duration": 15,
    "start_time": "2022-08-28T18:06:10.963Z"
   },
   {
    "duration": 13,
    "start_time": "2022-08-28T18:06:12.252Z"
   },
   {
    "duration": 20,
    "start_time": "2022-08-28T18:08:17.098Z"
   },
   {
    "duration": 6,
    "start_time": "2022-08-28T18:08:17.780Z"
   },
   {
    "duration": 8,
    "start_time": "2022-08-28T18:08:35.916Z"
   },
   {
    "duration": 259,
    "start_time": "2022-08-28T18:08:42.206Z"
   },
   {
    "duration": 1251,
    "start_time": "2022-08-28T18:09:43.945Z"
   },
   {
    "duration": 8,
    "start_time": "2022-08-28T18:09:56.442Z"
   },
   {
    "duration": 1105,
    "start_time": "2022-08-28T18:09:57.554Z"
   },
   {
    "duration": 175,
    "start_time": "2022-08-28T18:10:06.036Z"
   },
   {
    "duration": 19,
    "start_time": "2022-08-28T18:11:51.697Z"
   },
   {
    "duration": 25,
    "start_time": "2022-08-28T18:12:24.140Z"
   },
   {
    "duration": 20,
    "start_time": "2022-08-28T18:12:41.629Z"
   },
   {
    "duration": 25,
    "start_time": "2022-08-28T18:12:50.663Z"
   },
   {
    "duration": 174,
    "start_time": "2022-08-28T18:13:11.004Z"
   },
   {
    "duration": 776,
    "start_time": "2022-08-28T18:13:31.521Z"
   },
   {
    "duration": 216,
    "start_time": "2022-08-28T18:13:41.113Z"
   },
   {
    "duration": 13,
    "start_time": "2022-08-28T18:19:11.579Z"
   },
   {
    "duration": 279,
    "start_time": "2022-08-28T18:19:13.123Z"
   },
   {
    "duration": 153,
    "start_time": "2022-08-28T18:19:41.244Z"
   },
   {
    "duration": 196,
    "start_time": "2022-08-28T18:20:08.810Z"
   },
   {
    "duration": 20,
    "start_time": "2022-08-28T18:20:43.332Z"
   },
   {
    "duration": 181,
    "start_time": "2022-08-28T18:20:46.865Z"
   },
   {
    "duration": 210,
    "start_time": "2022-08-28T18:21:05.099Z"
   },
   {
    "duration": 16,
    "start_time": "2022-08-28T18:21:24.453Z"
   },
   {
    "duration": 188,
    "start_time": "2022-08-28T18:22:08.069Z"
   },
   {
    "duration": 175,
    "start_time": "2022-08-28T18:22:18.894Z"
   },
   {
    "duration": 20,
    "start_time": "2022-08-28T18:23:10.153Z"
   },
   {
    "duration": 173,
    "start_time": "2022-08-28T18:23:11.642Z"
   },
   {
    "duration": 12,
    "start_time": "2022-08-28T18:23:23.225Z"
   },
   {
    "duration": 171,
    "start_time": "2022-08-28T18:23:25.105Z"
   },
   {
    "duration": 177,
    "start_time": "2022-08-28T18:23:55.091Z"
   },
   {
    "duration": 16,
    "start_time": "2022-08-28T18:24:16.663Z"
   },
   {
    "duration": 22,
    "start_time": "2022-08-28T18:26:56.878Z"
   },
   {
    "duration": 15,
    "start_time": "2022-08-28T18:27:12.632Z"
   },
   {
    "duration": 565,
    "start_time": "2022-08-28T18:27:42.380Z"
   },
   {
    "duration": 23,
    "start_time": "2022-08-28T18:29:24.800Z"
   },
   {
    "duration": 20,
    "start_time": "2022-08-28T18:29:33.621Z"
   },
   {
    "duration": 310,
    "start_time": "2022-08-28T18:29:45.680Z"
   },
   {
    "duration": 12,
    "start_time": "2022-08-28T18:30:20.427Z"
   },
   {
    "duration": 271,
    "start_time": "2022-08-28T18:30:41.900Z"
   },
   {
    "duration": 249,
    "start_time": "2022-08-28T18:30:48.860Z"
   },
   {
    "duration": 247,
    "start_time": "2022-08-28T18:31:18.784Z"
   },
   {
    "duration": 17,
    "start_time": "2022-08-28T18:34:50.557Z"
   },
   {
    "duration": 185,
    "start_time": "2022-08-28T18:35:44.928Z"
   },
   {
    "duration": 223,
    "start_time": "2022-08-28T18:36:24.681Z"
   },
   {
    "duration": 194,
    "start_time": "2022-08-28T18:39:05.651Z"
   },
   {
    "duration": 217,
    "start_time": "2022-08-28T18:39:22.853Z"
   },
   {
    "duration": 25,
    "start_time": "2022-08-28T18:39:50.413Z"
   },
   {
    "duration": 24,
    "start_time": "2022-08-28T18:40:33.801Z"
   },
   {
    "duration": 22,
    "start_time": "2022-08-28T18:41:19.852Z"
   },
   {
    "duration": 1064,
    "start_time": "2022-08-28T18:41:28.339Z"
   },
   {
    "duration": 111,
    "start_time": "2022-08-28T18:41:29.405Z"
   },
   {
    "duration": 13,
    "start_time": "2022-08-28T18:41:29.517Z"
   },
   {
    "duration": 67,
    "start_time": "2022-08-28T18:41:29.532Z"
   },
   {
    "duration": 16,
    "start_time": "2022-08-28T18:41:29.603Z"
   },
   {
    "duration": 8,
    "start_time": "2022-08-28T18:41:29.620Z"
   },
   {
    "duration": 73,
    "start_time": "2022-08-28T18:41:29.629Z"
   },
   {
    "duration": 12,
    "start_time": "2022-08-28T18:41:29.703Z"
   },
   {
    "duration": 14,
    "start_time": "2022-08-28T18:41:29.717Z"
   },
   {
    "duration": 20,
    "start_time": "2022-08-28T18:41:29.786Z"
   },
   {
    "duration": 4,
    "start_time": "2022-08-28T18:41:29.808Z"
   },
   {
    "duration": 78,
    "start_time": "2022-08-28T18:41:29.814Z"
   },
   {
    "duration": 510,
    "start_time": "2022-08-28T18:41:29.894Z"
   },
   {
    "duration": 314,
    "start_time": "2022-08-28T18:41:30.406Z"
   },
   {
    "duration": 8,
    "start_time": "2022-08-28T18:41:30.722Z"
   },
   {
    "duration": 66,
    "start_time": "2022-08-28T18:41:30.731Z"
   },
   {
    "duration": 508,
    "start_time": "2022-08-28T18:41:30.801Z"
   },
   {
    "duration": 7,
    "start_time": "2022-08-28T18:41:31.311Z"
   },
   {
    "duration": 299,
    "start_time": "2022-08-28T18:41:31.319Z"
   },
   {
    "duration": 6,
    "start_time": "2022-08-28T18:41:31.619Z"
   },
   {
    "duration": 627,
    "start_time": "2022-08-28T18:41:31.627Z"
   },
   {
    "duration": 352,
    "start_time": "2022-08-28T18:41:32.255Z"
   },
   {
    "duration": 120,
    "start_time": "2022-08-28T18:41:32.609Z"
   },
   {
    "duration": 0,
    "start_time": "2022-08-28T18:41:32.731Z"
   },
   {
    "duration": 0,
    "start_time": "2022-08-28T18:41:32.733Z"
   },
   {
    "duration": 0,
    "start_time": "2022-08-28T18:41:32.734Z"
   },
   {
    "duration": 0,
    "start_time": "2022-08-28T18:41:32.735Z"
   },
   {
    "duration": 0,
    "start_time": "2022-08-28T18:41:32.736Z"
   },
   {
    "duration": 0,
    "start_time": "2022-08-28T18:41:32.737Z"
   },
   {
    "duration": 0,
    "start_time": "2022-08-28T18:41:32.738Z"
   },
   {
    "duration": 295,
    "start_time": "2022-08-28T18:41:54.233Z"
   },
   {
    "duration": 31,
    "start_time": "2022-08-28T18:42:16.674Z"
   },
   {
    "duration": 16,
    "start_time": "2022-08-28T18:42:23.131Z"
   },
   {
    "duration": 26,
    "start_time": "2022-08-28T18:43:20.030Z"
   },
   {
    "duration": 20,
    "start_time": "2022-08-28T18:44:03.257Z"
   },
   {
    "duration": 147,
    "start_time": "2022-08-28T18:44:13.026Z"
   },
   {
    "duration": 23,
    "start_time": "2022-08-28T18:44:43.401Z"
   },
   {
    "duration": 32,
    "start_time": "2022-08-28T18:46:05.320Z"
   },
   {
    "duration": 31,
    "start_time": "2022-08-28T18:46:24.163Z"
   },
   {
    "duration": 161,
    "start_time": "2022-08-28T18:46:28.570Z"
   },
   {
    "duration": 31,
    "start_time": "2022-08-28T18:46:38.600Z"
   },
   {
    "duration": 148,
    "start_time": "2022-08-28T18:46:59.004Z"
   },
   {
    "duration": 13,
    "start_time": "2022-08-28T18:48:25.322Z"
   },
   {
    "duration": 16,
    "start_time": "2022-08-28T18:48:48.932Z"
   },
   {
    "duration": 148,
    "start_time": "2022-08-28T18:49:03.356Z"
   },
   {
    "duration": 210,
    "start_time": "2022-08-28T18:49:10.382Z"
   },
   {
    "duration": 198,
    "start_time": "2022-08-28T18:50:09.367Z"
   },
   {
    "duration": 159,
    "start_time": "2022-08-28T18:54:18.266Z"
   },
   {
    "duration": 296,
    "start_time": "2022-08-28T18:54:36.100Z"
   },
   {
    "duration": 211,
    "start_time": "2022-08-28T18:54:47.250Z"
   },
   {
    "duration": 220,
    "start_time": "2022-08-28T18:55:25.032Z"
   },
   {
    "duration": 6,
    "start_time": "2022-08-28T18:56:22.622Z"
   },
   {
    "duration": 280,
    "start_time": "2022-08-28T18:56:23.936Z"
   },
   {
    "duration": 6,
    "start_time": "2022-08-28T18:56:25.123Z"
   },
   {
    "duration": 595,
    "start_time": "2022-08-28T18:56:27.239Z"
   },
   {
    "duration": 268,
    "start_time": "2022-08-28T18:56:31.701Z"
   },
   {
    "duration": 92,
    "start_time": "2022-08-28T18:57:46.134Z"
   },
   {
    "duration": 29,
    "start_time": "2022-08-28T18:57:47.173Z"
   },
   {
    "duration": 17,
    "start_time": "2022-08-28T18:58:15.854Z"
   },
   {
    "duration": 23,
    "start_time": "2022-08-28T19:02:13.648Z"
   },
   {
    "duration": 6,
    "start_time": "2022-08-28T19:05:46.741Z"
   },
   {
    "duration": 9,
    "start_time": "2022-08-28T19:06:23.214Z"
   },
   {
    "duration": 42,
    "start_time": "2022-08-28T19:06:53.093Z"
   },
   {
    "duration": 19,
    "start_time": "2022-08-28T19:07:41.763Z"
   },
   {
    "duration": 20,
    "start_time": "2022-08-28T19:09:15.012Z"
   },
   {
    "duration": 56,
    "start_time": "2022-08-28T19:21:14.825Z"
   },
   {
    "duration": 13,
    "start_time": "2022-08-28T19:21:16.013Z"
   },
   {
    "duration": 86,
    "start_time": "2022-08-28T19:21:58.786Z"
   },
   {
    "duration": 11,
    "start_time": "2022-08-28T19:24:09.748Z"
   },
   {
    "duration": 17,
    "start_time": "2022-08-28T19:24:19.356Z"
   },
   {
    "duration": 15,
    "start_time": "2022-08-28T19:24:39.400Z"
   },
   {
    "duration": 14,
    "start_time": "2022-08-28T19:24:40.743Z"
   },
   {
    "duration": 11,
    "start_time": "2022-08-28T19:24:51.312Z"
   },
   {
    "duration": 20,
    "start_time": "2022-08-28T19:24:53.123Z"
   },
   {
    "duration": 112,
    "start_time": "2022-08-28T19:25:02.546Z"
   },
   {
    "duration": 15,
    "start_time": "2022-08-28T19:25:04.368Z"
   },
   {
    "duration": 22,
    "start_time": "2022-08-28T19:25:14.429Z"
   },
   {
    "duration": 18,
    "start_time": "2022-08-28T19:25:16.192Z"
   },
   {
    "duration": 29,
    "start_time": "2022-08-28T19:25:33.631Z"
   },
   {
    "duration": 15,
    "start_time": "2022-08-28T19:25:35.531Z"
   },
   {
    "duration": 2,
    "start_time": "2022-08-28T19:26:28.924Z"
   },
   {
    "duration": 933,
    "start_time": "2022-08-28T19:26:30.455Z"
   },
   {
    "duration": 26,
    "start_time": "2022-08-28T19:27:51.261Z"
   },
   {
    "duration": 20,
    "start_time": "2022-08-28T19:27:53.727Z"
   },
   {
    "duration": 22,
    "start_time": "2022-08-28T19:29:56.159Z"
   },
   {
    "duration": 25,
    "start_time": "2022-08-28T19:30:11.966Z"
   },
   {
    "duration": 27,
    "start_time": "2022-08-28T19:30:18.234Z"
   },
   {
    "duration": 35,
    "start_time": "2022-08-28T19:31:02.277Z"
   },
   {
    "duration": 27,
    "start_time": "2022-08-28T19:31:14.703Z"
   },
   {
    "duration": 47,
    "start_time": "2022-08-29T07:35:05.518Z"
   },
   {
    "duration": 1239,
    "start_time": "2022-08-29T07:35:24.798Z"
   },
   {
    "duration": 271,
    "start_time": "2022-08-29T07:35:26.039Z"
   },
   {
    "duration": 15,
    "start_time": "2022-08-29T07:35:26.639Z"
   },
   {
    "duration": 13,
    "start_time": "2022-08-29T07:35:27.078Z"
   },
   {
    "duration": 17,
    "start_time": "2022-08-29T07:35:27.638Z"
   },
   {
    "duration": 8,
    "start_time": "2022-08-29T07:35:28.798Z"
   },
   {
    "duration": 17,
    "start_time": "2022-08-29T07:35:29.918Z"
   },
   {
    "duration": 11,
    "start_time": "2022-08-29T07:35:30.999Z"
   },
   {
    "duration": 15,
    "start_time": "2022-08-29T07:35:36.479Z"
   },
   {
    "duration": 15,
    "start_time": "2022-08-29T07:35:37.238Z"
   },
   {
    "duration": 5,
    "start_time": "2022-08-29T07:35:39.358Z"
   },
   {
    "duration": 5,
    "start_time": "2022-08-29T07:35:41.398Z"
   },
   {
    "duration": 4,
    "start_time": "2022-08-29T07:36:02.159Z"
   },
   {
    "duration": 16,
    "start_time": "2022-08-29T07:36:31.157Z"
   },
   {
    "duration": 71,
    "start_time": "2022-08-29T07:38:55.606Z"
   },
   {
    "duration": 15,
    "start_time": "2022-08-29T07:39:02.478Z"
   },
   {
    "duration": 11,
    "start_time": "2022-08-29T07:40:02.078Z"
   },
   {
    "duration": 10,
    "start_time": "2022-08-29T07:40:11.398Z"
   },
   {
    "duration": 9,
    "start_time": "2022-08-29T07:40:24.958Z"
   },
   {
    "duration": 15,
    "start_time": "2022-08-29T07:40:35.633Z"
   },
   {
    "duration": 15,
    "start_time": "2022-08-29T07:41:25.638Z"
   },
   {
    "duration": 11,
    "start_time": "2022-08-29T07:42:00.038Z"
   },
   {
    "duration": 8,
    "start_time": "2022-08-29T07:42:51.559Z"
   },
   {
    "duration": 26,
    "start_time": "2022-08-29T07:43:08.118Z"
   },
   {
    "duration": 55,
    "start_time": "2022-08-29T07:43:24.478Z"
   },
   {
    "duration": 45,
    "start_time": "2022-08-29T07:43:37.678Z"
   },
   {
    "duration": 43,
    "start_time": "2022-08-29T07:44:00.966Z"
   },
   {
    "duration": 10,
    "start_time": "2022-08-29T07:54:29.998Z"
   },
   {
    "duration": 10,
    "start_time": "2022-08-29T07:54:35.797Z"
   },
   {
    "duration": 216,
    "start_time": "2022-08-29T07:54:37.397Z"
   },
   {
    "duration": 13,
    "start_time": "2022-08-29T07:54:41.717Z"
   },
   {
    "duration": 13,
    "start_time": "2022-08-29T07:55:37.237Z"
   },
   {
    "duration": 15,
    "start_time": "2022-08-29T07:56:04.437Z"
   },
   {
    "duration": 16,
    "start_time": "2022-08-29T07:56:38.374Z"
   },
   {
    "duration": 392,
    "start_time": "2022-08-29T07:57:46.038Z"
   },
   {
    "duration": 17,
    "start_time": "2022-08-29T07:58:23.278Z"
   },
   {
    "duration": 370,
    "start_time": "2022-08-29T07:58:30.998Z"
   },
   {
    "duration": 26,
    "start_time": "2022-08-29T07:59:29.002Z"
   },
   {
    "duration": 22,
    "start_time": "2022-08-29T07:59:38.520Z"
   },
   {
    "duration": 25,
    "start_time": "2022-08-29T07:59:44.437Z"
   },
   {
    "duration": 21,
    "start_time": "2022-08-29T08:00:21.002Z"
   },
   {
    "duration": 438,
    "start_time": "2022-08-29T08:00:28.638Z"
   },
   {
    "duration": 21,
    "start_time": "2022-08-29T08:00:50.358Z"
   },
   {
    "duration": 380,
    "start_time": "2022-08-29T08:00:52.525Z"
   },
   {
    "duration": 153,
    "start_time": "2022-08-29T08:01:41.600Z"
   },
   {
    "duration": 209,
    "start_time": "2022-08-29T08:01:47.589Z"
   },
   {
    "duration": 351,
    "start_time": "2022-08-29T08:02:04.358Z"
   },
   {
    "duration": 10,
    "start_time": "2022-08-29T08:05:54.757Z"
   },
   {
    "duration": 16,
    "start_time": "2022-08-29T08:06:04.145Z"
   },
   {
    "duration": 0,
    "start_time": "2022-08-29T08:06:57.061Z"
   },
   {
    "duration": 16,
    "start_time": "2022-08-29T08:08:52.018Z"
   },
   {
    "duration": 18,
    "start_time": "2022-08-29T08:09:06.884Z"
   },
   {
    "duration": 10950,
    "start_time": "2022-08-29T08:09:17.695Z"
   },
   {
    "duration": 238,
    "start_time": "2022-08-29T08:09:41.817Z"
   },
   {
    "duration": 243,
    "start_time": "2022-08-29T08:09:54.817Z"
   },
   {
    "duration": 26689,
    "start_time": "2022-08-29T08:10:43.233Z"
   },
   {
    "duration": 26856,
    "start_time": "2022-08-29T08:12:30.572Z"
   },
   {
    "duration": 26989,
    "start_time": "2022-08-29T08:13:28.677Z"
   },
   {
    "duration": 11196,
    "start_time": "2022-08-29T08:15:01.961Z"
   },
   {
    "duration": 10946,
    "start_time": "2022-08-29T08:15:27.680Z"
   },
   {
    "duration": 11149,
    "start_time": "2022-08-29T08:16:18.001Z"
   },
   {
    "duration": 11069,
    "start_time": "2022-08-29T08:16:43.581Z"
   },
   {
    "duration": 26891,
    "start_time": "2022-08-29T08:17:23.921Z"
   },
   {
    "duration": 18,
    "start_time": "2022-08-29T08:20:26.489Z"
   },
   {
    "duration": 547,
    "start_time": "2022-08-29T08:20:32.356Z"
   },
   {
    "duration": 488,
    "start_time": "2022-08-29T08:20:40.538Z"
   },
   {
    "duration": 669,
    "start_time": "2022-08-29T08:20:52.869Z"
   },
   {
    "duration": 489,
    "start_time": "2022-08-29T08:21:07.425Z"
   },
   {
    "duration": 537,
    "start_time": "2022-08-29T08:21:55.448Z"
   },
   {
    "duration": 75,
    "start_time": "2022-08-29T08:28:58.663Z"
   },
   {
    "duration": 2,
    "start_time": "2022-08-29T08:29:00.596Z"
   },
   {
    "duration": 3,
    "start_time": "2022-08-29T08:29:01.185Z"
   },
   {
    "duration": 10,
    "start_time": "2022-08-29T08:29:03.085Z"
   },
   {
    "duration": 22,
    "start_time": "2022-08-29T08:29:23.595Z"
   },
   {
    "duration": 23,
    "start_time": "2022-08-29T08:29:46.240Z"
   },
   {
    "duration": 24,
    "start_time": "2022-08-29T08:30:00.316Z"
   },
   {
    "duration": 3,
    "start_time": "2022-08-29T08:30:31.355Z"
   },
   {
    "duration": 3,
    "start_time": "2022-08-29T08:30:35.995Z"
   },
   {
    "duration": 28,
    "start_time": "2022-08-29T08:30:36.554Z"
   },
   {
    "duration": 23,
    "start_time": "2022-08-29T08:30:47.435Z"
   },
   {
    "duration": 3,
    "start_time": "2022-08-29T08:30:56.275Z"
   },
   {
    "duration": 22,
    "start_time": "2022-08-29T08:30:56.925Z"
   },
   {
    "duration": 52,
    "start_time": "2022-08-29T08:31:41.257Z"
   },
   {
    "duration": 3,
    "start_time": "2022-08-29T08:31:41.707Z"
   },
   {
    "duration": 2,
    "start_time": "2022-08-29T08:31:42.147Z"
   },
   {
    "duration": 2,
    "start_time": "2022-08-29T08:31:42.857Z"
   },
   {
    "duration": 27,
    "start_time": "2022-08-29T08:31:43.506Z"
   },
   {
    "duration": 25,
    "start_time": "2022-08-29T08:33:49.101Z"
   },
   {
    "duration": 14,
    "start_time": "2022-08-29T08:34:02.702Z"
   },
   {
    "duration": 221,
    "start_time": "2022-08-29T08:34:04.701Z"
   },
   {
    "duration": 231,
    "start_time": "2022-08-29T08:34:21.331Z"
   },
   {
    "duration": 218,
    "start_time": "2022-08-29T08:34:32.141Z"
   },
   {
    "duration": 222,
    "start_time": "2022-08-29T08:34:42.381Z"
   },
   {
    "duration": 46,
    "start_time": "2022-08-29T08:34:55.681Z"
   },
   {
    "duration": 20,
    "start_time": "2022-08-29T08:35:17.370Z"
   },
   {
    "duration": 2114,
    "start_time": "2022-08-29T08:51:36.445Z"
   },
   {
    "duration": 1857,
    "start_time": "2022-08-29T08:53:48.094Z"
   },
   {
    "duration": 259,
    "start_time": "2022-08-29T09:02:40.483Z"
   },
   {
    "duration": 235,
    "start_time": "2022-08-29T09:05:13.645Z"
   },
   {
    "duration": 275,
    "start_time": "2022-08-29T09:07:58.782Z"
   },
   {
    "duration": 358,
    "start_time": "2022-08-29T09:08:42.872Z"
   },
   {
    "duration": 320,
    "start_time": "2022-08-29T09:09:10.301Z"
   },
   {
    "duration": 597,
    "start_time": "2022-08-29T09:09:24.224Z"
   },
   {
    "duration": 246,
    "start_time": "2022-08-29T09:10:21.997Z"
   },
   {
    "duration": 298,
    "start_time": "2022-08-29T09:11:26.779Z"
   },
   {
    "duration": 2119,
    "start_time": "2022-08-29T09:12:14.050Z"
   },
   {
    "duration": 2315,
    "start_time": "2022-08-29T09:12:32.218Z"
   },
   {
    "duration": 6,
    "start_time": "2022-08-29T09:14:34.508Z"
   },
   {
    "duration": 21,
    "start_time": "2022-08-29T09:14:39.056Z"
   },
   {
    "duration": 16,
    "start_time": "2022-08-29T09:15:30.448Z"
   },
   {
    "duration": 9,
    "start_time": "2022-08-29T09:15:49.338Z"
   },
   {
    "duration": 14,
    "start_time": "2022-08-29T09:17:44.088Z"
   },
   {
    "duration": 11,
    "start_time": "2022-08-29T09:18:24.247Z"
   },
   {
    "duration": 11,
    "start_time": "2022-08-29T09:18:33.967Z"
   },
   {
    "duration": 11,
    "start_time": "2022-08-29T09:18:44.677Z"
   },
   {
    "duration": 2166,
    "start_time": "2022-08-29T09:18:55.057Z"
   },
   {
    "duration": 13,
    "start_time": "2022-08-29T09:18:57.225Z"
   },
   {
    "duration": 19,
    "start_time": "2022-08-29T09:18:58.366Z"
   },
   {
    "duration": 14,
    "start_time": "2022-08-29T09:19:09.757Z"
   },
   {
    "duration": 21,
    "start_time": "2022-08-29T09:19:17.706Z"
   },
   {
    "duration": 303,
    "start_time": "2022-08-29T09:21:05.307Z"
   },
   {
    "duration": 11,
    "start_time": "2022-08-29T09:21:23.678Z"
   },
   {
    "duration": 15,
    "start_time": "2022-08-29T09:21:36.767Z"
   },
   {
    "duration": 14,
    "start_time": "2022-08-29T09:22:41.767Z"
   },
   {
    "duration": 12,
    "start_time": "2022-08-29T09:23:01.679Z"
   },
   {
    "duration": 9,
    "start_time": "2022-08-29T09:23:02.891Z"
   },
   {
    "duration": 12,
    "start_time": "2022-08-29T09:23:45.376Z"
   },
   {
    "duration": 2342,
    "start_time": "2022-08-29T09:23:58.898Z"
   },
   {
    "duration": 9,
    "start_time": "2022-08-29T09:24:06.687Z"
   },
   {
    "duration": 12,
    "start_time": "2022-08-29T09:24:09.507Z"
   },
   {
    "duration": 11,
    "start_time": "2022-08-29T09:24:57.317Z"
   },
   {
    "duration": 8,
    "start_time": "2022-08-29T09:24:57.927Z"
   },
   {
    "duration": 1157,
    "start_time": "2022-08-29T09:25:02.131Z"
   },
   {
    "duration": 72,
    "start_time": "2022-08-29T09:25:03.290Z"
   },
   {
    "duration": 15,
    "start_time": "2022-08-29T09:25:03.363Z"
   },
   {
    "duration": 26,
    "start_time": "2022-08-29T09:25:03.379Z"
   },
   {
    "duration": 42,
    "start_time": "2022-08-29T09:25:03.407Z"
   },
   {
    "duration": 25,
    "start_time": "2022-08-29T09:25:03.451Z"
   },
   {
    "duration": 45,
    "start_time": "2022-08-29T09:25:03.477Z"
   },
   {
    "duration": 10,
    "start_time": "2022-08-29T09:25:03.524Z"
   },
   {
    "duration": 41,
    "start_time": "2022-08-29T09:25:03.536Z"
   },
   {
    "duration": 31,
    "start_time": "2022-08-29T09:25:03.579Z"
   },
   {
    "duration": 4,
    "start_time": "2022-08-29T09:25:03.612Z"
   },
   {
    "duration": 27,
    "start_time": "2022-08-29T09:25:03.618Z"
   },
   {
    "duration": 25,
    "start_time": "2022-08-29T09:25:03.646Z"
   },
   {
    "duration": 31,
    "start_time": "2022-08-29T09:25:03.674Z"
   },
   {
    "duration": 53,
    "start_time": "2022-08-29T09:25:03.707Z"
   },
   {
    "duration": 238,
    "start_time": "2022-08-29T09:25:03.761Z"
   },
   {
    "duration": 155,
    "start_time": "2022-08-29T09:25:04.001Z"
   },
   {
    "duration": 7,
    "start_time": "2022-08-29T09:25:04.158Z"
   },
   {
    "duration": 11,
    "start_time": "2022-08-29T09:25:04.167Z"
   },
   {
    "duration": 245,
    "start_time": "2022-08-29T09:25:04.179Z"
   },
   {
    "duration": 23,
    "start_time": "2022-08-29T09:25:04.426Z"
   },
   {
    "duration": 353,
    "start_time": "2022-08-29T09:25:04.451Z"
   },
   {
    "duration": 6,
    "start_time": "2022-08-29T09:25:04.805Z"
   },
   {
    "duration": 268,
    "start_time": "2022-08-29T09:25:04.813Z"
   },
   {
    "duration": 6,
    "start_time": "2022-08-29T09:25:05.082Z"
   },
   {
    "duration": 594,
    "start_time": "2022-08-29T09:25:05.090Z"
   },
   {
    "duration": 20,
    "start_time": "2022-08-29T09:25:05.686Z"
   },
   {
    "duration": 27375,
    "start_time": "2022-08-29T09:25:05.708Z"
   },
   {
    "duration": 16,
    "start_time": "2022-08-29T09:25:33.085Z"
   },
   {
    "duration": 521,
    "start_time": "2022-08-29T09:25:33.104Z"
   },
   {
    "duration": 279,
    "start_time": "2022-08-29T09:25:33.627Z"
   },
   {
    "duration": 115,
    "start_time": "2022-08-29T09:25:33.908Z"
   },
   {
    "duration": 0,
    "start_time": "2022-08-29T09:25:34.025Z"
   },
   {
    "duration": 0,
    "start_time": "2022-08-29T09:25:34.027Z"
   },
   {
    "duration": 0,
    "start_time": "2022-08-29T09:25:34.028Z"
   },
   {
    "duration": 0,
    "start_time": "2022-08-29T09:25:34.030Z"
   },
   {
    "duration": 0,
    "start_time": "2022-08-29T09:25:34.031Z"
   },
   {
    "duration": 0,
    "start_time": "2022-08-29T09:25:34.038Z"
   },
   {
    "duration": 0,
    "start_time": "2022-08-29T09:25:34.041Z"
   },
   {
    "duration": 0,
    "start_time": "2022-08-29T09:25:34.042Z"
   },
   {
    "duration": 0,
    "start_time": "2022-08-29T09:25:34.044Z"
   },
   {
    "duration": 0,
    "start_time": "2022-08-29T09:25:34.045Z"
   },
   {
    "duration": 0,
    "start_time": "2022-08-29T09:25:34.046Z"
   },
   {
    "duration": 0,
    "start_time": "2022-08-29T09:25:34.048Z"
   },
   {
    "duration": 0,
    "start_time": "2022-08-29T09:25:34.050Z"
   },
   {
    "duration": 0,
    "start_time": "2022-08-29T09:25:34.051Z"
   },
   {
    "duration": 0,
    "start_time": "2022-08-29T09:25:34.052Z"
   },
   {
    "duration": 0,
    "start_time": "2022-08-29T09:25:34.054Z"
   },
   {
    "duration": 15,
    "start_time": "2022-08-29T09:25:49.521Z"
   },
   {
    "duration": 206,
    "start_time": "2022-08-29T09:25:53.038Z"
   },
   {
    "duration": 62,
    "start_time": "2022-08-29T09:25:56.967Z"
   },
   {
    "duration": 3,
    "start_time": "2022-08-29T09:25:57.618Z"
   },
   {
    "duration": 2,
    "start_time": "2022-08-29T09:25:58.047Z"
   },
   {
    "duration": 4,
    "start_time": "2022-08-29T09:25:58.537Z"
   },
   {
    "duration": 35,
    "start_time": "2022-08-29T09:25:58.918Z"
   },
   {
    "duration": 19,
    "start_time": "2022-08-29T09:26:09.436Z"
   },
   {
    "duration": 14,
    "start_time": "2022-08-29T09:26:11.327Z"
   },
   {
    "duration": 290,
    "start_time": "2022-08-29T09:26:12.137Z"
   },
   {
    "duration": 72,
    "start_time": "2022-08-29T09:26:17.921Z"
   },
   {
    "duration": 2402,
    "start_time": "2022-08-29T09:26:24.227Z"
   },
   {
    "duration": 12,
    "start_time": "2022-08-29T09:26:29.005Z"
   },
   {
    "duration": 12,
    "start_time": "2022-08-29T09:26:30.691Z"
   },
   {
    "duration": 18,
    "start_time": "2022-08-29T09:26:33.038Z"
   },
   {
    "duration": 15,
    "start_time": "2022-08-29T09:26:35.448Z"
   },
   {
    "duration": 22,
    "start_time": "2022-08-29T09:28:44.088Z"
   },
   {
    "duration": 2455,
    "start_time": "2022-08-29T09:28:49.688Z"
   },
   {
    "duration": 10,
    "start_time": "2022-08-29T09:28:52.145Z"
   },
   {
    "duration": 14,
    "start_time": "2022-08-29T09:28:53.920Z"
   },
   {
    "duration": 15,
    "start_time": "2022-08-29T09:29:05.478Z"
   },
   {
    "duration": 13,
    "start_time": "2022-08-29T09:29:26.778Z"
   },
   {
    "duration": 559,
    "start_time": "2022-08-29T09:31:26.858Z"
   },
   {
    "duration": 2440,
    "start_time": "2022-08-29T09:31:39.121Z"
   },
   {
    "duration": 10,
    "start_time": "2022-08-29T09:31:42.388Z"
   },
   {
    "duration": 14,
    "start_time": "2022-08-29T09:31:49.876Z"
   },
   {
    "duration": 217,
    "start_time": "2022-08-29T09:31:51.247Z"
   },
   {
    "duration": 1114,
    "start_time": "2022-08-29T09:33:10.503Z"
   },
   {
    "duration": 71,
    "start_time": "2022-08-29T09:33:11.619Z"
   },
   {
    "duration": 15,
    "start_time": "2022-08-29T09:33:11.692Z"
   },
   {
    "duration": 18,
    "start_time": "2022-08-29T09:33:11.709Z"
   },
   {
    "duration": 17,
    "start_time": "2022-08-29T09:33:11.728Z"
   },
   {
    "duration": 8,
    "start_time": "2022-08-29T09:33:11.746Z"
   },
   {
    "duration": 22,
    "start_time": "2022-08-29T09:33:11.755Z"
   },
   {
    "duration": 10,
    "start_time": "2022-08-29T09:33:11.779Z"
   },
   {
    "duration": 18,
    "start_time": "2022-08-29T09:33:11.790Z"
   },
   {
    "duration": 33,
    "start_time": "2022-08-29T09:33:11.810Z"
   },
   {
    "duration": 4,
    "start_time": "2022-08-29T09:33:11.845Z"
   },
   {
    "duration": 7,
    "start_time": "2022-08-29T09:33:11.851Z"
   },
   {
    "duration": 7,
    "start_time": "2022-08-29T09:33:11.859Z"
   },
   {
    "duration": 6,
    "start_time": "2022-08-29T09:33:11.867Z"
   },
   {
    "duration": 19,
    "start_time": "2022-08-29T09:33:11.874Z"
   },
   {
    "duration": 243,
    "start_time": "2022-08-29T09:33:11.895Z"
   },
   {
    "duration": 143,
    "start_time": "2022-08-29T09:33:12.139Z"
   },
   {
    "duration": 7,
    "start_time": "2022-08-29T09:33:12.284Z"
   },
   {
    "duration": 9,
    "start_time": "2022-08-29T09:33:12.293Z"
   },
   {
    "duration": 221,
    "start_time": "2022-08-29T09:33:12.303Z"
   },
   {
    "duration": 25,
    "start_time": "2022-08-29T09:33:12.526Z"
   },
   {
    "duration": 358,
    "start_time": "2022-08-29T09:33:12.553Z"
   },
   {
    "duration": 7,
    "start_time": "2022-08-29T09:33:12.913Z"
   },
   {
    "duration": 266,
    "start_time": "2022-08-29T09:33:12.922Z"
   },
   {
    "duration": 6,
    "start_time": "2022-08-29T09:33:13.190Z"
   },
   {
    "duration": 579,
    "start_time": "2022-08-29T09:33:13.197Z"
   },
   {
    "duration": 16,
    "start_time": "2022-08-29T09:33:13.778Z"
   },
   {
    "duration": 26235,
    "start_time": "2022-08-29T09:33:13.798Z"
   },
   {
    "duration": 17,
    "start_time": "2022-08-29T09:33:40.034Z"
   },
   {
    "duration": 542,
    "start_time": "2022-08-29T09:33:40.053Z"
   },
   {
    "duration": 264,
    "start_time": "2022-08-29T09:33:40.597Z"
   },
   {
    "duration": 15,
    "start_time": "2022-08-29T09:33:40.863Z"
   },
   {
    "duration": 215,
    "start_time": "2022-08-29T09:33:40.879Z"
   },
   {
    "duration": 67,
    "start_time": "2022-08-29T09:33:41.095Z"
   },
   {
    "duration": 3,
    "start_time": "2022-08-29T09:33:41.163Z"
   },
   {
    "duration": 7,
    "start_time": "2022-08-29T09:33:41.167Z"
   },
   {
    "duration": 5,
    "start_time": "2022-08-29T09:33:41.175Z"
   },
   {
    "duration": 26,
    "start_time": "2022-08-29T09:33:41.182Z"
   },
   {
    "duration": 34,
    "start_time": "2022-08-29T09:33:41.209Z"
   },
   {
    "duration": 13,
    "start_time": "2022-08-29T09:33:41.245Z"
   },
   {
    "duration": 230,
    "start_time": "2022-08-29T09:33:41.259Z"
   },
   {
    "duration": 2342,
    "start_time": "2022-08-29T09:33:41.491Z"
   },
   {
    "duration": 9,
    "start_time": "2022-08-29T09:33:43.834Z"
   },
   {
    "duration": 21,
    "start_time": "2022-08-29T09:33:43.845Z"
   },
   {
    "duration": 297,
    "start_time": "2022-08-29T09:33:43.868Z"
   },
   {
    "duration": 0,
    "start_time": "2022-08-29T09:33:44.167Z"
   },
   {
    "duration": 0,
    "start_time": "2022-08-29T09:33:44.168Z"
   },
   {
    "duration": 0,
    "start_time": "2022-08-29T09:33:44.169Z"
   },
   {
    "duration": 9,
    "start_time": "2022-08-29T09:36:45.293Z"
   },
   {
    "duration": 14,
    "start_time": "2022-08-29T09:36:46.037Z"
   },
   {
    "duration": 2364,
    "start_time": "2022-08-29T09:36:56.057Z"
   },
   {
    "duration": 9,
    "start_time": "2022-08-29T09:37:00.518Z"
   },
   {
    "duration": 12,
    "start_time": "2022-08-29T09:37:06.477Z"
   },
   {
    "duration": 88,
    "start_time": "2022-08-29T09:38:32.047Z"
   },
   {
    "duration": 8,
    "start_time": "2022-08-29T09:38:42.559Z"
   },
   {
    "duration": 22,
    "start_time": "2022-08-29T09:39:02.638Z"
   },
   {
    "duration": 15,
    "start_time": "2022-08-29T09:39:03.717Z"
   },
   {
    "duration": 201,
    "start_time": "2022-08-29T09:40:31.628Z"
   },
   {
    "duration": 21,
    "start_time": "2022-08-29T09:40:39.368Z"
   },
   {
    "duration": 1144,
    "start_time": "2022-08-29T09:41:19.220Z"
   },
   {
    "duration": 258,
    "start_time": "2022-08-29T09:41:20.365Z"
   },
   {
    "duration": 14,
    "start_time": "2022-08-29T09:41:20.625Z"
   },
   {
    "duration": 21,
    "start_time": "2022-08-29T09:41:20.641Z"
   },
   {
    "duration": 16,
    "start_time": "2022-08-29T09:41:20.664Z"
   },
   {
    "duration": 9,
    "start_time": "2022-08-29T09:41:20.682Z"
   },
   {
    "duration": 35,
    "start_time": "2022-08-29T09:41:20.693Z"
   },
   {
    "duration": 15,
    "start_time": "2022-08-29T09:41:20.730Z"
   },
   {
    "duration": 20,
    "start_time": "2022-08-29T09:41:20.747Z"
   },
   {
    "duration": 14,
    "start_time": "2022-08-29T09:41:20.769Z"
   },
   {
    "duration": 4,
    "start_time": "2022-08-29T09:41:20.785Z"
   },
   {
    "duration": 9,
    "start_time": "2022-08-29T09:41:20.790Z"
   },
   {
    "duration": 7,
    "start_time": "2022-08-29T09:41:20.801Z"
   },
   {
    "duration": 5,
    "start_time": "2022-08-29T09:41:20.810Z"
   },
   {
    "duration": 16,
    "start_time": "2022-08-29T09:41:20.838Z"
   },
   {
    "duration": 239,
    "start_time": "2022-08-29T09:41:20.856Z"
   },
   {
    "duration": 154,
    "start_time": "2022-08-29T09:41:21.097Z"
   },
   {
    "duration": 7,
    "start_time": "2022-08-29T09:41:21.253Z"
   },
   {
    "duration": 14,
    "start_time": "2022-08-29T09:41:21.261Z"
   },
   {
    "duration": 241,
    "start_time": "2022-08-29T09:41:21.277Z"
   },
   {
    "duration": 25,
    "start_time": "2022-08-29T09:41:21.519Z"
   },
   {
    "duration": 359,
    "start_time": "2022-08-29T09:41:21.546Z"
   },
   {
    "duration": 6,
    "start_time": "2022-08-29T09:41:21.907Z"
   },
   {
    "duration": 270,
    "start_time": "2022-08-29T09:41:21.914Z"
   },
   {
    "duration": 6,
    "start_time": "2022-08-29T09:41:22.185Z"
   },
   {
    "duration": 599,
    "start_time": "2022-08-29T09:41:22.193Z"
   },
   {
    "duration": 17,
    "start_time": "2022-08-29T09:41:22.794Z"
   },
   {
    "duration": 26497,
    "start_time": "2022-08-29T09:41:22.812Z"
   },
   {
    "duration": 15,
    "start_time": "2022-08-29T09:41:49.310Z"
   },
   {
    "duration": 535,
    "start_time": "2022-08-29T09:41:49.326Z"
   },
   {
    "duration": 276,
    "start_time": "2022-08-29T09:41:49.863Z"
   },
   {
    "duration": 15,
    "start_time": "2022-08-29T09:41:50.140Z"
   },
   {
    "duration": 213,
    "start_time": "2022-08-29T09:41:50.156Z"
   },
   {
    "duration": 78,
    "start_time": "2022-08-29T09:41:50.371Z"
   },
   {
    "duration": 2,
    "start_time": "2022-08-29T09:41:50.451Z"
   },
   {
    "duration": 6,
    "start_time": "2022-08-29T09:41:50.454Z"
   },
   {
    "duration": 8,
    "start_time": "2022-08-29T09:41:50.461Z"
   },
   {
    "duration": 28,
    "start_time": "2022-08-29T09:41:50.470Z"
   },
   {
    "duration": 31,
    "start_time": "2022-08-29T09:41:50.500Z"
   },
   {
    "duration": 13,
    "start_time": "2022-08-29T09:41:50.539Z"
   },
   {
    "duration": 252,
    "start_time": "2022-08-29T09:41:50.556Z"
   },
   {
    "duration": 2210,
    "start_time": "2022-08-29T09:41:50.810Z"
   },
   {
    "duration": 9,
    "start_time": "2022-08-29T09:41:53.021Z"
   },
   {
    "duration": 19,
    "start_time": "2022-08-29T09:41:53.031Z"
   },
   {
    "duration": 89,
    "start_time": "2022-08-29T09:41:53.051Z"
   },
   {
    "duration": 7,
    "start_time": "2022-08-29T09:41:53.141Z"
   },
   {
    "duration": 26,
    "start_time": "2022-08-29T09:41:53.149Z"
   },
   {
    "duration": 10,
    "start_time": "2022-08-29T09:41:53.177Z"
   },
   {
    "duration": 68,
    "start_time": "2022-08-29T09:41:53.189Z"
   },
   {
    "duration": 28,
    "start_time": "2022-08-29T09:42:35.684Z"
   },
   {
    "duration": 35,
    "start_time": "2022-08-29T09:44:03.119Z"
   },
   {
    "duration": 35,
    "start_time": "2022-08-29T09:44:16.304Z"
   },
   {
    "duration": 15,
    "start_time": "2022-08-29T09:44:17.734Z"
   },
   {
    "duration": 19,
    "start_time": "2022-08-29T09:44:38.863Z"
   },
   {
    "duration": 115,
    "start_time": "2022-08-29T09:48:52.374Z"
   },
   {
    "duration": 25,
    "start_time": "2022-08-29T09:50:25.323Z"
   },
   {
    "duration": 14,
    "start_time": "2022-08-29T09:50:42.483Z"
   },
   {
    "duration": 12,
    "start_time": "2022-08-29T09:50:45.903Z"
   },
   {
    "duration": 2,
    "start_time": "2022-08-29T09:51:00.089Z"
   },
   {
    "duration": 2,
    "start_time": "2022-08-29T09:51:00.775Z"
   },
   {
    "duration": 9,
    "start_time": "2022-08-29T09:51:01.253Z"
   },
   {
    "duration": 10,
    "start_time": "2022-08-29T09:51:10.933Z"
   },
   {
    "duration": 9,
    "start_time": "2022-08-29T09:51:18.713Z"
   },
   {
    "duration": 12,
    "start_time": "2022-08-29T09:52:21.034Z"
   },
   {
    "duration": 10,
    "start_time": "2022-08-29T09:54:17.321Z"
   },
   {
    "duration": 12,
    "start_time": "2022-08-29T09:54:30.644Z"
   },
   {
    "duration": 10,
    "start_time": "2022-08-29T09:54:36.336Z"
   },
   {
    "duration": 24,
    "start_time": "2022-08-29T09:56:50.445Z"
   },
   {
    "duration": 22,
    "start_time": "2022-08-29T09:57:09.004Z"
   },
   {
    "duration": 17,
    "start_time": "2022-08-29T09:57:15.175Z"
   },
   {
    "duration": 20,
    "start_time": "2022-08-29T09:57:24.099Z"
   },
   {
    "duration": 19,
    "start_time": "2022-08-29T09:58:17.942Z"
   },
   {
    "duration": 21,
    "start_time": "2022-08-29T09:58:49.511Z"
   },
   {
    "duration": 7,
    "start_time": "2022-08-29T09:59:19.913Z"
   },
   {
    "duration": 18,
    "start_time": "2022-08-29T10:00:03.192Z"
   },
   {
    "duration": 22,
    "start_time": "2022-08-29T10:00:04.102Z"
   },
   {
    "duration": 19,
    "start_time": "2022-08-29T10:00:23.375Z"
   },
   {
    "duration": 6,
    "start_time": "2022-08-29T10:00:31.305Z"
   },
   {
    "duration": 16,
    "start_time": "2022-08-29T10:00:31.934Z"
   },
   {
    "duration": 16,
    "start_time": "2022-08-29T10:00:32.792Z"
   },
   {
    "duration": 1200,
    "start_time": "2022-08-29T10:00:44.047Z"
   },
   {
    "duration": 73,
    "start_time": "2022-08-29T10:00:45.249Z"
   },
   {
    "duration": 15,
    "start_time": "2022-08-29T10:00:45.323Z"
   },
   {
    "duration": 12,
    "start_time": "2022-08-29T10:00:45.340Z"
   },
   {
    "duration": 18,
    "start_time": "2022-08-29T10:00:45.354Z"
   },
   {
    "duration": 16,
    "start_time": "2022-08-29T10:00:45.373Z"
   },
   {
    "duration": 34,
    "start_time": "2022-08-29T10:00:45.391Z"
   },
   {
    "duration": 22,
    "start_time": "2022-08-29T10:00:45.427Z"
   },
   {
    "duration": 32,
    "start_time": "2022-08-29T10:00:45.450Z"
   },
   {
    "duration": 18,
    "start_time": "2022-08-29T10:00:45.486Z"
   },
   {
    "duration": 4,
    "start_time": "2022-08-29T10:00:45.506Z"
   },
   {
    "duration": 10,
    "start_time": "2022-08-29T10:00:45.512Z"
   },
   {
    "duration": 21,
    "start_time": "2022-08-29T10:00:45.523Z"
   },
   {
    "duration": 6,
    "start_time": "2022-08-29T10:00:45.545Z"
   },
   {
    "duration": 19,
    "start_time": "2022-08-29T10:00:45.553Z"
   },
   {
    "duration": 249,
    "start_time": "2022-08-29T10:00:45.573Z"
   },
   {
    "duration": 154,
    "start_time": "2022-08-29T10:00:45.824Z"
   },
   {
    "duration": 7,
    "start_time": "2022-08-29T10:00:45.979Z"
   },
   {
    "duration": 9,
    "start_time": "2022-08-29T10:00:45.987Z"
   },
   {
    "duration": 249,
    "start_time": "2022-08-29T10:00:45.998Z"
   },
   {
    "duration": 18,
    "start_time": "2022-08-29T10:00:46.249Z"
   },
   {
    "duration": 336,
    "start_time": "2022-08-29T10:00:46.269Z"
   },
   {
    "duration": 7,
    "start_time": "2022-08-29T10:00:46.606Z"
   },
   {
    "duration": 304,
    "start_time": "2022-08-29T10:00:46.615Z"
   },
   {
    "duration": 18,
    "start_time": "2022-08-29T10:00:46.921Z"
   },
   {
    "duration": 640,
    "start_time": "2022-08-29T10:00:46.941Z"
   },
   {
    "duration": 16,
    "start_time": "2022-08-29T10:00:47.583Z"
   },
   {
    "duration": 27757,
    "start_time": "2022-08-29T10:00:47.602Z"
   },
   {
    "duration": 16,
    "start_time": "2022-08-29T10:01:15.360Z"
   },
   {
    "duration": 521,
    "start_time": "2022-08-29T10:01:15.378Z"
   },
   {
    "duration": 283,
    "start_time": "2022-08-29T10:01:15.900Z"
   },
   {
    "duration": 17,
    "start_time": "2022-08-29T10:01:16.185Z"
   },
   {
    "duration": 210,
    "start_time": "2022-08-29T10:01:16.204Z"
   },
   {
    "duration": 68,
    "start_time": "2022-08-29T10:01:16.416Z"
   },
   {
    "duration": 3,
    "start_time": "2022-08-29T10:01:16.485Z"
   },
   {
    "duration": 8,
    "start_time": "2022-08-29T10:01:16.489Z"
   },
   {
    "duration": 7,
    "start_time": "2022-08-29T10:01:16.498Z"
   },
   {
    "duration": 42,
    "start_time": "2022-08-29T10:01:16.506Z"
   },
   {
    "duration": 21,
    "start_time": "2022-08-29T10:01:16.550Z"
   },
   {
    "duration": 13,
    "start_time": "2022-08-29T10:01:16.572Z"
   },
   {
    "duration": 242,
    "start_time": "2022-08-29T10:01:16.586Z"
   },
   {
    "duration": 3850,
    "start_time": "2022-08-29T10:01:16.830Z"
   },
   {
    "duration": 9,
    "start_time": "2022-08-29T10:01:20.681Z"
   },
   {
    "duration": 92,
    "start_time": "2022-08-29T10:01:20.691Z"
   },
   {
    "duration": 24,
    "start_time": "2022-08-29T10:01:20.785Z"
   },
   {
    "duration": 38,
    "start_time": "2022-08-29T10:01:20.810Z"
   },
   {
    "duration": 6,
    "start_time": "2022-08-29T10:01:20.849Z"
   },
   {
    "duration": 26,
    "start_time": "2022-08-29T10:01:20.856Z"
   },
   {
    "duration": 15,
    "start_time": "2022-08-29T10:01:20.884Z"
   },
   {
    "duration": 42,
    "start_time": "2022-08-29T10:01:20.901Z"
   },
   {
    "duration": 17,
    "start_time": "2022-08-29T10:02:42.066Z"
   },
   {
    "duration": 16,
    "start_time": "2022-08-29T10:02:42.945Z"
   },
   {
    "duration": 23,
    "start_time": "2022-08-29T10:03:22.867Z"
   },
   {
    "duration": 23,
    "start_time": "2022-08-29T10:04:14.924Z"
   },
   {
    "duration": 26,
    "start_time": "2022-08-29T10:05:51.855Z"
   },
   {
    "duration": 141,
    "start_time": "2022-08-29T10:06:00.844Z"
   },
   {
    "duration": 131,
    "start_time": "2022-08-29T10:07:06.055Z"
   },
   {
    "duration": 24,
    "start_time": "2022-08-29T10:07:21.075Z"
   },
   {
    "duration": 2,
    "start_time": "2022-08-29T10:07:49.985Z"
   },
   {
    "duration": 27713,
    "start_time": "2022-08-29T10:08:38.902Z"
   },
   {
    "duration": 11636,
    "start_time": "2022-08-29T10:09:38.425Z"
   },
   {
    "duration": 6,
    "start_time": "2022-08-29T10:10:35.105Z"
   },
   {
    "duration": 11698,
    "start_time": "2022-08-29T10:10:53.405Z"
   },
   {
    "duration": 12,
    "start_time": "2022-08-29T10:13:00.438Z"
   },
   {
    "duration": 266,
    "start_time": "2022-08-29T10:14:26.535Z"
   },
   {
    "duration": 249,
    "start_time": "2022-08-29T10:14:54.686Z"
   },
   {
    "duration": 11163,
    "start_time": "2022-08-29T10:15:08.366Z"
   },
   {
    "duration": 14,
    "start_time": "2022-08-29T10:18:58.484Z"
   },
   {
    "duration": 19,
    "start_time": "2022-08-29T10:19:06.834Z"
   },
   {
    "duration": 6,
    "start_time": "2022-08-29T10:19:08.065Z"
   },
   {
    "duration": 14,
    "start_time": "2022-08-29T10:19:18.606Z"
   },
   {
    "duration": 9,
    "start_time": "2022-08-29T10:19:37.630Z"
   },
   {
    "duration": 13,
    "start_time": "2022-08-29T10:21:08.817Z"
   },
   {
    "duration": 27,
    "start_time": "2022-08-29T10:21:49.226Z"
   },
   {
    "duration": 13,
    "start_time": "2022-08-29T10:22:33.049Z"
   },
   {
    "duration": 6,
    "start_time": "2022-08-29T10:22:56.655Z"
   },
   {
    "duration": 6,
    "start_time": "2022-08-29T10:34:50.834Z"
   },
   {
    "duration": 405,
    "start_time": "2022-08-29T10:34:58.525Z"
   },
   {
    "duration": 1283,
    "start_time": "2022-08-29T10:35:16.115Z"
   },
   {
    "duration": 11,
    "start_time": "2022-08-29T10:35:31.675Z"
   },
   {
    "duration": 11,
    "start_time": "2022-08-29T10:36:36.125Z"
   },
   {
    "duration": 19,
    "start_time": "2022-08-29T10:36:43.996Z"
   },
   {
    "duration": 19,
    "start_time": "2022-08-29T10:37:19.085Z"
   },
   {
    "duration": 179,
    "start_time": "2022-08-29T10:37:39.875Z"
   },
   {
    "duration": 1011,
    "start_time": "2022-08-29T10:38:28.485Z"
   },
   {
    "duration": 407,
    "start_time": "2022-08-29T10:39:16.245Z"
   },
   {
    "duration": 397,
    "start_time": "2022-08-29T10:40:05.515Z"
   },
   {
    "duration": 403,
    "start_time": "2022-08-29T10:40:19.825Z"
   },
   {
    "duration": 418,
    "start_time": "2022-08-29T10:41:41.466Z"
   },
   {
    "duration": 1113,
    "start_time": "2022-08-29T21:13:27.538Z"
   },
   {
    "duration": 64,
    "start_time": "2022-08-29T21:13:28.653Z"
   },
   {
    "duration": 24,
    "start_time": "2022-08-29T21:13:28.719Z"
   },
   {
    "duration": 17,
    "start_time": "2022-08-29T21:13:28.746Z"
   },
   {
    "duration": 40,
    "start_time": "2022-08-29T21:13:28.766Z"
   },
   {
    "duration": 12,
    "start_time": "2022-08-29T21:13:28.808Z"
   },
   {
    "duration": 18,
    "start_time": "2022-08-29T21:13:28.967Z"
   },
   {
    "duration": 16,
    "start_time": "2022-08-29T21:13:29.338Z"
   },
   {
    "duration": 20,
    "start_time": "2022-08-29T21:13:31.087Z"
   },
   {
    "duration": 21,
    "start_time": "2022-08-29T21:13:31.255Z"
   },
   {
    "duration": 23,
    "start_time": "2022-08-29T21:13:31.435Z"
   },
   {
    "duration": 4,
    "start_time": "2022-08-29T21:13:31.816Z"
   },
   {
    "duration": 5,
    "start_time": "2022-08-29T21:13:31.992Z"
   },
   {
    "duration": 3,
    "start_time": "2022-08-29T21:13:32.546Z"
   },
   {
    "duration": 27,
    "start_time": "2022-08-29T21:13:33.097Z"
   },
   {
    "duration": 224,
    "start_time": "2022-08-29T21:13:33.280Z"
   },
   {
    "duration": 128,
    "start_time": "2022-08-29T21:13:34.722Z"
   },
   {
    "duration": 7,
    "start_time": "2022-08-29T21:13:34.916Z"
   },
   {
    "duration": 9,
    "start_time": "2022-08-29T21:13:35.642Z"
   },
   {
    "duration": 193,
    "start_time": "2022-08-29T21:13:35.824Z"
   },
   {
    "duration": 24,
    "start_time": "2022-08-29T21:13:36.987Z"
   },
   {
    "duration": 351,
    "start_time": "2022-08-29T21:13:37.178Z"
   },
   {
    "duration": 8,
    "start_time": "2022-08-29T21:13:38.392Z"
   },
   {
    "duration": 287,
    "start_time": "2022-08-29T21:13:38.566Z"
   },
   {
    "duration": 6,
    "start_time": "2022-08-29T21:13:38.855Z"
   },
   {
    "duration": 687,
    "start_time": "2022-08-29T21:13:41.499Z"
   },
   {
    "duration": 30,
    "start_time": "2022-08-29T21:13:48.562Z"
   },
   {
    "duration": 10435,
    "start_time": "2022-08-29T21:13:50.674Z"
   },
   {
    "duration": 18,
    "start_time": "2022-08-29T21:15:15.839Z"
   },
   {
    "duration": 22,
    "start_time": "2022-08-29T21:16:21.569Z"
   },
   {
    "duration": 1283,
    "start_time": "2022-08-30T06:16:24.683Z"
   },
   {
    "duration": 231,
    "start_time": "2022-08-30T06:16:26.683Z"
   },
   {
    "duration": 22,
    "start_time": "2022-08-30T06:16:27.203Z"
   },
   {
    "duration": 14,
    "start_time": "2022-08-30T06:16:27.913Z"
   },
   {
    "duration": 18,
    "start_time": "2022-08-30T06:16:28.482Z"
   },
   {
    "duration": 8,
    "start_time": "2022-08-30T06:16:29.731Z"
   },
   {
    "duration": 20,
    "start_time": "2022-08-30T06:16:31.168Z"
   },
   {
    "duration": 11,
    "start_time": "2022-08-30T06:16:32.319Z"
   },
   {
    "duration": 15,
    "start_time": "2022-08-30T06:16:39.241Z"
   },
   {
    "duration": 14,
    "start_time": "2022-08-30T06:16:39.903Z"
   },
   {
    "duration": 5,
    "start_time": "2022-08-30T06:16:40.838Z"
   },
   {
    "duration": 5,
    "start_time": "2022-08-30T06:16:42.066Z"
   },
   {
    "duration": 4,
    "start_time": "2022-08-30T06:16:43.077Z"
   },
   {
    "duration": 7,
    "start_time": "2022-08-30T06:17:55.844Z"
   },
   {
    "duration": 12,
    "start_time": "2022-08-30T06:17:56.508Z"
   },
   {
    "duration": 7,
    "start_time": "2022-08-30T06:18:32.134Z"
   },
   {
    "duration": 8,
    "start_time": "2022-08-30T06:18:47.953Z"
   },
   {
    "duration": 44,
    "start_time": "2022-08-30T06:19:45.979Z"
   },
   {
    "duration": 97,
    "start_time": "2022-08-30T06:19:51.653Z"
   },
   {
    "duration": 5,
    "start_time": "2022-08-30T06:19:56.370Z"
   },
   {
    "duration": 660,
    "start_time": "2022-08-30T06:19:57.623Z"
   },
   {
    "duration": 8,
    "start_time": "2022-08-30T06:20:10.393Z"
   },
   {
    "duration": 745,
    "start_time": "2022-08-30T06:20:24.630Z"
   },
   {
    "duration": 106,
    "start_time": "2022-08-30T06:20:30.713Z"
   },
   {
    "duration": 15,
    "start_time": "2022-08-30T06:23:04.293Z"
   },
   {
    "duration": 13,
    "start_time": "2022-08-30T06:23:35.592Z"
   },
   {
    "duration": 19,
    "start_time": "2022-08-30T06:24:19.732Z"
   },
   {
    "duration": 8,
    "start_time": "2022-08-30T06:24:38.493Z"
   },
   {
    "duration": 6,
    "start_time": "2022-08-30T06:24:51.044Z"
   },
   {
    "duration": 13,
    "start_time": "2022-08-30T06:25:14.482Z"
   },
   {
    "duration": 13,
    "start_time": "2022-08-30T06:25:19.684Z"
   },
   {
    "duration": 8,
    "start_time": "2022-08-30T06:25:20.484Z"
   },
   {
    "duration": 10,
    "start_time": "2022-08-30T06:25:36.803Z"
   },
   {
    "duration": 14,
    "start_time": "2022-08-30T06:26:31.494Z"
   },
   {
    "duration": 15,
    "start_time": "2022-08-30T06:26:54.835Z"
   },
   {
    "duration": 28,
    "start_time": "2022-08-30T06:27:02.234Z"
   },
   {
    "duration": 11,
    "start_time": "2022-08-30T06:27:10.523Z"
   },
   {
    "duration": 13,
    "start_time": "2022-08-30T06:27:26.323Z"
   },
   {
    "duration": 13,
    "start_time": "2022-08-30T06:27:35.843Z"
   },
   {
    "duration": 13,
    "start_time": "2022-08-30T06:27:49.070Z"
   },
   {
    "duration": 9,
    "start_time": "2022-08-30T06:27:53.244Z"
   },
   {
    "duration": 14,
    "start_time": "2022-08-30T06:27:59.768Z"
   },
   {
    "duration": 15,
    "start_time": "2022-08-30T06:28:00.518Z"
   },
   {
    "duration": 10,
    "start_time": "2022-08-30T06:28:09.283Z"
   },
   {
    "duration": 50,
    "start_time": "2022-08-30T07:56:38.690Z"
   },
   {
    "duration": 1270,
    "start_time": "2022-08-30T07:56:42.927Z"
   },
   {
    "duration": 242,
    "start_time": "2022-08-30T07:56:44.199Z"
   },
   {
    "duration": 15,
    "start_time": "2022-08-30T07:56:44.443Z"
   },
   {
    "duration": 19,
    "start_time": "2022-08-30T07:56:44.461Z"
   },
   {
    "duration": 21,
    "start_time": "2022-08-30T07:56:44.482Z"
   },
   {
    "duration": 11,
    "start_time": "2022-08-30T07:56:44.504Z"
   },
   {
    "duration": 24,
    "start_time": "2022-08-30T07:56:44.516Z"
   },
   {
    "duration": 10,
    "start_time": "2022-08-30T07:56:44.542Z"
   },
   {
    "duration": 18,
    "start_time": "2022-08-30T07:56:44.554Z"
   },
   {
    "duration": 35,
    "start_time": "2022-08-30T07:56:44.575Z"
   },
   {
    "duration": 6,
    "start_time": "2022-08-30T07:56:44.612Z"
   },
   {
    "duration": 24,
    "start_time": "2022-08-30T07:56:44.620Z"
   },
   {
    "duration": 23,
    "start_time": "2022-08-30T07:56:44.646Z"
   },
   {
    "duration": 26,
    "start_time": "2022-08-30T07:56:44.670Z"
   },
   {
    "duration": 33,
    "start_time": "2022-08-30T07:56:44.698Z"
   },
   {
    "duration": 12,
    "start_time": "2022-08-30T07:56:44.732Z"
   },
   {
    "duration": 43,
    "start_time": "2022-08-30T07:56:44.746Z"
   },
   {
    "duration": 250,
    "start_time": "2022-08-30T07:56:44.791Z"
   },
   {
    "duration": 199,
    "start_time": "2022-08-30T07:56:45.043Z"
   },
   {
    "duration": 59,
    "start_time": "2022-08-30T07:56:45.244Z"
   },
   {
    "duration": 9,
    "start_time": "2022-08-30T07:56:45.305Z"
   },
   {
    "duration": 429,
    "start_time": "2022-08-30T07:56:45.316Z"
   },
   {
    "duration": 70,
    "start_time": "2022-08-30T07:56:45.746Z"
   },
   {
    "duration": 620,
    "start_time": "2022-08-30T07:56:45.818Z"
   },
   {
    "duration": 60,
    "start_time": "2022-08-30T07:56:46.440Z"
   },
   {
    "duration": 544,
    "start_time": "2022-08-30T07:56:46.503Z"
   },
   {
    "duration": 8,
    "start_time": "2022-08-30T07:56:47.049Z"
   },
   {
    "duration": 727,
    "start_time": "2022-08-30T07:56:47.062Z"
   },
   {
    "duration": 22,
    "start_time": "2022-08-30T07:56:47.791Z"
   },
   {
    "duration": 22906,
    "start_time": "2022-08-30T07:56:47.815Z"
   },
   {
    "duration": 17,
    "start_time": "2022-08-30T07:57:10.722Z"
   },
   {
    "duration": 2,
    "start_time": "2022-08-30T07:57:10.741Z"
   },
   {
    "duration": 25,
    "start_time": "2022-08-30T07:57:10.744Z"
   },
   {
    "duration": 8,
    "start_time": "2022-08-30T07:57:10.770Z"
   },
   {
    "duration": 263,
    "start_time": "2022-08-30T07:57:10.779Z"
   },
   {
    "duration": 15,
    "start_time": "2022-08-30T07:57:11.043Z"
   },
   {
    "duration": 194,
    "start_time": "2022-08-30T07:57:11.059Z"
   },
   {
    "duration": 64,
    "start_time": "2022-08-30T07:57:11.255Z"
   },
   {
    "duration": 3,
    "start_time": "2022-08-30T07:57:11.321Z"
   },
   {
    "duration": 6,
    "start_time": "2022-08-30T07:57:11.325Z"
   },
   {
    "duration": 5,
    "start_time": "2022-08-30T07:57:11.332Z"
   },
   {
    "duration": 29,
    "start_time": "2022-08-30T07:57:11.339Z"
   },
   {
    "duration": 31,
    "start_time": "2022-08-30T07:57:11.370Z"
   },
   {
    "duration": 13,
    "start_time": "2022-08-30T07:57:11.403Z"
   },
   {
    "duration": 275,
    "start_time": "2022-08-30T07:57:11.418Z"
   },
   {
    "duration": 3601,
    "start_time": "2022-08-30T07:57:11.700Z"
   },
   {
    "duration": 10,
    "start_time": "2022-08-30T07:57:15.303Z"
   },
   {
    "duration": 92,
    "start_time": "2022-08-30T07:57:15.315Z"
   },
   {
    "duration": 25,
    "start_time": "2022-08-30T07:57:15.409Z"
   },
   {
    "duration": 26,
    "start_time": "2022-08-30T07:57:15.435Z"
   },
   {
    "duration": 12,
    "start_time": "2022-08-30T07:57:15.463Z"
   },
   {
    "duration": 438,
    "start_time": "2022-08-30T07:57:15.477Z"
   },
   {
    "duration": 23,
    "start_time": "2022-08-30T07:57:15.917Z"
   },
   {
    "duration": 23,
    "start_time": "2022-08-30T07:57:15.942Z"
   },
   {
    "duration": 22757,
    "start_time": "2022-08-30T07:58:07.907Z"
   },
   {
    "duration": 23113,
    "start_time": "2022-08-30T07:59:43.147Z"
   },
   {
    "duration": 23009,
    "start_time": "2022-08-30T08:00:10.957Z"
   },
   {
    "duration": 189,
    "start_time": "2022-08-30T08:00:47.627Z"
   },
   {
    "duration": 8877,
    "start_time": "2022-08-30T08:02:28.077Z"
   },
   {
    "duration": 8368,
    "start_time": "2022-08-30T08:04:26.236Z"
   },
   {
    "duration": 8566,
    "start_time": "2022-08-30T08:05:00.519Z"
   },
   {
    "duration": 0,
    "start_time": "2022-08-30T08:05:41.452Z"
   },
   {
    "duration": 9159,
    "start_time": "2022-08-30T08:05:44.606Z"
   },
   {
    "duration": 0,
    "start_time": "2022-08-30T08:06:23.895Z"
   },
   {
    "duration": 8584,
    "start_time": "2022-08-30T08:07:56.966Z"
   },
   {
    "duration": 10,
    "start_time": "2022-08-30T08:10:02.785Z"
   },
   {
    "duration": 1124,
    "start_time": "2022-08-30T08:10:39.186Z"
   },
   {
    "duration": 63,
    "start_time": "2022-08-30T08:10:40.312Z"
   },
   {
    "duration": 17,
    "start_time": "2022-08-30T08:10:40.377Z"
   },
   {
    "duration": 14,
    "start_time": "2022-08-30T08:10:40.396Z"
   },
   {
    "duration": 18,
    "start_time": "2022-08-30T08:10:40.413Z"
   },
   {
    "duration": 12,
    "start_time": "2022-08-30T08:10:40.432Z"
   },
   {
    "duration": 39,
    "start_time": "2022-08-30T08:10:40.446Z"
   },
   {
    "duration": 21,
    "start_time": "2022-08-30T08:10:40.487Z"
   },
   {
    "duration": 19,
    "start_time": "2022-08-30T08:10:40.510Z"
   },
   {
    "duration": 15,
    "start_time": "2022-08-30T08:10:40.530Z"
   },
   {
    "duration": 5,
    "start_time": "2022-08-30T08:10:40.546Z"
   },
   {
    "duration": 6,
    "start_time": "2022-08-30T08:10:40.552Z"
   },
   {
    "duration": 5,
    "start_time": "2022-08-30T08:10:40.560Z"
   },
   {
    "duration": 17,
    "start_time": "2022-08-30T08:10:40.599Z"
   },
   {
    "duration": 16,
    "start_time": "2022-08-30T08:10:40.618Z"
   },
   {
    "duration": 9,
    "start_time": "2022-08-30T08:10:40.635Z"
   },
   {
    "duration": 18,
    "start_time": "2022-08-30T08:10:40.646Z"
   },
   {
    "duration": 278,
    "start_time": "2022-08-30T08:10:40.666Z"
   },
   {
    "duration": 169,
    "start_time": "2022-08-30T08:10:40.946Z"
   },
   {
    "duration": 7,
    "start_time": "2022-08-30T08:10:41.116Z"
   },
   {
    "duration": 10,
    "start_time": "2022-08-30T08:10:41.125Z"
   },
   {
    "duration": 247,
    "start_time": "2022-08-30T08:10:41.137Z"
   },
   {
    "duration": 25,
    "start_time": "2022-08-30T08:10:41.386Z"
   },
   {
    "duration": 395,
    "start_time": "2022-08-30T08:10:41.412Z"
   },
   {
    "duration": 7,
    "start_time": "2022-08-30T08:10:41.809Z"
   },
   {
    "duration": 591,
    "start_time": "2022-08-30T08:10:41.817Z"
   },
   {
    "duration": 7,
    "start_time": "2022-08-30T08:10:42.409Z"
   },
   {
    "duration": 1236,
    "start_time": "2022-08-30T08:10:42.418Z"
   },
   {
    "duration": 14,
    "start_time": "2022-08-30T08:10:43.656Z"
   },
   {
    "duration": 113,
    "start_time": "2022-08-30T08:10:43.671Z"
   },
   {
    "duration": 0,
    "start_time": "2022-08-30T08:10:43.786Z"
   },
   {
    "duration": 0,
    "start_time": "2022-08-30T08:10:43.787Z"
   },
   {
    "duration": 0,
    "start_time": "2022-08-30T08:10:43.788Z"
   },
   {
    "duration": 0,
    "start_time": "2022-08-30T08:10:43.789Z"
   },
   {
    "duration": 0,
    "start_time": "2022-08-30T08:10:43.800Z"
   },
   {
    "duration": 0,
    "start_time": "2022-08-30T08:10:43.801Z"
   },
   {
    "duration": 0,
    "start_time": "2022-08-30T08:10:43.802Z"
   },
   {
    "duration": 0,
    "start_time": "2022-08-30T08:10:43.803Z"
   },
   {
    "duration": 0,
    "start_time": "2022-08-30T08:10:43.804Z"
   },
   {
    "duration": 0,
    "start_time": "2022-08-30T08:10:43.805Z"
   },
   {
    "duration": 0,
    "start_time": "2022-08-30T08:10:43.806Z"
   },
   {
    "duration": 0,
    "start_time": "2022-08-30T08:10:43.807Z"
   },
   {
    "duration": 0,
    "start_time": "2022-08-30T08:10:43.808Z"
   },
   {
    "duration": 0,
    "start_time": "2022-08-30T08:10:43.809Z"
   },
   {
    "duration": 0,
    "start_time": "2022-08-30T08:10:43.810Z"
   },
   {
    "duration": 0,
    "start_time": "2022-08-30T08:10:43.811Z"
   },
   {
    "duration": 0,
    "start_time": "2022-08-30T08:10:43.812Z"
   },
   {
    "duration": 0,
    "start_time": "2022-08-30T08:10:43.814Z"
   },
   {
    "duration": 0,
    "start_time": "2022-08-30T08:10:43.815Z"
   },
   {
    "duration": 0,
    "start_time": "2022-08-30T08:10:43.816Z"
   },
   {
    "duration": 0,
    "start_time": "2022-08-30T08:10:43.817Z"
   },
   {
    "duration": 0,
    "start_time": "2022-08-30T08:10:43.818Z"
   },
   {
    "duration": 0,
    "start_time": "2022-08-30T08:10:43.819Z"
   },
   {
    "duration": 0,
    "start_time": "2022-08-30T08:10:43.820Z"
   },
   {
    "duration": 122,
    "start_time": "2022-08-30T08:11:19.357Z"
   },
   {
    "duration": 8443,
    "start_time": "2022-08-30T08:11:21.967Z"
   },
   {
    "duration": 8524,
    "start_time": "2022-08-30T08:11:37.747Z"
   },
   {
    "duration": 8920,
    "start_time": "2022-08-30T08:12:03.146Z"
   },
   {
    "duration": 8334,
    "start_time": "2022-08-30T08:13:21.728Z"
   },
   {
    "duration": 8587,
    "start_time": "2022-08-30T08:13:42.015Z"
   },
   {
    "duration": 8898,
    "start_time": "2022-08-30T08:14:25.957Z"
   },
   {
    "duration": 8473,
    "start_time": "2022-08-30T08:15:58.640Z"
   },
   {
    "duration": 8434,
    "start_time": "2022-08-30T08:16:32.360Z"
   },
   {
    "duration": 160,
    "start_time": "2022-08-30T08:17:54.144Z"
   },
   {
    "duration": 23878,
    "start_time": "2022-08-30T08:18:37.693Z"
   },
   {
    "duration": 8414,
    "start_time": "2022-08-30T08:19:32.131Z"
   },
   {
    "duration": 8650,
    "start_time": "2022-08-30T08:21:07.402Z"
   },
   {
    "duration": 8421,
    "start_time": "2022-08-30T08:21:36.203Z"
   },
   {
    "duration": 18,
    "start_time": "2022-08-30T08:22:39.713Z"
   },
   {
    "duration": 249,
    "start_time": "2022-08-30T08:23:25.432Z"
   },
   {
    "duration": 14,
    "start_time": "2022-08-30T08:25:19.621Z"
   },
   {
    "duration": 14,
    "start_time": "2022-08-30T08:25:55.279Z"
   },
   {
    "duration": 17,
    "start_time": "2022-08-30T08:26:11.311Z"
   },
   {
    "duration": 14,
    "start_time": "2022-08-30T08:26:23.668Z"
   },
   {
    "duration": 20,
    "start_time": "2022-08-30T08:27:25.820Z"
   },
   {
    "duration": 19,
    "start_time": "2022-08-30T08:28:20.460Z"
   },
   {
    "duration": 18,
    "start_time": "2022-08-30T08:29:07.900Z"
   },
   {
    "duration": 1104,
    "start_time": "2022-08-30T08:29:10.030Z"
   },
   {
    "duration": 1175,
    "start_time": "2022-08-30T08:29:53.430Z"
   },
   {
    "duration": 1085,
    "start_time": "2022-08-30T08:30:05.651Z"
   },
   {
    "duration": 66,
    "start_time": "2022-08-30T08:30:06.738Z"
   },
   {
    "duration": 14,
    "start_time": "2022-08-30T08:30:06.806Z"
   },
   {
    "duration": 19,
    "start_time": "2022-08-30T08:30:06.822Z"
   },
   {
    "duration": 25,
    "start_time": "2022-08-30T08:30:06.843Z"
   },
   {
    "duration": 8,
    "start_time": "2022-08-30T08:30:06.870Z"
   },
   {
    "duration": 29,
    "start_time": "2022-08-30T08:30:06.880Z"
   },
   {
    "duration": 11,
    "start_time": "2022-08-30T08:30:06.911Z"
   },
   {
    "duration": 18,
    "start_time": "2022-08-30T08:30:06.923Z"
   },
   {
    "duration": 15,
    "start_time": "2022-08-30T08:30:06.943Z"
   },
   {
    "duration": 7,
    "start_time": "2022-08-30T08:30:06.960Z"
   },
   {
    "duration": 12,
    "start_time": "2022-08-30T08:30:06.968Z"
   },
   {
    "duration": 5,
    "start_time": "2022-08-30T08:30:07.001Z"
   },
   {
    "duration": 23,
    "start_time": "2022-08-30T08:30:07.009Z"
   },
   {
    "duration": 16,
    "start_time": "2022-08-30T08:30:07.033Z"
   },
   {
    "duration": 10,
    "start_time": "2022-08-30T08:30:07.051Z"
   },
   {
    "duration": 47,
    "start_time": "2022-08-30T08:30:07.063Z"
   },
   {
    "duration": 235,
    "start_time": "2022-08-30T08:30:07.111Z"
   },
   {
    "duration": 146,
    "start_time": "2022-08-30T08:30:07.347Z"
   },
   {
    "duration": 7,
    "start_time": "2022-08-30T08:30:07.499Z"
   },
   {
    "duration": 8,
    "start_time": "2022-08-30T08:30:07.508Z"
   },
   {
    "duration": 232,
    "start_time": "2022-08-30T08:30:07.517Z"
   },
   {
    "duration": 18,
    "start_time": "2022-08-30T08:30:07.751Z"
   },
   {
    "duration": 376,
    "start_time": "2022-08-30T08:30:07.771Z"
   },
   {
    "duration": 7,
    "start_time": "2022-08-30T08:30:08.149Z"
   },
   {
    "duration": 353,
    "start_time": "2022-08-30T08:30:08.157Z"
   },
   {
    "duration": 7,
    "start_time": "2022-08-30T08:30:08.512Z"
   },
   {
    "duration": 1205,
    "start_time": "2022-08-30T08:30:08.520Z"
   },
   {
    "duration": 14,
    "start_time": "2022-08-30T08:30:09.727Z"
   },
   {
    "duration": 8788,
    "start_time": "2022-08-30T08:30:09.742Z"
   },
   {
    "duration": 19,
    "start_time": "2022-08-30T08:30:18.532Z"
   },
   {
    "duration": 1144,
    "start_time": "2022-08-30T08:30:18.552Z"
   },
   {
    "duration": 0,
    "start_time": "2022-08-30T08:30:19.700Z"
   },
   {
    "duration": 0,
    "start_time": "2022-08-30T08:30:19.701Z"
   },
   {
    "duration": 0,
    "start_time": "2022-08-30T08:30:19.702Z"
   },
   {
    "duration": 0,
    "start_time": "2022-08-30T08:30:19.703Z"
   },
   {
    "duration": 0,
    "start_time": "2022-08-30T08:30:19.704Z"
   },
   {
    "duration": 0,
    "start_time": "2022-08-30T08:30:19.705Z"
   },
   {
    "duration": 0,
    "start_time": "2022-08-30T08:30:19.706Z"
   },
   {
    "duration": 0,
    "start_time": "2022-08-30T08:30:19.707Z"
   },
   {
    "duration": 0,
    "start_time": "2022-08-30T08:30:19.708Z"
   },
   {
    "duration": 0,
    "start_time": "2022-08-30T08:30:19.709Z"
   },
   {
    "duration": 0,
    "start_time": "2022-08-30T08:30:19.710Z"
   },
   {
    "duration": 0,
    "start_time": "2022-08-30T08:30:19.711Z"
   },
   {
    "duration": 0,
    "start_time": "2022-08-30T08:30:19.712Z"
   },
   {
    "duration": 0,
    "start_time": "2022-08-30T08:30:19.713Z"
   },
   {
    "duration": 0,
    "start_time": "2022-08-30T08:30:19.714Z"
   },
   {
    "duration": 0,
    "start_time": "2022-08-30T08:30:19.715Z"
   },
   {
    "duration": 0,
    "start_time": "2022-08-30T08:30:19.716Z"
   },
   {
    "duration": 0,
    "start_time": "2022-08-30T08:30:19.717Z"
   },
   {
    "duration": 0,
    "start_time": "2022-08-30T08:30:19.718Z"
   },
   {
    "duration": 0,
    "start_time": "2022-08-30T08:30:19.718Z"
   },
   {
    "duration": 248,
    "start_time": "2022-08-30T08:32:11.547Z"
   },
   {
    "duration": 8413,
    "start_time": "2022-08-30T08:32:20.756Z"
   },
   {
    "duration": 917,
    "start_time": "2022-08-30T08:32:45.236Z"
   },
   {
    "duration": 897,
    "start_time": "2022-08-30T08:33:16.585Z"
   },
   {
    "duration": 18,
    "start_time": "2022-08-30T08:33:47.178Z"
   },
   {
    "duration": 775,
    "start_time": "2022-08-30T08:33:53.004Z"
   },
   {
    "duration": 18,
    "start_time": "2022-08-30T08:34:10.918Z"
   },
   {
    "duration": 844,
    "start_time": "2022-08-30T08:34:49.767Z"
   },
   {
    "duration": 8662,
    "start_time": "2022-08-30T08:37:47.227Z"
   },
   {
    "duration": 19,
    "start_time": "2022-08-30T08:38:13.874Z"
   },
   {
    "duration": 9096,
    "start_time": "2022-08-30T08:38:15.175Z"
   },
   {
    "duration": 8911,
    "start_time": "2022-08-30T08:39:32.363Z"
   },
   {
    "duration": 3,
    "start_time": "2022-08-30T08:39:45.675Z"
   },
   {
    "duration": 3,
    "start_time": "2022-08-30T08:39:46.374Z"
   },
   {
    "duration": 252,
    "start_time": "2022-08-30T08:39:50.315Z"
   },
   {
    "duration": 64,
    "start_time": "2022-08-30T08:47:00.144Z"
   },
   {
    "duration": 9,
    "start_time": "2022-08-30T08:47:02.513Z"
   },
   {
    "duration": 64,
    "start_time": "2022-08-30T08:47:17.872Z"
   },
   {
    "duration": 18,
    "start_time": "2022-08-30T08:47:18.574Z"
   },
   {
    "duration": 16,
    "start_time": "2022-08-30T08:47:26.983Z"
   },
   {
    "duration": 31,
    "start_time": "2022-08-30T08:47:38.256Z"
   },
   {
    "duration": 15,
    "start_time": "2022-08-30T08:47:39.753Z"
   },
   {
    "duration": 146,
    "start_time": "2022-08-30T08:47:47.471Z"
   },
   {
    "duration": 15,
    "start_time": "2022-08-30T08:47:48.384Z"
   },
   {
    "duration": 36,
    "start_time": "2022-08-30T08:48:04.202Z"
   },
   {
    "duration": 21,
    "start_time": "2022-08-30T08:48:04.979Z"
   },
   {
    "duration": 39,
    "start_time": "2022-08-30T08:48:17.019Z"
   },
   {
    "duration": 20,
    "start_time": "2022-08-30T08:48:18.911Z"
   },
   {
    "duration": 168,
    "start_time": "2022-08-30T08:48:45.802Z"
   },
   {
    "duration": 18,
    "start_time": "2022-08-30T08:48:47.456Z"
   },
   {
    "duration": 36,
    "start_time": "2022-08-30T08:52:03.293Z"
   },
   {
    "duration": 17,
    "start_time": "2022-08-30T08:52:03.792Z"
   },
   {
    "duration": 10,
    "start_time": "2022-08-30T08:55:34.192Z"
   },
   {
    "duration": 29,
    "start_time": "2022-08-30T08:55:40.278Z"
   },
   {
    "duration": 15,
    "start_time": "2022-08-30T08:56:01.045Z"
   },
   {
    "duration": 18,
    "start_time": "2022-08-30T08:56:22.561Z"
   },
   {
    "duration": 11,
    "start_time": "2022-08-30T08:58:12.752Z"
   },
   {
    "duration": 12,
    "start_time": "2022-08-30T08:59:26.151Z"
   },
   {
    "duration": 40,
    "start_time": "2022-08-30T09:00:31.471Z"
   },
   {
    "duration": 25,
    "start_time": "2022-08-30T09:00:54.141Z"
   },
   {
    "duration": 28,
    "start_time": "2022-08-30T09:01:23.581Z"
   },
   {
    "duration": 28,
    "start_time": "2022-08-30T09:01:38.741Z"
   },
   {
    "duration": 35,
    "start_time": "2022-08-30T09:06:30.261Z"
   },
   {
    "duration": 27,
    "start_time": "2022-08-30T09:06:47.700Z"
   },
   {
    "duration": 33,
    "start_time": "2022-08-30T09:07:59.489Z"
   },
   {
    "duration": 24,
    "start_time": "2022-08-30T09:08:16.060Z"
   },
   {
    "duration": 39,
    "start_time": "2022-08-30T09:08:35.559Z"
   },
   {
    "duration": 45,
    "start_time": "2022-08-30T09:08:36.339Z"
   },
   {
    "duration": 28,
    "start_time": "2022-08-30T09:08:37.637Z"
   },
   {
    "duration": 11,
    "start_time": "2022-08-30T09:10:15.659Z"
   },
   {
    "duration": 24,
    "start_time": "2022-08-30T09:10:23.530Z"
   },
   {
    "duration": 25,
    "start_time": "2022-08-30T09:10:31.117Z"
   },
   {
    "duration": 27,
    "start_time": "2022-08-30T09:10:37.829Z"
   },
   {
    "duration": 22,
    "start_time": "2022-08-30T09:10:45.899Z"
   },
   {
    "duration": 44,
    "start_time": "2022-08-30T09:14:42.424Z"
   },
   {
    "duration": 167,
    "start_time": "2022-08-30T09:14:56.712Z"
   },
   {
    "duration": 286,
    "start_time": "2022-08-30T09:15:11.461Z"
   },
   {
    "duration": 193,
    "start_time": "2022-08-30T09:15:21.568Z"
   },
   {
    "duration": 46,
    "start_time": "2022-08-30T09:15:37.689Z"
   },
   {
    "duration": 35,
    "start_time": "2022-08-30T09:16:19.428Z"
   },
   {
    "duration": 14,
    "start_time": "2022-08-30T09:17:09.680Z"
   },
   {
    "duration": 26,
    "start_time": "2022-08-30T09:17:50.678Z"
   },
   {
    "duration": 13,
    "start_time": "2022-08-30T09:20:59.467Z"
   },
   {
    "duration": 34,
    "start_time": "2022-08-30T09:21:22.327Z"
   },
   {
    "duration": 38,
    "start_time": "2022-08-30T09:22:41.510Z"
   },
   {
    "duration": 24,
    "start_time": "2022-08-30T09:23:03.387Z"
   },
   {
    "duration": 24,
    "start_time": "2022-08-30T09:23:18.207Z"
   },
   {
    "duration": 25,
    "start_time": "2022-08-30T09:23:43.996Z"
   },
   {
    "duration": 34,
    "start_time": "2022-08-30T09:23:50.977Z"
   },
   {
    "duration": 21,
    "start_time": "2022-08-30T09:24:09.056Z"
   },
   {
    "duration": 28,
    "start_time": "2022-08-30T09:24:25.017Z"
   },
   {
    "duration": 25,
    "start_time": "2022-08-30T09:24:39.650Z"
   },
   {
    "duration": 23,
    "start_time": "2022-08-30T09:25:28.043Z"
   },
   {
    "duration": 23,
    "start_time": "2022-08-30T09:25:34.978Z"
   },
   {
    "duration": 37,
    "start_time": "2022-08-30T09:25:42.767Z"
   },
   {
    "duration": 23,
    "start_time": "2022-08-30T09:25:52.387Z"
   },
   {
    "duration": 28,
    "start_time": "2022-08-30T09:26:45.476Z"
   },
   {
    "duration": 69,
    "start_time": "2022-08-30T09:29:09.527Z"
   },
   {
    "duration": 14,
    "start_time": "2022-08-30T09:29:10.379Z"
   },
   {
    "duration": 46,
    "start_time": "2022-08-30T09:29:21.017Z"
   },
   {
    "duration": 58,
    "start_time": "2022-08-30T09:29:36.626Z"
   },
   {
    "duration": 16,
    "start_time": "2022-08-30T09:29:38.685Z"
   },
   {
    "duration": 68,
    "start_time": "2022-08-30T09:29:58.664Z"
   },
   {
    "duration": 13,
    "start_time": "2022-08-30T09:29:59.536Z"
   },
   {
    "duration": 67,
    "start_time": "2022-08-30T09:30:27.627Z"
   },
   {
    "duration": 17,
    "start_time": "2022-08-30T09:30:28.314Z"
   },
   {
    "duration": 10,
    "start_time": "2022-08-30T09:31:01.286Z"
   },
   {
    "duration": 160,
    "start_time": "2022-08-30T09:31:07.918Z"
   },
   {
    "duration": 16,
    "start_time": "2022-08-30T09:31:16.207Z"
   },
   {
    "duration": 30,
    "start_time": "2022-08-30T09:31:25.914Z"
   },
   {
    "duration": 15,
    "start_time": "2022-08-30T09:31:27.706Z"
   },
   {
    "duration": 35,
    "start_time": "2022-08-30T09:31:33.285Z"
   },
   {
    "duration": 18,
    "start_time": "2022-08-30T09:31:34.966Z"
   },
   {
    "duration": 143,
    "start_time": "2022-08-30T09:31:41.773Z"
   },
   {
    "duration": 15,
    "start_time": "2022-08-30T09:31:42.623Z"
   },
   {
    "duration": 74,
    "start_time": "2022-08-30T09:33:00.406Z"
   },
   {
    "duration": 2,
    "start_time": "2022-08-30T09:33:01.786Z"
   },
   {
    "duration": 28,
    "start_time": "2022-08-30T09:33:02.296Z"
   },
   {
    "duration": 31,
    "start_time": "2022-08-30T09:33:19.225Z"
   },
   {
    "duration": 25,
    "start_time": "2022-08-30T09:33:19.765Z"
   },
   {
    "duration": 18,
    "start_time": "2022-08-30T09:33:32.665Z"
   },
   {
    "duration": 16,
    "start_time": "2022-08-30T09:33:41.235Z"
   },
   {
    "duration": 55,
    "start_time": "2022-08-30T09:34:22.214Z"
   },
   {
    "duration": 3,
    "start_time": "2022-08-30T09:34:23.125Z"
   },
   {
    "duration": 23,
    "start_time": "2022-08-30T09:34:23.495Z"
   },
   {
    "duration": 24,
    "start_time": "2022-08-30T09:34:58.355Z"
   },
   {
    "duration": 2,
    "start_time": "2022-08-30T09:35:27.126Z"
   },
   {
    "duration": 2,
    "start_time": "2022-08-30T09:35:27.699Z"
   },
   {
    "duration": 26,
    "start_time": "2022-08-30T09:35:33.415Z"
   },
   {
    "duration": 24,
    "start_time": "2022-08-30T09:36:23.824Z"
   },
   {
    "duration": 30,
    "start_time": "2022-08-30T09:36:40.975Z"
   },
   {
    "duration": 24,
    "start_time": "2022-08-30T09:36:53.224Z"
   },
   {
    "duration": 25,
    "start_time": "2022-08-30T09:36:58.556Z"
   },
   {
    "duration": 48,
    "start_time": "2022-08-30T09:40:32.696Z"
   },
   {
    "duration": 18,
    "start_time": "2022-08-30T09:42:25.599Z"
   },
   {
    "duration": 1157,
    "start_time": "2022-08-30T09:43:36.414Z"
   },
   {
    "duration": 67,
    "start_time": "2022-08-30T09:43:37.573Z"
   },
   {
    "duration": 15,
    "start_time": "2022-08-30T09:43:37.641Z"
   },
   {
    "duration": 14,
    "start_time": "2022-08-30T09:43:37.658Z"
   },
   {
    "duration": 40,
    "start_time": "2022-08-30T09:43:37.675Z"
   },
   {
    "duration": 11,
    "start_time": "2022-08-30T09:43:37.717Z"
   },
   {
    "duration": 30,
    "start_time": "2022-08-30T09:43:37.730Z"
   },
   {
    "duration": 12,
    "start_time": "2022-08-30T09:43:37.762Z"
   },
   {
    "duration": 36,
    "start_time": "2022-08-30T09:43:37.775Z"
   },
   {
    "duration": 17,
    "start_time": "2022-08-30T09:43:37.812Z"
   },
   {
    "duration": 5,
    "start_time": "2022-08-30T09:43:37.831Z"
   },
   {
    "duration": 15,
    "start_time": "2022-08-30T09:43:37.838Z"
   },
   {
    "duration": 14,
    "start_time": "2022-08-30T09:43:37.855Z"
   },
   {
    "duration": 39,
    "start_time": "2022-08-30T09:43:37.872Z"
   },
   {
    "duration": 19,
    "start_time": "2022-08-30T09:43:37.912Z"
   },
   {
    "duration": 9,
    "start_time": "2022-08-30T09:43:37.933Z"
   },
   {
    "duration": 33,
    "start_time": "2022-08-30T09:43:37.944Z"
   },
   {
    "duration": 227,
    "start_time": "2022-08-30T09:43:37.979Z"
   },
   {
    "duration": 146,
    "start_time": "2022-08-30T09:43:38.208Z"
   },
   {
    "duration": 7,
    "start_time": "2022-08-30T09:43:38.356Z"
   },
   {
    "duration": 14,
    "start_time": "2022-08-30T09:43:38.364Z"
   },
   {
    "duration": 207,
    "start_time": "2022-08-30T09:43:38.380Z"
   },
   {
    "duration": 25,
    "start_time": "2022-08-30T09:43:38.588Z"
   },
   {
    "duration": 324,
    "start_time": "2022-08-30T09:43:38.614Z"
   },
   {
    "duration": 6,
    "start_time": "2022-08-30T09:43:38.940Z"
   },
   {
    "duration": 248,
    "start_time": "2022-08-30T09:43:38.947Z"
   },
   {
    "duration": 8,
    "start_time": "2022-08-30T09:43:39.199Z"
   },
   {
    "duration": 681,
    "start_time": "2022-08-30T09:43:39.209Z"
   },
   {
    "duration": 23,
    "start_time": "2022-08-30T09:43:39.892Z"
   },
   {
    "duration": 8553,
    "start_time": "2022-08-30T09:43:39.917Z"
   },
   {
    "duration": 2,
    "start_time": "2022-08-30T09:43:48.472Z"
   },
   {
    "duration": 7,
    "start_time": "2022-08-30T09:43:48.476Z"
   },
   {
    "duration": 352,
    "start_time": "2022-08-30T09:43:48.484Z"
   },
   {
    "duration": 14,
    "start_time": "2022-08-30T09:43:48.838Z"
   },
   {
    "duration": 206,
    "start_time": "2022-08-30T09:43:48.854Z"
   },
   {
    "duration": 13,
    "start_time": "2022-08-30T09:43:49.062Z"
   },
   {
    "duration": 5,
    "start_time": "2022-08-30T09:43:49.077Z"
   },
   {
    "duration": 5,
    "start_time": "2022-08-30T09:43:49.084Z"
   },
   {
    "duration": 9,
    "start_time": "2022-08-30T09:43:49.100Z"
   },
   {
    "duration": 5,
    "start_time": "2022-08-30T09:43:49.111Z"
   },
   {
    "duration": 4,
    "start_time": "2022-08-30T09:43:49.120Z"
   },
   {
    "duration": 8,
    "start_time": "2022-08-30T09:43:49.125Z"
   },
   {
    "duration": 16,
    "start_time": "2022-08-30T09:43:49.135Z"
   },
   {
    "duration": 6,
    "start_time": "2022-08-30T09:43:49.152Z"
   },
   {
    "duration": 6,
    "start_time": "2022-08-30T09:43:49.160Z"
   },
   {
    "duration": 7,
    "start_time": "2022-08-30T09:43:49.168Z"
   },
   {
    "duration": 7,
    "start_time": "2022-08-30T09:43:49.176Z"
   },
   {
    "duration": 3452,
    "start_time": "2022-08-30T09:43:49.184Z"
   },
   {
    "duration": 8,
    "start_time": "2022-08-30T09:43:52.638Z"
   },
   {
    "duration": 96,
    "start_time": "2022-08-30T09:43:52.648Z"
   },
   {
    "duration": 24,
    "start_time": "2022-08-30T09:43:52.746Z"
   },
   {
    "duration": 107,
    "start_time": "2022-08-30T09:43:52.771Z"
   },
   {
    "duration": 0,
    "start_time": "2022-08-30T09:43:52.879Z"
   },
   {
    "duration": 0,
    "start_time": "2022-08-30T09:43:52.880Z"
   },
   {
    "duration": 0,
    "start_time": "2022-08-30T09:43:52.881Z"
   },
   {
    "duration": 0,
    "start_time": "2022-08-30T09:43:52.882Z"
   },
   {
    "duration": 10,
    "start_time": "2022-08-30T09:45:29.303Z"
   },
   {
    "duration": 13,
    "start_time": "2022-08-30T09:46:11.133Z"
   },
   {
    "duration": 15,
    "start_time": "2022-08-30T09:46:11.712Z"
   },
   {
    "duration": 12,
    "start_time": "2022-08-30T09:46:44.973Z"
   },
   {
    "duration": 18,
    "start_time": "2022-08-30T09:46:45.602Z"
   },
   {
    "duration": 29,
    "start_time": "2022-08-30T09:47:32.112Z"
   },
   {
    "duration": 25,
    "start_time": "2022-08-30T09:48:12.002Z"
   },
   {
    "duration": 24,
    "start_time": "2022-08-30T09:48:24.071Z"
   },
   {
    "duration": 24,
    "start_time": "2022-08-30T09:48:46.033Z"
   },
   {
    "duration": 22,
    "start_time": "2022-08-30T09:48:54.133Z"
   },
   {
    "duration": 23,
    "start_time": "2022-08-30T09:48:58.893Z"
   },
   {
    "duration": 41,
    "start_time": "2022-08-30T09:49:10.743Z"
   },
   {
    "duration": 18,
    "start_time": "2022-08-30T09:49:35.409Z"
   },
   {
    "duration": 26,
    "start_time": "2022-08-30T09:52:35.132Z"
   },
   {
    "duration": 18,
    "start_time": "2022-08-30T09:52:44.571Z"
   },
   {
    "duration": 12,
    "start_time": "2022-08-30T09:53:38.812Z"
   },
   {
    "duration": 24,
    "start_time": "2022-08-30T09:54:01.862Z"
   },
   {
    "duration": 18,
    "start_time": "2022-08-30T09:54:08.492Z"
   },
   {
    "duration": 28,
    "start_time": "2022-08-30T09:54:49.353Z"
   },
   {
    "duration": 28,
    "start_time": "2022-08-30T09:54:50.123Z"
   },
   {
    "duration": 27,
    "start_time": "2022-08-30T09:55:06.991Z"
   },
   {
    "duration": 22,
    "start_time": "2022-08-30T09:55:07.552Z"
   },
   {
    "duration": 19,
    "start_time": "2022-08-30T09:58:56.306Z"
   },
   {
    "duration": 27,
    "start_time": "2022-08-30T10:28:53.728Z"
   },
   {
    "duration": 29,
    "start_time": "2022-08-30T10:29:13.589Z"
   },
   {
    "duration": 132,
    "start_time": "2022-08-30T10:29:20.528Z"
   },
   {
    "duration": 39,
    "start_time": "2022-08-30T10:29:31.336Z"
   },
   {
    "duration": 57,
    "start_time": "2022-08-30T10:29:45.419Z"
   },
   {
    "duration": 35,
    "start_time": "2022-08-30T10:29:55.059Z"
   },
   {
    "duration": 3,
    "start_time": "2022-08-30T10:30:17.276Z"
   },
   {
    "duration": 655,
    "start_time": "2022-08-30T10:30:23.499Z"
   },
   {
    "duration": 38,
    "start_time": "2022-08-30T10:32:13.647Z"
   },
   {
    "duration": 2,
    "start_time": "2022-08-30T10:32:14.468Z"
   },
   {
    "duration": 659,
    "start_time": "2022-08-30T10:32:22.299Z"
   },
   {
    "duration": 29,
    "start_time": "2022-08-30T10:33:22.407Z"
   },
   {
    "duration": 120,
    "start_time": "2022-08-30T10:34:02.607Z"
   },
   {
    "duration": 10,
    "start_time": "2022-08-30T10:34:15.796Z"
   },
   {
    "duration": 10,
    "start_time": "2022-08-30T10:34:38.288Z"
   },
   {
    "duration": 1053,
    "start_time": "2022-08-30T10:34:46.644Z"
   },
   {
    "duration": 64,
    "start_time": "2022-08-30T10:34:47.699Z"
   },
   {
    "duration": 14,
    "start_time": "2022-08-30T10:34:47.765Z"
   },
   {
    "duration": 13,
    "start_time": "2022-08-30T10:34:47.781Z"
   },
   {
    "duration": 18,
    "start_time": "2022-08-30T10:34:47.797Z"
   },
   {
    "duration": 9,
    "start_time": "2022-08-30T10:34:47.817Z"
   },
   {
    "duration": 18,
    "start_time": "2022-08-30T10:34:47.827Z"
   },
   {
    "duration": 12,
    "start_time": "2022-08-30T10:34:47.847Z"
   },
   {
    "duration": 40,
    "start_time": "2022-08-30T10:34:47.861Z"
   },
   {
    "duration": 14,
    "start_time": "2022-08-30T10:34:47.903Z"
   },
   {
    "duration": 5,
    "start_time": "2022-08-30T10:34:47.919Z"
   },
   {
    "duration": 6,
    "start_time": "2022-08-30T10:34:47.925Z"
   },
   {
    "duration": 7,
    "start_time": "2022-08-30T10:34:47.933Z"
   },
   {
    "duration": 15,
    "start_time": "2022-08-30T10:34:47.943Z"
   },
   {
    "duration": 42,
    "start_time": "2022-08-30T10:34:47.959Z"
   },
   {
    "duration": 10,
    "start_time": "2022-08-30T10:34:48.003Z"
   },
   {
    "duration": 18,
    "start_time": "2022-08-30T10:34:48.015Z"
   },
   {
    "duration": 226,
    "start_time": "2022-08-30T10:34:48.035Z"
   },
   {
    "duration": 164,
    "start_time": "2022-08-30T10:34:48.263Z"
   },
   {
    "duration": 7,
    "start_time": "2022-08-30T10:34:48.428Z"
   },
   {
    "duration": 65,
    "start_time": "2022-08-30T10:34:48.436Z"
   },
   {
    "duration": 434,
    "start_time": "2022-08-30T10:34:48.502Z"
   },
   {
    "duration": 74,
    "start_time": "2022-08-30T10:34:48.937Z"
   },
   {
    "duration": 598,
    "start_time": "2022-08-30T10:34:49.012Z"
   },
   {
    "duration": 7,
    "start_time": "2022-08-30T10:34:49.612Z"
   },
   {
    "duration": 533,
    "start_time": "2022-08-30T10:34:49.621Z"
   },
   {
    "duration": 45,
    "start_time": "2022-08-30T10:34:50.155Z"
   },
   {
    "duration": 680,
    "start_time": "2022-08-30T10:34:50.202Z"
   },
   {
    "duration": 25,
    "start_time": "2022-08-30T10:34:50.884Z"
   },
   {
    "duration": 8560,
    "start_time": "2022-08-30T10:34:50.910Z"
   },
   {
    "duration": 2,
    "start_time": "2022-08-30T10:34:59.472Z"
   },
   {
    "duration": 7,
    "start_time": "2022-08-30T10:34:59.476Z"
   },
   {
    "duration": 335,
    "start_time": "2022-08-30T10:34:59.485Z"
   },
   {
    "duration": 15,
    "start_time": "2022-08-30T10:34:59.822Z"
   },
   {
    "duration": 203,
    "start_time": "2022-08-30T10:34:59.838Z"
   },
   {
    "duration": 10,
    "start_time": "2022-08-30T10:35:00.043Z"
   },
   {
    "duration": 5,
    "start_time": "2022-08-30T10:35:00.055Z"
   },
   {
    "duration": 11,
    "start_time": "2022-08-30T10:35:00.061Z"
   },
   {
    "duration": 6,
    "start_time": "2022-08-30T10:35:00.074Z"
   },
   {
    "duration": 18,
    "start_time": "2022-08-30T10:35:00.082Z"
   },
   {
    "duration": 3,
    "start_time": "2022-08-30T10:35:00.104Z"
   },
   {
    "duration": 17,
    "start_time": "2022-08-30T10:35:00.109Z"
   },
   {
    "duration": 15,
    "start_time": "2022-08-30T10:35:00.128Z"
   },
   {
    "duration": 18,
    "start_time": "2022-08-30T10:35:00.145Z"
   },
   {
    "duration": 7,
    "start_time": "2022-08-30T10:35:00.165Z"
   },
   {
    "duration": 97,
    "start_time": "2022-08-30T10:35:00.173Z"
   },
   {
    "duration": 0,
    "start_time": "2022-08-30T10:35:00.272Z"
   },
   {
    "duration": 0,
    "start_time": "2022-08-30T10:35:00.273Z"
   },
   {
    "duration": 0,
    "start_time": "2022-08-30T10:35:00.274Z"
   },
   {
    "duration": 0,
    "start_time": "2022-08-30T10:35:00.276Z"
   },
   {
    "duration": 0,
    "start_time": "2022-08-30T10:35:00.278Z"
   },
   {
    "duration": 0,
    "start_time": "2022-08-30T10:35:00.279Z"
   },
   {
    "duration": 0,
    "start_time": "2022-08-30T10:35:00.280Z"
   },
   {
    "duration": 0,
    "start_time": "2022-08-30T10:35:00.282Z"
   },
   {
    "duration": 0,
    "start_time": "2022-08-30T10:35:00.300Z"
   },
   {
    "duration": 0,
    "start_time": "2022-08-30T10:35:00.302Z"
   },
   {
    "duration": 0,
    "start_time": "2022-08-30T10:35:00.303Z"
   },
   {
    "duration": 39,
    "start_time": "2022-08-30T10:35:57.467Z"
   },
   {
    "duration": 57,
    "start_time": "2022-08-30T10:36:04.009Z"
   },
   {
    "duration": 17,
    "start_time": "2022-08-30T10:36:22.650Z"
   },
   {
    "duration": 21,
    "start_time": "2022-08-30T10:37:08.878Z"
   },
   {
    "duration": 1108,
    "start_time": "2022-08-30T10:40:13.091Z"
   },
   {
    "duration": 62,
    "start_time": "2022-08-30T10:40:14.201Z"
   },
   {
    "duration": 13,
    "start_time": "2022-08-30T10:40:14.265Z"
   },
   {
    "duration": 29,
    "start_time": "2022-08-30T10:40:14.280Z"
   },
   {
    "duration": 41,
    "start_time": "2022-08-30T10:40:14.312Z"
   },
   {
    "duration": 21,
    "start_time": "2022-08-30T10:40:14.354Z"
   },
   {
    "duration": 52,
    "start_time": "2022-08-30T10:40:14.377Z"
   },
   {
    "duration": 14,
    "start_time": "2022-08-30T10:40:14.431Z"
   },
   {
    "duration": 47,
    "start_time": "2022-08-30T10:40:14.447Z"
   },
   {
    "duration": 26,
    "start_time": "2022-08-30T10:40:14.496Z"
   },
   {
    "duration": 22,
    "start_time": "2022-08-30T10:40:14.524Z"
   },
   {
    "duration": 50,
    "start_time": "2022-08-30T10:40:14.547Z"
   },
   {
    "duration": 32,
    "start_time": "2022-08-30T10:40:14.598Z"
   },
   {
    "duration": 63,
    "start_time": "2022-08-30T10:40:14.633Z"
   },
   {
    "duration": 55,
    "start_time": "2022-08-30T10:40:14.698Z"
   },
   {
    "duration": 25,
    "start_time": "2022-08-30T10:40:14.755Z"
   },
   {
    "duration": 73,
    "start_time": "2022-08-30T10:40:14.782Z"
   },
   {
    "duration": 277,
    "start_time": "2022-08-30T10:40:14.857Z"
   },
   {
    "duration": 154,
    "start_time": "2022-08-30T10:40:15.135Z"
   },
   {
    "duration": 13,
    "start_time": "2022-08-30T10:40:15.291Z"
   },
   {
    "duration": 42,
    "start_time": "2022-08-30T10:40:15.305Z"
   },
   {
    "duration": 231,
    "start_time": "2022-08-30T10:40:15.349Z"
   },
   {
    "duration": 28,
    "start_time": "2022-08-30T10:40:15.582Z"
   },
   {
    "duration": 396,
    "start_time": "2022-08-30T10:40:15.612Z"
   },
   {
    "duration": 8,
    "start_time": "2022-08-30T10:40:16.010Z"
   },
   {
    "duration": 282,
    "start_time": "2022-08-30T10:40:16.020Z"
   },
   {
    "duration": 7,
    "start_time": "2022-08-30T10:40:16.304Z"
   },
   {
    "duration": 708,
    "start_time": "2022-08-30T10:40:16.313Z"
   },
   {
    "duration": 17,
    "start_time": "2022-08-30T10:40:17.023Z"
   },
   {
    "duration": 9496,
    "start_time": "2022-08-30T10:40:17.042Z"
   },
   {
    "duration": 2,
    "start_time": "2022-08-30T10:40:26.540Z"
   },
   {
    "duration": 7,
    "start_time": "2022-08-30T10:40:26.544Z"
   },
   {
    "duration": 345,
    "start_time": "2022-08-30T10:40:26.552Z"
   },
   {
    "duration": 14,
    "start_time": "2022-08-30T10:40:26.899Z"
   },
   {
    "duration": 213,
    "start_time": "2022-08-30T10:40:26.915Z"
   },
   {
    "duration": 13,
    "start_time": "2022-08-30T10:40:27.130Z"
   },
   {
    "duration": 63,
    "start_time": "2022-08-30T10:40:27.145Z"
   },
   {
    "duration": 24,
    "start_time": "2022-08-30T10:40:27.209Z"
   },
   {
    "duration": 23,
    "start_time": "2022-08-30T10:40:27.235Z"
   },
   {
    "duration": 3,
    "start_time": "2022-08-30T10:40:27.260Z"
   },
   {
    "duration": 3232,
    "start_time": "2022-08-30T10:40:27.268Z"
   },
   {
    "duration": 10,
    "start_time": "2022-08-30T10:40:30.502Z"
   },
   {
    "duration": 122,
    "start_time": "2022-08-30T10:40:30.514Z"
   },
   {
    "duration": 25,
    "start_time": "2022-08-30T10:40:30.638Z"
   },
   {
    "duration": 59,
    "start_time": "2022-08-30T10:40:30.664Z"
   },
   {
    "duration": 21,
    "start_time": "2022-08-30T10:40:30.726Z"
   },
   {
    "duration": 423,
    "start_time": "2022-08-30T10:40:30.749Z"
   },
   {
    "duration": 35,
    "start_time": "2022-08-30T10:40:31.174Z"
   },
   {
    "duration": 22,
    "start_time": "2022-08-30T10:40:31.210Z"
   },
   {
    "duration": 16,
    "start_time": "2022-08-30T10:46:29.183Z"
   },
   {
    "duration": 17,
    "start_time": "2022-08-30T10:46:35.932Z"
   },
   {
    "duration": 15,
    "start_time": "2022-08-30T10:46:42.752Z"
   },
   {
    "duration": 45,
    "start_time": "2022-08-30T10:47:13.762Z"
   },
   {
    "duration": 18,
    "start_time": "2022-08-30T10:47:21.541Z"
   },
   {
    "duration": 13,
    "start_time": "2022-08-30T10:47:29.151Z"
   },
   {
    "duration": 13,
    "start_time": "2022-08-30T11:12:38.479Z"
   },
   {
    "duration": 15,
    "start_time": "2022-08-30T11:12:46.729Z"
   },
   {
    "duration": 174,
    "start_time": "2022-08-30T11:13:23.587Z"
   },
   {
    "duration": 19,
    "start_time": "2022-08-30T11:14:33.357Z"
   },
   {
    "duration": 23,
    "start_time": "2022-08-30T11:15:08.099Z"
   },
   {
    "duration": 21,
    "start_time": "2022-08-30T11:15:20.899Z"
   },
   {
    "duration": 21,
    "start_time": "2022-08-30T11:15:56.018Z"
   },
   {
    "duration": 22,
    "start_time": "2022-08-30T11:16:42.071Z"
   },
   {
    "duration": 121,
    "start_time": "2022-08-30T11:17:02.297Z"
   },
   {
    "duration": 13,
    "start_time": "2022-08-30T11:17:51.087Z"
   },
   {
    "duration": 14,
    "start_time": "2022-08-30T11:18:28.901Z"
   },
   {
    "duration": 38,
    "start_time": "2022-08-30T11:19:30.116Z"
   },
   {
    "duration": 1184,
    "start_time": "2022-08-30T11:19:39.216Z"
   },
   {
    "duration": 65,
    "start_time": "2022-08-30T11:19:40.402Z"
   },
   {
    "duration": 15,
    "start_time": "2022-08-30T11:19:40.469Z"
   },
   {
    "duration": 12,
    "start_time": "2022-08-30T11:19:40.485Z"
   },
   {
    "duration": 17,
    "start_time": "2022-08-30T11:19:40.500Z"
   },
   {
    "duration": 8,
    "start_time": "2022-08-30T11:19:40.519Z"
   },
   {
    "duration": 21,
    "start_time": "2022-08-30T11:19:40.528Z"
   },
   {
    "duration": 10,
    "start_time": "2022-08-30T11:19:40.551Z"
   },
   {
    "duration": 51,
    "start_time": "2022-08-30T11:19:40.563Z"
   },
   {
    "duration": 16,
    "start_time": "2022-08-30T11:19:40.615Z"
   },
   {
    "duration": 5,
    "start_time": "2022-08-30T11:19:40.633Z"
   },
   {
    "duration": 8,
    "start_time": "2022-08-30T11:19:40.639Z"
   },
   {
    "duration": 7,
    "start_time": "2022-08-30T11:19:40.649Z"
   },
   {
    "duration": 45,
    "start_time": "2022-08-30T11:19:40.660Z"
   },
   {
    "duration": 17,
    "start_time": "2022-08-30T11:19:40.707Z"
   },
   {
    "duration": 11,
    "start_time": "2022-08-30T11:19:40.726Z"
   },
   {
    "duration": 18,
    "start_time": "2022-08-30T11:19:40.738Z"
   },
   {
    "duration": 265,
    "start_time": "2022-08-30T11:19:40.757Z"
   },
   {
    "duration": 159,
    "start_time": "2022-08-30T11:19:41.024Z"
   },
   {
    "duration": 16,
    "start_time": "2022-08-30T11:19:41.185Z"
   },
   {
    "duration": 10,
    "start_time": "2022-08-30T11:19:41.202Z"
   },
   {
    "duration": 254,
    "start_time": "2022-08-30T11:19:41.214Z"
   },
   {
    "duration": 33,
    "start_time": "2022-08-30T11:19:41.470Z"
   },
   {
    "duration": 356,
    "start_time": "2022-08-30T11:19:41.505Z"
   },
   {
    "duration": 7,
    "start_time": "2022-08-30T11:19:41.863Z"
   },
   {
    "duration": 267,
    "start_time": "2022-08-30T11:19:41.871Z"
   },
   {
    "duration": 6,
    "start_time": "2022-08-30T11:19:42.140Z"
   },
   {
    "duration": 660,
    "start_time": "2022-08-30T11:19:42.148Z"
   },
   {
    "duration": 16,
    "start_time": "2022-08-30T11:19:42.810Z"
   },
   {
    "duration": 9590,
    "start_time": "2022-08-30T11:19:42.828Z"
   },
   {
    "duration": 3,
    "start_time": "2022-08-30T11:19:52.420Z"
   },
   {
    "duration": 24,
    "start_time": "2022-08-30T11:19:52.425Z"
   },
   {
    "duration": 380,
    "start_time": "2022-08-30T11:19:52.451Z"
   },
   {
    "duration": 16,
    "start_time": "2022-08-30T11:19:52.833Z"
   },
   {
    "duration": 211,
    "start_time": "2022-08-30T11:19:52.851Z"
   },
   {
    "duration": 10,
    "start_time": "2022-08-30T11:19:53.064Z"
   },
   {
    "duration": 98,
    "start_time": "2022-08-30T11:19:53.076Z"
   },
   {
    "duration": 0,
    "start_time": "2022-08-30T11:19:53.177Z"
   },
   {
    "duration": 0,
    "start_time": "2022-08-30T11:19:53.178Z"
   },
   {
    "duration": 0,
    "start_time": "2022-08-30T11:19:53.179Z"
   },
   {
    "duration": 0,
    "start_time": "2022-08-30T11:19:53.180Z"
   },
   {
    "duration": 0,
    "start_time": "2022-08-30T11:19:53.181Z"
   },
   {
    "duration": 0,
    "start_time": "2022-08-30T11:19:53.201Z"
   },
   {
    "duration": 0,
    "start_time": "2022-08-30T11:19:53.202Z"
   },
   {
    "duration": 0,
    "start_time": "2022-08-30T11:19:53.203Z"
   },
   {
    "duration": 0,
    "start_time": "2022-08-30T11:19:53.205Z"
   },
   {
    "duration": 0,
    "start_time": "2022-08-30T11:19:53.206Z"
   },
   {
    "duration": 0,
    "start_time": "2022-08-30T11:19:53.207Z"
   },
   {
    "duration": 1,
    "start_time": "2022-08-30T11:19:53.208Z"
   },
   {
    "duration": 0,
    "start_time": "2022-08-30T11:19:53.210Z"
   },
   {
    "duration": 10,
    "start_time": "2022-08-30T11:20:12.639Z"
   },
   {
    "duration": 25,
    "start_time": "2022-08-30T11:20:19.381Z"
   },
   {
    "duration": 25,
    "start_time": "2022-08-30T11:20:25.963Z"
   },
   {
    "duration": 55,
    "start_time": "2022-08-30T11:20:29.283Z"
   },
   {
    "duration": 11,
    "start_time": "2022-08-30T11:21:03.618Z"
   },
   {
    "duration": 24,
    "start_time": "2022-08-30T11:21:04.381Z"
   },
   {
    "duration": 55,
    "start_time": "2022-08-30T11:21:08.953Z"
   },
   {
    "duration": 17,
    "start_time": "2022-08-30T11:21:18.098Z"
   },
   {
    "duration": 21,
    "start_time": "2022-08-30T11:21:30.813Z"
   },
   {
    "duration": 1110,
    "start_time": "2022-08-30T11:22:18.839Z"
   },
   {
    "duration": 66,
    "start_time": "2022-08-30T11:22:19.951Z"
   },
   {
    "duration": 19,
    "start_time": "2022-08-30T11:22:20.019Z"
   },
   {
    "duration": 13,
    "start_time": "2022-08-30T11:22:20.040Z"
   },
   {
    "duration": 28,
    "start_time": "2022-08-30T11:22:20.056Z"
   },
   {
    "duration": 21,
    "start_time": "2022-08-30T11:22:20.086Z"
   },
   {
    "duration": 38,
    "start_time": "2022-08-30T11:22:20.110Z"
   },
   {
    "duration": 12,
    "start_time": "2022-08-30T11:22:20.150Z"
   },
   {
    "duration": 28,
    "start_time": "2022-08-30T11:22:20.164Z"
   },
   {
    "duration": 18,
    "start_time": "2022-08-30T11:22:20.194Z"
   },
   {
    "duration": 6,
    "start_time": "2022-08-30T11:22:20.214Z"
   },
   {
    "duration": 11,
    "start_time": "2022-08-30T11:22:20.222Z"
   },
   {
    "duration": 8,
    "start_time": "2022-08-30T11:22:20.235Z"
   },
   {
    "duration": 25,
    "start_time": "2022-08-30T11:22:20.246Z"
   },
   {
    "duration": 36,
    "start_time": "2022-08-30T11:22:20.273Z"
   },
   {
    "duration": 9,
    "start_time": "2022-08-30T11:22:20.311Z"
   },
   {
    "duration": 25,
    "start_time": "2022-08-30T11:22:20.322Z"
   },
   {
    "duration": 229,
    "start_time": "2022-08-30T11:22:20.349Z"
   },
   {
    "duration": 206,
    "start_time": "2022-08-30T11:22:20.579Z"
   },
   {
    "duration": 15,
    "start_time": "2022-08-30T11:22:20.787Z"
   },
   {
    "duration": 15,
    "start_time": "2022-08-30T11:22:20.804Z"
   },
   {
    "duration": 231,
    "start_time": "2022-08-30T11:22:20.820Z"
   },
   {
    "duration": 21,
    "start_time": "2022-08-30T11:22:21.053Z"
   },
   {
    "duration": 407,
    "start_time": "2022-08-30T11:22:21.075Z"
   },
   {
    "duration": 21,
    "start_time": "2022-08-30T11:22:21.485Z"
   },
   {
    "duration": 302,
    "start_time": "2022-08-30T11:22:21.509Z"
   },
   {
    "duration": 7,
    "start_time": "2022-08-30T11:22:21.814Z"
   },
   {
    "duration": 727,
    "start_time": "2022-08-30T11:22:21.823Z"
   },
   {
    "duration": 16,
    "start_time": "2022-08-30T11:22:22.552Z"
   },
   {
    "duration": 9749,
    "start_time": "2022-08-30T11:22:22.570Z"
   },
   {
    "duration": 3,
    "start_time": "2022-08-30T11:22:32.320Z"
   },
   {
    "duration": 7,
    "start_time": "2022-08-30T11:22:32.325Z"
   },
   {
    "duration": 358,
    "start_time": "2022-08-30T11:22:32.334Z"
   },
   {
    "duration": 19,
    "start_time": "2022-08-30T11:22:32.694Z"
   },
   {
    "duration": 197,
    "start_time": "2022-08-30T11:22:32.715Z"
   },
   {
    "duration": 10,
    "start_time": "2022-08-30T11:22:32.913Z"
   },
   {
    "duration": 107,
    "start_time": "2022-08-30T11:22:32.925Z"
   },
   {
    "duration": 0,
    "start_time": "2022-08-30T11:22:33.034Z"
   },
   {
    "duration": 1,
    "start_time": "2022-08-30T11:22:33.035Z"
   },
   {
    "duration": 0,
    "start_time": "2022-08-30T11:22:33.036Z"
   },
   {
    "duration": 0,
    "start_time": "2022-08-30T11:22:33.037Z"
   },
   {
    "duration": 0,
    "start_time": "2022-08-30T11:22:33.038Z"
   },
   {
    "duration": 0,
    "start_time": "2022-08-30T11:22:33.039Z"
   },
   {
    "duration": 0,
    "start_time": "2022-08-30T11:22:33.040Z"
   },
   {
    "duration": 0,
    "start_time": "2022-08-30T11:22:33.041Z"
   },
   {
    "duration": 0,
    "start_time": "2022-08-30T11:22:33.042Z"
   },
   {
    "duration": 0,
    "start_time": "2022-08-30T11:22:33.043Z"
   },
   {
    "duration": 0,
    "start_time": "2022-08-30T11:22:33.044Z"
   },
   {
    "duration": 0,
    "start_time": "2022-08-30T11:22:33.046Z"
   },
   {
    "duration": 0,
    "start_time": "2022-08-30T11:22:33.047Z"
   },
   {
    "duration": 0,
    "start_time": "2022-08-30T11:22:33.048Z"
   },
   {
    "duration": 72,
    "start_time": "2022-08-30T11:22:43.160Z"
   },
   {
    "duration": 23,
    "start_time": "2022-08-30T11:22:47.234Z"
   },
   {
    "duration": 21,
    "start_time": "2022-08-30T11:23:00.215Z"
   },
   {
    "duration": 14,
    "start_time": "2022-08-30T11:23:05.114Z"
   },
   {
    "duration": 12,
    "start_time": "2022-08-30T11:24:15.785Z"
   },
   {
    "duration": 19,
    "start_time": "2022-08-30T11:25:18.908Z"
   },
   {
    "duration": 202,
    "start_time": "2022-08-30T11:25:20.354Z"
   },
   {
    "duration": 228,
    "start_time": "2022-08-30T11:25:33.754Z"
   },
   {
    "duration": 26,
    "start_time": "2022-08-30T11:26:33.097Z"
   },
   {
    "duration": 36,
    "start_time": "2022-08-30T11:26:45.473Z"
   },
   {
    "duration": 11,
    "start_time": "2022-08-30T11:26:56.605Z"
   },
   {
    "duration": 1501,
    "start_time": "2022-08-30T11:27:21.681Z"
   },
   {
    "duration": 63,
    "start_time": "2022-08-30T11:27:23.184Z"
   },
   {
    "duration": 15,
    "start_time": "2022-08-30T11:27:23.249Z"
   },
   {
    "duration": 16,
    "start_time": "2022-08-30T11:27:23.266Z"
   },
   {
    "duration": 18,
    "start_time": "2022-08-30T11:27:23.284Z"
   },
   {
    "duration": 8,
    "start_time": "2022-08-30T11:27:23.304Z"
   },
   {
    "duration": 24,
    "start_time": "2022-08-30T11:27:23.313Z"
   },
   {
    "duration": 13,
    "start_time": "2022-08-30T11:27:23.339Z"
   },
   {
    "duration": 22,
    "start_time": "2022-08-30T11:27:23.353Z"
   },
   {
    "duration": 33,
    "start_time": "2022-08-30T11:27:23.377Z"
   },
   {
    "duration": 6,
    "start_time": "2022-08-30T11:27:23.412Z"
   },
   {
    "duration": 7,
    "start_time": "2022-08-30T11:27:23.419Z"
   },
   {
    "duration": 5,
    "start_time": "2022-08-30T11:27:23.428Z"
   },
   {
    "duration": 15,
    "start_time": "2022-08-30T11:27:23.437Z"
   },
   {
    "duration": 14,
    "start_time": "2022-08-30T11:27:23.454Z"
   },
   {
    "duration": 40,
    "start_time": "2022-08-30T11:27:23.469Z"
   },
   {
    "duration": 21,
    "start_time": "2022-08-30T11:27:23.510Z"
   },
   {
    "duration": 215,
    "start_time": "2022-08-30T11:27:23.532Z"
   },
   {
    "duration": 143,
    "start_time": "2022-08-30T11:27:23.749Z"
   },
   {
    "duration": 7,
    "start_time": "2022-08-30T11:27:23.900Z"
   },
   {
    "duration": 19,
    "start_time": "2022-08-30T11:27:23.909Z"
   },
   {
    "duration": 204,
    "start_time": "2022-08-30T11:27:23.930Z"
   },
   {
    "duration": 16,
    "start_time": "2022-08-30T11:27:24.136Z"
   },
   {
    "duration": 367,
    "start_time": "2022-08-30T11:27:24.154Z"
   },
   {
    "duration": 6,
    "start_time": "2022-08-30T11:27:24.522Z"
   },
   {
    "duration": 265,
    "start_time": "2022-08-30T11:27:24.530Z"
   },
   {
    "duration": 7,
    "start_time": "2022-08-30T11:27:24.799Z"
   },
   {
    "duration": 689,
    "start_time": "2022-08-30T11:27:24.808Z"
   },
   {
    "duration": 14,
    "start_time": "2022-08-30T11:27:25.500Z"
   },
   {
    "duration": 8787,
    "start_time": "2022-08-30T11:27:25.515Z"
   },
   {
    "duration": 3,
    "start_time": "2022-08-30T11:27:34.304Z"
   },
   {
    "duration": 12,
    "start_time": "2022-08-30T11:27:34.308Z"
   },
   {
    "duration": 380,
    "start_time": "2022-08-30T11:27:34.322Z"
   },
   {
    "duration": 22,
    "start_time": "2022-08-30T11:27:34.704Z"
   },
   {
    "duration": 215,
    "start_time": "2022-08-30T11:27:34.727Z"
   },
   {
    "duration": 8,
    "start_time": "2022-08-30T11:27:34.944Z"
   },
   {
    "duration": 88,
    "start_time": "2022-08-30T11:27:34.954Z"
   },
   {
    "duration": 22,
    "start_time": "2022-08-30T11:27:35.044Z"
   },
   {
    "duration": 37,
    "start_time": "2022-08-30T11:27:35.068Z"
   },
   {
    "duration": 20,
    "start_time": "2022-08-30T11:27:35.107Z"
   },
   {
    "duration": 19,
    "start_time": "2022-08-30T11:27:35.131Z"
   },
   {
    "duration": 239,
    "start_time": "2022-08-30T11:27:35.152Z"
   },
   {
    "duration": 3698,
    "start_time": "2022-08-30T11:27:35.393Z"
   },
   {
    "duration": 11,
    "start_time": "2022-08-30T11:27:39.099Z"
   },
   {
    "duration": 91,
    "start_time": "2022-08-30T11:27:39.111Z"
   },
   {
    "duration": 23,
    "start_time": "2022-08-30T11:27:39.203Z"
   },
   {
    "duration": 26,
    "start_time": "2022-08-30T11:27:39.227Z"
   },
   {
    "duration": 14,
    "start_time": "2022-08-30T11:27:39.255Z"
   },
   {
    "duration": 409,
    "start_time": "2022-08-30T11:27:39.271Z"
   },
   {
    "duration": 29,
    "start_time": "2022-08-30T11:27:39.682Z"
   },
   {
    "duration": 21,
    "start_time": "2022-08-30T11:27:39.712Z"
   },
   {
    "duration": 9,
    "start_time": "2022-08-30T11:28:47.223Z"
   },
   {
    "duration": 14,
    "start_time": "2022-08-30T11:30:59.843Z"
   },
   {
    "duration": 13,
    "start_time": "2022-08-30T11:31:14.672Z"
   },
   {
    "duration": 14,
    "start_time": "2022-08-30T11:31:27.374Z"
   },
   {
    "duration": 106,
    "start_time": "2022-08-30T11:31:43.582Z"
   },
   {
    "duration": 1076,
    "start_time": "2022-08-30T11:31:50.352Z"
   },
   {
    "duration": 76,
    "start_time": "2022-08-30T11:31:51.431Z"
   },
   {
    "duration": 19,
    "start_time": "2022-08-30T11:31:51.509Z"
   },
   {
    "duration": 21,
    "start_time": "2022-08-30T11:31:51.530Z"
   },
   {
    "duration": 18,
    "start_time": "2022-08-30T11:31:51.554Z"
   },
   {
    "duration": 35,
    "start_time": "2022-08-30T11:31:51.574Z"
   },
   {
    "duration": 106,
    "start_time": "2022-08-30T11:31:51.611Z"
   },
   {
    "duration": 11,
    "start_time": "2022-08-30T11:31:51.719Z"
   },
   {
    "duration": 27,
    "start_time": "2022-08-30T11:31:51.732Z"
   },
   {
    "duration": 26,
    "start_time": "2022-08-30T11:31:51.761Z"
   },
   {
    "duration": 12,
    "start_time": "2022-08-30T11:31:51.788Z"
   },
   {
    "duration": 5,
    "start_time": "2022-08-30T11:31:51.801Z"
   },
   {
    "duration": 7,
    "start_time": "2022-08-30T11:31:51.808Z"
   },
   {
    "duration": 20,
    "start_time": "2022-08-30T11:31:51.819Z"
   },
   {
    "duration": 16,
    "start_time": "2022-08-30T11:31:51.841Z"
   },
   {
    "duration": 42,
    "start_time": "2022-08-30T11:31:51.859Z"
   },
   {
    "duration": 21,
    "start_time": "2022-08-30T11:31:51.903Z"
   },
   {
    "duration": 225,
    "start_time": "2022-08-30T11:31:51.925Z"
   },
   {
    "duration": 139,
    "start_time": "2022-08-30T11:31:52.152Z"
   },
   {
    "duration": 11,
    "start_time": "2022-08-30T11:31:52.293Z"
   },
   {
    "duration": 10,
    "start_time": "2022-08-30T11:31:52.305Z"
   },
   {
    "duration": 217,
    "start_time": "2022-08-30T11:31:52.316Z"
   },
   {
    "duration": 19,
    "start_time": "2022-08-30T11:31:52.534Z"
   },
   {
    "duration": 384,
    "start_time": "2022-08-30T11:31:52.555Z"
   },
   {
    "duration": 8,
    "start_time": "2022-08-30T11:31:52.941Z"
   },
   {
    "duration": 276,
    "start_time": "2022-08-30T11:31:52.951Z"
   },
   {
    "duration": 8,
    "start_time": "2022-08-30T11:31:53.229Z"
   },
   {
    "duration": 687,
    "start_time": "2022-08-30T11:31:53.239Z"
   },
   {
    "duration": 21,
    "start_time": "2022-08-30T11:31:53.928Z"
   },
   {
    "duration": 8700,
    "start_time": "2022-08-30T11:31:53.951Z"
   },
   {
    "duration": 3,
    "start_time": "2022-08-30T11:32:02.652Z"
   },
   {
    "duration": 55,
    "start_time": "2022-08-30T11:32:02.656Z"
   },
   {
    "duration": 359,
    "start_time": "2022-08-30T11:32:02.713Z"
   },
   {
    "duration": 16,
    "start_time": "2022-08-30T11:32:03.074Z"
   },
   {
    "duration": 209,
    "start_time": "2022-08-30T11:32:03.100Z"
   },
   {
    "duration": 9,
    "start_time": "2022-08-30T11:32:03.310Z"
   },
   {
    "duration": 63,
    "start_time": "2022-08-30T11:32:03.321Z"
   },
   {
    "duration": 31,
    "start_time": "2022-08-30T11:32:03.385Z"
   },
   {
    "duration": 19,
    "start_time": "2022-08-30T11:32:03.417Z"
   },
   {
    "duration": 18,
    "start_time": "2022-08-30T11:32:03.438Z"
   },
   {
    "duration": 41,
    "start_time": "2022-08-30T11:32:03.460Z"
   },
   {
    "duration": 218,
    "start_time": "2022-08-30T11:32:03.503Z"
   },
   {
    "duration": 2444,
    "start_time": "2022-08-30T11:32:03.723Z"
   },
   {
    "duration": 10,
    "start_time": "2022-08-30T11:32:06.169Z"
   },
   {
    "duration": 95,
    "start_time": "2022-08-30T11:32:06.181Z"
   },
   {
    "duration": 35,
    "start_time": "2022-08-30T11:32:06.278Z"
   },
   {
    "duration": 31,
    "start_time": "2022-08-30T11:32:06.315Z"
   },
   {
    "duration": 13,
    "start_time": "2022-08-30T11:32:06.348Z"
   },
   {
    "duration": 412,
    "start_time": "2022-08-30T11:32:06.363Z"
   },
   {
    "duration": 30,
    "start_time": "2022-08-30T11:32:06.777Z"
   },
   {
    "duration": 19,
    "start_time": "2022-08-30T11:32:06.809Z"
   },
   {
    "duration": 12,
    "start_time": "2022-08-30T11:32:06.830Z"
   },
   {
    "duration": 18,
    "start_time": "2022-08-30T11:33:46.623Z"
   },
   {
    "duration": 17,
    "start_time": "2022-08-30T11:34:05.173Z"
   },
   {
    "duration": 107,
    "start_time": "2022-08-30T11:35:00.583Z"
   },
   {
    "duration": 13,
    "start_time": "2022-08-30T11:35:43.733Z"
   },
   {
    "duration": 1092,
    "start_time": "2022-08-30T11:35:51.603Z"
   },
   {
    "duration": 72,
    "start_time": "2022-08-30T11:35:52.697Z"
   },
   {
    "duration": 15,
    "start_time": "2022-08-30T11:35:52.771Z"
   },
   {
    "duration": 12,
    "start_time": "2022-08-30T11:35:52.788Z"
   },
   {
    "duration": 18,
    "start_time": "2022-08-30T11:35:52.802Z"
   },
   {
    "duration": 8,
    "start_time": "2022-08-30T11:35:52.821Z"
   },
   {
    "duration": 22,
    "start_time": "2022-08-30T11:35:52.831Z"
   },
   {
    "duration": 11,
    "start_time": "2022-08-30T11:35:52.855Z"
   },
   {
    "duration": 40,
    "start_time": "2022-08-30T11:35:52.868Z"
   },
   {
    "duration": 15,
    "start_time": "2022-08-30T11:35:52.911Z"
   },
   {
    "duration": 4,
    "start_time": "2022-08-30T11:35:52.928Z"
   },
   {
    "duration": 6,
    "start_time": "2022-08-30T11:35:52.933Z"
   },
   {
    "duration": 5,
    "start_time": "2022-08-30T11:35:52.940Z"
   },
   {
    "duration": 19,
    "start_time": "2022-08-30T11:35:52.946Z"
   },
   {
    "duration": 47,
    "start_time": "2022-08-30T11:35:52.966Z"
   },
   {
    "duration": 9,
    "start_time": "2022-08-30T11:35:53.015Z"
   },
   {
    "duration": 17,
    "start_time": "2022-08-30T11:35:53.026Z"
   },
   {
    "duration": 236,
    "start_time": "2022-08-30T11:35:53.044Z"
   },
   {
    "duration": 134,
    "start_time": "2022-08-30T11:35:53.282Z"
   },
   {
    "duration": 7,
    "start_time": "2022-08-30T11:35:53.418Z"
   },
   {
    "duration": 9,
    "start_time": "2022-08-30T11:35:53.427Z"
   },
   {
    "duration": 213,
    "start_time": "2022-08-30T11:35:53.437Z"
   },
   {
    "duration": 18,
    "start_time": "2022-08-30T11:35:53.652Z"
   },
   {
    "duration": 364,
    "start_time": "2022-08-30T11:35:53.672Z"
   },
   {
    "duration": 6,
    "start_time": "2022-08-30T11:35:54.038Z"
   },
   {
    "duration": 260,
    "start_time": "2022-08-30T11:35:54.046Z"
   },
   {
    "duration": 7,
    "start_time": "2022-08-30T11:35:54.308Z"
   },
   {
    "duration": 693,
    "start_time": "2022-08-30T11:35:54.318Z"
   },
   {
    "duration": 16,
    "start_time": "2022-08-30T11:35:55.012Z"
   },
   {
    "duration": 8916,
    "start_time": "2022-08-30T11:35:55.030Z"
   },
   {
    "duration": 3,
    "start_time": "2022-08-30T11:36:03.948Z"
   },
   {
    "duration": 50,
    "start_time": "2022-08-30T11:36:03.952Z"
   },
   {
    "duration": 738,
    "start_time": "2022-08-30T11:36:04.004Z"
   },
   {
    "duration": 68,
    "start_time": "2022-08-30T11:36:04.744Z"
   },
   {
    "duration": 219,
    "start_time": "2022-08-30T11:36:04.813Z"
   },
   {
    "duration": 9,
    "start_time": "2022-08-30T11:36:05.034Z"
   },
   {
    "duration": 82,
    "start_time": "2022-08-30T11:36:05.045Z"
   },
   {
    "duration": 19,
    "start_time": "2022-08-30T11:36:05.128Z"
   },
   {
    "duration": 17,
    "start_time": "2022-08-30T11:36:05.149Z"
   },
   {
    "duration": 40,
    "start_time": "2022-08-30T11:36:05.168Z"
   },
   {
    "duration": 18,
    "start_time": "2022-08-30T11:36:05.210Z"
   },
   {
    "duration": 233,
    "start_time": "2022-08-30T11:36:05.230Z"
   },
   {
    "duration": 2518,
    "start_time": "2022-08-30T11:36:05.464Z"
   },
   {
    "duration": 10,
    "start_time": "2022-08-30T11:36:07.984Z"
   },
   {
    "duration": 99,
    "start_time": "2022-08-30T11:36:08.001Z"
   },
   {
    "duration": 28,
    "start_time": "2022-08-30T11:36:08.102Z"
   },
   {
    "duration": 31,
    "start_time": "2022-08-30T11:36:08.132Z"
   },
   {
    "duration": 36,
    "start_time": "2022-08-30T11:36:08.165Z"
   },
   {
    "duration": 120,
    "start_time": "2022-08-30T11:36:08.203Z"
   },
   {
    "duration": 0,
    "start_time": "2022-08-30T11:36:08.325Z"
   },
   {
    "duration": 0,
    "start_time": "2022-08-30T11:36:08.326Z"
   },
   {
    "duration": 33,
    "start_time": "2022-08-30T11:37:55.074Z"
   },
   {
    "duration": 14,
    "start_time": "2022-08-30T11:38:22.235Z"
   },
   {
    "duration": 51,
    "start_time": "2022-08-30T11:39:21.314Z"
   },
   {
    "duration": 64,
    "start_time": "2022-08-30T11:39:53.815Z"
   },
   {
    "duration": 42,
    "start_time": "2022-08-30T11:40:09.925Z"
   },
   {
    "duration": 27,
    "start_time": "2022-08-30T11:40:39.956Z"
   },
   {
    "duration": 1187,
    "start_time": "2022-08-30T11:40:50.693Z"
   },
   {
    "duration": 67,
    "start_time": "2022-08-30T11:40:51.883Z"
   },
   {
    "duration": 15,
    "start_time": "2022-08-30T11:40:51.952Z"
   },
   {
    "duration": 20,
    "start_time": "2022-08-30T11:40:51.969Z"
   },
   {
    "duration": 22,
    "start_time": "2022-08-30T11:40:51.991Z"
   },
   {
    "duration": 9,
    "start_time": "2022-08-30T11:40:52.014Z"
   },
   {
    "duration": 23,
    "start_time": "2022-08-30T11:40:52.025Z"
   },
   {
    "duration": 19,
    "start_time": "2022-08-30T11:40:52.050Z"
   },
   {
    "duration": 27,
    "start_time": "2022-08-30T11:40:52.071Z"
   },
   {
    "duration": 17,
    "start_time": "2022-08-30T11:40:52.100Z"
   },
   {
    "duration": 5,
    "start_time": "2022-08-30T11:40:52.118Z"
   },
   {
    "duration": 8,
    "start_time": "2022-08-30T11:40:52.125Z"
   },
   {
    "duration": 12,
    "start_time": "2022-08-30T11:40:52.134Z"
   },
   {
    "duration": 18,
    "start_time": "2022-08-30T11:40:52.149Z"
   },
   {
    "duration": 33,
    "start_time": "2022-08-30T11:40:52.168Z"
   },
   {
    "duration": 10,
    "start_time": "2022-08-30T11:40:52.203Z"
   },
   {
    "duration": 19,
    "start_time": "2022-08-30T11:40:52.214Z"
   },
   {
    "duration": 233,
    "start_time": "2022-08-30T11:40:52.234Z"
   },
   {
    "duration": 144,
    "start_time": "2022-08-30T11:40:52.468Z"
   },
   {
    "duration": 8,
    "start_time": "2022-08-30T11:40:52.613Z"
   },
   {
    "duration": 28,
    "start_time": "2022-08-30T11:40:52.623Z"
   },
   {
    "duration": 212,
    "start_time": "2022-08-30T11:40:52.653Z"
   },
   {
    "duration": 18,
    "start_time": "2022-08-30T11:40:52.867Z"
   },
   {
    "duration": 364,
    "start_time": "2022-08-30T11:40:52.887Z"
   },
   {
    "duration": 7,
    "start_time": "2022-08-30T11:40:53.253Z"
   },
   {
    "duration": 259,
    "start_time": "2022-08-30T11:40:53.261Z"
   },
   {
    "duration": 7,
    "start_time": "2022-08-30T11:40:53.521Z"
   },
   {
    "duration": 685,
    "start_time": "2022-08-30T11:40:53.529Z"
   },
   {
    "duration": 15,
    "start_time": "2022-08-30T11:40:54.215Z"
   },
   {
    "duration": 8643,
    "start_time": "2022-08-30T11:40:54.232Z"
   },
   {
    "duration": 2,
    "start_time": "2022-08-30T11:41:02.877Z"
   },
   {
    "duration": 9,
    "start_time": "2022-08-30T11:41:02.880Z"
   },
   {
    "duration": 354,
    "start_time": "2022-08-30T11:41:02.891Z"
   },
   {
    "duration": 15,
    "start_time": "2022-08-30T11:41:03.247Z"
   },
   {
    "duration": 205,
    "start_time": "2022-08-30T11:41:03.263Z"
   },
   {
    "duration": 9,
    "start_time": "2022-08-30T11:41:03.470Z"
   },
   {
    "duration": 77,
    "start_time": "2022-08-30T11:41:03.480Z"
   },
   {
    "duration": 23,
    "start_time": "2022-08-30T11:41:03.559Z"
   },
   {
    "duration": 32,
    "start_time": "2022-08-30T11:41:03.584Z"
   },
   {
    "duration": 19,
    "start_time": "2022-08-30T11:41:03.618Z"
   },
   {
    "duration": 20,
    "start_time": "2022-08-30T11:41:03.642Z"
   },
   {
    "duration": 274,
    "start_time": "2022-08-30T11:41:03.664Z"
   },
   {
    "duration": 2244,
    "start_time": "2022-08-30T11:41:03.940Z"
   },
   {
    "duration": 9,
    "start_time": "2022-08-30T11:41:06.185Z"
   },
   {
    "duration": 83,
    "start_time": "2022-08-30T11:41:06.200Z"
   },
   {
    "duration": 30,
    "start_time": "2022-08-30T11:41:06.286Z"
   },
   {
    "duration": 34,
    "start_time": "2022-08-30T11:41:06.318Z"
   },
   {
    "duration": 18,
    "start_time": "2022-08-30T11:41:06.353Z"
   },
   {
    "duration": 68,
    "start_time": "2022-08-30T11:41:06.373Z"
   },
   {
    "duration": 129,
    "start_time": "2022-08-30T11:41:06.443Z"
   },
   {
    "duration": 0,
    "start_time": "2022-08-30T11:41:06.574Z"
   },
   {
    "duration": 0,
    "start_time": "2022-08-30T11:41:06.575Z"
   },
   {
    "duration": 17,
    "start_time": "2022-08-30T11:41:25.187Z"
   },
   {
    "duration": 41,
    "start_time": "2022-08-30T11:43:46.498Z"
   },
   {
    "duration": 228,
    "start_time": "2022-08-30T11:44:39.299Z"
   },
   {
    "duration": 1212,
    "start_time": "2022-08-30T11:44:45.382Z"
   },
   {
    "duration": 67,
    "start_time": "2022-08-30T11:44:46.596Z"
   },
   {
    "duration": 14,
    "start_time": "2022-08-30T11:44:46.665Z"
   },
   {
    "duration": 11,
    "start_time": "2022-08-30T11:44:46.681Z"
   },
   {
    "duration": 14,
    "start_time": "2022-08-30T11:44:46.694Z"
   },
   {
    "duration": 7,
    "start_time": "2022-08-30T11:44:46.710Z"
   },
   {
    "duration": 18,
    "start_time": "2022-08-30T11:44:46.718Z"
   },
   {
    "duration": 10,
    "start_time": "2022-08-30T11:44:46.738Z"
   },
   {
    "duration": 26,
    "start_time": "2022-08-30T11:44:46.750Z"
   },
   {
    "duration": 30,
    "start_time": "2022-08-30T11:44:46.778Z"
   },
   {
    "duration": 4,
    "start_time": "2022-08-30T11:44:46.810Z"
   },
   {
    "duration": 6,
    "start_time": "2022-08-30T11:44:46.816Z"
   },
   {
    "duration": 8,
    "start_time": "2022-08-30T11:44:46.823Z"
   },
   {
    "duration": 21,
    "start_time": "2022-08-30T11:44:46.834Z"
   },
   {
    "duration": 13,
    "start_time": "2022-08-30T11:44:46.857Z"
   },
   {
    "duration": 33,
    "start_time": "2022-08-30T11:44:46.872Z"
   },
   {
    "duration": 22,
    "start_time": "2022-08-30T11:44:46.907Z"
   },
   {
    "duration": 221,
    "start_time": "2022-08-30T11:44:46.930Z"
   },
   {
    "duration": 143,
    "start_time": "2022-08-30T11:44:47.153Z"
   },
   {
    "duration": 7,
    "start_time": "2022-08-30T11:44:47.300Z"
   },
   {
    "duration": 9,
    "start_time": "2022-08-30T11:44:47.309Z"
   },
   {
    "duration": 216,
    "start_time": "2022-08-30T11:44:47.320Z"
   },
   {
    "duration": 18,
    "start_time": "2022-08-30T11:44:47.538Z"
   },
   {
    "duration": 370,
    "start_time": "2022-08-30T11:44:47.557Z"
   },
   {
    "duration": 6,
    "start_time": "2022-08-30T11:44:47.929Z"
   },
   {
    "duration": 260,
    "start_time": "2022-08-30T11:44:47.937Z"
   },
   {
    "duration": 7,
    "start_time": "2022-08-30T11:44:48.201Z"
   },
   {
    "duration": 674,
    "start_time": "2022-08-30T11:44:48.210Z"
   },
   {
    "duration": 24,
    "start_time": "2022-08-30T11:44:48.886Z"
   },
   {
    "duration": 8543,
    "start_time": "2022-08-30T11:44:48.911Z"
   },
   {
    "duration": 2,
    "start_time": "2022-08-30T11:44:57.457Z"
   },
   {
    "duration": 19,
    "start_time": "2022-08-30T11:44:57.460Z"
   },
   {
    "duration": 371,
    "start_time": "2022-08-30T11:44:57.481Z"
   },
   {
    "duration": 15,
    "start_time": "2022-08-30T11:44:57.854Z"
   },
   {
    "duration": 217,
    "start_time": "2022-08-30T11:44:57.871Z"
   },
   {
    "duration": 13,
    "start_time": "2022-08-30T11:44:58.090Z"
   },
   {
    "duration": 81,
    "start_time": "2022-08-30T11:44:58.105Z"
   },
   {
    "duration": 23,
    "start_time": "2022-08-30T11:44:58.189Z"
   },
   {
    "duration": 41,
    "start_time": "2022-08-30T11:44:58.214Z"
   },
   {
    "duration": 28,
    "start_time": "2022-08-30T11:44:58.257Z"
   },
   {
    "duration": 23,
    "start_time": "2022-08-30T11:44:58.304Z"
   },
   {
    "duration": 238,
    "start_time": "2022-08-30T11:44:58.328Z"
   },
   {
    "duration": 2424,
    "start_time": "2022-08-30T11:44:58.567Z"
   },
   {
    "duration": 14,
    "start_time": "2022-08-30T11:45:00.993Z"
   },
   {
    "duration": 137,
    "start_time": "2022-08-30T11:45:01.009Z"
   },
   {
    "duration": 25,
    "start_time": "2022-08-30T11:45:01.148Z"
   },
   {
    "duration": 66,
    "start_time": "2022-08-30T11:45:01.175Z"
   },
   {
    "duration": 23,
    "start_time": "2022-08-30T11:45:01.244Z"
   },
   {
    "duration": 54,
    "start_time": "2022-08-30T11:45:01.269Z"
   },
   {
    "duration": 252,
    "start_time": "2022-08-30T11:49:49.371Z"
   },
   {
    "duration": 20,
    "start_time": "2022-08-30T11:50:01.395Z"
   },
   {
    "duration": 1043,
    "start_time": "2022-08-30T11:50:15.844Z"
   },
   {
    "duration": 66,
    "start_time": "2022-08-30T11:50:16.889Z"
   },
   {
    "duration": 15,
    "start_time": "2022-08-30T11:50:16.956Z"
   },
   {
    "duration": 18,
    "start_time": "2022-08-30T11:50:16.973Z"
   },
   {
    "duration": 38,
    "start_time": "2022-08-30T11:50:16.993Z"
   },
   {
    "duration": 11,
    "start_time": "2022-08-30T11:50:17.032Z"
   },
   {
    "duration": 33,
    "start_time": "2022-08-30T11:50:17.044Z"
   },
   {
    "duration": 21,
    "start_time": "2022-08-30T11:50:17.078Z"
   },
   {
    "duration": 33,
    "start_time": "2022-08-30T11:50:17.100Z"
   },
   {
    "duration": 16,
    "start_time": "2022-08-30T11:50:17.136Z"
   },
   {
    "duration": 6,
    "start_time": "2022-08-30T11:50:17.154Z"
   },
   {
    "duration": 9,
    "start_time": "2022-08-30T11:50:17.161Z"
   },
   {
    "duration": 14,
    "start_time": "2022-08-30T11:50:17.171Z"
   },
   {
    "duration": 41,
    "start_time": "2022-08-30T11:50:17.186Z"
   },
   {
    "duration": 14,
    "start_time": "2022-08-30T11:50:17.228Z"
   },
   {
    "duration": 31,
    "start_time": "2022-08-30T11:50:17.243Z"
   },
   {
    "duration": 40,
    "start_time": "2022-08-30T11:50:17.275Z"
   },
   {
    "duration": 218,
    "start_time": "2022-08-30T11:50:17.317Z"
   },
   {
    "duration": 141,
    "start_time": "2022-08-30T11:50:17.537Z"
   },
   {
    "duration": 7,
    "start_time": "2022-08-30T11:50:17.680Z"
   },
   {
    "duration": 20,
    "start_time": "2022-08-30T11:50:17.688Z"
   },
   {
    "duration": 212,
    "start_time": "2022-08-30T11:50:17.710Z"
   },
   {
    "duration": 18,
    "start_time": "2022-08-30T11:50:17.924Z"
   },
   {
    "duration": 360,
    "start_time": "2022-08-30T11:50:17.944Z"
   },
   {
    "duration": 7,
    "start_time": "2022-08-30T11:50:18.305Z"
   },
   {
    "duration": 256,
    "start_time": "2022-08-30T11:50:18.313Z"
   },
   {
    "duration": 6,
    "start_time": "2022-08-30T11:50:18.571Z"
   },
   {
    "duration": 638,
    "start_time": "2022-08-30T11:50:18.580Z"
   },
   {
    "duration": 14,
    "start_time": "2022-08-30T11:50:19.220Z"
   },
   {
    "duration": 8615,
    "start_time": "2022-08-30T11:50:19.235Z"
   },
   {
    "duration": 2,
    "start_time": "2022-08-30T11:50:27.852Z"
   },
   {
    "duration": 15,
    "start_time": "2022-08-30T11:50:27.856Z"
   },
   {
    "duration": 355,
    "start_time": "2022-08-30T11:50:27.873Z"
   },
   {
    "duration": 15,
    "start_time": "2022-08-30T11:50:28.230Z"
   },
   {
    "duration": 198,
    "start_time": "2022-08-30T11:50:28.247Z"
   },
   {
    "duration": 9,
    "start_time": "2022-08-30T11:50:28.447Z"
   },
   {
    "duration": 71,
    "start_time": "2022-08-30T11:50:28.458Z"
   },
   {
    "duration": 22,
    "start_time": "2022-08-30T11:50:28.530Z"
   },
   {
    "duration": 19,
    "start_time": "2022-08-30T11:50:28.554Z"
   },
   {
    "duration": 43,
    "start_time": "2022-08-30T11:50:28.574Z"
   },
   {
    "duration": 17,
    "start_time": "2022-08-30T11:50:28.618Z"
   },
   {
    "duration": 220,
    "start_time": "2022-08-30T11:50:28.637Z"
   },
   {
    "duration": 3673,
    "start_time": "2022-08-30T11:50:28.858Z"
   },
   {
    "duration": 9,
    "start_time": "2022-08-30T11:50:32.532Z"
   },
   {
    "duration": 96,
    "start_time": "2022-08-30T11:50:32.542Z"
   },
   {
    "duration": 23,
    "start_time": "2022-08-30T11:50:32.640Z"
   },
   {
    "duration": 43,
    "start_time": "2022-08-30T11:50:32.664Z"
   },
   {
    "duration": 17,
    "start_time": "2022-08-30T11:50:32.709Z"
   },
   {
    "duration": 14,
    "start_time": "2022-08-30T11:50:32.728Z"
   },
   {
    "duration": 18,
    "start_time": "2022-08-30T11:53:15.906Z"
   },
   {
    "duration": 7,
    "start_time": "2022-08-30T11:53:22.236Z"
   },
   {
    "duration": 9,
    "start_time": "2022-08-30T11:54:00.506Z"
   },
   {
    "duration": 10,
    "start_time": "2022-08-30T11:54:21.507Z"
   },
   {
    "duration": 9,
    "start_time": "2022-08-30T11:54:54.306Z"
   },
   {
    "duration": 8,
    "start_time": "2022-08-30T11:56:03.081Z"
   },
   {
    "duration": 96,
    "start_time": "2022-08-30T11:57:13.135Z"
   },
   {
    "duration": 10,
    "start_time": "2022-08-30T11:57:34.856Z"
   },
   {
    "duration": 8,
    "start_time": "2022-08-30T11:57:53.647Z"
   },
   {
    "duration": 12,
    "start_time": "2022-08-30T11:58:29.966Z"
   },
   {
    "duration": 21,
    "start_time": "2022-08-30T11:59:18.727Z"
   },
   {
    "duration": 24,
    "start_time": "2022-08-30T12:01:56.446Z"
   },
   {
    "duration": 24,
    "start_time": "2022-08-30T12:02:15.483Z"
   },
   {
    "duration": 75,
    "start_time": "2022-08-30T12:02:37.965Z"
   },
   {
    "duration": 1089,
    "start_time": "2022-08-30T12:03:07.217Z"
   },
   {
    "duration": 68,
    "start_time": "2022-08-30T12:03:08.308Z"
   },
   {
    "duration": 15,
    "start_time": "2022-08-30T12:03:08.378Z"
   },
   {
    "duration": 23,
    "start_time": "2022-08-30T12:03:08.395Z"
   },
   {
    "duration": 29,
    "start_time": "2022-08-30T12:03:08.420Z"
   },
   {
    "duration": 14,
    "start_time": "2022-08-30T12:03:08.451Z"
   },
   {
    "duration": 32,
    "start_time": "2022-08-30T12:03:08.467Z"
   },
   {
    "duration": 11,
    "start_time": "2022-08-30T12:03:08.501Z"
   },
   {
    "duration": 23,
    "start_time": "2022-08-30T12:03:08.514Z"
   },
   {
    "duration": 16,
    "start_time": "2022-08-30T12:03:08.539Z"
   },
   {
    "duration": 5,
    "start_time": "2022-08-30T12:03:08.557Z"
   },
   {
    "duration": 11,
    "start_time": "2022-08-30T12:03:08.564Z"
   },
   {
    "duration": 24,
    "start_time": "2022-08-30T12:03:08.577Z"
   },
   {
    "duration": 17,
    "start_time": "2022-08-30T12:03:08.604Z"
   },
   {
    "duration": 15,
    "start_time": "2022-08-30T12:03:08.623Z"
   },
   {
    "duration": 10,
    "start_time": "2022-08-30T12:03:08.639Z"
   },
   {
    "duration": 49,
    "start_time": "2022-08-30T12:03:08.650Z"
   },
   {
    "duration": 227,
    "start_time": "2022-08-30T12:03:08.701Z"
   },
   {
    "duration": 139,
    "start_time": "2022-08-30T12:03:08.930Z"
   },
   {
    "duration": 8,
    "start_time": "2022-08-30T12:03:09.070Z"
   },
   {
    "duration": 23,
    "start_time": "2022-08-30T12:03:09.079Z"
   },
   {
    "duration": 221,
    "start_time": "2022-08-30T12:03:09.104Z"
   },
   {
    "duration": 19,
    "start_time": "2022-08-30T12:03:09.326Z"
   },
   {
    "duration": 366,
    "start_time": "2022-08-30T12:03:09.347Z"
   },
   {
    "duration": 6,
    "start_time": "2022-08-30T12:03:09.715Z"
   },
   {
    "duration": 260,
    "start_time": "2022-08-30T12:03:09.722Z"
   },
   {
    "duration": 16,
    "start_time": "2022-08-30T12:03:09.984Z"
   },
   {
    "duration": 692,
    "start_time": "2022-08-30T12:03:10.002Z"
   },
   {
    "duration": 15,
    "start_time": "2022-08-30T12:03:10.696Z"
   },
   {
    "duration": 8361,
    "start_time": "2022-08-30T12:03:10.713Z"
   },
   {
    "duration": 2,
    "start_time": "2022-08-30T12:03:19.076Z"
   },
   {
    "duration": 11,
    "start_time": "2022-08-30T12:03:19.080Z"
   },
   {
    "duration": 343,
    "start_time": "2022-08-30T12:03:19.094Z"
   },
   {
    "duration": 17,
    "start_time": "2022-08-30T12:03:19.439Z"
   },
   {
    "duration": 206,
    "start_time": "2022-08-30T12:03:19.458Z"
   },
   {
    "duration": 9,
    "start_time": "2022-08-30T12:03:19.665Z"
   },
   {
    "duration": 65,
    "start_time": "2022-08-30T12:03:19.675Z"
   },
   {
    "duration": 19,
    "start_time": "2022-08-30T12:03:19.742Z"
   },
   {
    "duration": 19,
    "start_time": "2022-08-30T12:03:19.763Z"
   },
   {
    "duration": 34,
    "start_time": "2022-08-30T12:03:19.783Z"
   },
   {
    "duration": 11,
    "start_time": "2022-08-30T12:03:19.820Z"
   },
   {
    "duration": 28,
    "start_time": "2022-08-30T12:03:19.833Z"
   },
   {
    "duration": 271,
    "start_time": "2022-08-30T12:03:19.863Z"
   },
   {
    "duration": 4436,
    "start_time": "2022-08-30T12:03:20.135Z"
   },
   {
    "duration": 10,
    "start_time": "2022-08-30T12:03:24.573Z"
   },
   {
    "duration": 119,
    "start_time": "2022-08-30T12:03:24.584Z"
   },
   {
    "duration": 22,
    "start_time": "2022-08-30T12:03:24.705Z"
   },
   {
    "duration": 26,
    "start_time": "2022-08-30T12:03:24.729Z"
   },
   {
    "duration": 23,
    "start_time": "2022-08-30T12:03:24.756Z"
   },
   {
    "duration": 28,
    "start_time": "2022-08-30T12:03:24.780Z"
   },
   {
    "duration": 37,
    "start_time": "2022-08-30T12:03:24.810Z"
   },
   {
    "duration": 42,
    "start_time": "2022-08-30T12:03:24.848Z"
   },
   {
    "duration": 101,
    "start_time": "2022-08-30T12:07:04.346Z"
   },
   {
    "duration": 18,
    "start_time": "2022-08-30T12:07:53.349Z"
   },
   {
    "duration": 9,
    "start_time": "2022-08-30T12:09:12.299Z"
   },
   {
    "duration": 4,
    "start_time": "2022-08-30T12:09:49.883Z"
   },
   {
    "duration": 22,
    "start_time": "2022-08-30T12:10:03.010Z"
   },
   {
    "duration": 19,
    "start_time": "2022-08-30T12:10:45.191Z"
   },
   {
    "duration": 25,
    "start_time": "2022-08-30T12:10:54.282Z"
   },
   {
    "duration": 145,
    "start_time": "2022-08-30T12:11:17.451Z"
   },
   {
    "duration": 1292,
    "start_time": "2022-08-30T12:11:29.516Z"
   },
   {
    "duration": 70,
    "start_time": "2022-08-30T12:11:30.811Z"
   },
   {
    "duration": 21,
    "start_time": "2022-08-30T12:11:30.883Z"
   },
   {
    "duration": 24,
    "start_time": "2022-08-30T12:11:30.906Z"
   },
   {
    "duration": 31,
    "start_time": "2022-08-30T12:11:30.933Z"
   },
   {
    "duration": 40,
    "start_time": "2022-08-30T12:11:30.966Z"
   },
   {
    "duration": 42,
    "start_time": "2022-08-30T12:11:31.009Z"
   },
   {
    "duration": 20,
    "start_time": "2022-08-30T12:11:31.053Z"
   },
   {
    "duration": 44,
    "start_time": "2022-08-30T12:11:31.075Z"
   },
   {
    "duration": 32,
    "start_time": "2022-08-30T12:11:31.121Z"
   },
   {
    "duration": 17,
    "start_time": "2022-08-30T12:11:31.154Z"
   },
   {
    "duration": 23,
    "start_time": "2022-08-30T12:11:31.173Z"
   },
   {
    "duration": 29,
    "start_time": "2022-08-30T12:11:31.198Z"
   },
   {
    "duration": 42,
    "start_time": "2022-08-30T12:11:31.230Z"
   },
   {
    "duration": 53,
    "start_time": "2022-08-30T12:11:31.274Z"
   },
   {
    "duration": 18,
    "start_time": "2022-08-30T12:11:31.329Z"
   },
   {
    "duration": 55,
    "start_time": "2022-08-30T12:11:31.349Z"
   },
   {
    "duration": 294,
    "start_time": "2022-08-30T12:11:31.407Z"
   },
   {
    "duration": 165,
    "start_time": "2022-08-30T12:11:31.703Z"
   },
   {
    "duration": 7,
    "start_time": "2022-08-30T12:11:31.870Z"
   },
   {
    "duration": 22,
    "start_time": "2022-08-30T12:11:31.879Z"
   },
   {
    "duration": 208,
    "start_time": "2022-08-30T12:11:31.903Z"
   },
   {
    "duration": 25,
    "start_time": "2022-08-30T12:11:32.113Z"
   },
   {
    "duration": 344,
    "start_time": "2022-08-30T12:11:32.140Z"
   },
   {
    "duration": 15,
    "start_time": "2022-08-30T12:11:32.486Z"
   },
   {
    "duration": 600,
    "start_time": "2022-08-30T12:11:32.503Z"
   },
   {
    "duration": 9,
    "start_time": "2022-08-30T12:11:33.105Z"
   },
   {
    "duration": 1276,
    "start_time": "2022-08-30T12:11:33.116Z"
   },
   {
    "duration": 16,
    "start_time": "2022-08-30T12:11:34.399Z"
   },
   {
    "duration": 8877,
    "start_time": "2022-08-30T12:11:34.417Z"
   },
   {
    "duration": 3,
    "start_time": "2022-08-30T12:11:43.296Z"
   },
   {
    "duration": 14,
    "start_time": "2022-08-30T12:11:43.300Z"
   },
   {
    "duration": 369,
    "start_time": "2022-08-30T12:11:43.316Z"
   },
   {
    "duration": 17,
    "start_time": "2022-08-30T12:11:43.686Z"
   },
   {
    "duration": 218,
    "start_time": "2022-08-30T12:11:43.705Z"
   },
   {
    "duration": 10,
    "start_time": "2022-08-30T12:11:43.924Z"
   },
   {
    "duration": 80,
    "start_time": "2022-08-30T12:11:43.936Z"
   },
   {
    "duration": 20,
    "start_time": "2022-08-30T12:11:44.018Z"
   },
   {
    "duration": 26,
    "start_time": "2022-08-30T12:11:44.040Z"
   },
   {
    "duration": 33,
    "start_time": "2022-08-30T12:11:44.067Z"
   },
   {
    "duration": 20,
    "start_time": "2022-08-30T12:11:44.104Z"
   },
   {
    "duration": 108,
    "start_time": "2022-08-30T12:11:44.126Z"
   },
   {
    "duration": 0,
    "start_time": "2022-08-30T12:11:44.236Z"
   },
   {
    "duration": 0,
    "start_time": "2022-08-30T12:11:44.238Z"
   },
   {
    "duration": 0,
    "start_time": "2022-08-30T12:11:44.239Z"
   },
   {
    "duration": 0,
    "start_time": "2022-08-30T12:11:44.240Z"
   },
   {
    "duration": 0,
    "start_time": "2022-08-30T12:11:44.242Z"
   },
   {
    "duration": 0,
    "start_time": "2022-08-30T12:11:44.243Z"
   },
   {
    "duration": 0,
    "start_time": "2022-08-30T12:11:44.244Z"
   },
   {
    "duration": 0,
    "start_time": "2022-08-30T12:11:44.245Z"
   },
   {
    "duration": 20,
    "start_time": "2022-08-30T12:12:18.363Z"
   },
   {
    "duration": 1795,
    "start_time": "2022-08-30T12:14:15.673Z"
   },
   {
    "duration": 20,
    "start_time": "2022-08-30T12:14:24.696Z"
   },
   {
    "duration": 212,
    "start_time": "2022-08-30T12:14:33.062Z"
   },
   {
    "duration": 4113,
    "start_time": "2022-08-30T12:15:44.976Z"
   },
   {
    "duration": 12,
    "start_time": "2022-08-30T12:15:50.636Z"
   },
   {
    "duration": 89,
    "start_time": "2022-08-30T12:15:53.135Z"
   },
   {
    "duration": 26,
    "start_time": "2022-08-30T12:15:53.605Z"
   },
   {
    "duration": 258,
    "start_time": "2022-08-30T12:16:13.828Z"
   },
   {
    "duration": 131,
    "start_time": "2022-08-30T12:16:24.775Z"
   },
   {
    "duration": 30,
    "start_time": "2022-08-30T12:16:33.134Z"
   },
   {
    "duration": 25,
    "start_time": "2022-08-30T12:16:57.046Z"
   },
   {
    "duration": 1263,
    "start_time": "2022-08-30T12:17:05.867Z"
   },
   {
    "duration": 63,
    "start_time": "2022-08-30T12:17:07.132Z"
   },
   {
    "duration": 14,
    "start_time": "2022-08-30T12:17:07.197Z"
   },
   {
    "duration": 13,
    "start_time": "2022-08-30T12:17:07.214Z"
   },
   {
    "duration": 14,
    "start_time": "2022-08-30T12:17:07.229Z"
   },
   {
    "duration": 7,
    "start_time": "2022-08-30T12:17:07.244Z"
   },
   {
    "duration": 48,
    "start_time": "2022-08-30T12:17:07.253Z"
   },
   {
    "duration": 11,
    "start_time": "2022-08-30T12:17:07.303Z"
   },
   {
    "duration": 21,
    "start_time": "2022-08-30T12:17:07.316Z"
   },
   {
    "duration": 19,
    "start_time": "2022-08-30T12:17:07.340Z"
   },
   {
    "duration": 6,
    "start_time": "2022-08-30T12:17:07.360Z"
   },
   {
    "duration": 10,
    "start_time": "2022-08-30T12:17:07.368Z"
   },
   {
    "duration": 9,
    "start_time": "2022-08-30T12:17:07.401Z"
   },
   {
    "duration": 18,
    "start_time": "2022-08-30T12:17:07.412Z"
   },
   {
    "duration": 18,
    "start_time": "2022-08-30T12:17:07.432Z"
   },
   {
    "duration": 12,
    "start_time": "2022-08-30T12:17:07.452Z"
   },
   {
    "duration": 43,
    "start_time": "2022-08-30T12:17:07.466Z"
   },
   {
    "duration": 247,
    "start_time": "2022-08-30T12:17:07.511Z"
   },
   {
    "duration": 141,
    "start_time": "2022-08-30T12:17:07.759Z"
   },
   {
    "duration": 7,
    "start_time": "2022-08-30T12:17:07.901Z"
   },
   {
    "duration": 10,
    "start_time": "2022-08-30T12:17:07.910Z"
   },
   {
    "duration": 247,
    "start_time": "2022-08-30T12:17:07.922Z"
   },
   {
    "duration": 33,
    "start_time": "2022-08-30T12:17:08.172Z"
   },
   {
    "duration": 369,
    "start_time": "2022-08-30T12:17:08.207Z"
   },
   {
    "duration": 9,
    "start_time": "2022-08-30T12:17:08.579Z"
   },
   {
    "duration": 276,
    "start_time": "2022-08-30T12:17:08.601Z"
   },
   {
    "duration": 6,
    "start_time": "2022-08-30T12:17:08.879Z"
   },
   {
    "duration": 1046,
    "start_time": "2022-08-30T12:17:08.888Z"
   },
   {
    "duration": 66,
    "start_time": "2022-08-30T12:17:09.935Z"
   },
   {
    "duration": 9304,
    "start_time": "2022-08-30T12:17:10.003Z"
   },
   {
    "duration": 3,
    "start_time": "2022-08-30T12:17:19.308Z"
   },
   {
    "duration": 7,
    "start_time": "2022-08-30T12:17:19.312Z"
   },
   {
    "duration": 379,
    "start_time": "2022-08-30T12:17:19.321Z"
   },
   {
    "duration": 16,
    "start_time": "2022-08-30T12:17:19.702Z"
   },
   {
    "duration": 208,
    "start_time": "2022-08-30T12:17:19.719Z"
   },
   {
    "duration": 9,
    "start_time": "2022-08-30T12:17:19.928Z"
   },
   {
    "duration": 95,
    "start_time": "2022-08-30T12:17:19.939Z"
   },
   {
    "duration": 31,
    "start_time": "2022-08-30T12:17:20.036Z"
   },
   {
    "duration": 29,
    "start_time": "2022-08-30T12:17:20.069Z"
   },
   {
    "duration": 22,
    "start_time": "2022-08-30T12:17:20.100Z"
   },
   {
    "duration": 33,
    "start_time": "2022-08-30T12:17:20.124Z"
   },
   {
    "duration": 236,
    "start_time": "2022-08-30T12:17:20.159Z"
   },
   {
    "duration": 2471,
    "start_time": "2022-08-30T12:17:20.399Z"
   },
   {
    "duration": 9,
    "start_time": "2022-08-30T12:17:22.872Z"
   },
   {
    "duration": 90,
    "start_time": "2022-08-30T12:17:22.883Z"
   },
   {
    "duration": 32,
    "start_time": "2022-08-30T12:17:22.975Z"
   },
   {
    "duration": 153,
    "start_time": "2022-08-30T12:17:23.009Z"
   },
   {
    "duration": 102,
    "start_time": "2022-08-30T12:17:23.163Z"
   },
   {
    "duration": 0,
    "start_time": "2022-08-30T12:17:23.267Z"
   },
   {
    "duration": 0,
    "start_time": "2022-08-30T12:17:23.268Z"
   },
   {
    "duration": 33,
    "start_time": "2022-08-30T12:19:07.275Z"
   },
   {
    "duration": 432,
    "start_time": "2022-08-30T12:23:40.347Z"
   },
   {
    "duration": 377,
    "start_time": "2022-08-30T12:23:52.345Z"
   },
   {
    "duration": 11,
    "start_time": "2022-08-30T12:24:21.285Z"
   },
   {
    "duration": 98,
    "start_time": "2022-08-30T12:24:35.533Z"
   },
   {
    "duration": 12,
    "start_time": "2022-08-30T12:24:53.170Z"
   },
   {
    "duration": 24,
    "start_time": "2022-08-30T12:25:03.095Z"
   },
   {
    "duration": 9,
    "start_time": "2022-08-30T12:25:49.515Z"
   },
   {
    "duration": 20,
    "start_time": "2022-08-30T12:25:53.462Z"
   },
   {
    "duration": 17,
    "start_time": "2022-08-30T12:27:09.485Z"
   },
   {
    "duration": 105,
    "start_time": "2022-08-30T12:27:42.105Z"
   },
   {
    "duration": 110,
    "start_time": "2022-08-30T12:27:48.931Z"
   },
   {
    "duration": 23,
    "start_time": "2022-08-30T12:27:51.165Z"
   },
   {
    "duration": 15,
    "start_time": "2022-08-30T12:28:26.605Z"
   },
   {
    "duration": 21,
    "start_time": "2022-08-30T12:30:05.917Z"
   },
   {
    "duration": 24,
    "start_time": "2022-08-30T12:30:21.545Z"
   },
   {
    "duration": 12,
    "start_time": "2022-08-30T12:30:32.566Z"
   },
   {
    "duration": 12,
    "start_time": "2022-08-30T12:30:41.846Z"
   },
   {
    "duration": 14,
    "start_time": "2022-08-30T12:31:23.679Z"
   },
   {
    "duration": 10,
    "start_time": "2022-08-30T12:32:11.406Z"
   },
   {
    "duration": 13,
    "start_time": "2022-08-30T12:32:19.716Z"
   },
   {
    "duration": 7,
    "start_time": "2022-08-30T12:32:31.646Z"
   },
   {
    "duration": 10,
    "start_time": "2022-08-30T12:32:43.496Z"
   },
   {
    "duration": 10,
    "start_time": "2022-08-30T12:33:04.377Z"
   },
   {
    "duration": 9,
    "start_time": "2022-08-30T12:33:51.776Z"
   },
   {
    "duration": 6,
    "start_time": "2022-08-30T12:34:00.882Z"
   },
   {
    "duration": 5,
    "start_time": "2022-08-30T12:34:10.261Z"
   },
   {
    "duration": 14,
    "start_time": "2022-08-30T12:34:43.575Z"
   },
   {
    "duration": 11,
    "start_time": "2022-08-30T12:35:25.719Z"
   },
   {
    "duration": 10,
    "start_time": "2022-08-30T12:35:45.320Z"
   },
   {
    "duration": 9,
    "start_time": "2022-08-30T12:35:58.838Z"
   },
   {
    "duration": 12,
    "start_time": "2022-08-30T12:36:08.351Z"
   },
   {
    "duration": 17,
    "start_time": "2022-08-30T12:36:17.304Z"
   },
   {
    "duration": 10,
    "start_time": "2022-08-30T12:36:26.537Z"
   },
   {
    "duration": 11,
    "start_time": "2022-08-30T12:38:00.928Z"
   },
   {
    "duration": 11,
    "start_time": "2022-08-30T12:38:07.927Z"
   },
   {
    "duration": 26,
    "start_time": "2022-08-30T12:38:22.297Z"
   },
   {
    "duration": 678,
    "start_time": "2022-08-30T12:43:57.868Z"
   },
   {
    "duration": 11,
    "start_time": "2022-08-30T12:44:08.718Z"
   },
   {
    "duration": 17,
    "start_time": "2022-08-30T12:50:26.421Z"
   },
   {
    "duration": 29,
    "start_time": "2022-08-30T12:52:40.960Z"
   },
   {
    "duration": 14,
    "start_time": "2022-08-30T12:52:42.429Z"
   },
   {
    "duration": 10,
    "start_time": "2022-08-30T12:52:53.322Z"
   },
   {
    "duration": 1043,
    "start_time": "2022-08-30T12:52:59.364Z"
   },
   {
    "duration": 73,
    "start_time": "2022-08-30T12:53:00.408Z"
   },
   {
    "duration": 15,
    "start_time": "2022-08-30T12:53:00.483Z"
   },
   {
    "duration": 21,
    "start_time": "2022-08-30T12:53:00.500Z"
   },
   {
    "duration": 25,
    "start_time": "2022-08-30T12:53:00.523Z"
   },
   {
    "duration": 16,
    "start_time": "2022-08-30T12:53:00.549Z"
   },
   {
    "duration": 26,
    "start_time": "2022-08-30T12:53:00.567Z"
   },
   {
    "duration": 24,
    "start_time": "2022-08-30T12:53:00.595Z"
   },
   {
    "duration": 37,
    "start_time": "2022-08-30T12:53:00.620Z"
   },
   {
    "duration": 16,
    "start_time": "2022-08-30T12:53:00.658Z"
   },
   {
    "duration": 5,
    "start_time": "2022-08-30T12:53:00.675Z"
   },
   {
    "duration": 12,
    "start_time": "2022-08-30T12:53:00.681Z"
   },
   {
    "duration": 7,
    "start_time": "2022-08-30T12:53:00.694Z"
   },
   {
    "duration": 26,
    "start_time": "2022-08-30T12:53:00.704Z"
   },
   {
    "duration": 16,
    "start_time": "2022-08-30T12:53:00.732Z"
   },
   {
    "duration": 33,
    "start_time": "2022-08-30T12:53:00.750Z"
   },
   {
    "duration": 21,
    "start_time": "2022-08-30T12:53:00.785Z"
   },
   {
    "duration": 214,
    "start_time": "2022-08-30T12:53:00.808Z"
   },
   {
    "duration": 218,
    "start_time": "2022-08-30T12:53:01.024Z"
   },
   {
    "duration": 60,
    "start_time": "2022-08-30T12:53:01.244Z"
   },
   {
    "duration": 15,
    "start_time": "2022-08-30T12:53:01.305Z"
   },
   {
    "duration": 491,
    "start_time": "2022-08-30T12:53:01.322Z"
   },
   {
    "duration": 19,
    "start_time": "2022-08-30T12:53:01.815Z"
   },
   {
    "duration": 580,
    "start_time": "2022-08-30T12:53:01.835Z"
   },
   {
    "duration": 7,
    "start_time": "2022-08-30T12:53:02.416Z"
   },
   {
    "duration": 509,
    "start_time": "2022-08-30T12:53:02.424Z"
   },
   {
    "duration": 6,
    "start_time": "2022-08-30T12:53:02.934Z"
   },
   {
    "duration": 733,
    "start_time": "2022-08-30T12:53:02.942Z"
   },
   {
    "duration": 13,
    "start_time": "2022-08-30T12:53:03.676Z"
   },
   {
    "duration": 8616,
    "start_time": "2022-08-30T12:53:03.699Z"
   },
   {
    "duration": 3,
    "start_time": "2022-08-30T12:53:12.317Z"
   },
   {
    "duration": 11,
    "start_time": "2022-08-30T12:53:12.321Z"
   },
   {
    "duration": 378,
    "start_time": "2022-08-30T12:53:12.334Z"
   },
   {
    "duration": 16,
    "start_time": "2022-08-30T12:53:12.713Z"
   },
   {
    "duration": 204,
    "start_time": "2022-08-30T12:53:12.731Z"
   },
   {
    "duration": 8,
    "start_time": "2022-08-30T12:53:12.936Z"
   },
   {
    "duration": 71,
    "start_time": "2022-08-30T12:53:12.946Z"
   },
   {
    "duration": 21,
    "start_time": "2022-08-30T12:53:13.019Z"
   },
   {
    "duration": 19,
    "start_time": "2022-08-30T12:53:13.042Z"
   },
   {
    "duration": 39,
    "start_time": "2022-08-30T12:53:13.062Z"
   },
   {
    "duration": 20,
    "start_time": "2022-08-30T12:53:13.105Z"
   },
   {
    "duration": 225,
    "start_time": "2022-08-30T12:53:13.126Z"
   },
   {
    "duration": 3917,
    "start_time": "2022-08-30T12:53:13.353Z"
   },
   {
    "duration": 11,
    "start_time": "2022-08-30T12:53:17.272Z"
   },
   {
    "duration": 93,
    "start_time": "2022-08-30T12:53:17.284Z"
   },
   {
    "duration": 28,
    "start_time": "2022-08-30T12:53:17.378Z"
   },
   {
    "duration": 22,
    "start_time": "2022-08-30T12:53:17.408Z"
   },
   {
    "duration": 10,
    "start_time": "2022-08-30T12:53:17.432Z"
   },
   {
    "duration": 10,
    "start_time": "2022-08-30T12:53:17.443Z"
   },
   {
    "duration": 47,
    "start_time": "2022-08-30T12:53:17.454Z"
   },
   {
    "duration": 116,
    "start_time": "2022-08-30T12:53:57.423Z"
   },
   {
    "duration": 16,
    "start_time": "2022-08-30T12:53:59.025Z"
   },
   {
    "duration": 23,
    "start_time": "2022-08-30T12:54:27.473Z"
   },
   {
    "duration": 22,
    "start_time": "2022-08-30T12:54:28.848Z"
   },
   {
    "duration": 20,
    "start_time": "2022-08-30T12:55:36.055Z"
   },
   {
    "duration": 1046,
    "start_time": "2022-08-30T12:55:48.039Z"
   },
   {
    "duration": 73,
    "start_time": "2022-08-30T12:55:49.087Z"
   },
   {
    "duration": 14,
    "start_time": "2022-08-30T12:55:49.161Z"
   },
   {
    "duration": 11,
    "start_time": "2022-08-30T12:55:49.177Z"
   },
   {
    "duration": 17,
    "start_time": "2022-08-30T12:55:49.191Z"
   },
   {
    "duration": 8,
    "start_time": "2022-08-30T12:55:49.210Z"
   },
   {
    "duration": 17,
    "start_time": "2022-08-30T12:55:49.220Z"
   },
   {
    "duration": 10,
    "start_time": "2022-08-30T12:55:49.239Z"
   },
   {
    "duration": 17,
    "start_time": "2022-08-30T12:55:49.250Z"
   },
   {
    "duration": 41,
    "start_time": "2022-08-30T12:55:49.269Z"
   },
   {
    "duration": 5,
    "start_time": "2022-08-30T12:55:49.311Z"
   },
   {
    "duration": 13,
    "start_time": "2022-08-30T12:55:49.317Z"
   },
   {
    "duration": 23,
    "start_time": "2022-08-30T12:55:49.332Z"
   },
   {
    "duration": 17,
    "start_time": "2022-08-30T12:55:49.358Z"
   },
   {
    "duration": 15,
    "start_time": "2022-08-30T12:55:49.376Z"
   },
   {
    "duration": 12,
    "start_time": "2022-08-30T12:55:49.393Z"
   },
   {
    "duration": 21,
    "start_time": "2022-08-30T12:55:49.406Z"
   },
   {
    "duration": 227,
    "start_time": "2022-08-30T12:55:49.428Z"
   },
   {
    "duration": 143,
    "start_time": "2022-08-30T12:55:49.657Z"
   },
   {
    "duration": 7,
    "start_time": "2022-08-30T12:55:49.801Z"
   },
   {
    "duration": 11,
    "start_time": "2022-08-30T12:55:49.809Z"
   },
   {
    "duration": 220,
    "start_time": "2022-08-30T12:55:49.822Z"
   },
   {
    "duration": 19,
    "start_time": "2022-08-30T12:55:50.045Z"
   },
   {
    "duration": 381,
    "start_time": "2022-08-30T12:55:50.066Z"
   },
   {
    "duration": 7,
    "start_time": "2022-08-30T12:55:50.448Z"
   },
   {
    "duration": 262,
    "start_time": "2022-08-30T12:55:50.456Z"
   },
   {
    "duration": 7,
    "start_time": "2022-08-30T12:55:50.720Z"
   },
   {
    "duration": 681,
    "start_time": "2022-08-30T12:55:50.728Z"
   },
   {
    "duration": 16,
    "start_time": "2022-08-30T12:55:51.411Z"
   },
   {
    "duration": 8388,
    "start_time": "2022-08-30T12:55:51.430Z"
   },
   {
    "duration": 2,
    "start_time": "2022-08-30T12:55:59.820Z"
   },
   {
    "duration": 8,
    "start_time": "2022-08-30T12:55:59.824Z"
   },
   {
    "duration": 373,
    "start_time": "2022-08-30T12:55:59.833Z"
   },
   {
    "duration": 16,
    "start_time": "2022-08-30T12:56:00.208Z"
   },
   {
    "duration": 204,
    "start_time": "2022-08-30T12:56:00.225Z"
   },
   {
    "duration": 10,
    "start_time": "2022-08-30T12:56:00.430Z"
   },
   {
    "duration": 87,
    "start_time": "2022-08-30T12:56:00.442Z"
   },
   {
    "duration": 22,
    "start_time": "2022-08-30T12:56:00.531Z"
   },
   {
    "duration": 25,
    "start_time": "2022-08-30T12:56:00.555Z"
   },
   {
    "duration": 26,
    "start_time": "2022-08-30T12:56:00.581Z"
   },
   {
    "duration": 18,
    "start_time": "2022-08-30T12:56:00.611Z"
   },
   {
    "duration": 228,
    "start_time": "2022-08-30T12:56:00.631Z"
   },
   {
    "duration": 2157,
    "start_time": "2022-08-30T12:56:00.861Z"
   },
   {
    "duration": 10,
    "start_time": "2022-08-30T12:56:03.019Z"
   },
   {
    "duration": 94,
    "start_time": "2022-08-30T12:56:03.030Z"
   },
   {
    "duration": 23,
    "start_time": "2022-08-30T12:56:03.126Z"
   },
   {
    "duration": 29,
    "start_time": "2022-08-30T12:56:03.151Z"
   },
   {
    "duration": 25,
    "start_time": "2022-08-30T12:56:03.181Z"
   },
   {
    "duration": 52,
    "start_time": "2022-08-30T12:56:03.208Z"
   },
   {
    "duration": 37,
    "start_time": "2022-08-30T12:56:03.262Z"
   },
   {
    "duration": 23,
    "start_time": "2022-08-30T12:59:34.114Z"
   },
   {
    "duration": 23,
    "start_time": "2022-08-30T12:59:43.063Z"
   },
   {
    "duration": 20,
    "start_time": "2022-08-30T13:00:13.852Z"
   },
   {
    "duration": 15,
    "start_time": "2022-08-30T13:00:18.632Z"
   },
   {
    "duration": 1134,
    "start_time": "2022-08-30T13:00:33.036Z"
   },
   {
    "duration": 65,
    "start_time": "2022-08-30T13:00:34.172Z"
   },
   {
    "duration": 15,
    "start_time": "2022-08-30T13:00:34.239Z"
   },
   {
    "duration": 12,
    "start_time": "2022-08-30T13:00:34.256Z"
   },
   {
    "duration": 31,
    "start_time": "2022-08-30T13:00:34.270Z"
   },
   {
    "duration": 8,
    "start_time": "2022-08-30T13:00:34.302Z"
   },
   {
    "duration": 25,
    "start_time": "2022-08-30T13:00:34.312Z"
   },
   {
    "duration": 12,
    "start_time": "2022-08-30T13:00:34.339Z"
   },
   {
    "duration": 20,
    "start_time": "2022-08-30T13:00:34.352Z"
   },
   {
    "duration": 38,
    "start_time": "2022-08-30T13:00:34.374Z"
   },
   {
    "duration": 4,
    "start_time": "2022-08-30T13:00:34.414Z"
   },
   {
    "duration": 8,
    "start_time": "2022-08-30T13:00:34.420Z"
   },
   {
    "duration": 17,
    "start_time": "2022-08-30T13:00:34.429Z"
   },
   {
    "duration": 17,
    "start_time": "2022-08-30T13:00:34.448Z"
   },
   {
    "duration": 15,
    "start_time": "2022-08-30T13:00:34.466Z"
   },
   {
    "duration": 25,
    "start_time": "2022-08-30T13:00:34.482Z"
   },
   {
    "duration": 18,
    "start_time": "2022-08-30T13:00:34.508Z"
   },
   {
    "duration": 236,
    "start_time": "2022-08-30T13:00:34.527Z"
   },
   {
    "duration": 149,
    "start_time": "2022-08-30T13:00:34.765Z"
   },
   {
    "duration": 7,
    "start_time": "2022-08-30T13:00:34.916Z"
   },
   {
    "duration": 15,
    "start_time": "2022-08-30T13:00:34.925Z"
   },
   {
    "duration": 240,
    "start_time": "2022-08-30T13:00:34.942Z"
   },
   {
    "duration": 24,
    "start_time": "2022-08-30T13:00:35.183Z"
   },
   {
    "duration": 341,
    "start_time": "2022-08-30T13:00:35.208Z"
   },
   {
    "duration": 7,
    "start_time": "2022-08-30T13:00:35.550Z"
   },
   {
    "duration": 273,
    "start_time": "2022-08-30T13:00:35.558Z"
   },
   {
    "duration": 7,
    "start_time": "2022-08-30T13:00:35.832Z"
   },
   {
    "duration": 644,
    "start_time": "2022-08-30T13:00:35.842Z"
   },
   {
    "duration": 20,
    "start_time": "2022-08-30T13:00:36.488Z"
   },
   {
    "duration": 8896,
    "start_time": "2022-08-30T13:00:36.510Z"
   },
   {
    "duration": 3,
    "start_time": "2022-08-30T13:00:45.408Z"
   },
   {
    "duration": 17,
    "start_time": "2022-08-30T13:00:45.413Z"
   },
   {
    "duration": 380,
    "start_time": "2022-08-30T13:00:45.432Z"
   },
   {
    "duration": 16,
    "start_time": "2022-08-30T13:00:45.814Z"
   },
   {
    "duration": 219,
    "start_time": "2022-08-30T13:00:45.832Z"
   },
   {
    "duration": 10,
    "start_time": "2022-08-30T13:00:46.052Z"
   },
   {
    "duration": 76,
    "start_time": "2022-08-30T13:00:46.064Z"
   },
   {
    "duration": 23,
    "start_time": "2022-08-30T13:00:46.142Z"
   },
   {
    "duration": 23,
    "start_time": "2022-08-30T13:00:46.166Z"
   },
   {
    "duration": 20,
    "start_time": "2022-08-30T13:00:46.201Z"
   },
   {
    "duration": 19,
    "start_time": "2022-08-30T13:00:46.223Z"
   },
   {
    "duration": 252,
    "start_time": "2022-08-30T13:00:46.244Z"
   },
   {
    "duration": 1985,
    "start_time": "2022-08-30T13:00:46.499Z"
   },
   {
    "duration": 17,
    "start_time": "2022-08-30T13:00:48.485Z"
   },
   {
    "duration": 97,
    "start_time": "2022-08-30T13:00:48.504Z"
   },
   {
    "duration": 23,
    "start_time": "2022-08-30T13:00:48.604Z"
   },
   {
    "duration": 24,
    "start_time": "2022-08-30T13:00:48.629Z"
   },
   {
    "duration": 11,
    "start_time": "2022-08-30T13:00:48.654Z"
   },
   {
    "duration": 41,
    "start_time": "2022-08-30T13:00:48.667Z"
   },
   {
    "duration": 19,
    "start_time": "2022-08-30T13:00:48.709Z"
   },
   {
    "duration": 1342,
    "start_time": "2022-08-31T11:19:25.198Z"
   },
   {
    "duration": 283,
    "start_time": "2022-08-31T11:19:26.543Z"
   },
   {
    "duration": 26,
    "start_time": "2022-08-31T11:19:26.828Z"
   },
   {
    "duration": 15,
    "start_time": "2022-08-31T11:19:26.856Z"
   },
   {
    "duration": 17,
    "start_time": "2022-08-31T11:19:26.873Z"
   },
   {
    "duration": 9,
    "start_time": "2022-08-31T11:19:26.903Z"
   },
   {
    "duration": 20,
    "start_time": "2022-08-31T11:19:26.913Z"
   },
   {
    "duration": 12,
    "start_time": "2022-08-31T11:19:26.935Z"
   },
   {
    "duration": 20,
    "start_time": "2022-08-31T11:19:26.949Z"
   },
   {
    "duration": 39,
    "start_time": "2022-08-31T11:19:26.971Z"
   },
   {
    "duration": 5,
    "start_time": "2022-08-31T11:19:27.011Z"
   },
   {
    "duration": 7,
    "start_time": "2022-08-31T11:19:27.018Z"
   },
   {
    "duration": 6,
    "start_time": "2022-08-31T11:19:27.027Z"
   },
   {
    "duration": 16,
    "start_time": "2022-08-31T11:19:27.036Z"
   },
   {
    "duration": 15,
    "start_time": "2022-08-31T11:19:27.054Z"
   },
   {
    "duration": 42,
    "start_time": "2022-08-31T11:19:27.071Z"
   },
   {
    "duration": 19,
    "start_time": "2022-08-31T11:19:27.114Z"
   },
   {
    "duration": 276,
    "start_time": "2022-08-31T11:19:27.135Z"
   },
   {
    "duration": 178,
    "start_time": "2022-08-31T11:19:27.414Z"
   },
   {
    "duration": 14,
    "start_time": "2022-08-31T11:19:27.594Z"
   },
   {
    "duration": 19,
    "start_time": "2022-08-31T11:19:27.610Z"
   },
   {
    "duration": 238,
    "start_time": "2022-08-31T11:19:27.631Z"
   },
   {
    "duration": 20,
    "start_time": "2022-08-31T11:19:27.871Z"
   },
   {
    "duration": 614,
    "start_time": "2022-08-31T11:19:27.892Z"
   },
   {
    "duration": 7,
    "start_time": "2022-08-31T11:19:28.508Z"
   },
   {
    "duration": 688,
    "start_time": "2022-08-31T11:19:28.517Z"
   },
   {
    "duration": 8,
    "start_time": "2022-08-31T11:19:29.207Z"
   },
   {
    "duration": 1190,
    "start_time": "2022-08-31T11:19:29.217Z"
   },
   {
    "duration": 18,
    "start_time": "2022-08-31T11:19:30.410Z"
   },
   {
    "duration": 328,
    "start_time": "2022-08-31T11:19:30.430Z"
   },
   {
    "duration": 3,
    "start_time": "2022-08-31T11:19:30.761Z"
   },
   {
    "duration": 48,
    "start_time": "2022-08-31T11:19:30.765Z"
   },
   {
    "duration": 312,
    "start_time": "2022-08-31T11:19:30.815Z"
   },
   {
    "duration": 17,
    "start_time": "2022-08-31T11:19:31.130Z"
   },
   {
    "duration": 253,
    "start_time": "2022-08-31T11:19:31.149Z"
   },
   {
    "duration": 9,
    "start_time": "2022-08-31T11:19:31.405Z"
   },
   {
    "duration": 68,
    "start_time": "2022-08-31T11:19:31.416Z"
   },
   {
    "duration": 29,
    "start_time": "2022-08-31T11:19:31.502Z"
   },
   {
    "duration": 18,
    "start_time": "2022-08-31T11:19:31.533Z"
   },
   {
    "duration": 56,
    "start_time": "2022-08-31T11:19:31.553Z"
   },
   {
    "duration": 30,
    "start_time": "2022-08-31T11:19:31.615Z"
   },
   {
    "duration": 260,
    "start_time": "2022-08-31T11:19:31.646Z"
   },
   {
    "duration": 3412,
    "start_time": "2022-08-31T11:19:31.908Z"
   },
   {
    "duration": 11,
    "start_time": "2022-08-31T11:19:35.322Z"
   },
   {
    "duration": 111,
    "start_time": "2022-08-31T11:19:35.335Z"
   },
   {
    "duration": 24,
    "start_time": "2022-08-31T11:19:35.448Z"
   },
   {
    "duration": 41,
    "start_time": "2022-08-31T11:19:35.474Z"
   },
   {
    "duration": 14,
    "start_time": "2022-08-31T11:19:35.517Z"
   },
   {
    "duration": 16,
    "start_time": "2022-08-31T11:19:35.534Z"
   },
   {
    "duration": 25,
    "start_time": "2022-08-31T11:19:35.551Z"
   },
   {
    "duration": 211,
    "start_time": "2022-08-31T11:20:10.096Z"
   },
   {
    "duration": 199,
    "start_time": "2022-08-31T11:20:24.587Z"
   },
   {
    "duration": 216,
    "start_time": "2022-08-31T11:20:31.592Z"
   },
   {
    "duration": 201,
    "start_time": "2022-08-31T11:21:05.888Z"
   },
   {
    "duration": 80,
    "start_time": "2022-08-31T11:21:42.660Z"
   },
   {
    "duration": 11,
    "start_time": "2022-08-31T11:23:54.009Z"
   },
   {
    "duration": 14,
    "start_time": "2022-08-31T11:24:09.645Z"
   },
   {
    "duration": 1255,
    "start_time": "2022-08-31T11:24:52.871Z"
   },
   {
    "duration": 69,
    "start_time": "2022-08-31T11:24:54.128Z"
   },
   {
    "duration": 14,
    "start_time": "2022-08-31T11:24:54.199Z"
   },
   {
    "duration": 21,
    "start_time": "2022-08-31T11:24:54.215Z"
   },
   {
    "duration": 19,
    "start_time": "2022-08-31T11:24:54.238Z"
   },
   {
    "duration": 8,
    "start_time": "2022-08-31T11:24:54.258Z"
   },
   {
    "duration": 41,
    "start_time": "2022-08-31T11:24:54.268Z"
   },
   {
    "duration": 12,
    "start_time": "2022-08-31T11:24:54.311Z"
   },
   {
    "duration": 23,
    "start_time": "2022-08-31T11:24:54.325Z"
   },
   {
    "duration": 17,
    "start_time": "2022-08-31T11:24:54.350Z"
   },
   {
    "duration": 6,
    "start_time": "2022-08-31T11:24:54.369Z"
   },
   {
    "duration": 33,
    "start_time": "2022-08-31T11:24:54.377Z"
   },
   {
    "duration": 8,
    "start_time": "2022-08-31T11:24:54.412Z"
   },
   {
    "duration": 17,
    "start_time": "2022-08-31T11:24:54.423Z"
   },
   {
    "duration": 15,
    "start_time": "2022-08-31T11:24:54.442Z"
   },
   {
    "duration": 10,
    "start_time": "2022-08-31T11:24:54.459Z"
   },
   {
    "duration": 47,
    "start_time": "2022-08-31T11:24:54.470Z"
   },
   {
    "duration": 428,
    "start_time": "2022-08-31T11:24:54.519Z"
   },
   {
    "duration": 356,
    "start_time": "2022-08-31T11:24:54.949Z"
   },
   {
    "duration": 7,
    "start_time": "2022-08-31T11:24:55.306Z"
   },
   {
    "duration": 10,
    "start_time": "2022-08-31T11:24:55.315Z"
   },
   {
    "duration": 487,
    "start_time": "2022-08-31T11:24:55.326Z"
   },
   {
    "duration": 19,
    "start_time": "2022-08-31T11:24:55.814Z"
   },
   {
    "duration": 602,
    "start_time": "2022-08-31T11:24:55.834Z"
   },
   {
    "duration": 8,
    "start_time": "2022-08-31T11:24:56.438Z"
   },
   {
    "duration": 333,
    "start_time": "2022-08-31T11:24:56.448Z"
   },
   {
    "duration": 7,
    "start_time": "2022-08-31T11:24:56.783Z"
   },
   {
    "duration": 754,
    "start_time": "2022-08-31T11:24:56.792Z"
   },
   {
    "duration": 16,
    "start_time": "2022-08-31T11:24:57.547Z"
   },
   {
    "duration": 216,
    "start_time": "2022-08-31T11:24:57.565Z"
   },
   {
    "duration": 286,
    "start_time": "2022-08-31T11:24:57.783Z"
   },
   {
    "duration": 16,
    "start_time": "2022-08-31T11:24:58.071Z"
   },
   {
    "duration": 226,
    "start_time": "2022-08-31T11:24:58.088Z"
   },
   {
    "duration": 10,
    "start_time": "2022-08-31T11:24:58.316Z"
   },
   {
    "duration": 84,
    "start_time": "2022-08-31T11:24:58.328Z"
   },
   {
    "duration": 24,
    "start_time": "2022-08-31T11:24:58.414Z"
   },
   {
    "duration": 22,
    "start_time": "2022-08-31T11:24:58.440Z"
   },
   {
    "duration": 40,
    "start_time": "2022-08-31T11:24:58.464Z"
   },
   {
    "duration": 20,
    "start_time": "2022-08-31T11:24:58.506Z"
   },
   {
    "duration": 248,
    "start_time": "2022-08-31T11:24:58.527Z"
   },
   {
    "duration": 2297,
    "start_time": "2022-08-31T11:24:58.779Z"
   },
   {
    "duration": 11,
    "start_time": "2022-08-31T11:25:01.078Z"
   },
   {
    "duration": 126,
    "start_time": "2022-08-31T11:25:01.091Z"
   },
   {
    "duration": 38,
    "start_time": "2022-08-31T11:25:01.219Z"
   },
   {
    "duration": 45,
    "start_time": "2022-08-31T11:25:01.259Z"
   },
   {
    "duration": 19,
    "start_time": "2022-08-31T11:25:01.306Z"
   },
   {
    "duration": 16,
    "start_time": "2022-08-31T11:25:01.327Z"
   },
   {
    "duration": 23,
    "start_time": "2022-08-31T11:25:01.345Z"
   },
   {
    "duration": 14,
    "start_time": "2022-08-31T11:28:16.150Z"
   },
   {
    "duration": 13,
    "start_time": "2022-08-31T11:28:35.350Z"
   },
   {
    "duration": 17,
    "start_time": "2022-08-31T11:28:49.060Z"
   },
   {
    "duration": 5,
    "start_time": "2022-08-31T11:29:24.060Z"
   },
   {
    "duration": 13,
    "start_time": "2022-08-31T11:29:37.708Z"
   },
   {
    "duration": 14,
    "start_time": "2022-08-31T11:29:44.949Z"
   },
   {
    "duration": 4,
    "start_time": "2022-08-31T11:39:36.658Z"
   },
   {
    "duration": 381,
    "start_time": "2022-08-31T11:39:44.409Z"
   },
   {
    "duration": 11,
    "start_time": "2022-08-31T11:40:16.369Z"
   },
   {
    "duration": 1208,
    "start_time": "2022-08-31T11:40:21.522Z"
   },
   {
    "duration": 67,
    "start_time": "2022-08-31T11:40:22.733Z"
   },
   {
    "duration": 14,
    "start_time": "2022-08-31T11:40:22.802Z"
   },
   {
    "duration": 13,
    "start_time": "2022-08-31T11:40:22.818Z"
   },
   {
    "duration": 16,
    "start_time": "2022-08-31T11:40:22.834Z"
   },
   {
    "duration": 8,
    "start_time": "2022-08-31T11:40:22.852Z"
   },
   {
    "duration": 47,
    "start_time": "2022-08-31T11:40:22.862Z"
   },
   {
    "duration": 12,
    "start_time": "2022-08-31T11:40:22.910Z"
   },
   {
    "duration": 18,
    "start_time": "2022-08-31T11:40:22.924Z"
   },
   {
    "duration": 16,
    "start_time": "2022-08-31T11:40:22.944Z"
   },
   {
    "duration": 5,
    "start_time": "2022-08-31T11:40:22.961Z"
   },
   {
    "duration": 8,
    "start_time": "2022-08-31T11:40:22.967Z"
   },
   {
    "duration": 5,
    "start_time": "2022-08-31T11:40:23.003Z"
   },
   {
    "duration": 27,
    "start_time": "2022-08-31T11:40:23.011Z"
   },
   {
    "duration": 14,
    "start_time": "2022-08-31T11:40:23.040Z"
   },
   {
    "duration": 9,
    "start_time": "2022-08-31T11:40:23.056Z"
   },
   {
    "duration": 40,
    "start_time": "2022-08-31T11:40:23.066Z"
   },
   {
    "duration": 251,
    "start_time": "2022-08-31T11:40:23.108Z"
   },
   {
    "duration": 157,
    "start_time": "2022-08-31T11:40:23.360Z"
   },
   {
    "duration": 8,
    "start_time": "2022-08-31T11:40:23.518Z"
   },
   {
    "duration": 11,
    "start_time": "2022-08-31T11:40:23.527Z"
   },
   {
    "duration": 250,
    "start_time": "2022-08-31T11:40:23.539Z"
   },
   {
    "duration": 30,
    "start_time": "2022-08-31T11:40:23.791Z"
   },
   {
    "duration": 403,
    "start_time": "2022-08-31T11:40:23.824Z"
   },
   {
    "duration": 8,
    "start_time": "2022-08-31T11:40:24.229Z"
   },
   {
    "duration": 302,
    "start_time": "2022-08-31T11:40:24.240Z"
   },
   {
    "duration": 6,
    "start_time": "2022-08-31T11:40:24.544Z"
   },
   {
    "duration": 702,
    "start_time": "2022-08-31T11:40:24.552Z"
   },
   {
    "duration": 14,
    "start_time": "2022-08-31T11:40:25.256Z"
   },
   {
    "duration": 252,
    "start_time": "2022-08-31T11:40:25.272Z"
   },
   {
    "duration": 595,
    "start_time": "2022-08-31T11:40:25.525Z"
   },
   {
    "duration": 17,
    "start_time": "2022-08-31T11:40:26.122Z"
   },
   {
    "duration": 492,
    "start_time": "2022-08-31T11:40:26.141Z"
   },
   {
    "duration": 9,
    "start_time": "2022-08-31T11:40:26.635Z"
   },
   {
    "duration": 58,
    "start_time": "2022-08-31T11:40:26.645Z"
   },
   {
    "duration": 8,
    "start_time": "2022-08-31T11:40:26.705Z"
   },
   {
    "duration": 16,
    "start_time": "2022-08-31T11:40:26.715Z"
   },
   {
    "duration": 18,
    "start_time": "2022-08-31T11:40:26.733Z"
   },
   {
    "duration": 67,
    "start_time": "2022-08-31T11:40:26.752Z"
   },
   {
    "duration": 19,
    "start_time": "2022-08-31T11:40:26.820Z"
   },
   {
    "duration": 476,
    "start_time": "2022-08-31T11:40:26.842Z"
   },
   {
    "duration": 4869,
    "start_time": "2022-08-31T11:40:27.320Z"
   },
   {
    "duration": 14,
    "start_time": "2022-08-31T11:40:32.191Z"
   },
   {
    "duration": 117,
    "start_time": "2022-08-31T11:40:32.207Z"
   },
   {
    "duration": 27,
    "start_time": "2022-08-31T11:40:32.325Z"
   },
   {
    "duration": 25,
    "start_time": "2022-08-31T11:40:32.354Z"
   },
   {
    "duration": 34,
    "start_time": "2022-08-31T11:40:32.381Z"
   },
   {
    "duration": 23,
    "start_time": "2022-08-31T11:40:32.417Z"
   },
   {
    "duration": 23,
    "start_time": "2022-08-31T11:40:32.442Z"
   },
   {
    "duration": 17,
    "start_time": "2022-08-31T11:40:35.056Z"
   },
   {
    "duration": 24,
    "start_time": "2022-08-31T11:45:01.494Z"
   },
   {
    "duration": 20,
    "start_time": "2022-08-31T11:45:03.191Z"
   },
   {
    "duration": 24,
    "start_time": "2022-08-31T11:45:10.454Z"
   },
   {
    "duration": 19,
    "start_time": "2022-08-31T11:45:31.306Z"
   },
   {
    "duration": 11,
    "start_time": "2022-08-31T11:46:29.284Z"
   },
   {
    "duration": 7,
    "start_time": "2022-08-31T11:46:30.096Z"
   },
   {
    "duration": 12,
    "start_time": "2022-08-31T11:46:38.907Z"
   },
   {
    "duration": 5,
    "start_time": "2022-08-31T11:46:48.996Z"
   },
   {
    "duration": 8,
    "start_time": "2022-08-31T11:46:49.871Z"
   },
   {
    "duration": 4,
    "start_time": "2022-08-31T11:46:55.116Z"
   },
   {
    "duration": 7,
    "start_time": "2022-08-31T11:46:55.696Z"
   },
   {
    "duration": 1194,
    "start_time": "2022-08-31T11:47:01.338Z"
   },
   {
    "duration": 72,
    "start_time": "2022-08-31T11:47:02.534Z"
   },
   {
    "duration": 15,
    "start_time": "2022-08-31T11:47:02.608Z"
   },
   {
    "duration": 15,
    "start_time": "2022-08-31T11:47:02.625Z"
   },
   {
    "duration": 23,
    "start_time": "2022-08-31T11:47:02.642Z"
   },
   {
    "duration": 8,
    "start_time": "2022-08-31T11:47:02.666Z"
   },
   {
    "duration": 40,
    "start_time": "2022-08-31T11:47:02.676Z"
   },
   {
    "duration": 12,
    "start_time": "2022-08-31T11:47:02.717Z"
   },
   {
    "duration": 21,
    "start_time": "2022-08-31T11:47:02.731Z"
   },
   {
    "duration": 16,
    "start_time": "2022-08-31T11:47:02.754Z"
   },
   {
    "duration": 5,
    "start_time": "2022-08-31T11:47:02.771Z"
   },
   {
    "duration": 32,
    "start_time": "2022-08-31T11:47:02.778Z"
   },
   {
    "duration": 5,
    "start_time": "2022-08-31T11:47:02.812Z"
   },
   {
    "duration": 28,
    "start_time": "2022-08-31T11:47:02.820Z"
   },
   {
    "duration": 16,
    "start_time": "2022-08-31T11:47:02.850Z"
   },
   {
    "duration": 10,
    "start_time": "2022-08-31T11:47:02.868Z"
   },
   {
    "duration": 35,
    "start_time": "2022-08-31T11:47:02.879Z"
   },
   {
    "duration": 249,
    "start_time": "2022-08-31T11:47:02.915Z"
   },
   {
    "duration": 163,
    "start_time": "2022-08-31T11:47:03.166Z"
   },
   {
    "duration": 7,
    "start_time": "2022-08-31T11:47:03.331Z"
   },
   {
    "duration": 18,
    "start_time": "2022-08-31T11:47:03.340Z"
   },
   {
    "duration": 245,
    "start_time": "2022-08-31T11:47:03.360Z"
   },
   {
    "duration": 24,
    "start_time": "2022-08-31T11:47:03.607Z"
   },
   {
    "duration": 401,
    "start_time": "2022-08-31T11:47:03.633Z"
   },
   {
    "duration": 7,
    "start_time": "2022-08-31T11:47:04.036Z"
   },
   {
    "duration": 305,
    "start_time": "2022-08-31T11:47:04.044Z"
   },
   {
    "duration": 8,
    "start_time": "2022-08-31T11:47:04.351Z"
   },
   {
    "duration": 791,
    "start_time": "2022-08-31T11:47:04.361Z"
   },
   {
    "duration": 16,
    "start_time": "2022-08-31T11:47:05.154Z"
   },
   {
    "duration": 234,
    "start_time": "2022-08-31T11:47:05.171Z"
   },
   {
    "duration": 308,
    "start_time": "2022-08-31T11:47:05.407Z"
   },
   {
    "duration": 16,
    "start_time": "2022-08-31T11:47:05.717Z"
   },
   {
    "duration": 229,
    "start_time": "2022-08-31T11:47:05.734Z"
   },
   {
    "duration": 10,
    "start_time": "2022-08-31T11:47:05.965Z"
   },
   {
    "duration": 7,
    "start_time": "2022-08-31T11:47:05.977Z"
   },
   {
    "duration": 18,
    "start_time": "2022-08-31T11:47:05.985Z"
   },
   {
    "duration": 15,
    "start_time": "2022-08-31T11:47:06.005Z"
   },
   {
    "duration": 15,
    "start_time": "2022-08-31T11:47:06.021Z"
   },
   {
    "duration": 7,
    "start_time": "2022-08-31T11:47:06.038Z"
   },
   {
    "duration": 11,
    "start_time": "2022-08-31T11:47:06.047Z"
   },
   {
    "duration": 132,
    "start_time": "2022-08-31T11:47:06.061Z"
   },
   {
    "duration": 0,
    "start_time": "2022-08-31T11:47:06.195Z"
   },
   {
    "duration": 0,
    "start_time": "2022-08-31T11:47:06.203Z"
   },
   {
    "duration": 0,
    "start_time": "2022-08-31T11:47:06.204Z"
   },
   {
    "duration": 0,
    "start_time": "2022-08-31T11:47:06.205Z"
   },
   {
    "duration": 0,
    "start_time": "2022-08-31T11:47:06.206Z"
   },
   {
    "duration": 0,
    "start_time": "2022-08-31T11:47:06.207Z"
   },
   {
    "duration": 0,
    "start_time": "2022-08-31T11:47:06.208Z"
   },
   {
    "duration": 1,
    "start_time": "2022-08-31T11:47:06.209Z"
   },
   {
    "duration": 0,
    "start_time": "2022-08-31T11:47:06.211Z"
   },
   {
    "duration": 0,
    "start_time": "2022-08-31T11:47:06.212Z"
   },
   {
    "duration": 5,
    "start_time": "2022-08-31T11:47:49.899Z"
   },
   {
    "duration": 7,
    "start_time": "2022-08-31T11:47:50.777Z"
   },
   {
    "duration": 5,
    "start_time": "2022-08-31T11:49:04.548Z"
   },
   {
    "duration": 7,
    "start_time": "2022-08-31T11:49:06.218Z"
   },
   {
    "duration": 1233,
    "start_time": "2022-08-31T11:49:10.392Z"
   },
   {
    "duration": 115,
    "start_time": "2022-08-31T11:49:11.628Z"
   },
   {
    "duration": 65,
    "start_time": "2022-08-31T11:49:11.745Z"
   },
   {
    "duration": 12,
    "start_time": "2022-08-31T11:49:11.812Z"
   },
   {
    "duration": 78,
    "start_time": "2022-08-31T11:49:11.826Z"
   },
   {
    "duration": 9,
    "start_time": "2022-08-31T11:49:11.906Z"
   },
   {
    "duration": 38,
    "start_time": "2022-08-31T11:49:11.916Z"
   },
   {
    "duration": 65,
    "start_time": "2022-08-31T11:49:11.956Z"
   },
   {
    "duration": 20,
    "start_time": "2022-08-31T11:49:12.023Z"
   },
   {
    "duration": 65,
    "start_time": "2022-08-31T11:49:12.045Z"
   },
   {
    "duration": 5,
    "start_time": "2022-08-31T11:49:12.111Z"
   },
   {
    "duration": 5,
    "start_time": "2022-08-31T11:49:12.118Z"
   },
   {
    "duration": 6,
    "start_time": "2022-08-31T11:49:12.125Z"
   },
   {
    "duration": 70,
    "start_time": "2022-08-31T11:49:12.134Z"
   },
   {
    "duration": 16,
    "start_time": "2022-08-31T11:49:12.206Z"
   },
   {
    "duration": 10,
    "start_time": "2022-08-31T11:49:12.224Z"
   },
   {
    "duration": 75,
    "start_time": "2022-08-31T11:49:12.235Z"
   },
   {
    "duration": 498,
    "start_time": "2022-08-31T11:49:12.311Z"
   },
   {
    "duration": 308,
    "start_time": "2022-08-31T11:49:12.811Z"
   },
   {
    "duration": 7,
    "start_time": "2022-08-31T11:49:13.121Z"
   },
   {
    "duration": 27,
    "start_time": "2022-08-31T11:49:13.129Z"
   },
   {
    "duration": 314,
    "start_time": "2022-08-31T11:49:13.203Z"
   },
   {
    "duration": 19,
    "start_time": "2022-08-31T11:49:13.519Z"
   },
   {
    "duration": 399,
    "start_time": "2022-08-31T11:49:13.540Z"
   },
   {
    "duration": 7,
    "start_time": "2022-08-31T11:49:13.940Z"
   },
   {
    "duration": 286,
    "start_time": "2022-08-31T11:49:13.948Z"
   },
   {
    "duration": 7,
    "start_time": "2022-08-31T11:49:14.236Z"
   },
   {
    "duration": 706,
    "start_time": "2022-08-31T11:49:14.245Z"
   },
   {
    "duration": 16,
    "start_time": "2022-08-31T11:49:14.954Z"
   },
   {
    "duration": 215,
    "start_time": "2022-08-31T11:49:14.971Z"
   },
   {
    "duration": 291,
    "start_time": "2022-08-31T11:49:15.187Z"
   },
   {
    "duration": 25,
    "start_time": "2022-08-31T11:49:15.479Z"
   },
   {
    "duration": 218,
    "start_time": "2022-08-31T11:49:15.506Z"
   },
   {
    "duration": 10,
    "start_time": "2022-08-31T11:49:15.726Z"
   },
   {
    "duration": 7,
    "start_time": "2022-08-31T11:49:15.737Z"
   },
   {
    "duration": 7,
    "start_time": "2022-08-31T11:49:15.745Z"
   },
   {
    "duration": 15,
    "start_time": "2022-08-31T11:49:15.754Z"
   },
   {
    "duration": 38,
    "start_time": "2022-08-31T11:49:15.771Z"
   },
   {
    "duration": 16,
    "start_time": "2022-08-31T11:49:15.811Z"
   },
   {
    "duration": 23,
    "start_time": "2022-08-31T11:49:15.829Z"
   },
   {
    "duration": 15,
    "start_time": "2022-08-31T11:49:15.856Z"
   },
   {
    "duration": 39,
    "start_time": "2022-08-31T11:49:15.873Z"
   },
   {
    "duration": 217,
    "start_time": "2022-08-31T11:49:15.914Z"
   },
   {
    "duration": 3508,
    "start_time": "2022-08-31T11:49:16.133Z"
   },
   {
    "duration": 10,
    "start_time": "2022-08-31T11:49:19.643Z"
   },
   {
    "duration": 106,
    "start_time": "2022-08-31T11:49:19.654Z"
   },
   {
    "duration": 23,
    "start_time": "2022-08-31T11:49:19.762Z"
   },
   {
    "duration": 29,
    "start_time": "2022-08-31T11:49:19.787Z"
   },
   {
    "duration": 11,
    "start_time": "2022-08-31T11:49:19.817Z"
   },
   {
    "duration": 11,
    "start_time": "2022-08-31T11:49:19.830Z"
   },
   {
    "duration": 21,
    "start_time": "2022-08-31T11:49:19.843Z"
   },
   {
    "duration": 8,
    "start_time": "2022-08-31T11:49:49.029Z"
   },
   {
    "duration": 6,
    "start_time": "2022-08-31T11:49:49.908Z"
   },
   {
    "duration": 15,
    "start_time": "2022-08-31T11:49:50.577Z"
   },
   {
    "duration": 5,
    "start_time": "2022-08-31T11:50:11.768Z"
   },
   {
    "duration": 7,
    "start_time": "2022-08-31T11:50:12.288Z"
   },
   {
    "duration": 5,
    "start_time": "2022-08-31T11:50:19.722Z"
   },
   {
    "duration": 7,
    "start_time": "2022-08-31T11:50:20.368Z"
   },
   {
    "duration": 1975,
    "start_time": "2022-08-31T11:50:27.154Z"
   },
   {
    "duration": 113,
    "start_time": "2022-08-31T11:50:29.132Z"
   },
   {
    "duration": 61,
    "start_time": "2022-08-31T11:50:29.247Z"
   },
   {
    "duration": 14,
    "start_time": "2022-08-31T11:50:29.310Z"
   },
   {
    "duration": 16,
    "start_time": "2022-08-31T11:50:29.326Z"
   },
   {
    "duration": 62,
    "start_time": "2022-08-31T11:50:29.343Z"
   },
   {
    "duration": 21,
    "start_time": "2022-08-31T11:50:29.406Z"
   },
   {
    "duration": 11,
    "start_time": "2022-08-31T11:50:29.428Z"
   },
   {
    "duration": 67,
    "start_time": "2022-08-31T11:50:29.441Z"
   },
   {
    "duration": 16,
    "start_time": "2022-08-31T11:50:29.509Z"
   },
   {
    "duration": 5,
    "start_time": "2022-08-31T11:50:29.527Z"
   },
   {
    "duration": 8,
    "start_time": "2022-08-31T11:50:29.534Z"
   },
   {
    "duration": 7,
    "start_time": "2022-08-31T11:50:29.543Z"
   },
   {
    "duration": 17,
    "start_time": "2022-08-31T11:50:29.605Z"
   },
   {
    "duration": 19,
    "start_time": "2022-08-31T11:50:29.624Z"
   },
   {
    "duration": 10,
    "start_time": "2022-08-31T11:50:29.645Z"
   },
   {
    "duration": 54,
    "start_time": "2022-08-31T11:50:29.657Z"
   },
   {
    "duration": 259,
    "start_time": "2022-08-31T11:50:29.713Z"
   },
   {
    "duration": 169,
    "start_time": "2022-08-31T11:50:29.974Z"
   },
   {
    "duration": 8,
    "start_time": "2022-08-31T11:50:30.145Z"
   },
   {
    "duration": 16,
    "start_time": "2022-08-31T11:50:30.155Z"
   },
   {
    "duration": 257,
    "start_time": "2022-08-31T11:50:30.173Z"
   },
   {
    "duration": 20,
    "start_time": "2022-08-31T11:50:30.432Z"
   },
   {
    "duration": 410,
    "start_time": "2022-08-31T11:50:30.453Z"
   },
   {
    "duration": 7,
    "start_time": "2022-08-31T11:50:30.865Z"
   },
   {
    "duration": 560,
    "start_time": "2022-08-31T11:50:30.873Z"
   },
   {
    "duration": 8,
    "start_time": "2022-08-31T11:50:31.435Z"
   },
   {
    "duration": 1406,
    "start_time": "2022-08-31T11:50:31.444Z"
   },
   {
    "duration": 15,
    "start_time": "2022-08-31T11:50:32.903Z"
   },
   {
    "duration": 247,
    "start_time": "2022-08-31T11:50:32.920Z"
   },
   {
    "duration": 313,
    "start_time": "2022-08-31T11:50:33.168Z"
   },
   {
    "duration": 26,
    "start_time": "2022-08-31T11:50:33.483Z"
   },
   {
    "duration": 212,
    "start_time": "2022-08-31T11:50:33.511Z"
   },
   {
    "duration": 9,
    "start_time": "2022-08-31T11:50:33.725Z"
   },
   {
    "duration": 4,
    "start_time": "2022-08-31T11:50:33.736Z"
   },
   {
    "duration": 9,
    "start_time": "2022-08-31T11:50:33.742Z"
   },
   {
    "duration": 14,
    "start_time": "2022-08-31T11:50:33.753Z"
   },
   {
    "duration": 14,
    "start_time": "2022-08-31T11:50:33.769Z"
   },
   {
    "duration": 7,
    "start_time": "2022-08-31T11:50:33.802Z"
   },
   {
    "duration": 11,
    "start_time": "2022-08-31T11:50:33.811Z"
   },
   {
    "duration": 136,
    "start_time": "2022-08-31T11:50:33.826Z"
   },
   {
    "duration": 0,
    "start_time": "2022-08-31T11:50:33.964Z"
   },
   {
    "duration": 0,
    "start_time": "2022-08-31T11:50:33.965Z"
   },
   {
    "duration": 0,
    "start_time": "2022-08-31T11:50:33.966Z"
   },
   {
    "duration": 0,
    "start_time": "2022-08-31T11:50:33.967Z"
   },
   {
    "duration": 0,
    "start_time": "2022-08-31T11:50:33.968Z"
   },
   {
    "duration": 0,
    "start_time": "2022-08-31T11:50:33.969Z"
   },
   {
    "duration": 0,
    "start_time": "2022-08-31T11:50:33.971Z"
   },
   {
    "duration": 0,
    "start_time": "2022-08-31T11:50:33.972Z"
   },
   {
    "duration": 0,
    "start_time": "2022-08-31T11:50:33.973Z"
   },
   {
    "duration": 0,
    "start_time": "2022-08-31T11:50:33.974Z"
   },
   {
    "duration": 3,
    "start_time": "2022-08-31T11:51:55.798Z"
   },
   {
    "duration": 7,
    "start_time": "2022-08-31T11:51:56.177Z"
   },
   {
    "duration": 1190,
    "start_time": "2022-08-31T11:52:00.522Z"
   },
   {
    "duration": 71,
    "start_time": "2022-08-31T11:52:01.714Z"
   },
   {
    "duration": 15,
    "start_time": "2022-08-31T11:52:01.787Z"
   },
   {
    "duration": 13,
    "start_time": "2022-08-31T11:52:01.804Z"
   },
   {
    "duration": 17,
    "start_time": "2022-08-31T11:52:01.820Z"
   },
   {
    "duration": 8,
    "start_time": "2022-08-31T11:52:01.839Z"
   },
   {
    "duration": 21,
    "start_time": "2022-08-31T11:52:01.848Z"
   },
   {
    "duration": 38,
    "start_time": "2022-08-31T11:52:01.871Z"
   },
   {
    "duration": 18,
    "start_time": "2022-08-31T11:52:01.911Z"
   },
   {
    "duration": 16,
    "start_time": "2022-08-31T11:52:01.931Z"
   },
   {
    "duration": 4,
    "start_time": "2022-08-31T11:52:01.949Z"
   },
   {
    "duration": 8,
    "start_time": "2022-08-31T11:52:01.955Z"
   },
   {
    "duration": 12,
    "start_time": "2022-08-31T11:52:01.965Z"
   },
   {
    "duration": 18,
    "start_time": "2022-08-31T11:52:02.002Z"
   },
   {
    "duration": 16,
    "start_time": "2022-08-31T11:52:02.022Z"
   },
   {
    "duration": 29,
    "start_time": "2022-08-31T11:52:02.039Z"
   },
   {
    "duration": 18,
    "start_time": "2022-08-31T11:52:02.070Z"
   },
   {
    "duration": 251,
    "start_time": "2022-08-31T11:52:02.089Z"
   },
   {
    "duration": 176,
    "start_time": "2022-08-31T11:52:02.341Z"
   },
   {
    "duration": 7,
    "start_time": "2022-08-31T11:52:02.519Z"
   },
   {
    "duration": 14,
    "start_time": "2022-08-31T11:52:02.528Z"
   },
   {
    "duration": 237,
    "start_time": "2022-08-31T11:52:02.544Z"
   },
   {
    "duration": 26,
    "start_time": "2022-08-31T11:52:02.783Z"
   },
   {
    "duration": 358,
    "start_time": "2022-08-31T11:52:02.811Z"
   },
   {
    "duration": 7,
    "start_time": "2022-08-31T11:52:03.171Z"
   },
   {
    "duration": 293,
    "start_time": "2022-08-31T11:52:03.180Z"
   },
   {
    "duration": 6,
    "start_time": "2022-08-31T11:52:03.476Z"
   },
   {
    "duration": 727,
    "start_time": "2022-08-31T11:52:03.484Z"
   },
   {
    "duration": 16,
    "start_time": "2022-08-31T11:52:04.212Z"
   },
   {
    "duration": 222,
    "start_time": "2022-08-31T11:52:04.230Z"
   },
   {
    "duration": 285,
    "start_time": "2022-08-31T11:52:04.454Z"
   },
   {
    "duration": 16,
    "start_time": "2022-08-31T11:52:04.741Z"
   },
   {
    "duration": 229,
    "start_time": "2022-08-31T11:52:04.759Z"
   },
   {
    "duration": 17,
    "start_time": "2022-08-31T11:52:04.989Z"
   },
   {
    "duration": 7,
    "start_time": "2022-08-31T11:52:05.008Z"
   },
   {
    "duration": 5,
    "start_time": "2022-08-31T11:52:05.017Z"
   },
   {
    "duration": 27,
    "start_time": "2022-08-31T11:52:05.024Z"
   },
   {
    "duration": 6,
    "start_time": "2022-08-31T11:52:05.054Z"
   },
   {
    "duration": 31,
    "start_time": "2022-08-31T11:52:05.062Z"
   },
   {
    "duration": 29,
    "start_time": "2022-08-31T11:52:05.095Z"
   },
   {
    "duration": 21,
    "start_time": "2022-08-31T11:52:05.128Z"
   },
   {
    "duration": 20,
    "start_time": "2022-08-31T11:52:05.150Z"
   },
   {
    "duration": 232,
    "start_time": "2022-08-31T11:52:05.173Z"
   },
   {
    "duration": 2769,
    "start_time": "2022-08-31T11:52:05.408Z"
   },
   {
    "duration": 9,
    "start_time": "2022-08-31T11:52:08.179Z"
   },
   {
    "duration": 101,
    "start_time": "2022-08-31T11:52:08.202Z"
   },
   {
    "duration": 25,
    "start_time": "2022-08-31T11:52:08.305Z"
   },
   {
    "duration": 28,
    "start_time": "2022-08-31T11:52:08.332Z"
   },
   {
    "duration": 13,
    "start_time": "2022-08-31T11:52:08.362Z"
   },
   {
    "duration": 41,
    "start_time": "2022-08-31T11:52:08.377Z"
   },
   {
    "duration": 24,
    "start_time": "2022-08-31T11:52:08.419Z"
   },
   {
    "duration": 13,
    "start_time": "2022-08-31T11:53:47.179Z"
   },
   {
    "duration": 7,
    "start_time": "2022-08-31T11:53:47.755Z"
   },
   {
    "duration": 4,
    "start_time": "2022-08-31T11:54:00.230Z"
   },
   {
    "duration": 7,
    "start_time": "2022-08-31T11:54:00.725Z"
   },
   {
    "duration": 4,
    "start_time": "2022-08-31T11:54:16.512Z"
   },
   {
    "duration": 7,
    "start_time": "2022-08-31T11:54:17.003Z"
   },
   {
    "duration": 1203,
    "start_time": "2022-08-31T11:54:21.508Z"
   },
   {
    "duration": 70,
    "start_time": "2022-08-31T11:54:22.713Z"
   },
   {
    "duration": 13,
    "start_time": "2022-08-31T11:54:22.785Z"
   },
   {
    "duration": 12,
    "start_time": "2022-08-31T11:54:22.800Z"
   },
   {
    "duration": 16,
    "start_time": "2022-08-31T11:54:22.814Z"
   },
   {
    "duration": 8,
    "start_time": "2022-08-31T11:54:22.831Z"
   },
   {
    "duration": 18,
    "start_time": "2022-08-31T11:54:22.841Z"
   },
   {
    "duration": 10,
    "start_time": "2022-08-31T11:54:22.861Z"
   },
   {
    "duration": 45,
    "start_time": "2022-08-31T11:54:22.873Z"
   },
   {
    "duration": 15,
    "start_time": "2022-08-31T11:54:22.921Z"
   },
   {
    "duration": 5,
    "start_time": "2022-08-31T11:54:22.938Z"
   },
   {
    "duration": 9,
    "start_time": "2022-08-31T11:54:22.944Z"
   },
   {
    "duration": 7,
    "start_time": "2022-08-31T11:54:22.955Z"
   },
   {
    "duration": 41,
    "start_time": "2022-08-31T11:54:22.964Z"
   },
   {
    "duration": 16,
    "start_time": "2022-08-31T11:54:23.007Z"
   },
   {
    "duration": 9,
    "start_time": "2022-08-31T11:54:23.025Z"
   },
   {
    "duration": 30,
    "start_time": "2022-08-31T11:54:23.035Z"
   },
   {
    "duration": 247,
    "start_time": "2022-08-31T11:54:23.067Z"
   },
   {
    "duration": 161,
    "start_time": "2022-08-31T11:54:23.316Z"
   },
   {
    "duration": 8,
    "start_time": "2022-08-31T11:54:23.478Z"
   },
   {
    "duration": 23,
    "start_time": "2022-08-31T11:54:23.488Z"
   },
   {
    "duration": 230,
    "start_time": "2022-08-31T11:54:23.512Z"
   },
   {
    "duration": 19,
    "start_time": "2022-08-31T11:54:23.743Z"
   },
   {
    "duration": 392,
    "start_time": "2022-08-31T11:54:23.764Z"
   },
   {
    "duration": 7,
    "start_time": "2022-08-31T11:54:24.158Z"
   },
   {
    "duration": 310,
    "start_time": "2022-08-31T11:54:24.167Z"
   },
   {
    "duration": 7,
    "start_time": "2022-08-31T11:54:24.479Z"
   },
   {
    "duration": 745,
    "start_time": "2022-08-31T11:54:24.504Z"
   },
   {
    "duration": 17,
    "start_time": "2022-08-31T11:54:25.251Z"
   },
   {
    "duration": 223,
    "start_time": "2022-08-31T11:54:25.270Z"
   },
   {
    "duration": 296,
    "start_time": "2022-08-31T11:54:25.496Z"
   },
   {
    "duration": 23,
    "start_time": "2022-08-31T11:54:25.794Z"
   },
   {
    "duration": 235,
    "start_time": "2022-08-31T11:54:25.819Z"
   },
   {
    "duration": 53,
    "start_time": "2022-08-31T11:54:26.055Z"
   },
   {
    "duration": 10,
    "start_time": "2022-08-31T11:54:26.110Z"
   },
   {
    "duration": 19,
    "start_time": "2022-08-31T11:54:26.122Z"
   },
   {
    "duration": 60,
    "start_time": "2022-08-31T11:54:26.143Z"
   },
   {
    "duration": 22,
    "start_time": "2022-08-31T11:54:26.205Z"
   },
   {
    "duration": 19,
    "start_time": "2022-08-31T11:54:26.229Z"
   },
   {
    "duration": 11,
    "start_time": "2022-08-31T11:54:26.303Z"
   },
   {
    "duration": 224,
    "start_time": "2022-08-31T11:54:26.316Z"
   },
   {
    "duration": 0,
    "start_time": "2022-08-31T11:54:26.542Z"
   },
   {
    "duration": 0,
    "start_time": "2022-08-31T11:54:26.542Z"
   },
   {
    "duration": 0,
    "start_time": "2022-08-31T11:54:26.543Z"
   },
   {
    "duration": 0,
    "start_time": "2022-08-31T11:54:26.545Z"
   },
   {
    "duration": 0,
    "start_time": "2022-08-31T11:54:26.546Z"
   },
   {
    "duration": 1,
    "start_time": "2022-08-31T11:54:26.546Z"
   },
   {
    "duration": 0,
    "start_time": "2022-08-31T11:54:26.603Z"
   },
   {
    "duration": 0,
    "start_time": "2022-08-31T11:54:26.604Z"
   },
   {
    "duration": 0,
    "start_time": "2022-08-31T11:54:26.606Z"
   },
   {
    "duration": 0,
    "start_time": "2022-08-31T11:54:26.607Z"
   },
   {
    "duration": 18,
    "start_time": "2022-08-31T11:55:23.123Z"
   },
   {
    "duration": 15,
    "start_time": "2022-08-31T11:55:28.695Z"
   },
   {
    "duration": 11,
    "start_time": "2022-08-31T11:55:34.935Z"
   },
   {
    "duration": 23,
    "start_time": "2022-08-31T11:55:35.725Z"
   },
   {
    "duration": 15,
    "start_time": "2022-08-31T11:55:38.446Z"
   },
   {
    "duration": 1145,
    "start_time": "2022-08-31T11:55:52.623Z"
   },
   {
    "duration": 71,
    "start_time": "2022-08-31T11:55:53.770Z"
   },
   {
    "duration": 15,
    "start_time": "2022-08-31T11:55:53.842Z"
   },
   {
    "duration": 18,
    "start_time": "2022-08-31T11:55:53.859Z"
   },
   {
    "duration": 26,
    "start_time": "2022-08-31T11:55:53.879Z"
   },
   {
    "duration": 8,
    "start_time": "2022-08-31T11:55:53.907Z"
   },
   {
    "duration": 25,
    "start_time": "2022-08-31T11:55:53.917Z"
   },
   {
    "duration": 11,
    "start_time": "2022-08-31T11:55:53.943Z"
   },
   {
    "duration": 20,
    "start_time": "2022-08-31T11:55:53.956Z"
   },
   {
    "duration": 34,
    "start_time": "2022-08-31T11:55:53.978Z"
   },
   {
    "duration": 5,
    "start_time": "2022-08-31T11:55:54.013Z"
   },
   {
    "duration": 15,
    "start_time": "2022-08-31T11:55:54.020Z"
   },
   {
    "duration": 8,
    "start_time": "2022-08-31T11:55:54.036Z"
   },
   {
    "duration": 20,
    "start_time": "2022-08-31T11:55:54.048Z"
   },
   {
    "duration": 15,
    "start_time": "2022-08-31T11:55:54.070Z"
   },
   {
    "duration": 24,
    "start_time": "2022-08-31T11:55:54.087Z"
   },
   {
    "duration": 27,
    "start_time": "2022-08-31T11:55:54.112Z"
   },
   {
    "duration": 258,
    "start_time": "2022-08-31T11:55:54.141Z"
   },
   {
    "duration": 220,
    "start_time": "2022-08-31T11:55:54.403Z"
   },
   {
    "duration": 7,
    "start_time": "2022-08-31T11:55:54.625Z"
   },
   {
    "duration": 11,
    "start_time": "2022-08-31T11:55:54.633Z"
   },
   {
    "duration": 557,
    "start_time": "2022-08-31T11:55:54.645Z"
   },
   {
    "duration": 21,
    "start_time": "2022-08-31T11:55:55.204Z"
   },
   {
    "duration": 620,
    "start_time": "2022-08-31T11:55:55.226Z"
   },
   {
    "duration": 59,
    "start_time": "2022-08-31T11:55:55.848Z"
   },
   {
    "duration": 600,
    "start_time": "2022-08-31T11:55:55.909Z"
   },
   {
    "duration": 6,
    "start_time": "2022-08-31T11:55:56.511Z"
   },
   {
    "duration": 778,
    "start_time": "2022-08-31T11:55:56.519Z"
   },
   {
    "duration": 16,
    "start_time": "2022-08-31T11:55:57.302Z"
   },
   {
    "duration": 231,
    "start_time": "2022-08-31T11:55:57.320Z"
   },
   {
    "duration": 283,
    "start_time": "2022-08-31T11:55:57.553Z"
   },
   {
    "duration": 15,
    "start_time": "2022-08-31T11:55:57.838Z"
   },
   {
    "duration": 261,
    "start_time": "2022-08-31T11:55:57.854Z"
   },
   {
    "duration": 12,
    "start_time": "2022-08-31T11:55:58.117Z"
   },
   {
    "duration": 29,
    "start_time": "2022-08-31T11:55:58.130Z"
   },
   {
    "duration": 20,
    "start_time": "2022-08-31T11:55:58.160Z"
   },
   {
    "duration": 42,
    "start_time": "2022-08-31T11:55:58.181Z"
   },
   {
    "duration": 55,
    "start_time": "2022-08-31T11:55:58.224Z"
   },
   {
    "duration": 37,
    "start_time": "2022-08-31T11:55:58.281Z"
   },
   {
    "duration": 42,
    "start_time": "2022-08-31T11:55:58.319Z"
   },
   {
    "duration": 33,
    "start_time": "2022-08-31T11:55:58.365Z"
   },
   {
    "duration": 22,
    "start_time": "2022-08-31T11:55:58.399Z"
   },
   {
    "duration": 215,
    "start_time": "2022-08-31T11:55:58.422Z"
   },
   {
    "duration": 2145,
    "start_time": "2022-08-31T11:55:58.639Z"
   },
   {
    "duration": 18,
    "start_time": "2022-08-31T11:56:00.786Z"
   },
   {
    "duration": 117,
    "start_time": "2022-08-31T11:56:00.806Z"
   },
   {
    "duration": 24,
    "start_time": "2022-08-31T11:56:00.925Z"
   },
   {
    "duration": 159,
    "start_time": "2022-08-31T11:56:00.951Z"
   },
   {
    "duration": 0,
    "start_time": "2022-08-31T11:56:01.112Z"
   },
   {
    "duration": 0,
    "start_time": "2022-08-31T11:56:01.114Z"
   },
   {
    "duration": 0,
    "start_time": "2022-08-31T11:56:01.115Z"
   },
   {
    "duration": 18,
    "start_time": "2022-08-31T11:56:15.727Z"
   },
   {
    "duration": 1201,
    "start_time": "2022-08-31T11:56:26.006Z"
   },
   {
    "duration": 70,
    "start_time": "2022-08-31T11:56:27.209Z"
   },
   {
    "duration": 15,
    "start_time": "2022-08-31T11:56:27.281Z"
   },
   {
    "duration": 17,
    "start_time": "2022-08-31T11:56:27.298Z"
   },
   {
    "duration": 17,
    "start_time": "2022-08-31T11:56:27.317Z"
   },
   {
    "duration": 9,
    "start_time": "2022-08-31T11:56:27.336Z"
   },
   {
    "duration": 19,
    "start_time": "2022-08-31T11:56:27.346Z"
   },
   {
    "duration": 39,
    "start_time": "2022-08-31T11:56:27.367Z"
   },
   {
    "duration": 18,
    "start_time": "2022-08-31T11:56:27.408Z"
   },
   {
    "duration": 17,
    "start_time": "2022-08-31T11:56:27.428Z"
   },
   {
    "duration": 6,
    "start_time": "2022-08-31T11:56:27.447Z"
   },
   {
    "duration": 14,
    "start_time": "2022-08-31T11:56:27.455Z"
   },
   {
    "duration": 33,
    "start_time": "2022-08-31T11:56:27.471Z"
   },
   {
    "duration": 26,
    "start_time": "2022-08-31T11:56:27.508Z"
   },
   {
    "duration": 15,
    "start_time": "2022-08-31T11:56:27.536Z"
   },
   {
    "duration": 9,
    "start_time": "2022-08-31T11:56:27.553Z"
   },
   {
    "duration": 19,
    "start_time": "2022-08-31T11:56:27.563Z"
   },
   {
    "duration": 239,
    "start_time": "2022-08-31T11:56:27.602Z"
   },
   {
    "duration": 159,
    "start_time": "2022-08-31T11:56:27.843Z"
   },
   {
    "duration": 7,
    "start_time": "2022-08-31T11:56:28.004Z"
   },
   {
    "duration": 9,
    "start_time": "2022-08-31T11:56:28.013Z"
   },
   {
    "duration": 240,
    "start_time": "2022-08-31T11:56:28.024Z"
   },
   {
    "duration": 20,
    "start_time": "2022-08-31T11:56:28.266Z"
   },
   {
    "duration": 383,
    "start_time": "2022-08-31T11:56:28.288Z"
   },
   {
    "duration": 6,
    "start_time": "2022-08-31T11:56:28.673Z"
   },
   {
    "duration": 344,
    "start_time": "2022-08-31T11:56:28.681Z"
   },
   {
    "duration": 9,
    "start_time": "2022-08-31T11:56:29.028Z"
   },
   {
    "duration": 900,
    "start_time": "2022-08-31T11:56:29.038Z"
   },
   {
    "duration": 65,
    "start_time": "2022-08-31T11:56:29.940Z"
   },
   {
    "duration": 414,
    "start_time": "2022-08-31T11:56:30.006Z"
   },
   {
    "duration": 618,
    "start_time": "2022-08-31T11:56:30.422Z"
   },
   {
    "duration": 68,
    "start_time": "2022-08-31T11:56:31.042Z"
   },
   {
    "duration": 437,
    "start_time": "2022-08-31T11:56:31.112Z"
   },
   {
    "duration": 10,
    "start_time": "2022-08-31T11:56:31.551Z"
   },
   {
    "duration": 43,
    "start_time": "2022-08-31T11:56:31.562Z"
   },
   {
    "duration": 8,
    "start_time": "2022-08-31T11:56:31.607Z"
   },
   {
    "duration": 17,
    "start_time": "2022-08-31T11:56:31.617Z"
   },
   {
    "duration": 23,
    "start_time": "2022-08-31T11:56:31.636Z"
   },
   {
    "duration": 20,
    "start_time": "2022-08-31T11:56:31.661Z"
   },
   {
    "duration": 33,
    "start_time": "2022-08-31T11:56:31.683Z"
   },
   {
    "duration": 18,
    "start_time": "2022-08-31T11:56:31.720Z"
   },
   {
    "duration": 26,
    "start_time": "2022-08-31T11:56:31.739Z"
   },
   {
    "duration": 227,
    "start_time": "2022-08-31T11:56:31.767Z"
   },
   {
    "duration": 2011,
    "start_time": "2022-08-31T11:56:31.995Z"
   },
   {
    "duration": 10,
    "start_time": "2022-08-31T11:56:34.008Z"
   },
   {
    "duration": 99,
    "start_time": "2022-08-31T11:56:34.019Z"
   },
   {
    "duration": 23,
    "start_time": "2022-08-31T11:56:34.120Z"
   },
   {
    "duration": 32,
    "start_time": "2022-08-31T11:56:34.145Z"
   },
   {
    "duration": 11,
    "start_time": "2022-08-31T11:56:34.179Z"
   },
   {
    "duration": 10,
    "start_time": "2022-08-31T11:56:34.203Z"
   },
   {
    "duration": 23,
    "start_time": "2022-08-31T11:56:34.214Z"
   },
   {
    "duration": 7,
    "start_time": "2022-08-31T11:57:34.002Z"
   },
   {
    "duration": 14,
    "start_time": "2022-08-31T11:57:34.715Z"
   },
   {
    "duration": 5,
    "start_time": "2022-08-31T11:57:52.735Z"
   },
   {
    "duration": 15,
    "start_time": "2022-08-31T11:57:53.626Z"
   },
   {
    "duration": 6,
    "start_time": "2022-08-31T11:58:16.404Z"
   },
   {
    "duration": 15,
    "start_time": "2022-08-31T11:58:17.422Z"
   },
   {
    "duration": 5,
    "start_time": "2022-08-31T11:58:39.870Z"
   },
   {
    "duration": 14,
    "start_time": "2022-08-31T11:58:41.129Z"
   },
   {
    "duration": 1199,
    "start_time": "2022-08-31T11:59:02.208Z"
   },
   {
    "duration": 70,
    "start_time": "2022-08-31T11:59:03.409Z"
   },
   {
    "duration": 15,
    "start_time": "2022-08-31T11:59:03.480Z"
   },
   {
    "duration": 17,
    "start_time": "2022-08-31T11:59:03.497Z"
   },
   {
    "duration": 16,
    "start_time": "2022-08-31T11:59:03.516Z"
   },
   {
    "duration": 9,
    "start_time": "2022-08-31T11:59:03.534Z"
   },
   {
    "duration": 22,
    "start_time": "2022-08-31T11:59:03.545Z"
   },
   {
    "duration": 36,
    "start_time": "2022-08-31T11:59:03.569Z"
   },
   {
    "duration": 23,
    "start_time": "2022-08-31T11:59:03.606Z"
   },
   {
    "duration": 16,
    "start_time": "2022-08-31T11:59:03.633Z"
   },
   {
    "duration": 5,
    "start_time": "2022-08-31T11:59:03.651Z"
   },
   {
    "duration": 7,
    "start_time": "2022-08-31T11:59:03.658Z"
   },
   {
    "duration": 6,
    "start_time": "2022-08-31T11:59:03.667Z"
   },
   {
    "duration": 41,
    "start_time": "2022-08-31T11:59:03.674Z"
   },
   {
    "duration": 17,
    "start_time": "2022-08-31T11:59:03.717Z"
   },
   {
    "duration": 12,
    "start_time": "2022-08-31T11:59:03.736Z"
   },
   {
    "duration": 18,
    "start_time": "2022-08-31T11:59:03.750Z"
   },
   {
    "duration": 266,
    "start_time": "2022-08-31T11:59:03.769Z"
   },
   {
    "duration": 166,
    "start_time": "2022-08-31T11:59:04.037Z"
   },
   {
    "duration": 7,
    "start_time": "2022-08-31T11:59:04.204Z"
   },
   {
    "duration": 10,
    "start_time": "2022-08-31T11:59:04.213Z"
   },
   {
    "duration": 256,
    "start_time": "2022-08-31T11:59:04.225Z"
   },
   {
    "duration": 26,
    "start_time": "2022-08-31T11:59:04.483Z"
   },
   {
    "duration": 372,
    "start_time": "2022-08-31T11:59:04.511Z"
   },
   {
    "duration": 6,
    "start_time": "2022-08-31T11:59:04.885Z"
   },
   {
    "duration": 292,
    "start_time": "2022-08-31T11:59:04.903Z"
   },
   {
    "duration": 10,
    "start_time": "2022-08-31T11:59:05.197Z"
   },
   {
    "duration": 731,
    "start_time": "2022-08-31T11:59:05.211Z"
   },
   {
    "duration": 15,
    "start_time": "2022-08-31T11:59:05.944Z"
   },
   {
    "duration": 385,
    "start_time": "2022-08-31T11:59:05.961Z"
   },
   {
    "duration": 600,
    "start_time": "2022-08-31T11:59:06.348Z"
   },
   {
    "duration": 67,
    "start_time": "2022-08-31T11:59:06.949Z"
   },
   {
    "duration": 417,
    "start_time": "2022-08-31T11:59:07.018Z"
   },
   {
    "duration": 67,
    "start_time": "2022-08-31T11:59:07.437Z"
   },
   {
    "duration": 3,
    "start_time": "2022-08-31T11:59:07.506Z"
   },
   {
    "duration": 29,
    "start_time": "2022-08-31T11:59:07.510Z"
   },
   {
    "duration": 63,
    "start_time": "2022-08-31T11:59:07.542Z"
   },
   {
    "duration": 47,
    "start_time": "2022-08-31T11:59:07.606Z"
   },
   {
    "duration": 67,
    "start_time": "2022-08-31T11:59:07.655Z"
   },
   {
    "duration": 34,
    "start_time": "2022-08-31T11:59:07.724Z"
   },
   {
    "duration": 56,
    "start_time": "2022-08-31T11:59:07.760Z"
   },
   {
    "duration": 18,
    "start_time": "2022-08-31T11:59:07.817Z"
   },
   {
    "duration": 279,
    "start_time": "2022-08-31T11:59:07.837Z"
   },
   {
    "duration": 2011,
    "start_time": "2022-08-31T11:59:08.118Z"
   },
   {
    "duration": 10,
    "start_time": "2022-08-31T11:59:10.131Z"
   },
   {
    "duration": 113,
    "start_time": "2022-08-31T11:59:10.143Z"
   },
   {
    "duration": 27,
    "start_time": "2022-08-31T11:59:10.258Z"
   },
   {
    "duration": 38,
    "start_time": "2022-08-31T11:59:10.287Z"
   },
   {
    "duration": 12,
    "start_time": "2022-08-31T11:59:10.327Z"
   },
   {
    "duration": 11,
    "start_time": "2022-08-31T11:59:10.341Z"
   },
   {
    "duration": 25,
    "start_time": "2022-08-31T11:59:10.353Z"
   },
   {
    "duration": 18,
    "start_time": "2022-08-31T12:00:31.978Z"
   },
   {
    "duration": 15,
    "start_time": "2022-08-31T12:00:32.508Z"
   },
   {
    "duration": 15,
    "start_time": "2022-08-31T12:00:42.318Z"
   },
   {
    "duration": 16,
    "start_time": "2022-08-31T12:00:48.408Z"
   },
   {
    "duration": 58,
    "start_time": "2022-08-31T12:02:22.238Z"
   },
   {
    "duration": 15,
    "start_time": "2022-08-31T12:03:18.509Z"
   },
   {
    "duration": 14,
    "start_time": "2022-08-31T12:03:19.381Z"
   },
   {
    "duration": 17,
    "start_time": "2022-08-31T12:03:30.196Z"
   },
   {
    "duration": 18,
    "start_time": "2022-08-31T12:03:39.188Z"
   },
   {
    "duration": 16,
    "start_time": "2022-08-31T12:04:59.320Z"
   },
   {
    "duration": 16,
    "start_time": "2022-08-31T12:04:59.918Z"
   },
   {
    "duration": 16,
    "start_time": "2022-08-31T12:05:08.517Z"
   },
   {
    "duration": 20,
    "start_time": "2022-08-31T12:05:17.506Z"
   },
   {
    "duration": 13,
    "start_time": "2022-08-31T12:05:35.137Z"
   },
   {
    "duration": 18,
    "start_time": "2022-08-31T12:05:35.716Z"
   },
   {
    "duration": 16,
    "start_time": "2022-08-31T12:05:39.504Z"
   },
   {
    "duration": 16,
    "start_time": "2022-08-31T12:05:41.108Z"
   },
   {
    "duration": 18,
    "start_time": "2022-08-31T12:05:54.143Z"
   },
   {
    "duration": 231,
    "start_time": "2022-08-31T12:06:06.788Z"
   },
   {
    "duration": 3454,
    "start_time": "2022-08-31T12:06:24.297Z"
   },
   {
    "duration": 10,
    "start_time": "2022-08-31T12:06:27.753Z"
   },
   {
    "duration": 97,
    "start_time": "2022-08-31T12:06:29.428Z"
   },
   {
    "duration": 117,
    "start_time": "2022-08-31T12:06:53.579Z"
   },
   {
    "duration": 27,
    "start_time": "2022-08-31T12:07:13.952Z"
   },
   {
    "duration": 27,
    "start_time": "2022-08-31T12:07:14.686Z"
   },
   {
    "duration": 12,
    "start_time": "2022-08-31T12:07:20.345Z"
   },
   {
    "duration": 19,
    "start_time": "2022-08-31T12:09:31.220Z"
   },
   {
    "duration": 233,
    "start_time": "2022-08-31T12:09:35.381Z"
   },
   {
    "duration": 363,
    "start_time": "2022-08-31T12:11:27.218Z"
   },
   {
    "duration": 3303,
    "start_time": "2022-08-31T12:11:44.088Z"
   },
   {
    "duration": 13,
    "start_time": "2022-08-31T12:11:50.858Z"
   },
   {
    "duration": 2,
    "start_time": "2022-08-31T12:11:54.301Z"
   },
   {
    "duration": 2,
    "start_time": "2022-08-31T12:11:55.416Z"
   },
   {
    "duration": 427,
    "start_time": "2022-08-31T12:11:56.398Z"
   },
   {
    "duration": 1874,
    "start_time": "2022-08-31T12:12:06.272Z"
   },
   {
    "duration": 1225,
    "start_time": "2022-08-31T12:12:54.697Z"
   },
   {
    "duration": 84,
    "start_time": "2022-08-31T12:12:55.925Z"
   },
   {
    "duration": 15,
    "start_time": "2022-08-31T12:12:56.010Z"
   },
   {
    "duration": 12,
    "start_time": "2022-08-31T12:12:56.027Z"
   },
   {
    "duration": 16,
    "start_time": "2022-08-31T12:12:56.041Z"
   },
   {
    "duration": 9,
    "start_time": "2022-08-31T12:12:56.058Z"
   },
   {
    "duration": 47,
    "start_time": "2022-08-31T12:12:56.068Z"
   },
   {
    "duration": 11,
    "start_time": "2022-08-31T12:12:56.117Z"
   },
   {
    "duration": 25,
    "start_time": "2022-08-31T12:12:56.130Z"
   },
   {
    "duration": 16,
    "start_time": "2022-08-31T12:12:56.158Z"
   },
   {
    "duration": 5,
    "start_time": "2022-08-31T12:12:56.175Z"
   },
   {
    "duration": 6,
    "start_time": "2022-08-31T12:12:56.203Z"
   },
   {
    "duration": 6,
    "start_time": "2022-08-31T12:12:56.211Z"
   },
   {
    "duration": 19,
    "start_time": "2022-08-31T12:12:56.219Z"
   },
   {
    "duration": 14,
    "start_time": "2022-08-31T12:12:56.240Z"
   },
   {
    "duration": 10,
    "start_time": "2022-08-31T12:12:56.256Z"
   },
   {
    "duration": 49,
    "start_time": "2022-08-31T12:12:56.267Z"
   },
   {
    "duration": 252,
    "start_time": "2022-08-31T12:12:56.318Z"
   },
   {
    "duration": 161,
    "start_time": "2022-08-31T12:12:56.572Z"
   },
   {
    "duration": 7,
    "start_time": "2022-08-31T12:12:56.734Z"
   },
   {
    "duration": 11,
    "start_time": "2022-08-31T12:12:56.743Z"
   },
   {
    "duration": 243,
    "start_time": "2022-08-31T12:12:56.755Z"
   },
   {
    "duration": 20,
    "start_time": "2022-08-31T12:12:57.000Z"
   },
   {
    "duration": 528,
    "start_time": "2022-08-31T12:12:57.022Z"
   },
   {
    "duration": 7,
    "start_time": "2022-08-31T12:12:57.602Z"
   },
   {
    "duration": 528,
    "start_time": "2022-08-31T12:12:57.611Z"
   },
   {
    "duration": 61,
    "start_time": "2022-08-31T12:12:58.141Z"
   },
   {
    "duration": 1203,
    "start_time": "2022-08-31T12:12:58.206Z"
   },
   {
    "duration": 15,
    "start_time": "2022-08-31T12:12:59.411Z"
   },
   {
    "duration": 214,
    "start_time": "2022-08-31T12:12:59.428Z"
   },
   {
    "duration": 296,
    "start_time": "2022-08-31T12:12:59.643Z"
   },
   {
    "duration": 16,
    "start_time": "2022-08-31T12:12:59.941Z"
   },
   {
    "duration": 237,
    "start_time": "2022-08-31T12:12:59.958Z"
   },
   {
    "duration": 9,
    "start_time": "2022-08-31T12:13:00.203Z"
   },
   {
    "duration": 5,
    "start_time": "2022-08-31T12:13:00.214Z"
   },
   {
    "duration": 6,
    "start_time": "2022-08-31T12:13:00.221Z"
   },
   {
    "duration": 15,
    "start_time": "2022-08-31T12:13:00.229Z"
   },
   {
    "duration": 28,
    "start_time": "2022-08-31T12:13:00.246Z"
   },
   {
    "duration": 29,
    "start_time": "2022-08-31T12:13:00.276Z"
   },
   {
    "duration": 34,
    "start_time": "2022-08-31T12:13:00.307Z"
   },
   {
    "duration": 19,
    "start_time": "2022-08-31T12:13:00.343Z"
   },
   {
    "duration": 17,
    "start_time": "2022-08-31T12:13:00.364Z"
   },
   {
    "duration": 233,
    "start_time": "2022-08-31T12:13:00.382Z"
   },
   {
    "duration": 2168,
    "start_time": "2022-08-31T12:13:00.618Z"
   },
   {
    "duration": 16,
    "start_time": "2022-08-31T12:13:02.788Z"
   },
   {
    "duration": 14,
    "start_time": "2022-08-31T12:13:02.806Z"
   },
   {
    "duration": 12,
    "start_time": "2022-08-31T12:13:02.822Z"
   },
   {
    "duration": 560,
    "start_time": "2022-08-31T12:13:02.835Z"
   },
   {
    "duration": 0,
    "start_time": "2022-08-31T12:13:03.398Z"
   },
   {
    "duration": 0,
    "start_time": "2022-08-31T12:13:03.400Z"
   },
   {
    "duration": 0,
    "start_time": "2022-08-31T12:13:03.401Z"
   },
   {
    "duration": 0,
    "start_time": "2022-08-31T12:13:03.403Z"
   },
   {
    "duration": 0,
    "start_time": "2022-08-31T12:13:03.404Z"
   },
   {
    "duration": 1174,
    "start_time": "2022-08-31T12:13:36.051Z"
   },
   {
    "duration": 69,
    "start_time": "2022-08-31T12:13:37.227Z"
   },
   {
    "duration": 14,
    "start_time": "2022-08-31T12:13:37.298Z"
   },
   {
    "duration": 12,
    "start_time": "2022-08-31T12:13:37.314Z"
   },
   {
    "duration": 17,
    "start_time": "2022-08-31T12:13:37.328Z"
   },
   {
    "duration": 8,
    "start_time": "2022-08-31T12:13:37.347Z"
   },
   {
    "duration": 48,
    "start_time": "2022-08-31T12:13:37.356Z"
   },
   {
    "duration": 12,
    "start_time": "2022-08-31T12:13:37.406Z"
   },
   {
    "duration": 20,
    "start_time": "2022-08-31T12:13:37.420Z"
   },
   {
    "duration": 16,
    "start_time": "2022-08-31T12:13:37.442Z"
   },
   {
    "duration": 5,
    "start_time": "2022-08-31T12:13:37.460Z"
   },
   {
    "duration": 11,
    "start_time": "2022-08-31T12:13:37.466Z"
   },
   {
    "duration": 28,
    "start_time": "2022-08-31T12:13:37.478Z"
   },
   {
    "duration": 25,
    "start_time": "2022-08-31T12:13:37.510Z"
   },
   {
    "duration": 16,
    "start_time": "2022-08-31T12:13:37.536Z"
   },
   {
    "duration": 10,
    "start_time": "2022-08-31T12:13:37.554Z"
   },
   {
    "duration": 44,
    "start_time": "2022-08-31T12:13:37.565Z"
   },
   {
    "duration": 247,
    "start_time": "2022-08-31T12:13:37.611Z"
   },
   {
    "duration": 163,
    "start_time": "2022-08-31T12:13:37.859Z"
   },
   {
    "duration": 7,
    "start_time": "2022-08-31T12:13:38.024Z"
   },
   {
    "duration": 32,
    "start_time": "2022-08-31T12:13:38.033Z"
   },
   {
    "duration": 250,
    "start_time": "2022-08-31T12:13:38.066Z"
   },
   {
    "duration": 19,
    "start_time": "2022-08-31T12:13:38.317Z"
   },
   {
    "duration": 440,
    "start_time": "2022-08-31T12:13:38.338Z"
   },
   {
    "duration": 9,
    "start_time": "2022-08-31T12:13:38.780Z"
   },
   {
    "duration": 511,
    "start_time": "2022-08-31T12:13:38.802Z"
   },
   {
    "duration": 7,
    "start_time": "2022-08-31T12:13:39.315Z"
   },
   {
    "duration": 1488,
    "start_time": "2022-08-31T12:13:39.323Z"
   },
   {
    "duration": 16,
    "start_time": "2022-08-31T12:13:40.813Z"
   },
   {
    "duration": 416,
    "start_time": "2022-08-31T12:13:40.830Z"
   },
   {
    "duration": 375,
    "start_time": "2022-08-31T12:13:41.248Z"
   },
   {
    "duration": 16,
    "start_time": "2022-08-31T12:13:41.626Z"
   },
   {
    "duration": 237,
    "start_time": "2022-08-31T12:13:41.644Z"
   },
   {
    "duration": 10,
    "start_time": "2022-08-31T12:13:41.883Z"
   },
   {
    "duration": 3,
    "start_time": "2022-08-31T12:13:41.903Z"
   },
   {
    "duration": 9,
    "start_time": "2022-08-31T12:13:41.908Z"
   },
   {
    "duration": 19,
    "start_time": "2022-08-31T12:13:41.918Z"
   },
   {
    "duration": 26,
    "start_time": "2022-08-31T12:13:41.939Z"
   },
   {
    "duration": 15,
    "start_time": "2022-08-31T12:13:41.967Z"
   },
   {
    "duration": 20,
    "start_time": "2022-08-31T12:13:42.002Z"
   },
   {
    "duration": 18,
    "start_time": "2022-08-31T12:13:42.026Z"
   },
   {
    "duration": 20,
    "start_time": "2022-08-31T12:13:42.046Z"
   },
   {
    "duration": 286,
    "start_time": "2022-08-31T12:13:42.068Z"
   },
   {
    "duration": 2185,
    "start_time": "2022-08-31T12:13:42.356Z"
   },
   {
    "duration": 10,
    "start_time": "2022-08-31T12:13:44.543Z"
   },
   {
    "duration": 9,
    "start_time": "2022-08-31T12:13:44.554Z"
   },
   {
    "duration": 7,
    "start_time": "2022-08-31T12:13:44.565Z"
   },
   {
    "duration": 1060,
    "start_time": "2022-08-31T12:13:44.573Z"
   },
   {
    "duration": 0,
    "start_time": "2022-08-31T12:13:45.635Z"
   },
   {
    "duration": 0,
    "start_time": "2022-08-31T12:13:45.636Z"
   },
   {
    "duration": 0,
    "start_time": "2022-08-31T12:13:45.637Z"
   },
   {
    "duration": 0,
    "start_time": "2022-08-31T12:13:45.639Z"
   },
   {
    "duration": 0,
    "start_time": "2022-08-31T12:13:45.640Z"
   },
   {
    "duration": 86,
    "start_time": "2022-08-31T12:15:17.579Z"
   },
   {
    "duration": 26,
    "start_time": "2022-08-31T12:15:18.505Z"
   },
   {
    "duration": 341,
    "start_time": "2022-08-31T12:15:24.197Z"
   },
   {
    "duration": 13,
    "start_time": "2022-08-31T12:16:02.418Z"
   },
   {
    "duration": 41,
    "start_time": "2022-08-31T12:16:21.083Z"
   },
   {
    "duration": 10,
    "start_time": "2022-08-31T12:16:21.839Z"
   },
   {
    "duration": 2078,
    "start_time": "2022-08-31T12:17:05.166Z"
   },
   {
    "duration": 11,
    "start_time": "2022-08-31T12:17:08.114Z"
   },
   {
    "duration": 3,
    "start_time": "2022-08-31T12:17:10.607Z"
   },
   {
    "duration": 2,
    "start_time": "2022-08-31T12:17:11.553Z"
   },
   {
    "duration": 28,
    "start_time": "2022-08-31T12:17:12.390Z"
   },
   {
    "duration": 22,
    "start_time": "2022-08-31T12:17:14.049Z"
   },
   {
    "duration": 11,
    "start_time": "2022-08-31T12:17:14.983Z"
   },
   {
    "duration": 21,
    "start_time": "2022-08-31T12:17:38.856Z"
   },
   {
    "duration": 10,
    "start_time": "2022-08-31T12:17:39.722Z"
   },
   {
    "duration": 14,
    "start_time": "2022-08-31T12:17:58.940Z"
   },
   {
    "duration": 16,
    "start_time": "2022-08-31T12:18:01.452Z"
   },
   {
    "duration": 9,
    "start_time": "2022-08-31T12:18:19.634Z"
   },
   {
    "duration": 11,
    "start_time": "2022-08-31T12:18:20.202Z"
   },
   {
    "duration": 14,
    "start_time": "2022-08-31T12:18:23.314Z"
   },
   {
    "duration": 11,
    "start_time": "2022-08-31T12:18:27.071Z"
   },
   {
    "duration": 1194,
    "start_time": "2022-08-31T12:18:34.817Z"
   },
   {
    "duration": 70,
    "start_time": "2022-08-31T12:18:36.013Z"
   },
   {
    "duration": 15,
    "start_time": "2022-08-31T12:18:36.085Z"
   },
   {
    "duration": 28,
    "start_time": "2022-08-31T12:18:36.102Z"
   },
   {
    "duration": 26,
    "start_time": "2022-08-31T12:18:36.133Z"
   },
   {
    "duration": 8,
    "start_time": "2022-08-31T12:18:36.161Z"
   },
   {
    "duration": 22,
    "start_time": "2022-08-31T12:18:36.171Z"
   },
   {
    "duration": 14,
    "start_time": "2022-08-31T12:18:36.195Z"
   },
   {
    "duration": 26,
    "start_time": "2022-08-31T12:18:36.210Z"
   },
   {
    "duration": 16,
    "start_time": "2022-08-31T12:18:36.239Z"
   },
   {
    "duration": 5,
    "start_time": "2022-08-31T12:18:36.256Z"
   },
   {
    "duration": 8,
    "start_time": "2022-08-31T12:18:36.263Z"
   },
   {
    "duration": 7,
    "start_time": "2022-08-31T12:18:36.272Z"
   },
   {
    "duration": 33,
    "start_time": "2022-08-31T12:18:36.281Z"
   },
   {
    "duration": 18,
    "start_time": "2022-08-31T12:18:36.316Z"
   },
   {
    "duration": 10,
    "start_time": "2022-08-31T12:18:36.335Z"
   },
   {
    "duration": 26,
    "start_time": "2022-08-31T12:18:36.346Z"
   },
   {
    "duration": 261,
    "start_time": "2022-08-31T12:18:36.374Z"
   },
   {
    "duration": 159,
    "start_time": "2022-08-31T12:18:36.637Z"
   },
   {
    "duration": 10,
    "start_time": "2022-08-31T12:18:36.798Z"
   },
   {
    "duration": 9,
    "start_time": "2022-08-31T12:18:36.810Z"
   },
   {
    "duration": 237,
    "start_time": "2022-08-31T12:18:36.821Z"
   },
   {
    "duration": 18,
    "start_time": "2022-08-31T12:18:37.059Z"
   },
   {
    "duration": 403,
    "start_time": "2022-08-31T12:18:37.079Z"
   },
   {
    "duration": 7,
    "start_time": "2022-08-31T12:18:37.483Z"
   },
   {
    "duration": 286,
    "start_time": "2022-08-31T12:18:37.504Z"
   },
   {
    "duration": 12,
    "start_time": "2022-08-31T12:18:37.791Z"
   },
   {
    "duration": 1199,
    "start_time": "2022-08-31T12:18:37.806Z"
   },
   {
    "duration": 19,
    "start_time": "2022-08-31T12:18:39.007Z"
   },
   {
    "duration": 502,
    "start_time": "2022-08-31T12:18:39.028Z"
   },
   {
    "duration": 589,
    "start_time": "2022-08-31T12:18:39.531Z"
   },
   {
    "duration": 19,
    "start_time": "2022-08-31T12:18:40.122Z"
   },
   {
    "duration": 267,
    "start_time": "2022-08-31T12:18:40.144Z"
   },
   {
    "duration": 11,
    "start_time": "2022-08-31T12:18:40.413Z"
   },
   {
    "duration": 6,
    "start_time": "2022-08-31T12:18:40.425Z"
   },
   {
    "duration": 7,
    "start_time": "2022-08-31T12:18:40.433Z"
   },
   {
    "duration": 19,
    "start_time": "2022-08-31T12:18:40.442Z"
   },
   {
    "duration": 43,
    "start_time": "2022-08-31T12:18:40.463Z"
   },
   {
    "duration": 14,
    "start_time": "2022-08-31T12:18:40.508Z"
   },
   {
    "duration": 19,
    "start_time": "2022-08-31T12:18:40.524Z"
   },
   {
    "duration": 17,
    "start_time": "2022-08-31T12:18:40.545Z"
   },
   {
    "duration": 45,
    "start_time": "2022-08-31T12:18:40.564Z"
   },
   {
    "duration": 253,
    "start_time": "2022-08-31T12:18:40.611Z"
   },
   {
    "duration": 2026,
    "start_time": "2022-08-31T12:18:40.866Z"
   },
   {
    "duration": 18,
    "start_time": "2022-08-31T12:18:42.893Z"
   },
   {
    "duration": 10,
    "start_time": "2022-08-31T12:18:42.913Z"
   },
   {
    "duration": 6,
    "start_time": "2022-08-31T12:18:42.924Z"
   },
   {
    "duration": 19,
    "start_time": "2022-08-31T12:18:42.931Z"
   },
   {
    "duration": 21,
    "start_time": "2022-08-31T12:18:42.952Z"
   },
   {
    "duration": 12,
    "start_time": "2022-08-31T12:18:42.975Z"
   },
   {
    "duration": 18,
    "start_time": "2022-08-31T12:18:43.003Z"
   },
   {
    "duration": 9,
    "start_time": "2022-08-31T12:18:43.023Z"
   },
   {
    "duration": 14,
    "start_time": "2022-08-31T12:18:43.034Z"
   },
   {
    "duration": 18,
    "start_time": "2022-08-31T12:18:43.049Z"
   },
   {
    "duration": 1158,
    "start_time": "2022-08-31T12:19:24.268Z"
   },
   {
    "duration": 78,
    "start_time": "2022-08-31T12:19:25.428Z"
   },
   {
    "duration": 16,
    "start_time": "2022-08-31T12:19:25.508Z"
   },
   {
    "duration": 15,
    "start_time": "2022-08-31T12:19:25.526Z"
   },
   {
    "duration": 21,
    "start_time": "2022-08-31T12:19:25.543Z"
   },
   {
    "duration": 38,
    "start_time": "2022-08-31T12:19:25.566Z"
   },
   {
    "duration": 19,
    "start_time": "2022-08-31T12:19:25.606Z"
   },
   {
    "duration": 12,
    "start_time": "2022-08-31T12:19:25.627Z"
   },
   {
    "duration": 24,
    "start_time": "2022-08-31T12:19:25.640Z"
   },
   {
    "duration": 39,
    "start_time": "2022-08-31T12:19:25.667Z"
   },
   {
    "duration": 5,
    "start_time": "2022-08-31T12:19:25.708Z"
   },
   {
    "duration": 7,
    "start_time": "2022-08-31T12:19:25.715Z"
   },
   {
    "duration": 7,
    "start_time": "2022-08-31T12:19:25.724Z"
   },
   {
    "duration": 29,
    "start_time": "2022-08-31T12:19:25.732Z"
   },
   {
    "duration": 41,
    "start_time": "2022-08-31T12:19:25.763Z"
   },
   {
    "duration": 13,
    "start_time": "2022-08-31T12:19:25.805Z"
   },
   {
    "duration": 17,
    "start_time": "2022-08-31T12:19:25.820Z"
   },
   {
    "duration": 266,
    "start_time": "2022-08-31T12:19:25.839Z"
   },
   {
    "duration": 155,
    "start_time": "2022-08-31T12:19:26.106Z"
   },
   {
    "duration": 8,
    "start_time": "2022-08-31T12:19:26.262Z"
   },
   {
    "duration": 10,
    "start_time": "2022-08-31T12:19:26.271Z"
   },
   {
    "duration": 271,
    "start_time": "2022-08-31T12:19:26.282Z"
   },
   {
    "duration": 19,
    "start_time": "2022-08-31T12:19:26.555Z"
   },
   {
    "duration": 389,
    "start_time": "2022-08-31T12:19:26.576Z"
   },
   {
    "duration": 7,
    "start_time": "2022-08-31T12:19:26.967Z"
   },
   {
    "duration": 297,
    "start_time": "2022-08-31T12:19:26.976Z"
   },
   {
    "duration": 7,
    "start_time": "2022-08-31T12:19:27.275Z"
   },
   {
    "duration": 749,
    "start_time": "2022-08-31T12:19:27.286Z"
   },
   {
    "duration": 16,
    "start_time": "2022-08-31T12:19:28.037Z"
   },
   {
    "duration": 221,
    "start_time": "2022-08-31T12:19:28.055Z"
   },
   {
    "duration": 294,
    "start_time": "2022-08-31T12:19:28.277Z"
   },
   {
    "duration": 17,
    "start_time": "2022-08-31T12:19:28.572Z"
   },
   {
    "duration": 227,
    "start_time": "2022-08-31T12:19:28.602Z"
   },
   {
    "duration": 12,
    "start_time": "2022-08-31T12:19:28.831Z"
   },
   {
    "duration": 22,
    "start_time": "2022-08-31T12:19:28.845Z"
   },
   {
    "duration": 10,
    "start_time": "2022-08-31T12:19:28.869Z"
   },
   {
    "duration": 18,
    "start_time": "2022-08-31T12:19:28.881Z"
   },
   {
    "duration": 32,
    "start_time": "2022-08-31T12:19:28.901Z"
   },
   {
    "duration": 37,
    "start_time": "2022-08-31T12:19:28.935Z"
   },
   {
    "duration": 59,
    "start_time": "2022-08-31T12:19:28.974Z"
   },
   {
    "duration": 23,
    "start_time": "2022-08-31T12:19:29.035Z"
   },
   {
    "duration": 22,
    "start_time": "2022-08-31T12:19:29.062Z"
   },
   {
    "duration": 267,
    "start_time": "2022-08-31T12:19:29.086Z"
   },
   {
    "duration": 2028,
    "start_time": "2022-08-31T12:19:29.354Z"
   },
   {
    "duration": 10,
    "start_time": "2022-08-31T12:19:31.384Z"
   },
   {
    "duration": 112,
    "start_time": "2022-08-31T12:19:31.396Z"
   },
   {
    "duration": 24,
    "start_time": "2022-08-31T12:19:31.509Z"
   },
   {
    "duration": 25,
    "start_time": "2022-08-31T12:19:31.535Z"
   },
   {
    "duration": 13,
    "start_time": "2022-08-31T12:19:31.562Z"
   },
   {
    "duration": 32,
    "start_time": "2022-08-31T12:19:31.577Z"
   },
   {
    "duration": 19,
    "start_time": "2022-08-31T12:19:31.611Z"
   },
   {
    "duration": 4,
    "start_time": "2022-08-31T12:22:20.189Z"
   },
   {
    "duration": 11,
    "start_time": "2022-08-31T12:23:26.047Z"
   },
   {
    "duration": 17,
    "start_time": "2022-08-31T12:23:33.077Z"
   },
   {
    "duration": 15,
    "start_time": "2022-08-31T12:24:37.869Z"
   },
   {
    "duration": 16,
    "start_time": "2022-08-31T12:24:57.908Z"
   },
   {
    "duration": 59,
    "start_time": "2022-08-31T12:25:34.788Z"
   },
   {
    "duration": 7,
    "start_time": "2022-08-31T12:27:36.235Z"
   },
   {
    "duration": 116,
    "start_time": "2022-08-31T12:28:06.137Z"
   },
   {
    "duration": 8,
    "start_time": "2022-08-31T12:28:23.745Z"
   },
   {
    "duration": 9,
    "start_time": "2022-08-31T12:28:36.885Z"
   },
   {
    "duration": 25,
    "start_time": "2022-08-31T12:31:41.977Z"
   },
   {
    "duration": 22,
    "start_time": "2022-08-31T12:31:44.868Z"
   },
   {
    "duration": 20,
    "start_time": "2022-08-31T12:32:15.087Z"
   },
   {
    "duration": 18,
    "start_time": "2022-08-31T12:32:15.777Z"
   },
   {
    "duration": 13,
    "start_time": "2022-08-31T12:32:20.301Z"
   },
   {
    "duration": 11,
    "start_time": "2022-08-31T12:32:36.453Z"
   },
   {
    "duration": 12,
    "start_time": "2022-08-31T12:32:43.711Z"
   },
   {
    "duration": 18,
    "start_time": "2022-08-31T12:32:53.570Z"
   },
   {
    "duration": 9,
    "start_time": "2022-08-31T12:33:11.227Z"
   },
   {
    "duration": 8,
    "start_time": "2022-08-31T12:38:17.665Z"
   },
   {
    "duration": 17,
    "start_time": "2022-08-31T12:44:43.970Z"
   },
   {
    "duration": 18,
    "start_time": "2022-08-31T12:45:08.021Z"
   },
   {
    "duration": 19,
    "start_time": "2022-08-31T12:45:16.238Z"
   },
   {
    "duration": 18,
    "start_time": "2022-08-31T12:45:36.319Z"
   },
   {
    "duration": 18,
    "start_time": "2022-08-31T12:47:22.129Z"
   },
   {
    "duration": 18,
    "start_time": "2022-08-31T12:47:35.229Z"
   },
   {
    "duration": 14,
    "start_time": "2022-08-31T12:47:48.579Z"
   },
   {
    "duration": 70,
    "start_time": "2022-08-31T12:48:21.131Z"
   },
   {
    "duration": 11,
    "start_time": "2022-08-31T12:52:21.148Z"
   },
   {
    "duration": 1435,
    "start_time": "2022-08-31T12:53:18.887Z"
   },
   {
    "duration": 73,
    "start_time": "2022-08-31T12:53:20.324Z"
   },
   {
    "duration": 15,
    "start_time": "2022-08-31T12:53:20.399Z"
   },
   {
    "duration": 14,
    "start_time": "2022-08-31T12:53:20.417Z"
   },
   {
    "duration": 22,
    "start_time": "2022-08-31T12:53:20.434Z"
   },
   {
    "duration": 9,
    "start_time": "2022-08-31T12:53:20.459Z"
   },
   {
    "duration": 49,
    "start_time": "2022-08-31T12:53:20.470Z"
   },
   {
    "duration": 12,
    "start_time": "2022-08-31T12:53:20.521Z"
   },
   {
    "duration": 21,
    "start_time": "2022-08-31T12:53:20.535Z"
   },
   {
    "duration": 17,
    "start_time": "2022-08-31T12:53:20.558Z"
   },
   {
    "duration": 31,
    "start_time": "2022-08-31T12:53:20.576Z"
   },
   {
    "duration": 9,
    "start_time": "2022-08-31T12:53:20.608Z"
   },
   {
    "duration": 15,
    "start_time": "2022-08-31T12:53:20.618Z"
   },
   {
    "duration": 17,
    "start_time": "2022-08-31T12:53:20.637Z"
   },
   {
    "duration": 16,
    "start_time": "2022-08-31T12:53:20.656Z"
   },
   {
    "duration": 35,
    "start_time": "2022-08-31T12:53:20.673Z"
   },
   {
    "duration": 20,
    "start_time": "2022-08-31T12:53:20.709Z"
   },
   {
    "duration": 254,
    "start_time": "2022-08-31T12:53:20.733Z"
   },
   {
    "duration": 162,
    "start_time": "2022-08-31T12:53:20.989Z"
   },
   {
    "duration": 8,
    "start_time": "2022-08-31T12:53:21.153Z"
   },
   {
    "duration": 13,
    "start_time": "2022-08-31T12:53:21.163Z"
   },
   {
    "duration": 260,
    "start_time": "2022-08-31T12:53:21.178Z"
   },
   {
    "duration": 20,
    "start_time": "2022-08-31T12:53:21.440Z"
   },
   {
    "duration": 399,
    "start_time": "2022-08-31T12:53:21.462Z"
   },
   {
    "duration": 7,
    "start_time": "2022-08-31T12:53:21.863Z"
   },
   {
    "duration": 299,
    "start_time": "2022-08-31T12:53:21.872Z"
   },
   {
    "duration": 8,
    "start_time": "2022-08-31T12:53:22.173Z"
   },
   {
    "duration": 45,
    "start_time": "2022-08-31T12:53:22.183Z"
   },
   {
    "duration": 219,
    "start_time": "2022-08-31T12:53:22.230Z"
   },
   {
    "duration": 381,
    "start_time": "2022-08-31T12:53:22.450Z"
   },
   {
    "duration": 23,
    "start_time": "2022-08-31T12:53:22.834Z"
   },
   {
    "duration": 236,
    "start_time": "2022-08-31T12:53:22.859Z"
   },
   {
    "duration": 16,
    "start_time": "2022-08-31T12:53:23.097Z"
   },
   {
    "duration": 27,
    "start_time": "2022-08-31T12:53:23.115Z"
   },
   {
    "duration": 19,
    "start_time": "2022-08-31T12:53:23.144Z"
   },
   {
    "duration": 29,
    "start_time": "2022-08-31T12:53:23.165Z"
   },
   {
    "duration": 60,
    "start_time": "2022-08-31T12:53:23.197Z"
   },
   {
    "duration": 16,
    "start_time": "2022-08-31T12:53:23.259Z"
   },
   {
    "duration": 35,
    "start_time": "2022-08-31T12:53:23.277Z"
   },
   {
    "duration": 29,
    "start_time": "2022-08-31T12:53:23.314Z"
   },
   {
    "duration": 27,
    "start_time": "2022-08-31T12:53:23.348Z"
   },
   {
    "duration": 246,
    "start_time": "2022-08-31T12:53:23.377Z"
   },
   {
    "duration": 3933,
    "start_time": "2022-08-31T12:53:23.625Z"
   },
   {
    "duration": 10,
    "start_time": "2022-08-31T12:53:27.560Z"
   },
   {
    "duration": 117,
    "start_time": "2022-08-31T12:53:27.572Z"
   },
   {
    "duration": 30,
    "start_time": "2022-08-31T12:53:27.691Z"
   },
   {
    "duration": 37,
    "start_time": "2022-08-31T12:53:27.723Z"
   },
   {
    "duration": 23,
    "start_time": "2022-08-31T12:53:27.762Z"
   },
   {
    "duration": 14,
    "start_time": "2022-08-31T12:53:27.803Z"
   },
   {
    "duration": 12,
    "start_time": "2022-08-31T12:53:27.818Z"
   },
   {
    "duration": 23,
    "start_time": "2022-08-31T12:53:27.832Z"
   },
   {
    "duration": 17,
    "start_time": "2022-08-31T12:53:27.857Z"
   },
   {
    "duration": 21,
    "start_time": "2022-08-31T12:54:48.192Z"
   },
   {
    "duration": 12,
    "start_time": "2022-08-31T12:55:02.120Z"
   },
   {
    "duration": 1222,
    "start_time": "2022-08-31T13:27:18.291Z"
   },
   {
    "duration": 69,
    "start_time": "2022-08-31T13:27:19.514Z"
   },
   {
    "duration": 13,
    "start_time": "2022-08-31T13:27:19.585Z"
   },
   {
    "duration": 17,
    "start_time": "2022-08-31T13:27:19.600Z"
   },
   {
    "duration": 18,
    "start_time": "2022-08-31T13:27:19.619Z"
   },
   {
    "duration": 8,
    "start_time": "2022-08-31T13:27:19.639Z"
   },
   {
    "duration": 20,
    "start_time": "2022-08-31T13:27:19.649Z"
   },
   {
    "duration": 34,
    "start_time": "2022-08-31T13:27:19.671Z"
   },
   {
    "duration": 20,
    "start_time": "2022-08-31T13:27:19.706Z"
   },
   {
    "duration": 18,
    "start_time": "2022-08-31T13:27:19.729Z"
   },
   {
    "duration": 7,
    "start_time": "2022-08-31T13:27:19.748Z"
   },
   {
    "duration": 7,
    "start_time": "2022-08-31T13:27:19.757Z"
   },
   {
    "duration": 39,
    "start_time": "2022-08-31T13:27:19.765Z"
   },
   {
    "duration": 19,
    "start_time": "2022-08-31T13:27:19.806Z"
   },
   {
    "duration": 15,
    "start_time": "2022-08-31T13:27:19.826Z"
   },
   {
    "duration": 9,
    "start_time": "2022-08-31T13:27:19.843Z"
   },
   {
    "duration": 50,
    "start_time": "2022-08-31T13:27:19.854Z"
   },
   {
    "duration": 246,
    "start_time": "2022-08-31T13:27:19.905Z"
   },
   {
    "duration": 166,
    "start_time": "2022-08-31T13:27:20.153Z"
   },
   {
    "duration": 9,
    "start_time": "2022-08-31T13:27:20.321Z"
   },
   {
    "duration": 17,
    "start_time": "2022-08-31T13:27:20.331Z"
   },
   {
    "duration": 272,
    "start_time": "2022-08-31T13:27:20.350Z"
   },
   {
    "duration": 19,
    "start_time": "2022-08-31T13:27:20.624Z"
   },
   {
    "duration": 413,
    "start_time": "2022-08-31T13:27:20.645Z"
   },
   {
    "duration": 7,
    "start_time": "2022-08-31T13:27:21.060Z"
   },
   {
    "duration": 324,
    "start_time": "2022-08-31T13:27:21.068Z"
   },
   {
    "duration": 11,
    "start_time": "2022-08-31T13:27:21.394Z"
   },
   {
    "duration": 17,
    "start_time": "2022-08-31T13:27:21.410Z"
   },
   {
    "duration": 236,
    "start_time": "2022-08-31T13:27:21.430Z"
   },
   {
    "duration": 381,
    "start_time": "2022-08-31T13:27:21.668Z"
   },
   {
    "duration": 16,
    "start_time": "2022-08-31T13:27:22.051Z"
   },
   {
    "duration": 245,
    "start_time": "2022-08-31T13:27:22.068Z"
   },
   {
    "duration": 10,
    "start_time": "2022-08-31T13:27:22.315Z"
   },
   {
    "duration": 15,
    "start_time": "2022-08-31T13:27:22.328Z"
   },
   {
    "duration": 23,
    "start_time": "2022-08-31T13:27:22.345Z"
   },
   {
    "duration": 20,
    "start_time": "2022-08-31T13:27:22.370Z"
   },
   {
    "duration": 57,
    "start_time": "2022-08-31T13:27:22.392Z"
   },
   {
    "duration": 39,
    "start_time": "2022-08-31T13:27:22.451Z"
   },
   {
    "duration": 30,
    "start_time": "2022-08-31T13:27:22.492Z"
   },
   {
    "duration": 49,
    "start_time": "2022-08-31T13:27:22.524Z"
   },
   {
    "duration": 36,
    "start_time": "2022-08-31T13:27:22.575Z"
   },
   {
    "duration": 245,
    "start_time": "2022-08-31T13:27:22.613Z"
   },
   {
    "duration": 2744,
    "start_time": "2022-08-31T13:27:22.860Z"
   },
   {
    "duration": 11,
    "start_time": "2022-08-31T13:27:25.606Z"
   },
   {
    "duration": 114,
    "start_time": "2022-08-31T13:27:25.620Z"
   },
   {
    "duration": 25,
    "start_time": "2022-08-31T13:27:25.736Z"
   },
   {
    "duration": 59,
    "start_time": "2022-08-31T13:27:25.763Z"
   },
   {
    "duration": 22,
    "start_time": "2022-08-31T13:27:25.824Z"
   },
   {
    "duration": 15,
    "start_time": "2022-08-31T13:27:25.848Z"
   },
   {
    "duration": 19,
    "start_time": "2022-08-31T13:27:25.865Z"
   },
   {
    "duration": 46,
    "start_time": "2022-08-31T13:27:25.886Z"
   },
   {
    "duration": 15,
    "start_time": "2022-08-31T13:27:25.934Z"
   }
  ],
  "kernelspec": {
   "display_name": "Python 3 (ipykernel)",
   "language": "python",
   "name": "python3"
  },
  "language_info": {
   "codemirror_mode": {
    "name": "ipython",
    "version": 3
   },
   "file_extension": ".py",
   "mimetype": "text/x-python",
   "name": "python",
   "nbconvert_exporter": "python",
   "pygments_lexer": "ipython3",
   "version": "3.9.12"
  },
  "toc": {
   "base_numbering": 1,
   "nav_menu": {},
   "number_sections": true,
   "sideBar": true,
   "skip_h1_title": true,
   "title_cell": "Table of Contents",
   "title_sidebar": "Contents",
   "toc_cell": false,
   "toc_position": {},
   "toc_section_display": true,
   "toc_window_display": false
  }
 },
 "nbformat": 4,
 "nbformat_minor": 2
}
