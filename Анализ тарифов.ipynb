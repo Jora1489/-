{
 "cells": [
  {
   "cell_type": "markdown",
   "metadata": {},
   "source": [
    "  # Предварительный анализ тарифов на небольшой выборке клиентов. В вашем распоряжении данные 500 пользователей «Мегалайна»: кто они, откуда, каким тарифом пользуются, сколько звонков и сообщений каждый отправил за 2018 год по тарифам смарт и ультра. Нужно проанализировать поведение клиентов и сделать вывод — какой тариф лучше смарт тариф или ультра как для Москвы так и для других городов."
   ]
  },
  {
   "cell_type": "markdown",
   "metadata": {},
   "source": [
    "1. Откройте файл с данными и изучите общую информацию"
   ]
  },
  {
   "cell_type": "code",
   "execution_count": 1,
   "metadata": {},
   "outputs": [],
   "source": [
    "import pandas as pd\n",
    "import numpy as np\n",
    "import math\n",
    "import matplotlib.pyplot as plt"
   ]
  },
  {
   "cell_type": "code",
   "execution_count": 3,
   "metadata": {},
   "outputs": [
    {
     "name": "stdout",
     "output_type": "stream",
     "text": [
      "<class 'pandas.core.frame.DataFrame'>\n",
      "RangeIndex: 202607 entries, 0 to 202606\n",
      "Data columns (total 4 columns):\n",
      " #   Column     Non-Null Count   Dtype  \n",
      "---  ------     --------------   -----  \n",
      " 0   id         202607 non-null  object \n",
      " 1   call_date  202607 non-null  object \n",
      " 2   duration   202607 non-null  float64\n",
      " 3   user_id    202607 non-null  int64  \n",
      "dtypes: float64(1), int64(1), object(2)\n",
      "memory usage: 6.2+ MB\n"
     ]
    }
   ],
   "source": [
    "calls.info()"
   ]
  },
  {
   "cell_type": "code",
   "execution_count": 4,
   "metadata": {},
   "outputs": [
    {
     "name": "stdout",
     "output_type": "stream",
     "text": [
      "<class 'pandas.core.frame.DataFrame'>\n",
      "RangeIndex: 149396 entries, 0 to 149395\n",
      "Data columns (total 5 columns):\n",
      " #   Column        Non-Null Count   Dtype  \n",
      "---  ------        --------------   -----  \n",
      " 0   Unnamed: 0    149396 non-null  int64  \n",
      " 1   id            149396 non-null  object \n",
      " 2   mb_used       149396 non-null  float64\n",
      " 3   session_date  149396 non-null  object \n",
      " 4   user_id       149396 non-null  int64  \n",
      "dtypes: float64(1), int64(2), object(2)\n",
      "memory usage: 5.7+ MB\n"
     ]
    }
   ],
   "source": [
    "internet.info()"
   ]
  },
  {
   "cell_type": "code",
   "execution_count": 5,
   "metadata": {},
   "outputs": [
    {
     "name": "stdout",
     "output_type": "stream",
     "text": [
      "<class 'pandas.core.frame.DataFrame'>\n",
      "RangeIndex: 123036 entries, 0 to 123035\n",
      "Data columns (total 3 columns):\n",
      " #   Column        Non-Null Count   Dtype \n",
      "---  ------        --------------   ----- \n",
      " 0   id            123036 non-null  object\n",
      " 1   message_date  123036 non-null  object\n",
      " 2   user_id       123036 non-null  int64 \n",
      "dtypes: int64(1), object(2)\n",
      "memory usage: 2.8+ MB\n"
     ]
    }
   ],
   "source": [
    "sms.info()"
   ]
  },
  {
   "cell_type": "code",
   "execution_count": 6,
   "metadata": {},
   "outputs": [
    {
     "name": "stdout",
     "output_type": "stream",
     "text": [
      "<class 'pandas.core.frame.DataFrame'>\n",
      "RangeIndex: 2 entries, 0 to 1\n",
      "Data columns (total 8 columns):\n",
      " #   Column                 Non-Null Count  Dtype \n",
      "---  ------                 --------------  ----- \n",
      " 0   messages_included      2 non-null      int64 \n",
      " 1   mb_per_month_included  2 non-null      int64 \n",
      " 2   minutes_included       2 non-null      int64 \n",
      " 3   rub_monthly_fee        2 non-null      int64 \n",
      " 4   rub_per_gb             2 non-null      int64 \n",
      " 5   rub_per_message        2 non-null      int64 \n",
      " 6   rub_per_minute         2 non-null      int64 \n",
      " 7   tariff_name            2 non-null      object\n",
      "dtypes: int64(7), object(1)\n",
      "memory usage: 256.0+ bytes\n"
     ]
    }
   ],
   "source": [
    "tarif.info()"
   ]
  },
  {
   "cell_type": "code",
   "execution_count": 7,
   "metadata": {},
   "outputs": [
    {
     "name": "stdout",
     "output_type": "stream",
     "text": [
      "<class 'pandas.core.frame.DataFrame'>\n",
      "RangeIndex: 500 entries, 0 to 499\n",
      "Data columns (total 8 columns):\n",
      " #   Column      Non-Null Count  Dtype \n",
      "---  ------      --------------  ----- \n",
      " 0   user_id     500 non-null    int64 \n",
      " 1   age         500 non-null    int64 \n",
      " 2   churn_date  38 non-null     object\n",
      " 3   city        500 non-null    object\n",
      " 4   first_name  500 non-null    object\n",
      " 5   last_name   500 non-null    object\n",
      " 6   reg_date    500 non-null    object\n",
      " 7   tariff      500 non-null    object\n",
      "dtypes: int64(2), object(6)\n",
      "memory usage: 31.4+ KB\n"
     ]
    }
   ],
   "source": [
    "user.info()"
   ]
  },
  {
   "cell_type": "markdown",
   "metadata": {},
   "source": [
    "1. Вывод - таблицы представленные ошибок не имели, имеются таблицы с информацией по использованию пользователями количества отправленных сообщений, сделанных звонков и потраченных Мб интренета в заисимости от тарифа за 2018 год."
   ]
  },
  {
   "cell_type": "markdown",
   "metadata": {},
   "source": [
    "2. Подготовьте данные"
   ]
  },
  {
   "cell_type": "markdown",
   "metadata": {},
   "source": [
    "    2.1 Поиск пропусков"
   ]
  },
  {
   "cell_type": "code",
   "execution_count": 8,
   "metadata": {
    "scrolled": true
   },
   "outputs": [
    {
     "data": {
      "text/html": [
       "<div>\n",
       "<style scoped>\n",
       "    .dataframe tbody tr th:only-of-type {\n",
       "        vertical-align: middle;\n",
       "    }\n",
       "\n",
       "    .dataframe tbody tr th {\n",
       "        vertical-align: top;\n",
       "    }\n",
       "\n",
       "    .dataframe thead th {\n",
       "        text-align: right;\n",
       "    }\n",
       "</style>\n",
       "<table border=\"1\" class=\"dataframe\">\n",
       "  <thead>\n",
       "    <tr style=\"text-align: right;\">\n",
       "      <th></th>\n",
       "      <th>id</th>\n",
       "      <th>call_date</th>\n",
       "      <th>time_calls</th>\n",
       "      <th>user_id</th>\n",
       "    </tr>\n",
       "  </thead>\n",
       "  <tbody>\n",
       "    <tr>\n",
       "      <th>0</th>\n",
       "      <td>1000_0</td>\n",
       "      <td>2018-07-25</td>\n",
       "      <td>0.00</td>\n",
       "      <td>1000</td>\n",
       "    </tr>\n",
       "    <tr>\n",
       "      <th>1</th>\n",
       "      <td>1000_1</td>\n",
       "      <td>2018-08-17</td>\n",
       "      <td>0.00</td>\n",
       "      <td>1000</td>\n",
       "    </tr>\n",
       "    <tr>\n",
       "      <th>2</th>\n",
       "      <td>1000_2</td>\n",
       "      <td>2018-06-11</td>\n",
       "      <td>2.85</td>\n",
       "      <td>1000</td>\n",
       "    </tr>\n",
       "    <tr>\n",
       "      <th>3</th>\n",
       "      <td>1000_3</td>\n",
       "      <td>2018-09-21</td>\n",
       "      <td>13.80</td>\n",
       "      <td>1000</td>\n",
       "    </tr>\n",
       "    <tr>\n",
       "      <th>4</th>\n",
       "      <td>1000_4</td>\n",
       "      <td>2018-12-15</td>\n",
       "      <td>5.18</td>\n",
       "      <td>1000</td>\n",
       "    </tr>\n",
       "    <tr>\n",
       "      <th>...</th>\n",
       "      <td>...</td>\n",
       "      <td>...</td>\n",
       "      <td>...</td>\n",
       "      <td>...</td>\n",
       "    </tr>\n",
       "    <tr>\n",
       "      <th>202602</th>\n",
       "      <td>1499_215</td>\n",
       "      <td>2018-12-26</td>\n",
       "      <td>0.76</td>\n",
       "      <td>1499</td>\n",
       "    </tr>\n",
       "    <tr>\n",
       "      <th>202603</th>\n",
       "      <td>1499_216</td>\n",
       "      <td>2018-10-18</td>\n",
       "      <td>18.83</td>\n",
       "      <td>1499</td>\n",
       "    </tr>\n",
       "    <tr>\n",
       "      <th>202604</th>\n",
       "      <td>1499_217</td>\n",
       "      <td>2018-11-10</td>\n",
       "      <td>10.81</td>\n",
       "      <td>1499</td>\n",
       "    </tr>\n",
       "    <tr>\n",
       "      <th>202605</th>\n",
       "      <td>1499_218</td>\n",
       "      <td>2018-10-06</td>\n",
       "      <td>4.27</td>\n",
       "      <td>1499</td>\n",
       "    </tr>\n",
       "    <tr>\n",
       "      <th>202606</th>\n",
       "      <td>1499_219</td>\n",
       "      <td>2018-12-14</td>\n",
       "      <td>19.62</td>\n",
       "      <td>1499</td>\n",
       "    </tr>\n",
       "  </tbody>\n",
       "</table>\n",
       "<p>202607 rows × 4 columns</p>\n",
       "</div>"
      ],
      "text/plain": [
       "              id   call_date  time_calls  user_id\n",
       "0         1000_0  2018-07-25        0.00     1000\n",
       "1         1000_1  2018-08-17        0.00     1000\n",
       "2         1000_2  2018-06-11        2.85     1000\n",
       "3         1000_3  2018-09-21       13.80     1000\n",
       "4         1000_4  2018-12-15        5.18     1000\n",
       "...          ...         ...         ...      ...\n",
       "202602  1499_215  2018-12-26        0.76     1499\n",
       "202603  1499_216  2018-10-18       18.83     1499\n",
       "202604  1499_217  2018-11-10       10.81     1499\n",
       "202605  1499_218  2018-10-06        4.27     1499\n",
       "202606  1499_219  2018-12-14       19.62     1499\n",
       "\n",
       "[202607 rows x 4 columns]"
      ]
     },
     "metadata": {},
     "output_type": "display_data"
    }
   ],
   "source": [
    "calls.rename(columns={'duration': 'time_calls'}, inplace=True)\n",
    "\n",
    "display(calls)"
   ]
  },
  {
   "cell_type": "code",
   "execution_count": 9,
   "metadata": {},
   "outputs": [
    {
     "data": {
      "text/plain": [
       "id            0\n",
       "call_date     0\n",
       "time_calls    0\n",
       "user_id       0\n",
       "dtype: int64"
      ]
     },
     "metadata": {},
     "output_type": "display_data"
    }
   ],
   "source": [
    "display(calls.isna().sum())"
   ]
  },
  {
   "cell_type": "code",
   "execution_count": 10,
   "metadata": {},
   "outputs": [
    {
     "data": {
      "text/html": [
       "<div>\n",
       "<style scoped>\n",
       "    .dataframe tbody tr th:only-of-type {\n",
       "        vertical-align: middle;\n",
       "    }\n",
       "\n",
       "    .dataframe tbody tr th {\n",
       "        vertical-align: top;\n",
       "    }\n",
       "\n",
       "    .dataframe thead th {\n",
       "        text-align: right;\n",
       "    }\n",
       "</style>\n",
       "<table border=\"1\" class=\"dataframe\">\n",
       "  <thead>\n",
       "    <tr style=\"text-align: right;\">\n",
       "      <th></th>\n",
       "      <th>Unnamed: 0</th>\n",
       "      <th>id</th>\n",
       "      <th>mb_used</th>\n",
       "      <th>session_date</th>\n",
       "      <th>user_id</th>\n",
       "    </tr>\n",
       "  </thead>\n",
       "  <tbody>\n",
       "    <tr>\n",
       "      <th>0</th>\n",
       "      <td>0</td>\n",
       "      <td>1000_0</td>\n",
       "      <td>112.95</td>\n",
       "      <td>2018-11-25</td>\n",
       "      <td>1000</td>\n",
       "    </tr>\n",
       "    <tr>\n",
       "      <th>1</th>\n",
       "      <td>1</td>\n",
       "      <td>1000_1</td>\n",
       "      <td>1052.81</td>\n",
       "      <td>2018-09-07</td>\n",
       "      <td>1000</td>\n",
       "    </tr>\n",
       "    <tr>\n",
       "      <th>2</th>\n",
       "      <td>2</td>\n",
       "      <td>1000_2</td>\n",
       "      <td>1197.26</td>\n",
       "      <td>2018-06-25</td>\n",
       "      <td>1000</td>\n",
       "    </tr>\n",
       "    <tr>\n",
       "      <th>3</th>\n",
       "      <td>3</td>\n",
       "      <td>1000_3</td>\n",
       "      <td>550.27</td>\n",
       "      <td>2018-08-22</td>\n",
       "      <td>1000</td>\n",
       "    </tr>\n",
       "    <tr>\n",
       "      <th>4</th>\n",
       "      <td>4</td>\n",
       "      <td>1000_4</td>\n",
       "      <td>302.56</td>\n",
       "      <td>2018-09-24</td>\n",
       "      <td>1000</td>\n",
       "    </tr>\n",
       "    <tr>\n",
       "      <th>...</th>\n",
       "      <td>...</td>\n",
       "      <td>...</td>\n",
       "      <td>...</td>\n",
       "      <td>...</td>\n",
       "      <td>...</td>\n",
       "    </tr>\n",
       "    <tr>\n",
       "      <th>149391</th>\n",
       "      <td>149391</td>\n",
       "      <td>1499_152</td>\n",
       "      <td>318.90</td>\n",
       "      <td>2018-10-03</td>\n",
       "      <td>1499</td>\n",
       "    </tr>\n",
       "    <tr>\n",
       "      <th>149392</th>\n",
       "      <td>149392</td>\n",
       "      <td>1499_153</td>\n",
       "      <td>490.13</td>\n",
       "      <td>2018-12-14</td>\n",
       "      <td>1499</td>\n",
       "    </tr>\n",
       "    <tr>\n",
       "      <th>149393</th>\n",
       "      <td>149393</td>\n",
       "      <td>1499_154</td>\n",
       "      <td>0.00</td>\n",
       "      <td>2018-10-27</td>\n",
       "      <td>1499</td>\n",
       "    </tr>\n",
       "    <tr>\n",
       "      <th>149394</th>\n",
       "      <td>149394</td>\n",
       "      <td>1499_155</td>\n",
       "      <td>1246.32</td>\n",
       "      <td>2018-11-26</td>\n",
       "      <td>1499</td>\n",
       "    </tr>\n",
       "    <tr>\n",
       "      <th>149395</th>\n",
       "      <td>149395</td>\n",
       "      <td>1499_156</td>\n",
       "      <td>544.37</td>\n",
       "      <td>2018-10-26</td>\n",
       "      <td>1499</td>\n",
       "    </tr>\n",
       "  </tbody>\n",
       "</table>\n",
       "<p>149396 rows × 5 columns</p>\n",
       "</div>"
      ],
      "text/plain": [
       "        Unnamed: 0        id  mb_used session_date  user_id\n",
       "0                0    1000_0   112.95   2018-11-25     1000\n",
       "1                1    1000_1  1052.81   2018-09-07     1000\n",
       "2                2    1000_2  1197.26   2018-06-25     1000\n",
       "3                3    1000_3   550.27   2018-08-22     1000\n",
       "4                4    1000_4   302.56   2018-09-24     1000\n",
       "...            ...       ...      ...          ...      ...\n",
       "149391      149391  1499_152   318.90   2018-10-03     1499\n",
       "149392      149392  1499_153   490.13   2018-12-14     1499\n",
       "149393      149393  1499_154     0.00   2018-10-27     1499\n",
       "149394      149394  1499_155  1246.32   2018-11-26     1499\n",
       "149395      149395  1499_156   544.37   2018-10-26     1499\n",
       "\n",
       "[149396 rows x 5 columns]"
      ]
     },
     "metadata": {},
     "output_type": "display_data"
    }
   ],
   "source": [
    "display(internet)"
   ]
  },
  {
   "cell_type": "code",
   "execution_count": 11,
   "metadata": {},
   "outputs": [
    {
     "data": {
      "text/plain": [
       "Unnamed: 0      0\n",
       "id              0\n",
       "mb_used         0\n",
       "session_date    0\n",
       "user_id         0\n",
       "dtype: int64"
      ]
     },
     "metadata": {},
     "output_type": "display_data"
    }
   ],
   "source": [
    "display(internet.isna().sum())"
   ]
  },
  {
   "cell_type": "code",
   "execution_count": 12,
   "metadata": {},
   "outputs": [
    {
     "data": {
      "image/png": "[encoded data removed]",
      "text/plain": [
       "<Figure size 432x288 with 4 Axes>"
      ]
     },
     "metadata": {
      "needs_background": "light"
     },
     "output_type": "display_data"
    }
   ],
   "source": [
    "internet.hist(bins=40)\n",
    "plt.show()"
   ]
  },
  {
   "cell_type": "code",
   "execution_count": 13,
   "metadata": {},
   "outputs": [
    {
     "data": {
      "image/png": "[encoded data removed]",
      "text/plain": [
       "<Figure size 432x288 with 1 Axes>"
      ]
     },
     "metadata": {
      "needs_background": "light"
     },
     "output_type": "display_data"
    }
   ],
   "source": [
    "internet['mb_used'].hist(bins=40)\n",
    "plt.xlabel('Мб')\n",
    "plt.title('Распределение использования интернет трафика')\n",
    "plt.show()"
   ]
  },
  {
   "cell_type": "markdown",
   "metadata": {},
   "source": [
    "По таблице internet - Unnamed: 0  - столбец дублирует id, его удаляем, а вот по солбцу mb_used - видно что есть скашивающие значения в 0, немного но есть."
   ]
  },
  {
   "cell_type": "code",
   "execution_count": 14,
   "metadata": {},
   "outputs": [
    {
     "data": {
      "text/html": [
       "<div>\n",
       "<style scoped>\n",
       "    .dataframe tbody tr th:only-of-type {\n",
       "        vertical-align: middle;\n",
       "    }\n",
       "\n",
       "    .dataframe tbody tr th {\n",
       "        vertical-align: top;\n",
       "    }\n",
       "\n",
       "    .dataframe thead th {\n",
       "        text-align: right;\n",
       "    }\n",
       "</style>\n",
       "<table border=\"1\" class=\"dataframe\">\n",
       "  <thead>\n",
       "    <tr style=\"text-align: right;\">\n",
       "      <th></th>\n",
       "      <th>number_sms</th>\n",
       "      <th>message_date</th>\n",
       "      <th>user_id</th>\n",
       "    </tr>\n",
       "  </thead>\n",
       "  <tbody>\n",
       "    <tr>\n",
       "      <th>0</th>\n",
       "      <td>1000_0</td>\n",
       "      <td>2018-06-27</td>\n",
       "      <td>1000</td>\n",
       "    </tr>\n",
       "    <tr>\n",
       "      <th>1</th>\n",
       "      <td>1000_1</td>\n",
       "      <td>2018-10-08</td>\n",
       "      <td>1000</td>\n",
       "    </tr>\n",
       "    <tr>\n",
       "      <th>2</th>\n",
       "      <td>1000_2</td>\n",
       "      <td>2018-08-04</td>\n",
       "      <td>1000</td>\n",
       "    </tr>\n",
       "    <tr>\n",
       "      <th>3</th>\n",
       "      <td>1000_3</td>\n",
       "      <td>2018-06-16</td>\n",
       "      <td>1000</td>\n",
       "    </tr>\n",
       "    <tr>\n",
       "      <th>4</th>\n",
       "      <td>1000_4</td>\n",
       "      <td>2018-12-05</td>\n",
       "      <td>1000</td>\n",
       "    </tr>\n",
       "    <tr>\n",
       "      <th>...</th>\n",
       "      <td>...</td>\n",
       "      <td>...</td>\n",
       "      <td>...</td>\n",
       "    </tr>\n",
       "    <tr>\n",
       "      <th>123031</th>\n",
       "      <td>1499_179</td>\n",
       "      <td>2018-12-12</td>\n",
       "      <td>1499</td>\n",
       "    </tr>\n",
       "    <tr>\n",
       "      <th>123032</th>\n",
       "      <td>1499_180</td>\n",
       "      <td>2018-09-28</td>\n",
       "      <td>1499</td>\n",
       "    </tr>\n",
       "    <tr>\n",
       "      <th>123033</th>\n",
       "      <td>1499_181</td>\n",
       "      <td>2018-09-27</td>\n",
       "      <td>1499</td>\n",
       "    </tr>\n",
       "    <tr>\n",
       "      <th>123034</th>\n",
       "      <td>1499_182</td>\n",
       "      <td>2018-11-15</td>\n",
       "      <td>1499</td>\n",
       "    </tr>\n",
       "    <tr>\n",
       "      <th>123035</th>\n",
       "      <td>1499_183</td>\n",
       "      <td>2018-11-16</td>\n",
       "      <td>1499</td>\n",
       "    </tr>\n",
       "  </tbody>\n",
       "</table>\n",
       "<p>123036 rows × 3 columns</p>\n",
       "</div>"
      ],
      "text/plain": [
       "       number_sms message_date  user_id\n",
       "0          1000_0   2018-06-27     1000\n",
       "1          1000_1   2018-10-08     1000\n",
       "2          1000_2   2018-08-04     1000\n",
       "3          1000_3   2018-06-16     1000\n",
       "4          1000_4   2018-12-05     1000\n",
       "...           ...          ...      ...\n",
       "123031   1499_179   2018-12-12     1499\n",
       "123032   1499_180   2018-09-28     1499\n",
       "123033   1499_181   2018-09-27     1499\n",
       "123034   1499_182   2018-11-15     1499\n",
       "123035   1499_183   2018-11-16     1499\n",
       "\n",
       "[123036 rows x 3 columns]"
      ]
     },
     "metadata": {},
     "output_type": "display_data"
    }
   ],
   "source": [
    "sms.rename(columns={'id': 'number_sms'}, inplace=True)\n",
    "\n",
    "display(sms)"
   ]
  },
  {
   "cell_type": "code",
   "execution_count": 15,
   "metadata": {},
   "outputs": [
    {
     "data": {
      "text/plain": [
       "number_sms      0\n",
       "message_date    0\n",
       "user_id         0\n",
       "dtype: int64"
      ]
     },
     "metadata": {},
     "output_type": "display_data"
    }
   ],
   "source": [
    "display(sms.isna().sum())"
   ]
  },
  {
   "cell_type": "code",
   "execution_count": 16,
   "metadata": {},
   "outputs": [
    {
     "data": {
      "text/html": [
       "<div>\n",
       "<style scoped>\n",
       "    .dataframe tbody tr th:only-of-type {\n",
       "        vertical-align: middle;\n",
       "    }\n",
       "\n",
       "    .dataframe tbody tr th {\n",
       "        vertical-align: top;\n",
       "    }\n",
       "\n",
       "    .dataframe thead th {\n",
       "        text-align: right;\n",
       "    }\n",
       "</style>\n",
       "<table border=\"1\" class=\"dataframe\">\n",
       "  <thead>\n",
       "    <tr style=\"text-align: right;\">\n",
       "      <th></th>\n",
       "      <th>messages_included</th>\n",
       "      <th>mb_per_month_included</th>\n",
       "      <th>minutes_included</th>\n",
       "      <th>rub_monthly_fee</th>\n",
       "      <th>rub_per_gb</th>\n",
       "      <th>rub_per_message</th>\n",
       "      <th>rub_per_minute</th>\n",
       "      <th>tariff_name</th>\n",
       "    </tr>\n",
       "  </thead>\n",
       "  <tbody>\n",
       "    <tr>\n",
       "      <th>0</th>\n",
       "      <td>50</td>\n",
       "      <td>15360</td>\n",
       "      <td>500</td>\n",
       "      <td>550</td>\n",
       "      <td>200</td>\n",
       "      <td>3</td>\n",
       "      <td>3</td>\n",
       "      <td>smart</td>\n",
       "    </tr>\n",
       "    <tr>\n",
       "      <th>1</th>\n",
       "      <td>1000</td>\n",
       "      <td>30720</td>\n",
       "      <td>3000</td>\n",
       "      <td>1950</td>\n",
       "      <td>150</td>\n",
       "      <td>1</td>\n",
       "      <td>1</td>\n",
       "      <td>ultra</td>\n",
       "    </tr>\n",
       "  </tbody>\n",
       "</table>\n",
       "</div>"
      ],
      "text/plain": [
       "   messages_included  mb_per_month_included  minutes_included  \\\n",
       "0                 50                  15360               500   \n",
       "1               1000                  30720              3000   \n",
       "\n",
       "   rub_monthly_fee  rub_per_gb  rub_per_message  rub_per_minute tariff_name  \n",
       "0              550         200                3               3       smart  \n",
       "1             1950         150                1               1       ultra  "
      ]
     },
     "metadata": {},
     "output_type": "display_data"
    }
   ],
   "source": [
    "display(tarif)"
   ]
  },
  {
   "cell_type": "code",
   "execution_count": 17,
   "metadata": {},
   "outputs": [
    {
     "data": {
      "text/plain": [
       "messages_included        0\n",
       "mb_per_month_included    0\n",
       "minutes_included         0\n",
       "rub_monthly_fee          0\n",
       "rub_per_gb               0\n",
       "rub_per_message          0\n",
       "rub_per_minute           0\n",
       "tariff_name              0\n",
       "dtype: int64"
      ]
     },
     "metadata": {},
     "output_type": "display_data"
    }
   ],
   "source": [
    "display(tarif.isna().sum())"
   ]
  },
  {
   "cell_type": "code",
   "execution_count": 18,
   "metadata": {},
   "outputs": [
    {
     "data": {
      "text/html": [
       "<div>\n",
       "<style scoped>\n",
       "    .dataframe tbody tr th:only-of-type {\n",
       "        vertical-align: middle;\n",
       "    }\n",
       "\n",
       "    .dataframe tbody tr th {\n",
       "        vertical-align: top;\n",
       "    }\n",
       "\n",
       "    .dataframe thead th {\n",
       "        text-align: right;\n",
       "    }\n",
       "</style>\n",
       "<table border=\"1\" class=\"dataframe\">\n",
       "  <thead>\n",
       "    <tr style=\"text-align: right;\">\n",
       "      <th></th>\n",
       "      <th>user_id</th>\n",
       "      <th>age</th>\n",
       "      <th>churn_date</th>\n",
       "      <th>city</th>\n",
       "      <th>first_name</th>\n",
       "      <th>last_name</th>\n",
       "      <th>reg_date</th>\n",
       "      <th>tariff</th>\n",
       "    </tr>\n",
       "  </thead>\n",
       "  <tbody>\n",
       "    <tr>\n",
       "      <th>0</th>\n",
       "      <td>1000</td>\n",
       "      <td>52</td>\n",
       "      <td>NaN</td>\n",
       "      <td>Краснодар</td>\n",
       "      <td>Рафаил</td>\n",
       "      <td>Верещагин</td>\n",
       "      <td>2018-05-25</td>\n",
       "      <td>ultra</td>\n",
       "    </tr>\n",
       "    <tr>\n",
       "      <th>1</th>\n",
       "      <td>1001</td>\n",
       "      <td>41</td>\n",
       "      <td>NaN</td>\n",
       "      <td>Москва</td>\n",
       "      <td>Иван</td>\n",
       "      <td>Ежов</td>\n",
       "      <td>2018-11-01</td>\n",
       "      <td>smart</td>\n",
       "    </tr>\n",
       "    <tr>\n",
       "      <th>2</th>\n",
       "      <td>1002</td>\n",
       "      <td>59</td>\n",
       "      <td>NaN</td>\n",
       "      <td>Стерлитамак</td>\n",
       "      <td>Евгений</td>\n",
       "      <td>Абрамович</td>\n",
       "      <td>2018-06-17</td>\n",
       "      <td>smart</td>\n",
       "    </tr>\n",
       "    <tr>\n",
       "      <th>3</th>\n",
       "      <td>1003</td>\n",
       "      <td>23</td>\n",
       "      <td>NaN</td>\n",
       "      <td>Москва</td>\n",
       "      <td>Белла</td>\n",
       "      <td>Белякова</td>\n",
       "      <td>2018-08-17</td>\n",
       "      <td>ultra</td>\n",
       "    </tr>\n",
       "    <tr>\n",
       "      <th>4</th>\n",
       "      <td>1004</td>\n",
       "      <td>68</td>\n",
       "      <td>NaN</td>\n",
       "      <td>Новокузнецк</td>\n",
       "      <td>Татьяна</td>\n",
       "      <td>Авдеенко</td>\n",
       "      <td>2018-05-14</td>\n",
       "      <td>ultra</td>\n",
       "    </tr>\n",
       "    <tr>\n",
       "      <th>...</th>\n",
       "      <td>...</td>\n",
       "      <td>...</td>\n",
       "      <td>...</td>\n",
       "      <td>...</td>\n",
       "      <td>...</td>\n",
       "      <td>...</td>\n",
       "      <td>...</td>\n",
       "      <td>...</td>\n",
       "    </tr>\n",
       "    <tr>\n",
       "      <th>495</th>\n",
       "      <td>1495</td>\n",
       "      <td>65</td>\n",
       "      <td>NaN</td>\n",
       "      <td>Иркутск</td>\n",
       "      <td>Авксентий</td>\n",
       "      <td>Фокин</td>\n",
       "      <td>2018-08-28</td>\n",
       "      <td>ultra</td>\n",
       "    </tr>\n",
       "    <tr>\n",
       "      <th>496</th>\n",
       "      <td>1496</td>\n",
       "      <td>36</td>\n",
       "      <td>NaN</td>\n",
       "      <td>Вологда</td>\n",
       "      <td>Трифон</td>\n",
       "      <td>Блохин</td>\n",
       "      <td>2018-01-27</td>\n",
       "      <td>smart</td>\n",
       "    </tr>\n",
       "    <tr>\n",
       "      <th>497</th>\n",
       "      <td>1497</td>\n",
       "      <td>32</td>\n",
       "      <td>NaN</td>\n",
       "      <td>Челябинск</td>\n",
       "      <td>Каролина</td>\n",
       "      <td>Агеева</td>\n",
       "      <td>2018-10-09</td>\n",
       "      <td>smart</td>\n",
       "    </tr>\n",
       "    <tr>\n",
       "      <th>498</th>\n",
       "      <td>1498</td>\n",
       "      <td>68</td>\n",
       "      <td>2018-10-25</td>\n",
       "      <td>Владикавказ</td>\n",
       "      <td>Всеволод</td>\n",
       "      <td>Акимчин</td>\n",
       "      <td>2018-07-19</td>\n",
       "      <td>smart</td>\n",
       "    </tr>\n",
       "    <tr>\n",
       "      <th>499</th>\n",
       "      <td>1499</td>\n",
       "      <td>35</td>\n",
       "      <td>NaN</td>\n",
       "      <td>Пермь</td>\n",
       "      <td>Гектор</td>\n",
       "      <td>Корнилов</td>\n",
       "      <td>2018-09-27</td>\n",
       "      <td>smart</td>\n",
       "    </tr>\n",
       "  </tbody>\n",
       "</table>\n",
       "<p>500 rows × 8 columns</p>\n",
       "</div>"
      ],
      "text/plain": [
       "     user_id  age  churn_date         city first_name  last_name    reg_date  \\\n",
       "0       1000   52         NaN    Краснодар     Рафаил  Верещагин  2018-05-25   \n",
       "1       1001   41         NaN       Москва       Иван       Ежов  2018-11-01   \n",
       "2       1002   59         NaN  Стерлитамак    Евгений  Абрамович  2018-06-17   \n",
       "3       1003   23         NaN       Москва      Белла   Белякова  2018-08-17   \n",
       "4       1004   68         NaN  Новокузнецк    Татьяна   Авдеенко  2018-05-14   \n",
       "..       ...  ...         ...          ...        ...        ...         ...   \n",
       "495     1495   65         NaN      Иркутск  Авксентий      Фокин  2018-08-28   \n",
       "496     1496   36         NaN      Вологда     Трифон     Блохин  2018-01-27   \n",
       "497     1497   32         NaN    Челябинск   Каролина     Агеева  2018-10-09   \n",
       "498     1498   68  2018-10-25  Владикавказ   Всеволод    Акимчин  2018-07-19   \n",
       "499     1499   35         NaN        Пермь     Гектор   Корнилов  2018-09-27   \n",
       "\n",
       "    tariff  \n",
       "0    ultra  \n",
       "1    smart  \n",
       "2    smart  \n",
       "3    ultra  \n",
       "4    ultra  \n",
       "..     ...  \n",
       "495  ultra  \n",
       "496  smart  \n",
       "497  smart  \n",
       "498  smart  \n",
       "499  smart  \n",
       "\n",
       "[500 rows x 8 columns]"
      ]
     },
     "metadata": {},
     "output_type": "display_data"
    }
   ],
   "source": [
    "display(user)"
   ]
  },
  {
   "cell_type": "code",
   "execution_count": 19,
   "metadata": {},
   "outputs": [
    {
     "data": {
      "text/plain": [
       "user_id         0\n",
       "age             0\n",
       "churn_date    462\n",
       "city            0\n",
       "first_name      0\n",
       "last_name       0\n",
       "reg_date        0\n",
       "tariff          0\n",
       "dtype: int64"
      ]
     },
     "metadata": {},
     "output_type": "display_data"
    }
   ],
   "source": [
    "display(user.isna().sum())"
   ]
  },
  {
   "cell_type": "code",
   "execution_count": 20,
   "metadata": {},
   "outputs": [
    {
     "data": {
      "text/plain": [
       "0"
      ]
     },
     "metadata": {},
     "output_type": "display_data"
    }
   ],
   "source": [
    "display(user.duplicated().sum())"
   ]
  },
  {
   "cell_type": "markdown",
   "metadata": {},
   "source": [
    "churn_date - поле действия тарифа,если значение пропущено, то тариф ещё действовал на момент выгрузки данных. Оставлю пол так как и есть."
   ]
  },
  {
   "cell_type": "markdown",
   "metadata": {},
   "source": [
    "    2.2 Приведите данные к нужным типам"
   ]
  },
  {
   "cell_type": "code",
   "execution_count": 21,
   "metadata": {},
   "outputs": [],
   "source": [
    "calls['id']= calls['id'].astype('int32')\n",
    "calls['call_date']= calls['call_date'].astype('datetime64')"
   ]
  },
  {
   "cell_type": "code",
   "execution_count": 22,
   "metadata": {},
   "outputs": [],
   "source": [
    "internet['id']= internet['id'].astype('int32')\n",
    "internet['session_date']= internet['session_date'].astype('datetime64')\n"
   ]
  },
  {
   "cell_type": "markdown",
   "metadata": {},
   "source": [
    "Unnamed: 0 - повторяет счетчик id, столб просто удалю."
   ]
  },
  {
   "cell_type": "code",
   "execution_count": 23,
   "metadata": {},
   "outputs": [
    {
     "name": "stdout",
     "output_type": "stream",
     "text": [
      "<class 'pandas.core.frame.DataFrame'>\n",
      "RangeIndex: 149396 entries, 0 to 149395\n",
      "Data columns (total 4 columns):\n",
      " #   Column        Non-Null Count   Dtype         \n",
      "---  ------        --------------   -----         \n",
      " 0   id            149396 non-null  int32         \n",
      " 1   mb_used       149396 non-null  float64       \n",
      " 2   session_date  149396 non-null  datetime64[ns]\n",
      " 3   user_id       149396 non-null  int64         \n",
      "dtypes: datetime64[ns](1), float64(1), int32(1), int64(1)\n",
      "memory usage: 4.0 MB\n"
     ]
    },
    {
     "data": {
      "text/html": [
       "<div>\n",
       "<style scoped>\n",
       "    .dataframe tbody tr th:only-of-type {\n",
       "        vertical-align: middle;\n",
       "    }\n",
       "\n",
       "    .dataframe tbody tr th {\n",
       "        vertical-align: top;\n",
       "    }\n",
       "\n",
       "    .dataframe thead th {\n",
       "        text-align: right;\n",
       "    }\n",
       "</style>\n",
       "<table border=\"1\" class=\"dataframe\">\n",
       "  <thead>\n",
       "    <tr style=\"text-align: right;\">\n",
       "      <th></th>\n",
       "      <th>id</th>\n",
       "      <th>mb_used</th>\n",
       "      <th>session_date</th>\n",
       "      <th>user_id</th>\n",
       "    </tr>\n",
       "  </thead>\n",
       "  <tbody>\n",
       "    <tr>\n",
       "      <th>0</th>\n",
       "      <td>10000</td>\n",
       "      <td>112.95</td>\n",
       "      <td>2018-11-25</td>\n",
       "      <td>1000</td>\n",
       "    </tr>\n",
       "    <tr>\n",
       "      <th>1</th>\n",
       "      <td>10001</td>\n",
       "      <td>1052.81</td>\n",
       "      <td>2018-09-07</td>\n",
       "      <td>1000</td>\n",
       "    </tr>\n",
       "    <tr>\n",
       "      <th>2</th>\n",
       "      <td>10002</td>\n",
       "      <td>1197.26</td>\n",
       "      <td>2018-06-25</td>\n",
       "      <td>1000</td>\n",
       "    </tr>\n",
       "    <tr>\n",
       "      <th>3</th>\n",
       "      <td>10003</td>\n",
       "      <td>550.27</td>\n",
       "      <td>2018-08-22</td>\n",
       "      <td>1000</td>\n",
       "    </tr>\n",
       "    <tr>\n",
       "      <th>4</th>\n",
       "      <td>10004</td>\n",
       "      <td>302.56</td>\n",
       "      <td>2018-09-24</td>\n",
       "      <td>1000</td>\n",
       "    </tr>\n",
       "    <tr>\n",
       "      <th>...</th>\n",
       "      <td>...</td>\n",
       "      <td>...</td>\n",
       "      <td>...</td>\n",
       "      <td>...</td>\n",
       "    </tr>\n",
       "    <tr>\n",
       "      <th>149391</th>\n",
       "      <td>1499152</td>\n",
       "      <td>318.90</td>\n",
       "      <td>2018-10-03</td>\n",
       "      <td>1499</td>\n",
       "    </tr>\n",
       "    <tr>\n",
       "      <th>149392</th>\n",
       "      <td>1499153</td>\n",
       "      <td>490.13</td>\n",
       "      <td>2018-12-14</td>\n",
       "      <td>1499</td>\n",
       "    </tr>\n",
       "    <tr>\n",
       "      <th>149393</th>\n",
       "      <td>1499154</td>\n",
       "      <td>0.00</td>\n",
       "      <td>2018-10-27</td>\n",
       "      <td>1499</td>\n",
       "    </tr>\n",
       "    <tr>\n",
       "      <th>149394</th>\n",
       "      <td>1499155</td>\n",
       "      <td>1246.32</td>\n",
       "      <td>2018-11-26</td>\n",
       "      <td>1499</td>\n",
       "    </tr>\n",
       "    <tr>\n",
       "      <th>149395</th>\n",
       "      <td>1499156</td>\n",
       "      <td>544.37</td>\n",
       "      <td>2018-10-26</td>\n",
       "      <td>1499</td>\n",
       "    </tr>\n",
       "  </tbody>\n",
       "</table>\n",
       "<p>149396 rows × 4 columns</p>\n",
       "</div>"
      ],
      "text/plain": [
       "             id  mb_used session_date  user_id\n",
       "0         10000   112.95   2018-11-25     1000\n",
       "1         10001  1052.81   2018-09-07     1000\n",
       "2         10002  1197.26   2018-06-25     1000\n",
       "3         10003   550.27   2018-08-22     1000\n",
       "4         10004   302.56   2018-09-24     1000\n",
       "...         ...      ...          ...      ...\n",
       "149391  1499152   318.90   2018-10-03     1499\n",
       "149392  1499153   490.13   2018-12-14     1499\n",
       "149393  1499154     0.00   2018-10-27     1499\n",
       "149394  1499155  1246.32   2018-11-26     1499\n",
       "149395  1499156   544.37   2018-10-26     1499\n",
       "\n",
       "[149396 rows x 4 columns]"
      ]
     },
     "metadata": {},
     "output_type": "display_data"
    }
   ],
   "source": [
    "internet.drop('Unnamed: 0', axis=1, inplace=True)\n",
    "internet.info()\n",
    "display(internet)"
   ]
  },
  {
   "cell_type": "code",
   "execution_count": 24,
   "metadata": {},
   "outputs": [],
   "source": [
    "sms['number_sms']= sms['number_sms'].astype('int32')\n",
    "sms['message_date']= sms['message_date'].astype('datetime64')"
   ]
  },
  {
   "cell_type": "code",
   "execution_count": 25,
   "metadata": {},
   "outputs": [],
   "source": [
    "user['churn_date']= user['churn_date'].astype('datetime64')\n",
    "user['reg_date']= user['reg_date'].astype('datetime64')"
   ]
  },
  {
   "cell_type": "markdown",
   "metadata": {},
   "source": [
    "    2.3 Найдите и исправьте ошибки в данных, если они есть."
   ]
  },
  {
   "cell_type": "code",
   "execution_count": 26,
   "metadata": {},
   "outputs": [
    {
     "data": {
      "text/html": [
       "<div>\n",
       "<style scoped>\n",
       "    .dataframe tbody tr th:only-of-type {\n",
       "        vertical-align: middle;\n",
       "    }\n",
       "\n",
       "    .dataframe tbody tr th {\n",
       "        vertical-align: top;\n",
       "    }\n",
       "\n",
       "    .dataframe thead th {\n",
       "        text-align: right;\n",
       "    }\n",
       "</style>\n",
       "<table border=\"1\" class=\"dataframe\">\n",
       "  <thead>\n",
       "    <tr style=\"text-align: right;\">\n",
       "      <th></th>\n",
       "      <th>user_id</th>\n",
       "      <th>age</th>\n",
       "      <th>churn_date</th>\n",
       "      <th>city</th>\n",
       "      <th>first_name</th>\n",
       "      <th>last_name</th>\n",
       "      <th>reg_date</th>\n",
       "      <th>tariff</th>\n",
       "    </tr>\n",
       "  </thead>\n",
       "  <tbody>\n",
       "    <tr>\n",
       "      <th>0</th>\n",
       "      <td>1000</td>\n",
       "      <td>52</td>\n",
       "      <td>NaT</td>\n",
       "      <td>Краснодар</td>\n",
       "      <td>Рафаил</td>\n",
       "      <td>Верещагин</td>\n",
       "      <td>2018-05-25</td>\n",
       "      <td>ultra</td>\n",
       "    </tr>\n",
       "    <tr>\n",
       "      <th>1</th>\n",
       "      <td>1001</td>\n",
       "      <td>41</td>\n",
       "      <td>NaT</td>\n",
       "      <td>Москва</td>\n",
       "      <td>Иван</td>\n",
       "      <td>Ежов</td>\n",
       "      <td>2018-11-01</td>\n",
       "      <td>smart</td>\n",
       "    </tr>\n",
       "    <tr>\n",
       "      <th>2</th>\n",
       "      <td>1002</td>\n",
       "      <td>59</td>\n",
       "      <td>NaT</td>\n",
       "      <td>Стерлитамак</td>\n",
       "      <td>Евгений</td>\n",
       "      <td>Абрамович</td>\n",
       "      <td>2018-06-17</td>\n",
       "      <td>smart</td>\n",
       "    </tr>\n",
       "    <tr>\n",
       "      <th>3</th>\n",
       "      <td>1003</td>\n",
       "      <td>23</td>\n",
       "      <td>NaT</td>\n",
       "      <td>Москва</td>\n",
       "      <td>Белла</td>\n",
       "      <td>Белякова</td>\n",
       "      <td>2018-08-17</td>\n",
       "      <td>ultra</td>\n",
       "    </tr>\n",
       "    <tr>\n",
       "      <th>4</th>\n",
       "      <td>1004</td>\n",
       "      <td>68</td>\n",
       "      <td>NaT</td>\n",
       "      <td>Новокузнецк</td>\n",
       "      <td>Татьяна</td>\n",
       "      <td>Авдеенко</td>\n",
       "      <td>2018-05-14</td>\n",
       "      <td>ultra</td>\n",
       "    </tr>\n",
       "    <tr>\n",
       "      <th>...</th>\n",
       "      <td>...</td>\n",
       "      <td>...</td>\n",
       "      <td>...</td>\n",
       "      <td>...</td>\n",
       "      <td>...</td>\n",
       "      <td>...</td>\n",
       "      <td>...</td>\n",
       "      <td>...</td>\n",
       "    </tr>\n",
       "    <tr>\n",
       "      <th>495</th>\n",
       "      <td>1495</td>\n",
       "      <td>65</td>\n",
       "      <td>NaT</td>\n",
       "      <td>Иркутск</td>\n",
       "      <td>Авксентий</td>\n",
       "      <td>Фокин</td>\n",
       "      <td>2018-08-28</td>\n",
       "      <td>ultra</td>\n",
       "    </tr>\n",
       "    <tr>\n",
       "      <th>496</th>\n",
       "      <td>1496</td>\n",
       "      <td>36</td>\n",
       "      <td>NaT</td>\n",
       "      <td>Вологда</td>\n",
       "      <td>Трифон</td>\n",
       "      <td>Блохин</td>\n",
       "      <td>2018-01-27</td>\n",
       "      <td>smart</td>\n",
       "    </tr>\n",
       "    <tr>\n",
       "      <th>497</th>\n",
       "      <td>1497</td>\n",
       "      <td>32</td>\n",
       "      <td>NaT</td>\n",
       "      <td>Челябинск</td>\n",
       "      <td>Каролина</td>\n",
       "      <td>Агеева</td>\n",
       "      <td>2018-10-09</td>\n",
       "      <td>smart</td>\n",
       "    </tr>\n",
       "    <tr>\n",
       "      <th>498</th>\n",
       "      <td>1498</td>\n",
       "      <td>68</td>\n",
       "      <td>2018-10-25</td>\n",
       "      <td>Владикавказ</td>\n",
       "      <td>Всеволод</td>\n",
       "      <td>Акимчин</td>\n",
       "      <td>2018-07-19</td>\n",
       "      <td>smart</td>\n",
       "    </tr>\n",
       "    <tr>\n",
       "      <th>499</th>\n",
       "      <td>1499</td>\n",
       "      <td>35</td>\n",
       "      <td>NaT</td>\n",
       "      <td>Пермь</td>\n",
       "      <td>Гектор</td>\n",
       "      <td>Корнилов</td>\n",
       "      <td>2018-09-27</td>\n",
       "      <td>smart</td>\n",
       "    </tr>\n",
       "  </tbody>\n",
       "</table>\n",
       "<p>500 rows × 8 columns</p>\n",
       "</div>"
      ],
      "text/plain": [
       "     user_id  age churn_date         city first_name  last_name   reg_date  \\\n",
       "0       1000   52        NaT    Краснодар     Рафаил  Верещагин 2018-05-25   \n",
       "1       1001   41        NaT       Москва       Иван       Ежов 2018-11-01   \n",
       "2       1002   59        NaT  Стерлитамак    Евгений  Абрамович 2018-06-17   \n",
       "3       1003   23        NaT       Москва      Белла   Белякова 2018-08-17   \n",
       "4       1004   68        NaT  Новокузнецк    Татьяна   Авдеенко 2018-05-14   \n",
       "..       ...  ...        ...          ...        ...        ...        ...   \n",
       "495     1495   65        NaT      Иркутск  Авксентий      Фокин 2018-08-28   \n",
       "496     1496   36        NaT      Вологда     Трифон     Блохин 2018-01-27   \n",
       "497     1497   32        NaT    Челябинск   Каролина     Агеева 2018-10-09   \n",
       "498     1498   68 2018-10-25  Владикавказ   Всеволод    Акимчин 2018-07-19   \n",
       "499     1499   35        NaT        Пермь     Гектор   Корнилов 2018-09-27   \n",
       "\n",
       "    tariff  \n",
       "0    ultra  \n",
       "1    smart  \n",
       "2    smart  \n",
       "3    ultra  \n",
       "4    ultra  \n",
       "..     ...  \n",
       "495  ultra  \n",
       "496  smart  \n",
       "497  smart  \n",
       "498  smart  \n",
       "499  smart  \n",
       "\n",
       "[500 rows x 8 columns]"
      ]
     },
     "metadata": {},
     "output_type": "display_data"
    },
    {
     "data": {
      "text/plain": [
       "500"
      ]
     },
     "execution_count": 26,
     "metadata": {},
     "output_type": "execute_result"
    }
   ],
   "source": [
    "display(user)\n",
    "user['user_id'].value_counts().sum()"
   ]
  },
  {
   "cell_type": "markdown",
   "metadata": {},
   "source": [
    "2.1-2.2 Вывод"
   ]
  },
  {
   "cell_type": "markdown",
   "metadata": {},
   "source": [
    "Вывод - ошибка в интернет трафике- пользователь устанавливал соединение и авторизовался. Но трафик нулевой. И это аномалия, возможно, что она связана с техничесткими проблемами оператора., если не считать лишнего сстобца в таблице intenet c дублиющим столбцом id, тип данных изменил.\n"
   ]
  },
  {
   "cell_type": "markdown",
   "metadata": {},
   "source": [
    "    2.3 Посчитайте для каждого пользователя:"
   ]
  },
  {
   "cell_type": "markdown",
   "metadata": {},
   "source": [
    "2.3.1 Количество сделанных звонков и израсходованных минут разговора по месяцам;"
   ]
  },
  {
   "cell_type": "code",
   "execution_count": 27,
   "metadata": {},
   "outputs": [],
   "source": [
    "calls['monat'] = pd.to_datetime(calls['call_date']).dt.month\n",
    "sms['monat'] = pd.to_datetime(sms['message_date']).dt.month\n",
    "internet['monat'] = pd.to_datetime(internet['session_date']).dt.month"
   ]
  },
  {
   "cell_type": "code",
   "execution_count": 28,
   "metadata": {},
   "outputs": [],
   "source": [
    "\n",
    "calls['time_calls']=np.ceil(calls['time_calls'])"
   ]
  },
  {
   "cell_type": "code",
   "execution_count": 29,
   "metadata": {},
   "outputs": [
    {
     "data": {
      "text/html": [
       "<div>\n",
       "<style scoped>\n",
       "    .dataframe tbody tr th:only-of-type {\n",
       "        vertical-align: middle;\n",
       "    }\n",
       "\n",
       "    .dataframe tbody tr th {\n",
       "        vertical-align: top;\n",
       "    }\n",
       "\n",
       "    .dataframe thead th {\n",
       "        text-align: right;\n",
       "    }\n",
       "</style>\n",
       "<table border=\"1\" class=\"dataframe\">\n",
       "  <thead>\n",
       "    <tr style=\"text-align: right;\">\n",
       "      <th></th>\n",
       "      <th>id</th>\n",
       "      <th>call_date</th>\n",
       "      <th>time_calls</th>\n",
       "      <th>user_id</th>\n",
       "      <th>monat</th>\n",
       "      <th>number_sms</th>\n",
       "      <th>message_date</th>\n",
       "    </tr>\n",
       "  </thead>\n",
       "  <tbody>\n",
       "    <tr>\n",
       "      <th>0</th>\n",
       "      <td>10000</td>\n",
       "      <td>2018-07-25</td>\n",
       "      <td>0.0</td>\n",
       "      <td>1000</td>\n",
       "      <td>7</td>\n",
       "      <td>100011</td>\n",
       "      <td>2018-07-06</td>\n",
       "    </tr>\n",
       "    <tr>\n",
       "      <th>1</th>\n",
       "      <td>10000</td>\n",
       "      <td>2018-07-25</td>\n",
       "      <td>0.0</td>\n",
       "      <td>1000</td>\n",
       "      <td>7</td>\n",
       "      <td>100018</td>\n",
       "      <td>2018-07-07</td>\n",
       "    </tr>\n",
       "    <tr>\n",
       "      <th>2</th>\n",
       "      <td>10000</td>\n",
       "      <td>2018-07-25</td>\n",
       "      <td>0.0</td>\n",
       "      <td>1000</td>\n",
       "      <td>7</td>\n",
       "      <td>100022</td>\n",
       "      <td>2018-07-29</td>\n",
       "    </tr>\n",
       "    <tr>\n",
       "      <th>3</th>\n",
       "      <td>10000</td>\n",
       "      <td>2018-07-25</td>\n",
       "      <td>0.0</td>\n",
       "      <td>1000</td>\n",
       "      <td>7</td>\n",
       "      <td>100026</td>\n",
       "      <td>2018-07-29</td>\n",
       "    </tr>\n",
       "    <tr>\n",
       "      <th>4</th>\n",
       "      <td>10000</td>\n",
       "      <td>2018-07-25</td>\n",
       "      <td>0.0</td>\n",
       "      <td>1000</td>\n",
       "      <td>7</td>\n",
       "      <td>100027</td>\n",
       "      <td>2018-07-30</td>\n",
       "    </tr>\n",
       "    <tr>\n",
       "      <th>...</th>\n",
       "      <td>...</td>\n",
       "      <td>...</td>\n",
       "      <td>...</td>\n",
       "      <td>...</td>\n",
       "      <td>...</td>\n",
       "      <td>...</td>\n",
       "      <td>...</td>\n",
       "    </tr>\n",
       "    <tr>\n",
       "      <th>8440792</th>\n",
       "      <td>1499173</td>\n",
       "      <td>2018-09-27</td>\n",
       "      <td>0.0</td>\n",
       "      <td>1499</td>\n",
       "      <td>9</td>\n",
       "      <td>1499143</td>\n",
       "      <td>2018-09-27</td>\n",
       "    </tr>\n",
       "    <tr>\n",
       "      <th>8440793</th>\n",
       "      <td>1499173</td>\n",
       "      <td>2018-09-27</td>\n",
       "      <td>0.0</td>\n",
       "      <td>1499</td>\n",
       "      <td>9</td>\n",
       "      <td>1499162</td>\n",
       "      <td>2018-09-29</td>\n",
       "    </tr>\n",
       "    <tr>\n",
       "      <th>8440794</th>\n",
       "      <td>1499173</td>\n",
       "      <td>2018-09-27</td>\n",
       "      <td>0.0</td>\n",
       "      <td>1499</td>\n",
       "      <td>9</td>\n",
       "      <td>1499170</td>\n",
       "      <td>2018-09-29</td>\n",
       "    </tr>\n",
       "    <tr>\n",
       "      <th>8440795</th>\n",
       "      <td>1499173</td>\n",
       "      <td>2018-09-27</td>\n",
       "      <td>0.0</td>\n",
       "      <td>1499</td>\n",
       "      <td>9</td>\n",
       "      <td>1499180</td>\n",
       "      <td>2018-09-28</td>\n",
       "    </tr>\n",
       "    <tr>\n",
       "      <th>8440796</th>\n",
       "      <td>1499173</td>\n",
       "      <td>2018-09-27</td>\n",
       "      <td>0.0</td>\n",
       "      <td>1499</td>\n",
       "      <td>9</td>\n",
       "      <td>1499181</td>\n",
       "      <td>2018-09-27</td>\n",
       "    </tr>\n",
       "  </tbody>\n",
       "</table>\n",
       "<p>8440797 rows × 7 columns</p>\n",
       "</div>"
      ],
      "text/plain": [
       "              id  call_date  time_calls  user_id  monat  number_sms  \\\n",
       "0          10000 2018-07-25         0.0     1000      7      100011   \n",
       "1          10000 2018-07-25         0.0     1000      7      100018   \n",
       "2          10000 2018-07-25         0.0     1000      7      100022   \n",
       "3          10000 2018-07-25         0.0     1000      7      100026   \n",
       "4          10000 2018-07-25         0.0     1000      7      100027   \n",
       "...          ...        ...         ...      ...    ...         ...   \n",
       "8440792  1499173 2018-09-27         0.0     1499      9     1499143   \n",
       "8440793  1499173 2018-09-27         0.0     1499      9     1499162   \n",
       "8440794  1499173 2018-09-27         0.0     1499      9     1499170   \n",
       "8440795  1499173 2018-09-27         0.0     1499      9     1499180   \n",
       "8440796  1499173 2018-09-27         0.0     1499      9     1499181   \n",
       "\n",
       "        message_date  \n",
       "0         2018-07-06  \n",
       "1         2018-07-07  \n",
       "2         2018-07-29  \n",
       "3         2018-07-29  \n",
       "4         2018-07-30  \n",
       "...              ...  \n",
       "8440792   2018-09-27  \n",
       "8440793   2018-09-29  \n",
       "8440794   2018-09-29  \n",
       "8440795   2018-09-28  \n",
       "8440796   2018-09-27  \n",
       "\n",
       "[8440797 rows x 7 columns]"
      ]
     },
     "metadata": {},
     "output_type": "display_data"
    }
   ],
   "source": [
    "calls_msgs_data = calls.merge(sms, on=['user_id', 'monat'], suffixes=['_calls', '_message'])\n",
    "display(calls_msgs_data)"
   ]
  },
  {
   "cell_type": "code",
   "execution_count": 30,
   "metadata": {},
   "outputs": [
    {
     "data": {
      "text/html": [
       "<div>\n",
       "<style scoped>\n",
       "    .dataframe tbody tr th:only-of-type {\n",
       "        vertical-align: middle;\n",
       "    }\n",
       "\n",
       "    .dataframe tbody tr th {\n",
       "        vertical-align: top;\n",
       "    }\n",
       "\n",
       "    .dataframe thead tr th {\n",
       "        text-align: left;\n",
       "    }\n",
       "\n",
       "    .dataframe thead tr:last-of-type th {\n",
       "        text-align: right;\n",
       "    }\n",
       "</style>\n",
       "<table border=\"1\" class=\"dataframe\">\n",
       "  <thead>\n",
       "    <tr>\n",
       "      <th></th>\n",
       "      <th></th>\n",
       "      <th>sum</th>\n",
       "      <th>count</th>\n",
       "    </tr>\n",
       "    <tr>\n",
       "      <th></th>\n",
       "      <th></th>\n",
       "      <th>time_calls</th>\n",
       "      <th>time_calls</th>\n",
       "    </tr>\n",
       "    <tr>\n",
       "      <th>user_id</th>\n",
       "      <th>monat</th>\n",
       "      <th></th>\n",
       "      <th></th>\n",
       "    </tr>\n",
       "  </thead>\n",
       "  <tbody>\n",
       "    <tr>\n",
       "      <th rowspan=\"5\" valign=\"top\">1000</th>\n",
       "      <th>5</th>\n",
       "      <td>159.0</td>\n",
       "      <td>22</td>\n",
       "    </tr>\n",
       "    <tr>\n",
       "      <th>6</th>\n",
       "      <td>172.0</td>\n",
       "      <td>43</td>\n",
       "    </tr>\n",
       "    <tr>\n",
       "      <th>7</th>\n",
       "      <td>340.0</td>\n",
       "      <td>47</td>\n",
       "    </tr>\n",
       "    <tr>\n",
       "      <th>8</th>\n",
       "      <td>408.0</td>\n",
       "      <td>52</td>\n",
       "    </tr>\n",
       "    <tr>\n",
       "      <th>9</th>\n",
       "      <td>466.0</td>\n",
       "      <td>58</td>\n",
       "    </tr>\n",
       "    <tr>\n",
       "      <th>...</th>\n",
       "      <th>...</th>\n",
       "      <td>...</td>\n",
       "      <td>...</td>\n",
       "    </tr>\n",
       "    <tr>\n",
       "      <th>1498</th>\n",
       "      <th>10</th>\n",
       "      <td>247.0</td>\n",
       "      <td>41</td>\n",
       "    </tr>\n",
       "    <tr>\n",
       "      <th rowspan=\"4\" valign=\"top\">1499</th>\n",
       "      <th>9</th>\n",
       "      <td>70.0</td>\n",
       "      <td>9</td>\n",
       "    </tr>\n",
       "    <tr>\n",
       "      <th>10</th>\n",
       "      <td>449.0</td>\n",
       "      <td>68</td>\n",
       "    </tr>\n",
       "    <tr>\n",
       "      <th>11</th>\n",
       "      <td>612.0</td>\n",
       "      <td>74</td>\n",
       "    </tr>\n",
       "    <tr>\n",
       "      <th>12</th>\n",
       "      <td>492.0</td>\n",
       "      <td>69</td>\n",
       "    </tr>\n",
       "  </tbody>\n",
       "</table>\n",
       "<p>3174 rows × 2 columns</p>\n",
       "</div>"
      ],
      "text/plain": [
       "                     sum      count\n",
       "              time_calls time_calls\n",
       "user_id monat                      \n",
       "1000    5          159.0         22\n",
       "        6          172.0         43\n",
       "        7          340.0         47\n",
       "        8          408.0         52\n",
       "        9          466.0         58\n",
       "...                  ...        ...\n",
       "1498    10         247.0         41\n",
       "1499    9           70.0          9\n",
       "        10         449.0         68\n",
       "        11         612.0         74\n",
       "        12         492.0         69\n",
       "\n",
       "[3174 rows x 2 columns]"
      ]
     },
     "metadata": {},
     "output_type": "display_data"
    }
   ],
   "source": [
    "calls_data_grouped = calls.pivot_table(index=['user_id', 'monat'], values='time_calls',\n",
    "                                                   aggfunc=['sum', 'count'])\n",
    "internet_data_grouped = internet.pivot_table(index=['user_id', 'monat'], values='mb_used',\n",
    "                                                   aggfunc=['sum'])\n",
    "display(calls_data_grouped)"
   ]
  },
  {
   "cell_type": "code",
   "execution_count": 31,
   "metadata": {},
   "outputs": [
    {
     "data": {
      "text/html": [
       "<div>\n",
       "<style scoped>\n",
       "    .dataframe tbody tr th:only-of-type {\n",
       "        vertical-align: middle;\n",
       "    }\n",
       "\n",
       "    .dataframe tbody tr th {\n",
       "        vertical-align: top;\n",
       "    }\n",
       "\n",
       "    .dataframe thead th {\n",
       "        text-align: right;\n",
       "    }\n",
       "</style>\n",
       "<table border=\"1\" class=\"dataframe\">\n",
       "  <thead>\n",
       "    <tr style=\"text-align: right;\">\n",
       "      <th></th>\n",
       "      <th></th>\n",
       "      <th>calls_duration</th>\n",
       "      <th>calls_amount</th>\n",
       "    </tr>\n",
       "    <tr>\n",
       "      <th>user_id</th>\n",
       "      <th>monat</th>\n",
       "      <th></th>\n",
       "      <th></th>\n",
       "    </tr>\n",
       "  </thead>\n",
       "  <tbody>\n",
       "    <tr>\n",
       "      <th rowspan=\"5\" valign=\"top\">1000</th>\n",
       "      <th>5</th>\n",
       "      <td>159.0</td>\n",
       "      <td>22</td>\n",
       "    </tr>\n",
       "    <tr>\n",
       "      <th>6</th>\n",
       "      <td>172.0</td>\n",
       "      <td>43</td>\n",
       "    </tr>\n",
       "    <tr>\n",
       "      <th>7</th>\n",
       "      <td>340.0</td>\n",
       "      <td>47</td>\n",
       "    </tr>\n",
       "    <tr>\n",
       "      <th>8</th>\n",
       "      <td>408.0</td>\n",
       "      <td>52</td>\n",
       "    </tr>\n",
       "    <tr>\n",
       "      <th>9</th>\n",
       "      <td>466.0</td>\n",
       "      <td>58</td>\n",
       "    </tr>\n",
       "    <tr>\n",
       "      <th>...</th>\n",
       "      <th>...</th>\n",
       "      <td>...</td>\n",
       "      <td>...</td>\n",
       "    </tr>\n",
       "    <tr>\n",
       "      <th>1498</th>\n",
       "      <th>10</th>\n",
       "      <td>247.0</td>\n",
       "      <td>41</td>\n",
       "    </tr>\n",
       "    <tr>\n",
       "      <th rowspan=\"4\" valign=\"top\">1499</th>\n",
       "      <th>9</th>\n",
       "      <td>70.0</td>\n",
       "      <td>9</td>\n",
       "    </tr>\n",
       "    <tr>\n",
       "      <th>10</th>\n",
       "      <td>449.0</td>\n",
       "      <td>68</td>\n",
       "    </tr>\n",
       "    <tr>\n",
       "      <th>11</th>\n",
       "      <td>612.0</td>\n",
       "      <td>74</td>\n",
       "    </tr>\n",
       "    <tr>\n",
       "      <th>12</th>\n",
       "      <td>492.0</td>\n",
       "      <td>69</td>\n",
       "    </tr>\n",
       "  </tbody>\n",
       "</table>\n",
       "<p>3174 rows × 2 columns</p>\n",
       "</div>"
      ],
      "text/plain": [
       "               calls_duration  calls_amount\n",
       "user_id monat                              \n",
       "1000    5               159.0            22\n",
       "        6               172.0            43\n",
       "        7               340.0            47\n",
       "        8               408.0            52\n",
       "        9               466.0            58\n",
       "...                       ...           ...\n",
       "1498    10              247.0            41\n",
       "1499    9                70.0             9\n",
       "        10              449.0            68\n",
       "        11              612.0            74\n",
       "        12              492.0            69\n",
       "\n",
       "[3174 rows x 2 columns]"
      ]
     },
     "metadata": {},
     "output_type": "display_data"
    }
   ],
   "source": [
    "calls_data_grouped.reset_index()\n",
    "calls_data_grouped.columns = ['calls_duration', 'calls_amount']\n",
    "display(calls_data_grouped)"
   ]
  },
  {
   "cell_type": "code",
   "execution_count": 32,
   "metadata": {},
   "outputs": [
    {
     "data": {
      "text/html": [
       "<div>\n",
       "<style scoped>\n",
       "    .dataframe tbody tr th:only-of-type {\n",
       "        vertical-align: middle;\n",
       "    }\n",
       "\n",
       "    .dataframe tbody tr th {\n",
       "        vertical-align: top;\n",
       "    }\n",
       "\n",
       "    .dataframe thead th {\n",
       "        text-align: right;\n",
       "    }\n",
       "</style>\n",
       "<table border=\"1\" class=\"dataframe\">\n",
       "  <thead>\n",
       "    <tr style=\"text-align: right;\">\n",
       "      <th></th>\n",
       "      <th>user_id</th>\n",
       "      <th>monat</th>\n",
       "      <th>mb_used</th>\n",
       "    </tr>\n",
       "  </thead>\n",
       "  <tbody>\n",
       "    <tr>\n",
       "      <th>0</th>\n",
       "      <td>1000</td>\n",
       "      <td>5</td>\n",
       "      <td>2253.49</td>\n",
       "    </tr>\n",
       "    <tr>\n",
       "      <th>1</th>\n",
       "      <td>1000</td>\n",
       "      <td>6</td>\n",
       "      <td>23233.77</td>\n",
       "    </tr>\n",
       "    <tr>\n",
       "      <th>2</th>\n",
       "      <td>1000</td>\n",
       "      <td>7</td>\n",
       "      <td>14003.64</td>\n",
       "    </tr>\n",
       "    <tr>\n",
       "      <th>3</th>\n",
       "      <td>1000</td>\n",
       "      <td>8</td>\n",
       "      <td>14055.93</td>\n",
       "    </tr>\n",
       "    <tr>\n",
       "      <th>4</th>\n",
       "      <td>1000</td>\n",
       "      <td>9</td>\n",
       "      <td>14568.91</td>\n",
       "    </tr>\n",
       "    <tr>\n",
       "      <th>...</th>\n",
       "      <td>...</td>\n",
       "      <td>...</td>\n",
       "      <td>...</td>\n",
       "    </tr>\n",
       "    <tr>\n",
       "      <th>3198</th>\n",
       "      <td>1498</td>\n",
       "      <td>10</td>\n",
       "      <td>20579.36</td>\n",
       "    </tr>\n",
       "    <tr>\n",
       "      <th>3199</th>\n",
       "      <td>1499</td>\n",
       "      <td>9</td>\n",
       "      <td>1845.75</td>\n",
       "    </tr>\n",
       "    <tr>\n",
       "      <th>3200</th>\n",
       "      <td>1499</td>\n",
       "      <td>10</td>\n",
       "      <td>17788.51</td>\n",
       "    </tr>\n",
       "    <tr>\n",
       "      <th>3201</th>\n",
       "      <td>1499</td>\n",
       "      <td>11</td>\n",
       "      <td>17963.31</td>\n",
       "    </tr>\n",
       "    <tr>\n",
       "      <th>3202</th>\n",
       "      <td>1499</td>\n",
       "      <td>12</td>\n",
       "      <td>13055.58</td>\n",
       "    </tr>\n",
       "  </tbody>\n",
       "</table>\n",
       "<p>3203 rows × 3 columns</p>\n",
       "</div>"
      ],
      "text/plain": [
       "      user_id  monat   mb_used\n",
       "0        1000      5   2253.49\n",
       "1        1000      6  23233.77\n",
       "2        1000      7  14003.64\n",
       "3        1000      8  14055.93\n",
       "4        1000      9  14568.91\n",
       "...       ...    ...       ...\n",
       "3198     1498     10  20579.36\n",
       "3199     1499      9   1845.75\n",
       "3200     1499     10  17788.51\n",
       "3201     1499     11  17963.31\n",
       "3202     1499     12  13055.58\n",
       "\n",
       "[3203 rows x 3 columns]"
      ]
     },
     "execution_count": 32,
     "metadata": {},
     "output_type": "execute_result"
    }
   ],
   "source": [
    "internet_data_grouped.columns = ['mb_used']\n",
    "internet_data_grouped.reset_index()"
   ]
  },
  {
   "cell_type": "code",
   "execution_count": 33,
   "metadata": {},
   "outputs": [
    {
     "data": {
      "text/html": [
       "<div>\n",
       "<style scoped>\n",
       "    .dataframe tbody tr th:only-of-type {\n",
       "        vertical-align: middle;\n",
       "    }\n",
       "\n",
       "    .dataframe tbody tr th {\n",
       "        vertical-align: top;\n",
       "    }\n",
       "\n",
       "    .dataframe thead th {\n",
       "        text-align: right;\n",
       "    }\n",
       "</style>\n",
       "<table border=\"1\" class=\"dataframe\">\n",
       "  <thead>\n",
       "    <tr style=\"text-align: right;\">\n",
       "      <th></th>\n",
       "      <th></th>\n",
       "      <th>mb_used</th>\n",
       "      <th>gb_used</th>\n",
       "    </tr>\n",
       "    <tr>\n",
       "      <th>user_id</th>\n",
       "      <th>monat</th>\n",
       "      <th></th>\n",
       "      <th></th>\n",
       "    </tr>\n",
       "  </thead>\n",
       "  <tbody>\n",
       "    <tr>\n",
       "      <th rowspan=\"5\" valign=\"top\">1000</th>\n",
       "      <th>5</th>\n",
       "      <td>2253.49</td>\n",
       "      <td>3.0</td>\n",
       "    </tr>\n",
       "    <tr>\n",
       "      <th>6</th>\n",
       "      <td>23233.77</td>\n",
       "      <td>23.0</td>\n",
       "    </tr>\n",
       "    <tr>\n",
       "      <th>7</th>\n",
       "      <td>14003.64</td>\n",
       "      <td>14.0</td>\n",
       "    </tr>\n",
       "    <tr>\n",
       "      <th>8</th>\n",
       "      <td>14055.93</td>\n",
       "      <td>14.0</td>\n",
       "    </tr>\n",
       "    <tr>\n",
       "      <th>9</th>\n",
       "      <td>14568.91</td>\n",
       "      <td>15.0</td>\n",
       "    </tr>\n",
       "    <tr>\n",
       "      <th>...</th>\n",
       "      <th>...</th>\n",
       "      <td>...</td>\n",
       "      <td>...</td>\n",
       "    </tr>\n",
       "    <tr>\n",
       "      <th>1498</th>\n",
       "      <th>10</th>\n",
       "      <td>20579.36</td>\n",
       "      <td>21.0</td>\n",
       "    </tr>\n",
       "    <tr>\n",
       "      <th rowspan=\"4\" valign=\"top\">1499</th>\n",
       "      <th>9</th>\n",
       "      <td>1845.75</td>\n",
       "      <td>2.0</td>\n",
       "    </tr>\n",
       "    <tr>\n",
       "      <th>10</th>\n",
       "      <td>17788.51</td>\n",
       "      <td>18.0</td>\n",
       "    </tr>\n",
       "    <tr>\n",
       "      <th>11</th>\n",
       "      <td>17963.31</td>\n",
       "      <td>18.0</td>\n",
       "    </tr>\n",
       "    <tr>\n",
       "      <th>12</th>\n",
       "      <td>13055.58</td>\n",
       "      <td>13.0</td>\n",
       "    </tr>\n",
       "  </tbody>\n",
       "</table>\n",
       "<p>3203 rows × 2 columns</p>\n",
       "</div>"
      ],
      "text/plain": [
       "                mb_used  gb_used\n",
       "user_id monat                   \n",
       "1000    5       2253.49      3.0\n",
       "        6      23233.77     23.0\n",
       "        7      14003.64     14.0\n",
       "        8      14055.93     14.0\n",
       "        9      14568.91     15.0\n",
       "...                 ...      ...\n",
       "1498    10     20579.36     21.0\n",
       "1499    9       1845.75      2.0\n",
       "        10     17788.51     18.0\n",
       "        11     17963.31     18.0\n",
       "        12     13055.58     13.0\n",
       "\n",
       "[3203 rows x 2 columns]"
      ]
     },
     "metadata": {},
     "output_type": "display_data"
    }
   ],
   "source": [
    "internet_data_grouped['gb_used']=internet_data_grouped['mb_used']/1024\n",
    "internet_data_grouped['gb_used']=np.ceil(internet_data_grouped['gb_used'])\n",
    "display(internet_data_grouped)"
   ]
  },
  {
   "cell_type": "code",
   "execution_count": 34,
   "metadata": {},
   "outputs": [
    {
     "data": {
      "text/html": [
       "<div>\n",
       "<style scoped>\n",
       "    .dataframe tbody tr th:only-of-type {\n",
       "        vertical-align: middle;\n",
       "    }\n",
       "\n",
       "    .dataframe tbody tr th {\n",
       "        vertical-align: top;\n",
       "    }\n",
       "\n",
       "    .dataframe thead th {\n",
       "        text-align: right;\n",
       "    }\n",
       "</style>\n",
       "<table border=\"1\" class=\"dataframe\">\n",
       "  <thead>\n",
       "    <tr style=\"text-align: right;\">\n",
       "      <th></th>\n",
       "      <th></th>\n",
       "      <th>messages_amount</th>\n",
       "    </tr>\n",
       "    <tr>\n",
       "      <th>user_id</th>\n",
       "      <th>monat</th>\n",
       "      <th></th>\n",
       "    </tr>\n",
       "  </thead>\n",
       "  <tbody>\n",
       "    <tr>\n",
       "      <th rowspan=\"5\" valign=\"top\">1000</th>\n",
       "      <th>5</th>\n",
       "      <td>22</td>\n",
       "    </tr>\n",
       "    <tr>\n",
       "      <th>6</th>\n",
       "      <td>60</td>\n",
       "    </tr>\n",
       "    <tr>\n",
       "      <th>7</th>\n",
       "      <td>75</td>\n",
       "    </tr>\n",
       "    <tr>\n",
       "      <th>8</th>\n",
       "      <td>81</td>\n",
       "    </tr>\n",
       "    <tr>\n",
       "      <th>9</th>\n",
       "      <td>57</td>\n",
       "    </tr>\n",
       "    <tr>\n",
       "      <th>...</th>\n",
       "      <th>...</th>\n",
       "      <td>...</td>\n",
       "    </tr>\n",
       "    <tr>\n",
       "      <th>1498</th>\n",
       "      <th>10</th>\n",
       "      <td>42</td>\n",
       "    </tr>\n",
       "    <tr>\n",
       "      <th rowspan=\"4\" valign=\"top\">1499</th>\n",
       "      <th>9</th>\n",
       "      <td>11</td>\n",
       "    </tr>\n",
       "    <tr>\n",
       "      <th>10</th>\n",
       "      <td>48</td>\n",
       "    </tr>\n",
       "    <tr>\n",
       "      <th>11</th>\n",
       "      <td>59</td>\n",
       "    </tr>\n",
       "    <tr>\n",
       "      <th>12</th>\n",
       "      <td>66</td>\n",
       "    </tr>\n",
       "  </tbody>\n",
       "</table>\n",
       "<p>2717 rows × 1 columns</p>\n",
       "</div>"
      ],
      "text/plain": [
       "               messages_amount\n",
       "user_id monat                 \n",
       "1000    5                   22\n",
       "        6                   60\n",
       "        7                   75\n",
       "        8                   81\n",
       "        9                   57\n",
       "...                        ...\n",
       "1498    10                  42\n",
       "1499    9                   11\n",
       "        10                  48\n",
       "        11                  59\n",
       "        12                  66\n",
       "\n",
       "[2717 rows x 1 columns]"
      ]
     },
     "metadata": {},
     "output_type": "display_data"
    }
   ],
   "source": [
    "messages_data_grouped = sms.pivot_table(index=['user_id', 'monat'], values='number_sms', aggfunc='count')\n",
    "messages_data_grouped.reset_index()\n",
    "messages_data_grouped.columns=['messages_amount']\n",
    "display(messages_data_grouped)"
   ]
  },
  {
   "cell_type": "code",
   "execution_count": 35,
   "metadata": {},
   "outputs": [],
   "source": [
    "calls_internet_merged = calls_data_grouped.merge(internet_data_grouped, on=['user_id', 'monat'], how='left')\n",
    "telecom_data = calls_internet_merged.merge(messages_data_grouped, on=['user_id', 'monat'], how='left')\n",
    "telecom_data_pvt = telecom_data.pivot_table(index=['user_id', 'monat'])\n",
    "telecom_data_pvt=telecom_data_pvt.reset_index()\n"
   ]
  },
  {
   "cell_type": "code",
   "execution_count": 36,
   "metadata": {},
   "outputs": [
    {
     "data": {
      "text/html": [
       "<div>\n",
       "<style scoped>\n",
       "    .dataframe tbody tr th:only-of-type {\n",
       "        vertical-align: middle;\n",
       "    }\n",
       "\n",
       "    .dataframe tbody tr th {\n",
       "        vertical-align: top;\n",
       "    }\n",
       "\n",
       "    .dataframe thead th {\n",
       "        text-align: right;\n",
       "    }\n",
       "</style>\n",
       "<table border=\"1\" class=\"dataframe\">\n",
       "  <thead>\n",
       "    <tr style=\"text-align: right;\">\n",
       "      <th></th>\n",
       "      <th>user_id</th>\n",
       "      <th>monat</th>\n",
       "      <th>calls_amount</th>\n",
       "      <th>calls_duration</th>\n",
       "      <th>gb_used</th>\n",
       "      <th>mb_used</th>\n",
       "      <th>messages_amount</th>\n",
       "    </tr>\n",
       "  </thead>\n",
       "  <tbody>\n",
       "    <tr>\n",
       "      <th>0</th>\n",
       "      <td>1000</td>\n",
       "      <td>5</td>\n",
       "      <td>22</td>\n",
       "      <td>159.0</td>\n",
       "      <td>3.0</td>\n",
       "      <td>2253.49</td>\n",
       "      <td>22.0</td>\n",
       "    </tr>\n",
       "    <tr>\n",
       "      <th>1</th>\n",
       "      <td>1000</td>\n",
       "      <td>6</td>\n",
       "      <td>43</td>\n",
       "      <td>172.0</td>\n",
       "      <td>23.0</td>\n",
       "      <td>23233.77</td>\n",
       "      <td>60.0</td>\n",
       "    </tr>\n",
       "    <tr>\n",
       "      <th>2</th>\n",
       "      <td>1000</td>\n",
       "      <td>7</td>\n",
       "      <td>47</td>\n",
       "      <td>340.0</td>\n",
       "      <td>14.0</td>\n",
       "      <td>14003.64</td>\n",
       "      <td>75.0</td>\n",
       "    </tr>\n",
       "    <tr>\n",
       "      <th>3</th>\n",
       "      <td>1000</td>\n",
       "      <td>8</td>\n",
       "      <td>52</td>\n",
       "      <td>408.0</td>\n",
       "      <td>14.0</td>\n",
       "      <td>14055.93</td>\n",
       "      <td>81.0</td>\n",
       "    </tr>\n",
       "    <tr>\n",
       "      <th>4</th>\n",
       "      <td>1000</td>\n",
       "      <td>9</td>\n",
       "      <td>58</td>\n",
       "      <td>466.0</td>\n",
       "      <td>15.0</td>\n",
       "      <td>14568.91</td>\n",
       "      <td>57.0</td>\n",
       "    </tr>\n",
       "    <tr>\n",
       "      <th>...</th>\n",
       "      <td>...</td>\n",
       "      <td>...</td>\n",
       "      <td>...</td>\n",
       "      <td>...</td>\n",
       "      <td>...</td>\n",
       "      <td>...</td>\n",
       "      <td>...</td>\n",
       "    </tr>\n",
       "    <tr>\n",
       "      <th>3169</th>\n",
       "      <td>1498</td>\n",
       "      <td>10</td>\n",
       "      <td>41</td>\n",
       "      <td>247.0</td>\n",
       "      <td>21.0</td>\n",
       "      <td>20579.36</td>\n",
       "      <td>42.0</td>\n",
       "    </tr>\n",
       "    <tr>\n",
       "      <th>3170</th>\n",
       "      <td>1499</td>\n",
       "      <td>9</td>\n",
       "      <td>9</td>\n",
       "      <td>70.0</td>\n",
       "      <td>2.0</td>\n",
       "      <td>1845.75</td>\n",
       "      <td>11.0</td>\n",
       "    </tr>\n",
       "    <tr>\n",
       "      <th>3171</th>\n",
       "      <td>1499</td>\n",
       "      <td>10</td>\n",
       "      <td>68</td>\n",
       "      <td>449.0</td>\n",
       "      <td>18.0</td>\n",
       "      <td>17788.51</td>\n",
       "      <td>48.0</td>\n",
       "    </tr>\n",
       "    <tr>\n",
       "      <th>3172</th>\n",
       "      <td>1499</td>\n",
       "      <td>11</td>\n",
       "      <td>74</td>\n",
       "      <td>612.0</td>\n",
       "      <td>18.0</td>\n",
       "      <td>17963.31</td>\n",
       "      <td>59.0</td>\n",
       "    </tr>\n",
       "    <tr>\n",
       "      <th>3173</th>\n",
       "      <td>1499</td>\n",
       "      <td>12</td>\n",
       "      <td>69</td>\n",
       "      <td>492.0</td>\n",
       "      <td>13.0</td>\n",
       "      <td>13055.58</td>\n",
       "      <td>66.0</td>\n",
       "    </tr>\n",
       "  </tbody>\n",
       "</table>\n",
       "<p>3174 rows × 7 columns</p>\n",
       "</div>"
      ],
      "text/plain": [
       "      user_id  monat  calls_amount  calls_duration  gb_used   mb_used  \\\n",
       "0        1000      5            22           159.0      3.0   2253.49   \n",
       "1        1000      6            43           172.0     23.0  23233.77   \n",
       "2        1000      7            47           340.0     14.0  14003.64   \n",
       "3        1000      8            52           408.0     14.0  14055.93   \n",
       "4        1000      9            58           466.0     15.0  14568.91   \n",
       "...       ...    ...           ...             ...      ...       ...   \n",
       "3169     1498     10            41           247.0     21.0  20579.36   \n",
       "3170     1499      9             9            70.0      2.0   1845.75   \n",
       "3171     1499     10            68           449.0     18.0  17788.51   \n",
       "3172     1499     11            74           612.0     18.0  17963.31   \n",
       "3173     1499     12            69           492.0     13.0  13055.58   \n",
       "\n",
       "      messages_amount  \n",
       "0                22.0  \n",
       "1                60.0  \n",
       "2                75.0  \n",
       "3                81.0  \n",
       "4                57.0  \n",
       "...               ...  \n",
       "3169             42.0  \n",
       "3170             11.0  \n",
       "3171             48.0  \n",
       "3172             59.0  \n",
       "3173             66.0  \n",
       "\n",
       "[3174 rows x 7 columns]"
      ]
     },
     "metadata": {},
     "output_type": "display_data"
    }
   ],
   "source": [
    "display(telecom_data_pvt)"
   ]
  },
  {
   "cell_type": "markdown",
   "metadata": {},
   "source": [
    "Добавим к telecom_data информацию о пользователях (предварительно приведя в формат datetime дату регистрации)\n",
    " \n",
    "В таблице total_data увидим помесячно кол-во и длительность звонков, кол-во сообщений и объем использованного трафика для каждого пользователя"
   ]
  },
  {
   "cell_type": "code",
   "execution_count": 37,
   "metadata": {},
   "outputs": [],
   "source": [
    "user['reg_date'] = pd.to_datetime(user['reg_date'], format='%Y-%m-%d')\n",
    "user['churn_date'].fillna('2019-01-01', inplace=True) \n",
    "#если дата ухода клиента отстутствует, делаем вывод, что хотя бы в янв 2019 он остался\n",
    " \n",
    "user['churn_date'] = pd.to_datetime(user['churn_date'], format='%Y-%m-%d')\n",
    "total_data = telecom_data_pvt.merge(user, on='user_id',how='right').pivot_table(\n",
    "    index=['user_id', 'first_name', 'last_name', 'age', 'city', 'tariff', 'reg_date', 'churn_date', 'monat'])\n",
    "total_data = total_data.reset_index()"
   ]
  },
  {
   "cell_type": "code",
   "execution_count": 38,
   "metadata": {},
   "outputs": [
    {
     "data": {
      "text/html": [
       "<div>\n",
       "<style scoped>\n",
       "    .dataframe tbody tr th:only-of-type {\n",
       "        vertical-align: middle;\n",
       "    }\n",
       "\n",
       "    .dataframe tbody tr th {\n",
       "        vertical-align: top;\n",
       "    }\n",
       "\n",
       "    .dataframe thead th {\n",
       "        text-align: right;\n",
       "    }\n",
       "</style>\n",
       "<table border=\"1\" class=\"dataframe\">\n",
       "  <thead>\n",
       "    <tr style=\"text-align: right;\">\n",
       "      <th></th>\n",
       "      <th>user_id</th>\n",
       "      <th>first_name</th>\n",
       "      <th>last_name</th>\n",
       "      <th>age</th>\n",
       "      <th>city</th>\n",
       "      <th>tariff</th>\n",
       "      <th>reg_date</th>\n",
       "      <th>churn_date</th>\n",
       "      <th>monat</th>\n",
       "      <th>calls_amount</th>\n",
       "      <th>calls_duration</th>\n",
       "      <th>gb_used</th>\n",
       "      <th>mb_used</th>\n",
       "      <th>messages_amount</th>\n",
       "    </tr>\n",
       "  </thead>\n",
       "  <tbody>\n",
       "    <tr>\n",
       "      <th>0</th>\n",
       "      <td>1000</td>\n",
       "      <td>Рафаил</td>\n",
       "      <td>Верещагин</td>\n",
       "      <td>52</td>\n",
       "      <td>Краснодар</td>\n",
       "      <td>ultra</td>\n",
       "      <td>2018-05-25</td>\n",
       "      <td>2019-01-01</td>\n",
       "      <td>5.0</td>\n",
       "      <td>22.0</td>\n",
       "      <td>159.0</td>\n",
       "      <td>3.0</td>\n",
       "      <td>2253.49</td>\n",
       "      <td>22.0</td>\n",
       "    </tr>\n",
       "    <tr>\n",
       "      <th>1</th>\n",
       "      <td>1000</td>\n",
       "      <td>Рафаил</td>\n",
       "      <td>Верещагин</td>\n",
       "      <td>52</td>\n",
       "      <td>Краснодар</td>\n",
       "      <td>ultra</td>\n",
       "      <td>2018-05-25</td>\n",
       "      <td>2019-01-01</td>\n",
       "      <td>6.0</td>\n",
       "      <td>43.0</td>\n",
       "      <td>172.0</td>\n",
       "      <td>23.0</td>\n",
       "      <td>23233.77</td>\n",
       "      <td>60.0</td>\n",
       "    </tr>\n",
       "    <tr>\n",
       "      <th>2</th>\n",
       "      <td>1000</td>\n",
       "      <td>Рафаил</td>\n",
       "      <td>Верещагин</td>\n",
       "      <td>52</td>\n",
       "      <td>Краснодар</td>\n",
       "      <td>ultra</td>\n",
       "      <td>2018-05-25</td>\n",
       "      <td>2019-01-01</td>\n",
       "      <td>7.0</td>\n",
       "      <td>47.0</td>\n",
       "      <td>340.0</td>\n",
       "      <td>14.0</td>\n",
       "      <td>14003.64</td>\n",
       "      <td>75.0</td>\n",
       "    </tr>\n",
       "    <tr>\n",
       "      <th>3</th>\n",
       "      <td>1000</td>\n",
       "      <td>Рафаил</td>\n",
       "      <td>Верещагин</td>\n",
       "      <td>52</td>\n",
       "      <td>Краснодар</td>\n",
       "      <td>ultra</td>\n",
       "      <td>2018-05-25</td>\n",
       "      <td>2019-01-01</td>\n",
       "      <td>8.0</td>\n",
       "      <td>52.0</td>\n",
       "      <td>408.0</td>\n",
       "      <td>14.0</td>\n",
       "      <td>14055.93</td>\n",
       "      <td>81.0</td>\n",
       "    </tr>\n",
       "    <tr>\n",
       "      <th>4</th>\n",
       "      <td>1000</td>\n",
       "      <td>Рафаил</td>\n",
       "      <td>Верещагин</td>\n",
       "      <td>52</td>\n",
       "      <td>Краснодар</td>\n",
       "      <td>ultra</td>\n",
       "      <td>2018-05-25</td>\n",
       "      <td>2019-01-01</td>\n",
       "      <td>9.0</td>\n",
       "      <td>58.0</td>\n",
       "      <td>466.0</td>\n",
       "      <td>15.0</td>\n",
       "      <td>14568.91</td>\n",
       "      <td>57.0</td>\n",
       "    </tr>\n",
       "    <tr>\n",
       "      <th>...</th>\n",
       "      <td>...</td>\n",
       "      <td>...</td>\n",
       "      <td>...</td>\n",
       "      <td>...</td>\n",
       "      <td>...</td>\n",
       "      <td>...</td>\n",
       "      <td>...</td>\n",
       "      <td>...</td>\n",
       "      <td>...</td>\n",
       "      <td>...</td>\n",
       "      <td>...</td>\n",
       "      <td>...</td>\n",
       "      <td>...</td>\n",
       "      <td>...</td>\n",
       "    </tr>\n",
       "    <tr>\n",
       "      <th>3169</th>\n",
       "      <td>1498</td>\n",
       "      <td>Всеволод</td>\n",
       "      <td>Акимчин</td>\n",
       "      <td>68</td>\n",
       "      <td>Владикавказ</td>\n",
       "      <td>smart</td>\n",
       "      <td>2018-07-19</td>\n",
       "      <td>2018-10-25</td>\n",
       "      <td>10.0</td>\n",
       "      <td>41.0</td>\n",
       "      <td>247.0</td>\n",
       "      <td>21.0</td>\n",
       "      <td>20579.36</td>\n",
       "      <td>42.0</td>\n",
       "    </tr>\n",
       "    <tr>\n",
       "      <th>3170</th>\n",
       "      <td>1499</td>\n",
       "      <td>Гектор</td>\n",
       "      <td>Корнилов</td>\n",
       "      <td>35</td>\n",
       "      <td>Пермь</td>\n",
       "      <td>smart</td>\n",
       "      <td>2018-09-27</td>\n",
       "      <td>2019-01-01</td>\n",
       "      <td>9.0</td>\n",
       "      <td>9.0</td>\n",
       "      <td>70.0</td>\n",
       "      <td>2.0</td>\n",
       "      <td>1845.75</td>\n",
       "      <td>11.0</td>\n",
       "    </tr>\n",
       "    <tr>\n",
       "      <th>3171</th>\n",
       "      <td>1499</td>\n",
       "      <td>Гектор</td>\n",
       "      <td>Корнилов</td>\n",
       "      <td>35</td>\n",
       "      <td>Пермь</td>\n",
       "      <td>smart</td>\n",
       "      <td>2018-09-27</td>\n",
       "      <td>2019-01-01</td>\n",
       "      <td>10.0</td>\n",
       "      <td>68.0</td>\n",
       "      <td>449.0</td>\n",
       "      <td>18.0</td>\n",
       "      <td>17788.51</td>\n",
       "      <td>48.0</td>\n",
       "    </tr>\n",
       "    <tr>\n",
       "      <th>3172</th>\n",
       "      <td>1499</td>\n",
       "      <td>Гектор</td>\n",
       "      <td>Корнилов</td>\n",
       "      <td>35</td>\n",
       "      <td>Пермь</td>\n",
       "      <td>smart</td>\n",
       "      <td>2018-09-27</td>\n",
       "      <td>2019-01-01</td>\n",
       "      <td>11.0</td>\n",
       "      <td>74.0</td>\n",
       "      <td>612.0</td>\n",
       "      <td>18.0</td>\n",
       "      <td>17963.31</td>\n",
       "      <td>59.0</td>\n",
       "    </tr>\n",
       "    <tr>\n",
       "      <th>3173</th>\n",
       "      <td>1499</td>\n",
       "      <td>Гектор</td>\n",
       "      <td>Корнилов</td>\n",
       "      <td>35</td>\n",
       "      <td>Пермь</td>\n",
       "      <td>smart</td>\n",
       "      <td>2018-09-27</td>\n",
       "      <td>2019-01-01</td>\n",
       "      <td>12.0</td>\n",
       "      <td>69.0</td>\n",
       "      <td>492.0</td>\n",
       "      <td>13.0</td>\n",
       "      <td>13055.58</td>\n",
       "      <td>66.0</td>\n",
       "    </tr>\n",
       "  </tbody>\n",
       "</table>\n",
       "<p>3174 rows × 14 columns</p>\n",
       "</div>"
      ],
      "text/plain": [
       "      user_id first_name  last_name  age         city tariff   reg_date  \\\n",
       "0        1000     Рафаил  Верещагин   52    Краснодар  ultra 2018-05-25   \n",
       "1        1000     Рафаил  Верещагин   52    Краснодар  ultra 2018-05-25   \n",
       "2        1000     Рафаил  Верещагин   52    Краснодар  ultra 2018-05-25   \n",
       "3        1000     Рафаил  Верещагин   52    Краснодар  ultra 2018-05-25   \n",
       "4        1000     Рафаил  Верещагин   52    Краснодар  ultra 2018-05-25   \n",
       "...       ...        ...        ...  ...          ...    ...        ...   \n",
       "3169     1498   Всеволод    Акимчин   68  Владикавказ  smart 2018-07-19   \n",
       "3170     1499     Гектор   Корнилов   35        Пермь  smart 2018-09-27   \n",
       "3171     1499     Гектор   Корнилов   35        Пермь  smart 2018-09-27   \n",
       "3172     1499     Гектор   Корнилов   35        Пермь  smart 2018-09-27   \n",
       "3173     1499     Гектор   Корнилов   35        Пермь  smart 2018-09-27   \n",
       "\n",
       "     churn_date  monat  calls_amount  calls_duration  gb_used   mb_used  \\\n",
       "0    2019-01-01    5.0          22.0           159.0      3.0   2253.49   \n",
       "1    2019-01-01    6.0          43.0           172.0     23.0  23233.77   \n",
       "2    2019-01-01    7.0          47.0           340.0     14.0  14003.64   \n",
       "3    2019-01-01    8.0          52.0           408.0     14.0  14055.93   \n",
       "4    2019-01-01    9.0          58.0           466.0     15.0  14568.91   \n",
       "...         ...    ...           ...             ...      ...       ...   \n",
       "3169 2018-10-25   10.0          41.0           247.0     21.0  20579.36   \n",
       "3170 2019-01-01    9.0           9.0            70.0      2.0   1845.75   \n",
       "3171 2019-01-01   10.0          68.0           449.0     18.0  17788.51   \n",
       "3172 2019-01-01   11.0          74.0           612.0     18.0  17963.31   \n",
       "3173 2019-01-01   12.0          69.0           492.0     13.0  13055.58   \n",
       "\n",
       "      messages_amount  \n",
       "0                22.0  \n",
       "1                60.0  \n",
       "2                75.0  \n",
       "3                81.0  \n",
       "4                57.0  \n",
       "...               ...  \n",
       "3169             42.0  \n",
       "3170             11.0  \n",
       "3171             48.0  \n",
       "3172             59.0  \n",
       "3173             66.0  \n",
       "\n",
       "[3174 rows x 14 columns]"
      ]
     },
     "metadata": {},
     "output_type": "display_data"
    }
   ],
   "source": [
    "display(total_data)"
   ]
  },
  {
   "cell_type": "code",
   "execution_count": 39,
   "metadata": {},
   "outputs": [
    {
     "data": {
      "text/plain": [
       "3174"
      ]
     },
     "execution_count": 39,
     "metadata": {},
     "output_type": "execute_result"
    }
   ],
   "source": [
    "total_data['user_id'].value_counts().sum()"
   ]
  },
  {
   "cell_type": "code",
   "execution_count": 40,
   "metadata": {},
   "outputs": [
    {
     "data": {
      "text/plain": [
       "(492,)"
      ]
     },
     "execution_count": 40,
     "metadata": {},
     "output_type": "execute_result"
    }
   ],
   "source": [
    "telecom_data_pvt.user_id.unique().shape"
   ]
  },
  {
   "cell_type": "code",
   "execution_count": 41,
   "metadata": {},
   "outputs": [
    {
     "data": {
      "text/html": [
       "<div>\n",
       "<style scoped>\n",
       "    .dataframe tbody tr th:only-of-type {\n",
       "        vertical-align: middle;\n",
       "    }\n",
       "\n",
       "    .dataframe tbody tr th {\n",
       "        vertical-align: top;\n",
       "    }\n",
       "\n",
       "    .dataframe thead th {\n",
       "        text-align: right;\n",
       "    }\n",
       "</style>\n",
       "<table border=\"1\" class=\"dataframe\">\n",
       "  <thead>\n",
       "    <tr style=\"text-align: right;\">\n",
       "      <th></th>\n",
       "      <th>user_id</th>\n",
       "      <th>age</th>\n",
       "      <th>churn_date</th>\n",
       "      <th>city</th>\n",
       "      <th>first_name</th>\n",
       "      <th>last_name</th>\n",
       "      <th>reg_date</th>\n",
       "      <th>tariff</th>\n",
       "    </tr>\n",
       "  </thead>\n",
       "  <tbody>\n",
       "    <tr>\n",
       "      <th>128</th>\n",
       "      <td>1128</td>\n",
       "      <td>51</td>\n",
       "      <td>2018-12-23</td>\n",
       "      <td>Волжский</td>\n",
       "      <td>Ксения</td>\n",
       "      <td>Агаева</td>\n",
       "      <td>2018-12-15</td>\n",
       "      <td>ultra</td>\n",
       "    </tr>\n",
       "    <tr>\n",
       "      <th>371</th>\n",
       "      <td>1371</td>\n",
       "      <td>50</td>\n",
       "      <td>2018-12-30</td>\n",
       "      <td>Омск</td>\n",
       "      <td>Ириней</td>\n",
       "      <td>Трофимов</td>\n",
       "      <td>2018-12-25</td>\n",
       "      <td>smart</td>\n",
       "    </tr>\n",
       "  </tbody>\n",
       "</table>\n",
       "</div>"
      ],
      "text/plain": [
       "     user_id  age churn_date      city first_name last_name   reg_date tariff\n",
       "128     1128   51 2018-12-23  Волжский     Ксения    Агаева 2018-12-15  ultra\n",
       "371     1371   50 2018-12-30      Омск     Ириней  Трофимов 2018-12-25  smart"
      ]
     },
     "execution_count": 41,
     "metadata": {},
     "output_type": "execute_result"
    }
   ],
   "source": [
    "temp = user.copy()\n",
    "temp[(temp.user_id ==  1128) | (temp.user_id ==  1371)]"
   ]
  },
  {
   "cell_type": "code",
   "execution_count": 42,
   "metadata": {},
   "outputs": [
    {
     "data": {
      "text/html": [
       "<div>\n",
       "<style scoped>\n",
       "    .dataframe tbody tr th:only-of-type {\n",
       "        vertical-align: middle;\n",
       "    }\n",
       "\n",
       "    .dataframe tbody tr th {\n",
       "        vertical-align: top;\n",
       "    }\n",
       "\n",
       "    .dataframe thead th {\n",
       "        text-align: right;\n",
       "    }\n",
       "</style>\n",
       "<table border=\"1\" class=\"dataframe\">\n",
       "  <thead>\n",
       "    <tr style=\"text-align: right;\">\n",
       "      <th></th>\n",
       "      <th></th>\n",
       "      <th></th>\n",
       "      <th></th>\n",
       "      <th></th>\n",
       "      <th></th>\n",
       "      <th></th>\n",
       "      <th></th>\n",
       "      <th></th>\n",
       "      <th>calls_amount</th>\n",
       "      <th>calls_duration</th>\n",
       "      <th>gb_used</th>\n",
       "      <th>mb_used</th>\n",
       "      <th>messages_amount</th>\n",
       "      <th>total_cost</th>\n",
       "    </tr>\n",
       "    <tr>\n",
       "      <th>user_id</th>\n",
       "      <th>first_name</th>\n",
       "      <th>last_name</th>\n",
       "      <th>age</th>\n",
       "      <th>city</th>\n",
       "      <th>tariff</th>\n",
       "      <th>reg_date</th>\n",
       "      <th>churn_date</th>\n",
       "      <th>monat</th>\n",
       "      <th></th>\n",
       "      <th></th>\n",
       "      <th></th>\n",
       "      <th></th>\n",
       "      <th></th>\n",
       "      <th></th>\n",
       "    </tr>\n",
       "  </thead>\n",
       "  <tbody>\n",
       "    <tr>\n",
       "      <th rowspan=\"5\" valign=\"top\">1000</th>\n",
       "      <th rowspan=\"5\" valign=\"top\">Рафаил</th>\n",
       "      <th rowspan=\"5\" valign=\"top\">Верещагин</th>\n",
       "      <th rowspan=\"5\" valign=\"top\">52</th>\n",
       "      <th rowspan=\"5\" valign=\"top\">Краснодар</th>\n",
       "      <th rowspan=\"5\" valign=\"top\">ultra</th>\n",
       "      <th rowspan=\"5\" valign=\"top\">2018-05-25</th>\n",
       "      <th rowspan=\"5\" valign=\"top\">2019-01-01</th>\n",
       "      <th>5.0</th>\n",
       "      <td>22.0</td>\n",
       "      <td>159.0</td>\n",
       "      <td>3.0</td>\n",
       "      <td>2253.49</td>\n",
       "      <td>22.0</td>\n",
       "      <td>1950.0</td>\n",
       "    </tr>\n",
       "    <tr>\n",
       "      <th>6.0</th>\n",
       "      <td>43.0</td>\n",
       "      <td>172.0</td>\n",
       "      <td>23.0</td>\n",
       "      <td>23233.77</td>\n",
       "      <td>60.0</td>\n",
       "      <td>1950.0</td>\n",
       "    </tr>\n",
       "    <tr>\n",
       "      <th>7.0</th>\n",
       "      <td>47.0</td>\n",
       "      <td>340.0</td>\n",
       "      <td>14.0</td>\n",
       "      <td>14003.64</td>\n",
       "      <td>75.0</td>\n",
       "      <td>1950.0</td>\n",
       "    </tr>\n",
       "    <tr>\n",
       "      <th>8.0</th>\n",
       "      <td>52.0</td>\n",
       "      <td>408.0</td>\n",
       "      <td>14.0</td>\n",
       "      <td>14055.93</td>\n",
       "      <td>81.0</td>\n",
       "      <td>1950.0</td>\n",
       "    </tr>\n",
       "    <tr>\n",
       "      <th>9.0</th>\n",
       "      <td>58.0</td>\n",
       "      <td>466.0</td>\n",
       "      <td>15.0</td>\n",
       "      <td>14568.91</td>\n",
       "      <td>57.0</td>\n",
       "      <td>1950.0</td>\n",
       "    </tr>\n",
       "    <tr>\n",
       "      <th>...</th>\n",
       "      <th>...</th>\n",
       "      <th>...</th>\n",
       "      <th>...</th>\n",
       "      <th>...</th>\n",
       "      <th>...</th>\n",
       "      <th>...</th>\n",
       "      <th>...</th>\n",
       "      <th>...</th>\n",
       "      <td>...</td>\n",
       "      <td>...</td>\n",
       "      <td>...</td>\n",
       "      <td>...</td>\n",
       "      <td>...</td>\n",
       "      <td>...</td>\n",
       "    </tr>\n",
       "    <tr>\n",
       "      <th>1498</th>\n",
       "      <th>Всеволод</th>\n",
       "      <th>Акимчин</th>\n",
       "      <th>68</th>\n",
       "      <th>Владикавказ</th>\n",
       "      <th>smart</th>\n",
       "      <th>2018-07-19</th>\n",
       "      <th>2018-10-25</th>\n",
       "      <th>10.0</th>\n",
       "      <td>41.0</td>\n",
       "      <td>247.0</td>\n",
       "      <td>21.0</td>\n",
       "      <td>20579.36</td>\n",
       "      <td>42.0</td>\n",
       "      <td>1750.0</td>\n",
       "    </tr>\n",
       "    <tr>\n",
       "      <th rowspan=\"4\" valign=\"top\">1499</th>\n",
       "      <th rowspan=\"4\" valign=\"top\">Гектор</th>\n",
       "      <th rowspan=\"4\" valign=\"top\">Корнилов</th>\n",
       "      <th rowspan=\"4\" valign=\"top\">35</th>\n",
       "      <th rowspan=\"4\" valign=\"top\">Пермь</th>\n",
       "      <th rowspan=\"4\" valign=\"top\">smart</th>\n",
       "      <th rowspan=\"4\" valign=\"top\">2018-09-27</th>\n",
       "      <th rowspan=\"4\" valign=\"top\">2019-01-01</th>\n",
       "      <th>9.0</th>\n",
       "      <td>9.0</td>\n",
       "      <td>70.0</td>\n",
       "      <td>2.0</td>\n",
       "      <td>1845.75</td>\n",
       "      <td>11.0</td>\n",
       "      <td>550.0</td>\n",
       "    </tr>\n",
       "    <tr>\n",
       "      <th>10.0</th>\n",
       "      <td>68.0</td>\n",
       "      <td>449.0</td>\n",
       "      <td>18.0</td>\n",
       "      <td>17788.51</td>\n",
       "      <td>48.0</td>\n",
       "      <td>1150.0</td>\n",
       "    </tr>\n",
       "    <tr>\n",
       "      <th>11.0</th>\n",
       "      <td>74.0</td>\n",
       "      <td>612.0</td>\n",
       "      <td>18.0</td>\n",
       "      <td>17963.31</td>\n",
       "      <td>59.0</td>\n",
       "      <td>1177.0</td>\n",
       "    </tr>\n",
       "    <tr>\n",
       "      <th>12.0</th>\n",
       "      <td>69.0</td>\n",
       "      <td>492.0</td>\n",
       "      <td>13.0</td>\n",
       "      <td>13055.58</td>\n",
       "      <td>66.0</td>\n",
       "      <td>598.0</td>\n",
       "    </tr>\n",
       "  </tbody>\n",
       "</table>\n",
       "<p>3174 rows × 6 columns</p>\n",
       "</div>"
      ],
      "text/plain": [
       "                                                                                 calls_amount  \\\n",
       "user_id first_name last_name age city        tariff reg_date   churn_date monat                 \n",
       "1000    Рафаил     Верещагин 52  Краснодар   ultra  2018-05-25 2019-01-01 5.0            22.0   \n",
       "                                                                          6.0            43.0   \n",
       "                                                                          7.0            47.0   \n",
       "                                                                          8.0            52.0   \n",
       "                                                                          9.0            58.0   \n",
       "...                                                                                       ...   \n",
       "1498    Всеволод   Акимчин   68  Владикавказ smart  2018-07-19 2018-10-25 10.0           41.0   \n",
       "1499    Гектор     Корнилов  35  Пермь       smart  2018-09-27 2019-01-01 9.0             9.0   \n",
       "                                                                          10.0           68.0   \n",
       "                                                                          11.0           74.0   \n",
       "                                                                          12.0           69.0   \n",
       "\n",
       "                                                                                 calls_duration  \\\n",
       "user_id first_name last_name age city        tariff reg_date   churn_date monat                   \n",
       "1000    Рафаил     Верещагин 52  Краснодар   ultra  2018-05-25 2019-01-01 5.0             159.0   \n",
       "                                                                          6.0             172.0   \n",
       "                                                                          7.0             340.0   \n",
       "                                                                          8.0             408.0   \n",
       "                                                                          9.0             466.0   \n",
       "...                                                                                         ...   \n",
       "1498    Всеволод   Акимчин   68  Владикавказ smart  2018-07-19 2018-10-25 10.0            247.0   \n",
       "1499    Гектор     Корнилов  35  Пермь       smart  2018-09-27 2019-01-01 9.0              70.0   \n",
       "                                                                          10.0            449.0   \n",
       "                                                                          11.0            612.0   \n",
       "                                                                          12.0            492.0   \n",
       "\n",
       "                                                                                 gb_used  \\\n",
       "user_id first_name last_name age city        tariff reg_date   churn_date monat            \n",
       "1000    Рафаил     Верещагин 52  Краснодар   ultra  2018-05-25 2019-01-01 5.0        3.0   \n",
       "                                                                          6.0       23.0   \n",
       "                                                                          7.0       14.0   \n",
       "                                                                          8.0       14.0   \n",
       "                                                                          9.0       15.0   \n",
       "...                                                                                  ...   \n",
       "1498    Всеволод   Акимчин   68  Владикавказ smart  2018-07-19 2018-10-25 10.0      21.0   \n",
       "1499    Гектор     Корнилов  35  Пермь       smart  2018-09-27 2019-01-01 9.0        2.0   \n",
       "                                                                          10.0      18.0   \n",
       "                                                                          11.0      18.0   \n",
       "                                                                          12.0      13.0   \n",
       "\n",
       "                                                                                  mb_used  \\\n",
       "user_id first_name last_name age city        tariff reg_date   churn_date monat             \n",
       "1000    Рафаил     Верещагин 52  Краснодар   ultra  2018-05-25 2019-01-01 5.0     2253.49   \n",
       "                                                                          6.0    23233.77   \n",
       "                                                                          7.0    14003.64   \n",
       "                                                                          8.0    14055.93   \n",
       "                                                                          9.0    14568.91   \n",
       "...                                                                                   ...   \n",
       "1498    Всеволод   Акимчин   68  Владикавказ smart  2018-07-19 2018-10-25 10.0   20579.36   \n",
       "1499    Гектор     Корнилов  35  Пермь       smart  2018-09-27 2019-01-01 9.0     1845.75   \n",
       "                                                                          10.0   17788.51   \n",
       "                                                                          11.0   17963.31   \n",
       "                                                                          12.0   13055.58   \n",
       "\n",
       "                                                                                 messages_amount  \\\n",
       "user_id first_name last_name age city        tariff reg_date   churn_date monat                    \n",
       "1000    Рафаил     Верещагин 52  Краснодар   ultra  2018-05-25 2019-01-01 5.0               22.0   \n",
       "                                                                          6.0               60.0   \n",
       "                                                                          7.0               75.0   \n",
       "                                                                          8.0               81.0   \n",
       "                                                                          9.0               57.0   \n",
       "...                                                                                          ...   \n",
       "1498    Всеволод   Акимчин   68  Владикавказ smart  2018-07-19 2018-10-25 10.0              42.0   \n",
       "1499    Гектор     Корнилов  35  Пермь       smart  2018-09-27 2019-01-01 9.0               11.0   \n",
       "                                                                          10.0              48.0   \n",
       "                                                                          11.0              59.0   \n",
       "                                                                          12.0              66.0   \n",
       "\n",
       "                                                                                 total_cost  \n",
       "user_id first_name last_name age city        tariff reg_date   churn_date monat              \n",
       "1000    Рафаил     Верещагин 52  Краснодар   ultra  2018-05-25 2019-01-01 5.0        1950.0  \n",
       "                                                                          6.0        1950.0  \n",
       "                                                                          7.0        1950.0  \n",
       "                                                                          8.0        1950.0  \n",
       "                                                                          9.0        1950.0  \n",
       "...                                                                                     ...  \n",
       "1498    Всеволод   Акимчин   68  Владикавказ smart  2018-07-19 2018-10-25 10.0       1750.0  \n",
       "1499    Гектор     Корнилов  35  Пермь       smart  2018-09-27 2019-01-01 9.0         550.0  \n",
       "                                                                          10.0       1150.0  \n",
       "                                                                          11.0       1177.0  \n",
       "                                                                          12.0        598.0  \n",
       "\n",
       "[3174 rows x 6 columns]"
      ]
     },
     "execution_count": 42,
     "metadata": {},
     "output_type": "execute_result"
    }
   ],
   "source": [
    "def out_lim(row):\n",
    "    if row['tariff'] == 'smart':\n",
    "        if row['messages_amount'] > 50:\n",
    "            messages_extra = (row['messages_amount'] - 50)*3\n",
    "        else:\n",
    "            messages_extra = 0\n",
    "        if row['calls_amount'] > 500:\n",
    "            calls_extra = (row['calls_amount'] - 500)*3\n",
    "        else:\n",
    "            calls_extra = 0\n",
    "        if row['gb_used'] > 15:\n",
    "            gb_extra = (row['gb_used'] - 15)*200\n",
    "        else:\n",
    "            gb_extra = 0\n",
    "        total_cost = messages_extra + calls_extra + gb_extra + 550\n",
    "    if row['tariff'] == 'ultra':\n",
    "        if row['messages_amount'] > 1000:\n",
    "            messages_extra = (row['messages_amount'] - 1000)*1\n",
    "        else:\n",
    "            messages_extra = 0\n",
    "        if row['calls_amount'] > 3900:\n",
    "            calls_extra = (row['calls_amount'] - 3000)*1\n",
    "        else:\n",
    "            calls_extra = 0\n",
    "        if row['gb_used'] > 30:\n",
    "            gb_extra = (row['gb_used'] - 30)*150\n",
    "        else:\n",
    "            gb_extra = 0\n",
    "        total_cost = messages_extra + calls_extra + gb_extra + 1950\n",
    "    return total_cost\n",
    " \n",
    "total_data['total_cost'] = total_data.apply(out_lim, axis=1)\n",
    "total_data.pivot_table(index=['user_id', 'first_name', 'last_name', 'age', 'city', 'tariff', 'reg_date', 'churn_date', 'monat'])"
   ]
  },
  {
   "cell_type": "code",
   "execution_count": 43,
   "metadata": {},
   "outputs": [
    {
     "data": {
      "text/html": [
       "<div>\n",
       "<style scoped>\n",
       "    .dataframe tbody tr th:only-of-type {\n",
       "        vertical-align: middle;\n",
       "    }\n",
       "\n",
       "    .dataframe tbody tr th {\n",
       "        vertical-align: top;\n",
       "    }\n",
       "\n",
       "    .dataframe thead th {\n",
       "        text-align: right;\n",
       "    }\n",
       "</style>\n",
       "<table border=\"1\" class=\"dataframe\">\n",
       "  <thead>\n",
       "    <tr style=\"text-align: right;\">\n",
       "      <th></th>\n",
       "      <th>user_id</th>\n",
       "      <th>first_name</th>\n",
       "      <th>last_name</th>\n",
       "      <th>age</th>\n",
       "      <th>city</th>\n",
       "      <th>tariff</th>\n",
       "      <th>reg_date</th>\n",
       "      <th>churn_date</th>\n",
       "      <th>monat</th>\n",
       "      <th>calls_amount</th>\n",
       "      <th>calls_duration</th>\n",
       "      <th>gb_used</th>\n",
       "      <th>mb_used</th>\n",
       "      <th>messages_amount</th>\n",
       "      <th>total_cost</th>\n",
       "    </tr>\n",
       "  </thead>\n",
       "  <tbody>\n",
       "    <tr>\n",
       "      <th>0</th>\n",
       "      <td>1000</td>\n",
       "      <td>Рафаил</td>\n",
       "      <td>Верещагин</td>\n",
       "      <td>52</td>\n",
       "      <td>Краснодар</td>\n",
       "      <td>ultra</td>\n",
       "      <td>2018-05-25</td>\n",
       "      <td>2019-01-01</td>\n",
       "      <td>5.0</td>\n",
       "      <td>22.0</td>\n",
       "      <td>159.0</td>\n",
       "      <td>3.0</td>\n",
       "      <td>2253.49</td>\n",
       "      <td>22.0</td>\n",
       "      <td>1950.0</td>\n",
       "    </tr>\n",
       "    <tr>\n",
       "      <th>1</th>\n",
       "      <td>1000</td>\n",
       "      <td>Рафаил</td>\n",
       "      <td>Верещагин</td>\n",
       "      <td>52</td>\n",
       "      <td>Краснодар</td>\n",
       "      <td>ultra</td>\n",
       "      <td>2018-05-25</td>\n",
       "      <td>2019-01-01</td>\n",
       "      <td>6.0</td>\n",
       "      <td>43.0</td>\n",
       "      <td>172.0</td>\n",
       "      <td>23.0</td>\n",
       "      <td>23233.77</td>\n",
       "      <td>60.0</td>\n",
       "      <td>1950.0</td>\n",
       "    </tr>\n",
       "    <tr>\n",
       "      <th>2</th>\n",
       "      <td>1000</td>\n",
       "      <td>Рафаил</td>\n",
       "      <td>Верещагин</td>\n",
       "      <td>52</td>\n",
       "      <td>Краснодар</td>\n",
       "      <td>ultra</td>\n",
       "      <td>2018-05-25</td>\n",
       "      <td>2019-01-01</td>\n",
       "      <td>7.0</td>\n",
       "      <td>47.0</td>\n",
       "      <td>340.0</td>\n",
       "      <td>14.0</td>\n",
       "      <td>14003.64</td>\n",
       "      <td>75.0</td>\n",
       "      <td>1950.0</td>\n",
       "    </tr>\n",
       "    <tr>\n",
       "      <th>3</th>\n",
       "      <td>1000</td>\n",
       "      <td>Рафаил</td>\n",
       "      <td>Верещагин</td>\n",
       "      <td>52</td>\n",
       "      <td>Краснодар</td>\n",
       "      <td>ultra</td>\n",
       "      <td>2018-05-25</td>\n",
       "      <td>2019-01-01</td>\n",
       "      <td>8.0</td>\n",
       "      <td>52.0</td>\n",
       "      <td>408.0</td>\n",
       "      <td>14.0</td>\n",
       "      <td>14055.93</td>\n",
       "      <td>81.0</td>\n",
       "      <td>1950.0</td>\n",
       "    </tr>\n",
       "    <tr>\n",
       "      <th>4</th>\n",
       "      <td>1000</td>\n",
       "      <td>Рафаил</td>\n",
       "      <td>Верещагин</td>\n",
       "      <td>52</td>\n",
       "      <td>Краснодар</td>\n",
       "      <td>ultra</td>\n",
       "      <td>2018-05-25</td>\n",
       "      <td>2019-01-01</td>\n",
       "      <td>9.0</td>\n",
       "      <td>58.0</td>\n",
       "      <td>466.0</td>\n",
       "      <td>15.0</td>\n",
       "      <td>14568.91</td>\n",
       "      <td>57.0</td>\n",
       "      <td>1950.0</td>\n",
       "    </tr>\n",
       "    <tr>\n",
       "      <th>...</th>\n",
       "      <td>...</td>\n",
       "      <td>...</td>\n",
       "      <td>...</td>\n",
       "      <td>...</td>\n",
       "      <td>...</td>\n",
       "      <td>...</td>\n",
       "      <td>...</td>\n",
       "      <td>...</td>\n",
       "      <td>...</td>\n",
       "      <td>...</td>\n",
       "      <td>...</td>\n",
       "      <td>...</td>\n",
       "      <td>...</td>\n",
       "      <td>...</td>\n",
       "      <td>...</td>\n",
       "    </tr>\n",
       "    <tr>\n",
       "      <th>3169</th>\n",
       "      <td>1498</td>\n",
       "      <td>Всеволод</td>\n",
       "      <td>Акимчин</td>\n",
       "      <td>68</td>\n",
       "      <td>Владикавказ</td>\n",
       "      <td>smart</td>\n",
       "      <td>2018-07-19</td>\n",
       "      <td>2018-10-25</td>\n",
       "      <td>10.0</td>\n",
       "      <td>41.0</td>\n",
       "      <td>247.0</td>\n",
       "      <td>21.0</td>\n",
       "      <td>20579.36</td>\n",
       "      <td>42.0</td>\n",
       "      <td>1750.0</td>\n",
       "    </tr>\n",
       "    <tr>\n",
       "      <th>3170</th>\n",
       "      <td>1499</td>\n",
       "      <td>Гектор</td>\n",
       "      <td>Корнилов</td>\n",
       "      <td>35</td>\n",
       "      <td>Пермь</td>\n",
       "      <td>smart</td>\n",
       "      <td>2018-09-27</td>\n",
       "      <td>2019-01-01</td>\n",
       "      <td>9.0</td>\n",
       "      <td>9.0</td>\n",
       "      <td>70.0</td>\n",
       "      <td>2.0</td>\n",
       "      <td>1845.75</td>\n",
       "      <td>11.0</td>\n",
       "      <td>550.0</td>\n",
       "    </tr>\n",
       "    <tr>\n",
       "      <th>3171</th>\n",
       "      <td>1499</td>\n",
       "      <td>Гектор</td>\n",
       "      <td>Корнилов</td>\n",
       "      <td>35</td>\n",
       "      <td>Пермь</td>\n",
       "      <td>smart</td>\n",
       "      <td>2018-09-27</td>\n",
       "      <td>2019-01-01</td>\n",
       "      <td>10.0</td>\n",
       "      <td>68.0</td>\n",
       "      <td>449.0</td>\n",
       "      <td>18.0</td>\n",
       "      <td>17788.51</td>\n",
       "      <td>48.0</td>\n",
       "      <td>1150.0</td>\n",
       "    </tr>\n",
       "    <tr>\n",
       "      <th>3172</th>\n",
       "      <td>1499</td>\n",
       "      <td>Гектор</td>\n",
       "      <td>Корнилов</td>\n",
       "      <td>35</td>\n",
       "      <td>Пермь</td>\n",
       "      <td>smart</td>\n",
       "      <td>2018-09-27</td>\n",
       "      <td>2019-01-01</td>\n",
       "      <td>11.0</td>\n",
       "      <td>74.0</td>\n",
       "      <td>612.0</td>\n",
       "      <td>18.0</td>\n",
       "      <td>17963.31</td>\n",
       "      <td>59.0</td>\n",
       "      <td>1177.0</td>\n",
       "    </tr>\n",
       "    <tr>\n",
       "      <th>3173</th>\n",
       "      <td>1499</td>\n",
       "      <td>Гектор</td>\n",
       "      <td>Корнилов</td>\n",
       "      <td>35</td>\n",
       "      <td>Пермь</td>\n",
       "      <td>smart</td>\n",
       "      <td>2018-09-27</td>\n",
       "      <td>2019-01-01</td>\n",
       "      <td>12.0</td>\n",
       "      <td>69.0</td>\n",
       "      <td>492.0</td>\n",
       "      <td>13.0</td>\n",
       "      <td>13055.58</td>\n",
       "      <td>66.0</td>\n",
       "      <td>598.0</td>\n",
       "    </tr>\n",
       "  </tbody>\n",
       "</table>\n",
       "<p>3174 rows × 15 columns</p>\n",
       "</div>"
      ],
      "text/plain": [
       "      user_id first_name  last_name  age         city tariff   reg_date  \\\n",
       "0        1000     Рафаил  Верещагин   52    Краснодар  ultra 2018-05-25   \n",
       "1        1000     Рафаил  Верещагин   52    Краснодар  ultra 2018-05-25   \n",
       "2        1000     Рафаил  Верещагин   52    Краснодар  ultra 2018-05-25   \n",
       "3        1000     Рафаил  Верещагин   52    Краснодар  ultra 2018-05-25   \n",
       "4        1000     Рафаил  Верещагин   52    Краснодар  ultra 2018-05-25   \n",
       "...       ...        ...        ...  ...          ...    ...        ...   \n",
       "3169     1498   Всеволод    Акимчин   68  Владикавказ  smart 2018-07-19   \n",
       "3170     1499     Гектор   Корнилов   35        Пермь  smart 2018-09-27   \n",
       "3171     1499     Гектор   Корнилов   35        Пермь  smart 2018-09-27   \n",
       "3172     1499     Гектор   Корнилов   35        Пермь  smart 2018-09-27   \n",
       "3173     1499     Гектор   Корнилов   35        Пермь  smart 2018-09-27   \n",
       "\n",
       "     churn_date  monat  calls_amount  calls_duration  gb_used   mb_used  \\\n",
       "0    2019-01-01    5.0          22.0           159.0      3.0   2253.49   \n",
       "1    2019-01-01    6.0          43.0           172.0     23.0  23233.77   \n",
       "2    2019-01-01    7.0          47.0           340.0     14.0  14003.64   \n",
       "3    2019-01-01    8.0          52.0           408.0     14.0  14055.93   \n",
       "4    2019-01-01    9.0          58.0           466.0     15.0  14568.91   \n",
       "...         ...    ...           ...             ...      ...       ...   \n",
       "3169 2018-10-25   10.0          41.0           247.0     21.0  20579.36   \n",
       "3170 2019-01-01    9.0           9.0            70.0      2.0   1845.75   \n",
       "3171 2019-01-01   10.0          68.0           449.0     18.0  17788.51   \n",
       "3172 2019-01-01   11.0          74.0           612.0     18.0  17963.31   \n",
       "3173 2019-01-01   12.0          69.0           492.0     13.0  13055.58   \n",
       "\n",
       "      messages_amount  total_cost  \n",
       "0                22.0      1950.0  \n",
       "1                60.0      1950.0  \n",
       "2                75.0      1950.0  \n",
       "3                81.0      1950.0  \n",
       "4                57.0      1950.0  \n",
       "...               ...         ...  \n",
       "3169             42.0      1750.0  \n",
       "3170             11.0       550.0  \n",
       "3171             48.0      1150.0  \n",
       "3172             59.0      1177.0  \n",
       "3173             66.0       598.0  \n",
       "\n",
       "[3174 rows x 15 columns]"
      ]
     },
     "metadata": {},
     "output_type": "display_data"
    }
   ],
   "source": [
    "display(total_data)"
   ]
  },
  {
   "cell_type": "code",
   "execution_count": 44,
   "metadata": {},
   "outputs": [
    {
     "data": {
      "text/plain": [
       "user_id              0\n",
       "first_name           0\n",
       "last_name            0\n",
       "age                  0\n",
       "city                 0\n",
       "tariff               0\n",
       "reg_date             0\n",
       "churn_date           0\n",
       "monat                0\n",
       "calls_amount         0\n",
       "calls_duration       0\n",
       "gb_used             11\n",
       "mb_used             11\n",
       "messages_amount    496\n",
       "total_cost           0\n",
       "dtype: int64"
      ]
     },
     "execution_count": 44,
     "metadata": {},
     "output_type": "execute_result"
    }
   ],
   "source": [
    "total_data.isna().sum()"
   ]
  },
  {
   "cell_type": "markdown",
   "metadata": {},
   "source": [
    "Пропуски имеются в столбцах messages_amount и  gb_used, данных по всей видимости просто нет, не внесли их либо по ошибке либо из-за того что пользователи либо не использовли интернет или не писали смс, пропуски заменю на 0.              "
   ]
  },
  {
   "cell_type": "code",
   "execution_count": 45,
   "metadata": {},
   "outputs": [],
   "source": [
    "total_data['gb_used']=total_data['gb_used'].fillna(0)\n",
    "total_data['messages_amount']=total_data['messages_amount'].fillna(0)\n",
    "total_data.drop(['mb_used'], axis=1, inplace=True)\n"
   ]
  },
  {
   "cell_type": "code",
   "execution_count": 46,
   "metadata": {},
   "outputs": [
    {
     "data": {
      "text/plain": [
       "user_id            0\n",
       "first_name         0\n",
       "last_name          0\n",
       "age                0\n",
       "city               0\n",
       "tariff             0\n",
       "reg_date           0\n",
       "churn_date         0\n",
       "monat              0\n",
       "calls_amount       0\n",
       "calls_duration     0\n",
       "gb_used            0\n",
       "messages_amount    0\n",
       "total_cost         0\n",
       "dtype: int64"
      ]
     },
     "execution_count": 46,
     "metadata": {},
     "output_type": "execute_result"
    }
   ],
   "source": [
    "total_data.isna().sum()"
   ]
  },
  {
   "cell_type": "markdown",
   "metadata": {},
   "source": [
    "2.3.4 Помесячную выручку с каждого пользователя (вычтите бесплатный лимит из суммарного количества звонков, сообщений и интернет-трафика; остаток умножьте на значение из тарифного плана; прибавьте абонентскую плату, соответствующую тарифному плану)."
   ]
  },
  {
   "cell_type": "markdown",
   "metadata": {},
   "source": [
    "2. Вывод - в представленных таблицах приведение типов данных произвел.\n",
    "    Посчитал для каждого пользователя:\n",
    "- количество сделанных звонков и израсходованных минут разговора по месяцам;\n",
    "- количество отправленных сообщений по месяцам;\n",
    "- объем израсходованного интернет-трафика по месяцам;\n",
    "- помесячную выручку с каждого пользователя - она указано в столбце total_cost таблицы total_data"
   ]
  },
  {
   "cell_type": "markdown",
   "metadata": {},
   "source": [
    "3. Проанализируйте данные"
   ]
  },
  {
   "cell_type": "markdown",
   "metadata": {},
   "source": [
    "- Опишите поведение клиентов оператора, исходя из выборки."
   ]
  },
  {
   "cell_type": "markdown",
   "metadata": {},
   "source": [
    "     3.1 Сколько минут разговора требуется пользователям каждого тарифа в месяц?"
   ]
  },
  {
   "cell_type": "markdown",
   "metadata": {},
   "source": [
    "Тариф смарт и еге зависимость. Телефонные звонки"
   ]
  },
  {
   "cell_type": "code",
   "execution_count": 47,
   "metadata": {},
   "outputs": [],
   "source": [
    "min_total_data_smart = total_data.query('tariff==\"smart\"').pivot_table(index=['tariff', 'monat'], values='calls_amount', aggfunc=['sum','median' ,'mean'])\n",
    "min_total_data_ultra = total_data.query('tariff==\"ultra\"').pivot_table(index=['tariff', 'monat'], values='calls_amount', aggfunc=['sum','median' ,'mean'])"
   ]
  },
  {
   "cell_type": "code",
   "execution_count": 48,
   "metadata": {},
   "outputs": [
    {
     "data": {
      "text/html": [
       "<div>\n",
       "<style scoped>\n",
       "    .dataframe tbody tr th:only-of-type {\n",
       "        vertical-align: middle;\n",
       "    }\n",
       "\n",
       "    .dataframe tbody tr th {\n",
       "        vertical-align: top;\n",
       "    }\n",
       "\n",
       "    .dataframe thead tr th {\n",
       "        text-align: left;\n",
       "    }\n",
       "\n",
       "    .dataframe thead tr:last-of-type th {\n",
       "        text-align: right;\n",
       "    }\n",
       "</style>\n",
       "<table border=\"1\" class=\"dataframe\">\n",
       "  <thead>\n",
       "    <tr>\n",
       "      <th></th>\n",
       "      <th></th>\n",
       "      <th>sum</th>\n",
       "      <th>median</th>\n",
       "      <th>mean</th>\n",
       "    </tr>\n",
       "    <tr>\n",
       "      <th></th>\n",
       "      <th></th>\n",
       "      <th>calls_amount</th>\n",
       "      <th>calls_amount</th>\n",
       "      <th>calls_amount</th>\n",
       "    </tr>\n",
       "    <tr>\n",
       "      <th>tariff</th>\n",
       "      <th>monat</th>\n",
       "      <th></th>\n",
       "      <th></th>\n",
       "      <th></th>\n",
       "    </tr>\n",
       "  </thead>\n",
       "  <tbody>\n",
       "    <tr>\n",
       "      <th rowspan=\"12\" valign=\"top\">smart</th>\n",
       "      <th>1.0</th>\n",
       "      <td>941.0</td>\n",
       "      <td>20.5</td>\n",
       "      <td>27.676471</td>\n",
       "    </tr>\n",
       "    <tr>\n",
       "      <th>2.0</th>\n",
       "      <td>2331.0</td>\n",
       "      <td>38.5</td>\n",
       "      <td>40.189655</td>\n",
       "    </tr>\n",
       "    <tr>\n",
       "      <th>3.0</th>\n",
       "      <td>4183.0</td>\n",
       "      <td>59.0</td>\n",
       "      <td>54.324675</td>\n",
       "    </tr>\n",
       "    <tr>\n",
       "      <th>4.0</th>\n",
       "      <td>5747.0</td>\n",
       "      <td>52.0</td>\n",
       "      <td>51.312500</td>\n",
       "    </tr>\n",
       "    <tr>\n",
       "      <th>5.0</th>\n",
       "      <td>7789.0</td>\n",
       "      <td>59.0</td>\n",
       "      <td>55.241135</td>\n",
       "    </tr>\n",
       "    <tr>\n",
       "      <th>6.0</th>\n",
       "      <td>9110.0</td>\n",
       "      <td>59.0</td>\n",
       "      <td>55.889571</td>\n",
       "    </tr>\n",
       "    <tr>\n",
       "      <th>7.0</th>\n",
       "      <td>11402.0</td>\n",
       "      <td>58.0</td>\n",
       "      <td>56.726368</td>\n",
       "    </tr>\n",
       "    <tr>\n",
       "      <th>8.0</th>\n",
       "      <td>13860.0</td>\n",
       "      <td>62.5</td>\n",
       "      <td>59.230769</td>\n",
       "    </tr>\n",
       "    <tr>\n",
       "      <th>9.0</th>\n",
       "      <td>15482.0</td>\n",
       "      <td>61.0</td>\n",
       "      <td>59.776062</td>\n",
       "    </tr>\n",
       "    <tr>\n",
       "      <th>10.0</th>\n",
       "      <td>17629.0</td>\n",
       "      <td>61.0</td>\n",
       "      <td>60.167235</td>\n",
       "    </tr>\n",
       "    <tr>\n",
       "      <th>11.0</th>\n",
       "      <td>19435.0</td>\n",
       "      <td>60.0</td>\n",
       "      <td>61.698413</td>\n",
       "    </tr>\n",
       "    <tr>\n",
       "      <th>12.0</th>\n",
       "      <td>22406.0</td>\n",
       "      <td>65.5</td>\n",
       "      <td>66.684524</td>\n",
       "    </tr>\n",
       "  </tbody>\n",
       "</table>\n",
       "</div>"
      ],
      "text/plain": [
       "                      sum       median         mean\n",
       "             calls_amount calls_amount calls_amount\n",
       "tariff monat                                       \n",
       "smart  1.0          941.0         20.5    27.676471\n",
       "       2.0         2331.0         38.5    40.189655\n",
       "       3.0         4183.0         59.0    54.324675\n",
       "       4.0         5747.0         52.0    51.312500\n",
       "       5.0         7789.0         59.0    55.241135\n",
       "       6.0         9110.0         59.0    55.889571\n",
       "       7.0        11402.0         58.0    56.726368\n",
       "       8.0        13860.0         62.5    59.230769\n",
       "       9.0        15482.0         61.0    59.776062\n",
       "       10.0       17629.0         61.0    60.167235\n",
       "       11.0       19435.0         60.0    61.698413\n",
       "       12.0       22406.0         65.5    66.684524"
      ]
     },
     "metadata": {},
     "output_type": "display_data"
    },
    {
     "data": {
      "text/html": [
       "<div>\n",
       "<style scoped>\n",
       "    .dataframe tbody tr th:only-of-type {\n",
       "        vertical-align: middle;\n",
       "    }\n",
       "\n",
       "    .dataframe tbody tr th {\n",
       "        vertical-align: top;\n",
       "    }\n",
       "\n",
       "    .dataframe thead tr th {\n",
       "        text-align: left;\n",
       "    }\n",
       "\n",
       "    .dataframe thead tr:last-of-type th {\n",
       "        text-align: right;\n",
       "    }\n",
       "</style>\n",
       "<table border=\"1\" class=\"dataframe\">\n",
       "  <thead>\n",
       "    <tr>\n",
       "      <th></th>\n",
       "      <th></th>\n",
       "      <th>sum</th>\n",
       "      <th>median</th>\n",
       "      <th>mean</th>\n",
       "    </tr>\n",
       "    <tr>\n",
       "      <th></th>\n",
       "      <th></th>\n",
       "      <th>calls_amount</th>\n",
       "      <th>calls_amount</th>\n",
       "      <th>calls_amount</th>\n",
       "    </tr>\n",
       "    <tr>\n",
       "      <th>tariff</th>\n",
       "      <th>monat</th>\n",
       "      <th></th>\n",
       "      <th></th>\n",
       "      <th></th>\n",
       "    </tr>\n",
       "  </thead>\n",
       "  <tbody>\n",
       "    <tr>\n",
       "      <th rowspan=\"12\" valign=\"top\">ultra</th>\n",
       "      <th>1.0</th>\n",
       "      <td>535.0</td>\n",
       "      <td>51.0</td>\n",
       "      <td>59.444444</td>\n",
       "    </tr>\n",
       "    <tr>\n",
       "      <th>2.0</th>\n",
       "      <td>997.0</td>\n",
       "      <td>25.0</td>\n",
       "      <td>41.541667</td>\n",
       "    </tr>\n",
       "    <tr>\n",
       "      <th>3.0</th>\n",
       "      <td>2504.0</td>\n",
       "      <td>57.0</td>\n",
       "      <td>67.675676</td>\n",
       "    </tr>\n",
       "    <tr>\n",
       "      <th>4.0</th>\n",
       "      <td>3525.0</td>\n",
       "      <td>63.0</td>\n",
       "      <td>66.509434</td>\n",
       "    </tr>\n",
       "    <tr>\n",
       "      <th>5.0</th>\n",
       "      <td>4858.0</td>\n",
       "      <td>76.5</td>\n",
       "      <td>75.906250</td>\n",
       "    </tr>\n",
       "    <tr>\n",
       "      <th>6.0</th>\n",
       "      <td>5606.0</td>\n",
       "      <td>69.0</td>\n",
       "      <td>69.209877</td>\n",
       "    </tr>\n",
       "    <tr>\n",
       "      <th>7.0</th>\n",
       "      <td>6896.0</td>\n",
       "      <td>79.0</td>\n",
       "      <td>78.363636</td>\n",
       "    </tr>\n",
       "    <tr>\n",
       "      <th>8.0</th>\n",
       "      <td>7628.0</td>\n",
       "      <td>74.0</td>\n",
       "      <td>74.058252</td>\n",
       "    </tr>\n",
       "    <tr>\n",
       "      <th>9.0</th>\n",
       "      <td>8579.0</td>\n",
       "      <td>77.0</td>\n",
       "      <td>77.288288</td>\n",
       "    </tr>\n",
       "    <tr>\n",
       "      <th>10.0</th>\n",
       "      <td>9517.0</td>\n",
       "      <td>76.5</td>\n",
       "      <td>80.652542</td>\n",
       "    </tr>\n",
       "    <tr>\n",
       "      <th>11.0</th>\n",
       "      <td>10066.0</td>\n",
       "      <td>80.0</td>\n",
       "      <td>78.031008</td>\n",
       "    </tr>\n",
       "    <tr>\n",
       "      <th>12.0</th>\n",
       "      <td>11581.0</td>\n",
       "      <td>84.0</td>\n",
       "      <td>86.425373</td>\n",
       "    </tr>\n",
       "  </tbody>\n",
       "</table>\n",
       "</div>"
      ],
      "text/plain": [
       "                      sum       median         mean\n",
       "             calls_amount calls_amount calls_amount\n",
       "tariff monat                                       \n",
       "ultra  1.0          535.0         51.0    59.444444\n",
       "       2.0          997.0         25.0    41.541667\n",
       "       3.0         2504.0         57.0    67.675676\n",
       "       4.0         3525.0         63.0    66.509434\n",
       "       5.0         4858.0         76.5    75.906250\n",
       "       6.0         5606.0         69.0    69.209877\n",
       "       7.0         6896.0         79.0    78.363636\n",
       "       8.0         7628.0         74.0    74.058252\n",
       "       9.0         8579.0         77.0    77.288288\n",
       "       10.0        9517.0         76.5    80.652542\n",
       "       11.0       10066.0         80.0    78.031008\n",
       "       12.0       11581.0         84.0    86.425373"
      ]
     },
     "metadata": {},
     "output_type": "display_data"
    }
   ],
   "source": [
    "display(min_total_data_smart)\n",
    "display(min_total_data_ultra)"
   ]
  },
  {
   "cell_type": "code",
   "execution_count": 49,
   "metadata": {},
   "outputs": [],
   "source": [
    "total_data_smart=total_data.query('tariff==\"smart\"')\n",
    "total_data_ultra=total_data.query('tariff==\"ultra\"')"
   ]
  },
  {
   "cell_type": "code",
   "execution_count": 50,
   "metadata": {},
   "outputs": [
    {
     "data": {
      "image/png": "[encoded data removed]",
      "text/plain": [
       "<Figure size 432x288 with 1 Axes>"
      ]
     },
     "metadata": {
      "needs_background": "light"
     },
     "output_type": "display_data"
    }
   ],
   "source": [
    "total_data_smart['calls_amount'].hist(range=(0,150),bins=100, label='smart')\n",
    "total_data_ultra['calls_amount'].hist(range=(0,150),bins=100, label='ultra')\n",
    "plt.xlabel('Минуты разговора')\n",
    "plt.title('Распределение использования минут по тарифам')\n",
    "plt.legend()\n",
    "plt.show()"
   ]
  },
  {
   "cell_type": "code",
   "execution_count": 51,
   "metadata": {},
   "outputs": [
    {
     "data": {
      "image/png": "[encoded data removed]",
      "text/plain": [
       "<Figure size 432x288 with 1 Axes>"
      ]
     },
     "metadata": {
      "needs_background": "light"
     },
     "output_type": "display_data"
    },
    {
     "data": {
      "text/html": [
       "<div>\n",
       "<style scoped>\n",
       "    .dataframe tbody tr th:only-of-type {\n",
       "        vertical-align: middle;\n",
       "    }\n",
       "\n",
       "    .dataframe tbody tr th {\n",
       "        vertical-align: top;\n",
       "    }\n",
       "\n",
       "    .dataframe thead tr th {\n",
       "        text-align: left;\n",
       "    }\n",
       "</style>\n",
       "<table border=\"1\" class=\"dataframe\">\n",
       "  <thead>\n",
       "    <tr>\n",
       "      <th></th>\n",
       "      <th>sum</th>\n",
       "      <th>median</th>\n",
       "      <th>mean</th>\n",
       "    </tr>\n",
       "    <tr>\n",
       "      <th></th>\n",
       "      <th>calls_amount</th>\n",
       "      <th>calls_amount</th>\n",
       "      <th>calls_amount</th>\n",
       "    </tr>\n",
       "  </thead>\n",
       "  <tbody>\n",
       "    <tr>\n",
       "      <th>count</th>\n",
       "      <td>12.000000</td>\n",
       "      <td>12.000000</td>\n",
       "      <td>12.000000</td>\n",
       "    </tr>\n",
       "    <tr>\n",
       "      <th>mean</th>\n",
       "      <td>10859.583333</td>\n",
       "      <td>54.666667</td>\n",
       "      <td>54.076448</td>\n",
       "    </tr>\n",
       "    <tr>\n",
       "      <th>std</th>\n",
       "      <td>6991.330924</td>\n",
       "      <td>12.758835</td>\n",
       "      <td>10.541593</td>\n",
       "    </tr>\n",
       "    <tr>\n",
       "      <th>min</th>\n",
       "      <td>941.000000</td>\n",
       "      <td>20.500000</td>\n",
       "      <td>27.676471</td>\n",
       "    </tr>\n",
       "    <tr>\n",
       "      <th>25%</th>\n",
       "      <td>5356.000000</td>\n",
       "      <td>56.500000</td>\n",
       "      <td>53.571631</td>\n",
       "    </tr>\n",
       "    <tr>\n",
       "      <th>50%</th>\n",
       "      <td>10256.000000</td>\n",
       "      <td>59.000000</td>\n",
       "      <td>56.307969</td>\n",
       "    </tr>\n",
       "    <tr>\n",
       "      <th>75%</th>\n",
       "      <td>16018.750000</td>\n",
       "      <td>61.000000</td>\n",
       "      <td>59.873855</td>\n",
       "    </tr>\n",
       "    <tr>\n",
       "      <th>max</th>\n",
       "      <td>22406.000000</td>\n",
       "      <td>65.500000</td>\n",
       "      <td>66.684524</td>\n",
       "    </tr>\n",
       "  </tbody>\n",
       "</table>\n",
       "</div>"
      ],
      "text/plain": [
       "                sum       median         mean\n",
       "       calls_amount calls_amount calls_amount\n",
       "count     12.000000    12.000000    12.000000\n",
       "mean   10859.583333    54.666667    54.076448\n",
       "std     6991.330924    12.758835    10.541593\n",
       "min      941.000000    20.500000    27.676471\n",
       "25%     5356.000000    56.500000    53.571631\n",
       "50%    10256.000000    59.000000    56.307969\n",
       "75%    16018.750000    61.000000    59.873855\n",
       "max    22406.000000    65.500000    66.684524"
      ]
     },
     "execution_count": 51,
     "metadata": {},
     "output_type": "execute_result"
    }
   ],
   "source": [
    "min_total_data_smart.boxplot()\n",
    "plt.xlabel('Минуты разговора')\n",
    "plt.title('Распределение использования минут по smart')\n",
    "plt.show()\n",
    "min_total_data_smart.describe()"
   ]
  },
  {
   "cell_type": "code",
   "execution_count": 52,
   "metadata": {},
   "outputs": [
    {
     "data": {
      "image/png": "[encoded data removed]",
      "text/plain": [
       "<Figure size 432x288 with 1 Axes>"
      ]
     },
     "metadata": {
      "needs_background": "light"
     },
     "output_type": "display_data"
    },
    {
     "data": {
      "text/html": [
       "<div>\n",
       "<style scoped>\n",
       "    .dataframe tbody tr th:only-of-type {\n",
       "        vertical-align: middle;\n",
       "    }\n",
       "\n",
       "    .dataframe tbody tr th {\n",
       "        vertical-align: top;\n",
       "    }\n",
       "\n",
       "    .dataframe thead tr th {\n",
       "        text-align: left;\n",
       "    }\n",
       "</style>\n",
       "<table border=\"1\" class=\"dataframe\">\n",
       "  <thead>\n",
       "    <tr>\n",
       "      <th></th>\n",
       "      <th>sum</th>\n",
       "      <th>median</th>\n",
       "      <th>mean</th>\n",
       "    </tr>\n",
       "    <tr>\n",
       "      <th></th>\n",
       "      <th>calls_amount</th>\n",
       "      <th>calls_amount</th>\n",
       "      <th>calls_amount</th>\n",
       "    </tr>\n",
       "  </thead>\n",
       "  <tbody>\n",
       "    <tr>\n",
       "      <th>count</th>\n",
       "      <td>12.000000</td>\n",
       "      <td>12.000000</td>\n",
       "      <td>12.000000</td>\n",
       "    </tr>\n",
       "    <tr>\n",
       "      <th>mean</th>\n",
       "      <td>6024.333333</td>\n",
       "      <td>67.666667</td>\n",
       "      <td>71.258871</td>\n",
       "    </tr>\n",
       "    <tr>\n",
       "      <th>std</th>\n",
       "      <td>3628.796653</td>\n",
       "      <td>16.695581</td>\n",
       "      <td>11.842449</td>\n",
       "    </tr>\n",
       "    <tr>\n",
       "      <th>min</th>\n",
       "      <td>535.000000</td>\n",
       "      <td>25.000000</td>\n",
       "      <td>41.541667</td>\n",
       "    </tr>\n",
       "    <tr>\n",
       "      <th>25%</th>\n",
       "      <td>3269.750000</td>\n",
       "      <td>61.500000</td>\n",
       "      <td>67.384115</td>\n",
       "    </tr>\n",
       "    <tr>\n",
       "      <th>50%</th>\n",
       "      <td>6251.000000</td>\n",
       "      <td>75.250000</td>\n",
       "      <td>74.982251</td>\n",
       "    </tr>\n",
       "    <tr>\n",
       "      <th>75%</th>\n",
       "      <td>8813.500000</td>\n",
       "      <td>77.500000</td>\n",
       "      <td>78.114165</td>\n",
       "    </tr>\n",
       "    <tr>\n",
       "      <th>max</th>\n",
       "      <td>11581.000000</td>\n",
       "      <td>84.000000</td>\n",
       "      <td>86.425373</td>\n",
       "    </tr>\n",
       "  </tbody>\n",
       "</table>\n",
       "</div>"
      ],
      "text/plain": [
       "                sum       median         mean\n",
       "       calls_amount calls_amount calls_amount\n",
       "count     12.000000    12.000000    12.000000\n",
       "mean    6024.333333    67.666667    71.258871\n",
       "std     3628.796653    16.695581    11.842449\n",
       "min      535.000000    25.000000    41.541667\n",
       "25%     3269.750000    61.500000    67.384115\n",
       "50%     6251.000000    75.250000    74.982251\n",
       "75%     8813.500000    77.500000    78.114165\n",
       "max    11581.000000    84.000000    86.425373"
      ]
     },
     "execution_count": 52,
     "metadata": {},
     "output_type": "execute_result"
    }
   ],
   "source": [
    "min_total_data_ultra.boxplot()\n",
    "plt.xlabel('Минуты разговора')\n",
    "plt.title('Распределение использования минут по ultra')\n",
    "plt.show()\n",
    "min_total_data_ultra.describe()\n"
   ]
  },
  {
   "cell_type": "code",
   "execution_count": 53,
   "metadata": {},
   "outputs": [
    {
     "data": {
      "text/plain": [
       "calls_amount    278.742424\n",
       "dtype: float64"
      ]
     },
     "metadata": {},
     "output_type": "display_data"
    },
    {
     "data": {
      "text/plain": [
       "calls_amount    140.243604\n",
       "dtype: float64"
      ]
     },
     "metadata": {},
     "output_type": "display_data"
    },
    {
     "data": {
      "text/plain": [
       "calls_amount    1.316817e+07\n",
       "dtype: float64"
      ]
     },
     "metadata": {},
     "output_type": "display_data"
    }
   ],
   "source": [
    "display(min_total_data_ultra.var()['median'])\n",
    "display(min_total_data_ultra.var()['mean'])\n",
    "display(min_total_data_ultra.var()['sum'])"
   ]
  },
  {
   "cell_type": "markdown",
   "metadata": {},
   "source": [
    "     3.2 Сколько  сколько сообщений  требуется пользователям каждого тарифа в месяц?"
   ]
  },
  {
   "cell_type": "code",
   "execution_count": 54,
   "metadata": {},
   "outputs": [],
   "source": [
    "sms_total_data_smart = total_data.query('tariff==\"smart\"').pivot_table(index=['tariff', 'monat'], values='messages_amount', aggfunc=['sum','median' ,'mean'])\n",
    "sms_total_data_ultra = total_data.query('tariff==\"ultra\"').pivot_table(index=['tariff', 'monat'], values='messages_amount', aggfunc=['sum','median' ,'mean'])"
   ]
  },
  {
   "cell_type": "code",
   "execution_count": 55,
   "metadata": {},
   "outputs": [
    {
     "data": {
      "text/html": [
       "<div>\n",
       "<style scoped>\n",
       "    .dataframe tbody tr th:only-of-type {\n",
       "        vertical-align: middle;\n",
       "    }\n",
       "\n",
       "    .dataframe tbody tr th {\n",
       "        vertical-align: top;\n",
       "    }\n",
       "\n",
       "    .dataframe thead tr th {\n",
       "        text-align: left;\n",
       "    }\n",
       "\n",
       "    .dataframe thead tr:last-of-type th {\n",
       "        text-align: right;\n",
       "    }\n",
       "</style>\n",
       "<table border=\"1\" class=\"dataframe\">\n",
       "  <thead>\n",
       "    <tr>\n",
       "      <th></th>\n",
       "      <th></th>\n",
       "      <th>sum</th>\n",
       "      <th>median</th>\n",
       "      <th>mean</th>\n",
       "    </tr>\n",
       "    <tr>\n",
       "      <th></th>\n",
       "      <th></th>\n",
       "      <th>messages_amount</th>\n",
       "      <th>messages_amount</th>\n",
       "      <th>messages_amount</th>\n",
       "    </tr>\n",
       "    <tr>\n",
       "      <th>tariff</th>\n",
       "      <th>monat</th>\n",
       "      <th></th>\n",
       "      <th></th>\n",
       "      <th></th>\n",
       "    </tr>\n",
       "  </thead>\n",
       "  <tbody>\n",
       "    <tr>\n",
       "      <th rowspan=\"12\" valign=\"top\">smart</th>\n",
       "      <th>1.0</th>\n",
       "      <td>620.0</td>\n",
       "      <td>15.0</td>\n",
       "      <td>18.235294</td>\n",
       "    </tr>\n",
       "    <tr>\n",
       "      <th>2.0</th>\n",
       "      <td>1397.0</td>\n",
       "      <td>20.0</td>\n",
       "      <td>24.086207</td>\n",
       "    </tr>\n",
       "    <tr>\n",
       "      <th>3.0</th>\n",
       "      <td>2453.0</td>\n",
       "      <td>23.0</td>\n",
       "      <td>31.857143</td>\n",
       "    </tr>\n",
       "    <tr>\n",
       "      <th>4.0</th>\n",
       "      <td>3443.0</td>\n",
       "      <td>28.0</td>\n",
       "      <td>30.741071</td>\n",
       "    </tr>\n",
       "    <tr>\n",
       "      <th>5.0</th>\n",
       "      <td>4762.0</td>\n",
       "      <td>30.0</td>\n",
       "      <td>33.773050</td>\n",
       "    </tr>\n",
       "    <tr>\n",
       "      <th>6.0</th>\n",
       "      <td>5430.0</td>\n",
       "      <td>28.0</td>\n",
       "      <td>33.312883</td>\n",
       "    </tr>\n",
       "    <tr>\n",
       "      <th>7.0</th>\n",
       "      <td>6784.0</td>\n",
       "      <td>29.0</td>\n",
       "      <td>33.751244</td>\n",
       "    </tr>\n",
       "    <tr>\n",
       "      <th>8.0</th>\n",
       "      <td>7888.0</td>\n",
       "      <td>27.5</td>\n",
       "      <td>33.709402</td>\n",
       "    </tr>\n",
       "    <tr>\n",
       "      <th>9.0</th>\n",
       "      <td>8714.0</td>\n",
       "      <td>30.0</td>\n",
       "      <td>33.644788</td>\n",
       "    </tr>\n",
       "    <tr>\n",
       "      <th>10.0</th>\n",
       "      <td>9906.0</td>\n",
       "      <td>30.0</td>\n",
       "      <td>33.808874</td>\n",
       "    </tr>\n",
       "    <tr>\n",
       "      <th>11.0</th>\n",
       "      <td>10748.0</td>\n",
       "      <td>28.0</td>\n",
       "      <td>34.120635</td>\n",
       "    </tr>\n",
       "    <tr>\n",
       "      <th>12.0</th>\n",
       "      <td>12095.0</td>\n",
       "      <td>29.0</td>\n",
       "      <td>35.997024</td>\n",
       "    </tr>\n",
       "  </tbody>\n",
       "</table>\n",
       "</div>"
      ],
      "text/plain": [
       "                         sum          median            mean\n",
       "             messages_amount messages_amount messages_amount\n",
       "tariff monat                                                \n",
       "smart  1.0             620.0            15.0       18.235294\n",
       "       2.0            1397.0            20.0       24.086207\n",
       "       3.0            2453.0            23.0       31.857143\n",
       "       4.0            3443.0            28.0       30.741071\n",
       "       5.0            4762.0            30.0       33.773050\n",
       "       6.0            5430.0            28.0       33.312883\n",
       "       7.0            6784.0            29.0       33.751244\n",
       "       8.0            7888.0            27.5       33.709402\n",
       "       9.0            8714.0            30.0       33.644788\n",
       "       10.0           9906.0            30.0       33.808874\n",
       "       11.0          10748.0            28.0       34.120635\n",
       "       12.0          12095.0            29.0       35.997024"
      ]
     },
     "metadata": {},
     "output_type": "display_data"
    },
    {
     "data": {
      "text/html": [
       "<div>\n",
       "<style scoped>\n",
       "    .dataframe tbody tr th:only-of-type {\n",
       "        vertical-align: middle;\n",
       "    }\n",
       "\n",
       "    .dataframe tbody tr th {\n",
       "        vertical-align: top;\n",
       "    }\n",
       "\n",
       "    .dataframe thead tr th {\n",
       "        text-align: left;\n",
       "    }\n",
       "\n",
       "    .dataframe thead tr:last-of-type th {\n",
       "        text-align: right;\n",
       "    }\n",
       "</style>\n",
       "<table border=\"1\" class=\"dataframe\">\n",
       "  <thead>\n",
       "    <tr>\n",
       "      <th></th>\n",
       "      <th></th>\n",
       "      <th>sum</th>\n",
       "      <th>median</th>\n",
       "      <th>mean</th>\n",
       "    </tr>\n",
       "    <tr>\n",
       "      <th></th>\n",
       "      <th></th>\n",
       "      <th>messages_amount</th>\n",
       "      <th>messages_amount</th>\n",
       "      <th>messages_amount</th>\n",
       "    </tr>\n",
       "    <tr>\n",
       "      <th>tariff</th>\n",
       "      <th>monat</th>\n",
       "      <th></th>\n",
       "      <th></th>\n",
       "      <th></th>\n",
       "    </tr>\n",
       "  </thead>\n",
       "  <tbody>\n",
       "    <tr>\n",
       "      <th rowspan=\"12\" valign=\"top\">ultra</th>\n",
       "      <th>1.0</th>\n",
       "      <td>304.0</td>\n",
       "      <td>32.0</td>\n",
       "      <td>33.777778</td>\n",
       "    </tr>\n",
       "    <tr>\n",
       "      <th>2.0</th>\n",
       "      <td>527.0</td>\n",
       "      <td>5.5</td>\n",
       "      <td>21.958333</td>\n",
       "    </tr>\n",
       "    <tr>\n",
       "      <th>3.0</th>\n",
       "      <td>1195.0</td>\n",
       "      <td>20.0</td>\n",
       "      <td>32.297297</td>\n",
       "    </tr>\n",
       "    <tr>\n",
       "      <th>4.0</th>\n",
       "      <td>1727.0</td>\n",
       "      <td>18.0</td>\n",
       "      <td>32.584906</td>\n",
       "    </tr>\n",
       "    <tr>\n",
       "      <th>5.0</th>\n",
       "      <td>2423.0</td>\n",
       "      <td>23.5</td>\n",
       "      <td>37.859375</td>\n",
       "    </tr>\n",
       "    <tr>\n",
       "      <th>6.0</th>\n",
       "      <td>3244.0</td>\n",
       "      <td>27.0</td>\n",
       "      <td>40.049383</td>\n",
       "    </tr>\n",
       "    <tr>\n",
       "      <th>7.0</th>\n",
       "      <td>4266.0</td>\n",
       "      <td>39.0</td>\n",
       "      <td>48.477273</td>\n",
       "    </tr>\n",
       "    <tr>\n",
       "      <th>8.0</th>\n",
       "      <td>4930.0</td>\n",
       "      <td>40.0</td>\n",
       "      <td>47.864078</td>\n",
       "    </tr>\n",
       "    <tr>\n",
       "      <th>9.0</th>\n",
       "      <td>5751.0</td>\n",
       "      <td>46.0</td>\n",
       "      <td>51.810811</td>\n",
       "    </tr>\n",
       "    <tr>\n",
       "      <th>10.0</th>\n",
       "      <td>6899.0</td>\n",
       "      <td>52.0</td>\n",
       "      <td>58.466102</td>\n",
       "    </tr>\n",
       "    <tr>\n",
       "      <th>11.0</th>\n",
       "      <td>7224.0</td>\n",
       "      <td>45.0</td>\n",
       "      <td>56.000000</td>\n",
       "    </tr>\n",
       "    <tr>\n",
       "      <th>12.0</th>\n",
       "      <td>8141.0</td>\n",
       "      <td>52.5</td>\n",
       "      <td>60.753731</td>\n",
       "    </tr>\n",
       "  </tbody>\n",
       "</table>\n",
       "</div>"
      ],
      "text/plain": [
       "                         sum          median            mean\n",
       "             messages_amount messages_amount messages_amount\n",
       "tariff monat                                                \n",
       "ultra  1.0             304.0            32.0       33.777778\n",
       "       2.0             527.0             5.5       21.958333\n",
       "       3.0            1195.0            20.0       32.297297\n",
       "       4.0            1727.0            18.0       32.584906\n",
       "       5.0            2423.0            23.5       37.859375\n",
       "       6.0            3244.0            27.0       40.049383\n",
       "       7.0            4266.0            39.0       48.477273\n",
       "       8.0            4930.0            40.0       47.864078\n",
       "       9.0            5751.0            46.0       51.810811\n",
       "       10.0           6899.0            52.0       58.466102\n",
       "       11.0           7224.0            45.0       56.000000\n",
       "       12.0           8141.0            52.5       60.753731"
      ]
     },
     "metadata": {},
     "output_type": "display_data"
    }
   ],
   "source": [
    "display(sms_total_data_smart)\n",
    "display(sms_total_data_ultra)"
   ]
  },
  {
   "cell_type": "code",
   "execution_count": 56,
   "metadata": {},
   "outputs": [],
   "source": [
    "total_data_smart=total_data.query('tariff==\"smart\"')\n",
    "total_data_ultra=total_data.query('tariff==\"ultra\"')"
   ]
  },
  {
   "cell_type": "code",
   "execution_count": 57,
   "metadata": {},
   "outputs": [
    {
     "data": {
      "image/png": "[encoded data removed]",
      "text/plain": [
       "<Figure size 432x288 with 1 Axes>"
      ]
     },
     "metadata": {
      "needs_background": "light"
     },
     "output_type": "display_data"
    }
   ],
   "source": [
    "total_data_smart['messages_amount'].hist(range=(0,150),bins=50,label='smart')\n",
    "total_data_ultra['messages_amount'].hist(range=(0,150),bins=50, label='ultra')\n",
    "plt.xlabel('Сообщения')\n",
    "plt.title('Распределение использования сообщений по тарифам')\n",
    "plt.legend()\n",
    "plt.show()"
   ]
  },
  {
   "cell_type": "code",
   "execution_count": 58,
   "metadata": {},
   "outputs": [
    {
     "data": {
      "image/png": "[encoded data removed]",
      "text/plain": [
       "<Figure size 432x288 with 1 Axes>"
      ]
     },
     "metadata": {
      "needs_background": "light"
     },
     "output_type": "display_data"
    },
    {
     "data": {
      "text/html": [
       "<div>\n",
       "<style scoped>\n",
       "    .dataframe tbody tr th:only-of-type {\n",
       "        vertical-align: middle;\n",
       "    }\n",
       "\n",
       "    .dataframe tbody tr th {\n",
       "        vertical-align: top;\n",
       "    }\n",
       "\n",
       "    .dataframe thead tr th {\n",
       "        text-align: left;\n",
       "    }\n",
       "</style>\n",
       "<table border=\"1\" class=\"dataframe\">\n",
       "  <thead>\n",
       "    <tr>\n",
       "      <th></th>\n",
       "      <th>sum</th>\n",
       "      <th>median</th>\n",
       "      <th>mean</th>\n",
       "    </tr>\n",
       "    <tr>\n",
       "      <th></th>\n",
       "      <th>messages_amount</th>\n",
       "      <th>messages_amount</th>\n",
       "      <th>messages_amount</th>\n",
       "    </tr>\n",
       "  </thead>\n",
       "  <tbody>\n",
       "    <tr>\n",
       "      <th>count</th>\n",
       "      <td>12.000000</td>\n",
       "      <td>12.000000</td>\n",
       "      <td>12.000000</td>\n",
       "    </tr>\n",
       "    <tr>\n",
       "      <th>mean</th>\n",
       "      <td>6186.666667</td>\n",
       "      <td>26.458333</td>\n",
       "      <td>31.419801</td>\n",
       "    </tr>\n",
       "    <tr>\n",
       "      <th>std</th>\n",
       "      <td>3780.154382</td>\n",
       "      <td>4.707143</td>\n",
       "      <td>5.107641</td>\n",
       "    </tr>\n",
       "    <tr>\n",
       "      <th>min</th>\n",
       "      <td>620.000000</td>\n",
       "      <td>15.000000</td>\n",
       "      <td>18.235294</td>\n",
       "    </tr>\n",
       "    <tr>\n",
       "      <th>25%</th>\n",
       "      <td>3195.500000</td>\n",
       "      <td>26.375000</td>\n",
       "      <td>31.578125</td>\n",
       "    </tr>\n",
       "    <tr>\n",
       "      <th>50%</th>\n",
       "      <td>6107.000000</td>\n",
       "      <td>28.000000</td>\n",
       "      <td>33.677095</td>\n",
       "    </tr>\n",
       "    <tr>\n",
       "      <th>75%</th>\n",
       "      <td>9012.000000</td>\n",
       "      <td>29.250000</td>\n",
       "      <td>33.782006</td>\n",
       "    </tr>\n",
       "    <tr>\n",
       "      <th>max</th>\n",
       "      <td>12095.000000</td>\n",
       "      <td>30.000000</td>\n",
       "      <td>35.997024</td>\n",
       "    </tr>\n",
       "  </tbody>\n",
       "</table>\n",
       "</div>"
      ],
      "text/plain": [
       "                  sum          median            mean\n",
       "      messages_amount messages_amount messages_amount\n",
       "count       12.000000       12.000000       12.000000\n",
       "mean      6186.666667       26.458333       31.419801\n",
       "std       3780.154382        4.707143        5.107641\n",
       "min        620.000000       15.000000       18.235294\n",
       "25%       3195.500000       26.375000       31.578125\n",
       "50%       6107.000000       28.000000       33.677095\n",
       "75%       9012.000000       29.250000       33.782006\n",
       "max      12095.000000       30.000000       35.997024"
      ]
     },
     "execution_count": 58,
     "metadata": {},
     "output_type": "execute_result"
    }
   ],
   "source": [
    "sms_total_data_smart.boxplot()\n",
    "plt.xlabel('Cообщения')\n",
    "plt.title('Распределение использования сообщений по smart')\n",
    "plt.show()\n",
    "sms_total_data_smart.describe()"
   ]
  },
  {
   "cell_type": "code",
   "execution_count": 59,
   "metadata": {},
   "outputs": [
    {
     "data": {
      "image/png": "[encoded data removed]",
      "text/plain": [
       "<Figure size 432x288 with 1 Axes>"
      ]
     },
     "metadata": {
      "needs_background": "light"
     },
     "output_type": "display_data"
    },
    {
     "data": {
      "text/html": [
       "<div>\n",
       "<style scoped>\n",
       "    .dataframe tbody tr th:only-of-type {\n",
       "        vertical-align: middle;\n",
       "    }\n",
       "\n",
       "    .dataframe tbody tr th {\n",
       "        vertical-align: top;\n",
       "    }\n",
       "\n",
       "    .dataframe thead tr th {\n",
       "        text-align: left;\n",
       "    }\n",
       "</style>\n",
       "<table border=\"1\" class=\"dataframe\">\n",
       "  <thead>\n",
       "    <tr>\n",
       "      <th></th>\n",
       "      <th>sum</th>\n",
       "      <th>median</th>\n",
       "      <th>mean</th>\n",
       "    </tr>\n",
       "    <tr>\n",
       "      <th></th>\n",
       "      <th>messages_amount</th>\n",
       "      <th>messages_amount</th>\n",
       "      <th>messages_amount</th>\n",
       "    </tr>\n",
       "  </thead>\n",
       "  <tbody>\n",
       "    <tr>\n",
       "      <th>count</th>\n",
       "      <td>12.000000</td>\n",
       "      <td>12.000000</td>\n",
       "      <td>12.000000</td>\n",
       "    </tr>\n",
       "    <tr>\n",
       "      <th>mean</th>\n",
       "      <td>3885.916667</td>\n",
       "      <td>33.375000</td>\n",
       "      <td>43.491589</td>\n",
       "    </tr>\n",
       "    <tr>\n",
       "      <th>std</th>\n",
       "      <td>2723.749069</td>\n",
       "      <td>14.817258</td>\n",
       "      <td>12.201866</td>\n",
       "    </tr>\n",
       "    <tr>\n",
       "      <th>min</th>\n",
       "      <td>304.000000</td>\n",
       "      <td>5.500000</td>\n",
       "      <td>21.958333</td>\n",
       "    </tr>\n",
       "    <tr>\n",
       "      <th>25%</th>\n",
       "      <td>1594.000000</td>\n",
       "      <td>22.625000</td>\n",
       "      <td>33.479560</td>\n",
       "    </tr>\n",
       "    <tr>\n",
       "      <th>50%</th>\n",
       "      <td>3755.000000</td>\n",
       "      <td>35.500000</td>\n",
       "      <td>43.956730</td>\n",
       "    </tr>\n",
       "    <tr>\n",
       "      <th>75%</th>\n",
       "      <td>6038.000000</td>\n",
       "      <td>45.250000</td>\n",
       "      <td>52.858108</td>\n",
       "    </tr>\n",
       "    <tr>\n",
       "      <th>max</th>\n",
       "      <td>8141.000000</td>\n",
       "      <td>52.500000</td>\n",
       "      <td>60.753731</td>\n",
       "    </tr>\n",
       "  </tbody>\n",
       "</table>\n",
       "</div>"
      ],
      "text/plain": [
       "                  sum          median            mean\n",
       "      messages_amount messages_amount messages_amount\n",
       "count       12.000000       12.000000       12.000000\n",
       "mean      3885.916667       33.375000       43.491589\n",
       "std       2723.749069       14.817258       12.201866\n",
       "min        304.000000        5.500000       21.958333\n",
       "25%       1594.000000       22.625000       33.479560\n",
       "50%       3755.000000       35.500000       43.956730\n",
       "75%       6038.000000       45.250000       52.858108\n",
       "max       8141.000000       52.500000       60.753731"
      ]
     },
     "execution_count": 59,
     "metadata": {},
     "output_type": "execute_result"
    }
   ],
   "source": [
    "sms_total_data_ultra.boxplot()\n",
    "plt.xlabel('Cообщения')\n",
    "plt.title('Распределение использования сообщений по ultra')\n",
    "plt.show()\n",
    "sms_total_data_ultra.describe()"
   ]
  },
  {
   "cell_type": "code",
   "execution_count": 60,
   "metadata": {},
   "outputs": [
    {
     "data": {
      "text/plain": [
       "messages_amount    26.087992\n",
       "dtype: float64"
      ]
     },
     "metadata": {},
     "output_type": "display_data"
    },
    {
     "data": {
      "text/plain": [
       "messages_amount    22.157197\n",
       "dtype: float64"
      ]
     },
     "metadata": {},
     "output_type": "display_data"
    },
    {
     "data": {
      "text/plain": [
       "messages_amount    1.428957e+07\n",
       "dtype: float64"
      ]
     },
     "metadata": {},
     "output_type": "display_data"
    }
   ],
   "source": [
    "display(sms_total_data_smart.var()['mean'])\n",
    "display(sms_total_data_smart.var()['median'])\n",
    "display(sms_total_data_smart.var()['sum'])"
   ]
  },
  {
   "cell_type": "code",
   "execution_count": 61,
   "metadata": {},
   "outputs": [
    {
     "data": {
      "text/plain": [
       "messages_amount    148.885531\n",
       "dtype: float64"
      ]
     },
     "metadata": {},
     "output_type": "display_data"
    },
    {
     "data": {
      "text/plain": [
       "messages_amount    219.551136\n",
       "dtype: float64"
      ]
     },
     "metadata": {},
     "output_type": "display_data"
    },
    {
     "data": {
      "text/plain": [
       "messages_amount    7.418809e+06\n",
       "dtype: float64"
      ]
     },
     "metadata": {},
     "output_type": "display_data"
    }
   ],
   "source": [
    "display(sms_total_data_ultra.var()['mean'])\n",
    "display(sms_total_data_ultra.var()['median'])\n",
    "display(sms_total_data_ultra.var()['sum'])"
   ]
  },
  {
   "cell_type": "markdown",
   "metadata": {},
   "source": [
    "     3.3 Какой объём интернет-трафика требуется пользователям каждого тарифа в месяц?"
   ]
  },
  {
   "cell_type": "code",
   "execution_count": 62,
   "metadata": {},
   "outputs": [],
   "source": [
    "gb_total_data_smart = total_data.query('tariff==\"smart\"').pivot_table(index=['tariff', 'monat'], values='gb_used', aggfunc=['sum','median' ,'mean'])\n",
    "gb_total_data_ultra = total_data.query('tariff==\"ultra\"').pivot_table(index=['tariff', 'monat'], values='gb_used', aggfunc=['sum','median' ,'mean'])"
   ]
  },
  {
   "cell_type": "code",
   "execution_count": 63,
   "metadata": {},
   "outputs": [
    {
     "data": {
      "text/html": [
       "<div>\n",
       "<style scoped>\n",
       "    .dataframe tbody tr th:only-of-type {\n",
       "        vertical-align: middle;\n",
       "    }\n",
       "\n",
       "    .dataframe tbody tr th {\n",
       "        vertical-align: top;\n",
       "    }\n",
       "\n",
       "    .dataframe thead tr th {\n",
       "        text-align: left;\n",
       "    }\n",
       "\n",
       "    .dataframe thead tr:last-of-type th {\n",
       "        text-align: right;\n",
       "    }\n",
       "</style>\n",
       "<table border=\"1\" class=\"dataframe\">\n",
       "  <thead>\n",
       "    <tr>\n",
       "      <th></th>\n",
       "      <th></th>\n",
       "      <th>sum</th>\n",
       "      <th>median</th>\n",
       "      <th>mean</th>\n",
       "    </tr>\n",
       "    <tr>\n",
       "      <th></th>\n",
       "      <th></th>\n",
       "      <th>gb_used</th>\n",
       "      <th>gb_used</th>\n",
       "      <th>gb_used</th>\n",
       "    </tr>\n",
       "    <tr>\n",
       "      <th>tariff</th>\n",
       "      <th>monat</th>\n",
       "      <th></th>\n",
       "      <th></th>\n",
       "      <th></th>\n",
       "    </tr>\n",
       "  </thead>\n",
       "  <tbody>\n",
       "    <tr>\n",
       "      <th rowspan=\"12\" valign=\"top\">smart</th>\n",
       "      <th>1.0</th>\n",
       "      <td>297.0</td>\n",
       "      <td>7.0</td>\n",
       "      <td>8.735294</td>\n",
       "    </tr>\n",
       "    <tr>\n",
       "      <th>2.0</th>\n",
       "      <td>687.0</td>\n",
       "      <td>13.0</td>\n",
       "      <td>11.844828</td>\n",
       "    </tr>\n",
       "    <tr>\n",
       "      <th>3.0</th>\n",
       "      <td>1173.0</td>\n",
       "      <td>16.0</td>\n",
       "      <td>15.233766</td>\n",
       "    </tr>\n",
       "    <tr>\n",
       "      <th>4.0</th>\n",
       "      <td>1526.0</td>\n",
       "      <td>14.0</td>\n",
       "      <td>13.625000</td>\n",
       "    </tr>\n",
       "    <tr>\n",
       "      <th>5.0</th>\n",
       "      <td>2243.0</td>\n",
       "      <td>16.0</td>\n",
       "      <td>15.907801</td>\n",
       "    </tr>\n",
       "    <tr>\n",
       "      <th>6.0</th>\n",
       "      <td>2603.0</td>\n",
       "      <td>16.0</td>\n",
       "      <td>15.969325</td>\n",
       "    </tr>\n",
       "    <tr>\n",
       "      <th>7.0</th>\n",
       "      <td>3191.0</td>\n",
       "      <td>16.0</td>\n",
       "      <td>15.875622</td>\n",
       "    </tr>\n",
       "    <tr>\n",
       "      <th>8.0</th>\n",
       "      <td>3922.0</td>\n",
       "      <td>17.0</td>\n",
       "      <td>16.760684</td>\n",
       "    </tr>\n",
       "    <tr>\n",
       "      <th>9.0</th>\n",
       "      <td>4245.0</td>\n",
       "      <td>16.0</td>\n",
       "      <td>16.389961</td>\n",
       "    </tr>\n",
       "    <tr>\n",
       "      <th>10.0</th>\n",
       "      <td>4943.0</td>\n",
       "      <td>17.0</td>\n",
       "      <td>16.870307</td>\n",
       "    </tr>\n",
       "    <tr>\n",
       "      <th>11.0</th>\n",
       "      <td>5354.0</td>\n",
       "      <td>17.0</td>\n",
       "      <td>16.996825</td>\n",
       "    </tr>\n",
       "    <tr>\n",
       "      <th>12.0</th>\n",
       "      <td>6117.0</td>\n",
       "      <td>18.0</td>\n",
       "      <td>18.205357</td>\n",
       "    </tr>\n",
       "  </tbody>\n",
       "</table>\n",
       "</div>"
      ],
      "text/plain": [
       "                 sum  median       mean\n",
       "             gb_used gb_used    gb_used\n",
       "tariff monat                           \n",
       "smart  1.0     297.0     7.0   8.735294\n",
       "       2.0     687.0    13.0  11.844828\n",
       "       3.0    1173.0    16.0  15.233766\n",
       "       4.0    1526.0    14.0  13.625000\n",
       "       5.0    2243.0    16.0  15.907801\n",
       "       6.0    2603.0    16.0  15.969325\n",
       "       7.0    3191.0    16.0  15.875622\n",
       "       8.0    3922.0    17.0  16.760684\n",
       "       9.0    4245.0    16.0  16.389961\n",
       "       10.0   4943.0    17.0  16.870307\n",
       "       11.0   5354.0    17.0  16.996825\n",
       "       12.0   6117.0    18.0  18.205357"
      ]
     },
     "metadata": {},
     "output_type": "display_data"
    },
    {
     "data": {
      "text/html": [
       "<div>\n",
       "<style scoped>\n",
       "    .dataframe tbody tr th:only-of-type {\n",
       "        vertical-align: middle;\n",
       "    }\n",
       "\n",
       "    .dataframe tbody tr th {\n",
       "        vertical-align: top;\n",
       "    }\n",
       "\n",
       "    .dataframe thead tr th {\n",
       "        text-align: left;\n",
       "    }\n",
       "\n",
       "    .dataframe thead tr:last-of-type th {\n",
       "        text-align: right;\n",
       "    }\n",
       "</style>\n",
       "<table border=\"1\" class=\"dataframe\">\n",
       "  <thead>\n",
       "    <tr>\n",
       "      <th></th>\n",
       "      <th></th>\n",
       "      <th>sum</th>\n",
       "      <th>median</th>\n",
       "      <th>mean</th>\n",
       "    </tr>\n",
       "    <tr>\n",
       "      <th></th>\n",
       "      <th></th>\n",
       "      <th>gb_used</th>\n",
       "      <th>gb_used</th>\n",
       "      <th>gb_used</th>\n",
       "    </tr>\n",
       "    <tr>\n",
       "      <th>tariff</th>\n",
       "      <th>monat</th>\n",
       "      <th></th>\n",
       "      <th></th>\n",
       "      <th></th>\n",
       "    </tr>\n",
       "  </thead>\n",
       "  <tbody>\n",
       "    <tr>\n",
       "      <th rowspan=\"12\" valign=\"top\">ultra</th>\n",
       "      <th>1.0</th>\n",
       "      <td>119.0</td>\n",
       "      <td>15.0</td>\n",
       "      <td>13.222222</td>\n",
       "    </tr>\n",
       "    <tr>\n",
       "      <th>2.0</th>\n",
       "      <td>288.0</td>\n",
       "      <td>7.5</td>\n",
       "      <td>12.000000</td>\n",
       "    </tr>\n",
       "    <tr>\n",
       "      <th>3.0</th>\n",
       "      <td>653.0</td>\n",
       "      <td>18.0</td>\n",
       "      <td>17.648649</td>\n",
       "    </tr>\n",
       "    <tr>\n",
       "      <th>4.0</th>\n",
       "      <td>929.0</td>\n",
       "      <td>17.0</td>\n",
       "      <td>17.528302</td>\n",
       "    </tr>\n",
       "    <tr>\n",
       "      <th>5.0</th>\n",
       "      <td>1259.0</td>\n",
       "      <td>19.0</td>\n",
       "      <td>19.671875</td>\n",
       "    </tr>\n",
       "    <tr>\n",
       "      <th>6.0</th>\n",
       "      <td>1533.0</td>\n",
       "      <td>19.0</td>\n",
       "      <td>18.925926</td>\n",
       "    </tr>\n",
       "    <tr>\n",
       "      <th>7.0</th>\n",
       "      <td>1799.0</td>\n",
       "      <td>20.0</td>\n",
       "      <td>20.443182</td>\n",
       "    </tr>\n",
       "    <tr>\n",
       "      <th>8.0</th>\n",
       "      <td>2020.0</td>\n",
       "      <td>19.0</td>\n",
       "      <td>19.611650</td>\n",
       "    </tr>\n",
       "    <tr>\n",
       "      <th>9.0</th>\n",
       "      <td>2124.0</td>\n",
       "      <td>20.0</td>\n",
       "      <td>19.135135</td>\n",
       "    </tr>\n",
       "    <tr>\n",
       "      <th>10.0</th>\n",
       "      <td>2371.0</td>\n",
       "      <td>20.0</td>\n",
       "      <td>20.093220</td>\n",
       "    </tr>\n",
       "    <tr>\n",
       "      <th>11.0</th>\n",
       "      <td>2537.0</td>\n",
       "      <td>18.0</td>\n",
       "      <td>19.666667</td>\n",
       "    </tr>\n",
       "    <tr>\n",
       "      <th>12.0</th>\n",
       "      <td>2901.0</td>\n",
       "      <td>22.0</td>\n",
       "      <td>21.649254</td>\n",
       "    </tr>\n",
       "  </tbody>\n",
       "</table>\n",
       "</div>"
      ],
      "text/plain": [
       "                 sum  median       mean\n",
       "             gb_used gb_used    gb_used\n",
       "tariff monat                           \n",
       "ultra  1.0     119.0    15.0  13.222222\n",
       "       2.0     288.0     7.5  12.000000\n",
       "       3.0     653.0    18.0  17.648649\n",
       "       4.0     929.0    17.0  17.528302\n",
       "       5.0    1259.0    19.0  19.671875\n",
       "       6.0    1533.0    19.0  18.925926\n",
       "       7.0    1799.0    20.0  20.443182\n",
       "       8.0    2020.0    19.0  19.611650\n",
       "       9.0    2124.0    20.0  19.135135\n",
       "       10.0   2371.0    20.0  20.093220\n",
       "       11.0   2537.0    18.0  19.666667\n",
       "       12.0   2901.0    22.0  21.649254"
      ]
     },
     "metadata": {},
     "output_type": "display_data"
    }
   ],
   "source": [
    "display(gb_total_data_smart)\n",
    "display(gb_total_data_ultra)"
   ]
  },
  {
   "cell_type": "code",
   "execution_count": 64,
   "metadata": {},
   "outputs": [],
   "source": [
    "total_data_smart=total_data.query('tariff==\"smart\"')\n",
    "total_data_ultra=total_data.query('tariff==\"ultra\"')"
   ]
  },
  {
   "cell_type": "code",
   "execution_count": 65,
   "metadata": {},
   "outputs": [
    {
     "data": {
      "image/png": "[encoded data removed]",
      "text/plain": [
       "<Figure size 432x288 with 1 Axes>"
      ]
     },
     "metadata": {
      "needs_background": "light"
     },
     "output_type": "display_data"
    }
   ],
   "source": [
    "total_data_smart['gb_used'].hist(range=(0,60),bins=30, label='smart')\n",
    "total_data_ultra['gb_used'].hist(range=(0,60),bins=30, label='smart')\n",
    "plt.xlabel('Gb')\n",
    "plt.title('Распределение использования Gb по тарифам')\n",
    "plt.legend()\n",
    "plt.show()"
   ]
  },
  {
   "cell_type": "code",
   "execution_count": 66,
   "metadata": {},
   "outputs": [
    {
     "data": {
      "image/png": "[encoded data removed]",
      "text/plain": [
       "<Figure size 432x288 with 1 Axes>"
      ]
     },
     "metadata": {
      "needs_background": "light"
     },
     "output_type": "display_data"
    },
    {
     "data": {
      "text/html": [
       "<div>\n",
       "<style scoped>\n",
       "    .dataframe tbody tr th:only-of-type {\n",
       "        vertical-align: middle;\n",
       "    }\n",
       "\n",
       "    .dataframe tbody tr th {\n",
       "        vertical-align: top;\n",
       "    }\n",
       "\n",
       "    .dataframe thead tr th {\n",
       "        text-align: left;\n",
       "    }\n",
       "</style>\n",
       "<table border=\"1\" class=\"dataframe\">\n",
       "  <thead>\n",
       "    <tr>\n",
       "      <th></th>\n",
       "      <th>sum</th>\n",
       "      <th>median</th>\n",
       "      <th>mean</th>\n",
       "    </tr>\n",
       "    <tr>\n",
       "      <th></th>\n",
       "      <th>gb_used</th>\n",
       "      <th>gb_used</th>\n",
       "      <th>gb_used</th>\n",
       "    </tr>\n",
       "  </thead>\n",
       "  <tbody>\n",
       "    <tr>\n",
       "      <th>count</th>\n",
       "      <td>12.000000</td>\n",
       "      <td>12.000000</td>\n",
       "      <td>12.000000</td>\n",
       "    </tr>\n",
       "    <tr>\n",
       "      <th>mean</th>\n",
       "      <td>3025.083333</td>\n",
       "      <td>15.250000</td>\n",
       "      <td>15.201231</td>\n",
       "    </tr>\n",
       "    <tr>\n",
       "      <th>std</th>\n",
       "      <td>1915.457100</td>\n",
       "      <td>2.927146</td>\n",
       "      <td>2.628222</td>\n",
       "    </tr>\n",
       "    <tr>\n",
       "      <th>min</th>\n",
       "      <td>297.000000</td>\n",
       "      <td>7.000000</td>\n",
       "      <td>8.735294</td>\n",
       "    </tr>\n",
       "    <tr>\n",
       "      <th>25%</th>\n",
       "      <td>1437.750000</td>\n",
       "      <td>15.500000</td>\n",
       "      <td>14.831575</td>\n",
       "    </tr>\n",
       "    <tr>\n",
       "      <th>50%</th>\n",
       "      <td>2897.000000</td>\n",
       "      <td>16.000000</td>\n",
       "      <td>15.938563</td>\n",
       "    </tr>\n",
       "    <tr>\n",
       "      <th>75%</th>\n",
       "      <td>4419.500000</td>\n",
       "      <td>17.000000</td>\n",
       "      <td>16.788090</td>\n",
       "    </tr>\n",
       "    <tr>\n",
       "      <th>max</th>\n",
       "      <td>6117.000000</td>\n",
       "      <td>18.000000</td>\n",
       "      <td>18.205357</td>\n",
       "    </tr>\n",
       "  </tbody>\n",
       "</table>\n",
       "</div>"
      ],
      "text/plain": [
       "               sum     median       mean\n",
       "           gb_used    gb_used    gb_used\n",
       "count    12.000000  12.000000  12.000000\n",
       "mean   3025.083333  15.250000  15.201231\n",
       "std    1915.457100   2.927146   2.628222\n",
       "min     297.000000   7.000000   8.735294\n",
       "25%    1437.750000  15.500000  14.831575\n",
       "50%    2897.000000  16.000000  15.938563\n",
       "75%    4419.500000  17.000000  16.788090\n",
       "max    6117.000000  18.000000  18.205357"
      ]
     },
     "execution_count": 66,
     "metadata": {},
     "output_type": "execute_result"
    }
   ],
   "source": [
    "gb_total_data_smart.boxplot()\n",
    "plt.xlabel('Gb')\n",
    "plt.title('Распределение использования Gb по smart')\n",
    "plt.show()\n",
    "gb_total_data_smart.describe()"
   ]
  },
  {
   "cell_type": "code",
   "execution_count": 67,
   "metadata": {},
   "outputs": [
    {
     "data": {
      "image/png": "[encoded data removed]",
      "text/plain": [
       "<Figure size 432x288 with 1 Axes>"
      ]
     },
     "metadata": {
      "needs_background": "light"
     },
     "output_type": "display_data"
    },
    {
     "data": {
      "text/html": [
       "<div>\n",
       "<style scoped>\n",
       "    .dataframe tbody tr th:only-of-type {\n",
       "        vertical-align: middle;\n",
       "    }\n",
       "\n",
       "    .dataframe tbody tr th {\n",
       "        vertical-align: top;\n",
       "    }\n",
       "\n",
       "    .dataframe thead tr th {\n",
       "        text-align: left;\n",
       "    }\n",
       "</style>\n",
       "<table border=\"1\" class=\"dataframe\">\n",
       "  <thead>\n",
       "    <tr>\n",
       "      <th></th>\n",
       "      <th>sum</th>\n",
       "      <th>median</th>\n",
       "      <th>mean</th>\n",
       "    </tr>\n",
       "    <tr>\n",
       "      <th></th>\n",
       "      <th>gb_used</th>\n",
       "      <th>gb_used</th>\n",
       "      <th>gb_used</th>\n",
       "    </tr>\n",
       "  </thead>\n",
       "  <tbody>\n",
       "    <tr>\n",
       "      <th>count</th>\n",
       "      <td>12.000000</td>\n",
       "      <td>12.0000</td>\n",
       "      <td>12.000000</td>\n",
       "    </tr>\n",
       "    <tr>\n",
       "      <th>mean</th>\n",
       "      <td>1544.416667</td>\n",
       "      <td>17.8750</td>\n",
       "      <td>18.299673</td>\n",
       "    </tr>\n",
       "    <tr>\n",
       "      <th>std</th>\n",
       "      <td>904.586240</td>\n",
       "      <td>3.7058</td>\n",
       "      <td>2.893244</td>\n",
       "    </tr>\n",
       "    <tr>\n",
       "      <th>min</th>\n",
       "      <td>119.000000</td>\n",
       "      <td>7.5000</td>\n",
       "      <td>12.000000</td>\n",
       "    </tr>\n",
       "    <tr>\n",
       "      <th>25%</th>\n",
       "      <td>860.000000</td>\n",
       "      <td>17.7500</td>\n",
       "      <td>17.618562</td>\n",
       "    </tr>\n",
       "    <tr>\n",
       "      <th>50%</th>\n",
       "      <td>1666.000000</td>\n",
       "      <td>19.0000</td>\n",
       "      <td>19.373393</td>\n",
       "    </tr>\n",
       "    <tr>\n",
       "      <th>75%</th>\n",
       "      <td>2185.750000</td>\n",
       "      <td>20.0000</td>\n",
       "      <td>19.777211</td>\n",
       "    </tr>\n",
       "    <tr>\n",
       "      <th>max</th>\n",
       "      <td>2901.000000</td>\n",
       "      <td>22.0000</td>\n",
       "      <td>21.649254</td>\n",
       "    </tr>\n",
       "  </tbody>\n",
       "</table>\n",
       "</div>"
      ],
      "text/plain": [
       "               sum   median       mean\n",
       "           gb_used  gb_used    gb_used\n",
       "count    12.000000  12.0000  12.000000\n",
       "mean   1544.416667  17.8750  18.299673\n",
       "std     904.586240   3.7058   2.893244\n",
       "min     119.000000   7.5000  12.000000\n",
       "25%     860.000000  17.7500  17.618562\n",
       "50%    1666.000000  19.0000  19.373393\n",
       "75%    2185.750000  20.0000  19.777211\n",
       "max    2901.000000  22.0000  21.649254"
      ]
     },
     "execution_count": 67,
     "metadata": {},
     "output_type": "execute_result"
    }
   ],
   "source": [
    "gb_total_data_ultra.boxplot()\n",
    "plt.xlabel('Gb')\n",
    "plt.title('Распределение использования Gb по ultra')\n",
    "plt.show()\n",
    "gb_total_data_ultra.describe()"
   ]
  },
  {
   "cell_type": "code",
   "execution_count": 68,
   "metadata": {},
   "outputs": [
    {
     "data": {
      "text/plain": [
       "gb_used    3.668976e+06\n",
       "dtype: float64"
      ]
     },
     "metadata": {},
     "output_type": "display_data"
    },
    {
     "data": {
      "text/plain": [
       "gb_used    6.907553\n",
       "dtype: float64"
      ]
     },
     "metadata": {},
     "output_type": "display_data"
    },
    {
     "data": {
      "text/plain": [
       "gb_used    8.568182\n",
       "dtype: float64"
      ]
     },
     "metadata": {},
     "output_type": "display_data"
    }
   ],
   "source": [
    "display(gb_total_data_smart.var()['sum'])\n",
    "display(gb_total_data_smart.var()['mean'])\n",
    "display(gb_total_data_smart.var()['median'])"
   ]
  },
  {
   "cell_type": "code",
   "execution_count": 69,
   "metadata": {},
   "outputs": [
    {
     "data": {
      "text/plain": [
       "gb_used    818276.265152\n",
       "dtype: float64"
      ]
     },
     "metadata": {},
     "output_type": "display_data"
    },
    {
     "data": {
      "text/plain": [
       "gb_used    8.370859\n",
       "dtype: float64"
      ]
     },
     "metadata": {},
     "output_type": "display_data"
    },
    {
     "data": {
      "text/plain": [
       "gb_used    13.732955\n",
       "dtype: float64"
      ]
     },
     "metadata": {},
     "output_type": "display_data"
    }
   ],
   "source": [
    "display(gb_total_data_ultra.var()['sum'])\n",
    "display(gb_total_data_ultra.var()['mean'])\n",
    "display(gb_total_data_ultra.var()['median'])"
   ]
  },
  {
   "cell_type": "code",
   "execution_count": 70,
   "metadata": {},
   "outputs": [],
   "source": [
    "total_cost_data_smart = total_data.query('tariff==\"smart\"').pivot_table(index=['tariff', 'monat'], values='total_cost', aggfunc=['sum','median' ,'mean'])\n",
    "total_cost_data_ultra = total_data.query('tariff==\"ultra\"').pivot_table(index=['tariff', 'monat'], values='total_cost', aggfunc=['sum','median' ,'mean'])"
   ]
  },
  {
   "cell_type": "code",
   "execution_count": 71,
   "metadata": {},
   "outputs": [
    {
     "data": {
      "text/html": [
       "<div>\n",
       "<style scoped>\n",
       "    .dataframe tbody tr th:only-of-type {\n",
       "        vertical-align: middle;\n",
       "    }\n",
       "\n",
       "    .dataframe tbody tr th {\n",
       "        vertical-align: top;\n",
       "    }\n",
       "\n",
       "    .dataframe thead tr th {\n",
       "        text-align: left;\n",
       "    }\n",
       "\n",
       "    .dataframe thead tr:last-of-type th {\n",
       "        text-align: right;\n",
       "    }\n",
       "</style>\n",
       "<table border=\"1\" class=\"dataframe\">\n",
       "  <thead>\n",
       "    <tr>\n",
       "      <th></th>\n",
       "      <th></th>\n",
       "      <th>sum</th>\n",
       "      <th>median</th>\n",
       "      <th>mean</th>\n",
       "    </tr>\n",
       "    <tr>\n",
       "      <th></th>\n",
       "      <th></th>\n",
       "      <th>total_cost</th>\n",
       "      <th>total_cost</th>\n",
       "      <th>total_cost</th>\n",
       "    </tr>\n",
       "    <tr>\n",
       "      <th>tariff</th>\n",
       "      <th>monat</th>\n",
       "      <th></th>\n",
       "      <th></th>\n",
       "      <th></th>\n",
       "    </tr>\n",
       "  </thead>\n",
       "  <tbody>\n",
       "    <tr>\n",
       "      <th rowspan=\"12\" valign=\"top\">smart</th>\n",
       "      <th>1.0</th>\n",
       "      <td>24372.0</td>\n",
       "      <td>550.0</td>\n",
       "      <td>716.823529</td>\n",
       "    </tr>\n",
       "    <tr>\n",
       "      <th>2.0</th>\n",
       "      <td>45421.0</td>\n",
       "      <td>550.0</td>\n",
       "      <td>783.120690</td>\n",
       "    </tr>\n",
       "    <tr>\n",
       "      <th>3.0</th>\n",
       "      <td>81708.0</td>\n",
       "      <td>750.0</td>\n",
       "      <td>1061.142857</td>\n",
       "    </tr>\n",
       "    <tr>\n",
       "      <th>4.0</th>\n",
       "      <td>98833.0</td>\n",
       "      <td>550.0</td>\n",
       "      <td>882.437500</td>\n",
       "    </tr>\n",
       "    <tr>\n",
       "      <th>5.0</th>\n",
       "      <td>157212.0</td>\n",
       "      <td>825.0</td>\n",
       "      <td>1114.978723</td>\n",
       "    </tr>\n",
       "    <tr>\n",
       "      <th>6.0</th>\n",
       "      <td>182440.0</td>\n",
       "      <td>756.0</td>\n",
       "      <td>1119.263804</td>\n",
       "    </tr>\n",
       "    <tr>\n",
       "      <th>7.0</th>\n",
       "      <td>225239.0</td>\n",
       "      <td>750.0</td>\n",
       "      <td>1120.592040</td>\n",
       "    </tr>\n",
       "    <tr>\n",
       "      <th>8.0</th>\n",
       "      <td>281110.0</td>\n",
       "      <td>950.0</td>\n",
       "      <td>1201.324786</td>\n",
       "    </tr>\n",
       "    <tr>\n",
       "      <th>9.0</th>\n",
       "      <td>290484.0</td>\n",
       "      <td>750.0</td>\n",
       "      <td>1121.559846</td>\n",
       "    </tr>\n",
       "    <tr>\n",
       "      <th>10.0</th>\n",
       "      <td>360636.0</td>\n",
       "      <td>953.0</td>\n",
       "      <td>1230.839590</td>\n",
       "    </tr>\n",
       "    <tr>\n",
       "      <th>11.0</th>\n",
       "      <td>381685.0</td>\n",
       "      <td>950.0</td>\n",
       "      <td>1211.698413</td>\n",
       "    </tr>\n",
       "    <tr>\n",
       "      <th>12.0</th>\n",
       "      <td>462294.0</td>\n",
       "      <td>1150.0</td>\n",
       "      <td>1375.875000</td>\n",
       "    </tr>\n",
       "  </tbody>\n",
       "</table>\n",
       "</div>"
      ],
      "text/plain": [
       "                    sum     median         mean\n",
       "             total_cost total_cost   total_cost\n",
       "tariff monat                                   \n",
       "smart  1.0      24372.0      550.0   716.823529\n",
       "       2.0      45421.0      550.0   783.120690\n",
       "       3.0      81708.0      750.0  1061.142857\n",
       "       4.0      98833.0      550.0   882.437500\n",
       "       5.0     157212.0      825.0  1114.978723\n",
       "       6.0     182440.0      756.0  1119.263804\n",
       "       7.0     225239.0      750.0  1120.592040\n",
       "       8.0     281110.0      950.0  1201.324786\n",
       "       9.0     290484.0      750.0  1121.559846\n",
       "       10.0    360636.0      953.0  1230.839590\n",
       "       11.0    381685.0      950.0  1211.698413\n",
       "       12.0    462294.0     1150.0  1375.875000"
      ]
     },
     "metadata": {},
     "output_type": "display_data"
    },
    {
     "data": {
      "text/html": [
       "<div>\n",
       "<style scoped>\n",
       "    .dataframe tbody tr th:only-of-type {\n",
       "        vertical-align: middle;\n",
       "    }\n",
       "\n",
       "    .dataframe tbody tr th {\n",
       "        vertical-align: top;\n",
       "    }\n",
       "\n",
       "    .dataframe thead tr th {\n",
       "        text-align: left;\n",
       "    }\n",
       "\n",
       "    .dataframe thead tr:last-of-type th {\n",
       "        text-align: right;\n",
       "    }\n",
       "</style>\n",
       "<table border=\"1\" class=\"dataframe\">\n",
       "  <thead>\n",
       "    <tr>\n",
       "      <th></th>\n",
       "      <th></th>\n",
       "      <th>sum</th>\n",
       "      <th>median</th>\n",
       "      <th>mean</th>\n",
       "    </tr>\n",
       "    <tr>\n",
       "      <th></th>\n",
       "      <th></th>\n",
       "      <th>total_cost</th>\n",
       "      <th>total_cost</th>\n",
       "      <th>total_cost</th>\n",
       "    </tr>\n",
       "    <tr>\n",
       "      <th>tariff</th>\n",
       "      <th>monat</th>\n",
       "      <th></th>\n",
       "      <th></th>\n",
       "      <th></th>\n",
       "    </tr>\n",
       "  </thead>\n",
       "  <tbody>\n",
       "    <tr>\n",
       "      <th rowspan=\"12\" valign=\"top\">ultra</th>\n",
       "      <th>1.0</th>\n",
       "      <td>17550.0</td>\n",
       "      <td>1950.0</td>\n",
       "      <td>1950.000000</td>\n",
       "    </tr>\n",
       "    <tr>\n",
       "      <th>2.0</th>\n",
       "      <td>47400.0</td>\n",
       "      <td>1950.0</td>\n",
       "      <td>1975.000000</td>\n",
       "    </tr>\n",
       "    <tr>\n",
       "      <th>3.0</th>\n",
       "      <td>74550.0</td>\n",
       "      <td>1950.0</td>\n",
       "      <td>2014.864865</td>\n",
       "    </tr>\n",
       "    <tr>\n",
       "      <th>4.0</th>\n",
       "      <td>106200.0</td>\n",
       "      <td>1950.0</td>\n",
       "      <td>2003.773585</td>\n",
       "    </tr>\n",
       "    <tr>\n",
       "      <th>5.0</th>\n",
       "      <td>132150.0</td>\n",
       "      <td>1950.0</td>\n",
       "      <td>2064.843750</td>\n",
       "    </tr>\n",
       "    <tr>\n",
       "      <th>6.0</th>\n",
       "      <td>165450.0</td>\n",
       "      <td>1950.0</td>\n",
       "      <td>2042.592593</td>\n",
       "    </tr>\n",
       "    <tr>\n",
       "      <th>7.0</th>\n",
       "      <td>186900.0</td>\n",
       "      <td>1950.0</td>\n",
       "      <td>2123.863636</td>\n",
       "    </tr>\n",
       "    <tr>\n",
       "      <th>8.0</th>\n",
       "      <td>214800.0</td>\n",
       "      <td>1950.0</td>\n",
       "      <td>2085.436893</td>\n",
       "    </tr>\n",
       "    <tr>\n",
       "      <th>9.0</th>\n",
       "      <td>224550.0</td>\n",
       "      <td>1950.0</td>\n",
       "      <td>2022.972973</td>\n",
       "    </tr>\n",
       "    <tr>\n",
       "      <th>10.0</th>\n",
       "      <td>244200.0</td>\n",
       "      <td>1950.0</td>\n",
       "      <td>2069.491525</td>\n",
       "    </tr>\n",
       "    <tr>\n",
       "      <th>11.0</th>\n",
       "      <td>269850.0</td>\n",
       "      <td>1950.0</td>\n",
       "      <td>2091.860465</td>\n",
       "    </tr>\n",
       "    <tr>\n",
       "      <th>12.0</th>\n",
       "      <td>285900.0</td>\n",
       "      <td>1950.0</td>\n",
       "      <td>2133.582090</td>\n",
       "    </tr>\n",
       "  </tbody>\n",
       "</table>\n",
       "</div>"
      ],
      "text/plain": [
       "                    sum     median         mean\n",
       "             total_cost total_cost   total_cost\n",
       "tariff monat                                   \n",
       "ultra  1.0      17550.0     1950.0  1950.000000\n",
       "       2.0      47400.0     1950.0  1975.000000\n",
       "       3.0      74550.0     1950.0  2014.864865\n",
       "       4.0     106200.0     1950.0  2003.773585\n",
       "       5.0     132150.0     1950.0  2064.843750\n",
       "       6.0     165450.0     1950.0  2042.592593\n",
       "       7.0     186900.0     1950.0  2123.863636\n",
       "       8.0     214800.0     1950.0  2085.436893\n",
       "       9.0     224550.0     1950.0  2022.972973\n",
       "       10.0    244200.0     1950.0  2069.491525\n",
       "       11.0    269850.0     1950.0  2091.860465\n",
       "       12.0    285900.0     1950.0  2133.582090"
      ]
     },
     "metadata": {},
     "output_type": "display_data"
    }
   ],
   "source": [
    "display(total_cost_data_smart)\n",
    "display(total_cost_data_ultra)"
   ]
  },
  {
   "cell_type": "code",
   "execution_count": 72,
   "metadata": {},
   "outputs": [],
   "source": [
    "total_data_smart=total_data.query('tariff==\"smart\"')\n",
    "total_data_ultra=total_data.query('tariff==\"ultra\"')"
   ]
  },
  {
   "cell_type": "code",
   "execution_count": 73,
   "metadata": {},
   "outputs": [
    {
     "data": {
      "image/png": "[encoded data removed]",
      "text/plain": [
       "<Figure size 432x288 with 1 Axes>"
      ]
     },
     "metadata": {
      "needs_background": "light"
     },
     "output_type": "display_data"
    }
   ],
   "source": [
    "total_data_smart['total_cost'].hist(bins=10,label='smart')\n",
    "total_data_ultra['total_cost'].hist(bins=10, label='ultra')\n",
    "plt.xlabel('Gb')\n",
    "plt.title('Распределение выручки по тарифам')\n",
    "plt.legend()\n",
    "plt.show()"
   ]
  },
  {
   "cell_type": "code",
   "execution_count": 74,
   "metadata": {},
   "outputs": [
    {
     "data": {
      "image/png": "[encoded data removed]",
      "text/plain": [
       "<Figure size 432x288 with 1 Axes>"
      ]
     },
     "metadata": {
      "needs_background": "light"
     },
     "output_type": "display_data"
    },
    {
     "data": {
      "text/html": [
       "<div>\n",
       "<style scoped>\n",
       "    .dataframe tbody tr th:only-of-type {\n",
       "        vertical-align: middle;\n",
       "    }\n",
       "\n",
       "    .dataframe tbody tr th {\n",
       "        vertical-align: top;\n",
       "    }\n",
       "\n",
       "    .dataframe thead tr th {\n",
       "        text-align: left;\n",
       "    }\n",
       "</style>\n",
       "<table border=\"1\" class=\"dataframe\">\n",
       "  <thead>\n",
       "    <tr>\n",
       "      <th></th>\n",
       "      <th>sum</th>\n",
       "      <th>median</th>\n",
       "      <th>mean</th>\n",
       "    </tr>\n",
       "    <tr>\n",
       "      <th></th>\n",
       "      <th>total_cost</th>\n",
       "      <th>total_cost</th>\n",
       "      <th>total_cost</th>\n",
       "    </tr>\n",
       "  </thead>\n",
       "  <tbody>\n",
       "    <tr>\n",
       "      <th>count</th>\n",
       "      <td>12.000000</td>\n",
       "      <td>12.000000</td>\n",
       "      <td>12.000000</td>\n",
       "    </tr>\n",
       "    <tr>\n",
       "      <th>mean</th>\n",
       "      <td>215952.833333</td>\n",
       "      <td>790.333333</td>\n",
       "      <td>1078.304732</td>\n",
       "    </tr>\n",
       "    <tr>\n",
       "      <th>std</th>\n",
       "      <td>141764.071695</td>\n",
       "      <td>187.652645</td>\n",
       "      <td>192.562950</td>\n",
       "    </tr>\n",
       "    <tr>\n",
       "      <th>min</th>\n",
       "      <td>24372.000000</td>\n",
       "      <td>550.000000</td>\n",
       "      <td>716.823529</td>\n",
       "    </tr>\n",
       "    <tr>\n",
       "      <th>25%</th>\n",
       "      <td>94551.750000</td>\n",
       "      <td>700.000000</td>\n",
       "      <td>1016.466518</td>\n",
       "    </tr>\n",
       "    <tr>\n",
       "      <th>50%</th>\n",
       "      <td>203839.500000</td>\n",
       "      <td>753.000000</td>\n",
       "      <td>1119.927922</td>\n",
       "    </tr>\n",
       "    <tr>\n",
       "      <th>75%</th>\n",
       "      <td>308022.000000</td>\n",
       "      <td>950.000000</td>\n",
       "      <td>1203.918193</td>\n",
       "    </tr>\n",
       "    <tr>\n",
       "      <th>max</th>\n",
       "      <td>462294.000000</td>\n",
       "      <td>1150.000000</td>\n",
       "      <td>1375.875000</td>\n",
       "    </tr>\n",
       "  </tbody>\n",
       "</table>\n",
       "</div>"
      ],
      "text/plain": [
       "                 sum       median         mean\n",
       "          total_cost   total_cost   total_cost\n",
       "count      12.000000    12.000000    12.000000\n",
       "mean   215952.833333   790.333333  1078.304732\n",
       "std    141764.071695   187.652645   192.562950\n",
       "min     24372.000000   550.000000   716.823529\n",
       "25%     94551.750000   700.000000  1016.466518\n",
       "50%    203839.500000   753.000000  1119.927922\n",
       "75%    308022.000000   950.000000  1203.918193\n",
       "max    462294.000000  1150.000000  1375.875000"
      ]
     },
     "execution_count": 74,
     "metadata": {},
     "output_type": "execute_result"
    }
   ],
   "source": [
    "total_cost_data_smart.boxplot()\n",
    "plt.xlabel('Выручка')\n",
    "plt.title('Распределение выручки по смарт')\n",
    "plt.show()\n",
    "total_cost_data_smart.describe()"
   ]
  },
  {
   "cell_type": "code",
   "execution_count": 75,
   "metadata": {},
   "outputs": [
    {
     "data": {
      "image/png": "[encoded data removed]",
      "text/plain": [
       "<Figure size 432x288 with 1 Axes>"
      ]
     },
     "metadata": {
      "needs_background": "light"
     },
     "output_type": "display_data"
    },
    {
     "data": {
      "text/html": [
       "<div>\n",
       "<style scoped>\n",
       "    .dataframe tbody tr th:only-of-type {\n",
       "        vertical-align: middle;\n",
       "    }\n",
       "\n",
       "    .dataframe tbody tr th {\n",
       "        vertical-align: top;\n",
       "    }\n",
       "\n",
       "    .dataframe thead tr th {\n",
       "        text-align: left;\n",
       "    }\n",
       "</style>\n",
       "<table border=\"1\" class=\"dataframe\">\n",
       "  <thead>\n",
       "    <tr>\n",
       "      <th></th>\n",
       "      <th>sum</th>\n",
       "      <th>median</th>\n",
       "      <th>mean</th>\n",
       "    </tr>\n",
       "    <tr>\n",
       "      <th></th>\n",
       "      <th>total_cost</th>\n",
       "      <th>total_cost</th>\n",
       "      <th>total_cost</th>\n",
       "    </tr>\n",
       "  </thead>\n",
       "  <tbody>\n",
       "    <tr>\n",
       "      <th>count</th>\n",
       "      <td>12.000000</td>\n",
       "      <td>12.0</td>\n",
       "      <td>12.000000</td>\n",
       "    </tr>\n",
       "    <tr>\n",
       "      <th>mean</th>\n",
       "      <td>164125.000000</td>\n",
       "      <td>1950.0</td>\n",
       "      <td>2048.190198</td>\n",
       "    </tr>\n",
       "    <tr>\n",
       "      <th>std</th>\n",
       "      <td>88763.663481</td>\n",
       "      <td>0.0</td>\n",
       "      <td>57.042660</td>\n",
       "    </tr>\n",
       "    <tr>\n",
       "      <th>min</th>\n",
       "      <td>17550.000000</td>\n",
       "      <td>1950.0</td>\n",
       "      <td>1950.000000</td>\n",
       "    </tr>\n",
       "    <tr>\n",
       "      <th>25%</th>\n",
       "      <td>98287.500000</td>\n",
       "      <td>1950.0</td>\n",
       "      <td>2012.092045</td>\n",
       "    </tr>\n",
       "    <tr>\n",
       "      <th>50%</th>\n",
       "      <td>176175.000000</td>\n",
       "      <td>1950.0</td>\n",
       "      <td>2053.718171</td>\n",
       "    </tr>\n",
       "    <tr>\n",
       "      <th>75%</th>\n",
       "      <td>229462.500000</td>\n",
       "      <td>1950.0</td>\n",
       "      <td>2087.042786</td>\n",
       "    </tr>\n",
       "    <tr>\n",
       "      <th>max</th>\n",
       "      <td>285900.000000</td>\n",
       "      <td>1950.0</td>\n",
       "      <td>2133.582090</td>\n",
       "    </tr>\n",
       "  </tbody>\n",
       "</table>\n",
       "</div>"
      ],
      "text/plain": [
       "                 sum     median         mean\n",
       "          total_cost total_cost   total_cost\n",
       "count      12.000000       12.0    12.000000\n",
       "mean   164125.000000     1950.0  2048.190198\n",
       "std     88763.663481        0.0    57.042660\n",
       "min     17550.000000     1950.0  1950.000000\n",
       "25%     98287.500000     1950.0  2012.092045\n",
       "50%    176175.000000     1950.0  2053.718171\n",
       "75%    229462.500000     1950.0  2087.042786\n",
       "max    285900.000000     1950.0  2133.582090"
      ]
     },
     "execution_count": 75,
     "metadata": {},
     "output_type": "execute_result"
    }
   ],
   "source": [
    "total_cost_data_ultra.boxplot()\n",
    "plt.xlabel('Выручка')\n",
    "plt.title('Распределение выручки по ультра')\n",
    "plt.show()\n",
    "total_cost_data_ultra.describe()"
   ]
  },
  {
   "cell_type": "code",
   "execution_count": 76,
   "metadata": {},
   "outputs": [
    {
     "data": {
      "text/plain": [
       "total_cost    37080.489537\n",
       "dtype: float64"
      ]
     },
     "metadata": {},
     "output_type": "display_data"
    },
    {
     "data": {
      "text/plain": [
       "total_cost    2.009705e+10\n",
       "dtype: float64"
      ]
     },
     "metadata": {},
     "output_type": "display_data"
    },
    {
     "data": {
      "text/plain": [
       "total_cost    35213.515152\n",
       "dtype: float64"
      ]
     },
     "metadata": {},
     "output_type": "display_data"
    }
   ],
   "source": [
    "display(total_cost_data_smart.var()['mean'])\n",
    "display(total_cost_data_smart.var()['sum'])\n",
    "display(total_cost_data_smart.var()['median'])\n",
    "\n"
   ]
  },
  {
   "cell_type": "code",
   "execution_count": 77,
   "metadata": {},
   "outputs": [
    {
     "data": {
      "text/plain": [
       "total_cost    3253.86503\n",
       "dtype: float64"
      ]
     },
     "metadata": {},
     "output_type": "display_data"
    },
    {
     "data": {
      "text/plain": [
       "total_cost    7.878988e+09\n",
       "dtype: float64"
      ]
     },
     "metadata": {},
     "output_type": "display_data"
    },
    {
     "data": {
      "text/plain": [
       "total_cost    0.0\n",
       "dtype: float64"
      ]
     },
     "metadata": {},
     "output_type": "display_data"
    }
   ],
   "source": [
    "\n",
    "display(total_cost_data_ultra.var()['mean'])\n",
    "display(total_cost_data_ultra.var()['sum'])\n",
    "display(total_cost_data_ultra.var()['median'])"
   ]
  },
  {
   "cell_type": "markdown",
   "metadata": {},
   "source": [
    "3. Вывод - тариф смарт телефонные звонки с начало годо и до конца виден рост количества потраченных сообще ний от 941 м в январе до 22000 в декабре, такая же картина и у тарифа ультра с разницей в количестве использованных минут от 555 в я нваре и до 11000 в декабре. \n",
    "- тариф смарт отправленные сообщения с начало года и до конца виден рост количества потраченных сообщений от 620 шт. в январе до 12095\t в декабре, такая же картина и у тарифа ультра с разницей в количестве использованных сообщений от 304 в я нваре и до 8141 в декабре. \n",
    "- тариф смарт потраченных мегабай трафика с начало года и до конца виден рост количества  от 24372 gb. в январе до 462294\t в декабре, такая же картина и у тарифа ультра с разницей в количестве использованных gb от 17550 в я нваре и до 285900 в декабре. \n",
    "- тариф смарт выручка от трафика с начало года и до конца виден рост   от 716 в январе до 1375\t в декабре, такая же картина и у тарифа ультра с разницей в количестве  от 1950 в я нваре и до 2133.58 в декабре."
   ]
  },
  {
   "cell_type": "markdown",
   "metadata": {},
   "source": [
    "    Разброс"
   ]
  },
  {
   "cell_type": "code",
   "execution_count": 78,
   "metadata": {},
   "outputs": [],
   "source": [
    "import math"
   ]
  },
  {
   "cell_type": "code",
   "execution_count": 79,
   "metadata": {},
   "outputs": [
    {
     "data": {
      "text/plain": [
       "total_cost    3253.86503\n",
       "dtype: float64"
      ]
     },
     "execution_count": 79,
     "metadata": {},
     "output_type": "execute_result"
    }
   ],
   "source": [
    "# Дисперсия для генеральной совокупности n, для выбор n-1, степень свободы - для гс -0, для выборки\n",
    "np.var(total_cost_data_ultra['mean'], ddof=1)\n"
   ]
  },
  {
   "cell_type": "code",
   "execution_count": 80,
   "metadata": {},
   "outputs": [
    {
     "data": {
      "text/plain": [
       "total_cost    37080.489537\n",
       "dtype: float64"
      ]
     },
     "execution_count": 80,
     "metadata": {},
     "output_type": "execute_result"
    }
   ],
   "source": [
    "np.var(total_cost_data_smart['mean'], ddof=1)"
   ]
  },
  {
   "cell_type": "code",
   "execution_count": 81,
   "metadata": {},
   "outputs": [
    {
     "data": {
      "text/plain": [
       "192.56294954274347"
      ]
     },
     "execution_count": 81,
     "metadata": {},
     "output_type": "execute_result"
    }
   ],
   "source": [
    "# стандартное отклоненние(гс), для выбор среднеквадратическое отклонение\n",
    "math.sqrt(np.var(total_cost_data_smart['mean'], ddof=1))\n"
   ]
  },
  {
   "cell_type": "code",
   "execution_count": 82,
   "metadata": {},
   "outputs": [
    {
     "data": {
      "text/plain": [
       "57.04265974032173"
      ]
     },
     "execution_count": 82,
     "metadata": {},
     "output_type": "execute_result"
    }
   ],
   "source": [
    "math.sqrt(np.var(total_cost_data_ultra['mean'], ddof=1))"
   ]
  },
  {
   "cell_type": "markdown",
   "metadata": {},
   "source": [
    "4.Проверьте гипотезы"
   ]
  },
  {
   "cell_type": "markdown",
   "metadata": {},
   "source": [
    "    4.1 Средняя выручка пользователей тарифов «Ультра» и «Смарт» различаются;"
   ]
  },
  {
   "cell_type": "markdown",
   "metadata": {},
   "source": [
    "Нулевая гипотеза: средняя выручка пользователей тарифов «Ультра» и «Смарт» одинакова"
   ]
  },
  {
   "cell_type": "markdown",
   "metadata": {},
   "source": [
    "Альтернативная гипотеза: средняя выручка пользователей тарифов «Ультра» и «Смарт» различаются"
   ]
  },
  {
   "cell_type": "markdown",
   "metadata": {},
   "source": [
    "Если p-value меньше порогового значения alpha, то гипотезу отвергаем. Иначе - не отвергаем."
   ]
  },
  {
   "cell_type": "code",
   "execution_count": 83,
   "metadata": {},
   "outputs": [],
   "source": [
    "from scipy import stats as st "
   ]
  },
  {
   "cell_type": "code",
   "execution_count": 84,
   "metadata": {},
   "outputs": [],
   "source": [
    "alpha = 0.05"
   ]
  },
  {
   "cell_type": "code",
   "execution_count": 85,
   "metadata": {},
   "outputs": [],
   "source": [
    "ultra_data = total_data.query('tariff == \"ultra\"')\n",
    "smart_data = total_data.query('tariff == \"smart\"')"
   ]
  },
  {
   "cell_type": "code",
   "execution_count": 86,
   "metadata": {},
   "outputs": [],
   "source": [
    "results = st.ttest_ind(smart_data['total_cost'], ultra_data['total_cost'])"
   ]
  },
  {
   "cell_type": "code",
   "execution_count": 87,
   "metadata": {},
   "outputs": [
    {
     "name": "stdout",
     "output_type": "stream",
     "text": [
      "p-значение: 4.657090039411243e-235\n"
     ]
    }
   ],
   "source": [
    "print('p-значение:', results.pvalue)"
   ]
  },
  {
   "cell_type": "code",
   "execution_count": 88,
   "metadata": {},
   "outputs": [
    {
     "name": "stdout",
     "output_type": "stream",
     "text": [
      "Отвергаем нулевую гипотезу. Средняя выручка тарифов различается.\n"
     ]
    }
   ],
   "source": [
    "if results.pvalue < alpha:\n",
    "    print('Отвергаем нулевую гипотезу. Средняя выручка тарифов различается.')\n",
    "else:\n",
    "    print('Не можем отвергнуть нулевую гипотезу.')"
   ]
  },
  {
   "cell_type": "code",
   "execution_count": 89,
   "metadata": {},
   "outputs": [],
   "source": [
    "smart = total_data[total_data['tariff']=='smart']['total_cost'].mean()\n",
    "ultra = total_data[total_data['tariff']=='ultra']['total_cost'].mean()"
   ]
  },
  {
   "cell_type": "code",
   "execution_count": 90,
   "metadata": {},
   "outputs": [
    {
     "data": {
      "text/plain": [
       "'Средняя выручка от тарифа смарт -1165.7372919478182 рублей'"
      ]
     },
     "metadata": {},
     "output_type": "display_data"
    },
    {
     "data": {
      "text/plain": [
       "'Средняя выручка от тарифа ультра -2070.9779179810726 рублей'"
      ]
     },
     "metadata": {},
     "output_type": "display_data"
    }
   ],
   "source": [
    "display(f'Средняя выручка от тарифа смарт -{smart} рублей')\n",
    "display(f'Средняя выручка от тарифа ультра -{ultra} рублей')"
   ]
  },
  {
   "cell_type": "markdown",
   "metadata": {},
   "source": [
    "    4.2 Средняя выручка пользователей из Москвы отличается от выручки пользователей из других регионов."
   ]
  },
  {
   "cell_type": "markdown",
   "metadata": {},
   "source": [
    " Для москвичей и не-москвичей. На них проверим нулевую гипотезу, что средняя выручка пользователей из Москвы отличается от выручки пользователей из других регионов."
   ]
  },
  {
   "cell_type": "code",
   "execution_count": 91,
   "metadata": {},
   "outputs": [],
   "source": [
    "msc_data = total_data.query('city == \"Москва\"')\n",
    "no_msc_data = total_data.query('city != \"Москва\"')"
   ]
  },
  {
   "cell_type": "code",
   "execution_count": 92,
   "metadata": {},
   "outputs": [],
   "source": [
    "results_city = st.ttest_ind(msc_data['total_cost'], no_msc_data['total_cost'])"
   ]
  },
  {
   "cell_type": "code",
   "execution_count": 93,
   "metadata": {},
   "outputs": [
    {
     "name": "stdout",
     "output_type": "stream",
     "text": [
      "p-значение: 0.2251949609364987\n"
     ]
    }
   ],
   "source": [
    "print('p-значение:', results_city.pvalue)"
   ]
  },
  {
   "cell_type": "code",
   "execution_count": 94,
   "metadata": {},
   "outputs": [
    {
     "name": "stdout",
     "output_type": "stream",
     "text": [
      "Не можем отвергнуть нулевую гипотезу.\n"
     ]
    }
   ],
   "source": [
    "if results_city.pvalue < alpha:\n",
    "    print('Отвергаем нулевую гипотезу.')\n",
    "else:\n",
    "    print('Не можем отвергнуть нулевую гипотезу.')"
   ]
  },
  {
   "cell_type": "code",
   "execution_count": 95,
   "metadata": {},
   "outputs": [
    {
     "data": {
      "text/html": [
       "<div>\n",
       "<style scoped>\n",
       "    .dataframe tbody tr th:only-of-type {\n",
       "        vertical-align: middle;\n",
       "    }\n",
       "\n",
       "    .dataframe tbody tr th {\n",
       "        vertical-align: top;\n",
       "    }\n",
       "\n",
       "    .dataframe thead th {\n",
       "        text-align: right;\n",
       "    }\n",
       "</style>\n",
       "<table border=\"1\" class=\"dataframe\">\n",
       "  <thead>\n",
       "    <tr style=\"text-align: right;\">\n",
       "      <th></th>\n",
       "      <th>city</th>\n",
       "      <th>tariff</th>\n",
       "      <th>total_cost</th>\n",
       "    </tr>\n",
       "  </thead>\n",
       "  <tbody>\n",
       "    <tr>\n",
       "      <th>0</th>\n",
       "      <td>Краснодар</td>\n",
       "      <td>ultra</td>\n",
       "      <td>1950.0</td>\n",
       "    </tr>\n",
       "    <tr>\n",
       "      <th>1</th>\n",
       "      <td>Краснодар</td>\n",
       "      <td>ultra</td>\n",
       "      <td>1950.0</td>\n",
       "    </tr>\n",
       "    <tr>\n",
       "      <th>2</th>\n",
       "      <td>Краснодар</td>\n",
       "      <td>ultra</td>\n",
       "      <td>1950.0</td>\n",
       "    </tr>\n",
       "    <tr>\n",
       "      <th>3</th>\n",
       "      <td>Краснодар</td>\n",
       "      <td>ultra</td>\n",
       "      <td>1950.0</td>\n",
       "    </tr>\n",
       "    <tr>\n",
       "      <th>4</th>\n",
       "      <td>Краснодар</td>\n",
       "      <td>ultra</td>\n",
       "      <td>1950.0</td>\n",
       "    </tr>\n",
       "    <tr>\n",
       "      <th>...</th>\n",
       "      <td>...</td>\n",
       "      <td>...</td>\n",
       "      <td>...</td>\n",
       "    </tr>\n",
       "    <tr>\n",
       "      <th>3169</th>\n",
       "      <td>Владикавказ</td>\n",
       "      <td>smart</td>\n",
       "      <td>1750.0</td>\n",
       "    </tr>\n",
       "    <tr>\n",
       "      <th>3170</th>\n",
       "      <td>Пермь</td>\n",
       "      <td>smart</td>\n",
       "      <td>550.0</td>\n",
       "    </tr>\n",
       "    <tr>\n",
       "      <th>3171</th>\n",
       "      <td>Пермь</td>\n",
       "      <td>smart</td>\n",
       "      <td>1150.0</td>\n",
       "    </tr>\n",
       "    <tr>\n",
       "      <th>3172</th>\n",
       "      <td>Пермь</td>\n",
       "      <td>smart</td>\n",
       "      <td>1177.0</td>\n",
       "    </tr>\n",
       "    <tr>\n",
       "      <th>3173</th>\n",
       "      <td>Пермь</td>\n",
       "      <td>smart</td>\n",
       "      <td>598.0</td>\n",
       "    </tr>\n",
       "  </tbody>\n",
       "</table>\n",
       "<p>3174 rows × 3 columns</p>\n",
       "</div>"
      ],
      "text/plain": [
       "             city tariff  total_cost\n",
       "0       Краснодар  ultra      1950.0\n",
       "1       Краснодар  ultra      1950.0\n",
       "2       Краснодар  ultra      1950.0\n",
       "3       Краснодар  ultra      1950.0\n",
       "4       Краснодар  ultra      1950.0\n",
       "...           ...    ...         ...\n",
       "3169  Владикавказ  smart      1750.0\n",
       "3170        Пермь  smart       550.0\n",
       "3171        Пермь  smart      1150.0\n",
       "3172        Пермь  smart      1177.0\n",
       "3173        Пермь  smart       598.0\n",
       "\n",
       "[3174 rows x 3 columns]"
      ]
     },
     "metadata": {},
     "output_type": "display_data"
    }
   ],
   "source": [
    "city_tarif = total_data[['city', 'tariff', 'total_cost']]\n",
    "display(city_tarif)"
   ]
  },
  {
   "cell_type": "code",
   "execution_count": 96,
   "metadata": {},
   "outputs": [],
   "source": [
    "smart_Moscow = city_tarif.query('tariff ==\"smart\" and city==\"Москва\"').pivot_table(index='city', values='total_cost', aggfunc=['mean'])\n",
    "\n",
    "ultra_Moscow = city_tarif.query('tariff ==\"ultra\" and city==\"Москва\"').pivot_table(index='city', values='total_cost', aggfunc=['mean'])\n"
   ]
  },
  {
   "cell_type": "code",
   "execution_count": 97,
   "metadata": {},
   "outputs": [],
   "source": [
    "smart_City = city_tarif.query('tariff ==\"smart\" and city!=\"Москва\"').pivot_table(index='city', values='total_cost', aggfunc=['mean'])\n",
    "\n",
    "ultra_City = city_tarif.query('tariff ==\"ultra\" and city!=\"Москва\"').pivot_table(index='city', values='total_cost', aggfunc=['mean'])"
   ]
  },
  {
   "cell_type": "markdown",
   "metadata": {},
   "source": [
    "График средняя выручка пользователей из других регинов, тариф смарт"
   ]
  },
  {
   "cell_type": "code",
   "execution_count": 98,
   "metadata": {},
   "outputs": [
    {
     "data": {
      "image/png": "[encoded data removed]",
      "text/plain": [
       "<Figure size 432x288 with 1 Axes>"
      ]
     },
     "metadata": {
      "needs_background": "light"
     },
     "output_type": "display_data"
    }
   ],
   "source": [
    "smart_City.plot(y='mean', style='x-', alpha=0.5)\n",
    "plt.xlabel('Город')\n",
    "plt.ylabel('Выгода')\n",
    "plt.title('Распределение выручки по смарт по городам')\n",
    "plt.show()"
   ]
  },
  {
   "cell_type": "markdown",
   "metadata": {},
   "source": [
    "График средняя выручка пользователей из других регинов, тариф ультра"
   ]
  },
  {
   "cell_type": "code",
   "execution_count": 99,
   "metadata": {},
   "outputs": [
    {
     "data": {
      "image/png": "[encoded data removed]",
      "text/plain": [
       "<Figure size 432x288 with 1 Axes>"
      ]
     },
     "metadata": {
      "needs_background": "light"
     },
     "output_type": "display_data"
    }
   ],
   "source": [
    "ultra_City.plot(y='mean', style='x-', alpha=0.5)\n",
    "plt.xlabel('Город')\n",
    "plt.ylabel('Выгода')\n",
    "plt.title('Распределение выручки по ультра по городам')\n",
    "plt.show()"
   ]
  },
  {
   "cell_type": "code",
   "execution_count": 100,
   "metadata": {},
   "outputs": [
    {
     "data": {
      "text/plain": [
       "'Средняя выручка от тарифа смарт -               mean\\n         total_cost\\ncity               \\nМосква  1120.997409 рублей'"
      ]
     },
     "metadata": {},
     "output_type": "display_data"
    },
    {
     "data": {
      "text/plain": [
       "'Средняя выручка от тарифа ультра -               mean\\n         total_cost\\ncity               \\nМосква  2074.553571 рублей'"
      ]
     },
     "metadata": {},
     "output_type": "display_data"
    }
   ],
   "source": [
    "display(f'Средняя выручка от тарифа смарт -{smart_Moscow} рублей')\n",
    "display(f'Средняя выручка от тарифа ультра -{ultra_Moscow} рублей')"
   ]
  },
  {
   "cell_type": "code",
   "execution_count": 101,
   "metadata": {},
   "outputs": [
    {
     "data": {
      "text/plain": [
       "'Средняя выручка от тарифа смарт в дргугих городах -1173.2327272899095 рублей'"
      ]
     },
     "metadata": {},
     "output_type": "display_data"
    },
    {
     "data": {
      "text/plain": [
       "'Средняя выручка от тарифа ультра в дргугих городах -2116.95036801231 рублей'"
      ]
     },
     "metadata": {},
     "output_type": "display_data"
    },
    {
     "data": {
      "text/plain": [
       "None"
      ]
     },
     "metadata": {},
     "output_type": "display_data"
    }
   ],
   "source": [
    "smart_City.columns = ['price']\n",
    "mean_smart_city = smart_City['price'].mean()\n",
    "display(f'Средняя выручка от тарифа смарт в дргугих городах -{mean_smart_city} рублей')\n",
    "\n",
    "ultra_City.columns = ['price']\n",
    "mean_ultra_city = ultra_City['price'].mean()\n",
    "display(display(f'Средняя выручка от тарифа ультра в дргугих городах -{mean_ultra_city} рублей'))\n"
   ]
  },
  {
   "cell_type": "markdown",
   "metadata": {},
   "source": [
    "4. Вывод - средняя выручка от разных тарифов различается, однако если сравнивать по городам, то более обеспеченная Москва    больше прибыли не приносит."
   ]
  },
  {
   "cell_type": "markdown",
   "metadata": {},
   "source": [
    "5. Общий вывод - \n",
    "    1.Таблицы представленные ошибку имела - ошибка в интернет трафике- пользователь устанавливал соединение и авторизовался. Но трафик нулевой. И это аномалия, возможно, что она связана с техничесткими проблемами оператора., если не считать лишнего сстобца в таблице intenet c дублиющим столбцом id, тип данных изменил., имеются таблицы с информацией по использованию пользователями количества отправленных сообщений, сделанных звонков и потраченных Мб интренета в заисимости от тарифа за 2018 год.\n",
    "    2. В представленных таблицах приведение типов данных произвел.\n",
    "    Посчитал для каждого пользователя:\n",
    "- количество сделанных звонков и израсходованных минут разговора по месяцам;\n",
    "- количество отправленных сообщений по месяцам;\n",
    "- объем израсходованного интернет-трафика по месяцам;\n",
    "- помесячную выручку с каждого пользователя - она указано в столбце total_cost таблицы total_data\n",
    "    3. - тариф смарт телефонные звонки с начало годо и до конца виден рост количества потраченных сообще ний от 941 м в январе до 22000 в декабре, такая же картина и у тарифа ультра с разницей в количестве использованных минут от 555 в я нваре и до 11000 в декабре. \n",
    "- тариф смарт отправленные сообщения с начало года и до конца виден рост количества потраченных сообщений от 620 шт. в январе до 12095\t в декабре, такая же картина и у тарифа ультра с разницей в количестве использованных сообщений от 304 в я нваре и до 8141 в декабре. \n",
    "- тариф смарт потраченных мегабай трафика с начало года и до конца виден рост количества  от 24372 gb. в январе до 462294\t в декабре, такая же картина и у тарифа ультра с разницей в количестве использованных gb от 17550 в я нваре и до 285900 в декабре. \n",
    "- тариф смарт выручка от трафика с начало года и до конца виден рост   от 716 в январе до 1375\t в декабре, такая же картина и у тарифа ультра с разницей в количестве  от 1950 в я нваре и до 2133.58 в декабре.\n",
    "4. По полученному анализу стало ясно что Средняя выручка тарифов различается.\n",
    "Средняя выручка от тарифа смарт -1165.7372919478182 рублей'\n",
    "'Средняя выручка от тарифа ультра -2070.9779179810726 рублей'\n",
    "Срденяя выручка по Москве и другим городам -\n",
    "'Средняя выручка от тарифа смарт - Москва  1120.997409 рублей'\n",
    "Средняя выручка от тарифа смарт в дргугих городах -1173.2 рублей'\n",
    "'Средняя выручка от тарифа ультра - Москва  2074.553571 рублей'\n",
    "'Средняя выручка от тарифа ультра в дргугих городах -2116.9 рублей'"
   ]
  }
 ],
 "metadata": {
  "ExecuteTimeLog": [
   {
    "duration": 45,
    "start_time": "2022-06-13T19:07:40.738Z"
   },
   {
    "duration": 440,
    "start_time": "2022-06-13T19:07:43.859Z"
   },
   {
    "duration": 249,
    "start_time": "2022-06-13T19:07:45.219Z"
   },
   {
    "duration": 624,
    "start_time": "2022-06-13T19:08:21.747Z"
   },
   {
    "duration": 629,
    "start_time": "2022-06-13T19:09:03.259Z"
   },
   {
    "duration": 516,
    "start_time": "2022-06-13T19:10:01.099Z"
   },
   {
    "duration": 436,
    "start_time": "2022-06-13T19:10:13.778Z"
   },
   {
    "duration": 440,
    "start_time": "2022-06-13T19:10:31.898Z"
   },
   {
    "duration": 74,
    "start_time": "2022-06-13T19:11:14.617Z"
   },
   {
    "duration": 3,
    "start_time": "2022-06-13T19:14:14.698Z"
   },
   {
    "duration": 416,
    "start_time": "2022-06-13T19:14:15.379Z"
   },
   {
    "duration": 28,
    "start_time": "2022-06-13T19:14:16.143Z"
   },
   {
    "duration": 23,
    "start_time": "2022-06-13T19:14:16.978Z"
   },
   {
    "duration": 21,
    "start_time": "2022-06-13T19:14:17.698Z"
   },
   {
    "duration": 13,
    "start_time": "2022-06-13T19:14:18.258Z"
   },
   {
    "duration": 11,
    "start_time": "2022-06-13T19:14:27.978Z"
   },
   {
    "duration": 11,
    "start_time": "2022-06-13T19:16:05.345Z"
   },
   {
    "duration": 29,
    "start_time": "2022-06-13T19:16:29.019Z"
   },
   {
    "duration": 15,
    "start_time": "2022-06-13T19:16:54.784Z"
   },
   {
    "duration": 26,
    "start_time": "2022-06-13T19:17:21.181Z"
   },
   {
    "duration": 7,
    "start_time": "2022-06-13T19:17:27.385Z"
   },
   {
    "duration": 17,
    "start_time": "2022-06-13T19:17:34.938Z"
   },
   {
    "duration": 9,
    "start_time": "2022-06-13T19:18:37.464Z"
   },
   {
    "duration": 17,
    "start_time": "2022-06-13T19:18:38.897Z"
   },
   {
    "duration": 8,
    "start_time": "2022-06-13T19:19:08.485Z"
   },
   {
    "duration": 6,
    "start_time": "2022-06-13T19:19:09.943Z"
   },
   {
    "duration": 15,
    "start_time": "2022-06-13T19:19:12.977Z"
   },
   {
    "duration": 7,
    "start_time": "2022-06-13T19:19:15.578Z"
   },
   {
    "duration": 24,
    "start_time": "2022-06-13T19:23:15.917Z"
   },
   {
    "duration": 25,
    "start_time": "2022-06-13T19:24:34.100Z"
   },
   {
    "duration": 52,
    "start_time": "2022-06-13T19:24:34.920Z"
   },
   {
    "duration": 12,
    "start_time": "2022-06-13T19:24:35.983Z"
   },
   {
    "duration": 21,
    "start_time": "2022-06-13T19:25:09.895Z"
   },
   {
    "duration": 33,
    "start_time": "2022-06-13T19:25:29.387Z"
   },
   {
    "duration": 57,
    "start_time": "2022-06-13T19:27:52.600Z"
   },
   {
    "duration": 6,
    "start_time": "2022-06-13T19:30:23.399Z"
   },
   {
    "duration": 14,
    "start_time": "2022-06-13T19:30:26.593Z"
   },
   {
    "duration": 14,
    "start_time": "2022-06-13T19:30:44.420Z"
   },
   {
    "duration": 25,
    "start_time": "2022-06-13T19:31:21.800Z"
   },
   {
    "duration": 43,
    "start_time": "2022-06-13T19:32:27.947Z"
   },
   {
    "duration": 17,
    "start_time": "2022-06-13T19:33:05.260Z"
   },
   {
    "duration": 19,
    "start_time": "2022-06-13T19:33:55.833Z"
   },
   {
    "duration": 16,
    "start_time": "2022-06-13T19:35:21.099Z"
   },
   {
    "duration": 3,
    "start_time": "2022-06-13T19:36:50.542Z"
   },
   {
    "duration": 133,
    "start_time": "2022-06-13T19:36:58.079Z"
   },
   {
    "duration": 78,
    "start_time": "2022-06-13T19:38:49.319Z"
   },
   {
    "duration": 56,
    "start_time": "2022-06-13T19:39:42.543Z"
   },
   {
    "duration": 10,
    "start_time": "2022-06-13T19:40:04.500Z"
   },
   {
    "duration": 13,
    "start_time": "2022-06-13T19:40:15.340Z"
   },
   {
    "duration": 6,
    "start_time": "2022-06-13T19:41:10.544Z"
   },
   {
    "duration": 12,
    "start_time": "2022-06-13T19:41:25.746Z"
   },
   {
    "duration": 6,
    "start_time": "2022-06-13T19:41:53.020Z"
   },
   {
    "duration": 6,
    "start_time": "2022-06-13T19:42:20.120Z"
   },
   {
    "duration": 7,
    "start_time": "2022-06-13T19:42:31.541Z"
   },
   {
    "duration": 13,
    "start_time": "2022-06-13T19:42:52.461Z"
   },
   {
    "duration": 13,
    "start_time": "2022-06-13T19:51:49.618Z"
   },
   {
    "duration": 59,
    "start_time": "2022-06-13T19:53:01.299Z"
   },
   {
    "duration": 24,
    "start_time": "2022-06-13T19:53:10.587Z"
   },
   {
    "duration": 44,
    "start_time": "2022-06-13T19:53:55.499Z"
   },
   {
    "duration": 37,
    "start_time": "2022-06-13T19:54:02.228Z"
   },
   {
    "duration": 33,
    "start_time": "2022-06-13T19:56:34.018Z"
   },
   {
    "duration": 34,
    "start_time": "2022-06-13T19:56:45.548Z"
   },
   {
    "duration": 35,
    "start_time": "2022-06-13T19:57:29.419Z"
   },
   {
    "duration": 44,
    "start_time": "2022-06-13T19:57:48.502Z"
   },
   {
    "duration": 40,
    "start_time": "2022-06-13T19:58:10.262Z"
   },
   {
    "duration": 39,
    "start_time": "2022-06-13T19:58:31.378Z"
   },
   {
    "duration": 29,
    "start_time": "2022-06-13T19:59:22.779Z"
   },
   {
    "duration": 29,
    "start_time": "2022-06-13T19:59:36.222Z"
   },
   {
    "duration": 8,
    "start_time": "2022-06-13T20:00:25.899Z"
   },
   {
    "duration": 358,
    "start_time": "2022-06-13T20:22:04.418Z"
   },
   {
    "duration": 2052,
    "start_time": "2022-06-13T20:22:04.778Z"
   },
   {
    "duration": 22,
    "start_time": "2022-06-13T20:22:06.832Z"
   },
   {
    "duration": 16,
    "start_time": "2022-06-13T20:22:06.857Z"
   },
   {
    "duration": 39,
    "start_time": "2022-06-13T20:22:06.874Z"
   },
   {
    "duration": 23,
    "start_time": "2022-06-13T20:22:06.916Z"
   },
   {
    "duration": 16,
    "start_time": "2022-06-13T20:22:06.940Z"
   },
   {
    "duration": 32,
    "start_time": "2022-06-13T20:22:06.957Z"
   },
   {
    "duration": 51,
    "start_time": "2022-06-13T20:22:06.990Z"
   },
   {
    "duration": 20,
    "start_time": "2022-06-13T20:22:07.045Z"
   },
   {
    "duration": 30,
    "start_time": "2022-06-13T20:22:07.067Z"
   },
   {
    "duration": 51,
    "start_time": "2022-06-13T20:22:07.099Z"
   },
   {
    "duration": 33,
    "start_time": "2022-06-13T20:22:07.151Z"
   },
   {
    "duration": 35,
    "start_time": "2022-06-13T20:22:07.186Z"
   },
   {
    "duration": 36,
    "start_time": "2022-06-13T20:22:07.223Z"
   },
   {
    "duration": 25,
    "start_time": "2022-06-13T20:22:07.261Z"
   },
   {
    "duration": 43,
    "start_time": "2022-06-13T20:22:07.288Z"
   },
   {
    "duration": 85,
    "start_time": "2022-06-13T20:22:07.332Z"
   },
   {
    "duration": 37,
    "start_time": "2022-06-13T20:22:07.421Z"
   },
   {
    "duration": 17,
    "start_time": "2022-06-13T20:22:07.460Z"
   },
   {
    "duration": 54,
    "start_time": "2022-06-13T20:22:07.478Z"
   },
   {
    "duration": 7,
    "start_time": "2022-06-13T20:22:07.534Z"
   },
   {
    "duration": 121,
    "start_time": "2022-06-13T20:22:07.543Z"
   },
   {
    "duration": 87,
    "start_time": "2022-06-13T20:22:07.666Z"
   },
   {
    "duration": 73,
    "start_time": "2022-06-13T20:22:07.754Z"
   },
   {
    "duration": 11,
    "start_time": "2022-06-13T20:22:07.829Z"
   },
   {
    "duration": 11,
    "start_time": "2022-06-13T20:22:07.842Z"
   },
   {
    "duration": 75,
    "start_time": "2022-06-13T20:22:07.856Z"
   },
   {
    "duration": 8,
    "start_time": "2022-06-13T20:22:07.932Z"
   },
   {
    "duration": 84,
    "start_time": "2022-06-13T20:23:46.534Z"
   },
   {
    "duration": 19,
    "start_time": "2022-06-13T20:23:55.342Z"
   },
   {
    "duration": 21,
    "start_time": "2022-06-13T20:24:08.620Z"
   },
   {
    "duration": 813,
    "start_time": "2022-06-13T20:25:26.534Z"
   },
   {
    "duration": 59,
    "start_time": "2022-06-13T20:26:16.420Z"
   },
   {
    "duration": 21,
    "start_time": "2022-06-13T20:26:41.737Z"
   },
   {
    "duration": 18,
    "start_time": "2022-06-13T20:26:53.064Z"
   },
   {
    "duration": 11,
    "start_time": "2022-06-13T20:28:06.142Z"
   },
   {
    "duration": 1376,
    "start_time": "2022-06-13T20:28:53.583Z"
   },
   {
    "duration": 32,
    "start_time": "2022-06-13T20:29:08.579Z"
   },
   {
    "duration": 53,
    "start_time": "2022-06-13T20:29:48.375Z"
   },
   {
    "duration": 44,
    "start_time": "2022-06-13T20:35:29.179Z"
   },
   {
    "duration": 6,
    "start_time": "2022-06-13T20:38:23.580Z"
   },
   {
    "duration": 6,
    "start_time": "2022-06-13T20:38:36.362Z"
   },
   {
    "duration": 43,
    "start_time": "2022-06-13T20:40:30.273Z"
   },
   {
    "duration": 10,
    "start_time": "2022-06-13T20:43:41.434Z"
   },
   {
    "duration": 59,
    "start_time": "2022-06-13T20:43:51.816Z"
   },
   {
    "duration": 13,
    "start_time": "2022-06-13T20:43:57.158Z"
   },
   {
    "duration": 76,
    "start_time": "2022-06-13T20:44:20.224Z"
   },
   {
    "duration": 15,
    "start_time": "2022-06-13T20:44:22.583Z"
   },
   {
    "duration": 475,
    "start_time": "2022-06-13T20:44:26.991Z"
   },
   {
    "duration": 515,
    "start_time": "2022-06-13T20:44:27.468Z"
   },
   {
    "duration": 37,
    "start_time": "2022-06-13T20:44:27.985Z"
   },
   {
    "duration": 43,
    "start_time": "2022-06-13T20:44:28.024Z"
   },
   {
    "duration": 24,
    "start_time": "2022-06-13T20:44:28.069Z"
   },
   {
    "duration": 13,
    "start_time": "2022-06-13T20:44:28.095Z"
   },
   {
    "duration": 38,
    "start_time": "2022-06-13T20:44:28.110Z"
   },
   {
    "duration": 28,
    "start_time": "2022-06-13T20:44:28.150Z"
   },
   {
    "duration": 25,
    "start_time": "2022-06-13T20:44:28.180Z"
   },
   {
    "duration": 59,
    "start_time": "2022-06-13T20:44:28.208Z"
   },
   {
    "duration": 21,
    "start_time": "2022-06-13T20:44:28.268Z"
   },
   {
    "duration": 45,
    "start_time": "2022-06-13T20:44:28.293Z"
   },
   {
    "duration": 25,
    "start_time": "2022-06-13T20:44:28.340Z"
   },
   {
    "duration": 8,
    "start_time": "2022-06-13T20:44:28.367Z"
   },
   {
    "duration": 11,
    "start_time": "2022-06-13T20:44:28.377Z"
   },
   {
    "duration": 50,
    "start_time": "2022-06-13T20:44:28.390Z"
   },
   {
    "duration": 10,
    "start_time": "2022-06-13T20:44:28.441Z"
   },
   {
    "duration": 85,
    "start_time": "2022-06-13T20:44:28.453Z"
   },
   {
    "duration": 60,
    "start_time": "2022-06-13T20:44:28.542Z"
   },
   {
    "duration": 24,
    "start_time": "2022-06-13T20:44:28.603Z"
   },
   {
    "duration": 48,
    "start_time": "2022-06-13T20:44:28.630Z"
   },
   {
    "duration": 5,
    "start_time": "2022-06-13T20:44:28.680Z"
   },
   {
    "duration": 153,
    "start_time": "2022-06-13T20:44:28.687Z"
   },
   {
    "duration": 102,
    "start_time": "2022-06-13T20:44:28.842Z"
   },
   {
    "duration": 87,
    "start_time": "2022-06-13T20:44:28.946Z"
   },
   {
    "duration": 13,
    "start_time": "2022-06-13T20:44:29.035Z"
   },
   {
    "duration": 74,
    "start_time": "2022-06-13T20:44:29.050Z"
   },
   {
    "duration": 15,
    "start_time": "2022-06-13T20:44:29.130Z"
   },
   {
    "duration": 53,
    "start_time": "2022-06-13T20:44:29.147Z"
   },
   {
    "duration": 15,
    "start_time": "2022-06-13T20:45:18.866Z"
   },
   {
    "duration": 109,
    "start_time": "2022-06-13T20:46:12.508Z"
   },
   {
    "duration": 53,
    "start_time": "2022-06-13T20:46:33.547Z"
   },
   {
    "duration": 9,
    "start_time": "2022-06-13T20:52:03.560Z"
   },
   {
    "duration": 8,
    "start_time": "2022-06-13T20:52:40.945Z"
   },
   {
    "duration": 50,
    "start_time": "2022-06-15T10:42:02.087Z"
   },
   {
    "duration": 396,
    "start_time": "2022-06-15T10:42:10.642Z"
   },
   {
    "duration": 1134,
    "start_time": "2022-06-15T10:42:11.040Z"
   },
   {
    "duration": 24,
    "start_time": "2022-06-15T10:42:12.176Z"
   },
   {
    "duration": 20,
    "start_time": "2022-06-15T10:42:12.201Z"
   },
   {
    "duration": 23,
    "start_time": "2022-06-15T10:42:12.223Z"
   },
   {
    "duration": 11,
    "start_time": "2022-06-15T10:42:12.247Z"
   },
   {
    "duration": 13,
    "start_time": "2022-06-15T10:42:12.260Z"
   },
   {
    "duration": 25,
    "start_time": "2022-06-15T10:42:12.275Z"
   },
   {
    "duration": 41,
    "start_time": "2022-06-15T10:42:12.301Z"
   },
   {
    "duration": 14,
    "start_time": "2022-06-15T10:42:12.344Z"
   },
   {
    "duration": 16,
    "start_time": "2022-06-15T10:42:12.359Z"
   },
   {
    "duration": 8,
    "start_time": "2022-06-15T10:42:12.377Z"
   },
   {
    "duration": 14,
    "start_time": "2022-06-15T10:42:12.387Z"
   },
   {
    "duration": 39,
    "start_time": "2022-06-15T10:42:12.404Z"
   },
   {
    "duration": 9,
    "start_time": "2022-06-15T10:42:12.444Z"
   },
   {
    "duration": 14,
    "start_time": "2022-06-15T10:42:12.455Z"
   },
   {
    "duration": 11,
    "start_time": "2022-06-15T10:42:12.471Z"
   },
   {
    "duration": 59,
    "start_time": "2022-06-15T10:42:12.484Z"
   },
   {
    "duration": 37,
    "start_time": "2022-06-15T10:42:12.545Z"
   },
   {
    "duration": 14,
    "start_time": "2022-06-15T10:42:12.584Z"
   },
   {
    "duration": 56,
    "start_time": "2022-06-15T10:42:12.599Z"
   },
   {
    "duration": 4,
    "start_time": "2022-06-15T10:42:12.657Z"
   },
   {
    "duration": 122,
    "start_time": "2022-06-15T10:42:12.663Z"
   },
   {
    "duration": 99,
    "start_time": "2022-06-15T10:42:12.786Z"
   },
   {
    "duration": 72,
    "start_time": "2022-06-15T10:42:12.887Z"
   },
   {
    "duration": 12,
    "start_time": "2022-06-15T10:42:12.960Z"
   },
   {
    "duration": 69,
    "start_time": "2022-06-15T10:42:12.973Z"
   },
   {
    "duration": 9,
    "start_time": "2022-06-15T10:42:13.044Z"
   },
   {
    "duration": 36,
    "start_time": "2022-06-15T10:42:13.055Z"
   },
   {
    "duration": 10,
    "start_time": "2022-06-15T10:42:13.092Z"
   },
   {
    "duration": 45,
    "start_time": "2022-06-15T10:42:13.129Z"
   },
   {
    "duration": 72,
    "start_time": "2022-06-15T10:42:13.175Z"
   },
   {
    "duration": 0,
    "start_time": "2022-06-15T10:42:13.249Z"
   },
   {
    "duration": 8,
    "start_time": "2022-06-15T10:42:36.257Z"
   },
   {
    "duration": 9,
    "start_time": "2022-06-15T10:42:51.557Z"
   },
   {
    "duration": 7,
    "start_time": "2022-06-15T10:43:11.036Z"
   },
   {
    "duration": 6,
    "start_time": "2022-06-15T10:43:18.923Z"
   },
   {
    "duration": 68,
    "start_time": "2022-06-15T10:43:41.282Z"
   },
   {
    "duration": 12,
    "start_time": "2022-06-15T10:58:45.059Z"
   },
   {
    "duration": 7,
    "start_time": "2022-06-15T10:58:53.863Z"
   },
   {
    "duration": 10,
    "start_time": "2022-06-15T10:59:23.119Z"
   },
   {
    "duration": 17,
    "start_time": "2022-06-15T10:59:57.227Z"
   },
   {
    "duration": 9,
    "start_time": "2022-06-15T11:00:40.518Z"
   },
   {
    "duration": 9,
    "start_time": "2022-06-15T11:00:53.607Z"
   },
   {
    "duration": 17,
    "start_time": "2022-06-15T11:01:03.683Z"
   },
   {
    "duration": 22,
    "start_time": "2022-06-15T11:01:28.378Z"
   },
   {
    "duration": 37,
    "start_time": "2022-06-15T11:01:44.548Z"
   },
   {
    "duration": 18,
    "start_time": "2022-06-15T11:01:54.077Z"
   },
   {
    "duration": 43,
    "start_time": "2022-06-15T11:01:59.506Z"
   },
   {
    "duration": 17,
    "start_time": "2022-06-15T11:04:17.619Z"
   },
   {
    "duration": 36,
    "start_time": "2022-06-15T11:15:05.206Z"
   },
   {
    "duration": 51,
    "start_time": "2022-06-15T11:15:21.409Z"
   },
   {
    "duration": 40,
    "start_time": "2022-06-15T11:19:38.300Z"
   },
   {
    "duration": 355,
    "start_time": "2022-06-15T11:19:49.363Z"
   },
   {
    "duration": 1082,
    "start_time": "2022-06-15T11:19:49.720Z"
   },
   {
    "duration": 21,
    "start_time": "2022-06-15T11:19:50.804Z"
   },
   {
    "duration": 28,
    "start_time": "2022-06-15T11:19:50.827Z"
   },
   {
    "duration": 14,
    "start_time": "2022-06-15T11:19:50.857Z"
   },
   {
    "duration": 11,
    "start_time": "2022-06-15T11:19:50.872Z"
   },
   {
    "duration": 17,
    "start_time": "2022-06-15T11:19:50.885Z"
   },
   {
    "duration": 36,
    "start_time": "2022-06-15T11:19:50.903Z"
   },
   {
    "duration": 16,
    "start_time": "2022-06-15T11:19:50.941Z"
   },
   {
    "duration": 11,
    "start_time": "2022-06-15T11:19:50.960Z"
   },
   {
    "duration": 35,
    "start_time": "2022-06-15T11:19:50.972Z"
   },
   {
    "duration": 20,
    "start_time": "2022-06-15T11:19:51.008Z"
   },
   {
    "duration": 27,
    "start_time": "2022-06-15T11:19:51.029Z"
   },
   {
    "duration": 10,
    "start_time": "2022-06-15T11:19:51.057Z"
   },
   {
    "duration": 16,
    "start_time": "2022-06-15T11:19:51.069Z"
   },
   {
    "duration": 28,
    "start_time": "2022-06-15T11:19:51.086Z"
   },
   {
    "duration": 10,
    "start_time": "2022-06-15T11:19:51.115Z"
   },
   {
    "duration": 54,
    "start_time": "2022-06-15T11:19:51.126Z"
   },
   {
    "duration": 33,
    "start_time": "2022-06-15T11:19:51.182Z"
   },
   {
    "duration": 16,
    "start_time": "2022-06-15T11:19:51.217Z"
   },
   {
    "duration": 29,
    "start_time": "2022-06-15T11:19:51.235Z"
   },
   {
    "duration": 5,
    "start_time": "2022-06-15T11:19:51.266Z"
   },
   {
    "duration": 125,
    "start_time": "2022-06-15T11:19:51.272Z"
   },
   {
    "duration": 80,
    "start_time": "2022-06-15T11:19:51.399Z"
   },
   {
    "duration": 3,
    "start_time": "2022-06-15T11:19:51.481Z"
   },
   {
    "duration": 0,
    "start_time": "2022-06-15T11:19:51.486Z"
   },
   {
    "duration": 0,
    "start_time": "2022-06-15T11:19:51.487Z"
   },
   {
    "duration": 0,
    "start_time": "2022-06-15T11:19:51.489Z"
   },
   {
    "duration": 0,
    "start_time": "2022-06-15T11:19:51.490Z"
   },
   {
    "duration": 0,
    "start_time": "2022-06-15T11:19:51.491Z"
   },
   {
    "duration": 0,
    "start_time": "2022-06-15T11:19:51.492Z"
   },
   {
    "duration": 0,
    "start_time": "2022-06-15T11:19:51.494Z"
   },
   {
    "duration": 0,
    "start_time": "2022-06-15T11:19:51.495Z"
   },
   {
    "duration": 2,
    "start_time": "2022-06-15T11:20:05.038Z"
   },
   {
    "duration": 361,
    "start_time": "2022-06-15T11:20:05.509Z"
   },
   {
    "duration": 20,
    "start_time": "2022-06-15T11:20:05.902Z"
   },
   {
    "duration": 22,
    "start_time": "2022-06-15T11:20:06.616Z"
   },
   {
    "duration": 15,
    "start_time": "2022-06-15T11:20:07.264Z"
   },
   {
    "duration": 11,
    "start_time": "2022-06-15T11:20:07.693Z"
   },
   {
    "duration": 10,
    "start_time": "2022-06-15T11:20:08.063Z"
   },
   {
    "duration": 10,
    "start_time": "2022-06-15T11:20:10.178Z"
   },
   {
    "duration": 16,
    "start_time": "2022-06-15T11:20:10.691Z"
   },
   {
    "duration": 12,
    "start_time": "2022-06-15T11:20:11.213Z"
   },
   {
    "duration": 14,
    "start_time": "2022-06-15T11:20:11.814Z"
   },
   {
    "duration": 9,
    "start_time": "2022-06-15T11:20:12.494Z"
   },
   {
    "duration": 12,
    "start_time": "2022-06-15T11:20:13.115Z"
   },
   {
    "duration": 7,
    "start_time": "2022-06-15T11:20:13.739Z"
   },
   {
    "duration": 5,
    "start_time": "2022-06-15T11:20:14.493Z"
   },
   {
    "duration": 13,
    "start_time": "2022-06-15T11:20:16.682Z"
   },
   {
    "duration": 6,
    "start_time": "2022-06-15T11:20:17.593Z"
   },
   {
    "duration": 45,
    "start_time": "2022-06-15T11:20:22.943Z"
   },
   {
    "duration": 34,
    "start_time": "2022-06-15T11:20:23.600Z"
   },
   {
    "duration": 13,
    "start_time": "2022-06-15T11:20:25.014Z"
   },
   {
    "duration": 29,
    "start_time": "2022-06-15T11:20:25.663Z"
   },
   {
    "duration": 6,
    "start_time": "2022-06-15T11:20:26.324Z"
   },
   {
    "duration": 100,
    "start_time": "2022-06-15T11:20:27.749Z"
   },
   {
    "duration": 67,
    "start_time": "2022-06-15T11:20:28.519Z"
   },
   {
    "duration": 3,
    "start_time": "2022-06-15T11:20:29.190Z"
   },
   {
    "duration": 11,
    "start_time": "2022-06-15T11:20:29.902Z"
   },
   {
    "duration": 50,
    "start_time": "2022-06-15T11:20:38.620Z"
   },
   {
    "duration": 10,
    "start_time": "2022-06-15T11:20:39.376Z"
   },
   {
    "duration": 43,
    "start_time": "2022-06-15T11:20:42.598Z"
   },
   {
    "duration": 9,
    "start_time": "2022-06-15T11:20:43.905Z"
   },
   {
    "duration": 34,
    "start_time": "2022-06-15T11:20:44.770Z"
   },
   {
    "duration": 10,
    "start_time": "2022-06-15T11:20:46.395Z"
   },
   {
    "duration": 36,
    "start_time": "2022-06-15T11:20:47.198Z"
   },
   {
    "duration": 41,
    "start_time": "2022-06-15T11:24:29.903Z"
   },
   {
    "duration": 361,
    "start_time": "2022-06-15T11:24:41.944Z"
   },
   {
    "duration": 1029,
    "start_time": "2022-06-15T11:24:42.306Z"
   },
   {
    "duration": 19,
    "start_time": "2022-06-15T11:24:43.337Z"
   },
   {
    "duration": 16,
    "start_time": "2022-06-15T11:24:43.358Z"
   },
   {
    "duration": 14,
    "start_time": "2022-06-15T11:24:43.375Z"
   },
   {
    "duration": 9,
    "start_time": "2022-06-15T11:24:43.390Z"
   },
   {
    "duration": 10,
    "start_time": "2022-06-15T11:24:43.400Z"
   },
   {
    "duration": 28,
    "start_time": "2022-06-15T11:24:43.412Z"
   },
   {
    "duration": 15,
    "start_time": "2022-06-15T11:24:43.441Z"
   },
   {
    "duration": 11,
    "start_time": "2022-06-15T11:24:43.458Z"
   },
   {
    "duration": 18,
    "start_time": "2022-06-15T11:24:43.470Z"
   },
   {
    "duration": 8,
    "start_time": "2022-06-15T11:24:43.490Z"
   },
   {
    "duration": 37,
    "start_time": "2022-06-15T11:24:43.499Z"
   },
   {
    "duration": 7,
    "start_time": "2022-06-15T11:24:43.537Z"
   },
   {
    "duration": 7,
    "start_time": "2022-06-15T11:24:43.546Z"
   },
   {
    "duration": 14,
    "start_time": "2022-06-15T11:24:43.555Z"
   },
   {
    "duration": 6,
    "start_time": "2022-06-15T11:24:43.570Z"
   },
   {
    "duration": 61,
    "start_time": "2022-06-15T11:24:43.578Z"
   },
   {
    "duration": 35,
    "start_time": "2022-06-15T11:24:43.640Z"
   },
   {
    "duration": 11,
    "start_time": "2022-06-15T11:24:43.677Z"
   },
   {
    "duration": 43,
    "start_time": "2022-06-15T11:24:43.690Z"
   },
   {
    "duration": 4,
    "start_time": "2022-06-15T11:24:43.735Z"
   },
   {
    "duration": 106,
    "start_time": "2022-06-15T11:24:43.741Z"
   },
   {
    "duration": 78,
    "start_time": "2022-06-15T11:24:43.848Z"
   },
   {
    "duration": 51,
    "start_time": "2022-06-15T11:24:43.927Z"
   },
   {
    "duration": 10,
    "start_time": "2022-06-15T11:24:43.979Z"
   },
   {
    "duration": 67,
    "start_time": "2022-06-15T11:24:43.991Z"
   },
   {
    "duration": 8,
    "start_time": "2022-06-15T11:24:44.060Z"
   },
   {
    "duration": 36,
    "start_time": "2022-06-15T11:24:44.069Z"
   },
   {
    "duration": 19,
    "start_time": "2022-06-15T11:24:44.107Z"
   },
   {
    "duration": 42,
    "start_time": "2022-06-15T11:24:44.127Z"
   },
   {
    "duration": 76,
    "start_time": "2022-06-15T11:24:44.170Z"
   },
   {
    "duration": 0,
    "start_time": "2022-06-15T11:24:44.248Z"
   },
   {
    "duration": 19,
    "start_time": "2022-06-15T11:25:10.699Z"
   },
   {
    "duration": 46,
    "start_time": "2022-06-15T11:25:32.593Z"
   },
   {
    "duration": 50,
    "start_time": "2022-06-15T11:25:49.104Z"
   },
   {
    "duration": 30,
    "start_time": "2022-06-15T11:25:52.310Z"
   },
   {
    "duration": 9,
    "start_time": "2022-06-15T11:26:15.393Z"
   },
   {
    "duration": 40,
    "start_time": "2022-06-15T11:27:08.420Z"
   },
   {
    "duration": 449,
    "start_time": "2022-06-15T11:27:13.295Z"
   },
   {
    "duration": 1119,
    "start_time": "2022-06-15T11:27:13.745Z"
   },
   {
    "duration": 20,
    "start_time": "2022-06-15T11:27:14.866Z"
   },
   {
    "duration": 15,
    "start_time": "2022-06-15T11:27:14.888Z"
   },
   {
    "duration": 14,
    "start_time": "2022-06-15T11:27:14.905Z"
   },
   {
    "duration": 9,
    "start_time": "2022-06-15T11:27:14.920Z"
   },
   {
    "duration": 10,
    "start_time": "2022-06-15T11:27:14.930Z"
   },
   {
    "duration": 22,
    "start_time": "2022-06-15T11:27:14.941Z"
   },
   {
    "duration": 15,
    "start_time": "2022-06-15T11:27:14.964Z"
   },
   {
    "duration": 12,
    "start_time": "2022-06-15T11:27:14.982Z"
   },
   {
    "duration": 33,
    "start_time": "2022-06-15T11:27:14.996Z"
   },
   {
    "duration": 9,
    "start_time": "2022-06-15T11:27:15.031Z"
   },
   {
    "duration": 12,
    "start_time": "2022-06-15T11:27:15.042Z"
   },
   {
    "duration": 7,
    "start_time": "2022-06-15T11:27:15.056Z"
   },
   {
    "duration": 8,
    "start_time": "2022-06-15T11:27:15.064Z"
   },
   {
    "duration": 14,
    "start_time": "2022-06-15T11:27:15.073Z"
   },
   {
    "duration": 39,
    "start_time": "2022-06-15T11:27:15.088Z"
   },
   {
    "duration": 51,
    "start_time": "2022-06-15T11:27:15.128Z"
   },
   {
    "duration": 34,
    "start_time": "2022-06-15T11:27:15.181Z"
   },
   {
    "duration": 21,
    "start_time": "2022-06-15T11:27:15.216Z"
   },
   {
    "duration": 30,
    "start_time": "2022-06-15T11:27:15.239Z"
   },
   {
    "duration": 6,
    "start_time": "2022-06-15T11:27:15.270Z"
   },
   {
    "duration": 127,
    "start_time": "2022-06-15T11:27:15.277Z"
   },
   {
    "duration": 81,
    "start_time": "2022-06-15T11:27:15.406Z"
   },
   {
    "duration": 60,
    "start_time": "2022-06-15T11:27:15.489Z"
   },
   {
    "duration": 10,
    "start_time": "2022-06-15T11:27:15.550Z"
   },
   {
    "duration": 48,
    "start_time": "2022-06-15T11:27:15.562Z"
   },
   {
    "duration": 9,
    "start_time": "2022-06-15T11:27:15.627Z"
   },
   {
    "duration": 33,
    "start_time": "2022-06-15T11:27:15.637Z"
   },
   {
    "duration": 10,
    "start_time": "2022-06-15T11:27:15.671Z"
   },
   {
    "duration": 65,
    "start_time": "2022-06-15T11:27:15.683Z"
   },
   {
    "duration": 44,
    "start_time": "2022-06-15T11:27:15.750Z"
   },
   {
    "duration": 419,
    "start_time": "2022-06-15T11:27:56.362Z"
   },
   {
    "duration": 1085,
    "start_time": "2022-06-15T11:27:56.783Z"
   },
   {
    "duration": 22,
    "start_time": "2022-06-15T11:27:57.870Z"
   },
   {
    "duration": 17,
    "start_time": "2022-06-15T11:27:57.893Z"
   },
   {
    "duration": 14,
    "start_time": "2022-06-15T11:27:57.913Z"
   },
   {
    "duration": 8,
    "start_time": "2022-06-15T11:27:57.928Z"
   },
   {
    "duration": 10,
    "start_time": "2022-06-15T11:27:57.938Z"
   },
   {
    "duration": 21,
    "start_time": "2022-06-15T11:27:57.949Z"
   },
   {
    "duration": 17,
    "start_time": "2022-06-15T11:27:57.971Z"
   },
   {
    "duration": 37,
    "start_time": "2022-06-15T11:27:57.989Z"
   },
   {
    "duration": 23,
    "start_time": "2022-06-15T11:27:58.028Z"
   },
   {
    "duration": 11,
    "start_time": "2022-06-15T11:27:58.053Z"
   },
   {
    "duration": 12,
    "start_time": "2022-06-15T11:27:58.066Z"
   },
   {
    "duration": 8,
    "start_time": "2022-06-15T11:27:58.081Z"
   },
   {
    "duration": 35,
    "start_time": "2022-06-15T11:27:58.091Z"
   },
   {
    "duration": 12,
    "start_time": "2022-06-15T11:27:58.128Z"
   },
   {
    "duration": 11,
    "start_time": "2022-06-15T11:27:58.142Z"
   },
   {
    "duration": 52,
    "start_time": "2022-06-15T11:27:58.154Z"
   },
   {
    "duration": 38,
    "start_time": "2022-06-15T11:27:58.225Z"
   },
   {
    "duration": 12,
    "start_time": "2022-06-15T11:27:58.264Z"
   },
   {
    "duration": 48,
    "start_time": "2022-06-15T11:27:58.277Z"
   },
   {
    "duration": 5,
    "start_time": "2022-06-15T11:27:58.327Z"
   },
   {
    "duration": 125,
    "start_time": "2022-06-15T11:27:58.334Z"
   },
   {
    "duration": 102,
    "start_time": "2022-06-15T11:27:58.461Z"
   },
   {
    "duration": 62,
    "start_time": "2022-06-15T11:27:58.565Z"
   },
   {
    "duration": 13,
    "start_time": "2022-06-15T11:27:58.628Z"
   },
   {
    "duration": 47,
    "start_time": "2022-06-15T11:27:58.642Z"
   },
   {
    "duration": 8,
    "start_time": "2022-06-15T11:27:58.691Z"
   },
   {
    "duration": 65,
    "start_time": "2022-06-15T11:27:58.700Z"
   },
   {
    "duration": 11,
    "start_time": "2022-06-15T11:27:58.767Z"
   },
   {
    "duration": 60,
    "start_time": "2022-06-15T11:27:58.780Z"
   },
   {
    "duration": 46,
    "start_time": "2022-06-15T11:27:58.843Z"
   },
   {
    "duration": 412,
    "start_time": "2022-06-15T11:30:21.307Z"
   },
   {
    "duration": 1059,
    "start_time": "2022-06-15T11:30:21.720Z"
   },
   {
    "duration": 22,
    "start_time": "2022-06-15T11:30:22.780Z"
   },
   {
    "duration": 17,
    "start_time": "2022-06-15T11:30:22.804Z"
   },
   {
    "duration": 15,
    "start_time": "2022-06-15T11:30:22.823Z"
   },
   {
    "duration": 8,
    "start_time": "2022-06-15T11:30:22.839Z"
   },
   {
    "duration": 11,
    "start_time": "2022-06-15T11:30:22.849Z"
   },
   {
    "duration": 18,
    "start_time": "2022-06-15T11:30:22.862Z"
   },
   {
    "duration": 16,
    "start_time": "2022-06-15T11:30:22.882Z"
   },
   {
    "duration": 31,
    "start_time": "2022-06-15T11:30:22.899Z"
   },
   {
    "duration": 15,
    "start_time": "2022-06-15T11:30:22.932Z"
   },
   {
    "duration": 10,
    "start_time": "2022-06-15T11:30:22.948Z"
   },
   {
    "duration": 13,
    "start_time": "2022-06-15T11:30:22.959Z"
   },
   {
    "duration": 7,
    "start_time": "2022-06-15T11:30:22.976Z"
   },
   {
    "duration": 7,
    "start_time": "2022-06-15T11:30:22.984Z"
   },
   {
    "duration": 46,
    "start_time": "2022-06-15T11:30:22.992Z"
   },
   {
    "duration": 7,
    "start_time": "2022-06-15T11:30:23.040Z"
   },
   {
    "duration": 49,
    "start_time": "2022-06-15T11:30:23.048Z"
   },
   {
    "duration": 46,
    "start_time": "2022-06-15T11:30:23.099Z"
   },
   {
    "duration": 13,
    "start_time": "2022-06-15T11:30:23.146Z"
   },
   {
    "duration": 27,
    "start_time": "2022-06-15T11:30:23.160Z"
   },
   {
    "duration": 5,
    "start_time": "2022-06-15T11:30:23.189Z"
   },
   {
    "duration": 118,
    "start_time": "2022-06-15T11:30:23.195Z"
   },
   {
    "duration": 73,
    "start_time": "2022-06-15T11:30:23.314Z"
   },
   {
    "duration": 60,
    "start_time": "2022-06-15T11:30:23.389Z"
   },
   {
    "duration": 10,
    "start_time": "2022-06-15T11:30:23.450Z"
   },
   {
    "duration": 48,
    "start_time": "2022-06-15T11:30:23.462Z"
   },
   {
    "duration": 19,
    "start_time": "2022-06-15T11:30:23.512Z"
   },
   {
    "duration": 33,
    "start_time": "2022-06-15T11:30:23.533Z"
   },
   {
    "duration": 9,
    "start_time": "2022-06-15T11:30:23.568Z"
   },
   {
    "duration": 61,
    "start_time": "2022-06-15T11:30:23.578Z"
   },
   {
    "duration": 41,
    "start_time": "2022-06-15T11:30:23.641Z"
   },
   {
    "duration": 95,
    "start_time": "2022-06-15T11:30:23.684Z"
   },
   {
    "duration": 0,
    "start_time": "2022-06-15T11:30:23.781Z"
   },
   {
    "duration": 10,
    "start_time": "2022-06-15T11:30:52.253Z"
   },
   {
    "duration": 397,
    "start_time": "2022-06-15T11:31:12.012Z"
   },
   {
    "duration": 338,
    "start_time": "2022-06-15T11:31:12.410Z"
   },
   {
    "duration": 23,
    "start_time": "2022-06-15T11:31:12.750Z"
   },
   {
    "duration": 20,
    "start_time": "2022-06-15T11:31:12.775Z"
   },
   {
    "duration": 14,
    "start_time": "2022-06-15T11:31:12.797Z"
   },
   {
    "duration": 8,
    "start_time": "2022-06-15T11:31:12.812Z"
   },
   {
    "duration": 10,
    "start_time": "2022-06-15T11:31:12.825Z"
   },
   {
    "duration": 17,
    "start_time": "2022-06-15T11:31:12.837Z"
   },
   {
    "duration": 15,
    "start_time": "2022-06-15T11:31:12.856Z"
   },
   {
    "duration": 11,
    "start_time": "2022-06-15T11:31:12.875Z"
   },
   {
    "duration": 38,
    "start_time": "2022-06-15T11:31:12.888Z"
   },
   {
    "duration": 8,
    "start_time": "2022-06-15T11:31:12.928Z"
   },
   {
    "duration": 13,
    "start_time": "2022-06-15T11:31:12.937Z"
   },
   {
    "duration": 8,
    "start_time": "2022-06-15T11:31:12.952Z"
   },
   {
    "duration": 8,
    "start_time": "2022-06-15T11:31:12.961Z"
   },
   {
    "duration": 14,
    "start_time": "2022-06-15T11:31:12.970Z"
   },
   {
    "duration": 7,
    "start_time": "2022-06-15T11:31:12.986Z"
   },
   {
    "duration": 79,
    "start_time": "2022-06-15T11:31:12.994Z"
   },
   {
    "duration": 36,
    "start_time": "2022-06-15T11:31:13.074Z"
   },
   {
    "duration": 25,
    "start_time": "2022-06-15T11:31:13.111Z"
   },
   {
    "duration": 28,
    "start_time": "2022-06-15T11:31:13.138Z"
   },
   {
    "duration": 5,
    "start_time": "2022-06-15T11:31:13.168Z"
   },
   {
    "duration": 118,
    "start_time": "2022-06-15T11:31:13.175Z"
   },
   {
    "duration": 80,
    "start_time": "2022-06-15T11:31:13.295Z"
   },
   {
    "duration": 62,
    "start_time": "2022-06-15T11:31:13.377Z"
   },
   {
    "duration": 12,
    "start_time": "2022-06-15T11:31:13.441Z"
   },
   {
    "duration": 71,
    "start_time": "2022-06-15T11:31:13.454Z"
   },
   {
    "duration": 9,
    "start_time": "2022-06-15T11:31:13.529Z"
   },
   {
    "duration": 36,
    "start_time": "2022-06-15T11:31:13.540Z"
   },
   {
    "duration": 9,
    "start_time": "2022-06-15T11:31:13.578Z"
   },
   {
    "duration": 62,
    "start_time": "2022-06-15T11:31:13.589Z"
   },
   {
    "duration": 47,
    "start_time": "2022-06-15T11:31:13.653Z"
   },
   {
    "duration": 83,
    "start_time": "2022-06-15T11:31:13.701Z"
   },
   {
    "duration": 0,
    "start_time": "2022-06-15T11:31:13.786Z"
   },
   {
    "duration": 10,
    "start_time": "2022-06-15T11:31:26.273Z"
   },
   {
    "duration": 341,
    "start_time": "2022-06-15T11:31:34.957Z"
   },
   {
    "duration": 343,
    "start_time": "2022-06-15T11:31:35.300Z"
   },
   {
    "duration": 20,
    "start_time": "2022-06-15T11:31:35.644Z"
   },
   {
    "duration": 16,
    "start_time": "2022-06-15T11:31:35.666Z"
   },
   {
    "duration": 14,
    "start_time": "2022-06-15T11:31:35.684Z"
   },
   {
    "duration": 8,
    "start_time": "2022-06-15T11:31:35.699Z"
   },
   {
    "duration": 20,
    "start_time": "2022-06-15T11:31:35.709Z"
   },
   {
    "duration": 17,
    "start_time": "2022-06-15T11:31:35.730Z"
   },
   {
    "duration": 17,
    "start_time": "2022-06-15T11:31:35.748Z"
   },
   {
    "duration": 13,
    "start_time": "2022-06-15T11:31:35.768Z"
   },
   {
    "duration": 43,
    "start_time": "2022-06-15T11:31:35.783Z"
   },
   {
    "duration": 9,
    "start_time": "2022-06-15T11:31:35.828Z"
   },
   {
    "duration": 14,
    "start_time": "2022-06-15T11:31:35.839Z"
   },
   {
    "duration": 8,
    "start_time": "2022-06-15T11:31:35.855Z"
   },
   {
    "duration": 7,
    "start_time": "2022-06-15T11:31:35.864Z"
   },
   {
    "duration": 11,
    "start_time": "2022-06-15T11:31:35.873Z"
   },
   {
    "duration": 7,
    "start_time": "2022-06-15T11:31:35.885Z"
   },
   {
    "duration": 78,
    "start_time": "2022-06-15T11:31:35.893Z"
   },
   {
    "duration": 35,
    "start_time": "2022-06-15T11:31:35.973Z"
   },
   {
    "duration": 24,
    "start_time": "2022-06-15T11:31:36.009Z"
   },
   {
    "duration": 28,
    "start_time": "2022-06-15T11:31:36.034Z"
   },
   {
    "duration": 5,
    "start_time": "2022-06-15T11:31:36.064Z"
   },
   {
    "duration": 114,
    "start_time": "2022-06-15T11:31:36.071Z"
   },
   {
    "duration": 83,
    "start_time": "2022-06-15T11:31:36.186Z"
   },
   {
    "duration": 56,
    "start_time": "2022-06-15T11:31:36.270Z"
   },
   {
    "duration": 10,
    "start_time": "2022-06-15T11:31:36.328Z"
   },
   {
    "duration": 48,
    "start_time": "2022-06-15T11:31:36.339Z"
   },
   {
    "duration": 8,
    "start_time": "2022-06-15T11:31:36.390Z"
   },
   {
    "duration": 51,
    "start_time": "2022-06-15T11:31:36.399Z"
   },
   {
    "duration": 9,
    "start_time": "2022-06-15T11:31:36.452Z"
   },
   {
    "duration": 45,
    "start_time": "2022-06-15T11:31:36.463Z"
   },
   {
    "duration": 79,
    "start_time": "2022-06-15T11:31:36.510Z"
   },
   {
    "duration": 94,
    "start_time": "2022-06-15T11:31:36.591Z"
   },
   {
    "duration": 0,
    "start_time": "2022-06-15T11:31:36.687Z"
   },
   {
    "duration": 59,
    "start_time": "2022-06-15T11:32:07.570Z"
   },
   {
    "duration": 122,
    "start_time": "2022-06-15T11:32:21.570Z"
   },
   {
    "duration": 161,
    "start_time": "2022-06-15T11:32:54.303Z"
   },
   {
    "duration": 244,
    "start_time": "2022-06-15T11:34:57.410Z"
   },
   {
    "duration": 187,
    "start_time": "2022-06-15T11:35:13.070Z"
   },
   {
    "duration": 37,
    "start_time": "2022-06-15T11:37:44.146Z"
   },
   {
    "duration": 28,
    "start_time": "2022-06-15T11:38:02.014Z"
   },
   {
    "duration": 13,
    "start_time": "2022-06-15T11:38:55.071Z"
   },
   {
    "duration": 14,
    "start_time": "2022-06-15T11:39:01.071Z"
   },
   {
    "duration": 7,
    "start_time": "2022-06-15T11:39:08.888Z"
   },
   {
    "duration": 11,
    "start_time": "2022-06-15T11:41:45.222Z"
   },
   {
    "duration": 66,
    "start_time": "2022-06-15T11:44:26.444Z"
   },
   {
    "duration": 7,
    "start_time": "2022-06-15T11:44:37.945Z"
   },
   {
    "duration": 6,
    "start_time": "2022-06-15T11:44:45.780Z"
   },
   {
    "duration": 196,
    "start_time": "2022-06-15T11:44:54.956Z"
   },
   {
    "duration": 68,
    "start_time": "2022-06-15T11:44:56.215Z"
   },
   {
    "duration": 418,
    "start_time": "2022-06-15T11:45:09.402Z"
   },
   {
    "duration": 403,
    "start_time": "2022-06-15T11:45:09.822Z"
   },
   {
    "duration": 24,
    "start_time": "2022-06-15T11:45:10.227Z"
   },
   {
    "duration": 30,
    "start_time": "2022-06-15T11:45:10.254Z"
   },
   {
    "duration": 39,
    "start_time": "2022-06-15T11:45:10.286Z"
   },
   {
    "duration": 11,
    "start_time": "2022-06-15T11:45:10.327Z"
   },
   {
    "duration": 12,
    "start_time": "2022-06-15T11:45:10.341Z"
   },
   {
    "duration": 29,
    "start_time": "2022-06-15T11:45:10.355Z"
   },
   {
    "duration": 55,
    "start_time": "2022-06-15T11:45:10.386Z"
   },
   {
    "duration": 15,
    "start_time": "2022-06-15T11:45:10.445Z"
   },
   {
    "duration": 21,
    "start_time": "2022-06-15T11:45:10.463Z"
   },
   {
    "duration": 12,
    "start_time": "2022-06-15T11:45:10.487Z"
   },
   {
    "duration": 23,
    "start_time": "2022-06-15T11:45:10.526Z"
   },
   {
    "duration": 13,
    "start_time": "2022-06-15T11:45:10.551Z"
   },
   {
    "duration": 8,
    "start_time": "2022-06-15T11:45:10.567Z"
   },
   {
    "duration": 18,
    "start_time": "2022-06-15T11:45:10.578Z"
   },
   {
    "duration": 35,
    "start_time": "2022-06-15T11:45:10.598Z"
   },
   {
    "duration": 61,
    "start_time": "2022-06-15T11:45:10.636Z"
   },
   {
    "duration": 71,
    "start_time": "2022-06-15T11:45:10.699Z"
   },
   {
    "duration": 20,
    "start_time": "2022-06-15T11:45:10.772Z"
   },
   {
    "duration": 49,
    "start_time": "2022-06-15T11:45:10.794Z"
   },
   {
    "duration": 6,
    "start_time": "2022-06-15T11:45:10.845Z"
   },
   {
    "duration": 147,
    "start_time": "2022-06-15T11:45:10.853Z"
   },
   {
    "duration": 83,
    "start_time": "2022-06-15T11:45:11.002Z"
   },
   {
    "duration": 58,
    "start_time": "2022-06-15T11:45:11.086Z"
   },
   {
    "duration": 10,
    "start_time": "2022-06-15T11:45:11.146Z"
   },
   {
    "duration": 48,
    "start_time": "2022-06-15T11:45:11.157Z"
   },
   {
    "duration": 13,
    "start_time": "2022-06-15T11:45:11.225Z"
   },
   {
    "duration": 34,
    "start_time": "2022-06-15T11:45:11.239Z"
   },
   {
    "duration": 13,
    "start_time": "2022-06-15T11:45:11.275Z"
   },
   {
    "duration": 75,
    "start_time": "2022-06-15T11:45:11.290Z"
   },
   {
    "duration": 219,
    "start_time": "2022-06-15T11:45:11.367Z"
   },
   {
    "duration": 73,
    "start_time": "2022-06-15T11:45:11.588Z"
   },
   {
    "duration": 7,
    "start_time": "2022-06-15T11:45:11.662Z"
   },
   {
    "duration": 57,
    "start_time": "2022-06-15T11:45:58.123Z"
   },
   {
    "duration": 7,
    "start_time": "2022-06-15T11:47:01.277Z"
   },
   {
    "duration": 8,
    "start_time": "2022-06-15T11:47:10.892Z"
   },
   {
    "duration": 389,
    "start_time": "2022-06-15T11:48:47.116Z"
   },
   {
    "duration": 341,
    "start_time": "2022-06-15T11:48:47.507Z"
   },
   {
    "duration": 20,
    "start_time": "2022-06-15T11:48:47.852Z"
   },
   {
    "duration": 16,
    "start_time": "2022-06-15T11:48:47.875Z"
   },
   {
    "duration": 14,
    "start_time": "2022-06-15T11:48:47.892Z"
   },
   {
    "duration": 9,
    "start_time": "2022-06-15T11:48:47.907Z"
   },
   {
    "duration": 14,
    "start_time": "2022-06-15T11:48:47.917Z"
   },
   {
    "duration": 24,
    "start_time": "2022-06-15T11:48:47.932Z"
   },
   {
    "duration": 28,
    "start_time": "2022-06-15T11:48:47.957Z"
   },
   {
    "duration": 11,
    "start_time": "2022-06-15T11:48:47.986Z"
   },
   {
    "duration": 32,
    "start_time": "2022-06-15T11:48:47.998Z"
   },
   {
    "duration": 9,
    "start_time": "2022-06-15T11:48:48.031Z"
   },
   {
    "duration": 18,
    "start_time": "2022-06-15T11:48:48.043Z"
   },
   {
    "duration": 11,
    "start_time": "2022-06-15T11:48:48.062Z"
   },
   {
    "duration": 14,
    "start_time": "2022-06-15T11:48:48.075Z"
   },
   {
    "duration": 20,
    "start_time": "2022-06-15T11:48:48.090Z"
   },
   {
    "duration": 14,
    "start_time": "2022-06-15T11:48:48.112Z"
   },
   {
    "duration": 59,
    "start_time": "2022-06-15T11:48:48.127Z"
   },
   {
    "duration": 39,
    "start_time": "2022-06-15T11:48:48.188Z"
   },
   {
    "duration": 12,
    "start_time": "2022-06-15T11:48:48.229Z"
   },
   {
    "duration": 28,
    "start_time": "2022-06-15T11:48:48.242Z"
   },
   {
    "duration": 5,
    "start_time": "2022-06-15T11:48:48.271Z"
   },
   {
    "duration": 124,
    "start_time": "2022-06-15T11:48:48.278Z"
   },
   {
    "duration": 91,
    "start_time": "2022-06-15T11:48:48.404Z"
   },
   {
    "duration": 59,
    "start_time": "2022-06-15T11:48:48.497Z"
   },
   {
    "duration": 12,
    "start_time": "2022-06-15T11:48:48.557Z"
   },
   {
    "duration": 62,
    "start_time": "2022-06-15T11:48:48.571Z"
   },
   {
    "duration": 9,
    "start_time": "2022-06-15T11:48:48.635Z"
   },
   {
    "duration": 36,
    "start_time": "2022-06-15T11:48:48.645Z"
   },
   {
    "duration": 10,
    "start_time": "2022-06-15T11:48:48.682Z"
   },
   {
    "duration": 58,
    "start_time": "2022-06-15T11:48:48.693Z"
   },
   {
    "duration": 312,
    "start_time": "2022-06-15T11:48:48.753Z"
   },
   {
    "duration": 88,
    "start_time": "2022-06-15T11:48:49.067Z"
   },
   {
    "duration": 8,
    "start_time": "2022-06-15T11:48:49.156Z"
   },
   {
    "duration": 56,
    "start_time": "2022-06-15T11:49:41.941Z"
   },
   {
    "duration": 7,
    "start_time": "2022-06-15T11:50:05.075Z"
   },
   {
    "duration": 6,
    "start_time": "2022-06-15T11:50:13.387Z"
   },
   {
    "duration": 288,
    "start_time": "2022-06-15T11:50:38.290Z"
   },
   {
    "duration": 87,
    "start_time": "2022-06-15T11:50:45.830Z"
   },
   {
    "duration": 6,
    "start_time": "2022-06-15T11:50:50.781Z"
   },
   {
    "duration": 6,
    "start_time": "2022-06-15T11:50:55.776Z"
   },
   {
    "duration": 394,
    "start_time": "2022-06-15T11:51:01.534Z"
   },
   {
    "duration": 367,
    "start_time": "2022-06-15T11:51:01.930Z"
   },
   {
    "duration": 21,
    "start_time": "2022-06-15T11:51:02.298Z"
   },
   {
    "duration": 17,
    "start_time": "2022-06-15T11:51:02.321Z"
   },
   {
    "duration": 14,
    "start_time": "2022-06-15T11:51:02.339Z"
   },
   {
    "duration": 10,
    "start_time": "2022-06-15T11:51:02.355Z"
   },
   {
    "duration": 15,
    "start_time": "2022-06-15T11:51:02.366Z"
   },
   {
    "duration": 30,
    "start_time": "2022-06-15T11:51:02.382Z"
   },
   {
    "duration": 15,
    "start_time": "2022-06-15T11:51:02.414Z"
   },
   {
    "duration": 14,
    "start_time": "2022-06-15T11:51:02.430Z"
   },
   {
    "duration": 17,
    "start_time": "2022-06-15T11:51:02.446Z"
   },
   {
    "duration": 9,
    "start_time": "2022-06-15T11:51:02.464Z"
   },
   {
    "duration": 19,
    "start_time": "2022-06-15T11:51:02.474Z"
   },
   {
    "duration": 7,
    "start_time": "2022-06-15T11:51:02.496Z"
   },
   {
    "duration": 6,
    "start_time": "2022-06-15T11:51:02.525Z"
   },
   {
    "duration": 14,
    "start_time": "2022-06-15T11:51:02.532Z"
   },
   {
    "duration": 7,
    "start_time": "2022-06-15T11:51:02.548Z"
   },
   {
    "duration": 57,
    "start_time": "2022-06-15T11:51:02.556Z"
   },
   {
    "duration": 40,
    "start_time": "2022-06-15T11:51:02.615Z"
   },
   {
    "duration": 13,
    "start_time": "2022-06-15T11:51:02.657Z"
   },
   {
    "duration": 28,
    "start_time": "2022-06-15T11:51:02.672Z"
   },
   {
    "duration": 25,
    "start_time": "2022-06-15T11:51:02.701Z"
   },
   {
    "duration": 118,
    "start_time": "2022-06-15T11:51:02.728Z"
   },
   {
    "duration": 78,
    "start_time": "2022-06-15T11:51:02.848Z"
   },
   {
    "duration": 55,
    "start_time": "2022-06-15T11:51:02.928Z"
   },
   {
    "duration": 10,
    "start_time": "2022-06-15T11:51:02.984Z"
   },
   {
    "duration": 69,
    "start_time": "2022-06-15T11:51:02.995Z"
   },
   {
    "duration": 8,
    "start_time": "2022-06-15T11:51:03.066Z"
   },
   {
    "duration": 37,
    "start_time": "2022-06-15T11:51:03.076Z"
   },
   {
    "duration": 19,
    "start_time": "2022-06-15T11:51:03.114Z"
   },
   {
    "duration": 40,
    "start_time": "2022-06-15T11:51:03.134Z"
   },
   {
    "duration": 302,
    "start_time": "2022-06-15T11:51:03.175Z"
   },
   {
    "duration": 165,
    "start_time": "2022-06-15T11:51:03.479Z"
   },
   {
    "duration": 8,
    "start_time": "2022-06-15T11:51:03.646Z"
   },
   {
    "duration": 49,
    "start_time": "2022-06-15T15:08:54.085Z"
   },
   {
    "duration": 416,
    "start_time": "2022-06-15T15:09:03.222Z"
   },
   {
    "duration": 1225,
    "start_time": "2022-06-15T15:09:03.640Z"
   },
   {
    "duration": 29,
    "start_time": "2022-06-15T15:09:04.867Z"
   },
   {
    "duration": 33,
    "start_time": "2022-06-15T15:09:04.898Z"
   },
   {
    "duration": 35,
    "start_time": "2022-06-15T15:09:04.933Z"
   },
   {
    "duration": 20,
    "start_time": "2022-06-15T15:09:04.969Z"
   },
   {
    "duration": 37,
    "start_time": "2022-06-15T15:09:04.991Z"
   },
   {
    "duration": 29,
    "start_time": "2022-06-15T15:09:05.030Z"
   },
   {
    "duration": 37,
    "start_time": "2022-06-15T15:09:05.062Z"
   },
   {
    "duration": 14,
    "start_time": "2022-06-15T15:09:05.100Z"
   },
   {
    "duration": 47,
    "start_time": "2022-06-15T15:09:05.116Z"
   },
   {
    "duration": 11,
    "start_time": "2022-06-15T15:09:05.165Z"
   },
   {
    "duration": 38,
    "start_time": "2022-06-15T15:09:05.178Z"
   },
   {
    "duration": 21,
    "start_time": "2022-06-15T15:09:05.219Z"
   },
   {
    "duration": 24,
    "start_time": "2022-06-15T15:09:05.242Z"
   },
   {
    "duration": 35,
    "start_time": "2022-06-15T15:09:05.268Z"
   },
   {
    "duration": 15,
    "start_time": "2022-06-15T15:09:05.305Z"
   },
   {
    "duration": 86,
    "start_time": "2022-06-15T15:09:05.321Z"
   },
   {
    "duration": 43,
    "start_time": "2022-06-15T15:09:05.409Z"
   },
   {
    "duration": 17,
    "start_time": "2022-06-15T15:09:05.458Z"
   },
   {
    "duration": 45,
    "start_time": "2022-06-15T15:09:05.477Z"
   },
   {
    "duration": 6,
    "start_time": "2022-06-15T15:09:05.525Z"
   },
   {
    "duration": 150,
    "start_time": "2022-06-15T15:09:05.533Z"
   },
   {
    "duration": 102,
    "start_time": "2022-06-15T15:09:05.685Z"
   },
   {
    "duration": 72,
    "start_time": "2022-06-15T15:09:05.789Z"
   },
   {
    "duration": 11,
    "start_time": "2022-06-15T15:09:05.863Z"
   },
   {
    "duration": 107,
    "start_time": "2022-06-15T15:09:05.876Z"
   },
   {
    "duration": 0,
    "start_time": "2022-06-15T15:09:05.984Z"
   },
   {
    "duration": 0,
    "start_time": "2022-06-15T15:09:05.985Z"
   },
   {
    "duration": 0,
    "start_time": "2022-06-15T15:09:05.986Z"
   },
   {
    "duration": 0,
    "start_time": "2022-06-15T15:09:05.987Z"
   },
   {
    "duration": 0,
    "start_time": "2022-06-15T15:09:05.988Z"
   },
   {
    "duration": 81,
    "start_time": "2022-06-15T15:11:18.260Z"
   },
   {
    "duration": 13,
    "start_time": "2022-06-15T15:11:46.206Z"
   },
   {
    "duration": 11,
    "start_time": "2022-06-15T15:11:59.152Z"
   },
   {
    "duration": 393,
    "start_time": "2022-06-15T15:12:07.681Z"
   },
   {
    "duration": 435,
    "start_time": "2022-06-15T15:12:08.076Z"
   },
   {
    "duration": 28,
    "start_time": "2022-06-15T15:12:08.513Z"
   },
   {
    "duration": 21,
    "start_time": "2022-06-15T15:12:08.542Z"
   },
   {
    "duration": 18,
    "start_time": "2022-06-15T15:12:08.566Z"
   },
   {
    "duration": 10,
    "start_time": "2022-06-15T15:12:08.586Z"
   },
   {
    "duration": 11,
    "start_time": "2022-06-15T15:12:08.597Z"
   },
   {
    "duration": 19,
    "start_time": "2022-06-15T15:12:08.610Z"
   },
   {
    "duration": 43,
    "start_time": "2022-06-15T15:12:08.630Z"
   },
   {
    "duration": 14,
    "start_time": "2022-06-15T15:12:08.675Z"
   },
   {
    "duration": 21,
    "start_time": "2022-06-15T15:12:08.690Z"
   },
   {
    "duration": 10,
    "start_time": "2022-06-15T15:12:08.713Z"
   },
   {
    "duration": 43,
    "start_time": "2022-06-15T15:12:08.724Z"
   },
   {
    "duration": 8,
    "start_time": "2022-06-15T15:12:08.770Z"
   },
   {
    "duration": 24,
    "start_time": "2022-06-15T15:12:08.779Z"
   },
   {
    "duration": 19,
    "start_time": "2022-06-15T15:12:08.804Z"
   },
   {
    "duration": 8,
    "start_time": "2022-06-15T15:12:08.825Z"
   },
   {
    "duration": 75,
    "start_time": "2022-06-15T15:12:08.835Z"
   },
   {
    "duration": 56,
    "start_time": "2022-06-15T15:12:08.912Z"
   },
   {
    "duration": 14,
    "start_time": "2022-06-15T15:12:08.970Z"
   },
   {
    "duration": 35,
    "start_time": "2022-06-15T15:12:08.986Z"
   },
   {
    "duration": 6,
    "start_time": "2022-06-15T15:12:09.023Z"
   },
   {
    "duration": 160,
    "start_time": "2022-06-15T15:12:09.030Z"
   },
   {
    "duration": 125,
    "start_time": "2022-06-15T15:12:09.192Z"
   },
   {
    "duration": 70,
    "start_time": "2022-06-15T15:12:09.319Z"
   },
   {
    "duration": 12,
    "start_time": "2022-06-15T15:12:09.390Z"
   },
   {
    "duration": 82,
    "start_time": "2022-06-15T15:12:09.404Z"
   },
   {
    "duration": 11,
    "start_time": "2022-06-15T15:12:09.488Z"
   },
   {
    "duration": 39,
    "start_time": "2022-06-15T15:12:09.501Z"
   },
   {
    "duration": 27,
    "start_time": "2022-06-15T15:12:09.542Z"
   },
   {
    "duration": 51,
    "start_time": "2022-06-15T15:12:09.571Z"
   },
   {
    "duration": 8,
    "start_time": "2022-06-15T15:12:09.624Z"
   },
   {
    "duration": 51,
    "start_time": "2022-06-15T15:17:14.096Z"
   },
   {
    "duration": 41,
    "start_time": "2022-06-15T15:17:43.969Z"
   },
   {
    "duration": 19,
    "start_time": "2022-06-15T15:18:33.828Z"
   },
   {
    "duration": 82,
    "start_time": "2022-06-15T15:19:44.278Z"
   },
   {
    "duration": 71,
    "start_time": "2022-06-15T15:20:10.202Z"
   },
   {
    "duration": 71,
    "start_time": "2022-06-15T15:20:24.650Z"
   },
   {
    "duration": 35,
    "start_time": "2022-06-15T15:21:04.221Z"
   },
   {
    "duration": 33,
    "start_time": "2022-06-15T15:23:18.494Z"
   },
   {
    "duration": 26,
    "start_time": "2022-06-15T15:23:27.702Z"
   },
   {
    "duration": 31,
    "start_time": "2022-06-15T15:23:30.441Z"
   },
   {
    "duration": 27,
    "start_time": "2022-06-15T15:23:55.512Z"
   },
   {
    "duration": 38,
    "start_time": "2022-06-15T15:24:59.291Z"
   },
   {
    "duration": 11,
    "start_time": "2022-06-15T15:27:00.885Z"
   },
   {
    "duration": 14,
    "start_time": "2022-06-15T15:27:25.211Z"
   },
   {
    "duration": 6,
    "start_time": "2022-06-15T15:27:25.862Z"
   },
   {
    "duration": 8,
    "start_time": "2022-06-15T15:27:26.517Z"
   },
   {
    "duration": 6,
    "start_time": "2022-06-15T15:27:27.102Z"
   },
   {
    "duration": 19,
    "start_time": "2022-06-15T15:27:27.701Z"
   },
   {
    "duration": 6,
    "start_time": "2022-06-15T15:27:28.238Z"
   },
   {
    "duration": 6,
    "start_time": "2022-06-15T15:27:29.819Z"
   },
   {
    "duration": 5,
    "start_time": "2022-06-15T15:27:30.616Z"
   },
   {
    "duration": 13,
    "start_time": "2022-06-15T15:27:33.135Z"
   },
   {
    "duration": 569,
    "start_time": "2022-06-15T15:27:51.006Z"
   },
   {
    "duration": 5,
    "start_time": "2022-06-15T15:27:51.871Z"
   },
   {
    "duration": 6,
    "start_time": "2022-06-15T15:28:03.071Z"
   },
   {
    "duration": 4,
    "start_time": "2022-06-15T15:28:04.704Z"
   },
   {
    "duration": 130,
    "start_time": "2022-06-15T15:28:06.519Z"
   },
   {
    "duration": 85,
    "start_time": "2022-06-15T15:28:19.400Z"
   },
   {
    "duration": 60,
    "start_time": "2022-06-15T15:28:20.013Z"
   },
   {
    "duration": 12,
    "start_time": "2022-06-15T15:28:20.656Z"
   },
   {
    "duration": 45,
    "start_time": "2022-06-15T15:28:23.944Z"
   },
   {
    "duration": 11,
    "start_time": "2022-06-15T15:28:26.360Z"
   },
   {
    "duration": 23,
    "start_time": "2022-06-15T15:28:34.883Z"
   },
   {
    "duration": 36,
    "start_time": "2022-06-15T15:28:42.762Z"
   },
   {
    "duration": 12,
    "start_time": "2022-06-15T15:28:48.619Z"
   },
   {
    "duration": 45,
    "start_time": "2022-06-15T15:28:51.371Z"
   },
   {
    "duration": 35,
    "start_time": "2022-06-15T15:28:53.755Z"
   },
   {
    "duration": 47,
    "start_time": "2022-06-15T15:31:01.725Z"
   },
   {
    "duration": 9,
    "start_time": "2022-06-15T15:32:48.451Z"
   },
   {
    "duration": 7,
    "start_time": "2022-06-15T15:32:55.962Z"
   },
   {
    "duration": 2,
    "start_time": "2022-06-15T15:34:08.118Z"
   },
   {
    "duration": 401,
    "start_time": "2022-06-15T15:34:09.046Z"
   },
   {
    "duration": 28,
    "start_time": "2022-06-15T15:34:10.216Z"
   },
   {
    "duration": 23,
    "start_time": "2022-06-15T15:34:10.982Z"
   },
   {
    "duration": 26,
    "start_time": "2022-06-15T15:34:11.678Z"
   },
   {
    "duration": 12,
    "start_time": "2022-06-15T15:34:12.280Z"
   },
   {
    "duration": 12,
    "start_time": "2022-06-15T15:34:12.870Z"
   },
   {
    "duration": 13,
    "start_time": "2022-06-15T15:34:15.570Z"
   },
   {
    "duration": 20,
    "start_time": "2022-06-15T15:34:22.448Z"
   },
   {
    "duration": 16,
    "start_time": "2022-06-15T15:34:23.128Z"
   },
   {
    "duration": 24,
    "start_time": "2022-06-15T15:34:23.754Z"
   },
   {
    "duration": 15,
    "start_time": "2022-06-15T15:34:32.160Z"
   },
   {
    "duration": 16,
    "start_time": "2022-06-15T15:34:33.420Z"
   },
   {
    "duration": 8,
    "start_time": "2022-06-15T15:34:34.368Z"
   },
   {
    "duration": 7,
    "start_time": "2022-06-15T15:34:35.372Z"
   },
   {
    "duration": 16,
    "start_time": "2022-06-15T15:34:36.401Z"
   },
   {
    "duration": 7,
    "start_time": "2022-06-15T15:34:47.616Z"
   },
   {
    "duration": 57,
    "start_time": "2022-06-15T15:34:50.048Z"
   },
   {
    "duration": 42,
    "start_time": "2022-06-15T15:34:51.002Z"
   },
   {
    "duration": 14,
    "start_time": "2022-06-15T15:34:54.137Z"
   },
   {
    "duration": 38,
    "start_time": "2022-06-15T15:34:56.825Z"
   },
   {
    "duration": 6,
    "start_time": "2022-06-15T15:34:57.321Z"
   },
   {
    "duration": 108,
    "start_time": "2022-06-15T15:34:59.104Z"
   },
   {
    "duration": 82,
    "start_time": "2022-06-15T15:34:59.978Z"
   },
   {
    "duration": 62,
    "start_time": "2022-06-15T15:35:01.595Z"
   },
   {
    "duration": 13,
    "start_time": "2022-06-15T15:35:02.386Z"
   },
   {
    "duration": 48,
    "start_time": "2022-06-15T15:35:07.490Z"
   },
   {
    "duration": 10,
    "start_time": "2022-06-15T15:35:09.072Z"
   },
   {
    "duration": 36,
    "start_time": "2022-06-15T15:35:09.658Z"
   },
   {
    "duration": 8,
    "start_time": "2022-06-15T15:35:12.868Z"
   },
   {
    "duration": 13,
    "start_time": "2022-06-15T15:36:09.797Z"
   },
   {
    "duration": 34,
    "start_time": "2022-06-15T15:36:59.693Z"
   },
   {
    "duration": 44,
    "start_time": "2022-06-15T15:37:06.024Z"
   },
   {
    "duration": 47,
    "start_time": "2022-06-15T15:37:37.535Z"
   },
   {
    "duration": 46,
    "start_time": "2022-06-15T15:37:51.213Z"
   },
   {
    "duration": 47,
    "start_time": "2022-06-15T15:38:45.929Z"
   },
   {
    "duration": 36,
    "start_time": "2022-06-15T15:41:01.195Z"
   },
   {
    "duration": 46,
    "start_time": "2022-06-15T15:41:23.378Z"
   },
   {
    "duration": 52,
    "start_time": "2022-06-15T15:41:30.307Z"
   },
   {
    "duration": 50,
    "start_time": "2022-06-15T15:43:28.850Z"
   },
   {
    "duration": 44,
    "start_time": "2022-06-15T15:43:52.854Z"
   },
   {
    "duration": 7,
    "start_time": "2022-06-15T15:44:36.670Z"
   },
   {
    "duration": 5,
    "start_time": "2022-06-15T15:44:51.031Z"
   },
   {
    "duration": 9,
    "start_time": "2022-06-15T15:45:01.111Z"
   },
   {
    "duration": 8,
    "start_time": "2022-06-15T15:45:08.416Z"
   },
   {
    "duration": 5,
    "start_time": "2022-06-15T15:45:15.553Z"
   },
   {
    "duration": 4,
    "start_time": "2022-06-15T15:45:26.625Z"
   },
   {
    "duration": 5,
    "start_time": "2022-06-15T15:48:06.292Z"
   },
   {
    "duration": 8,
    "start_time": "2022-06-15T15:48:15.228Z"
   },
   {
    "duration": 4,
    "start_time": "2022-06-15T15:48:22.653Z"
   },
   {
    "duration": 67,
    "start_time": "2022-06-15T15:48:40.001Z"
   },
   {
    "duration": 5,
    "start_time": "2022-06-15T15:48:44.343Z"
   },
   {
    "duration": 5,
    "start_time": "2022-06-15T15:48:57.367Z"
   },
   {
    "duration": 468,
    "start_time": "2022-06-15T15:57:07.678Z"
   },
   {
    "duration": 463,
    "start_time": "2022-06-15T15:57:30.440Z"
   },
   {
    "duration": 411,
    "start_time": "2022-06-15T15:57:49.945Z"
   },
   {
    "duration": 45,
    "start_time": "2022-06-15T16:11:11.366Z"
   },
   {
    "duration": 503,
    "start_time": "2022-06-15T16:14:08.971Z"
   },
   {
    "duration": 418,
    "start_time": "2022-06-15T16:14:23.771Z"
   },
   {
    "duration": 536,
    "start_time": "2022-06-15T16:14:51.730Z"
   },
   {
    "duration": 23,
    "start_time": "2022-06-15T16:17:55.958Z"
   },
   {
    "duration": 29,
    "start_time": "2022-06-15T16:19:05.518Z"
   },
   {
    "duration": 38,
    "start_time": "2022-06-15T16:20:17.408Z"
   },
   {
    "duration": 32,
    "start_time": "2022-06-15T16:20:30.306Z"
   },
   {
    "duration": 44,
    "start_time": "2022-06-15T16:21:01.994Z"
   },
   {
    "duration": 44,
    "start_time": "2022-06-15T16:22:11.439Z"
   },
   {
    "duration": 48,
    "start_time": "2022-06-15T16:22:50.889Z"
   },
   {
    "duration": 62,
    "start_time": "2022-06-15T16:23:06.251Z"
   },
   {
    "duration": 57,
    "start_time": "2022-06-15T16:23:32.740Z"
   },
   {
    "duration": 57,
    "start_time": "2022-06-15T16:36:28.669Z"
   },
   {
    "duration": 31,
    "start_time": "2022-06-15T16:37:28.586Z"
   },
   {
    "duration": 51,
    "start_time": "2022-06-15T16:38:08.083Z"
   },
   {
    "duration": 7,
    "start_time": "2022-06-15T16:42:30.443Z"
   },
   {
    "duration": 12,
    "start_time": "2022-06-15T16:42:49.139Z"
   },
   {
    "duration": 4,
    "start_time": "2022-06-15T16:43:06.869Z"
   },
   {
    "duration": 1232,
    "start_time": "2022-06-15T16:43:07.339Z"
   },
   {
    "duration": 29,
    "start_time": "2022-06-15T16:43:08.573Z"
   },
   {
    "duration": 23,
    "start_time": "2022-06-15T16:43:08.603Z"
   },
   {
    "duration": 20,
    "start_time": "2022-06-15T16:43:08.739Z"
   },
   {
    "duration": 11,
    "start_time": "2022-06-15T16:43:09.421Z"
   },
   {
    "duration": 12,
    "start_time": "2022-06-15T16:43:10.206Z"
   },
   {
    "duration": 11,
    "start_time": "2022-06-15T16:43:12.510Z"
   },
   {
    "duration": 36,
    "start_time": "2022-06-15T16:43:13.263Z"
   },
   {
    "duration": 18,
    "start_time": "2022-06-15T16:43:13.998Z"
   },
   {
    "duration": 19,
    "start_time": "2022-06-15T16:43:14.702Z"
   },
   {
    "duration": 12,
    "start_time": "2022-06-15T16:43:15.302Z"
   },
   {
    "duration": 15,
    "start_time": "2022-06-15T16:43:15.901Z"
   },
   {
    "duration": 8,
    "start_time": "2022-06-15T16:43:16.718Z"
   },
   {
    "duration": 6,
    "start_time": "2022-06-15T16:43:17.302Z"
   },
   {
    "duration": 13,
    "start_time": "2022-06-15T16:43:18.142Z"
   },
   {
    "duration": 6,
    "start_time": "2022-06-15T16:43:18.750Z"
   },
   {
    "duration": 56,
    "start_time": "2022-06-15T16:43:20.598Z"
   },
   {
    "duration": 56,
    "start_time": "2022-06-15T16:43:21.478Z"
   },
   {
    "duration": 36,
    "start_time": "2022-06-15T16:43:22.741Z"
   },
   {
    "duration": 17,
    "start_time": "2022-06-15T16:46:28.958Z"
   },
   {
    "duration": 13,
    "start_time": "2022-06-15T16:47:18.975Z"
   },
   {
    "duration": 50,
    "start_time": "2022-06-15T16:47:33.998Z"
   },
   {
    "duration": 19,
    "start_time": "2022-06-15T16:47:39.263Z"
   },
   {
    "duration": 56,
    "start_time": "2022-06-15T16:47:42.931Z"
   },
   {
    "duration": 13,
    "start_time": "2022-06-15T16:47:47.688Z"
   },
   {
    "duration": 21,
    "start_time": "2022-06-15T16:48:19.809Z"
   },
   {
    "duration": 36,
    "start_time": "2022-06-15T16:48:34.585Z"
   },
   {
    "duration": 130,
    "start_time": "2022-06-15T16:51:29.422Z"
   },
   {
    "duration": 18,
    "start_time": "2022-06-15T16:53:01.779Z"
   },
   {
    "duration": 792,
    "start_time": "2022-06-15T16:53:10.765Z"
   },
   {
    "duration": 18,
    "start_time": "2022-06-15T16:56:38.864Z"
   },
   {
    "duration": 62,
    "start_time": "2022-06-15T16:58:16.680Z"
   },
   {
    "duration": 13,
    "start_time": "2022-06-15T16:58:43.851Z"
   },
   {
    "duration": 13,
    "start_time": "2022-06-15T16:59:00.491Z"
   },
   {
    "duration": 10,
    "start_time": "2022-06-15T16:59:42.684Z"
   },
   {
    "duration": 26,
    "start_time": "2022-06-15T17:00:10.750Z"
   },
   {
    "duration": 15,
    "start_time": "2022-06-15T17:00:44.521Z"
   },
   {
    "duration": 28,
    "start_time": "2022-06-15T17:01:05.339Z"
   },
   {
    "duration": 14,
    "start_time": "2022-06-15T17:01:28.173Z"
   },
   {
    "duration": 10,
    "start_time": "2022-06-15T17:03:38.822Z"
   },
   {
    "duration": 9,
    "start_time": "2022-06-15T17:04:06.991Z"
   },
   {
    "duration": 9,
    "start_time": "2022-06-15T17:04:20.139Z"
   },
   {
    "duration": 34,
    "start_time": "2022-06-15T17:04:31.921Z"
   },
   {
    "duration": 36,
    "start_time": "2022-06-15T17:04:45.539Z"
   },
   {
    "duration": 4,
    "start_time": "2022-06-15T17:05:31.356Z"
   },
   {
    "duration": 97,
    "start_time": "2022-06-15T17:06:38.096Z"
   },
   {
    "duration": 120,
    "start_time": "2022-06-15T17:06:50.401Z"
   },
   {
    "duration": 33,
    "start_time": "2022-06-15T17:07:00.018Z"
   },
   {
    "duration": 22,
    "start_time": "2022-06-15T17:10:38.570Z"
   },
   {
    "duration": 87,
    "start_time": "2022-06-15T17:11:21.937Z"
   },
   {
    "duration": 32,
    "start_time": "2022-06-15T17:12:57.605Z"
   },
   {
    "duration": 19,
    "start_time": "2022-06-15T17:14:12.325Z"
   },
   {
    "duration": 64,
    "start_time": "2022-06-15T17:14:38.502Z"
   },
   {
    "duration": 42,
    "start_time": "2022-06-15T17:15:04.511Z"
   },
   {
    "duration": 69,
    "start_time": "2022-06-15T17:15:22.869Z"
   },
   {
    "duration": 19,
    "start_time": "2022-06-15T17:15:24.489Z"
   },
   {
    "duration": 462,
    "start_time": "2022-06-15T17:15:35.730Z"
   },
   {
    "duration": 527,
    "start_time": "2022-06-15T17:15:36.194Z"
   },
   {
    "duration": 27,
    "start_time": "2022-06-15T17:15:36.723Z"
   },
   {
    "duration": 60,
    "start_time": "2022-06-15T17:15:36.751Z"
   },
   {
    "duration": 29,
    "start_time": "2022-06-15T17:15:36.813Z"
   },
   {
    "duration": 69,
    "start_time": "2022-06-15T17:15:36.844Z"
   },
   {
    "duration": 16,
    "start_time": "2022-06-15T17:15:36.915Z"
   },
   {
    "duration": 43,
    "start_time": "2022-06-15T17:15:36.933Z"
   },
   {
    "duration": 40,
    "start_time": "2022-06-15T17:15:36.979Z"
   },
   {
    "duration": 15,
    "start_time": "2022-06-15T17:15:37.020Z"
   },
   {
    "duration": 43,
    "start_time": "2022-06-15T17:15:37.037Z"
   },
   {
    "duration": 38,
    "start_time": "2022-06-15T17:15:37.082Z"
   },
   {
    "duration": 24,
    "start_time": "2022-06-15T17:15:37.123Z"
   },
   {
    "duration": 31,
    "start_time": "2022-06-15T17:15:37.150Z"
   },
   {
    "duration": 24,
    "start_time": "2022-06-15T17:15:37.186Z"
   },
   {
    "duration": 35,
    "start_time": "2022-06-15T17:15:37.212Z"
   },
   {
    "duration": 49,
    "start_time": "2022-06-15T17:15:37.249Z"
   },
   {
    "duration": 92,
    "start_time": "2022-06-15T17:15:37.300Z"
   },
   {
    "duration": 45,
    "start_time": "2022-06-15T17:15:37.394Z"
   },
   {
    "duration": 49,
    "start_time": "2022-06-15T17:15:37.442Z"
   },
   {
    "duration": 39,
    "start_time": "2022-06-15T17:15:37.494Z"
   },
   {
    "duration": 6,
    "start_time": "2022-06-15T17:15:37.535Z"
   },
   {
    "duration": 48,
    "start_time": "2022-06-15T17:15:37.543Z"
   },
   {
    "duration": 142,
    "start_time": "2022-06-15T17:15:37.593Z"
   },
   {
    "duration": 843,
    "start_time": "2022-06-15T17:15:37.736Z"
   },
   {
    "duration": 93,
    "start_time": "2022-06-15T17:15:38.581Z"
   },
   {
    "duration": 21,
    "start_time": "2022-06-15T17:15:38.676Z"
   },
   {
    "duration": 20,
    "start_time": "2022-06-15T17:15:38.699Z"
   },
   {
    "duration": 69,
    "start_time": "2022-06-15T17:15:38.721Z"
   },
   {
    "duration": 31,
    "start_time": "2022-06-15T17:15:38.793Z"
   },
   {
    "duration": 17,
    "start_time": "2022-06-15T17:15:38.826Z"
   },
   {
    "duration": 54,
    "start_time": "2022-06-15T17:15:38.845Z"
   },
   {
    "duration": 30,
    "start_time": "2022-06-15T17:15:38.901Z"
   },
   {
    "duration": 4,
    "start_time": "2022-06-15T17:15:38.933Z"
   },
   {
    "duration": 164,
    "start_time": "2022-06-15T17:15:38.939Z"
   },
   {
    "duration": 24,
    "start_time": "2022-06-15T17:15:39.105Z"
   },
   {
    "duration": 17,
    "start_time": "2022-06-15T17:16:05.028Z"
   },
   {
    "duration": 16,
    "start_time": "2022-06-15T17:16:07.788Z"
   },
   {
    "duration": 19,
    "start_time": "2022-06-15T17:16:39.502Z"
   },
   {
    "duration": 15,
    "start_time": "2022-06-15T17:17:01.223Z"
   },
   {
    "duration": 51,
    "start_time": "2022-06-16T19:32:43.766Z"
   },
   {
    "duration": 403,
    "start_time": "2022-06-16T19:32:50.056Z"
   },
   {
    "duration": 914,
    "start_time": "2022-06-16T19:32:50.461Z"
   },
   {
    "duration": 25,
    "start_time": "2022-06-16T19:32:51.377Z"
   },
   {
    "duration": 20,
    "start_time": "2022-06-16T19:32:51.403Z"
   },
   {
    "duration": 17,
    "start_time": "2022-06-16T19:32:51.425Z"
   },
   {
    "duration": 17,
    "start_time": "2022-06-16T19:32:51.443Z"
   },
   {
    "duration": 12,
    "start_time": "2022-06-16T19:32:51.462Z"
   },
   {
    "duration": 19,
    "start_time": "2022-06-16T19:32:51.475Z"
   },
   {
    "duration": 19,
    "start_time": "2022-06-16T19:32:51.495Z"
   },
   {
    "duration": 13,
    "start_time": "2022-06-16T19:32:51.516Z"
   },
   {
    "duration": 40,
    "start_time": "2022-06-16T19:32:51.531Z"
   },
   {
    "duration": 9,
    "start_time": "2022-06-16T19:32:51.573Z"
   },
   {
    "duration": 15,
    "start_time": "2022-06-16T19:32:51.584Z"
   },
   {
    "duration": 7,
    "start_time": "2022-06-16T19:32:51.601Z"
   },
   {
    "duration": 6,
    "start_time": "2022-06-16T19:32:51.610Z"
   },
   {
    "duration": 13,
    "start_time": "2022-06-16T19:32:51.618Z"
   },
   {
    "duration": 7,
    "start_time": "2022-06-16T19:32:51.659Z"
   },
   {
    "duration": 58,
    "start_time": "2022-06-16T19:32:51.667Z"
   },
   {
    "duration": 54,
    "start_time": "2022-06-16T19:32:51.726Z"
   },
   {
    "duration": 24,
    "start_time": "2022-06-16T19:32:51.782Z"
   },
   {
    "duration": 31,
    "start_time": "2022-06-16T19:32:51.807Z"
   },
   {
    "duration": 22,
    "start_time": "2022-06-16T19:32:51.839Z"
   },
   {
    "duration": 17,
    "start_time": "2022-06-16T19:32:51.862Z"
   },
   {
    "duration": 117,
    "start_time": "2022-06-16T19:32:51.881Z"
   },
   {
    "duration": 695,
    "start_time": "2022-06-16T19:32:52.000Z"
   },
   {
    "duration": 76,
    "start_time": "2022-06-16T19:32:52.696Z"
   },
   {
    "duration": 16,
    "start_time": "2022-06-16T19:32:52.773Z"
   },
   {
    "duration": 11,
    "start_time": "2022-06-16T19:32:52.792Z"
   },
   {
    "duration": 25,
    "start_time": "2022-06-16T19:32:52.804Z"
   },
   {
    "duration": 94,
    "start_time": "2022-06-16T19:32:52.831Z"
   },
   {
    "duration": 0,
    "start_time": "2022-06-16T19:32:52.927Z"
   },
   {
    "duration": 0,
    "start_time": "2022-06-16T19:32:52.929Z"
   },
   {
    "duration": 0,
    "start_time": "2022-06-16T19:32:52.930Z"
   },
   {
    "duration": 0,
    "start_time": "2022-06-16T19:32:52.932Z"
   },
   {
    "duration": 0,
    "start_time": "2022-06-16T19:32:52.933Z"
   },
   {
    "duration": 0,
    "start_time": "2022-06-16T19:32:52.934Z"
   },
   {
    "duration": 0,
    "start_time": "2022-06-16T19:32:52.936Z"
   },
   {
    "duration": 21,
    "start_time": "2022-06-16T19:33:10.928Z"
   },
   {
    "duration": 12,
    "start_time": "2022-06-16T19:33:13.107Z"
   },
   {
    "duration": 27,
    "start_time": "2022-06-16T19:33:17.167Z"
   },
   {
    "duration": 21,
    "start_time": "2022-06-16T19:33:19.828Z"
   },
   {
    "duration": 3,
    "start_time": "2022-06-16T19:33:22.516Z"
   },
   {
    "duration": 105,
    "start_time": "2022-06-16T19:33:24.847Z"
   },
   {
    "duration": 20,
    "start_time": "2022-06-16T19:33:29.847Z"
   },
   {
    "duration": 12,
    "start_time": "2022-06-16T19:33:38.190Z"
   },
   {
    "duration": 10,
    "start_time": "2022-06-16T19:33:53.347Z"
   },
   {
    "duration": 22,
    "start_time": "2022-06-16T19:35:53.054Z"
   },
   {
    "duration": 18,
    "start_time": "2022-06-16T19:36:07.586Z"
   },
   {
    "duration": 8,
    "start_time": "2022-06-16T19:39:13.526Z"
   },
   {
    "duration": 290,
    "start_time": "2022-06-16T19:39:34.837Z"
   },
   {
    "duration": 335,
    "start_time": "2022-06-16T19:41:37.889Z"
   },
   {
    "duration": 176,
    "start_time": "2022-06-16T19:41:49.877Z"
   },
   {
    "duration": 239,
    "start_time": "2022-06-16T19:43:03.607Z"
   },
   {
    "duration": 255,
    "start_time": "2022-06-16T19:43:30.126Z"
   },
   {
    "duration": 23,
    "start_time": "2022-06-16T19:45:22.607Z"
   },
   {
    "duration": 25,
    "start_time": "2022-06-16T19:45:23.766Z"
   },
   {
    "duration": 260,
    "start_time": "2022-06-16T19:45:25.676Z"
   },
   {
    "duration": 267,
    "start_time": "2022-06-16T19:46:00.026Z"
   },
   {
    "duration": 331,
    "start_time": "2022-06-16T19:46:10.226Z"
   },
   {
    "duration": 260,
    "start_time": "2022-06-16T19:46:19.086Z"
   },
   {
    "duration": 18,
    "start_time": "2022-06-16T19:47:20.326Z"
   },
   {
    "duration": 18,
    "start_time": "2022-06-16T19:47:21.034Z"
   },
   {
    "duration": 293,
    "start_time": "2022-06-16T19:47:45.246Z"
   },
   {
    "duration": 258,
    "start_time": "2022-06-16T19:48:02.426Z"
   },
   {
    "duration": 13,
    "start_time": "2022-06-16T19:48:58.598Z"
   },
   {
    "duration": 17,
    "start_time": "2022-06-16T19:49:04.206Z"
   },
   {
    "duration": 23,
    "start_time": "2022-06-16T19:49:05.066Z"
   },
   {
    "duration": 273,
    "start_time": "2022-06-16T19:49:35.086Z"
   },
   {
    "duration": 248,
    "start_time": "2022-06-16T19:49:44.946Z"
   },
   {
    "duration": 333,
    "start_time": "2022-06-16T19:49:50.285Z"
   },
   {
    "duration": 251,
    "start_time": "2022-06-16T19:50:00.475Z"
   },
   {
    "duration": 280,
    "start_time": "2022-06-16T19:50:12.405Z"
   },
   {
    "duration": 370,
    "start_time": "2022-06-16T19:52:54.825Z"
   },
   {
    "duration": 332,
    "start_time": "2022-06-16T19:53:31.026Z"
   },
   {
    "duration": 360,
    "start_time": "2022-06-16T19:53:48.526Z"
   },
   {
    "duration": 418,
    "start_time": "2022-06-16T19:54:07.575Z"
   },
   {
    "duration": 12,
    "start_time": "2022-06-16T19:55:03.745Z"
   },
   {
    "duration": 12,
    "start_time": "2022-06-16T19:55:08.085Z"
   },
   {
    "duration": 17,
    "start_time": "2022-06-16T19:55:08.806Z"
   },
   {
    "duration": 162,
    "start_time": "2022-06-16T19:55:14.875Z"
   },
   {
    "duration": 390,
    "start_time": "2022-06-16T19:55:21.376Z"
   },
   {
    "duration": 327,
    "start_time": "2022-06-16T19:55:44.326Z"
   },
   {
    "duration": 334,
    "start_time": "2022-06-16T19:55:57.286Z"
   },
   {
    "duration": 337,
    "start_time": "2022-06-16T19:57:00.505Z"
   },
   {
    "duration": 309,
    "start_time": "2022-06-16T20:01:58.084Z"
   },
   {
    "duration": 158,
    "start_time": "2022-06-16T20:02:05.253Z"
   },
   {
    "duration": 3,
    "start_time": "2022-06-16T20:03:20.806Z"
   },
   {
    "duration": 27,
    "start_time": "2022-06-16T20:03:21.305Z"
   },
   {
    "duration": 169,
    "start_time": "2022-06-16T20:03:30.214Z"
   },
   {
    "duration": 149,
    "start_time": "2022-06-16T20:03:39.545Z"
   },
   {
    "duration": 209,
    "start_time": "2022-06-16T20:03:54.493Z"
   },
   {
    "duration": 189,
    "start_time": "2022-06-16T20:04:39.127Z"
   },
   {
    "duration": 16,
    "start_time": "2022-06-16T20:05:13.700Z"
   },
   {
    "duration": 15,
    "start_time": "2022-06-16T20:05:14.547Z"
   },
   {
    "duration": 10,
    "start_time": "2022-06-16T20:05:23.526Z"
   },
   {
    "duration": 11,
    "start_time": "2022-06-16T20:05:24.273Z"
   },
   {
    "duration": 255,
    "start_time": "2022-06-16T20:05:29.088Z"
   },
   {
    "duration": 153,
    "start_time": "2022-06-16T20:05:37.827Z"
   },
   {
    "duration": 159,
    "start_time": "2022-06-16T20:05:43.985Z"
   },
   {
    "duration": 160,
    "start_time": "2022-06-16T20:05:52.076Z"
   },
   {
    "duration": 121,
    "start_time": "2022-06-16T20:06:03.346Z"
   },
   {
    "duration": 119,
    "start_time": "2022-06-16T20:06:34.886Z"
   },
   {
    "duration": 11,
    "start_time": "2022-06-16T20:07:08.406Z"
   },
   {
    "duration": 13,
    "start_time": "2022-06-16T20:07:09.086Z"
   },
   {
    "duration": 170,
    "start_time": "2022-06-16T20:07:09.928Z"
   },
   {
    "duration": 157,
    "start_time": "2022-06-16T20:07:22.147Z"
   },
   {
    "duration": 168,
    "start_time": "2022-06-16T20:07:28.547Z"
   },
   {
    "duration": 204,
    "start_time": "2022-06-16T20:07:36.325Z"
   },
   {
    "duration": 128,
    "start_time": "2022-06-16T20:07:43.085Z"
   },
   {
    "duration": 125,
    "start_time": "2022-06-16T20:07:52.346Z"
   },
   {
    "duration": 10,
    "start_time": "2022-06-16T20:08:40.966Z"
   },
   {
    "duration": 11,
    "start_time": "2022-06-16T20:08:42.450Z"
   },
   {
    "duration": 156,
    "start_time": "2022-06-16T20:08:45.480Z"
   },
   {
    "duration": 154,
    "start_time": "2022-06-16T20:08:51.806Z"
   },
   {
    "duration": 282,
    "start_time": "2022-06-16T20:08:57.746Z"
   },
   {
    "duration": 152,
    "start_time": "2022-06-16T20:09:04.591Z"
   },
   {
    "duration": 137,
    "start_time": "2022-06-16T20:09:11.145Z"
   },
   {
    "duration": 132,
    "start_time": "2022-06-16T20:09:18.366Z"
   },
   {
    "duration": 132,
    "start_time": "2022-06-16T20:09:25.007Z"
   },
   {
    "duration": 120,
    "start_time": "2022-06-16T20:09:41.985Z"
   },
   {
    "duration": 112,
    "start_time": "2022-06-16T20:10:22.025Z"
   },
   {
    "duration": 27,
    "start_time": "2022-06-16T20:12:05.427Z"
   },
   {
    "duration": 18,
    "start_time": "2022-06-16T20:12:13.027Z"
   },
   {
    "duration": 10,
    "start_time": "2022-06-16T20:12:33.386Z"
   },
   {
    "duration": 127,
    "start_time": "2022-06-16T20:13:05.526Z"
   },
   {
    "duration": 144,
    "start_time": "2022-06-16T20:13:19.935Z"
   },
   {
    "duration": 120,
    "start_time": "2022-06-16T20:13:26.886Z"
   },
   {
    "duration": 126,
    "start_time": "2022-06-16T20:13:33.826Z"
   },
   {
    "duration": 139,
    "start_time": "2022-06-16T20:13:45.326Z"
   },
   {
    "duration": 110,
    "start_time": "2022-06-16T20:13:52.066Z"
   },
   {
    "duration": 136,
    "start_time": "2022-06-16T20:14:03.786Z"
   },
   {
    "duration": 143,
    "start_time": "2022-06-16T20:14:17.026Z"
   },
   {
    "duration": 126,
    "start_time": "2022-06-16T20:14:26.726Z"
   },
   {
    "duration": 124,
    "start_time": "2022-06-16T20:14:48.867Z"
   },
   {
    "duration": 95,
    "start_time": "2022-06-16T20:15:26.480Z"
   },
   {
    "duration": 736,
    "start_time": "2022-06-16T20:16:50.447Z"
   },
   {
    "duration": 607,
    "start_time": "2022-06-16T20:17:12.859Z"
   },
   {
    "duration": 159,
    "start_time": "2022-06-16T20:17:26.335Z"
   },
   {
    "duration": 149,
    "start_time": "2022-06-16T20:17:47.605Z"
   },
   {
    "duration": 153,
    "start_time": "2022-06-16T20:17:57.306Z"
   },
   {
    "duration": 408,
    "start_time": "2022-06-16T20:19:31.346Z"
   },
   {
    "duration": 360,
    "start_time": "2022-06-16T20:19:39.807Z"
   },
   {
    "duration": 396,
    "start_time": "2022-06-16T20:19:57.566Z"
   },
   {
    "duration": 7,
    "start_time": "2022-06-16T20:22:13.666Z"
   },
   {
    "duration": 14,
    "start_time": "2022-06-16T20:22:20.986Z"
   },
   {
    "duration": 11,
    "start_time": "2022-06-16T20:22:22.688Z"
   },
   {
    "duration": 169,
    "start_time": "2022-06-16T20:22:52.405Z"
   },
   {
    "duration": 328,
    "start_time": "2022-06-16T20:22:58.346Z"
   },
   {
    "duration": 148,
    "start_time": "2022-06-16T20:23:08.327Z"
   },
   {
    "duration": 160,
    "start_time": "2022-06-16T20:23:13.689Z"
   },
   {
    "duration": 137,
    "start_time": "2022-06-16T20:23:23.446Z"
   },
   {
    "duration": 158,
    "start_time": "2022-06-16T20:23:29.645Z"
   },
   {
    "duration": 122,
    "start_time": "2022-06-16T20:23:44.266Z"
   },
   {
    "duration": 88,
    "start_time": "2022-06-16T20:24:14.087Z"
   },
   {
    "duration": 97,
    "start_time": "2022-06-16T20:24:36.349Z"
   },
   {
    "duration": 106,
    "start_time": "2022-06-16T20:25:10.126Z"
   },
   {
    "duration": 12,
    "start_time": "2022-06-16T20:32:35.086Z"
   },
   {
    "duration": 10,
    "start_time": "2022-06-16T20:33:59.246Z"
   },
   {
    "duration": 392,
    "start_time": "2022-06-16T20:36:15.405Z"
   },
   {
    "duration": 10,
    "start_time": "2022-06-16T20:36:39.606Z"
   },
   {
    "duration": 11,
    "start_time": "2022-06-16T20:37:23.705Z"
   },
   {
    "duration": 23,
    "start_time": "2022-06-16T20:37:36.466Z"
   },
   {
    "duration": 278,
    "start_time": "2022-06-16T20:40:28.688Z"
   },
   {
    "duration": 421,
    "start_time": "2022-06-16T20:41:28.164Z"
   },
   {
    "duration": 10,
    "start_time": "2022-06-16T20:41:40.424Z"
   },
   {
    "duration": 13,
    "start_time": "2022-06-16T20:45:09.663Z"
   },
   {
    "duration": 7,
    "start_time": "2022-06-16T20:45:10.464Z"
   },
   {
    "duration": 170,
    "start_time": "2022-06-16T20:45:20.644Z"
   },
   {
    "duration": 149,
    "start_time": "2022-06-16T20:45:30.504Z"
   },
   {
    "duration": 154,
    "start_time": "2022-06-16T20:45:35.585Z"
   },
   {
    "duration": 117,
    "start_time": "2022-06-16T20:45:58.383Z"
   },
   {
    "duration": 11,
    "start_time": "2022-06-16T20:46:23.684Z"
   },
   {
    "duration": 138,
    "start_time": "2022-06-16T20:46:36.943Z"
   },
   {
    "duration": 81,
    "start_time": "2022-06-16T20:47:14.184Z"
   },
   {
    "duration": 97,
    "start_time": "2022-06-16T20:47:35.523Z"
   },
   {
    "duration": 8,
    "start_time": "2022-06-16T20:49:18.185Z"
   },
   {
    "duration": 15,
    "start_time": "2022-06-16T20:49:22.342Z"
   },
   {
    "duration": 13,
    "start_time": "2022-06-16T20:49:33.984Z"
   },
   {
    "duration": 163,
    "start_time": "2022-06-16T20:49:35.304Z"
   },
   {
    "duration": 187,
    "start_time": "2022-06-16T20:50:03.483Z"
   },
   {
    "duration": 103,
    "start_time": "2022-06-16T20:50:13.662Z"
   },
   {
    "duration": 170,
    "start_time": "2022-06-16T20:50:32.324Z"
   },
   {
    "duration": 155,
    "start_time": "2022-06-16T20:50:41.103Z"
   },
   {
    "duration": 26,
    "start_time": "2022-06-16T20:52:19.642Z"
   },
   {
    "duration": 15,
    "start_time": "2022-06-16T20:52:20.542Z"
   },
   {
    "duration": 152,
    "start_time": "2022-06-16T20:53:29.302Z"
   },
   {
    "duration": 159,
    "start_time": "2022-06-16T20:53:36.642Z"
   },
   {
    "duration": 163,
    "start_time": "2022-06-16T20:53:45.250Z"
   },
   {
    "duration": 157,
    "start_time": "2022-06-16T20:53:53.222Z"
   },
   {
    "duration": 163,
    "start_time": "2022-06-16T20:54:01.882Z"
   },
   {
    "duration": 144,
    "start_time": "2022-06-16T20:54:24.443Z"
   },
   {
    "duration": 368,
    "start_time": "2022-06-16T20:54:44.302Z"
   },
   {
    "duration": 153,
    "start_time": "2022-06-16T20:54:54.062Z"
   },
   {
    "duration": 136,
    "start_time": "2022-06-16T20:56:12.845Z"
   },
   {
    "duration": 117,
    "start_time": "2022-06-16T20:56:14.502Z"
   },
   {
    "duration": 84,
    "start_time": "2022-06-16T20:57:03.682Z"
   },
   {
    "duration": 81,
    "start_time": "2022-06-16T20:57:05.362Z"
   },
   {
    "duration": 26,
    "start_time": "2022-06-16T21:01:42.778Z"
   },
   {
    "duration": 23,
    "start_time": "2022-06-16T21:02:15.058Z"
   },
   {
    "duration": 15,
    "start_time": "2022-06-16T21:05:28.525Z"
   },
   {
    "duration": 7,
    "start_time": "2022-06-16T21:05:38.727Z"
   },
   {
    "duration": 352,
    "start_time": "2022-06-16T21:07:49.527Z"
   },
   {
    "duration": 5,
    "start_time": "2022-06-16T21:08:00.417Z"
   },
   {
    "duration": 4,
    "start_time": "2022-06-16T21:08:08.807Z"
   },
   {
    "duration": 7,
    "start_time": "2022-06-16T21:09:01.278Z"
   },
   {
    "duration": 8,
    "start_time": "2022-06-16T21:09:08.477Z"
   },
   {
    "duration": 6,
    "start_time": "2022-06-16T21:09:11.237Z"
   },
   {
    "duration": 7,
    "start_time": "2022-06-16T21:09:30.007Z"
   },
   {
    "duration": 10,
    "start_time": "2022-06-16T21:16:21.809Z"
   },
   {
    "duration": 5,
    "start_time": "2022-06-16T21:17:35.259Z"
   },
   {
    "duration": 4,
    "start_time": "2022-06-16T21:17:40.678Z"
   },
   {
    "duration": 8,
    "start_time": "2022-06-16T21:18:15.179Z"
   },
   {
    "duration": 12,
    "start_time": "2022-06-16T21:19:55.034Z"
   },
   {
    "duration": 12,
    "start_time": "2022-06-16T21:20:30.679Z"
   },
   {
    "duration": 16,
    "start_time": "2022-06-16T21:22:59.337Z"
   },
   {
    "duration": 16,
    "start_time": "2022-06-16T21:23:42.880Z"
   },
   {
    "duration": 6,
    "start_time": "2022-06-16T21:23:47.960Z"
   },
   {
    "duration": 36,
    "start_time": "2022-06-16T21:25:06.720Z"
   },
   {
    "duration": 29,
    "start_time": "2022-06-16T21:25:41.515Z"
   },
   {
    "duration": 33,
    "start_time": "2022-06-16T21:26:16.861Z"
   },
   {
    "duration": 340,
    "start_time": "2022-06-16T21:27:48.991Z"
   },
   {
    "duration": 10,
    "start_time": "2022-06-16T21:28:03.848Z"
   },
   {
    "duration": 9,
    "start_time": "2022-06-16T21:29:23.373Z"
   },
   {
    "duration": 115,
    "start_time": "2022-06-16T21:29:35.560Z"
   },
   {
    "duration": 129,
    "start_time": "2022-06-16T21:29:48.798Z"
   },
   {
    "duration": 153,
    "start_time": "2022-06-16T21:30:01.791Z"
   },
   {
    "duration": 8,
    "start_time": "2022-06-16T21:30:36.955Z"
   },
   {
    "duration": 17,
    "start_time": "2022-06-16T21:31:17.634Z"
   },
   {
    "duration": 17,
    "start_time": "2022-06-16T21:31:23.954Z"
   },
   {
    "duration": 143,
    "start_time": "2022-06-16T21:32:09.374Z"
   },
   {
    "duration": 127,
    "start_time": "2022-06-16T21:32:55.431Z"
   },
   {
    "duration": 383,
    "start_time": "2022-06-16T21:33:45.400Z"
   },
   {
    "duration": 12,
    "start_time": "2022-06-16T21:34:07.398Z"
   },
   {
    "duration": 19,
    "start_time": "2022-06-16T21:35:12.681Z"
   },
   {
    "duration": 19,
    "start_time": "2022-06-16T21:35:22.741Z"
   },
   {
    "duration": 9,
    "start_time": "2022-06-16T21:36:52.273Z"
   },
   {
    "duration": 11,
    "start_time": "2022-06-16T21:37:47.315Z"
   },
   {
    "duration": 85,
    "start_time": "2022-06-16T21:40:25.749Z"
   },
   {
    "duration": 90,
    "start_time": "2022-06-16T21:40:56.108Z"
   },
   {
    "duration": 94,
    "start_time": "2022-06-16T21:41:17.450Z"
   },
   {
    "duration": 3,
    "start_time": "2022-06-16T21:41:28.788Z"
   },
   {
    "duration": 10,
    "start_time": "2022-06-16T21:41:45.071Z"
   },
   {
    "duration": 4,
    "start_time": "2022-06-16T21:42:22.043Z"
   },
   {
    "duration": 5,
    "start_time": "2022-06-16T21:44:02.250Z"
   },
   {
    "duration": 13,
    "start_time": "2022-06-16T21:44:31.519Z"
   },
   {
    "duration": 12,
    "start_time": "2022-06-16T22:03:16.434Z"
   },
   {
    "duration": 18,
    "start_time": "2022-06-16T22:03:28.677Z"
   },
   {
    "duration": 7,
    "start_time": "2022-06-16T22:04:31.309Z"
   },
   {
    "duration": 9,
    "start_time": "2022-06-16T22:04:57.756Z"
   },
   {
    "duration": 409,
    "start_time": "2022-06-16T22:05:33.118Z"
   },
   {
    "duration": 22,
    "start_time": "2022-06-16T22:05:57.138Z"
   },
   {
    "duration": 17,
    "start_time": "2022-06-16T22:05:57.829Z"
   },
   {
    "duration": 146,
    "start_time": "2022-06-16T22:05:58.708Z"
   },
   {
    "duration": 130,
    "start_time": "2022-06-16T22:06:00.945Z"
   },
   {
    "duration": 8,
    "start_time": "2022-06-16T22:06:08.009Z"
   },
   {
    "duration": 8,
    "start_time": "2022-06-16T22:07:03.317Z"
   },
   {
    "duration": 7,
    "start_time": "2022-06-16T22:07:18.549Z"
   },
   {
    "duration": 7,
    "start_time": "2022-06-16T22:07:23.410Z"
   },
   {
    "duration": 109,
    "start_time": "2022-06-16T22:11:36.916Z"
   },
   {
    "duration": 406,
    "start_time": "2022-06-17T11:16:10.273Z"
   },
   {
    "duration": 1364,
    "start_time": "2022-06-17T11:16:10.681Z"
   },
   {
    "duration": 22,
    "start_time": "2022-06-17T11:16:12.046Z"
   },
   {
    "duration": 17,
    "start_time": "2022-06-17T11:16:12.069Z"
   },
   {
    "duration": 21,
    "start_time": "2022-06-17T11:16:12.088Z"
   },
   {
    "duration": 31,
    "start_time": "2022-06-17T11:16:12.110Z"
   },
   {
    "duration": 12,
    "start_time": "2022-06-17T11:16:12.142Z"
   },
   {
    "duration": 17,
    "start_time": "2022-06-17T11:16:12.156Z"
   },
   {
    "duration": 16,
    "start_time": "2022-06-17T11:16:12.174Z"
   },
   {
    "duration": 15,
    "start_time": "2022-06-17T11:16:12.191Z"
   },
   {
    "duration": 43,
    "start_time": "2022-06-17T11:16:12.207Z"
   },
   {
    "duration": 8,
    "start_time": "2022-06-17T11:16:12.252Z"
   },
   {
    "duration": 18,
    "start_time": "2022-06-17T11:16:12.262Z"
   },
   {
    "duration": 6,
    "start_time": "2022-06-17T11:16:12.283Z"
   },
   {
    "duration": 7,
    "start_time": "2022-06-17T11:16:12.290Z"
   },
   {
    "duration": 44,
    "start_time": "2022-06-17T11:16:12.298Z"
   },
   {
    "duration": 10,
    "start_time": "2022-06-17T11:16:12.343Z"
   },
   {
    "duration": 63,
    "start_time": "2022-06-17T11:16:12.354Z"
   },
   {
    "duration": 40,
    "start_time": "2022-06-17T11:16:12.424Z"
   },
   {
    "duration": 31,
    "start_time": "2022-06-17T11:16:12.466Z"
   },
   {
    "duration": 45,
    "start_time": "2022-06-17T11:16:12.503Z"
   },
   {
    "duration": 5,
    "start_time": "2022-06-17T11:16:12.549Z"
   },
   {
    "duration": 15,
    "start_time": "2022-06-17T11:16:12.556Z"
   },
   {
    "duration": 126,
    "start_time": "2022-06-17T11:16:12.573Z"
   },
   {
    "duration": 704,
    "start_time": "2022-06-17T11:16:12.701Z"
   },
   {
    "duration": 59,
    "start_time": "2022-06-17T11:16:13.407Z"
   },
   {
    "duration": 13,
    "start_time": "2022-06-17T11:16:13.468Z"
   },
   {
    "duration": 13,
    "start_time": "2022-06-17T11:16:13.494Z"
   },
   {
    "duration": 49,
    "start_time": "2022-06-17T11:16:13.508Z"
   },
   {
    "duration": 20,
    "start_time": "2022-06-17T11:16:13.559Z"
   },
   {
    "duration": 11,
    "start_time": "2022-06-17T11:16:13.581Z"
   },
   {
    "duration": 57,
    "start_time": "2022-06-17T11:16:13.593Z"
   },
   {
    "duration": 18,
    "start_time": "2022-06-17T11:16:13.652Z"
   },
   {
    "duration": 3,
    "start_time": "2022-06-17T11:16:13.672Z"
   },
   {
    "duration": 163,
    "start_time": "2022-06-17T11:16:13.676Z"
   },
   {
    "duration": 22,
    "start_time": "2022-06-17T11:16:13.842Z"
   },
   {
    "duration": 351,
    "start_time": "2022-06-17T11:16:13.865Z"
   },
   {
    "duration": 61,
    "start_time": "2022-06-17T11:16:14.219Z"
   },
   {
    "duration": 9,
    "start_time": "2022-06-17T11:16:14.282Z"
   },
   {
    "duration": 183,
    "start_time": "2022-06-17T11:16:14.296Z"
   },
   {
    "duration": 148,
    "start_time": "2022-06-17T11:16:14.482Z"
   },
   {
    "duration": 118,
    "start_time": "2022-06-17T11:16:14.631Z"
   },
   {
    "duration": 14,
    "start_time": "2022-06-17T11:16:14.751Z"
   },
   {
    "duration": 13,
    "start_time": "2022-06-17T11:16:14.767Z"
   },
   {
    "duration": 179,
    "start_time": "2022-06-17T11:16:14.794Z"
   },
   {
    "duration": 150,
    "start_time": "2022-06-17T11:16:14.974Z"
   },
   {
    "duration": 104,
    "start_time": "2022-06-17T11:16:15.126Z"
   },
   {
    "duration": 11,
    "start_time": "2022-06-17T11:16:15.232Z"
   },
   {
    "duration": 166,
    "start_time": "2022-06-17T11:16:15.245Z"
   },
   {
    "duration": 129,
    "start_time": "2022-06-17T11:16:15.416Z"
   },
   {
    "duration": 9,
    "start_time": "2022-06-17T11:16:15.547Z"
   },
   {
    "duration": 110,
    "start_time": "2022-06-17T11:16:15.557Z"
   },
   {
    "duration": 11,
    "start_time": "2022-06-17T11:16:15.668Z"
   },
   {
    "duration": 178,
    "start_time": "2022-06-17T11:16:15.680Z"
   },
   {
    "duration": 180,
    "start_time": "2022-06-17T11:16:15.859Z"
   },
   {
    "duration": 19,
    "start_time": "2022-06-17T11:16:16.041Z"
   },
   {
    "duration": 17,
    "start_time": "2022-06-17T11:16:16.061Z"
   },
   {
    "duration": 184,
    "start_time": "2022-06-17T11:16:16.079Z"
   },
   {
    "duration": 179,
    "start_time": "2022-06-17T11:16:16.264Z"
   },
   {
    "duration": 126,
    "start_time": "2022-06-17T11:16:16.444Z"
   },
   {
    "duration": 138,
    "start_time": "2022-06-17T11:16:16.571Z"
   },
   {
    "duration": 107,
    "start_time": "2022-06-17T11:16:16.715Z"
   },
   {
    "duration": 99,
    "start_time": "2022-06-17T11:16:16.827Z"
   },
   {
    "duration": 5,
    "start_time": "2022-06-17T11:16:16.930Z"
   },
   {
    "duration": 9,
    "start_time": "2022-06-17T11:16:16.937Z"
   },
   {
    "duration": 13,
    "start_time": "2022-06-17T11:16:16.948Z"
   },
   {
    "duration": 17,
    "start_time": "2022-06-17T11:16:16.962Z"
   },
   {
    "duration": 33,
    "start_time": "2022-06-17T11:16:16.981Z"
   },
   {
    "duration": 156,
    "start_time": "2022-06-17T11:16:17.020Z"
   },
   {
    "duration": 159,
    "start_time": "2022-06-17T11:16:17.177Z"
   },
   {
    "duration": 9,
    "start_time": "2022-06-17T11:16:17.337Z"
   },
   {
    "duration": 13,
    "start_time": "2022-06-17T11:16:17.347Z"
   },
   {
    "duration": 5,
    "start_time": "2022-06-17T11:26:13.709Z"
   },
   {
    "duration": 23,
    "start_time": "2022-06-17T11:29:40.079Z"
   },
   {
    "duration": 42,
    "start_time": "2022-06-20T10:28:52.692Z"
   },
   {
    "duration": 382,
    "start_time": "2022-06-20T10:29:00.623Z"
   },
   {
    "duration": 1495,
    "start_time": "2022-06-20T10:29:01.145Z"
   },
   {
    "duration": 21,
    "start_time": "2022-06-20T10:29:02.642Z"
   },
   {
    "duration": 17,
    "start_time": "2022-06-20T10:29:03.565Z"
   },
   {
    "duration": 15,
    "start_time": "2022-06-20T10:29:04.232Z"
   },
   {
    "duration": 9,
    "start_time": "2022-06-20T10:29:04.933Z"
   },
   {
    "duration": 9,
    "start_time": "2022-06-20T10:29:05.523Z"
   },
   {
    "duration": 25,
    "start_time": "2022-06-20T10:29:08.299Z"
   },
   {
    "duration": 28,
    "start_time": "2022-06-20T10:29:09.058Z"
   },
   {
    "duration": 14,
    "start_time": "2022-06-20T10:29:09.795Z"
   },
   {
    "duration": 14,
    "start_time": "2022-06-20T10:29:10.640Z"
   },
   {
    "duration": 654,
    "start_time": "2022-06-20T10:29:12.646Z"
   },
   {
    "duration": 365,
    "start_time": "2022-06-20T10:29:31.171Z"
   },
   {
    "duration": 446,
    "start_time": "2022-06-20T10:29:40.833Z"
   },
   {
    "duration": 164,
    "start_time": "2022-06-20T10:30:33.804Z"
   },
   {
    "duration": 358,
    "start_time": "2022-06-20T10:30:53.642Z"
   },
   {
    "duration": 8,
    "start_time": "2022-06-20T10:35:19.972Z"
   },
   {
    "duration": 5,
    "start_time": "2022-06-20T10:35:26.532Z"
   },
   {
    "duration": 8,
    "start_time": "2022-06-20T10:36:36.161Z"
   },
   {
    "duration": 56,
    "start_time": "2022-06-20T10:36:37.851Z"
   },
   {
    "duration": 37,
    "start_time": "2022-06-20T10:36:38.642Z"
   },
   {
    "duration": 24,
    "start_time": "2022-06-20T10:36:41.152Z"
   },
   {
    "duration": 1882,
    "start_time": "2022-06-20T10:37:00.804Z"
   },
   {
    "duration": 0,
    "start_time": "2022-06-20T10:37:02.688Z"
   },
   {
    "duration": 12,
    "start_time": "2022-06-20T10:37:25.022Z"
   },
   {
    "duration": 6,
    "start_time": "2022-06-20T10:37:25.716Z"
   },
   {
    "duration": 5,
    "start_time": "2022-06-20T10:37:26.951Z"
   },
   {
    "duration": 6,
    "start_time": "2022-06-20T10:37:28.795Z"
   },
   {
    "duration": 5,
    "start_time": "2022-06-20T10:37:29.352Z"
   },
   {
    "duration": 14,
    "start_time": "2022-06-20T10:37:39.163Z"
   },
   {
    "duration": 4,
    "start_time": "2022-06-20T10:37:50.453Z"
   },
   {
    "duration": 368,
    "start_time": "2022-06-20T10:37:50.914Z"
   },
   {
    "duration": 20,
    "start_time": "2022-06-20T10:37:51.651Z"
   },
   {
    "duration": 18,
    "start_time": "2022-06-20T10:37:52.322Z"
   },
   {
    "duration": 15,
    "start_time": "2022-06-20T10:37:52.872Z"
   },
   {
    "duration": 10,
    "start_time": "2022-06-20T10:37:53.482Z"
   },
   {
    "duration": 10,
    "start_time": "2022-06-20T10:37:54.133Z"
   },
   {
    "duration": 11,
    "start_time": "2022-06-20T10:37:56.612Z"
   },
   {
    "duration": 16,
    "start_time": "2022-06-20T10:37:57.282Z"
   },
   {
    "duration": 11,
    "start_time": "2022-06-20T10:37:57.854Z"
   },
   {
    "duration": 15,
    "start_time": "2022-06-20T10:37:58.512Z"
   },
   {
    "duration": 355,
    "start_time": "2022-06-20T10:38:00.152Z"
   },
   {
    "duration": 150,
    "start_time": "2022-06-20T10:38:02.172Z"
   },
   {
    "duration": 9,
    "start_time": "2022-06-20T10:38:07.213Z"
   },
   {
    "duration": 12,
    "start_time": "2022-06-20T10:38:11.530Z"
   },
   {
    "duration": 7,
    "start_time": "2022-06-20T10:38:12.413Z"
   },
   {
    "duration": 5,
    "start_time": "2022-06-20T10:38:13.251Z"
   },
   {
    "duration": 12,
    "start_time": "2022-06-20T10:38:14.212Z"
   },
   {
    "duration": 8,
    "start_time": "2022-06-20T10:38:15.410Z"
   },
   {
    "duration": 6,
    "start_time": "2022-06-20T10:38:17.122Z"
   },
   {
    "duration": 47,
    "start_time": "2022-06-20T10:38:21.381Z"
   },
   {
    "duration": 45,
    "start_time": "2022-06-20T10:38:22.114Z"
   },
   {
    "duration": 19,
    "start_time": "2022-06-20T10:38:25.742Z"
   },
   {
    "duration": 28,
    "start_time": "2022-06-20T10:38:36.003Z"
   },
   {
    "duration": 6,
    "start_time": "2022-06-20T10:38:39.223Z"
   },
   {
    "duration": 15,
    "start_time": "2022-06-20T10:38:44.813Z"
   },
   {
    "duration": 144,
    "start_time": "2022-06-20T10:39:56.392Z"
   },
   {
    "duration": 739,
    "start_time": "2022-06-20T10:40:02.143Z"
   },
   {
    "duration": 52,
    "start_time": "2022-06-20T10:40:13.771Z"
   },
   {
    "duration": 52,
    "start_time": "2022-06-20T10:40:29.686Z"
   },
   {
    "duration": 5,
    "start_time": "2022-06-20T10:43:01.827Z"
   },
   {
    "duration": 4,
    "start_time": "2022-06-20T10:43:26.750Z"
   },
   {
    "duration": 565,
    "start_time": "2022-06-20T10:43:27.953Z"
   },
   {
    "duration": 49,
    "start_time": "2022-06-20T10:43:35.853Z"
   },
   {
    "duration": 50,
    "start_time": "2022-06-20T10:44:07.383Z"
   },
   {
    "duration": 19,
    "start_time": "2022-06-20T10:44:16.132Z"
   },
   {
    "duration": 17,
    "start_time": "2022-06-20T10:44:37.893Z"
   },
   {
    "duration": 13,
    "start_time": "2022-06-20T10:46:42.603Z"
   },
   {
    "duration": 15,
    "start_time": "2022-06-20T10:47:56.645Z"
   },
   {
    "duration": 15,
    "start_time": "2022-06-20T10:48:14.500Z"
   },
   {
    "duration": 302,
    "start_time": "2022-06-20T10:49:01.115Z"
   },
   {
    "duration": 567,
    "start_time": "2022-06-20T10:49:09.533Z"
   },
   {
    "duration": 51,
    "start_time": "2022-06-20T10:49:11.045Z"
   },
   {
    "duration": 16,
    "start_time": "2022-06-20T10:49:14.743Z"
   },
   {
    "duration": 12,
    "start_time": "2022-06-20T10:49:15.794Z"
   },
   {
    "duration": 16,
    "start_time": "2022-06-20T10:49:19.724Z"
   },
   {
    "duration": 20,
    "start_time": "2022-06-20T10:53:15.933Z"
   },
   {
    "duration": 25,
    "start_time": "2022-06-20T10:53:18.913Z"
   },
   {
    "duration": 14,
    "start_time": "2022-06-20T10:53:25.423Z"
   },
   {
    "duration": 27,
    "start_time": "2022-06-20T10:53:54.053Z"
   },
   {
    "duration": 23,
    "start_time": "2022-06-20T10:53:55.533Z"
   },
   {
    "duration": 3,
    "start_time": "2022-06-20T10:54:22.094Z"
   },
   {
    "duration": 5,
    "start_time": "2022-06-20T11:00:47.863Z"
   },
   {
    "duration": 3,
    "start_time": "2022-06-20T11:00:57.097Z"
   },
   {
    "duration": 8,
    "start_time": "2022-06-20T11:01:23.512Z"
   },
   {
    "duration": 6,
    "start_time": "2022-06-20T11:01:47.095Z"
   },
   {
    "duration": 3,
    "start_time": "2022-06-20T11:08:21.934Z"
   },
   {
    "duration": 130,
    "start_time": "2022-06-20T11:08:24.023Z"
   },
   {
    "duration": 32,
    "start_time": "2022-06-20T11:09:03.514Z"
   },
   {
    "duration": 27,
    "start_time": "2022-06-20T11:09:43.797Z"
   },
   {
    "duration": 9,
    "start_time": "2022-06-20T11:09:50.224Z"
   },
   {
    "duration": 4,
    "start_time": "2022-06-20T11:10:32.334Z"
   },
   {
    "duration": 5,
    "start_time": "2022-06-20T11:10:36.397Z"
   },
   {
    "duration": 7,
    "start_time": "2022-06-20T11:11:02.952Z"
   },
   {
    "duration": 5,
    "start_time": "2022-06-20T11:11:07.773Z"
   },
   {
    "duration": 4,
    "start_time": "2022-06-20T11:11:52.497Z"
   },
   {
    "duration": 4,
    "start_time": "2022-06-20T11:12:00.613Z"
   },
   {
    "duration": 10,
    "start_time": "2022-06-20T11:15:18.364Z"
   },
   {
    "duration": 9,
    "start_time": "2022-06-20T11:20:28.489Z"
   },
   {
    "duration": 8,
    "start_time": "2022-06-20T11:21:27.234Z"
   },
   {
    "duration": 3,
    "start_time": "2022-06-20T11:21:54.608Z"
   },
   {
    "duration": 16,
    "start_time": "2022-06-20T11:21:55.953Z"
   },
   {
    "duration": 12,
    "start_time": "2022-06-20T11:21:57.897Z"
   },
   {
    "duration": 1744,
    "start_time": "2022-06-20T11:24:19.694Z"
   },
   {
    "duration": 168,
    "start_time": "2022-06-20T11:24:41.674Z"
   },
   {
    "duration": 131,
    "start_time": "2022-06-20T11:24:49.174Z"
   },
   {
    "duration": 179,
    "start_time": "2022-06-20T11:25:06.053Z"
   },
   {
    "duration": 142,
    "start_time": "2022-06-20T11:25:16.334Z"
   },
   {
    "duration": 182,
    "start_time": "2022-06-20T11:25:26.066Z"
   },
   {
    "duration": 146,
    "start_time": "2022-06-20T11:25:32.374Z"
   },
   {
    "duration": 248,
    "start_time": "2022-06-20T11:25:37.394Z"
   },
   {
    "duration": 154,
    "start_time": "2022-06-20T11:25:49.712Z"
   },
   {
    "duration": 145,
    "start_time": "2022-06-20T11:25:57.944Z"
   },
   {
    "duration": 173,
    "start_time": "2022-06-20T11:26:03.603Z"
   },
   {
    "duration": 162,
    "start_time": "2022-06-20T11:26:43.897Z"
   },
   {
    "duration": 159,
    "start_time": "2022-06-20T11:26:50.672Z"
   },
   {
    "duration": 12,
    "start_time": "2022-06-20T11:28:02.647Z"
   },
   {
    "duration": 9,
    "start_time": "2022-06-20T11:28:03.933Z"
   },
   {
    "duration": 1334,
    "start_time": "2022-06-20T11:28:08.474Z"
   },
   {
    "duration": 195,
    "start_time": "2022-06-20T11:28:16.786Z"
   },
   {
    "duration": 208,
    "start_time": "2022-06-20T11:28:26.564Z"
   },
   {
    "duration": 287,
    "start_time": "2022-06-20T11:28:34.700Z"
   },
   {
    "duration": 160,
    "start_time": "2022-06-20T11:29:32.706Z"
   },
   {
    "duration": 282,
    "start_time": "2022-06-20T11:30:17.621Z"
   },
   {
    "duration": 167,
    "start_time": "2022-06-20T11:30:24.106Z"
   },
   {
    "duration": 181,
    "start_time": "2022-06-20T11:30:53.633Z"
   },
   {
    "duration": 187,
    "start_time": "2022-06-20T11:30:59.314Z"
   },
   {
    "duration": 174,
    "start_time": "2022-06-20T11:31:09.503Z"
   },
   {
    "duration": 9,
    "start_time": "2022-06-20T11:32:02.495Z"
   },
   {
    "duration": 149,
    "start_time": "2022-06-20T11:32:13.292Z"
   },
   {
    "duration": 138,
    "start_time": "2022-06-20T11:33:05.524Z"
   },
   {
    "duration": 166,
    "start_time": "2022-06-20T11:33:16.614Z"
   },
   {
    "duration": 138,
    "start_time": "2022-06-20T11:33:21.853Z"
   },
   {
    "duration": 128,
    "start_time": "2022-06-20T11:33:34.771Z"
   },
   {
    "duration": 12,
    "start_time": "2022-06-20T11:36:51.245Z"
   },
   {
    "duration": 8,
    "start_time": "2022-06-20T11:36:54.596Z"
   },
   {
    "duration": 128,
    "start_time": "2022-06-20T11:37:02.619Z"
   },
   {
    "duration": 127,
    "start_time": "2022-06-20T11:37:10.793Z"
   },
   {
    "duration": 152,
    "start_time": "2022-06-20T11:37:18.556Z"
   },
   {
    "duration": 254,
    "start_time": "2022-06-20T11:37:35.315Z"
   },
   {
    "duration": 136,
    "start_time": "2022-06-20T11:37:40.523Z"
   },
   {
    "duration": 108,
    "start_time": "2022-06-20T11:38:02.953Z"
   },
   {
    "duration": 119,
    "start_time": "2022-06-20T11:38:30.397Z"
   },
   {
    "duration": 94,
    "start_time": "2022-06-20T11:38:31.424Z"
   },
   {
    "duration": 3,
    "start_time": "2022-06-20T11:41:52.657Z"
   },
   {
    "duration": 1317,
    "start_time": "2022-06-20T11:41:57.548Z"
   },
   {
    "duration": 1268,
    "start_time": "2022-06-20T11:42:23.253Z"
   },
   {
    "duration": 12,
    "start_time": "2022-06-20T11:42:33.033Z"
   },
   {
    "duration": 9,
    "start_time": "2022-06-20T11:42:33.695Z"
   },
   {
    "duration": 136,
    "start_time": "2022-06-20T11:42:35.097Z"
   },
   {
    "duration": 132,
    "start_time": "2022-06-20T11:42:49.015Z"
   },
   {
    "duration": 136,
    "start_time": "2022-06-20T11:43:13.653Z"
   },
   {
    "duration": 224,
    "start_time": "2022-06-20T11:43:18.253Z"
   },
   {
    "duration": 150,
    "start_time": "2022-06-20T11:43:29.062Z"
   },
   {
    "duration": 134,
    "start_time": "2022-06-20T11:43:34.773Z"
   },
   {
    "duration": 148,
    "start_time": "2022-06-20T11:43:40.523Z"
   },
   {
    "duration": 105,
    "start_time": "2022-06-20T11:47:46.204Z"
   },
   {
    "duration": 3,
    "start_time": "2022-06-20T11:48:18.674Z"
   },
   {
    "duration": 157,
    "start_time": "2022-06-20T11:48:19.633Z"
   },
   {
    "duration": 113,
    "start_time": "2022-06-20T11:48:27.097Z"
   },
   {
    "duration": 95,
    "start_time": "2022-06-20T11:48:30.111Z"
   },
   {
    "duration": 1200,
    "start_time": "2022-06-20T11:49:39.761Z"
   },
   {
    "duration": 1259,
    "start_time": "2022-06-20T11:49:57.074Z"
   },
   {
    "duration": 232,
    "start_time": "2022-06-20T11:52:47.575Z"
   },
   {
    "duration": 1271,
    "start_time": "2022-06-20T11:54:18.554Z"
   },
   {
    "duration": 88,
    "start_time": "2022-06-20T11:57:04.741Z"
   },
   {
    "duration": 1271,
    "start_time": "2022-06-20T11:57:06.615Z"
   },
   {
    "duration": 10,
    "start_time": "2022-06-20T11:57:49.264Z"
   },
   {
    "duration": 146,
    "start_time": "2022-06-20T11:58:00.263Z"
   },
   {
    "duration": 253,
    "start_time": "2022-06-20T11:58:11.500Z"
   },
   {
    "duration": 146,
    "start_time": "2022-06-20T11:58:15.664Z"
   },
   {
    "duration": 161,
    "start_time": "2022-06-20T11:58:20.147Z"
   },
   {
    "duration": 150,
    "start_time": "2022-06-20T11:58:27.121Z"
   },
   {
    "duration": 170,
    "start_time": "2022-06-20T11:58:36.004Z"
   },
   {
    "duration": 142,
    "start_time": "2022-06-20T11:58:40.056Z"
   },
   {
    "duration": 147,
    "start_time": "2022-06-20T11:58:46.273Z"
   },
   {
    "duration": 168,
    "start_time": "2022-06-20T11:58:53.700Z"
   },
   {
    "duration": 135,
    "start_time": "2022-06-20T11:59:01.298Z"
   },
   {
    "duration": 139,
    "start_time": "2022-06-20T11:59:04.892Z"
   },
   {
    "duration": 151,
    "start_time": "2022-06-20T11:59:16.370Z"
   },
   {
    "duration": 132,
    "start_time": "2022-06-20T11:59:21.697Z"
   },
   {
    "duration": 173,
    "start_time": "2022-06-20T11:59:33.059Z"
   },
   {
    "duration": 171,
    "start_time": "2022-06-20T11:59:37.046Z"
   },
   {
    "duration": 157,
    "start_time": "2022-06-20T11:59:43.024Z"
   },
   {
    "duration": 146,
    "start_time": "2022-06-20T11:59:48.666Z"
   },
   {
    "duration": 154,
    "start_time": "2022-06-20T11:59:53.064Z"
   },
   {
    "duration": 164,
    "start_time": "2022-06-20T11:59:56.935Z"
   },
   {
    "duration": 170,
    "start_time": "2022-06-20T12:00:01.202Z"
   },
   {
    "duration": 300,
    "start_time": "2022-06-20T12:00:09.409Z"
   },
   {
    "duration": 155,
    "start_time": "2022-06-20T12:00:32.115Z"
   },
   {
    "duration": 135,
    "start_time": "2022-06-20T12:00:41.954Z"
   },
   {
    "duration": 124,
    "start_time": "2022-06-20T12:00:58.444Z"
   },
   {
    "duration": 148,
    "start_time": "2022-06-20T12:01:05.572Z"
   },
   {
    "duration": 7,
    "start_time": "2022-06-20T12:01:59.626Z"
   },
   {
    "duration": 6,
    "start_time": "2022-06-20T12:02:09.484Z"
   },
   {
    "duration": 228,
    "start_time": "2022-06-20T12:02:22.224Z"
   },
   {
    "duration": 13,
    "start_time": "2022-06-20T12:02:55.974Z"
   },
   {
    "duration": 14,
    "start_time": "2022-06-20T12:03:19.104Z"
   },
   {
    "duration": 10,
    "start_time": "2022-06-20T12:03:20.145Z"
   },
   {
    "duration": 1204,
    "start_time": "2022-06-20T12:03:26.895Z"
   },
   {
    "duration": 140,
    "start_time": "2022-06-20T12:03:34.196Z"
   },
   {
    "duration": 144,
    "start_time": "2022-06-20T12:03:42.397Z"
   },
   {
    "duration": 1287,
    "start_time": "2022-06-20T12:03:48.822Z"
   },
   {
    "duration": 124,
    "start_time": "2022-06-20T12:03:55.899Z"
   },
   {
    "duration": 96,
    "start_time": "2022-06-20T12:04:02.298Z"
   },
   {
    "duration": 9,
    "start_time": "2022-06-20T12:04:18.404Z"
   },
   {
    "duration": 12,
    "start_time": "2022-06-20T12:04:25.054Z"
   },
   {
    "duration": 143,
    "start_time": "2022-06-20T12:04:25.630Z"
   },
   {
    "duration": 166,
    "start_time": "2022-06-20T12:04:31.755Z"
   },
   {
    "duration": 1163,
    "start_time": "2022-06-20T12:04:35.104Z"
   },
   {
    "duration": 113,
    "start_time": "2022-06-20T12:04:41.736Z"
   },
   {
    "duration": 12,
    "start_time": "2022-06-20T12:04:46.895Z"
   },
   {
    "duration": 93,
    "start_time": "2022-06-20T12:04:52.044Z"
   },
   {
    "duration": 12,
    "start_time": "2022-06-20T12:05:08.664Z"
   },
   {
    "duration": 1206,
    "start_time": "2022-06-20T12:05:10.524Z"
   },
   {
    "duration": 170,
    "start_time": "2022-06-20T12:05:17.376Z"
   },
   {
    "duration": 166,
    "start_time": "2022-06-20T12:05:23.744Z"
   },
   {
    "duration": 1874,
    "start_time": "2022-06-20T12:09:05.824Z"
   },
   {
    "duration": 11,
    "start_time": "2022-06-20T12:09:09.634Z"
   },
   {
    "duration": 155,
    "start_time": "2022-06-20T12:09:10.534Z"
   },
   {
    "duration": 99,
    "start_time": "2022-06-20T12:09:34.735Z"
   },
   {
    "duration": 12,
    "start_time": "2022-06-20T12:09:52.407Z"
   },
   {
    "duration": 10,
    "start_time": "2022-06-20T12:09:54.634Z"
   },
   {
    "duration": 128,
    "start_time": "2022-06-20T12:10:10.525Z"
   },
   {
    "duration": 143,
    "start_time": "2022-06-20T12:10:16.961Z"
   },
   {
    "duration": 143,
    "start_time": "2022-06-20T12:10:23.395Z"
   },
   {
    "duration": 149,
    "start_time": "2022-06-20T12:10:27.214Z"
   },
   {
    "duration": 153,
    "start_time": "2022-06-20T12:10:32.674Z"
   },
   {
    "duration": 135,
    "start_time": "2022-06-20T12:10:37.613Z"
   },
   {
    "duration": 150,
    "start_time": "2022-06-20T12:10:42.789Z"
   },
   {
    "duration": 151,
    "start_time": "2022-06-20T12:10:50.894Z"
   },
   {
    "duration": 350,
    "start_time": "2022-06-20T12:10:58.054Z"
   },
   {
    "duration": 123,
    "start_time": "2022-06-20T12:11:05.341Z"
   },
   {
    "duration": 110,
    "start_time": "2022-06-20T12:11:09.166Z"
   },
   {
    "duration": 13,
    "start_time": "2022-06-20T12:11:11.854Z"
   },
   {
    "duration": 12,
    "start_time": "2022-06-20T12:11:23.655Z"
   },
   {
    "duration": 9,
    "start_time": "2022-06-20T12:11:24.644Z"
   },
   {
    "duration": 17,
    "start_time": "2022-06-20T12:12:52.696Z"
   },
   {
    "duration": 10,
    "start_time": "2022-06-20T12:12:53.479Z"
   },
   {
    "duration": 158,
    "start_time": "2022-06-20T12:13:16.211Z"
   },
   {
    "duration": 145,
    "start_time": "2022-06-20T12:13:17.797Z"
   },
   {
    "duration": 108,
    "start_time": "2022-06-20T12:13:28.335Z"
   },
   {
    "duration": 97,
    "start_time": "2022-06-20T12:14:02.924Z"
   },
   {
    "duration": 16,
    "start_time": "2022-06-20T12:14:26.934Z"
   },
   {
    "duration": 135,
    "start_time": "2022-06-20T12:14:27.988Z"
   },
   {
    "duration": 123,
    "start_time": "2022-06-20T12:14:33.371Z"
   },
   {
    "duration": 11,
    "start_time": "2022-06-20T12:14:38.849Z"
   },
   {
    "duration": 124,
    "start_time": "2022-06-20T12:14:43.888Z"
   },
   {
    "duration": 12,
    "start_time": "2022-06-20T12:14:55.564Z"
   },
   {
    "duration": 159,
    "start_time": "2022-06-20T12:14:58.017Z"
   },
   {
    "duration": 99,
    "start_time": "2022-06-20T12:14:58.909Z"
   },
   {
    "duration": 106,
    "start_time": "2022-06-20T12:17:00.005Z"
   },
   {
    "duration": 19,
    "start_time": "2022-06-20T12:19:52.986Z"
   },
   {
    "duration": 16,
    "start_time": "2022-06-20T12:19:58.186Z"
   },
   {
    "duration": 5919,
    "start_time": "2022-06-20T12:20:06.411Z"
   },
   {
    "duration": 158,
    "start_time": "2022-06-20T12:20:17.213Z"
   },
   {
    "duration": 156,
    "start_time": "2022-06-20T12:20:25.576Z"
   },
   {
    "duration": 151,
    "start_time": "2022-06-20T12:20:33.589Z"
   },
   {
    "duration": 149,
    "start_time": "2022-06-20T12:20:40.243Z"
   },
   {
    "duration": 122,
    "start_time": "2022-06-20T12:20:46.913Z"
   },
   {
    "duration": 116,
    "start_time": "2022-06-20T12:20:54.771Z"
   },
   {
    "duration": 84,
    "start_time": "2022-06-20T12:20:58.892Z"
   },
   {
    "duration": 96,
    "start_time": "2022-06-20T12:21:01.471Z"
   },
   {
    "duration": 6,
    "start_time": "2022-06-20T12:22:28.985Z"
   },
   {
    "duration": 7,
    "start_time": "2022-06-20T12:22:44.163Z"
   },
   {
    "duration": 6,
    "start_time": "2022-06-20T12:23:10.384Z"
   },
   {
    "duration": 6,
    "start_time": "2022-06-20T12:24:12.494Z"
   },
   {
    "duration": 20,
    "start_time": "2022-06-20T12:24:54.555Z"
   },
   {
    "duration": 165,
    "start_time": "2022-06-20T12:24:55.004Z"
   },
   {
    "duration": 156,
    "start_time": "2022-06-20T12:24:55.780Z"
   },
   {
    "duration": 6,
    "start_time": "2022-06-20T12:25:59.415Z"
   },
   {
    "duration": 6,
    "start_time": "2022-06-20T12:26:55.200Z"
   },
   {
    "duration": 6,
    "start_time": "2022-06-20T12:27:06.188Z"
   },
   {
    "duration": 7,
    "start_time": "2022-06-20T12:27:33.734Z"
   },
   {
    "duration": 12,
    "start_time": "2022-06-20T12:29:48.299Z"
   },
   {
    "duration": 11,
    "start_time": "2022-06-20T12:32:45.415Z"
   },
   {
    "duration": 140,
    "start_time": "2022-06-20T12:33:00.618Z"
   },
   {
    "duration": 7,
    "start_time": "2022-06-20T12:33:01.656Z"
   },
   {
    "duration": 18,
    "start_time": "2022-06-20T12:39:42.041Z"
   },
   {
    "duration": 17,
    "start_time": "2022-06-20T12:40:11.682Z"
   },
   {
    "duration": 19,
    "start_time": "2022-06-20T12:40:28.810Z"
   },
   {
    "duration": 238,
    "start_time": "2022-06-20T12:41:30.193Z"
   },
   {
    "duration": 140,
    "start_time": "2022-06-20T12:42:15.758Z"
   },
   {
    "duration": 117,
    "start_time": "2022-06-20T12:42:31.728Z"
   },
   {
    "duration": 105,
    "start_time": "2022-06-20T12:42:32.777Z"
   },
   {
    "duration": 11,
    "start_time": "2022-06-20T12:43:18.198Z"
   },
   {
    "duration": 23,
    "start_time": "2022-06-20T13:05:26.354Z"
   },
   {
    "duration": 14,
    "start_time": "2022-06-20T13:05:28.457Z"
   },
   {
    "duration": 1751,
    "start_time": "2022-06-20T13:06:00.455Z"
   },
   {
    "duration": 281,
    "start_time": "2022-06-20T13:06:20.897Z"
   },
   {
    "duration": 161,
    "start_time": "2022-06-20T13:06:55.232Z"
   },
   {
    "duration": 225,
    "start_time": "2022-06-20T13:07:21.800Z"
   },
   {
    "duration": 502,
    "start_time": "2022-06-20T13:07:34.871Z"
   },
   {
    "duration": 3,
    "start_time": "2022-06-20T13:08:00.950Z"
   },
   {
    "duration": 23,
    "start_time": "2022-06-20T13:08:12.360Z"
   },
   {
    "duration": 21,
    "start_time": "2022-06-20T13:08:13.718Z"
   },
   {
    "duration": 2,
    "start_time": "2022-06-20T13:08:14.682Z"
   },
   {
    "duration": 222,
    "start_time": "2022-06-20T13:08:20.517Z"
   },
   {
    "duration": 52,
    "start_time": "2022-06-20T16:34:24.598Z"
   },
   {
    "duration": 426,
    "start_time": "2022-06-20T16:34:29.597Z"
   },
   {
    "duration": 1460,
    "start_time": "2022-06-20T16:34:30.026Z"
   },
   {
    "duration": 27,
    "start_time": "2022-06-20T16:34:31.488Z"
   },
   {
    "duration": 26,
    "start_time": "2022-06-20T16:34:31.517Z"
   },
   {
    "duration": 39,
    "start_time": "2022-06-20T16:34:31.555Z"
   },
   {
    "duration": 17,
    "start_time": "2022-06-20T16:34:31.597Z"
   },
   {
    "duration": 14,
    "start_time": "2022-06-20T16:34:31.616Z"
   },
   {
    "duration": 29,
    "start_time": "2022-06-20T16:34:31.644Z"
   },
   {
    "duration": 27,
    "start_time": "2022-06-20T16:34:31.674Z"
   },
   {
    "duration": 18,
    "start_time": "2022-06-20T16:34:31.704Z"
   },
   {
    "duration": 38,
    "start_time": "2022-06-20T16:34:31.744Z"
   },
   {
    "duration": 1101,
    "start_time": "2022-06-20T16:34:31.784Z"
   },
   {
    "duration": 244,
    "start_time": "2022-06-20T16:34:32.887Z"
   },
   {
    "duration": 33,
    "start_time": "2022-06-20T16:34:33.134Z"
   },
   {
    "duration": 31,
    "start_time": "2022-06-20T16:34:33.171Z"
   },
   {
    "duration": 23,
    "start_time": "2022-06-20T16:34:33.209Z"
   },
   {
    "duration": 20,
    "start_time": "2022-06-20T16:34:33.234Z"
   },
   {
    "duration": 46,
    "start_time": "2022-06-20T16:34:33.259Z"
   },
   {
    "duration": 21,
    "start_time": "2022-06-20T16:34:33.307Z"
   },
   {
    "duration": 26,
    "start_time": "2022-06-20T16:34:33.331Z"
   },
   {
    "duration": 202,
    "start_time": "2022-06-20T16:34:33.358Z"
   },
   {
    "duration": 76,
    "start_time": "2022-06-20T16:34:33.565Z"
   },
   {
    "duration": 41,
    "start_time": "2022-06-20T16:34:33.645Z"
   },
   {
    "duration": 75,
    "start_time": "2022-06-20T16:34:33.689Z"
   },
   {
    "duration": 7,
    "start_time": "2022-06-20T16:34:33.766Z"
   },
   {
    "duration": 35,
    "start_time": "2022-06-20T16:34:33.775Z"
   },
   {
    "duration": 142,
    "start_time": "2022-06-20T16:34:33.813Z"
   },
   {
    "duration": 5,
    "start_time": "2022-06-20T16:34:33.967Z"
   },
   {
    "duration": 785,
    "start_time": "2022-06-20T16:34:33.974Z"
   },
   {
    "duration": 71,
    "start_time": "2022-06-20T16:34:34.760Z"
   },
   {
    "duration": 33,
    "start_time": "2022-06-20T16:34:34.833Z"
   },
   {
    "duration": 17,
    "start_time": "2022-06-20T16:34:34.868Z"
   },
   {
    "duration": 20,
    "start_time": "2022-06-20T16:34:34.887Z"
   },
   {
    "duration": 56,
    "start_time": "2022-06-20T16:34:34.909Z"
   },
   {
    "duration": 47,
    "start_time": "2022-06-20T16:34:34.968Z"
   },
   {
    "duration": 41,
    "start_time": "2022-06-20T16:34:35.017Z"
   },
   {
    "duration": 63,
    "start_time": "2022-06-20T16:34:35.061Z"
   },
   {
    "duration": 37,
    "start_time": "2022-06-20T16:34:35.127Z"
   },
   {
    "duration": 8,
    "start_time": "2022-06-20T16:34:35.166Z"
   },
   {
    "duration": 10,
    "start_time": "2022-06-20T16:34:35.176Z"
   },
   {
    "duration": 9,
    "start_time": "2022-06-20T16:34:35.189Z"
   },
   {
    "duration": 158,
    "start_time": "2022-06-20T16:34:35.200Z"
   },
   {
    "duration": 29,
    "start_time": "2022-06-20T16:34:35.359Z"
   },
   {
    "duration": 10,
    "start_time": "2022-06-20T16:34:35.390Z"
   },
   {
    "duration": 13,
    "start_time": "2022-06-20T16:34:35.402Z"
   },
   {
    "duration": 16,
    "start_time": "2022-06-20T16:34:35.444Z"
   },
   {
    "duration": 33,
    "start_time": "2022-06-20T16:34:35.462Z"
   },
   {
    "duration": 20,
    "start_time": "2022-06-20T16:34:35.497Z"
   },
   {
    "duration": 8,
    "start_time": "2022-06-20T16:34:35.519Z"
   },
   {
    "duration": 451,
    "start_time": "2022-06-20T16:34:35.530Z"
   },
   {
    "duration": 181,
    "start_time": "2022-06-20T16:34:35.983Z"
   },
   {
    "duration": 2329,
    "start_time": "2022-06-20T16:34:36.167Z"
   },
   {
    "duration": 0,
    "start_time": "2022-06-20T16:34:38.499Z"
   },
   {
    "duration": 0,
    "start_time": "2022-06-20T16:34:38.501Z"
   },
   {
    "duration": 0,
    "start_time": "2022-06-20T16:34:38.502Z"
   },
   {
    "duration": 0,
    "start_time": "2022-06-20T16:34:38.504Z"
   },
   {
    "duration": 0,
    "start_time": "2022-06-20T16:34:38.505Z"
   },
   {
    "duration": 0,
    "start_time": "2022-06-20T16:34:38.506Z"
   },
   {
    "duration": 0,
    "start_time": "2022-06-20T16:34:38.508Z"
   },
   {
    "duration": 0,
    "start_time": "2022-06-20T16:34:38.511Z"
   },
   {
    "duration": 0,
    "start_time": "2022-06-20T16:34:38.513Z"
   },
   {
    "duration": 0,
    "start_time": "2022-06-20T16:34:38.514Z"
   },
   {
    "duration": 0,
    "start_time": "2022-06-20T16:34:38.515Z"
   },
   {
    "duration": 0,
    "start_time": "2022-06-20T16:34:38.517Z"
   },
   {
    "duration": 0,
    "start_time": "2022-06-20T16:34:38.518Z"
   },
   {
    "duration": 0,
    "start_time": "2022-06-20T16:34:38.519Z"
   },
   {
    "duration": 0,
    "start_time": "2022-06-20T16:34:38.522Z"
   },
   {
    "duration": 0,
    "start_time": "2022-06-20T16:34:38.523Z"
   },
   {
    "duration": 0,
    "start_time": "2022-06-20T16:34:38.524Z"
   },
   {
    "duration": 0,
    "start_time": "2022-06-20T16:34:38.526Z"
   },
   {
    "duration": 0,
    "start_time": "2022-06-20T16:34:38.527Z"
   },
   {
    "duration": 0,
    "start_time": "2022-06-20T16:34:38.528Z"
   },
   {
    "duration": 0,
    "start_time": "2022-06-20T16:34:38.530Z"
   },
   {
    "duration": 0,
    "start_time": "2022-06-20T16:34:38.532Z"
   },
   {
    "duration": 0,
    "start_time": "2022-06-20T16:34:38.533Z"
   },
   {
    "duration": 0,
    "start_time": "2022-06-20T16:34:38.534Z"
   },
   {
    "duration": 0,
    "start_time": "2022-06-20T16:34:38.537Z"
   },
   {
    "duration": 0,
    "start_time": "2022-06-20T16:34:38.538Z"
   },
   {
    "duration": 0,
    "start_time": "2022-06-20T16:34:38.540Z"
   },
   {
    "duration": 0,
    "start_time": "2022-06-20T16:34:38.541Z"
   },
   {
    "duration": 0,
    "start_time": "2022-06-20T16:34:38.542Z"
   },
   {
    "duration": 0,
    "start_time": "2022-06-20T16:34:38.544Z"
   },
   {
    "duration": 0,
    "start_time": "2022-06-20T16:34:38.545Z"
   },
   {
    "duration": 0,
    "start_time": "2022-06-20T16:34:38.546Z"
   },
   {
    "duration": 0,
    "start_time": "2022-06-20T16:34:38.547Z"
   },
   {
    "duration": 0,
    "start_time": "2022-06-20T16:34:38.557Z"
   },
   {
    "duration": 0,
    "start_time": "2022-06-20T16:34:38.558Z"
   },
   {
    "duration": 0,
    "start_time": "2022-06-20T16:34:38.559Z"
   },
   {
    "duration": 0,
    "start_time": "2022-06-20T16:34:38.560Z"
   },
   {
    "duration": 0,
    "start_time": "2022-06-20T16:34:38.561Z"
   },
   {
    "duration": 0,
    "start_time": "2022-06-20T16:34:38.562Z"
   },
   {
    "duration": 4,
    "start_time": "2022-06-20T16:34:38.564Z"
   },
   {
    "duration": 0,
    "start_time": "2022-06-20T16:34:38.569Z"
   },
   {
    "duration": 10,
    "start_time": "2022-06-20T16:35:09.536Z"
   },
   {
    "duration": 19,
    "start_time": "2022-06-20T16:35:34.052Z"
   },
   {
    "duration": 194,
    "start_time": "2022-06-20T16:36:09.302Z"
   },
   {
    "duration": 27,
    "start_time": "2022-06-20T16:36:27.478Z"
   },
   {
    "duration": 17,
    "start_time": "2022-06-20T16:36:30.240Z"
   },
   {
    "duration": 3,
    "start_time": "2022-06-20T16:36:33.161Z"
   },
   {
    "duration": 234,
    "start_time": "2022-06-20T16:36:36.457Z"
   },
   {
    "duration": 759,
    "start_time": "2022-06-20T16:36:54.739Z"
   },
   {
    "duration": 418,
    "start_time": "2022-06-20T16:37:07.963Z"
   },
   {
    "duration": 884,
    "start_time": "2022-06-20T16:37:17.123Z"
   },
   {
    "duration": 233,
    "start_time": "2022-06-20T16:38:31.189Z"
   },
   {
    "duration": 174,
    "start_time": "2022-06-20T16:38:42.191Z"
   },
   {
    "duration": 23,
    "start_time": "2022-06-20T16:38:43.031Z"
   },
   {
    "duration": 39,
    "start_time": "2022-06-20T16:39:14.734Z"
   },
   {
    "duration": 24,
    "start_time": "2022-06-20T16:39:32.641Z"
   },
   {
    "duration": 13,
    "start_time": "2022-06-20T16:39:33.282Z"
   },
   {
    "duration": 46,
    "start_time": "2022-06-20T16:39:47.035Z"
   },
   {
    "duration": 18,
    "start_time": "2022-06-20T16:39:48.675Z"
   },
   {
    "duration": 218,
    "start_time": "2022-06-20T16:40:13.829Z"
   },
   {
    "duration": 230,
    "start_time": "2022-06-20T16:40:18.162Z"
   },
   {
    "duration": 239,
    "start_time": "2022-06-20T16:40:42.028Z"
   },
   {
    "duration": 195,
    "start_time": "2022-06-20T16:40:59.089Z"
   },
   {
    "duration": 244,
    "start_time": "2022-06-20T16:41:16.425Z"
   },
   {
    "duration": 389,
    "start_time": "2022-06-20T16:41:59.366Z"
   },
   {
    "duration": 408,
    "start_time": "2022-06-20T16:44:00.623Z"
   },
   {
    "duration": 225,
    "start_time": "2022-06-20T16:44:12.797Z"
   },
   {
    "duration": 9,
    "start_time": "2022-06-20T16:44:39.583Z"
   },
   {
    "duration": 126,
    "start_time": "2022-06-20T16:45:27.831Z"
   },
   {
    "duration": 261,
    "start_time": "2022-06-20T16:45:56.797Z"
   },
   {
    "duration": 316,
    "start_time": "2022-06-20T16:46:32.112Z"
   },
   {
    "duration": 207,
    "start_time": "2022-06-20T16:46:47.494Z"
   },
   {
    "duration": 253,
    "start_time": "2022-06-20T16:46:53.558Z"
   },
   {
    "duration": 178,
    "start_time": "2022-06-20T16:46:55.031Z"
   },
   {
    "duration": 12,
    "start_time": "2022-06-20T16:47:06.440Z"
   },
   {
    "duration": 16,
    "start_time": "2022-06-20T16:47:22.896Z"
   },
   {
    "duration": 22,
    "start_time": "2022-06-20T16:47:27.570Z"
   },
   {
    "duration": 305,
    "start_time": "2022-06-20T16:47:28.226Z"
   },
   {
    "duration": 166,
    "start_time": "2022-06-20T16:47:28.637Z"
   },
   {
    "duration": 38,
    "start_time": "2022-06-20T16:47:42.962Z"
   },
   {
    "duration": 227,
    "start_time": "2022-06-20T16:47:50.071Z"
   },
   {
    "duration": 148,
    "start_time": "2022-06-20T16:48:05.378Z"
   },
   {
    "duration": 427,
    "start_time": "2022-06-20T16:50:40.199Z"
   },
   {
    "duration": 376,
    "start_time": "2022-06-20T16:51:00.629Z"
   },
   {
    "duration": 24,
    "start_time": "2022-06-20T16:51:22.369Z"
   },
   {
    "duration": 162,
    "start_time": "2022-06-20T16:51:38.168Z"
   },
   {
    "duration": 178,
    "start_time": "2022-06-20T16:52:11.129Z"
   },
   {
    "duration": 189,
    "start_time": "2022-06-20T16:54:37.110Z"
   },
   {
    "duration": 178,
    "start_time": "2022-06-20T16:54:54.775Z"
   },
   {
    "duration": 152,
    "start_time": "2022-06-20T16:55:05.854Z"
   },
   {
    "duration": 318,
    "start_time": "2022-06-20T16:55:13.935Z"
   },
   {
    "duration": 162,
    "start_time": "2022-06-20T16:57:35.429Z"
   },
   {
    "duration": 225,
    "start_time": "2022-06-20T16:57:51.725Z"
   },
   {
    "duration": 246,
    "start_time": "2022-06-20T16:58:03.331Z"
   },
   {
    "duration": 237,
    "start_time": "2022-06-20T16:58:20.557Z"
   },
   {
    "duration": 222,
    "start_time": "2022-06-20T16:58:22.377Z"
   },
   {
    "duration": 247,
    "start_time": "2022-06-20T16:58:43.925Z"
   },
   {
    "duration": 339,
    "start_time": "2022-06-20T17:00:05.289Z"
   },
   {
    "duration": 299,
    "start_time": "2022-06-20T17:00:48.621Z"
   },
   {
    "duration": 595,
    "start_time": "2022-06-20T17:01:01.236Z"
   },
   {
    "duration": 362,
    "start_time": "2022-06-20T17:01:15.438Z"
   },
   {
    "duration": 253,
    "start_time": "2022-06-20T17:01:21.885Z"
   },
   {
    "duration": 184,
    "start_time": "2022-06-20T17:01:30.621Z"
   },
   {
    "duration": 27,
    "start_time": "2022-06-20T17:02:29.778Z"
   },
   {
    "duration": 192,
    "start_time": "2022-06-20T17:02:30.524Z"
   },
   {
    "duration": 33,
    "start_time": "2022-06-20T17:02:53.233Z"
   },
   {
    "duration": 26,
    "start_time": "2022-06-20T17:03:52.259Z"
   },
   {
    "duration": 1451,
    "start_time": "2022-06-20T17:03:53.144Z"
   },
   {
    "duration": 347,
    "start_time": "2022-06-20T17:04:00.985Z"
   },
   {
    "duration": 15,
    "start_time": "2022-06-20T17:04:28.512Z"
   },
   {
    "duration": 190,
    "start_time": "2022-06-20T17:05:25.912Z"
   },
   {
    "duration": 186,
    "start_time": "2022-06-20T17:05:33.181Z"
   },
   {
    "duration": 182,
    "start_time": "2022-06-20T17:05:40.533Z"
   },
   {
    "duration": 13,
    "start_time": "2022-06-20T17:05:50.997Z"
   },
   {
    "duration": 163,
    "start_time": "2022-06-20T17:05:55.478Z"
   },
   {
    "duration": 14,
    "start_time": "2022-06-20T17:06:00.320Z"
   },
   {
    "duration": 25,
    "start_time": "2022-06-20T17:06:10.156Z"
   },
   {
    "duration": 214,
    "start_time": "2022-06-20T17:06:12.065Z"
   },
   {
    "duration": 185,
    "start_time": "2022-06-20T17:06:17.375Z"
   },
   {
    "duration": 12,
    "start_time": "2022-06-20T17:06:42.318Z"
   },
   {
    "duration": 22,
    "start_time": "2022-06-20T17:06:47.899Z"
   },
   {
    "duration": 29,
    "start_time": "2022-06-20T17:06:48.532Z"
   },
   {
    "duration": 46,
    "start_time": "2022-06-20T17:07:13.091Z"
   },
   {
    "duration": 30,
    "start_time": "2022-06-20T17:07:13.987Z"
   },
   {
    "duration": 199,
    "start_time": "2022-06-20T17:07:33.972Z"
   },
   {
    "duration": 190,
    "start_time": "2022-06-20T17:07:49.086Z"
   },
   {
    "duration": 187,
    "start_time": "2022-06-20T17:08:26.671Z"
   },
   {
    "duration": 17,
    "start_time": "2022-06-20T17:09:10.798Z"
   },
   {
    "duration": 137,
    "start_time": "2022-06-20T17:09:12.262Z"
   },
   {
    "duration": 29,
    "start_time": "2022-06-20T17:09:13.239Z"
   },
   {
    "duration": 28,
    "start_time": "2022-06-20T17:09:22.339Z"
   },
   {
    "duration": 181,
    "start_time": "2022-06-20T17:09:56.710Z"
   },
   {
    "duration": 29,
    "start_time": "2022-06-20T17:09:57.520Z"
   },
   {
    "duration": 345,
    "start_time": "2022-06-20T17:10:08.469Z"
   },
   {
    "duration": 194,
    "start_time": "2022-06-20T17:10:15.235Z"
   },
   {
    "duration": 163,
    "start_time": "2022-06-20T17:10:22.332Z"
   },
   {
    "duration": 1638,
    "start_time": "2022-06-20T17:10:46.770Z"
   },
   {
    "duration": 27,
    "start_time": "2022-06-20T17:11:11.571Z"
   },
   {
    "duration": 22,
    "start_time": "2022-06-20T17:11:27.359Z"
   },
   {
    "duration": 1316,
    "start_time": "2022-06-20T17:17:01.170Z"
   },
   {
    "duration": 8,
    "start_time": "2022-06-20T17:17:33.483Z"
   },
   {
    "duration": 8,
    "start_time": "2022-06-20T17:17:40.074Z"
   },
   {
    "duration": 8,
    "start_time": "2022-06-20T17:18:17.269Z"
   },
   {
    "duration": 7,
    "start_time": "2022-06-20T17:20:15.780Z"
   },
   {
    "duration": 6,
    "start_time": "2022-06-20T17:20:41.827Z"
   },
   {
    "duration": 10,
    "start_time": "2022-06-20T17:20:45.954Z"
   },
   {
    "duration": 15,
    "start_time": "2022-06-20T17:20:58.456Z"
   },
   {
    "duration": 1736,
    "start_time": "2022-06-20T17:25:10.479Z"
   },
   {
    "duration": 9,
    "start_time": "2022-06-20T17:26:14.989Z"
   },
   {
    "duration": 12,
    "start_time": "2022-06-20T17:26:25.317Z"
   },
   {
    "duration": 12,
    "start_time": "2022-06-20T17:26:41.134Z"
   },
   {
    "duration": 9,
    "start_time": "2022-06-20T17:26:42.325Z"
   },
   {
    "duration": 11,
    "start_time": "2022-06-20T17:28:40.709Z"
   },
   {
    "duration": 3,
    "start_time": "2022-06-20T17:29:02.033Z"
   },
   {
    "duration": 11,
    "start_time": "2022-06-20T17:29:03.832Z"
   },
   {
    "duration": 16,
    "start_time": "2022-06-20T17:29:04.363Z"
   },
   {
    "duration": 7,
    "start_time": "2022-06-20T17:29:05.261Z"
   },
   {
    "duration": 6,
    "start_time": "2022-06-20T17:29:29.227Z"
   },
   {
    "duration": 7,
    "start_time": "2022-06-20T17:30:49.231Z"
   },
   {
    "duration": 11,
    "start_time": "2022-06-20T17:30:54.168Z"
   },
   {
    "duration": 8,
    "start_time": "2022-06-20T17:31:45.968Z"
   },
   {
    "duration": 12,
    "start_time": "2022-06-20T17:31:47.260Z"
   },
   {
    "duration": 6,
    "start_time": "2022-06-20T17:31:58.316Z"
   },
   {
    "duration": 7,
    "start_time": "2022-06-20T17:32:00.675Z"
   },
   {
    "duration": 5,
    "start_time": "2022-06-20T17:32:43.974Z"
   },
   {
    "duration": 7,
    "start_time": "2022-06-20T17:32:44.420Z"
   },
   {
    "duration": 8,
    "start_time": "2022-06-20T17:32:44.884Z"
   },
   {
    "duration": 6,
    "start_time": "2022-06-20T17:32:45.528Z"
   },
   {
    "duration": 7,
    "start_time": "2022-06-20T17:32:46.381Z"
   },
   {
    "duration": 658,
    "start_time": "2022-06-21T06:35:29.347Z"
   },
   {
    "duration": 3,
    "start_time": "2022-06-21T06:35:32.365Z"
   },
   {
    "duration": 3,
    "start_time": "2022-06-21T06:35:35.015Z"
   },
   {
    "duration": 73,
    "start_time": "2022-06-21T06:35:36.405Z"
   },
   {
    "duration": 550,
    "start_time": "2022-06-21T06:35:54.722Z"
   },
   {
    "duration": 1255,
    "start_time": "2022-06-21T06:35:55.274Z"
   },
   {
    "duration": 29,
    "start_time": "2022-06-21T06:35:56.531Z"
   },
   {
    "duration": 26,
    "start_time": "2022-06-21T06:35:56.563Z"
   },
   {
    "duration": 42,
    "start_time": "2022-06-21T06:35:56.592Z"
   },
   {
    "duration": 12,
    "start_time": "2022-06-21T06:35:56.636Z"
   },
   {
    "duration": 20,
    "start_time": "2022-06-21T06:35:56.651Z"
   },
   {
    "duration": 35,
    "start_time": "2022-06-21T06:35:56.676Z"
   },
   {
    "duration": 40,
    "start_time": "2022-06-21T06:35:56.725Z"
   },
   {
    "duration": 26,
    "start_time": "2022-06-21T06:35:56.767Z"
   },
   {
    "duration": 54,
    "start_time": "2022-06-21T06:35:56.795Z"
   },
   {
    "duration": 1044,
    "start_time": "2022-06-21T06:35:56.851Z"
   },
   {
    "duration": 192,
    "start_time": "2022-06-21T06:35:57.897Z"
   },
   {
    "duration": 12,
    "start_time": "2022-06-21T06:35:58.092Z"
   },
   {
    "duration": 41,
    "start_time": "2022-06-21T06:35:58.107Z"
   },
   {
    "duration": 7,
    "start_time": "2022-06-21T06:35:58.150Z"
   },
   {
    "duration": 100,
    "start_time": "2022-06-21T06:35:58.159Z"
   },
   {
    "duration": 14,
    "start_time": "2022-06-21T06:35:58.263Z"
   },
   {
    "duration": 8,
    "start_time": "2022-06-21T06:35:58.279Z"
   },
   {
    "duration": 9,
    "start_time": "2022-06-21T06:35:58.289Z"
   },
   {
    "duration": 76,
    "start_time": "2022-06-21T06:35:58.299Z"
   },
   {
    "duration": 57,
    "start_time": "2022-06-21T06:35:58.377Z"
   },
   {
    "duration": 23,
    "start_time": "2022-06-21T06:35:58.436Z"
   },
   {
    "duration": 35,
    "start_time": "2022-06-21T06:35:58.460Z"
   },
   {
    "duration": 6,
    "start_time": "2022-06-21T06:35:58.497Z"
   },
   {
    "duration": 22,
    "start_time": "2022-06-21T06:35:58.527Z"
   },
   {
    "duration": 105,
    "start_time": "2022-06-21T06:35:58.551Z"
   },
   {
    "duration": 6,
    "start_time": "2022-06-21T06:35:58.658Z"
   },
   {
    "duration": 770,
    "start_time": "2022-06-21T06:35:58.665Z"
   },
   {
    "duration": 65,
    "start_time": "2022-06-21T06:35:59.437Z"
   },
   {
    "duration": 34,
    "start_time": "2022-06-21T06:35:59.503Z"
   },
   {
    "duration": 12,
    "start_time": "2022-06-21T06:35:59.539Z"
   },
   {
    "duration": 16,
    "start_time": "2022-06-21T06:35:59.552Z"
   },
   {
    "duration": 55,
    "start_time": "2022-06-21T06:35:59.571Z"
   },
   {
    "duration": 25,
    "start_time": "2022-06-21T06:35:59.628Z"
   },
   {
    "duration": 23,
    "start_time": "2022-06-21T06:35:59.655Z"
   },
   {
    "duration": 58,
    "start_time": "2022-06-21T06:35:59.681Z"
   },
   {
    "duration": 25,
    "start_time": "2022-06-21T06:35:59.741Z"
   },
   {
    "duration": 8,
    "start_time": "2022-06-21T06:35:59.769Z"
   },
   {
    "duration": 11,
    "start_time": "2022-06-21T06:35:59.779Z"
   },
   {
    "duration": 31,
    "start_time": "2022-06-21T06:35:59.796Z"
   },
   {
    "duration": 155,
    "start_time": "2022-06-21T06:35:59.829Z"
   },
   {
    "duration": 40,
    "start_time": "2022-06-21T06:35:59.985Z"
   },
   {
    "duration": 24,
    "start_time": "2022-06-21T06:36:00.028Z"
   },
   {
    "duration": 27,
    "start_time": "2022-06-21T06:36:00.054Z"
   },
   {
    "duration": 15,
    "start_time": "2022-06-21T06:36:00.084Z"
   },
   {
    "duration": 45,
    "start_time": "2022-06-21T06:36:00.100Z"
   },
   {
    "duration": 16,
    "start_time": "2022-06-21T06:36:00.149Z"
   },
   {
    "duration": 16,
    "start_time": "2022-06-21T06:36:00.168Z"
   },
   {
    "duration": 247,
    "start_time": "2022-06-21T06:36:00.187Z"
   },
   {
    "duration": 152,
    "start_time": "2022-06-21T06:36:00.437Z"
   },
   {
    "duration": 14,
    "start_time": "2022-06-21T06:36:00.591Z"
   },
   {
    "duration": 41,
    "start_time": "2022-06-21T06:36:00.606Z"
   },
   {
    "duration": 14,
    "start_time": "2022-06-21T06:36:00.649Z"
   },
   {
    "duration": 202,
    "start_time": "2022-06-21T06:36:00.664Z"
   },
   {
    "duration": 251,
    "start_time": "2022-06-21T06:36:00.868Z"
   },
   {
    "duration": 0,
    "start_time": "2022-06-21T06:36:01.121Z"
   },
   {
    "duration": 0,
    "start_time": "2022-06-21T06:36:01.125Z"
   },
   {
    "duration": 0,
    "start_time": "2022-06-21T06:36:01.127Z"
   },
   {
    "duration": 0,
    "start_time": "2022-06-21T06:36:01.128Z"
   },
   {
    "duration": 0,
    "start_time": "2022-06-21T06:36:01.129Z"
   },
   {
    "duration": 0,
    "start_time": "2022-06-21T06:36:01.131Z"
   },
   {
    "duration": 0,
    "start_time": "2022-06-21T06:36:01.133Z"
   },
   {
    "duration": 0,
    "start_time": "2022-06-21T06:36:01.134Z"
   },
   {
    "duration": 0,
    "start_time": "2022-06-21T06:36:01.135Z"
   },
   {
    "duration": 0,
    "start_time": "2022-06-21T06:36:01.137Z"
   },
   {
    "duration": 0,
    "start_time": "2022-06-21T06:36:01.138Z"
   },
   {
    "duration": 0,
    "start_time": "2022-06-21T06:36:01.139Z"
   },
   {
    "duration": 0,
    "start_time": "2022-06-21T06:36:01.140Z"
   },
   {
    "duration": 0,
    "start_time": "2022-06-21T06:36:01.142Z"
   },
   {
    "duration": 0,
    "start_time": "2022-06-21T06:36:01.143Z"
   },
   {
    "duration": 0,
    "start_time": "2022-06-21T06:36:01.145Z"
   },
   {
    "duration": 0,
    "start_time": "2022-06-21T06:36:01.146Z"
   },
   {
    "duration": 0,
    "start_time": "2022-06-21T06:36:01.148Z"
   },
   {
    "duration": 0,
    "start_time": "2022-06-21T06:36:01.148Z"
   },
   {
    "duration": 0,
    "start_time": "2022-06-21T06:36:01.149Z"
   },
   {
    "duration": 0,
    "start_time": "2022-06-21T06:36:01.150Z"
   },
   {
    "duration": 0,
    "start_time": "2022-06-21T06:36:01.151Z"
   },
   {
    "duration": 0,
    "start_time": "2022-06-21T06:36:01.153Z"
   },
   {
    "duration": 0,
    "start_time": "2022-06-21T06:36:01.154Z"
   },
   {
    "duration": 0,
    "start_time": "2022-06-21T06:36:01.155Z"
   },
   {
    "duration": 0,
    "start_time": "2022-06-21T06:36:01.156Z"
   },
   {
    "duration": 0,
    "start_time": "2022-06-21T06:36:01.157Z"
   },
   {
    "duration": 0,
    "start_time": "2022-06-21T06:36:01.158Z"
   },
   {
    "duration": 0,
    "start_time": "2022-06-21T06:36:01.159Z"
   },
   {
    "duration": 0,
    "start_time": "2022-06-21T06:36:01.160Z"
   },
   {
    "duration": 0,
    "start_time": "2022-06-21T06:36:01.162Z"
   },
   {
    "duration": 0,
    "start_time": "2022-06-21T06:36:01.163Z"
   },
   {
    "duration": 0,
    "start_time": "2022-06-21T06:36:01.164Z"
   },
   {
    "duration": 0,
    "start_time": "2022-06-21T06:36:01.226Z"
   },
   {
    "duration": 0,
    "start_time": "2022-06-21T06:36:01.227Z"
   },
   {
    "duration": 0,
    "start_time": "2022-06-21T06:36:01.229Z"
   },
   {
    "duration": 0,
    "start_time": "2022-06-21T06:36:01.230Z"
   },
   {
    "duration": 0,
    "start_time": "2022-06-21T06:36:01.231Z"
   },
   {
    "duration": 0,
    "start_time": "2022-06-21T06:36:01.232Z"
   },
   {
    "duration": 0,
    "start_time": "2022-06-21T06:36:01.233Z"
   },
   {
    "duration": 0,
    "start_time": "2022-06-21T06:36:01.235Z"
   },
   {
    "duration": 0,
    "start_time": "2022-06-21T06:36:01.236Z"
   },
   {
    "duration": 0,
    "start_time": "2022-06-21T06:36:01.238Z"
   },
   {
    "duration": 0,
    "start_time": "2022-06-21T06:36:01.239Z"
   },
   {
    "duration": 0,
    "start_time": "2022-06-21T06:36:01.240Z"
   },
   {
    "duration": 0,
    "start_time": "2022-06-21T06:36:01.241Z"
   },
   {
    "duration": 3,
    "start_time": "2022-06-21T06:36:13.732Z"
   },
   {
    "duration": 427,
    "start_time": "2022-06-21T06:36:14.297Z"
   },
   {
    "duration": 24,
    "start_time": "2022-06-21T06:36:15.443Z"
   },
   {
    "duration": 21,
    "start_time": "2022-06-21T06:36:16.034Z"
   },
   {
    "duration": 22,
    "start_time": "2022-06-21T06:36:16.643Z"
   },
   {
    "duration": 19,
    "start_time": "2022-06-21T06:36:17.197Z"
   },
   {
    "duration": 11,
    "start_time": "2022-06-21T06:36:17.701Z"
   },
   {
    "duration": 13,
    "start_time": "2022-06-21T06:36:19.931Z"
   },
   {
    "duration": 24,
    "start_time": "2022-06-21T06:36:20.909Z"
   },
   {
    "duration": 15,
    "start_time": "2022-06-21T06:36:21.613Z"
   },
   {
    "duration": 18,
    "start_time": "2022-06-21T06:36:22.117Z"
   },
   {
    "duration": 488,
    "start_time": "2022-06-21T06:36:23.386Z"
   },
   {
    "duration": 179,
    "start_time": "2022-06-21T06:36:24.642Z"
   },
   {
    "duration": 15,
    "start_time": "2022-06-21T06:36:26.008Z"
   },
   {
    "duration": 15,
    "start_time": "2022-06-21T06:36:26.614Z"
   },
   {
    "duration": 13,
    "start_time": "2022-06-21T06:36:27.160Z"
   },
   {
    "duration": 8,
    "start_time": "2022-06-21T06:36:27.737Z"
   },
   {
    "duration": 12,
    "start_time": "2022-06-21T06:36:28.389Z"
   },
   {
    "duration": 5,
    "start_time": "2022-06-21T06:36:28.927Z"
   },
   {
    "duration": 10,
    "start_time": "2022-06-21T06:36:30.086Z"
   },
   {
    "duration": 65,
    "start_time": "2022-06-21T06:36:31.610Z"
   },
   {
    "duration": 43,
    "start_time": "2022-06-21T06:36:32.386Z"
   },
   {
    "duration": 22,
    "start_time": "2022-06-21T06:36:34.051Z"
   },
   {
    "duration": 33,
    "start_time": "2022-06-21T06:36:35.199Z"
   },
   {
    "duration": 9,
    "start_time": "2022-06-21T06:36:35.613Z"
   },
   {
    "duration": 23,
    "start_time": "2022-06-21T06:36:36.709Z"
   },
   {
    "duration": 74,
    "start_time": "2022-06-21T06:36:39.385Z"
   },
   {
    "duration": 5,
    "start_time": "2022-06-21T06:36:40.431Z"
   },
   {
    "duration": 739,
    "start_time": "2022-06-21T06:36:41.101Z"
   },
   {
    "duration": 63,
    "start_time": "2022-06-21T06:36:41.842Z"
   },
   {
    "duration": 25,
    "start_time": "2022-06-21T06:36:42.885Z"
   },
   {
    "duration": 14,
    "start_time": "2022-06-21T06:36:43.451Z"
   },
   {
    "duration": 14,
    "start_time": "2022-06-21T06:36:44.140Z"
   },
   {
    "duration": 23,
    "start_time": "2022-06-21T06:36:44.816Z"
   },
   {
    "duration": 24,
    "start_time": "2022-06-21T06:36:45.486Z"
   },
   {
    "duration": 22,
    "start_time": "2022-06-21T06:36:46.489Z"
   },
   {
    "duration": 37,
    "start_time": "2022-06-21T06:36:50.552Z"
   },
   {
    "duration": 24,
    "start_time": "2022-06-21T06:36:51.252Z"
   },
   {
    "duration": 6,
    "start_time": "2022-06-21T06:36:52.598Z"
   },
   {
    "duration": 5,
    "start_time": "2022-06-21T06:36:53.233Z"
   },
   {
    "duration": 3,
    "start_time": "2022-06-21T06:36:55.234Z"
   },
   {
    "duration": 124,
    "start_time": "2022-06-21T06:36:55.936Z"
   },
   {
    "duration": 28,
    "start_time": "2022-06-21T06:36:57.221Z"
   },
   {
    "duration": 10,
    "start_time": "2022-06-21T06:36:58.023Z"
   },
   {
    "duration": 11,
    "start_time": "2022-06-21T06:36:59.133Z"
   },
   {
    "duration": 4,
    "start_time": "2022-06-21T06:37:03.185Z"
   },
   {
    "duration": 41,
    "start_time": "2022-06-21T06:37:04.123Z"
   },
   {
    "duration": 21,
    "start_time": "2022-06-21T06:37:04.818Z"
   },
   {
    "duration": 4,
    "start_time": "2022-06-21T06:37:05.443Z"
   },
   {
    "duration": 159,
    "start_time": "2022-06-21T06:37:06.851Z"
   },
   {
    "duration": 147,
    "start_time": "2022-06-21T06:37:08.320Z"
   },
   {
    "duration": 16,
    "start_time": "2022-06-21T06:37:09.009Z"
   },
   {
    "duration": 27,
    "start_time": "2022-06-21T06:37:10.422Z"
   },
   {
    "duration": 14,
    "start_time": "2022-06-21T06:37:11.025Z"
   },
   {
    "duration": 213,
    "start_time": "2022-06-21T06:37:11.626Z"
   },
   {
    "duration": 157,
    "start_time": "2022-06-21T06:37:12.997Z"
   },
   {
    "duration": 131,
    "start_time": "2022-06-21T06:37:14.285Z"
   },
   {
    "duration": 1388,
    "start_time": "2022-06-21T06:37:14.856Z"
   },
   {
    "duration": 41,
    "start_time": "2022-06-21T06:37:16.642Z"
   },
   {
    "duration": 263,
    "start_time": "2022-06-21T06:37:17.788Z"
   },
   {
    "duration": 36,
    "start_time": "2022-06-21T06:37:18.314Z"
   },
   {
    "duration": 144,
    "start_time": "2022-06-21T06:37:19.096Z"
   },
   {
    "duration": 14,
    "start_time": "2022-06-21T06:37:19.632Z"
   },
   {
    "duration": 24,
    "start_time": "2022-06-21T06:37:20.896Z"
   },
   {
    "duration": 186,
    "start_time": "2022-06-21T06:37:21.485Z"
   },
   {
    "duration": 174,
    "start_time": "2022-06-21T06:37:22.252Z"
   },
   {
    "duration": 14,
    "start_time": "2022-06-21T06:37:23.156Z"
   },
   {
    "duration": 54,
    "start_time": "2022-06-21T06:37:24.288Z"
   },
   {
    "duration": 24,
    "start_time": "2022-06-21T06:37:24.901Z"
   },
   {
    "duration": 182,
    "start_time": "2022-06-21T06:37:25.504Z"
   },
   {
    "duration": 172,
    "start_time": "2022-06-21T06:37:26.252Z"
   },
   {
    "duration": 3,
    "start_time": "2022-06-21T06:37:27.191Z"
   },
   {
    "duration": 3,
    "start_time": "2022-06-21T06:37:28.205Z"
   },
   {
    "duration": 133,
    "start_time": "2022-06-21T06:37:28.816Z"
   },
   {
    "duration": 13,
    "start_time": "2022-06-21T06:37:29.728Z"
   },
   {
    "duration": 160,
    "start_time": "2022-06-21T06:37:31.351Z"
   },
   {
    "duration": 14,
    "start_time": "2022-06-21T06:37:32.325Z"
   },
   {
    "duration": 56,
    "start_time": "2022-06-21T06:37:35.057Z"
   },
   {
    "duration": 25,
    "start_time": "2022-06-21T06:37:36.082Z"
   },
   {
    "duration": 338,
    "start_time": "2022-06-21T06:37:36.850Z"
   },
   {
    "duration": 135,
    "start_time": "2022-06-21T06:37:37.536Z"
   },
   {
    "duration": 261,
    "start_time": "2022-06-21T06:37:38.745Z"
   },
   {
    "duration": 16,
    "start_time": "2022-06-21T06:37:39.636Z"
   },
   {
    "duration": 17,
    "start_time": "2022-06-21T06:37:40.405Z"
   },
   {
    "duration": 4,
    "start_time": "2022-06-21T06:37:41.916Z"
   },
   {
    "duration": 10,
    "start_time": "2022-06-21T06:37:42.585Z"
   },
   {
    "duration": 8,
    "start_time": "2022-06-21T06:37:43.300Z"
   },
   {
    "duration": 8,
    "start_time": "2022-06-21T06:37:44.040Z"
   },
   {
    "duration": 12,
    "start_time": "2022-06-21T06:37:44.653Z"
   },
   {
    "duration": 411,
    "start_time": "2022-06-21T06:37:48.309Z"
   },
   {
    "duration": 2,
    "start_time": "2022-06-21T06:37:49.613Z"
   },
   {
    "duration": 3,
    "start_time": "2022-06-21T06:37:50.385Z"
   },
   {
    "duration": 5,
    "start_time": "2022-06-21T06:37:51.059Z"
   },
   {
    "duration": 3,
    "start_time": "2022-06-21T06:38:06.421Z"
   },
   {
    "duration": 4,
    "start_time": "2022-06-21T06:38:20.996Z"
   },
   {
    "duration": 8,
    "start_time": "2022-06-21T06:38:32.806Z"
   },
   {
    "duration": 6,
    "start_time": "2022-06-21T06:38:34.397Z"
   },
   {
    "duration": 7,
    "start_time": "2022-06-21T06:38:52.717Z"
   },
   {
    "duration": 6,
    "start_time": "2022-06-21T06:39:37.514Z"
   },
   {
    "duration": 7,
    "start_time": "2022-06-21T06:39:39.836Z"
   },
   {
    "duration": 35,
    "start_time": "2022-06-21T06:39:48.291Z"
   },
   {
    "duration": 11,
    "start_time": "2022-06-21T06:46:29.731Z"
   },
   {
    "duration": 6,
    "start_time": "2022-06-21T06:46:52.207Z"
   },
   {
    "duration": 7,
    "start_time": "2022-06-21T06:46:52.896Z"
   },
   {
    "duration": 7,
    "start_time": "2022-06-21T06:46:53.950Z"
   },
   {
    "duration": 6,
    "start_time": "2022-06-21T06:46:54.571Z"
   },
   {
    "duration": 181,
    "start_time": "2022-06-21T06:46:56.985Z"
   },
   {
    "duration": 4,
    "start_time": "2022-06-21T06:47:13.553Z"
   },
   {
    "duration": 3,
    "start_time": "2022-06-21T06:47:14.185Z"
   },
   {
    "duration": 12,
    "start_time": "2022-06-21T06:47:15.241Z"
   },
   {
    "duration": 5,
    "start_time": "2022-06-21T06:47:16.081Z"
   },
   {
    "duration": 4,
    "start_time": "2022-06-21T06:47:17.585Z"
   },
   {
    "duration": 4,
    "start_time": "2022-06-21T06:47:23.113Z"
   },
   {
    "duration": 7,
    "start_time": "2022-06-21T06:47:30.757Z"
   },
   {
    "duration": 5,
    "start_time": "2022-06-21T06:47:31.904Z"
   },
   {
    "duration": 9,
    "start_time": "2022-06-21T06:51:25.651Z"
   },
   {
    "duration": 9,
    "start_time": "2022-06-21T06:51:33.989Z"
   },
   {
    "duration": 8,
    "start_time": "2022-06-21T06:51:42.988Z"
   },
   {
    "duration": 11,
    "start_time": "2022-06-21T06:51:43.682Z"
   },
   {
    "duration": 4,
    "start_time": "2022-06-21T06:51:52.555Z"
   },
   {
    "duration": 3,
    "start_time": "2022-06-21T06:51:53.624Z"
   },
   {
    "duration": 3,
    "start_time": "2022-06-21T06:51:55.010Z"
   },
   {
    "duration": 13,
    "start_time": "2022-06-21T06:51:59.731Z"
   },
   {
    "duration": 21,
    "start_time": "2022-06-21T06:52:05.532Z"
   },
   {
    "duration": 20,
    "start_time": "2022-06-21T06:52:06.352Z"
   },
   {
    "duration": 162,
    "start_time": "2022-06-21T06:52:10.043Z"
   },
   {
    "duration": 147,
    "start_time": "2022-06-21T06:52:13.788Z"
   },
   {
    "duration": 10,
    "start_time": "2022-06-21T06:52:18.980Z"
   },
   {
    "duration": 11,
    "start_time": "2022-06-21T06:52:29.612Z"
   },
   {
    "duration": 148,
    "start_time": "2022-06-21T07:16:32.528Z"
   },
   {
    "duration": 1385,
    "start_time": "2022-06-21T07:16:35.241Z"
   },
   {
    "duration": 20,
    "start_time": "2022-06-21T07:16:56.676Z"
   },
   {
    "duration": 20,
    "start_time": "2022-06-21T07:25:45.442Z"
   },
   {
    "duration": 14,
    "start_time": "2022-06-21T07:26:55.951Z"
   },
   {
    "duration": 11,
    "start_time": "2022-06-21T07:31:34.722Z"
   },
   {
    "duration": 18,
    "start_time": "2022-06-21T07:31:52.331Z"
   },
   {
    "duration": 13,
    "start_time": "2022-06-21T07:39:17.323Z"
   },
   {
    "duration": 13,
    "start_time": "2022-06-21T07:41:04.295Z"
   },
   {
    "duration": 14,
    "start_time": "2022-06-21T07:42:31.600Z"
   },
   {
    "duration": 9,
    "start_time": "2022-06-21T07:48:59.991Z"
   },
   {
    "duration": 445,
    "start_time": "2022-06-21T20:52:09.065Z"
   },
   {
    "duration": 1085,
    "start_time": "2022-06-21T20:52:09.513Z"
   },
   {
    "duration": 30,
    "start_time": "2022-06-21T20:52:10.599Z"
   },
   {
    "duration": 39,
    "start_time": "2022-06-21T20:52:10.631Z"
   },
   {
    "duration": 25,
    "start_time": "2022-06-21T20:52:10.673Z"
   },
   {
    "duration": 11,
    "start_time": "2022-06-21T20:52:10.700Z"
   },
   {
    "duration": 17,
    "start_time": "2022-06-21T20:52:10.712Z"
   },
   {
    "duration": 42,
    "start_time": "2022-06-21T20:52:10.730Z"
   },
   {
    "duration": 30,
    "start_time": "2022-06-21T20:52:10.774Z"
   },
   {
    "duration": 19,
    "start_time": "2022-06-21T20:52:10.806Z"
   },
   {
    "duration": 15,
    "start_time": "2022-06-21T20:52:10.827Z"
   },
   {
    "duration": 673,
    "start_time": "2022-06-21T20:52:10.844Z"
   },
   {
    "duration": 188,
    "start_time": "2022-06-21T20:52:11.518Z"
   },
   {
    "duration": 11,
    "start_time": "2022-06-21T20:52:11.709Z"
   },
   {
    "duration": 13,
    "start_time": "2022-06-21T20:52:11.722Z"
   },
   {
    "duration": 11,
    "start_time": "2022-06-21T20:52:11.737Z"
   },
   {
    "duration": 9,
    "start_time": "2022-06-21T20:52:11.767Z"
   },
   {
    "duration": 21,
    "start_time": "2022-06-21T20:52:11.777Z"
   },
   {
    "duration": 10,
    "start_time": "2022-06-21T20:52:11.800Z"
   },
   {
    "duration": 10,
    "start_time": "2022-06-21T20:52:11.812Z"
   },
   {
    "duration": 64,
    "start_time": "2022-06-21T20:52:11.824Z"
   },
   {
    "duration": 39,
    "start_time": "2022-06-21T20:52:11.890Z"
   },
   {
    "duration": 43,
    "start_time": "2022-06-21T20:52:11.931Z"
   },
   {
    "duration": 35,
    "start_time": "2022-06-21T20:52:11.981Z"
   },
   {
    "duration": 6,
    "start_time": "2022-06-21T20:52:12.018Z"
   },
   {
    "duration": 17,
    "start_time": "2022-06-21T20:52:12.026Z"
   },
   {
    "duration": 156,
    "start_time": "2022-06-21T20:52:12.045Z"
   },
   {
    "duration": 6,
    "start_time": "2022-06-21T20:52:12.203Z"
   },
   {
    "duration": 719,
    "start_time": "2022-06-21T20:52:12.210Z"
   },
   {
    "duration": 72,
    "start_time": "2022-06-21T20:52:12.931Z"
   },
   {
    "duration": 13,
    "start_time": "2022-06-21T20:52:13.005Z"
   },
   {
    "duration": 11,
    "start_time": "2022-06-21T20:52:13.019Z"
   },
   {
    "duration": 16,
    "start_time": "2022-06-21T20:52:13.032Z"
   },
   {
    "duration": 27,
    "start_time": "2022-06-21T20:52:13.067Z"
   },
   {
    "duration": 23,
    "start_time": "2022-06-21T20:52:13.096Z"
   },
   {
    "duration": 14,
    "start_time": "2022-06-21T20:52:13.121Z"
   },
   {
    "duration": 55,
    "start_time": "2022-06-21T20:52:13.136Z"
   },
   {
    "duration": 22,
    "start_time": "2022-06-21T20:52:13.192Z"
   },
   {
    "duration": 6,
    "start_time": "2022-06-21T20:52:13.216Z"
   },
   {
    "duration": 5,
    "start_time": "2022-06-21T20:52:13.223Z"
   },
   {
    "duration": 3,
    "start_time": "2022-06-21T20:52:13.233Z"
   },
   {
    "duration": 168,
    "start_time": "2022-06-21T20:52:13.237Z"
   },
   {
    "duration": 22,
    "start_time": "2022-06-21T20:52:13.407Z"
   },
   {
    "duration": 9,
    "start_time": "2022-06-21T20:52:13.431Z"
   },
   {
    "duration": 7,
    "start_time": "2022-06-21T20:52:13.442Z"
   },
   {
    "duration": 28,
    "start_time": "2022-06-21T20:52:13.450Z"
   },
   {
    "duration": 9,
    "start_time": "2022-06-21T20:52:13.479Z"
   },
   {
    "duration": 27,
    "start_time": "2022-06-21T20:52:13.490Z"
   },
   {
    "duration": 12,
    "start_time": "2022-06-21T20:52:13.518Z"
   },
   {
    "duration": 4,
    "start_time": "2022-06-21T20:52:13.531Z"
   },
   {
    "duration": 172,
    "start_time": "2022-06-21T20:52:13.537Z"
   },
   {
    "duration": 136,
    "start_time": "2022-06-21T20:52:13.711Z"
   },
   {
    "duration": 37,
    "start_time": "2022-06-21T20:52:13.849Z"
   },
   {
    "duration": 24,
    "start_time": "2022-06-21T20:52:13.888Z"
   },
   {
    "duration": 12,
    "start_time": "2022-06-21T20:52:13.913Z"
   },
   {
    "duration": 172,
    "start_time": "2022-06-21T20:52:13.927Z"
   },
   {
    "duration": 222,
    "start_time": "2022-06-21T20:52:14.100Z"
   },
   {
    "duration": 0,
    "start_time": "2022-06-21T20:52:14.324Z"
   },
   {
    "duration": 0,
    "start_time": "2022-06-21T20:52:14.325Z"
   },
   {
    "duration": 0,
    "start_time": "2022-06-21T20:52:14.326Z"
   },
   {
    "duration": 0,
    "start_time": "2022-06-21T20:52:14.327Z"
   },
   {
    "duration": 0,
    "start_time": "2022-06-21T20:52:14.328Z"
   },
   {
    "duration": 0,
    "start_time": "2022-06-21T20:52:14.330Z"
   },
   {
    "duration": 0,
    "start_time": "2022-06-21T20:52:14.331Z"
   },
   {
    "duration": 0,
    "start_time": "2022-06-21T20:52:14.333Z"
   },
   {
    "duration": 0,
    "start_time": "2022-06-21T20:52:14.334Z"
   },
   {
    "duration": 0,
    "start_time": "2022-06-21T20:52:14.335Z"
   },
   {
    "duration": 0,
    "start_time": "2022-06-21T20:52:14.337Z"
   },
   {
    "duration": 0,
    "start_time": "2022-06-21T20:52:14.339Z"
   },
   {
    "duration": 0,
    "start_time": "2022-06-21T20:52:14.340Z"
   },
   {
    "duration": 0,
    "start_time": "2022-06-21T20:52:14.373Z"
   },
   {
    "duration": 0,
    "start_time": "2022-06-21T20:52:14.374Z"
   },
   {
    "duration": 1,
    "start_time": "2022-06-21T20:52:14.374Z"
   },
   {
    "duration": 0,
    "start_time": "2022-06-21T20:52:14.375Z"
   },
   {
    "duration": 0,
    "start_time": "2022-06-21T20:52:14.376Z"
   },
   {
    "duration": 0,
    "start_time": "2022-06-21T20:52:14.377Z"
   },
   {
    "duration": 0,
    "start_time": "2022-06-21T20:52:14.378Z"
   },
   {
    "duration": 0,
    "start_time": "2022-06-21T20:52:14.379Z"
   },
   {
    "duration": 0,
    "start_time": "2022-06-21T20:52:14.380Z"
   },
   {
    "duration": 0,
    "start_time": "2022-06-21T20:52:14.381Z"
   },
   {
    "duration": 0,
    "start_time": "2022-06-21T20:52:14.382Z"
   },
   {
    "duration": 0,
    "start_time": "2022-06-21T20:52:14.383Z"
   },
   {
    "duration": 0,
    "start_time": "2022-06-21T20:52:14.384Z"
   },
   {
    "duration": 0,
    "start_time": "2022-06-21T20:52:14.385Z"
   },
   {
    "duration": 0,
    "start_time": "2022-06-21T20:52:14.386Z"
   },
   {
    "duration": 0,
    "start_time": "2022-06-21T20:52:14.387Z"
   },
   {
    "duration": 0,
    "start_time": "2022-06-21T20:52:14.388Z"
   },
   {
    "duration": 0,
    "start_time": "2022-06-21T20:52:14.390Z"
   },
   {
    "duration": 0,
    "start_time": "2022-06-21T20:52:14.391Z"
   },
   {
    "duration": 0,
    "start_time": "2022-06-21T20:52:14.392Z"
   },
   {
    "duration": 0,
    "start_time": "2022-06-21T20:52:14.393Z"
   },
   {
    "duration": 0,
    "start_time": "2022-06-21T20:52:14.394Z"
   },
   {
    "duration": 0,
    "start_time": "2022-06-21T20:52:14.395Z"
   },
   {
    "duration": 0,
    "start_time": "2022-06-21T20:52:14.396Z"
   },
   {
    "duration": 0,
    "start_time": "2022-06-21T20:52:14.398Z"
   },
   {
    "duration": 0,
    "start_time": "2022-06-21T20:52:14.399Z"
   },
   {
    "duration": 0,
    "start_time": "2022-06-21T20:52:14.400Z"
   },
   {
    "duration": 1,
    "start_time": "2022-06-21T20:52:14.401Z"
   },
   {
    "duration": 0,
    "start_time": "2022-06-21T20:52:14.403Z"
   },
   {
    "duration": 0,
    "start_time": "2022-06-21T20:52:14.404Z"
   },
   {
    "duration": 0,
    "start_time": "2022-06-21T20:52:14.405Z"
   },
   {
    "duration": 0,
    "start_time": "2022-06-21T20:52:14.407Z"
   },
   {
    "duration": 0,
    "start_time": "2022-06-21T20:52:14.408Z"
   },
   {
    "duration": 0,
    "start_time": "2022-06-21T20:52:14.473Z"
   },
   {
    "duration": 0,
    "start_time": "2022-06-21T20:52:14.473Z"
   },
   {
    "duration": 0,
    "start_time": "2022-06-21T20:52:14.474Z"
   },
   {
    "duration": 0,
    "start_time": "2022-06-21T20:52:14.474Z"
   },
   {
    "duration": 0,
    "start_time": "2022-06-21T20:52:14.475Z"
   },
   {
    "duration": 0,
    "start_time": "2022-06-21T20:52:14.475Z"
   },
   {
    "duration": 0,
    "start_time": "2022-06-21T20:52:14.481Z"
   },
   {
    "duration": 4525,
    "start_time": "2022-06-21T20:58:19.104Z"
   },
   {
    "duration": 472,
    "start_time": "2022-06-21T20:58:37.151Z"
   },
   {
    "duration": 420,
    "start_time": "2022-06-21T20:58:37.625Z"
   },
   {
    "duration": 30,
    "start_time": "2022-06-21T20:58:38.047Z"
   },
   {
    "duration": 29,
    "start_time": "2022-06-21T20:58:38.082Z"
   },
   {
    "duration": 23,
    "start_time": "2022-06-21T20:58:38.113Z"
   },
   {
    "duration": 10,
    "start_time": "2022-06-21T20:58:38.138Z"
   },
   {
    "duration": 28,
    "start_time": "2022-06-21T20:58:38.149Z"
   },
   {
    "duration": 28,
    "start_time": "2022-06-21T20:58:38.179Z"
   },
   {
    "duration": 16,
    "start_time": "2022-06-21T20:58:38.209Z"
   },
   {
    "duration": 17,
    "start_time": "2022-06-21T20:58:38.228Z"
   },
   {
    "duration": 48,
    "start_time": "2022-06-21T20:58:38.246Z"
   },
   {
    "duration": 714,
    "start_time": "2022-06-21T20:58:38.296Z"
   },
   {
    "duration": 277,
    "start_time": "2022-06-21T20:58:39.013Z"
   },
   {
    "duration": 16,
    "start_time": "2022-06-21T20:58:39.291Z"
   },
   {
    "duration": 28,
    "start_time": "2022-06-21T20:58:39.309Z"
   },
   {
    "duration": 12,
    "start_time": "2022-06-21T20:58:39.339Z"
   },
   {
    "duration": 24,
    "start_time": "2022-06-21T20:58:39.352Z"
   },
   {
    "duration": 28,
    "start_time": "2022-06-21T20:58:39.377Z"
   },
   {
    "duration": 13,
    "start_time": "2022-06-21T20:58:39.407Z"
   },
   {
    "duration": 10,
    "start_time": "2022-06-21T20:58:39.422Z"
   },
   {
    "duration": 66,
    "start_time": "2022-06-21T20:58:39.433Z"
   },
   {
    "duration": 45,
    "start_time": "2022-06-21T20:58:39.501Z"
   },
   {
    "duration": 48,
    "start_time": "2022-06-21T20:58:39.548Z"
   },
   {
    "duration": 45,
    "start_time": "2022-06-21T20:58:39.599Z"
   },
   {
    "duration": 7,
    "start_time": "2022-06-21T20:58:39.647Z"
   },
   {
    "duration": 32,
    "start_time": "2022-06-21T20:58:39.656Z"
   },
   {
    "duration": 158,
    "start_time": "2022-06-21T20:58:39.690Z"
   },
   {
    "duration": 5,
    "start_time": "2022-06-21T20:58:39.853Z"
   },
   {
    "duration": 765,
    "start_time": "2022-06-21T20:58:39.859Z"
   },
   {
    "duration": 4858,
    "start_time": "2022-06-21T20:58:40.625Z"
   },
   {
    "duration": 97,
    "start_time": "2022-06-21T20:58:45.485Z"
   },
   {
    "duration": 24,
    "start_time": "2022-06-21T20:58:45.588Z"
   },
   {
    "duration": 15,
    "start_time": "2022-06-21T20:58:45.614Z"
   },
   {
    "duration": 57,
    "start_time": "2022-06-21T20:58:45.631Z"
   },
   {
    "duration": 49,
    "start_time": "2022-06-21T20:58:45.690Z"
   },
   {
    "duration": 35,
    "start_time": "2022-06-21T20:58:45.741Z"
   },
   {
    "duration": 19,
    "start_time": "2022-06-21T20:58:45.787Z"
   },
   {
    "duration": 69,
    "start_time": "2022-06-21T20:58:45.808Z"
   },
   {
    "duration": 24,
    "start_time": "2022-06-21T20:58:45.879Z"
   },
   {
    "duration": 9,
    "start_time": "2022-06-21T20:58:45.905Z"
   },
   {
    "duration": 22,
    "start_time": "2022-06-21T20:58:45.916Z"
   },
   {
    "duration": 14,
    "start_time": "2022-06-21T20:58:45.939Z"
   },
   {
    "duration": 156,
    "start_time": "2022-06-21T20:58:45.955Z"
   },
   {
    "duration": 33,
    "start_time": "2022-06-21T20:58:46.113Z"
   },
   {
    "duration": 31,
    "start_time": "2022-06-21T20:58:46.148Z"
   },
   {
    "duration": 9,
    "start_time": "2022-06-21T20:58:46.184Z"
   },
   {
    "duration": 25,
    "start_time": "2022-06-21T20:58:46.195Z"
   },
   {
    "duration": 10,
    "start_time": "2022-06-21T20:58:46.222Z"
   },
   {
    "duration": 58,
    "start_time": "2022-06-21T20:58:46.234Z"
   },
   {
    "duration": 26,
    "start_time": "2022-06-21T20:58:46.294Z"
   },
   {
    "duration": 25,
    "start_time": "2022-06-21T20:58:46.321Z"
   },
   {
    "duration": 232,
    "start_time": "2022-06-21T20:58:46.348Z"
   },
   {
    "duration": 154,
    "start_time": "2022-06-21T20:58:46.581Z"
   },
   {
    "duration": 13,
    "start_time": "2022-06-21T20:58:46.737Z"
   },
   {
    "duration": 71,
    "start_time": "2022-06-21T20:58:46.751Z"
   },
   {
    "duration": 13,
    "start_time": "2022-06-21T20:58:46.824Z"
   },
   {
    "duration": 189,
    "start_time": "2022-06-21T20:58:46.839Z"
   },
   {
    "duration": 252,
    "start_time": "2022-06-21T20:58:47.030Z"
   },
   {
    "duration": 0,
    "start_time": "2022-06-21T20:58:47.285Z"
   },
   {
    "duration": 0,
    "start_time": "2022-06-21T20:58:47.288Z"
   },
   {
    "duration": 0,
    "start_time": "2022-06-21T20:58:47.289Z"
   },
   {
    "duration": 0,
    "start_time": "2022-06-21T20:58:47.291Z"
   },
   {
    "duration": 0,
    "start_time": "2022-06-21T20:58:47.292Z"
   },
   {
    "duration": 0,
    "start_time": "2022-06-21T20:58:47.294Z"
   },
   {
    "duration": 0,
    "start_time": "2022-06-21T20:58:47.295Z"
   },
   {
    "duration": 0,
    "start_time": "2022-06-21T20:58:47.297Z"
   },
   {
    "duration": 0,
    "start_time": "2022-06-21T20:58:47.298Z"
   },
   {
    "duration": 0,
    "start_time": "2022-06-21T20:58:47.299Z"
   },
   {
    "duration": 1,
    "start_time": "2022-06-21T20:58:47.300Z"
   },
   {
    "duration": 0,
    "start_time": "2022-06-21T20:58:47.302Z"
   },
   {
    "duration": 0,
    "start_time": "2022-06-21T20:58:47.303Z"
   },
   {
    "duration": 0,
    "start_time": "2022-06-21T20:58:47.305Z"
   },
   {
    "duration": 0,
    "start_time": "2022-06-21T20:58:47.306Z"
   },
   {
    "duration": 0,
    "start_time": "2022-06-21T20:58:47.307Z"
   },
   {
    "duration": 0,
    "start_time": "2022-06-21T20:58:47.308Z"
   },
   {
    "duration": 0,
    "start_time": "2022-06-21T20:58:47.309Z"
   },
   {
    "duration": 0,
    "start_time": "2022-06-21T20:58:47.309Z"
   },
   {
    "duration": 0,
    "start_time": "2022-06-21T20:58:47.310Z"
   },
   {
    "duration": 0,
    "start_time": "2022-06-21T20:58:47.311Z"
   },
   {
    "duration": 0,
    "start_time": "2022-06-21T20:58:47.312Z"
   },
   {
    "duration": 0,
    "start_time": "2022-06-21T20:58:47.313Z"
   },
   {
    "duration": 0,
    "start_time": "2022-06-21T20:58:47.315Z"
   },
   {
    "duration": 0,
    "start_time": "2022-06-21T20:58:47.316Z"
   },
   {
    "duration": 0,
    "start_time": "2022-06-21T20:58:47.317Z"
   },
   {
    "duration": 0,
    "start_time": "2022-06-21T20:58:47.318Z"
   },
   {
    "duration": 0,
    "start_time": "2022-06-21T20:58:47.319Z"
   },
   {
    "duration": 0,
    "start_time": "2022-06-21T20:58:47.369Z"
   },
   {
    "duration": 0,
    "start_time": "2022-06-21T20:58:47.370Z"
   },
   {
    "duration": 0,
    "start_time": "2022-06-21T20:58:47.371Z"
   },
   {
    "duration": 0,
    "start_time": "2022-06-21T20:58:47.371Z"
   },
   {
    "duration": 0,
    "start_time": "2022-06-21T20:58:47.372Z"
   },
   {
    "duration": 0,
    "start_time": "2022-06-21T20:58:47.373Z"
   },
   {
    "duration": 0,
    "start_time": "2022-06-21T20:58:47.374Z"
   },
   {
    "duration": 0,
    "start_time": "2022-06-21T20:58:47.375Z"
   },
   {
    "duration": 0,
    "start_time": "2022-06-21T20:58:47.377Z"
   },
   {
    "duration": 0,
    "start_time": "2022-06-21T20:58:47.378Z"
   },
   {
    "duration": 0,
    "start_time": "2022-06-21T20:58:47.379Z"
   },
   {
    "duration": 0,
    "start_time": "2022-06-21T20:58:47.381Z"
   },
   {
    "duration": 0,
    "start_time": "2022-06-21T20:58:47.382Z"
   },
   {
    "duration": 0,
    "start_time": "2022-06-21T20:58:47.383Z"
   },
   {
    "duration": 0,
    "start_time": "2022-06-21T20:58:47.384Z"
   },
   {
    "duration": 0,
    "start_time": "2022-06-21T20:58:47.385Z"
   },
   {
    "duration": 0,
    "start_time": "2022-06-21T20:58:47.386Z"
   },
   {
    "duration": 0,
    "start_time": "2022-06-21T20:58:47.387Z"
   },
   {
    "duration": 0,
    "start_time": "2022-06-21T20:58:47.388Z"
   },
   {
    "duration": 0,
    "start_time": "2022-06-21T20:58:47.389Z"
   },
   {
    "duration": 0,
    "start_time": "2022-06-21T20:58:47.390Z"
   },
   {
    "duration": 0,
    "start_time": "2022-06-21T20:58:47.393Z"
   },
   {
    "duration": 0,
    "start_time": "2022-06-21T20:58:47.394Z"
   },
   {
    "duration": 0,
    "start_time": "2022-06-21T20:58:47.395Z"
   },
   {
    "duration": 0,
    "start_time": "2022-06-21T20:58:47.397Z"
   },
   {
    "duration": 77,
    "start_time": "2022-06-22T02:16:29.385Z"
   },
   {
    "duration": 422,
    "start_time": "2022-06-22T02:16:48.071Z"
   },
   {
    "duration": 1280,
    "start_time": "2022-06-22T02:16:48.495Z"
   },
   {
    "duration": 26,
    "start_time": "2022-06-22T02:16:49.776Z"
   },
   {
    "duration": 20,
    "start_time": "2022-06-22T02:16:51.183Z"
   },
   {
    "duration": 22,
    "start_time": "2022-06-22T02:16:51.967Z"
   },
   {
    "duration": 14,
    "start_time": "2022-06-22T02:16:52.575Z"
   },
   {
    "duration": 16,
    "start_time": "2022-06-22T02:16:53.452Z"
   },
   {
    "duration": 34,
    "start_time": "2022-06-22T02:16:55.736Z"
   },
   {
    "duration": 20,
    "start_time": "2022-06-22T02:16:56.382Z"
   },
   {
    "duration": 13,
    "start_time": "2022-06-22T02:16:57.362Z"
   },
   {
    "duration": 16,
    "start_time": "2022-06-22T02:16:59.006Z"
   },
   {
    "duration": 929,
    "start_time": "2022-06-22T02:17:00.262Z"
   },
   {
    "duration": 188,
    "start_time": "2022-06-22T02:17:03.254Z"
   },
   {
    "duration": 12,
    "start_time": "2022-06-22T02:17:06.851Z"
   },
   {
    "duration": 31,
    "start_time": "2022-06-22T02:17:08.424Z"
   },
   {
    "duration": 8,
    "start_time": "2022-06-22T02:17:10.766Z"
   },
   {
    "duration": 15,
    "start_time": "2022-06-22T02:17:12.024Z"
   },
   {
    "duration": 18,
    "start_time": "2022-06-22T02:17:14.581Z"
   },
   {
    "duration": 8,
    "start_time": "2022-06-22T02:17:16.488Z"
   },
   {
    "duration": 8,
    "start_time": "2022-06-22T02:17:21.407Z"
   },
   {
    "duration": 83,
    "start_time": "2022-06-22T02:17:25.741Z"
   },
   {
    "duration": 61,
    "start_time": "2022-06-22T02:17:26.294Z"
   },
   {
    "duration": 84,
    "start_time": "2022-06-22T02:17:35.088Z"
   },
   {
    "duration": 70,
    "start_time": "2022-06-22T02:17:41.582Z"
   },
   {
    "duration": 6,
    "start_time": "2022-06-22T02:17:45.295Z"
   },
   {
    "duration": 16,
    "start_time": "2022-06-22T02:17:47.270Z"
   },
   {
    "duration": 99,
    "start_time": "2022-06-22T02:17:51.279Z"
   },
   {
    "duration": 59,
    "start_time": "2022-06-22T02:17:53.726Z"
   },
   {
    "duration": 2,
    "start_time": "2022-06-22T02:18:25.304Z"
   },
   {
    "duration": 8,
    "start_time": "2022-06-22T02:18:26.168Z"
   },
   {
    "duration": 14,
    "start_time": "2022-06-22T02:19:12.224Z"
   },
   {
    "duration": 12,
    "start_time": "2022-06-22T02:19:21.426Z"
   },
   {
    "duration": 18,
    "start_time": "2022-06-22T02:19:26.423Z"
   },
   {
    "duration": 14,
    "start_time": "2022-06-22T02:21:38.849Z"
   },
   {
    "duration": 9,
    "start_time": "2022-06-22T02:21:50.018Z"
   },
   {
    "duration": 5,
    "start_time": "2022-06-22T02:23:26.094Z"
   },
   {
    "duration": 9,
    "start_time": "2022-06-22T02:23:36.936Z"
   },
   {
    "duration": 9,
    "start_time": "2022-06-22T02:26:30.961Z"
   },
   {
    "duration": 12,
    "start_time": "2022-06-22T02:26:36.424Z"
   },
   {
    "duration": 7,
    "start_time": "2022-06-22T02:26:40.998Z"
   },
   {
    "duration": 90,
    "start_time": "2022-06-22T02:26:45.794Z"
   },
   {
    "duration": 3,
    "start_time": "2022-06-22T02:26:46.871Z"
   },
   {
    "duration": 5,
    "start_time": "2022-06-22T02:26:47.373Z"
   },
   {
    "duration": 792,
    "start_time": "2022-06-22T02:26:48.676Z"
   },
   {
    "duration": 99,
    "start_time": "2022-06-22T02:26:49.471Z"
   },
   {
    "duration": 19,
    "start_time": "2022-06-22T02:26:49.572Z"
   },
   {
    "duration": 18,
    "start_time": "2022-06-22T02:26:49.918Z"
   },
   {
    "duration": 23,
    "start_time": "2022-06-22T02:26:50.527Z"
   },
   {
    "duration": 26,
    "start_time": "2022-06-22T02:26:51.805Z"
   },
   {
    "duration": 46,
    "start_time": "2022-06-22T02:26:52.461Z"
   },
   {
    "duration": 22,
    "start_time": "2022-06-22T02:26:53.055Z"
   },
   {
    "duration": 42,
    "start_time": "2022-06-22T02:26:55.248Z"
   },
   {
    "duration": 37,
    "start_time": "2022-06-22T02:26:55.927Z"
   },
   {
    "duration": 6,
    "start_time": "2022-06-22T02:26:57.493Z"
   },
   {
    "duration": 6,
    "start_time": "2022-06-22T02:27:29.361Z"
   },
   {
    "duration": 1048,
    "start_time": "2022-06-22T02:28:40.680Z"
   },
   {
    "duration": 65,
    "start_time": "2022-06-22T02:28:47.448Z"
   },
   {
    "duration": 1036,
    "start_time": "2022-06-22T02:28:48.318Z"
   },
   {
    "duration": 26,
    "start_time": "2022-06-22T02:30:25.355Z"
   },
   {
    "duration": 10,
    "start_time": "2022-06-22T02:30:57.758Z"
   },
   {
    "duration": 5,
    "start_time": "2022-06-22T02:31:17.082Z"
   },
   {
    "duration": 10,
    "start_time": "2022-06-22T02:31:37.862Z"
   },
   {
    "duration": 4,
    "start_time": "2022-06-22T02:31:45.954Z"
   },
   {
    "duration": 10,
    "start_time": "2022-06-22T02:31:58.057Z"
   },
   {
    "duration": 367,
    "start_time": "2022-06-22T12:24:06.142Z"
   },
   {
    "duration": 1114,
    "start_time": "2022-06-22T12:24:07.125Z"
   },
   {
    "duration": 21,
    "start_time": "2022-06-22T12:24:08.241Z"
   },
   {
    "duration": 24,
    "start_time": "2022-06-22T12:24:09.126Z"
   },
   {
    "duration": 16,
    "start_time": "2022-06-22T12:24:09.856Z"
   },
   {
    "duration": 11,
    "start_time": "2022-06-22T12:24:10.695Z"
   },
   {
    "duration": 10,
    "start_time": "2022-06-22T12:24:11.597Z"
   },
   {
    "duration": 21,
    "start_time": "2022-06-22T12:24:15.148Z"
   },
   {
    "duration": 17,
    "start_time": "2022-06-22T12:24:15.956Z"
   },
   {
    "duration": 13,
    "start_time": "2022-06-22T12:24:17.997Z"
   },
   {
    "duration": 14,
    "start_time": "2022-06-22T12:24:20.093Z"
   },
   {
    "duration": 814,
    "start_time": "2022-06-22T12:24:22.926Z"
   },
   {
    "duration": 155,
    "start_time": "2022-06-22T12:24:25.222Z"
   },
   {
    "duration": 10,
    "start_time": "2022-06-22T12:24:29.872Z"
   },
   {
    "duration": 18,
    "start_time": "2022-06-22T12:24:31.720Z"
   },
   {
    "duration": 7,
    "start_time": "2022-06-22T12:24:33.303Z"
   },
   {
    "duration": 7,
    "start_time": "2022-06-22T12:24:33.895Z"
   },
   {
    "duration": 12,
    "start_time": "2022-06-22T12:24:34.703Z"
   },
   {
    "duration": 8,
    "start_time": "2022-06-22T12:24:35.223Z"
   },
   {
    "duration": 8,
    "start_time": "2022-06-22T12:24:36.871Z"
   },
   {
    "duration": 61,
    "start_time": "2022-06-22T12:24:40.902Z"
   },
   {
    "duration": 50,
    "start_time": "2022-06-22T12:24:41.598Z"
   },
   {
    "duration": 78,
    "start_time": "2022-06-22T12:24:47.255Z"
   },
   {
    "duration": 42,
    "start_time": "2022-06-22T12:24:49.493Z"
   },
   {
    "duration": 6,
    "start_time": "2022-06-22T12:24:50.011Z"
   },
   {
    "duration": 24,
    "start_time": "2022-06-22T12:24:51.559Z"
   },
   {
    "duration": 72,
    "start_time": "2022-06-22T12:25:05.025Z"
   },
   {
    "duration": 5,
    "start_time": "2022-06-22T12:25:06.894Z"
   },
   {
    "duration": 6,
    "start_time": "2022-06-22T12:25:08.144Z"
   },
   {
    "duration": 732,
    "start_time": "2022-06-22T12:25:30.391Z"
   },
   {
    "duration": 75,
    "start_time": "2022-06-22T12:25:33.856Z"
   },
   {
    "duration": 15,
    "start_time": "2022-06-22T12:25:40.394Z"
   },
   {
    "duration": 14,
    "start_time": "2022-06-22T12:25:41.586Z"
   },
   {
    "duration": 21,
    "start_time": "2022-06-22T12:25:42.508Z"
   },
   {
    "duration": 20,
    "start_time": "2022-06-22T12:26:28.838Z"
   },
   {
    "duration": 25,
    "start_time": "2022-06-22T12:26:35.238Z"
   },
   {
    "duration": 26,
    "start_time": "2022-06-22T12:26:36.543Z"
   },
   {
    "duration": 14,
    "start_time": "2022-06-22T12:26:42.240Z"
   },
   {
    "duration": 30,
    "start_time": "2022-06-22T12:26:51.734Z"
   },
   {
    "duration": 23,
    "start_time": "2022-06-22T12:27:15.401Z"
   },
   {
    "duration": 27,
    "start_time": "2022-06-22T12:27:19.176Z"
   },
   {
    "duration": 6,
    "start_time": "2022-06-22T12:27:23.632Z"
   },
   {
    "duration": 4,
    "start_time": "2022-06-22T12:27:24.593Z"
   },
   {
    "duration": 70,
    "start_time": "2022-06-22T12:27:57.816Z"
   },
   {
    "duration": 5,
    "start_time": "2022-06-22T12:28:06.060Z"
   },
   {
    "duration": 74,
    "start_time": "2022-06-22T12:28:11.557Z"
   },
   {
    "duration": 6,
    "start_time": "2022-06-22T12:28:36.092Z"
   },
   {
    "duration": 4,
    "start_time": "2022-06-22T12:28:48.007Z"
   },
   {
    "duration": 7,
    "start_time": "2022-06-22T12:29:02.328Z"
   },
   {
    "duration": 5,
    "start_time": "2022-06-22T12:29:26.233Z"
   },
   {
    "duration": 7,
    "start_time": "2022-06-22T12:30:06.303Z"
   },
   {
    "duration": 10,
    "start_time": "2022-06-22T12:30:53.311Z"
   },
   {
    "duration": 11,
    "start_time": "2022-06-22T12:36:57.389Z"
   },
   {
    "duration": 13,
    "start_time": "2022-06-22T12:37:57.763Z"
   },
   {
    "duration": 12,
    "start_time": "2022-06-22T12:39:02.480Z"
   },
   {
    "duration": 14,
    "start_time": "2022-06-22T12:41:15.271Z"
   },
   {
    "duration": 73,
    "start_time": "2022-06-22T12:49:12.340Z"
   },
   {
    "duration": 15,
    "start_time": "2022-06-22T12:49:17.685Z"
   },
   {
    "duration": 228,
    "start_time": "2022-06-22T12:49:48.696Z"
   },
   {
    "duration": 78,
    "start_time": "2022-06-22T12:51:21.518Z"
   },
   {
    "duration": 19,
    "start_time": "2022-06-22T12:51:27.614Z"
   },
   {
    "duration": 265,
    "start_time": "2022-06-22T12:51:37.382Z"
   },
   {
    "duration": 270,
    "start_time": "2022-06-22T12:51:50.247Z"
   },
   {
    "duration": 2,
    "start_time": "2022-06-22T12:52:05.277Z"
   },
   {
    "duration": 3,
    "start_time": "2022-06-22T12:52:49.202Z"
   },
   {
    "duration": 18,
    "start_time": "2022-06-22T12:56:07.256Z"
   },
   {
    "duration": 7,
    "start_time": "2022-06-22T12:57:04.259Z"
   },
   {
    "duration": 246,
    "start_time": "2022-06-22T12:57:15.398Z"
   },
   {
    "duration": 2,
    "start_time": "2022-06-22T12:57:16.403Z"
   },
   {
    "duration": 207,
    "start_time": "2022-06-22T12:57:17.140Z"
   },
   {
    "duration": 1237,
    "start_time": "2022-06-22T12:57:17.971Z"
   },
   {
    "duration": 21,
    "start_time": "2022-06-22T12:59:38.885Z"
   },
   {
    "duration": 11,
    "start_time": "2022-06-22T12:59:39.750Z"
   },
   {
    "duration": 3,
    "start_time": "2022-06-22T12:59:40.517Z"
   },
   {
    "duration": 18,
    "start_time": "2022-06-22T12:59:42.365Z"
   },
   {
    "duration": 240,
    "start_time": "2022-06-22T12:59:43.076Z"
   },
   {
    "duration": 240,
    "start_time": "2022-06-22T12:59:47.533Z"
   },
   {
    "duration": 2,
    "start_time": "2022-06-22T12:59:50.261Z"
   },
   {
    "duration": 119,
    "start_time": "2022-06-22T12:59:51.014Z"
   },
   {
    "duration": 1246,
    "start_time": "2022-06-22T12:59:52.048Z"
   },
   {
    "duration": 1645,
    "start_time": "2022-06-22T13:00:00.661Z"
   },
   {
    "duration": 3,
    "start_time": "2022-06-22T13:00:09.300Z"
   },
   {
    "duration": 11,
    "start_time": "2022-06-22T13:00:10.855Z"
   },
   {
    "duration": 2,
    "start_time": "2022-06-22T13:00:22.087Z"
   },
   {
    "duration": 14,
    "start_time": "2022-06-22T13:00:24.790Z"
   },
   {
    "duration": 9,
    "start_time": "2022-06-22T13:00:26.194Z"
   },
   {
    "duration": 2,
    "start_time": "2022-06-22T13:00:48.426Z"
   },
   {
    "duration": 27,
    "start_time": "2022-06-22T13:00:49.427Z"
   },
   {
    "duration": 13,
    "start_time": "2022-06-22T13:00:49.794Z"
   },
   {
    "duration": 2,
    "start_time": "2022-06-22T13:00:50.361Z"
   },
   {
    "duration": 21,
    "start_time": "2022-06-22T13:00:51.994Z"
   },
   {
    "duration": 259,
    "start_time": "2022-06-22T13:00:52.431Z"
   },
   {
    "duration": 242,
    "start_time": "2022-06-22T13:00:53.659Z"
   },
   {
    "duration": 3,
    "start_time": "2022-06-22T13:00:54.873Z"
   },
   {
    "duration": 120,
    "start_time": "2022-06-22T13:00:55.521Z"
   },
   {
    "duration": 3,
    "start_time": "2022-06-22T13:00:57.657Z"
   },
   {
    "duration": 10,
    "start_time": "2022-06-22T13:00:58.274Z"
   },
   {
    "duration": 2,
    "start_time": "2022-06-22T13:00:58.905Z"
   },
   {
    "duration": 15,
    "start_time": "2022-06-22T13:01:00.562Z"
   },
   {
    "duration": 210,
    "start_time": "2022-06-22T13:01:01.649Z"
   },
   {
    "duration": 128,
    "start_time": "2022-06-22T13:01:40.924Z"
   },
   {
    "duration": 122,
    "start_time": "2022-06-22T13:02:04.246Z"
   },
   {
    "duration": 17,
    "start_time": "2022-06-22T13:02:34.649Z"
   },
   {
    "duration": 216,
    "start_time": "2022-06-22T13:05:36.333Z"
   },
   {
    "duration": 114,
    "start_time": "2022-06-22T13:05:57.986Z"
   },
   {
    "duration": 204,
    "start_time": "2022-06-22T13:06:09.014Z"
   },
   {
    "duration": 221,
    "start_time": "2022-06-22T13:06:21.799Z"
   },
   {
    "duration": 43,
    "start_time": "2022-06-22T13:07:57.972Z"
   },
   {
    "duration": 21,
    "start_time": "2022-06-22T13:07:58.876Z"
   },
   {
    "duration": 2,
    "start_time": "2022-06-22T13:08:48.257Z"
   },
   {
    "duration": 344,
    "start_time": "2022-06-22T13:08:48.959Z"
   },
   {
    "duration": 125,
    "start_time": "2022-06-22T13:08:56.632Z"
   },
   {
    "duration": 119,
    "start_time": "2022-06-22T13:09:23.481Z"
   },
   {
    "duration": 12,
    "start_time": "2022-06-22T13:10:36.110Z"
   },
   {
    "duration": 14,
    "start_time": "2022-06-22T13:12:34.038Z"
   },
   {
    "duration": 5,
    "start_time": "2022-06-22T13:14:21.869Z"
   },
   {
    "duration": 122,
    "start_time": "2022-06-22T13:14:25.324Z"
   },
   {
    "duration": 5,
    "start_time": "2022-06-22T13:16:12.636Z"
   },
   {
    "duration": 198,
    "start_time": "2022-06-22T13:16:13.980Z"
   },
   {
    "duration": 194,
    "start_time": "2022-06-22T13:16:24.212Z"
   },
   {
    "duration": 196,
    "start_time": "2022-06-22T13:17:01.280Z"
   },
   {
    "duration": 7,
    "start_time": "2022-06-22T13:17:19.081Z"
   },
   {
    "duration": 409,
    "start_time": "2022-06-22T13:17:21.328Z"
   },
   {
    "duration": 116,
    "start_time": "2022-06-22T13:18:38.582Z"
   },
   {
    "duration": 13,
    "start_time": "2022-06-22T13:19:06.909Z"
   },
   {
    "duration": 39,
    "start_time": "2022-06-22T13:27:37.815Z"
   },
   {
    "duration": 20,
    "start_time": "2022-06-22T13:27:38.647Z"
   },
   {
    "duration": 7,
    "start_time": "2022-06-22T13:29:04.697Z"
   },
   {
    "duration": 369,
    "start_time": "2022-06-22T13:29:05.796Z"
   },
   {
    "duration": 136,
    "start_time": "2022-06-22T13:30:40.029Z"
   },
   {
    "duration": 135,
    "start_time": "2022-06-22T13:30:45.707Z"
   },
   {
    "duration": 11,
    "start_time": "2022-06-22T13:31:23.364Z"
   },
   {
    "duration": 12,
    "start_time": "2022-06-22T13:31:35.846Z"
   },
   {
    "duration": 21,
    "start_time": "2022-06-22T13:34:15.448Z"
   },
   {
    "duration": 41,
    "start_time": "2022-06-22T13:35:13.267Z"
   },
   {
    "duration": 23,
    "start_time": "2022-06-22T13:35:13.891Z"
   },
   {
    "duration": 8,
    "start_time": "2022-06-22T13:35:24.021Z"
   },
   {
    "duration": 308,
    "start_time": "2022-06-22T13:35:33.294Z"
   },
   {
    "duration": 451,
    "start_time": "2022-06-22T13:35:45.322Z"
   },
   {
    "duration": 126,
    "start_time": "2022-06-22T13:36:18.353Z"
   },
   {
    "duration": 203,
    "start_time": "2022-06-22T13:36:29.185Z"
   },
   {
    "duration": 142,
    "start_time": "2022-06-22T13:37:52.461Z"
   },
   {
    "duration": 128,
    "start_time": "2022-06-22T13:37:57.593Z"
   },
   {
    "duration": 12,
    "start_time": "2022-06-22T13:38:01.702Z"
   },
   {
    "duration": 17,
    "start_time": "2022-06-22T13:38:03.238Z"
   },
   {
    "duration": 20,
    "start_time": "2022-06-22T13:41:41.237Z"
   },
   {
    "duration": 20,
    "start_time": "2022-06-22T13:41:58.181Z"
   },
   {
    "duration": 3,
    "start_time": "2022-06-22T13:43:17.426Z"
   },
   {
    "duration": 124,
    "start_time": "2022-06-22T13:43:18.283Z"
   },
   {
    "duration": 21,
    "start_time": "2022-06-22T13:43:21.579Z"
   },
   {
    "duration": 8,
    "start_time": "2022-06-22T13:43:29.947Z"
   },
   {
    "duration": 5,
    "start_time": "2022-06-22T13:43:31.035Z"
   },
   {
    "duration": 9,
    "start_time": "2022-06-22T13:43:32.131Z"
   },
   {
    "duration": 2,
    "start_time": "2022-06-22T13:43:34.395Z"
   },
   {
    "duration": 40,
    "start_time": "2022-06-22T13:43:35.366Z"
   },
   {
    "duration": 29,
    "start_time": "2022-06-22T13:43:36.036Z"
   },
   {
    "duration": 4,
    "start_time": "2022-06-22T13:43:36.875Z"
   },
   {
    "duration": 2,
    "start_time": "2022-06-22T13:43:38.918Z"
   },
   {
    "duration": 2,
    "start_time": "2022-06-22T13:43:39.340Z"
   },
   {
    "duration": 7,
    "start_time": "2022-06-22T13:43:39.888Z"
   },
   {
    "duration": 394,
    "start_time": "2022-06-22T13:43:40.515Z"
   },
   {
    "duration": 117,
    "start_time": "2022-06-22T13:43:41.259Z"
   },
   {
    "duration": 126,
    "start_time": "2022-06-22T13:43:41.716Z"
   },
   {
    "duration": 11,
    "start_time": "2022-06-22T13:43:45.051Z"
   },
   {
    "duration": 38,
    "start_time": "2022-06-22T13:43:46.248Z"
   },
   {
    "duration": 21,
    "start_time": "2022-06-22T13:43:46.940Z"
   },
   {
    "duration": 7,
    "start_time": "2022-06-22T13:43:47.497Z"
   },
   {
    "duration": 312,
    "start_time": "2022-06-22T13:43:48.199Z"
   },
   {
    "duration": 147,
    "start_time": "2022-06-22T13:43:49.373Z"
   },
   {
    "duration": 139,
    "start_time": "2022-06-22T13:44:36.154Z"
   },
   {
    "duration": 11,
    "start_time": "2022-06-22T13:44:38.176Z"
   },
   {
    "duration": 11,
    "start_time": "2022-06-22T13:44:38.607Z"
   },
   {
    "duration": 40,
    "start_time": "2022-06-22T13:44:40.463Z"
   },
   {
    "duration": 19,
    "start_time": "2022-06-22T13:44:41.088Z"
   },
   {
    "duration": 7,
    "start_time": "2022-06-22T13:44:41.728Z"
   },
   {
    "duration": 168,
    "start_time": "2022-06-22T13:44:42.256Z"
   },
   {
    "duration": 120,
    "start_time": "2022-06-22T13:44:42.840Z"
   },
   {
    "duration": 260,
    "start_time": "2022-06-22T13:44:48.800Z"
   },
   {
    "duration": 12,
    "start_time": "2022-06-22T13:44:49.368Z"
   },
   {
    "duration": 13,
    "start_time": "2022-06-22T13:44:49.948Z"
   },
   {
    "duration": 20,
    "start_time": "2022-06-22T13:44:52.208Z"
   },
   {
    "duration": 42,
    "start_time": "2022-06-22T13:44:55.552Z"
   },
   {
    "duration": 25,
    "start_time": "2022-06-22T13:45:01.796Z"
   },
   {
    "duration": 7,
    "start_time": "2022-06-22T13:45:02.857Z"
   },
   {
    "duration": 166,
    "start_time": "2022-06-22T13:45:03.561Z"
   },
   {
    "duration": 149,
    "start_time": "2022-06-22T13:45:16.522Z"
   },
   {
    "duration": 149,
    "start_time": "2022-06-22T13:45:35.988Z"
   },
   {
    "duration": 129,
    "start_time": "2022-06-22T13:45:48.773Z"
   },
   {
    "duration": 131,
    "start_time": "2022-06-22T13:45:52.036Z"
   },
   {
    "duration": 12,
    "start_time": "2022-06-22T13:45:52.901Z"
   },
   {
    "duration": 13,
    "start_time": "2022-06-22T13:45:53.935Z"
   },
   {
    "duration": 13,
    "start_time": "2022-06-22T13:45:54.748Z"
   },
   {
    "duration": 115,
    "start_time": "2022-06-22T13:46:16.926Z"
   },
   {
    "duration": 181,
    "start_time": "2022-06-22T13:46:46.792Z"
   },
   {
    "duration": 155,
    "start_time": "2022-06-22T13:46:56.064Z"
   },
   {
    "duration": 118,
    "start_time": "2022-06-22T13:47:21.751Z"
   },
   {
    "duration": 260,
    "start_time": "2022-06-22T13:47:22.482Z"
   },
   {
    "duration": 12,
    "start_time": "2022-06-22T13:47:23.738Z"
   },
   {
    "duration": 15,
    "start_time": "2022-06-22T13:47:25.370Z"
   },
   {
    "duration": 3,
    "start_time": "2022-06-22T13:47:46.307Z"
   },
   {
    "duration": 20,
    "start_time": "2022-06-22T13:47:47.196Z"
   },
   {
    "duration": 8,
    "start_time": "2022-06-22T13:47:48.667Z"
   },
   {
    "duration": 7,
    "start_time": "2022-06-22T13:47:49.259Z"
   },
   {
    "duration": 7,
    "start_time": "2022-06-22T13:47:49.587Z"
   },
   {
    "duration": 364,
    "start_time": "2022-06-22T13:47:52.665Z"
   },
   {
    "duration": 3,
    "start_time": "2022-06-22T13:47:54.068Z"
   },
   {
    "duration": 10,
    "start_time": "2022-06-22T13:47:54.348Z"
   },
   {
    "duration": 5,
    "start_time": "2022-06-22T13:47:54.542Z"
   },
   {
    "duration": 3,
    "start_time": "2022-06-22T13:47:54.965Z"
   },
   {
    "duration": 3,
    "start_time": "2022-06-22T13:47:55.294Z"
   },
   {
    "duration": 8,
    "start_time": "2022-06-22T13:47:55.652Z"
   },
   {
    "duration": 6,
    "start_time": "2022-06-22T13:47:56.149Z"
   },
   {
    "duration": 8,
    "start_time": "2022-06-22T13:47:57.413Z"
   },
   {
    "duration": 4,
    "start_time": "2022-06-22T13:47:57.876Z"
   },
   {
    "duration": 3,
    "start_time": "2022-06-22T13:47:58.299Z"
   },
   {
    "duration": 4,
    "start_time": "2022-06-22T13:47:58.751Z"
   },
   {
    "duration": 13,
    "start_time": "2022-06-22T13:47:59.175Z"
   },
   {
    "duration": 18,
    "start_time": "2022-06-22T13:47:59.356Z"
   },
   {
    "duration": 18,
    "start_time": "2022-06-22T13:47:59.524Z"
   },
   {
    "duration": 170,
    "start_time": "2022-06-22T13:48:00.540Z"
   },
   {
    "duration": 127,
    "start_time": "2022-06-22T13:48:01.029Z"
   },
   {
    "duration": 11,
    "start_time": "2022-06-22T13:48:01.187Z"
   },
   {
    "duration": 8,
    "start_time": "2022-06-22T13:48:01.357Z"
   },
   {
    "duration": 150,
    "start_time": "2022-06-22T13:48:34.888Z"
   },
   {
    "duration": 237,
    "start_time": "2022-06-22T13:48:44.503Z"
   },
   {
    "duration": 466,
    "start_time": "2022-06-22T13:49:26.723Z"
   },
   {
    "duration": 377,
    "start_time": "2022-06-22T13:49:43.379Z"
   },
   {
    "duration": 36,
    "start_time": "2022-06-22T13:59:47.000Z"
   },
   {
    "duration": 22,
    "start_time": "2022-06-22T13:59:48.319Z"
   },
   {
    "duration": 5,
    "start_time": "2022-06-22T13:59:55.672Z"
   },
   {
    "duration": 4,
    "start_time": "2022-06-22T13:59:56.567Z"
   },
   {
    "duration": 3,
    "start_time": "2022-06-22T14:00:27.417Z"
   },
   {
    "duration": 671,
    "start_time": "2022-06-22T14:00:27.809Z"
   },
   {
    "duration": 23,
    "start_time": "2022-06-22T14:00:28.986Z"
   },
   {
    "duration": 20,
    "start_time": "2022-06-22T14:00:29.612Z"
   },
   {
    "duration": 32,
    "start_time": "2022-06-22T14:00:30.144Z"
   },
   {
    "duration": 16,
    "start_time": "2022-06-22T14:00:31.578Z"
   },
   {
    "duration": 11,
    "start_time": "2022-06-22T14:00:32.156Z"
   },
   {
    "duration": 12,
    "start_time": "2022-06-22T14:00:34.610Z"
   },
   {
    "duration": 17,
    "start_time": "2022-06-22T14:00:35.282Z"
   },
   {
    "duration": 12,
    "start_time": "2022-06-22T14:00:35.803Z"
   },
   {
    "duration": 18,
    "start_time": "2022-06-22T14:00:36.434Z"
   },
   {
    "duration": 392,
    "start_time": "2022-06-22T14:00:37.994Z"
   },
   {
    "duration": 177,
    "start_time": "2022-06-22T14:00:40.326Z"
   },
   {
    "duration": 10,
    "start_time": "2022-06-22T14:00:44.203Z"
   },
   {
    "duration": 12,
    "start_time": "2022-06-22T14:00:44.866Z"
   },
   {
    "duration": 8,
    "start_time": "2022-06-22T14:00:45.523Z"
   },
   {
    "duration": 9,
    "start_time": "2022-06-22T14:00:46.171Z"
   },
   {
    "duration": 12,
    "start_time": "2022-06-22T14:00:46.787Z"
   },
   {
    "duration": 5,
    "start_time": "2022-06-22T14:00:47.347Z"
   },
   {
    "duration": 6,
    "start_time": "2022-06-22T14:00:48.771Z"
   },
   {
    "duration": 73,
    "start_time": "2022-06-22T14:00:50.811Z"
   },
   {
    "duration": 54,
    "start_time": "2022-06-22T14:00:51.396Z"
   },
   {
    "duration": 22,
    "start_time": "2022-06-22T14:00:54.419Z"
   },
   {
    "duration": 38,
    "start_time": "2022-06-22T14:00:55.960Z"
   },
   {
    "duration": 10,
    "start_time": "2022-06-22T14:00:56.252Z"
   },
   {
    "duration": 19,
    "start_time": "2022-06-22T14:00:57.148Z"
   },
   {
    "duration": 218,
    "start_time": "2022-06-22T14:00:59.966Z"
   },
   {
    "duration": 2,
    "start_time": "2022-06-22T14:01:01.544Z"
   },
   {
    "duration": 5,
    "start_time": "2022-06-22T14:01:03.019Z"
   },
   {
    "duration": 891,
    "start_time": "2022-06-22T14:01:05.423Z"
   },
   {
    "duration": 61,
    "start_time": "2022-06-22T14:01:08.012Z"
   },
   {
    "duration": 14,
    "start_time": "2022-06-22T14:01:09.269Z"
   },
   {
    "duration": 15,
    "start_time": "2022-06-22T14:01:09.917Z"
   },
   {
    "duration": 15,
    "start_time": "2022-06-22T14:01:15.083Z"
   },
   {
    "duration": 22,
    "start_time": "2022-06-22T14:01:16.484Z"
   },
   {
    "duration": 24,
    "start_time": "2022-06-22T14:01:17.101Z"
   },
   {
    "duration": 15,
    "start_time": "2022-06-22T14:01:19.046Z"
   },
   {
    "duration": 24,
    "start_time": "2022-06-22T14:01:21.867Z"
   },
   {
    "duration": 21,
    "start_time": "2022-06-22T14:01:46.967Z"
   },
   {
    "duration": 30,
    "start_time": "2022-06-22T14:01:50.319Z"
   },
   {
    "duration": 22,
    "start_time": "2022-06-22T14:02:16.847Z"
   },
   {
    "duration": 24,
    "start_time": "2022-06-22T14:02:19.513Z"
   },
   {
    "duration": 23,
    "start_time": "2022-06-22T14:02:31.283Z"
   },
   {
    "duration": 26,
    "start_time": "2022-06-22T14:02:32.520Z"
   },
   {
    "duration": 465,
    "start_time": "2022-06-22T14:02:38.904Z"
   },
   {
    "duration": 367,
    "start_time": "2022-06-22T14:02:39.372Z"
   },
   {
    "duration": 23,
    "start_time": "2022-06-22T14:02:39.741Z"
   },
   {
    "duration": 17,
    "start_time": "2022-06-22T14:02:39.768Z"
   },
   {
    "duration": 18,
    "start_time": "2022-06-22T14:02:39.787Z"
   },
   {
    "duration": 25,
    "start_time": "2022-06-22T14:02:39.806Z"
   },
   {
    "duration": 11,
    "start_time": "2022-06-22T14:02:39.833Z"
   },
   {
    "duration": 19,
    "start_time": "2022-06-22T14:02:39.845Z"
   },
   {
    "duration": 16,
    "start_time": "2022-06-22T14:02:39.865Z"
   },
   {
    "duration": 45,
    "start_time": "2022-06-22T14:02:39.884Z"
   },
   {
    "duration": 14,
    "start_time": "2022-06-22T14:02:39.931Z"
   },
   {
    "duration": 583,
    "start_time": "2022-06-22T14:02:39.947Z"
   },
   {
    "duration": 158,
    "start_time": "2022-06-22T14:02:40.531Z"
   },
   {
    "duration": 10,
    "start_time": "2022-06-22T14:02:40.690Z"
   },
   {
    "duration": 31,
    "start_time": "2022-06-22T14:02:40.702Z"
   },
   {
    "duration": 10,
    "start_time": "2022-06-22T14:02:40.735Z"
   },
   {
    "duration": 8,
    "start_time": "2022-06-22T14:02:40.746Z"
   },
   {
    "duration": 12,
    "start_time": "2022-06-22T14:02:40.755Z"
   },
   {
    "duration": 7,
    "start_time": "2022-06-22T14:02:40.769Z"
   },
   {
    "duration": 9,
    "start_time": "2022-06-22T14:02:40.778Z"
   },
   {
    "duration": 72,
    "start_time": "2022-06-22T14:02:40.788Z"
   },
   {
    "duration": 36,
    "start_time": "2022-06-22T14:02:40.861Z"
   },
   {
    "duration": 35,
    "start_time": "2022-06-22T14:02:40.898Z"
   },
   {
    "duration": 30,
    "start_time": "2022-06-22T14:02:40.934Z"
   },
   {
    "duration": 5,
    "start_time": "2022-06-22T14:02:40.966Z"
   },
   {
    "duration": 21,
    "start_time": "2022-06-22T14:02:40.973Z"
   },
   {
    "duration": 144,
    "start_time": "2022-06-22T14:02:40.995Z"
   },
   {
    "duration": 2,
    "start_time": "2022-06-22T14:02:41.143Z"
   },
   {
    "duration": 10,
    "start_time": "2022-06-22T14:02:41.147Z"
   },
   {
    "duration": 721,
    "start_time": "2022-06-22T14:02:41.159Z"
   },
   {
    "duration": 72,
    "start_time": "2022-06-22T14:02:41.881Z"
   },
   {
    "duration": 12,
    "start_time": "2022-06-22T14:02:41.954Z"
   },
   {
    "duration": 10,
    "start_time": "2022-06-22T14:02:41.967Z"
   },
   {
    "duration": 14,
    "start_time": "2022-06-22T14:02:41.978Z"
   },
   {
    "duration": 56,
    "start_time": "2022-06-22T14:02:41.993Z"
   },
   {
    "duration": 21,
    "start_time": "2022-06-22T14:02:42.050Z"
   },
   {
    "duration": 13,
    "start_time": "2022-06-22T14:02:42.072Z"
   },
   {
    "duration": 43,
    "start_time": "2022-06-22T14:02:42.086Z"
   },
   {
    "duration": 23,
    "start_time": "2022-06-22T14:02:42.131Z"
   },
   {
    "duration": 5,
    "start_time": "2022-06-22T14:02:42.155Z"
   },
   {
    "duration": 7,
    "start_time": "2022-06-22T14:02:42.161Z"
   },
   {
    "duration": 20,
    "start_time": "2022-06-22T14:02:42.170Z"
   },
   {
    "duration": 5,
    "start_time": "2022-06-22T14:02:42.191Z"
   },
   {
    "duration": 68,
    "start_time": "2022-06-22T14:02:42.197Z"
   },
   {
    "duration": 21,
    "start_time": "2022-06-22T14:02:42.266Z"
   },
   {
    "duration": 8,
    "start_time": "2022-06-22T14:02:42.288Z"
   },
   {
    "duration": 10,
    "start_time": "2022-06-22T14:02:42.298Z"
   },
   {
    "duration": 20,
    "start_time": "2022-06-22T14:02:42.310Z"
   },
   {
    "duration": 2,
    "start_time": "2022-06-22T14:02:42.331Z"
   },
   {
    "duration": 54,
    "start_time": "2022-06-22T14:02:42.335Z"
   },
   {
    "duration": 20,
    "start_time": "2022-06-22T14:02:42.390Z"
   },
   {
    "duration": 6,
    "start_time": "2022-06-22T14:02:42.411Z"
   },
   {
    "duration": 361,
    "start_time": "2022-06-22T14:02:42.429Z"
   },
   {
    "duration": 150,
    "start_time": "2022-06-22T14:02:42.791Z"
   },
   {
    "duration": 151,
    "start_time": "2022-06-22T14:02:42.943Z"
   },
   {
    "duration": 12,
    "start_time": "2022-06-22T14:02:43.096Z"
   },
   {
    "duration": 62,
    "start_time": "2022-06-22T14:02:43.110Z"
   },
   {
    "duration": 30,
    "start_time": "2022-06-22T14:02:43.174Z"
   },
   {
    "duration": 26,
    "start_time": "2022-06-22T14:02:43.206Z"
   },
   {
    "duration": 251,
    "start_time": "2022-06-22T14:02:43.234Z"
   },
   {
    "duration": 135,
    "start_time": "2022-06-22T14:02:43.486Z"
   },
   {
    "duration": 214,
    "start_time": "2022-06-22T14:02:43.628Z"
   },
   {
    "duration": 15,
    "start_time": "2022-06-22T14:02:43.844Z"
   },
   {
    "duration": 12,
    "start_time": "2022-06-22T14:02:43.860Z"
   },
   {
    "duration": 70,
    "start_time": "2022-06-22T14:02:43.873Z"
   },
   {
    "duration": 24,
    "start_time": "2022-06-22T14:02:43.944Z"
   },
   {
    "duration": 6,
    "start_time": "2022-06-22T14:02:43.969Z"
   },
   {
    "duration": 198,
    "start_time": "2022-06-22T14:02:43.977Z"
   },
   {
    "duration": 129,
    "start_time": "2022-06-22T14:02:44.176Z"
   },
   {
    "duration": 144,
    "start_time": "2022-06-22T14:02:44.306Z"
   },
   {
    "duration": 11,
    "start_time": "2022-06-22T14:02:44.451Z"
   },
   {
    "duration": 10,
    "start_time": "2022-06-22T14:02:44.464Z"
   },
   {
    "duration": 20,
    "start_time": "2022-06-22T14:02:44.475Z"
   },
   {
    "duration": 71,
    "start_time": "2022-06-22T14:02:44.497Z"
   },
   {
    "duration": 19,
    "start_time": "2022-06-22T14:02:44.570Z"
   },
   {
    "duration": 6,
    "start_time": "2022-06-22T14:02:44.590Z"
   },
   {
    "duration": 166,
    "start_time": "2022-06-22T14:02:44.597Z"
   },
   {
    "duration": 144,
    "start_time": "2022-06-22T14:02:44.764Z"
   },
   {
    "duration": 145,
    "start_time": "2022-06-22T14:02:44.910Z"
   },
   {
    "duration": 15,
    "start_time": "2022-06-22T14:02:45.057Z"
   },
   {
    "duration": 11,
    "start_time": "2022-06-22T14:02:45.073Z"
   },
   {
    "duration": 3,
    "start_time": "2022-06-22T14:02:45.133Z"
   },
   {
    "duration": 21,
    "start_time": "2022-06-22T14:02:45.138Z"
   },
   {
    "duration": 10,
    "start_time": "2022-06-22T14:02:45.160Z"
   },
   {
    "duration": 7,
    "start_time": "2022-06-22T14:02:45.172Z"
   },
   {
    "duration": 55,
    "start_time": "2022-06-22T14:02:45.181Z"
   },
   {
    "duration": 834,
    "start_time": "2022-06-22T14:02:45.238Z"
   },
   {
    "duration": 3,
    "start_time": "2022-06-22T14:02:46.073Z"
   },
   {
    "duration": 57,
    "start_time": "2022-06-22T14:02:46.078Z"
   },
   {
    "duration": 23,
    "start_time": "2022-06-22T14:02:46.136Z"
   },
   {
    "duration": 7,
    "start_time": "2022-06-22T14:02:46.160Z"
   },
   {
    "duration": 9,
    "start_time": "2022-06-22T14:02:46.168Z"
   },
   {
    "duration": 11,
    "start_time": "2022-06-22T14:02:46.179Z"
   },
   {
    "duration": 30,
    "start_time": "2022-06-22T14:02:46.228Z"
   },
   {
    "duration": 13,
    "start_time": "2022-06-22T14:02:46.259Z"
   },
   {
    "duration": 8,
    "start_time": "2022-06-22T14:02:46.274Z"
   },
   {
    "duration": 46,
    "start_time": "2022-06-22T14:02:46.284Z"
   },
   {
    "duration": 30,
    "start_time": "2022-06-22T14:02:46.331Z"
   },
   {
    "duration": 15,
    "start_time": "2022-06-22T14:02:46.363Z"
   },
   {
    "duration": 54,
    "start_time": "2022-06-22T14:02:46.379Z"
   },
   {
    "duration": 97,
    "start_time": "2022-06-22T14:02:46.435Z"
   },
   {
    "duration": 295,
    "start_time": "2022-06-22T14:02:46.534Z"
   },
   {
    "duration": 226,
    "start_time": "2022-06-22T14:02:46.831Z"
   },
   {
    "duration": 8,
    "start_time": "2022-06-22T14:02:47.059Z"
   },
   {
    "duration": 61,
    "start_time": "2022-06-22T14:02:47.069Z"
   },
   {
    "duration": 22,
    "start_time": "2022-06-22T14:03:39.229Z"
   },
   {
    "duration": 22,
    "start_time": "2022-06-22T14:03:40.214Z"
   },
   {
    "duration": 103,
    "start_time": "2022-06-22T14:04:08.174Z"
   },
   {
    "duration": 21,
    "start_time": "2022-06-22T14:04:37.183Z"
   },
   {
    "duration": 21,
    "start_time": "2022-06-22T14:04:40.970Z"
   },
   {
    "duration": 34,
    "start_time": "2022-06-22T14:06:23.624Z"
   },
   {
    "duration": 27,
    "start_time": "2022-06-22T14:06:25.968Z"
   },
   {
    "duration": 449,
    "start_time": "2022-06-22T14:06:30.400Z"
   },
   {
    "duration": 423,
    "start_time": "2022-06-22T14:06:30.852Z"
   },
   {
    "duration": 24,
    "start_time": "2022-06-22T14:06:31.276Z"
   },
   {
    "duration": 22,
    "start_time": "2022-06-22T14:06:31.303Z"
   },
   {
    "duration": 25,
    "start_time": "2022-06-22T14:06:31.327Z"
   },
   {
    "duration": 13,
    "start_time": "2022-06-22T14:06:31.354Z"
   },
   {
    "duration": 14,
    "start_time": "2022-06-22T14:06:31.369Z"
   },
   {
    "duration": 22,
    "start_time": "2022-06-22T14:06:31.385Z"
   },
   {
    "duration": 38,
    "start_time": "2022-06-22T14:06:31.409Z"
   },
   {
    "duration": 20,
    "start_time": "2022-06-22T14:06:31.451Z"
   },
   {
    "duration": 18,
    "start_time": "2022-06-22T14:06:31.473Z"
   },
   {
    "duration": 684,
    "start_time": "2022-06-22T14:06:31.492Z"
   },
   {
    "duration": 218,
    "start_time": "2022-06-22T14:06:32.178Z"
   },
   {
    "duration": 12,
    "start_time": "2022-06-22T14:06:32.398Z"
   },
   {
    "duration": 36,
    "start_time": "2022-06-22T14:06:32.412Z"
   },
   {
    "duration": 8,
    "start_time": "2022-06-22T14:06:32.450Z"
   },
   {
    "duration": 12,
    "start_time": "2022-06-22T14:06:32.460Z"
   },
   {
    "duration": 17,
    "start_time": "2022-06-22T14:06:32.474Z"
   },
   {
    "duration": 7,
    "start_time": "2022-06-22T14:06:32.492Z"
   },
   {
    "duration": 30,
    "start_time": "2022-06-22T14:06:32.500Z"
   },
   {
    "duration": 57,
    "start_time": "2022-06-22T14:06:32.532Z"
   },
   {
    "duration": 71,
    "start_time": "2022-06-22T14:06:32.590Z"
   },
   {
    "duration": 22,
    "start_time": "2022-06-22T14:06:32.663Z"
   },
   {
    "duration": 51,
    "start_time": "2022-06-22T14:06:32.687Z"
   },
   {
    "duration": 6,
    "start_time": "2022-06-22T14:06:32.739Z"
   },
   {
    "duration": 23,
    "start_time": "2022-06-22T14:06:32.746Z"
   },
   {
    "duration": 142,
    "start_time": "2022-06-22T14:06:32.771Z"
   },
   {
    "duration": 3,
    "start_time": "2022-06-22T14:06:32.916Z"
   },
   {
    "duration": 11,
    "start_time": "2022-06-22T14:06:32.920Z"
   },
   {
    "duration": 724,
    "start_time": "2022-06-22T14:06:32.933Z"
   },
   {
    "duration": 68,
    "start_time": "2022-06-22T14:06:33.661Z"
   },
   {
    "duration": 14,
    "start_time": "2022-06-22T14:06:33.731Z"
   },
   {
    "duration": 10,
    "start_time": "2022-06-22T14:06:33.747Z"
   },
   {
    "duration": 15,
    "start_time": "2022-06-22T14:06:33.758Z"
   },
   {
    "duration": 21,
    "start_time": "2022-06-22T14:06:33.774Z"
   },
   {
    "duration": 54,
    "start_time": "2022-06-22T14:06:33.797Z"
   },
   {
    "duration": 13,
    "start_time": "2022-06-22T14:06:33.852Z"
   },
   {
    "duration": 21,
    "start_time": "2022-06-22T14:06:33.867Z"
   },
   {
    "duration": 45,
    "start_time": "2022-06-22T14:06:33.890Z"
   },
   {
    "duration": 5,
    "start_time": "2022-06-22T14:06:33.937Z"
   },
   {
    "duration": 7,
    "start_time": "2022-06-22T14:06:33.943Z"
   },
   {
    "duration": 11,
    "start_time": "2022-06-22T14:06:33.952Z"
   },
   {
    "duration": 8,
    "start_time": "2022-06-22T14:06:33.965Z"
   },
   {
    "duration": 67,
    "start_time": "2022-06-22T14:06:33.974Z"
   },
   {
    "duration": 21,
    "start_time": "2022-06-22T14:06:34.043Z"
   },
   {
    "duration": 6,
    "start_time": "2022-06-22T14:06:34.066Z"
   },
   {
    "duration": 7,
    "start_time": "2022-06-22T14:06:34.073Z"
   },
   {
    "duration": 8,
    "start_time": "2022-06-22T14:06:34.082Z"
   },
   {
    "duration": 37,
    "start_time": "2022-06-22T14:06:34.092Z"
   },
   {
    "duration": 57,
    "start_time": "2022-06-22T14:06:34.131Z"
   },
   {
    "duration": 21,
    "start_time": "2022-06-22T14:06:34.190Z"
   },
   {
    "duration": 17,
    "start_time": "2022-06-22T14:06:34.212Z"
   },
   {
    "duration": 349,
    "start_time": "2022-06-22T14:06:34.231Z"
   },
   {
    "duration": 150,
    "start_time": "2022-06-22T14:06:34.581Z"
   },
   {
    "duration": 148,
    "start_time": "2022-06-22T14:06:34.732Z"
   },
   {
    "duration": 12,
    "start_time": "2022-06-22T14:06:34.881Z"
   },
   {
    "duration": 53,
    "start_time": "2022-06-22T14:06:34.895Z"
   },
   {
    "duration": 21,
    "start_time": "2022-06-22T14:06:34.950Z"
   },
   {
    "duration": 5,
    "start_time": "2022-06-22T14:06:34.973Z"
   },
   {
    "duration": 258,
    "start_time": "2022-06-22T14:06:34.980Z"
   },
   {
    "duration": 141,
    "start_time": "2022-06-22T14:06:35.239Z"
   },
   {
    "duration": 214,
    "start_time": "2022-06-22T14:06:35.381Z"
   },
   {
    "duration": 13,
    "start_time": "2022-06-22T14:06:35.596Z"
   },
   {
    "duration": 26,
    "start_time": "2022-06-22T14:06:35.610Z"
   },
   {
    "duration": 45,
    "start_time": "2022-06-22T14:06:35.638Z"
   },
   {
    "duration": 47,
    "start_time": "2022-06-22T14:06:35.684Z"
   },
   {
    "duration": 6,
    "start_time": "2022-06-22T14:06:35.733Z"
   },
   {
    "duration": 198,
    "start_time": "2022-06-22T14:06:35.741Z"
   },
   {
    "duration": 163,
    "start_time": "2022-06-22T14:06:35.941Z"
   },
   {
    "duration": 178,
    "start_time": "2022-06-22T14:06:36.106Z"
   },
   {
    "duration": 17,
    "start_time": "2022-06-22T14:06:36.286Z"
   },
   {
    "duration": 32,
    "start_time": "2022-06-22T14:06:36.305Z"
   },
   {
    "duration": 23,
    "start_time": "2022-06-22T14:06:36.339Z"
   },
   {
    "duration": 65,
    "start_time": "2022-06-22T14:06:36.364Z"
   },
   {
    "duration": 24,
    "start_time": "2022-06-22T14:06:36.431Z"
   },
   {
    "duration": 7,
    "start_time": "2022-06-22T14:06:36.457Z"
   },
   {
    "duration": 153,
    "start_time": "2022-06-22T14:06:36.466Z"
   },
   {
    "duration": 150,
    "start_time": "2022-06-22T14:06:36.620Z"
   },
   {
    "duration": 146,
    "start_time": "2022-06-22T14:06:36.771Z"
   },
   {
    "duration": 25,
    "start_time": "2022-06-22T14:06:36.919Z"
   },
   {
    "duration": 21,
    "start_time": "2022-06-22T14:06:36.946Z"
   },
   {
    "duration": 2,
    "start_time": "2022-06-22T14:06:36.974Z"
   },
   {
    "duration": 13,
    "start_time": "2022-06-22T14:06:36.978Z"
   },
   {
    "duration": 11,
    "start_time": "2022-06-22T14:06:36.992Z"
   },
   {
    "duration": 25,
    "start_time": "2022-06-22T14:06:37.005Z"
   },
   {
    "duration": 11,
    "start_time": "2022-06-22T14:06:37.032Z"
   },
   {
    "duration": 445,
    "start_time": "2022-06-22T14:06:37.045Z"
   },
   {
    "duration": 4,
    "start_time": "2022-06-22T14:06:37.492Z"
   },
   {
    "duration": 11,
    "start_time": "2022-06-22T14:06:37.497Z"
   },
   {
    "duration": 6,
    "start_time": "2022-06-22T14:06:37.510Z"
   },
   {
    "duration": 3,
    "start_time": "2022-06-22T14:06:37.530Z"
   },
   {
    "duration": 7,
    "start_time": "2022-06-22T14:06:37.535Z"
   },
   {
    "duration": 17,
    "start_time": "2022-06-22T14:06:37.544Z"
   },
   {
    "duration": 9,
    "start_time": "2022-06-22T14:06:37.563Z"
   },
   {
    "duration": 12,
    "start_time": "2022-06-22T14:06:37.573Z"
   },
   {
    "duration": 6,
    "start_time": "2022-06-22T14:06:37.586Z"
   },
   {
    "duration": 6,
    "start_time": "2022-06-22T14:06:37.593Z"
   },
   {
    "duration": 6,
    "start_time": "2022-06-22T14:06:37.600Z"
   },
   {
    "duration": 31,
    "start_time": "2022-06-22T14:06:37.607Z"
   },
   {
    "duration": 18,
    "start_time": "2022-06-22T14:06:37.640Z"
   },
   {
    "duration": 23,
    "start_time": "2022-06-22T14:06:37.659Z"
   },
   {
    "duration": 135,
    "start_time": "2022-06-22T14:06:37.684Z"
   },
   {
    "duration": 126,
    "start_time": "2022-06-22T14:06:37.821Z"
   },
   {
    "duration": 9,
    "start_time": "2022-06-22T14:06:37.949Z"
   },
   {
    "duration": 9,
    "start_time": "2022-06-22T14:06:37.959Z"
   },
   {
    "duration": 25,
    "start_time": "2022-06-22T14:08:08.614Z"
   },
   {
    "duration": 22,
    "start_time": "2022-06-22T14:08:10.190Z"
   },
   {
    "duration": 33,
    "start_time": "2022-06-22T14:08:26.339Z"
   },
   {
    "duration": 39,
    "start_time": "2022-06-22T14:08:27.905Z"
   },
   {
    "duration": 39,
    "start_time": "2022-06-22T14:08:40.801Z"
   },
   {
    "duration": 23,
    "start_time": "2022-06-22T14:08:42.338Z"
   },
   {
    "duration": 24,
    "start_time": "2022-06-22T14:08:55.508Z"
   },
   {
    "duration": 22,
    "start_time": "2022-06-22T14:08:56.320Z"
   },
   {
    "duration": 36,
    "start_time": "2022-06-22T14:09:08.659Z"
   },
   {
    "duration": 30,
    "start_time": "2022-06-22T14:09:11.956Z"
   },
   {
    "duration": 35,
    "start_time": "2022-06-22T14:09:40.197Z"
   },
   {
    "duration": 39,
    "start_time": "2022-06-22T14:09:41.220Z"
   },
   {
    "duration": 435,
    "start_time": "2022-06-22T14:10:15.724Z"
   },
   {
    "duration": 408,
    "start_time": "2022-06-22T14:10:16.162Z"
   },
   {
    "duration": 22,
    "start_time": "2022-06-22T14:10:16.571Z"
   },
   {
    "duration": 17,
    "start_time": "2022-06-22T14:10:16.595Z"
   },
   {
    "duration": 17,
    "start_time": "2022-06-22T14:10:16.614Z"
   },
   {
    "duration": 13,
    "start_time": "2022-06-22T14:10:16.633Z"
   },
   {
    "duration": 12,
    "start_time": "2022-06-22T14:10:16.647Z"
   },
   {
    "duration": 21,
    "start_time": "2022-06-22T14:10:16.661Z"
   },
   {
    "duration": 19,
    "start_time": "2022-06-22T14:10:16.683Z"
   },
   {
    "duration": 33,
    "start_time": "2022-06-22T14:10:16.705Z"
   },
   {
    "duration": 14,
    "start_time": "2022-06-22T14:10:16.740Z"
   },
   {
    "duration": 681,
    "start_time": "2022-06-22T14:10:16.756Z"
   },
   {
    "duration": 190,
    "start_time": "2022-06-22T14:10:17.439Z"
   },
   {
    "duration": 12,
    "start_time": "2022-06-22T14:10:17.630Z"
   },
   {
    "duration": 17,
    "start_time": "2022-06-22T14:10:17.644Z"
   },
   {
    "duration": 11,
    "start_time": "2022-06-22T14:10:17.664Z"
   },
   {
    "duration": 16,
    "start_time": "2022-06-22T14:10:17.676Z"
   },
   {
    "duration": 36,
    "start_time": "2022-06-22T14:10:17.693Z"
   },
   {
    "duration": 6,
    "start_time": "2022-06-22T14:10:17.731Z"
   },
   {
    "duration": 12,
    "start_time": "2022-06-22T14:10:17.739Z"
   },
   {
    "duration": 64,
    "start_time": "2022-06-22T14:10:17.753Z"
   },
   {
    "duration": 47,
    "start_time": "2022-06-22T14:10:17.819Z"
   },
   {
    "duration": 24,
    "start_time": "2022-06-22T14:10:17.867Z"
   },
   {
    "duration": 53,
    "start_time": "2022-06-22T14:10:17.893Z"
   },
   {
    "duration": 9,
    "start_time": "2022-06-22T14:10:17.948Z"
   },
   {
    "duration": 27,
    "start_time": "2022-06-22T14:10:17.959Z"
   },
   {
    "duration": 168,
    "start_time": "2022-06-22T14:10:17.988Z"
   },
   {
    "duration": 3,
    "start_time": "2022-06-22T14:10:18.160Z"
   },
   {
    "duration": 7,
    "start_time": "2022-06-22T14:10:18.165Z"
   },
   {
    "duration": 737,
    "start_time": "2022-06-22T14:10:18.173Z"
   },
   {
    "duration": 61,
    "start_time": "2022-06-22T14:10:18.912Z"
   },
   {
    "duration": 15,
    "start_time": "2022-06-22T14:10:18.975Z"
   },
   {
    "duration": 13,
    "start_time": "2022-06-22T14:10:18.991Z"
   },
   {
    "duration": 38,
    "start_time": "2022-06-22T14:10:19.006Z"
   },
   {
    "duration": 22,
    "start_time": "2022-06-22T14:10:19.046Z"
   },
   {
    "duration": 23,
    "start_time": "2022-06-22T14:10:19.069Z"
   },
   {
    "duration": 46,
    "start_time": "2022-06-22T14:10:19.094Z"
   },
   {
    "duration": 22,
    "start_time": "2022-06-22T14:10:19.141Z"
   },
   {
    "duration": 23,
    "start_time": "2022-06-22T14:10:19.165Z"
   },
   {
    "duration": 5,
    "start_time": "2022-06-22T14:10:19.190Z"
   },
   {
    "duration": 37,
    "start_time": "2022-06-22T14:10:19.196Z"
   },
   {
    "duration": 13,
    "start_time": "2022-06-22T14:10:19.235Z"
   },
   {
    "duration": 5,
    "start_time": "2022-06-22T14:10:19.250Z"
   },
   {
    "duration": 53,
    "start_time": "2022-06-22T14:10:19.256Z"
   },
   {
    "duration": 42,
    "start_time": "2022-06-22T14:10:19.311Z"
   },
   {
    "duration": 6,
    "start_time": "2022-06-22T14:10:19.354Z"
   },
   {
    "duration": 8,
    "start_time": "2022-06-22T14:10:19.362Z"
   },
   {
    "duration": 7,
    "start_time": "2022-06-22T14:10:19.372Z"
   },
   {
    "duration": 4,
    "start_time": "2022-06-22T14:10:19.380Z"
   },
   {
    "duration": 81,
    "start_time": "2022-06-22T14:10:19.386Z"
   },
   {
    "duration": 22,
    "start_time": "2022-06-22T14:10:19.468Z"
   },
   {
    "duration": 7,
    "start_time": "2022-06-22T14:10:19.491Z"
   },
   {
    "duration": 369,
    "start_time": "2022-06-22T14:10:19.529Z"
   },
   {
    "duration": 163,
    "start_time": "2022-06-22T14:10:19.900Z"
   },
   {
    "duration": 172,
    "start_time": "2022-06-22T14:10:20.065Z"
   },
   {
    "duration": 14,
    "start_time": "2022-06-22T14:10:20.240Z"
   },
   {
    "duration": 73,
    "start_time": "2022-06-22T14:10:20.256Z"
   },
   {
    "duration": 26,
    "start_time": "2022-06-22T14:10:20.331Z"
   },
   {
    "duration": 7,
    "start_time": "2022-06-22T14:10:20.359Z"
   },
   {
    "duration": 308,
    "start_time": "2022-06-22T14:10:20.367Z"
   },
   {
    "duration": 138,
    "start_time": "2022-06-22T14:10:20.677Z"
   },
   {
    "duration": 396,
    "start_time": "2022-06-22T14:10:20.816Z"
   },
   {
    "duration": 26,
    "start_time": "2022-06-22T14:10:21.214Z"
   },
   {
    "duration": 16,
    "start_time": "2022-06-22T14:10:21.242Z"
   },
   {
    "duration": 71,
    "start_time": "2022-06-22T14:10:21.260Z"
   },
   {
    "duration": 22,
    "start_time": "2022-06-22T14:10:21.333Z"
   },
   {
    "duration": 8,
    "start_time": "2022-06-22T14:10:21.357Z"
   },
   {
    "duration": 401,
    "start_time": "2022-06-22T14:10:21.367Z"
   },
   {
    "duration": 286,
    "start_time": "2022-06-22T14:10:21.770Z"
   },
   {
    "duration": 283,
    "start_time": "2022-06-22T14:10:22.057Z"
   },
   {
    "duration": 12,
    "start_time": "2022-06-22T14:10:22.341Z"
   },
   {
    "duration": 15,
    "start_time": "2022-06-22T14:10:22.354Z"
   },
   {
    "duration": 32,
    "start_time": "2022-06-22T14:10:22.429Z"
   },
   {
    "duration": 166,
    "start_time": "2022-06-22T14:10:22.463Z"
   },
   {
    "duration": 22,
    "start_time": "2022-06-22T14:10:22.631Z"
   },
   {
    "duration": 8,
    "start_time": "2022-06-22T14:10:22.654Z"
   },
   {
    "duration": 311,
    "start_time": "2022-06-22T14:10:22.664Z"
   },
   {
    "duration": 219,
    "start_time": "2022-06-22T14:10:23.029Z"
   },
   {
    "duration": 135,
    "start_time": "2022-06-22T14:10:23.250Z"
   },
   {
    "duration": 15,
    "start_time": "2022-06-22T14:10:23.387Z"
   },
   {
    "duration": 35,
    "start_time": "2022-06-22T14:10:23.403Z"
   },
   {
    "duration": 3,
    "start_time": "2022-06-22T14:10:23.447Z"
   },
   {
    "duration": 10,
    "start_time": "2022-06-22T14:10:23.451Z"
   },
   {
    "duration": 7,
    "start_time": "2022-06-22T14:10:23.463Z"
   },
   {
    "duration": 6,
    "start_time": "2022-06-22T14:10:23.472Z"
   },
   {
    "duration": 8,
    "start_time": "2022-06-22T14:10:23.480Z"
   },
   {
    "duration": 496,
    "start_time": "2022-06-22T14:10:23.490Z"
   },
   {
    "duration": 3,
    "start_time": "2022-06-22T14:10:23.987Z"
   },
   {
    "duration": 15,
    "start_time": "2022-06-22T14:10:23.992Z"
   },
   {
    "duration": 5,
    "start_time": "2022-06-22T14:10:24.009Z"
   },
   {
    "duration": 14,
    "start_time": "2022-06-22T14:10:24.016Z"
   },
   {
    "duration": 5,
    "start_time": "2022-06-22T14:10:24.031Z"
   },
   {
    "duration": 7,
    "start_time": "2022-06-22T14:10:24.037Z"
   },
   {
    "duration": 7,
    "start_time": "2022-06-22T14:10:24.045Z"
   },
   {
    "duration": 7,
    "start_time": "2022-06-22T14:10:24.053Z"
   },
   {
    "duration": 6,
    "start_time": "2022-06-22T14:10:24.062Z"
   },
   {
    "duration": 6,
    "start_time": "2022-06-22T14:10:24.069Z"
   },
   {
    "duration": 6,
    "start_time": "2022-06-22T14:10:24.076Z"
   },
   {
    "duration": 51,
    "start_time": "2022-06-22T14:10:24.084Z"
   },
   {
    "duration": 19,
    "start_time": "2022-06-22T14:10:24.137Z"
   },
   {
    "duration": 19,
    "start_time": "2022-06-22T14:10:24.157Z"
   },
   {
    "duration": 155,
    "start_time": "2022-06-22T14:10:24.178Z"
   },
   {
    "duration": 136,
    "start_time": "2022-06-22T14:10:24.335Z"
   },
   {
    "duration": 9,
    "start_time": "2022-06-22T14:10:24.472Z"
   },
   {
    "duration": 13,
    "start_time": "2022-06-22T14:10:24.484Z"
   },
   {
    "duration": 26,
    "start_time": "2022-06-22T14:11:20.512Z"
   },
   {
    "duration": 26,
    "start_time": "2022-06-22T14:11:21.305Z"
   },
   {
    "duration": 27,
    "start_time": "2022-06-22T14:11:37.300Z"
   },
   {
    "duration": 23,
    "start_time": "2022-06-22T14:11:38.497Z"
   },
   {
    "duration": 22,
    "start_time": "2022-06-22T14:11:51.818Z"
   },
   {
    "duration": 25,
    "start_time": "2022-06-22T14:11:52.635Z"
   },
   {
    "duration": 426,
    "start_time": "2022-06-22T14:12:34.416Z"
   },
   {
    "duration": 393,
    "start_time": "2022-06-22T14:12:34.843Z"
   },
   {
    "duration": 21,
    "start_time": "2022-06-22T14:12:35.237Z"
   },
   {
    "duration": 21,
    "start_time": "2022-06-22T14:12:35.260Z"
   },
   {
    "duration": 16,
    "start_time": "2022-06-22T14:12:35.282Z"
   },
   {
    "duration": 10,
    "start_time": "2022-06-22T14:12:35.299Z"
   },
   {
    "duration": 10,
    "start_time": "2022-06-22T14:12:35.329Z"
   },
   {
    "duration": 20,
    "start_time": "2022-06-22T14:12:35.340Z"
   },
   {
    "duration": 18,
    "start_time": "2022-06-22T14:12:35.361Z"
   },
   {
    "duration": 15,
    "start_time": "2022-06-22T14:12:35.382Z"
   },
   {
    "duration": 37,
    "start_time": "2022-06-22T14:12:35.399Z"
   },
   {
    "duration": 619,
    "start_time": "2022-06-22T14:12:35.438Z"
   },
   {
    "duration": 212,
    "start_time": "2022-06-22T14:12:36.060Z"
   },
   {
    "duration": 10,
    "start_time": "2022-06-22T14:12:36.273Z"
   },
   {
    "duration": 13,
    "start_time": "2022-06-22T14:12:36.284Z"
   },
   {
    "duration": 6,
    "start_time": "2022-06-22T14:12:36.299Z"
   },
   {
    "duration": 6,
    "start_time": "2022-06-22T14:12:36.329Z"
   },
   {
    "duration": 15,
    "start_time": "2022-06-22T14:12:36.336Z"
   },
   {
    "duration": 7,
    "start_time": "2022-06-22T14:12:36.353Z"
   },
   {
    "duration": 8,
    "start_time": "2022-06-22T14:12:36.361Z"
   },
   {
    "duration": 82,
    "start_time": "2022-06-22T14:12:36.371Z"
   },
   {
    "duration": 37,
    "start_time": "2022-06-22T14:12:36.455Z"
   },
   {
    "duration": 36,
    "start_time": "2022-06-22T14:12:36.494Z"
   },
   {
    "duration": 31,
    "start_time": "2022-06-22T14:12:36.532Z"
   },
   {
    "duration": 5,
    "start_time": "2022-06-22T14:12:36.564Z"
   },
   {
    "duration": 19,
    "start_time": "2022-06-22T14:12:36.571Z"
   },
   {
    "duration": 163,
    "start_time": "2022-06-22T14:12:36.592Z"
   },
   {
    "duration": 3,
    "start_time": "2022-06-22T14:12:36.760Z"
   },
   {
    "duration": 7,
    "start_time": "2022-06-22T14:12:36.765Z"
   },
   {
    "duration": 734,
    "start_time": "2022-06-22T14:12:36.774Z"
   },
   {
    "duration": 73,
    "start_time": "2022-06-22T14:12:37.510Z"
   },
   {
    "duration": 15,
    "start_time": "2022-06-22T14:12:37.584Z"
   },
   {
    "duration": 12,
    "start_time": "2022-06-22T14:12:37.600Z"
   },
   {
    "duration": 36,
    "start_time": "2022-06-22T14:12:37.614Z"
   },
   {
    "duration": 24,
    "start_time": "2022-06-22T14:12:37.651Z"
   },
   {
    "duration": 25,
    "start_time": "2022-06-22T14:12:37.677Z"
   },
   {
    "duration": 33,
    "start_time": "2022-06-22T14:12:37.703Z"
   },
   {
    "duration": 23,
    "start_time": "2022-06-22T14:12:37.737Z"
   },
   {
    "duration": 22,
    "start_time": "2022-06-22T14:12:37.761Z"
   },
   {
    "duration": 4,
    "start_time": "2022-06-22T14:12:37.785Z"
   },
   {
    "duration": 40,
    "start_time": "2022-06-22T14:12:37.791Z"
   },
   {
    "duration": 10,
    "start_time": "2022-06-22T14:12:37.833Z"
   },
   {
    "duration": 4,
    "start_time": "2022-06-22T14:12:37.846Z"
   },
   {
    "duration": 52,
    "start_time": "2022-06-22T14:12:37.852Z"
   },
   {
    "duration": 43,
    "start_time": "2022-06-22T14:12:37.905Z"
   },
   {
    "duration": 7,
    "start_time": "2022-06-22T14:12:37.950Z"
   },
   {
    "duration": 7,
    "start_time": "2022-06-22T14:12:37.958Z"
   },
   {
    "duration": 8,
    "start_time": "2022-06-22T14:12:37.966Z"
   },
   {
    "duration": 4,
    "start_time": "2022-06-22T14:12:37.976Z"
   },
   {
    "duration": 70,
    "start_time": "2022-06-22T14:12:37.982Z"
   },
   {
    "duration": 20,
    "start_time": "2022-06-22T14:12:38.054Z"
   },
   {
    "duration": 6,
    "start_time": "2022-06-22T14:12:38.076Z"
   },
   {
    "duration": 358,
    "start_time": "2022-06-22T14:12:38.083Z"
   },
   {
    "duration": 149,
    "start_time": "2022-06-22T14:12:38.443Z"
   },
   {
    "duration": 151,
    "start_time": "2022-06-22T14:12:38.594Z"
   },
   {
    "duration": 13,
    "start_time": "2022-06-22T14:12:38.747Z"
   },
   {
    "duration": 52,
    "start_time": "2022-06-22T14:12:38.762Z"
   },
   {
    "duration": 25,
    "start_time": "2022-06-22T14:12:38.832Z"
   },
   {
    "duration": 7,
    "start_time": "2022-06-22T14:12:38.859Z"
   },
   {
    "duration": 250,
    "start_time": "2022-06-22T14:12:38.868Z"
   },
   {
    "duration": 148,
    "start_time": "2022-06-22T14:12:39.120Z"
   },
   {
    "duration": 216,
    "start_time": "2022-06-22T14:12:39.269Z"
   },
   {
    "duration": 13,
    "start_time": "2022-06-22T14:12:39.486Z"
   },
   {
    "duration": 30,
    "start_time": "2022-06-22T14:12:39.500Z"
   },
   {
    "duration": 46,
    "start_time": "2022-06-22T14:12:39.531Z"
   },
   {
    "duration": 21,
    "start_time": "2022-06-22T14:12:39.580Z"
   },
   {
    "duration": 30,
    "start_time": "2022-06-22T14:12:39.603Z"
   },
   {
    "duration": 197,
    "start_time": "2022-06-22T14:12:39.634Z"
   },
   {
    "duration": 140,
    "start_time": "2022-06-22T14:12:39.832Z"
   },
   {
    "duration": 128,
    "start_time": "2022-06-22T14:12:39.974Z"
   },
   {
    "duration": 27,
    "start_time": "2022-06-22T14:12:40.104Z"
   },
   {
    "duration": 11,
    "start_time": "2022-06-22T14:12:40.132Z"
   },
   {
    "duration": 31,
    "start_time": "2022-06-22T14:12:40.145Z"
   },
   {
    "duration": 82,
    "start_time": "2022-06-22T14:12:40.178Z"
   },
   {
    "duration": 22,
    "start_time": "2022-06-22T14:12:40.262Z"
   },
   {
    "duration": 6,
    "start_time": "2022-06-22T14:12:40.285Z"
   },
   {
    "duration": 154,
    "start_time": "2022-06-22T14:12:40.292Z"
   },
   {
    "duration": 152,
    "start_time": "2022-06-22T14:12:40.447Z"
   },
   {
    "duration": 140,
    "start_time": "2022-06-22T14:12:40.600Z"
   },
   {
    "duration": 12,
    "start_time": "2022-06-22T14:12:40.742Z"
   },
   {
    "duration": 12,
    "start_time": "2022-06-22T14:12:40.755Z"
   },
   {
    "duration": 2,
    "start_time": "2022-06-22T14:12:40.772Z"
   },
   {
    "duration": 9,
    "start_time": "2022-06-22T14:12:40.776Z"
   },
   {
    "duration": 44,
    "start_time": "2022-06-22T14:12:40.786Z"
   },
   {
    "duration": 6,
    "start_time": "2022-06-22T14:12:40.832Z"
   },
   {
    "duration": 19,
    "start_time": "2022-06-22T14:12:40.839Z"
   },
   {
    "duration": 464,
    "start_time": "2022-06-22T14:12:40.859Z"
   },
   {
    "duration": 4,
    "start_time": "2022-06-22T14:12:41.325Z"
   },
   {
    "duration": 9,
    "start_time": "2022-06-22T14:12:41.330Z"
   },
   {
    "duration": 7,
    "start_time": "2022-06-22T14:12:41.341Z"
   },
   {
    "duration": 4,
    "start_time": "2022-06-22T14:12:41.350Z"
   },
   {
    "duration": 5,
    "start_time": "2022-06-22T14:12:41.356Z"
   },
   {
    "duration": 8,
    "start_time": "2022-06-22T14:12:41.362Z"
   },
   {
    "duration": 9,
    "start_time": "2022-06-22T14:12:41.371Z"
   },
   {
    "duration": 8,
    "start_time": "2022-06-22T14:12:41.381Z"
   },
   {
    "duration": 6,
    "start_time": "2022-06-22T14:12:41.391Z"
   },
   {
    "duration": 6,
    "start_time": "2022-06-22T14:12:41.398Z"
   },
   {
    "duration": 3,
    "start_time": "2022-06-22T14:12:41.430Z"
   },
   {
    "duration": 14,
    "start_time": "2022-06-22T14:12:41.435Z"
   },
   {
    "duration": 19,
    "start_time": "2022-06-22T14:12:41.451Z"
   },
   {
    "duration": 19,
    "start_time": "2022-06-22T14:12:41.471Z"
   },
   {
    "duration": 141,
    "start_time": "2022-06-22T14:12:41.492Z"
   },
   {
    "duration": 132,
    "start_time": "2022-06-22T14:12:41.636Z"
   },
   {
    "duration": 8,
    "start_time": "2022-06-22T14:12:41.770Z"
   },
   {
    "duration": 12,
    "start_time": "2022-06-22T14:12:41.779Z"
   },
   {
    "duration": 26,
    "start_time": "2022-06-22T14:15:32.687Z"
   },
   {
    "duration": 22,
    "start_time": "2022-06-22T14:15:33.625Z"
   },
   {
    "duration": 7,
    "start_time": "2022-06-22T14:15:36.902Z"
   },
   {
    "duration": 4,
    "start_time": "2022-06-22T14:15:37.551Z"
   },
   {
    "duration": 24,
    "start_time": "2022-06-22T14:16:41.011Z"
   },
   {
    "duration": 24,
    "start_time": "2022-06-22T14:16:41.790Z"
   },
   {
    "duration": 425,
    "start_time": "2022-06-22T14:16:47.049Z"
   },
   {
    "duration": 414,
    "start_time": "2022-06-22T14:16:47.476Z"
   },
   {
    "duration": 28,
    "start_time": "2022-06-22T14:16:47.892Z"
   },
   {
    "duration": 24,
    "start_time": "2022-06-22T14:16:47.922Z"
   },
   {
    "duration": 24,
    "start_time": "2022-06-22T14:16:47.948Z"
   },
   {
    "duration": 9,
    "start_time": "2022-06-22T14:16:47.973Z"
   },
   {
    "duration": 12,
    "start_time": "2022-06-22T14:16:47.983Z"
   },
   {
    "duration": 18,
    "start_time": "2022-06-22T14:16:47.996Z"
   },
   {
    "duration": 37,
    "start_time": "2022-06-22T14:16:48.015Z"
   },
   {
    "duration": 12,
    "start_time": "2022-06-22T14:16:48.056Z"
   },
   {
    "duration": 15,
    "start_time": "2022-06-22T14:16:48.069Z"
   },
   {
    "duration": 695,
    "start_time": "2022-06-22T14:16:48.085Z"
   },
   {
    "duration": 197,
    "start_time": "2022-06-22T14:16:48.782Z"
   },
   {
    "duration": 10,
    "start_time": "2022-06-22T14:16:48.981Z"
   },
   {
    "duration": 15,
    "start_time": "2022-06-22T14:16:48.993Z"
   },
   {
    "duration": 23,
    "start_time": "2022-06-22T14:16:49.010Z"
   },
   {
    "duration": 15,
    "start_time": "2022-06-22T14:16:49.035Z"
   },
   {
    "duration": 18,
    "start_time": "2022-06-22T14:16:49.051Z"
   },
   {
    "duration": 8,
    "start_time": "2022-06-22T14:16:49.070Z"
   },
   {
    "duration": 10,
    "start_time": "2022-06-22T14:16:49.079Z"
   },
   {
    "duration": 80,
    "start_time": "2022-06-22T14:16:49.091Z"
   },
   {
    "duration": 43,
    "start_time": "2022-06-22T14:16:49.173Z"
   },
   {
    "duration": 36,
    "start_time": "2022-06-22T14:16:49.218Z"
   },
   {
    "duration": 33,
    "start_time": "2022-06-22T14:16:49.256Z"
   },
   {
    "duration": 7,
    "start_time": "2022-06-22T14:16:49.291Z"
   },
   {
    "duration": 47,
    "start_time": "2022-06-22T14:16:49.300Z"
   },
   {
    "duration": 156,
    "start_time": "2022-06-22T14:16:49.349Z"
   },
   {
    "duration": 3,
    "start_time": "2022-06-22T14:16:49.509Z"
   },
   {
    "duration": 15,
    "start_time": "2022-06-22T14:16:49.514Z"
   },
   {
    "duration": 747,
    "start_time": "2022-06-22T14:16:49.531Z"
   },
   {
    "duration": 74,
    "start_time": "2022-06-22T14:16:50.279Z"
   },
   {
    "duration": 16,
    "start_time": "2022-06-22T14:16:50.355Z"
   },
   {
    "duration": 12,
    "start_time": "2022-06-22T14:16:50.372Z"
   },
   {
    "duration": 15,
    "start_time": "2022-06-22T14:16:50.389Z"
   },
   {
    "duration": 53,
    "start_time": "2022-06-22T14:16:50.406Z"
   },
   {
    "duration": 25,
    "start_time": "2022-06-22T14:16:50.461Z"
   },
   {
    "duration": 16,
    "start_time": "2022-06-22T14:16:50.487Z"
   },
   {
    "duration": 56,
    "start_time": "2022-06-22T14:16:50.505Z"
   },
   {
    "duration": 23,
    "start_time": "2022-06-22T14:16:50.562Z"
   },
   {
    "duration": 6,
    "start_time": "2022-06-22T14:16:50.587Z"
   },
   {
    "duration": 7,
    "start_time": "2022-06-22T14:16:50.595Z"
   },
   {
    "duration": 37,
    "start_time": "2022-06-22T14:16:50.603Z"
   },
   {
    "duration": 15,
    "start_time": "2022-06-22T14:16:50.643Z"
   },
   {
    "duration": 93,
    "start_time": "2022-06-22T14:16:50.660Z"
   },
   {
    "duration": 28,
    "start_time": "2022-06-22T14:16:50.756Z"
   },
   {
    "duration": 6,
    "start_time": "2022-06-22T14:16:50.786Z"
   },
   {
    "duration": 6,
    "start_time": "2022-06-22T14:16:50.794Z"
   },
   {
    "duration": 36,
    "start_time": "2022-06-22T14:16:50.802Z"
   },
   {
    "duration": 14,
    "start_time": "2022-06-22T14:16:50.841Z"
   },
   {
    "duration": 61,
    "start_time": "2022-06-22T14:16:50.857Z"
   },
   {
    "duration": 23,
    "start_time": "2022-06-22T14:16:50.919Z"
   },
   {
    "duration": 12,
    "start_time": "2022-06-22T14:16:50.943Z"
   },
   {
    "duration": 398,
    "start_time": "2022-06-22T14:16:50.957Z"
   },
   {
    "duration": 164,
    "start_time": "2022-06-22T14:16:51.357Z"
   },
   {
    "duration": 157,
    "start_time": "2022-06-22T14:16:51.523Z"
   },
   {
    "duration": 13,
    "start_time": "2022-06-22T14:16:51.682Z"
   },
   {
    "duration": 62,
    "start_time": "2022-06-22T14:16:51.697Z"
   },
   {
    "duration": 18,
    "start_time": "2022-06-22T14:16:51.761Z"
   },
   {
    "duration": 7,
    "start_time": "2022-06-22T14:16:51.781Z"
   },
   {
    "duration": 260,
    "start_time": "2022-06-22T14:16:51.789Z"
   },
   {
    "duration": 146,
    "start_time": "2022-06-22T14:16:52.050Z"
   },
   {
    "duration": 224,
    "start_time": "2022-06-22T14:16:52.198Z"
   },
   {
    "duration": 17,
    "start_time": "2022-06-22T14:16:52.424Z"
   },
   {
    "duration": 36,
    "start_time": "2022-06-22T14:16:52.443Z"
   },
   {
    "duration": 40,
    "start_time": "2022-06-22T14:16:52.480Z"
   },
   {
    "duration": 23,
    "start_time": "2022-06-22T14:16:52.529Z"
   },
   {
    "duration": 7,
    "start_time": "2022-06-22T14:16:52.553Z"
   },
   {
    "duration": 211,
    "start_time": "2022-06-22T14:16:52.561Z"
   },
   {
    "duration": 154,
    "start_time": "2022-06-22T14:16:52.775Z"
   },
   {
    "duration": 151,
    "start_time": "2022-06-22T14:16:52.931Z"
   },
   {
    "duration": 12,
    "start_time": "2022-06-22T14:16:53.083Z"
   },
   {
    "duration": 33,
    "start_time": "2022-06-22T14:16:53.096Z"
   },
   {
    "duration": 30,
    "start_time": "2022-06-22T14:16:53.131Z"
   },
   {
    "duration": 76,
    "start_time": "2022-06-22T14:16:53.163Z"
   },
   {
    "duration": 27,
    "start_time": "2022-06-22T14:16:53.241Z"
   },
   {
    "duration": 7,
    "start_time": "2022-06-22T14:16:53.269Z"
   },
   {
    "duration": 180,
    "start_time": "2022-06-22T14:16:53.277Z"
   },
   {
    "duration": 156,
    "start_time": "2022-06-22T14:16:53.459Z"
   },
   {
    "duration": 147,
    "start_time": "2022-06-22T14:16:53.617Z"
   },
   {
    "duration": 12,
    "start_time": "2022-06-22T14:16:53.766Z"
   },
   {
    "duration": 10,
    "start_time": "2022-06-22T14:16:53.780Z"
   },
   {
    "duration": 2,
    "start_time": "2022-06-22T14:16:53.795Z"
   },
   {
    "duration": 36,
    "start_time": "2022-06-22T14:16:53.799Z"
   },
   {
    "duration": 15,
    "start_time": "2022-06-22T14:16:53.837Z"
   },
   {
    "duration": 7,
    "start_time": "2022-06-22T14:16:53.854Z"
   },
   {
    "duration": 9,
    "start_time": "2022-06-22T14:16:53.862Z"
   },
   {
    "duration": 495,
    "start_time": "2022-06-22T14:16:53.872Z"
   },
   {
    "duration": 3,
    "start_time": "2022-06-22T14:16:54.368Z"
   },
   {
    "duration": 9,
    "start_time": "2022-06-22T14:16:54.373Z"
   },
   {
    "duration": 17,
    "start_time": "2022-06-22T14:16:54.384Z"
   },
   {
    "duration": 6,
    "start_time": "2022-06-22T14:16:54.403Z"
   },
   {
    "duration": 6,
    "start_time": "2022-06-22T14:16:54.412Z"
   },
   {
    "duration": 10,
    "start_time": "2022-06-22T14:16:54.419Z"
   },
   {
    "duration": 7,
    "start_time": "2022-06-22T14:16:54.430Z"
   },
   {
    "duration": 7,
    "start_time": "2022-06-22T14:16:54.439Z"
   },
   {
    "duration": 8,
    "start_time": "2022-06-22T14:16:54.447Z"
   },
   {
    "duration": 7,
    "start_time": "2022-06-22T14:16:54.457Z"
   },
   {
    "duration": 8,
    "start_time": "2022-06-22T14:16:54.465Z"
   },
   {
    "duration": 16,
    "start_time": "2022-06-22T14:16:54.474Z"
   },
   {
    "duration": 43,
    "start_time": "2022-06-22T14:16:54.492Z"
   },
   {
    "duration": 24,
    "start_time": "2022-06-22T14:16:54.537Z"
   },
   {
    "duration": 166,
    "start_time": "2022-06-22T14:16:54.563Z"
   },
   {
    "duration": 119,
    "start_time": "2022-06-22T14:16:54.730Z"
   },
   {
    "duration": 9,
    "start_time": "2022-06-22T14:16:54.851Z"
   },
   {
    "duration": 14,
    "start_time": "2022-06-22T14:16:54.862Z"
   },
   {
    "duration": 25,
    "start_time": "2022-06-22T14:19:57.299Z"
   },
   {
    "duration": 25,
    "start_time": "2022-06-22T14:19:58.066Z"
   },
   {
    "duration": 481,
    "start_time": "2022-06-22T14:20:08.202Z"
   },
   {
    "duration": 394,
    "start_time": "2022-06-22T14:20:08.685Z"
   },
   {
    "duration": 24,
    "start_time": "2022-06-22T14:20:09.080Z"
   },
   {
    "duration": 18,
    "start_time": "2022-06-22T14:20:09.106Z"
   },
   {
    "duration": 18,
    "start_time": "2022-06-22T14:20:09.126Z"
   },
   {
    "duration": 10,
    "start_time": "2022-06-22T14:20:09.146Z"
   },
   {
    "duration": 18,
    "start_time": "2022-06-22T14:20:09.158Z"
   },
   {
    "duration": 25,
    "start_time": "2022-06-22T14:20:09.179Z"
   },
   {
    "duration": 33,
    "start_time": "2022-06-22T14:20:09.206Z"
   },
   {
    "duration": 20,
    "start_time": "2022-06-22T14:20:09.243Z"
   },
   {
    "duration": 27,
    "start_time": "2022-06-22T14:20:09.265Z"
   },
   {
    "duration": 856,
    "start_time": "2022-06-22T14:20:09.295Z"
   },
   {
    "duration": 190,
    "start_time": "2022-06-22T14:20:10.152Z"
   },
   {
    "duration": 11,
    "start_time": "2022-06-22T14:20:10.343Z"
   },
   {
    "duration": 16,
    "start_time": "2022-06-22T14:20:10.356Z"
   },
   {
    "duration": 9,
    "start_time": "2022-06-22T14:20:10.374Z"
   },
   {
    "duration": 12,
    "start_time": "2022-06-22T14:20:10.384Z"
   },
   {
    "duration": 42,
    "start_time": "2022-06-22T14:20:10.398Z"
   },
   {
    "duration": 13,
    "start_time": "2022-06-22T14:20:10.442Z"
   },
   {
    "duration": 12,
    "start_time": "2022-06-22T14:20:10.456Z"
   },
   {
    "duration": 74,
    "start_time": "2022-06-22T14:20:10.470Z"
   },
   {
    "duration": 42,
    "start_time": "2022-06-22T14:20:10.546Z"
   },
   {
    "duration": 23,
    "start_time": "2022-06-22T14:20:10.590Z"
   },
   {
    "duration": 42,
    "start_time": "2022-06-22T14:20:10.630Z"
   },
   {
    "duration": 8,
    "start_time": "2022-06-22T14:20:10.675Z"
   },
   {
    "duration": 49,
    "start_time": "2022-06-22T14:20:10.685Z"
   },
   {
    "duration": 147,
    "start_time": "2022-06-22T14:20:10.736Z"
   },
   {
    "duration": 3,
    "start_time": "2022-06-22T14:20:10.887Z"
   },
   {
    "duration": 9,
    "start_time": "2022-06-22T14:20:10.892Z"
   },
   {
    "duration": 716,
    "start_time": "2022-06-22T14:20:10.903Z"
   },
   {
    "duration": 62,
    "start_time": "2022-06-22T14:20:11.620Z"
   },
   {
    "duration": 13,
    "start_time": "2022-06-22T14:20:11.684Z"
   },
   {
    "duration": 10,
    "start_time": "2022-06-22T14:20:11.700Z"
   },
   {
    "duration": 17,
    "start_time": "2022-06-22T14:20:11.730Z"
   },
   {
    "duration": 25,
    "start_time": "2022-06-22T14:20:11.749Z"
   },
   {
    "duration": 25,
    "start_time": "2022-06-22T14:20:11.775Z"
   },
   {
    "duration": 15,
    "start_time": "2022-06-22T14:20:11.830Z"
   },
   {
    "duration": 24,
    "start_time": "2022-06-22T14:20:11.847Z"
   },
   {
    "duration": 22,
    "start_time": "2022-06-22T14:20:11.872Z"
   },
   {
    "duration": 36,
    "start_time": "2022-06-22T14:20:11.896Z"
   },
   {
    "duration": 6,
    "start_time": "2022-06-22T14:20:11.933Z"
   },
   {
    "duration": 12,
    "start_time": "2022-06-22T14:20:11.941Z"
   },
   {
    "duration": 7,
    "start_time": "2022-06-22T14:20:11.955Z"
   },
   {
    "duration": 67,
    "start_time": "2022-06-22T14:20:11.964Z"
   },
   {
    "duration": 23,
    "start_time": "2022-06-22T14:20:12.032Z"
   },
   {
    "duration": 6,
    "start_time": "2022-06-22T14:20:12.056Z"
   },
   {
    "duration": 8,
    "start_time": "2022-06-22T14:20:12.064Z"
   },
   {
    "duration": 9,
    "start_time": "2022-06-22T14:20:12.074Z"
   },
   {
    "duration": 6,
    "start_time": "2022-06-22T14:20:12.085Z"
   },
   {
    "duration": 79,
    "start_time": "2022-06-22T14:20:12.093Z"
   },
   {
    "duration": 19,
    "start_time": "2022-06-22T14:20:12.173Z"
   },
   {
    "duration": 8,
    "start_time": "2022-06-22T14:20:12.194Z"
   },
   {
    "duration": 362,
    "start_time": "2022-06-22T14:20:12.203Z"
   },
   {
    "duration": 148,
    "start_time": "2022-06-22T14:20:12.567Z"
   },
   {
    "duration": 164,
    "start_time": "2022-06-22T14:20:12.717Z"
   },
   {
    "duration": 14,
    "start_time": "2022-06-22T14:20:12.884Z"
   },
   {
    "duration": 60,
    "start_time": "2022-06-22T14:20:12.900Z"
   },
   {
    "duration": 19,
    "start_time": "2022-06-22T14:20:12.961Z"
   },
   {
    "duration": 6,
    "start_time": "2022-06-22T14:20:12.982Z"
   },
   {
    "duration": 285,
    "start_time": "2022-06-22T14:20:12.990Z"
   },
   {
    "duration": 152,
    "start_time": "2022-06-22T14:20:13.277Z"
   },
   {
    "duration": 253,
    "start_time": "2022-06-22T14:20:13.431Z"
   },
   {
    "duration": 19,
    "start_time": "2022-06-22T14:20:13.686Z"
   },
   {
    "duration": 33,
    "start_time": "2022-06-22T14:20:13.708Z"
   },
   {
    "duration": 107,
    "start_time": "2022-06-22T14:20:13.743Z"
   },
   {
    "duration": 82,
    "start_time": "2022-06-22T14:20:13.852Z"
   },
   {
    "duration": 9,
    "start_time": "2022-06-22T14:20:13.936Z"
   },
   {
    "duration": 484,
    "start_time": "2022-06-22T14:20:13.947Z"
   },
   {
    "duration": 299,
    "start_time": "2022-06-22T14:20:14.433Z"
   },
   {
    "duration": 317,
    "start_time": "2022-06-22T14:20:14.734Z"
   },
   {
    "duration": 18,
    "start_time": "2022-06-22T14:20:15.053Z"
   },
   {
    "duration": 69,
    "start_time": "2022-06-22T14:20:15.072Z"
   },
   {
    "duration": 88,
    "start_time": "2022-06-22T14:20:15.143Z"
   },
   {
    "duration": 124,
    "start_time": "2022-06-22T14:20:15.234Z"
   },
   {
    "duration": 85,
    "start_time": "2022-06-22T14:20:15.360Z"
   },
   {
    "duration": 9,
    "start_time": "2022-06-22T14:20:15.447Z"
   },
   {
    "duration": 219,
    "start_time": "2022-06-22T14:20:15.458Z"
   },
   {
    "duration": 160,
    "start_time": "2022-06-22T14:20:15.679Z"
   },
   {
    "duration": 152,
    "start_time": "2022-06-22T14:20:15.841Z"
   },
   {
    "duration": 20,
    "start_time": "2022-06-22T14:20:15.995Z"
   },
   {
    "duration": 24,
    "start_time": "2022-06-22T14:20:16.017Z"
   },
   {
    "duration": 11,
    "start_time": "2022-06-22T14:20:16.049Z"
   },
   {
    "duration": 25,
    "start_time": "2022-06-22T14:20:16.062Z"
   },
   {
    "duration": 16,
    "start_time": "2022-06-22T14:20:16.089Z"
   },
   {
    "duration": 23,
    "start_time": "2022-06-22T14:20:16.107Z"
   },
   {
    "duration": 14,
    "start_time": "2022-06-22T14:20:16.132Z"
   },
   {
    "duration": 435,
    "start_time": "2022-06-22T14:20:16.148Z"
   },
   {
    "duration": 2,
    "start_time": "2022-06-22T14:20:16.585Z"
   },
   {
    "duration": 9,
    "start_time": "2022-06-22T14:20:16.589Z"
   },
   {
    "duration": 6,
    "start_time": "2022-06-22T14:20:16.600Z"
   },
   {
    "duration": 6,
    "start_time": "2022-06-22T14:20:16.607Z"
   },
   {
    "duration": 3,
    "start_time": "2022-06-22T14:20:16.629Z"
   },
   {
    "duration": 6,
    "start_time": "2022-06-22T14:20:16.634Z"
   },
   {
    "duration": 7,
    "start_time": "2022-06-22T14:20:16.642Z"
   },
   {
    "duration": 8,
    "start_time": "2022-06-22T14:20:16.652Z"
   },
   {
    "duration": 8,
    "start_time": "2022-06-22T14:20:16.662Z"
   },
   {
    "duration": 7,
    "start_time": "2022-06-22T14:20:16.672Z"
   },
   {
    "duration": 5,
    "start_time": "2022-06-22T14:20:16.681Z"
   },
   {
    "duration": 43,
    "start_time": "2022-06-22T14:20:16.688Z"
   },
   {
    "duration": 28,
    "start_time": "2022-06-22T14:20:16.734Z"
   },
   {
    "duration": 29,
    "start_time": "2022-06-22T14:20:16.764Z"
   },
   {
    "duration": 179,
    "start_time": "2022-06-22T14:20:16.795Z"
   },
   {
    "duration": 140,
    "start_time": "2022-06-22T14:20:16.976Z"
   },
   {
    "duration": 15,
    "start_time": "2022-06-22T14:20:17.118Z"
   },
   {
    "duration": 10,
    "start_time": "2022-06-22T14:20:17.135Z"
   },
   {
    "duration": 24,
    "start_time": "2022-06-22T14:20:46.881Z"
   },
   {
    "duration": 25,
    "start_time": "2022-06-22T14:20:47.953Z"
   },
   {
    "duration": 430,
    "start_time": "2022-06-22T14:20:53.619Z"
   },
   {
    "duration": 409,
    "start_time": "2022-06-22T14:20:54.051Z"
   },
   {
    "duration": 21,
    "start_time": "2022-06-22T14:20:54.462Z"
   },
   {
    "duration": 18,
    "start_time": "2022-06-22T14:20:54.485Z"
   },
   {
    "duration": 15,
    "start_time": "2022-06-22T14:20:54.505Z"
   },
   {
    "duration": 11,
    "start_time": "2022-06-22T14:20:54.522Z"
   },
   {
    "duration": 25,
    "start_time": "2022-06-22T14:20:54.535Z"
   },
   {
    "duration": 21,
    "start_time": "2022-06-22T14:20:54.561Z"
   },
   {
    "duration": 16,
    "start_time": "2022-06-22T14:20:54.583Z"
   },
   {
    "duration": 12,
    "start_time": "2022-06-22T14:20:54.601Z"
   },
   {
    "duration": 32,
    "start_time": "2022-06-22T14:20:54.615Z"
   },
   {
    "duration": 768,
    "start_time": "2022-06-22T14:20:54.649Z"
   },
   {
    "duration": 185,
    "start_time": "2022-06-22T14:20:55.419Z"
   },
   {
    "duration": 10,
    "start_time": "2022-06-22T14:20:55.606Z"
   },
   {
    "duration": 27,
    "start_time": "2022-06-22T14:20:55.617Z"
   },
   {
    "duration": 8,
    "start_time": "2022-06-22T14:20:55.647Z"
   },
   {
    "duration": 8,
    "start_time": "2022-06-22T14:20:55.657Z"
   },
   {
    "duration": 14,
    "start_time": "2022-06-22T14:20:55.666Z"
   },
   {
    "duration": 7,
    "start_time": "2022-06-22T14:20:55.682Z"
   },
   {
    "duration": 7,
    "start_time": "2022-06-22T14:20:55.690Z"
   },
   {
    "duration": 86,
    "start_time": "2022-06-22T14:20:55.699Z"
   },
   {
    "duration": 51,
    "start_time": "2022-06-22T14:20:55.786Z"
   },
   {
    "duration": 24,
    "start_time": "2022-06-22T14:20:55.839Z"
   },
   {
    "duration": 30,
    "start_time": "2022-06-22T14:20:55.864Z"
   },
   {
    "duration": 33,
    "start_time": "2022-06-22T14:20:55.896Z"
   },
   {
    "duration": 25,
    "start_time": "2022-06-22T14:20:55.932Z"
   },
   {
    "duration": 165,
    "start_time": "2022-06-22T14:20:55.958Z"
   },
   {
    "duration": 4,
    "start_time": "2022-06-22T14:20:56.131Z"
   },
   {
    "duration": 27,
    "start_time": "2022-06-22T14:20:56.137Z"
   },
   {
    "duration": 733,
    "start_time": "2022-06-22T14:20:56.165Z"
   },
   {
    "duration": 81,
    "start_time": "2022-06-22T14:20:56.901Z"
   },
   {
    "duration": 14,
    "start_time": "2022-06-22T14:20:56.984Z"
   },
   {
    "duration": 12,
    "start_time": "2022-06-22T14:20:56.999Z"
   },
   {
    "duration": 19,
    "start_time": "2022-06-22T14:20:57.030Z"
   },
   {
    "duration": 26,
    "start_time": "2022-06-22T14:20:57.051Z"
   },
   {
    "duration": 23,
    "start_time": "2022-06-22T14:20:57.079Z"
   },
   {
    "duration": 39,
    "start_time": "2022-06-22T14:20:57.103Z"
   },
   {
    "duration": 25,
    "start_time": "2022-06-22T14:20:57.144Z"
   },
   {
    "duration": 27,
    "start_time": "2022-06-22T14:20:57.171Z"
   },
   {
    "duration": 5,
    "start_time": "2022-06-22T14:20:57.200Z"
   },
   {
    "duration": 27,
    "start_time": "2022-06-22T14:20:57.206Z"
   },
   {
    "duration": 24,
    "start_time": "2022-06-22T14:20:57.235Z"
   },
   {
    "duration": 5,
    "start_time": "2022-06-22T14:20:57.260Z"
   },
   {
    "duration": 46,
    "start_time": "2022-06-22T14:20:57.267Z"
   },
   {
    "duration": 40,
    "start_time": "2022-06-22T14:20:57.314Z"
   },
   {
    "duration": 7,
    "start_time": "2022-06-22T14:20:57.356Z"
   },
   {
    "duration": 6,
    "start_time": "2022-06-22T14:20:57.364Z"
   },
   {
    "duration": 8,
    "start_time": "2022-06-22T14:20:57.371Z"
   },
   {
    "duration": 3,
    "start_time": "2022-06-22T14:20:57.381Z"
   },
   {
    "duration": 70,
    "start_time": "2022-06-22T14:20:57.386Z"
   },
   {
    "duration": 23,
    "start_time": "2022-06-22T14:20:57.458Z"
   },
   {
    "duration": 7,
    "start_time": "2022-06-22T14:20:57.483Z"
   },
   {
    "duration": 375,
    "start_time": "2022-06-22T14:20:57.492Z"
   },
   {
    "duration": 151,
    "start_time": "2022-06-22T14:20:57.868Z"
   },
   {
    "duration": 167,
    "start_time": "2022-06-22T14:20:58.020Z"
   },
   {
    "duration": 12,
    "start_time": "2022-06-22T14:20:58.188Z"
   },
   {
    "duration": 70,
    "start_time": "2022-06-22T14:20:58.201Z"
   },
   {
    "duration": 23,
    "start_time": "2022-06-22T14:20:58.273Z"
   },
   {
    "duration": 8,
    "start_time": "2022-06-22T14:20:58.297Z"
   },
   {
    "duration": 277,
    "start_time": "2022-06-22T14:20:58.307Z"
   },
   {
    "duration": 157,
    "start_time": "2022-06-22T14:20:58.586Z"
   },
   {
    "duration": 221,
    "start_time": "2022-06-22T14:20:58.745Z"
   },
   {
    "duration": 12,
    "start_time": "2022-06-22T14:20:58.967Z"
   },
   {
    "duration": 11,
    "start_time": "2022-06-22T14:20:58.981Z"
   },
   {
    "duration": 74,
    "start_time": "2022-06-22T14:20:58.993Z"
   },
   {
    "duration": 23,
    "start_time": "2022-06-22T14:20:59.068Z"
   },
   {
    "duration": 7,
    "start_time": "2022-06-22T14:20:59.092Z"
   },
   {
    "duration": 223,
    "start_time": "2022-06-22T14:20:59.100Z"
   },
   {
    "duration": 152,
    "start_time": "2022-06-22T14:20:59.325Z"
   },
   {
    "duration": 169,
    "start_time": "2022-06-22T14:20:59.478Z"
   },
   {
    "duration": 13,
    "start_time": "2022-06-22T14:20:59.648Z"
   },
   {
    "duration": 12,
    "start_time": "2022-06-22T14:20:59.663Z"
   },
   {
    "duration": 52,
    "start_time": "2022-06-22T14:20:59.677Z"
   },
   {
    "duration": 42,
    "start_time": "2022-06-22T14:20:59.731Z"
   },
   {
    "duration": 23,
    "start_time": "2022-06-22T14:20:59.774Z"
   },
   {
    "duration": 7,
    "start_time": "2022-06-22T14:20:59.799Z"
   },
   {
    "duration": 151,
    "start_time": "2022-06-22T14:20:59.829Z"
   },
   {
    "duration": 170,
    "start_time": "2022-06-22T14:20:59.982Z"
   },
   {
    "duration": 154,
    "start_time": "2022-06-22T14:21:00.153Z"
   },
   {
    "duration": 26,
    "start_time": "2022-06-22T14:21:00.309Z"
   },
   {
    "duration": 19,
    "start_time": "2022-06-22T14:21:00.337Z"
   },
   {
    "duration": 15,
    "start_time": "2022-06-22T14:21:00.362Z"
   },
   {
    "duration": 18,
    "start_time": "2022-06-22T14:21:00.379Z"
   },
   {
    "duration": 18,
    "start_time": "2022-06-22T14:21:00.398Z"
   },
   {
    "duration": 15,
    "start_time": "2022-06-22T14:21:00.417Z"
   },
   {
    "duration": 37,
    "start_time": "2022-06-22T14:21:00.434Z"
   },
   {
    "duration": 513,
    "start_time": "2022-06-22T14:21:00.472Z"
   },
   {
    "duration": 2,
    "start_time": "2022-06-22T14:21:00.987Z"
   },
   {
    "duration": 38,
    "start_time": "2022-06-22T14:21:00.991Z"
   },
   {
    "duration": 39,
    "start_time": "2022-06-22T14:21:01.030Z"
   },
   {
    "duration": 29,
    "start_time": "2022-06-22T14:21:01.070Z"
   },
   {
    "duration": 40,
    "start_time": "2022-06-22T14:21:01.101Z"
   },
   {
    "duration": 22,
    "start_time": "2022-06-22T14:21:01.143Z"
   },
   {
    "duration": 20,
    "start_time": "2022-06-22T14:21:01.167Z"
   },
   {
    "duration": 23,
    "start_time": "2022-06-22T14:21:01.189Z"
   },
   {
    "duration": 37,
    "start_time": "2022-06-22T14:21:01.214Z"
   },
   {
    "duration": 20,
    "start_time": "2022-06-22T14:21:01.252Z"
   },
   {
    "duration": 16,
    "start_time": "2022-06-22T14:21:01.274Z"
   },
   {
    "duration": 63,
    "start_time": "2022-06-22T14:21:01.292Z"
   },
   {
    "duration": 72,
    "start_time": "2022-06-22T14:21:01.357Z"
   },
   {
    "duration": 27,
    "start_time": "2022-06-22T14:21:01.432Z"
   },
   {
    "duration": 409,
    "start_time": "2022-06-22T14:21:01.461Z"
   },
   {
    "duration": 370,
    "start_time": "2022-06-22T14:21:01.872Z"
   },
   {
    "duration": 9,
    "start_time": "2022-06-22T14:21:02.246Z"
   },
   {
    "duration": 12,
    "start_time": "2022-06-22T14:21:02.257Z"
   },
   {
    "duration": 22,
    "start_time": "2022-06-22T14:21:43.546Z"
   },
   {
    "duration": 25,
    "start_time": "2022-06-22T14:21:44.348Z"
   },
   {
    "duration": 39,
    "start_time": "2022-06-22T14:22:27.146Z"
   },
   {
    "duration": 33,
    "start_time": "2022-06-22T14:22:27.809Z"
   },
   {
    "duration": 27,
    "start_time": "2022-06-22T14:23:21.836Z"
   },
   {
    "duration": 22,
    "start_time": "2022-06-22T14:23:22.563Z"
   },
   {
    "duration": 35,
    "start_time": "2022-06-22T14:23:49.874Z"
   },
   {
    "duration": 27,
    "start_time": "2022-06-22T14:23:50.673Z"
   },
   {
    "duration": 7,
    "start_time": "2022-06-22T14:23:58.921Z"
   },
   {
    "duration": 5,
    "start_time": "2022-06-22T14:23:59.571Z"
   },
   {
    "duration": 13,
    "start_time": "2022-06-22T14:25:46.582Z"
   },
   {
    "duration": 4,
    "start_time": "2022-06-22T14:26:12.186Z"
   },
   {
    "duration": 31,
    "start_time": "2022-06-22T14:27:49.833Z"
   },
   {
    "duration": 22,
    "start_time": "2022-06-22T14:27:50.382Z"
   },
   {
    "duration": 32,
    "start_time": "2022-06-22T14:28:20.754Z"
   },
   {
    "duration": 25,
    "start_time": "2022-06-22T14:28:22.260Z"
   },
   {
    "duration": 3,
    "start_time": "2022-06-22T14:30:34.634Z"
   },
   {
    "duration": 113,
    "start_time": "2022-06-22T14:30:34.908Z"
   },
   {
    "duration": 24,
    "start_time": "2022-06-22T14:30:36.545Z"
   },
   {
    "duration": 8,
    "start_time": "2022-06-22T14:30:40.060Z"
   },
   {
    "duration": 6,
    "start_time": "2022-06-22T14:30:41.542Z"
   },
   {
    "duration": 9,
    "start_time": "2022-06-22T14:30:46.132Z"
   },
   {
    "duration": 3,
    "start_time": "2022-06-22T14:30:48.826Z"
   },
   {
    "duration": 47,
    "start_time": "2022-06-22T14:30:50.042Z"
   },
   {
    "duration": 23,
    "start_time": "2022-06-22T14:30:50.404Z"
   },
   {
    "duration": 14,
    "start_time": "2022-06-22T14:30:51.931Z"
   },
   {
    "duration": 365,
    "start_time": "2022-06-22T14:30:52.589Z"
   },
   {
    "duration": 148,
    "start_time": "2022-06-22T14:30:53.123Z"
   },
   {
    "duration": 456,
    "start_time": "2022-06-22T14:33:40.686Z"
   },
   {
    "duration": 401,
    "start_time": "2022-06-22T14:33:41.143Z"
   },
   {
    "duration": 23,
    "start_time": "2022-06-22T14:33:41.546Z"
   },
   {
    "duration": 19,
    "start_time": "2022-06-22T14:33:41.571Z"
   },
   {
    "duration": 17,
    "start_time": "2022-06-22T14:33:41.592Z"
   },
   {
    "duration": 28,
    "start_time": "2022-06-22T14:33:41.611Z"
   },
   {
    "duration": 11,
    "start_time": "2022-06-22T14:33:41.641Z"
   },
   {
    "duration": 29,
    "start_time": "2022-06-22T14:33:41.654Z"
   },
   {
    "duration": 18,
    "start_time": "2022-06-22T14:33:41.684Z"
   },
   {
    "duration": 18,
    "start_time": "2022-06-22T14:33:41.731Z"
   },
   {
    "duration": 18,
    "start_time": "2022-06-22T14:33:41.750Z"
   },
   {
    "duration": 776,
    "start_time": "2022-06-22T14:33:41.770Z"
   },
   {
    "duration": 175,
    "start_time": "2022-06-22T14:33:42.548Z"
   },
   {
    "duration": 12,
    "start_time": "2022-06-22T14:33:42.729Z"
   },
   {
    "duration": 25,
    "start_time": "2022-06-22T14:33:42.743Z"
   },
   {
    "duration": 11,
    "start_time": "2022-06-22T14:33:42.770Z"
   },
   {
    "duration": 7,
    "start_time": "2022-06-22T14:33:42.782Z"
   },
   {
    "duration": 46,
    "start_time": "2022-06-22T14:33:42.791Z"
   },
   {
    "duration": 8,
    "start_time": "2022-06-22T14:33:42.839Z"
   },
   {
    "duration": 7,
    "start_time": "2022-06-22T14:33:42.849Z"
   },
   {
    "duration": 79,
    "start_time": "2022-06-22T14:33:42.858Z"
   },
   {
    "duration": 53,
    "start_time": "2022-06-22T14:33:42.939Z"
   },
   {
    "duration": 46,
    "start_time": "2022-06-22T14:33:42.994Z"
   },
   {
    "duration": 39,
    "start_time": "2022-06-22T14:33:43.042Z"
   },
   {
    "duration": 6,
    "start_time": "2022-06-22T14:33:43.083Z"
   },
   {
    "duration": 46,
    "start_time": "2022-06-22T14:33:43.092Z"
   },
   {
    "duration": 159,
    "start_time": "2022-06-22T14:33:43.140Z"
   },
   {
    "duration": 3,
    "start_time": "2022-06-22T14:33:43.305Z"
   },
   {
    "duration": 22,
    "start_time": "2022-06-22T14:33:43.310Z"
   },
   {
    "duration": 1013,
    "start_time": "2022-06-22T14:33:43.334Z"
   },
   {
    "duration": 89,
    "start_time": "2022-06-22T14:33:44.349Z"
   },
   {
    "duration": 16,
    "start_time": "2022-06-22T14:33:44.439Z"
   },
   {
    "duration": 14,
    "start_time": "2022-06-22T14:33:44.457Z"
   },
   {
    "duration": 21,
    "start_time": "2022-06-22T14:33:44.473Z"
   },
   {
    "duration": 54,
    "start_time": "2022-06-22T14:33:44.496Z"
   },
   {
    "duration": 39,
    "start_time": "2022-06-22T14:33:44.551Z"
   },
   {
    "duration": 15,
    "start_time": "2022-06-22T14:33:44.592Z"
   },
   {
    "duration": 50,
    "start_time": "2022-06-22T14:33:44.630Z"
   },
   {
    "duration": 49,
    "start_time": "2022-06-22T14:33:44.682Z"
   },
   {
    "duration": 7,
    "start_time": "2022-06-22T14:33:44.734Z"
   },
   {
    "duration": 8,
    "start_time": "2022-06-22T14:33:44.744Z"
   },
   {
    "duration": 8,
    "start_time": "2022-06-22T14:33:44.754Z"
   },
   {
    "duration": 6,
    "start_time": "2022-06-22T14:33:44.764Z"
   },
   {
    "duration": 138,
    "start_time": "2022-06-22T14:33:44.772Z"
   },
   {
    "duration": 31,
    "start_time": "2022-06-22T14:33:44.912Z"
   },
   {
    "duration": 8,
    "start_time": "2022-06-22T14:33:44.946Z"
   },
   {
    "duration": 10,
    "start_time": "2022-06-22T14:33:44.956Z"
   },
   {
    "duration": 9,
    "start_time": "2022-06-22T14:33:44.968Z"
   },
   {
    "duration": 5,
    "start_time": "2022-06-22T14:33:44.980Z"
   },
   {
    "duration": 90,
    "start_time": "2022-06-22T14:33:44.987Z"
   },
   {
    "duration": 29,
    "start_time": "2022-06-22T14:33:45.078Z"
   },
   {
    "duration": 28,
    "start_time": "2022-06-22T14:33:45.109Z"
   },
   {
    "duration": 368,
    "start_time": "2022-06-22T14:33:45.139Z"
   },
   {
    "duration": 206,
    "start_time": "2022-06-22T14:33:45.509Z"
   },
   {
    "duration": 155,
    "start_time": "2022-06-22T14:33:45.717Z"
   },
   {
    "duration": 16,
    "start_time": "2022-06-22T14:33:45.873Z"
   },
   {
    "duration": 70,
    "start_time": "2022-06-22T14:33:45.891Z"
   },
   {
    "duration": 22,
    "start_time": "2022-06-22T14:33:45.963Z"
   },
   {
    "duration": 11,
    "start_time": "2022-06-22T14:33:45.987Z"
   },
   {
    "duration": 371,
    "start_time": "2022-06-22T14:33:46.000Z"
   },
   {
    "duration": 228,
    "start_time": "2022-06-22T14:33:46.372Z"
   },
   {
    "duration": 165,
    "start_time": "2022-06-22T14:33:46.603Z"
   },
   {
    "duration": 17,
    "start_time": "2022-06-22T14:33:46.770Z"
   },
   {
    "duration": 13,
    "start_time": "2022-06-22T14:33:46.789Z"
   },
   {
    "duration": 74,
    "start_time": "2022-06-22T14:33:46.804Z"
   },
   {
    "duration": 47,
    "start_time": "2022-06-22T14:33:46.882Z"
   },
   {
    "duration": 9,
    "start_time": "2022-06-22T14:33:46.931Z"
   },
   {
    "duration": 238,
    "start_time": "2022-06-22T14:33:46.942Z"
   },
   {
    "duration": 215,
    "start_time": "2022-06-22T14:33:47.182Z"
   },
   {
    "duration": 150,
    "start_time": "2022-06-22T14:33:47.399Z"
   },
   {
    "duration": 17,
    "start_time": "2022-06-22T14:33:47.550Z"
   },
   {
    "duration": 15,
    "start_time": "2022-06-22T14:33:47.568Z"
   },
   {
    "duration": 54,
    "start_time": "2022-06-22T14:33:47.585Z"
   },
   {
    "duration": 57,
    "start_time": "2022-06-22T14:33:47.640Z"
   },
   {
    "duration": 48,
    "start_time": "2022-06-22T14:33:47.699Z"
   },
   {
    "duration": 9,
    "start_time": "2022-06-22T14:33:47.749Z"
   },
   {
    "duration": 143,
    "start_time": "2022-06-22T14:33:47.760Z"
   },
   {
    "duration": 169,
    "start_time": "2022-06-22T14:33:47.905Z"
   },
   {
    "duration": 155,
    "start_time": "2022-06-22T14:33:48.076Z"
   },
   {
    "duration": 18,
    "start_time": "2022-06-22T14:33:48.234Z"
   },
   {
    "duration": 16,
    "start_time": "2022-06-22T14:33:48.255Z"
   },
   {
    "duration": 3,
    "start_time": "2022-06-22T14:33:48.279Z"
   },
   {
    "duration": 46,
    "start_time": "2022-06-22T14:33:48.284Z"
   },
   {
    "duration": 16,
    "start_time": "2022-06-22T14:33:48.332Z"
   },
   {
    "duration": 20,
    "start_time": "2022-06-22T14:33:48.350Z"
   },
   {
    "duration": 21,
    "start_time": "2022-06-22T14:33:48.371Z"
   },
   {
    "duration": 558,
    "start_time": "2022-06-22T14:33:48.394Z"
   },
   {
    "duration": 3,
    "start_time": "2022-06-22T14:33:48.954Z"
   },
   {
    "duration": 15,
    "start_time": "2022-06-22T14:33:48.960Z"
   },
   {
    "duration": 6,
    "start_time": "2022-06-22T14:33:48.977Z"
   },
   {
    "duration": 7,
    "start_time": "2022-06-22T14:33:48.985Z"
   },
   {
    "duration": 7,
    "start_time": "2022-06-22T14:33:48.994Z"
   },
   {
    "duration": 12,
    "start_time": "2022-06-22T14:33:49.004Z"
   },
   {
    "duration": 7,
    "start_time": "2022-06-22T14:33:49.033Z"
   },
   {
    "duration": 11,
    "start_time": "2022-06-22T14:33:49.042Z"
   },
   {
    "duration": 6,
    "start_time": "2022-06-22T14:33:49.055Z"
   },
   {
    "duration": 8,
    "start_time": "2022-06-22T14:33:49.062Z"
   },
   {
    "duration": 8,
    "start_time": "2022-06-22T14:33:49.072Z"
   },
   {
    "duration": 49,
    "start_time": "2022-06-22T14:33:49.082Z"
   },
   {
    "duration": 34,
    "start_time": "2022-06-22T14:33:49.133Z"
   },
   {
    "duration": 34,
    "start_time": "2022-06-22T14:33:49.170Z"
   },
   {
    "duration": 253,
    "start_time": "2022-06-22T14:33:49.206Z"
   },
   {
    "duration": 171,
    "start_time": "2022-06-22T14:33:49.462Z"
   },
   {
    "duration": 13,
    "start_time": "2022-06-22T14:33:49.636Z"
   },
   {
    "duration": 15,
    "start_time": "2022-06-22T14:33:49.652Z"
   },
   {
    "duration": 435,
    "start_time": "2022-06-23T11:27:07.502Z"
   },
   {
    "duration": 1121,
    "start_time": "2022-06-23T11:27:07.939Z"
   },
   {
    "duration": 23,
    "start_time": "2022-06-23T11:27:09.061Z"
   },
   {
    "duration": 18,
    "start_time": "2022-06-23T11:27:09.086Z"
   },
   {
    "duration": 16,
    "start_time": "2022-06-23T11:27:09.105Z"
   },
   {
    "duration": 9,
    "start_time": "2022-06-23T11:27:09.122Z"
   },
   {
    "duration": 12,
    "start_time": "2022-06-23T11:27:09.132Z"
   },
   {
    "duration": 26,
    "start_time": "2022-06-23T11:27:09.146Z"
   },
   {
    "duration": 24,
    "start_time": "2022-06-23T11:27:09.174Z"
   },
   {
    "duration": 32,
    "start_time": "2022-06-23T11:27:09.201Z"
   },
   {
    "duration": 14,
    "start_time": "2022-06-23T11:27:09.234Z"
   },
   {
    "duration": 845,
    "start_time": "2022-06-23T11:27:09.250Z"
   },
   {
    "duration": 172,
    "start_time": "2022-06-23T11:27:10.096Z"
   },
   {
    "duration": 11,
    "start_time": "2022-06-23T11:27:10.270Z"
   },
   {
    "duration": 19,
    "start_time": "2022-06-23T11:27:10.282Z"
   },
   {
    "duration": 7,
    "start_time": "2022-06-23T11:27:10.303Z"
   },
   {
    "duration": 22,
    "start_time": "2022-06-23T11:27:10.312Z"
   },
   {
    "duration": 16,
    "start_time": "2022-06-23T11:27:10.336Z"
   },
   {
    "duration": 6,
    "start_time": "2022-06-23T11:27:10.354Z"
   },
   {
    "duration": 5,
    "start_time": "2022-06-23T11:27:10.362Z"
   },
   {
    "duration": 132,
    "start_time": "2022-06-23T11:27:10.369Z"
   },
   {
    "duration": 41,
    "start_time": "2022-06-23T11:27:10.503Z"
   },
   {
    "duration": 21,
    "start_time": "2022-06-23T11:27:10.545Z"
   },
   {
    "duration": 31,
    "start_time": "2022-06-23T11:27:10.567Z"
   },
   {
    "duration": 5,
    "start_time": "2022-06-23T11:27:10.599Z"
   },
   {
    "duration": 39,
    "start_time": "2022-06-23T11:27:10.605Z"
   },
   {
    "duration": 86,
    "start_time": "2022-06-23T11:27:10.645Z"
   },
   {
    "duration": 3,
    "start_time": "2022-06-23T11:27:10.735Z"
   },
   {
    "duration": 9,
    "start_time": "2022-06-23T11:27:10.739Z"
   },
   {
    "duration": 740,
    "start_time": "2022-06-23T11:27:10.750Z"
   },
   {
    "duration": 71,
    "start_time": "2022-06-23T11:27:11.492Z"
   },
   {
    "duration": 13,
    "start_time": "2022-06-23T11:27:11.565Z"
   },
   {
    "duration": 11,
    "start_time": "2022-06-23T11:27:11.580Z"
   },
   {
    "duration": 38,
    "start_time": "2022-06-23T11:27:11.592Z"
   },
   {
    "duration": 23,
    "start_time": "2022-06-23T11:27:11.632Z"
   },
   {
    "duration": 27,
    "start_time": "2022-06-23T11:27:11.656Z"
   },
   {
    "duration": 14,
    "start_time": "2022-06-23T11:27:11.684Z"
   },
   {
    "duration": 53,
    "start_time": "2022-06-23T11:27:11.699Z"
   },
   {
    "duration": 25,
    "start_time": "2022-06-23T11:27:11.753Z"
   },
   {
    "duration": 5,
    "start_time": "2022-06-23T11:27:11.779Z"
   },
   {
    "duration": 14,
    "start_time": "2022-06-23T11:27:11.785Z"
   },
   {
    "duration": 16,
    "start_time": "2022-06-23T11:27:11.801Z"
   },
   {
    "duration": 12,
    "start_time": "2022-06-23T11:27:11.818Z"
   },
   {
    "duration": 139,
    "start_time": "2022-06-23T11:27:11.831Z"
   },
   {
    "duration": 22,
    "start_time": "2022-06-23T11:27:11.972Z"
   },
   {
    "duration": 6,
    "start_time": "2022-06-23T11:27:11.995Z"
   },
   {
    "duration": 7,
    "start_time": "2022-06-23T11:27:12.002Z"
   },
   {
    "duration": 23,
    "start_time": "2022-06-23T11:27:12.010Z"
   },
   {
    "duration": 4,
    "start_time": "2022-06-23T11:27:12.035Z"
   },
   {
    "duration": 42,
    "start_time": "2022-06-23T11:27:12.041Z"
   },
   {
    "duration": 19,
    "start_time": "2022-06-23T11:27:12.085Z"
   },
   {
    "duration": 25,
    "start_time": "2022-06-23T11:27:12.105Z"
   },
   {
    "duration": 329,
    "start_time": "2022-06-23T11:27:12.131Z"
   },
   {
    "duration": 128,
    "start_time": "2022-06-23T11:27:12.461Z"
   },
   {
    "duration": 140,
    "start_time": "2022-06-23T11:27:12.591Z"
   },
   {
    "duration": 11,
    "start_time": "2022-06-23T11:27:12.733Z"
   },
   {
    "duration": 53,
    "start_time": "2022-06-23T11:27:12.745Z"
   },
   {
    "duration": 29,
    "start_time": "2022-06-23T11:27:12.800Z"
   },
   {
    "duration": 6,
    "start_time": "2022-06-23T11:27:12.831Z"
   },
   {
    "duration": 301,
    "start_time": "2022-06-23T11:27:12.839Z"
   },
   {
    "duration": 150,
    "start_time": "2022-06-23T11:27:13.141Z"
   },
   {
    "duration": 155,
    "start_time": "2022-06-23T11:27:13.293Z"
   },
   {
    "duration": 11,
    "start_time": "2022-06-23T11:27:13.450Z"
   },
   {
    "duration": 14,
    "start_time": "2022-06-23T11:27:13.462Z"
   },
   {
    "duration": 57,
    "start_time": "2022-06-23T11:27:13.477Z"
   },
   {
    "duration": 20,
    "start_time": "2022-06-23T11:27:13.536Z"
   },
   {
    "duration": 7,
    "start_time": "2022-06-23T11:27:13.558Z"
   },
   {
    "duration": 211,
    "start_time": "2022-06-23T11:27:13.566Z"
   },
   {
    "duration": 150,
    "start_time": "2022-06-23T11:27:13.779Z"
   },
   {
    "duration": 142,
    "start_time": "2022-06-23T11:27:13.931Z"
   },
   {
    "duration": 11,
    "start_time": "2022-06-23T11:27:14.075Z"
   },
   {
    "duration": 13,
    "start_time": "2022-06-23T11:27:14.087Z"
   },
   {
    "duration": 45,
    "start_time": "2022-06-23T11:27:14.101Z"
   },
   {
    "duration": 56,
    "start_time": "2022-06-23T11:27:14.148Z"
   },
   {
    "duration": 21,
    "start_time": "2022-06-23T11:27:14.205Z"
   },
   {
    "duration": 11,
    "start_time": "2022-06-23T11:27:14.228Z"
   },
   {
    "duration": 137,
    "start_time": "2022-06-23T11:27:14.240Z"
   },
   {
    "duration": 138,
    "start_time": "2022-06-23T11:27:14.378Z"
   },
   {
    "duration": 146,
    "start_time": "2022-06-23T11:27:14.518Z"
   },
   {
    "duration": 11,
    "start_time": "2022-06-23T11:27:14.666Z"
   },
   {
    "duration": 19,
    "start_time": "2022-06-23T11:27:14.678Z"
   },
   {
    "duration": 9,
    "start_time": "2022-06-23T11:27:14.702Z"
   },
   {
    "duration": 17,
    "start_time": "2022-06-23T11:27:14.713Z"
   },
   {
    "duration": 9,
    "start_time": "2022-06-23T11:27:14.732Z"
   },
   {
    "duration": 17,
    "start_time": "2022-06-23T11:27:14.743Z"
   },
   {
    "duration": 11,
    "start_time": "2022-06-23T11:27:14.761Z"
   },
   {
    "duration": 505,
    "start_time": "2022-06-23T11:27:14.773Z"
   },
   {
    "duration": 2,
    "start_time": "2022-06-23T11:27:15.280Z"
   },
   {
    "duration": 24,
    "start_time": "2022-06-23T11:27:15.284Z"
   },
   {
    "duration": 18,
    "start_time": "2022-06-23T11:27:15.310Z"
   },
   {
    "duration": 8,
    "start_time": "2022-06-23T11:27:15.330Z"
   },
   {
    "duration": 20,
    "start_time": "2022-06-23T11:27:15.339Z"
   },
   {
    "duration": 16,
    "start_time": "2022-06-23T11:27:15.361Z"
   },
   {
    "duration": 17,
    "start_time": "2022-06-23T11:27:15.379Z"
   },
   {
    "duration": 13,
    "start_time": "2022-06-23T11:27:15.398Z"
   },
   {
    "duration": 8,
    "start_time": "2022-06-23T11:27:15.413Z"
   },
   {
    "duration": 23,
    "start_time": "2022-06-23T11:27:15.422Z"
   },
   {
    "duration": 13,
    "start_time": "2022-06-23T11:27:15.447Z"
   },
   {
    "duration": 42,
    "start_time": "2022-06-23T11:27:15.461Z"
   },
   {
    "duration": 29,
    "start_time": "2022-06-23T11:27:15.505Z"
   },
   {
    "duration": 17,
    "start_time": "2022-06-23T11:27:15.536Z"
   },
   {
    "duration": 146,
    "start_time": "2022-06-23T11:27:15.555Z"
   },
   {
    "duration": 137,
    "start_time": "2022-06-23T11:27:15.703Z"
   },
   {
    "duration": 10,
    "start_time": "2022-06-23T11:27:15.842Z"
   },
   {
    "duration": 8,
    "start_time": "2022-06-23T11:27:15.854Z"
   },
   {
    "duration": 10,
    "start_time": "2022-06-23T11:53:09.662Z"
   },
   {
    "duration": 100,
    "start_time": "2022-06-23T11:56:35.034Z"
   },
   {
    "duration": 29,
    "start_time": "2022-06-23T11:56:55.191Z"
   },
   {
    "duration": 238,
    "start_time": "2022-06-23T11:57:14.247Z"
   }
  ],
  "kernelspec": {
   "display_name": "Python 3 (ipykernel)",
   "language": "python",
   "name": "python3"
  },
  "language_info": {
   "codemirror_mode": {
    "name": "ipython",
    "version": 3
   },
   "file_extension": ".py",
   "mimetype": "text/x-python",
   "name": "python",
   "nbconvert_exporter": "python",
   "pygments_lexer": "ipython3",
   "version": "3.9.12"
  },
  "toc": {
   "base_numbering": 1,
   "nav_menu": {},
   "number_sections": true,
   "sideBar": true,
   "skip_h1_title": true,
   "title_cell": "Table of Contents",
   "title_sidebar": "Contents",
   "toc_cell": false,
   "toc_position": {
    "height": "calc(100% - 180px)",
    "left": "10px",
    "top": "150px",
    "width": "165px"
   },
   "toc_section_display": true,
   "toc_window_display": true
  }
 },
 "nbformat": 4,
 "nbformat_minor": 2
}
