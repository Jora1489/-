{
 "cells": [
  {
   "cell_type": "markdown",
   "metadata": {},
   "source": [
    "## Название проекта - Принятие решений в бизнесе\n"
   ]
  },
  {
   "cell_type": "markdown",
   "metadata": {},
   "source": [
    "## Описание проекта - Вы — аналитик крупного интернет-магазина. Вместе с отделом маркетинга вы подготовили список гипотез для увеличения выручки.Приоритизируйте гипотезы, запустите A/B-тест и проанализируйте результаты."
   ]
  },
  {
   "cell_type": "markdown",
   "metadata": {},
   "source": [
    "### Цель проекта\n",
    "- Выставить приоритет в имеющихся гипотезах,\n",
    "- Проанализируйте A/B-тест, построить все необходимые графики для необходимого анализа\n"
   ]
  },
  {
   "cell_type": "markdown",
   "metadata": {},
   "source": [
    "## Часть 1 -  Общая информация"
   ]
  },
  {
   "cell_type": "markdown",
   "metadata": {},
   "source": [
    "###  Данные для первой части (Гипотезы)"
   ]
  },
  {
   "cell_type": "code",
   "execution_count": 1,
   "metadata": {},
   "outputs": [],
   "source": [
    "import pandas as pd\n",
    "import datetime as dt\n",
    "import numpy as np\n",
    "import matplotlib.pyplot as plt\n",
    "from pandas.plotting import register_matplotlib_converters\n",
    "import warnings\n",
    "# конвертеры, которые позволяют использовать типы pandas в matplotlib  \n",
    "register_matplotlib_converters()\n",
    "import scipy.stats as stats\n",
    "pd.options.display.max_colwidth = 100"
   ]
  },
  {
   "cell_type": "code",
   "execution_count": 2,
   "metadata": {},
   "outputs": [],
   "source": [
    "hypothesis = pd.read_csv('/datasets/hypothesis.csv')"
   ]
  },
  {
   "cell_type": "code",
   "execution_count": 3,
   "metadata": {
    "scrolled": true
   },
   "outputs": [
    {
     "data": {
      "text/html": [
       "<div>\n",
       "<style scoped>\n",
       "    .dataframe tbody tr th:only-of-type {\n",
       "        vertical-align: middle;\n",
       "    }\n",
       "\n",
       "    .dataframe tbody tr th {\n",
       "        vertical-align: top;\n",
       "    }\n",
       "\n",
       "    .dataframe thead th {\n",
       "        text-align: right;\n",
       "    }\n",
       "</style>\n",
       "<table border=\"1\" class=\"dataframe\">\n",
       "  <thead>\n",
       "    <tr style=\"text-align: right;\">\n",
       "      <th></th>\n",
       "      <th>Hypothesis</th>\n",
       "      <th>Reach</th>\n",
       "      <th>Impact</th>\n",
       "      <th>Confidence</th>\n",
       "      <th>Efforts</th>\n",
       "    </tr>\n",
       "  </thead>\n",
       "  <tbody>\n",
       "    <tr>\n",
       "      <th>0</th>\n",
       "      <td>Добавить два новых канала привлечения трафика, что позволит привлекать на 30% больше пользователей</td>\n",
       "      <td>3</td>\n",
       "      <td>10</td>\n",
       "      <td>8</td>\n",
       "      <td>6</td>\n",
       "    </tr>\n",
       "    <tr>\n",
       "      <th>1</th>\n",
       "      <td>Запустить собственную службу доставки, что сократит срок доставки заказов</td>\n",
       "      <td>2</td>\n",
       "      <td>5</td>\n",
       "      <td>4</td>\n",
       "      <td>10</td>\n",
       "    </tr>\n",
       "    <tr>\n",
       "      <th>2</th>\n",
       "      <td>Добавить блоки рекомендаций товаров на сайт интернет магазина, чтобы повысить конверсию и средни...</td>\n",
       "      <td>8</td>\n",
       "      <td>3</td>\n",
       "      <td>7</td>\n",
       "      <td>3</td>\n",
       "    </tr>\n",
       "    <tr>\n",
       "      <th>3</th>\n",
       "      <td>Изменить структура категорий, что увеличит конверсию, т.к. пользователи быстрее найдут нужный товар</td>\n",
       "      <td>8</td>\n",
       "      <td>3</td>\n",
       "      <td>3</td>\n",
       "      <td>8</td>\n",
       "    </tr>\n",
       "    <tr>\n",
       "      <th>4</th>\n",
       "      <td>Изменить цвет фона главной страницы, чтобы увеличить вовлеченность пользователей</td>\n",
       "      <td>3</td>\n",
       "      <td>1</td>\n",
       "      <td>1</td>\n",
       "      <td>1</td>\n",
       "    </tr>\n",
       "    <tr>\n",
       "      <th>5</th>\n",
       "      <td>Добавить страницу отзывов клиентов о магазине, что позволит увеличить количество заказов</td>\n",
       "      <td>3</td>\n",
       "      <td>2</td>\n",
       "      <td>2</td>\n",
       "      <td>3</td>\n",
       "    </tr>\n",
       "    <tr>\n",
       "      <th>6</th>\n",
       "      <td>Показать на главной странице баннеры с актуальными акциями и распродажами, чтобы увеличить конве...</td>\n",
       "      <td>5</td>\n",
       "      <td>3</td>\n",
       "      <td>8</td>\n",
       "      <td>3</td>\n",
       "    </tr>\n",
       "    <tr>\n",
       "      <th>7</th>\n",
       "      <td>Добавить форму подписки на все основные страницы, чтобы собрать базу клиентов для email-рассылок</td>\n",
       "      <td>10</td>\n",
       "      <td>7</td>\n",
       "      <td>8</td>\n",
       "      <td>5</td>\n",
       "    </tr>\n",
       "    <tr>\n",
       "      <th>8</th>\n",
       "      <td>Запустить акцию, дающую скидку на товар в день рождения</td>\n",
       "      <td>1</td>\n",
       "      <td>9</td>\n",
       "      <td>9</td>\n",
       "      <td>5</td>\n",
       "    </tr>\n",
       "  </tbody>\n",
       "</table>\n",
       "</div>"
      ],
      "text/plain": [
       "                                                                                            Hypothesis  \\\n",
       "0   Добавить два новых канала привлечения трафика, что позволит привлекать на 30% больше пользователей   \n",
       "1                            Запустить собственную службу доставки, что сократит срок доставки заказов   \n",
       "2  Добавить блоки рекомендаций товаров на сайт интернет магазина, чтобы повысить конверсию и средни...   \n",
       "3  Изменить структура категорий, что увеличит конверсию, т.к. пользователи быстрее найдут нужный товар   \n",
       "4                     Изменить цвет фона главной страницы, чтобы увеличить вовлеченность пользователей   \n",
       "5             Добавить страницу отзывов клиентов о магазине, что позволит увеличить количество заказов   \n",
       "6  Показать на главной странице баннеры с актуальными акциями и распродажами, чтобы увеличить конве...   \n",
       "7     Добавить форму подписки на все основные страницы, чтобы собрать базу клиентов для email-рассылок   \n",
       "8                                              Запустить акцию, дающую скидку на товар в день рождения   \n",
       "\n",
       "   Reach  Impact  Confidence  Efforts  \n",
       "0      3      10           8        6  \n",
       "1      2       5           4       10  \n",
       "2      8       3           7        3  \n",
       "3      8       3           3        8  \n",
       "4      3       1           1        1  \n",
       "5      3       2           2        3  \n",
       "6      5       3           8        3  \n",
       "7     10       7           8        5  \n",
       "8      1       9           9        5  "
      ]
     },
     "metadata": {},
     "output_type": "display_data"
    }
   ],
   "source": [
    "display(hypothesis)"
   ]
  },
  {
   "cell_type": "code",
   "execution_count": 4,
   "metadata": {},
   "outputs": [],
   "source": [
    "hypothesis = hypothesis.rename(\n",
    "    columns = {'Hypothesis' : 'hypothesis', 'Reach' : 'reach', 'Impact':'impact', 'Confidence' : 'confidence',\n",
    "                                  'Efforts':'efforts'})"
   ]
  },
  {
   "cell_type": "markdown",
   "metadata": {},
   "source": [
    "### Данные для второй части (orders)"
   ]
  },
  {
   "cell_type": "code",
   "execution_count": 5,
   "metadata": {},
   "outputs": [],
   "source": [
    "orders = pd.read_csv('/datasets/orders.csv')"
   ]
  },
  {
   "cell_type": "code",
   "execution_count": 6,
   "metadata": {},
   "outputs": [
    {
     "data": {
      "text/html": [
       "<div>\n",
       "<style scoped>\n",
       "    .dataframe tbody tr th:only-of-type {\n",
       "        vertical-align: middle;\n",
       "    }\n",
       "\n",
       "    .dataframe tbody tr th {\n",
       "        vertical-align: top;\n",
       "    }\n",
       "\n",
       "    .dataframe thead th {\n",
       "        text-align: right;\n",
       "    }\n",
       "</style>\n",
       "<table border=\"1\" class=\"dataframe\">\n",
       "  <thead>\n",
       "    <tr style=\"text-align: right;\">\n",
       "      <th></th>\n",
       "      <th>transactionId</th>\n",
       "      <th>visitorId</th>\n",
       "      <th>date</th>\n",
       "      <th>revenue</th>\n",
       "      <th>group</th>\n",
       "    </tr>\n",
       "  </thead>\n",
       "  <tbody>\n",
       "    <tr>\n",
       "      <th>0</th>\n",
       "      <td>3667963787</td>\n",
       "      <td>3312258926</td>\n",
       "      <td>2019-08-15</td>\n",
       "      <td>1650</td>\n",
       "      <td>B</td>\n",
       "    </tr>\n",
       "    <tr>\n",
       "      <th>1</th>\n",
       "      <td>2804400009</td>\n",
       "      <td>3642806036</td>\n",
       "      <td>2019-08-15</td>\n",
       "      <td>730</td>\n",
       "      <td>B</td>\n",
       "    </tr>\n",
       "    <tr>\n",
       "      <th>2</th>\n",
       "      <td>2961555356</td>\n",
       "      <td>4069496402</td>\n",
       "      <td>2019-08-15</td>\n",
       "      <td>400</td>\n",
       "      <td>A</td>\n",
       "    </tr>\n",
       "    <tr>\n",
       "      <th>3</th>\n",
       "      <td>3797467345</td>\n",
       "      <td>1196621759</td>\n",
       "      <td>2019-08-15</td>\n",
       "      <td>9759</td>\n",
       "      <td>B</td>\n",
       "    </tr>\n",
       "    <tr>\n",
       "      <th>4</th>\n",
       "      <td>2282983706</td>\n",
       "      <td>2322279887</td>\n",
       "      <td>2019-08-15</td>\n",
       "      <td>2308</td>\n",
       "      <td>B</td>\n",
       "    </tr>\n",
       "  </tbody>\n",
       "</table>\n",
       "</div>"
      ],
      "text/plain": [
       "   transactionId   visitorId        date  revenue group\n",
       "0     3667963787  3312258926  2019-08-15     1650     B\n",
       "1     2804400009  3642806036  2019-08-15      730     B\n",
       "2     2961555356  4069496402  2019-08-15      400     A\n",
       "3     3797467345  1196621759  2019-08-15     9759     B\n",
       "4     2282983706  2322279887  2019-08-15     2308     B"
      ]
     },
     "metadata": {},
     "output_type": "display_data"
    }
   ],
   "source": [
    "display(orders.head(5))"
   ]
  },
  {
   "cell_type": "code",
   "execution_count": 7,
   "metadata": {},
   "outputs": [
    {
     "name": "stdout",
     "output_type": "stream",
     "text": [
      "<class 'pandas.core.frame.DataFrame'>\n",
      "RangeIndex: 1197 entries, 0 to 1196\n",
      "Data columns (total 5 columns):\n",
      " #   Column         Non-Null Count  Dtype \n",
      "---  ------         --------------  ----- \n",
      " 0   transactionId  1197 non-null   int64 \n",
      " 1   visitorId      1197 non-null   int64 \n",
      " 2   date           1197 non-null   object\n",
      " 3   revenue        1197 non-null   int64 \n",
      " 4   group          1197 non-null   object\n",
      "dtypes: int64(3), object(2)\n",
      "memory usage: 46.9+ KB\n"
     ]
    }
   ],
   "source": [
    "orders.info()"
   ]
  },
  {
   "cell_type": "code",
   "execution_count": 8,
   "metadata": {},
   "outputs": [],
   "source": [
    "orders['date'] = orders['date'].map(\n",
    "    lambda x: dt.datetime.strptime(x, '%Y-%m-%d')\n",
    ")"
   ]
  },
  {
   "cell_type": "code",
   "execution_count": 9,
   "metadata": {},
   "outputs": [
    {
     "name": "stdout",
     "output_type": "stream",
     "text": [
      "<class 'pandas.core.frame.DataFrame'>\n",
      "RangeIndex: 1197 entries, 0 to 1196\n",
      "Data columns (total 5 columns):\n",
      " #   Column         Non-Null Count  Dtype         \n",
      "---  ------         --------------  -----         \n",
      " 0   transactionId  1197 non-null   int64         \n",
      " 1   visitorId      1197 non-null   int64         \n",
      " 2   date           1197 non-null   datetime64[ns]\n",
      " 3   revenue        1197 non-null   int64         \n",
      " 4   group          1197 non-null   object        \n",
      "dtypes: datetime64[ns](1), int64(3), object(1)\n",
      "memory usage: 46.9+ KB\n"
     ]
    }
   ],
   "source": [
    "orders.info()"
   ]
  },
  {
   "cell_type": "markdown",
   "metadata": {},
   "source": [
    "Поиск проспусков"
   ]
  },
  {
   "cell_type": "code",
   "execution_count": 10,
   "metadata": {},
   "outputs": [
    {
     "data": {
      "text/plain": [
       "transactionId    0\n",
       "visitorId        0\n",
       "date             0\n",
       "revenue          0\n",
       "group            0\n",
       "dtype: int64"
      ]
     },
     "metadata": {},
     "output_type": "display_data"
    }
   ],
   "source": [
    "display(orders.isna().sum())"
   ]
  },
  {
   "cell_type": "code",
   "execution_count": 11,
   "metadata": {},
   "outputs": [
    {
     "data": {
      "text/plain": [
       "array(['B', 'A'], dtype=object)"
      ]
     },
     "execution_count": 11,
     "metadata": {},
     "output_type": "execute_result"
    }
   ],
   "source": [
    "orders['group'].unique()"
   ]
  },
  {
   "cell_type": "code",
   "execution_count": 12,
   "metadata": {},
   "outputs": [
    {
     "data": {
      "text/plain": [
       "group\n",
       "A    557\n",
       "B    640\n",
       "Name: visitorId, dtype: int64"
      ]
     },
     "execution_count": 12,
     "metadata": {},
     "output_type": "execute_result"
    }
   ],
   "source": [
    "orders.groupby('group')['visitorId'].count()"
   ]
  },
  {
   "cell_type": "code",
   "execution_count": 13,
   "metadata": {},
   "outputs": [
    {
     "data": {
      "text/plain": [
       "Timestamp('2019-08-01 00:00:00')"
      ]
     },
     "execution_count": 13,
     "metadata": {},
     "output_type": "execute_result"
    }
   ],
   "source": [
    "orders['date'].min()"
   ]
  },
  {
   "cell_type": "code",
   "execution_count": 14,
   "metadata": {},
   "outputs": [
    {
     "data": {
      "text/plain": [
       "Timestamp('2019-08-31 00:00:00')"
      ]
     },
     "execution_count": 14,
     "metadata": {},
     "output_type": "execute_result"
    }
   ],
   "source": [
    "orders['date'].max()"
   ]
  },
  {
   "cell_type": "markdown",
   "metadata": {},
   "source": [
    "Дубликаты"
   ]
  },
  {
   "cell_type": "code",
   "execution_count": 15,
   "metadata": {},
   "outputs": [
    {
     "data": {
      "text/plain": [
       "0"
      ]
     },
     "metadata": {},
     "output_type": "display_data"
    }
   ],
   "source": [
    "display(orders.duplicated().sum())"
   ]
  },
  {
   "cell_type": "markdown",
   "metadata": {},
   "source": [
    "Исправление написания"
   ]
  },
  {
   "cell_type": "code",
   "execution_count": 16,
   "metadata": {},
   "outputs": [],
   "source": [
    "orders = orders.rename(\n",
    "    columns = {'transactionId' : 'transaction_id', 'visitorId' : 'visitor_id'})"
   ]
  },
  {
   "cell_type": "markdown",
   "metadata": {},
   "source": [
    "### Данные для второй части (visitors)"
   ]
  },
  {
   "cell_type": "code",
   "execution_count": 17,
   "metadata": {},
   "outputs": [],
   "source": [
    "visits = pd.read_csv('/datasets/visitors.csv')"
   ]
  },
  {
   "cell_type": "code",
   "execution_count": 18,
   "metadata": {},
   "outputs": [
    {
     "data": {
      "text/html": [
       "<div>\n",
       "<style scoped>\n",
       "    .dataframe tbody tr th:only-of-type {\n",
       "        vertical-align: middle;\n",
       "    }\n",
       "\n",
       "    .dataframe tbody tr th {\n",
       "        vertical-align: top;\n",
       "    }\n",
       "\n",
       "    .dataframe thead th {\n",
       "        text-align: right;\n",
       "    }\n",
       "</style>\n",
       "<table border=\"1\" class=\"dataframe\">\n",
       "  <thead>\n",
       "    <tr style=\"text-align: right;\">\n",
       "      <th></th>\n",
       "      <th>date</th>\n",
       "      <th>group</th>\n",
       "      <th>visitors</th>\n",
       "    </tr>\n",
       "  </thead>\n",
       "  <tbody>\n",
       "    <tr>\n",
       "      <th>0</th>\n",
       "      <td>2019-08-01</td>\n",
       "      <td>A</td>\n",
       "      <td>719</td>\n",
       "    </tr>\n",
       "    <tr>\n",
       "      <th>1</th>\n",
       "      <td>2019-08-02</td>\n",
       "      <td>A</td>\n",
       "      <td>619</td>\n",
       "    </tr>\n",
       "    <tr>\n",
       "      <th>2</th>\n",
       "      <td>2019-08-03</td>\n",
       "      <td>A</td>\n",
       "      <td>507</td>\n",
       "    </tr>\n",
       "    <tr>\n",
       "      <th>3</th>\n",
       "      <td>2019-08-04</td>\n",
       "      <td>A</td>\n",
       "      <td>717</td>\n",
       "    </tr>\n",
       "    <tr>\n",
       "      <th>4</th>\n",
       "      <td>2019-08-05</td>\n",
       "      <td>A</td>\n",
       "      <td>756</td>\n",
       "    </tr>\n",
       "  </tbody>\n",
       "</table>\n",
       "</div>"
      ],
      "text/plain": [
       "         date group  visitors\n",
       "0  2019-08-01     A       719\n",
       "1  2019-08-02     A       619\n",
       "2  2019-08-03     A       507\n",
       "3  2019-08-04     A       717\n",
       "4  2019-08-05     A       756"
      ]
     },
     "metadata": {},
     "output_type": "display_data"
    }
   ],
   "source": [
    "display(visits.head(5))"
   ]
  },
  {
   "cell_type": "code",
   "execution_count": 19,
   "metadata": {},
   "outputs": [
    {
     "name": "stdout",
     "output_type": "stream",
     "text": [
      "<class 'pandas.core.frame.DataFrame'>\n",
      "RangeIndex: 62 entries, 0 to 61\n",
      "Data columns (total 3 columns):\n",
      " #   Column    Non-Null Count  Dtype \n",
      "---  ------    --------------  ----- \n",
      " 0   date      62 non-null     object\n",
      " 1   group     62 non-null     object\n",
      " 2   visitors  62 non-null     int64 \n",
      "dtypes: int64(1), object(2)\n",
      "memory usage: 1.6+ KB\n"
     ]
    }
   ],
   "source": [
    "visits.info()"
   ]
  },
  {
   "cell_type": "code",
   "execution_count": 20,
   "metadata": {},
   "outputs": [],
   "source": [
    "visits['date'] = visits['date'].map(\n",
    "    lambda x: dt.datetime.strptime(x, '%Y-%m-%d')\n",
    ")"
   ]
  },
  {
   "cell_type": "markdown",
   "metadata": {},
   "source": [
    "Проспуски"
   ]
  },
  {
   "cell_type": "code",
   "execution_count": 21,
   "metadata": {},
   "outputs": [
    {
     "data": {
      "text/plain": [
       "date        0\n",
       "group       0\n",
       "visitors    0\n",
       "dtype: int64"
      ]
     },
     "metadata": {},
     "output_type": "display_data"
    }
   ],
   "source": [
    "display(visits.isna().sum())"
   ]
  },
  {
   "cell_type": "markdown",
   "metadata": {},
   "source": [
    "Дубликаты"
   ]
  },
  {
   "cell_type": "code",
   "execution_count": 22,
   "metadata": {},
   "outputs": [
    {
     "data": {
      "text/plain": [
       "0"
      ]
     },
     "metadata": {},
     "output_type": "display_data"
    }
   ],
   "source": [
    "display(visits.duplicated().sum())"
   ]
  },
  {
   "cell_type": "code",
   "execution_count": 23,
   "metadata": {},
   "outputs": [
    {
     "data": {
      "text/plain": [
       "array(['A', 'B'], dtype=object)"
      ]
     },
     "execution_count": 23,
     "metadata": {},
     "output_type": "execute_result"
    }
   ],
   "source": [
    "visits['group'].unique()"
   ]
  },
  {
   "cell_type": "code",
   "execution_count": 24,
   "metadata": {},
   "outputs": [
    {
     "data": {
      "text/plain": [
       "Timestamp('2019-08-01 00:00:00')"
      ]
     },
     "execution_count": 24,
     "metadata": {},
     "output_type": "execute_result"
    }
   ],
   "source": [
    "visits['date'].min()"
   ]
  },
  {
   "cell_type": "code",
   "execution_count": 25,
   "metadata": {},
   "outputs": [
    {
     "data": {
      "text/plain": [
       "Timestamp('2019-08-31 00:00:00')"
      ]
     },
     "execution_count": 25,
     "metadata": {},
     "output_type": "execute_result"
    }
   ],
   "source": [
    "visits['date'].max()"
   ]
  },
  {
   "cell_type": "markdown",
   "metadata": {},
   "source": [
    "#### Вывод - в таблице orders исправлен формат времени, дубликатов и пропусков нет,так же испрвил шрифт написания колонок, в таблице visits теже сиправления, дубликатов и пропусков в таблице нет. "
   ]
  },
  {
   "cell_type": "code",
   "execution_count": 26,
   "metadata": {},
   "outputs": [
    {
     "data": {
      "text/plain": [
       "visitor_id\n",
       "8300375      2\n",
       "199603092    2\n",
       "232979603    2\n",
       "237748145    2\n",
       "276558944    2\n",
       "Name: group, dtype: int64"
      ]
     },
     "execution_count": 26,
     "metadata": {},
     "output_type": "execute_result"
    }
   ],
   "source": [
    "orders1 = orders.groupby('visitor_id')['group'].nunique()[orders.groupby('visitor_id')['group'].nunique()>1]\n",
    "orders1.head()"
   ]
  },
  {
   "cell_type": "markdown",
   "metadata": {},
   "source": [
    "## Часть 2. Приоритизация гипотез."
   ]
  },
  {
   "cell_type": "markdown",
   "metadata": {},
   "source": [
    " ### Примените фреймворк RICE для приоритизации гипотез. Отсортируйте их по убыванию приоритета."
   ]
  },
  {
   "cell_type": "code",
   "execution_count": 30,
   "metadata": {},
   "outputs": [],
   "source": [
    "hypothesis['rice'] = hypothesis['reach'] * hypothesis['impact'] * hypothesis['confidence'] / hypothesis['efforts']"
   ]
  },
  {
   "cell_type": "code",
   "execution_count": 31,
   "metadata": {},
   "outputs": [],
   "source": [
    "data1 = hypothesis[['hypothesis', 'rice']]"
   ]
  },
  {
   "cell_type": "code",
   "execution_count": 32,
   "metadata": {},
   "outputs": [
    {
     "data": {
      "text/html": [
       "<div>\n",
       "<style scoped>\n",
       "    .dataframe tbody tr th:only-of-type {\n",
       "        vertical-align: middle;\n",
       "    }\n",
       "\n",
       "    .dataframe tbody tr th {\n",
       "        vertical-align: top;\n",
       "    }\n",
       "\n",
       "    .dataframe thead th {\n",
       "        text-align: right;\n",
       "    }\n",
       "</style>\n",
       "<table border=\"1\" class=\"dataframe\">\n",
       "  <thead>\n",
       "    <tr style=\"text-align: right;\">\n",
       "      <th></th>\n",
       "      <th>hypothesis</th>\n",
       "      <th>rice</th>\n",
       "    </tr>\n",
       "  </thead>\n",
       "  <tbody>\n",
       "    <tr>\n",
       "      <th>7</th>\n",
       "      <td>Добавить форму подписки на все основные страницы, чтобы собрать базу клиентов для email-рассылок</td>\n",
       "      <td>112.0</td>\n",
       "    </tr>\n",
       "    <tr>\n",
       "      <th>2</th>\n",
       "      <td>Добавить блоки рекомендаций товаров на сайт интернет магазина, чтобы повысить конверсию и средни...</td>\n",
       "      <td>56.0</td>\n",
       "    </tr>\n",
       "    <tr>\n",
       "      <th>0</th>\n",
       "      <td>Добавить два новых канала привлечения трафика, что позволит привлекать на 30% больше пользователей</td>\n",
       "      <td>40.0</td>\n",
       "    </tr>\n",
       "    <tr>\n",
       "      <th>6</th>\n",
       "      <td>Показать на главной странице баннеры с актуальными акциями и распродажами, чтобы увеличить конве...</td>\n",
       "      <td>40.0</td>\n",
       "    </tr>\n",
       "    <tr>\n",
       "      <th>8</th>\n",
       "      <td>Запустить акцию, дающую скидку на товар в день рождения</td>\n",
       "      <td>16.2</td>\n",
       "    </tr>\n",
       "    <tr>\n",
       "      <th>3</th>\n",
       "      <td>Изменить структура категорий, что увеличит конверсию, т.к. пользователи быстрее найдут нужный товар</td>\n",
       "      <td>9.0</td>\n",
       "    </tr>\n",
       "    <tr>\n",
       "      <th>1</th>\n",
       "      <td>Запустить собственную службу доставки, что сократит срок доставки заказов</td>\n",
       "      <td>4.0</td>\n",
       "    </tr>\n",
       "    <tr>\n",
       "      <th>5</th>\n",
       "      <td>Добавить страницу отзывов клиентов о магазине, что позволит увеличить количество заказов</td>\n",
       "      <td>4.0</td>\n",
       "    </tr>\n",
       "    <tr>\n",
       "      <th>4</th>\n",
       "      <td>Изменить цвет фона главной страницы, чтобы увеличить вовлеченность пользователей</td>\n",
       "      <td>3.0</td>\n",
       "    </tr>\n",
       "  </tbody>\n",
       "</table>\n",
       "</div>"
      ],
      "text/plain": [
       "                                                                                            hypothesis  \\\n",
       "7     Добавить форму подписки на все основные страницы, чтобы собрать базу клиентов для email-рассылок   \n",
       "2  Добавить блоки рекомендаций товаров на сайт интернет магазина, чтобы повысить конверсию и средни...   \n",
       "0   Добавить два новых канала привлечения трафика, что позволит привлекать на 30% больше пользователей   \n",
       "6  Показать на главной странице баннеры с актуальными акциями и распродажами, чтобы увеличить конве...   \n",
       "8                                              Запустить акцию, дающую скидку на товар в день рождения   \n",
       "3  Изменить структура категорий, что увеличит конверсию, т.к. пользователи быстрее найдут нужный товар   \n",
       "1                            Запустить собственную службу доставки, что сократит срок доставки заказов   \n",
       "5             Добавить страницу отзывов клиентов о магазине, что позволит увеличить количество заказов   \n",
       "4                     Изменить цвет фона главной страницы, чтобы увеличить вовлеченность пользователей   \n",
       "\n",
       "    rice  \n",
       "7  112.0  \n",
       "2   56.0  \n",
       "0   40.0  \n",
       "6   40.0  \n",
       "8   16.2  \n",
       "3    9.0  \n",
       "1    4.0  \n",
       "5    4.0  \n",
       "4    3.0  "
      ]
     },
     "metadata": {},
     "output_type": "display_data"
    }
   ],
   "source": [
    "display(data1.sort_values(by='rice', ascending=False))"
   ]
  },
  {
   "cell_type": "markdown",
   "metadata": {},
   "source": [
    "Вывод - по подсчитанным данным в колонке RICE видно ,что самой перспективной идей является - № 7Добавить форму подписки на все основные страни..., №2 Добавить блоки рекомендаций товаров на сайт ин..., №0- Добавить два новых канала привлечения трафика,... и №6 - Показать на главной странице баннеры с актуаль..."
   ]
  },
  {
   "cell_type": "markdown",
   "metadata": {},
   "source": [
    "### Примените фреймворк ICE для приоритизации гипотез. Отсортируйте их по убыванию приоритета."
   ]
  },
  {
   "cell_type": "code",
   "execution_count": 33,
   "metadata": {},
   "outputs": [],
   "source": [
    "hypothesis['ice'] = hypothesis['impact'] * hypothesis['confidence'] /hypothesis['efforts']"
   ]
  },
  {
   "cell_type": "code",
   "execution_count": 34,
   "metadata": {},
   "outputs": [],
   "source": [
    "data2 = hypothesis[['hypothesis', 'ice']].copy()\n",
    "data2['ice'] = data2['ice'].apply(lambda x: float(\"{:.2f}\".format(x)))"
   ]
  },
  {
   "cell_type": "code",
   "execution_count": 35,
   "metadata": {},
   "outputs": [
    {
     "data": {
      "text/html": [
       "<div>\n",
       "<style scoped>\n",
       "    .dataframe tbody tr th:only-of-type {\n",
       "        vertical-align: middle;\n",
       "    }\n",
       "\n",
       "    .dataframe tbody tr th {\n",
       "        vertical-align: top;\n",
       "    }\n",
       "\n",
       "    .dataframe thead th {\n",
       "        text-align: right;\n",
       "    }\n",
       "</style>\n",
       "<table border=\"1\" class=\"dataframe\">\n",
       "  <thead>\n",
       "    <tr style=\"text-align: right;\">\n",
       "      <th></th>\n",
       "      <th>hypothesis</th>\n",
       "      <th>ice</th>\n",
       "    </tr>\n",
       "  </thead>\n",
       "  <tbody>\n",
       "    <tr>\n",
       "      <th>8</th>\n",
       "      <td>Запустить акцию, дающую скидку на товар в день рождения</td>\n",
       "      <td>16.20</td>\n",
       "    </tr>\n",
       "    <tr>\n",
       "      <th>0</th>\n",
       "      <td>Добавить два новых канала привлечения трафика, что позволит привлекать на 30% больше пользователей</td>\n",
       "      <td>13.33</td>\n",
       "    </tr>\n",
       "    <tr>\n",
       "      <th>7</th>\n",
       "      <td>Добавить форму подписки на все основные страницы, чтобы собрать базу клиентов для email-рассылок</td>\n",
       "      <td>11.20</td>\n",
       "    </tr>\n",
       "    <tr>\n",
       "      <th>6</th>\n",
       "      <td>Показать на главной странице баннеры с актуальными акциями и распродажами, чтобы увеличить конве...</td>\n",
       "      <td>8.00</td>\n",
       "    </tr>\n",
       "    <tr>\n",
       "      <th>2</th>\n",
       "      <td>Добавить блоки рекомендаций товаров на сайт интернет магазина, чтобы повысить конверсию и средни...</td>\n",
       "      <td>7.00</td>\n",
       "    </tr>\n",
       "    <tr>\n",
       "      <th>1</th>\n",
       "      <td>Запустить собственную службу доставки, что сократит срок доставки заказов</td>\n",
       "      <td>2.00</td>\n",
       "    </tr>\n",
       "    <tr>\n",
       "      <th>5</th>\n",
       "      <td>Добавить страницу отзывов клиентов о магазине, что позволит увеличить количество заказов</td>\n",
       "      <td>1.33</td>\n",
       "    </tr>\n",
       "    <tr>\n",
       "      <th>3</th>\n",
       "      <td>Изменить структура категорий, что увеличит конверсию, т.к. пользователи быстрее найдут нужный товар</td>\n",
       "      <td>1.12</td>\n",
       "    </tr>\n",
       "    <tr>\n",
       "      <th>4</th>\n",
       "      <td>Изменить цвет фона главной страницы, чтобы увеличить вовлеченность пользователей</td>\n",
       "      <td>1.00</td>\n",
       "    </tr>\n",
       "  </tbody>\n",
       "</table>\n",
       "</div>"
      ],
      "text/plain": [
       "                                                                                            hypothesis  \\\n",
       "8                                              Запустить акцию, дающую скидку на товар в день рождения   \n",
       "0   Добавить два новых канала привлечения трафика, что позволит привлекать на 30% больше пользователей   \n",
       "7     Добавить форму подписки на все основные страницы, чтобы собрать базу клиентов для email-рассылок   \n",
       "6  Показать на главной странице баннеры с актуальными акциями и распродажами, чтобы увеличить конве...   \n",
       "2  Добавить блоки рекомендаций товаров на сайт интернет магазина, чтобы повысить конверсию и средни...   \n",
       "1                            Запустить собственную службу доставки, что сократит срок доставки заказов   \n",
       "5             Добавить страницу отзывов клиентов о магазине, что позволит увеличить количество заказов   \n",
       "3  Изменить структура категорий, что увеличит конверсию, т.к. пользователи быстрее найдут нужный товар   \n",
       "4                     Изменить цвет фона главной страницы, чтобы увеличить вовлеченность пользователей   \n",
       "\n",
       "     ice  \n",
       "8  16.20  \n",
       "0  13.33  \n",
       "7  11.20  \n",
       "6   8.00  \n",
       "2   7.00  \n",
       "1   2.00  \n",
       "5   1.33  \n",
       "3   1.12  \n",
       "4   1.00  "
      ]
     },
     "metadata": {},
     "output_type": "display_data"
    }
   ],
   "source": [
    "display((data2.sort_values(by='ice', ascending = False)))"
   ]
  },
  {
   "cell_type": "code",
   "execution_count": 36,
   "metadata": {},
   "outputs": [
    {
     "data": {
      "text/html": [
       "<div>\n",
       "<style scoped>\n",
       "    .dataframe tbody tr th:only-of-type {\n",
       "        vertical-align: middle;\n",
       "    }\n",
       "\n",
       "    .dataframe tbody tr th {\n",
       "        vertical-align: top;\n",
       "    }\n",
       "\n",
       "    .dataframe thead th {\n",
       "        text-align: right;\n",
       "    }\n",
       "</style>\n",
       "<table border=\"1\" class=\"dataframe\">\n",
       "  <thead>\n",
       "    <tr style=\"text-align: right;\">\n",
       "      <th></th>\n",
       "      <th>hypothesis</th>\n",
       "      <th>ice</th>\n",
       "      <th>rice</th>\n",
       "    </tr>\n",
       "  </thead>\n",
       "  <tbody>\n",
       "    <tr>\n",
       "      <th>0</th>\n",
       "      <td>Добавить два новых канала привлечения трафика, что позволит привлекать на 30% больше пользователей</td>\n",
       "      <td>13.33</td>\n",
       "      <td>40.0</td>\n",
       "    </tr>\n",
       "    <tr>\n",
       "      <th>1</th>\n",
       "      <td>Запустить собственную службу доставки, что сократит срок доставки заказов</td>\n",
       "      <td>2.00</td>\n",
       "      <td>4.0</td>\n",
       "    </tr>\n",
       "    <tr>\n",
       "      <th>2</th>\n",
       "      <td>Добавить блоки рекомендаций товаров на сайт интернет магазина, чтобы повысить конверсию и средни...</td>\n",
       "      <td>7.00</td>\n",
       "      <td>56.0</td>\n",
       "    </tr>\n",
       "    <tr>\n",
       "      <th>3</th>\n",
       "      <td>Изменить структура категорий, что увеличит конверсию, т.к. пользователи быстрее найдут нужный товар</td>\n",
       "      <td>1.12</td>\n",
       "      <td>9.0</td>\n",
       "    </tr>\n",
       "    <tr>\n",
       "      <th>4</th>\n",
       "      <td>Изменить цвет фона главной страницы, чтобы увеличить вовлеченность пользователей</td>\n",
       "      <td>1.00</td>\n",
       "      <td>3.0</td>\n",
       "    </tr>\n",
       "    <tr>\n",
       "      <th>5</th>\n",
       "      <td>Добавить страницу отзывов клиентов о магазине, что позволит увеличить количество заказов</td>\n",
       "      <td>1.33</td>\n",
       "      <td>4.0</td>\n",
       "    </tr>\n",
       "    <tr>\n",
       "      <th>6</th>\n",
       "      <td>Показать на главной странице баннеры с актуальными акциями и распродажами, чтобы увеличить конве...</td>\n",
       "      <td>8.00</td>\n",
       "      <td>40.0</td>\n",
       "    </tr>\n",
       "    <tr>\n",
       "      <th>7</th>\n",
       "      <td>Добавить форму подписки на все основные страницы, чтобы собрать базу клиентов для email-рассылок</td>\n",
       "      <td>11.20</td>\n",
       "      <td>112.0</td>\n",
       "    </tr>\n",
       "    <tr>\n",
       "      <th>8</th>\n",
       "      <td>Запустить акцию, дающую скидку на товар в день рождения</td>\n",
       "      <td>16.20</td>\n",
       "      <td>16.2</td>\n",
       "    </tr>\n",
       "  </tbody>\n",
       "</table>\n",
       "</div>"
      ],
      "text/plain": [
       "                                                                                            hypothesis  \\\n",
       "0   Добавить два новых канала привлечения трафика, что позволит привлекать на 30% больше пользователей   \n",
       "1                            Запустить собственную службу доставки, что сократит срок доставки заказов   \n",
       "2  Добавить блоки рекомендаций товаров на сайт интернет магазина, чтобы повысить конверсию и средни...   \n",
       "3  Изменить структура категорий, что увеличит конверсию, т.к. пользователи быстрее найдут нужный товар   \n",
       "4                     Изменить цвет фона главной страницы, чтобы увеличить вовлеченность пользователей   \n",
       "5             Добавить страницу отзывов клиентов о магазине, что позволит увеличить количество заказов   \n",
       "6  Показать на главной странице баннеры с актуальными акциями и распродажами, чтобы увеличить конве...   \n",
       "7     Добавить форму подписки на все основные страницы, чтобы собрать базу клиентов для email-рассылок   \n",
       "8                                              Запустить акцию, дающую скидку на товар в день рождения   \n",
       "\n",
       "     ice   rice  \n",
       "0  13.33   40.0  \n",
       "1   2.00    4.0  \n",
       "2   7.00   56.0  \n",
       "3   1.12    9.0  \n",
       "4   1.00    3.0  \n",
       "5   1.33    4.0  \n",
       "6   8.00   40.0  \n",
       "7  11.20  112.0  \n",
       "8  16.20   16.2  "
      ]
     },
     "execution_count": 36,
     "metadata": {},
     "output_type": "execute_result"
    }
   ],
   "source": [
    "data2 = data2.merge(data1, on='hypothesis')\n",
    "data2"
   ]
  },
  {
   "cell_type": "markdown",
   "metadata": {},
   "source": [
    "Укажите, как изменилась приоритизация гипотез при применении RICE вместо ICE. Объясните, почему так произошло."
   ]
  },
  {
   "cell_type": "markdown",
   "metadata": {},
   "source": [
    "#### Вывод - по подсчитанным данным в колонке ICE видно ,что самой перспективной идей является - № 8Запустить акцию, дающую скидку на товар в день..., №0 Добавить два новых канала привлечения трафика,..., №7- Добавить форму подписки на все основные страни... и №6 - Показать на главной странице баннеры с актуаль..."
   ]
  },
  {
   "cell_type": "markdown",
   "metadata": {},
   "source": [
    "### Вывод - разница между методами видна в приоритизации методов, а  появляется она изза элемента reach в формуле RICE, reach - показатель охвата пользователей, и формула RICE дает более точные показатели по ориентированию по методам."
   ]
  },
  {
   "cell_type": "markdown",
   "metadata": {},
   "source": [
    "## Часть 3. Анализ A/B-теста"
   ]
  },
  {
   "cell_type": "markdown",
   "metadata": {},
   "source": [
    "### Постройте график кумулятивной выручки по группам. Сделайте выводы и предположения."
   ]
  },
  {
   "cell_type": "code",
   "execution_count": 37,
   "metadata": {},
   "outputs": [
    {
     "data": {
      "text/html": [
       "<div>\n",
       "<style scoped>\n",
       "    .dataframe tbody tr th:only-of-type {\n",
       "        vertical-align: middle;\n",
       "    }\n",
       "\n",
       "    .dataframe tbody tr th {\n",
       "        vertical-align: top;\n",
       "    }\n",
       "\n",
       "    .dataframe thead th {\n",
       "        text-align: right;\n",
       "    }\n",
       "</style>\n",
       "<table border=\"1\" class=\"dataframe\">\n",
       "  <thead>\n",
       "    <tr style=\"text-align: right;\">\n",
       "      <th></th>\n",
       "      <th>transaction_id</th>\n",
       "      <th>visitor_id</th>\n",
       "      <th>date</th>\n",
       "      <th>revenue</th>\n",
       "      <th>group</th>\n",
       "    </tr>\n",
       "  </thead>\n",
       "  <tbody>\n",
       "    <tr>\n",
       "      <th>0</th>\n",
       "      <td>3667963787</td>\n",
       "      <td>3312258926</td>\n",
       "      <td>2019-08-15</td>\n",
       "      <td>1650</td>\n",
       "      <td>B</td>\n",
       "    </tr>\n",
       "    <tr>\n",
       "      <th>1</th>\n",
       "      <td>2804400009</td>\n",
       "      <td>3642806036</td>\n",
       "      <td>2019-08-15</td>\n",
       "      <td>730</td>\n",
       "      <td>B</td>\n",
       "    </tr>\n",
       "    <tr>\n",
       "      <th>2</th>\n",
       "      <td>2961555356</td>\n",
       "      <td>4069496402</td>\n",
       "      <td>2019-08-15</td>\n",
       "      <td>400</td>\n",
       "      <td>A</td>\n",
       "    </tr>\n",
       "    <tr>\n",
       "      <th>3</th>\n",
       "      <td>3797467345</td>\n",
       "      <td>1196621759</td>\n",
       "      <td>2019-08-15</td>\n",
       "      <td>9759</td>\n",
       "      <td>B</td>\n",
       "    </tr>\n",
       "    <tr>\n",
       "      <th>4</th>\n",
       "      <td>2282983706</td>\n",
       "      <td>2322279887</td>\n",
       "      <td>2019-08-15</td>\n",
       "      <td>2308</td>\n",
       "      <td>B</td>\n",
       "    </tr>\n",
       "  </tbody>\n",
       "</table>\n",
       "</div>"
      ],
      "text/plain": [
       "   transaction_id  visitor_id       date  revenue group\n",
       "0      3667963787  3312258926 2019-08-15     1650     B\n",
       "1      2804400009  3642806036 2019-08-15      730     B\n",
       "2      2961555356  4069496402 2019-08-15      400     A\n",
       "3      3797467345  1196621759 2019-08-15     9759     B\n",
       "4      2282983706  2322279887 2019-08-15     2308     B"
      ]
     },
     "execution_count": 37,
     "metadata": {},
     "output_type": "execute_result"
    }
   ],
   "source": [
    "orders.head(5)"
   ]
  },
  {
   "cell_type": "code",
   "execution_count": 38,
   "metadata": {},
   "outputs": [],
   "source": [
    "datesGroups = orders[['date','group']].drop_duplicates()"
   ]
  },
  {
   "cell_type": "code",
   "execution_count": 39,
   "metadata": {},
   "outputs": [
    {
     "data": {
      "text/html": [
       "<div>\n",
       "<style scoped>\n",
       "    .dataframe tbody tr th:only-of-type {\n",
       "        vertical-align: middle;\n",
       "    }\n",
       "\n",
       "    .dataframe tbody tr th {\n",
       "        vertical-align: top;\n",
       "    }\n",
       "\n",
       "    .dataframe thead th {\n",
       "        text-align: right;\n",
       "    }\n",
       "</style>\n",
       "<table border=\"1\" class=\"dataframe\">\n",
       "  <thead>\n",
       "    <tr style=\"text-align: right;\">\n",
       "      <th></th>\n",
       "      <th>date</th>\n",
       "      <th>group</th>\n",
       "      <th>transaction_id</th>\n",
       "      <th>visitor_id</th>\n",
       "      <th>revenue</th>\n",
       "    </tr>\n",
       "  </thead>\n",
       "  <tbody>\n",
       "    <tr>\n",
       "      <th>55</th>\n",
       "      <td>2019-08-01</td>\n",
       "      <td>A</td>\n",
       "      <td>24</td>\n",
       "      <td>20</td>\n",
       "      <td>148579</td>\n",
       "    </tr>\n",
       "    <tr>\n",
       "      <th>66</th>\n",
       "      <td>2019-08-01</td>\n",
       "      <td>B</td>\n",
       "      <td>21</td>\n",
       "      <td>20</td>\n",
       "      <td>101217</td>\n",
       "    </tr>\n",
       "    <tr>\n",
       "      <th>175</th>\n",
       "      <td>2019-08-02</td>\n",
       "      <td>A</td>\n",
       "      <td>44</td>\n",
       "      <td>38</td>\n",
       "      <td>242401</td>\n",
       "    </tr>\n",
       "    <tr>\n",
       "      <th>173</th>\n",
       "      <td>2019-08-02</td>\n",
       "      <td>B</td>\n",
       "      <td>45</td>\n",
       "      <td>43</td>\n",
       "      <td>266748</td>\n",
       "    </tr>\n",
       "    <tr>\n",
       "      <th>291</th>\n",
       "      <td>2019-08-03</td>\n",
       "      <td>A</td>\n",
       "      <td>68</td>\n",
       "      <td>62</td>\n",
       "      <td>354874</td>\n",
       "    </tr>\n",
       "    <tr>\n",
       "      <th>...</th>\n",
       "      <td>...</td>\n",
       "      <td>...</td>\n",
       "      <td>...</td>\n",
       "      <td>...</td>\n",
       "      <td>...</td>\n",
       "    </tr>\n",
       "    <tr>\n",
       "      <th>496</th>\n",
       "      <td>2019-08-29</td>\n",
       "      <td>B</td>\n",
       "      <td>596</td>\n",
       "      <td>544</td>\n",
       "      <td>5559398</td>\n",
       "    </tr>\n",
       "    <tr>\n",
       "      <th>730</th>\n",
       "      <td>2019-08-30</td>\n",
       "      <td>A</td>\n",
       "      <td>545</td>\n",
       "      <td>493</td>\n",
       "      <td>4022970</td>\n",
       "    </tr>\n",
       "    <tr>\n",
       "      <th>690</th>\n",
       "      <td>2019-08-30</td>\n",
       "      <td>B</td>\n",
       "      <td>620</td>\n",
       "      <td>567</td>\n",
       "      <td>5774631</td>\n",
       "    </tr>\n",
       "    <tr>\n",
       "      <th>958</th>\n",
       "      <td>2019-08-31</td>\n",
       "      <td>A</td>\n",
       "      <td>557</td>\n",
       "      <td>503</td>\n",
       "      <td>4084803</td>\n",
       "    </tr>\n",
       "    <tr>\n",
       "      <th>930</th>\n",
       "      <td>2019-08-31</td>\n",
       "      <td>B</td>\n",
       "      <td>640</td>\n",
       "      <td>586</td>\n",
       "      <td>5907760</td>\n",
       "    </tr>\n",
       "  </tbody>\n",
       "</table>\n",
       "<p>62 rows × 5 columns</p>\n",
       "</div>"
      ],
      "text/plain": [
       "          date group  transaction_id  visitor_id  revenue\n",
       "55  2019-08-01     A              24          20   148579\n",
       "66  2019-08-01     B              21          20   101217\n",
       "175 2019-08-02     A              44          38   242401\n",
       "173 2019-08-02     B              45          43   266748\n",
       "291 2019-08-03     A              68          62   354874\n",
       "..         ...   ...             ...         ...      ...\n",
       "496 2019-08-29     B             596         544  5559398\n",
       "730 2019-08-30     A             545         493  4022970\n",
       "690 2019-08-30     B             620         567  5774631\n",
       "958 2019-08-31     A             557         503  4084803\n",
       "930 2019-08-31     B             640         586  5907760\n",
       "\n",
       "[62 rows x 5 columns]"
      ]
     },
     "execution_count": 39,
     "metadata": {},
     "output_type": "execute_result"
    }
   ],
   "source": [
    "ordersAggregated = datesGroups.apply(\n",
    "    lambda x: orders[np.logical_and(orders['date'] <= x['date'], orders['group'] == x['group'])].agg({\n",
    "'date' : 'max',\n",
    "'group' : 'max',\n",
    "'transaction_id' : pd.Series.nunique,\n",
    "'visitor_id' : pd.Series.nunique,\n",
    "'revenue' : 'sum'}), axis=1).sort_values(by=['date','group'])\n",
    "\n",
    "ordersAggregated"
   ]
  },
  {
   "cell_type": "code",
   "execution_count": 40,
   "metadata": {},
   "outputs": [
    {
     "data": {
      "text/html": [
       "<div>\n",
       "<style scoped>\n",
       "    .dataframe tbody tr th:only-of-type {\n",
       "        vertical-align: middle;\n",
       "    }\n",
       "\n",
       "    .dataframe tbody tr th {\n",
       "        vertical-align: top;\n",
       "    }\n",
       "\n",
       "    .dataframe thead th {\n",
       "        text-align: right;\n",
       "    }\n",
       "</style>\n",
       "<table border=\"1\" class=\"dataframe\">\n",
       "  <thead>\n",
       "    <tr style=\"text-align: right;\">\n",
       "      <th></th>\n",
       "      <th>date</th>\n",
       "      <th>group</th>\n",
       "      <th>visitors</th>\n",
       "    </tr>\n",
       "  </thead>\n",
       "  <tbody>\n",
       "    <tr>\n",
       "      <th>55</th>\n",
       "      <td>2019-08-01</td>\n",
       "      <td>A</td>\n",
       "      <td>719</td>\n",
       "    </tr>\n",
       "    <tr>\n",
       "      <th>66</th>\n",
       "      <td>2019-08-01</td>\n",
       "      <td>B</td>\n",
       "      <td>713</td>\n",
       "    </tr>\n",
       "    <tr>\n",
       "      <th>175</th>\n",
       "      <td>2019-08-02</td>\n",
       "      <td>A</td>\n",
       "      <td>1338</td>\n",
       "    </tr>\n",
       "    <tr>\n",
       "      <th>173</th>\n",
       "      <td>2019-08-02</td>\n",
       "      <td>B</td>\n",
       "      <td>1294</td>\n",
       "    </tr>\n",
       "    <tr>\n",
       "      <th>291</th>\n",
       "      <td>2019-08-03</td>\n",
       "      <td>A</td>\n",
       "      <td>1845</td>\n",
       "    </tr>\n",
       "    <tr>\n",
       "      <th>...</th>\n",
       "      <td>...</td>\n",
       "      <td>...</td>\n",
       "      <td>...</td>\n",
       "    </tr>\n",
       "    <tr>\n",
       "      <th>496</th>\n",
       "      <td>2019-08-29</td>\n",
       "      <td>B</td>\n",
       "      <td>17708</td>\n",
       "    </tr>\n",
       "    <tr>\n",
       "      <th>730</th>\n",
       "      <td>2019-08-30</td>\n",
       "      <td>A</td>\n",
       "      <td>18037</td>\n",
       "    </tr>\n",
       "    <tr>\n",
       "      <th>690</th>\n",
       "      <td>2019-08-30</td>\n",
       "      <td>B</td>\n",
       "      <td>18198</td>\n",
       "    </tr>\n",
       "    <tr>\n",
       "      <th>958</th>\n",
       "      <td>2019-08-31</td>\n",
       "      <td>A</td>\n",
       "      <td>18736</td>\n",
       "    </tr>\n",
       "    <tr>\n",
       "      <th>930</th>\n",
       "      <td>2019-08-31</td>\n",
       "      <td>B</td>\n",
       "      <td>18916</td>\n",
       "    </tr>\n",
       "  </tbody>\n",
       "</table>\n",
       "<p>62 rows × 3 columns</p>\n",
       "</div>"
      ],
      "text/plain": [
       "          date group  visitors\n",
       "55  2019-08-01     A       719\n",
       "66  2019-08-01     B       713\n",
       "175 2019-08-02     A      1338\n",
       "173 2019-08-02     B      1294\n",
       "291 2019-08-03     A      1845\n",
       "..         ...   ...       ...\n",
       "496 2019-08-29     B     17708\n",
       "730 2019-08-30     A     18037\n",
       "690 2019-08-30     B     18198\n",
       "958 2019-08-31     A     18736\n",
       "930 2019-08-31     B     18916\n",
       "\n",
       "[62 rows x 3 columns]"
      ]
     },
     "execution_count": 40,
     "metadata": {},
     "output_type": "execute_result"
    }
   ],
   "source": [
    "visitorsAggregated = datesGroups.apply(lambda x: visits[np.logical_and(visits['date'] <= x['date'], \n",
    "                                                                         visits['group'] == x['group']\n",
    "                                                                         )].agg({'date' : 'max', 'group' : 'max',\n",
    "                                                                                 'visitors' : 'sum'}),\n",
    "                                       axis=1).sort_values(by=['date','group'])\n",
    "visitorsAggregated"
   ]
  },
  {
   "cell_type": "code",
   "execution_count": 41,
   "metadata": {},
   "outputs": [],
   "source": [
    "cumulativeData = ordersAggregated.merge(visitorsAggregated, left_on=['date', 'group'], right_on=['date', 'group'])"
   ]
  },
  {
   "cell_type": "markdown",
   "metadata": {},
   "source": [
    "Вывод таблицы кумулятивной вырочкой по группам"
   ]
  },
  {
   "cell_type": "code",
   "execution_count": 42,
   "metadata": {},
   "outputs": [
    {
     "data": {
      "text/html": [
       "<div>\n",
       "<style scoped>\n",
       "    .dataframe tbody tr th:only-of-type {\n",
       "        vertical-align: middle;\n",
       "    }\n",
       "\n",
       "    .dataframe tbody tr th {\n",
       "        vertical-align: top;\n",
       "    }\n",
       "\n",
       "    .dataframe thead th {\n",
       "        text-align: right;\n",
       "    }\n",
       "</style>\n",
       "<table border=\"1\" class=\"dataframe\">\n",
       "  <thead>\n",
       "    <tr style=\"text-align: right;\">\n",
       "      <th></th>\n",
       "      <th>date</th>\n",
       "      <th>group</th>\n",
       "      <th>transaction_id</th>\n",
       "      <th>visitor_id</th>\n",
       "      <th>revenue</th>\n",
       "      <th>visitors</th>\n",
       "    </tr>\n",
       "  </thead>\n",
       "  <tbody>\n",
       "    <tr>\n",
       "      <th>0</th>\n",
       "      <td>2019-08-01</td>\n",
       "      <td>A</td>\n",
       "      <td>24</td>\n",
       "      <td>20</td>\n",
       "      <td>148579</td>\n",
       "      <td>719</td>\n",
       "    </tr>\n",
       "    <tr>\n",
       "      <th>1</th>\n",
       "      <td>2019-08-01</td>\n",
       "      <td>B</td>\n",
       "      <td>21</td>\n",
       "      <td>20</td>\n",
       "      <td>101217</td>\n",
       "      <td>713</td>\n",
       "    </tr>\n",
       "    <tr>\n",
       "      <th>2</th>\n",
       "      <td>2019-08-02</td>\n",
       "      <td>A</td>\n",
       "      <td>44</td>\n",
       "      <td>38</td>\n",
       "      <td>242401</td>\n",
       "      <td>1338</td>\n",
       "    </tr>\n",
       "    <tr>\n",
       "      <th>3</th>\n",
       "      <td>2019-08-02</td>\n",
       "      <td>B</td>\n",
       "      <td>45</td>\n",
       "      <td>43</td>\n",
       "      <td>266748</td>\n",
       "      <td>1294</td>\n",
       "    </tr>\n",
       "    <tr>\n",
       "      <th>4</th>\n",
       "      <td>2019-08-03</td>\n",
       "      <td>A</td>\n",
       "      <td>68</td>\n",
       "      <td>62</td>\n",
       "      <td>354874</td>\n",
       "      <td>1845</td>\n",
       "    </tr>\n",
       "  </tbody>\n",
       "</table>\n",
       "</div>"
      ],
      "text/plain": [
       "        date group  transaction_id  visitor_id  revenue  visitors\n",
       "0 2019-08-01     A              24          20   148579       719\n",
       "1 2019-08-01     B              21          20   101217       713\n",
       "2 2019-08-02     A              44          38   242401      1338\n",
       "3 2019-08-02     B              45          43   266748      1294\n",
       "4 2019-08-03     A              68          62   354874      1845"
      ]
     },
     "metadata": {},
     "output_type": "display_data"
    }
   ],
   "source": [
    "display(cumulativeData.head(5))"
   ]
  },
  {
   "cell_type": "code",
   "execution_count": 43,
   "metadata": {},
   "outputs": [],
   "source": [
    "cumulativeData.columns = [\n",
    "    'date',\n",
    "    'group',\n",
    "    'orders',\n",
    "    'buyers',\n",
    "    'revenue',\n",
    "    'visitors',\n",
    "]"
   ]
  },
  {
   "cell_type": "code",
   "execution_count": 44,
   "metadata": {},
   "outputs": [],
   "source": [
    "cumulativeRevenueA = cumulativeData[cumulativeData['group']=='A'][['date','revenue', 'orders']]\n",
    "cumulativeRevenueB = cumulativeData[cumulativeData['group']=='B'][['date','revenue', 'orders']]"
   ]
  },
  {
   "cell_type": "code",
   "execution_count": 45,
   "metadata": {},
   "outputs": [
    {
     "data": {
      "image/png": "[encoded data removed]",
      "text/plain": [
       "<Figure size 1440x576 with 1 Axes>"
      ]
     },
     "metadata": {
      "needs_background": "light"
     },
     "output_type": "display_data"
    }
   ],
   "source": [
    "plt.figure(figsize=(20, 8))\n",
    "# Строим график выручки группы A\n",
    "plt.plot(cumulativeRevenueA['date'], cumulativeRevenueA['revenue'], label='график выручки группы А')\n",
    "# Строим график выручки группы B\n",
    "plt.plot( cumulativeRevenueB['date'],cumulativeRevenueB['revenue'], label='график выручки группы B')\n",
    "plt.grid()\n",
    "plt.ylabel('Кумулятивная выручка по группам, уе')\n",
    "plt.xlabel('Дата')\n",
    "plt.title('График динамики кумулятивной выручки')\n",
    "plt.show() "
   ]
  },
  {
   "cell_type": "markdown",
   "metadata": {},
   "source": [
    "#### Выводы и педложения - выручка по группе А и В ранвомерно растет , имеются резкие скачки в группе В, возможно изза большого заказа или большое количество заказов 17 августа 2019 года, что то в этот день произошло, дальше вырчука по группе В в разы больше группы А."
   ]
  },
  {
   "cell_type": "markdown",
   "metadata": {},
   "source": [
    "### Постройте график кумулятивного среднего чека по группам. Сделайте выводы и предположения."
   ]
  },
  {
   "cell_type": "code",
   "execution_count": 46,
   "metadata": {},
   "outputs": [
    {
     "data": {
      "image/png": "[encoded data removed]",
      "text/plain": [
       "<Figure size 1440x576 with 1 Axes>"
      ]
     },
     "metadata": {
      "needs_background": "light"
     },
     "output_type": "display_data"
    }
   ],
   "source": [
    "plt.figure(figsize=(20, 8))\n",
    "plt.plot(cumulativeRevenueA['date'], cumulativeRevenueA['revenue']/cumulativeRevenueA['orders'], label='A')\n",
    "plt.plot(cumulativeRevenueB['date'], cumulativeRevenueB['revenue']/cumulativeRevenueB['orders'], label='B')\n",
    "plt.ylabel('Кумулятивный средний чек по группам')\n",
    "plt.xlabel('Дата')\n",
    "plt.title('График динамики кумулятивного среднего чека')\n",
    "plt.grid()\n",
    "plt.axis([dt.datetime(2019, 8, 1), dt.datetime(2019, 9, 1), 4500, 10500])\n",
    "plt.show()"
   ]
  },
  {
   "cell_type": "markdown",
   "metadata": {},
   "source": [
    "#### Выводы и педложения - по групе А средний чек с начало момента анализа примерно неделю виден спад и через неделю начинается подъем недельный и после небольшого спада остается примерно на одном уровне, а вот по группе В видно увеличение среднего чека волнообразно до 17-18 августа 19 года  виден резкий рост чека и после спад, чтобы не сделали 17-18 августа я думаю стоит продолжать в том же духе."
   ]
  },
  {
   "cell_type": "markdown",
   "metadata": {},
   "source": [
    "### Постройте график относительного изменения кумулятивного среднего чека группы B к группе A. Сделайте выводы и предположения."
   ]
  },
  {
   "cell_type": "code",
   "execution_count": 47,
   "metadata": {},
   "outputs": [
    {
     "data": {
      "image/png": "[encoded data removed]",
      "text/plain": [
       "<Figure size 1440x360 with 1 Axes>"
      ]
     },
     "metadata": {
      "needs_background": "light"
     },
     "output_type": "display_data"
    }
   ],
   "source": [
    "mergedCumulativeRevenue = cumulativeRevenueA.merge(cumulativeRevenueB, left_on='date', right_on='date', how='left',\n",
    "                                                   suffixes=['A', 'B'])\n",
    "\n",
    "plt.figure(figsize=(20,5))\n",
    "plt.grid()\n",
    "plt.plot(mergedCumulativeRevenue['date'], (mergedCumulativeRevenue['revenueB']/mergedCumulativeRevenue['ordersB'])/ \\\n",
    "         (mergedCumulativeRevenue['revenueA']/mergedCumulativeRevenue['ordersA'])-1)\n",
    "plt.title('Относительное изменение кумулятивного среднего чека групп \"B\" к \"А\"')\n",
    "plt.axhline(y=0, color='black', linestyle='--') \n",
    "plt.ylabel('Коэфициент отношения группы В к А')\n",
    "plt.xlabel('Дата')\n",
    "plt.axis([dt.datetime(2019, 8, 1), dt.datetime(2019, 9, 1), -0.3, 0.6])\n",
    "plt.show()"
   ]
  },
  {
   "cell_type": "markdown",
   "metadata": {},
   "source": [
    "#### Вывод - график показывает отношение среднего чека группы В к А и как следствие вывод тот же что и в предыдущих случаях виден рост волнообразный так как растут показатели группы В и спад появляется изза рост чека группы А длаьше же график растет вврех изза роста среднего чека в группе В и при стаиьном уровне среднего чека в гуппе А, с 1 по 7 августа идет рост с прогибом 5 августа, после 7 августа спад отношения до -0,12, далее рост до 0,5 18 августа 2019 и пд конец анализируемого периода отношение стостявлет 0,28 30 авгутса 19 года."
   ]
  },
  {
   "cell_type": "markdown",
   "metadata": {},
   "source": [
    "### Постройте график кумулятивной конверсии по группам. Сделайте выводы и предположения."
   ]
  },
  {
   "cell_type": "code",
   "execution_count": 48,
   "metadata": {},
   "outputs": [],
   "source": [
    "# считаем кумулятивную конверсию\n",
    "cumulativeData['conversion'] = cumulativeData['orders']/cumulativeData['visitors']"
   ]
  },
  {
   "cell_type": "code",
   "execution_count": 49,
   "metadata": {},
   "outputs": [
    {
     "data": {
      "text/html": [
       "<div>\n",
       "<style scoped>\n",
       "    .dataframe tbody tr th:only-of-type {\n",
       "        vertical-align: middle;\n",
       "    }\n",
       "\n",
       "    .dataframe tbody tr th {\n",
       "        vertical-align: top;\n",
       "    }\n",
       "\n",
       "    .dataframe thead th {\n",
       "        text-align: right;\n",
       "    }\n",
       "</style>\n",
       "<table border=\"1\" class=\"dataframe\">\n",
       "  <thead>\n",
       "    <tr style=\"text-align: right;\">\n",
       "      <th></th>\n",
       "      <th>date</th>\n",
       "      <th>group</th>\n",
       "      <th>orders</th>\n",
       "      <th>buyers</th>\n",
       "      <th>revenue</th>\n",
       "      <th>visitors</th>\n",
       "      <th>conversion</th>\n",
       "    </tr>\n",
       "  </thead>\n",
       "  <tbody>\n",
       "    <tr>\n",
       "      <th>0</th>\n",
       "      <td>2019-08-01</td>\n",
       "      <td>A</td>\n",
       "      <td>24</td>\n",
       "      <td>20</td>\n",
       "      <td>148579</td>\n",
       "      <td>719</td>\n",
       "      <td>0.033380</td>\n",
       "    </tr>\n",
       "    <tr>\n",
       "      <th>1</th>\n",
       "      <td>2019-08-01</td>\n",
       "      <td>B</td>\n",
       "      <td>21</td>\n",
       "      <td>20</td>\n",
       "      <td>101217</td>\n",
       "      <td>713</td>\n",
       "      <td>0.029453</td>\n",
       "    </tr>\n",
       "    <tr>\n",
       "      <th>2</th>\n",
       "      <td>2019-08-02</td>\n",
       "      <td>A</td>\n",
       "      <td>44</td>\n",
       "      <td>38</td>\n",
       "      <td>242401</td>\n",
       "      <td>1338</td>\n",
       "      <td>0.032885</td>\n",
       "    </tr>\n",
       "    <tr>\n",
       "      <th>3</th>\n",
       "      <td>2019-08-02</td>\n",
       "      <td>B</td>\n",
       "      <td>45</td>\n",
       "      <td>43</td>\n",
       "      <td>266748</td>\n",
       "      <td>1294</td>\n",
       "      <td>0.034776</td>\n",
       "    </tr>\n",
       "    <tr>\n",
       "      <th>4</th>\n",
       "      <td>2019-08-03</td>\n",
       "      <td>A</td>\n",
       "      <td>68</td>\n",
       "      <td>62</td>\n",
       "      <td>354874</td>\n",
       "      <td>1845</td>\n",
       "      <td>0.036856</td>\n",
       "    </tr>\n",
       "    <tr>\n",
       "      <th>...</th>\n",
       "      <td>...</td>\n",
       "      <td>...</td>\n",
       "      <td>...</td>\n",
       "      <td>...</td>\n",
       "      <td>...</td>\n",
       "      <td>...</td>\n",
       "      <td>...</td>\n",
       "    </tr>\n",
       "    <tr>\n",
       "      <th>57</th>\n",
       "      <td>2019-08-29</td>\n",
       "      <td>B</td>\n",
       "      <td>596</td>\n",
       "      <td>544</td>\n",
       "      <td>5559398</td>\n",
       "      <td>17708</td>\n",
       "      <td>0.033657</td>\n",
       "    </tr>\n",
       "    <tr>\n",
       "      <th>58</th>\n",
       "      <td>2019-08-30</td>\n",
       "      <td>A</td>\n",
       "      <td>545</td>\n",
       "      <td>493</td>\n",
       "      <td>4022970</td>\n",
       "      <td>18037</td>\n",
       "      <td>0.030216</td>\n",
       "    </tr>\n",
       "    <tr>\n",
       "      <th>59</th>\n",
       "      <td>2019-08-30</td>\n",
       "      <td>B</td>\n",
       "      <td>620</td>\n",
       "      <td>567</td>\n",
       "      <td>5774631</td>\n",
       "      <td>18198</td>\n",
       "      <td>0.034070</td>\n",
       "    </tr>\n",
       "    <tr>\n",
       "      <th>60</th>\n",
       "      <td>2019-08-31</td>\n",
       "      <td>A</td>\n",
       "      <td>557</td>\n",
       "      <td>503</td>\n",
       "      <td>4084803</td>\n",
       "      <td>18736</td>\n",
       "      <td>0.029729</td>\n",
       "    </tr>\n",
       "    <tr>\n",
       "      <th>61</th>\n",
       "      <td>2019-08-31</td>\n",
       "      <td>B</td>\n",
       "      <td>640</td>\n",
       "      <td>586</td>\n",
       "      <td>5907760</td>\n",
       "      <td>18916</td>\n",
       "      <td>0.033834</td>\n",
       "    </tr>\n",
       "  </tbody>\n",
       "</table>\n",
       "<p>62 rows × 7 columns</p>\n",
       "</div>"
      ],
      "text/plain": [
       "         date group  orders  buyers  revenue  visitors  conversion\n",
       "0  2019-08-01     A      24      20   148579       719    0.033380\n",
       "1  2019-08-01     B      21      20   101217       713    0.029453\n",
       "2  2019-08-02     A      44      38   242401      1338    0.032885\n",
       "3  2019-08-02     B      45      43   266748      1294    0.034776\n",
       "4  2019-08-03     A      68      62   354874      1845    0.036856\n",
       "..        ...   ...     ...     ...      ...       ...         ...\n",
       "57 2019-08-29     B     596     544  5559398     17708    0.033657\n",
       "58 2019-08-30     A     545     493  4022970     18037    0.030216\n",
       "59 2019-08-30     B     620     567  5774631     18198    0.034070\n",
       "60 2019-08-31     A     557     503  4084803     18736    0.029729\n",
       "61 2019-08-31     B     640     586  5907760     18916    0.033834\n",
       "\n",
       "[62 rows x 7 columns]"
      ]
     },
     "execution_count": 49,
     "metadata": {},
     "output_type": "execute_result"
    }
   ],
   "source": [
    "cumulativeData"
   ]
  },
  {
   "cell_type": "code",
   "execution_count": 50,
   "metadata": {},
   "outputs": [],
   "source": [
    "# отделяем данные по группе A\n",
    "cumulativeDataA = cumulativeData[cumulativeData['group']=='A']"
   ]
  },
  {
   "cell_type": "code",
   "execution_count": 51,
   "metadata": {},
   "outputs": [],
   "source": [
    "# отделяем данные по группе B\n",
    "cumulativeDataB = cumulativeData[cumulativeData['group']=='B']"
   ]
  },
  {
   "cell_type": "code",
   "execution_count": 52,
   "metadata": {},
   "outputs": [
    {
     "data": {
      "image/png": "[encoded data removed]",
      "text/plain": [
       "<Figure size 1440x360 with 1 Axes>"
      ]
     },
     "metadata": {
      "needs_background": "light"
     },
     "output_type": "display_data"
    }
   ],
   "source": [
    "# строим графики\n",
    "plt.figure(figsize=(20,5))\n",
    "plt.grid()\n",
    "plt.plot(cumulativeDataA['date'], cumulativeDataA['conversion'], label='кумулятивную конверсию группы A')\n",
    "plt.plot(cumulativeDataB['date'], cumulativeDataB['conversion'], label='кумулятивную конверсию группы B')\n",
    "plt.ylabel('Конверсия')\n",
    "plt.xlabel('Дата')\n",
    "plt.axis([dt.datetime(2019, 8, 1), dt.datetime(2019, 9, 1), 0.025, 0.04])\n",
    "plt.title('Кумулятивная конверсия по группам')\n",
    "plt.show()"
   ]
  },
  {
   "cell_type": "markdown",
   "metadata": {},
   "source": [
    "#### Вывод - до до 4 августа показатели конверсии по группа приерно симетричны и сначало растут до 0,35 и 0,37 после группа А теряет постепенно конверию до уровня примерно 0,3 и остается примерно на таком же уровне на все сроке до 330 августа, по группе В конверсия после 4 августа начинает растивонами с максимумом в 0,365 10 августа и 0,36 17 августа и псоле снижается и остается на уровне 0,34 до 30 августа 19 года"
   ]
  },
  {
   "cell_type": "markdown",
   "metadata": {},
   "source": [
    "### Постройте график относительного изменения кумулятивной конверсии группы B к группе A. Сделайте выводы и предположения."
   ]
  },
  {
   "cell_type": "code",
   "execution_count": 53,
   "metadata": {},
   "outputs": [],
   "source": [
    "mergedCumulativeConversions = cumulativeDataA[['date','conversion']].merge(cumulativeDataB[['date','conversion']], \\\n",
    "                                                    left_on='date', right_on='date', how='left', suffixes=['A', 'B'])"
   ]
  },
  {
   "cell_type": "code",
   "execution_count": 54,
   "metadata": {},
   "outputs": [
    {
     "data": {
      "text/html": [
       "<div>\n",
       "<style scoped>\n",
       "    .dataframe tbody tr th:only-of-type {\n",
       "        vertical-align: middle;\n",
       "    }\n",
       "\n",
       "    .dataframe tbody tr th {\n",
       "        vertical-align: top;\n",
       "    }\n",
       "\n",
       "    .dataframe thead th {\n",
       "        text-align: right;\n",
       "    }\n",
       "</style>\n",
       "<table border=\"1\" class=\"dataframe\">\n",
       "  <thead>\n",
       "    <tr style=\"text-align: right;\">\n",
       "      <th></th>\n",
       "      <th>date</th>\n",
       "      <th>conversionA</th>\n",
       "      <th>conversionB</th>\n",
       "    </tr>\n",
       "  </thead>\n",
       "  <tbody>\n",
       "    <tr>\n",
       "      <th>0</th>\n",
       "      <td>2019-08-01</td>\n",
       "      <td>0.033380</td>\n",
       "      <td>0.029453</td>\n",
       "    </tr>\n",
       "    <tr>\n",
       "      <th>1</th>\n",
       "      <td>2019-08-02</td>\n",
       "      <td>0.032885</td>\n",
       "      <td>0.034776</td>\n",
       "    </tr>\n",
       "    <tr>\n",
       "      <th>2</th>\n",
       "      <td>2019-08-03</td>\n",
       "      <td>0.036856</td>\n",
       "      <td>0.033833</td>\n",
       "    </tr>\n",
       "    <tr>\n",
       "      <th>3</th>\n",
       "      <td>2019-08-04</td>\n",
       "      <td>0.032787</td>\n",
       "      <td>0.030315</td>\n",
       "    </tr>\n",
       "    <tr>\n",
       "      <th>4</th>\n",
       "      <td>2019-08-05</td>\n",
       "      <td>0.032851</td>\n",
       "      <td>0.030793</td>\n",
       "    </tr>\n",
       "  </tbody>\n",
       "</table>\n",
       "</div>"
      ],
      "text/plain": [
       "        date  conversionA  conversionB\n",
       "0 2019-08-01     0.033380     0.029453\n",
       "1 2019-08-02     0.032885     0.034776\n",
       "2 2019-08-03     0.036856     0.033833\n",
       "3 2019-08-04     0.032787     0.030315\n",
       "4 2019-08-05     0.032851     0.030793"
      ]
     },
     "execution_count": 54,
     "metadata": {},
     "output_type": "execute_result"
    }
   ],
   "source": [
    "mergedCumulativeConversions.head(5)"
   ]
  },
  {
   "cell_type": "code",
   "execution_count": 55,
   "metadata": {},
   "outputs": [
    {
     "data": {
      "image/png": "[encoded data removed]",
      "text/plain": [
       "<Figure size 1440x360 with 1 Axes>"
      ]
     },
     "metadata": {
      "needs_background": "light"
     },
     "output_type": "display_data"
    }
   ],
   "source": [
    "plt.figure(figsize=(20,5))\n",
    "plt.grid()\n",
    "plt.plot(mergedCumulativeConversions['date'], mergedCumulativeConversions['conversionB']/\n",
    "         mergedCumulativeConversions['conversionA']-1,\n",
    "         label=\"Относительный прирост конверсии группы B относительно группы A\")\n",
    "\n",
    "plt.title('Относительное изменение кумулятивной конверсии группы B к группе A')\n",
    "plt.ylabel('Коэфициент изменения конверсии группы В к А')\n",
    "plt.xlabel('Дата')\n",
    "plt.axis([dt.datetime(2019, 8, 1), dt.datetime(2019, 9, 1), -0.15, 0.3])\n",
    "plt.show()\n"
   ]
  },
  {
   "cell_type": "markdown",
   "metadata": {},
   "source": [
    "#### Вывод  - отношение конверсии группы В к А от 1 августа до 3 виден резкий рост затем спад с -0,1 до 0,05 и спад до -0,05 затем виден постепенный рост до пика 15-16 августа 0,21  и дальше остепенное снижение до 29 августа до 0,11 с последющим ростом"
   ]
  },
  {
   "cell_type": "markdown",
   "metadata": {},
   "source": [
    "### Постройте точечный график количества заказов по пользователям. Сделайте выводы и предположения."
   ]
  },
  {
   "cell_type": "code",
   "execution_count": 56,
   "metadata": {},
   "outputs": [
    {
     "data": {
      "text/html": [
       "<div>\n",
       "<style scoped>\n",
       "    .dataframe tbody tr th:only-of-type {\n",
       "        vertical-align: middle;\n",
       "    }\n",
       "\n",
       "    .dataframe tbody tr th {\n",
       "        vertical-align: top;\n",
       "    }\n",
       "\n",
       "    .dataframe thead th {\n",
       "        text-align: right;\n",
       "    }\n",
       "</style>\n",
       "<table border=\"1\" class=\"dataframe\">\n",
       "  <thead>\n",
       "    <tr style=\"text-align: right;\">\n",
       "      <th></th>\n",
       "      <th>transaction_id</th>\n",
       "      <th>visitor_id</th>\n",
       "      <th>date</th>\n",
       "      <th>revenue</th>\n",
       "      <th>group</th>\n",
       "    </tr>\n",
       "  </thead>\n",
       "  <tbody>\n",
       "    <tr>\n",
       "      <th>0</th>\n",
       "      <td>3667963787</td>\n",
       "      <td>3312258926</td>\n",
       "      <td>2019-08-15</td>\n",
       "      <td>1650</td>\n",
       "      <td>B</td>\n",
       "    </tr>\n",
       "    <tr>\n",
       "      <th>1</th>\n",
       "      <td>2804400009</td>\n",
       "      <td>3642806036</td>\n",
       "      <td>2019-08-15</td>\n",
       "      <td>730</td>\n",
       "      <td>B</td>\n",
       "    </tr>\n",
       "    <tr>\n",
       "      <th>2</th>\n",
       "      <td>2961555356</td>\n",
       "      <td>4069496402</td>\n",
       "      <td>2019-08-15</td>\n",
       "      <td>400</td>\n",
       "      <td>A</td>\n",
       "    </tr>\n",
       "    <tr>\n",
       "      <th>3</th>\n",
       "      <td>3797467345</td>\n",
       "      <td>1196621759</td>\n",
       "      <td>2019-08-15</td>\n",
       "      <td>9759</td>\n",
       "      <td>B</td>\n",
       "    </tr>\n",
       "    <tr>\n",
       "      <th>4</th>\n",
       "      <td>2282983706</td>\n",
       "      <td>2322279887</td>\n",
       "      <td>2019-08-15</td>\n",
       "      <td>2308</td>\n",
       "      <td>B</td>\n",
       "    </tr>\n",
       "  </tbody>\n",
       "</table>\n",
       "</div>"
      ],
      "text/plain": [
       "   transaction_id  visitor_id       date  revenue group\n",
       "0      3667963787  3312258926 2019-08-15     1650     B\n",
       "1      2804400009  3642806036 2019-08-15      730     B\n",
       "2      2961555356  4069496402 2019-08-15      400     A\n",
       "3      3797467345  1196621759 2019-08-15     9759     B\n",
       "4      2282983706  2322279887 2019-08-15     2308     B"
      ]
     },
     "execution_count": 56,
     "metadata": {},
     "output_type": "execute_result"
    }
   ],
   "source": [
    "orders.head(5)"
   ]
  },
  {
   "cell_type": "code",
   "execution_count": 57,
   "metadata": {},
   "outputs": [
    {
     "data": {
      "text/html": [
       "<div>\n",
       "<style scoped>\n",
       "    .dataframe tbody tr th:only-of-type {\n",
       "        vertical-align: middle;\n",
       "    }\n",
       "\n",
       "    .dataframe tbody tr th {\n",
       "        vertical-align: top;\n",
       "    }\n",
       "\n",
       "    .dataframe thead th {\n",
       "        text-align: right;\n",
       "    }\n",
       "</style>\n",
       "<table border=\"1\" class=\"dataframe\">\n",
       "  <thead>\n",
       "    <tr style=\"text-align: right;\">\n",
       "      <th></th>\n",
       "      <th>visitor_id</th>\n",
       "      <th>orders</th>\n",
       "    </tr>\n",
       "  </thead>\n",
       "  <tbody>\n",
       "    <tr>\n",
       "      <th>1023</th>\n",
       "      <td>4256040402</td>\n",
       "      <td>11</td>\n",
       "    </tr>\n",
       "    <tr>\n",
       "      <th>591</th>\n",
       "      <td>2458001652</td>\n",
       "      <td>11</td>\n",
       "    </tr>\n",
       "    <tr>\n",
       "      <th>569</th>\n",
       "      <td>2378935119</td>\n",
       "      <td>9</td>\n",
       "    </tr>\n",
       "    <tr>\n",
       "      <th>487</th>\n",
       "      <td>2038680547</td>\n",
       "      <td>8</td>\n",
       "    </tr>\n",
       "    <tr>\n",
       "      <th>44</th>\n",
       "      <td>199603092</td>\n",
       "      <td>5</td>\n",
       "    </tr>\n",
       "  </tbody>\n",
       "</table>\n",
       "</div>"
      ],
      "text/plain": [
       "      visitor_id  orders\n",
       "1023  4256040402      11\n",
       "591   2458001652      11\n",
       "569   2378935119       9\n",
       "487   2038680547       8\n",
       "44     199603092       5"
      ]
     },
     "metadata": {},
     "output_type": "display_data"
    }
   ],
   "source": [
    "ordersByUsers = (\n",
    "    orders.groupby('visitor_id', as_index=False)\n",
    "    .agg({'transaction_id': 'nunique'})\n",
    ")\n",
    "ordersByUsers.columns = ['visitor_id', 'orders']\n",
    "\n",
    "display(ordersByUsers.sort_values(by='orders', ascending=False).head(5))"
   ]
  },
  {
   "cell_type": "code",
   "execution_count": 58,
   "metadata": {},
   "outputs": [
    {
     "data": {
      "image/png": "[encoded data removed]",
      "text/plain": [
       "<Figure size 1296x576 with 1 Axes>"
      ]
     },
     "metadata": {
      "needs_background": "light"
     },
     "output_type": "display_data"
    }
   ],
   "source": [
    "x_values = pd.Series(range(0, len(ordersByUsers)))\n",
    "plt.figure(figsize=(18,8))\n",
    "plt.grid()\n",
    "plt.scatter(x_values, ordersByUsers['orders']) \n",
    "plt.title('График количества заказов по пользователям')\n",
    "\n",
    "plt.ylabel('Количество заказов')\n",
    "plt.xlabel('Пользователи')\n",
    "plt.axis([-10,1060, 0, 6])\n",
    "plt.show()"
   ]
  },
  {
   "cell_type": "markdown",
   "metadata": {},
   "source": [
    "#### Вывод - как видно из точечного графика количество заказов в массе своей не превышает 2 х на человека и в основной массе сосредоточено на 1 заказае, 3 и более заказы уже редки"
   ]
  },
  {
   "cell_type": "markdown",
   "metadata": {},
   "source": [
    "### Посчитайте 95-й и 99-й перцентили количества заказов на пользователя. Выберите границу для определения аномальных пользователей."
   ]
  },
  {
   "cell_type": "markdown",
   "metadata": {},
   "source": [
    "Определим 90, 95 и 99 перцентили количества закзов в выборке:"
   ]
  },
  {
   "cell_type": "code",
   "execution_count": 59,
   "metadata": {},
   "outputs": [
    {
     "data": {
      "text/plain": [
       "array([1., 2., 4.])"
      ]
     },
     "metadata": {},
     "output_type": "display_data"
    }
   ],
   "source": [
    "display(np.percentile(ordersByUsers['orders'], [90, 95, 99])) "
   ]
  },
  {
   "cell_type": "markdown",
   "metadata": {},
   "source": [
    "#### Вывод - подсчеты перцентелей дает что, не более 5% от общей массы заказов состовляет -   2а заказа и не более 1% 4а заказа, как верхнюю границу выберу не более 2 заказов для дальнейших расчетов"
   ]
  },
  {
   "cell_type": "markdown",
   "metadata": {},
   "source": [
    "### Постройте точечный график стоимостей заказов. Сделайте выводы и предположения."
   ]
  },
  {
   "cell_type": "code",
   "execution_count": 60,
   "metadata": {},
   "outputs": [
    {
     "data": {
      "text/html": [
       "<div>\n",
       "<style scoped>\n",
       "    .dataframe tbody tr th:only-of-type {\n",
       "        vertical-align: middle;\n",
       "    }\n",
       "\n",
       "    .dataframe tbody tr th {\n",
       "        vertical-align: top;\n",
       "    }\n",
       "\n",
       "    .dataframe thead th {\n",
       "        text-align: right;\n",
       "    }\n",
       "</style>\n",
       "<table border=\"1\" class=\"dataframe\">\n",
       "  <thead>\n",
       "    <tr style=\"text-align: right;\">\n",
       "      <th></th>\n",
       "      <th>transaction_id</th>\n",
       "      <th>visitor_id</th>\n",
       "      <th>date</th>\n",
       "      <th>revenue</th>\n",
       "      <th>group</th>\n",
       "    </tr>\n",
       "  </thead>\n",
       "  <tbody>\n",
       "    <tr>\n",
       "      <th>425</th>\n",
       "      <td>590470918</td>\n",
       "      <td>1920142716</td>\n",
       "      <td>2019-08-19</td>\n",
       "      <td>1294500</td>\n",
       "      <td>B</td>\n",
       "    </tr>\n",
       "    <tr>\n",
       "      <th>1196</th>\n",
       "      <td>3936777065</td>\n",
       "      <td>2108080724</td>\n",
       "      <td>2019-08-15</td>\n",
       "      <td>202740</td>\n",
       "      <td>B</td>\n",
       "    </tr>\n",
       "    <tr>\n",
       "      <th>858</th>\n",
       "      <td>192721366</td>\n",
       "      <td>1316129916</td>\n",
       "      <td>2019-08-27</td>\n",
       "      <td>93940</td>\n",
       "      <td>A</td>\n",
       "    </tr>\n",
       "    <tr>\n",
       "      <th>1136</th>\n",
       "      <td>666610489</td>\n",
       "      <td>1307669133</td>\n",
       "      <td>2019-08-13</td>\n",
       "      <td>92550</td>\n",
       "      <td>A</td>\n",
       "    </tr>\n",
       "    <tr>\n",
       "      <th>744</th>\n",
       "      <td>3668308183</td>\n",
       "      <td>888512513</td>\n",
       "      <td>2019-08-27</td>\n",
       "      <td>86620</td>\n",
       "      <td>B</td>\n",
       "    </tr>\n",
       "  </tbody>\n",
       "</table>\n",
       "</div>"
      ],
      "text/plain": [
       "      transaction_id  visitor_id       date  revenue group\n",
       "425        590470918  1920142716 2019-08-19  1294500     B\n",
       "1196      3936777065  2108080724 2019-08-15   202740     B\n",
       "858        192721366  1316129916 2019-08-27    93940     A\n",
       "1136       666610489  1307669133 2019-08-13    92550     A\n",
       "744       3668308183   888512513 2019-08-27    86620     B"
      ]
     },
     "metadata": {},
     "output_type": "display_data"
    }
   ],
   "source": [
    "display(orders.sort_values(by='revenue', ascending=False).head(5))"
   ]
  },
  {
   "cell_type": "code",
   "execution_count": 61,
   "metadata": {},
   "outputs": [
    {
     "data": {
      "image/png": "[encoded data removed]",
      "text/plain": [
       "<Figure size 1296x576 with 1 Axes>"
      ]
     },
     "metadata": {
      "needs_background": "light"
     },
     "output_type": "display_data"
    }
   ],
   "source": [
    "x_values = pd.Series(range(0, len(orders['revenue'])))\n",
    "plt.figure(figsize=(18,8))\n",
    "plt.grid()\n",
    "plt.scatter(x_values, orders['revenue']) \n",
    "plt.title('Рапределение закозов ')\n",
    "plt.ylabel('Стомость заказов')\n",
    "plt.xlabel('Количество')\n",
    "plt.show()"
   ]
  },
  {
   "cell_type": "markdown",
   "metadata": {},
   "source": [
    "#### Вывод - общая масса заказов сосредоточена в области до 25000 уе и и не большим количество чуть более 30000 уе."
   ]
  },
  {
   "cell_type": "code",
   "execution_count": 62,
   "metadata": {},
   "outputs": [],
   "source": [
    "orders1 = orders.query('revenue<32000')"
   ]
  },
  {
   "cell_type": "code",
   "execution_count": 63,
   "metadata": {},
   "outputs": [
    {
     "data": {
      "image/png": "[encoded data removed]",
      "text/plain": [
       "<Figure size 1296x576 with 1 Axes>"
      ]
     },
     "metadata": {
      "needs_background": "light"
     },
     "output_type": "display_data"
    }
   ],
   "source": [
    "x_values = pd.Series(range(0, len(orders1['revenue'])))\n",
    "plt.figure(figsize=(18,8))\n",
    "plt.grid()\n",
    "plt.scatter(x_values, orders1['revenue']) \n",
    "plt.title('Рапределение закозов ')\n",
    "plt.ylabel('Стомость заказов')\n",
    "plt.xlabel('Количество')\n",
    "plt.show()"
   ]
  },
  {
   "cell_type": "markdown",
   "metadata": {},
   "source": [
    "### Посчитайте 95-й и 99-й перцентили стоимости заказов. Выберите границу для определения аномальных заказов"
   ]
  },
  {
   "cell_type": "markdown",
   "metadata": {},
   "source": [
    "Определим 90, 95 и 99 перцентили количества закзов в выборке:"
   ]
  },
  {
   "cell_type": "code",
   "execution_count": 64,
   "metadata": {},
   "outputs": [
    {
     "data": {
      "text/plain": [
       "array([18168. , 28000. , 58233.2])"
      ]
     },
     "metadata": {},
     "output_type": "display_data"
    }
   ],
   "source": [
    "display(np.percentile(orders['revenue'], [90, 95, 99]))"
   ]
  },
  {
   "cell_type": "markdown",
   "metadata": {},
   "source": [
    "#### Вывод - подсчеты перцентелей дает что, не более 5% заказов дороже 28000 заказов и не более 1% 58000 . 99% заказов меньше суммы 58236.5 , установим её в качестве границы для аномалий."
   ]
  },
  {
   "cell_type": "markdown",
   "metadata": {},
   "source": [
    "### Посчитайте статистическую значимость различий в конверсии между группами по «сырым» данным. Сделайте выводы и предположения."
   ]
  },
  {
   "cell_type": "markdown",
   "metadata": {},
   "source": [
    "Чтобы посчитать статистическую значимость различий в конверсии и среднем чеке применим метод Непараметрический тест Уилкоксона-Манна-Уитни. передадим критерию mannwhitneyu() данные о выручке с заказов (пороговое значение возьмём равное 5%). И найдём относительные различия в среднем чеке между группами и конверсии.Вероятности получения разных значений критерия Манна-Уитни рассчитаны теоретически, что даёт возможность делать вывод о различии или его отсутствии для любого заданного уровня значимости. "
   ]
  },
  {
   "cell_type": "markdown",
   "metadata": {},
   "source": [
    "В sampleA сохраним выборку, где каждый элемент — число заказов определённого пользователя, в том числе ноль. Значит, число элементов sampleA — это количество пользователей, сумма всех элементов — количество заказов. Чтобы получить конверсию в группе, поделим сумму заказов на число пользователей — найдём среднее в выборке sampleA методом mean(). Аналогично найдём конверсию группы B: SampleB.mean().\n",
    "Выведем относительный прирост конверсии группы B: конверсия группы B / конверсия группы A - 1. Округлим до трёх знаков после запятой (пороговое значение возьмём равное 5%).\n",
    "\n",
    "За нулевую гипотезу возьмём что: \"статистически значимых различий в конверсии между группами нет\"; тогда альтернативная гипотеза будет гласить - статистически значимые различия есть.\n",
    "\n",
    "Для тестирования всех гипотез ниже будем применять критерий Манна-Уитни, так как данные не распределены нормально, и в них присутствуют выбросы."
   ]
  },
  {
   "cell_type": "code",
   "execution_count": 65,
   "metadata": {},
   "outputs": [
    {
     "data": {
      "text/html": [
       "<div>\n",
       "<style scoped>\n",
       "    .dataframe tbody tr th:only-of-type {\n",
       "        vertical-align: middle;\n",
       "    }\n",
       "\n",
       "    .dataframe tbody tr th {\n",
       "        vertical-align: top;\n",
       "    }\n",
       "\n",
       "    .dataframe thead th {\n",
       "        text-align: right;\n",
       "    }\n",
       "</style>\n",
       "<table border=\"1\" class=\"dataframe\">\n",
       "  <thead>\n",
       "    <tr style=\"text-align: right;\">\n",
       "      <th></th>\n",
       "      <th>userId</th>\n",
       "      <th>orders</th>\n",
       "    </tr>\n",
       "  </thead>\n",
       "  <tbody>\n",
       "    <tr>\n",
       "      <th>0</th>\n",
       "      <td>8300375</td>\n",
       "      <td>1</td>\n",
       "    </tr>\n",
       "    <tr>\n",
       "      <th>1</th>\n",
       "      <td>11685486</td>\n",
       "      <td>1</td>\n",
       "    </tr>\n",
       "    <tr>\n",
       "      <th>2</th>\n",
       "      <td>54447517</td>\n",
       "      <td>1</td>\n",
       "    </tr>\n",
       "    <tr>\n",
       "      <th>3</th>\n",
       "      <td>66685450</td>\n",
       "      <td>1</td>\n",
       "    </tr>\n",
       "    <tr>\n",
       "      <th>4</th>\n",
       "      <td>78758296</td>\n",
       "      <td>1</td>\n",
       "    </tr>\n",
       "    <tr>\n",
       "      <th>...</th>\n",
       "      <td>...</td>\n",
       "      <td>...</td>\n",
       "    </tr>\n",
       "    <tr>\n",
       "      <th>498</th>\n",
       "      <td>4243832526</td>\n",
       "      <td>1</td>\n",
       "    </tr>\n",
       "    <tr>\n",
       "      <th>499</th>\n",
       "      <td>4256040402</td>\n",
       "      <td>7</td>\n",
       "    </tr>\n",
       "    <tr>\n",
       "      <th>500</th>\n",
       "      <td>4259830713</td>\n",
       "      <td>1</td>\n",
       "    </tr>\n",
       "    <tr>\n",
       "      <th>501</th>\n",
       "      <td>4266935830</td>\n",
       "      <td>1</td>\n",
       "    </tr>\n",
       "    <tr>\n",
       "      <th>502</th>\n",
       "      <td>4278982564</td>\n",
       "      <td>1</td>\n",
       "    </tr>\n",
       "  </tbody>\n",
       "</table>\n",
       "<p>503 rows × 2 columns</p>\n",
       "</div>"
      ],
      "text/plain": [
       "         userId  orders\n",
       "0       8300375       1\n",
       "1      11685486       1\n",
       "2      54447517       1\n",
       "3      66685450       1\n",
       "4      78758296       1\n",
       "..          ...     ...\n",
       "498  4243832526       1\n",
       "499  4256040402       7\n",
       "500  4259830713       1\n",
       "501  4266935830       1\n",
       "502  4278982564       1\n",
       "\n",
       "[503 rows x 2 columns]"
      ]
     },
     "execution_count": 65,
     "metadata": {},
     "output_type": "execute_result"
    }
   ],
   "source": [
    "ordersByUsersA = (\n",
    "    orders[orders['group'] == 'A']\n",
    "    .groupby('visitor_id', as_index=False)\n",
    "    .agg({'transaction_id': pd.Series.nunique})\n",
    ")\n",
    "ordersByUsersA.columns = ['userId', 'orders']\n",
    "ordersByUsersA"
   ]
  },
  {
   "cell_type": "code",
   "execution_count": 66,
   "metadata": {},
   "outputs": [],
   "source": [
    "ordersByUsersB = (\n",
    "    orders[orders['group'] == 'B']\n",
    "    .groupby('visitor_id', as_index=False)\n",
    "    .agg({'transaction_id': pd.Series.nunique})\n",
    ")\n",
    "ordersByUsersB.columns = ['userId', 'orders']"
   ]
  },
  {
   "cell_type": "code",
   "execution_count": 84,
   "metadata": {},
   "outputs": [],
   "source": [
    "sampleA = pd.concat([ordersByUsersA['orders'],pd.Series(0, index=np.arange(visits[visits['group'] == 'A']['visitors'].sum()\n",
    "                                                                           - len(ordersByUsersA['orders'])),\n",
    "                                                        name='orders')],\n",
    "                    axis=0)\n"
   ]
  },
  {
   "cell_type": "code",
   "execution_count": 80,
   "metadata": {},
   "outputs": [
    {
     "data": {
      "text/plain": [
       "586"
      ]
     },
     "execution_count": 80,
     "metadata": {},
     "output_type": "execute_result"
    }
   ],
   "source": [
    "sampleB = pd.concat([ordersByUsersB['orders'],pd.Series(0, index=np.arange(visits[visits['group'] == 'B']['visitors'].sum()\n",
    "                                                                           - len(ordersByUsersB['orders'])),\n",
    "                                                        name='orders')],axis=0)\n"
   ]
  },
  {
   "cell_type": "code",
   "execution_count": 69,
   "metadata": {},
   "outputs": [
    {
     "name": "stdout",
     "output_type": "stream",
     "text": [
      "alpha = 0.05\n",
      "p-value = 0.017\n",
      "Относительный показатель 'B' и 'A' = 0.138\n"
     ]
    }
   ],
   "source": [
    "print(\"alpha =\",0.05)\n",
    "print(\"p-value = {0:.3f}\".format(stats.mannwhitneyu(sampleA, sampleB, alternative = 'two-sided')[1]))\n",
    "print(\"Относительный показатель 'B' и 'A' = {0:.3f}\".format(sampleB.mean()/sampleA.mean()-1))"
   ]
  },
  {
   "cell_type": "markdown",
   "metadata": {},
   "source": [
    "#### Вывод - По «сырым» данным различия конверсий  групп A и B есть, Первое число — p-value = 0.015 меньше 0.05, Значит, нулевую гипотезу о том, что статистически значимых различий по конверсии между группами нет,  отвергаем, разница есть,  относительный выигрыш группы B равен 14% — второе число в выводе.\n"
   ]
  },
  {
   "cell_type": "markdown",
   "metadata": {},
   "source": [
    "### Посчитайте статистическую значимость различий в среднем чеке заказа между группами по «сырым» данным. Сделайте выводы и предположения."
   ]
  },
  {
   "cell_type": "markdown",
   "metadata": {},
   "source": [
    "Чтобы рассчитать статистическую значимость различий в среднем чеке между группами, передадим критерию mannwhitneyu() данные о выручке с заказов (пороговое значение возьмём равное 5%). И найдём относительные различия в среднем чеке между группами.\n",
    "\n",
    "За нулевую гипотезу возьмём что: \"статистически значимых различий в средних чеках между группами нет\"; тогда альтернативная гипотеза будет гласить - статистически значимые различия есть."
   ]
  },
  {
   "cell_type": "code",
   "execution_count": 70,
   "metadata": {},
   "outputs": [
    {
     "name": "stdout",
     "output_type": "stream",
     "text": [
      "alpha = 0.05\n",
      "p-value = 0.729\n",
      "Относительный показатель 'B' и 'A' = 0.259\n"
     ]
    }
   ],
   "source": [
    "print(\"alpha =\",0.05)\n",
    "print(\"p-value = {0:.3f}\".format(stats.mannwhitneyu(orders[orders['group']=='A']['revenue'], orders[orders['group']=='B']\n",
    "                                                    ['revenue'],\n",
    "                                                    alternative = 'two-sided')[1]))\n",
    "print(\"Относительный показатель 'B' и 'A' = {0:.3f}\".format(orders[orders['group']=='B']['revenue'].mean()/\n",
    "                                                            orders[orders['group']=='A']['revenue'].mean()-1))  "
   ]
  },
  {
   "cell_type": "markdown",
   "metadata": {},
   "source": [
    "####  Вывод - По «сырым» данным различий в среднем чеке групп A и B нет, Первое число — p-value = 0.764 больше 0.05, Значит, нулевую гипотезу о том, что статистически значимых различий по среднему чеку между группами нет, не отвергаем,   относительный выигрыш группы B равен 25,7% — второе число в выводе"
   ]
  },
  {
   "cell_type": "markdown",
   "metadata": {},
   "source": [
    "### Посчитайте статистическую значимость различий в конверсии между группами по «очищенным» данным. Сделайте выводы и предположения."
   ]
  },
  {
   "cell_type": "markdown",
   "metadata": {},
   "source": [
    "За нулевую гипотезу возьмём что: \"статистически значимых различий в конверсии между группами нет\"; тогда альтернативная гипотеза будет гласить - статистически значимые различия есть."
   ]
  },
  {
   "cell_type": "code",
   "execution_count": 71,
   "metadata": {},
   "outputs": [
    {
     "data": {
      "text/html": [
       "<div>\n",
       "<style scoped>\n",
       "    .dataframe tbody tr th:only-of-type {\n",
       "        vertical-align: middle;\n",
       "    }\n",
       "\n",
       "    .dataframe tbody tr th {\n",
       "        vertical-align: top;\n",
       "    }\n",
       "\n",
       "    .dataframe thead th {\n",
       "        text-align: right;\n",
       "    }\n",
       "</style>\n",
       "<table border=\"1\" class=\"dataframe\">\n",
       "  <thead>\n",
       "    <tr style=\"text-align: right;\">\n",
       "      <th></th>\n",
       "      <th>transaction_id</th>\n",
       "      <th>visitor_id</th>\n",
       "      <th>date</th>\n",
       "      <th>revenue</th>\n",
       "      <th>group</th>\n",
       "    </tr>\n",
       "  </thead>\n",
       "  <tbody>\n",
       "    <tr>\n",
       "      <th>0</th>\n",
       "      <td>3667963787</td>\n",
       "      <td>3312258926</td>\n",
       "      <td>2019-08-15</td>\n",
       "      <td>1650</td>\n",
       "      <td>B</td>\n",
       "    </tr>\n",
       "    <tr>\n",
       "      <th>1</th>\n",
       "      <td>2804400009</td>\n",
       "      <td>3642806036</td>\n",
       "      <td>2019-08-15</td>\n",
       "      <td>730</td>\n",
       "      <td>B</td>\n",
       "    </tr>\n",
       "    <tr>\n",
       "      <th>2</th>\n",
       "      <td>2961555356</td>\n",
       "      <td>4069496402</td>\n",
       "      <td>2019-08-15</td>\n",
       "      <td>400</td>\n",
       "      <td>A</td>\n",
       "    </tr>\n",
       "    <tr>\n",
       "      <th>3</th>\n",
       "      <td>3797467345</td>\n",
       "      <td>1196621759</td>\n",
       "      <td>2019-08-15</td>\n",
       "      <td>9759</td>\n",
       "      <td>B</td>\n",
       "    </tr>\n",
       "    <tr>\n",
       "      <th>4</th>\n",
       "      <td>2282983706</td>\n",
       "      <td>2322279887</td>\n",
       "      <td>2019-08-15</td>\n",
       "      <td>2308</td>\n",
       "      <td>B</td>\n",
       "    </tr>\n",
       "  </tbody>\n",
       "</table>\n",
       "</div>"
      ],
      "text/plain": [
       "   transaction_id  visitor_id       date  revenue group\n",
       "0      3667963787  3312258926 2019-08-15     1650     B\n",
       "1      2804400009  3642806036 2019-08-15      730     B\n",
       "2      2961555356  4069496402 2019-08-15      400     A\n",
       "3      3797467345  1196621759 2019-08-15     9759     B\n",
       "4      2282983706  2322279887 2019-08-15     2308     B"
      ]
     },
     "execution_count": 71,
     "metadata": {},
     "output_type": "execute_result"
    }
   ],
   "source": [
    "orders.head(5)"
   ]
  },
  {
   "cell_type": "code",
   "execution_count": 72,
   "metadata": {},
   "outputs": [],
   "source": [
    "ordersByUsersA = (\n",
    "    orders[orders['group'] == 'A']\n",
    "    .groupby('visitor_id', as_index=False)\n",
    "    .agg({'transaction_id': pd.Series.nunique})\n",
    ")\n",
    "ordersByUsersA.columns = ['visitor_id', 'orders']\n",
    "\n",
    "ordersByUsersB = (\n",
    "    orders[orders['group'] == 'B']\n",
    "    .groupby('visitor_id', as_index=False)\n",
    "    .agg({'transaction_id': pd.Series.nunique})\n",
    ")\n",
    "ordersByUsersB.columns = ['visitor_id', 'orders']"
   ]
  },
  {
   "cell_type": "code",
   "execution_count": 73,
   "metadata": {},
   "outputs": [
    {
     "data": {
      "text/plain": [
       "3.0"
      ]
     },
     "execution_count": 73,
     "metadata": {},
     "output_type": "execute_result"
    }
   ],
   "source": [
    "revenue_perc_99=np.percentile(orders['revenue'], 99)\n",
    "order_check = np.percentile(ordersByUsers['orders'], 98)\n",
    "order_check\n"
   ]
  },
  {
   "cell_type": "code",
   "execution_count": 74,
   "metadata": {},
   "outputs": [],
   "source": [
    "usersWithManyOrders = pd.concat(\n",
    "    [\n",
    "        ordersByUsersA[ordersByUsersA['orders'] > 3]['visitor_id'],\n",
    "        ordersByUsersB[ordersByUsersB['orders'] > 3]['visitor_id'],\n",
    "    ],\n",
    "    axis=0,\n",
    ")\n",
    "usersWithExpensiveOrders = orders[orders['revenue'] > revenue_perc_99]['visitor_id']\n",
    "abnormalUsers = (\n",
    "    pd.concat([usersWithManyOrders, usersWithExpensiveOrders], axis=0)\n",
    "    .drop_duplicates()\n",
    "    .sort_values()\n",
    ")"
   ]
  },
  {
   "cell_type": "markdown",
   "metadata": {},
   "source": [
    "Аномальные пользователи"
   ]
  },
  {
   "cell_type": "code",
   "execution_count": 75,
   "metadata": {},
   "outputs": [
    {
     "data": {
      "text/plain": [
       "1099    148427295\n",
       "18      199603092\n",
       "23      237748145\n",
       "949     887908475\n",
       "744     888512513\n",
       "Name: visitor_id, dtype: int64"
      ]
     },
     "metadata": {},
     "output_type": "display_data"
    },
    {
     "name": "stdout",
     "output_type": "stream",
     "text": [
      "Всего аномальных пользователей = 20\n"
     ]
    }
   ],
   "source": [
    "display(abnormalUsers.head(5))\n",
    "print(\"Всего аномальных пользователей =\" ,len(abnormalUsers)) "
   ]
  },
  {
   "cell_type": "markdown",
   "metadata": {},
   "source": [
    "Удаление аномальных пользователей"
   ]
  },
  {
   "cell_type": "code",
   "execution_count": 76,
   "metadata": {},
   "outputs": [],
   "source": [
    "sampleAFiltered = pd.concat(\n",
    "    [\n",
    "        ordersByUsersA[\n",
    "            np.logical_not(ordersByUsersA['visitor_id'].isin(abnormalUsers))\n",
    "        ]['orders'],\n",
    "        pd.Series(\n",
    "            0,\n",
    "            index=np.arange(\n",
    "                visits[visits['group'] == 'A']['visitors'].sum() - len(ordersByUsersA['orders'])\n",
    "            ),\n",
    "            name='orders',\n",
    "        ),\n",
    "    ],\n",
    "    axis=0,\n",
    ")\n"
   ]
  },
  {
   "cell_type": "code",
   "execution_count": 77,
   "metadata": {},
   "outputs": [
    {
     "data": {
      "text/plain": [
       "0        1\n",
       "1        1\n",
       "2        1\n",
       "3        1\n",
       "4        1\n",
       "        ..\n",
       "18228    0\n",
       "18229    0\n",
       "18230    0\n",
       "18231    0\n",
       "18232    0\n",
       "Name: orders, Length: 18720, dtype: int64"
      ]
     },
     "execution_count": 77,
     "metadata": {},
     "output_type": "execute_result"
    }
   ],
   "source": [
    "sampleBFiltered = pd.concat(\n",
    "    [\n",
    "        ordersByUsersB[\n",
    "            np.logical_not(ordersByUsersB['visitor_id'].isin(abnormalUsers))\n",
    "        ]['orders'],\n",
    "        pd.Series(\n",
    "            0,\n",
    "            index=np.arange(\n",
    "                visits[visits['group'] == 'B']['visitors'].sum() - len(ordersByUsersB['orders'])\n",
    "            ),\n",
    "            name='orders',\n",
    "        ),\n",
    "    ],\n",
    "    axis=0,\n",
    ") \n",
    "sampleAFiltered"
   ]
  },
  {
   "cell_type": "code",
   "execution_count": 78,
   "metadata": {},
   "outputs": [
    {
     "name": "stdout",
     "output_type": "stream",
     "text": [
      "alpha = 0.05\n",
      "p-value = 0.014\n",
      "Относительный показатель 'B' и 'A' = 0.151\n"
     ]
    }
   ],
   "source": [
    "print(\"alpha =\",0.05)\n",
    "print(\"p-value = {0:.3f}\".format(stats.mannwhitneyu(sampleAFiltered, sampleBFiltered, alternative = 'two-sided')[1]))\n",
    "print(\"Относительный показатель 'B' и 'A' = {0:.3f}\".format(sampleBFiltered.mean()/sampleAFiltered.mean()-1)) "
   ]
  },
  {
   "cell_type": "markdown",
   "metadata": {},
   "source": [
    "#### Вывод - По «очищенным» данным различия конверсий  групп A и B есть, Первое число — p-value = 0.013 меньше 0.05, Значит, нулевую гипотезу о том, что статистически значимых различий по конверсии между группами нет,  отвергаем, разница есть,  относительный выигрыш группы B равен 15.3% — второе число в выводе, p-value немного уменьшился с 0,016 до 0,013 и выигрыш по группе В уменшился на 8 %"
   ]
  },
  {
   "cell_type": "markdown",
   "metadata": {},
   "source": [
    "### Посчитайте статистическую значимость различий в среднем чеке заказа между группами по «очищенным» данным. Сделайте выводы и предположения."
   ]
  },
  {
   "cell_type": "code",
   "execution_count": 79,
   "metadata": {},
   "outputs": [
    {
     "name": "stdout",
     "output_type": "stream",
     "text": [
      "alpha = 0.05\n",
      "p-value = 0.959\n",
      "Относительный показатель 'B' и 'A' = -0.014\n"
     ]
    }
   ],
   "source": [
    "print(\"alpha =\",0.05)\n",
    "print(\"p-value = {0:.3f}\".format(\n",
    "        stats.mannwhitneyu(\n",
    "            orders[\n",
    "                np.logical_and(\n",
    "                    orders['group'] == 'A',\n",
    "                    np.logical_not(orders['visitor_id'].isin(abnormalUsers)),\n",
    "                )\n",
    "            ]['revenue'],\n",
    "            orders[\n",
    "                np.logical_and(\n",
    "                    orders['group'] == 'B',\n",
    "                    np.logical_not(orders['visitor_id'].isin(abnormalUsers)),\n",
    "                )\n",
    "            ]['revenue'],\n",
    "        )[1]\n",
    "    )\n",
    ")\n",
    "\n",
    "\n",
    "print(\"Относительный показатель 'B' и 'A' = {0:.3f}\".format(\n",
    "        orders[\n",
    "            np.logical_and(\n",
    "                orders['group'] == 'B',\n",
    "                np.logical_not(orders['visitor_id'].isin(abnormalUsers)),\n",
    "            )\n",
    "        ]['revenue'].mean()\n",
    "        / orders[\n",
    "            np.logical_and(\n",
    "                orders['group'] == 'A',\n",
    "                np.logical_not(orders['visitor_id'].isin(abnormalUsers)),\n",
    "            )\n",
    "        ]['revenue'].mean()\n",
    "        - 1\n",
    "    )\n",
    ") "
   ]
  },
  {
   "cell_type": "markdown",
   "metadata": {},
   "source": [
    "####  Вывод - По «очищенным» данным различий в среднем чеке групп A и B нет, Первое число — p-value = 0.997 больше 0.05, Значит, нулевую гипотезу о том, что статистически значимых различий по среднему чеку между группами нет, не отвергаем,   относительный прогигрыш группы B равен 16%, по очищенным данным p-value примерно осталься темже и средий просел в группе В"
   ]
  },
  {
   "cell_type": "markdown",
   "metadata": {},
   "source": [
    "## Общий вывод - Имеющиеся факты:\n",
    "По «сырым» данным различия конверсий  групп A и B есть, По «очищенным» данным различия конверсий групп A и B есть;\n",
    "По «сырым» данным различий в среднем чеке групп A и B нет,По «очищенным» данным различий в среднем чеке групп A и B нет,\n",
    "График Относительное изменение кумулятивной конверсии группы B к группе A показывает постепенный рост, с незначительным спадом вначале\n",
    "График Относительное изменение кумулятивного среднего чека групп \"B\" к \"А\" показывает волнообразные скачки с дальнейшей стабилизацией, по ичищенным данным средний чек ушел вообще в минус но тендеция к увеличению имеется.\n",
    "Исходя из обнаруженных фактов, тест предлагаю остановить, результат виден уже хоть минимальный но плюс от группы В виден."
   ]
  }
 ],
 "metadata": {
  "ExecuteTimeLog": [
   {
    "duration": 370,
    "start_time": "2022-08-21T22:51:28.823Z"
   },
   {
    "duration": 62,
    "start_time": "2022-08-21T22:51:29.835Z"
   },
   {
    "duration": 13,
    "start_time": "2022-08-21T22:51:48.141Z"
   },
   {
    "duration": 95,
    "start_time": "2022-08-21T22:54:08.765Z"
   },
   {
    "duration": 9,
    "start_time": "2022-08-21T22:54:09.875Z"
   },
   {
    "duration": 67,
    "start_time": "2022-08-21T22:55:41.381Z"
   },
   {
    "duration": 7,
    "start_time": "2022-08-21T22:55:42.581Z"
   },
   {
    "duration": 11,
    "start_time": "2022-08-21T22:55:55.801Z"
   },
   {
    "duration": 12,
    "start_time": "2022-08-21T22:56:24.361Z"
   },
   {
    "duration": 5,
    "start_time": "2022-08-21T23:03:38.102Z"
   },
   {
    "duration": 4,
    "start_time": "2022-08-21T23:04:06.661Z"
   },
   {
    "duration": 58,
    "start_time": "2022-08-21T23:04:18.860Z"
   },
   {
    "duration": 11,
    "start_time": "2022-08-21T23:04:26.581Z"
   },
   {
    "duration": 6,
    "start_time": "2022-08-21T23:05:10.325Z"
   },
   {
    "duration": 6,
    "start_time": "2022-08-21T23:05:41.221Z"
   },
   {
    "duration": 6,
    "start_time": "2022-08-21T23:06:42.980Z"
   },
   {
    "duration": 6,
    "start_time": "2022-08-21T23:07:01.381Z"
   },
   {
    "duration": 106,
    "start_time": "2022-08-21T23:09:16.421Z"
   },
   {
    "duration": 4,
    "start_time": "2022-08-21T23:09:25.840Z"
   },
   {
    "duration": 8,
    "start_time": "2022-08-21T23:09:39.634Z"
   },
   {
    "duration": 7,
    "start_time": "2022-08-21T23:16:36.724Z"
   },
   {
    "duration": 890,
    "start_time": "2022-08-21T23:16:40.821Z"
   },
   {
    "duration": 4,
    "start_time": "2022-08-21T23:19:11.381Z"
   },
   {
    "duration": 49,
    "start_time": "2022-08-21T23:19:13.020Z"
   },
   {
    "duration": 7,
    "start_time": "2022-08-21T23:19:14.021Z"
   },
   {
    "duration": 11,
    "start_time": "2022-08-21T23:19:17.341Z"
   },
   {
    "duration": 5,
    "start_time": "2022-08-21T23:19:18.101Z"
   },
   {
    "duration": 6,
    "start_time": "2022-08-21T23:19:22.641Z"
   },
   {
    "duration": 6,
    "start_time": "2022-08-21T23:19:27.142Z"
   },
   {
    "duration": 4,
    "start_time": "2022-08-21T23:19:28.740Z"
   },
   {
    "duration": 27,
    "start_time": "2022-08-21T23:19:32.301Z"
   },
   {
    "duration": 8,
    "start_time": "2022-08-21T23:19:32.989Z"
   },
   {
    "duration": 10,
    "start_time": "2022-08-21T23:19:33.643Z"
   },
   {
    "duration": 4,
    "start_time": "2022-08-21T23:19:34.261Z"
   },
   {
    "duration": 6,
    "start_time": "2022-08-21T23:19:35.884Z"
   },
   {
    "duration": 6,
    "start_time": "2022-08-21T23:19:37.068Z"
   },
   {
    "duration": 8,
    "start_time": "2022-08-21T23:19:39.621Z"
   },
   {
    "duration": 29,
    "start_time": "2022-08-21T23:19:42.201Z"
   },
   {
    "duration": 4,
    "start_time": "2022-08-21T23:19:52.661Z"
   },
   {
    "duration": 7,
    "start_time": "2022-08-21T23:19:53.821Z"
   },
   {
    "duration": 9,
    "start_time": "2022-08-21T23:20:01.981Z"
   },
   {
    "duration": 5,
    "start_time": "2022-08-21T23:23:46.721Z"
   },
   {
    "duration": 4,
    "start_time": "2022-08-21T23:23:47.621Z"
   },
   {
    "duration": 6,
    "start_time": "2022-08-21T23:23:48.181Z"
   },
   {
    "duration": 8,
    "start_time": "2022-08-21T23:23:57.261Z"
   },
   {
    "duration": 217,
    "start_time": "2022-08-21T23:36:45.885Z"
   },
   {
    "duration": 3,
    "start_time": "2022-08-21T23:37:24.963Z"
   },
   {
    "duration": 28,
    "start_time": "2022-08-21T23:37:27.881Z"
   },
   {
    "duration": 7,
    "start_time": "2022-08-21T23:37:28.710Z"
   },
   {
    "duration": 3,
    "start_time": "2022-08-21T23:37:29.562Z"
   },
   {
    "duration": 50,
    "start_time": "2022-08-21T23:37:31.781Z"
   },
   {
    "duration": 8,
    "start_time": "2022-08-21T23:37:32.461Z"
   },
   {
    "duration": 11,
    "start_time": "2022-08-21T23:37:33.241Z"
   },
   {
    "duration": 11,
    "start_time": "2022-08-21T23:37:34.124Z"
   },
   {
    "duration": 10,
    "start_time": "2022-08-21T23:37:52.761Z"
   },
   {
    "duration": 204,
    "start_time": "2022-08-21T23:38:29.861Z"
   },
   {
    "duration": 3,
    "start_time": "2022-08-21T23:38:51.041Z"
   },
   {
    "duration": 27,
    "start_time": "2022-08-21T23:38:51.549Z"
   },
   {
    "duration": 8,
    "start_time": "2022-08-21T23:38:52.030Z"
   },
   {
    "duration": 4,
    "start_time": "2022-08-21T23:38:52.662Z"
   },
   {
    "duration": 50,
    "start_time": "2022-08-21T23:38:53.901Z"
   },
   {
    "duration": 7,
    "start_time": "2022-08-21T23:38:54.969Z"
   },
   {
    "duration": 10,
    "start_time": "2022-08-21T23:38:55.682Z"
   },
   {
    "duration": 11,
    "start_time": "2022-08-21T23:38:56.481Z"
   },
   {
    "duration": 11,
    "start_time": "2022-08-21T23:38:57.922Z"
   },
   {
    "duration": 6,
    "start_time": "2022-08-21T23:38:59.101Z"
   },
   {
    "duration": 7,
    "start_time": "2022-08-21T23:39:00.142Z"
   },
   {
    "duration": 4,
    "start_time": "2022-08-21T23:39:01.262Z"
   },
   {
    "duration": 28,
    "start_time": "2022-08-21T23:39:02.566Z"
   },
   {
    "duration": 9,
    "start_time": "2022-08-21T23:39:04.181Z"
   },
   {
    "duration": 11,
    "start_time": "2022-08-21T23:39:05.245Z"
   },
   {
    "duration": 4,
    "start_time": "2022-08-21T23:39:13.061Z"
   },
   {
    "duration": 6,
    "start_time": "2022-08-21T23:39:16.182Z"
   },
   {
    "duration": 5,
    "start_time": "2022-08-21T23:39:17.203Z"
   },
   {
    "duration": 10,
    "start_time": "2022-08-21T23:39:19.326Z"
   },
   {
    "duration": 6,
    "start_time": "2022-08-21T23:39:20.180Z"
   },
   {
    "duration": 3,
    "start_time": "2022-08-21T23:39:20.781Z"
   },
   {
    "duration": 11,
    "start_time": "2022-08-21T23:39:21.609Z"
   },
   {
    "duration": 3,
    "start_time": "2022-08-21T23:39:22.696Z"
   },
   {
    "duration": 4,
    "start_time": "2022-08-21T23:39:23.211Z"
   },
   {
    "duration": 8,
    "start_time": "2022-08-21T23:39:23.861Z"
   },
   {
    "duration": 7,
    "start_time": "2022-08-21T23:43:26.361Z"
   },
   {
    "duration": 5,
    "start_time": "2022-08-21T23:43:37.142Z"
   },
   {
    "duration": 25,
    "start_time": "2022-08-21T23:43:38.442Z"
   },
   {
    "duration": 164,
    "start_time": "2022-08-21T23:45:27.122Z"
   },
   {
    "duration": 15,
    "start_time": "2022-08-21T23:45:35.822Z"
   },
   {
    "duration": 126,
    "start_time": "2022-08-21T23:46:19.581Z"
   },
   {
    "duration": 6,
    "start_time": "2022-08-21T23:46:38.142Z"
   },
   {
    "duration": 2,
    "start_time": "2022-08-21T23:46:39.395Z"
   },
   {
    "duration": 8,
    "start_time": "2022-08-21T23:46:46.301Z"
   },
   {
    "duration": 3,
    "start_time": "2022-08-21T23:50:30.206Z"
   },
   {
    "duration": 6,
    "start_time": "2022-08-21T23:50:32.686Z"
   },
   {
    "duration": 8,
    "start_time": "2022-08-21T23:50:33.950Z"
   },
   {
    "duration": 363,
    "start_time": "2022-08-21T23:51:16.441Z"
   },
   {
    "duration": 29,
    "start_time": "2022-08-21T23:51:17.481Z"
   },
   {
    "duration": 9,
    "start_time": "2022-08-21T23:51:18.181Z"
   },
   {
    "duration": 4,
    "start_time": "2022-08-21T23:51:19.246Z"
   },
   {
    "duration": 49,
    "start_time": "2022-08-21T23:51:20.901Z"
   },
   {
    "duration": 7,
    "start_time": "2022-08-21T23:51:21.742Z"
   },
   {
    "duration": 10,
    "start_time": "2022-08-21T23:51:25.709Z"
   },
   {
    "duration": 10,
    "start_time": "2022-08-21T23:51:26.261Z"
   },
   {
    "duration": 11,
    "start_time": "2022-08-21T23:51:26.806Z"
   },
   {
    "duration": 6,
    "start_time": "2022-08-21T23:51:27.780Z"
   },
   {
    "duration": 6,
    "start_time": "2022-08-21T23:51:29.138Z"
   },
   {
    "duration": 4,
    "start_time": "2022-08-21T23:51:30.061Z"
   },
   {
    "duration": 27,
    "start_time": "2022-08-21T23:51:30.989Z"
   },
   {
    "duration": 9,
    "start_time": "2022-08-21T23:51:31.421Z"
   },
   {
    "duration": 10,
    "start_time": "2022-08-21T23:51:31.961Z"
   },
   {
    "duration": 5,
    "start_time": "2022-08-21T23:51:32.608Z"
   },
   {
    "duration": 6,
    "start_time": "2022-08-21T23:51:33.576Z"
   },
   {
    "duration": 6,
    "start_time": "2022-08-21T23:51:34.321Z"
   },
   {
    "duration": 7,
    "start_time": "2022-08-21T23:51:36.001Z"
   },
   {
    "duration": 4,
    "start_time": "2022-08-21T23:51:36.478Z"
   },
   {
    "duration": 4,
    "start_time": "2022-08-21T23:51:36.941Z"
   },
   {
    "duration": 11,
    "start_time": "2022-08-21T23:51:37.362Z"
   },
   {
    "duration": 5,
    "start_time": "2022-08-21T23:51:38.441Z"
   },
   {
    "duration": 4,
    "start_time": "2022-08-21T23:51:39.324Z"
   },
   {
    "duration": 9,
    "start_time": "2022-08-21T23:51:39.846Z"
   },
   {
    "duration": 9,
    "start_time": "2022-08-21T23:51:43.821Z"
   },
   {
    "duration": 6,
    "start_time": "2022-08-21T23:51:45.101Z"
   },
   {
    "duration": 160,
    "start_time": "2022-08-21T23:51:45.749Z"
   },
   {
    "duration": 115,
    "start_time": "2022-08-21T23:51:46.330Z"
   },
   {
    "duration": 6,
    "start_time": "2022-08-21T23:51:47.101Z"
   },
   {
    "duration": 3,
    "start_time": "2022-08-21T23:51:47.961Z"
   },
   {
    "duration": 8,
    "start_time": "2022-08-21T23:51:59.261Z"
   },
   {
    "duration": 3,
    "start_time": "2022-08-21T23:52:00.301Z"
   },
   {
    "duration": 6,
    "start_time": "2022-08-21T23:52:01.601Z"
   },
   {
    "duration": 244,
    "start_time": "2022-08-21T23:52:02.780Z"
   },
   {
    "duration": 166,
    "start_time": "2022-08-21T23:52:07.004Z"
   },
   {
    "duration": 213,
    "start_time": "2022-08-21T23:52:34.461Z"
   },
   {
    "duration": 171,
    "start_time": "2022-08-21T23:54:58.202Z"
   },
   {
    "duration": 144,
    "start_time": "2022-08-21T23:55:21.461Z"
   },
   {
    "duration": 146,
    "start_time": "2022-08-21T23:57:12.541Z"
   },
   {
    "duration": 129,
    "start_time": "2022-08-21T23:57:26.541Z"
   },
   {
    "duration": 160,
    "start_time": "2022-08-21T23:57:56.981Z"
   },
   {
    "duration": 126,
    "start_time": "2022-08-21T23:59:34.118Z"
   },
   {
    "duration": 165,
    "start_time": "2022-08-22T00:01:00.508Z"
   },
   {
    "duration": 212,
    "start_time": "2022-08-22T00:02:05.500Z"
   },
   {
    "duration": 146,
    "start_time": "2022-08-22T00:02:50.902Z"
   },
   {
    "duration": 157,
    "start_time": "2022-08-22T00:03:02.057Z"
   },
   {
    "duration": 361,
    "start_time": "2022-08-22T00:03:39.875Z"
   },
   {
    "duration": 263,
    "start_time": "2022-08-22T00:03:48.702Z"
   },
   {
    "duration": 186,
    "start_time": "2022-08-22T00:04:20.966Z"
   },
   {
    "duration": 377,
    "start_time": "2022-08-22T00:09:09.581Z"
   },
   {
    "duration": 204,
    "start_time": "2022-08-22T00:09:31.982Z"
   },
   {
    "duration": 203,
    "start_time": "2022-08-22T00:09:41.661Z"
   },
   {
    "duration": 9,
    "start_time": "2022-08-22T00:11:32.761Z"
   },
   {
    "duration": 8,
    "start_time": "2022-08-22T00:12:01.901Z"
   },
   {
    "duration": 4,
    "start_time": "2022-08-22T00:15:38.373Z"
   },
   {
    "duration": 4,
    "start_time": "2022-08-22T00:15:39.093Z"
   },
   {
    "duration": 5,
    "start_time": "2022-08-22T00:15:40.100Z"
   },
   {
    "duration": 168,
    "start_time": "2022-08-22T00:15:41.582Z"
   },
   {
    "duration": 188,
    "start_time": "2022-08-22T00:16:03.413Z"
   },
   {
    "duration": 165,
    "start_time": "2022-08-22T00:17:30.213Z"
   },
   {
    "duration": 161,
    "start_time": "2022-08-22T00:17:43.446Z"
   },
   {
    "duration": 161,
    "start_time": "2022-08-22T00:17:50.300Z"
   },
   {
    "duration": 168,
    "start_time": "2022-08-22T00:18:03.039Z"
   },
   {
    "duration": 177,
    "start_time": "2022-08-22T00:18:09.381Z"
   },
   {
    "duration": 250,
    "start_time": "2022-08-22T00:18:18.543Z"
   },
   {
    "duration": 179,
    "start_time": "2022-08-22T00:18:29.681Z"
   },
   {
    "duration": 192,
    "start_time": "2022-08-22T00:18:47.509Z"
   },
   {
    "duration": 189,
    "start_time": "2022-08-22T00:19:02.181Z"
   },
   {
    "duration": 191,
    "start_time": "2022-08-22T00:19:09.894Z"
   },
   {
    "duration": 175,
    "start_time": "2022-08-22T00:19:19.581Z"
   },
   {
    "duration": 6919,
    "start_time": "2022-08-22T00:26:08.700Z"
   },
   {
    "duration": 8,
    "start_time": "2022-08-22T00:27:17.942Z"
   },
   {
    "duration": 21,
    "start_time": "2022-08-22T00:27:20.073Z"
   },
   {
    "duration": 11,
    "start_time": "2022-08-22T00:28:04.620Z"
   },
   {
    "duration": 305,
    "start_time": "2022-08-22T00:28:30.980Z"
   },
   {
    "duration": 54,
    "start_time": "2022-08-22T00:30:04.700Z"
   },
   {
    "duration": 289,
    "start_time": "2022-08-22T00:30:17.900Z"
   },
   {
    "duration": 303,
    "start_time": "2022-08-22T00:31:03.680Z"
   },
   {
    "duration": 306,
    "start_time": "2022-08-22T00:32:00.500Z"
   },
   {
    "duration": 168,
    "start_time": "2022-08-22T00:41:38.538Z"
   },
   {
    "duration": 8,
    "start_time": "2022-08-22T00:42:16.683Z"
   },
   {
    "duration": 12,
    "start_time": "2022-08-22T00:42:17.560Z"
   },
   {
    "duration": 8,
    "start_time": "2022-08-22T00:42:47.019Z"
   },
   {
    "duration": 9,
    "start_time": "2022-08-22T00:42:47.714Z"
   },
   {
    "duration": 200,
    "start_time": "2022-08-22T00:43:01.446Z"
   },
   {
    "duration": 272,
    "start_time": "2022-08-22T00:43:26.687Z"
   },
   {
    "duration": 191,
    "start_time": "2022-08-22T00:45:09.206Z"
   },
   {
    "duration": 286,
    "start_time": "2022-08-22T00:45:36.360Z"
   },
   {
    "duration": 284,
    "start_time": "2022-08-22T00:45:48.320Z"
   },
   {
    "duration": 8,
    "start_time": "2022-08-22T00:47:05.804Z"
   },
   {
    "duration": 12,
    "start_time": "2022-08-22T00:48:36.439Z"
   },
   {
    "duration": 11,
    "start_time": "2022-08-22T00:50:24.219Z"
   },
   {
    "duration": 11,
    "start_time": "2022-08-22T00:50:41.260Z"
   },
   {
    "duration": 11,
    "start_time": "2022-08-22T00:51:23.419Z"
   },
   {
    "duration": 104,
    "start_time": "2022-08-22T00:52:35.003Z"
   },
   {
    "duration": 131,
    "start_time": "2022-08-22T00:53:16.604Z"
   },
   {
    "duration": 146,
    "start_time": "2022-08-22T00:53:23.779Z"
   },
   {
    "duration": 6,
    "start_time": "2022-08-22T00:55:15.039Z"
   },
   {
    "duration": 7,
    "start_time": "2022-08-22T00:58:26.940Z"
   },
   {
    "duration": 9,
    "start_time": "2022-08-22T00:58:34.040Z"
   },
   {
    "duration": 12,
    "start_time": "2022-08-22T00:58:41.131Z"
   },
   {
    "duration": 119,
    "start_time": "2022-08-22T00:58:46.021Z"
   },
   {
    "duration": 159,
    "start_time": "2022-08-22T00:59:01.272Z"
   },
   {
    "duration": 4,
    "start_time": "2022-08-22T01:00:05.271Z"
   },
   {
    "duration": 138,
    "start_time": "2022-08-22T01:00:09.621Z"
   },
   {
    "duration": 5,
    "start_time": "2022-08-22T01:01:55.520Z"
   },
   {
    "duration": 9,
    "start_time": "2022-08-22T01:08:04.596Z"
   },
   {
    "duration": 168,
    "start_time": "2022-08-22T01:10:17.060Z"
   },
   {
    "duration": 60,
    "start_time": "2022-08-22T01:13:52.280Z"
   },
   {
    "duration": 72,
    "start_time": "2022-08-22T01:13:53.780Z"
   },
   {
    "duration": 9,
    "start_time": "2022-08-22T01:13:54.679Z"
   },
   {
    "duration": 74,
    "start_time": "2022-08-22T01:15:21.260Z"
   },
   {
    "duration": 8,
    "start_time": "2022-08-22T01:15:22.204Z"
   },
   {
    "duration": 65,
    "start_time": "2022-08-22T01:15:28.639Z"
   },
   {
    "duration": 72,
    "start_time": "2022-08-22T01:15:29.284Z"
   },
   {
    "duration": 10,
    "start_time": "2022-08-22T01:15:30.260Z"
   },
   {
    "duration": 72,
    "start_time": "2022-08-22T01:15:51.244Z"
   },
   {
    "duration": 9,
    "start_time": "2022-08-22T01:15:51.881Z"
   },
   {
    "duration": 8,
    "start_time": "2022-08-22T01:18:09.340Z"
   },
   {
    "duration": 10,
    "start_time": "2022-08-22T01:24:22.987Z"
   },
   {
    "duration": 13,
    "start_time": "2022-08-22T01:27:49.567Z"
   },
   {
    "duration": 13,
    "start_time": "2022-08-22T01:29:31.640Z"
   },
   {
    "duration": 13,
    "start_time": "2022-08-22T01:29:34.050Z"
   },
   {
    "duration": 11,
    "start_time": "2022-08-22T01:29:35.500Z"
   },
   {
    "duration": 11,
    "start_time": "2022-08-22T01:33:45.561Z"
   },
   {
    "duration": 8,
    "start_time": "2022-08-22T01:33:57.320Z"
   },
   {
    "duration": 4,
    "start_time": "2022-08-22T01:34:22.461Z"
   },
   {
    "duration": 13,
    "start_time": "2022-08-22T01:36:12.261Z"
   },
   {
    "duration": 16,
    "start_time": "2022-08-22T01:36:12.985Z"
   },
   {
    "duration": 59,
    "start_time": "2022-08-22T01:36:13.700Z"
   },
   {
    "duration": 21,
    "start_time": "2022-08-22T01:36:14.660Z"
   },
   {
    "duration": 5,
    "start_time": "2022-08-22T01:36:15.817Z"
   },
   {
    "duration": 5,
    "start_time": "2022-08-22T01:36:16.821Z"
   },
   {
    "duration": 44,
    "start_time": "2022-08-22T01:36:17.809Z"
   },
   {
    "duration": 18,
    "start_time": "2022-08-22T01:36:18.583Z"
   },
   {
    "duration": 14,
    "start_time": "2022-08-22T01:36:20.660Z"
   },
   {
    "duration": 21,
    "start_time": "2022-08-22T01:36:48.636Z"
   },
   {
    "duration": 45,
    "start_time": "2022-08-22T01:37:23.060Z"
   },
   {
    "duration": 15,
    "start_time": "2022-08-22T01:37:29.060Z"
   },
   {
    "duration": 19,
    "start_time": "2022-08-22T01:38:24.525Z"
   },
   {
    "duration": 15,
    "start_time": "2022-08-22T01:39:20.748Z"
   },
   {
    "duration": 13,
    "start_time": "2022-08-22T01:39:21.600Z"
   },
   {
    "duration": 47,
    "start_time": "2022-08-22T01:39:22.243Z"
   },
   {
    "duration": 21,
    "start_time": "2022-08-22T01:39:23.157Z"
   },
   {
    "duration": 5,
    "start_time": "2022-08-22T01:39:24.181Z"
   },
   {
    "duration": 5,
    "start_time": "2022-08-22T01:39:24.765Z"
   },
   {
    "duration": 46,
    "start_time": "2022-08-22T01:39:25.580Z"
   },
   {
    "duration": 47,
    "start_time": "2022-08-22T01:39:26.056Z"
   },
   {
    "duration": 15,
    "start_time": "2022-08-22T01:39:26.918Z"
   },
   {
    "duration": 16,
    "start_time": "2022-08-22T01:40:42.940Z"
   },
   {
    "duration": 52,
    "start_time": "2022-08-22T01:40:43.747Z"
   },
   {
    "duration": 51,
    "start_time": "2022-08-22T01:40:44.471Z"
   },
   {
    "duration": 5,
    "start_time": "2022-08-22T01:40:45.368Z"
   },
   {
    "duration": 6,
    "start_time": "2022-08-22T01:40:45.840Z"
   },
   {
    "duration": 45,
    "start_time": "2022-08-22T01:40:46.247Z"
   },
   {
    "duration": 47,
    "start_time": "2022-08-22T01:40:46.696Z"
   },
   {
    "duration": 24,
    "start_time": "2022-08-22T01:40:47.379Z"
   },
   {
    "duration": 14,
    "start_time": "2022-08-22T01:40:48.318Z"
   },
   {
    "duration": 10,
    "start_time": "2022-08-22T01:40:56.669Z"
   },
   {
    "duration": 17,
    "start_time": "2022-08-22T01:42:49.035Z"
   },
   {
    "duration": 8,
    "start_time": "2022-08-22T01:43:14.455Z"
   },
   {
    "duration": 132,
    "start_time": "2022-08-22T01:43:55.901Z"
   },
   {
    "duration": 463,
    "start_time": "2022-08-22T01:44:32.540Z"
   },
   {
    "duration": 28,
    "start_time": "2022-08-22T01:44:34.920Z"
   },
   {
    "duration": 9,
    "start_time": "2022-08-22T01:44:35.460Z"
   },
   {
    "duration": 3,
    "start_time": "2022-08-22T01:44:35.861Z"
   },
   {
    "duration": 49,
    "start_time": "2022-08-22T01:44:36.241Z"
   },
   {
    "duration": 8,
    "start_time": "2022-08-22T01:44:36.392Z"
   },
   {
    "duration": 10,
    "start_time": "2022-08-22T01:44:36.581Z"
   },
   {
    "duration": 10,
    "start_time": "2022-08-22T01:44:36.728Z"
   },
   {
    "duration": 10,
    "start_time": "2022-08-22T01:44:36.941Z"
   },
   {
    "duration": 6,
    "start_time": "2022-08-22T01:44:37.268Z"
   },
   {
    "duration": 6,
    "start_time": "2022-08-22T01:44:37.669Z"
   },
   {
    "duration": 4,
    "start_time": "2022-08-22T01:44:38.020Z"
   },
   {
    "duration": 28,
    "start_time": "2022-08-22T01:44:38.348Z"
   },
   {
    "duration": 7,
    "start_time": "2022-08-22T01:44:38.526Z"
   },
   {
    "duration": 10,
    "start_time": "2022-08-22T01:44:38.688Z"
   },
   {
    "duration": 4,
    "start_time": "2022-08-22T01:44:38.899Z"
   },
   {
    "duration": 6,
    "start_time": "2022-08-22T01:44:39.284Z"
   },
   {
    "duration": 6,
    "start_time": "2022-08-22T01:44:40.048Z"
   },
   {
    "duration": 9,
    "start_time": "2022-08-22T01:44:41.120Z"
   },
   {
    "duration": 5,
    "start_time": "2022-08-22T01:44:41.298Z"
   },
   {
    "duration": 4,
    "start_time": "2022-08-22T01:44:41.501Z"
   },
   {
    "duration": 10,
    "start_time": "2022-08-22T01:44:41.720Z"
   },
   {
    "duration": 5,
    "start_time": "2022-08-22T01:44:42.320Z"
   },
   {
    "duration": 5,
    "start_time": "2022-08-22T01:44:42.640Z"
   },
   {
    "duration": 9,
    "start_time": "2022-08-22T01:44:42.941Z"
   },
   {
    "duration": 8,
    "start_time": "2022-08-22T01:44:44.341Z"
   },
   {
    "duration": 6,
    "start_time": "2022-08-22T01:44:44.683Z"
   },
   {
    "duration": 174,
    "start_time": "2022-08-22T01:44:45.061Z"
   },
   {
    "duration": 126,
    "start_time": "2022-08-22T01:44:45.390Z"
   },
   {
    "duration": 6,
    "start_time": "2022-08-22T01:44:45.728Z"
   },
   {
    "duration": 11,
    "start_time": "2022-08-22T01:44:46.101Z"
   },
   {
    "duration": 4,
    "start_time": "2022-08-22T01:44:46.420Z"
   },
   {
    "duration": 8,
    "start_time": "2022-08-22T01:44:46.740Z"
   },
   {
    "duration": 224,
    "start_time": "2022-08-22T01:44:47.047Z"
   },
   {
    "duration": 213,
    "start_time": "2022-08-22T01:44:48.500Z"
   },
   {
    "duration": 305,
    "start_time": "2022-08-22T01:44:49.820Z"
   },
   {
    "duration": 6,
    "start_time": "2022-08-22T01:44:51.200Z"
   },
   {
    "duration": 3,
    "start_time": "2022-08-22T01:44:51.621Z"
   },
   {
    "duration": 3,
    "start_time": "2022-08-22T01:44:52.021Z"
   },
   {
    "duration": 185,
    "start_time": "2022-08-22T01:44:52.381Z"
   },
   {
    "duration": 9,
    "start_time": "2022-08-22T01:44:53.900Z"
   },
   {
    "duration": 8,
    "start_time": "2022-08-22T01:44:56.719Z"
   },
   {
    "duration": 183,
    "start_time": "2022-08-22T01:44:57.255Z"
   },
   {
    "duration": 9,
    "start_time": "2022-08-22T01:44:59.360Z"
   },
   {
    "duration": 11,
    "start_time": "2022-08-22T01:44:59.941Z"
   },
   {
    "duration": 161,
    "start_time": "2022-08-22T01:45:00.700Z"
   },
   {
    "duration": 5,
    "start_time": "2022-08-22T01:45:02.960Z"
   },
   {
    "duration": 9,
    "start_time": "2022-08-22T01:45:04.548Z"
   },
   {
    "duration": 154,
    "start_time": "2022-08-22T01:45:05.222Z"
   },
   {
    "duration": 5,
    "start_time": "2022-08-22T01:45:07.881Z"
   },
   {
    "duration": 16,
    "start_time": "2022-08-22T01:45:10.231Z"
   },
   {
    "duration": 15,
    "start_time": "2022-08-22T01:45:10.840Z"
   },
   {
    "duration": 51,
    "start_time": "2022-08-22T01:45:11.620Z"
   },
   {
    "duration": 52,
    "start_time": "2022-08-22T01:45:12.243Z"
   },
   {
    "duration": 5,
    "start_time": "2022-08-22T01:45:12.749Z"
   },
   {
    "duration": 6,
    "start_time": "2022-08-22T01:45:13.248Z"
   },
   {
    "duration": 56,
    "start_time": "2022-08-22T01:45:13.879Z"
   },
   {
    "duration": 45,
    "start_time": "2022-08-22T01:45:14.370Z"
   },
   {
    "duration": 19,
    "start_time": "2022-08-22T01:45:14.910Z"
   },
   {
    "duration": 11,
    "start_time": "2022-08-22T01:45:15.581Z"
   },
   {
    "duration": 9,
    "start_time": "2022-08-22T01:45:16.076Z"
   },
   {
    "duration": 139,
    "start_time": "2022-08-22T01:45:16.781Z"
   },
   {
    "duration": 21,
    "start_time": "2022-08-22T01:45:23.329Z"
   },
   {
    "duration": 59,
    "start_time": "2022-08-22T01:47:40.440Z"
   },
   {
    "duration": 74,
    "start_time": "2022-08-22T01:47:41.125Z"
   },
   {
    "duration": 4,
    "start_time": "2022-08-22T01:47:41.842Z"
   },
   {
    "duration": 4,
    "start_time": "2022-08-22T01:47:42.681Z"
   },
   {
    "duration": 5,
    "start_time": "2022-08-22T01:47:43.525Z"
   },
   {
    "duration": 4,
    "start_time": "2022-08-22T01:47:44.241Z"
   },
   {
    "duration": 20,
    "start_time": "2022-08-22T01:47:45.021Z"
   },
   {
    "duration": 9,
    "start_time": "2022-08-22T01:49:16.243Z"
   },
   {
    "duration": 914,
    "start_time": "2022-08-22T01:51:48.044Z"
   },
   {
    "duration": 766,
    "start_time": "2022-08-22T01:53:29.381Z"
   },
   {
    "duration": 726,
    "start_time": "2022-08-22T01:53:50.461Z"
   },
   {
    "duration": 774,
    "start_time": "2022-08-22T01:54:08.860Z"
   },
   {
    "duration": 8,
    "start_time": "2022-08-22T01:57:48.181Z"
   },
   {
    "duration": 116,
    "start_time": "2022-08-22T01:58:02.561Z"
   },
   {
    "duration": 766,
    "start_time": "2022-08-22T01:58:03.846Z"
   },
   {
    "duration": 122,
    "start_time": "2022-08-22T01:59:11.260Z"
   },
   {
    "duration": 911,
    "start_time": "2022-08-22T01:59:12.001Z"
   },
   {
    "duration": 121,
    "start_time": "2022-08-22T01:59:43.166Z"
   },
   {
    "duration": 10,
    "start_time": "2022-08-22T01:59:56.520Z"
   },
   {
    "duration": 9,
    "start_time": "2022-08-22T02:00:05.481Z"
   },
   {
    "duration": 8,
    "start_time": "2022-08-22T02:00:22.061Z"
   },
   {
    "duration": 5,
    "start_time": "2022-08-22T02:00:22.769Z"
   },
   {
    "duration": 1173,
    "start_time": "2022-08-22T02:03:36.240Z"
   },
   {
    "duration": 24,
    "start_time": "2022-08-22T02:04:01.620Z"
   },
   {
    "duration": 24,
    "start_time": "2022-08-22T02:04:29.755Z"
   },
   {
    "duration": 26,
    "start_time": "2022-08-22T02:04:35.960Z"
   },
   {
    "duration": 24,
    "start_time": "2022-08-22T02:04:42.300Z"
   },
   {
    "duration": 13,
    "start_time": "2022-08-22T02:06:32.610Z"
   },
   {
    "duration": 59,
    "start_time": "2022-08-22T20:59:17.209Z"
   },
   {
    "duration": 1218,
    "start_time": "2022-08-22T21:03:01.306Z"
   },
   {
    "duration": 66,
    "start_time": "2022-08-22T21:03:02.526Z"
   },
   {
    "duration": 12,
    "start_time": "2022-08-22T21:03:02.594Z"
   },
   {
    "duration": 9,
    "start_time": "2022-08-22T21:03:02.607Z"
   },
   {
    "duration": 96,
    "start_time": "2022-08-22T21:03:02.618Z"
   },
   {
    "duration": 9,
    "start_time": "2022-08-22T21:03:02.716Z"
   },
   {
    "duration": 14,
    "start_time": "2022-08-22T21:03:02.727Z"
   },
   {
    "duration": 24,
    "start_time": "2022-08-22T21:03:02.742Z"
   },
   {
    "duration": 28,
    "start_time": "2022-08-22T21:03:02.768Z"
   },
   {
    "duration": 14,
    "start_time": "2022-08-22T21:03:02.798Z"
   },
   {
    "duration": 22,
    "start_time": "2022-08-22T21:03:02.814Z"
   },
   {
    "duration": 10,
    "start_time": "2022-08-22T21:03:02.837Z"
   },
   {
    "duration": 71,
    "start_time": "2022-08-22T21:03:02.848Z"
   },
   {
    "duration": 8,
    "start_time": "2022-08-22T21:03:02.922Z"
   },
   {
    "duration": 13,
    "start_time": "2022-08-22T21:03:02.932Z"
   },
   {
    "duration": 14,
    "start_time": "2022-08-22T21:03:02.946Z"
   },
   {
    "duration": 10,
    "start_time": "2022-08-22T21:03:02.961Z"
   },
   {
    "duration": 9,
    "start_time": "2022-08-22T21:03:02.972Z"
   },
   {
    "duration": 13,
    "start_time": "2022-08-22T21:03:02.982Z"
   },
   {
    "duration": 8,
    "start_time": "2022-08-22T21:03:02.996Z"
   },
   {
    "duration": 9,
    "start_time": "2022-08-22T21:03:03.006Z"
   },
   {
    "duration": 16,
    "start_time": "2022-08-22T21:03:03.017Z"
   },
   {
    "duration": 6,
    "start_time": "2022-08-22T21:03:03.034Z"
   },
   {
    "duration": 8,
    "start_time": "2022-08-22T21:03:03.041Z"
   },
   {
    "duration": 9,
    "start_time": "2022-08-22T21:03:03.056Z"
   },
   {
    "duration": 26,
    "start_time": "2022-08-22T21:03:03.066Z"
   },
   {
    "duration": 14,
    "start_time": "2022-08-22T21:03:03.093Z"
   },
   {
    "duration": 169,
    "start_time": "2022-08-22T21:03:03.109Z"
   },
   {
    "duration": 123,
    "start_time": "2022-08-22T21:03:03.279Z"
   },
   {
    "duration": 10,
    "start_time": "2022-08-22T21:03:03.403Z"
   },
   {
    "duration": 12,
    "start_time": "2022-08-22T21:03:03.415Z"
   },
   {
    "duration": 12,
    "start_time": "2022-08-22T21:03:03.429Z"
   },
   {
    "duration": 17,
    "start_time": "2022-08-22T21:03:03.443Z"
   },
   {
    "duration": 310,
    "start_time": "2022-08-22T21:03:03.462Z"
   },
   {
    "duration": 221,
    "start_time": "2022-08-22T21:03:03.773Z"
   },
   {
    "duration": 341,
    "start_time": "2022-08-22T21:03:03.995Z"
   },
   {
    "duration": 4,
    "start_time": "2022-08-22T21:03:04.338Z"
   },
   {
    "duration": 16,
    "start_time": "2022-08-22T21:03:04.343Z"
   },
   {
    "duration": 5,
    "start_time": "2022-08-22T21:03:04.361Z"
   },
   {
    "duration": 222,
    "start_time": "2022-08-22T21:03:04.367Z"
   },
   {
    "duration": 8,
    "start_time": "2022-08-22T21:03:04.593Z"
   },
   {
    "duration": 13,
    "start_time": "2022-08-22T21:03:04.602Z"
   },
   {
    "duration": 227,
    "start_time": "2022-08-22T21:03:04.617Z"
   },
   {
    "duration": 13,
    "start_time": "2022-08-22T21:03:04.846Z"
   },
   {
    "duration": 18,
    "start_time": "2022-08-22T21:03:04.861Z"
   },
   {
    "duration": 176,
    "start_time": "2022-08-22T21:03:04.881Z"
   },
   {
    "duration": 5,
    "start_time": "2022-08-22T21:03:05.059Z"
   },
   {
    "duration": 17,
    "start_time": "2022-08-22T21:03:05.065Z"
   },
   {
    "duration": 220,
    "start_time": "2022-08-22T21:03:05.084Z"
   },
   {
    "duration": 5,
    "start_time": "2022-08-22T21:03:05.306Z"
   },
   {
    "duration": 28,
    "start_time": "2022-08-22T21:03:05.313Z"
   },
   {
    "duration": 25,
    "start_time": "2022-08-22T21:03:05.343Z"
   },
   {
    "duration": 79,
    "start_time": "2022-08-22T21:03:05.370Z"
   },
   {
    "duration": 84,
    "start_time": "2022-08-22T21:03:05.452Z"
   },
   {
    "duration": 6,
    "start_time": "2022-08-22T21:03:05.539Z"
   },
   {
    "duration": 12,
    "start_time": "2022-08-22T21:03:05.547Z"
   },
   {
    "duration": 59,
    "start_time": "2022-08-22T21:03:05.561Z"
   },
   {
    "duration": 53,
    "start_time": "2022-08-22T21:03:05.622Z"
   },
   {
    "duration": 23,
    "start_time": "2022-08-22T21:03:05.677Z"
   },
   {
    "duration": 85,
    "start_time": "2022-08-22T21:03:05.703Z"
   },
   {
    "duration": 79,
    "start_time": "2022-08-22T21:03:05.790Z"
   },
   {
    "duration": 4,
    "start_time": "2022-08-22T21:03:05.871Z"
   },
   {
    "duration": 7,
    "start_time": "2022-08-22T21:03:05.876Z"
   },
   {
    "duration": 5,
    "start_time": "2022-08-22T21:03:05.885Z"
   },
   {
    "duration": 12,
    "start_time": "2022-08-22T21:03:05.891Z"
   },
   {
    "duration": 25,
    "start_time": "2022-08-22T21:03:05.904Z"
   },
   {
    "duration": 10,
    "start_time": "2022-08-22T21:03:05.931Z"
   },
   {
    "duration": 8,
    "start_time": "2022-08-22T21:03:05.958Z"
   },
   {
    "duration": 148,
    "start_time": "2022-08-22T21:03:05.968Z"
   },
   {
    "duration": 8,
    "start_time": "2022-08-22T21:03:06.117Z"
   },
   {
    "duration": 11,
    "start_time": "2022-08-22T21:03:06.127Z"
   },
   {
    "duration": 36,
    "start_time": "2022-08-22T21:03:06.141Z"
   },
   {
    "duration": 12,
    "start_time": "2022-08-22T21:03:06.179Z"
   },
   {
    "duration": 203,
    "start_time": "2022-08-22T21:09:57.636Z"
   },
   {
    "duration": 279,
    "start_time": "2022-08-22T21:27:15.836Z"
   },
   {
    "duration": 153,
    "start_time": "2022-08-22T21:37:17.174Z"
   },
   {
    "duration": 159,
    "start_time": "2022-08-22T21:37:28.923Z"
   },
   {
    "duration": 161,
    "start_time": "2022-08-22T22:03:04.012Z"
   },
   {
    "duration": 152,
    "start_time": "2022-08-22T22:03:11.534Z"
   },
   {
    "duration": 9,
    "start_time": "2022-08-22T22:23:29.956Z"
   },
   {
    "duration": 21,
    "start_time": "2022-08-22T22:23:31.052Z"
   },
   {
    "duration": 135,
    "start_time": "2022-08-22T22:28:28.991Z"
   },
   {
    "duration": 9,
    "start_time": "2022-08-22T22:28:29.491Z"
   },
   {
    "duration": 6,
    "start_time": "2022-08-22T22:28:30.764Z"
   },
   {
    "duration": 8,
    "start_time": "2022-08-22T22:28:34.251Z"
   },
   {
    "duration": 22,
    "start_time": "2022-08-22T22:28:34.791Z"
   },
   {
    "duration": 12,
    "start_time": "2022-08-22T22:28:58.259Z"
   },
   {
    "duration": 998,
    "start_time": "2022-08-22T22:51:45.115Z"
   },
   {
    "duration": 32,
    "start_time": "2022-08-22T22:51:46.115Z"
   },
   {
    "duration": 10,
    "start_time": "2022-08-22T22:51:46.148Z"
   },
   {
    "duration": 4,
    "start_time": "2022-08-22T22:51:46.159Z"
   },
   {
    "duration": 46,
    "start_time": "2022-08-22T22:51:46.164Z"
   },
   {
    "duration": 8,
    "start_time": "2022-08-22T22:51:46.211Z"
   },
   {
    "duration": 11,
    "start_time": "2022-08-22T22:51:46.221Z"
   },
   {
    "duration": 18,
    "start_time": "2022-08-22T22:51:46.233Z"
   },
   {
    "duration": 10,
    "start_time": "2022-08-22T22:51:46.252Z"
   },
   {
    "duration": 5,
    "start_time": "2022-08-22T22:51:46.265Z"
   },
   {
    "duration": 5,
    "start_time": "2022-08-22T22:51:46.271Z"
   },
   {
    "duration": 3,
    "start_time": "2022-08-22T22:51:46.278Z"
   },
   {
    "duration": 20,
    "start_time": "2022-08-22T22:51:46.282Z"
   },
   {
    "duration": 5,
    "start_time": "2022-08-22T22:51:46.304Z"
   },
   {
    "duration": 12,
    "start_time": "2022-08-22T22:51:46.311Z"
   },
   {
    "duration": 4,
    "start_time": "2022-08-22T22:51:46.325Z"
   },
   {
    "duration": 7,
    "start_time": "2022-08-22T22:51:46.330Z"
   },
   {
    "duration": 20,
    "start_time": "2022-08-22T22:51:46.338Z"
   },
   {
    "duration": 10,
    "start_time": "2022-08-22T22:51:46.360Z"
   },
   {
    "duration": 10,
    "start_time": "2022-08-22T22:51:46.371Z"
   },
   {
    "duration": 10,
    "start_time": "2022-08-22T22:51:46.383Z"
   },
   {
    "duration": 24,
    "start_time": "2022-08-22T22:51:46.394Z"
   },
   {
    "duration": 10,
    "start_time": "2022-08-22T22:51:46.420Z"
   },
   {
    "duration": 7,
    "start_time": "2022-08-22T22:51:46.431Z"
   },
   {
    "duration": 11,
    "start_time": "2022-08-22T22:51:46.440Z"
   },
   {
    "duration": 9,
    "start_time": "2022-08-22T22:51:46.452Z"
   },
   {
    "duration": 9,
    "start_time": "2022-08-22T22:51:46.462Z"
   },
   {
    "duration": 172,
    "start_time": "2022-08-22T22:51:46.474Z"
   },
   {
    "duration": 119,
    "start_time": "2022-08-22T22:51:46.647Z"
   },
   {
    "duration": 6,
    "start_time": "2022-08-22T22:51:46.768Z"
   },
   {
    "duration": 9,
    "start_time": "2022-08-22T22:51:46.775Z"
   },
   {
    "duration": 4,
    "start_time": "2022-08-22T22:51:46.785Z"
   },
   {
    "duration": 8,
    "start_time": "2022-08-22T22:51:46.790Z"
   },
   {
    "duration": 291,
    "start_time": "2022-08-22T22:51:46.799Z"
   },
   {
    "duration": 218,
    "start_time": "2022-08-22T22:51:47.092Z"
   },
   {
    "duration": 278,
    "start_time": "2022-08-22T22:51:47.312Z"
   },
   {
    "duration": 4,
    "start_time": "2022-08-22T22:51:47.592Z"
   },
   {
    "duration": 6,
    "start_time": "2022-08-22T22:51:47.598Z"
   },
   {
    "duration": 6,
    "start_time": "2022-08-22T22:51:47.605Z"
   },
   {
    "duration": 200,
    "start_time": "2022-08-22T22:51:47.612Z"
   },
   {
    "duration": 8,
    "start_time": "2022-08-22T22:51:47.814Z"
   },
   {
    "duration": 12,
    "start_time": "2022-08-22T22:51:47.824Z"
   },
   {
    "duration": 202,
    "start_time": "2022-08-22T22:51:47.837Z"
   },
   {
    "duration": 7,
    "start_time": "2022-08-22T22:51:48.041Z"
   },
   {
    "duration": 20,
    "start_time": "2022-08-22T22:51:48.049Z"
   },
   {
    "duration": 149,
    "start_time": "2022-08-22T22:51:48.071Z"
   },
   {
    "duration": 4,
    "start_time": "2022-08-22T22:51:48.222Z"
   },
   {
    "duration": 12,
    "start_time": "2022-08-22T22:51:48.227Z"
   },
   {
    "duration": 182,
    "start_time": "2022-08-22T22:51:48.240Z"
   },
   {
    "duration": 4,
    "start_time": "2022-08-22T22:51:48.424Z"
   },
   {
    "duration": 13,
    "start_time": "2022-08-22T22:51:48.429Z"
   },
   {
    "duration": 23,
    "start_time": "2022-08-22T22:51:48.444Z"
   },
   {
    "duration": 46,
    "start_time": "2022-08-22T22:51:48.468Z"
   },
   {
    "duration": 58,
    "start_time": "2022-08-22T22:51:48.515Z"
   },
   {
    "duration": 6,
    "start_time": "2022-08-22T22:51:48.574Z"
   },
   {
    "duration": 6,
    "start_time": "2022-08-22T22:51:48.581Z"
   },
   {
    "duration": 41,
    "start_time": "2022-08-22T22:51:48.588Z"
   },
   {
    "duration": 51,
    "start_time": "2022-08-22T22:51:48.631Z"
   },
   {
    "duration": 23,
    "start_time": "2022-08-22T22:51:48.683Z"
   },
   {
    "duration": 70,
    "start_time": "2022-08-22T22:51:48.707Z"
   },
   {
    "duration": 80,
    "start_time": "2022-08-22T22:51:48.778Z"
   },
   {
    "duration": 4,
    "start_time": "2022-08-22T22:51:48.859Z"
   },
   {
    "duration": 10,
    "start_time": "2022-08-22T22:51:48.865Z"
   },
   {
    "duration": 5,
    "start_time": "2022-08-22T22:51:48.877Z"
   },
   {
    "duration": 5,
    "start_time": "2022-08-22T22:51:48.884Z"
   },
   {
    "duration": 19,
    "start_time": "2022-08-22T22:51:48.891Z"
   },
   {
    "duration": 9,
    "start_time": "2022-08-22T22:51:48.912Z"
   },
   {
    "duration": 8,
    "start_time": "2022-08-22T22:51:48.922Z"
   },
   {
    "duration": 158,
    "start_time": "2022-08-22T22:51:48.931Z"
   },
   {
    "duration": 8,
    "start_time": "2022-08-22T22:51:49.090Z"
   },
   {
    "duration": 8,
    "start_time": "2022-08-22T22:51:49.099Z"
   },
   {
    "duration": 13,
    "start_time": "2022-08-22T22:51:49.108Z"
   },
   {
    "duration": 29,
    "start_time": "2022-08-22T22:51:49.122Z"
   },
   {
    "duration": 13,
    "start_time": "2022-08-22T22:51:49.153Z"
   },
   {
    "duration": 1191,
    "start_time": "2022-08-23T18:55:24.925Z"
   },
   {
    "duration": 63,
    "start_time": "2022-08-23T18:55:27.796Z"
   },
   {
    "duration": 11,
    "start_time": "2022-08-23T18:55:29.517Z"
   },
   {
    "duration": 95,
    "start_time": "2022-08-23T18:57:28.357Z"
   },
   {
    "duration": 3,
    "start_time": "2022-08-23T18:57:39.397Z"
   },
   {
    "duration": 98,
    "start_time": "2022-08-23T18:57:41.237Z"
   },
   {
    "duration": 8,
    "start_time": "2022-08-23T18:57:42.077Z"
   },
   {
    "duration": 11,
    "start_time": "2022-08-23T18:57:42.757Z"
   },
   {
    "duration": 12,
    "start_time": "2022-08-23T18:57:43.757Z"
   },
   {
    "duration": 10,
    "start_time": "2022-08-23T18:57:44.317Z"
   },
   {
    "duration": 6,
    "start_time": "2022-08-23T18:57:46.876Z"
   },
   {
    "duration": 4,
    "start_time": "2022-08-23T18:57:52.717Z"
   },
   {
    "duration": 4,
    "start_time": "2022-08-23T18:58:22.045Z"
   },
   {
    "duration": 8,
    "start_time": "2022-08-23T18:58:52.717Z"
   },
   {
    "duration": 6,
    "start_time": "2022-08-23T18:59:39.922Z"
   },
   {
    "duration": 8,
    "start_time": "2022-08-23T19:02:03.597Z"
   },
   {
    "duration": 66,
    "start_time": "2022-08-23T19:02:08.872Z"
   },
   {
    "duration": 7,
    "start_time": "2022-08-23T19:02:09.485Z"
   },
   {
    "duration": 11,
    "start_time": "2022-08-23T19:02:10.126Z"
   },
   {
    "duration": 4,
    "start_time": "2022-08-23T19:02:10.678Z"
   },
   {
    "duration": 5,
    "start_time": "2022-08-23T19:02:12.285Z"
   },
   {
    "duration": 7,
    "start_time": "2022-08-23T19:02:13.644Z"
   },
   {
    "duration": 5,
    "start_time": "2022-08-23T19:02:15.005Z"
   },
   {
    "duration": 12,
    "start_time": "2022-08-23T19:02:17.437Z"
   },
   {
    "duration": 6,
    "start_time": "2022-08-23T19:03:13.000Z"
   },
   {
    "duration": 5,
    "start_time": "2022-08-23T19:04:00.873Z"
   },
   {
    "duration": 4,
    "start_time": "2022-08-23T19:04:17.325Z"
   },
   {
    "duration": 5,
    "start_time": "2022-08-23T19:05:34.718Z"
   },
   {
    "duration": 4,
    "start_time": "2022-08-23T19:05:35.357Z"
   },
   {
    "duration": 46,
    "start_time": "2022-08-23T19:18:36.839Z"
   },
   {
    "duration": 6,
    "start_time": "2022-08-23T19:19:52.239Z"
   },
   {
    "duration": 76,
    "start_time": "2022-08-23T19:20:05.559Z"
   },
   {
    "duration": 91,
    "start_time": "2022-08-23T19:22:34.484Z"
   },
   {
    "duration": 48,
    "start_time": "2022-08-23T19:22:41.839Z"
   },
   {
    "duration": 3,
    "start_time": "2022-08-23T19:23:01.600Z"
   },
   {
    "duration": 4,
    "start_time": "2022-08-23T19:23:13.092Z"
   },
   {
    "duration": 45,
    "start_time": "2022-08-23T19:24:10.239Z"
   },
   {
    "duration": 48,
    "start_time": "2022-08-23T19:24:14.079Z"
   },
   {
    "duration": 3,
    "start_time": "2022-08-23T19:24:21.159Z"
   },
   {
    "duration": 3,
    "start_time": "2022-08-23T19:24:34.359Z"
   },
   {
    "duration": 1028,
    "start_time": "2022-08-23T19:24:42.281Z"
   },
   {
    "duration": 28,
    "start_time": "2022-08-23T19:24:43.310Z"
   },
   {
    "duration": 12,
    "start_time": "2022-08-23T19:24:43.339Z"
   },
   {
    "duration": 3,
    "start_time": "2022-08-23T19:24:43.352Z"
   },
   {
    "duration": 63,
    "start_time": "2022-08-23T19:24:43.357Z"
   },
   {
    "duration": 11,
    "start_time": "2022-08-23T19:24:43.422Z"
   },
   {
    "duration": 12,
    "start_time": "2022-08-23T19:24:43.435Z"
   },
   {
    "duration": 22,
    "start_time": "2022-08-23T19:24:43.449Z"
   },
   {
    "duration": 12,
    "start_time": "2022-08-23T19:24:43.473Z"
   },
   {
    "duration": 10,
    "start_time": "2022-08-23T19:24:43.487Z"
   },
   {
    "duration": 7,
    "start_time": "2022-08-23T19:24:43.499Z"
   },
   {
    "duration": 10,
    "start_time": "2022-08-23T19:24:43.507Z"
   },
   {
    "duration": 4,
    "start_time": "2022-08-23T19:24:43.518Z"
   },
   {
    "duration": 9,
    "start_time": "2022-08-23T19:24:43.525Z"
   },
   {
    "duration": 82,
    "start_time": "2022-08-23T19:24:43.536Z"
   },
   {
    "duration": 3,
    "start_time": "2022-08-23T19:24:43.619Z"
   },
   {
    "duration": 8,
    "start_time": "2022-08-23T19:24:43.623Z"
   },
   {
    "duration": 4,
    "start_time": "2022-08-23T19:24:43.632Z"
   },
   {
    "duration": 19,
    "start_time": "2022-08-23T19:24:43.638Z"
   },
   {
    "duration": 7,
    "start_time": "2022-08-23T19:24:43.658Z"
   },
   {
    "duration": 11,
    "start_time": "2022-08-23T19:24:43.666Z"
   },
   {
    "duration": 19,
    "start_time": "2022-08-23T19:24:43.679Z"
   },
   {
    "duration": 7,
    "start_time": "2022-08-23T19:24:43.700Z"
   },
   {
    "duration": 6,
    "start_time": "2022-08-23T19:24:43.709Z"
   },
   {
    "duration": 9,
    "start_time": "2022-08-23T19:24:43.716Z"
   },
   {
    "duration": 7,
    "start_time": "2022-08-23T19:24:43.727Z"
   },
   {
    "duration": 6,
    "start_time": "2022-08-23T19:24:43.735Z"
   },
   {
    "duration": 12,
    "start_time": "2022-08-23T19:24:43.742Z"
   },
   {
    "duration": 9,
    "start_time": "2022-08-23T19:24:43.756Z"
   },
   {
    "duration": 34,
    "start_time": "2022-08-23T19:24:43.766Z"
   },
   {
    "duration": 14,
    "start_time": "2022-08-23T19:24:43.801Z"
   },
   {
    "duration": 10,
    "start_time": "2022-08-23T19:24:43.817Z"
   },
   {
    "duration": 4,
    "start_time": "2022-08-23T19:24:43.829Z"
   },
   {
    "duration": 10,
    "start_time": "2022-08-23T19:24:43.834Z"
   },
   {
    "duration": 8,
    "start_time": "2022-08-23T19:24:43.845Z"
   },
   {
    "duration": 18,
    "start_time": "2022-08-23T19:24:43.855Z"
   },
   {
    "duration": 184,
    "start_time": "2022-08-23T19:24:43.874Z"
   },
   {
    "duration": 122,
    "start_time": "2022-08-23T19:24:44.060Z"
   },
   {
    "duration": 15,
    "start_time": "2022-08-23T19:24:44.183Z"
   },
   {
    "duration": 8,
    "start_time": "2022-08-23T19:24:44.200Z"
   },
   {
    "duration": 11,
    "start_time": "2022-08-23T19:24:44.212Z"
   },
   {
    "duration": 11,
    "start_time": "2022-08-23T19:24:44.224Z"
   },
   {
    "duration": 331,
    "start_time": "2022-08-23T19:24:44.236Z"
   },
   {
    "duration": 220,
    "start_time": "2022-08-23T19:24:44.569Z"
   },
   {
    "duration": 330,
    "start_time": "2022-08-23T19:24:44.791Z"
   },
   {
    "duration": 4,
    "start_time": "2022-08-23T19:24:45.123Z"
   },
   {
    "duration": 12,
    "start_time": "2022-08-23T19:24:45.128Z"
   },
   {
    "duration": 5,
    "start_time": "2022-08-23T19:24:45.141Z"
   },
   {
    "duration": 253,
    "start_time": "2022-08-23T19:24:45.147Z"
   },
   {
    "duration": 21,
    "start_time": "2022-08-23T19:24:45.401Z"
   },
   {
    "duration": 11,
    "start_time": "2022-08-23T19:24:45.424Z"
   },
   {
    "duration": 210,
    "start_time": "2022-08-23T19:24:45.437Z"
   },
   {
    "duration": 8,
    "start_time": "2022-08-23T19:24:45.649Z"
   },
   {
    "duration": 16,
    "start_time": "2022-08-23T19:24:45.659Z"
   },
   {
    "duration": 180,
    "start_time": "2022-08-23T19:24:45.699Z"
   },
   {
    "duration": 5,
    "start_time": "2022-08-23T19:24:45.881Z"
   },
   {
    "duration": 17,
    "start_time": "2022-08-23T19:24:45.887Z"
   },
   {
    "duration": 177,
    "start_time": "2022-08-23T19:24:45.905Z"
   },
   {
    "duration": 4,
    "start_time": "2022-08-23T19:24:46.084Z"
   },
   {
    "duration": 19,
    "start_time": "2022-08-23T19:24:46.090Z"
   },
   {
    "duration": 14,
    "start_time": "2022-08-23T19:24:46.110Z"
   },
   {
    "duration": 44,
    "start_time": "2022-08-23T19:24:46.125Z"
   },
   {
    "duration": 61,
    "start_time": "2022-08-23T19:24:46.171Z"
   },
   {
    "duration": 9,
    "start_time": "2022-08-23T19:24:46.234Z"
   },
   {
    "duration": 6,
    "start_time": "2022-08-23T19:24:46.244Z"
   },
   {
    "duration": 56,
    "start_time": "2022-08-23T19:24:46.251Z"
   },
   {
    "duration": 46,
    "start_time": "2022-08-23T19:24:46.308Z"
   },
   {
    "duration": 24,
    "start_time": "2022-08-23T19:24:46.355Z"
   },
   {
    "duration": 66,
    "start_time": "2022-08-23T19:24:46.381Z"
   },
   {
    "duration": 72,
    "start_time": "2022-08-23T19:24:46.448Z"
   },
   {
    "duration": 4,
    "start_time": "2022-08-23T19:24:46.522Z"
   },
   {
    "duration": 10,
    "start_time": "2022-08-23T19:24:46.527Z"
   },
   {
    "duration": 6,
    "start_time": "2022-08-23T19:24:46.539Z"
   },
   {
    "duration": 5,
    "start_time": "2022-08-23T19:24:46.547Z"
   },
   {
    "duration": 20,
    "start_time": "2022-08-23T19:24:46.553Z"
   },
   {
    "duration": 27,
    "start_time": "2022-08-23T19:24:46.574Z"
   },
   {
    "duration": 7,
    "start_time": "2022-08-23T19:24:46.602Z"
   },
   {
    "duration": 142,
    "start_time": "2022-08-23T19:24:46.611Z"
   },
   {
    "duration": 7,
    "start_time": "2022-08-23T19:24:46.755Z"
   },
   {
    "duration": 10,
    "start_time": "2022-08-23T19:24:46.764Z"
   },
   {
    "duration": 22,
    "start_time": "2022-08-23T19:24:46.776Z"
   },
   {
    "duration": 19,
    "start_time": "2022-08-23T19:24:46.800Z"
   },
   {
    "duration": 12,
    "start_time": "2022-08-23T19:24:46.821Z"
   },
   {
    "duration": 116,
    "start_time": "2022-08-23T19:27:39.801Z"
   },
   {
    "duration": 13,
    "start_time": "2022-08-23T19:27:45.122Z"
   },
   {
    "duration": 6,
    "start_time": "2022-08-23T19:28:10.959Z"
   },
   {
    "duration": 4,
    "start_time": "2022-08-23T19:28:11.767Z"
   },
   {
    "duration": 10,
    "start_time": "2022-08-23T19:28:12.314Z"
   },
   {
    "duration": 9,
    "start_time": "2022-08-23T19:28:36.559Z"
   },
   {
    "duration": 5,
    "start_time": "2022-08-23T19:28:55.128Z"
   },
   {
    "duration": 5,
    "start_time": "2022-08-23T19:28:55.720Z"
   },
   {
    "duration": 15,
    "start_time": "2022-08-23T19:28:56.880Z"
   },
   {
    "duration": 6,
    "start_time": "2022-08-23T19:29:37.686Z"
   },
   {
    "duration": 61,
    "start_time": "2022-08-23T19:29:46.995Z"
   },
   {
    "duration": 13,
    "start_time": "2022-08-23T19:30:00.327Z"
   },
   {
    "duration": 7,
    "start_time": "2022-08-23T19:30:24.566Z"
   },
   {
    "duration": 20,
    "start_time": "2022-08-23T19:31:31.546Z"
   },
   {
    "duration": 14,
    "start_time": "2022-08-23T19:31:55.855Z"
   },
   {
    "duration": 16,
    "start_time": "2022-08-23T19:31:58.406Z"
   },
   {
    "duration": 11,
    "start_time": "2022-08-23T19:32:44.225Z"
   },
   {
    "duration": 23,
    "start_time": "2022-08-23T19:32:46.256Z"
   },
   {
    "duration": 17,
    "start_time": "2022-08-23T19:35:34.285Z"
   },
   {
    "duration": 21,
    "start_time": "2022-08-23T19:35:39.616Z"
   },
   {
    "duration": 18,
    "start_time": "2022-08-23T19:36:42.388Z"
   },
   {
    "duration": 29,
    "start_time": "2022-08-23T19:36:43.076Z"
   },
   {
    "duration": 580,
    "start_time": "2022-08-23T19:37:44.359Z"
   },
   {
    "duration": 454,
    "start_time": "2022-08-23T19:37:55.920Z"
   },
   {
    "duration": 7,
    "start_time": "2022-08-23T19:39:48.951Z"
   },
   {
    "duration": 83,
    "start_time": "2022-08-23T19:39:54.433Z"
   },
   {
    "duration": 70,
    "start_time": "2022-08-23T19:40:20.986Z"
   },
   {
    "duration": 8,
    "start_time": "2022-08-23T19:41:13.755Z"
   },
   {
    "duration": 8,
    "start_time": "2022-08-23T19:42:39.627Z"
   },
   {
    "duration": 8,
    "start_time": "2022-08-23T19:42:49.333Z"
   },
   {
    "duration": 10,
    "start_time": "2022-08-23T19:43:05.186Z"
   },
   {
    "duration": 8,
    "start_time": "2022-08-23T19:43:12.535Z"
   },
   {
    "duration": 5,
    "start_time": "2022-08-23T19:47:42.773Z"
   },
   {
    "duration": 12,
    "start_time": "2022-08-23T19:55:00.841Z"
   },
   {
    "duration": 12,
    "start_time": "2022-08-23T19:55:04.131Z"
   },
   {
    "duration": 21,
    "start_time": "2022-08-23T19:55:13.114Z"
   },
   {
    "duration": 23,
    "start_time": "2022-08-23T19:55:37.238Z"
   },
   {
    "duration": 57,
    "start_time": "2022-08-23T19:57:23.165Z"
   },
   {
    "duration": 4,
    "start_time": "2022-08-23T19:57:30.555Z"
   },
   {
    "duration": 8,
    "start_time": "2022-08-23T19:58:20.375Z"
   },
   {
    "duration": 61,
    "start_time": "2022-08-23T19:59:45.715Z"
   },
   {
    "duration": 87,
    "start_time": "2022-08-23T20:00:10.976Z"
   },
   {
    "duration": 4,
    "start_time": "2022-08-23T20:00:15.694Z"
   },
   {
    "duration": 547,
    "start_time": "2022-08-23T20:00:34.880Z"
   },
   {
    "duration": 9,
    "start_time": "2022-08-23T20:00:54.014Z"
   },
   {
    "duration": 9,
    "start_time": "2022-08-23T20:00:59.779Z"
   },
   {
    "duration": 4,
    "start_time": "2022-08-23T20:01:16.439Z"
   },
   {
    "duration": 5,
    "start_time": "2022-08-23T20:01:19.338Z"
   },
   {
    "duration": 4,
    "start_time": "2022-08-23T20:02:15.534Z"
   },
   {
    "duration": 7,
    "start_time": "2022-08-23T20:02:43.015Z"
   },
   {
    "duration": 67,
    "start_time": "2022-08-23T20:03:28.404Z"
   },
   {
    "duration": 13,
    "start_time": "2022-08-23T20:03:44.525Z"
   },
   {
    "duration": 8,
    "start_time": "2022-08-23T20:04:07.664Z"
   },
   {
    "duration": 519,
    "start_time": "2022-08-23T20:04:33.823Z"
   },
   {
    "duration": 579,
    "start_time": "2022-08-23T20:04:56.324Z"
   },
   {
    "duration": 8,
    "start_time": "2022-08-23T20:05:03.804Z"
   },
   {
    "duration": 59,
    "start_time": "2022-08-23T20:06:01.700Z"
   },
   {
    "duration": 6,
    "start_time": "2022-08-23T20:06:02.314Z"
   },
   {
    "duration": 5,
    "start_time": "2022-08-23T20:12:02.772Z"
   },
   {
    "duration": 10,
    "start_time": "2022-08-23T20:12:05.788Z"
   },
   {
    "duration": 5,
    "start_time": "2022-08-23T20:12:18.095Z"
   },
   {
    "duration": 6,
    "start_time": "2022-08-23T20:12:18.934Z"
   },
   {
    "duration": 9,
    "start_time": "2022-08-23T20:13:50.933Z"
   },
   {
    "duration": 14,
    "start_time": "2022-08-23T20:13:57.833Z"
   },
   {
    "duration": 23,
    "start_time": "2022-08-23T20:13:58.604Z"
   },
   {
    "duration": 18,
    "start_time": "2022-08-23T20:14:21.951Z"
   },
   {
    "duration": 56,
    "start_time": "2022-08-23T20:14:22.604Z"
   },
   {
    "duration": 12,
    "start_time": "2022-08-23T20:14:37.684Z"
   },
   {
    "duration": 16,
    "start_time": "2022-08-23T20:14:38.393Z"
   },
   {
    "duration": 14,
    "start_time": "2022-08-23T20:14:59.853Z"
   },
   {
    "duration": 18,
    "start_time": "2022-08-23T20:15:00.444Z"
   },
   {
    "duration": 13,
    "start_time": "2022-08-23T20:15:17.309Z"
   },
   {
    "duration": 14,
    "start_time": "2022-08-23T20:15:17.724Z"
   },
   {
    "duration": 4,
    "start_time": "2022-08-23T20:16:08.004Z"
   },
   {
    "duration": 9,
    "start_time": "2022-08-23T20:16:20.194Z"
   },
   {
    "duration": 9,
    "start_time": "2022-08-23T20:16:45.494Z"
   },
   {
    "duration": 62,
    "start_time": "2022-08-23T20:20:53.818Z"
   },
   {
    "duration": 9,
    "start_time": "2022-08-23T20:22:08.068Z"
   },
   {
    "duration": 63,
    "start_time": "2022-08-23T20:22:11.817Z"
   },
   {
    "duration": 521,
    "start_time": "2022-08-23T20:22:12.789Z"
   },
   {
    "duration": 5,
    "start_time": "2022-08-23T20:22:45.897Z"
   },
   {
    "duration": 6,
    "start_time": "2022-08-23T20:25:46.056Z"
   },
   {
    "duration": 4,
    "start_time": "2022-08-23T20:26:40.357Z"
   },
   {
    "duration": 3,
    "start_time": "2022-08-23T20:26:45.097Z"
   },
   {
    "duration": 8,
    "start_time": "2022-08-23T20:27:33.654Z"
   },
   {
    "duration": 11,
    "start_time": "2022-08-23T20:28:06.665Z"
   },
   {
    "duration": 4,
    "start_time": "2022-08-23T20:28:50.444Z"
   },
   {
    "duration": 3,
    "start_time": "2022-08-23T20:28:58.443Z"
   },
   {
    "duration": 5,
    "start_time": "2022-08-23T20:29:23.827Z"
   },
   {
    "duration": 4,
    "start_time": "2022-08-23T20:29:25.441Z"
   },
   {
    "duration": 5,
    "start_time": "2022-08-23T20:30:06.505Z"
   },
   {
    "duration": 12,
    "start_time": "2022-08-23T20:30:07.368Z"
   },
   {
    "duration": 5,
    "start_time": "2022-08-23T20:30:42.092Z"
   },
   {
    "duration": 3,
    "start_time": "2022-08-23T20:31:00.769Z"
   },
   {
    "duration": 2,
    "start_time": "2022-08-23T20:31:11.388Z"
   },
   {
    "duration": 4,
    "start_time": "2022-08-23T20:31:11.947Z"
   },
   {
    "duration": 3,
    "start_time": "2022-08-23T20:31:19.278Z"
   },
   {
    "duration": 6,
    "start_time": "2022-08-23T20:31:19.779Z"
   },
   {
    "duration": 4,
    "start_time": "2022-08-23T20:31:31.189Z"
   },
   {
    "duration": 3,
    "start_time": "2022-08-23T20:31:49.712Z"
   },
   {
    "duration": 4,
    "start_time": "2022-08-23T20:31:50.227Z"
   },
   {
    "duration": 6,
    "start_time": "2022-08-23T20:31:58.666Z"
   },
   {
    "duration": 9,
    "start_time": "2022-08-23T20:32:06.447Z"
   },
   {
    "duration": 5,
    "start_time": "2022-08-23T20:32:54.088Z"
   },
   {
    "duration": 3,
    "start_time": "2022-08-23T20:33:03.939Z"
   },
   {
    "duration": 4,
    "start_time": "2022-08-23T20:33:06.976Z"
   },
   {
    "duration": 3,
    "start_time": "2022-08-23T20:33:12.755Z"
   },
   {
    "duration": 3,
    "start_time": "2022-08-23T20:33:17.866Z"
   },
   {
    "duration": 4,
    "start_time": "2022-08-23T20:33:18.549Z"
   },
   {
    "duration": 5,
    "start_time": "2022-08-23T20:33:26.549Z"
   },
   {
    "duration": 4,
    "start_time": "2022-08-23T20:33:41.498Z"
   },
   {
    "duration": 9,
    "start_time": "2022-08-23T20:33:42.480Z"
   },
   {
    "duration": 5,
    "start_time": "2022-08-23T20:34:06.346Z"
   },
   {
    "duration": 16,
    "start_time": "2022-08-23T20:34:37.140Z"
   },
   {
    "duration": 11,
    "start_time": "2022-08-23T20:35:23.968Z"
   },
   {
    "duration": 7,
    "start_time": "2022-08-23T20:35:39.558Z"
   },
   {
    "duration": 8,
    "start_time": "2022-08-23T20:36:44.351Z"
   },
   {
    "duration": 8,
    "start_time": "2022-08-23T20:42:54.979Z"
   },
   {
    "duration": 49,
    "start_time": "2022-08-23T20:43:18.254Z"
   },
   {
    "duration": 8,
    "start_time": "2022-08-23T20:43:23.000Z"
   },
   {
    "duration": 4,
    "start_time": "2022-08-23T20:45:14.248Z"
   },
   {
    "duration": 7,
    "start_time": "2022-08-23T20:45:15.485Z"
   },
   {
    "duration": 11,
    "start_time": "2022-08-23T20:47:15.251Z"
   },
   {
    "duration": 65,
    "start_time": "2022-08-23T20:48:06.698Z"
   },
   {
    "duration": 49,
    "start_time": "2022-08-23T20:48:25.518Z"
   },
   {
    "duration": 10,
    "start_time": "2022-08-23T20:48:32.050Z"
   },
   {
    "duration": 20,
    "start_time": "2022-08-23T20:48:42.027Z"
   },
   {
    "duration": 22,
    "start_time": "2022-08-23T20:49:27.388Z"
   },
   {
    "duration": 16,
    "start_time": "2022-08-23T20:50:23.112Z"
   },
   {
    "duration": 19,
    "start_time": "2022-08-23T20:50:38.210Z"
   },
   {
    "duration": 28,
    "start_time": "2022-08-23T20:51:01.483Z"
   },
   {
    "duration": 1001,
    "start_time": "2022-08-23T20:51:08.012Z"
   },
   {
    "duration": 28,
    "start_time": "2022-08-23T20:51:09.016Z"
   },
   {
    "duration": 11,
    "start_time": "2022-08-23T20:51:09.046Z"
   },
   {
    "duration": 3,
    "start_time": "2022-08-23T20:51:09.059Z"
   },
   {
    "duration": 50,
    "start_time": "2022-08-23T20:51:09.064Z"
   },
   {
    "duration": 10,
    "start_time": "2022-08-23T20:51:09.115Z"
   },
   {
    "duration": 12,
    "start_time": "2022-08-23T20:51:09.127Z"
   },
   {
    "duration": 15,
    "start_time": "2022-08-23T20:51:09.140Z"
   },
   {
    "duration": 12,
    "start_time": "2022-08-23T20:51:09.156Z"
   },
   {
    "duration": 6,
    "start_time": "2022-08-23T20:51:09.170Z"
   },
   {
    "duration": 6,
    "start_time": "2022-08-23T20:51:09.177Z"
   },
   {
    "duration": 128,
    "start_time": "2022-08-23T20:51:09.184Z"
   },
   {
    "duration": 0,
    "start_time": "2022-08-23T20:51:09.316Z"
   },
   {
    "duration": 0,
    "start_time": "2022-08-23T20:51:09.318Z"
   },
   {
    "duration": 0,
    "start_time": "2022-08-23T20:51:09.320Z"
   },
   {
    "duration": 0,
    "start_time": "2022-08-23T20:51:09.321Z"
   },
   {
    "duration": 0,
    "start_time": "2022-08-23T20:51:09.322Z"
   },
   {
    "duration": 0,
    "start_time": "2022-08-23T20:51:09.324Z"
   },
   {
    "duration": 0,
    "start_time": "2022-08-23T20:51:09.325Z"
   },
   {
    "duration": 0,
    "start_time": "2022-08-23T20:51:09.326Z"
   },
   {
    "duration": 0,
    "start_time": "2022-08-23T20:51:09.328Z"
   },
   {
    "duration": 0,
    "start_time": "2022-08-23T20:51:09.329Z"
   },
   {
    "duration": 0,
    "start_time": "2022-08-23T20:51:09.330Z"
   },
   {
    "duration": 0,
    "start_time": "2022-08-23T20:51:09.331Z"
   },
   {
    "duration": 0,
    "start_time": "2022-08-23T20:51:09.332Z"
   },
   {
    "duration": 0,
    "start_time": "2022-08-23T20:51:09.333Z"
   },
   {
    "duration": 0,
    "start_time": "2022-08-23T20:51:09.335Z"
   },
   {
    "duration": 0,
    "start_time": "2022-08-23T20:51:09.336Z"
   },
   {
    "duration": 0,
    "start_time": "2022-08-23T20:51:09.338Z"
   },
   {
    "duration": 0,
    "start_time": "2022-08-23T20:51:09.339Z"
   },
   {
    "duration": 0,
    "start_time": "2022-08-23T20:51:09.340Z"
   },
   {
    "duration": 0,
    "start_time": "2022-08-23T20:51:09.342Z"
   },
   {
    "duration": 0,
    "start_time": "2022-08-23T20:51:09.343Z"
   },
   {
    "duration": 0,
    "start_time": "2022-08-23T20:51:09.344Z"
   },
   {
    "duration": 0,
    "start_time": "2022-08-23T20:51:09.346Z"
   },
   {
    "duration": 0,
    "start_time": "2022-08-23T20:51:09.347Z"
   },
   {
    "duration": 0,
    "start_time": "2022-08-23T20:51:09.409Z"
   },
   {
    "duration": 0,
    "start_time": "2022-08-23T20:51:09.411Z"
   },
   {
    "duration": 0,
    "start_time": "2022-08-23T20:51:09.412Z"
   },
   {
    "duration": 0,
    "start_time": "2022-08-23T20:51:09.413Z"
   },
   {
    "duration": 0,
    "start_time": "2022-08-23T20:51:09.414Z"
   },
   {
    "duration": 0,
    "start_time": "2022-08-23T20:51:09.415Z"
   },
   {
    "duration": 0,
    "start_time": "2022-08-23T20:51:09.416Z"
   },
   {
    "duration": 0,
    "start_time": "2022-08-23T20:51:09.417Z"
   },
   {
    "duration": 0,
    "start_time": "2022-08-23T20:51:09.418Z"
   },
   {
    "duration": 0,
    "start_time": "2022-08-23T20:51:09.419Z"
   },
   {
    "duration": 0,
    "start_time": "2022-08-23T20:51:09.420Z"
   },
   {
    "duration": 0,
    "start_time": "2022-08-23T20:51:09.421Z"
   },
   {
    "duration": 0,
    "start_time": "2022-08-23T20:51:09.422Z"
   },
   {
    "duration": 0,
    "start_time": "2022-08-23T20:51:09.423Z"
   },
   {
    "duration": 0,
    "start_time": "2022-08-23T20:51:09.424Z"
   },
   {
    "duration": 0,
    "start_time": "2022-08-23T20:51:09.425Z"
   },
   {
    "duration": 0,
    "start_time": "2022-08-23T20:51:09.426Z"
   },
   {
    "duration": 0,
    "start_time": "2022-08-23T20:51:09.427Z"
   },
   {
    "duration": 1,
    "start_time": "2022-08-23T20:51:09.427Z"
   },
   {
    "duration": 0,
    "start_time": "2022-08-23T20:51:09.429Z"
   },
   {
    "duration": 0,
    "start_time": "2022-08-23T20:51:09.430Z"
   },
   {
    "duration": 0,
    "start_time": "2022-08-23T20:51:09.431Z"
   },
   {
    "duration": 0,
    "start_time": "2022-08-23T20:51:09.432Z"
   },
   {
    "duration": 0,
    "start_time": "2022-08-23T20:51:09.433Z"
   },
   {
    "duration": 0,
    "start_time": "2022-08-23T20:51:09.434Z"
   },
   {
    "duration": 0,
    "start_time": "2022-08-23T20:51:09.434Z"
   },
   {
    "duration": 0,
    "start_time": "2022-08-23T20:51:09.435Z"
   },
   {
    "duration": 0,
    "start_time": "2022-08-23T20:51:09.436Z"
   },
   {
    "duration": 0,
    "start_time": "2022-08-23T20:51:09.437Z"
   },
   {
    "duration": 0,
    "start_time": "2022-08-23T20:51:09.438Z"
   },
   {
    "duration": 0,
    "start_time": "2022-08-23T20:51:09.439Z"
   },
   {
    "duration": 0,
    "start_time": "2022-08-23T20:51:09.440Z"
   },
   {
    "duration": 0,
    "start_time": "2022-08-23T20:51:09.508Z"
   },
   {
    "duration": 0,
    "start_time": "2022-08-23T20:51:09.512Z"
   },
   {
    "duration": 0,
    "start_time": "2022-08-23T20:51:09.514Z"
   },
   {
    "duration": 0,
    "start_time": "2022-08-23T20:51:09.514Z"
   },
   {
    "duration": 0,
    "start_time": "2022-08-23T20:51:09.515Z"
   },
   {
    "duration": 0,
    "start_time": "2022-08-23T20:51:09.515Z"
   },
   {
    "duration": 0,
    "start_time": "2022-08-23T20:51:09.516Z"
   },
   {
    "duration": 0,
    "start_time": "2022-08-23T20:51:09.517Z"
   },
   {
    "duration": 0,
    "start_time": "2022-08-23T20:51:09.518Z"
   },
   {
    "duration": 0,
    "start_time": "2022-08-23T20:51:09.519Z"
   },
   {
    "duration": 0,
    "start_time": "2022-08-23T20:51:09.520Z"
   },
   {
    "duration": 0,
    "start_time": "2022-08-23T20:51:09.521Z"
   },
   {
    "duration": 0,
    "start_time": "2022-08-23T20:51:09.522Z"
   },
   {
    "duration": 0,
    "start_time": "2022-08-23T20:51:09.522Z"
   },
   {
    "duration": 6,
    "start_time": "2022-08-23T20:51:49.033Z"
   },
   {
    "duration": 4,
    "start_time": "2022-08-23T20:51:51.131Z"
   },
   {
    "duration": 4,
    "start_time": "2022-08-23T20:51:51.942Z"
   },
   {
    "duration": 6,
    "start_time": "2022-08-23T20:51:53.461Z"
   },
   {
    "duration": 4,
    "start_time": "2022-08-23T20:51:54.864Z"
   },
   {
    "duration": 27,
    "start_time": "2022-08-23T20:51:56.431Z"
   },
   {
    "duration": 6,
    "start_time": "2022-08-23T20:51:56.864Z"
   },
   {
    "duration": 9,
    "start_time": "2022-08-23T20:51:57.615Z"
   },
   {
    "duration": 5,
    "start_time": "2022-08-23T20:51:58.383Z"
   },
   {
    "duration": 6,
    "start_time": "2022-08-23T20:52:00.013Z"
   },
   {
    "duration": 4,
    "start_time": "2022-08-23T20:52:01.384Z"
   },
   {
    "duration": 4,
    "start_time": "2022-08-23T20:52:02.029Z"
   },
   {
    "duration": 4,
    "start_time": "2022-08-23T20:52:02.889Z"
   },
   {
    "duration": 4,
    "start_time": "2022-08-23T20:52:03.410Z"
   },
   {
    "duration": 11,
    "start_time": "2022-08-23T20:52:09.261Z"
   },
   {
    "duration": 18,
    "start_time": "2022-08-23T20:52:09.743Z"
   },
   {
    "duration": 3,
    "start_time": "2022-08-23T20:52:10.971Z"
   },
   {
    "duration": 8,
    "start_time": "2022-08-23T20:52:12.210Z"
   },
   {
    "duration": 3,
    "start_time": "2022-08-23T20:52:13.661Z"
   },
   {
    "duration": 5,
    "start_time": "2022-08-23T20:52:14.114Z"
   },
   {
    "duration": 17,
    "start_time": "2022-08-23T20:52:15.391Z"
   },
   {
    "duration": 17,
    "start_time": "2022-08-23T20:52:17.193Z"
   },
   {
    "duration": 15,
    "start_time": "2022-08-23T20:53:08.650Z"
   },
   {
    "duration": 13,
    "start_time": "2022-08-23T20:53:29.613Z"
   },
   {
    "duration": 13,
    "start_time": "2022-08-23T20:54:05.945Z"
   },
   {
    "duration": 13,
    "start_time": "2022-08-23T20:54:15.149Z"
   },
   {
    "duration": 5,
    "start_time": "2022-08-23T20:54:24.162Z"
   },
   {
    "duration": 15,
    "start_time": "2022-08-23T20:54:32.655Z"
   },
   {
    "duration": 1116,
    "start_time": "2022-08-23T20:54:37.708Z"
   },
   {
    "duration": 29,
    "start_time": "2022-08-23T20:54:38.826Z"
   },
   {
    "duration": 11,
    "start_time": "2022-08-23T20:54:38.856Z"
   },
   {
    "duration": 4,
    "start_time": "2022-08-23T20:54:38.869Z"
   },
   {
    "duration": 40,
    "start_time": "2022-08-23T20:54:38.874Z"
   },
   {
    "duration": 9,
    "start_time": "2022-08-23T20:54:38.915Z"
   },
   {
    "duration": 12,
    "start_time": "2022-08-23T20:54:38.925Z"
   },
   {
    "duration": 13,
    "start_time": "2022-08-23T20:54:38.938Z"
   },
   {
    "duration": 12,
    "start_time": "2022-08-23T20:54:38.952Z"
   },
   {
    "duration": 5,
    "start_time": "2022-08-23T20:54:38.967Z"
   },
   {
    "duration": 7,
    "start_time": "2022-08-23T20:54:38.973Z"
   },
   {
    "duration": 17,
    "start_time": "2022-08-23T20:54:38.981Z"
   },
   {
    "duration": 4,
    "start_time": "2022-08-23T20:54:39.000Z"
   },
   {
    "duration": 5,
    "start_time": "2022-08-23T20:54:39.005Z"
   },
   {
    "duration": 5,
    "start_time": "2022-08-23T20:54:39.012Z"
   },
   {
    "duration": 3,
    "start_time": "2022-08-23T20:54:39.019Z"
   },
   {
    "duration": 19,
    "start_time": "2022-08-23T20:54:39.023Z"
   },
   {
    "duration": 6,
    "start_time": "2022-08-23T20:54:39.044Z"
   },
   {
    "duration": 9,
    "start_time": "2022-08-23T20:54:39.052Z"
   },
   {
    "duration": 4,
    "start_time": "2022-08-23T20:54:39.063Z"
   },
   {
    "duration": 31,
    "start_time": "2022-08-23T20:54:39.069Z"
   },
   {
    "duration": 4,
    "start_time": "2022-08-23T20:54:39.102Z"
   },
   {
    "duration": 5,
    "start_time": "2022-08-23T20:54:39.107Z"
   },
   {
    "duration": 4,
    "start_time": "2022-08-23T20:54:39.114Z"
   },
   {
    "duration": 6,
    "start_time": "2022-08-23T20:54:39.119Z"
   },
   {
    "duration": 8,
    "start_time": "2022-08-23T20:54:39.126Z"
   },
   {
    "duration": 10,
    "start_time": "2022-08-23T20:54:39.136Z"
   },
   {
    "duration": 3,
    "start_time": "2022-08-23T20:54:39.150Z"
   },
   {
    "duration": 13,
    "start_time": "2022-08-23T20:54:39.154Z"
   },
   {
    "duration": 6,
    "start_time": "2022-08-23T20:54:39.168Z"
   },
   {
    "duration": 26,
    "start_time": "2022-08-23T20:54:39.176Z"
   },
   {
    "duration": 11,
    "start_time": "2022-08-23T20:54:39.204Z"
   },
   {
    "duration": 19,
    "start_time": "2022-08-23T20:54:39.216Z"
   },
   {
    "duration": 8,
    "start_time": "2022-08-23T20:54:39.236Z"
   },
   {
    "duration": 6,
    "start_time": "2022-08-23T20:54:39.246Z"
   },
   {
    "duration": 185,
    "start_time": "2022-08-23T20:54:39.253Z"
   },
   {
    "duration": 118,
    "start_time": "2022-08-23T20:54:39.439Z"
   },
   {
    "duration": 6,
    "start_time": "2022-08-23T20:54:39.558Z"
   },
   {
    "duration": 13,
    "start_time": "2022-08-23T20:54:39.565Z"
   },
   {
    "duration": 7,
    "start_time": "2022-08-23T20:54:39.579Z"
   },
   {
    "duration": 14,
    "start_time": "2022-08-23T20:54:39.587Z"
   },
   {
    "duration": 300,
    "start_time": "2022-08-23T20:54:39.602Z"
   },
   {
    "duration": 210,
    "start_time": "2022-08-23T20:54:39.903Z"
   },
   {
    "duration": 301,
    "start_time": "2022-08-23T20:54:40.115Z"
   },
   {
    "duration": 4,
    "start_time": "2022-08-23T20:54:40.418Z"
   },
   {
    "duration": 14,
    "start_time": "2022-08-23T20:54:40.423Z"
   },
   {
    "duration": 6,
    "start_time": "2022-08-23T20:54:40.439Z"
   },
   {
    "duration": 204,
    "start_time": "2022-08-23T20:54:40.447Z"
   },
   {
    "duration": 48,
    "start_time": "2022-08-23T20:54:40.653Z"
   },
   {
    "duration": 11,
    "start_time": "2022-08-23T20:54:40.702Z"
   },
   {
    "duration": 401,
    "start_time": "2022-08-23T20:54:40.715Z"
   },
   {
    "duration": 9,
    "start_time": "2022-08-23T20:54:41.117Z"
   },
   {
    "duration": 71,
    "start_time": "2022-08-23T20:54:41.128Z"
   },
   {
    "duration": 316,
    "start_time": "2022-08-23T20:54:41.201Z"
   },
   {
    "duration": 5,
    "start_time": "2022-08-23T20:54:41.518Z"
   },
   {
    "duration": 16,
    "start_time": "2022-08-23T20:54:41.525Z"
   },
   {
    "duration": 366,
    "start_time": "2022-08-23T20:54:41.543Z"
   },
   {
    "duration": 5,
    "start_time": "2022-08-23T20:54:41.910Z"
   },
   {
    "duration": 15,
    "start_time": "2022-08-23T20:54:41.917Z"
   },
   {
    "duration": 68,
    "start_time": "2022-08-23T20:54:41.933Z"
   },
   {
    "duration": 98,
    "start_time": "2022-08-23T20:54:42.003Z"
   },
   {
    "duration": 96,
    "start_time": "2022-08-23T20:54:42.102Z"
   },
   {
    "duration": 6,
    "start_time": "2022-08-23T20:54:42.200Z"
   },
   {
    "duration": 5,
    "start_time": "2022-08-23T20:54:42.208Z"
   },
   {
    "duration": 87,
    "start_time": "2022-08-23T20:54:42.214Z"
   },
   {
    "duration": 96,
    "start_time": "2022-08-23T20:54:42.303Z"
   },
   {
    "duration": 20,
    "start_time": "2022-08-23T20:54:42.401Z"
   },
   {
    "duration": 92,
    "start_time": "2022-08-23T20:54:42.422Z"
   },
   {
    "duration": 89,
    "start_time": "2022-08-23T20:54:42.515Z"
   },
   {
    "duration": 6,
    "start_time": "2022-08-23T20:54:42.605Z"
   },
   {
    "duration": 5,
    "start_time": "2022-08-23T20:54:42.612Z"
   },
   {
    "duration": 4,
    "start_time": "2022-08-23T20:54:42.618Z"
   },
   {
    "duration": 4,
    "start_time": "2022-08-23T20:54:42.623Z"
   },
   {
    "duration": 20,
    "start_time": "2022-08-23T20:54:42.628Z"
   },
   {
    "duration": 8,
    "start_time": "2022-08-23T20:54:42.650Z"
   },
   {
    "duration": 8,
    "start_time": "2022-08-23T20:54:42.659Z"
   },
   {
    "duration": 157,
    "start_time": "2022-08-23T20:54:42.669Z"
   },
   {
    "duration": 7,
    "start_time": "2022-08-23T20:54:42.827Z"
   },
   {
    "duration": 7,
    "start_time": "2022-08-23T20:54:42.835Z"
   },
   {
    "duration": 7,
    "start_time": "2022-08-23T20:54:42.844Z"
   },
   {
    "duration": 21,
    "start_time": "2022-08-23T20:54:42.852Z"
   },
   {
    "duration": 27,
    "start_time": "2022-08-23T20:54:42.877Z"
   },
   {
    "duration": 195,
    "start_time": "2022-08-23T21:02:35.622Z"
   },
   {
    "duration": 330,
    "start_time": "2022-08-23T21:02:53.016Z"
   },
   {
    "duration": 184,
    "start_time": "2022-08-23T21:05:08.067Z"
   },
   {
    "duration": 184,
    "start_time": "2022-08-23T21:06:10.648Z"
   },
   {
    "duration": 207,
    "start_time": "2022-08-23T21:07:03.868Z"
   },
   {
    "duration": 207,
    "start_time": "2022-08-23T21:08:51.830Z"
   },
   {
    "duration": 313,
    "start_time": "2022-08-23T21:10:28.666Z"
   },
   {
    "duration": 346,
    "start_time": "2022-08-23T21:11:28.182Z"
   },
   {
    "duration": 196,
    "start_time": "2022-08-23T21:12:07.293Z"
   },
   {
    "duration": 194,
    "start_time": "2022-08-23T21:14:02.655Z"
   },
   {
    "duration": 267,
    "start_time": "2022-08-23T21:14:36.344Z"
   },
   {
    "duration": 299,
    "start_time": "2022-08-23T21:14:45.424Z"
   },
   {
    "duration": 248,
    "start_time": "2022-08-23T21:15:32.639Z"
   },
   {
    "duration": 203,
    "start_time": "2022-08-23T21:15:50.069Z"
   },
   {
    "duration": 203,
    "start_time": "2022-08-23T21:16:04.259Z"
   },
   {
    "duration": 193,
    "start_time": "2022-08-23T21:16:14.535Z"
   },
   {
    "duration": 181,
    "start_time": "2022-08-23T21:16:40.295Z"
   },
   {
    "duration": 191,
    "start_time": "2022-08-23T21:16:52.391Z"
   },
   {
    "duration": 175,
    "start_time": "2022-08-23T21:18:27.620Z"
   },
   {
    "duration": 175,
    "start_time": "2022-08-23T21:18:37.726Z"
   },
   {
    "duration": 168,
    "start_time": "2022-08-23T21:18:46.917Z"
   },
   {
    "duration": 164,
    "start_time": "2022-08-23T21:19:01.477Z"
   },
   {
    "duration": 161,
    "start_time": "2022-08-23T21:19:06.576Z"
   },
   {
    "duration": 179,
    "start_time": "2022-08-23T21:19:14.466Z"
   },
   {
    "duration": 162,
    "start_time": "2022-08-23T21:19:23.628Z"
   },
   {
    "duration": 249,
    "start_time": "2022-08-23T21:19:33.808Z"
   },
   {
    "duration": 170,
    "start_time": "2022-08-23T21:19:40.921Z"
   },
   {
    "duration": 163,
    "start_time": "2022-08-23T21:21:03.278Z"
   },
   {
    "duration": 1056,
    "start_time": "2022-08-23T21:22:43.679Z"
   },
   {
    "duration": 27,
    "start_time": "2022-08-23T21:22:44.737Z"
   },
   {
    "duration": 10,
    "start_time": "2022-08-23T21:22:44.765Z"
   },
   {
    "duration": 3,
    "start_time": "2022-08-23T21:22:44.777Z"
   },
   {
    "duration": 40,
    "start_time": "2022-08-23T21:22:44.782Z"
   },
   {
    "duration": 8,
    "start_time": "2022-08-23T21:22:44.824Z"
   },
   {
    "duration": 13,
    "start_time": "2022-08-23T21:22:44.833Z"
   },
   {
    "duration": 20,
    "start_time": "2022-08-23T21:22:44.848Z"
   },
   {
    "duration": 21,
    "start_time": "2022-08-23T21:22:44.870Z"
   },
   {
    "duration": 13,
    "start_time": "2022-08-23T21:22:44.894Z"
   },
   {
    "duration": 6,
    "start_time": "2022-08-23T21:22:44.908Z"
   },
   {
    "duration": 6,
    "start_time": "2022-08-23T21:22:44.915Z"
   },
   {
    "duration": 10,
    "start_time": "2022-08-23T21:22:44.924Z"
   },
   {
    "duration": 8,
    "start_time": "2022-08-23T21:22:44.936Z"
   },
   {
    "duration": 11,
    "start_time": "2022-08-23T21:22:44.946Z"
   },
   {
    "duration": 6,
    "start_time": "2022-08-23T21:22:44.959Z"
   },
   {
    "duration": 23,
    "start_time": "2022-08-23T21:22:44.966Z"
   },
   {
    "duration": 8,
    "start_time": "2022-08-23T21:22:44.991Z"
   },
   {
    "duration": 13,
    "start_time": "2022-08-23T21:22:45.001Z"
   },
   {
    "duration": 26,
    "start_time": "2022-08-23T21:22:45.016Z"
   },
   {
    "duration": 15,
    "start_time": "2022-08-23T21:22:45.044Z"
   },
   {
    "duration": 15,
    "start_time": "2022-08-23T21:22:45.061Z"
   },
   {
    "duration": 9,
    "start_time": "2022-08-23T21:22:45.078Z"
   },
   {
    "duration": 9,
    "start_time": "2022-08-23T21:22:45.089Z"
   },
   {
    "duration": 6,
    "start_time": "2022-08-23T21:22:45.100Z"
   },
   {
    "duration": 13,
    "start_time": "2022-08-23T21:22:45.108Z"
   },
   {
    "duration": 8,
    "start_time": "2022-08-23T21:22:45.122Z"
   },
   {
    "duration": 3,
    "start_time": "2022-08-23T21:22:45.136Z"
   },
   {
    "duration": 27,
    "start_time": "2022-08-23T21:22:45.141Z"
   },
   {
    "duration": 7,
    "start_time": "2022-08-23T21:22:45.170Z"
   },
   {
    "duration": 12,
    "start_time": "2022-08-23T21:22:45.179Z"
   },
   {
    "duration": 18,
    "start_time": "2022-08-23T21:22:45.192Z"
   },
   {
    "duration": 11,
    "start_time": "2022-08-23T21:22:45.211Z"
   },
   {
    "duration": 10,
    "start_time": "2022-08-23T21:22:45.224Z"
   },
   {
    "duration": 38,
    "start_time": "2022-08-23T21:22:45.235Z"
   },
   {
    "duration": 167,
    "start_time": "2022-08-23T21:22:45.275Z"
   },
   {
    "duration": 122,
    "start_time": "2022-08-23T21:22:45.444Z"
   },
   {
    "duration": 6,
    "start_time": "2022-08-23T21:22:45.567Z"
   },
   {
    "duration": 26,
    "start_time": "2022-08-23T21:22:45.574Z"
   },
   {
    "duration": 3,
    "start_time": "2022-08-23T21:22:45.602Z"
   },
   {
    "duration": 20,
    "start_time": "2022-08-23T21:22:45.607Z"
   },
   {
    "duration": 299,
    "start_time": "2022-08-23T21:22:45.629Z"
   },
   {
    "duration": 207,
    "start_time": "2022-08-23T21:22:45.929Z"
   },
   {
    "duration": 287,
    "start_time": "2022-08-23T21:22:46.138Z"
   },
   {
    "duration": 5,
    "start_time": "2022-08-23T21:22:46.426Z"
   },
   {
    "duration": 9,
    "start_time": "2022-08-23T21:22:46.433Z"
   },
   {
    "duration": 8,
    "start_time": "2022-08-23T21:22:46.443Z"
   },
   {
    "duration": 183,
    "start_time": "2022-08-23T21:22:46.452Z"
   },
   {
    "duration": 7,
    "start_time": "2022-08-23T21:22:46.636Z"
   },
   {
    "duration": 11,
    "start_time": "2022-08-23T21:22:46.644Z"
   },
   {
    "duration": 200,
    "start_time": "2022-08-23T21:22:46.657Z"
   },
   {
    "duration": 8,
    "start_time": "2022-08-23T21:22:46.858Z"
   },
   {
    "duration": 13,
    "start_time": "2022-08-23T21:22:46.867Z"
   },
   {
    "duration": 175,
    "start_time": "2022-08-23T21:22:46.881Z"
   },
   {
    "duration": 5,
    "start_time": "2022-08-23T21:22:47.057Z"
   },
   {
    "duration": 11,
    "start_time": "2022-08-23T21:22:47.063Z"
   },
   {
    "duration": 185,
    "start_time": "2022-08-23T21:22:47.075Z"
   },
   {
    "duration": 4,
    "start_time": "2022-08-23T21:22:47.262Z"
   },
   {
    "duration": 12,
    "start_time": "2022-08-23T21:22:47.268Z"
   },
   {
    "duration": 22,
    "start_time": "2022-08-23T21:22:47.281Z"
   },
   {
    "duration": 47,
    "start_time": "2022-08-23T21:22:47.305Z"
   },
   {
    "duration": 58,
    "start_time": "2022-08-23T21:22:47.353Z"
   },
   {
    "duration": 8,
    "start_time": "2022-08-23T21:22:47.413Z"
   },
   {
    "duration": 7,
    "start_time": "2022-08-23T21:22:47.422Z"
   },
   {
    "duration": 45,
    "start_time": "2022-08-23T21:22:47.431Z"
   },
   {
    "duration": 50,
    "start_time": "2022-08-23T21:22:47.478Z"
   },
   {
    "duration": 20,
    "start_time": "2022-08-23T21:22:47.530Z"
   },
   {
    "duration": 80,
    "start_time": "2022-08-23T21:22:47.551Z"
   },
   {
    "duration": 74,
    "start_time": "2022-08-23T21:22:47.633Z"
   },
   {
    "duration": 5,
    "start_time": "2022-08-23T21:22:47.708Z"
   },
   {
    "duration": 9,
    "start_time": "2022-08-23T21:22:47.714Z"
   },
   {
    "duration": 5,
    "start_time": "2022-08-23T21:22:47.724Z"
   },
   {
    "duration": 7,
    "start_time": "2022-08-23T21:22:47.730Z"
   },
   {
    "duration": 21,
    "start_time": "2022-08-23T21:22:47.738Z"
   },
   {
    "duration": 9,
    "start_time": "2022-08-23T21:22:47.760Z"
   },
   {
    "duration": 29,
    "start_time": "2022-08-23T21:22:47.770Z"
   },
   {
    "duration": 136,
    "start_time": "2022-08-23T21:22:47.801Z"
   },
   {
    "duration": 8,
    "start_time": "2022-08-23T21:22:47.939Z"
   },
   {
    "duration": 19,
    "start_time": "2022-08-23T21:22:47.949Z"
   },
   {
    "duration": 9,
    "start_time": "2022-08-23T21:22:47.970Z"
   },
   {
    "duration": 27,
    "start_time": "2022-08-23T21:22:47.981Z"
   },
   {
    "duration": 14,
    "start_time": "2022-08-23T21:22:48.013Z"
   },
   {
    "duration": 4,
    "start_time": "2022-08-23T21:24:03.226Z"
   },
   {
    "duration": 175,
    "start_time": "2022-08-23T21:24:31.840Z"
   },
   {
    "duration": 115,
    "start_time": "2022-08-23T21:24:51.984Z"
   },
   {
    "duration": 5,
    "start_time": "2022-08-23T21:25:10.647Z"
   },
   {
    "duration": 212,
    "start_time": "2022-08-23T21:25:18.317Z"
   },
   {
    "duration": 113,
    "start_time": "2022-08-23T21:25:36.753Z"
   },
   {
    "duration": 963,
    "start_time": "2022-08-23T21:25:48.156Z"
   },
   {
    "duration": 28,
    "start_time": "2022-08-23T21:25:49.121Z"
   },
   {
    "duration": 11,
    "start_time": "2022-08-23T21:25:49.150Z"
   },
   {
    "duration": 3,
    "start_time": "2022-08-23T21:25:49.162Z"
   },
   {
    "duration": 38,
    "start_time": "2022-08-23T21:25:49.168Z"
   },
   {
    "duration": 7,
    "start_time": "2022-08-23T21:25:49.208Z"
   },
   {
    "duration": 10,
    "start_time": "2022-08-23T21:25:49.217Z"
   },
   {
    "duration": 15,
    "start_time": "2022-08-23T21:25:49.229Z"
   },
   {
    "duration": 13,
    "start_time": "2022-08-23T21:25:49.245Z"
   },
   {
    "duration": 5,
    "start_time": "2022-08-23T21:25:49.259Z"
   },
   {
    "duration": 5,
    "start_time": "2022-08-23T21:25:49.265Z"
   },
   {
    "duration": 6,
    "start_time": "2022-08-23T21:25:49.271Z"
   },
   {
    "duration": 22,
    "start_time": "2022-08-23T21:25:49.279Z"
   },
   {
    "duration": 3,
    "start_time": "2022-08-23T21:25:49.305Z"
   },
   {
    "duration": 8,
    "start_time": "2022-08-23T21:25:49.310Z"
   },
   {
    "duration": 3,
    "start_time": "2022-08-23T21:25:49.320Z"
   },
   {
    "duration": 17,
    "start_time": "2022-08-23T21:25:49.324Z"
   },
   {
    "duration": 6,
    "start_time": "2022-08-23T21:25:49.343Z"
   },
   {
    "duration": 9,
    "start_time": "2022-08-23T21:25:49.351Z"
   },
   {
    "duration": 5,
    "start_time": "2022-08-23T21:25:49.361Z"
   },
   {
    "duration": 6,
    "start_time": "2022-08-23T21:25:49.398Z"
   },
   {
    "duration": 5,
    "start_time": "2022-08-23T21:25:49.406Z"
   },
   {
    "duration": 6,
    "start_time": "2022-08-23T21:25:49.413Z"
   },
   {
    "duration": 5,
    "start_time": "2022-08-23T21:25:49.421Z"
   },
   {
    "duration": 4,
    "start_time": "2022-08-23T21:25:49.427Z"
   },
   {
    "duration": 8,
    "start_time": "2022-08-23T21:25:49.433Z"
   },
   {
    "duration": 6,
    "start_time": "2022-08-23T21:25:49.442Z"
   },
   {
    "duration": 4,
    "start_time": "2022-08-23T21:25:49.449Z"
   },
   {
    "duration": 48,
    "start_time": "2022-08-23T21:25:49.454Z"
   },
   {
    "duration": 4,
    "start_time": "2022-08-23T21:25:49.504Z"
   },
   {
    "duration": 5,
    "start_time": "2022-08-23T21:25:49.510Z"
   },
   {
    "duration": 8,
    "start_time": "2022-08-23T21:25:49.517Z"
   },
   {
    "duration": 10,
    "start_time": "2022-08-23T21:25:49.527Z"
   },
   {
    "duration": 7,
    "start_time": "2022-08-23T21:25:49.539Z"
   },
   {
    "duration": 5,
    "start_time": "2022-08-23T21:25:49.548Z"
   },
   {
    "duration": 215,
    "start_time": "2022-08-23T21:25:49.554Z"
   },
   {
    "duration": 109,
    "start_time": "2022-08-23T21:25:49.770Z"
   },
   {
    "duration": 6,
    "start_time": "2022-08-23T21:25:49.880Z"
   },
   {
    "duration": 12,
    "start_time": "2022-08-23T21:25:49.887Z"
   },
   {
    "duration": 3,
    "start_time": "2022-08-23T21:25:49.902Z"
   },
   {
    "duration": 9,
    "start_time": "2022-08-23T21:25:49.911Z"
   },
   {
    "duration": 292,
    "start_time": "2022-08-23T21:25:49.921Z"
   },
   {
    "duration": 201,
    "start_time": "2022-08-23T21:25:50.214Z"
   },
   {
    "duration": 296,
    "start_time": "2022-08-23T21:25:50.416Z"
   },
   {
    "duration": 3,
    "start_time": "2022-08-23T21:25:50.714Z"
   },
   {
    "duration": 5,
    "start_time": "2022-08-23T21:25:50.719Z"
   },
   {
    "duration": 5,
    "start_time": "2022-08-23T21:25:50.725Z"
   },
   {
    "duration": 186,
    "start_time": "2022-08-23T21:25:50.731Z"
   },
   {
    "duration": 7,
    "start_time": "2022-08-23T21:25:50.919Z"
   },
   {
    "duration": 11,
    "start_time": "2022-08-23T21:25:50.928Z"
   },
   {
    "duration": 203,
    "start_time": "2022-08-23T21:25:50.940Z"
   },
   {
    "duration": 9,
    "start_time": "2022-08-23T21:25:51.145Z"
   },
   {
    "duration": 50,
    "start_time": "2022-08-23T21:25:51.155Z"
   },
   {
    "duration": 312,
    "start_time": "2022-08-23T21:25:51.207Z"
   },
   {
    "duration": 4,
    "start_time": "2022-08-23T21:25:51.521Z"
   },
   {
    "duration": 6,
    "start_time": "2022-08-23T21:25:51.526Z"
   },
   {
    "duration": 278,
    "start_time": "2022-08-23T21:25:51.533Z"
   },
   {
    "duration": 8,
    "start_time": "2022-08-23T21:25:51.813Z"
   },
   {
    "duration": 377,
    "start_time": "2022-08-23T21:25:51.823Z"
   },
   {
    "duration": 4,
    "start_time": "2022-08-23T21:25:52.202Z"
   },
   {
    "duration": 14,
    "start_time": "2022-08-23T21:25:52.208Z"
   },
   {
    "duration": 13,
    "start_time": "2022-08-23T21:25:52.223Z"
   },
   {
    "duration": 200,
    "start_time": "2022-08-23T21:25:52.237Z"
   },
   {
    "duration": 95,
    "start_time": "2022-08-23T21:25:52.439Z"
   },
   {
    "duration": 6,
    "start_time": "2022-08-23T21:25:52.536Z"
   },
   {
    "duration": 7,
    "start_time": "2022-08-23T21:25:52.599Z"
   },
   {
    "duration": 92,
    "start_time": "2022-08-23T21:25:52.607Z"
   },
   {
    "duration": 44,
    "start_time": "2022-08-23T21:25:52.700Z"
   },
   {
    "duration": 19,
    "start_time": "2022-08-23T21:25:52.798Z"
   },
   {
    "duration": 94,
    "start_time": "2022-08-23T21:25:52.818Z"
   },
   {
    "duration": 87,
    "start_time": "2022-08-23T21:25:52.913Z"
   },
   {
    "duration": 4,
    "start_time": "2022-08-23T21:25:53.002Z"
   },
   {
    "duration": 5,
    "start_time": "2022-08-23T21:25:53.007Z"
   },
   {
    "duration": 4,
    "start_time": "2022-08-23T21:25:53.014Z"
   },
   {
    "duration": 4,
    "start_time": "2022-08-23T21:25:53.020Z"
   },
   {
    "duration": 20,
    "start_time": "2022-08-23T21:25:53.025Z"
   },
   {
    "duration": 9,
    "start_time": "2022-08-23T21:25:53.047Z"
   },
   {
    "duration": 7,
    "start_time": "2022-08-23T21:25:53.058Z"
   },
   {
    "duration": 155,
    "start_time": "2022-08-23T21:25:53.066Z"
   },
   {
    "duration": 6,
    "start_time": "2022-08-23T21:25:53.223Z"
   },
   {
    "duration": 6,
    "start_time": "2022-08-23T21:25:53.231Z"
   },
   {
    "duration": 6,
    "start_time": "2022-08-23T21:25:53.238Z"
   },
   {
    "duration": 18,
    "start_time": "2022-08-23T21:25:53.246Z"
   },
   {
    "duration": 36,
    "start_time": "2022-08-23T21:25:53.265Z"
   },
   {
    "duration": 5,
    "start_time": "2022-08-23T21:26:15.876Z"
   },
   {
    "duration": 120,
    "start_time": "2022-08-23T21:26:16.955Z"
   },
   {
    "duration": 116,
    "start_time": "2022-08-23T21:26:36.193Z"
   },
   {
    "duration": 160,
    "start_time": "2022-08-23T21:26:41.809Z"
   },
   {
    "duration": 175,
    "start_time": "2022-08-23T21:26:52.964Z"
   },
   {
    "duration": 160,
    "start_time": "2022-08-23T21:26:59.676Z"
   },
   {
    "duration": 5,
    "start_time": "2022-08-23T21:27:10.627Z"
   },
   {
    "duration": 154,
    "start_time": "2022-08-23T21:27:13.719Z"
   },
   {
    "duration": 5,
    "start_time": "2022-08-23T21:27:31.508Z"
   },
   {
    "duration": 154,
    "start_time": "2022-08-23T21:27:32.156Z"
   },
   {
    "duration": 5,
    "start_time": "2022-08-23T21:31:59.725Z"
   },
   {
    "duration": 142,
    "start_time": "2022-08-23T21:32:26.722Z"
   },
   {
    "duration": 6,
    "start_time": "2022-08-23T21:32:56.723Z"
   },
   {
    "duration": 182,
    "start_time": "2022-08-23T21:32:58.879Z"
   },
   {
    "duration": 5,
    "start_time": "2022-08-23T21:33:12.808Z"
   },
   {
    "duration": 188,
    "start_time": "2022-08-23T21:33:15.151Z"
   },
   {
    "duration": 197,
    "start_time": "2022-08-23T21:35:41.104Z"
   },
   {
    "duration": 249,
    "start_time": "2022-08-23T21:35:54.494Z"
   },
   {
    "duration": 293,
    "start_time": "2022-08-23T21:36:29.056Z"
   },
   {
    "duration": 207,
    "start_time": "2022-08-23T21:36:36.083Z"
   },
   {
    "duration": 186,
    "start_time": "2022-08-23T21:40:33.603Z"
   },
   {
    "duration": 5,
    "start_time": "2022-08-23T21:40:35.329Z"
   },
   {
    "duration": 2,
    "start_time": "2022-08-23T21:40:38.200Z"
   },
   {
    "duration": 3,
    "start_time": "2022-08-23T21:40:38.545Z"
   },
   {
    "duration": 3,
    "start_time": "2022-08-23T21:40:38.888Z"
   },
   {
    "duration": 3,
    "start_time": "2022-08-23T21:40:39.312Z"
   },
   {
    "duration": 3,
    "start_time": "2022-08-23T21:40:39.726Z"
   },
   {
    "duration": 2,
    "start_time": "2022-08-23T21:40:40.155Z"
   },
   {
    "duration": 2,
    "start_time": "2022-08-23T21:40:40.586Z"
   },
   {
    "duration": 3,
    "start_time": "2022-08-23T21:40:40.975Z"
   },
   {
    "duration": 3,
    "start_time": "2022-08-23T21:40:41.436Z"
   },
   {
    "duration": 62,
    "start_time": "2022-08-23T21:40:42.465Z"
   },
   {
    "duration": 76,
    "start_time": "2022-08-23T21:40:43.613Z"
   },
   {
    "duration": 4,
    "start_time": "2022-08-23T21:40:47.006Z"
   },
   {
    "duration": 4,
    "start_time": "2022-08-23T21:40:47.606Z"
   },
   {
    "duration": 4,
    "start_time": "2022-08-23T21:40:48.235Z"
   },
   {
    "duration": 4,
    "start_time": "2022-08-23T21:40:48.896Z"
   },
   {
    "duration": 20,
    "start_time": "2022-08-23T21:40:51.835Z"
   },
   {
    "duration": 10,
    "start_time": "2022-08-23T21:40:55.527Z"
   },
   {
    "duration": 11,
    "start_time": "2022-08-23T21:40:57.561Z"
   },
   {
    "duration": 139,
    "start_time": "2022-08-23T21:40:58.296Z"
   },
   {
    "duration": 8,
    "start_time": "2022-08-23T21:40:59.265Z"
   },
   {
    "duration": 4,
    "start_time": "2022-08-23T21:41:08.253Z"
   },
   {
    "duration": 9,
    "start_time": "2022-08-23T21:41:14.495Z"
   },
   {
    "duration": 22,
    "start_time": "2022-08-23T21:41:15.404Z"
   },
   {
    "duration": 13,
    "start_time": "2022-08-23T21:41:19.583Z"
   },
   {
    "duration": 8,
    "start_time": "2022-08-23T21:42:53.763Z"
   },
   {
    "duration": 163,
    "start_time": "2022-08-23T21:42:54.316Z"
   },
   {
    "duration": 9,
    "start_time": "2022-08-23T21:42:55.135Z"
   },
   {
    "duration": 4,
    "start_time": "2022-08-23T21:42:57.375Z"
   },
   {
    "duration": 8,
    "start_time": "2022-08-23T21:42:59.352Z"
   },
   {
    "duration": 20,
    "start_time": "2022-08-23T21:43:00.015Z"
   },
   {
    "duration": 13,
    "start_time": "2022-08-23T21:43:03.474Z"
   },
   {
    "duration": 2,
    "start_time": "2022-08-23T21:47:22.320Z"
   },
   {
    "duration": 2,
    "start_time": "2022-08-23T21:47:22.826Z"
   },
   {
    "duration": 6,
    "start_time": "2022-08-23T21:47:23.412Z"
   },
   {
    "duration": 5,
    "start_time": "2022-08-23T21:47:23.975Z"
   },
   {
    "duration": 6,
    "start_time": "2022-08-23T21:47:24.606Z"
   },
   {
    "duration": 5,
    "start_time": "2022-08-23T21:47:25.285Z"
   },
   {
    "duration": 18,
    "start_time": "2022-08-23T21:47:28.045Z"
   },
   {
    "duration": 1007,
    "start_time": "2022-08-23T21:47:42.869Z"
   },
   {
    "duration": 39,
    "start_time": "2022-08-23T21:47:43.877Z"
   },
   {
    "duration": 11,
    "start_time": "2022-08-23T21:47:43.918Z"
   },
   {
    "duration": 3,
    "start_time": "2022-08-23T21:47:43.930Z"
   },
   {
    "duration": 40,
    "start_time": "2022-08-23T21:47:43.935Z"
   },
   {
    "duration": 9,
    "start_time": "2022-08-23T21:47:43.976Z"
   },
   {
    "duration": 11,
    "start_time": "2022-08-23T21:47:43.986Z"
   },
   {
    "duration": 22,
    "start_time": "2022-08-23T21:47:44.006Z"
   },
   {
    "duration": 20,
    "start_time": "2022-08-23T21:47:44.030Z"
   },
   {
    "duration": 8,
    "start_time": "2022-08-23T21:47:44.052Z"
   },
   {
    "duration": 8,
    "start_time": "2022-08-23T21:47:44.061Z"
   },
   {
    "duration": 13,
    "start_time": "2022-08-23T21:47:44.071Z"
   },
   {
    "duration": 4,
    "start_time": "2022-08-23T21:47:44.086Z"
   },
   {
    "duration": 16,
    "start_time": "2022-08-23T21:47:44.093Z"
   },
   {
    "duration": 12,
    "start_time": "2022-08-23T21:47:44.110Z"
   },
   {
    "duration": 7,
    "start_time": "2022-08-23T21:47:44.123Z"
   },
   {
    "duration": 21,
    "start_time": "2022-08-23T21:47:44.131Z"
   },
   {
    "duration": 6,
    "start_time": "2022-08-23T21:47:44.154Z"
   },
   {
    "duration": 9,
    "start_time": "2022-08-23T21:47:44.162Z"
   },
   {
    "duration": 5,
    "start_time": "2022-08-23T21:47:44.172Z"
   },
   {
    "duration": 8,
    "start_time": "2022-08-23T21:47:44.179Z"
   },
   {
    "duration": 5,
    "start_time": "2022-08-23T21:47:44.188Z"
   },
   {
    "duration": 13,
    "start_time": "2022-08-23T21:47:44.195Z"
   },
   {
    "duration": 13,
    "start_time": "2022-08-23T21:47:44.210Z"
   },
   {
    "duration": 8,
    "start_time": "2022-08-23T21:47:44.224Z"
   },
   {
    "duration": 10,
    "start_time": "2022-08-23T21:47:44.233Z"
   },
   {
    "duration": 9,
    "start_time": "2022-08-23T21:47:44.244Z"
   },
   {
    "duration": 4,
    "start_time": "2022-08-23T21:47:44.254Z"
   },
   {
    "duration": 10,
    "start_time": "2022-08-23T21:47:44.259Z"
   },
   {
    "duration": 5,
    "start_time": "2022-08-23T21:47:44.270Z"
   },
   {
    "duration": 8,
    "start_time": "2022-08-23T21:47:44.277Z"
   },
   {
    "duration": 25,
    "start_time": "2022-08-23T21:47:44.287Z"
   },
   {
    "duration": 22,
    "start_time": "2022-08-23T21:47:44.314Z"
   },
   {
    "duration": 10,
    "start_time": "2022-08-23T21:47:44.337Z"
   },
   {
    "duration": 7,
    "start_time": "2022-08-23T21:47:44.348Z"
   },
   {
    "duration": 226,
    "start_time": "2022-08-23T21:47:44.357Z"
   },
   {
    "duration": 117,
    "start_time": "2022-08-23T21:47:44.586Z"
   },
   {
    "duration": 9,
    "start_time": "2022-08-23T21:47:44.709Z"
   },
   {
    "duration": 11,
    "start_time": "2022-08-23T21:47:44.720Z"
   },
   {
    "duration": 6,
    "start_time": "2022-08-23T21:47:44.733Z"
   },
   {
    "duration": 5,
    "start_time": "2022-08-23T21:47:44.743Z"
   },
   {
    "duration": 310,
    "start_time": "2022-08-23T21:47:44.749Z"
   },
   {
    "duration": 231,
    "start_time": "2022-08-23T21:47:45.060Z"
   },
   {
    "duration": 330,
    "start_time": "2022-08-23T21:47:45.298Z"
   },
   {
    "duration": 4,
    "start_time": "2022-08-23T21:47:45.630Z"
   },
   {
    "duration": 10,
    "start_time": "2022-08-23T21:47:45.635Z"
   },
   {
    "duration": 7,
    "start_time": "2022-08-23T21:47:45.646Z"
   },
   {
    "duration": 178,
    "start_time": "2022-08-23T21:47:45.654Z"
   },
   {
    "duration": 7,
    "start_time": "2022-08-23T21:47:45.834Z"
   },
   {
    "duration": 10,
    "start_time": "2022-08-23T21:47:45.843Z"
   },
   {
    "duration": 238,
    "start_time": "2022-08-23T21:47:45.857Z"
   },
   {
    "duration": 21,
    "start_time": "2022-08-23T21:47:46.096Z"
   },
   {
    "duration": 12,
    "start_time": "2022-08-23T21:47:46.120Z"
   },
   {
    "duration": 181,
    "start_time": "2022-08-23T21:47:46.134Z"
   },
   {
    "duration": 4,
    "start_time": "2022-08-23T21:47:46.317Z"
   },
   {
    "duration": 17,
    "start_time": "2022-08-23T21:47:46.322Z"
   },
   {
    "duration": 179,
    "start_time": "2022-08-23T21:47:46.340Z"
   },
   {
    "duration": 9,
    "start_time": "2022-08-23T21:47:46.520Z"
   },
   {
    "duration": 186,
    "start_time": "2022-08-23T21:47:46.531Z"
   },
   {
    "duration": 4,
    "start_time": "2022-08-23T21:47:46.719Z"
   },
   {
    "duration": 252,
    "start_time": "2022-08-23T21:47:46.725Z"
   },
   {
    "duration": 5,
    "start_time": "2022-08-23T21:47:46.978Z"
   },
   {
    "duration": 24,
    "start_time": "2022-08-23T21:47:46.984Z"
   },
   {
    "duration": 5,
    "start_time": "2022-08-23T21:47:47.012Z"
   },
   {
    "duration": 5,
    "start_time": "2022-08-23T21:47:47.019Z"
   },
   {
    "duration": 6,
    "start_time": "2022-08-23T21:47:47.025Z"
   },
   {
    "duration": 6,
    "start_time": "2022-08-23T21:47:47.033Z"
   },
   {
    "duration": 3,
    "start_time": "2022-08-23T21:47:47.041Z"
   },
   {
    "duration": 9,
    "start_time": "2022-08-23T21:47:47.045Z"
   },
   {
    "duration": 5,
    "start_time": "2022-08-23T21:47:47.055Z"
   },
   {
    "duration": 5,
    "start_time": "2022-08-23T21:47:47.061Z"
   },
   {
    "duration": 6,
    "start_time": "2022-08-23T21:47:47.068Z"
   },
   {
    "duration": 3,
    "start_time": "2022-08-23T21:47:47.076Z"
   },
   {
    "duration": 109,
    "start_time": "2022-08-23T21:47:47.080Z"
   },
   {
    "duration": 0,
    "start_time": "2022-08-23T21:47:47.192Z"
   },
   {
    "duration": 0,
    "start_time": "2022-08-23T21:47:47.198Z"
   },
   {
    "duration": 0,
    "start_time": "2022-08-23T21:47:47.199Z"
   },
   {
    "duration": 0,
    "start_time": "2022-08-23T21:47:47.199Z"
   },
   {
    "duration": 0,
    "start_time": "2022-08-23T21:47:47.200Z"
   },
   {
    "duration": 0,
    "start_time": "2022-08-23T21:47:47.201Z"
   },
   {
    "duration": 0,
    "start_time": "2022-08-23T21:47:47.201Z"
   },
   {
    "duration": 0,
    "start_time": "2022-08-23T21:47:47.202Z"
   },
   {
    "duration": 0,
    "start_time": "2022-08-23T21:47:47.203Z"
   },
   {
    "duration": 0,
    "start_time": "2022-08-23T21:47:47.203Z"
   },
   {
    "duration": 0,
    "start_time": "2022-08-23T21:47:47.204Z"
   },
   {
    "duration": 0,
    "start_time": "2022-08-23T21:47:47.204Z"
   },
   {
    "duration": 82,
    "start_time": "2022-08-23T21:48:20.631Z"
   },
   {
    "duration": 82,
    "start_time": "2022-08-23T21:48:21.158Z"
   },
   {
    "duration": 10,
    "start_time": "2022-08-23T21:48:21.859Z"
   },
   {
    "duration": 983,
    "start_time": "2022-08-23T21:48:30.749Z"
   },
   {
    "duration": 29,
    "start_time": "2022-08-23T21:48:31.734Z"
   },
   {
    "duration": 10,
    "start_time": "2022-08-23T21:48:31.765Z"
   },
   {
    "duration": 23,
    "start_time": "2022-08-23T21:48:31.777Z"
   },
   {
    "duration": 59,
    "start_time": "2022-08-23T21:48:31.802Z"
   },
   {
    "duration": 8,
    "start_time": "2022-08-23T21:48:31.863Z"
   },
   {
    "duration": 18,
    "start_time": "2022-08-23T21:48:31.872Z"
   },
   {
    "duration": 23,
    "start_time": "2022-08-23T21:48:31.892Z"
   },
   {
    "duration": 25,
    "start_time": "2022-08-23T21:48:31.917Z"
   },
   {
    "duration": 20,
    "start_time": "2022-08-23T21:48:31.944Z"
   },
   {
    "duration": 10,
    "start_time": "2022-08-23T21:48:31.965Z"
   },
   {
    "duration": 6,
    "start_time": "2022-08-23T21:48:31.977Z"
   },
   {
    "duration": 6,
    "start_time": "2022-08-23T21:48:31.984Z"
   },
   {
    "duration": 8,
    "start_time": "2022-08-23T21:48:31.993Z"
   },
   {
    "duration": 19,
    "start_time": "2022-08-23T21:48:32.002Z"
   },
   {
    "duration": 4,
    "start_time": "2022-08-23T21:48:32.022Z"
   },
   {
    "duration": 22,
    "start_time": "2022-08-23T21:48:32.027Z"
   },
   {
    "duration": 7,
    "start_time": "2022-08-23T21:48:32.050Z"
   },
   {
    "duration": 16,
    "start_time": "2022-08-23T21:48:32.059Z"
   },
   {
    "duration": 6,
    "start_time": "2022-08-23T21:48:32.076Z"
   },
   {
    "duration": 13,
    "start_time": "2022-08-23T21:48:32.083Z"
   },
   {
    "duration": 21,
    "start_time": "2022-08-23T21:48:32.097Z"
   },
   {
    "duration": 11,
    "start_time": "2022-08-23T21:48:32.119Z"
   },
   {
    "duration": 7,
    "start_time": "2022-08-23T21:48:32.131Z"
   },
   {
    "duration": 29,
    "start_time": "2022-08-23T21:48:32.139Z"
   },
   {
    "duration": 11,
    "start_time": "2022-08-23T21:48:32.169Z"
   },
   {
    "duration": 15,
    "start_time": "2022-08-23T21:48:32.181Z"
   },
   {
    "duration": 19,
    "start_time": "2022-08-23T21:48:32.197Z"
   },
   {
    "duration": 12,
    "start_time": "2022-08-23T21:48:32.217Z"
   },
   {
    "duration": 5,
    "start_time": "2022-08-23T21:48:32.230Z"
   },
   {
    "duration": 6,
    "start_time": "2022-08-23T21:48:32.236Z"
   },
   {
    "duration": 8,
    "start_time": "2022-08-23T21:48:32.243Z"
   },
   {
    "duration": 12,
    "start_time": "2022-08-23T21:48:32.253Z"
   },
   {
    "duration": 9,
    "start_time": "2022-08-23T21:48:32.266Z"
   },
   {
    "duration": 5,
    "start_time": "2022-08-23T21:48:32.277Z"
   },
   {
    "duration": 182,
    "start_time": "2022-08-23T21:48:32.284Z"
   },
   {
    "duration": 110,
    "start_time": "2022-08-23T21:48:32.467Z"
   },
   {
    "duration": 5,
    "start_time": "2022-08-23T21:48:32.578Z"
   },
   {
    "duration": 26,
    "start_time": "2022-08-23T21:48:32.584Z"
   },
   {
    "duration": 8,
    "start_time": "2022-08-23T21:48:32.611Z"
   },
   {
    "duration": 11,
    "start_time": "2022-08-23T21:48:32.625Z"
   },
   {
    "duration": 287,
    "start_time": "2022-08-23T21:48:32.637Z"
   },
   {
    "duration": 226,
    "start_time": "2022-08-23T21:48:32.925Z"
   },
   {
    "duration": 293,
    "start_time": "2022-08-23T21:48:33.152Z"
   },
   {
    "duration": 4,
    "start_time": "2022-08-23T21:48:33.446Z"
   },
   {
    "duration": 8,
    "start_time": "2022-08-23T21:48:33.451Z"
   },
   {
    "duration": 5,
    "start_time": "2022-08-23T21:48:33.460Z"
   },
   {
    "duration": 190,
    "start_time": "2022-08-23T21:48:33.466Z"
   },
   {
    "duration": 7,
    "start_time": "2022-08-23T21:48:33.657Z"
   },
   {
    "duration": 19,
    "start_time": "2022-08-23T21:48:33.665Z"
   },
   {
    "duration": 196,
    "start_time": "2022-08-23T21:48:33.685Z"
   },
   {
    "duration": 8,
    "start_time": "2022-08-23T21:48:33.882Z"
   },
   {
    "duration": 36,
    "start_time": "2022-08-23T21:48:33.891Z"
   },
   {
    "duration": 177,
    "start_time": "2022-08-23T21:48:33.928Z"
   },
   {
    "duration": 5,
    "start_time": "2022-08-23T21:48:34.110Z"
   },
   {
    "duration": 30,
    "start_time": "2022-08-23T21:48:34.116Z"
   },
   {
    "duration": 170,
    "start_time": "2022-08-23T21:48:34.147Z"
   },
   {
    "duration": 8,
    "start_time": "2022-08-23T21:48:34.319Z"
   },
   {
    "duration": 207,
    "start_time": "2022-08-23T21:48:34.328Z"
   },
   {
    "duration": 5,
    "start_time": "2022-08-23T21:48:34.537Z"
   },
   {
    "duration": 267,
    "start_time": "2022-08-23T21:48:34.544Z"
   },
   {
    "duration": 4,
    "start_time": "2022-08-23T21:48:34.813Z"
   },
   {
    "duration": 3,
    "start_time": "2022-08-23T21:48:34.819Z"
   },
   {
    "duration": 5,
    "start_time": "2022-08-23T21:48:34.824Z"
   },
   {
    "duration": 4,
    "start_time": "2022-08-23T21:48:34.830Z"
   },
   {
    "duration": 6,
    "start_time": "2022-08-23T21:48:34.835Z"
   },
   {
    "duration": 7,
    "start_time": "2022-08-23T21:48:34.842Z"
   },
   {
    "duration": 5,
    "start_time": "2022-08-23T21:48:34.850Z"
   },
   {
    "duration": 6,
    "start_time": "2022-08-23T21:48:34.856Z"
   },
   {
    "duration": 6,
    "start_time": "2022-08-23T21:48:34.864Z"
   },
   {
    "duration": 7,
    "start_time": "2022-08-23T21:48:34.872Z"
   },
   {
    "duration": 84,
    "start_time": "2022-08-23T21:48:34.880Z"
   },
   {
    "duration": 75,
    "start_time": "2022-08-23T21:48:34.966Z"
   },
   {
    "duration": 103,
    "start_time": "2022-08-23T21:48:35.042Z"
   },
   {
    "duration": 0,
    "start_time": "2022-08-23T21:48:35.147Z"
   },
   {
    "duration": 0,
    "start_time": "2022-08-23T21:48:35.148Z"
   },
   {
    "duration": 0,
    "start_time": "2022-08-23T21:48:35.149Z"
   },
   {
    "duration": 0,
    "start_time": "2022-08-23T21:48:35.150Z"
   },
   {
    "duration": 0,
    "start_time": "2022-08-23T21:48:35.151Z"
   },
   {
    "duration": 0,
    "start_time": "2022-08-23T21:48:35.152Z"
   },
   {
    "duration": 0,
    "start_time": "2022-08-23T21:48:35.153Z"
   },
   {
    "duration": 0,
    "start_time": "2022-08-23T21:48:35.154Z"
   },
   {
    "duration": 0,
    "start_time": "2022-08-23T21:48:35.156Z"
   },
   {
    "duration": 0,
    "start_time": "2022-08-23T21:48:35.157Z"
   },
   {
    "duration": 0,
    "start_time": "2022-08-23T21:48:35.158Z"
   },
   {
    "duration": 0,
    "start_time": "2022-08-23T21:48:35.159Z"
   },
   {
    "duration": 124,
    "start_time": "2022-08-23T21:48:49.509Z"
   },
   {
    "duration": 9,
    "start_time": "2022-08-23T21:49:05.465Z"
   },
   {
    "duration": 1047,
    "start_time": "2022-08-23T21:49:12.261Z"
   },
   {
    "duration": 28,
    "start_time": "2022-08-23T21:49:13.313Z"
   },
   {
    "duration": 11,
    "start_time": "2022-08-23T21:49:13.343Z"
   },
   {
    "duration": 9,
    "start_time": "2022-08-23T21:49:13.355Z"
   },
   {
    "duration": 47,
    "start_time": "2022-08-23T21:49:13.366Z"
   },
   {
    "duration": 9,
    "start_time": "2022-08-23T21:49:13.414Z"
   },
   {
    "duration": 13,
    "start_time": "2022-08-23T21:49:13.424Z"
   },
   {
    "duration": 15,
    "start_time": "2022-08-23T21:49:13.438Z"
   },
   {
    "duration": 12,
    "start_time": "2022-08-23T21:49:13.454Z"
   },
   {
    "duration": 7,
    "start_time": "2022-08-23T21:49:13.467Z"
   },
   {
    "duration": 7,
    "start_time": "2022-08-23T21:49:13.475Z"
   },
   {
    "duration": 6,
    "start_time": "2022-08-23T21:49:13.483Z"
   },
   {
    "duration": 8,
    "start_time": "2022-08-23T21:49:13.504Z"
   },
   {
    "duration": 4,
    "start_time": "2022-08-23T21:49:13.516Z"
   },
   {
    "duration": 9,
    "start_time": "2022-08-23T21:49:13.521Z"
   },
   {
    "duration": 3,
    "start_time": "2022-08-23T21:49:13.531Z"
   },
   {
    "duration": 17,
    "start_time": "2022-08-23T21:49:13.536Z"
   },
   {
    "duration": 6,
    "start_time": "2022-08-23T21:49:13.554Z"
   },
   {
    "duration": 10,
    "start_time": "2022-08-23T21:49:13.561Z"
   },
   {
    "duration": 4,
    "start_time": "2022-08-23T21:49:13.572Z"
   },
   {
    "duration": 7,
    "start_time": "2022-08-23T21:49:13.577Z"
   },
   {
    "duration": 14,
    "start_time": "2022-08-23T21:49:13.598Z"
   },
   {
    "duration": 6,
    "start_time": "2022-08-23T21:49:13.613Z"
   },
   {
    "duration": 4,
    "start_time": "2022-08-23T21:49:13.621Z"
   },
   {
    "duration": 4,
    "start_time": "2022-08-23T21:49:13.627Z"
   },
   {
    "duration": 8,
    "start_time": "2022-08-23T21:49:13.632Z"
   },
   {
    "duration": 7,
    "start_time": "2022-08-23T21:49:13.641Z"
   },
   {
    "duration": 4,
    "start_time": "2022-08-23T21:49:13.649Z"
   },
   {
    "duration": 10,
    "start_time": "2022-08-23T21:49:13.654Z"
   },
   {
    "duration": 34,
    "start_time": "2022-08-23T21:49:13.665Z"
   },
   {
    "duration": 7,
    "start_time": "2022-08-23T21:49:13.711Z"
   },
   {
    "duration": 14,
    "start_time": "2022-08-23T21:49:13.720Z"
   },
   {
    "duration": 16,
    "start_time": "2022-08-23T21:49:13.736Z"
   },
   {
    "duration": 12,
    "start_time": "2022-08-23T21:49:13.754Z"
   },
   {
    "duration": 7,
    "start_time": "2022-08-23T21:49:13.767Z"
   },
   {
    "duration": 192,
    "start_time": "2022-08-23T21:49:13.776Z"
   },
   {
    "duration": 116,
    "start_time": "2022-08-23T21:49:13.969Z"
   },
   {
    "duration": 11,
    "start_time": "2022-08-23T21:49:14.087Z"
   },
   {
    "duration": 17,
    "start_time": "2022-08-23T21:49:14.110Z"
   },
   {
    "duration": 6,
    "start_time": "2022-08-23T21:49:14.129Z"
   },
   {
    "duration": 6,
    "start_time": "2022-08-23T21:49:14.140Z"
   },
   {
    "duration": 300,
    "start_time": "2022-08-23T21:49:14.148Z"
   },
   {
    "duration": 242,
    "start_time": "2022-08-23T21:49:14.450Z"
   },
   {
    "duration": 322,
    "start_time": "2022-08-23T21:49:14.694Z"
   },
   {
    "duration": 4,
    "start_time": "2022-08-23T21:49:15.018Z"
   },
   {
    "duration": 11,
    "start_time": "2022-08-23T21:49:15.023Z"
   },
   {
    "duration": 11,
    "start_time": "2022-08-23T21:49:15.035Z"
   },
   {
    "duration": 207,
    "start_time": "2022-08-23T21:49:15.047Z"
   },
   {
    "duration": 8,
    "start_time": "2022-08-23T21:49:15.256Z"
   },
   {
    "duration": 12,
    "start_time": "2022-08-23T21:49:15.265Z"
   },
   {
    "duration": 211,
    "start_time": "2022-08-23T21:49:15.279Z"
   },
   {
    "duration": 21,
    "start_time": "2022-08-23T21:49:15.492Z"
   },
   {
    "duration": 12,
    "start_time": "2022-08-23T21:49:15.515Z"
   },
   {
    "duration": 175,
    "start_time": "2022-08-23T21:49:15.529Z"
   },
   {
    "duration": 10,
    "start_time": "2022-08-23T21:49:15.705Z"
   },
   {
    "duration": 20,
    "start_time": "2022-08-23T21:49:15.717Z"
   },
   {
    "duration": 175,
    "start_time": "2022-08-23T21:49:15.739Z"
   },
   {
    "duration": 9,
    "start_time": "2022-08-23T21:49:15.915Z"
   },
   {
    "duration": 190,
    "start_time": "2022-08-23T21:49:15.925Z"
   },
   {
    "duration": 5,
    "start_time": "2022-08-23T21:49:16.116Z"
   },
   {
    "duration": 245,
    "start_time": "2022-08-23T21:49:16.122Z"
   },
   {
    "duration": 5,
    "start_time": "2022-08-23T21:49:16.368Z"
   },
   {
    "duration": 4,
    "start_time": "2022-08-23T21:49:16.374Z"
   },
   {
    "duration": 3,
    "start_time": "2022-08-23T21:49:16.380Z"
   },
   {
    "duration": 29,
    "start_time": "2022-08-23T21:49:16.385Z"
   },
   {
    "duration": 5,
    "start_time": "2022-08-23T21:49:16.416Z"
   },
   {
    "duration": 4,
    "start_time": "2022-08-23T21:49:16.423Z"
   },
   {
    "duration": 6,
    "start_time": "2022-08-23T21:49:16.428Z"
   },
   {
    "duration": 4,
    "start_time": "2022-08-23T21:49:16.435Z"
   },
   {
    "duration": 3,
    "start_time": "2022-08-23T21:49:16.441Z"
   },
   {
    "duration": 105,
    "start_time": "2022-08-23T21:49:16.446Z"
   },
   {
    "duration": 0,
    "start_time": "2022-08-23T21:49:16.552Z"
   },
   {
    "duration": 0,
    "start_time": "2022-08-23T21:49:16.553Z"
   },
   {
    "duration": 0,
    "start_time": "2022-08-23T21:49:16.554Z"
   },
   {
    "duration": 0,
    "start_time": "2022-08-23T21:49:16.555Z"
   },
   {
    "duration": 0,
    "start_time": "2022-08-23T21:49:16.556Z"
   },
   {
    "duration": 0,
    "start_time": "2022-08-23T21:49:16.557Z"
   },
   {
    "duration": 0,
    "start_time": "2022-08-23T21:49:16.557Z"
   },
   {
    "duration": 0,
    "start_time": "2022-08-23T21:49:16.558Z"
   },
   {
    "duration": 0,
    "start_time": "2022-08-23T21:49:16.559Z"
   },
   {
    "duration": 0,
    "start_time": "2022-08-23T21:49:16.560Z"
   },
   {
    "duration": 0,
    "start_time": "2022-08-23T21:49:16.561Z"
   },
   {
    "duration": 0,
    "start_time": "2022-08-23T21:49:16.562Z"
   },
   {
    "duration": 0,
    "start_time": "2022-08-23T21:49:16.563Z"
   },
   {
    "duration": 0,
    "start_time": "2022-08-23T21:49:16.563Z"
   },
   {
    "duration": 0,
    "start_time": "2022-08-23T21:49:16.564Z"
   },
   {
    "duration": 12,
    "start_time": "2022-08-23T21:55:29.608Z"
   },
   {
    "duration": 14,
    "start_time": "2022-08-23T21:55:30.121Z"
   },
   {
    "duration": 45,
    "start_time": "2022-08-23T21:55:30.612Z"
   },
   {
    "duration": 44,
    "start_time": "2022-08-23T21:55:31.194Z"
   },
   {
    "duration": 5,
    "start_time": "2022-08-23T21:55:31.678Z"
   },
   {
    "duration": 5,
    "start_time": "2022-08-23T21:55:32.270Z"
   },
   {
    "duration": 42,
    "start_time": "2022-08-23T21:55:32.747Z"
   },
   {
    "duration": 41,
    "start_time": "2022-08-23T21:55:33.314Z"
   },
   {
    "duration": 26,
    "start_time": "2022-08-23T21:55:33.834Z"
   },
   {
    "duration": 62,
    "start_time": "2022-08-23T21:55:35.863Z"
   },
   {
    "duration": 67,
    "start_time": "2022-08-23T21:55:37.061Z"
   },
   {
    "duration": 4,
    "start_time": "2022-08-23T21:55:38.546Z"
   },
   {
    "duration": 4,
    "start_time": "2022-08-23T21:55:39.034Z"
   },
   {
    "duration": 5,
    "start_time": "2022-08-23T21:55:39.667Z"
   },
   {
    "duration": 5,
    "start_time": "2022-08-23T21:55:40.302Z"
   },
   {
    "duration": 20,
    "start_time": "2022-08-23T21:55:43.006Z"
   },
   {
    "duration": 10,
    "start_time": "2022-08-23T21:55:48.776Z"
   },
   {
    "duration": 7,
    "start_time": "2022-08-23T21:55:52.152Z"
   },
   {
    "duration": 123,
    "start_time": "2022-08-23T21:55:53.053Z"
   },
   {
    "duration": 8,
    "start_time": "2022-08-23T21:55:53.725Z"
   },
   {
    "duration": 6,
    "start_time": "2022-08-23T21:55:56.413Z"
   },
   {
    "duration": 4,
    "start_time": "2022-08-23T21:56:25.401Z"
   },
   {
    "duration": 22,
    "start_time": "2022-08-23T22:05:18.628Z"
   },
   {
    "duration": 4,
    "start_time": "2022-08-23T22:07:55.397Z"
   },
   {
    "duration": 4,
    "start_time": "2022-08-23T22:07:55.923Z"
   },
   {
    "duration": 19,
    "start_time": "2022-08-23T22:07:58.303Z"
   },
   {
    "duration": 21,
    "start_time": "2022-08-23T22:09:35.791Z"
   },
   {
    "duration": 4,
    "start_time": "2022-08-23T22:10:52.240Z"
   },
   {
    "duration": 5,
    "start_time": "2022-08-23T22:11:13.482Z"
   },
   {
    "duration": 9,
    "start_time": "2022-08-23T22:12:04.708Z"
   },
   {
    "duration": 5,
    "start_time": "2022-08-23T22:12:12.125Z"
   },
   {
    "duration": 7,
    "start_time": "2022-08-23T22:12:14.700Z"
   },
   {
    "duration": 18,
    "start_time": "2022-08-23T22:12:15.569Z"
   },
   {
    "duration": 88,
    "start_time": "2022-08-23T22:16:49.997Z"
   },
   {
    "duration": 50,
    "start_time": "2022-08-23T22:21:56.016Z"
   },
   {
    "duration": 11,
    "start_time": "2022-08-23T22:28:47.840Z"
   },
   {
    "duration": 12,
    "start_time": "2022-08-23T22:28:59.535Z"
   },
   {
    "duration": 10,
    "start_time": "2022-08-23T22:29:21.738Z"
   },
   {
    "duration": 1062,
    "start_time": "2022-08-23T22:29:32.067Z"
   },
   {
    "duration": 27,
    "start_time": "2022-08-23T22:29:33.132Z"
   },
   {
    "duration": 11,
    "start_time": "2022-08-23T22:29:33.161Z"
   },
   {
    "duration": 3,
    "start_time": "2022-08-23T22:29:33.174Z"
   },
   {
    "duration": 49,
    "start_time": "2022-08-23T22:29:33.179Z"
   },
   {
    "duration": 8,
    "start_time": "2022-08-23T22:29:33.230Z"
   },
   {
    "duration": 11,
    "start_time": "2022-08-23T22:29:33.239Z"
   },
   {
    "duration": 14,
    "start_time": "2022-08-23T22:29:33.251Z"
   },
   {
    "duration": 11,
    "start_time": "2022-08-23T22:29:33.266Z"
   },
   {
    "duration": 4,
    "start_time": "2022-08-23T22:29:33.279Z"
   },
   {
    "duration": 6,
    "start_time": "2022-08-23T22:29:33.285Z"
   },
   {
    "duration": 13,
    "start_time": "2022-08-23T22:29:33.292Z"
   },
   {
    "duration": 5,
    "start_time": "2022-08-23T22:29:33.306Z"
   },
   {
    "duration": 5,
    "start_time": "2022-08-23T22:29:33.313Z"
   },
   {
    "duration": 9,
    "start_time": "2022-08-23T22:29:33.320Z"
   },
   {
    "duration": 12,
    "start_time": "2022-08-23T22:29:33.331Z"
   },
   {
    "duration": 2,
    "start_time": "2022-08-23T22:29:33.345Z"
   },
   {
    "duration": 21,
    "start_time": "2022-08-23T22:29:33.349Z"
   },
   {
    "duration": 6,
    "start_time": "2022-08-23T22:29:33.372Z"
   },
   {
    "duration": 25,
    "start_time": "2022-08-23T22:29:33.379Z"
   },
   {
    "duration": 8,
    "start_time": "2022-08-23T22:29:33.405Z"
   },
   {
    "duration": 9,
    "start_time": "2022-08-23T22:29:33.414Z"
   },
   {
    "duration": 7,
    "start_time": "2022-08-23T22:29:33.424Z"
   },
   {
    "duration": 5,
    "start_time": "2022-08-23T22:29:33.432Z"
   },
   {
    "duration": 5,
    "start_time": "2022-08-23T22:29:33.439Z"
   },
   {
    "duration": 5,
    "start_time": "2022-08-23T22:29:33.446Z"
   },
   {
    "duration": 7,
    "start_time": "2022-08-23T22:29:33.453Z"
   },
   {
    "duration": 6,
    "start_time": "2022-08-23T22:29:33.461Z"
   },
   {
    "duration": 32,
    "start_time": "2022-08-23T22:29:33.468Z"
   },
   {
    "duration": 10,
    "start_time": "2022-08-23T22:29:33.501Z"
   },
   {
    "duration": 4,
    "start_time": "2022-08-23T22:29:33.512Z"
   },
   {
    "duration": 6,
    "start_time": "2022-08-23T22:29:33.518Z"
   },
   {
    "duration": 9,
    "start_time": "2022-08-23T22:29:33.525Z"
   },
   {
    "duration": 11,
    "start_time": "2022-08-23T22:29:33.535Z"
   },
   {
    "duration": 9,
    "start_time": "2022-08-23T22:29:33.548Z"
   },
   {
    "duration": 6,
    "start_time": "2022-08-23T22:29:33.558Z"
   },
   {
    "duration": 202,
    "start_time": "2022-08-23T22:29:33.565Z"
   },
   {
    "duration": 119,
    "start_time": "2022-08-23T22:29:33.769Z"
   },
   {
    "duration": 12,
    "start_time": "2022-08-23T22:29:33.889Z"
   },
   {
    "duration": 9,
    "start_time": "2022-08-23T22:29:33.903Z"
   },
   {
    "duration": 3,
    "start_time": "2022-08-23T22:29:33.917Z"
   },
   {
    "duration": 7,
    "start_time": "2022-08-23T22:29:33.921Z"
   },
   {
    "duration": 295,
    "start_time": "2022-08-23T22:29:33.929Z"
   },
   {
    "duration": 221,
    "start_time": "2022-08-23T22:29:34.226Z"
   },
   {
    "duration": 319,
    "start_time": "2022-08-23T22:29:34.449Z"
   },
   {
    "duration": 3,
    "start_time": "2022-08-23T22:29:34.770Z"
   },
   {
    "duration": 5,
    "start_time": "2022-08-23T22:29:34.774Z"
   },
   {
    "duration": 4,
    "start_time": "2022-08-23T22:29:34.781Z"
   },
   {
    "duration": 191,
    "start_time": "2022-08-23T22:29:34.787Z"
   },
   {
    "duration": 6,
    "start_time": "2022-08-23T22:29:34.980Z"
   },
   {
    "duration": 17,
    "start_time": "2022-08-23T22:29:34.988Z"
   },
   {
    "duration": 191,
    "start_time": "2022-08-23T22:29:35.007Z"
   },
   {
    "duration": 9,
    "start_time": "2022-08-23T22:29:35.199Z"
   },
   {
    "duration": 12,
    "start_time": "2022-08-23T22:29:35.209Z"
   },
   {
    "duration": 183,
    "start_time": "2022-08-23T22:29:35.222Z"
   },
   {
    "duration": 6,
    "start_time": "2022-08-23T22:29:35.407Z"
   },
   {
    "duration": 9,
    "start_time": "2022-08-23T22:29:35.415Z"
   },
   {
    "duration": 168,
    "start_time": "2022-08-23T22:29:35.425Z"
   },
   {
    "duration": 9,
    "start_time": "2022-08-23T22:29:35.599Z"
   },
   {
    "duration": 179,
    "start_time": "2022-08-23T22:29:35.610Z"
   },
   {
    "duration": 10,
    "start_time": "2022-08-23T22:29:35.791Z"
   },
   {
    "duration": 399,
    "start_time": "2022-08-23T22:29:35.802Z"
   },
   {
    "duration": 4,
    "start_time": "2022-08-23T22:29:36.202Z"
   },
   {
    "duration": 13,
    "start_time": "2022-08-23T22:29:36.207Z"
   },
   {
    "duration": 12,
    "start_time": "2022-08-23T22:29:36.221Z"
   },
   {
    "duration": 101,
    "start_time": "2022-08-23T22:29:36.234Z"
   },
   {
    "duration": 94,
    "start_time": "2022-08-23T22:29:36.336Z"
   },
   {
    "duration": 9,
    "start_time": "2022-08-23T22:29:36.431Z"
   },
   {
    "duration": 6,
    "start_time": "2022-08-23T22:29:36.441Z"
   },
   {
    "duration": 95,
    "start_time": "2022-08-23T22:29:36.448Z"
   },
   {
    "duration": 42,
    "start_time": "2022-08-23T22:29:36.597Z"
   },
   {
    "duration": 76,
    "start_time": "2022-08-23T22:29:36.641Z"
   },
   {
    "duration": 116,
    "start_time": "2022-08-23T22:29:36.718Z"
   },
   {
    "duration": 173,
    "start_time": "2022-08-23T22:29:36.835Z"
   },
   {
    "duration": 4,
    "start_time": "2022-08-23T22:29:37.010Z"
   },
   {
    "duration": 6,
    "start_time": "2022-08-23T22:29:37.016Z"
   },
   {
    "duration": 4,
    "start_time": "2022-08-23T22:29:37.023Z"
   },
   {
    "duration": 4,
    "start_time": "2022-08-23T22:29:37.029Z"
   },
   {
    "duration": 72,
    "start_time": "2022-08-23T22:29:37.035Z"
   },
   {
    "duration": 10,
    "start_time": "2022-08-23T22:29:37.109Z"
   },
   {
    "duration": 8,
    "start_time": "2022-08-23T22:29:37.120Z"
   },
   {
    "duration": 283,
    "start_time": "2022-08-23T22:29:37.129Z"
   },
   {
    "duration": 7,
    "start_time": "2022-08-23T22:29:37.413Z"
   },
   {
    "duration": 8,
    "start_time": "2022-08-23T22:29:37.422Z"
   },
   {
    "duration": 9,
    "start_time": "2022-08-23T22:29:37.431Z"
   },
   {
    "duration": 73,
    "start_time": "2022-08-23T22:29:37.441Z"
   },
   {
    "duration": 12,
    "start_time": "2022-08-23T22:29:37.516Z"
   },
   {
    "duration": 100,
    "start_time": "2022-08-23T22:29:53.422Z"
   },
   {
    "duration": 1200,
    "start_time": "2022-08-23T22:30:02.112Z"
   },
   {
    "duration": 28,
    "start_time": "2022-08-23T22:30:03.314Z"
   },
   {
    "duration": 11,
    "start_time": "2022-08-23T22:30:03.343Z"
   },
   {
    "duration": 3,
    "start_time": "2022-08-23T22:30:03.356Z"
   },
   {
    "duration": 42,
    "start_time": "2022-08-23T22:30:03.360Z"
   },
   {
    "duration": 8,
    "start_time": "2022-08-23T22:30:03.403Z"
   },
   {
    "duration": 13,
    "start_time": "2022-08-23T22:30:03.413Z"
   },
   {
    "duration": 14,
    "start_time": "2022-08-23T22:30:03.428Z"
   },
   {
    "duration": 57,
    "start_time": "2022-08-23T22:30:03.443Z"
   },
   {
    "duration": 5,
    "start_time": "2022-08-23T22:30:03.502Z"
   },
   {
    "duration": 7,
    "start_time": "2022-08-23T22:30:03.508Z"
   },
   {
    "duration": 9,
    "start_time": "2022-08-23T22:30:03.516Z"
   },
   {
    "duration": 5,
    "start_time": "2022-08-23T22:30:03.527Z"
   },
   {
    "duration": 6,
    "start_time": "2022-08-23T22:30:03.533Z"
   },
   {
    "duration": 61,
    "start_time": "2022-08-23T22:30:03.540Z"
   },
   {
    "duration": 6,
    "start_time": "2022-08-23T22:30:03.602Z"
   },
   {
    "duration": 6,
    "start_time": "2022-08-23T22:30:03.609Z"
   },
   {
    "duration": 18,
    "start_time": "2022-08-23T22:30:03.616Z"
   },
   {
    "duration": 5,
    "start_time": "2022-08-23T22:30:03.636Z"
   },
   {
    "duration": 18,
    "start_time": "2022-08-23T22:30:03.643Z"
   },
   {
    "duration": 4,
    "start_time": "2022-08-23T22:30:03.662Z"
   },
   {
    "duration": 7,
    "start_time": "2022-08-23T22:30:03.668Z"
   },
   {
    "duration": 6,
    "start_time": "2022-08-23T22:30:03.676Z"
   },
   {
    "duration": 16,
    "start_time": "2022-08-23T22:30:03.683Z"
   },
   {
    "duration": 3,
    "start_time": "2022-08-23T22:30:03.700Z"
   },
   {
    "duration": 11,
    "start_time": "2022-08-23T22:30:03.704Z"
   },
   {
    "duration": 7,
    "start_time": "2022-08-23T22:30:03.769Z"
   },
   {
    "duration": 4,
    "start_time": "2022-08-23T22:30:03.799Z"
   },
   {
    "duration": 3,
    "start_time": "2022-08-23T22:30:03.805Z"
   },
   {
    "duration": 9,
    "start_time": "2022-08-23T22:30:03.809Z"
   },
   {
    "duration": 10,
    "start_time": "2022-08-23T22:30:03.819Z"
   },
   {
    "duration": 6,
    "start_time": "2022-08-23T22:30:03.830Z"
   },
   {
    "duration": 10,
    "start_time": "2022-08-23T22:30:03.838Z"
   },
   {
    "duration": 15,
    "start_time": "2022-08-23T22:30:03.849Z"
   },
   {
    "duration": 14,
    "start_time": "2022-08-23T22:30:03.865Z"
   },
   {
    "duration": 6,
    "start_time": "2022-08-23T22:30:03.881Z"
   },
   {
    "duration": 236,
    "start_time": "2022-08-23T22:30:03.888Z"
   },
   {
    "duration": 142,
    "start_time": "2022-08-23T22:30:04.125Z"
   },
   {
    "duration": 5,
    "start_time": "2022-08-23T22:30:04.269Z"
   },
   {
    "duration": 10,
    "start_time": "2022-08-23T22:30:04.275Z"
   },
   {
    "duration": 2,
    "start_time": "2022-08-23T22:30:04.298Z"
   },
   {
    "duration": 6,
    "start_time": "2022-08-23T22:30:04.302Z"
   },
   {
    "duration": 309,
    "start_time": "2022-08-23T22:30:04.310Z"
   },
   {
    "duration": 200,
    "start_time": "2022-08-23T22:30:04.621Z"
   },
   {
    "duration": 303,
    "start_time": "2022-08-23T22:30:04.822Z"
   },
   {
    "duration": 4,
    "start_time": "2022-08-23T22:30:05.126Z"
   },
   {
    "duration": 7,
    "start_time": "2022-08-23T22:30:05.131Z"
   },
   {
    "duration": 6,
    "start_time": "2022-08-23T22:30:05.139Z"
   },
   {
    "duration": 183,
    "start_time": "2022-08-23T22:30:05.147Z"
   },
   {
    "duration": 8,
    "start_time": "2022-08-23T22:30:05.331Z"
   },
   {
    "duration": 11,
    "start_time": "2022-08-23T22:30:05.340Z"
   },
   {
    "duration": 274,
    "start_time": "2022-08-23T22:30:05.352Z"
   },
   {
    "duration": 7,
    "start_time": "2022-08-23T22:30:05.628Z"
   },
   {
    "duration": 62,
    "start_time": "2022-08-23T22:30:05.639Z"
   },
   {
    "duration": 317,
    "start_time": "2022-08-23T22:30:05.702Z"
   },
   {
    "duration": 4,
    "start_time": "2022-08-23T22:30:06.021Z"
   },
   {
    "duration": 8,
    "start_time": "2022-08-23T22:30:06.027Z"
   },
   {
    "duration": 375,
    "start_time": "2022-08-23T22:30:06.037Z"
   },
   {
    "duration": 9,
    "start_time": "2022-08-23T22:30:06.413Z"
   },
   {
    "duration": 378,
    "start_time": "2022-08-23T22:30:06.423Z"
   },
   {
    "duration": 5,
    "start_time": "2022-08-23T22:30:06.803Z"
   },
   {
    "duration": 434,
    "start_time": "2022-08-23T22:30:06.809Z"
   },
   {
    "duration": 4,
    "start_time": "2022-08-23T22:30:07.245Z"
   },
   {
    "duration": 34,
    "start_time": "2022-08-23T22:30:07.251Z"
   },
   {
    "duration": 34,
    "start_time": "2022-08-23T22:30:07.286Z"
   },
   {
    "duration": 43,
    "start_time": "2022-08-23T22:30:07.322Z"
   },
   {
    "duration": 49,
    "start_time": "2022-08-23T22:30:07.366Z"
   },
   {
    "duration": 24,
    "start_time": "2022-08-23T22:30:07.416Z"
   },
   {
    "duration": 8,
    "start_time": "2022-08-23T22:30:07.442Z"
   },
   {
    "duration": 47,
    "start_time": "2022-08-23T22:30:07.451Z"
   },
   {
    "duration": 51,
    "start_time": "2022-08-23T22:30:07.499Z"
   },
   {
    "duration": 27,
    "start_time": "2022-08-23T22:30:07.551Z"
   },
   {
    "duration": 80,
    "start_time": "2022-08-23T22:30:07.580Z"
   },
   {
    "duration": 71,
    "start_time": "2022-08-23T22:30:07.661Z"
   },
   {
    "duration": 4,
    "start_time": "2022-08-23T22:30:07.734Z"
   },
   {
    "duration": 17,
    "start_time": "2022-08-23T22:30:07.740Z"
   },
   {
    "duration": 8,
    "start_time": "2022-08-23T22:30:07.759Z"
   },
   {
    "duration": 24,
    "start_time": "2022-08-23T22:30:07.769Z"
   },
   {
    "duration": 33,
    "start_time": "2022-08-23T22:30:07.794Z"
   },
   {
    "duration": 10,
    "start_time": "2022-08-23T22:30:07.828Z"
   },
   {
    "duration": 8,
    "start_time": "2022-08-23T22:30:07.839Z"
   },
   {
    "duration": 133,
    "start_time": "2022-08-23T22:30:07.849Z"
   },
   {
    "duration": 18,
    "start_time": "2022-08-23T22:30:07.984Z"
   },
   {
    "duration": 23,
    "start_time": "2022-08-23T22:30:08.003Z"
   },
   {
    "duration": 13,
    "start_time": "2022-08-23T22:30:08.028Z"
   },
   {
    "duration": 35,
    "start_time": "2022-08-23T22:30:08.042Z"
   },
   {
    "duration": 11,
    "start_time": "2022-08-23T22:30:08.079Z"
   },
   {
    "duration": 99,
    "start_time": "2022-08-23T22:30:40.023Z"
   },
   {
    "duration": 1494,
    "start_time": "2022-08-23T22:30:49.204Z"
   },
   {
    "duration": 28,
    "start_time": "2022-08-23T22:30:50.700Z"
   },
   {
    "duration": 11,
    "start_time": "2022-08-23T22:30:50.729Z"
   },
   {
    "duration": 3,
    "start_time": "2022-08-23T22:30:50.742Z"
   },
   {
    "duration": 52,
    "start_time": "2022-08-23T22:30:50.747Z"
   },
   {
    "duration": 6,
    "start_time": "2022-08-23T22:30:50.801Z"
   },
   {
    "duration": 15,
    "start_time": "2022-08-23T22:30:50.808Z"
   },
   {
    "duration": 16,
    "start_time": "2022-08-23T22:30:50.825Z"
   },
   {
    "duration": 62,
    "start_time": "2022-08-23T22:30:50.843Z"
   },
   {
    "duration": 5,
    "start_time": "2022-08-23T22:30:50.908Z"
   },
   {
    "duration": 14,
    "start_time": "2022-08-23T22:30:50.915Z"
   },
   {
    "duration": 10,
    "start_time": "2022-08-23T22:30:50.930Z"
   },
   {
    "duration": 9,
    "start_time": "2022-08-23T22:30:50.941Z"
   },
   {
    "duration": 52,
    "start_time": "2022-08-23T22:30:50.951Z"
   },
   {
    "duration": 9,
    "start_time": "2022-08-23T22:30:51.005Z"
   },
   {
    "duration": 7,
    "start_time": "2022-08-23T22:30:51.015Z"
   },
   {
    "duration": 197,
    "start_time": "2022-08-23T22:30:51.024Z"
   },
   {
    "duration": 3,
    "start_time": "2022-08-23T22:30:51.223Z"
   },
   {
    "duration": 18,
    "start_time": "2022-08-23T22:30:51.227Z"
   },
   {
    "duration": 52,
    "start_time": "2022-08-23T22:30:51.247Z"
   },
   {
    "duration": 9,
    "start_time": "2022-08-23T22:30:51.301Z"
   },
   {
    "duration": 5,
    "start_time": "2022-08-23T22:30:51.311Z"
   },
   {
    "duration": 7,
    "start_time": "2022-08-23T22:30:51.317Z"
   },
   {
    "duration": 6,
    "start_time": "2022-08-23T22:30:51.326Z"
   },
   {
    "duration": 4,
    "start_time": "2022-08-23T22:30:51.333Z"
   },
   {
    "duration": 4,
    "start_time": "2022-08-23T22:30:51.339Z"
   },
   {
    "duration": 54,
    "start_time": "2022-08-23T22:30:51.345Z"
   },
   {
    "duration": 6,
    "start_time": "2022-08-23T22:30:51.403Z"
   },
   {
    "duration": 5,
    "start_time": "2022-08-23T22:30:51.411Z"
   },
   {
    "duration": 4,
    "start_time": "2022-08-23T22:30:51.417Z"
   },
   {
    "duration": 11,
    "start_time": "2022-08-23T22:30:51.422Z"
   },
   {
    "duration": 4,
    "start_time": "2022-08-23T22:30:51.434Z"
   },
   {
    "duration": 61,
    "start_time": "2022-08-23T22:30:51.439Z"
   },
   {
    "duration": 8,
    "start_time": "2022-08-23T22:30:51.502Z"
   },
   {
    "duration": 12,
    "start_time": "2022-08-23T22:30:51.511Z"
   },
   {
    "duration": 10,
    "start_time": "2022-08-23T22:30:51.524Z"
   },
   {
    "duration": 7,
    "start_time": "2022-08-23T22:30:51.535Z"
   },
   {
    "duration": 266,
    "start_time": "2022-08-23T22:30:51.543Z"
   },
   {
    "duration": 128,
    "start_time": "2022-08-23T22:30:51.811Z"
   },
   {
    "duration": 7,
    "start_time": "2022-08-23T22:30:51.940Z"
   },
   {
    "duration": 18,
    "start_time": "2022-08-23T22:30:51.949Z"
   },
   {
    "duration": 5,
    "start_time": "2022-08-23T22:30:51.969Z"
   },
   {
    "duration": 11,
    "start_time": "2022-08-23T22:30:51.975Z"
   },
   {
    "duration": 285,
    "start_time": "2022-08-23T22:30:51.987Z"
   },
   {
    "duration": 237,
    "start_time": "2022-08-23T22:30:52.274Z"
   },
   {
    "duration": 485,
    "start_time": "2022-08-23T22:30:52.513Z"
   },
   {
    "duration": 3,
    "start_time": "2022-08-23T22:30:53.000Z"
   },
   {
    "duration": 9,
    "start_time": "2022-08-23T22:30:53.005Z"
   },
   {
    "duration": 4,
    "start_time": "2022-08-23T22:30:53.015Z"
   },
   {
    "duration": 316,
    "start_time": "2022-08-23T22:30:53.021Z"
   },
   {
    "duration": 59,
    "start_time": "2022-08-23T22:30:53.339Z"
   },
   {
    "duration": 7,
    "start_time": "2022-08-23T22:30:53.400Z"
   },
   {
    "duration": 334,
    "start_time": "2022-08-23T22:30:53.408Z"
   },
   {
    "duration": 61,
    "start_time": "2022-08-23T22:30:53.743Z"
   },
   {
    "duration": 16,
    "start_time": "2022-08-23T22:30:53.806Z"
   },
   {
    "duration": 313,
    "start_time": "2022-08-23T22:30:53.823Z"
   },
   {
    "duration": 5,
    "start_time": "2022-08-23T22:30:54.137Z"
   },
   {
    "duration": 59,
    "start_time": "2022-08-23T22:30:54.143Z"
   },
   {
    "duration": 162,
    "start_time": "2022-08-23T22:30:54.203Z"
   },
   {
    "duration": 8,
    "start_time": "2022-08-23T22:30:54.367Z"
   },
   {
    "duration": 207,
    "start_time": "2022-08-23T22:30:54.376Z"
   },
   {
    "duration": 4,
    "start_time": "2022-08-23T22:30:54.585Z"
   },
   {
    "duration": 243,
    "start_time": "2022-08-23T22:30:54.596Z"
   },
   {
    "duration": 5,
    "start_time": "2022-08-23T22:30:54.840Z"
   },
   {
    "duration": 12,
    "start_time": "2022-08-23T22:30:54.847Z"
   },
   {
    "duration": 13,
    "start_time": "2022-08-23T22:30:54.861Z"
   },
   {
    "duration": 72,
    "start_time": "2022-08-23T22:30:54.876Z"
   },
   {
    "duration": 48,
    "start_time": "2022-08-23T22:30:54.950Z"
   },
   {
    "duration": 7,
    "start_time": "2022-08-23T22:30:55.000Z"
   },
   {
    "duration": 8,
    "start_time": "2022-08-23T22:30:55.009Z"
   },
   {
    "duration": 41,
    "start_time": "2022-08-23T22:30:55.019Z"
   },
   {
    "duration": 53,
    "start_time": "2022-08-23T22:30:55.061Z"
   },
   {
    "duration": 20,
    "start_time": "2022-08-23T22:30:55.115Z"
   },
   {
    "duration": 80,
    "start_time": "2022-08-23T22:30:55.137Z"
   },
   {
    "duration": 86,
    "start_time": "2022-08-23T22:30:55.218Z"
   },
   {
    "duration": 9,
    "start_time": "2022-08-23T22:30:55.306Z"
   },
   {
    "duration": 16,
    "start_time": "2022-08-23T22:30:55.316Z"
   },
   {
    "duration": 9,
    "start_time": "2022-08-23T22:30:55.333Z"
   },
   {
    "duration": 5,
    "start_time": "2022-08-23T22:30:55.343Z"
   },
   {
    "duration": 29,
    "start_time": "2022-08-23T22:30:55.349Z"
   },
   {
    "duration": 8,
    "start_time": "2022-08-23T22:30:55.380Z"
   },
   {
    "duration": 9,
    "start_time": "2022-08-23T22:30:55.392Z"
   },
   {
    "duration": 131,
    "start_time": "2022-08-23T22:30:55.402Z"
   },
   {
    "duration": 7,
    "start_time": "2022-08-23T22:30:55.535Z"
   },
   {
    "duration": 7,
    "start_time": "2022-08-23T22:30:55.544Z"
   },
   {
    "duration": 14,
    "start_time": "2022-08-23T22:30:55.552Z"
   },
   {
    "duration": 20,
    "start_time": "2022-08-23T22:30:55.567Z"
   },
   {
    "duration": 17,
    "start_time": "2022-08-23T22:30:55.589Z"
   },
   {
    "duration": 47,
    "start_time": "2022-08-23T22:32:45.872Z"
   },
   {
    "duration": 826,
    "start_time": "2022-08-23T22:32:51.952Z"
   },
   {
    "duration": 1003,
    "start_time": "2022-08-23T22:33:01.215Z"
   },
   {
    "duration": 29,
    "start_time": "2022-08-23T22:33:02.219Z"
   },
   {
    "duration": 12,
    "start_time": "2022-08-23T22:33:02.249Z"
   },
   {
    "duration": 4,
    "start_time": "2022-08-23T22:33:02.263Z"
   },
   {
    "duration": 43,
    "start_time": "2022-08-23T22:33:02.269Z"
   },
   {
    "duration": 8,
    "start_time": "2022-08-23T22:33:02.313Z"
   },
   {
    "duration": 15,
    "start_time": "2022-08-23T22:33:02.322Z"
   },
   {
    "duration": 12,
    "start_time": "2022-08-23T22:33:02.338Z"
   },
   {
    "duration": 10,
    "start_time": "2022-08-23T22:33:02.351Z"
   },
   {
    "duration": 6,
    "start_time": "2022-08-23T22:33:02.362Z"
   },
   {
    "duration": 4,
    "start_time": "2022-08-23T22:33:02.369Z"
   },
   {
    "duration": 8,
    "start_time": "2022-08-23T22:33:02.375Z"
   },
   {
    "duration": 17,
    "start_time": "2022-08-23T22:33:02.384Z"
   },
   {
    "duration": 3,
    "start_time": "2022-08-23T22:33:02.403Z"
   },
   {
    "duration": 12,
    "start_time": "2022-08-23T22:33:02.408Z"
   },
   {
    "duration": 6,
    "start_time": "2022-08-23T22:33:02.421Z"
   },
   {
    "duration": 71,
    "start_time": "2022-08-23T22:33:02.428Z"
   },
   {
    "duration": 5,
    "start_time": "2022-08-23T22:33:02.501Z"
   },
   {
    "duration": 4,
    "start_time": "2022-08-23T22:33:02.507Z"
   },
   {
    "duration": 18,
    "start_time": "2022-08-23T22:33:02.513Z"
   },
   {
    "duration": 6,
    "start_time": "2022-08-23T22:33:02.532Z"
   },
   {
    "duration": 10,
    "start_time": "2022-08-23T22:33:02.539Z"
   },
   {
    "duration": 4,
    "start_time": "2022-08-23T22:33:02.550Z"
   },
   {
    "duration": 6,
    "start_time": "2022-08-23T22:33:02.556Z"
   },
   {
    "duration": 5,
    "start_time": "2022-08-23T22:33:02.563Z"
   },
   {
    "duration": 7,
    "start_time": "2022-08-23T22:33:02.569Z"
   },
   {
    "duration": 22,
    "start_time": "2022-08-23T22:33:02.577Z"
   },
   {
    "duration": 17,
    "start_time": "2022-08-23T22:33:02.600Z"
   },
   {
    "duration": 10,
    "start_time": "2022-08-23T22:33:02.618Z"
   },
   {
    "duration": 6,
    "start_time": "2022-08-23T22:33:02.629Z"
   },
   {
    "duration": 3,
    "start_time": "2022-08-23T22:33:02.637Z"
   },
   {
    "duration": 13,
    "start_time": "2022-08-23T22:33:02.641Z"
   },
   {
    "duration": 4,
    "start_time": "2022-08-23T22:33:02.656Z"
   },
   {
    "duration": 12,
    "start_time": "2022-08-23T22:33:02.661Z"
   },
   {
    "duration": 24,
    "start_time": "2022-08-23T22:33:02.675Z"
   },
   {
    "duration": 14,
    "start_time": "2022-08-23T22:33:02.700Z"
   },
   {
    "duration": 8,
    "start_time": "2022-08-23T22:33:02.716Z"
   },
   {
    "duration": 10,
    "start_time": "2022-08-23T22:33:02.725Z"
   },
   {
    "duration": 170,
    "start_time": "2022-08-23T22:33:02.736Z"
   },
   {
    "duration": 112,
    "start_time": "2022-08-23T22:33:02.908Z"
   },
   {
    "duration": 6,
    "start_time": "2022-08-23T22:33:03.025Z"
   },
   {
    "duration": 9,
    "start_time": "2022-08-23T22:33:03.032Z"
   },
   {
    "duration": 5,
    "start_time": "2022-08-23T22:33:03.042Z"
   },
   {
    "duration": 8,
    "start_time": "2022-08-23T22:33:03.048Z"
   },
   {
    "duration": 279,
    "start_time": "2022-08-23T22:33:03.057Z"
   },
   {
    "duration": 197,
    "start_time": "2022-08-23T22:33:03.338Z"
   },
   {
    "duration": 280,
    "start_time": "2022-08-23T22:33:03.537Z"
   },
   {
    "duration": 4,
    "start_time": "2022-08-23T22:33:03.819Z"
   },
   {
    "duration": 9,
    "start_time": "2022-08-23T22:33:03.824Z"
   },
   {
    "duration": 7,
    "start_time": "2022-08-23T22:33:03.834Z"
   },
   {
    "duration": 178,
    "start_time": "2022-08-23T22:33:03.843Z"
   },
   {
    "duration": 7,
    "start_time": "2022-08-23T22:33:04.022Z"
   },
   {
    "duration": 11,
    "start_time": "2022-08-23T22:33:04.030Z"
   },
   {
    "duration": 284,
    "start_time": "2022-08-23T22:33:04.043Z"
   },
   {
    "duration": 7,
    "start_time": "2022-08-23T22:33:04.329Z"
   },
   {
    "duration": 66,
    "start_time": "2022-08-23T22:33:04.338Z"
   },
   {
    "duration": 322,
    "start_time": "2022-08-23T22:33:04.406Z"
   },
   {
    "duration": 4,
    "start_time": "2022-08-23T22:33:04.730Z"
   },
   {
    "duration": 8,
    "start_time": "2022-08-23T22:33:04.735Z"
   },
   {
    "duration": 371,
    "start_time": "2022-08-23T22:33:04.744Z"
   },
   {
    "duration": 8,
    "start_time": "2022-08-23T22:33:05.117Z"
   },
   {
    "duration": 376,
    "start_time": "2022-08-23T22:33:05.126Z"
   },
   {
    "duration": 5,
    "start_time": "2022-08-23T22:33:05.503Z"
   },
   {
    "duration": 412,
    "start_time": "2022-08-23T22:33:05.509Z"
   },
   {
    "duration": 4,
    "start_time": "2022-08-23T22:33:05.923Z"
   },
   {
    "duration": 14,
    "start_time": "2022-08-23T22:33:05.929Z"
   },
   {
    "duration": 16,
    "start_time": "2022-08-23T22:33:05.944Z"
   },
   {
    "duration": 63,
    "start_time": "2022-08-23T22:33:05.962Z"
   },
   {
    "duration": 44,
    "start_time": "2022-08-23T22:33:06.026Z"
   },
   {
    "duration": 6,
    "start_time": "2022-08-23T22:33:06.071Z"
   },
   {
    "duration": 8,
    "start_time": "2022-08-23T22:33:06.078Z"
   },
   {
    "duration": 50,
    "start_time": "2022-08-23T22:33:06.087Z"
   },
   {
    "duration": 41,
    "start_time": "2022-08-23T22:33:06.139Z"
   },
   {
    "duration": 30,
    "start_time": "2022-08-23T22:33:06.182Z"
   },
   {
    "duration": 60,
    "start_time": "2022-08-23T22:33:06.213Z"
   },
   {
    "duration": 77,
    "start_time": "2022-08-23T22:33:06.275Z"
   },
   {
    "duration": 3,
    "start_time": "2022-08-23T22:33:06.354Z"
   },
   {
    "duration": 7,
    "start_time": "2022-08-23T22:33:06.359Z"
   },
   {
    "duration": 4,
    "start_time": "2022-08-23T22:33:06.368Z"
   },
   {
    "duration": 4,
    "start_time": "2022-08-23T22:33:06.373Z"
   },
   {
    "duration": 31,
    "start_time": "2022-08-23T22:33:06.379Z"
   },
   {
    "duration": 9,
    "start_time": "2022-08-23T22:33:06.411Z"
   },
   {
    "duration": 7,
    "start_time": "2022-08-23T22:33:06.421Z"
   },
   {
    "duration": 139,
    "start_time": "2022-08-23T22:33:06.429Z"
   },
   {
    "duration": 8,
    "start_time": "2022-08-23T22:33:06.569Z"
   },
   {
    "duration": 8,
    "start_time": "2022-08-23T22:33:06.578Z"
   },
   {
    "duration": 7,
    "start_time": "2022-08-23T22:33:06.598Z"
   },
   {
    "duration": 21,
    "start_time": "2022-08-23T22:33:06.606Z"
   },
   {
    "duration": 12,
    "start_time": "2022-08-23T22:33:06.628Z"
   },
   {
    "duration": 836,
    "start_time": "2022-08-23T22:34:02.446Z"
   },
   {
    "duration": 11,
    "start_time": "2022-08-23T22:34:17.540Z"
   },
   {
    "duration": 3,
    "start_time": "2022-08-23T22:35:41.259Z"
   },
   {
    "duration": 11,
    "start_time": "2022-08-23T22:35:41.888Z"
   },
   {
    "duration": 142,
    "start_time": "2022-08-23T22:35:53.102Z"
   },
   {
    "duration": 839,
    "start_time": "2022-08-23T22:38:25.018Z"
   },
   {
    "duration": 969,
    "start_time": "2022-08-23T22:38:31.052Z"
   },
   {
    "duration": 27,
    "start_time": "2022-08-23T22:38:32.023Z"
   },
   {
    "duration": 10,
    "start_time": "2022-08-23T22:38:32.052Z"
   },
   {
    "duration": 3,
    "start_time": "2022-08-23T22:38:32.063Z"
   },
   {
    "duration": 41,
    "start_time": "2022-08-23T22:38:32.068Z"
   },
   {
    "duration": 8,
    "start_time": "2022-08-23T22:38:32.110Z"
   },
   {
    "duration": 15,
    "start_time": "2022-08-23T22:38:32.120Z"
   },
   {
    "duration": 13,
    "start_time": "2022-08-23T22:38:32.136Z"
   },
   {
    "duration": 9,
    "start_time": "2022-08-23T22:38:32.150Z"
   },
   {
    "duration": 6,
    "start_time": "2022-08-23T22:38:32.161Z"
   },
   {
    "duration": 5,
    "start_time": "2022-08-23T22:38:32.169Z"
   },
   {
    "duration": 23,
    "start_time": "2022-08-23T22:38:32.175Z"
   },
   {
    "duration": 3,
    "start_time": "2022-08-23T22:38:32.200Z"
   },
   {
    "duration": 5,
    "start_time": "2022-08-23T22:38:32.206Z"
   },
   {
    "duration": 5,
    "start_time": "2022-08-23T22:38:32.212Z"
   },
   {
    "duration": 6,
    "start_time": "2022-08-23T22:38:32.218Z"
   },
   {
    "duration": 111,
    "start_time": "2022-08-23T22:38:32.225Z"
   },
   {
    "duration": 0,
    "start_time": "2022-08-23T22:38:32.339Z"
   },
   {
    "duration": 0,
    "start_time": "2022-08-23T22:38:32.340Z"
   },
   {
    "duration": 0,
    "start_time": "2022-08-23T22:38:32.341Z"
   },
   {
    "duration": 0,
    "start_time": "2022-08-23T22:38:32.342Z"
   },
   {
    "duration": 0,
    "start_time": "2022-08-23T22:38:32.342Z"
   },
   {
    "duration": 0,
    "start_time": "2022-08-23T22:38:32.343Z"
   },
   {
    "duration": 0,
    "start_time": "2022-08-23T22:38:32.344Z"
   },
   {
    "duration": 0,
    "start_time": "2022-08-23T22:38:32.345Z"
   },
   {
    "duration": 0,
    "start_time": "2022-08-23T22:38:32.346Z"
   },
   {
    "duration": 0,
    "start_time": "2022-08-23T22:38:32.347Z"
   },
   {
    "duration": 0,
    "start_time": "2022-08-23T22:38:32.348Z"
   },
   {
    "duration": 0,
    "start_time": "2022-08-23T22:38:32.349Z"
   },
   {
    "duration": 0,
    "start_time": "2022-08-23T22:38:32.349Z"
   },
   {
    "duration": 0,
    "start_time": "2022-08-23T22:38:32.351Z"
   },
   {
    "duration": 0,
    "start_time": "2022-08-23T22:38:32.352Z"
   },
   {
    "duration": 0,
    "start_time": "2022-08-23T22:38:32.352Z"
   },
   {
    "duration": 0,
    "start_time": "2022-08-23T22:38:32.353Z"
   },
   {
    "duration": 0,
    "start_time": "2022-08-23T22:38:32.354Z"
   },
   {
    "duration": 0,
    "start_time": "2022-08-23T22:38:32.355Z"
   },
   {
    "duration": 0,
    "start_time": "2022-08-23T22:38:32.355Z"
   },
   {
    "duration": 0,
    "start_time": "2022-08-23T22:38:32.356Z"
   },
   {
    "duration": 0,
    "start_time": "2022-08-23T22:38:32.357Z"
   },
   {
    "duration": 0,
    "start_time": "2022-08-23T22:38:32.358Z"
   },
   {
    "duration": 0,
    "start_time": "2022-08-23T22:38:32.359Z"
   },
   {
    "duration": 0,
    "start_time": "2022-08-23T22:38:32.359Z"
   },
   {
    "duration": 0,
    "start_time": "2022-08-23T22:38:32.360Z"
   },
   {
    "duration": 0,
    "start_time": "2022-08-23T22:38:32.398Z"
   },
   {
    "duration": 0,
    "start_time": "2022-08-23T22:38:32.399Z"
   },
   {
    "duration": 0,
    "start_time": "2022-08-23T22:38:32.400Z"
   },
   {
    "duration": 0,
    "start_time": "2022-08-23T22:38:32.400Z"
   },
   {
    "duration": 0,
    "start_time": "2022-08-23T22:38:32.401Z"
   },
   {
    "duration": 0,
    "start_time": "2022-08-23T22:38:32.402Z"
   },
   {
    "duration": 0,
    "start_time": "2022-08-23T22:38:32.402Z"
   },
   {
    "duration": 0,
    "start_time": "2022-08-23T22:38:32.403Z"
   },
   {
    "duration": 0,
    "start_time": "2022-08-23T22:38:32.403Z"
   },
   {
    "duration": 0,
    "start_time": "2022-08-23T22:38:32.404Z"
   },
   {
    "duration": 0,
    "start_time": "2022-08-23T22:38:32.405Z"
   },
   {
    "duration": 0,
    "start_time": "2022-08-23T22:38:32.406Z"
   },
   {
    "duration": 0,
    "start_time": "2022-08-23T22:38:32.406Z"
   },
   {
    "duration": 0,
    "start_time": "2022-08-23T22:38:32.407Z"
   },
   {
    "duration": 0,
    "start_time": "2022-08-23T22:38:32.408Z"
   },
   {
    "duration": 0,
    "start_time": "2022-08-23T22:38:32.408Z"
   },
   {
    "duration": 0,
    "start_time": "2022-08-23T22:38:32.409Z"
   },
   {
    "duration": 0,
    "start_time": "2022-08-23T22:38:32.410Z"
   },
   {
    "duration": 0,
    "start_time": "2022-08-23T22:38:32.411Z"
   },
   {
    "duration": 0,
    "start_time": "2022-08-23T22:38:32.411Z"
   },
   {
    "duration": 0,
    "start_time": "2022-08-23T22:38:32.412Z"
   },
   {
    "duration": 0,
    "start_time": "2022-08-23T22:38:32.412Z"
   },
   {
    "duration": 0,
    "start_time": "2022-08-23T22:38:32.413Z"
   },
   {
    "duration": 0,
    "start_time": "2022-08-23T22:38:32.413Z"
   },
   {
    "duration": 0,
    "start_time": "2022-08-23T22:38:32.414Z"
   },
   {
    "duration": 0,
    "start_time": "2022-08-23T22:38:32.415Z"
   },
   {
    "duration": 0,
    "start_time": "2022-08-23T22:38:32.415Z"
   },
   {
    "duration": 0,
    "start_time": "2022-08-23T22:38:32.416Z"
   },
   {
    "duration": 0,
    "start_time": "2022-08-23T22:38:32.417Z"
   },
   {
    "duration": 0,
    "start_time": "2022-08-23T22:38:32.417Z"
   },
   {
    "duration": 0,
    "start_time": "2022-08-23T22:38:32.418Z"
   },
   {
    "duration": 0,
    "start_time": "2022-08-23T22:38:32.418Z"
   },
   {
    "duration": 0,
    "start_time": "2022-08-23T22:38:32.419Z"
   },
   {
    "duration": 0,
    "start_time": "2022-08-23T22:38:32.419Z"
   },
   {
    "duration": 0,
    "start_time": "2022-08-23T22:38:32.420Z"
   },
   {
    "duration": 0,
    "start_time": "2022-08-23T22:38:32.421Z"
   },
   {
    "duration": 0,
    "start_time": "2022-08-23T22:38:32.422Z"
   },
   {
    "duration": 0,
    "start_time": "2022-08-23T22:38:32.423Z"
   },
   {
    "duration": 0,
    "start_time": "2022-08-23T22:38:32.423Z"
   },
   {
    "duration": 0,
    "start_time": "2022-08-23T22:38:32.424Z"
   },
   {
    "duration": 0,
    "start_time": "2022-08-23T22:38:32.425Z"
   },
   {
    "duration": 0,
    "start_time": "2022-08-23T22:38:32.425Z"
   },
   {
    "duration": 0,
    "start_time": "2022-08-23T22:38:32.426Z"
   },
   {
    "duration": 0,
    "start_time": "2022-08-23T22:38:32.427Z"
   },
   {
    "duration": 0,
    "start_time": "2022-08-23T22:38:32.428Z"
   },
   {
    "duration": 1,
    "start_time": "2022-08-23T22:38:32.428Z"
   },
   {
    "duration": 11,
    "start_time": "2022-08-23T22:38:56.728Z"
   },
   {
    "duration": 7,
    "start_time": "2022-08-23T22:39:24.092Z"
   },
   {
    "duration": 12,
    "start_time": "2022-08-23T22:39:45.040Z"
   },
   {
    "duration": 73,
    "start_time": "2022-08-23T22:39:56.297Z"
   },
   {
    "duration": 5,
    "start_time": "2022-08-23T22:41:52.583Z"
   },
   {
    "duration": 4,
    "start_time": "2022-08-23T22:42:10.237Z"
   },
   {
    "duration": 6,
    "start_time": "2022-08-23T22:44:25.538Z"
   },
   {
    "duration": 7,
    "start_time": "2022-08-23T22:44:47.494Z"
   },
   {
    "duration": 6,
    "start_time": "2022-08-23T22:44:59.269Z"
   },
   {
    "duration": 6,
    "start_time": "2022-08-23T22:45:27.453Z"
   },
   {
    "duration": 7,
    "start_time": "2022-08-23T22:45:36.851Z"
   },
   {
    "duration": 965,
    "start_time": "2022-08-23T22:45:43.349Z"
   },
   {
    "duration": 28,
    "start_time": "2022-08-23T22:45:44.316Z"
   },
   {
    "duration": 10,
    "start_time": "2022-08-23T22:45:44.345Z"
   },
   {
    "duration": 3,
    "start_time": "2022-08-23T22:45:44.357Z"
   },
   {
    "duration": 47,
    "start_time": "2022-08-23T22:45:44.362Z"
   },
   {
    "duration": 10,
    "start_time": "2022-08-23T22:45:44.411Z"
   },
   {
    "duration": 13,
    "start_time": "2022-08-23T22:45:44.422Z"
   },
   {
    "duration": 21,
    "start_time": "2022-08-23T22:45:44.436Z"
   },
   {
    "duration": 15,
    "start_time": "2022-08-23T22:45:44.458Z"
   },
   {
    "duration": 11,
    "start_time": "2022-08-23T22:45:44.475Z"
   },
   {
    "duration": 14,
    "start_time": "2022-08-23T22:45:44.487Z"
   },
   {
    "duration": 10,
    "start_time": "2022-08-23T22:45:44.503Z"
   },
   {
    "duration": 6,
    "start_time": "2022-08-23T22:45:44.515Z"
   },
   {
    "duration": 5,
    "start_time": "2022-08-23T22:45:44.523Z"
   },
   {
    "duration": 5,
    "start_time": "2022-08-23T22:45:44.530Z"
   },
   {
    "duration": 6,
    "start_time": "2022-08-23T22:45:44.537Z"
   },
   {
    "duration": 82,
    "start_time": "2022-08-23T22:45:44.544Z"
   },
   {
    "duration": 6,
    "start_time": "2022-08-23T22:45:44.628Z"
   },
   {
    "duration": 6,
    "start_time": "2022-08-23T22:45:44.636Z"
   },
   {
    "duration": 24,
    "start_time": "2022-08-23T22:45:44.644Z"
   },
   {
    "duration": 5,
    "start_time": "2022-08-23T22:45:44.669Z"
   },
   {
    "duration": 10,
    "start_time": "2022-08-23T22:45:44.675Z"
   },
   {
    "duration": 6,
    "start_time": "2022-08-23T22:45:44.687Z"
   },
   {
    "duration": 12,
    "start_time": "2022-08-23T22:45:44.694Z"
   },
   {
    "duration": 9,
    "start_time": "2022-08-23T22:45:44.708Z"
   },
   {
    "duration": 9,
    "start_time": "2022-08-23T22:45:44.719Z"
   },
   {
    "duration": 6,
    "start_time": "2022-08-23T22:45:44.729Z"
   },
   {
    "duration": 7,
    "start_time": "2022-08-23T22:45:44.736Z"
   },
   {
    "duration": 8,
    "start_time": "2022-08-23T22:45:44.744Z"
   },
   {
    "duration": 6,
    "start_time": "2022-08-23T22:45:44.753Z"
   },
   {
    "duration": 5,
    "start_time": "2022-08-23T22:45:44.760Z"
   },
   {
    "duration": 12,
    "start_time": "2022-08-23T22:45:44.766Z"
   },
   {
    "duration": 19,
    "start_time": "2022-08-23T22:45:44.779Z"
   },
   {
    "duration": 5,
    "start_time": "2022-08-23T22:45:44.799Z"
   },
   {
    "duration": 10,
    "start_time": "2022-08-23T22:45:44.806Z"
   },
   {
    "duration": 10,
    "start_time": "2022-08-23T22:45:44.818Z"
   },
   {
    "duration": 6,
    "start_time": "2022-08-23T22:45:44.830Z"
   },
   {
    "duration": 4,
    "start_time": "2022-08-23T22:45:44.838Z"
   },
   {
    "duration": 6,
    "start_time": "2022-08-23T22:45:44.843Z"
   },
   {
    "duration": 4,
    "start_time": "2022-08-23T22:45:44.851Z"
   },
   {
    "duration": 38,
    "start_time": "2022-08-23T22:45:44.861Z"
   },
   {
    "duration": 6,
    "start_time": "2022-08-23T22:45:44.901Z"
   },
   {
    "duration": 312,
    "start_time": "2022-08-23T22:45:44.909Z"
   },
   {
    "duration": 0,
    "start_time": "2022-08-23T22:45:45.223Z"
   },
   {
    "duration": 0,
    "start_time": "2022-08-23T22:45:45.225Z"
   },
   {
    "duration": 0,
    "start_time": "2022-08-23T22:45:45.226Z"
   },
   {
    "duration": 0,
    "start_time": "2022-08-23T22:45:45.228Z"
   },
   {
    "duration": 1,
    "start_time": "2022-08-23T22:45:45.229Z"
   },
   {
    "duration": 0,
    "start_time": "2022-08-23T22:45:45.231Z"
   },
   {
    "duration": 0,
    "start_time": "2022-08-23T22:45:45.233Z"
   },
   {
    "duration": 0,
    "start_time": "2022-08-23T22:45:45.234Z"
   },
   {
    "duration": 0,
    "start_time": "2022-08-23T22:45:45.236Z"
   },
   {
    "duration": 0,
    "start_time": "2022-08-23T22:45:45.237Z"
   },
   {
    "duration": 0,
    "start_time": "2022-08-23T22:45:45.239Z"
   },
   {
    "duration": 0,
    "start_time": "2022-08-23T22:45:45.240Z"
   },
   {
    "duration": 0,
    "start_time": "2022-08-23T22:45:45.241Z"
   },
   {
    "duration": 0,
    "start_time": "2022-08-23T22:45:45.243Z"
   },
   {
    "duration": 0,
    "start_time": "2022-08-23T22:45:45.244Z"
   },
   {
    "duration": 0,
    "start_time": "2022-08-23T22:45:45.245Z"
   },
   {
    "duration": 0,
    "start_time": "2022-08-23T22:45:45.247Z"
   },
   {
    "duration": 0,
    "start_time": "2022-08-23T22:45:45.248Z"
   },
   {
    "duration": 0,
    "start_time": "2022-08-23T22:45:45.249Z"
   },
   {
    "duration": 0,
    "start_time": "2022-08-23T22:45:45.250Z"
   },
   {
    "duration": 0,
    "start_time": "2022-08-23T22:45:45.252Z"
   },
   {
    "duration": 0,
    "start_time": "2022-08-23T22:45:45.254Z"
   },
   {
    "duration": 0,
    "start_time": "2022-08-23T22:45:45.255Z"
   },
   {
    "duration": 0,
    "start_time": "2022-08-23T22:45:45.256Z"
   },
   {
    "duration": 0,
    "start_time": "2022-08-23T22:45:45.256Z"
   },
   {
    "duration": 0,
    "start_time": "2022-08-23T22:45:45.257Z"
   },
   {
    "duration": 0,
    "start_time": "2022-08-23T22:45:45.258Z"
   },
   {
    "duration": 0,
    "start_time": "2022-08-23T22:45:45.259Z"
   },
   {
    "duration": 0,
    "start_time": "2022-08-23T22:45:45.260Z"
   },
   {
    "duration": 0,
    "start_time": "2022-08-23T22:45:45.298Z"
   },
   {
    "duration": 0,
    "start_time": "2022-08-23T22:45:45.299Z"
   },
   {
    "duration": 0,
    "start_time": "2022-08-23T22:45:45.300Z"
   },
   {
    "duration": 0,
    "start_time": "2022-08-23T22:45:45.301Z"
   },
   {
    "duration": 0,
    "start_time": "2022-08-23T22:45:45.301Z"
   },
   {
    "duration": 0,
    "start_time": "2022-08-23T22:45:45.302Z"
   },
   {
    "duration": 0,
    "start_time": "2022-08-23T22:45:45.303Z"
   },
   {
    "duration": 0,
    "start_time": "2022-08-23T22:45:45.304Z"
   },
   {
    "duration": 0,
    "start_time": "2022-08-23T22:45:45.305Z"
   },
   {
    "duration": 0,
    "start_time": "2022-08-23T22:45:45.306Z"
   },
   {
    "duration": 0,
    "start_time": "2022-08-23T22:45:45.307Z"
   },
   {
    "duration": 0,
    "start_time": "2022-08-23T22:45:45.308Z"
   },
   {
    "duration": 0,
    "start_time": "2022-08-23T22:45:45.309Z"
   },
   {
    "duration": 0,
    "start_time": "2022-08-23T22:45:45.310Z"
   },
   {
    "duration": 0,
    "start_time": "2022-08-23T22:45:45.311Z"
   },
   {
    "duration": 0,
    "start_time": "2022-08-23T22:45:45.312Z"
   },
   {
    "duration": 0,
    "start_time": "2022-08-23T22:45:45.313Z"
   },
   {
    "duration": 713,
    "start_time": "2022-08-23T22:46:30.290Z"
   },
   {
    "duration": 1026,
    "start_time": "2022-08-23T22:46:37.096Z"
   },
   {
    "duration": 28,
    "start_time": "2022-08-23T22:46:38.124Z"
   },
   {
    "duration": 13,
    "start_time": "2022-08-23T22:46:38.153Z"
   },
   {
    "duration": 3,
    "start_time": "2022-08-23T22:46:38.168Z"
   },
   {
    "duration": 39,
    "start_time": "2022-08-23T22:46:38.173Z"
   },
   {
    "duration": 7,
    "start_time": "2022-08-23T22:46:38.214Z"
   },
   {
    "duration": 12,
    "start_time": "2022-08-23T22:46:38.223Z"
   },
   {
    "duration": 13,
    "start_time": "2022-08-23T22:46:38.237Z"
   },
   {
    "duration": 10,
    "start_time": "2022-08-23T22:46:38.252Z"
   },
   {
    "duration": 5,
    "start_time": "2022-08-23T22:46:38.265Z"
   },
   {
    "duration": 27,
    "start_time": "2022-08-23T22:46:38.272Z"
   },
   {
    "duration": 5,
    "start_time": "2022-08-23T22:46:38.301Z"
   },
   {
    "duration": 5,
    "start_time": "2022-08-23T22:46:38.307Z"
   },
   {
    "duration": 8,
    "start_time": "2022-08-23T22:46:38.313Z"
   },
   {
    "duration": 7,
    "start_time": "2022-08-23T22:46:38.322Z"
   },
   {
    "duration": 6,
    "start_time": "2022-08-23T22:46:38.330Z"
   },
   {
    "duration": 85,
    "start_time": "2022-08-23T22:46:38.337Z"
   },
   {
    "duration": 7,
    "start_time": "2022-08-23T22:46:38.423Z"
   },
   {
    "duration": 6,
    "start_time": "2022-08-23T22:46:38.431Z"
   },
   {
    "duration": 19,
    "start_time": "2022-08-23T22:46:38.438Z"
   },
   {
    "duration": 7,
    "start_time": "2022-08-23T22:46:38.458Z"
   },
   {
    "duration": 12,
    "start_time": "2022-08-23T22:46:38.466Z"
   },
   {
    "duration": 8,
    "start_time": "2022-08-23T22:46:38.480Z"
   },
   {
    "duration": 10,
    "start_time": "2022-08-23T22:46:38.489Z"
   },
   {
    "duration": 4,
    "start_time": "2022-08-23T22:46:38.500Z"
   },
   {
    "duration": 10,
    "start_time": "2022-08-23T22:46:38.505Z"
   },
   {
    "duration": 5,
    "start_time": "2022-08-23T22:46:38.517Z"
   },
   {
    "duration": 4,
    "start_time": "2022-08-23T22:46:38.525Z"
   },
   {
    "duration": 9,
    "start_time": "2022-08-23T22:46:38.530Z"
   },
   {
    "duration": 7,
    "start_time": "2022-08-23T22:46:38.540Z"
   },
   {
    "duration": 4,
    "start_time": "2022-08-23T22:46:38.548Z"
   },
   {
    "duration": 12,
    "start_time": "2022-08-23T22:46:38.553Z"
   },
   {
    "duration": 4,
    "start_time": "2022-08-23T22:46:38.566Z"
   },
   {
    "duration": 4,
    "start_time": "2022-08-23T22:46:38.599Z"
   },
   {
    "duration": 8,
    "start_time": "2022-08-23T22:46:38.605Z"
   },
   {
    "duration": 12,
    "start_time": "2022-08-23T22:46:38.614Z"
   },
   {
    "duration": 9,
    "start_time": "2022-08-23T22:46:38.629Z"
   },
   {
    "duration": 11,
    "start_time": "2022-08-23T22:46:38.639Z"
   },
   {
    "duration": 8,
    "start_time": "2022-08-23T22:46:38.651Z"
   },
   {
    "duration": 7,
    "start_time": "2022-08-23T22:46:38.660Z"
   },
   {
    "duration": 7,
    "start_time": "2022-08-23T22:46:38.668Z"
   },
   {
    "duration": 23,
    "start_time": "2022-08-23T22:46:38.676Z"
   },
   {
    "duration": 289,
    "start_time": "2022-08-23T22:46:38.700Z"
   },
   {
    "duration": 0,
    "start_time": "2022-08-23T22:46:38.991Z"
   },
   {
    "duration": 0,
    "start_time": "2022-08-23T22:46:38.992Z"
   },
   {
    "duration": 0,
    "start_time": "2022-08-23T22:46:38.993Z"
   },
   {
    "duration": 0,
    "start_time": "2022-08-23T22:46:38.994Z"
   },
   {
    "duration": 0,
    "start_time": "2022-08-23T22:46:38.995Z"
   },
   {
    "duration": 0,
    "start_time": "2022-08-23T22:46:38.996Z"
   },
   {
    "duration": 0,
    "start_time": "2022-08-23T22:46:38.996Z"
   },
   {
    "duration": 0,
    "start_time": "2022-08-23T22:46:38.997Z"
   },
   {
    "duration": 0,
    "start_time": "2022-08-23T22:46:38.998Z"
   },
   {
    "duration": 0,
    "start_time": "2022-08-23T22:46:38.999Z"
   },
   {
    "duration": 0,
    "start_time": "2022-08-23T22:46:39.000Z"
   },
   {
    "duration": 0,
    "start_time": "2022-08-23T22:46:39.001Z"
   },
   {
    "duration": 0,
    "start_time": "2022-08-23T22:46:39.002Z"
   },
   {
    "duration": 0,
    "start_time": "2022-08-23T22:46:39.003Z"
   },
   {
    "duration": 0,
    "start_time": "2022-08-23T22:46:39.004Z"
   },
   {
    "duration": 0,
    "start_time": "2022-08-23T22:46:39.005Z"
   },
   {
    "duration": 0,
    "start_time": "2022-08-23T22:46:39.005Z"
   },
   {
    "duration": 0,
    "start_time": "2022-08-23T22:46:39.006Z"
   },
   {
    "duration": 0,
    "start_time": "2022-08-23T22:46:39.007Z"
   },
   {
    "duration": 0,
    "start_time": "2022-08-23T22:46:39.008Z"
   },
   {
    "duration": 0,
    "start_time": "2022-08-23T22:46:39.009Z"
   },
   {
    "duration": 0,
    "start_time": "2022-08-23T22:46:39.010Z"
   },
   {
    "duration": 0,
    "start_time": "2022-08-23T22:46:39.011Z"
   },
   {
    "duration": 0,
    "start_time": "2022-08-23T22:46:39.011Z"
   },
   {
    "duration": 0,
    "start_time": "2022-08-23T22:46:39.012Z"
   },
   {
    "duration": 0,
    "start_time": "2022-08-23T22:46:39.013Z"
   },
   {
    "duration": 0,
    "start_time": "2022-08-23T22:46:39.014Z"
   },
   {
    "duration": 0,
    "start_time": "2022-08-23T22:46:39.015Z"
   },
   {
    "duration": 0,
    "start_time": "2022-08-23T22:46:39.016Z"
   },
   {
    "duration": 0,
    "start_time": "2022-08-23T22:46:39.017Z"
   },
   {
    "duration": 0,
    "start_time": "2022-08-23T22:46:39.017Z"
   },
   {
    "duration": 0,
    "start_time": "2022-08-23T22:46:39.019Z"
   },
   {
    "duration": 0,
    "start_time": "2022-08-23T22:46:39.019Z"
   },
   {
    "duration": 0,
    "start_time": "2022-08-23T22:46:39.021Z"
   },
   {
    "duration": 0,
    "start_time": "2022-08-23T22:46:39.021Z"
   },
   {
    "duration": 0,
    "start_time": "2022-08-23T22:46:39.023Z"
   },
   {
    "duration": 0,
    "start_time": "2022-08-23T22:46:39.024Z"
   },
   {
    "duration": 0,
    "start_time": "2022-08-23T22:46:39.025Z"
   },
   {
    "duration": 0,
    "start_time": "2022-08-23T22:46:39.025Z"
   },
   {
    "duration": 0,
    "start_time": "2022-08-23T22:46:39.026Z"
   },
   {
    "duration": 0,
    "start_time": "2022-08-23T22:46:39.027Z"
   },
   {
    "duration": 0,
    "start_time": "2022-08-23T22:46:39.028Z"
   },
   {
    "duration": 0,
    "start_time": "2022-08-23T22:46:39.029Z"
   },
   {
    "duration": 0,
    "start_time": "2022-08-23T22:46:39.030Z"
   },
   {
    "duration": 0,
    "start_time": "2022-08-23T22:46:39.031Z"
   },
   {
    "duration": 0,
    "start_time": "2022-08-23T22:46:39.032Z"
   },
   {
    "duration": 12,
    "start_time": "2022-08-23T22:47:18.644Z"
   },
   {
    "duration": 1104,
    "start_time": "2022-08-23T22:47:24.100Z"
   },
   {
    "duration": 29,
    "start_time": "2022-08-23T22:47:25.206Z"
   },
   {
    "duration": 13,
    "start_time": "2022-08-23T22:47:25.237Z"
   },
   {
    "duration": 3,
    "start_time": "2022-08-23T22:47:25.251Z"
   },
   {
    "duration": 40,
    "start_time": "2022-08-23T22:47:25.256Z"
   },
   {
    "duration": 8,
    "start_time": "2022-08-23T22:47:25.297Z"
   },
   {
    "duration": 12,
    "start_time": "2022-08-23T22:47:25.306Z"
   },
   {
    "duration": 14,
    "start_time": "2022-08-23T22:47:25.319Z"
   },
   {
    "duration": 11,
    "start_time": "2022-08-23T22:47:25.334Z"
   },
   {
    "duration": 6,
    "start_time": "2022-08-23T22:47:25.346Z"
   },
   {
    "duration": 7,
    "start_time": "2022-08-23T22:47:25.353Z"
   },
   {
    "duration": 6,
    "start_time": "2022-08-23T22:47:25.361Z"
   },
   {
    "duration": 33,
    "start_time": "2022-08-23T22:47:25.368Z"
   },
   {
    "duration": 6,
    "start_time": "2022-08-23T22:47:25.403Z"
   },
   {
    "duration": 6,
    "start_time": "2022-08-23T22:47:25.410Z"
   },
   {
    "duration": 7,
    "start_time": "2022-08-23T22:47:25.417Z"
   },
   {
    "duration": 83,
    "start_time": "2022-08-23T22:47:25.425Z"
   },
   {
    "duration": 4,
    "start_time": "2022-08-23T22:47:25.509Z"
   },
   {
    "duration": 7,
    "start_time": "2022-08-23T22:47:25.514Z"
   },
   {
    "duration": 2,
    "start_time": "2022-08-23T22:47:25.523Z"
   },
   {
    "duration": 17,
    "start_time": "2022-08-23T22:47:25.526Z"
   },
   {
    "duration": 7,
    "start_time": "2022-08-23T22:47:25.544Z"
   },
   {
    "duration": 9,
    "start_time": "2022-08-23T22:47:25.552Z"
   },
   {
    "duration": 4,
    "start_time": "2022-08-23T22:47:25.562Z"
   },
   {
    "duration": 6,
    "start_time": "2022-08-23T22:47:25.568Z"
   },
   {
    "duration": 25,
    "start_time": "2022-08-23T22:47:25.576Z"
   },
   {
    "duration": 4,
    "start_time": "2022-08-23T22:47:25.602Z"
   },
   {
    "duration": 4,
    "start_time": "2022-08-23T22:47:25.607Z"
   },
   {
    "duration": 4,
    "start_time": "2022-08-23T22:47:25.612Z"
   },
   {
    "duration": 8,
    "start_time": "2022-08-23T22:47:25.617Z"
   },
   {
    "duration": 5,
    "start_time": "2022-08-23T22:47:25.626Z"
   },
   {
    "duration": 3,
    "start_time": "2022-08-23T22:47:25.632Z"
   },
   {
    "duration": 9,
    "start_time": "2022-08-23T22:47:25.637Z"
   },
   {
    "duration": 4,
    "start_time": "2022-08-23T22:47:25.647Z"
   },
   {
    "duration": 6,
    "start_time": "2022-08-23T22:47:25.652Z"
   },
   {
    "duration": 42,
    "start_time": "2022-08-23T22:47:25.659Z"
   },
   {
    "duration": 10,
    "start_time": "2022-08-23T22:47:25.703Z"
   },
   {
    "duration": 9,
    "start_time": "2022-08-23T22:47:25.715Z"
   },
   {
    "duration": 5,
    "start_time": "2022-08-23T22:47:25.725Z"
   },
   {
    "duration": 178,
    "start_time": "2022-08-23T22:47:25.731Z"
   },
   {
    "duration": 120,
    "start_time": "2022-08-23T22:47:25.913Z"
   },
   {
    "duration": 5,
    "start_time": "2022-08-23T22:47:26.034Z"
   },
   {
    "duration": 9,
    "start_time": "2022-08-23T22:47:26.041Z"
   },
   {
    "duration": 4,
    "start_time": "2022-08-23T22:47:26.052Z"
   },
   {
    "duration": 8,
    "start_time": "2022-08-23T22:47:26.057Z"
   },
   {
    "duration": 297,
    "start_time": "2022-08-23T22:47:26.066Z"
   },
   {
    "duration": 201,
    "start_time": "2022-08-23T22:47:26.364Z"
   },
   {
    "duration": 324,
    "start_time": "2022-08-23T22:47:26.566Z"
   },
   {
    "duration": 8,
    "start_time": "2022-08-23T22:47:26.892Z"
   },
   {
    "duration": 6,
    "start_time": "2022-08-23T22:47:26.901Z"
   },
   {
    "duration": 5,
    "start_time": "2022-08-23T22:47:26.908Z"
   },
   {
    "duration": 178,
    "start_time": "2022-08-23T22:47:26.914Z"
   },
   {
    "duration": 8,
    "start_time": "2022-08-23T22:47:27.094Z"
   },
   {
    "duration": 10,
    "start_time": "2022-08-23T22:47:27.104Z"
   },
   {
    "duration": 203,
    "start_time": "2022-08-23T22:47:27.116Z"
   },
   {
    "duration": 7,
    "start_time": "2022-08-23T22:47:27.321Z"
   },
   {
    "duration": 20,
    "start_time": "2022-08-23T22:47:27.329Z"
   },
   {
    "duration": 188,
    "start_time": "2022-08-23T22:47:27.351Z"
   },
   {
    "duration": 59,
    "start_time": "2022-08-23T22:47:27.540Z"
   },
   {
    "duration": 5,
    "start_time": "2022-08-23T22:47:27.601Z"
   },
   {
    "duration": 311,
    "start_time": "2022-08-23T22:47:27.607Z"
   },
   {
    "duration": 11,
    "start_time": "2022-08-23T22:47:27.920Z"
   },
   {
    "duration": 376,
    "start_time": "2022-08-23T22:47:27.932Z"
   },
   {
    "duration": 4,
    "start_time": "2022-08-23T22:47:28.310Z"
   },
   {
    "duration": 487,
    "start_time": "2022-08-23T22:47:28.316Z"
   },
   {
    "duration": 4,
    "start_time": "2022-08-23T22:47:28.804Z"
   },
   {
    "duration": 14,
    "start_time": "2022-08-23T22:47:28.809Z"
   },
   {
    "duration": 14,
    "start_time": "2022-08-23T22:47:28.825Z"
   },
   {
    "duration": 95,
    "start_time": "2022-08-23T22:47:28.841Z"
   },
   {
    "duration": 102,
    "start_time": "2022-08-23T22:47:28.937Z"
   },
   {
    "duration": 57,
    "start_time": "2022-08-23T22:47:29.041Z"
   },
   {
    "duration": 5,
    "start_time": "2022-08-23T22:47:29.100Z"
   },
   {
    "duration": 44,
    "start_time": "2022-08-23T22:47:29.106Z"
   },
   {
    "duration": 67,
    "start_time": "2022-08-23T22:47:29.151Z"
   },
   {
    "duration": 18,
    "start_time": "2022-08-23T22:47:29.220Z"
   },
   {
    "duration": 80,
    "start_time": "2022-08-23T22:47:29.239Z"
   },
   {
    "duration": 83,
    "start_time": "2022-08-23T22:47:29.320Z"
   },
   {
    "duration": 6,
    "start_time": "2022-08-23T22:47:29.405Z"
   },
   {
    "duration": 10,
    "start_time": "2022-08-23T22:47:29.412Z"
   },
   {
    "duration": 3,
    "start_time": "2022-08-23T22:47:29.424Z"
   },
   {
    "duration": 9,
    "start_time": "2022-08-23T22:47:29.429Z"
   },
   {
    "duration": 23,
    "start_time": "2022-08-23T22:47:29.439Z"
   },
   {
    "duration": 9,
    "start_time": "2022-08-23T22:47:29.463Z"
   },
   {
    "duration": 8,
    "start_time": "2022-08-23T22:47:29.473Z"
   },
   {
    "duration": 144,
    "start_time": "2022-08-23T22:47:29.483Z"
   },
   {
    "duration": 7,
    "start_time": "2022-08-23T22:47:29.628Z"
   },
   {
    "duration": 6,
    "start_time": "2022-08-23T22:47:29.637Z"
   },
   {
    "duration": 7,
    "start_time": "2022-08-23T22:47:29.645Z"
   },
   {
    "duration": 20,
    "start_time": "2022-08-23T22:47:29.653Z"
   },
   {
    "duration": 31,
    "start_time": "2022-08-23T22:47:29.675Z"
   },
   {
    "duration": 96,
    "start_time": "2022-08-23T22:48:18.744Z"
   },
   {
    "duration": 1032,
    "start_time": "2022-08-23T22:48:31.282Z"
   },
   {
    "duration": 27,
    "start_time": "2022-08-23T22:48:32.316Z"
   },
   {
    "duration": 11,
    "start_time": "2022-08-23T22:48:32.345Z"
   },
   {
    "duration": 3,
    "start_time": "2022-08-23T22:48:32.357Z"
   },
   {
    "duration": 45,
    "start_time": "2022-08-23T22:48:32.362Z"
   },
   {
    "duration": 9,
    "start_time": "2022-08-23T22:48:32.408Z"
   },
   {
    "duration": 14,
    "start_time": "2022-08-23T22:48:32.418Z"
   },
   {
    "duration": 17,
    "start_time": "2022-08-23T22:48:32.433Z"
   },
   {
    "duration": 22,
    "start_time": "2022-08-23T22:48:32.451Z"
   },
   {
    "duration": 40,
    "start_time": "2022-08-23T22:48:32.474Z"
   },
   {
    "duration": 9,
    "start_time": "2022-08-23T22:48:32.515Z"
   },
   {
    "duration": 6,
    "start_time": "2022-08-23T22:48:32.525Z"
   },
   {
    "duration": 3,
    "start_time": "2022-08-23T22:48:32.533Z"
   },
   {
    "duration": 4,
    "start_time": "2022-08-23T22:48:32.539Z"
   },
   {
    "duration": 6,
    "start_time": "2022-08-23T22:48:32.545Z"
   },
   {
    "duration": 6,
    "start_time": "2022-08-23T22:48:32.552Z"
   },
   {
    "duration": 75,
    "start_time": "2022-08-23T22:48:32.559Z"
   },
   {
    "duration": 4,
    "start_time": "2022-08-23T22:48:32.636Z"
   },
   {
    "duration": 6,
    "start_time": "2022-08-23T22:48:32.641Z"
   },
   {
    "duration": 3,
    "start_time": "2022-08-23T22:48:32.648Z"
   },
   {
    "duration": 18,
    "start_time": "2022-08-23T22:48:32.653Z"
   },
   {
    "duration": 6,
    "start_time": "2022-08-23T22:48:32.673Z"
   },
   {
    "duration": 19,
    "start_time": "2022-08-23T22:48:32.680Z"
   },
   {
    "duration": 3,
    "start_time": "2022-08-23T22:48:32.701Z"
   },
   {
    "duration": 7,
    "start_time": "2022-08-23T22:48:32.706Z"
   },
   {
    "duration": 9,
    "start_time": "2022-08-23T22:48:32.715Z"
   },
   {
    "duration": 6,
    "start_time": "2022-08-23T22:48:32.725Z"
   },
   {
    "duration": 8,
    "start_time": "2022-08-23T22:48:32.732Z"
   },
   {
    "duration": 6,
    "start_time": "2022-08-23T22:48:32.741Z"
   },
   {
    "duration": 9,
    "start_time": "2022-08-23T22:48:32.748Z"
   },
   {
    "duration": 9,
    "start_time": "2022-08-23T22:48:32.758Z"
   },
   {
    "duration": 4,
    "start_time": "2022-08-23T22:48:32.768Z"
   },
   {
    "duration": 26,
    "start_time": "2022-08-23T22:48:32.773Z"
   },
   {
    "duration": 4,
    "start_time": "2022-08-23T22:48:32.800Z"
   },
   {
    "duration": 11,
    "start_time": "2022-08-23T22:48:32.806Z"
   },
   {
    "duration": 8,
    "start_time": "2022-08-23T22:48:32.819Z"
   },
   {
    "duration": 11,
    "start_time": "2022-08-23T22:48:32.829Z"
   },
   {
    "duration": 8,
    "start_time": "2022-08-23T22:48:32.841Z"
   },
   {
    "duration": 8,
    "start_time": "2022-08-23T22:48:32.850Z"
   },
   {
    "duration": 192,
    "start_time": "2022-08-23T22:48:32.859Z"
   },
   {
    "duration": 112,
    "start_time": "2022-08-23T22:48:33.056Z"
   },
   {
    "duration": 6,
    "start_time": "2022-08-23T22:48:33.169Z"
   },
   {
    "duration": 23,
    "start_time": "2022-08-23T22:48:33.176Z"
   },
   {
    "duration": 3,
    "start_time": "2022-08-23T22:48:33.200Z"
   },
   {
    "duration": 15,
    "start_time": "2022-08-23T22:48:33.204Z"
   },
   {
    "duration": 274,
    "start_time": "2022-08-23T22:48:33.220Z"
   },
   {
    "duration": 203,
    "start_time": "2022-08-23T22:48:33.495Z"
   },
   {
    "duration": 325,
    "start_time": "2022-08-23T22:48:33.700Z"
   },
   {
    "duration": 4,
    "start_time": "2022-08-23T22:48:34.026Z"
   },
   {
    "duration": 12,
    "start_time": "2022-08-23T22:48:34.031Z"
   },
   {
    "duration": 4,
    "start_time": "2022-08-23T22:48:34.044Z"
   },
   {
    "duration": 180,
    "start_time": "2022-08-23T22:48:34.050Z"
   },
   {
    "duration": 7,
    "start_time": "2022-08-23T22:48:34.232Z"
   },
   {
    "duration": 9,
    "start_time": "2022-08-23T22:48:34.241Z"
   },
   {
    "duration": 215,
    "start_time": "2022-08-23T22:48:34.251Z"
   },
   {
    "duration": 9,
    "start_time": "2022-08-23T22:48:34.468Z"
   },
   {
    "duration": 25,
    "start_time": "2022-08-23T22:48:34.478Z"
   },
   {
    "duration": 164,
    "start_time": "2022-08-23T22:48:34.504Z"
   },
   {
    "duration": 5,
    "start_time": "2022-08-23T22:48:34.669Z"
   },
   {
    "duration": 7,
    "start_time": "2022-08-23T22:48:34.675Z"
   },
   {
    "duration": 164,
    "start_time": "2022-08-23T22:48:34.683Z"
   },
   {
    "duration": 9,
    "start_time": "2022-08-23T22:48:34.848Z"
   },
   {
    "duration": 210,
    "start_time": "2022-08-23T22:48:34.858Z"
   },
   {
    "duration": 4,
    "start_time": "2022-08-23T22:48:35.070Z"
   },
   {
    "duration": 467,
    "start_time": "2022-08-23T22:48:35.076Z"
   },
   {
    "duration": 56,
    "start_time": "2022-08-23T22:48:35.545Z"
   },
   {
    "duration": 13,
    "start_time": "2022-08-23T22:48:35.602Z"
   },
   {
    "duration": 12,
    "start_time": "2022-08-23T22:48:35.617Z"
   },
   {
    "duration": 103,
    "start_time": "2022-08-23T22:48:35.631Z"
   },
   {
    "duration": 100,
    "start_time": "2022-08-23T22:48:35.735Z"
   },
   {
    "duration": 6,
    "start_time": "2022-08-23T22:48:35.837Z"
   },
   {
    "duration": 4,
    "start_time": "2022-08-23T22:48:35.898Z"
   },
   {
    "duration": 39,
    "start_time": "2022-08-23T22:48:35.904Z"
   },
   {
    "duration": 47,
    "start_time": "2022-08-23T22:48:35.998Z"
   },
   {
    "duration": 72,
    "start_time": "2022-08-23T22:48:36.046Z"
   },
   {
    "duration": 118,
    "start_time": "2022-08-23T22:48:36.119Z"
   },
   {
    "duration": 169,
    "start_time": "2022-08-23T22:48:36.239Z"
   },
   {
    "duration": 4,
    "start_time": "2022-08-23T22:48:36.409Z"
   },
   {
    "duration": 9,
    "start_time": "2022-08-23T22:48:36.415Z"
   },
   {
    "duration": 5,
    "start_time": "2022-08-23T22:48:36.425Z"
   },
   {
    "duration": 4,
    "start_time": "2022-08-23T22:48:36.431Z"
   },
   {
    "duration": 70,
    "start_time": "2022-08-23T22:48:36.436Z"
   },
   {
    "duration": 10,
    "start_time": "2022-08-23T22:48:36.507Z"
   },
   {
    "duration": 7,
    "start_time": "2022-08-23T22:48:36.518Z"
   },
   {
    "duration": 273,
    "start_time": "2022-08-23T22:48:36.526Z"
   },
   {
    "duration": 7,
    "start_time": "2022-08-23T22:48:36.801Z"
   },
   {
    "duration": 7,
    "start_time": "2022-08-23T22:48:36.810Z"
   },
   {
    "duration": 6,
    "start_time": "2022-08-23T22:48:36.818Z"
   },
   {
    "duration": 21,
    "start_time": "2022-08-23T22:48:36.825Z"
   },
   {
    "duration": 56,
    "start_time": "2022-08-23T22:48:36.848Z"
   },
   {
    "duration": 1083,
    "start_time": "2022-08-23T23:58:34.345Z"
   },
   {
    "duration": 59,
    "start_time": "2022-08-23T23:58:35.431Z"
   },
   {
    "duration": 11,
    "start_time": "2022-08-23T23:58:35.492Z"
   },
   {
    "duration": 3,
    "start_time": "2022-08-23T23:58:35.505Z"
   },
   {
    "duration": 85,
    "start_time": "2022-08-23T23:58:35.510Z"
   },
   {
    "duration": 9,
    "start_time": "2022-08-23T23:58:35.596Z"
   },
   {
    "duration": 14,
    "start_time": "2022-08-23T23:58:35.607Z"
   },
   {
    "duration": 14,
    "start_time": "2022-08-23T23:58:35.623Z"
   },
   {
    "duration": 13,
    "start_time": "2022-08-23T23:58:35.638Z"
   },
   {
    "duration": 7,
    "start_time": "2022-08-23T23:58:35.654Z"
   },
   {
    "duration": 26,
    "start_time": "2022-08-23T23:58:35.662Z"
   },
   {
    "duration": 8,
    "start_time": "2022-08-23T23:58:35.690Z"
   },
   {
    "duration": 7,
    "start_time": "2022-08-23T23:58:35.699Z"
   },
   {
    "duration": 12,
    "start_time": "2022-08-23T23:58:35.707Z"
   },
   {
    "duration": 6,
    "start_time": "2022-08-23T23:58:35.721Z"
   },
   {
    "duration": 7,
    "start_time": "2022-08-23T23:58:35.729Z"
   },
   {
    "duration": 86,
    "start_time": "2022-08-23T23:58:35.737Z"
   },
   {
    "duration": 3,
    "start_time": "2022-08-23T23:58:35.825Z"
   },
   {
    "duration": 4,
    "start_time": "2022-08-23T23:58:35.830Z"
   },
   {
    "duration": 5,
    "start_time": "2022-08-23T23:58:35.836Z"
   },
   {
    "duration": 55,
    "start_time": "2022-08-23T23:58:35.842Z"
   },
   {
    "duration": 8,
    "start_time": "2022-08-23T23:58:35.899Z"
   },
   {
    "duration": 18,
    "start_time": "2022-08-23T23:58:35.909Z"
   },
   {
    "duration": 7,
    "start_time": "2022-08-23T23:58:35.929Z"
   },
   {
    "duration": 11,
    "start_time": "2022-08-23T23:58:35.937Z"
   },
   {
    "duration": 12,
    "start_time": "2022-08-23T23:58:35.949Z"
   },
   {
    "duration": 6,
    "start_time": "2022-08-23T23:58:35.962Z"
   },
   {
    "duration": 6,
    "start_time": "2022-08-23T23:58:35.972Z"
   },
   {
    "duration": 4,
    "start_time": "2022-08-23T23:58:35.986Z"
   },
   {
    "duration": 15,
    "start_time": "2022-08-23T23:58:35.992Z"
   },
   {
    "duration": 17,
    "start_time": "2022-08-23T23:58:36.011Z"
   },
   {
    "duration": 5,
    "start_time": "2022-08-23T23:58:36.030Z"
   },
   {
    "duration": 24,
    "start_time": "2022-08-23T23:58:36.037Z"
   },
   {
    "duration": 7,
    "start_time": "2022-08-23T23:58:36.063Z"
   },
   {
    "duration": 19,
    "start_time": "2022-08-23T23:58:36.072Z"
   },
   {
    "duration": 18,
    "start_time": "2022-08-23T23:58:36.093Z"
   },
   {
    "duration": 19,
    "start_time": "2022-08-23T23:58:36.113Z"
   },
   {
    "duration": 12,
    "start_time": "2022-08-23T23:58:36.134Z"
   },
   {
    "duration": 11,
    "start_time": "2022-08-23T23:58:36.148Z"
   },
   {
    "duration": 253,
    "start_time": "2022-08-23T23:58:36.161Z"
   },
   {
    "duration": 134,
    "start_time": "2022-08-23T23:58:36.416Z"
   },
   {
    "duration": 7,
    "start_time": "2022-08-23T23:58:36.552Z"
   },
   {
    "duration": 17,
    "start_time": "2022-08-23T23:58:36.561Z"
   },
   {
    "duration": 11,
    "start_time": "2022-08-23T23:58:36.580Z"
   },
   {
    "duration": 11,
    "start_time": "2022-08-23T23:58:36.593Z"
   },
   {
    "duration": 291,
    "start_time": "2022-08-23T23:58:36.605Z"
   },
   {
    "duration": 207,
    "start_time": "2022-08-23T23:58:36.897Z"
   },
   {
    "duration": 326,
    "start_time": "2022-08-23T23:58:37.106Z"
   },
   {
    "duration": 4,
    "start_time": "2022-08-23T23:58:37.434Z"
   },
   {
    "duration": 9,
    "start_time": "2022-08-23T23:58:37.439Z"
   },
   {
    "duration": 7,
    "start_time": "2022-08-23T23:58:37.449Z"
   },
   {
    "duration": 223,
    "start_time": "2022-08-23T23:58:37.458Z"
   },
   {
    "duration": 10,
    "start_time": "2022-08-23T23:58:37.682Z"
   },
   {
    "duration": 13,
    "start_time": "2022-08-23T23:58:37.693Z"
   },
   {
    "duration": 216,
    "start_time": "2022-08-23T23:58:37.708Z"
   },
   {
    "duration": 8,
    "start_time": "2022-08-23T23:58:37.926Z"
   },
   {
    "duration": 13,
    "start_time": "2022-08-23T23:58:37.935Z"
   },
   {
    "duration": 201,
    "start_time": "2022-08-23T23:58:37.950Z"
   },
   {
    "duration": 4,
    "start_time": "2022-08-23T23:58:38.153Z"
   },
   {
    "duration": 7,
    "start_time": "2022-08-23T23:58:38.159Z"
   },
   {
    "duration": 182,
    "start_time": "2022-08-23T23:58:38.168Z"
   },
   {
    "duration": 10,
    "start_time": "2022-08-23T23:58:38.352Z"
   },
   {
    "duration": 200,
    "start_time": "2022-08-23T23:58:38.363Z"
   },
   {
    "duration": 5,
    "start_time": "2022-08-23T23:58:38.565Z"
   },
   {
    "duration": 274,
    "start_time": "2022-08-23T23:58:38.571Z"
   },
   {
    "duration": 5,
    "start_time": "2022-08-23T23:58:38.846Z"
   },
   {
    "duration": 27,
    "start_time": "2022-08-23T23:58:38.853Z"
   },
   {
    "duration": 21,
    "start_time": "2022-08-23T23:58:38.882Z"
   },
   {
    "duration": 47,
    "start_time": "2022-08-23T23:58:38.905Z"
   },
   {
    "duration": 55,
    "start_time": "2022-08-23T23:58:38.954Z"
   },
   {
    "duration": 20,
    "start_time": "2022-08-23T23:58:39.010Z"
   },
   {
    "duration": 17,
    "start_time": "2022-08-23T23:58:39.032Z"
   },
   {
    "duration": 51,
    "start_time": "2022-08-23T23:58:39.050Z"
   },
   {
    "duration": 45,
    "start_time": "2022-08-23T23:58:39.103Z"
   },
   {
    "duration": 20,
    "start_time": "2022-08-23T23:58:39.150Z"
   },
   {
    "duration": 77,
    "start_time": "2022-08-23T23:58:39.172Z"
   },
   {
    "duration": 86,
    "start_time": "2022-08-23T23:58:39.251Z"
   },
   {
    "duration": 5,
    "start_time": "2022-08-23T23:58:39.338Z"
   },
   {
    "duration": 18,
    "start_time": "2022-08-23T23:58:39.344Z"
   },
   {
    "duration": 14,
    "start_time": "2022-08-23T23:58:39.364Z"
   },
   {
    "duration": 11,
    "start_time": "2022-08-23T23:58:39.380Z"
   },
   {
    "duration": 47,
    "start_time": "2022-08-23T23:58:39.395Z"
   },
   {
    "duration": 10,
    "start_time": "2022-08-23T23:58:39.443Z"
   },
   {
    "duration": 19,
    "start_time": "2022-08-23T23:58:39.454Z"
   },
   {
    "duration": 129,
    "start_time": "2022-08-23T23:58:39.475Z"
   },
   {
    "duration": 7,
    "start_time": "2022-08-23T23:58:39.606Z"
   },
   {
    "duration": 20,
    "start_time": "2022-08-23T23:58:39.615Z"
   },
   {
    "duration": 8,
    "start_time": "2022-08-23T23:58:39.637Z"
   },
   {
    "duration": 48,
    "start_time": "2022-08-23T23:58:39.646Z"
   },
   {
    "duration": 16,
    "start_time": "2022-08-23T23:58:39.696Z"
   },
   {
    "duration": 6,
    "start_time": "2022-08-24T00:05:36.038Z"
   },
   {
    "duration": 5,
    "start_time": "2022-08-24T00:05:48.960Z"
   },
   {
    "duration": 4,
    "start_time": "2022-08-24T00:06:00.610Z"
   },
   {
    "duration": 5,
    "start_time": "2022-08-24T00:06:17.851Z"
   },
   {
    "duration": 6,
    "start_time": "2022-08-24T00:07:37.778Z"
   },
   {
    "duration": 101,
    "start_time": "2022-08-24T00:13:16.723Z"
   },
   {
    "duration": 10,
    "start_time": "2022-08-24T00:13:24.061Z"
   },
   {
    "duration": 1087,
    "start_time": "2022-08-24T00:19:50.640Z"
   },
   {
    "duration": 27,
    "start_time": "2022-08-24T00:19:51.729Z"
   },
   {
    "duration": 10,
    "start_time": "2022-08-24T00:19:51.757Z"
   },
   {
    "duration": 14,
    "start_time": "2022-08-24T00:19:51.769Z"
   },
   {
    "duration": 51,
    "start_time": "2022-08-24T00:19:51.785Z"
   },
   {
    "duration": 9,
    "start_time": "2022-08-24T00:19:51.838Z"
   },
   {
    "duration": 32,
    "start_time": "2022-08-24T00:19:51.848Z"
   },
   {
    "duration": 18,
    "start_time": "2022-08-24T00:19:51.882Z"
   },
   {
    "duration": 15,
    "start_time": "2022-08-24T00:19:51.902Z"
   },
   {
    "duration": 9,
    "start_time": "2022-08-24T00:19:51.920Z"
   },
   {
    "duration": 6,
    "start_time": "2022-08-24T00:19:51.931Z"
   },
   {
    "duration": 14,
    "start_time": "2022-08-24T00:19:51.939Z"
   },
   {
    "duration": 5,
    "start_time": "2022-08-24T00:19:51.955Z"
   },
   {
    "duration": 8,
    "start_time": "2022-08-24T00:19:51.962Z"
   },
   {
    "duration": 18,
    "start_time": "2022-08-24T00:19:51.971Z"
   },
   {
    "duration": 10,
    "start_time": "2022-08-24T00:19:51.991Z"
   },
   {
    "duration": 25,
    "start_time": "2022-08-24T00:19:52.003Z"
   },
   {
    "duration": 8,
    "start_time": "2022-08-24T00:19:52.031Z"
   },
   {
    "duration": 18,
    "start_time": "2022-08-24T00:19:52.041Z"
   },
   {
    "duration": 14,
    "start_time": "2022-08-24T00:19:52.061Z"
   },
   {
    "duration": 8,
    "start_time": "2022-08-24T00:19:52.077Z"
   },
   {
    "duration": 6,
    "start_time": "2022-08-24T00:19:52.087Z"
   },
   {
    "duration": 9,
    "start_time": "2022-08-24T00:19:52.094Z"
   },
   {
    "duration": 16,
    "start_time": "2022-08-24T00:19:52.104Z"
   },
   {
    "duration": 6,
    "start_time": "2022-08-24T00:19:52.122Z"
   },
   {
    "duration": 14,
    "start_time": "2022-08-24T00:19:52.130Z"
   },
   {
    "duration": 13,
    "start_time": "2022-08-24T00:19:52.146Z"
   },
   {
    "duration": 3,
    "start_time": "2022-08-24T00:19:52.163Z"
   },
   {
    "duration": 20,
    "start_time": "2022-08-24T00:19:52.168Z"
   },
   {
    "duration": 22,
    "start_time": "2022-08-24T00:19:52.189Z"
   },
   {
    "duration": 10,
    "start_time": "2022-08-24T00:19:52.212Z"
   },
   {
    "duration": 15,
    "start_time": "2022-08-24T00:19:52.223Z"
   },
   {
    "duration": 12,
    "start_time": "2022-08-24T00:19:52.240Z"
   },
   {
    "duration": 9,
    "start_time": "2022-08-24T00:19:52.254Z"
   },
   {
    "duration": 8,
    "start_time": "2022-08-24T00:19:52.265Z"
   },
   {
    "duration": 191,
    "start_time": "2022-08-24T00:19:52.275Z"
   },
   {
    "duration": 125,
    "start_time": "2022-08-24T00:19:52.468Z"
   },
   {
    "duration": 6,
    "start_time": "2022-08-24T00:19:52.594Z"
   },
   {
    "duration": 14,
    "start_time": "2022-08-24T00:19:52.602Z"
   },
   {
    "duration": 6,
    "start_time": "2022-08-24T00:19:52.618Z"
   },
   {
    "duration": 13,
    "start_time": "2022-08-24T00:19:52.625Z"
   },
   {
    "duration": 287,
    "start_time": "2022-08-24T00:19:52.639Z"
   },
   {
    "duration": 211,
    "start_time": "2022-08-24T00:19:52.927Z"
   },
   {
    "duration": 296,
    "start_time": "2022-08-24T00:19:53.139Z"
   },
   {
    "duration": 3,
    "start_time": "2022-08-24T00:19:53.437Z"
   },
   {
    "duration": 8,
    "start_time": "2022-08-24T00:19:53.442Z"
   },
   {
    "duration": 8,
    "start_time": "2022-08-24T00:19:53.451Z"
   },
   {
    "duration": 187,
    "start_time": "2022-08-24T00:19:53.460Z"
   },
   {
    "duration": 7,
    "start_time": "2022-08-24T00:19:53.648Z"
   },
   {
    "duration": 13,
    "start_time": "2022-08-24T00:19:53.657Z"
   },
   {
    "duration": 207,
    "start_time": "2022-08-24T00:19:53.672Z"
   },
   {
    "duration": 8,
    "start_time": "2022-08-24T00:19:53.881Z"
   },
   {
    "duration": 14,
    "start_time": "2022-08-24T00:19:53.891Z"
   },
   {
    "duration": 180,
    "start_time": "2022-08-24T00:19:53.906Z"
   },
   {
    "duration": 6,
    "start_time": "2022-08-24T00:19:54.088Z"
   },
   {
    "duration": 12,
    "start_time": "2022-08-24T00:19:54.096Z"
   },
   {
    "duration": 190,
    "start_time": "2022-08-24T00:19:54.110Z"
   },
   {
    "duration": 5,
    "start_time": "2022-08-24T00:19:54.302Z"
   },
   {
    "duration": 217,
    "start_time": "2022-08-24T00:19:54.309Z"
   },
   {
    "duration": 5,
    "start_time": "2022-08-24T00:19:54.528Z"
   },
   {
    "duration": 19,
    "start_time": "2022-08-24T00:19:54.535Z"
   },
   {
    "duration": 34,
    "start_time": "2022-08-24T00:19:54.556Z"
   },
   {
    "duration": 125,
    "start_time": "2022-08-24T00:19:54.592Z"
   },
   {
    "duration": 49,
    "start_time": "2022-08-24T00:19:54.718Z"
   },
   {
    "duration": 18,
    "start_time": "2022-08-24T00:19:54.769Z"
   },
   {
    "duration": 7,
    "start_time": "2022-08-24T00:19:54.788Z"
   },
   {
    "duration": 45,
    "start_time": "2022-08-24T00:19:54.796Z"
   },
   {
    "duration": 59,
    "start_time": "2022-08-24T00:19:54.842Z"
   },
   {
    "duration": 25,
    "start_time": "2022-08-24T00:19:54.903Z"
   },
   {
    "duration": 10,
    "start_time": "2022-08-24T00:19:54.929Z"
   },
   {
    "duration": 76,
    "start_time": "2022-08-24T00:19:54.940Z"
   },
   {
    "duration": 86,
    "start_time": "2022-08-24T00:19:55.017Z"
   },
   {
    "duration": 4,
    "start_time": "2022-08-24T00:19:55.105Z"
   },
   {
    "duration": 6,
    "start_time": "2022-08-24T00:19:55.111Z"
   },
   {
    "duration": 29,
    "start_time": "2022-08-24T00:19:55.119Z"
   },
   {
    "duration": 11,
    "start_time": "2022-08-24T00:19:55.149Z"
   },
   {
    "duration": 30,
    "start_time": "2022-08-24T00:19:55.161Z"
   },
   {
    "duration": 126,
    "start_time": "2022-08-24T00:19:55.192Z"
   },
   {
    "duration": 8,
    "start_time": "2022-08-24T00:19:55.319Z"
   },
   {
    "duration": 12,
    "start_time": "2022-08-24T00:19:55.329Z"
   },
   {
    "duration": 10,
    "start_time": "2022-08-24T00:19:55.343Z"
   },
   {
    "duration": 37,
    "start_time": "2022-08-24T00:19:55.357Z"
   },
   {
    "duration": 13,
    "start_time": "2022-08-24T00:19:55.395Z"
   },
   {
    "duration": 50,
    "start_time": "2022-08-24T07:27:01.375Z"
   },
   {
    "duration": 1374,
    "start_time": "2022-08-24T07:27:06.239Z"
   },
   {
    "duration": 60,
    "start_time": "2022-08-24T07:27:07.616Z"
   },
   {
    "duration": 14,
    "start_time": "2022-08-24T07:27:07.678Z"
   },
   {
    "duration": 7,
    "start_time": "2022-08-24T07:27:07.694Z"
   },
   {
    "duration": 88,
    "start_time": "2022-08-24T07:27:07.703Z"
   },
   {
    "duration": 11,
    "start_time": "2022-08-24T07:27:07.794Z"
   },
   {
    "duration": 18,
    "start_time": "2022-08-24T07:27:07.806Z"
   },
   {
    "duration": 17,
    "start_time": "2022-08-24T07:27:07.826Z"
   },
   {
    "duration": 13,
    "start_time": "2022-08-24T07:27:07.845Z"
   },
   {
    "duration": 9,
    "start_time": "2022-08-24T07:27:07.860Z"
   },
   {
    "duration": 7,
    "start_time": "2022-08-24T07:27:07.871Z"
   },
   {
    "duration": 7,
    "start_time": "2022-08-24T07:27:07.903Z"
   },
   {
    "duration": 6,
    "start_time": "2022-08-24T07:27:07.912Z"
   },
   {
    "duration": 7,
    "start_time": "2022-08-24T07:27:07.920Z"
   },
   {
    "duration": 10,
    "start_time": "2022-08-24T07:27:07.929Z"
   },
   {
    "duration": 4,
    "start_time": "2022-08-24T07:27:07.940Z"
   },
   {
    "duration": 60,
    "start_time": "2022-08-24T07:27:07.946Z"
   },
   {
    "duration": 8,
    "start_time": "2022-08-24T07:27:08.008Z"
   },
   {
    "duration": 18,
    "start_time": "2022-08-24T07:27:08.018Z"
   },
   {
    "duration": 23,
    "start_time": "2022-08-24T07:27:08.038Z"
   },
   {
    "duration": 15,
    "start_time": "2022-08-24T07:27:08.063Z"
   },
   {
    "duration": 15,
    "start_time": "2022-08-24T07:27:08.080Z"
   },
   {
    "duration": 11,
    "start_time": "2022-08-24T07:27:08.096Z"
   },
   {
    "duration": 9,
    "start_time": "2022-08-24T07:27:08.109Z"
   },
   {
    "duration": 34,
    "start_time": "2022-08-24T07:27:08.120Z"
   },
   {
    "duration": 17,
    "start_time": "2022-08-24T07:27:08.156Z"
   },
   {
    "duration": 128,
    "start_time": "2022-08-24T07:27:08.176Z"
   },
   {
    "duration": 0,
    "start_time": "2022-08-24T07:27:08.307Z"
   },
   {
    "duration": 0,
    "start_time": "2022-08-24T07:27:08.308Z"
   },
   {
    "duration": 0,
    "start_time": "2022-08-24T07:27:08.310Z"
   },
   {
    "duration": 0,
    "start_time": "2022-08-24T07:27:08.311Z"
   },
   {
    "duration": 0,
    "start_time": "2022-08-24T07:27:08.313Z"
   },
   {
    "duration": 0,
    "start_time": "2022-08-24T07:27:08.314Z"
   },
   {
    "duration": 0,
    "start_time": "2022-08-24T07:27:08.315Z"
   },
   {
    "duration": 0,
    "start_time": "2022-08-24T07:27:08.317Z"
   },
   {
    "duration": 0,
    "start_time": "2022-08-24T07:27:08.318Z"
   },
   {
    "duration": 0,
    "start_time": "2022-08-24T07:27:08.319Z"
   },
   {
    "duration": 1,
    "start_time": "2022-08-24T07:27:08.320Z"
   },
   {
    "duration": 0,
    "start_time": "2022-08-24T07:27:08.322Z"
   },
   {
    "duration": 0,
    "start_time": "2022-08-24T07:27:08.323Z"
   },
   {
    "duration": 0,
    "start_time": "2022-08-24T07:27:08.324Z"
   },
   {
    "duration": 0,
    "start_time": "2022-08-24T07:27:08.326Z"
   },
   {
    "duration": 0,
    "start_time": "2022-08-24T07:27:08.327Z"
   },
   {
    "duration": 0,
    "start_time": "2022-08-24T07:27:08.328Z"
   },
   {
    "duration": 0,
    "start_time": "2022-08-24T07:27:08.330Z"
   },
   {
    "duration": 0,
    "start_time": "2022-08-24T07:27:08.331Z"
   },
   {
    "duration": 0,
    "start_time": "2022-08-24T07:27:08.332Z"
   },
   {
    "duration": 0,
    "start_time": "2022-08-24T07:27:08.334Z"
   },
   {
    "duration": 0,
    "start_time": "2022-08-24T07:27:08.335Z"
   },
   {
    "duration": 0,
    "start_time": "2022-08-24T07:27:08.336Z"
   },
   {
    "duration": 0,
    "start_time": "2022-08-24T07:27:08.337Z"
   },
   {
    "duration": 0,
    "start_time": "2022-08-24T07:27:08.339Z"
   },
   {
    "duration": 0,
    "start_time": "2022-08-24T07:27:08.340Z"
   },
   {
    "duration": 0,
    "start_time": "2022-08-24T07:27:08.341Z"
   },
   {
    "duration": 0,
    "start_time": "2022-08-24T07:27:08.343Z"
   },
   {
    "duration": 0,
    "start_time": "2022-08-24T07:27:08.345Z"
   },
   {
    "duration": 0,
    "start_time": "2022-08-24T07:27:08.403Z"
   },
   {
    "duration": 0,
    "start_time": "2022-08-24T07:27:08.404Z"
   },
   {
    "duration": 0,
    "start_time": "2022-08-24T07:27:08.406Z"
   },
   {
    "duration": 0,
    "start_time": "2022-08-24T07:27:08.407Z"
   },
   {
    "duration": 0,
    "start_time": "2022-08-24T07:27:08.409Z"
   },
   {
    "duration": 0,
    "start_time": "2022-08-24T07:27:08.411Z"
   },
   {
    "duration": 0,
    "start_time": "2022-08-24T07:27:08.412Z"
   },
   {
    "duration": 0,
    "start_time": "2022-08-24T07:27:08.415Z"
   },
   {
    "duration": 0,
    "start_time": "2022-08-24T07:27:08.416Z"
   },
   {
    "duration": 0,
    "start_time": "2022-08-24T07:27:08.417Z"
   },
   {
    "duration": 0,
    "start_time": "2022-08-24T07:27:08.418Z"
   },
   {
    "duration": 0,
    "start_time": "2022-08-24T07:27:08.419Z"
   },
   {
    "duration": 0,
    "start_time": "2022-08-24T07:27:08.420Z"
   },
   {
    "duration": 0,
    "start_time": "2022-08-24T07:27:08.422Z"
   },
   {
    "duration": 0,
    "start_time": "2022-08-24T07:27:08.423Z"
   },
   {
    "duration": 0,
    "start_time": "2022-08-24T07:27:08.425Z"
   },
   {
    "duration": 0,
    "start_time": "2022-08-24T07:27:08.426Z"
   },
   {
    "duration": 0,
    "start_time": "2022-08-24T07:27:08.428Z"
   },
   {
    "duration": 0,
    "start_time": "2022-08-24T07:27:08.429Z"
   },
   {
    "duration": 0,
    "start_time": "2022-08-24T07:27:08.430Z"
   },
   {
    "duration": 0,
    "start_time": "2022-08-24T07:27:08.431Z"
   },
   {
    "duration": 0,
    "start_time": "2022-08-24T07:27:08.432Z"
   },
   {
    "duration": 0,
    "start_time": "2022-08-24T07:27:08.433Z"
   },
   {
    "duration": 0,
    "start_time": "2022-08-24T07:27:08.435Z"
   },
   {
    "duration": 0,
    "start_time": "2022-08-24T07:27:08.436Z"
   },
   {
    "duration": 0,
    "start_time": "2022-08-24T07:27:08.438Z"
   },
   {
    "duration": 0,
    "start_time": "2022-08-24T07:27:08.439Z"
   },
   {
    "duration": 0,
    "start_time": "2022-08-24T07:27:08.441Z"
   },
   {
    "duration": 0,
    "start_time": "2022-08-24T07:27:08.503Z"
   },
   {
    "duration": 700,
    "start_time": "2022-08-24T07:28:25.639Z"
   },
   {
    "duration": 1089,
    "start_time": "2022-08-24T07:29:36.274Z"
   },
   {
    "duration": 29,
    "start_time": "2022-08-24T07:29:37.365Z"
   },
   {
    "duration": 12,
    "start_time": "2022-08-24T07:29:37.395Z"
   },
   {
    "duration": 4,
    "start_time": "2022-08-24T07:29:37.409Z"
   },
   {
    "duration": 40,
    "start_time": "2022-08-24T07:29:37.414Z"
   },
   {
    "duration": 9,
    "start_time": "2022-08-24T07:29:37.456Z"
   },
   {
    "duration": 17,
    "start_time": "2022-08-24T07:29:37.467Z"
   },
   {
    "duration": 17,
    "start_time": "2022-08-24T07:29:37.485Z"
   },
   {
    "duration": 12,
    "start_time": "2022-08-24T07:29:37.504Z"
   },
   {
    "duration": 14,
    "start_time": "2022-08-24T07:29:37.520Z"
   },
   {
    "duration": 7,
    "start_time": "2022-08-24T07:29:37.536Z"
   },
   {
    "duration": 7,
    "start_time": "2022-08-24T07:29:37.544Z"
   },
   {
    "duration": 10,
    "start_time": "2022-08-24T07:29:37.553Z"
   },
   {
    "duration": 14,
    "start_time": "2022-08-24T07:29:37.565Z"
   },
   {
    "duration": 8,
    "start_time": "2022-08-24T07:29:37.580Z"
   },
   {
    "duration": 4,
    "start_time": "2022-08-24T07:29:37.603Z"
   },
   {
    "duration": 19,
    "start_time": "2022-08-24T07:29:37.609Z"
   },
   {
    "duration": 7,
    "start_time": "2022-08-24T07:29:37.630Z"
   },
   {
    "duration": 13,
    "start_time": "2022-08-24T07:29:37.639Z"
   },
   {
    "duration": 20,
    "start_time": "2022-08-24T07:29:37.654Z"
   },
   {
    "duration": 10,
    "start_time": "2022-08-24T07:29:37.677Z"
   },
   {
    "duration": 8,
    "start_time": "2022-08-24T07:29:37.688Z"
   },
   {
    "duration": 4,
    "start_time": "2022-08-24T07:29:37.703Z"
   },
   {
    "duration": 6,
    "start_time": "2022-08-24T07:29:37.709Z"
   },
   {
    "duration": 7,
    "start_time": "2022-08-24T07:29:37.716Z"
   },
   {
    "duration": 14,
    "start_time": "2022-08-24T07:29:37.724Z"
   },
   {
    "duration": 984,
    "start_time": "2022-08-24T07:29:37.740Z"
   },
   {
    "duration": 0,
    "start_time": "2022-08-24T07:29:38.728Z"
   },
   {
    "duration": 0,
    "start_time": "2022-08-24T07:29:38.730Z"
   },
   {
    "duration": 0,
    "start_time": "2022-08-24T07:29:38.731Z"
   },
   {
    "duration": 0,
    "start_time": "2022-08-24T07:29:38.732Z"
   },
   {
    "duration": 0,
    "start_time": "2022-08-24T07:29:38.734Z"
   },
   {
    "duration": 0,
    "start_time": "2022-08-24T07:29:38.735Z"
   },
   {
    "duration": 0,
    "start_time": "2022-08-24T07:29:38.736Z"
   },
   {
    "duration": 0,
    "start_time": "2022-08-24T07:29:38.737Z"
   },
   {
    "duration": 0,
    "start_time": "2022-08-24T07:29:38.739Z"
   },
   {
    "duration": 0,
    "start_time": "2022-08-24T07:29:38.740Z"
   },
   {
    "duration": 0,
    "start_time": "2022-08-24T07:29:38.741Z"
   },
   {
    "duration": 0,
    "start_time": "2022-08-24T07:29:38.743Z"
   },
   {
    "duration": 0,
    "start_time": "2022-08-24T07:29:38.744Z"
   },
   {
    "duration": 0,
    "start_time": "2022-08-24T07:29:38.745Z"
   },
   {
    "duration": 0,
    "start_time": "2022-08-24T07:29:38.747Z"
   },
   {
    "duration": 0,
    "start_time": "2022-08-24T07:29:38.749Z"
   },
   {
    "duration": 0,
    "start_time": "2022-08-24T07:29:38.750Z"
   },
   {
    "duration": 0,
    "start_time": "2022-08-24T07:29:38.751Z"
   },
   {
    "duration": 0,
    "start_time": "2022-08-24T07:29:38.752Z"
   },
   {
    "duration": 0,
    "start_time": "2022-08-24T07:29:38.754Z"
   },
   {
    "duration": 0,
    "start_time": "2022-08-24T07:29:38.755Z"
   },
   {
    "duration": 0,
    "start_time": "2022-08-24T07:29:38.756Z"
   },
   {
    "duration": 0,
    "start_time": "2022-08-24T07:29:38.757Z"
   },
   {
    "duration": 0,
    "start_time": "2022-08-24T07:29:38.758Z"
   },
   {
    "duration": 0,
    "start_time": "2022-08-24T07:29:38.759Z"
   },
   {
    "duration": 0,
    "start_time": "2022-08-24T07:29:38.760Z"
   },
   {
    "duration": 0,
    "start_time": "2022-08-24T07:29:38.762Z"
   },
   {
    "duration": 0,
    "start_time": "2022-08-24T07:29:38.763Z"
   },
   {
    "duration": 0,
    "start_time": "2022-08-24T07:29:38.764Z"
   },
   {
    "duration": 0,
    "start_time": "2022-08-24T07:29:38.803Z"
   },
   {
    "duration": 0,
    "start_time": "2022-08-24T07:29:38.805Z"
   },
   {
    "duration": 0,
    "start_time": "2022-08-24T07:29:38.806Z"
   },
   {
    "duration": 0,
    "start_time": "2022-08-24T07:29:38.807Z"
   },
   {
    "duration": 0,
    "start_time": "2022-08-24T07:29:38.808Z"
   },
   {
    "duration": 0,
    "start_time": "2022-08-24T07:29:38.809Z"
   },
   {
    "duration": 0,
    "start_time": "2022-08-24T07:29:38.810Z"
   },
   {
    "duration": 0,
    "start_time": "2022-08-24T07:29:38.811Z"
   },
   {
    "duration": 0,
    "start_time": "2022-08-24T07:29:38.812Z"
   },
   {
    "duration": 0,
    "start_time": "2022-08-24T07:29:38.813Z"
   },
   {
    "duration": 0,
    "start_time": "2022-08-24T07:29:38.815Z"
   },
   {
    "duration": 0,
    "start_time": "2022-08-24T07:29:38.816Z"
   },
   {
    "duration": 0,
    "start_time": "2022-08-24T07:29:38.817Z"
   },
   {
    "duration": 0,
    "start_time": "2022-08-24T07:29:38.818Z"
   },
   {
    "duration": 0,
    "start_time": "2022-08-24T07:29:38.819Z"
   },
   {
    "duration": 0,
    "start_time": "2022-08-24T07:29:38.820Z"
   },
   {
    "duration": 0,
    "start_time": "2022-08-24T07:29:38.821Z"
   },
   {
    "duration": 0,
    "start_time": "2022-08-24T07:29:38.822Z"
   },
   {
    "duration": 0,
    "start_time": "2022-08-24T07:29:38.823Z"
   },
   {
    "duration": 0,
    "start_time": "2022-08-24T07:29:38.824Z"
   },
   {
    "duration": 0,
    "start_time": "2022-08-24T07:29:38.825Z"
   },
   {
    "duration": 0,
    "start_time": "2022-08-24T07:29:38.826Z"
   },
   {
    "duration": 0,
    "start_time": "2022-08-24T07:29:38.827Z"
   },
   {
    "duration": 0,
    "start_time": "2022-08-24T07:29:38.828Z"
   },
   {
    "duration": 0,
    "start_time": "2022-08-24T07:29:38.829Z"
   },
   {
    "duration": 0,
    "start_time": "2022-08-24T07:29:38.830Z"
   },
   {
    "duration": 0,
    "start_time": "2022-08-24T07:29:38.831Z"
   },
   {
    "duration": 0,
    "start_time": "2022-08-24T07:29:38.833Z"
   },
   {
    "duration": 0,
    "start_time": "2022-08-24T07:29:38.833Z"
   },
   {
    "duration": 0,
    "start_time": "2022-08-24T07:29:38.834Z"
   },
   {
    "duration": 3,
    "start_time": "2022-08-24T07:30:38.534Z"
   },
   {
    "duration": 26,
    "start_time": "2022-08-24T07:30:41.444Z"
   },
   {
    "duration": 8,
    "start_time": "2022-08-24T07:30:43.462Z"
   },
   {
    "duration": 4,
    "start_time": "2022-08-24T07:30:46.644Z"
   },
   {
    "duration": 50,
    "start_time": "2022-08-24T07:30:48.911Z"
   },
   {
    "duration": 12,
    "start_time": "2022-08-24T07:30:50.678Z"
   },
   {
    "duration": 11,
    "start_time": "2022-08-24T07:30:54.259Z"
   },
   {
    "duration": 12,
    "start_time": "2022-08-24T07:30:54.994Z"
   },
   {
    "duration": 11,
    "start_time": "2022-08-24T07:30:55.863Z"
   },
   {
    "duration": 7,
    "start_time": "2022-08-24T07:30:57.392Z"
   },
   {
    "duration": 5,
    "start_time": "2022-08-24T07:30:58.142Z"
   },
   {
    "duration": 5,
    "start_time": "2022-08-24T07:30:59.361Z"
   },
   {
    "duration": 5,
    "start_time": "2022-08-24T07:31:01.493Z"
   },
   {
    "duration": 4,
    "start_time": "2022-08-24T07:31:02.293Z"
   },
   {
    "duration": 7,
    "start_time": "2022-08-24T07:31:03.809Z"
   },
   {
    "duration": 3,
    "start_time": "2022-08-24T07:31:05.244Z"
   },
   {
    "duration": 28,
    "start_time": "2022-08-24T07:31:09.025Z"
   },
   {
    "duration": 8,
    "start_time": "2022-08-24T07:31:10.865Z"
   },
   {
    "duration": 11,
    "start_time": "2022-08-24T07:31:14.509Z"
   },
   {
    "duration": 5,
    "start_time": "2022-08-24T07:31:15.384Z"
   },
   {
    "duration": 7,
    "start_time": "2022-08-24T07:31:16.940Z"
   },
   {
    "duration": 9,
    "start_time": "2022-08-24T07:31:18.857Z"
   },
   {
    "duration": 7,
    "start_time": "2022-08-24T07:31:19.591Z"
   },
   {
    "duration": 6,
    "start_time": "2022-08-24T07:31:20.560Z"
   },
   {
    "duration": 8,
    "start_time": "2022-08-24T07:31:21.297Z"
   },
   {
    "duration": 13,
    "start_time": "2022-08-24T07:31:28.624Z"
   },
   {
    "duration": 846,
    "start_time": "2022-08-24T07:31:30.224Z"
   },
   {
    "duration": 10,
    "start_time": "2022-08-24T07:32:38.734Z"
   },
   {
    "duration": 7,
    "start_time": "2022-08-24T07:35:20.185Z"
   },
   {
    "duration": 20,
    "start_time": "2022-08-24T07:35:26.667Z"
   },
   {
    "duration": 13,
    "start_time": "2022-08-24T07:35:59.033Z"
   },
   {
    "duration": 10,
    "start_time": "2022-08-24T07:36:44.559Z"
   },
   {
    "duration": 1101,
    "start_time": "2022-08-24T07:37:13.466Z"
   },
   {
    "duration": 27,
    "start_time": "2022-08-24T07:37:14.569Z"
   },
   {
    "duration": 13,
    "start_time": "2022-08-24T07:37:14.597Z"
   },
   {
    "duration": 7,
    "start_time": "2022-08-24T07:37:14.613Z"
   },
   {
    "duration": 39,
    "start_time": "2022-08-24T07:37:14.622Z"
   },
   {
    "duration": 10,
    "start_time": "2022-08-24T07:37:14.663Z"
   },
   {
    "duration": 13,
    "start_time": "2022-08-24T07:37:14.675Z"
   },
   {
    "duration": 17,
    "start_time": "2022-08-24T07:37:14.690Z"
   },
   {
    "duration": 21,
    "start_time": "2022-08-24T07:37:14.710Z"
   },
   {
    "duration": 9,
    "start_time": "2022-08-24T07:37:14.735Z"
   },
   {
    "duration": 8,
    "start_time": "2022-08-24T07:37:14.746Z"
   },
   {
    "duration": 21,
    "start_time": "2022-08-24T07:37:14.756Z"
   },
   {
    "duration": 9,
    "start_time": "2022-08-24T07:37:14.779Z"
   },
   {
    "duration": 7,
    "start_time": "2022-08-24T07:37:14.790Z"
   },
   {
    "duration": 28,
    "start_time": "2022-08-24T07:37:14.799Z"
   },
   {
    "duration": 6,
    "start_time": "2022-08-24T07:37:14.829Z"
   },
   {
    "duration": 25,
    "start_time": "2022-08-24T07:37:14.836Z"
   },
   {
    "duration": 7,
    "start_time": "2022-08-24T07:37:14.863Z"
   },
   {
    "duration": 12,
    "start_time": "2022-08-24T07:37:14.872Z"
   },
   {
    "duration": 11,
    "start_time": "2022-08-24T07:37:14.885Z"
   },
   {
    "duration": 18,
    "start_time": "2022-08-24T07:37:14.898Z"
   },
   {
    "duration": 18,
    "start_time": "2022-08-24T07:37:14.918Z"
   },
   {
    "duration": 13,
    "start_time": "2022-08-24T07:37:14.938Z"
   },
   {
    "duration": 9,
    "start_time": "2022-08-24T07:37:14.952Z"
   },
   {
    "duration": 9,
    "start_time": "2022-08-24T07:37:14.962Z"
   },
   {
    "duration": 13,
    "start_time": "2022-08-24T07:37:14.973Z"
   },
   {
    "duration": 685,
    "start_time": "2022-08-24T07:37:14.988Z"
   },
   {
    "duration": 0,
    "start_time": "2022-08-24T07:37:15.677Z"
   },
   {
    "duration": 0,
    "start_time": "2022-08-24T07:37:15.678Z"
   },
   {
    "duration": 0,
    "start_time": "2022-08-24T07:37:15.679Z"
   },
   {
    "duration": 0,
    "start_time": "2022-08-24T07:37:15.680Z"
   },
   {
    "duration": 0,
    "start_time": "2022-08-24T07:37:15.681Z"
   },
   {
    "duration": 0,
    "start_time": "2022-08-24T07:37:15.682Z"
   },
   {
    "duration": 0,
    "start_time": "2022-08-24T07:37:15.683Z"
   },
   {
    "duration": 0,
    "start_time": "2022-08-24T07:37:15.684Z"
   },
   {
    "duration": 0,
    "start_time": "2022-08-24T07:37:15.685Z"
   },
   {
    "duration": 0,
    "start_time": "2022-08-24T07:37:15.687Z"
   },
   {
    "duration": 0,
    "start_time": "2022-08-24T07:37:15.688Z"
   },
   {
    "duration": 0,
    "start_time": "2022-08-24T07:37:15.689Z"
   },
   {
    "duration": 0,
    "start_time": "2022-08-24T07:37:15.689Z"
   },
   {
    "duration": 0,
    "start_time": "2022-08-24T07:37:15.691Z"
   },
   {
    "duration": 0,
    "start_time": "2022-08-24T07:37:15.692Z"
   },
   {
    "duration": 0,
    "start_time": "2022-08-24T07:37:15.693Z"
   },
   {
    "duration": 0,
    "start_time": "2022-08-24T07:37:15.695Z"
   },
   {
    "duration": 0,
    "start_time": "2022-08-24T07:37:15.696Z"
   },
   {
    "duration": 0,
    "start_time": "2022-08-24T07:37:15.698Z"
   },
   {
    "duration": 0,
    "start_time": "2022-08-24T07:37:15.698Z"
   },
   {
    "duration": 0,
    "start_time": "2022-08-24T07:37:15.700Z"
   },
   {
    "duration": 0,
    "start_time": "2022-08-24T07:37:15.701Z"
   },
   {
    "duration": 0,
    "start_time": "2022-08-24T07:37:15.702Z"
   },
   {
    "duration": 0,
    "start_time": "2022-08-24T07:37:15.704Z"
   },
   {
    "duration": 0,
    "start_time": "2022-08-24T07:37:15.705Z"
   },
   {
    "duration": 0,
    "start_time": "2022-08-24T07:37:15.706Z"
   },
   {
    "duration": 0,
    "start_time": "2022-08-24T07:37:15.707Z"
   },
   {
    "duration": 0,
    "start_time": "2022-08-24T07:37:15.708Z"
   },
   {
    "duration": 0,
    "start_time": "2022-08-24T07:37:15.709Z"
   },
   {
    "duration": 0,
    "start_time": "2022-08-24T07:37:15.710Z"
   },
   {
    "duration": 0,
    "start_time": "2022-08-24T07:37:15.711Z"
   },
   {
    "duration": 0,
    "start_time": "2022-08-24T07:37:15.713Z"
   },
   {
    "duration": 0,
    "start_time": "2022-08-24T07:37:15.714Z"
   },
   {
    "duration": 0,
    "start_time": "2022-08-24T07:37:15.715Z"
   },
   {
    "duration": 0,
    "start_time": "2022-08-24T07:37:15.717Z"
   },
   {
    "duration": 0,
    "start_time": "2022-08-24T07:37:15.717Z"
   },
   {
    "duration": 0,
    "start_time": "2022-08-24T07:37:15.719Z"
   },
   {
    "duration": 0,
    "start_time": "2022-08-24T07:37:15.720Z"
   },
   {
    "duration": 0,
    "start_time": "2022-08-24T07:37:15.721Z"
   },
   {
    "duration": 0,
    "start_time": "2022-08-24T07:37:15.722Z"
   },
   {
    "duration": 0,
    "start_time": "2022-08-24T07:37:15.723Z"
   },
   {
    "duration": 0,
    "start_time": "2022-08-24T07:37:15.724Z"
   },
   {
    "duration": 0,
    "start_time": "2022-08-24T07:37:15.726Z"
   },
   {
    "duration": 0,
    "start_time": "2022-08-24T07:37:15.727Z"
   },
   {
    "duration": 0,
    "start_time": "2022-08-24T07:37:15.728Z"
   },
   {
    "duration": 0,
    "start_time": "2022-08-24T07:37:15.729Z"
   },
   {
    "duration": 0,
    "start_time": "2022-08-24T07:37:15.731Z"
   },
   {
    "duration": 0,
    "start_time": "2022-08-24T07:37:15.732Z"
   },
   {
    "duration": 0,
    "start_time": "2022-08-24T07:37:15.734Z"
   },
   {
    "duration": 0,
    "start_time": "2022-08-24T07:37:15.735Z"
   },
   {
    "duration": 0,
    "start_time": "2022-08-24T07:37:15.737Z"
   },
   {
    "duration": 0,
    "start_time": "2022-08-24T07:37:15.738Z"
   },
   {
    "duration": 0,
    "start_time": "2022-08-24T07:37:15.740Z"
   },
   {
    "duration": 0,
    "start_time": "2022-08-24T07:37:15.741Z"
   },
   {
    "duration": 0,
    "start_time": "2022-08-24T07:37:15.802Z"
   },
   {
    "duration": 0,
    "start_time": "2022-08-24T07:37:15.804Z"
   },
   {
    "duration": 0,
    "start_time": "2022-08-24T07:37:15.805Z"
   },
   {
    "duration": 0,
    "start_time": "2022-08-24T07:37:15.807Z"
   },
   {
    "duration": 0,
    "start_time": "2022-08-24T07:37:15.808Z"
   },
   {
    "duration": 12,
    "start_time": "2022-08-24T07:40:30.050Z"
   },
   {
    "duration": 10,
    "start_time": "2022-08-24T07:40:47.518Z"
   },
   {
    "duration": 10,
    "start_time": "2022-08-24T07:41:31.832Z"
   },
   {
    "duration": 10,
    "start_time": "2022-08-24T07:42:04.352Z"
   },
   {
    "duration": 1212,
    "start_time": "2022-08-24T07:42:14.010Z"
   },
   {
    "duration": 27,
    "start_time": "2022-08-24T07:42:15.224Z"
   },
   {
    "duration": 14,
    "start_time": "2022-08-24T07:42:15.253Z"
   },
   {
    "duration": 6,
    "start_time": "2022-08-24T07:42:15.269Z"
   },
   {
    "duration": 42,
    "start_time": "2022-08-24T07:42:15.277Z"
   },
   {
    "duration": 12,
    "start_time": "2022-08-24T07:42:15.321Z"
   },
   {
    "duration": 17,
    "start_time": "2022-08-24T07:42:15.334Z"
   },
   {
    "duration": 16,
    "start_time": "2022-08-24T07:42:15.353Z"
   },
   {
    "duration": 14,
    "start_time": "2022-08-24T07:42:15.371Z"
   },
   {
    "duration": 18,
    "start_time": "2022-08-24T07:42:15.387Z"
   },
   {
    "duration": 7,
    "start_time": "2022-08-24T07:42:15.406Z"
   },
   {
    "duration": 21,
    "start_time": "2022-08-24T07:42:15.414Z"
   },
   {
    "duration": 7,
    "start_time": "2022-08-24T07:42:15.437Z"
   },
   {
    "duration": 7,
    "start_time": "2022-08-24T07:42:15.446Z"
   },
   {
    "duration": 10,
    "start_time": "2022-08-24T07:42:15.455Z"
   },
   {
    "duration": 6,
    "start_time": "2022-08-24T07:42:15.467Z"
   },
   {
    "duration": 27,
    "start_time": "2022-08-24T07:42:15.474Z"
   },
   {
    "duration": 8,
    "start_time": "2022-08-24T07:42:15.503Z"
   },
   {
    "duration": 14,
    "start_time": "2022-08-24T07:42:15.513Z"
   },
   {
    "duration": 9,
    "start_time": "2022-08-24T07:42:15.529Z"
   },
   {
    "duration": 14,
    "start_time": "2022-08-24T07:42:15.540Z"
   },
   {
    "duration": 9,
    "start_time": "2022-08-24T07:42:15.555Z"
   },
   {
    "duration": 9,
    "start_time": "2022-08-24T07:42:15.566Z"
   },
   {
    "duration": 28,
    "start_time": "2022-08-24T07:42:15.576Z"
   },
   {
    "duration": 9,
    "start_time": "2022-08-24T07:42:15.605Z"
   },
   {
    "duration": 18,
    "start_time": "2022-08-24T07:42:15.615Z"
   },
   {
    "duration": 20,
    "start_time": "2022-08-24T07:42:15.635Z"
   },
   {
    "duration": 700,
    "start_time": "2022-08-24T07:42:15.657Z"
   },
   {
    "duration": 0,
    "start_time": "2022-08-24T07:42:16.362Z"
   },
   {
    "duration": 0,
    "start_time": "2022-08-24T07:42:16.363Z"
   },
   {
    "duration": 0,
    "start_time": "2022-08-24T07:42:16.364Z"
   },
   {
    "duration": 0,
    "start_time": "2022-08-24T07:42:16.366Z"
   },
   {
    "duration": 0,
    "start_time": "2022-08-24T07:42:16.367Z"
   },
   {
    "duration": 0,
    "start_time": "2022-08-24T07:42:16.368Z"
   },
   {
    "duration": 0,
    "start_time": "2022-08-24T07:42:16.369Z"
   },
   {
    "duration": 0,
    "start_time": "2022-08-24T07:42:16.371Z"
   },
   {
    "duration": 0,
    "start_time": "2022-08-24T07:42:16.372Z"
   },
   {
    "duration": 0,
    "start_time": "2022-08-24T07:42:16.373Z"
   },
   {
    "duration": 0,
    "start_time": "2022-08-24T07:42:16.374Z"
   },
   {
    "duration": 0,
    "start_time": "2022-08-24T07:42:16.403Z"
   },
   {
    "duration": 0,
    "start_time": "2022-08-24T07:42:16.404Z"
   },
   {
    "duration": 0,
    "start_time": "2022-08-24T07:42:16.406Z"
   },
   {
    "duration": 0,
    "start_time": "2022-08-24T07:42:16.407Z"
   },
   {
    "duration": 0,
    "start_time": "2022-08-24T07:42:16.408Z"
   },
   {
    "duration": 0,
    "start_time": "2022-08-24T07:42:16.410Z"
   },
   {
    "duration": 0,
    "start_time": "2022-08-24T07:42:16.411Z"
   },
   {
    "duration": 0,
    "start_time": "2022-08-24T07:42:16.413Z"
   },
   {
    "duration": 0,
    "start_time": "2022-08-24T07:42:16.414Z"
   },
   {
    "duration": 0,
    "start_time": "2022-08-24T07:42:16.416Z"
   },
   {
    "duration": 0,
    "start_time": "2022-08-24T07:42:16.417Z"
   },
   {
    "duration": 0,
    "start_time": "2022-08-24T07:42:16.418Z"
   },
   {
    "duration": 0,
    "start_time": "2022-08-24T07:42:16.419Z"
   },
   {
    "duration": 0,
    "start_time": "2022-08-24T07:42:16.421Z"
   },
   {
    "duration": 0,
    "start_time": "2022-08-24T07:42:16.422Z"
   },
   {
    "duration": 0,
    "start_time": "2022-08-24T07:42:16.424Z"
   },
   {
    "duration": 0,
    "start_time": "2022-08-24T07:42:16.425Z"
   },
   {
    "duration": 0,
    "start_time": "2022-08-24T07:42:16.426Z"
   },
   {
    "duration": 0,
    "start_time": "2022-08-24T07:42:16.427Z"
   },
   {
    "duration": 0,
    "start_time": "2022-08-24T07:42:16.429Z"
   },
   {
    "duration": 0,
    "start_time": "2022-08-24T07:42:16.435Z"
   },
   {
    "duration": 0,
    "start_time": "2022-08-24T07:42:16.437Z"
   },
   {
    "duration": 0,
    "start_time": "2022-08-24T07:42:16.438Z"
   },
   {
    "duration": 0,
    "start_time": "2022-08-24T07:42:16.439Z"
   },
   {
    "duration": 0,
    "start_time": "2022-08-24T07:42:16.441Z"
   },
   {
    "duration": 0,
    "start_time": "2022-08-24T07:42:16.442Z"
   },
   {
    "duration": 0,
    "start_time": "2022-08-24T07:42:16.444Z"
   },
   {
    "duration": 0,
    "start_time": "2022-08-24T07:42:16.503Z"
   },
   {
    "duration": 1,
    "start_time": "2022-08-24T07:42:16.504Z"
   },
   {
    "duration": 0,
    "start_time": "2022-08-24T07:42:16.506Z"
   },
   {
    "duration": 0,
    "start_time": "2022-08-24T07:42:16.506Z"
   },
   {
    "duration": 0,
    "start_time": "2022-08-24T07:42:16.508Z"
   },
   {
    "duration": 0,
    "start_time": "2022-08-24T07:42:16.509Z"
   },
   {
    "duration": 0,
    "start_time": "2022-08-24T07:42:16.511Z"
   },
   {
    "duration": 0,
    "start_time": "2022-08-24T07:42:16.512Z"
   },
   {
    "duration": 0,
    "start_time": "2022-08-24T07:42:16.513Z"
   },
   {
    "duration": 0,
    "start_time": "2022-08-24T07:42:16.515Z"
   },
   {
    "duration": 0,
    "start_time": "2022-08-24T07:42:16.516Z"
   },
   {
    "duration": 0,
    "start_time": "2022-08-24T07:42:16.517Z"
   },
   {
    "duration": 0,
    "start_time": "2022-08-24T07:42:16.518Z"
   },
   {
    "duration": 0,
    "start_time": "2022-08-24T07:42:16.519Z"
   },
   {
    "duration": 0,
    "start_time": "2022-08-24T07:42:16.520Z"
   },
   {
    "duration": 0,
    "start_time": "2022-08-24T07:42:16.521Z"
   },
   {
    "duration": 0,
    "start_time": "2022-08-24T07:42:16.522Z"
   },
   {
    "duration": 0,
    "start_time": "2022-08-24T07:42:16.523Z"
   },
   {
    "duration": 0,
    "start_time": "2022-08-24T07:42:16.524Z"
   },
   {
    "duration": 0,
    "start_time": "2022-08-24T07:42:16.526Z"
   },
   {
    "duration": 13,
    "start_time": "2022-08-24T07:43:33.718Z"
   },
   {
    "duration": 12,
    "start_time": "2022-08-24T07:43:57.617Z"
   },
   {
    "duration": 13,
    "start_time": "2022-08-24T07:44:15.431Z"
   },
   {
    "duration": 9,
    "start_time": "2022-08-24T07:44:36.918Z"
   },
   {
    "duration": 1176,
    "start_time": "2022-08-24T07:44:47.573Z"
   },
   {
    "duration": 28,
    "start_time": "2022-08-24T07:44:48.750Z"
   },
   {
    "duration": 10,
    "start_time": "2022-08-24T07:44:48.780Z"
   },
   {
    "duration": 22,
    "start_time": "2022-08-24T07:44:48.793Z"
   },
   {
    "duration": 45,
    "start_time": "2022-08-24T07:44:48.817Z"
   },
   {
    "duration": 10,
    "start_time": "2022-08-24T07:44:48.864Z"
   },
   {
    "duration": 31,
    "start_time": "2022-08-24T07:44:48.876Z"
   },
   {
    "duration": 41,
    "start_time": "2022-08-24T07:44:48.909Z"
   },
   {
    "duration": 22,
    "start_time": "2022-08-24T07:44:48.952Z"
   },
   {
    "duration": 14,
    "start_time": "2022-08-24T07:44:48.978Z"
   },
   {
    "duration": 13,
    "start_time": "2022-08-24T07:44:48.994Z"
   },
   {
    "duration": 15,
    "start_time": "2022-08-24T07:44:49.009Z"
   },
   {
    "duration": 6,
    "start_time": "2022-08-24T07:44:49.026Z"
   },
   {
    "duration": 12,
    "start_time": "2022-08-24T07:44:49.034Z"
   },
   {
    "duration": 17,
    "start_time": "2022-08-24T07:44:49.048Z"
   },
   {
    "duration": 9,
    "start_time": "2022-08-24T07:44:49.067Z"
   },
   {
    "duration": 32,
    "start_time": "2022-08-24T07:44:49.078Z"
   },
   {
    "duration": 9,
    "start_time": "2022-08-24T07:44:49.112Z"
   },
   {
    "duration": 22,
    "start_time": "2022-08-24T07:44:49.123Z"
   },
   {
    "duration": 8,
    "start_time": "2022-08-24T07:44:49.146Z"
   },
   {
    "duration": 9,
    "start_time": "2022-08-24T07:44:49.156Z"
   },
   {
    "duration": 11,
    "start_time": "2022-08-24T07:44:49.167Z"
   },
   {
    "duration": 25,
    "start_time": "2022-08-24T07:44:49.180Z"
   },
   {
    "duration": 8,
    "start_time": "2022-08-24T07:44:49.207Z"
   },
   {
    "duration": 9,
    "start_time": "2022-08-24T07:44:49.216Z"
   },
   {
    "duration": 7,
    "start_time": "2022-08-24T07:44:49.227Z"
   },
   {
    "duration": 107,
    "start_time": "2022-08-24T07:44:49.235Z"
   },
   {
    "duration": 0,
    "start_time": "2022-08-24T07:44:49.345Z"
   },
   {
    "duration": 0,
    "start_time": "2022-08-24T07:44:49.346Z"
   },
   {
    "duration": 0,
    "start_time": "2022-08-24T07:44:49.347Z"
   },
   {
    "duration": 0,
    "start_time": "2022-08-24T07:44:49.348Z"
   },
   {
    "duration": 0,
    "start_time": "2022-08-24T07:44:49.349Z"
   },
   {
    "duration": 0,
    "start_time": "2022-08-24T07:44:49.350Z"
   },
   {
    "duration": 0,
    "start_time": "2022-08-24T07:44:49.351Z"
   },
   {
    "duration": 0,
    "start_time": "2022-08-24T07:44:49.352Z"
   },
   {
    "duration": 0,
    "start_time": "2022-08-24T07:44:49.353Z"
   },
   {
    "duration": 0,
    "start_time": "2022-08-24T07:44:49.354Z"
   },
   {
    "duration": 0,
    "start_time": "2022-08-24T07:44:49.354Z"
   },
   {
    "duration": 0,
    "start_time": "2022-08-24T07:44:49.355Z"
   },
   {
    "duration": 0,
    "start_time": "2022-08-24T07:44:49.356Z"
   },
   {
    "duration": 0,
    "start_time": "2022-08-24T07:44:49.358Z"
   },
   {
    "duration": 0,
    "start_time": "2022-08-24T07:44:49.359Z"
   },
   {
    "duration": 0,
    "start_time": "2022-08-24T07:44:49.360Z"
   },
   {
    "duration": 0,
    "start_time": "2022-08-24T07:44:49.361Z"
   },
   {
    "duration": 0,
    "start_time": "2022-08-24T07:44:49.362Z"
   },
   {
    "duration": 0,
    "start_time": "2022-08-24T07:44:49.363Z"
   },
   {
    "duration": 0,
    "start_time": "2022-08-24T07:44:49.365Z"
   },
   {
    "duration": 0,
    "start_time": "2022-08-24T07:44:49.403Z"
   },
   {
    "duration": 0,
    "start_time": "2022-08-24T07:44:49.405Z"
   },
   {
    "duration": 0,
    "start_time": "2022-08-24T07:44:49.406Z"
   },
   {
    "duration": 0,
    "start_time": "2022-08-24T07:44:49.408Z"
   },
   {
    "duration": 0,
    "start_time": "2022-08-24T07:44:49.409Z"
   },
   {
    "duration": 0,
    "start_time": "2022-08-24T07:44:49.411Z"
   },
   {
    "duration": 0,
    "start_time": "2022-08-24T07:44:49.412Z"
   },
   {
    "duration": 0,
    "start_time": "2022-08-24T07:44:49.414Z"
   },
   {
    "duration": 0,
    "start_time": "2022-08-24T07:44:49.415Z"
   },
   {
    "duration": 0,
    "start_time": "2022-08-24T07:44:49.417Z"
   },
   {
    "duration": 0,
    "start_time": "2022-08-24T07:44:49.418Z"
   },
   {
    "duration": 0,
    "start_time": "2022-08-24T07:44:49.420Z"
   },
   {
    "duration": 0,
    "start_time": "2022-08-24T07:44:49.421Z"
   },
   {
    "duration": 0,
    "start_time": "2022-08-24T07:44:49.423Z"
   },
   {
    "duration": 0,
    "start_time": "2022-08-24T07:44:49.424Z"
   },
   {
    "duration": 0,
    "start_time": "2022-08-24T07:44:49.425Z"
   },
   {
    "duration": 0,
    "start_time": "2022-08-24T07:44:49.427Z"
   },
   {
    "duration": 0,
    "start_time": "2022-08-24T07:44:49.429Z"
   },
   {
    "duration": 0,
    "start_time": "2022-08-24T07:44:49.430Z"
   },
   {
    "duration": 0,
    "start_time": "2022-08-24T07:44:49.431Z"
   },
   {
    "duration": 0,
    "start_time": "2022-08-24T07:44:49.433Z"
   },
   {
    "duration": 0,
    "start_time": "2022-08-24T07:44:49.434Z"
   },
   {
    "duration": 0,
    "start_time": "2022-08-24T07:44:49.436Z"
   },
   {
    "duration": 0,
    "start_time": "2022-08-24T07:44:49.437Z"
   },
   {
    "duration": 0,
    "start_time": "2022-08-24T07:44:49.439Z"
   },
   {
    "duration": 0,
    "start_time": "2022-08-24T07:44:49.440Z"
   },
   {
    "duration": 0,
    "start_time": "2022-08-24T07:44:49.442Z"
   },
   {
    "duration": 0,
    "start_time": "2022-08-24T07:44:49.443Z"
   },
   {
    "duration": 0,
    "start_time": "2022-08-24T07:44:49.504Z"
   },
   {
    "duration": 0,
    "start_time": "2022-08-24T07:44:49.505Z"
   },
   {
    "duration": 0,
    "start_time": "2022-08-24T07:44:49.506Z"
   },
   {
    "duration": 0,
    "start_time": "2022-08-24T07:44:49.508Z"
   },
   {
    "duration": 0,
    "start_time": "2022-08-24T07:44:49.508Z"
   },
   {
    "duration": 0,
    "start_time": "2022-08-24T07:44:49.510Z"
   },
   {
    "duration": 0,
    "start_time": "2022-08-24T07:44:49.511Z"
   },
   {
    "duration": 0,
    "start_time": "2022-08-24T07:44:49.512Z"
   },
   {
    "duration": 0,
    "start_time": "2022-08-24T07:44:49.513Z"
   },
   {
    "duration": 0,
    "start_time": "2022-08-24T07:44:49.513Z"
   },
   {
    "duration": 0,
    "start_time": "2022-08-24T07:44:49.515Z"
   },
   {
    "duration": 13,
    "start_time": "2022-08-24T07:45:22.658Z"
   },
   {
    "duration": 1240,
    "start_time": "2022-08-24T07:45:33.071Z"
   },
   {
    "duration": 29,
    "start_time": "2022-08-24T07:45:34.313Z"
   },
   {
    "duration": 13,
    "start_time": "2022-08-24T07:45:34.343Z"
   },
   {
    "duration": 4,
    "start_time": "2022-08-24T07:45:34.358Z"
   },
   {
    "duration": 45,
    "start_time": "2022-08-24T07:45:34.364Z"
   },
   {
    "duration": 14,
    "start_time": "2022-08-24T07:45:34.411Z"
   },
   {
    "duration": 86,
    "start_time": "2022-08-24T07:45:34.427Z"
   },
   {
    "duration": 22,
    "start_time": "2022-08-24T07:45:34.515Z"
   },
   {
    "duration": 70,
    "start_time": "2022-08-24T07:45:34.539Z"
   },
   {
    "duration": 16,
    "start_time": "2022-08-24T07:45:34.613Z"
   },
   {
    "duration": 9,
    "start_time": "2022-08-24T07:45:34.632Z"
   },
   {
    "duration": 61,
    "start_time": "2022-08-24T07:45:34.643Z"
   },
   {
    "duration": 6,
    "start_time": "2022-08-24T07:45:34.706Z"
   },
   {
    "duration": 11,
    "start_time": "2022-08-24T07:45:34.714Z"
   },
   {
    "duration": 10,
    "start_time": "2022-08-24T07:45:34.728Z"
   },
   {
    "duration": 4,
    "start_time": "2022-08-24T07:45:34.740Z"
   },
   {
    "duration": 59,
    "start_time": "2022-08-24T07:45:34.746Z"
   },
   {
    "duration": 10,
    "start_time": "2022-08-24T07:45:34.807Z"
   },
   {
    "duration": 18,
    "start_time": "2022-08-24T07:45:34.819Z"
   },
   {
    "duration": 13,
    "start_time": "2022-08-24T07:45:34.839Z"
   },
   {
    "duration": 9,
    "start_time": "2022-08-24T07:45:34.903Z"
   },
   {
    "duration": 10,
    "start_time": "2022-08-24T07:45:34.914Z"
   },
   {
    "duration": 7,
    "start_time": "2022-08-24T07:45:34.926Z"
   },
   {
    "duration": 15,
    "start_time": "2022-08-24T07:45:34.935Z"
   },
   {
    "duration": 10,
    "start_time": "2022-08-24T07:45:35.002Z"
   },
   {
    "duration": 15,
    "start_time": "2022-08-24T07:45:35.014Z"
   },
   {
    "duration": 924,
    "start_time": "2022-08-24T07:45:35.031Z"
   },
   {
    "duration": 0,
    "start_time": "2022-08-24T07:45:35.960Z"
   },
   {
    "duration": 0,
    "start_time": "2022-08-24T07:45:35.962Z"
   },
   {
    "duration": 0,
    "start_time": "2022-08-24T07:45:35.963Z"
   },
   {
    "duration": 0,
    "start_time": "2022-08-24T07:45:35.964Z"
   },
   {
    "duration": 0,
    "start_time": "2022-08-24T07:45:35.966Z"
   },
   {
    "duration": 0,
    "start_time": "2022-08-24T07:45:35.968Z"
   },
   {
    "duration": 0,
    "start_time": "2022-08-24T07:45:35.969Z"
   },
   {
    "duration": 0,
    "start_time": "2022-08-24T07:45:35.970Z"
   },
   {
    "duration": 0,
    "start_time": "2022-08-24T07:45:35.971Z"
   },
   {
    "duration": 0,
    "start_time": "2022-08-24T07:45:35.973Z"
   },
   {
    "duration": 0,
    "start_time": "2022-08-24T07:45:35.974Z"
   },
   {
    "duration": 0,
    "start_time": "2022-08-24T07:45:35.976Z"
   },
   {
    "duration": 0,
    "start_time": "2022-08-24T07:45:35.977Z"
   },
   {
    "duration": 0,
    "start_time": "2022-08-24T07:45:35.978Z"
   },
   {
    "duration": 0,
    "start_time": "2022-08-24T07:45:35.980Z"
   },
   {
    "duration": 0,
    "start_time": "2022-08-24T07:45:35.981Z"
   },
   {
    "duration": 0,
    "start_time": "2022-08-24T07:45:35.983Z"
   },
   {
    "duration": 0,
    "start_time": "2022-08-24T07:45:35.984Z"
   },
   {
    "duration": 0,
    "start_time": "2022-08-24T07:45:35.985Z"
   },
   {
    "duration": 0,
    "start_time": "2022-08-24T07:45:35.987Z"
   },
   {
    "duration": 0,
    "start_time": "2022-08-24T07:45:35.988Z"
   },
   {
    "duration": 0,
    "start_time": "2022-08-24T07:45:35.989Z"
   },
   {
    "duration": 0,
    "start_time": "2022-08-24T07:45:35.990Z"
   },
   {
    "duration": 0,
    "start_time": "2022-08-24T07:45:35.992Z"
   },
   {
    "duration": 0,
    "start_time": "2022-08-24T07:45:35.994Z"
   },
   {
    "duration": 0,
    "start_time": "2022-08-24T07:45:35.995Z"
   },
   {
    "duration": 0,
    "start_time": "2022-08-24T07:45:36.003Z"
   },
   {
    "duration": 0,
    "start_time": "2022-08-24T07:45:36.005Z"
   },
   {
    "duration": 0,
    "start_time": "2022-08-24T07:45:36.006Z"
   },
   {
    "duration": 0,
    "start_time": "2022-08-24T07:45:36.008Z"
   },
   {
    "duration": 0,
    "start_time": "2022-08-24T07:45:36.009Z"
   },
   {
    "duration": 1,
    "start_time": "2022-08-24T07:45:36.012Z"
   },
   {
    "duration": 0,
    "start_time": "2022-08-24T07:45:36.014Z"
   },
   {
    "duration": 0,
    "start_time": "2022-08-24T07:45:36.016Z"
   },
   {
    "duration": 0,
    "start_time": "2022-08-24T07:45:36.018Z"
   },
   {
    "duration": 0,
    "start_time": "2022-08-24T07:45:36.020Z"
   },
   {
    "duration": 0,
    "start_time": "2022-08-24T07:45:36.021Z"
   },
   {
    "duration": 0,
    "start_time": "2022-08-24T07:45:36.023Z"
   },
   {
    "duration": 0,
    "start_time": "2022-08-24T07:45:36.024Z"
   },
   {
    "duration": 0,
    "start_time": "2022-08-24T07:45:36.026Z"
   },
   {
    "duration": 0,
    "start_time": "2022-08-24T07:45:36.028Z"
   },
   {
    "duration": 0,
    "start_time": "2022-08-24T07:45:36.029Z"
   },
   {
    "duration": 0,
    "start_time": "2022-08-24T07:45:36.031Z"
   },
   {
    "duration": 0,
    "start_time": "2022-08-24T07:45:36.032Z"
   },
   {
    "duration": 0,
    "start_time": "2022-08-24T07:45:36.034Z"
   },
   {
    "duration": 0,
    "start_time": "2022-08-24T07:45:36.035Z"
   },
   {
    "duration": 0,
    "start_time": "2022-08-24T07:45:36.037Z"
   },
   {
    "duration": 0,
    "start_time": "2022-08-24T07:45:36.039Z"
   },
   {
    "duration": 0,
    "start_time": "2022-08-24T07:45:36.040Z"
   },
   {
    "duration": 0,
    "start_time": "2022-08-24T07:45:36.041Z"
   },
   {
    "duration": 0,
    "start_time": "2022-08-24T07:45:36.043Z"
   },
   {
    "duration": 0,
    "start_time": "2022-08-24T07:45:36.044Z"
   },
   {
    "duration": 0,
    "start_time": "2022-08-24T07:45:36.103Z"
   },
   {
    "duration": 0,
    "start_time": "2022-08-24T07:45:36.104Z"
   },
   {
    "duration": 0,
    "start_time": "2022-08-24T07:45:36.106Z"
   },
   {
    "duration": 0,
    "start_time": "2022-08-24T07:45:36.108Z"
   },
   {
    "duration": 0,
    "start_time": "2022-08-24T07:45:36.109Z"
   },
   {
    "duration": 0,
    "start_time": "2022-08-24T07:45:36.111Z"
   },
   {
    "duration": 10,
    "start_time": "2022-08-24T07:47:43.217Z"
   },
   {
    "duration": 11,
    "start_time": "2022-08-24T07:49:02.274Z"
   },
   {
    "duration": 1180,
    "start_time": "2022-08-24T07:49:09.748Z"
   },
   {
    "duration": 27,
    "start_time": "2022-08-24T07:49:10.930Z"
   },
   {
    "duration": 13,
    "start_time": "2022-08-24T07:49:10.961Z"
   },
   {
    "duration": 5,
    "start_time": "2022-08-24T07:49:10.976Z"
   },
   {
    "duration": 55,
    "start_time": "2022-08-24T07:49:10.982Z"
   },
   {
    "duration": 10,
    "start_time": "2022-08-24T07:49:11.038Z"
   },
   {
    "duration": 17,
    "start_time": "2022-08-24T07:49:11.050Z"
   },
   {
    "duration": 19,
    "start_time": "2022-08-24T07:49:11.069Z"
   },
   {
    "duration": 21,
    "start_time": "2022-08-24T07:49:11.091Z"
   },
   {
    "duration": 8,
    "start_time": "2022-08-24T07:49:11.114Z"
   },
   {
    "duration": 9,
    "start_time": "2022-08-24T07:49:11.124Z"
   },
   {
    "duration": 15,
    "start_time": "2022-08-24T07:49:11.134Z"
   },
   {
    "duration": 8,
    "start_time": "2022-08-24T07:49:11.151Z"
   },
   {
    "duration": 8,
    "start_time": "2022-08-24T07:49:11.161Z"
   },
   {
    "duration": 9,
    "start_time": "2022-08-24T07:49:11.171Z"
   },
   {
    "duration": 22,
    "start_time": "2022-08-24T07:49:11.181Z"
   },
   {
    "duration": 15,
    "start_time": "2022-08-24T07:49:11.205Z"
   },
   {
    "duration": 10,
    "start_time": "2022-08-24T07:49:11.223Z"
   },
   {
    "duration": 18,
    "start_time": "2022-08-24T07:49:11.236Z"
   },
   {
    "duration": 11,
    "start_time": "2022-08-24T07:49:11.256Z"
   },
   {
    "duration": 16,
    "start_time": "2022-08-24T07:49:11.269Z"
   },
   {
    "duration": 19,
    "start_time": "2022-08-24T07:49:11.287Z"
   },
   {
    "duration": 6,
    "start_time": "2022-08-24T07:49:11.308Z"
   },
   {
    "duration": 23,
    "start_time": "2022-08-24T07:49:11.316Z"
   },
   {
    "duration": 9,
    "start_time": "2022-08-24T07:49:11.341Z"
   },
   {
    "duration": 1161,
    "start_time": "2022-08-24T07:49:11.352Z"
   },
   {
    "duration": 0,
    "start_time": "2022-08-24T07:49:12.517Z"
   },
   {
    "duration": 0,
    "start_time": "2022-08-24T07:49:12.518Z"
   },
   {
    "duration": 0,
    "start_time": "2022-08-24T07:49:12.519Z"
   },
   {
    "duration": 0,
    "start_time": "2022-08-24T07:49:12.521Z"
   },
   {
    "duration": 0,
    "start_time": "2022-08-24T07:49:12.522Z"
   },
   {
    "duration": 0,
    "start_time": "2022-08-24T07:49:12.523Z"
   },
   {
    "duration": 0,
    "start_time": "2022-08-24T07:49:12.524Z"
   },
   {
    "duration": 0,
    "start_time": "2022-08-24T07:49:12.526Z"
   },
   {
    "duration": 0,
    "start_time": "2022-08-24T07:49:12.527Z"
   },
   {
    "duration": 0,
    "start_time": "2022-08-24T07:49:12.528Z"
   },
   {
    "duration": 0,
    "start_time": "2022-08-24T07:49:12.529Z"
   },
   {
    "duration": 0,
    "start_time": "2022-08-24T07:49:12.531Z"
   },
   {
    "duration": 0,
    "start_time": "2022-08-24T07:49:12.532Z"
   },
   {
    "duration": 0,
    "start_time": "2022-08-24T07:49:12.533Z"
   },
   {
    "duration": 0,
    "start_time": "2022-08-24T07:49:12.535Z"
   },
   {
    "duration": 0,
    "start_time": "2022-08-24T07:49:12.536Z"
   },
   {
    "duration": 0,
    "start_time": "2022-08-24T07:49:12.537Z"
   },
   {
    "duration": 0,
    "start_time": "2022-08-24T07:49:12.538Z"
   },
   {
    "duration": 0,
    "start_time": "2022-08-24T07:49:12.540Z"
   },
   {
    "duration": 0,
    "start_time": "2022-08-24T07:49:12.541Z"
   },
   {
    "duration": 0,
    "start_time": "2022-08-24T07:49:12.542Z"
   },
   {
    "duration": 0,
    "start_time": "2022-08-24T07:49:12.544Z"
   },
   {
    "duration": 0,
    "start_time": "2022-08-24T07:49:12.545Z"
   },
   {
    "duration": 0,
    "start_time": "2022-08-24T07:49:12.546Z"
   },
   {
    "duration": 0,
    "start_time": "2022-08-24T07:49:12.547Z"
   },
   {
    "duration": 0,
    "start_time": "2022-08-24T07:49:12.549Z"
   },
   {
    "duration": 0,
    "start_time": "2022-08-24T07:49:12.550Z"
   },
   {
    "duration": 0,
    "start_time": "2022-08-24T07:49:12.552Z"
   },
   {
    "duration": 0,
    "start_time": "2022-08-24T07:49:12.553Z"
   },
   {
    "duration": 0,
    "start_time": "2022-08-24T07:49:12.554Z"
   },
   {
    "duration": 0,
    "start_time": "2022-08-24T07:49:12.603Z"
   },
   {
    "duration": 0,
    "start_time": "2022-08-24T07:49:12.604Z"
   },
   {
    "duration": 0,
    "start_time": "2022-08-24T07:49:12.606Z"
   },
   {
    "duration": 0,
    "start_time": "2022-08-24T07:49:12.606Z"
   },
   {
    "duration": 0,
    "start_time": "2022-08-24T07:49:12.608Z"
   },
   {
    "duration": 0,
    "start_time": "2022-08-24T07:49:12.610Z"
   },
   {
    "duration": 0,
    "start_time": "2022-08-24T07:49:12.611Z"
   },
   {
    "duration": 0,
    "start_time": "2022-08-24T07:49:12.612Z"
   },
   {
    "duration": 0,
    "start_time": "2022-08-24T07:49:12.613Z"
   },
   {
    "duration": 0,
    "start_time": "2022-08-24T07:49:12.614Z"
   },
   {
    "duration": 0,
    "start_time": "2022-08-24T07:49:12.616Z"
   },
   {
    "duration": 0,
    "start_time": "2022-08-24T07:49:12.617Z"
   },
   {
    "duration": 0,
    "start_time": "2022-08-24T07:49:12.618Z"
   },
   {
    "duration": 0,
    "start_time": "2022-08-24T07:49:12.619Z"
   },
   {
    "duration": 0,
    "start_time": "2022-08-24T07:49:12.620Z"
   },
   {
    "duration": 0,
    "start_time": "2022-08-24T07:49:12.621Z"
   },
   {
    "duration": 0,
    "start_time": "2022-08-24T07:49:12.622Z"
   },
   {
    "duration": 0,
    "start_time": "2022-08-24T07:49:12.623Z"
   },
   {
    "duration": 0,
    "start_time": "2022-08-24T07:49:12.624Z"
   },
   {
    "duration": 0,
    "start_time": "2022-08-24T07:49:12.625Z"
   },
   {
    "duration": 0,
    "start_time": "2022-08-24T07:49:12.626Z"
   },
   {
    "duration": 0,
    "start_time": "2022-08-24T07:49:12.627Z"
   },
   {
    "duration": 0,
    "start_time": "2022-08-24T07:49:12.628Z"
   },
   {
    "duration": 0,
    "start_time": "2022-08-24T07:49:12.630Z"
   },
   {
    "duration": 0,
    "start_time": "2022-08-24T07:49:12.631Z"
   },
   {
    "duration": 0,
    "start_time": "2022-08-24T07:49:12.632Z"
   },
   {
    "duration": 0,
    "start_time": "2022-08-24T07:49:12.634Z"
   },
   {
    "duration": 0,
    "start_time": "2022-08-24T07:49:12.635Z"
   },
   {
    "duration": 640,
    "start_time": "2022-08-24T07:49:45.520Z"
   },
   {
    "duration": 9,
    "start_time": "2022-08-24T07:49:54.545Z"
   },
   {
    "duration": 8,
    "start_time": "2022-08-24T07:51:26.358Z"
   },
   {
    "duration": 9,
    "start_time": "2022-08-24T07:51:28.119Z"
   },
   {
    "duration": 10,
    "start_time": "2022-08-24T07:51:54.351Z"
   },
   {
    "duration": 10,
    "start_time": "2022-08-24T07:52:14.086Z"
   },
   {
    "duration": 9,
    "start_time": "2022-08-24T07:52:44.824Z"
   },
   {
    "duration": 1172,
    "start_time": "2022-08-24T07:52:55.068Z"
   },
   {
    "duration": 28,
    "start_time": "2022-08-24T07:52:56.241Z"
   },
   {
    "duration": 13,
    "start_time": "2022-08-24T07:52:56.271Z"
   },
   {
    "duration": 6,
    "start_time": "2022-08-24T07:52:56.286Z"
   },
   {
    "duration": 40,
    "start_time": "2022-08-24T07:52:56.293Z"
   },
   {
    "duration": 10,
    "start_time": "2022-08-24T07:52:56.335Z"
   },
   {
    "duration": 17,
    "start_time": "2022-08-24T07:52:56.347Z"
   },
   {
    "duration": 15,
    "start_time": "2022-08-24T07:52:56.366Z"
   },
   {
    "duration": 25,
    "start_time": "2022-08-24T07:52:56.383Z"
   },
   {
    "duration": 10,
    "start_time": "2022-08-24T07:52:56.412Z"
   },
   {
    "duration": 8,
    "start_time": "2022-08-24T07:52:56.423Z"
   },
   {
    "duration": 14,
    "start_time": "2022-08-24T07:52:56.433Z"
   },
   {
    "duration": 9,
    "start_time": "2022-08-24T07:52:56.449Z"
   },
   {
    "duration": 9,
    "start_time": "2022-08-24T07:52:56.460Z"
   },
   {
    "duration": 7,
    "start_time": "2022-08-24T07:52:56.471Z"
   },
   {
    "duration": 22,
    "start_time": "2022-08-24T07:52:56.480Z"
   },
   {
    "duration": 16,
    "start_time": "2022-08-24T07:52:56.504Z"
   },
   {
    "duration": 8,
    "start_time": "2022-08-24T07:52:56.521Z"
   },
   {
    "duration": 12,
    "start_time": "2022-08-24T07:52:56.530Z"
   },
   {
    "duration": 6,
    "start_time": "2022-08-24T07:52:56.544Z"
   },
   {
    "duration": 8,
    "start_time": "2022-08-24T07:52:56.552Z"
   },
   {
    "duration": 9,
    "start_time": "2022-08-24T07:52:56.562Z"
   },
   {
    "duration": 7,
    "start_time": "2022-08-24T07:52:56.572Z"
   },
   {
    "duration": 32,
    "start_time": "2022-08-24T07:52:56.581Z"
   },
   {
    "duration": 6,
    "start_time": "2022-08-24T07:52:56.615Z"
   },
   {
    "duration": 12,
    "start_time": "2022-08-24T07:52:56.623Z"
   },
   {
    "duration": 104,
    "start_time": "2022-08-24T07:52:56.636Z"
   },
   {
    "duration": 0,
    "start_time": "2022-08-24T07:52:56.743Z"
   },
   {
    "duration": 0,
    "start_time": "2022-08-24T07:52:56.744Z"
   },
   {
    "duration": 0,
    "start_time": "2022-08-24T07:52:56.745Z"
   },
   {
    "duration": 0,
    "start_time": "2022-08-24T07:52:56.746Z"
   },
   {
    "duration": 0,
    "start_time": "2022-08-24T07:52:56.747Z"
   },
   {
    "duration": 0,
    "start_time": "2022-08-24T07:52:56.749Z"
   },
   {
    "duration": 0,
    "start_time": "2022-08-24T07:52:56.750Z"
   },
   {
    "duration": 0,
    "start_time": "2022-08-24T07:52:56.751Z"
   },
   {
    "duration": 0,
    "start_time": "2022-08-24T07:52:56.752Z"
   },
   {
    "duration": 0,
    "start_time": "2022-08-24T07:52:56.753Z"
   },
   {
    "duration": 0,
    "start_time": "2022-08-24T07:52:56.754Z"
   },
   {
    "duration": 0,
    "start_time": "2022-08-24T07:52:56.755Z"
   },
   {
    "duration": 0,
    "start_time": "2022-08-24T07:52:56.756Z"
   },
   {
    "duration": 0,
    "start_time": "2022-08-24T07:52:56.757Z"
   },
   {
    "duration": 0,
    "start_time": "2022-08-24T07:52:56.758Z"
   },
   {
    "duration": 0,
    "start_time": "2022-08-24T07:52:56.759Z"
   },
   {
    "duration": 0,
    "start_time": "2022-08-24T07:52:56.760Z"
   },
   {
    "duration": 0,
    "start_time": "2022-08-24T07:52:56.761Z"
   },
   {
    "duration": 0,
    "start_time": "2022-08-24T07:52:56.762Z"
   },
   {
    "duration": 0,
    "start_time": "2022-08-24T07:52:56.763Z"
   },
   {
    "duration": 0,
    "start_time": "2022-08-24T07:52:56.802Z"
   },
   {
    "duration": 0,
    "start_time": "2022-08-24T07:52:56.804Z"
   },
   {
    "duration": 0,
    "start_time": "2022-08-24T07:52:56.805Z"
   },
   {
    "duration": 0,
    "start_time": "2022-08-24T07:52:56.806Z"
   },
   {
    "duration": 0,
    "start_time": "2022-08-24T07:52:56.807Z"
   },
   {
    "duration": 0,
    "start_time": "2022-08-24T07:52:56.809Z"
   },
   {
    "duration": 0,
    "start_time": "2022-08-24T07:52:56.809Z"
   },
   {
    "duration": 0,
    "start_time": "2022-08-24T07:52:56.811Z"
   },
   {
    "duration": 0,
    "start_time": "2022-08-24T07:52:56.811Z"
   },
   {
    "duration": 0,
    "start_time": "2022-08-24T07:52:56.813Z"
   },
   {
    "duration": 0,
    "start_time": "2022-08-24T07:52:56.813Z"
   },
   {
    "duration": 0,
    "start_time": "2022-08-24T07:52:56.814Z"
   },
   {
    "duration": 0,
    "start_time": "2022-08-24T07:52:56.815Z"
   },
   {
    "duration": 0,
    "start_time": "2022-08-24T07:52:56.817Z"
   },
   {
    "duration": 0,
    "start_time": "2022-08-24T07:52:56.818Z"
   },
   {
    "duration": 0,
    "start_time": "2022-08-24T07:52:56.819Z"
   },
   {
    "duration": 0,
    "start_time": "2022-08-24T07:52:56.820Z"
   },
   {
    "duration": 0,
    "start_time": "2022-08-24T07:52:56.821Z"
   },
   {
    "duration": 0,
    "start_time": "2022-08-24T07:52:56.822Z"
   },
   {
    "duration": 0,
    "start_time": "2022-08-24T07:52:56.823Z"
   },
   {
    "duration": 0,
    "start_time": "2022-08-24T07:52:56.824Z"
   },
   {
    "duration": 0,
    "start_time": "2022-08-24T07:52:56.825Z"
   },
   {
    "duration": 0,
    "start_time": "2022-08-24T07:52:56.826Z"
   },
   {
    "duration": 0,
    "start_time": "2022-08-24T07:52:56.827Z"
   },
   {
    "duration": 0,
    "start_time": "2022-08-24T07:52:56.828Z"
   },
   {
    "duration": 0,
    "start_time": "2022-08-24T07:52:56.829Z"
   },
   {
    "duration": 0,
    "start_time": "2022-08-24T07:52:56.830Z"
   },
   {
    "duration": 0,
    "start_time": "2022-08-24T07:52:56.832Z"
   },
   {
    "duration": 0,
    "start_time": "2022-08-24T07:52:56.833Z"
   },
   {
    "duration": 0,
    "start_time": "2022-08-24T07:52:56.834Z"
   },
   {
    "duration": 0,
    "start_time": "2022-08-24T07:52:56.835Z"
   },
   {
    "duration": 0,
    "start_time": "2022-08-24T07:52:56.836Z"
   },
   {
    "duration": 0,
    "start_time": "2022-08-24T07:52:56.837Z"
   },
   {
    "duration": 0,
    "start_time": "2022-08-24T07:52:56.838Z"
   },
   {
    "duration": 0,
    "start_time": "2022-08-24T07:52:56.840Z"
   },
   {
    "duration": 0,
    "start_time": "2022-08-24T07:52:56.903Z"
   },
   {
    "duration": 0,
    "start_time": "2022-08-24T07:52:56.904Z"
   },
   {
    "duration": 0,
    "start_time": "2022-08-24T07:52:56.905Z"
   },
   {
    "duration": 0,
    "start_time": "2022-08-24T07:52:56.906Z"
   },
   {
    "duration": 11,
    "start_time": "2022-08-24T07:53:39.782Z"
   },
   {
    "duration": 1180,
    "start_time": "2022-08-24T07:53:45.472Z"
   },
   {
    "duration": 29,
    "start_time": "2022-08-24T07:53:46.654Z"
   },
   {
    "duration": 12,
    "start_time": "2022-08-24T07:53:46.684Z"
   },
   {
    "duration": 20,
    "start_time": "2022-08-24T07:53:46.698Z"
   },
   {
    "duration": 62,
    "start_time": "2022-08-24T07:53:46.720Z"
   },
   {
    "duration": 8,
    "start_time": "2022-08-24T07:53:46.784Z"
   },
   {
    "duration": 23,
    "start_time": "2022-08-24T07:53:46.794Z"
   },
   {
    "duration": 30,
    "start_time": "2022-08-24T07:53:46.819Z"
   },
   {
    "duration": 36,
    "start_time": "2022-08-24T07:53:46.850Z"
   },
   {
    "duration": 28,
    "start_time": "2022-08-24T07:53:46.889Z"
   },
   {
    "duration": 34,
    "start_time": "2022-08-24T07:53:46.918Z"
   },
   {
    "duration": 21,
    "start_time": "2022-08-24T07:53:46.954Z"
   },
   {
    "duration": 22,
    "start_time": "2022-08-24T07:53:46.977Z"
   },
   {
    "duration": 20,
    "start_time": "2022-08-24T07:53:47.001Z"
   },
   {
    "duration": 23,
    "start_time": "2022-08-24T07:53:47.023Z"
   },
   {
    "duration": 24,
    "start_time": "2022-08-24T07:53:47.048Z"
   },
   {
    "duration": 28,
    "start_time": "2022-08-24T07:53:47.074Z"
   },
   {
    "duration": 12,
    "start_time": "2022-08-24T07:53:47.104Z"
   },
   {
    "duration": 31,
    "start_time": "2022-08-24T07:53:47.117Z"
   },
   {
    "duration": 17,
    "start_time": "2022-08-24T07:53:47.150Z"
   },
   {
    "duration": 41,
    "start_time": "2022-08-24T07:53:47.168Z"
   },
   {
    "duration": 25,
    "start_time": "2022-08-24T07:53:47.211Z"
   },
   {
    "duration": 15,
    "start_time": "2022-08-24T07:53:47.237Z"
   },
   {
    "duration": 30,
    "start_time": "2022-08-24T07:53:47.254Z"
   },
   {
    "duration": 12,
    "start_time": "2022-08-24T07:53:47.285Z"
   },
   {
    "duration": 31,
    "start_time": "2022-08-24T07:53:47.298Z"
   },
   {
    "duration": 112,
    "start_time": "2022-08-24T07:53:47.331Z"
   },
   {
    "duration": 0,
    "start_time": "2022-08-24T07:53:47.447Z"
   },
   {
    "duration": 0,
    "start_time": "2022-08-24T07:53:47.448Z"
   },
   {
    "duration": 0,
    "start_time": "2022-08-24T07:53:47.450Z"
   },
   {
    "duration": 1,
    "start_time": "2022-08-24T07:53:47.451Z"
   },
   {
    "duration": 0,
    "start_time": "2022-08-24T07:53:47.453Z"
   },
   {
    "duration": 0,
    "start_time": "2022-08-24T07:53:47.454Z"
   },
   {
    "duration": 0,
    "start_time": "2022-08-24T07:53:47.455Z"
   },
   {
    "duration": 0,
    "start_time": "2022-08-24T07:53:47.456Z"
   },
   {
    "duration": 0,
    "start_time": "2022-08-24T07:53:47.458Z"
   },
   {
    "duration": 0,
    "start_time": "2022-08-24T07:53:47.459Z"
   },
   {
    "duration": 0,
    "start_time": "2022-08-24T07:53:47.460Z"
   },
   {
    "duration": 0,
    "start_time": "2022-08-24T07:53:47.462Z"
   },
   {
    "duration": 0,
    "start_time": "2022-08-24T07:53:47.464Z"
   },
   {
    "duration": 0,
    "start_time": "2022-08-24T07:53:47.465Z"
   },
   {
    "duration": 0,
    "start_time": "2022-08-24T07:53:47.466Z"
   },
   {
    "duration": 0,
    "start_time": "2022-08-24T07:53:47.467Z"
   },
   {
    "duration": 0,
    "start_time": "2022-08-24T07:53:47.468Z"
   },
   {
    "duration": 0,
    "start_time": "2022-08-24T07:53:47.470Z"
   },
   {
    "duration": 0,
    "start_time": "2022-08-24T07:53:47.471Z"
   },
   {
    "duration": 0,
    "start_time": "2022-08-24T07:53:47.503Z"
   },
   {
    "duration": 0,
    "start_time": "2022-08-24T07:53:47.505Z"
   },
   {
    "duration": 0,
    "start_time": "2022-08-24T07:53:47.506Z"
   },
   {
    "duration": 0,
    "start_time": "2022-08-24T07:53:47.507Z"
   },
   {
    "duration": 0,
    "start_time": "2022-08-24T07:53:47.508Z"
   },
   {
    "duration": 0,
    "start_time": "2022-08-24T07:53:47.509Z"
   },
   {
    "duration": 0,
    "start_time": "2022-08-24T07:53:47.510Z"
   },
   {
    "duration": 0,
    "start_time": "2022-08-24T07:53:47.511Z"
   },
   {
    "duration": 0,
    "start_time": "2022-08-24T07:53:47.512Z"
   },
   {
    "duration": 0,
    "start_time": "2022-08-24T07:53:47.513Z"
   },
   {
    "duration": 0,
    "start_time": "2022-08-24T07:53:47.514Z"
   },
   {
    "duration": 0,
    "start_time": "2022-08-24T07:53:47.515Z"
   },
   {
    "duration": 0,
    "start_time": "2022-08-24T07:53:47.517Z"
   },
   {
    "duration": 0,
    "start_time": "2022-08-24T07:53:47.518Z"
   },
   {
    "duration": 0,
    "start_time": "2022-08-24T07:53:47.519Z"
   },
   {
    "duration": 0,
    "start_time": "2022-08-24T07:53:47.520Z"
   },
   {
    "duration": 0,
    "start_time": "2022-08-24T07:53:47.521Z"
   },
   {
    "duration": 0,
    "start_time": "2022-08-24T07:53:47.523Z"
   },
   {
    "duration": 0,
    "start_time": "2022-08-24T07:53:47.524Z"
   },
   {
    "duration": 0,
    "start_time": "2022-08-24T07:53:47.526Z"
   },
   {
    "duration": 0,
    "start_time": "2022-08-24T07:53:47.527Z"
   },
   {
    "duration": 0,
    "start_time": "2022-08-24T07:53:47.529Z"
   },
   {
    "duration": 0,
    "start_time": "2022-08-24T07:53:47.531Z"
   },
   {
    "duration": 0,
    "start_time": "2022-08-24T07:53:47.532Z"
   },
   {
    "duration": 0,
    "start_time": "2022-08-24T07:53:47.534Z"
   },
   {
    "duration": 0,
    "start_time": "2022-08-24T07:53:47.535Z"
   },
   {
    "duration": 0,
    "start_time": "2022-08-24T07:53:47.536Z"
   },
   {
    "duration": 0,
    "start_time": "2022-08-24T07:53:47.537Z"
   },
   {
    "duration": 0,
    "start_time": "2022-08-24T07:53:47.538Z"
   },
   {
    "duration": 0,
    "start_time": "2022-08-24T07:53:47.540Z"
   },
   {
    "duration": 0,
    "start_time": "2022-08-24T07:53:47.540Z"
   },
   {
    "duration": 0,
    "start_time": "2022-08-24T07:53:47.542Z"
   },
   {
    "duration": 0,
    "start_time": "2022-08-24T07:53:47.543Z"
   },
   {
    "duration": 0,
    "start_time": "2022-08-24T07:53:47.603Z"
   },
   {
    "duration": 0,
    "start_time": "2022-08-24T07:53:47.605Z"
   },
   {
    "duration": 0,
    "start_time": "2022-08-24T07:53:47.606Z"
   },
   {
    "duration": 0,
    "start_time": "2022-08-24T07:53:47.608Z"
   },
   {
    "duration": 0,
    "start_time": "2022-08-24T07:53:47.609Z"
   },
   {
    "duration": 0,
    "start_time": "2022-08-24T07:53:47.610Z"
   },
   {
    "duration": 0,
    "start_time": "2022-08-24T07:53:47.611Z"
   },
   {
    "duration": 4,
    "start_time": "2022-08-24T07:54:35.879Z"
   },
   {
    "duration": 12,
    "start_time": "2022-08-24T07:54:42.573Z"
   },
   {
    "duration": 572,
    "start_time": "2022-08-24T07:56:27.833Z"
   },
   {
    "duration": 1155,
    "start_time": "2022-08-24T07:56:34.872Z"
   },
   {
    "duration": 27,
    "start_time": "2022-08-24T07:56:36.029Z"
   },
   {
    "duration": 12,
    "start_time": "2022-08-24T07:56:36.058Z"
   },
   {
    "duration": 4,
    "start_time": "2022-08-24T07:56:36.072Z"
   },
   {
    "duration": 55,
    "start_time": "2022-08-24T07:56:36.077Z"
   },
   {
    "duration": 9,
    "start_time": "2022-08-24T07:56:36.134Z"
   },
   {
    "duration": 14,
    "start_time": "2022-08-24T07:56:36.145Z"
   },
   {
    "duration": 15,
    "start_time": "2022-08-24T07:56:36.160Z"
   },
   {
    "duration": 13,
    "start_time": "2022-08-24T07:56:36.177Z"
   },
   {
    "duration": 13,
    "start_time": "2022-08-24T07:56:36.193Z"
   },
   {
    "duration": 5,
    "start_time": "2022-08-24T07:56:36.208Z"
   },
   {
    "duration": 6,
    "start_time": "2022-08-24T07:56:36.215Z"
   },
   {
    "duration": 4,
    "start_time": "2022-08-24T07:56:36.223Z"
   },
   {
    "duration": 6,
    "start_time": "2022-08-24T07:56:36.229Z"
   },
   {
    "duration": 10,
    "start_time": "2022-08-24T07:56:36.236Z"
   },
   {
    "duration": 4,
    "start_time": "2022-08-24T07:56:36.247Z"
   },
   {
    "duration": 21,
    "start_time": "2022-08-24T07:56:36.253Z"
   },
   {
    "duration": 7,
    "start_time": "2022-08-24T07:56:36.276Z"
   },
   {
    "duration": 12,
    "start_time": "2022-08-24T07:56:36.303Z"
   },
   {
    "duration": 10,
    "start_time": "2022-08-24T07:56:36.317Z"
   },
   {
    "duration": 8,
    "start_time": "2022-08-24T07:56:36.329Z"
   },
   {
    "duration": 8,
    "start_time": "2022-08-24T07:56:36.338Z"
   },
   {
    "duration": 6,
    "start_time": "2022-08-24T07:56:36.348Z"
   },
   {
    "duration": 6,
    "start_time": "2022-08-24T07:56:36.356Z"
   },
   {
    "duration": 8,
    "start_time": "2022-08-24T07:56:36.364Z"
   },
   {
    "duration": 11,
    "start_time": "2022-08-24T07:56:36.402Z"
   },
   {
    "duration": 819,
    "start_time": "2022-08-24T07:56:36.415Z"
   },
   {
    "duration": 0,
    "start_time": "2022-08-24T07:56:37.237Z"
   },
   {
    "duration": 0,
    "start_time": "2022-08-24T07:56:37.238Z"
   },
   {
    "duration": 0,
    "start_time": "2022-08-24T07:56:37.240Z"
   },
   {
    "duration": 0,
    "start_time": "2022-08-24T07:56:37.241Z"
   },
   {
    "duration": 0,
    "start_time": "2022-08-24T07:56:37.242Z"
   },
   {
    "duration": 0,
    "start_time": "2022-08-24T07:56:37.243Z"
   },
   {
    "duration": 0,
    "start_time": "2022-08-24T07:56:37.244Z"
   },
   {
    "duration": 0,
    "start_time": "2022-08-24T07:56:37.244Z"
   },
   {
    "duration": 0,
    "start_time": "2022-08-24T07:56:37.245Z"
   },
   {
    "duration": 0,
    "start_time": "2022-08-24T07:56:37.246Z"
   },
   {
    "duration": 0,
    "start_time": "2022-08-24T07:56:37.247Z"
   },
   {
    "duration": 0,
    "start_time": "2022-08-24T07:56:37.248Z"
   },
   {
    "duration": 0,
    "start_time": "2022-08-24T07:56:37.249Z"
   },
   {
    "duration": 0,
    "start_time": "2022-08-24T07:56:37.250Z"
   },
   {
    "duration": 0,
    "start_time": "2022-08-24T07:56:37.251Z"
   },
   {
    "duration": 0,
    "start_time": "2022-08-24T07:56:37.252Z"
   },
   {
    "duration": 0,
    "start_time": "2022-08-24T07:56:37.253Z"
   },
   {
    "duration": 0,
    "start_time": "2022-08-24T07:56:37.254Z"
   },
   {
    "duration": 0,
    "start_time": "2022-08-24T07:56:37.255Z"
   },
   {
    "duration": 0,
    "start_time": "2022-08-24T07:56:37.256Z"
   },
   {
    "duration": 0,
    "start_time": "2022-08-24T07:56:37.257Z"
   },
   {
    "duration": 0,
    "start_time": "2022-08-24T07:56:37.258Z"
   },
   {
    "duration": 0,
    "start_time": "2022-08-24T07:56:37.259Z"
   },
   {
    "duration": 0,
    "start_time": "2022-08-24T07:56:37.260Z"
   },
   {
    "duration": 0,
    "start_time": "2022-08-24T07:56:37.261Z"
   },
   {
    "duration": 0,
    "start_time": "2022-08-24T07:56:37.262Z"
   },
   {
    "duration": 0,
    "start_time": "2022-08-24T07:56:37.263Z"
   },
   {
    "duration": 0,
    "start_time": "2022-08-24T07:56:37.264Z"
   },
   {
    "duration": 0,
    "start_time": "2022-08-24T07:56:37.265Z"
   },
   {
    "duration": 0,
    "start_time": "2022-08-24T07:56:37.266Z"
   },
   {
    "duration": 0,
    "start_time": "2022-08-24T07:56:37.267Z"
   },
   {
    "duration": 0,
    "start_time": "2022-08-24T07:56:37.268Z"
   },
   {
    "duration": 0,
    "start_time": "2022-08-24T07:56:37.269Z"
   },
   {
    "duration": 0,
    "start_time": "2022-08-24T07:56:37.270Z"
   },
   {
    "duration": 0,
    "start_time": "2022-08-24T07:56:37.271Z"
   },
   {
    "duration": 0,
    "start_time": "2022-08-24T07:56:37.272Z"
   },
   {
    "duration": 0,
    "start_time": "2022-08-24T07:56:37.273Z"
   },
   {
    "duration": 0,
    "start_time": "2022-08-24T07:56:37.303Z"
   },
   {
    "duration": 0,
    "start_time": "2022-08-24T07:56:37.304Z"
   },
   {
    "duration": 0,
    "start_time": "2022-08-24T07:56:37.305Z"
   },
   {
    "duration": 0,
    "start_time": "2022-08-24T07:56:37.306Z"
   },
   {
    "duration": 0,
    "start_time": "2022-08-24T07:56:37.307Z"
   },
   {
    "duration": 0,
    "start_time": "2022-08-24T07:56:37.308Z"
   },
   {
    "duration": 0,
    "start_time": "2022-08-24T07:56:37.309Z"
   },
   {
    "duration": 0,
    "start_time": "2022-08-24T07:56:37.310Z"
   },
   {
    "duration": 0,
    "start_time": "2022-08-24T07:56:37.311Z"
   },
   {
    "duration": 0,
    "start_time": "2022-08-24T07:56:37.312Z"
   },
   {
    "duration": 0,
    "start_time": "2022-08-24T07:56:37.313Z"
   },
   {
    "duration": 0,
    "start_time": "2022-08-24T07:56:37.314Z"
   },
   {
    "duration": 0,
    "start_time": "2022-08-24T07:56:37.315Z"
   },
   {
    "duration": 0,
    "start_time": "2022-08-24T07:56:37.316Z"
   },
   {
    "duration": 0,
    "start_time": "2022-08-24T07:56:37.317Z"
   },
   {
    "duration": 0,
    "start_time": "2022-08-24T07:56:37.318Z"
   },
   {
    "duration": 0,
    "start_time": "2022-08-24T07:56:37.319Z"
   },
   {
    "duration": 0,
    "start_time": "2022-08-24T07:56:37.320Z"
   },
   {
    "duration": 0,
    "start_time": "2022-08-24T07:56:37.321Z"
   },
   {
    "duration": 0,
    "start_time": "2022-08-24T07:56:37.322Z"
   },
   {
    "duration": 0,
    "start_time": "2022-08-24T07:56:37.324Z"
   },
   {
    "duration": 0,
    "start_time": "2022-08-24T07:56:37.325Z"
   },
   {
    "duration": 5,
    "start_time": "2022-08-24T07:57:13.138Z"
   },
   {
    "duration": 12,
    "start_time": "2022-08-24T07:57:14.235Z"
   },
   {
    "duration": 4,
    "start_time": "2022-08-24T07:57:57.817Z"
   },
   {
    "duration": 14,
    "start_time": "2022-08-24T07:57:59.115Z"
   },
   {
    "duration": 5,
    "start_time": "2022-08-24T07:58:07.171Z"
   },
   {
    "duration": 12,
    "start_time": "2022-08-24T07:58:08.581Z"
   },
   {
    "duration": 9,
    "start_time": "2022-08-24T07:58:43.678Z"
   },
   {
    "duration": 4,
    "start_time": "2022-08-24T07:59:01.678Z"
   },
   {
    "duration": 12,
    "start_time": "2022-08-24T07:59:03.025Z"
   },
   {
    "duration": 4,
    "start_time": "2022-08-24T07:59:36.940Z"
   },
   {
    "duration": 13,
    "start_time": "2022-08-24T07:59:38.071Z"
   },
   {
    "duration": 9,
    "start_time": "2022-08-24T08:00:54.154Z"
   },
   {
    "duration": 8,
    "start_time": "2022-08-24T08:00:55.847Z"
   },
   {
    "duration": 773,
    "start_time": "2022-08-24T08:05:16.370Z"
   },
   {
    "duration": 691,
    "start_time": "2022-08-24T08:05:28.464Z"
   },
   {
    "duration": 1159,
    "start_time": "2022-08-24T08:06:04.702Z"
   },
   {
    "duration": 28,
    "start_time": "2022-08-24T08:06:05.863Z"
   },
   {
    "duration": 13,
    "start_time": "2022-08-24T08:06:05.893Z"
   },
   {
    "duration": 20,
    "start_time": "2022-08-24T08:06:05.908Z"
   },
   {
    "duration": 57,
    "start_time": "2022-08-24T08:06:05.929Z"
   },
   {
    "duration": 9,
    "start_time": "2022-08-24T08:06:05.988Z"
   },
   {
    "duration": 37,
    "start_time": "2022-08-24T08:06:05.998Z"
   },
   {
    "duration": 32,
    "start_time": "2022-08-24T08:06:06.038Z"
   },
   {
    "duration": 28,
    "start_time": "2022-08-24T08:06:06.072Z"
   },
   {
    "duration": 25,
    "start_time": "2022-08-24T08:06:06.103Z"
   },
   {
    "duration": 30,
    "start_time": "2022-08-24T08:06:06.130Z"
   },
   {
    "duration": 41,
    "start_time": "2022-08-24T08:06:06.161Z"
   },
   {
    "duration": 16,
    "start_time": "2022-08-24T08:06:06.204Z"
   },
   {
    "duration": 22,
    "start_time": "2022-08-24T08:06:06.221Z"
   },
   {
    "duration": 18,
    "start_time": "2022-08-24T08:06:06.244Z"
   },
   {
    "duration": 16,
    "start_time": "2022-08-24T08:06:06.264Z"
   },
   {
    "duration": 45,
    "start_time": "2022-08-24T08:06:06.282Z"
   },
   {
    "duration": 7,
    "start_time": "2022-08-24T08:06:06.329Z"
   },
   {
    "duration": 29,
    "start_time": "2022-08-24T08:06:06.338Z"
   },
   {
    "duration": 30,
    "start_time": "2022-08-24T08:06:06.369Z"
   },
   {
    "duration": 46,
    "start_time": "2022-08-24T08:06:06.401Z"
   },
   {
    "duration": 32,
    "start_time": "2022-08-24T08:06:06.449Z"
   },
   {
    "duration": 31,
    "start_time": "2022-08-24T08:06:06.483Z"
   },
   {
    "duration": 14,
    "start_time": "2022-08-24T08:06:06.515Z"
   },
   {
    "duration": 22,
    "start_time": "2022-08-24T08:06:06.530Z"
   },
   {
    "duration": 37,
    "start_time": "2022-08-24T08:06:06.554Z"
   },
   {
    "duration": 808,
    "start_time": "2022-08-24T08:06:06.593Z"
   },
   {
    "duration": 0,
    "start_time": "2022-08-24T08:06:07.405Z"
   },
   {
    "duration": 0,
    "start_time": "2022-08-24T08:06:07.406Z"
   },
   {
    "duration": 0,
    "start_time": "2022-08-24T08:06:07.407Z"
   },
   {
    "duration": 0,
    "start_time": "2022-08-24T08:06:07.409Z"
   },
   {
    "duration": 0,
    "start_time": "2022-08-24T08:06:07.410Z"
   },
   {
    "duration": 0,
    "start_time": "2022-08-24T08:06:07.411Z"
   },
   {
    "duration": 0,
    "start_time": "2022-08-24T08:06:07.412Z"
   },
   {
    "duration": 0,
    "start_time": "2022-08-24T08:06:07.413Z"
   },
   {
    "duration": 0,
    "start_time": "2022-08-24T08:06:07.415Z"
   },
   {
    "duration": 0,
    "start_time": "2022-08-24T08:06:07.416Z"
   },
   {
    "duration": 0,
    "start_time": "2022-08-24T08:06:07.417Z"
   },
   {
    "duration": 0,
    "start_time": "2022-08-24T08:06:07.418Z"
   },
   {
    "duration": 0,
    "start_time": "2022-08-24T08:06:07.419Z"
   },
   {
    "duration": 0,
    "start_time": "2022-08-24T08:06:07.420Z"
   },
   {
    "duration": 0,
    "start_time": "2022-08-24T08:06:07.421Z"
   },
   {
    "duration": 0,
    "start_time": "2022-08-24T08:06:07.422Z"
   },
   {
    "duration": 0,
    "start_time": "2022-08-24T08:06:07.423Z"
   },
   {
    "duration": 0,
    "start_time": "2022-08-24T08:06:07.424Z"
   },
   {
    "duration": 0,
    "start_time": "2022-08-24T08:06:07.425Z"
   },
   {
    "duration": 0,
    "start_time": "2022-08-24T08:06:07.427Z"
   },
   {
    "duration": 0,
    "start_time": "2022-08-24T08:06:07.428Z"
   },
   {
    "duration": 0,
    "start_time": "2022-08-24T08:06:07.429Z"
   },
   {
    "duration": 0,
    "start_time": "2022-08-24T08:06:07.430Z"
   },
   {
    "duration": 0,
    "start_time": "2022-08-24T08:06:07.431Z"
   },
   {
    "duration": 0,
    "start_time": "2022-08-24T08:06:07.432Z"
   },
   {
    "duration": 0,
    "start_time": "2022-08-24T08:06:07.434Z"
   },
   {
    "duration": 0,
    "start_time": "2022-08-24T08:06:07.434Z"
   },
   {
    "duration": 0,
    "start_time": "2022-08-24T08:06:07.436Z"
   },
   {
    "duration": 0,
    "start_time": "2022-08-24T08:06:07.437Z"
   },
   {
    "duration": 0,
    "start_time": "2022-08-24T08:06:07.438Z"
   },
   {
    "duration": 0,
    "start_time": "2022-08-24T08:06:07.440Z"
   },
   {
    "duration": 0,
    "start_time": "2022-08-24T08:06:07.441Z"
   },
   {
    "duration": 0,
    "start_time": "2022-08-24T08:06:07.504Z"
   },
   {
    "duration": 0,
    "start_time": "2022-08-24T08:06:07.505Z"
   },
   {
    "duration": 0,
    "start_time": "2022-08-24T08:06:07.507Z"
   },
   {
    "duration": 0,
    "start_time": "2022-08-24T08:06:07.509Z"
   },
   {
    "duration": 0,
    "start_time": "2022-08-24T08:06:07.510Z"
   },
   {
    "duration": 0,
    "start_time": "2022-08-24T08:06:07.511Z"
   },
   {
    "duration": 0,
    "start_time": "2022-08-24T08:06:07.512Z"
   },
   {
    "duration": 0,
    "start_time": "2022-08-24T08:06:07.513Z"
   },
   {
    "duration": 0,
    "start_time": "2022-08-24T08:06:07.513Z"
   },
   {
    "duration": 0,
    "start_time": "2022-08-24T08:06:07.514Z"
   },
   {
    "duration": 0,
    "start_time": "2022-08-24T08:06:07.515Z"
   },
   {
    "duration": 0,
    "start_time": "2022-08-24T08:06:07.516Z"
   },
   {
    "duration": 0,
    "start_time": "2022-08-24T08:06:07.518Z"
   },
   {
    "duration": 0,
    "start_time": "2022-08-24T08:06:07.519Z"
   },
   {
    "duration": 0,
    "start_time": "2022-08-24T08:06:07.520Z"
   },
   {
    "duration": 0,
    "start_time": "2022-08-24T08:06:07.521Z"
   },
   {
    "duration": 0,
    "start_time": "2022-08-24T08:06:07.523Z"
   },
   {
    "duration": 0,
    "start_time": "2022-08-24T08:06:07.524Z"
   },
   {
    "duration": 0,
    "start_time": "2022-08-24T08:06:07.526Z"
   },
   {
    "duration": 0,
    "start_time": "2022-08-24T08:06:07.527Z"
   },
   {
    "duration": 0,
    "start_time": "2022-08-24T08:06:07.528Z"
   },
   {
    "duration": 0,
    "start_time": "2022-08-24T08:06:07.529Z"
   },
   {
    "duration": 0,
    "start_time": "2022-08-24T08:06:07.531Z"
   },
   {
    "duration": 0,
    "start_time": "2022-08-24T08:06:07.533Z"
   },
   {
    "duration": 0,
    "start_time": "2022-08-24T08:06:07.535Z"
   },
   {
    "duration": 0,
    "start_time": "2022-08-24T08:06:07.536Z"
   },
   {
    "duration": 6,
    "start_time": "2022-08-24T08:07:38.946Z"
   },
   {
    "duration": 13,
    "start_time": "2022-08-24T08:07:48.252Z"
   },
   {
    "duration": 14,
    "start_time": "2022-08-24T08:09:00.148Z"
   },
   {
    "duration": 8,
    "start_time": "2022-08-24T08:09:22.960Z"
   },
   {
    "duration": 9,
    "start_time": "2022-08-24T08:09:28.257Z"
   },
   {
    "duration": 8,
    "start_time": "2022-08-24T08:09:43.309Z"
   },
   {
    "duration": 5,
    "start_time": "2022-08-24T08:10:11.887Z"
   },
   {
    "duration": 12,
    "start_time": "2022-08-24T08:12:33.102Z"
   },
   {
    "duration": 17,
    "start_time": "2022-08-24T08:13:58.990Z"
   },
   {
    "duration": 15,
    "start_time": "2022-08-24T08:16:14.197Z"
   },
   {
    "duration": 13,
    "start_time": "2022-08-24T08:16:34.079Z"
   },
   {
    "duration": 13,
    "start_time": "2022-08-24T08:17:18.109Z"
   },
   {
    "duration": 12,
    "start_time": "2022-08-24T08:17:29.172Z"
   },
   {
    "duration": 1169,
    "start_time": "2022-08-24T08:17:34.193Z"
   },
   {
    "duration": 28,
    "start_time": "2022-08-24T08:17:35.364Z"
   },
   {
    "duration": 11,
    "start_time": "2022-08-24T08:17:35.394Z"
   },
   {
    "duration": 6,
    "start_time": "2022-08-24T08:17:35.407Z"
   },
   {
    "duration": 47,
    "start_time": "2022-08-24T08:17:35.414Z"
   },
   {
    "duration": 9,
    "start_time": "2022-08-24T08:17:35.463Z"
   },
   {
    "duration": 17,
    "start_time": "2022-08-24T08:17:35.474Z"
   },
   {
    "duration": 16,
    "start_time": "2022-08-24T08:17:35.493Z"
   },
   {
    "duration": 17,
    "start_time": "2022-08-24T08:17:35.511Z"
   },
   {
    "duration": 8,
    "start_time": "2022-08-24T08:17:35.532Z"
   },
   {
    "duration": 6,
    "start_time": "2022-08-24T08:17:35.541Z"
   },
   {
    "duration": 8,
    "start_time": "2022-08-24T08:17:35.548Z"
   },
   {
    "duration": 20,
    "start_time": "2022-08-24T08:17:35.557Z"
   },
   {
    "duration": 13,
    "start_time": "2022-08-24T08:17:35.579Z"
   },
   {
    "duration": 15,
    "start_time": "2022-08-24T08:17:35.594Z"
   },
   {
    "duration": 5,
    "start_time": "2022-08-24T08:17:35.611Z"
   },
   {
    "duration": 24,
    "start_time": "2022-08-24T08:17:35.618Z"
   },
   {
    "duration": 10,
    "start_time": "2022-08-24T08:17:35.644Z"
   },
   {
    "duration": 17,
    "start_time": "2022-08-24T08:17:35.656Z"
   },
   {
    "duration": 13,
    "start_time": "2022-08-24T08:17:35.675Z"
   },
   {
    "duration": 19,
    "start_time": "2022-08-24T08:17:35.690Z"
   },
   {
    "duration": 8,
    "start_time": "2022-08-24T08:17:35.710Z"
   },
   {
    "duration": 13,
    "start_time": "2022-08-24T08:17:35.720Z"
   },
   {
    "duration": 11,
    "start_time": "2022-08-24T08:17:35.735Z"
   },
   {
    "duration": 14,
    "start_time": "2022-08-24T08:17:35.747Z"
   },
   {
    "duration": 27,
    "start_time": "2022-08-24T08:17:35.763Z"
   },
   {
    "duration": 5,
    "start_time": "2022-08-24T08:17:35.792Z"
   },
   {
    "duration": 100,
    "start_time": "2022-08-24T08:17:35.802Z"
   },
   {
    "duration": 0,
    "start_time": "2022-08-24T08:17:35.904Z"
   },
   {
    "duration": 0,
    "start_time": "2022-08-24T08:17:35.905Z"
   },
   {
    "duration": 0,
    "start_time": "2022-08-24T08:17:35.906Z"
   },
   {
    "duration": 0,
    "start_time": "2022-08-24T08:17:35.907Z"
   },
   {
    "duration": 0,
    "start_time": "2022-08-24T08:17:35.909Z"
   },
   {
    "duration": 0,
    "start_time": "2022-08-24T08:17:35.910Z"
   },
   {
    "duration": 0,
    "start_time": "2022-08-24T08:17:35.910Z"
   },
   {
    "duration": 0,
    "start_time": "2022-08-24T08:17:35.911Z"
   },
   {
    "duration": 0,
    "start_time": "2022-08-24T08:17:35.913Z"
   },
   {
    "duration": 0,
    "start_time": "2022-08-24T08:17:35.914Z"
   },
   {
    "duration": 0,
    "start_time": "2022-08-24T08:17:35.915Z"
   },
   {
    "duration": 0,
    "start_time": "2022-08-24T08:17:35.916Z"
   },
   {
    "duration": 0,
    "start_time": "2022-08-24T08:17:35.917Z"
   },
   {
    "duration": 0,
    "start_time": "2022-08-24T08:17:35.919Z"
   },
   {
    "duration": 0,
    "start_time": "2022-08-24T08:17:35.920Z"
   },
   {
    "duration": 0,
    "start_time": "2022-08-24T08:17:35.921Z"
   },
   {
    "duration": 0,
    "start_time": "2022-08-24T08:17:35.922Z"
   },
   {
    "duration": 0,
    "start_time": "2022-08-24T08:17:35.923Z"
   },
   {
    "duration": 0,
    "start_time": "2022-08-24T08:17:35.925Z"
   },
   {
    "duration": 0,
    "start_time": "2022-08-24T08:17:35.926Z"
   },
   {
    "duration": 0,
    "start_time": "2022-08-24T08:17:35.927Z"
   },
   {
    "duration": 0,
    "start_time": "2022-08-24T08:17:35.928Z"
   },
   {
    "duration": 0,
    "start_time": "2022-08-24T08:17:35.929Z"
   },
   {
    "duration": 0,
    "start_time": "2022-08-24T08:17:35.930Z"
   },
   {
    "duration": 0,
    "start_time": "2022-08-24T08:17:35.931Z"
   },
   {
    "duration": 0,
    "start_time": "2022-08-24T08:17:35.932Z"
   },
   {
    "duration": 0,
    "start_time": "2022-08-24T08:17:35.933Z"
   },
   {
    "duration": 0,
    "start_time": "2022-08-24T08:17:35.935Z"
   },
   {
    "duration": 0,
    "start_time": "2022-08-24T08:17:35.937Z"
   },
   {
    "duration": 0,
    "start_time": "2022-08-24T08:17:35.938Z"
   },
   {
    "duration": 0,
    "start_time": "2022-08-24T08:17:35.939Z"
   },
   {
    "duration": 0,
    "start_time": "2022-08-24T08:17:35.940Z"
   },
   {
    "duration": 0,
    "start_time": "2022-08-24T08:17:35.941Z"
   },
   {
    "duration": 0,
    "start_time": "2022-08-24T08:17:36.002Z"
   },
   {
    "duration": 0,
    "start_time": "2022-08-24T08:17:36.004Z"
   },
   {
    "duration": 0,
    "start_time": "2022-08-24T08:17:36.005Z"
   },
   {
    "duration": 0,
    "start_time": "2022-08-24T08:17:36.006Z"
   },
   {
    "duration": 0,
    "start_time": "2022-08-24T08:17:36.007Z"
   },
   {
    "duration": 0,
    "start_time": "2022-08-24T08:17:36.008Z"
   },
   {
    "duration": 0,
    "start_time": "2022-08-24T08:17:36.009Z"
   },
   {
    "duration": 0,
    "start_time": "2022-08-24T08:17:36.011Z"
   },
   {
    "duration": 0,
    "start_time": "2022-08-24T08:17:36.013Z"
   },
   {
    "duration": 0,
    "start_time": "2022-08-24T08:17:36.014Z"
   },
   {
    "duration": 0,
    "start_time": "2022-08-24T08:17:36.015Z"
   },
   {
    "duration": 0,
    "start_time": "2022-08-24T08:17:36.017Z"
   },
   {
    "duration": 0,
    "start_time": "2022-08-24T08:17:36.018Z"
   },
   {
    "duration": 0,
    "start_time": "2022-08-24T08:17:36.020Z"
   },
   {
    "duration": 0,
    "start_time": "2022-08-24T08:17:36.021Z"
   },
   {
    "duration": 0,
    "start_time": "2022-08-24T08:17:36.023Z"
   },
   {
    "duration": 0,
    "start_time": "2022-08-24T08:17:36.024Z"
   },
   {
    "duration": 0,
    "start_time": "2022-08-24T08:17:36.026Z"
   },
   {
    "duration": 0,
    "start_time": "2022-08-24T08:17:36.027Z"
   },
   {
    "duration": 0,
    "start_time": "2022-08-24T08:17:36.029Z"
   },
   {
    "duration": 0,
    "start_time": "2022-08-24T08:17:36.030Z"
   },
   {
    "duration": 0,
    "start_time": "2022-08-24T08:17:36.031Z"
   },
   {
    "duration": 0,
    "start_time": "2022-08-24T08:17:36.032Z"
   },
   {
    "duration": 0,
    "start_time": "2022-08-24T08:17:36.033Z"
   },
   {
    "duration": 0,
    "start_time": "2022-08-24T08:17:36.034Z"
   },
   {
    "duration": 13,
    "start_time": "2022-08-24T08:17:59.929Z"
   },
   {
    "duration": 5,
    "start_time": "2022-08-24T08:18:41.227Z"
   },
   {
    "duration": 12,
    "start_time": "2022-08-24T08:18:42.243Z"
   },
   {
    "duration": 9,
    "start_time": "2022-08-24T08:19:10.879Z"
   },
   {
    "duration": 5,
    "start_time": "2022-08-24T08:19:20.360Z"
   },
   {
    "duration": 13,
    "start_time": "2022-08-24T08:19:29.906Z"
   },
   {
    "duration": 8,
    "start_time": "2022-08-24T08:26:23.643Z"
   },
   {
    "duration": 2,
    "start_time": "2022-08-24T08:26:24.259Z"
   },
   {
    "duration": 2,
    "start_time": "2022-08-24T08:26:24.996Z"
   },
   {
    "duration": 4,
    "start_time": "2022-08-24T08:26:25.908Z"
   },
   {
    "duration": 12,
    "start_time": "2022-08-24T08:26:31.516Z"
   },
   {
    "duration": 8,
    "start_time": "2022-08-24T08:29:23.567Z"
   },
   {
    "duration": 5,
    "start_time": "2022-08-24T08:29:24.415Z"
   },
   {
    "duration": 3,
    "start_time": "2022-08-24T08:29:25.213Z"
   },
   {
    "duration": 9,
    "start_time": "2022-08-24T08:29:25.734Z"
   },
   {
    "duration": 4,
    "start_time": "2022-08-24T08:29:27.686Z"
   },
   {
    "duration": 6,
    "start_time": "2022-08-24T08:29:28.159Z"
   },
   {
    "duration": 6,
    "start_time": "2022-08-24T08:29:53.169Z"
   },
   {
    "duration": 5,
    "start_time": "2022-08-24T08:30:13.596Z"
   },
   {
    "duration": 9,
    "start_time": "2022-08-24T08:30:15.546Z"
   },
   {
    "duration": 9,
    "start_time": "2022-08-24T08:30:55.137Z"
   },
   {
    "duration": 12,
    "start_time": "2022-08-24T08:30:55.678Z"
   },
   {
    "duration": 8,
    "start_time": "2022-08-24T08:31:06.878Z"
   },
   {
    "duration": 6,
    "start_time": "2022-08-24T08:31:07.511Z"
   },
   {
    "duration": 188,
    "start_time": "2022-08-24T08:31:18.010Z"
   },
   {
    "duration": 124,
    "start_time": "2022-08-24T08:31:39.635Z"
   },
   {
    "duration": 7,
    "start_time": "2022-08-24T08:31:40.058Z"
   },
   {
    "duration": 10,
    "start_time": "2022-08-24T08:31:41.055Z"
   },
   {
    "duration": 3,
    "start_time": "2022-08-24T08:31:41.530Z"
   },
   {
    "duration": 8,
    "start_time": "2022-08-24T08:31:43.089Z"
   },
   {
    "duration": 314,
    "start_time": "2022-08-24T08:31:43.689Z"
   },
   {
    "duration": 241,
    "start_time": "2022-08-24T08:31:48.712Z"
   },
   {
    "duration": 365,
    "start_time": "2022-08-24T08:31:52.280Z"
   },
   {
    "duration": 4,
    "start_time": "2022-08-24T08:31:54.873Z"
   },
   {
    "duration": 3,
    "start_time": "2022-08-24T08:31:56.249Z"
   },
   {
    "duration": 4,
    "start_time": "2022-08-24T08:31:57.664Z"
   },
   {
    "duration": 222,
    "start_time": "2022-08-24T08:31:58.763Z"
   },
   {
    "duration": 8,
    "start_time": "2022-08-24T08:32:02.825Z"
   },
   {
    "duration": 8,
    "start_time": "2022-08-24T08:32:03.577Z"
   },
   {
    "duration": 215,
    "start_time": "2022-08-24T08:32:06.977Z"
   },
   {
    "duration": 9,
    "start_time": "2022-08-24T08:32:09.918Z"
   },
   {
    "duration": 13,
    "start_time": "2022-08-24T08:32:10.641Z"
   },
   {
    "duration": 204,
    "start_time": "2022-08-24T08:32:11.290Z"
   },
   {
    "duration": 6,
    "start_time": "2022-08-24T08:32:14.922Z"
   },
   {
    "duration": 10,
    "start_time": "2022-08-24T08:32:37.310Z"
   },
   {
    "duration": 198,
    "start_time": "2022-08-24T08:32:38.460Z"
   },
   {
    "duration": 10,
    "start_time": "2022-08-24T08:34:51.859Z"
   },
   {
    "duration": 203,
    "start_time": "2022-08-24T08:34:54.309Z"
   },
   {
    "duration": 5,
    "start_time": "2022-08-24T08:35:39.537Z"
   },
   {
    "duration": 295,
    "start_time": "2022-08-24T08:35:40.639Z"
   },
   {
    "duration": 5,
    "start_time": "2022-08-24T08:35:43.863Z"
   },
   {
    "duration": 6,
    "start_time": "2022-08-24T08:44:56.947Z"
   },
   {
    "duration": 3,
    "start_time": "2022-08-24T08:45:01.235Z"
   },
   {
    "duration": 2,
    "start_time": "2022-08-24T08:45:01.691Z"
   },
   {
    "duration": 5,
    "start_time": "2022-08-24T08:45:02.275Z"
   },
   {
    "duration": 3,
    "start_time": "2022-08-24T08:45:02.739Z"
   },
   {
    "duration": 2,
    "start_time": "2022-08-24T08:45:03.255Z"
   },
   {
    "duration": 2,
    "start_time": "2022-08-24T08:45:03.743Z"
   },
   {
    "duration": 2,
    "start_time": "2022-08-24T08:45:04.165Z"
   },
   {
    "duration": 2,
    "start_time": "2022-08-24T08:45:04.582Z"
   },
   {
    "duration": 2,
    "start_time": "2022-08-24T08:45:05.172Z"
   },
   {
    "duration": 11,
    "start_time": "2022-08-24T08:45:07.107Z"
   },
   {
    "duration": 84,
    "start_time": "2022-08-24T08:45:09.285Z"
   },
   {
    "duration": 79,
    "start_time": "2022-08-24T08:45:10.349Z"
   },
   {
    "duration": 6,
    "start_time": "2022-08-24T08:45:11.549Z"
   },
   {
    "duration": 6,
    "start_time": "2022-08-24T08:45:12.429Z"
   },
   {
    "duration": 24,
    "start_time": "2022-08-24T08:45:22.357Z"
   },
   {
    "duration": 12,
    "start_time": "2022-08-24T08:46:10.559Z"
   },
   {
    "duration": 9,
    "start_time": "2022-08-24T08:46:35.049Z"
   },
   {
    "duration": 148,
    "start_time": "2022-08-24T08:46:35.953Z"
   },
   {
    "duration": 8,
    "start_time": "2022-08-24T08:46:46.634Z"
   },
   {
    "duration": 5,
    "start_time": "2022-08-24T08:46:53.182Z"
   },
   {
    "duration": 13,
    "start_time": "2022-08-24T08:47:02.423Z"
   },
   {
    "duration": 56,
    "start_time": "2022-08-24T08:48:09.618Z"
   },
   {
    "duration": 58,
    "start_time": "2022-08-24T08:48:24.713Z"
   },
   {
    "duration": 8,
    "start_time": "2022-08-24T08:48:32.202Z"
   },
   {
    "duration": 5,
    "start_time": "2022-08-24T08:49:15.449Z"
   },
   {
    "duration": 851,
    "start_time": "2022-08-24T08:51:07.165Z"
   },
   {
    "duration": 12,
    "start_time": "2022-08-24T08:51:49.624Z"
   },
   {
    "duration": 900,
    "start_time": "2022-08-24T08:52:26.961Z"
   },
   {
    "duration": 15,
    "start_time": "2022-08-24T08:52:42.443Z"
   },
   {
    "duration": 7,
    "start_time": "2022-08-24T08:52:53.203Z"
   },
   {
    "duration": 7,
    "start_time": "2022-08-24T08:53:37.811Z"
   },
   {
    "duration": 22,
    "start_time": "2022-08-24T08:53:40.159Z"
   },
   {
    "duration": 16,
    "start_time": "2022-08-24T08:54:20.689Z"
   },
   {
    "duration": 9,
    "start_time": "2022-08-24T09:17:05.282Z"
   },
   {
    "duration": 9,
    "start_time": "2022-08-24T09:17:06.137Z"
   },
   {
    "duration": 53,
    "start_time": "2022-08-24T09:18:38.986Z"
   },
   {
    "duration": 11,
    "start_time": "2022-08-24T09:19:21.356Z"
   },
   {
    "duration": 11,
    "start_time": "2022-08-24T09:19:48.445Z"
   },
   {
    "duration": 166,
    "start_time": "2022-08-24T09:31:19.905Z"
   },
   {
    "duration": 10,
    "start_time": "2022-08-24T09:31:20.600Z"
   },
   {
    "duration": 6,
    "start_time": "2022-08-24T09:31:23.632Z"
   },
   {
    "duration": 7,
    "start_time": "2022-08-24T09:31:30.024Z"
   },
   {
    "duration": 7,
    "start_time": "2022-08-24T09:31:30.913Z"
   },
   {
    "duration": 22,
    "start_time": "2022-08-24T09:31:31.480Z"
   },
   {
    "duration": 11,
    "start_time": "2022-08-24T09:31:47.106Z"
   },
   {
    "duration": 8,
    "start_time": "2022-08-24T09:31:49.845Z"
   },
   {
    "duration": 5,
    "start_time": "2022-08-24T09:41:34.010Z"
   },
   {
    "duration": 5,
    "start_time": "2022-08-24T09:41:46.841Z"
   },
   {
    "duration": 5,
    "start_time": "2022-08-24T09:41:56.082Z"
   },
   {
    "duration": 6,
    "start_time": "2022-08-24T09:43:57.745Z"
   },
   {
    "duration": 7,
    "start_time": "2022-08-24T09:44:03.921Z"
   },
   {
    "duration": 6,
    "start_time": "2022-08-24T09:44:14.035Z"
   },
   {
    "duration": 6,
    "start_time": "2022-08-24T09:44:22.499Z"
   },
   {
    "duration": 7,
    "start_time": "2022-08-24T09:44:34.851Z"
   },
   {
    "duration": 17,
    "start_time": "2022-08-24T09:44:35.556Z"
   },
   {
    "duration": 125,
    "start_time": "2022-08-24T09:45:13.579Z"
   },
   {
    "duration": 6,
    "start_time": "2022-08-24T09:45:14.375Z"
   },
   {
    "duration": 14,
    "start_time": "2022-08-24T09:45:15.495Z"
   },
   {
    "duration": 16,
    "start_time": "2022-08-24T09:45:37.889Z"
   },
   {
    "duration": 3,
    "start_time": "2022-08-24T09:45:58.465Z"
   },
   {
    "duration": 9,
    "start_time": "2022-08-24T09:46:00.081Z"
   },
   {
    "duration": 5,
    "start_time": "2022-08-24T09:46:10.707Z"
   },
   {
    "duration": 8,
    "start_time": "2022-08-24T09:46:11.658Z"
   },
   {
    "duration": 6,
    "start_time": "2022-08-24T09:46:15.322Z"
   },
   {
    "duration": 6,
    "start_time": "2022-08-24T09:46:23.203Z"
   },
   {
    "duration": 7,
    "start_time": "2022-08-24T09:46:24.683Z"
   },
   {
    "duration": 22,
    "start_time": "2022-08-24T09:46:26.604Z"
   },
   {
    "duration": 10,
    "start_time": "2022-08-24T09:46:45.428Z"
   },
   {
    "duration": 11,
    "start_time": "2022-08-24T09:46:48.180Z"
   },
   {
    "duration": 1204,
    "start_time": "2022-08-24T09:49:12.507Z"
   },
   {
    "duration": 27,
    "start_time": "2022-08-24T09:49:13.714Z"
   },
   {
    "duration": 13,
    "start_time": "2022-08-24T09:49:13.743Z"
   },
   {
    "duration": 5,
    "start_time": "2022-08-24T09:49:13.758Z"
   },
   {
    "duration": 45,
    "start_time": "2022-08-24T09:49:13.765Z"
   },
   {
    "duration": 8,
    "start_time": "2022-08-24T09:49:13.812Z"
   },
   {
    "duration": 15,
    "start_time": "2022-08-24T09:49:13.821Z"
   },
   {
    "duration": 15,
    "start_time": "2022-08-24T09:49:13.838Z"
   },
   {
    "duration": 57,
    "start_time": "2022-08-24T09:49:13.854Z"
   },
   {
    "duration": 13,
    "start_time": "2022-08-24T09:49:13.914Z"
   },
   {
    "duration": 6,
    "start_time": "2022-08-24T09:49:13.928Z"
   },
   {
    "duration": 7,
    "start_time": "2022-08-24T09:49:13.936Z"
   },
   {
    "duration": 6,
    "start_time": "2022-08-24T09:49:13.945Z"
   },
   {
    "duration": 5,
    "start_time": "2022-08-24T09:49:14.003Z"
   },
   {
    "duration": 7,
    "start_time": "2022-08-24T09:49:14.010Z"
   },
   {
    "duration": 3,
    "start_time": "2022-08-24T09:49:14.019Z"
   },
   {
    "duration": 32,
    "start_time": "2022-08-24T09:49:14.023Z"
   },
   {
    "duration": 6,
    "start_time": "2022-08-24T09:49:14.057Z"
   },
   {
    "duration": 11,
    "start_time": "2022-08-24T09:49:14.065Z"
   },
   {
    "duration": 26,
    "start_time": "2022-08-24T09:49:14.077Z"
   },
   {
    "duration": 9,
    "start_time": "2022-08-24T09:49:14.105Z"
   },
   {
    "duration": 9,
    "start_time": "2022-08-24T09:49:14.115Z"
   },
   {
    "duration": 6,
    "start_time": "2022-08-24T09:49:14.125Z"
   },
   {
    "duration": 10,
    "start_time": "2022-08-24T09:49:14.132Z"
   },
   {
    "duration": 10,
    "start_time": "2022-08-24T09:49:14.143Z"
   },
   {
    "duration": 54,
    "start_time": "2022-08-24T09:49:14.155Z"
   },
   {
    "duration": 2,
    "start_time": "2022-08-24T09:49:14.211Z"
   },
   {
    "duration": 6,
    "start_time": "2022-08-24T09:49:14.218Z"
   },
   {
    "duration": 15,
    "start_time": "2022-08-24T09:49:14.225Z"
   },
   {
    "duration": 62,
    "start_time": "2022-08-24T09:49:14.242Z"
   },
   {
    "duration": 8,
    "start_time": "2022-08-24T09:49:14.306Z"
   },
   {
    "duration": 12,
    "start_time": "2022-08-24T09:49:14.316Z"
   },
   {
    "duration": 6,
    "start_time": "2022-08-24T09:49:14.330Z"
   },
   {
    "duration": 13,
    "start_time": "2022-08-24T09:49:14.337Z"
   },
   {
    "duration": 56,
    "start_time": "2022-08-24T09:49:14.351Z"
   },
   {
    "duration": 21,
    "start_time": "2022-08-24T09:49:14.409Z"
   },
   {
    "duration": 15,
    "start_time": "2022-08-24T09:49:14.431Z"
   },
   {
    "duration": 23,
    "start_time": "2022-08-24T09:49:14.447Z"
   },
   {
    "duration": 12,
    "start_time": "2022-08-24T09:49:14.472Z"
   },
   {
    "duration": 32,
    "start_time": "2022-08-24T09:49:14.486Z"
   },
   {
    "duration": 196,
    "start_time": "2022-08-24T09:49:14.520Z"
   },
   {
    "duration": 145,
    "start_time": "2022-08-24T09:49:14.717Z"
   },
   {
    "duration": 7,
    "start_time": "2022-08-24T09:49:14.864Z"
   },
   {
    "duration": 12,
    "start_time": "2022-08-24T09:49:14.873Z"
   },
   {
    "duration": 20,
    "start_time": "2022-08-24T09:49:14.887Z"
   },
   {
    "duration": 10,
    "start_time": "2022-08-24T09:49:14.909Z"
   },
   {
    "duration": 313,
    "start_time": "2022-08-24T09:49:14.921Z"
   },
   {
    "duration": 238,
    "start_time": "2022-08-24T09:49:15.236Z"
   },
   {
    "duration": 370,
    "start_time": "2022-08-24T09:49:15.475Z"
   },
   {
    "duration": 4,
    "start_time": "2022-08-24T09:49:15.848Z"
   },
   {
    "duration": 9,
    "start_time": "2022-08-24T09:49:15.854Z"
   },
   {
    "duration": 6,
    "start_time": "2022-08-24T09:49:15.865Z"
   },
   {
    "duration": 355,
    "start_time": "2022-08-24T09:49:15.872Z"
   },
   {
    "duration": 8,
    "start_time": "2022-08-24T09:49:16.229Z"
   },
   {
    "duration": 70,
    "start_time": "2022-08-24T09:49:16.239Z"
   },
   {
    "duration": 516,
    "start_time": "2022-08-24T09:49:16.310Z"
   },
   {
    "duration": 8,
    "start_time": "2022-08-24T09:49:16.828Z"
   },
   {
    "duration": 69,
    "start_time": "2022-08-24T09:49:16.838Z"
   },
   {
    "duration": 341,
    "start_time": "2022-08-24T09:49:16.908Z"
   },
   {
    "duration": 5,
    "start_time": "2022-08-24T09:49:17.304Z"
   },
   {
    "duration": 14,
    "start_time": "2022-08-24T09:49:17.311Z"
   },
   {
    "duration": 420,
    "start_time": "2022-08-24T09:49:17.327Z"
   },
   {
    "duration": 6,
    "start_time": "2022-08-24T09:49:17.803Z"
   },
   {
    "duration": 309,
    "start_time": "2022-08-24T09:49:17.810Z"
   },
   {
    "duration": 5,
    "start_time": "2022-08-24T09:49:18.121Z"
   },
   {
    "duration": 12,
    "start_time": "2022-08-24T09:49:18.128Z"
   },
   {
    "duration": 6,
    "start_time": "2022-08-24T09:49:18.143Z"
   },
   {
    "duration": 6,
    "start_time": "2022-08-24T09:49:18.151Z"
   },
   {
    "duration": 27,
    "start_time": "2022-08-24T09:49:18.158Z"
   },
   {
    "duration": 18,
    "start_time": "2022-08-24T09:49:18.187Z"
   },
   {
    "duration": 13,
    "start_time": "2022-08-24T09:49:18.207Z"
   },
   {
    "duration": 12,
    "start_time": "2022-08-24T09:49:18.221Z"
   },
   {
    "duration": 9,
    "start_time": "2022-08-24T09:49:18.235Z"
   },
   {
    "duration": 17,
    "start_time": "2022-08-24T09:49:18.245Z"
   },
   {
    "duration": 88,
    "start_time": "2022-08-24T09:49:18.264Z"
   },
   {
    "duration": 190,
    "start_time": "2022-08-24T09:49:18.353Z"
   },
   {
    "duration": 5,
    "start_time": "2022-08-24T09:49:18.545Z"
   },
   {
    "duration": 15,
    "start_time": "2022-08-24T09:49:18.552Z"
   },
   {
    "duration": 28,
    "start_time": "2022-08-24T09:49:18.568Z"
   },
   {
    "duration": 16,
    "start_time": "2022-08-24T09:49:18.597Z"
   },
   {
    "duration": 14,
    "start_time": "2022-08-24T09:49:18.615Z"
   },
   {
    "duration": 150,
    "start_time": "2022-08-24T09:49:18.635Z"
   },
   {
    "duration": 4,
    "start_time": "2022-08-24T09:49:18.786Z"
   },
   {
    "duration": 9,
    "start_time": "2022-08-24T09:49:18.803Z"
   },
   {
    "duration": 21,
    "start_time": "2022-08-24T09:49:18.814Z"
   },
   {
    "duration": 9,
    "start_time": "2022-08-24T09:49:18.837Z"
   },
   {
    "duration": 8,
    "start_time": "2022-08-24T09:49:18.848Z"
   },
   {
    "duration": 43,
    "start_time": "2022-08-24T09:49:18.857Z"
   },
   {
    "duration": 13,
    "start_time": "2022-08-24T09:49:18.903Z"
   },
   {
    "duration": 12,
    "start_time": "2022-08-24T09:49:18.918Z"
   },
   {
    "duration": 1146,
    "start_time": "2022-08-24T09:56:15.161Z"
   },
   {
    "duration": 28,
    "start_time": "2022-08-24T09:56:16.309Z"
   },
   {
    "duration": 13,
    "start_time": "2022-08-24T09:56:16.339Z"
   },
   {
    "duration": 4,
    "start_time": "2022-08-24T09:56:16.355Z"
   },
   {
    "duration": 60,
    "start_time": "2022-08-24T09:56:16.360Z"
   },
   {
    "duration": 11,
    "start_time": "2022-08-24T09:56:16.429Z"
   },
   {
    "duration": 33,
    "start_time": "2022-08-24T09:56:16.442Z"
   },
   {
    "duration": 53,
    "start_time": "2022-08-24T09:56:16.480Z"
   },
   {
    "duration": 39,
    "start_time": "2022-08-24T09:56:16.534Z"
   },
   {
    "duration": 22,
    "start_time": "2022-08-24T09:56:16.576Z"
   },
   {
    "duration": 23,
    "start_time": "2022-08-24T09:56:16.600Z"
   },
   {
    "duration": 23,
    "start_time": "2022-08-24T09:56:16.624Z"
   },
   {
    "duration": 25,
    "start_time": "2022-08-24T09:56:16.648Z"
   },
   {
    "duration": 26,
    "start_time": "2022-08-24T09:56:16.674Z"
   },
   {
    "duration": 17,
    "start_time": "2022-08-24T09:56:16.701Z"
   },
   {
    "duration": 22,
    "start_time": "2022-08-24T09:56:16.720Z"
   },
   {
    "duration": 52,
    "start_time": "2022-08-24T09:56:16.744Z"
   },
   {
    "duration": 18,
    "start_time": "2022-08-24T09:56:16.797Z"
   },
   {
    "duration": 39,
    "start_time": "2022-08-24T09:56:16.816Z"
   },
   {
    "duration": 21,
    "start_time": "2022-08-24T09:56:16.857Z"
   },
   {
    "duration": 45,
    "start_time": "2022-08-24T09:56:16.881Z"
   },
   {
    "duration": 19,
    "start_time": "2022-08-24T09:56:16.928Z"
   },
   {
    "duration": 39,
    "start_time": "2022-08-24T09:56:16.950Z"
   },
   {
    "duration": 29,
    "start_time": "2022-08-24T09:56:16.991Z"
   },
   {
    "duration": 39,
    "start_time": "2022-08-24T09:56:17.022Z"
   },
   {
    "duration": 16,
    "start_time": "2022-08-24T09:56:17.063Z"
   },
   {
    "duration": 25,
    "start_time": "2022-08-24T09:56:17.080Z"
   },
   {
    "duration": 20,
    "start_time": "2022-08-24T09:56:17.110Z"
   },
   {
    "duration": 24,
    "start_time": "2022-08-24T09:56:17.132Z"
   },
   {
    "duration": 31,
    "start_time": "2022-08-24T09:56:17.158Z"
   },
   {
    "duration": 22,
    "start_time": "2022-08-24T09:56:17.191Z"
   },
   {
    "duration": 20,
    "start_time": "2022-08-24T09:56:17.214Z"
   },
   {
    "duration": 15,
    "start_time": "2022-08-24T09:56:17.236Z"
   },
   {
    "duration": 17,
    "start_time": "2022-08-24T09:56:17.253Z"
   },
   {
    "duration": 26,
    "start_time": "2022-08-24T09:56:17.272Z"
   },
   {
    "duration": 14,
    "start_time": "2022-08-24T09:56:17.300Z"
   },
   {
    "duration": 29,
    "start_time": "2022-08-24T09:56:17.316Z"
   },
   {
    "duration": 26,
    "start_time": "2022-08-24T09:56:17.347Z"
   },
   {
    "duration": 17,
    "start_time": "2022-08-24T09:56:17.375Z"
   },
   {
    "duration": 14,
    "start_time": "2022-08-24T09:56:17.394Z"
   },
   {
    "duration": 224,
    "start_time": "2022-08-24T09:56:17.410Z"
   },
   {
    "duration": 141,
    "start_time": "2022-08-24T09:56:17.636Z"
   },
   {
    "duration": 22,
    "start_time": "2022-08-24T09:56:17.779Z"
   },
   {
    "duration": 34,
    "start_time": "2022-08-24T09:56:17.803Z"
   },
   {
    "duration": 28,
    "start_time": "2022-08-24T09:56:17.839Z"
   },
   {
    "duration": 36,
    "start_time": "2022-08-24T09:56:17.869Z"
   },
   {
    "duration": 364,
    "start_time": "2022-08-24T09:56:17.906Z"
   },
   {
    "duration": 288,
    "start_time": "2022-08-24T09:56:18.272Z"
   },
   {
    "duration": 432,
    "start_time": "2022-08-24T09:56:18.562Z"
   },
   {
    "duration": 9,
    "start_time": "2022-08-24T09:56:18.996Z"
   },
   {
    "duration": 19,
    "start_time": "2022-08-24T09:56:19.008Z"
   },
   {
    "duration": 15,
    "start_time": "2022-08-24T09:56:19.030Z"
   },
   {
    "duration": 391,
    "start_time": "2022-08-24T09:56:19.047Z"
   },
   {
    "duration": 9,
    "start_time": "2022-08-24T09:56:19.439Z"
   },
   {
    "duration": 9,
    "start_time": "2022-08-24T09:56:19.503Z"
   },
   {
    "duration": 490,
    "start_time": "2022-08-24T09:56:19.513Z"
   },
   {
    "duration": 9,
    "start_time": "2022-08-24T09:56:20.005Z"
   },
   {
    "duration": 33,
    "start_time": "2022-08-24T09:56:20.015Z"
   },
   {
    "duration": 391,
    "start_time": "2022-08-24T09:56:20.050Z"
   },
   {
    "duration": 6,
    "start_time": "2022-08-24T09:56:20.442Z"
   },
   {
    "duration": 72,
    "start_time": "2022-08-24T09:56:20.449Z"
   },
   {
    "duration": 410,
    "start_time": "2022-08-24T09:56:20.523Z"
   },
   {
    "duration": 6,
    "start_time": "2022-08-24T09:56:20.934Z"
   },
   {
    "duration": 478,
    "start_time": "2022-08-24T09:56:20.941Z"
   },
   {
    "duration": 6,
    "start_time": "2022-08-24T09:56:21.420Z"
   },
   {
    "duration": 16,
    "start_time": "2022-08-24T09:56:21.428Z"
   },
   {
    "duration": 10,
    "start_time": "2022-08-24T09:56:21.445Z"
   },
   {
    "duration": 7,
    "start_time": "2022-08-24T09:56:21.457Z"
   },
   {
    "duration": 11,
    "start_time": "2022-08-24T09:56:21.465Z"
   },
   {
    "duration": 6,
    "start_time": "2022-08-24T09:56:21.478Z"
   },
   {
    "duration": 9,
    "start_time": "2022-08-24T09:56:21.486Z"
   },
   {
    "duration": 9,
    "start_time": "2022-08-24T09:56:21.497Z"
   },
   {
    "duration": 13,
    "start_time": "2022-08-24T09:56:21.508Z"
   },
   {
    "duration": 11,
    "start_time": "2022-08-24T09:56:21.523Z"
   },
   {
    "duration": 97,
    "start_time": "2022-08-24T09:56:21.536Z"
   },
   {
    "duration": 86,
    "start_time": "2022-08-24T09:56:21.635Z"
   },
   {
    "duration": 88,
    "start_time": "2022-08-24T09:56:21.723Z"
   },
   {
    "duration": 18,
    "start_time": "2022-08-24T09:56:21.812Z"
   },
   {
    "duration": 28,
    "start_time": "2022-08-24T09:56:21.832Z"
   },
   {
    "duration": 11,
    "start_time": "2022-08-24T09:56:21.862Z"
   },
   {
    "duration": 30,
    "start_time": "2022-08-24T09:56:21.874Z"
   },
   {
    "duration": 134,
    "start_time": "2022-08-24T09:56:21.911Z"
   },
   {
    "duration": 4,
    "start_time": "2022-08-24T09:56:22.047Z"
   },
   {
    "duration": 21,
    "start_time": "2022-08-24T09:56:22.053Z"
   },
   {
    "duration": 9,
    "start_time": "2022-08-24T09:56:22.076Z"
   },
   {
    "duration": 31,
    "start_time": "2022-08-24T09:56:22.087Z"
   },
   {
    "duration": 18,
    "start_time": "2022-08-24T09:56:22.120Z"
   },
   {
    "duration": 32,
    "start_time": "2022-08-24T09:56:22.140Z"
   },
   {
    "duration": 10,
    "start_time": "2022-08-24T09:56:22.174Z"
   },
   {
    "duration": 8,
    "start_time": "2022-08-24T09:56:22.185Z"
   },
   {
    "duration": 1101,
    "start_time": "2022-08-24T13:34:15.657Z"
   },
   {
    "duration": 29,
    "start_time": "2022-08-24T13:34:16.760Z"
   },
   {
    "duration": 11,
    "start_time": "2022-08-24T13:34:16.791Z"
   },
   {
    "duration": 4,
    "start_time": "2022-08-24T13:34:16.804Z"
   },
   {
    "duration": 41,
    "start_time": "2022-08-24T13:34:16.810Z"
   },
   {
    "duration": 8,
    "start_time": "2022-08-24T13:34:16.853Z"
   },
   {
    "duration": 16,
    "start_time": "2022-08-24T13:34:16.863Z"
   },
   {
    "duration": 14,
    "start_time": "2022-08-24T13:34:16.881Z"
   },
   {
    "duration": 14,
    "start_time": "2022-08-24T13:34:16.897Z"
   },
   {
    "duration": 7,
    "start_time": "2022-08-24T13:34:16.915Z"
   },
   {
    "duration": 6,
    "start_time": "2022-08-24T13:34:16.924Z"
   },
   {
    "duration": 9,
    "start_time": "2022-08-24T13:34:16.932Z"
   },
   {
    "duration": 6,
    "start_time": "2022-08-24T13:34:16.943Z"
   },
   {
    "duration": 6,
    "start_time": "2022-08-24T13:34:16.950Z"
   },
   {
    "duration": 8,
    "start_time": "2022-08-24T13:34:16.958Z"
   },
   {
    "duration": 35,
    "start_time": "2022-08-24T13:34:16.968Z"
   },
   {
    "duration": 22,
    "start_time": "2022-08-24T13:34:17.005Z"
   },
   {
    "duration": 8,
    "start_time": "2022-08-24T13:34:17.029Z"
   },
   {
    "duration": 15,
    "start_time": "2022-08-24T13:34:17.039Z"
   },
   {
    "duration": 10,
    "start_time": "2022-08-24T13:34:17.055Z"
   },
   {
    "duration": 13,
    "start_time": "2022-08-24T13:34:17.066Z"
   },
   {
    "duration": 7,
    "start_time": "2022-08-24T13:34:17.080Z"
   },
   {
    "duration": 16,
    "start_time": "2022-08-24T13:34:17.088Z"
   },
   {
    "duration": 6,
    "start_time": "2022-08-24T13:34:17.106Z"
   },
   {
    "duration": 7,
    "start_time": "2022-08-24T13:34:17.114Z"
   },
   {
    "duration": 112,
    "start_time": "2022-08-24T13:34:17.122Z"
   },
   {
    "duration": 0,
    "start_time": "2022-08-24T13:34:17.238Z"
   },
   {
    "duration": 0,
    "start_time": "2022-08-24T13:34:17.240Z"
   },
   {
    "duration": 0,
    "start_time": "2022-08-24T13:34:17.241Z"
   },
   {
    "duration": 0,
    "start_time": "2022-08-24T13:34:17.243Z"
   },
   {
    "duration": 0,
    "start_time": "2022-08-24T13:34:17.244Z"
   },
   {
    "duration": 0,
    "start_time": "2022-08-24T13:34:17.245Z"
   },
   {
    "duration": 0,
    "start_time": "2022-08-24T13:34:17.247Z"
   },
   {
    "duration": 0,
    "start_time": "2022-08-24T13:34:17.248Z"
   },
   {
    "duration": 0,
    "start_time": "2022-08-24T13:34:17.249Z"
   },
   {
    "duration": 0,
    "start_time": "2022-08-24T13:34:17.250Z"
   },
   {
    "duration": 0,
    "start_time": "2022-08-24T13:34:17.251Z"
   },
   {
    "duration": 0,
    "start_time": "2022-08-24T13:34:17.252Z"
   },
   {
    "duration": 0,
    "start_time": "2022-08-24T13:34:17.253Z"
   },
   {
    "duration": 0,
    "start_time": "2022-08-24T13:34:17.254Z"
   },
   {
    "duration": 0,
    "start_time": "2022-08-24T13:34:17.255Z"
   },
   {
    "duration": 0,
    "start_time": "2022-08-24T13:34:17.256Z"
   },
   {
    "duration": 0,
    "start_time": "2022-08-24T13:34:17.257Z"
   },
   {
    "duration": 0,
    "start_time": "2022-08-24T13:34:17.258Z"
   },
   {
    "duration": 0,
    "start_time": "2022-08-24T13:34:17.259Z"
   },
   {
    "duration": 0,
    "start_time": "2022-08-24T13:34:17.261Z"
   },
   {
    "duration": 0,
    "start_time": "2022-08-24T13:34:17.262Z"
   },
   {
    "duration": 0,
    "start_time": "2022-08-24T13:34:17.264Z"
   },
   {
    "duration": 0,
    "start_time": "2022-08-24T13:34:17.304Z"
   },
   {
    "duration": 0,
    "start_time": "2022-08-24T13:34:17.305Z"
   },
   {
    "duration": 0,
    "start_time": "2022-08-24T13:34:17.306Z"
   },
   {
    "duration": 0,
    "start_time": "2022-08-24T13:34:17.308Z"
   },
   {
    "duration": 0,
    "start_time": "2022-08-24T13:34:17.309Z"
   },
   {
    "duration": 0,
    "start_time": "2022-08-24T13:34:17.310Z"
   },
   {
    "duration": 0,
    "start_time": "2022-08-24T13:34:17.311Z"
   },
   {
    "duration": 0,
    "start_time": "2022-08-24T13:34:17.312Z"
   },
   {
    "duration": 0,
    "start_time": "2022-08-24T13:34:17.313Z"
   },
   {
    "duration": 0,
    "start_time": "2022-08-24T13:34:17.314Z"
   },
   {
    "duration": 0,
    "start_time": "2022-08-24T13:34:17.316Z"
   },
   {
    "duration": 0,
    "start_time": "2022-08-24T13:34:17.317Z"
   },
   {
    "duration": 0,
    "start_time": "2022-08-24T13:34:17.318Z"
   },
   {
    "duration": 0,
    "start_time": "2022-08-24T13:34:17.319Z"
   },
   {
    "duration": 0,
    "start_time": "2022-08-24T13:34:17.320Z"
   },
   {
    "duration": 0,
    "start_time": "2022-08-24T13:34:17.321Z"
   },
   {
    "duration": 0,
    "start_time": "2022-08-24T13:34:17.322Z"
   },
   {
    "duration": 0,
    "start_time": "2022-08-24T13:34:17.323Z"
   },
   {
    "duration": 0,
    "start_time": "2022-08-24T13:34:17.324Z"
   },
   {
    "duration": 0,
    "start_time": "2022-08-24T13:34:17.325Z"
   },
   {
    "duration": 0,
    "start_time": "2022-08-24T13:34:17.326Z"
   },
   {
    "duration": 0,
    "start_time": "2022-08-24T13:34:17.327Z"
   },
   {
    "duration": 0,
    "start_time": "2022-08-24T13:34:17.328Z"
   },
   {
    "duration": 0,
    "start_time": "2022-08-24T13:34:17.329Z"
   },
   {
    "duration": 0,
    "start_time": "2022-08-24T13:34:17.330Z"
   },
   {
    "duration": 0,
    "start_time": "2022-08-24T13:34:17.332Z"
   },
   {
    "duration": 0,
    "start_time": "2022-08-24T13:34:17.333Z"
   },
   {
    "duration": 0,
    "start_time": "2022-08-24T13:34:17.334Z"
   },
   {
    "duration": 0,
    "start_time": "2022-08-24T13:34:17.335Z"
   },
   {
    "duration": 0,
    "start_time": "2022-08-24T13:34:17.336Z"
   },
   {
    "duration": 0,
    "start_time": "2022-08-24T13:34:17.337Z"
   },
   {
    "duration": 0,
    "start_time": "2022-08-24T13:34:17.338Z"
   },
   {
    "duration": 0,
    "start_time": "2022-08-24T13:34:17.340Z"
   },
   {
    "duration": 0,
    "start_time": "2022-08-24T13:34:17.403Z"
   },
   {
    "duration": 0,
    "start_time": "2022-08-24T13:34:17.405Z"
   },
   {
    "duration": 0,
    "start_time": "2022-08-24T13:34:17.406Z"
   },
   {
    "duration": 0,
    "start_time": "2022-08-24T13:34:17.407Z"
   },
   {
    "duration": 0,
    "start_time": "2022-08-24T13:34:17.408Z"
   },
   {
    "duration": 0,
    "start_time": "2022-08-24T13:34:17.410Z"
   },
   {
    "duration": 0,
    "start_time": "2022-08-24T13:34:17.411Z"
   },
   {
    "duration": 0,
    "start_time": "2022-08-24T13:34:17.412Z"
   },
   {
    "duration": 0,
    "start_time": "2022-08-24T13:34:17.414Z"
   },
   {
    "duration": 0,
    "start_time": "2022-08-24T13:34:17.414Z"
   },
   {
    "duration": 11,
    "start_time": "2022-08-24T13:34:31.486Z"
   },
   {
    "duration": 13,
    "start_time": "2022-08-24T13:34:34.179Z"
   },
   {
    "duration": 14,
    "start_time": "2022-08-24T13:34:39.725Z"
   },
   {
    "duration": 959,
    "start_time": "2022-08-24T13:34:52.974Z"
   },
   {
    "duration": 1101,
    "start_time": "2022-08-24T13:35:13.890Z"
   },
   {
    "duration": 1187,
    "start_time": "2022-08-24T13:35:22.974Z"
   },
   {
    "duration": 8,
    "start_time": "2022-08-24T13:35:25.882Z"
   },
   {
    "duration": 8,
    "start_time": "2022-08-24T13:35:39.900Z"
   },
   {
    "duration": 12,
    "start_time": "2022-08-24T13:36:18.234Z"
   },
   {
    "duration": 8,
    "start_time": "2022-08-24T13:36:23.355Z"
   },
   {
    "duration": 12,
    "start_time": "2022-08-24T13:36:26.664Z"
   },
   {
    "duration": 15,
    "start_time": "2022-08-24T13:36:32.523Z"
   },
   {
    "duration": 8,
    "start_time": "2022-08-24T13:40:31.440Z"
   },
   {
    "duration": 15,
    "start_time": "2022-08-24T13:40:41.813Z"
   },
   {
    "duration": 11,
    "start_time": "2022-08-24T13:40:48.926Z"
   },
   {
    "duration": 13,
    "start_time": "2022-08-24T13:44:55.673Z"
   },
   {
    "duration": 1197,
    "start_time": "2022-08-24T13:46:14.069Z"
   },
   {
    "duration": 29,
    "start_time": "2022-08-24T13:46:15.268Z"
   },
   {
    "duration": 12,
    "start_time": "2022-08-24T13:46:15.299Z"
   },
   {
    "duration": 4,
    "start_time": "2022-08-24T13:46:15.313Z"
   },
   {
    "duration": 42,
    "start_time": "2022-08-24T13:46:15.318Z"
   },
   {
    "duration": 7,
    "start_time": "2022-08-24T13:46:15.362Z"
   },
   {
    "duration": 14,
    "start_time": "2022-08-24T13:46:15.371Z"
   },
   {
    "duration": 16,
    "start_time": "2022-08-24T13:46:15.387Z"
   },
   {
    "duration": 19,
    "start_time": "2022-08-24T13:46:15.404Z"
   },
   {
    "duration": 6,
    "start_time": "2022-08-24T13:46:15.426Z"
   },
   {
    "duration": 13,
    "start_time": "2022-08-24T13:46:15.434Z"
   },
   {
    "duration": 13,
    "start_time": "2022-08-24T13:46:15.448Z"
   },
   {
    "duration": 15,
    "start_time": "2022-08-24T13:46:15.463Z"
   },
   {
    "duration": 19,
    "start_time": "2022-08-24T13:46:15.480Z"
   },
   {
    "duration": 11,
    "start_time": "2022-08-24T13:46:15.501Z"
   },
   {
    "duration": 5,
    "start_time": "2022-08-24T13:46:15.514Z"
   },
   {
    "duration": 20,
    "start_time": "2022-08-24T13:46:15.521Z"
   },
   {
    "duration": 8,
    "start_time": "2022-08-24T13:46:15.543Z"
   },
   {
    "duration": 11,
    "start_time": "2022-08-24T13:46:15.553Z"
   },
   {
    "duration": 6,
    "start_time": "2022-08-24T13:46:15.566Z"
   },
   {
    "duration": 9,
    "start_time": "2022-08-24T13:46:15.574Z"
   },
   {
    "duration": 18,
    "start_time": "2022-08-24T13:46:15.585Z"
   },
   {
    "duration": 5,
    "start_time": "2022-08-24T13:46:15.605Z"
   },
   {
    "duration": 19,
    "start_time": "2022-08-24T13:46:15.611Z"
   },
   {
    "duration": 12,
    "start_time": "2022-08-24T13:46:15.631Z"
   },
   {
    "duration": 21,
    "start_time": "2022-08-24T13:46:15.644Z"
   },
   {
    "duration": 17,
    "start_time": "2022-08-24T13:46:15.668Z"
   },
   {
    "duration": 3,
    "start_time": "2022-08-24T13:46:15.691Z"
   },
   {
    "duration": 13,
    "start_time": "2022-08-24T13:46:15.696Z"
   },
   {
    "duration": 6,
    "start_time": "2022-08-24T13:46:15.711Z"
   },
   {
    "duration": 5,
    "start_time": "2022-08-24T13:46:15.719Z"
   },
   {
    "duration": 11,
    "start_time": "2022-08-24T13:46:15.726Z"
   },
   {
    "duration": 11,
    "start_time": "2022-08-24T13:46:15.739Z"
   },
   {
    "duration": 7,
    "start_time": "2022-08-24T13:46:15.752Z"
   },
   {
    "duration": 12,
    "start_time": "2022-08-24T13:46:15.761Z"
   },
   {
    "duration": 36,
    "start_time": "2022-08-24T13:46:15.775Z"
   },
   {
    "duration": 10,
    "start_time": "2022-08-24T13:46:15.812Z"
   },
   {
    "duration": 10,
    "start_time": "2022-08-24T13:46:15.824Z"
   },
   {
    "duration": 206,
    "start_time": "2022-08-24T13:46:15.836Z"
   },
   {
    "duration": 136,
    "start_time": "2022-08-24T13:46:16.044Z"
   },
   {
    "duration": 7,
    "start_time": "2022-08-24T13:46:16.182Z"
   },
   {
    "duration": 20,
    "start_time": "2022-08-24T13:46:16.191Z"
   },
   {
    "duration": 8,
    "start_time": "2022-08-24T13:46:16.212Z"
   },
   {
    "duration": 13,
    "start_time": "2022-08-24T13:46:16.221Z"
   },
   {
    "duration": 329,
    "start_time": "2022-08-24T13:46:16.236Z"
   },
   {
    "duration": 238,
    "start_time": "2022-08-24T13:46:16.567Z"
   },
   {
    "duration": 346,
    "start_time": "2022-08-24T13:46:16.807Z"
   },
   {
    "duration": 3,
    "start_time": "2022-08-24T13:46:17.155Z"
   },
   {
    "duration": 7,
    "start_time": "2022-08-24T13:46:17.160Z"
   },
   {
    "duration": 7,
    "start_time": "2022-08-24T13:46:17.168Z"
   },
   {
    "duration": 217,
    "start_time": "2022-08-24T13:46:17.176Z"
   },
   {
    "duration": 11,
    "start_time": "2022-08-24T13:46:17.395Z"
   },
   {
    "duration": 16,
    "start_time": "2022-08-24T13:46:17.408Z"
   },
   {
    "duration": 246,
    "start_time": "2022-08-24T13:46:17.425Z"
   },
   {
    "duration": 9,
    "start_time": "2022-08-24T13:46:17.673Z"
   },
   {
    "duration": 26,
    "start_time": "2022-08-24T13:46:17.683Z"
   },
   {
    "duration": 194,
    "start_time": "2022-08-24T13:46:17.711Z"
   },
   {
    "duration": 5,
    "start_time": "2022-08-24T13:46:17.907Z"
   },
   {
    "duration": 11,
    "start_time": "2022-08-24T13:46:17.914Z"
   },
   {
    "duration": 214,
    "start_time": "2022-08-24T13:46:17.927Z"
   },
   {
    "duration": 6,
    "start_time": "2022-08-24T13:46:18.143Z"
   },
   {
    "duration": 222,
    "start_time": "2022-08-24T13:46:18.151Z"
   },
   {
    "duration": 5,
    "start_time": "2022-08-24T13:46:18.375Z"
   },
   {
    "duration": 5,
    "start_time": "2022-08-24T13:46:18.381Z"
   },
   {
    "duration": 14,
    "start_time": "2022-08-24T13:46:18.389Z"
   },
   {
    "duration": 4,
    "start_time": "2022-08-24T13:46:18.404Z"
   },
   {
    "duration": 7,
    "start_time": "2022-08-24T13:46:18.410Z"
   },
   {
    "duration": 6,
    "start_time": "2022-08-24T13:46:18.419Z"
   },
   {
    "duration": 4,
    "start_time": "2022-08-24T13:46:18.427Z"
   },
   {
    "duration": 7,
    "start_time": "2022-08-24T13:46:18.433Z"
   },
   {
    "duration": 5,
    "start_time": "2022-08-24T13:46:18.441Z"
   },
   {
    "duration": 5,
    "start_time": "2022-08-24T13:46:18.447Z"
   },
   {
    "duration": 91,
    "start_time": "2022-08-24T13:46:18.454Z"
   },
   {
    "duration": 96,
    "start_time": "2022-08-24T13:46:18.546Z"
   },
   {
    "duration": 89,
    "start_time": "2022-08-24T13:46:18.643Z"
   },
   {
    "duration": 11,
    "start_time": "2022-08-24T13:46:18.734Z"
   },
   {
    "duration": 36,
    "start_time": "2022-08-24T13:46:18.747Z"
   },
   {
    "duration": 22,
    "start_time": "2022-08-24T13:46:18.785Z"
   },
   {
    "duration": 9,
    "start_time": "2022-08-24T13:46:18.810Z"
   },
   {
    "duration": 220,
    "start_time": "2022-08-24T13:46:18.821Z"
   },
   {
    "duration": 5,
    "start_time": "2022-08-24T13:46:19.043Z"
   },
   {
    "duration": 16,
    "start_time": "2022-08-24T13:46:19.055Z"
   },
   {
    "duration": 13,
    "start_time": "2022-08-24T13:46:19.074Z"
   },
   {
    "duration": 19,
    "start_time": "2022-08-24T13:46:19.089Z"
   },
   {
    "duration": 12,
    "start_time": "2022-08-24T13:46:19.110Z"
   },
   {
    "duration": 35,
    "start_time": "2022-08-24T13:46:19.124Z"
   },
   {
    "duration": 10,
    "start_time": "2022-08-24T13:46:19.161Z"
   },
   {
    "duration": 8,
    "start_time": "2022-08-24T13:46:19.173Z"
   },
   {
    "duration": 222,
    "start_time": "2022-08-24T13:48:31.254Z"
   },
   {
    "duration": 215,
    "start_time": "2022-08-24T13:48:41.369Z"
   },
   {
    "duration": 234,
    "start_time": "2022-08-24T13:48:44.679Z"
   },
   {
    "duration": 250,
    "start_time": "2022-08-24T13:48:52.288Z"
   },
   {
    "duration": 364,
    "start_time": "2022-08-24T13:48:59.391Z"
   },
   {
    "duration": 215,
    "start_time": "2022-08-24T13:49:06.806Z"
   },
   {
    "duration": 226,
    "start_time": "2022-08-24T13:49:11.651Z"
   },
   {
    "duration": 179,
    "start_time": "2022-08-24T13:49:20.638Z"
   },
   {
    "duration": 189,
    "start_time": "2022-08-24T13:49:27.653Z"
   },
   {
    "duration": 200,
    "start_time": "2022-08-24T13:49:34.725Z"
   },
   {
    "duration": 19,
    "start_time": "2022-08-24T13:56:11.279Z"
   },
   {
    "duration": 1184,
    "start_time": "2022-08-24T13:57:38.020Z"
   },
   {
    "duration": 29,
    "start_time": "2022-08-24T13:57:39.206Z"
   },
   {
    "duration": 13,
    "start_time": "2022-08-24T13:57:39.237Z"
   },
   {
    "duration": 12,
    "start_time": "2022-08-24T13:57:39.252Z"
   },
   {
    "duration": 48,
    "start_time": "2022-08-24T13:57:39.265Z"
   },
   {
    "duration": 11,
    "start_time": "2022-08-24T13:57:39.314Z"
   },
   {
    "duration": 19,
    "start_time": "2022-08-24T13:57:39.326Z"
   },
   {
    "duration": 15,
    "start_time": "2022-08-24T13:57:39.347Z"
   },
   {
    "duration": 18,
    "start_time": "2022-08-24T13:57:39.363Z"
   },
   {
    "duration": 14,
    "start_time": "2022-08-24T13:57:39.385Z"
   },
   {
    "duration": 6,
    "start_time": "2022-08-24T13:57:39.403Z"
   },
   {
    "duration": 12,
    "start_time": "2022-08-24T13:57:39.411Z"
   },
   {
    "duration": 8,
    "start_time": "2022-08-24T13:57:39.425Z"
   },
   {
    "duration": 8,
    "start_time": "2022-08-24T13:57:39.434Z"
   },
   {
    "duration": 15,
    "start_time": "2022-08-24T13:57:39.443Z"
   },
   {
    "duration": 8,
    "start_time": "2022-08-24T13:57:39.460Z"
   },
   {
    "duration": 19,
    "start_time": "2022-08-24T13:57:39.470Z"
   },
   {
    "duration": 12,
    "start_time": "2022-08-24T13:57:39.491Z"
   },
   {
    "duration": 19,
    "start_time": "2022-08-24T13:57:39.505Z"
   },
   {
    "duration": 8,
    "start_time": "2022-08-24T13:57:39.526Z"
   },
   {
    "duration": 10,
    "start_time": "2022-08-24T13:57:39.535Z"
   },
   {
    "duration": 12,
    "start_time": "2022-08-24T13:57:39.547Z"
   },
   {
    "duration": 13,
    "start_time": "2022-08-24T13:57:39.561Z"
   },
   {
    "duration": 7,
    "start_time": "2022-08-24T13:57:39.576Z"
   },
   {
    "duration": 19,
    "start_time": "2022-08-24T13:57:39.585Z"
   },
   {
    "duration": 11,
    "start_time": "2022-08-24T13:57:39.605Z"
   },
   {
    "duration": 4,
    "start_time": "2022-08-24T13:57:39.618Z"
   },
   {
    "duration": 3,
    "start_time": "2022-08-24T13:57:39.627Z"
   },
   {
    "duration": 13,
    "start_time": "2022-08-24T13:57:39.632Z"
   },
   {
    "duration": 12,
    "start_time": "2022-08-24T13:57:39.647Z"
   },
   {
    "duration": 29,
    "start_time": "2022-08-24T13:57:39.661Z"
   },
   {
    "duration": 27,
    "start_time": "2022-08-24T13:57:39.691Z"
   },
   {
    "duration": 6,
    "start_time": "2022-08-24T13:57:39.720Z"
   },
   {
    "duration": 9,
    "start_time": "2022-08-24T13:57:39.728Z"
   },
   {
    "duration": 13,
    "start_time": "2022-08-24T13:57:39.739Z"
   },
   {
    "duration": 19,
    "start_time": "2022-08-24T13:57:39.754Z"
   },
   {
    "duration": 22,
    "start_time": "2022-08-24T13:57:39.775Z"
   },
   {
    "duration": 8,
    "start_time": "2022-08-24T13:57:39.798Z"
   },
   {
    "duration": 197,
    "start_time": "2022-08-24T13:57:39.807Z"
   },
   {
    "duration": 149,
    "start_time": "2022-08-24T13:57:40.006Z"
   },
   {
    "duration": 6,
    "start_time": "2022-08-24T13:57:40.157Z"
   },
   {
    "duration": 19,
    "start_time": "2022-08-24T13:57:40.165Z"
   },
   {
    "duration": 6,
    "start_time": "2022-08-24T13:57:40.186Z"
   },
   {
    "duration": 69,
    "start_time": "2022-08-24T13:57:40.194Z"
   },
   {
    "duration": 359,
    "start_time": "2022-08-24T13:57:40.265Z"
   },
   {
    "duration": 260,
    "start_time": "2022-08-24T13:57:40.626Z"
   },
   {
    "duration": 362,
    "start_time": "2022-08-24T13:57:40.888Z"
   },
   {
    "duration": 5,
    "start_time": "2022-08-24T13:57:41.252Z"
   },
   {
    "duration": 11,
    "start_time": "2022-08-24T13:57:41.259Z"
   },
   {
    "duration": 6,
    "start_time": "2022-08-24T13:57:41.271Z"
   },
   {
    "duration": 243,
    "start_time": "2022-08-24T13:57:41.279Z"
   },
   {
    "duration": 10,
    "start_time": "2022-08-24T13:57:41.524Z"
   },
   {
    "duration": 12,
    "start_time": "2022-08-24T13:57:41.536Z"
   },
   {
    "duration": 255,
    "start_time": "2022-08-24T13:57:41.550Z"
   },
   {
    "duration": 9,
    "start_time": "2022-08-24T13:57:41.806Z"
   },
   {
    "duration": 14,
    "start_time": "2022-08-24T13:57:41.817Z"
   },
   {
    "duration": 212,
    "start_time": "2022-08-24T13:57:41.836Z"
   },
   {
    "duration": 5,
    "start_time": "2022-08-24T13:57:42.049Z"
   },
   {
    "duration": 12,
    "start_time": "2022-08-24T13:57:42.056Z"
   },
   {
    "duration": 218,
    "start_time": "2022-08-24T13:57:42.070Z"
   },
   {
    "duration": 15,
    "start_time": "2022-08-24T13:57:42.290Z"
   },
   {
    "duration": 229,
    "start_time": "2022-08-24T13:57:42.307Z"
   },
   {
    "duration": 6,
    "start_time": "2022-08-24T13:57:42.538Z"
   },
   {
    "duration": 89,
    "start_time": "2022-08-24T13:57:42.546Z"
   },
   {
    "duration": 102,
    "start_time": "2022-08-24T13:57:42.637Z"
   },
   {
    "duration": 6,
    "start_time": "2022-08-24T13:57:42.741Z"
   },
   {
    "duration": 15,
    "start_time": "2022-08-24T13:57:42.748Z"
   },
   {
    "duration": 30,
    "start_time": "2022-08-24T13:57:42.765Z"
   },
   {
    "duration": 103,
    "start_time": "2022-08-24T13:57:42.803Z"
   },
   {
    "duration": 9,
    "start_time": "2022-08-24T13:57:42.908Z"
   },
   {
    "duration": 161,
    "start_time": "2022-08-24T13:57:42.918Z"
   },
   {
    "duration": 5,
    "start_time": "2022-08-24T13:57:43.081Z"
   },
   {
    "duration": 21,
    "start_time": "2022-08-24T13:57:43.088Z"
   },
   {
    "duration": 31,
    "start_time": "2022-08-24T13:57:43.112Z"
   },
   {
    "duration": 17,
    "start_time": "2022-08-24T13:57:43.145Z"
   },
   {
    "duration": 11,
    "start_time": "2022-08-24T13:57:43.164Z"
   },
   {
    "duration": 25,
    "start_time": "2022-08-24T13:57:43.177Z"
   },
   {
    "duration": 15,
    "start_time": "2022-08-24T13:57:43.204Z"
   },
   {
    "duration": 1037,
    "start_time": "2022-11-03T19:38:07.426Z"
   },
   {
    "duration": 73,
    "start_time": "2022-11-03T19:38:08.465Z"
   },
   {
    "duration": 11,
    "start_time": "2022-11-03T19:38:08.539Z"
   },
   {
    "duration": 54,
    "start_time": "2022-11-03T19:38:08.552Z"
   },
   {
    "duration": 74,
    "start_time": "2022-11-03T19:38:08.608Z"
   },
   {
    "duration": 8,
    "start_time": "2022-11-03T19:38:08.684Z"
   },
   {
    "duration": 17,
    "start_time": "2022-11-03T19:38:08.693Z"
   },
   {
    "duration": 14,
    "start_time": "2022-11-03T19:38:08.712Z"
   },
   {
    "duration": 11,
    "start_time": "2022-11-03T19:38:08.727Z"
   },
   {
    "duration": 5,
    "start_time": "2022-11-03T19:38:08.741Z"
   },
   {
    "duration": 4,
    "start_time": "2022-11-03T19:38:08.747Z"
   },
   {
    "duration": 7,
    "start_time": "2022-11-03T19:38:08.752Z"
   },
   {
    "duration": 4,
    "start_time": "2022-11-03T19:38:08.760Z"
   },
   {
    "duration": 5,
    "start_time": "2022-11-03T19:38:08.766Z"
   },
   {
    "duration": 6,
    "start_time": "2022-11-03T19:38:08.772Z"
   },
   {
    "duration": 3,
    "start_time": "2022-11-03T19:38:08.780Z"
   },
   {
    "duration": 61,
    "start_time": "2022-11-03T19:38:08.784Z"
   },
   {
    "duration": 6,
    "start_time": "2022-11-03T19:38:08.847Z"
   },
   {
    "duration": 11,
    "start_time": "2022-11-03T19:38:08.854Z"
   },
   {
    "duration": 5,
    "start_time": "2022-11-03T19:38:08.867Z"
   },
   {
    "duration": 9,
    "start_time": "2022-11-03T19:38:08.873Z"
   },
   {
    "duration": 5,
    "start_time": "2022-11-03T19:38:08.883Z"
   },
   {
    "duration": 5,
    "start_time": "2022-11-03T19:38:08.890Z"
   },
   {
    "duration": 8,
    "start_time": "2022-11-03T19:38:08.896Z"
   },
   {
    "duration": 7,
    "start_time": "2022-11-03T19:38:08.905Z"
   },
   {
    "duration": 13,
    "start_time": "2022-11-03T19:38:08.913Z"
   },
   {
    "duration": 2,
    "start_time": "2022-11-03T19:38:08.927Z"
   },
   {
    "duration": 2,
    "start_time": "2022-11-03T19:38:08.932Z"
   },
   {
    "duration": 10,
    "start_time": "2022-11-03T19:38:08.936Z"
   },
   {
    "duration": 5,
    "start_time": "2022-11-03T19:38:08.947Z"
   },
   {
    "duration": 9,
    "start_time": "2022-11-03T19:38:08.953Z"
   },
   {
    "duration": 10,
    "start_time": "2022-11-03T19:38:08.963Z"
   },
   {
    "duration": 7,
    "start_time": "2022-11-03T19:38:08.975Z"
   },
   {
    "duration": 8,
    "start_time": "2022-11-03T19:38:08.984Z"
   },
   {
    "duration": 27,
    "start_time": "2022-11-03T19:38:08.994Z"
   },
   {
    "duration": 10,
    "start_time": "2022-11-03T19:38:09.023Z"
   },
   {
    "duration": 9,
    "start_time": "2022-11-03T19:38:09.034Z"
   },
   {
    "duration": 7,
    "start_time": "2022-11-03T19:38:09.044Z"
   },
   {
    "duration": 179,
    "start_time": "2022-11-03T19:38:09.052Z"
   },
   {
    "duration": 113,
    "start_time": "2022-11-03T19:38:09.232Z"
   },
   {
    "duration": 6,
    "start_time": "2022-11-03T19:38:09.347Z"
   },
   {
    "duration": 10,
    "start_time": "2022-11-03T19:38:09.355Z"
   },
   {
    "duration": 9,
    "start_time": "2022-11-03T19:38:09.367Z"
   },
   {
    "duration": 10,
    "start_time": "2022-11-03T19:38:09.377Z"
   },
   {
    "duration": 289,
    "start_time": "2022-11-03T19:38:09.388Z"
   },
   {
    "duration": 209,
    "start_time": "2022-11-03T19:38:09.679Z"
   },
   {
    "duration": 338,
    "start_time": "2022-11-03T19:38:09.890Z"
   },
   {
    "duration": 4,
    "start_time": "2022-11-03T19:38:10.229Z"
   },
   {
    "duration": 22,
    "start_time": "2022-11-03T19:38:10.235Z"
   },
   {
    "duration": 10,
    "start_time": "2022-11-03T19:38:10.258Z"
   },
   {
    "duration": 184,
    "start_time": "2022-11-03T19:38:10.269Z"
   },
   {
    "duration": 7,
    "start_time": "2022-11-03T19:38:10.454Z"
   },
   {
    "duration": 15,
    "start_time": "2022-11-03T19:38:10.463Z"
   },
   {
    "duration": 195,
    "start_time": "2022-11-03T19:38:10.480Z"
   },
   {
    "duration": 8,
    "start_time": "2022-11-03T19:38:10.676Z"
   },
   {
    "duration": 22,
    "start_time": "2022-11-03T19:38:10.686Z"
   },
   {
    "duration": 163,
    "start_time": "2022-11-03T19:38:10.710Z"
   },
   {
    "duration": 6,
    "start_time": "2022-11-03T19:38:10.875Z"
   },
   {
    "duration": 36,
    "start_time": "2022-11-03T19:38:10.882Z"
   },
   {
    "duration": 170,
    "start_time": "2022-11-03T19:38:10.920Z"
   },
   {
    "duration": 6,
    "start_time": "2022-11-03T19:38:11.092Z"
   },
   {
    "duration": 177,
    "start_time": "2022-11-03T19:38:11.100Z"
   },
   {
    "duration": 4,
    "start_time": "2022-11-03T19:38:11.279Z"
   },
   {
    "duration": 73,
    "start_time": "2022-11-03T19:38:11.284Z"
   },
   {
    "duration": 82,
    "start_time": "2022-11-03T19:38:11.358Z"
   },
   {
    "duration": 4,
    "start_time": "2022-11-03T19:38:11.441Z"
   },
   {
    "duration": 11,
    "start_time": "2022-11-03T19:38:11.447Z"
   },
   {
    "duration": 38,
    "start_time": "2022-11-03T19:38:11.459Z"
   },
   {
    "duration": 97,
    "start_time": "2022-11-03T19:38:11.499Z"
   },
   {
    "duration": 10,
    "start_time": "2022-11-03T19:38:11.597Z"
   },
   {
    "duration": 173,
    "start_time": "2022-11-03T19:38:11.608Z"
   },
   {
    "duration": 4,
    "start_time": "2022-11-03T19:38:11.783Z"
   },
   {
    "duration": 27,
    "start_time": "2022-11-03T19:38:11.789Z"
   },
   {
    "duration": 36,
    "start_time": "2022-11-03T19:38:11.817Z"
   },
   {
    "duration": 21,
    "start_time": "2022-11-03T19:38:11.854Z"
   },
   {
    "duration": 28,
    "start_time": "2022-11-03T19:38:11.876Z"
   },
   {
    "duration": 27,
    "start_time": "2022-11-03T19:38:11.905Z"
   },
   {
    "duration": 20,
    "start_time": "2022-11-03T19:38:11.933Z"
   },
   {
    "duration": 13,
    "start_time": "2022-11-03T19:38:23.324Z"
   },
   {
    "duration": 1115,
    "start_time": "2022-11-03T19:56:12.694Z"
   },
   {
    "duration": 33,
    "start_time": "2022-11-03T19:56:13.811Z"
   },
   {
    "duration": 10,
    "start_time": "2022-11-03T19:56:13.845Z"
   },
   {
    "duration": 3,
    "start_time": "2022-11-03T19:56:13.857Z"
   },
   {
    "duration": 44,
    "start_time": "2022-11-03T19:56:13.862Z"
   },
   {
    "duration": 10,
    "start_time": "2022-11-03T19:56:13.908Z"
   },
   {
    "duration": 20,
    "start_time": "2022-11-03T19:56:13.920Z"
   },
   {
    "duration": 16,
    "start_time": "2022-11-03T19:56:13.942Z"
   },
   {
    "duration": 12,
    "start_time": "2022-11-03T19:56:13.960Z"
   },
   {
    "duration": 9,
    "start_time": "2022-11-03T19:56:13.975Z"
   },
   {
    "duration": 5,
    "start_time": "2022-11-03T19:56:13.986Z"
   },
   {
    "duration": 6,
    "start_time": "2022-11-03T19:56:13.992Z"
   },
   {
    "duration": 24,
    "start_time": "2022-11-03T19:56:14.000Z"
   },
   {
    "duration": 6,
    "start_time": "2022-11-03T19:56:14.026Z"
   },
   {
    "duration": 9,
    "start_time": "2022-11-03T19:56:14.034Z"
   },
   {
    "duration": 3,
    "start_time": "2022-11-03T19:56:14.045Z"
   },
   {
    "duration": 18,
    "start_time": "2022-11-03T19:56:14.050Z"
   },
   {
    "duration": 6,
    "start_time": "2022-11-03T19:56:14.069Z"
   },
   {
    "duration": 11,
    "start_time": "2022-11-03T19:56:14.077Z"
   },
   {
    "duration": 7,
    "start_time": "2022-11-03T19:56:14.089Z"
   },
   {
    "duration": 29,
    "start_time": "2022-11-03T19:56:14.098Z"
   },
   {
    "duration": 7,
    "start_time": "2022-11-03T19:56:14.129Z"
   },
   {
    "duration": 10,
    "start_time": "2022-11-03T19:56:14.138Z"
   },
   {
    "duration": 6,
    "start_time": "2022-11-03T19:56:14.150Z"
   },
   {
    "duration": 8,
    "start_time": "2022-11-03T19:56:14.157Z"
   },
   {
    "duration": 63,
    "start_time": "2022-11-03T19:56:14.166Z"
   },
   {
    "duration": 3,
    "start_time": "2022-11-03T19:56:14.230Z"
   },
   {
    "duration": 7,
    "start_time": "2022-11-03T19:56:14.236Z"
   },
   {
    "duration": 11,
    "start_time": "2022-11-03T19:56:14.245Z"
   },
   {
    "duration": 10,
    "start_time": "2022-11-03T19:56:14.258Z"
   },
   {
    "duration": 7,
    "start_time": "2022-11-03T19:56:14.270Z"
   },
   {
    "duration": 51,
    "start_time": "2022-11-03T19:56:14.278Z"
   },
   {
    "duration": 10,
    "start_time": "2022-11-03T19:56:14.331Z"
   },
   {
    "duration": 10,
    "start_time": "2022-11-03T19:56:14.342Z"
   },
   {
    "duration": 16,
    "start_time": "2022-11-03T19:56:14.353Z"
   },
   {
    "duration": 61,
    "start_time": "2022-11-03T19:56:14.370Z"
   },
   {
    "duration": 11,
    "start_time": "2022-11-03T19:56:14.433Z"
   },
   {
    "duration": 9,
    "start_time": "2022-11-03T19:56:14.445Z"
   },
   {
    "duration": 382,
    "start_time": "2022-11-03T19:56:14.455Z"
   },
   {
    "duration": 285,
    "start_time": "2022-11-03T19:56:14.839Z"
   },
   {
    "duration": 6,
    "start_time": "2022-11-03T19:56:15.126Z"
   },
   {
    "duration": 17,
    "start_time": "2022-11-03T19:56:15.133Z"
   },
   {
    "duration": 4,
    "start_time": "2022-11-03T19:56:15.152Z"
   },
   {
    "duration": 9,
    "start_time": "2022-11-03T19:56:15.158Z"
   },
   {
    "duration": 660,
    "start_time": "2022-11-03T19:56:15.169Z"
   },
   {
    "duration": 315,
    "start_time": "2022-11-03T19:56:15.831Z"
   },
   {
    "duration": 320,
    "start_time": "2022-11-03T19:56:16.148Z"
   },
   {
    "duration": 4,
    "start_time": "2022-11-03T19:56:16.469Z"
   },
   {
    "duration": 26,
    "start_time": "2022-11-03T19:56:16.474Z"
   },
   {
    "duration": 6,
    "start_time": "2022-11-03T19:56:16.501Z"
   },
   {
    "duration": 7,
    "start_time": "2022-11-03T19:56:16.509Z"
   },
   {
    "duration": 194,
    "start_time": "2022-11-03T19:56:16.517Z"
   },
   {
    "duration": 22,
    "start_time": "2022-11-03T19:56:16.713Z"
   },
   {
    "duration": 9,
    "start_time": "2022-11-03T19:56:16.737Z"
   },
   {
    "duration": 202,
    "start_time": "2022-11-03T19:56:16.747Z"
   },
   {
    "duration": 8,
    "start_time": "2022-11-03T19:56:16.951Z"
   },
   {
    "duration": 14,
    "start_time": "2022-11-03T19:56:16.960Z"
   },
   {
    "duration": 203,
    "start_time": "2022-11-03T19:56:16.976Z"
   },
   {
    "duration": 5,
    "start_time": "2022-11-03T19:56:17.181Z"
   },
   {
    "duration": 12,
    "start_time": "2022-11-03T19:56:17.187Z"
   },
   {
    "duration": 192,
    "start_time": "2022-11-03T19:56:17.200Z"
   },
   {
    "duration": 6,
    "start_time": "2022-11-03T19:56:17.394Z"
   },
   {
    "duration": 236,
    "start_time": "2022-11-03T19:56:17.402Z"
   },
   {
    "duration": 4,
    "start_time": "2022-11-03T19:56:17.640Z"
   },
   {
    "duration": 90,
    "start_time": "2022-11-03T19:56:17.645Z"
   },
   {
    "duration": 103,
    "start_time": "2022-11-03T19:56:17.738Z"
   },
   {
    "duration": 6,
    "start_time": "2022-11-03T19:56:17.843Z"
   },
   {
    "duration": 12,
    "start_time": "2022-11-03T19:56:17.851Z"
   },
   {
    "duration": 34,
    "start_time": "2022-11-03T19:56:17.865Z"
   },
   {
    "duration": 93,
    "start_time": "2022-11-03T19:56:17.900Z"
   },
   {
    "duration": 21,
    "start_time": "2022-11-03T19:56:17.995Z"
   },
   {
    "duration": 149,
    "start_time": "2022-11-03T19:56:18.018Z"
   },
   {
    "duration": 3,
    "start_time": "2022-11-03T19:56:18.169Z"
   },
   {
    "duration": 10,
    "start_time": "2022-11-03T19:56:18.174Z"
   },
   {
    "duration": 9,
    "start_time": "2022-11-03T19:56:18.185Z"
   },
   {
    "duration": 6,
    "start_time": "2022-11-03T19:56:18.196Z"
   },
   {
    "duration": 9,
    "start_time": "2022-11-03T19:56:18.203Z"
   },
   {
    "duration": 26,
    "start_time": "2022-11-03T19:56:18.223Z"
   },
   {
    "duration": 14,
    "start_time": "2022-11-03T19:56:18.251Z"
   },
   {
    "duration": 176,
    "start_time": "2022-11-03T19:57:00.205Z"
   },
   {
    "duration": 121,
    "start_time": "2022-11-03T20:13:56.916Z"
   },
   {
    "duration": 64,
    "start_time": "2022-11-03T21:10:53.496Z"
   },
   {
    "duration": 8,
    "start_time": "2022-11-03T21:15:37.191Z"
   },
   {
    "duration": 51,
    "start_time": "2022-11-04T10:25:14.412Z"
   },
   {
    "duration": 1091,
    "start_time": "2022-11-04T10:25:20.442Z"
   },
   {
    "duration": 69,
    "start_time": "2022-11-04T10:25:21.535Z"
   },
   {
    "duration": 12,
    "start_time": "2022-11-04T10:25:21.605Z"
   },
   {
    "duration": 5,
    "start_time": "2022-11-04T10:25:21.619Z"
   },
   {
    "duration": 94,
    "start_time": "2022-11-04T10:25:21.625Z"
   },
   {
    "duration": 8,
    "start_time": "2022-11-04T10:25:21.720Z"
   },
   {
    "duration": 14,
    "start_time": "2022-11-04T10:25:21.729Z"
   },
   {
    "duration": 14,
    "start_time": "2022-11-04T10:25:21.744Z"
   },
   {
    "duration": 10,
    "start_time": "2022-11-04T10:25:21.760Z"
   },
   {
    "duration": 5,
    "start_time": "2022-11-04T10:25:21.773Z"
   },
   {
    "duration": 6,
    "start_time": "2022-11-04T10:25:21.779Z"
   },
   {
    "duration": 23,
    "start_time": "2022-11-04T10:25:21.786Z"
   },
   {
    "duration": 4,
    "start_time": "2022-11-04T10:25:21.811Z"
   },
   {
    "duration": 6,
    "start_time": "2022-11-04T10:25:21.816Z"
   },
   {
    "duration": 8,
    "start_time": "2022-11-04T10:25:21.823Z"
   },
   {
    "duration": 5,
    "start_time": "2022-11-04T10:25:21.832Z"
   },
   {
    "duration": 62,
    "start_time": "2022-11-04T10:25:21.838Z"
   },
   {
    "duration": 8,
    "start_time": "2022-11-04T10:25:21.901Z"
   },
   {
    "duration": 10,
    "start_time": "2022-11-04T10:25:21.910Z"
   },
   {
    "duration": 5,
    "start_time": "2022-11-04T10:25:21.921Z"
   },
   {
    "duration": 12,
    "start_time": "2022-11-04T10:25:21.927Z"
   },
   {
    "duration": 16,
    "start_time": "2022-11-04T10:25:21.940Z"
   },
   {
    "duration": 16,
    "start_time": "2022-11-04T10:25:21.957Z"
   },
   {
    "duration": 14,
    "start_time": "2022-11-04T10:25:21.975Z"
   },
   {
    "duration": 18,
    "start_time": "2022-11-04T10:25:21.990Z"
   },
   {
    "duration": 12,
    "start_time": "2022-11-04T10:25:22.010Z"
   },
   {
    "duration": 2,
    "start_time": "2022-11-04T10:25:22.023Z"
   },
   {
    "duration": 5,
    "start_time": "2022-11-04T10:25:22.029Z"
   },
   {
    "duration": 12,
    "start_time": "2022-11-04T10:25:22.035Z"
   },
   {
    "duration": 7,
    "start_time": "2022-11-04T10:25:22.049Z"
   },
   {
    "duration": 9,
    "start_time": "2022-11-04T10:25:22.057Z"
   },
   {
    "duration": 10,
    "start_time": "2022-11-04T10:25:22.068Z"
   },
   {
    "duration": 6,
    "start_time": "2022-11-04T10:25:22.080Z"
   },
   {
    "duration": 24,
    "start_time": "2022-11-04T10:25:22.088Z"
   },
   {
    "duration": 11,
    "start_time": "2022-11-04T10:25:22.114Z"
   },
   {
    "duration": 23,
    "start_time": "2022-11-04T10:25:22.126Z"
   },
   {
    "duration": 12,
    "start_time": "2022-11-04T10:25:22.152Z"
   },
   {
    "duration": 9,
    "start_time": "2022-11-04T10:25:22.165Z"
   },
   {
    "duration": 188,
    "start_time": "2022-11-04T10:25:22.176Z"
   },
   {
    "duration": 130,
    "start_time": "2022-11-04T10:25:22.366Z"
   },
   {
    "duration": 14,
    "start_time": "2022-11-04T10:25:22.498Z"
   },
   {
    "duration": 16,
    "start_time": "2022-11-04T10:25:22.514Z"
   },
   {
    "duration": 13,
    "start_time": "2022-11-04T10:25:22.532Z"
   },
   {
    "duration": 12,
    "start_time": "2022-11-04T10:25:22.547Z"
   },
   {
    "duration": 367,
    "start_time": "2022-11-04T10:25:22.562Z"
   },
   {
    "duration": 234,
    "start_time": "2022-11-04T10:25:22.931Z"
   },
   {
    "duration": 315,
    "start_time": "2022-11-04T10:25:23.167Z"
   },
   {
    "duration": 4,
    "start_time": "2022-11-04T10:25:23.483Z"
   },
   {
    "duration": 26,
    "start_time": "2022-11-04T10:25:23.488Z"
   },
   {
    "duration": 12,
    "start_time": "2022-11-04T10:25:23.516Z"
   },
   {
    "duration": 9,
    "start_time": "2022-11-04T10:25:23.530Z"
   },
   {
    "duration": 218,
    "start_time": "2022-11-04T10:25:23.541Z"
   },
   {
    "duration": 7,
    "start_time": "2022-11-04T10:25:23.761Z"
   },
   {
    "duration": 9,
    "start_time": "2022-11-04T10:25:23.770Z"
   },
   {
    "duration": 236,
    "start_time": "2022-11-04T10:25:23.780Z"
   },
   {
    "duration": 7,
    "start_time": "2022-11-04T10:25:24.018Z"
   },
   {
    "duration": 11,
    "start_time": "2022-11-04T10:25:24.027Z"
   },
   {
    "duration": 213,
    "start_time": "2022-11-04T10:25:24.040Z"
   },
   {
    "duration": 5,
    "start_time": "2022-11-04T10:25:24.255Z"
   },
   {
    "duration": 11,
    "start_time": "2022-11-04T10:25:24.262Z"
   },
   {
    "duration": 202,
    "start_time": "2022-11-04T10:25:24.274Z"
   },
   {
    "duration": 4,
    "start_time": "2022-11-04T10:25:24.478Z"
   },
   {
    "duration": 210,
    "start_time": "2022-11-04T10:25:24.484Z"
   },
   {
    "duration": 5,
    "start_time": "2022-11-04T10:25:24.696Z"
   },
   {
    "duration": 77,
    "start_time": "2022-11-04T10:25:24.709Z"
   },
   {
    "duration": 107,
    "start_time": "2022-11-04T10:25:24.787Z"
   },
   {
    "duration": 16,
    "start_time": "2022-11-04T10:25:24.895Z"
   },
   {
    "duration": 8,
    "start_time": "2022-11-04T10:25:24.913Z"
   },
   {
    "duration": 23,
    "start_time": "2022-11-04T10:25:24.922Z"
   },
   {
    "duration": 78,
    "start_time": "2022-11-04T10:25:24.947Z"
   },
   {
    "duration": 7,
    "start_time": "2022-11-04T10:25:25.026Z"
   },
   {
    "duration": 155,
    "start_time": "2022-11-04T10:25:25.035Z"
   },
   {
    "duration": 5,
    "start_time": "2022-11-04T10:25:25.192Z"
   },
   {
    "duration": 8,
    "start_time": "2022-11-04T10:25:25.209Z"
   },
   {
    "duration": 9,
    "start_time": "2022-11-04T10:25:25.218Z"
   },
   {
    "duration": 9,
    "start_time": "2022-11-04T10:25:25.228Z"
   },
   {
    "duration": 5,
    "start_time": "2022-11-04T10:25:25.239Z"
   },
   {
    "duration": 21,
    "start_time": "2022-11-04T10:25:25.246Z"
   },
   {
    "duration": 13,
    "start_time": "2022-11-04T10:25:25.268Z"
   },
   {
    "duration": 8,
    "start_time": "2022-11-04T10:44:24.161Z"
   },
   {
    "duration": 10,
    "start_time": "2022-11-04T10:44:30.839Z"
   },
   {
    "duration": 8,
    "start_time": "2022-11-04T10:52:29.566Z"
   },
   {
    "duration": 1290,
    "start_time": "2022-11-06T22:04:49.721Z"
   },
   {
    "duration": 86,
    "start_time": "2022-11-06T22:04:51.013Z"
   },
   {
    "duration": 13,
    "start_time": "2022-11-06T22:04:51.101Z"
   },
   {
    "duration": 4,
    "start_time": "2022-11-06T22:04:51.116Z"
   },
   {
    "duration": 89,
    "start_time": "2022-11-06T22:04:51.122Z"
   },
   {
    "duration": 9,
    "start_time": "2022-11-06T22:04:51.213Z"
   },
   {
    "duration": 14,
    "start_time": "2022-11-06T22:04:51.223Z"
   },
   {
    "duration": 15,
    "start_time": "2022-11-06T22:04:51.238Z"
   },
   {
    "duration": 13,
    "start_time": "2022-11-06T22:04:51.254Z"
   },
   {
    "duration": 6,
    "start_time": "2022-11-06T22:04:51.270Z"
   },
   {
    "duration": 23,
    "start_time": "2022-11-06T22:04:51.277Z"
   },
   {
    "duration": 16,
    "start_time": "2022-11-06T22:04:51.301Z"
   },
   {
    "duration": 7,
    "start_time": "2022-11-06T22:04:51.319Z"
   },
   {
    "duration": 4,
    "start_time": "2022-11-06T22:04:51.329Z"
   },
   {
    "duration": 7,
    "start_time": "2022-11-06T22:04:51.335Z"
   },
   {
    "duration": 4,
    "start_time": "2022-11-06T22:04:51.343Z"
   },
   {
    "duration": 76,
    "start_time": "2022-11-06T22:04:51.348Z"
   },
   {
    "duration": 10,
    "start_time": "2022-11-06T22:04:51.426Z"
   },
   {
    "duration": 12,
    "start_time": "2022-11-06T22:04:51.438Z"
   },
   {
    "duration": 6,
    "start_time": "2022-11-06T22:04:51.451Z"
   },
   {
    "duration": 9,
    "start_time": "2022-11-06T22:04:51.458Z"
   },
   {
    "duration": 7,
    "start_time": "2022-11-06T22:04:51.468Z"
   },
   {
    "duration": 32,
    "start_time": "2022-11-06T22:04:51.476Z"
   },
   {
    "duration": 15,
    "start_time": "2022-11-06T22:04:51.509Z"
   },
   {
    "duration": 5,
    "start_time": "2022-11-06T22:04:51.526Z"
   },
   {
    "duration": 23,
    "start_time": "2022-11-06T22:04:51.533Z"
   },
   {
    "duration": 3,
    "start_time": "2022-11-06T22:04:51.557Z"
   },
   {
    "duration": 5,
    "start_time": "2022-11-06T22:04:51.564Z"
   },
   {
    "duration": 9,
    "start_time": "2022-11-06T22:04:51.570Z"
   },
   {
    "duration": 8,
    "start_time": "2022-11-06T22:04:51.581Z"
   },
   {
    "duration": 5,
    "start_time": "2022-11-06T22:04:51.591Z"
   },
   {
    "duration": 10,
    "start_time": "2022-11-06T22:04:51.623Z"
   },
   {
    "duration": 7,
    "start_time": "2022-11-06T22:04:51.635Z"
   },
   {
    "duration": 9,
    "start_time": "2022-11-06T22:04:51.644Z"
   },
   {
    "duration": 15,
    "start_time": "2022-11-06T22:04:51.655Z"
   },
   {
    "duration": 18,
    "start_time": "2022-11-06T22:04:51.672Z"
   },
   {
    "duration": 12,
    "start_time": "2022-11-06T22:04:51.692Z"
   },
   {
    "duration": 21,
    "start_time": "2022-11-06T22:04:51.705Z"
   },
   {
    "duration": 259,
    "start_time": "2022-11-06T22:04:51.728Z"
   },
   {
    "duration": 163,
    "start_time": "2022-11-06T22:04:51.989Z"
   },
   {
    "duration": 7,
    "start_time": "2022-11-06T22:04:52.154Z"
   },
   {
    "duration": 9,
    "start_time": "2022-11-06T22:04:52.164Z"
   },
   {
    "duration": 5,
    "start_time": "2022-11-06T22:04:52.175Z"
   },
   {
    "duration": 13,
    "start_time": "2022-11-06T22:04:52.182Z"
   },
   {
    "duration": 361,
    "start_time": "2022-11-06T22:04:52.197Z"
   },
   {
    "duration": 265,
    "start_time": "2022-11-06T22:04:52.560Z"
   },
   {
    "duration": 353,
    "start_time": "2022-11-06T22:04:52.828Z"
   },
   {
    "duration": 5,
    "start_time": "2022-11-06T22:04:53.182Z"
   },
   {
    "duration": 17,
    "start_time": "2022-11-06T22:04:53.189Z"
   },
   {
    "duration": 5,
    "start_time": "2022-11-06T22:04:53.223Z"
   },
   {
    "duration": 6,
    "start_time": "2022-11-06T22:04:53.230Z"
   },
   {
    "duration": 249,
    "start_time": "2022-11-06T22:04:53.238Z"
   },
   {
    "duration": 9,
    "start_time": "2022-11-06T22:04:53.489Z"
   },
   {
    "duration": 25,
    "start_time": "2022-11-06T22:04:53.500Z"
   },
   {
    "duration": 245,
    "start_time": "2022-11-06T22:04:53.527Z"
   },
   {
    "duration": 9,
    "start_time": "2022-11-06T22:04:53.774Z"
   },
   {
    "duration": 11,
    "start_time": "2022-11-06T22:04:53.785Z"
   },
   {
    "duration": 210,
    "start_time": "2022-11-06T22:04:53.798Z"
   },
   {
    "duration": 6,
    "start_time": "2022-11-06T22:04:54.009Z"
   },
   {
    "duration": 11,
    "start_time": "2022-11-06T22:04:54.024Z"
   },
   {
    "duration": 210,
    "start_time": "2022-11-06T22:04:54.036Z"
   },
   {
    "duration": 7,
    "start_time": "2022-11-06T22:04:54.248Z"
   },
   {
    "duration": 232,
    "start_time": "2022-11-06T22:04:54.256Z"
   },
   {
    "duration": 5,
    "start_time": "2022-11-06T22:04:54.490Z"
   },
   {
    "duration": 101,
    "start_time": "2022-11-06T22:04:54.497Z"
   },
   {
    "duration": 95,
    "start_time": "2022-11-06T22:04:54.600Z"
   },
   {
    "duration": 8,
    "start_time": "2022-11-06T22:04:54.697Z"
   },
   {
    "duration": 19,
    "start_time": "2022-11-06T22:04:54.707Z"
   },
   {
    "duration": 31,
    "start_time": "2022-11-06T22:04:54.728Z"
   },
   {
    "duration": 105,
    "start_time": "2022-11-06T22:04:54.760Z"
   },
   {
    "duration": 9,
    "start_time": "2022-11-06T22:04:54.867Z"
   },
   {
    "duration": 175,
    "start_time": "2022-11-06T22:04:54.877Z"
   },
   {
    "duration": 6,
    "start_time": "2022-11-06T22:04:55.054Z"
   },
   {
    "duration": 14,
    "start_time": "2022-11-06T22:04:55.061Z"
   },
   {
    "duration": 20,
    "start_time": "2022-11-06T22:04:55.077Z"
   },
   {
    "duration": 9,
    "start_time": "2022-11-06T22:04:55.098Z"
   },
   {
    "duration": 18,
    "start_time": "2022-11-06T22:04:55.109Z"
   },
   {
    "duration": 26,
    "start_time": "2022-11-06T22:04:55.129Z"
   },
   {
    "duration": 15,
    "start_time": "2022-11-06T22:04:55.157Z"
   },
   {
    "duration": 7,
    "start_time": "2022-11-06T22:46:10.944Z"
   },
   {
    "duration": 4,
    "start_time": "2022-11-06T22:46:30.865Z"
   },
   {
    "duration": 8,
    "start_time": "2022-11-06T22:46:33.600Z"
   },
   {
    "duration": 8,
    "start_time": "2022-11-06T22:46:49.913Z"
   },
   {
    "duration": 5,
    "start_time": "2022-11-06T22:46:56.421Z"
   }
  ],
  "kernelspec": {
   "display_name": "Python 3 (ipykernel)",
   "language": "python",
   "name": "python3"
  },
  "language_info": {
   "codemirror_mode": {
    "name": "ipython",
    "version": 3
   },
   "file_extension": ".py",
   "mimetype": "text/x-python",
   "name": "python",
   "nbconvert_exporter": "python",
   "pygments_lexer": "ipython3",
   "version": "3.9.12"
  },
  "toc": {
   "base_numbering": 1,
   "nav_menu": {},
   "number_sections": true,
   "sideBar": true,
   "skip_h1_title": true,
   "title_cell": "Table of Contents",
   "title_sidebar": "Contents",
   "toc_cell": false,
   "toc_position": {
    "height": "calc(100% - 180px)",
    "left": "10px",
    "top": "150px",
    "width": "165px"
   },
   "toc_section_display": true,
   "toc_window_display": true
  }
 },
 "nbformat": 4,
 "nbformat_minor": 2
}
