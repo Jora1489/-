{
 "cells": [
  {
   "cell_type": "markdown",
   "metadata": {},
   "source": [
    "# Описание работы - Сеть фитнес-центров «Культурист-датасаентист» разрабатывает стратегию взаимодействия с клиентами на основе аналитических данных. Чтобы бороться с оттоком, отдел по работе с клиентами «Культуриста-датасаентиста» перевёл в электронный вид  клиентские анкеты. Задача — провести анализ и подготовить план действий по удержанию клиентов."
   ]
  },
  {
   "cell_type": "markdown",
   "metadata": {},
   "source": [
    "## Цель работы - научиться прогнозировать вероятность оттока (на уровне следующего месяца) для каждого клиента;сформировать типичные портреты клиентов: выделить несколько наиболее ярких групп и охарактеризовать их основные свойства;проанализировать основные признаки, наиболее сильно влияющие на отток;сформулировать основные выводы и разработать рекомендации по повышению качества работы с клиентами:1) выделить целевые группы клиентов;2) предложить меры по снижению оттока;3) определить другие особенности взаимодействия с клиентами."
   ]
  },
  {
   "cell_type": "markdown",
   "metadata": {},
   "source": [
    "## Открытие файла и общая информация"
   ]
  },
  {
   "cell_type": "code",
   "execution_count": 1,
   "metadata": {},
   "outputs": [],
   "source": [
    "import pandas as pd\n",
    "import numpy as np\n",
    "import math\n",
    "import matplotlib.pyplot as plt\n",
    "import seaborn as sns\n",
    "from sklearn.model_selection import train_test_split\n",
    "from sklearn.linear_model import LogisticRegression\n",
    "from sklearn.preprocessing import StandardScaler\n",
    "from sklearn.ensemble import RandomForestClassifier\n",
    "from sklearn.metrics import accuracy_score, precision_score, recall_score, f1_score\n",
    "from sklearn.cluster import KMeans\n",
    "from scipy.cluster.hierarchy import dendrogram, linkage \n",
    "import itertools"
   ]
  },
  {
   "cell_type": "code",
   "execution_count": 3,
   "metadata": {},
   "outputs": [
    {
     "data": {
      "text/html": [
       "<div>\n",
       "<style scoped>\n",
       "    .dataframe tbody tr th:only-of-type {\n",
       "        vertical-align: middle;\n",
       "    }\n",
       "\n",
       "    .dataframe tbody tr th {\n",
       "        vertical-align: top;\n",
       "    }\n",
       "\n",
       "    .dataframe thead th {\n",
       "        text-align: right;\n",
       "    }\n",
       "</style>\n",
       "<table border=\"1\" class=\"dataframe\">\n",
       "  <thead>\n",
       "    <tr style=\"text-align: right;\">\n",
       "      <th></th>\n",
       "      <th>gender</th>\n",
       "      <th>Near_Location</th>\n",
       "      <th>Partner</th>\n",
       "      <th>Promo_friends</th>\n",
       "      <th>Phone</th>\n",
       "      <th>Contract_period</th>\n",
       "      <th>Group_visits</th>\n",
       "      <th>Age</th>\n",
       "      <th>Avg_additional_charges_total</th>\n",
       "      <th>Month_to_end_contract</th>\n",
       "      <th>Lifetime</th>\n",
       "      <th>Avg_class_frequency_total</th>\n",
       "      <th>Avg_class_frequency_current_month</th>\n",
       "      <th>Churn</th>\n",
       "    </tr>\n",
       "  </thead>\n",
       "  <tbody>\n",
       "    <tr>\n",
       "      <th>0</th>\n",
       "      <td>1</td>\n",
       "      <td>1</td>\n",
       "      <td>1</td>\n",
       "      <td>1</td>\n",
       "      <td>0</td>\n",
       "      <td>6</td>\n",
       "      <td>1</td>\n",
       "      <td>29</td>\n",
       "      <td>14.227470</td>\n",
       "      <td>5.0</td>\n",
       "      <td>3</td>\n",
       "      <td>0.020398</td>\n",
       "      <td>0.000000</td>\n",
       "      <td>0</td>\n",
       "    </tr>\n",
       "    <tr>\n",
       "      <th>1</th>\n",
       "      <td>0</td>\n",
       "      <td>1</td>\n",
       "      <td>0</td>\n",
       "      <td>0</td>\n",
       "      <td>1</td>\n",
       "      <td>12</td>\n",
       "      <td>1</td>\n",
       "      <td>31</td>\n",
       "      <td>113.202938</td>\n",
       "      <td>12.0</td>\n",
       "      <td>7</td>\n",
       "      <td>1.922936</td>\n",
       "      <td>1.910244</td>\n",
       "      <td>0</td>\n",
       "    </tr>\n",
       "    <tr>\n",
       "      <th>2</th>\n",
       "      <td>0</td>\n",
       "      <td>1</td>\n",
       "      <td>1</td>\n",
       "      <td>0</td>\n",
       "      <td>1</td>\n",
       "      <td>1</td>\n",
       "      <td>0</td>\n",
       "      <td>28</td>\n",
       "      <td>129.448479</td>\n",
       "      <td>1.0</td>\n",
       "      <td>2</td>\n",
       "      <td>1.859098</td>\n",
       "      <td>1.736502</td>\n",
       "      <td>0</td>\n",
       "    </tr>\n",
       "    <tr>\n",
       "      <th>3</th>\n",
       "      <td>0</td>\n",
       "      <td>1</td>\n",
       "      <td>1</td>\n",
       "      <td>1</td>\n",
       "      <td>1</td>\n",
       "      <td>12</td>\n",
       "      <td>1</td>\n",
       "      <td>33</td>\n",
       "      <td>62.669863</td>\n",
       "      <td>12.0</td>\n",
       "      <td>2</td>\n",
       "      <td>3.205633</td>\n",
       "      <td>3.357215</td>\n",
       "      <td>0</td>\n",
       "    </tr>\n",
       "    <tr>\n",
       "      <th>4</th>\n",
       "      <td>1</td>\n",
       "      <td>1</td>\n",
       "      <td>1</td>\n",
       "      <td>1</td>\n",
       "      <td>1</td>\n",
       "      <td>1</td>\n",
       "      <td>0</td>\n",
       "      <td>26</td>\n",
       "      <td>198.362265</td>\n",
       "      <td>1.0</td>\n",
       "      <td>3</td>\n",
       "      <td>1.113884</td>\n",
       "      <td>1.120078</td>\n",
       "      <td>0</td>\n",
       "    </tr>\n",
       "  </tbody>\n",
       "</table>\n",
       "</div>"
      ],
      "text/plain": [
       "   gender  Near_Location  Partner  Promo_friends  Phone  Contract_period  \\\n",
       "0       1              1        1              1      0                6   \n",
       "1       0              1        0              0      1               12   \n",
       "2       0              1        1              0      1                1   \n",
       "3       0              1        1              1      1               12   \n",
       "4       1              1        1              1      1                1   \n",
       "\n",
       "   Group_visits  Age  Avg_additional_charges_total  Month_to_end_contract  \\\n",
       "0             1   29                     14.227470                    5.0   \n",
       "1             1   31                    113.202938                   12.0   \n",
       "2             0   28                    129.448479                    1.0   \n",
       "3             1   33                     62.669863                   12.0   \n",
       "4             0   26                    198.362265                    1.0   \n",
       "\n",
       "   Lifetime  Avg_class_frequency_total  Avg_class_frequency_current_month  \\\n",
       "0         3                   0.020398                           0.000000   \n",
       "1         7                   1.922936                           1.910244   \n",
       "2         2                   1.859098                           1.736502   \n",
       "3         2                   3.205633                           3.357215   \n",
       "4         3                   1.113884                           1.120078   \n",
       "\n",
       "   Churn  \n",
       "0      0  \n",
       "1      0  \n",
       "2      0  \n",
       "3      0  \n",
       "4      0  "
      ]
     },
     "execution_count": 3,
     "metadata": {},
     "output_type": "execute_result"
    }
   ],
   "source": [
    "data.head()"
   ]
  },
  {
   "cell_type": "code",
   "execution_count": 4,
   "metadata": {},
   "outputs": [
    {
     "name": "stdout",
     "output_type": "stream",
     "text": [
      "<class 'pandas.core.frame.DataFrame'>\n",
      "RangeIndex: 4000 entries, 0 to 3999\n",
      "Data columns (total 14 columns):\n",
      " #   Column                             Non-Null Count  Dtype  \n",
      "---  ------                             --------------  -----  \n",
      " 0   gender                             4000 non-null   int64  \n",
      " 1   Near_Location                      4000 non-null   int64  \n",
      " 2   Partner                            4000 non-null   int64  \n",
      " 3   Promo_friends                      4000 non-null   int64  \n",
      " 4   Phone                              4000 non-null   int64  \n",
      " 5   Contract_period                    4000 non-null   int64  \n",
      " 6   Group_visits                       4000 non-null   int64  \n",
      " 7   Age                                4000 non-null   int64  \n",
      " 8   Avg_additional_charges_total       4000 non-null   float64\n",
      " 9   Month_to_end_contract              4000 non-null   float64\n",
      " 10  Lifetime                           4000 non-null   int64  \n",
      " 11  Avg_class_frequency_total          4000 non-null   float64\n",
      " 12  Avg_class_frequency_current_month  4000 non-null   float64\n",
      " 13  Churn                              4000 non-null   int64  \n",
      "dtypes: float64(4), int64(10)\n",
      "memory usage: 437.6 KB\n"
     ]
    }
   ],
   "source": [
    "data.info()"
   ]
  },
  {
   "cell_type": "markdown",
   "metadata": {},
   "source": [
    "## Предобработка данных"
   ]
  },
  {
   "cell_type": "markdown",
   "metadata": {},
   "source": [
    "### Поиск дубликатов"
   ]
  },
  {
   "cell_type": "code",
   "execution_count": 5,
   "metadata": {},
   "outputs": [
    {
     "data": {
      "text/plain": [
       "'Дубликатов найдено - 0 шт.'"
      ]
     },
     "metadata": {},
     "output_type": "display_data"
    }
   ],
   "source": [
    "display(f'Дубликатов найдено - {data.duplicated().sum()} шт.')"
   ]
  },
  {
   "cell_type": "markdown",
   "metadata": {},
   "source": [
    "### Поиск пропусков"
   ]
  },
  {
   "cell_type": "code",
   "execution_count": 6,
   "metadata": {},
   "outputs": [
    {
     "data": {
      "text/plain": [
       "gender                               0\n",
       "Near_Location                        0\n",
       "Partner                              0\n",
       "Promo_friends                        0\n",
       "Phone                                0\n",
       "Contract_period                      0\n",
       "Group_visits                         0\n",
       "Age                                  0\n",
       "Avg_additional_charges_total         0\n",
       "Month_to_end_contract                0\n",
       "Lifetime                             0\n",
       "Avg_class_frequency_total            0\n",
       "Avg_class_frequency_current_month    0\n",
       "Churn                                0\n",
       "dtype: int64"
      ]
     },
     "execution_count": 6,
     "metadata": {},
     "output_type": "execute_result"
    }
   ],
   "source": [
    "data.isna().sum()"
   ]
  },
  {
   "cell_type": "code",
   "execution_count": 7,
   "metadata": {},
   "outputs": [
    {
     "data": {
      "text/html": [
       "<div>\n",
       "<style scoped>\n",
       "    .dataframe tbody tr th:only-of-type {\n",
       "        vertical-align: middle;\n",
       "    }\n",
       "\n",
       "    .dataframe tbody tr th {\n",
       "        vertical-align: top;\n",
       "    }\n",
       "\n",
       "    .dataframe thead th {\n",
       "        text-align: right;\n",
       "    }\n",
       "</style>\n",
       "<table border=\"1\" class=\"dataframe\">\n",
       "  <thead>\n",
       "    <tr style=\"text-align: right;\">\n",
       "      <th></th>\n",
       "      <th>gender</th>\n",
       "      <th>Near_Location</th>\n",
       "      <th>Partner</th>\n",
       "      <th>Promo_friends</th>\n",
       "      <th>Phone</th>\n",
       "      <th>Contract_period</th>\n",
       "      <th>Group_visits</th>\n",
       "      <th>Age</th>\n",
       "      <th>Avg_additional_charges_total</th>\n",
       "      <th>Month_to_end_contract</th>\n",
       "      <th>Lifetime</th>\n",
       "      <th>Avg_class_frequency_total</th>\n",
       "      <th>Avg_class_frequency_current_month</th>\n",
       "      <th>Churn</th>\n",
       "    </tr>\n",
       "  </thead>\n",
       "  <tbody>\n",
       "    <tr>\n",
       "      <th>count</th>\n",
       "      <td>4000.000000</td>\n",
       "      <td>4000.000000</td>\n",
       "      <td>4000.000000</td>\n",
       "      <td>4000.000000</td>\n",
       "      <td>4000.000000</td>\n",
       "      <td>4000.000000</td>\n",
       "      <td>4000.000000</td>\n",
       "      <td>4000.000000</td>\n",
       "      <td>4000.000000</td>\n",
       "      <td>4000.000000</td>\n",
       "      <td>4000.000000</td>\n",
       "      <td>4000.000000</td>\n",
       "      <td>4000.000000</td>\n",
       "      <td>4000.000000</td>\n",
       "    </tr>\n",
       "    <tr>\n",
       "      <th>mean</th>\n",
       "      <td>0.510250</td>\n",
       "      <td>0.845250</td>\n",
       "      <td>0.486750</td>\n",
       "      <td>0.308500</td>\n",
       "      <td>0.903500</td>\n",
       "      <td>4.681250</td>\n",
       "      <td>0.412250</td>\n",
       "      <td>29.184250</td>\n",
       "      <td>146.943728</td>\n",
       "      <td>4.322750</td>\n",
       "      <td>3.724750</td>\n",
       "      <td>1.879020</td>\n",
       "      <td>1.767052</td>\n",
       "      <td>0.265250</td>\n",
       "    </tr>\n",
       "    <tr>\n",
       "      <th>std</th>\n",
       "      <td>0.499957</td>\n",
       "      <td>0.361711</td>\n",
       "      <td>0.499887</td>\n",
       "      <td>0.461932</td>\n",
       "      <td>0.295313</td>\n",
       "      <td>4.549706</td>\n",
       "      <td>0.492301</td>\n",
       "      <td>3.258367</td>\n",
       "      <td>96.355602</td>\n",
       "      <td>4.191297</td>\n",
       "      <td>3.749267</td>\n",
       "      <td>0.972245</td>\n",
       "      <td>1.052906</td>\n",
       "      <td>0.441521</td>\n",
       "    </tr>\n",
       "    <tr>\n",
       "      <th>min</th>\n",
       "      <td>0.000000</td>\n",
       "      <td>0.000000</td>\n",
       "      <td>0.000000</td>\n",
       "      <td>0.000000</td>\n",
       "      <td>0.000000</td>\n",
       "      <td>1.000000</td>\n",
       "      <td>0.000000</td>\n",
       "      <td>18.000000</td>\n",
       "      <td>0.148205</td>\n",
       "      <td>1.000000</td>\n",
       "      <td>0.000000</td>\n",
       "      <td>0.000000</td>\n",
       "      <td>0.000000</td>\n",
       "      <td>0.000000</td>\n",
       "    </tr>\n",
       "    <tr>\n",
       "      <th>25%</th>\n",
       "      <td>0.000000</td>\n",
       "      <td>1.000000</td>\n",
       "      <td>0.000000</td>\n",
       "      <td>0.000000</td>\n",
       "      <td>1.000000</td>\n",
       "      <td>1.000000</td>\n",
       "      <td>0.000000</td>\n",
       "      <td>27.000000</td>\n",
       "      <td>68.868830</td>\n",
       "      <td>1.000000</td>\n",
       "      <td>1.000000</td>\n",
       "      <td>1.180875</td>\n",
       "      <td>0.963003</td>\n",
       "      <td>0.000000</td>\n",
       "    </tr>\n",
       "    <tr>\n",
       "      <th>50%</th>\n",
       "      <td>1.000000</td>\n",
       "      <td>1.000000</td>\n",
       "      <td>0.000000</td>\n",
       "      <td>0.000000</td>\n",
       "      <td>1.000000</td>\n",
       "      <td>1.000000</td>\n",
       "      <td>0.000000</td>\n",
       "      <td>29.000000</td>\n",
       "      <td>136.220159</td>\n",
       "      <td>1.000000</td>\n",
       "      <td>3.000000</td>\n",
       "      <td>1.832768</td>\n",
       "      <td>1.719574</td>\n",
       "      <td>0.000000</td>\n",
       "    </tr>\n",
       "    <tr>\n",
       "      <th>75%</th>\n",
       "      <td>1.000000</td>\n",
       "      <td>1.000000</td>\n",
       "      <td>1.000000</td>\n",
       "      <td>1.000000</td>\n",
       "      <td>1.000000</td>\n",
       "      <td>6.000000</td>\n",
       "      <td>1.000000</td>\n",
       "      <td>31.000000</td>\n",
       "      <td>210.949625</td>\n",
       "      <td>6.000000</td>\n",
       "      <td>5.000000</td>\n",
       "      <td>2.536078</td>\n",
       "      <td>2.510336</td>\n",
       "      <td>1.000000</td>\n",
       "    </tr>\n",
       "    <tr>\n",
       "      <th>max</th>\n",
       "      <td>1.000000</td>\n",
       "      <td>1.000000</td>\n",
       "      <td>1.000000</td>\n",
       "      <td>1.000000</td>\n",
       "      <td>1.000000</td>\n",
       "      <td>12.000000</td>\n",
       "      <td>1.000000</td>\n",
       "      <td>41.000000</td>\n",
       "      <td>552.590740</td>\n",
       "      <td>12.000000</td>\n",
       "      <td>31.000000</td>\n",
       "      <td>6.023668</td>\n",
       "      <td>6.146783</td>\n",
       "      <td>1.000000</td>\n",
       "    </tr>\n",
       "  </tbody>\n",
       "</table>\n",
       "</div>"
      ],
      "text/plain": [
       "            gender  Near_Location      Partner  Promo_friends        Phone  \\\n",
       "count  4000.000000    4000.000000  4000.000000    4000.000000  4000.000000   \n",
       "mean      0.510250       0.845250     0.486750       0.308500     0.903500   \n",
       "std       0.499957       0.361711     0.499887       0.461932     0.295313   \n",
       "min       0.000000       0.000000     0.000000       0.000000     0.000000   \n",
       "25%       0.000000       1.000000     0.000000       0.000000     1.000000   \n",
       "50%       1.000000       1.000000     0.000000       0.000000     1.000000   \n",
       "75%       1.000000       1.000000     1.000000       1.000000     1.000000   \n",
       "max       1.000000       1.000000     1.000000       1.000000     1.000000   \n",
       "\n",
       "       Contract_period  Group_visits          Age  \\\n",
       "count      4000.000000   4000.000000  4000.000000   \n",
       "mean          4.681250      0.412250    29.184250   \n",
       "std           4.549706      0.492301     3.258367   \n",
       "min           1.000000      0.000000    18.000000   \n",
       "25%           1.000000      0.000000    27.000000   \n",
       "50%           1.000000      0.000000    29.000000   \n",
       "75%           6.000000      1.000000    31.000000   \n",
       "max          12.000000      1.000000    41.000000   \n",
       "\n",
       "       Avg_additional_charges_total  Month_to_end_contract     Lifetime  \\\n",
       "count                   4000.000000            4000.000000  4000.000000   \n",
       "mean                     146.943728               4.322750     3.724750   \n",
       "std                       96.355602               4.191297     3.749267   \n",
       "min                        0.148205               1.000000     0.000000   \n",
       "25%                       68.868830               1.000000     1.000000   \n",
       "50%                      136.220159               1.000000     3.000000   \n",
       "75%                      210.949625               6.000000     5.000000   \n",
       "max                      552.590740              12.000000    31.000000   \n",
       "\n",
       "       Avg_class_frequency_total  Avg_class_frequency_current_month  \\\n",
       "count                4000.000000                        4000.000000   \n",
       "mean                    1.879020                           1.767052   \n",
       "std                     0.972245                           1.052906   \n",
       "min                     0.000000                           0.000000   \n",
       "25%                     1.180875                           0.963003   \n",
       "50%                     1.832768                           1.719574   \n",
       "75%                     2.536078                           2.510336   \n",
       "max                     6.023668                           6.146783   \n",
       "\n",
       "             Churn  \n",
       "count  4000.000000  \n",
       "mean      0.265250  \n",
       "std       0.441521  \n",
       "min       0.000000  \n",
       "25%       0.000000  \n",
       "50%       0.000000  \n",
       "75%       1.000000  \n",
       "max       1.000000  "
      ]
     },
     "execution_count": 7,
     "metadata": {},
     "output_type": "execute_result"
    }
   ],
   "source": [
    "data.describe()"
   ]
  },
  {
   "cell_type": "markdown",
   "metadata": {},
   "source": [
    "### Посмотрите на средние значения признаков в двух группах — тех, кто ушел в отток и тех, кто остался"
   ]
  },
  {
   "cell_type": "code",
   "execution_count": 8,
   "metadata": {
    "scrolled": true
   },
   "outputs": [
    {
     "data": {
      "text/html": [
       "<div>\n",
       "<style scoped>\n",
       "    .dataframe tbody tr th:only-of-type {\n",
       "        vertical-align: middle;\n",
       "    }\n",
       "\n",
       "    .dataframe tbody tr th {\n",
       "        vertical-align: top;\n",
       "    }\n",
       "\n",
       "    .dataframe thead th {\n",
       "        text-align: right;\n",
       "    }\n",
       "</style>\n",
       "<table border=\"1\" class=\"dataframe\">\n",
       "  <thead>\n",
       "    <tr style=\"text-align: right;\">\n",
       "      <th></th>\n",
       "      <th>gender</th>\n",
       "      <th>Near_Location</th>\n",
       "      <th>Partner</th>\n",
       "      <th>Promo_friends</th>\n",
       "      <th>Phone</th>\n",
       "      <th>Contract_period</th>\n",
       "      <th>Group_visits</th>\n",
       "      <th>Age</th>\n",
       "      <th>Avg_additional_charges_total</th>\n",
       "      <th>Month_to_end_contract</th>\n",
       "      <th>Lifetime</th>\n",
       "      <th>Avg_class_frequency_total</th>\n",
       "      <th>Avg_class_frequency_current_month</th>\n",
       "    </tr>\n",
       "    <tr>\n",
       "      <th>Churn</th>\n",
       "      <th></th>\n",
       "      <th></th>\n",
       "      <th></th>\n",
       "      <th></th>\n",
       "      <th></th>\n",
       "      <th></th>\n",
       "      <th></th>\n",
       "      <th></th>\n",
       "      <th></th>\n",
       "      <th></th>\n",
       "      <th></th>\n",
       "      <th></th>\n",
       "      <th></th>\n",
       "    </tr>\n",
       "  </thead>\n",
       "  <tbody>\n",
       "    <tr>\n",
       "      <th>0</th>\n",
       "      <td>0.510037</td>\n",
       "      <td>0.873086</td>\n",
       "      <td>0.534195</td>\n",
       "      <td>0.353522</td>\n",
       "      <td>0.903709</td>\n",
       "      <td>5.747193</td>\n",
       "      <td>0.464103</td>\n",
       "      <td>29.976523</td>\n",
       "      <td>158.445715</td>\n",
       "      <td>5.283089</td>\n",
       "      <td>4.711807</td>\n",
       "      <td>2.024876</td>\n",
       "      <td>2.027882</td>\n",
       "    </tr>\n",
       "    <tr>\n",
       "      <th>1</th>\n",
       "      <td>0.510839</td>\n",
       "      <td>0.768143</td>\n",
       "      <td>0.355325</td>\n",
       "      <td>0.183789</td>\n",
       "      <td>0.902922</td>\n",
       "      <td>1.728558</td>\n",
       "      <td>0.268615</td>\n",
       "      <td>26.989632</td>\n",
       "      <td>115.082899</td>\n",
       "      <td>1.662582</td>\n",
       "      <td>0.990575</td>\n",
       "      <td>1.474995</td>\n",
       "      <td>1.044546</td>\n",
       "    </tr>\n",
       "  </tbody>\n",
       "</table>\n",
       "</div>"
      ],
      "text/plain": [
       "         gender  Near_Location   Partner  Promo_friends     Phone  \\\n",
       "Churn                                                               \n",
       "0      0.510037       0.873086  0.534195       0.353522  0.903709   \n",
       "1      0.510839       0.768143  0.355325       0.183789  0.902922   \n",
       "\n",
       "       Contract_period  Group_visits        Age  Avg_additional_charges_total  \\\n",
       "Churn                                                                           \n",
       "0             5.747193      0.464103  29.976523                    158.445715   \n",
       "1             1.728558      0.268615  26.989632                    115.082899   \n",
       "\n",
       "       Month_to_end_contract  Lifetime  Avg_class_frequency_total  \\\n",
       "Churn                                                               \n",
       "0                   5.283089  4.711807                   2.024876   \n",
       "1                   1.662582  0.990575                   1.474995   \n",
       "\n",
       "       Avg_class_frequency_current_month  \n",
       "Churn                                     \n",
       "0                               2.027882  \n",
       "1                               1.044546  "
      ]
     },
     "metadata": {},
     "output_type": "display_data"
    }
   ],
   "source": [
    "display(data.groupby('Churn').mean())"
   ]
  },
  {
   "cell_type": "markdown",
   "metadata": {},
   "source": [
    "1 - ушли, 0 остались"
   ]
  },
  {
   "cell_type": "markdown",
   "metadata": {},
   "source": [
    "Из данных видно не совсем понятно что обозначают не котрые данные например (Promo_friends)факт первоначальной записи в рамках акции «приведи друга», 0,18 это сколько осталось или сколько ушло? тоже самое сотрудник компании-партнёра клуба(Partner),и количество посещений за месяц (Group_visits),а вот по остальным пунктам понятнее чаще уходят с небольшим абонементом по данным среднее значение 1-2 месяца как для окончания абонемента так и на весь срок, в возрастной категории чаще идут в отток в возрасте 26-27 лет, время посещения наглядно показывает что те кто меньше посещали (Lifetime) в среднем 1 час чаще уходят, и чаще уходят кто не пользуются слугами допльнительного характера кафе, спорттовары и прочее, клинты уходящие в отток имеют показатели на уровне 115 осатльные показатели не сильно отлоичаются друг от друга типа как с телефоном который оставил клиент."
   ]
  },
  {
   "cell_type": "markdown",
   "metadata": {},
   "source": [
    "### Постройте столбчатые гистограммы и распределения признаков для тех, кто ушёл (отток) и тех, кто остался (не попали в отток);"
   ]
  },
  {
   "cell_type": "code",
   "execution_count": 9,
   "metadata": {},
   "outputs": [
    {
     "data": {
      "image/png": "[encoded data removed]",
      "text/plain": [
       "<Figure size 432x288 with 1 Axes>"
      ]
     },
     "metadata": {
      "needs_background": "light"
     },
     "output_type": "display_data"
    },
    {
     "data": {
      "image/png": "[encoded data removed]",
      "text/plain": [
       "<Figure size 432x288 with 1 Axes>"
      ]
     },
     "metadata": {
      "needs_background": "light"
     },
     "output_type": "display_data"
    },
    {
     "data": {
      "image/png": "[encoded data removed]",
      "text/plain": [
       "<Figure size 432x288 with 1 Axes>"
      ]
     },
     "metadata": {
      "needs_background": "light"
     },
     "output_type": "display_data"
    },
    {
     "data": {
      "image/png": "[encoded data removed]",
      "text/plain": [
       "<Figure size 432x288 with 1 Axes>"
      ]
     },
     "metadata": {
      "needs_background": "light"
     },
     "output_type": "display_data"
    },
    {
     "data": {
      "image/png": "[encoded data removed]",
      "text/plain": [
       "<Figure size 432x288 with 1 Axes>"
      ]
     },
     "metadata": {
      "needs_background": "light"
     },
     "output_type": "display_data"
    },
    {
     "data": {
      "image/png": "[encoded data removed]",
      "text/plain": [
       "<Figure size 432x288 with 1 Axes>"
      ]
     },
     "metadata": {
      "needs_background": "light"
     },
     "output_type": "display_data"
    },
    {
     "data": {
      "image/png": "[encoded data removed]",
      "text/plain": [
       "<Figure size 432x288 with 1 Axes>"
      ]
     },
     "metadata": {
      "needs_background": "light"
     },
     "output_type": "display_data"
    },
    {
     "data": {
      "image/png": "[encoded data removed]",
      "text/plain": [
       "<Figure size 432x288 with 1 Axes>"
      ]
     },
     "metadata": {
      "needs_background": "light"
     },
     "output_type": "display_data"
    },
    {
     "data": {
      "image/png": "[encoded data removed]",
      "text/plain": [
       "<Figure size 432x288 with 1 Axes>"
      ]
     },
     "metadata": {
      "needs_background": "light"
     },
     "output_type": "display_data"
    },
    {
     "data": {
      "image/png": "[encoded data removed]",
      "text/plain": [
       "<Figure size 432x288 with 1 Axes>"
      ]
     },
     "metadata": {
      "needs_background": "light"
     },
     "output_type": "display_data"
    },
    {
     "data": {
      "image/png": "[encoded data removed]",
      "text/plain": [
       "<Figure size 432x288 with 1 Axes>"
      ]
     },
     "metadata": {
      "needs_background": "light"
     },
     "output_type": "display_data"
    },
    {
     "data": {
      "image/png": "[encoded data removed]",
      "text/plain": [
       "<Figure size 432x288 with 1 Axes>"
      ]
     },
     "metadata": {
      "needs_background": "light"
     },
     "output_type": "display_data"
    },
    {
     "data": {
      "image/png": "[encoded data removed]",
      "text/plain": [
       "<Figure size 432x288 with 1 Axes>"
      ]
     },
     "metadata": {
      "needs_background": "light"
     },
     "output_type": "display_data"
    },
    {
     "data": {
      "image/png": "[encoded data removed]",
      "text/plain": [
       "<Figure size 432x288 with 1 Axes>"
      ]
     },
     "metadata": {
      "needs_background": "light"
     },
     "output_type": "display_data"
    }
   ],
   "source": [
    "zuruck = data.query(\"Churn == 0\")\n",
    "columns = data.columns\n",
    "for i in columns:\n",
    "    sns.histplot(zuruck[i])\n",
    "    plt.show()"
   ]
  },
  {
   "cell_type": "code",
   "execution_count": 10,
   "metadata": {},
   "outputs": [
    {
     "data": {
      "image/png": "[encoded data removed]",
      "text/plain": [
       "<Figure size 432x288 with 1 Axes>"
      ]
     },
     "metadata": {
      "needs_background": "light"
     },
     "output_type": "display_data"
    },
    {
     "data": {
      "image/png": "[encoded data removed]",
      "text/plain": [
       "<Figure size 432x288 with 1 Axes>"
      ]
     },
     "metadata": {
      "needs_background": "light"
     },
     "output_type": "display_data"
    },
    {
     "data": {
      "image/png": "[encoded data removed]",
      "text/plain": [
       "<Figure size 432x288 with 1 Axes>"
      ]
     },
     "metadata": {
      "needs_background": "light"
     },
     "output_type": "display_data"
    },
    {
     "data": {
      "image/png": "[encoded data removed]",
      "text/plain": [
       "<Figure size 432x288 with 1 Axes>"
      ]
     },
     "metadata": {
      "needs_background": "light"
     },
     "output_type": "display_data"
    },
    {
     "data": {
      "image/png": "[encoded data removed]",
      "text/plain": [
       "<Figure size 432x288 with 1 Axes>"
      ]
     },
     "metadata": {
      "needs_background": "light"
     },
     "output_type": "display_data"
    },
    {
     "data": {
      "image/png": "[encoded data removed]",
      "text/plain": [
       "<Figure size 432x288 with 1 Axes>"
      ]
     },
     "metadata": {
      "needs_background": "light"
     },
     "output_type": "display_data"
    },
    {
     "data": {
      "image/png": "[encoded data removed]",
      "text/plain": [
       "<Figure size 432x288 with 1 Axes>"
      ]
     },
     "metadata": {
      "needs_background": "light"
     },
     "output_type": "display_data"
    },
    {
     "data": {
      "image/png": "[encoded data removed]",
      "text/plain": [
       "<Figure size 432x288 with 1 Axes>"
      ]
     },
     "metadata": {
      "needs_background": "light"
     },
     "output_type": "display_data"
    },
    {
     "data": {
      "image/png": "[encoded data removed]",
      "text/plain": [
       "<Figure size 432x288 with 1 Axes>"
      ]
     },
     "metadata": {
      "needs_background": "light"
     },
     "output_type": "display_data"
    },
    {
     "data": {
      "image/png": "[encoded data removed]",
      "text/plain": [
       "<Figure size 432x288 with 1 Axes>"
      ]
     },
     "metadata": {
      "needs_background": "light"
     },
     "output_type": "display_data"
    },
    {
     "data": {
      "image/png": "[encoded data removed]",
      "text/plain": [
       "<Figure size 432x288 with 1 Axes>"
      ]
     },
     "metadata": {
      "needs_background": "light"
     },
     "output_type": "display_data"
    },
    {
     "data": {
      "image/png": "[encoded data removed]",
      "text/plain": [
       "<Figure size 432x288 with 1 Axes>"
      ]
     },
     "metadata": {
      "needs_background": "light"
     },
     "output_type": "display_data"
    },
    {
     "data": {
      "image/png": "[encoded data removed]",
      "text/plain": [
       "<Figure size 432x288 with 1 Axes>"
      ]
     },
     "metadata": {
      "needs_background": "light"
     },
     "output_type": "display_data"
    },
    {
     "data": {
      "image/png": "[encoded data removed]",
      "text/plain": [
       "<Figure size 432x288 with 1 Axes>"
      ]
     },
     "metadata": {
      "needs_background": "light"
     },
     "output_type": "display_data"
    }
   ],
   "source": [
    "bleiben = data.query(\"Churn == 1\")\n",
    "\n",
    "for i in columns:\n",
    "    sns.histplot(bleiben[i])\n",
    "    plt.show()"
   ]
  },
  {
   "cell_type": "markdown",
   "metadata": {},
   "source": [
    "По гистрограммам лучше видно возможные причины отсева клиентов - уходили чаще изза дальнего расположения фитнес центра более 800 случаев,есть отличия в партнерских программах без нее чаще уходили, факт первоначальной записи в рамках акции «приведи друга» по этой программе чаще уходили кто пришел по программе, попробовал и ушел.\n",
    "С абонементом на 1-2 месяца чаще уходили,как и в возрасте 25-27 лет, по выручке те кто меньше тратил те раньше и уходили,при 1-2 месяцев до окончания абонемента, при 1-2 посещениях в месяц. В целом гитограммы более показательны для выявления оттока клиентов."
   ]
  },
  {
   "cell_type": "markdown",
   "metadata": {},
   "source": [
    "### Постройте матрицу корреляций и отобразите её"
   ]
  },
  {
   "cell_type": "code",
   "execution_count": 11,
   "metadata": {},
   "outputs": [],
   "source": [
    "cm = data.corr()"
   ]
  },
  {
   "cell_type": "code",
   "execution_count": 12,
   "metadata": {},
   "outputs": [
    {
     "data": {
      "image/png": "[encoded data removed]",
      "text/plain": [
       "<Figure size 1008x1008 with 2 Axes>"
      ]
     },
     "metadata": {
      "needs_background": "light"
     },
     "output_type": "display_data"
    }
   ],
   "source": [
    "plt.figure(figsize=(14, 14))\n",
    "sns.heatmap(cm, annot=True, fmt='0.02',square=True) \n",
    "plt.show()"
   ]
  },
  {
   "cell_type": "markdown",
   "metadata": {},
   "source": [
    "Что видно из матрицы - кореляция многих признаков не высокая, ест пара моентов на уровне 0,45 у партнерской программы и акции приведи друга, по абонементу и партнерской программе кореляция - 0,31 и 0,29 по окончанию абонемента, остальные показатели не выокие, что касается оттока клиентов то отрицательная кореляция самая высокая видна на категориях - возраст (-0,4), время обращения с момента обращения в фитнес центр (-0,44) и время абонемента(-0,39) и расходы по приобретению спорттоваров и кафе при фитнес центре (-0,41), кроме последнего в приницпе ожидаемые показатели по оттоку клиентов, но что конкретно влияет увидем дальше."
   ]
  },
  {
   "cell_type": "markdown",
   "metadata": {},
   "source": [
    "### Вывод - пропусков нет, название столбцов оставил как есть, по матрице и гистрогаммам видны основые показатели оттока клиентов а это абнемент а точнее его окончание и срок, пользование допольнительными услугами фитнес центра т.е. сопрт товары, масажный салон и прочее, возраст, партнерская программа, и время обращения после первого визита. По данным - категорийных данных таблица не имеет, данныые готовы для построения модели."
   ]
  },
  {
   "cell_type": "markdown",
   "metadata": {},
   "source": [
    "## Шаг 3. Постройте модель прогнозирования оттока клиентов- Постройте модель бинарной классификации клиентов, где целевой признак — факт оттока клиента в следующем месяце:"
   ]
  },
  {
   "cell_type": "markdown",
   "metadata": {},
   "source": [
    "### Разбейте данные на обучающую и валидационную выборку функцией train_test_split()."
   ]
  },
  {
   "cell_type": "code",
   "execution_count": 13,
   "metadata": {},
   "outputs": [
    {
     "data": {
      "text/plain": [
       "(4000, 14)"
      ]
     },
     "metadata": {},
     "output_type": "display_data"
    }
   ],
   "source": [
    "#Размер узнаем\n",
    "display(data.shape)"
   ]
  },
  {
   "cell_type": "markdown",
   "metadata": {},
   "source": [
    "### Разбивка"
   ]
  },
  {
   "cell_type": "code",
   "execution_count": 14,
   "metadata": {},
   "outputs": [],
   "source": [
    "# разделим наши данные на признаки (матрица X) и целевую переменную (y)\n",
    "X = data.drop(columns = ['Churn'])\n",
    "y = data['Churn']"
   ]
  },
  {
   "cell_type": "code",
   "execution_count": 15,
   "metadata": {},
   "outputs": [],
   "source": [
    "# разделяем модель на обучающую и валидационную выборки\n",
    "X_train, X_test, y_train, y_test = train_test_split(X, y, test_size=0.2,random_state=0)"
   ]
  },
  {
   "cell_type": "markdown",
   "metadata": {},
   "source": [
    "### Обучите модель на train-выборке двумя способами:"
   ]
  },
  {
   "cell_type": "markdown",
   "metadata": {},
   "source": [
    "#### логистической регрессией"
   ]
  },
  {
   "cell_type": "code",
   "execution_count": 16,
   "metadata": {},
   "outputs": [],
   "source": [
    "# задайте алгоритм для нашей модели\n",
    "model = LogisticRegression(solver='liblinear')"
   ]
  },
  {
   "cell_type": "code",
   "execution_count": 17,
   "metadata": {},
   "outputs": [
    {
     "data": {
      "text/plain": [
       "LogisticRegression(solver='liblinear')"
      ]
     },
     "execution_count": 17,
     "metadata": {},
     "output_type": "execute_result"
    }
   ],
   "source": [
    "# обучите модель\n",
    "model.fit(X_train, y_train)"
   ]
  },
  {
   "cell_type": "code",
   "execution_count": 18,
   "metadata": {},
   "outputs": [],
   "source": [
    "# воспользуйтесь уже обученной моделью, чтобы сделать прогнозы\n",
    "predictions = model.predict(X_test)\n",
    "probabilities = model.predict_proba(X_test)[:,1]"
   ]
  },
  {
   "cell_type": "markdown",
   "metadata": {},
   "source": [
    "#### случайным лесом"
   ]
  },
  {
   "cell_type": "code",
   "execution_count": 21,
   "metadata": {},
   "outputs": [],
   "source": [
    "# зададим алгоритм для новой модели на основе алгоритма случайного леса\n",
    "rf_model = RandomForestClassifier(n_estimators = 100,random_state=0)"
   ]
  },
  {
   "cell_type": "code",
   "execution_count": 22,
   "metadata": {},
   "outputs": [
    {
     "data": {
      "text/plain": [
       "RandomForestClassifier(random_state=0)"
      ]
     },
     "execution_count": 22,
     "metadata": {},
     "output_type": "execute_result"
    }
   ],
   "source": [
    "# обучим модель случайного леса\n",
    "rf_model.fit(X_train, y_train)"
   ]
  },
  {
   "cell_type": "code",
   "execution_count": 23,
   "metadata": {},
   "outputs": [],
   "source": [
    "# воспользуемся уже обученной моделью, чтобы сделать прогнозы\n",
    "rf_predictions = rf_model.predict(X_test)\n",
    "rf_probabilities = rf_model.predict_proba(X_test)[:, 1]"
   ]
  },
  {
   "cell_type": "code",
   "execution_count": 24,
   "metadata": {},
   "outputs": [],
   "source": [
    "#display(rf_predictions)"
   ]
  },
  {
   "cell_type": "code",
   "execution_count": 25,
   "metadata": {},
   "outputs": [],
   "source": [
    "#display(rf_probabilities)"
   ]
  },
  {
   "cell_type": "markdown",
   "metadata": {},
   "source": [
    "#### Оцените метрики accuracy, precision и recall для обеих моделей на валидационной выборке. Сравните по ним модели. Какая модель показала себя лучше на основании метрик?"
   ]
  },
  {
   "cell_type": "code",
   "execution_count": 26,
   "metadata": {},
   "outputs": [],
   "source": [
    "def print_all_metrics(y_true, y_pred, y_proba, title='Метрики классификации'):\n",
    "    print(title)\n",
    "    print('\\tAccuracy: {:.2f}'.format(accuracy_score(y_true, y_pred)))\n",
    "    print('\\tPrecision: {:.2f}'.format(precision_score(y_true, y_pred)))\n",
    "    print('\\tRecall: {:.2f}'.format(recall_score(y_true, y_pred)))"
   ]
  },
  {
   "cell_type": "code",
   "execution_count": 27,
   "metadata": {},
   "outputs": [
    {
     "name": "stdout",
     "output_type": "stream",
     "text": [
      "Метрики для модели логистической регрессии:\n",
      "\tAccuracy: 0.93\n",
      "\tPrecision: 0.86\n",
      "\tRecall: 0.83\n"
     ]
    }
   ],
   "source": [
    "print_all_metrics(\n",
    "    y_test,\n",
    "    predictions,\n",
    "    probabilities,\n",
    "    title='Метрики для модели логистической регрессии:',\n",
    ")"
   ]
  },
  {
   "cell_type": "code",
   "execution_count": 28,
   "metadata": {},
   "outputs": [
    {
     "name": "stdout",
     "output_type": "stream",
     "text": [
      "Метрики для модели случайного леса:\n",
      "\tAccuracy: 0.92\n",
      "\tPrecision: 0.84\n",
      "\tRecall: 0.82\n"
     ]
    }
   ],
   "source": [
    "print_all_metrics(\n",
    "    y_test,\n",
    "    rf_predictions,\n",
    "    rf_probabilities,\n",
    "    title='Метрики для модели случайного леса:'\n",
    ")"
   ]
  },
  {
   "cell_type": "markdown",
   "metadata": {},
   "source": [
    "### Вывод - Accuracy - доля правильных ответов у логистической регрессии -0,93, у модели случайного леса - 0,92; Precision - Точность -  у 1го - 0,86, у 2го - 0,84, полнота(Recall) - 1-й 0,83, 2-й -0,82. Показатели очень схожие, лишь не большой первес имеет логистическая регрессия."
   ]
  },
  {
   "cell_type": "markdown",
   "metadata": {},
   "source": [
    "## Шаг 4. Сделайте кластеризацию клиентов"
   ]
  },
  {
   "cell_type": "markdown",
   "metadata": {},
   "source": [
    "### Стандартизируйте данные"
   ]
  },
  {
   "cell_type": "code",
   "execution_count": 29,
   "metadata": {},
   "outputs": [],
   "source": [
    "sc = StandardScaler()\n",
    "x_sc = sc.fit_transform(data)"
   ]
  },
  {
   "cell_type": "markdown",
   "metadata": {},
   "source": [
    "### Постройте матрицу расстояний функцией "
   ]
  },
  {
   "cell_type": "code",
   "execution_count": 30,
   "metadata": {},
   "outputs": [],
   "source": [
    "linked = linkage(x_sc, method = 'ward')"
   ]
  },
  {
   "cell_type": "code",
   "execution_count": 31,
   "metadata": {},
   "outputs": [
    {
     "data": {
      "image/png": "[encoded data removed]",
      "text/plain": [
       "<Figure size 1080x720 with 1 Axes>"
      ]
     },
     "metadata": {
      "needs_background": "light"
     },
     "output_type": "display_data"
    }
   ],
   "source": [
    "plt.figure(figsize=(15, 10))  \n",
    "dendrogram(linked, orientation='top')\n",
    "plt.title('Матрица растаяния')\n",
    "plt.show() "
   ]
  },
  {
   "cell_type": "markdown",
   "metadata": {},
   "source": [
    "По дендограмме можно выделить 5  кластеров,на уровне от 60 до 80."
   ]
  },
  {
   "cell_type": "markdown",
   "metadata": {},
   "source": [
    "### Обучите модель кластеризации на основании алгоритма K-Means и спрогнозируйте кластеры клиентов. Договоримся за число кластеров принять n=5, чтобы ваши результаты можно было сравнивать с результатами остальных студентов. Однако, конечно, в жизни никто не скажет вам правильный ответ, и решение остаётся за вами (на основании изучения графика из предыдущего пункта)."
   ]
  },
  {
   "cell_type": "code",
   "execution_count": 32,
   "metadata": {},
   "outputs": [],
   "source": [
    "# задаём модель k_means с числом кластеров 5 и фиксируем значение random_state\n",
    "km = KMeans(n_clusters=5, random_state=0)"
   ]
  },
  {
   "cell_type": "code",
   "execution_count": 33,
   "metadata": {},
   "outputs": [],
   "source": [
    "# прогнозируем кластеры для наблюдений (алгоритм присваивает им номера от 0 до 4)\n",
    "labels = km.fit_predict(x_sc)"
   ]
  },
  {
   "cell_type": "code",
   "execution_count": 34,
   "metadata": {},
   "outputs": [],
   "source": [
    "# сохраняем метки кластера в поле нашего датасета\n",
    "data['cluster'] = labels"
   ]
  },
  {
   "cell_type": "markdown",
   "metadata": {},
   "source": [
    "### Посмотрите на средние значения признаков для кластеров. Можно ли сразу что-то заметить?"
   ]
  },
  {
   "cell_type": "code",
   "execution_count": 35,
   "metadata": {},
   "outputs": [
    {
     "data": {
      "text/html": [
       "<div>\n",
       "<style scoped>\n",
       "    .dataframe tbody tr th:only-of-type {\n",
       "        vertical-align: middle;\n",
       "    }\n",
       "\n",
       "    .dataframe tbody tr th {\n",
       "        vertical-align: top;\n",
       "    }\n",
       "\n",
       "    .dataframe thead th {\n",
       "        text-align: right;\n",
       "    }\n",
       "</style>\n",
       "<table border=\"1\" class=\"dataframe\">\n",
       "  <thead>\n",
       "    <tr style=\"text-align: right;\">\n",
       "      <th></th>\n",
       "      <th>gender</th>\n",
       "      <th>Near_Location</th>\n",
       "      <th>Partner</th>\n",
       "      <th>Promo_friends</th>\n",
       "      <th>Phone</th>\n",
       "      <th>Contract_period</th>\n",
       "      <th>Group_visits</th>\n",
       "      <th>Age</th>\n",
       "      <th>Avg_additional_charges_total</th>\n",
       "      <th>Month_to_end_contract</th>\n",
       "      <th>Lifetime</th>\n",
       "      <th>Avg_class_frequency_total</th>\n",
       "      <th>Avg_class_frequency_current_month</th>\n",
       "      <th>Churn</th>\n",
       "    </tr>\n",
       "    <tr>\n",
       "      <th>cluster</th>\n",
       "      <th></th>\n",
       "      <th></th>\n",
       "      <th></th>\n",
       "      <th></th>\n",
       "      <th></th>\n",
       "      <th></th>\n",
       "      <th></th>\n",
       "      <th></th>\n",
       "      <th></th>\n",
       "      <th></th>\n",
       "      <th></th>\n",
       "      <th></th>\n",
       "      <th></th>\n",
       "      <th></th>\n",
       "    </tr>\n",
       "  </thead>\n",
       "  <tbody>\n",
       "    <tr>\n",
       "      <th>0</th>\n",
       "      <td>0.503676</td>\n",
       "      <td>0.000000</td>\n",
       "      <td>0.459559</td>\n",
       "      <td>0.075368</td>\n",
       "      <td>0.917279</td>\n",
       "      <td>2.069853</td>\n",
       "      <td>0.211397</td>\n",
       "      <td>28.522059</td>\n",
       "      <td>132.741216</td>\n",
       "      <td>1.950368</td>\n",
       "      <td>2.757353</td>\n",
       "      <td>1.706629</td>\n",
       "      <td>1.515890</td>\n",
       "      <td>0.450368</td>\n",
       "    </tr>\n",
       "    <tr>\n",
       "      <th>1</th>\n",
       "      <td>0.492829</td>\n",
       "      <td>0.936115</td>\n",
       "      <td>0.764016</td>\n",
       "      <td>0.534550</td>\n",
       "      <td>0.919166</td>\n",
       "      <td>10.447197</td>\n",
       "      <td>0.516297</td>\n",
       "      <td>29.962190</td>\n",
       "      <td>161.853561</td>\n",
       "      <td>9.477184</td>\n",
       "      <td>4.833116</td>\n",
       "      <td>2.788103</td>\n",
       "      <td>2.786919</td>\n",
       "      <td>0.007823</td>\n",
       "    </tr>\n",
       "    <tr>\n",
       "      <th>2</th>\n",
       "      <td>0.507917</td>\n",
       "      <td>1.000000</td>\n",
       "      <td>0.323995</td>\n",
       "      <td>0.213155</td>\n",
       "      <td>0.903776</td>\n",
       "      <td>1.546894</td>\n",
       "      <td>0.287454</td>\n",
       "      <td>26.926918</td>\n",
       "      <td>113.173051</td>\n",
       "      <td>1.500609</td>\n",
       "      <td>1.031669</td>\n",
       "      <td>1.449720</td>\n",
       "      <td>1.037592</td>\n",
       "      <td>0.961023</td>\n",
       "    </tr>\n",
       "    <tr>\n",
       "      <th>3</th>\n",
       "      <td>0.521186</td>\n",
       "      <td>0.996610</td>\n",
       "      <td>0.282203</td>\n",
       "      <td>0.208475</td>\n",
       "      <td>0.904237</td>\n",
       "      <td>1.882203</td>\n",
       "      <td>0.452542</td>\n",
       "      <td>30.237288</td>\n",
       "      <td>157.988625</td>\n",
       "      <td>1.794915</td>\n",
       "      <td>4.923729</td>\n",
       "      <td>2.203432</td>\n",
       "      <td>2.207359</td>\n",
       "      <td>0.003390</td>\n",
       "    </tr>\n",
       "    <tr>\n",
       "      <th>4</th>\n",
       "      <td>0.518895</td>\n",
       "      <td>0.968023</td>\n",
       "      <td>0.744186</td>\n",
       "      <td>0.526163</td>\n",
       "      <td>0.873547</td>\n",
       "      <td>8.859012</td>\n",
       "      <td>0.534884</td>\n",
       "      <td>29.728198</td>\n",
       "      <td>162.907495</td>\n",
       "      <td>8.155523</td>\n",
       "      <td>4.411337</td>\n",
       "      <td>0.957744</td>\n",
       "      <td>0.943967</td>\n",
       "      <td>0.024709</td>\n",
       "    </tr>\n",
       "  </tbody>\n",
       "</table>\n",
       "</div>"
      ],
      "text/plain": [
       "           gender  Near_Location   Partner  Promo_friends     Phone  \\\n",
       "cluster                                                               \n",
       "0        0.503676       0.000000  0.459559       0.075368  0.917279   \n",
       "1        0.492829       0.936115  0.764016       0.534550  0.919166   \n",
       "2        0.507917       1.000000  0.323995       0.213155  0.903776   \n",
       "3        0.521186       0.996610  0.282203       0.208475  0.904237   \n",
       "4        0.518895       0.968023  0.744186       0.526163  0.873547   \n",
       "\n",
       "         Contract_period  Group_visits        Age  \\\n",
       "cluster                                             \n",
       "0               2.069853      0.211397  28.522059   \n",
       "1              10.447197      0.516297  29.962190   \n",
       "2               1.546894      0.287454  26.926918   \n",
       "3               1.882203      0.452542  30.237288   \n",
       "4               8.859012      0.534884  29.728198   \n",
       "\n",
       "         Avg_additional_charges_total  Month_to_end_contract  Lifetime  \\\n",
       "cluster                                                                  \n",
       "0                          132.741216               1.950368  2.757353   \n",
       "1                          161.853561               9.477184  4.833116   \n",
       "2                          113.173051               1.500609  1.031669   \n",
       "3                          157.988625               1.794915  4.923729   \n",
       "4                          162.907495               8.155523  4.411337   \n",
       "\n",
       "         Avg_class_frequency_total  Avg_class_frequency_current_month  \\\n",
       "cluster                                                                 \n",
       "0                         1.706629                           1.515890   \n",
       "1                         2.788103                           2.786919   \n",
       "2                         1.449720                           1.037592   \n",
       "3                         2.203432                           2.207359   \n",
       "4                         0.957744                           0.943967   \n",
       "\n",
       "            Churn  \n",
       "cluster            \n",
       "0        0.450368  \n",
       "1        0.007823  \n",
       "2        0.961023  \n",
       "3        0.003390  \n",
       "4        0.024709  "
      ]
     },
     "metadata": {},
     "output_type": "display_data"
    }
   ],
   "source": [
    "# выводим статистику по средним значениям наших признаков по кластеру\n",
    "display(data.groupby('cluster').mean())"
   ]
  },
  {
   "cell_type": "markdown",
   "metadata": {},
   "source": [
    "Пройдемся по выделеным кластерам - \n",
    "- 0й кластер - все клиенты далеко живут, деление по сотрудникам деление примерно одинаковое 50/50, но вот по акции  пришло очень мало клиентов,почти все оставили свои телефоны, лишь еденицы не указали своих контактных данных, по средним значениям клиенты имеют 2 месячный абонемент общий срок и до оканчания срока, средний возраст 28 лет, средний затраты на услуги фитнес клуба 133 уе, и как вывод 45 % отток клиентов при средних показателях.\n",
    "- 1й кластер - пол, телефон, возраст такие же как и 0его кластера но с отличием в месте работы или места жительства = 0,9, показатель по акции ниже и = 0,53,но имеют абонемент на более дительный срок в среднем на 10 месяцев, траты на услуги самые высокие - 161 уе, и срок до окончания 9 меясцев, и как следствие самый высокий показатель по посещаемости.\n",
    "- 2й кластер - клиенты близко живут, мало по акции записалось и мало клиентов клуба, с небольшим абонементом 1-2 меясца, возраст 26-27 лет, и минимальные затраты на услуги - 113 уе, и небольшое посещение и как следствие самый большой отток клиентов в 96%\n",
    "- 3 й кластер - похож на 2 й но с разницей клиентов в озрасте 30 - 31 год, с высокими показателяями по услугам в фиитнес центра - 157 уе, и самый высокий показатель по посещаемости за неделю, и как следствие самый минимальный отток клиентов в 0,34%\n",
    "- 4й кластер - клиенты находятся чуть подальше 3 го и 2го, больше всего пришли по акции и много сотрудников, длинный абонемент 8-9 месяцев, и возраст 29-30,и затраты на улуги 162 уе, и часто ходят в среднем 4-5 в неделю, и в итоге отток в 2,3%"
   ]
  },
  {
   "cell_type": "code",
   "execution_count": 36,
   "metadata": {},
   "outputs": [
    {
     "data": {
      "text/html": [
       "<div>\n",
       "<style scoped>\n",
       "    .dataframe tbody tr th:only-of-type {\n",
       "        vertical-align: middle;\n",
       "    }\n",
       "\n",
       "    .dataframe tbody tr th {\n",
       "        vertical-align: top;\n",
       "    }\n",
       "\n",
       "    .dataframe thead th {\n",
       "        text-align: right;\n",
       "    }\n",
       "</style>\n",
       "<table border=\"1\" class=\"dataframe\">\n",
       "  <thead>\n",
       "    <tr style=\"text-align: right;\">\n",
       "      <th></th>\n",
       "      <th>gender</th>\n",
       "      <th>Near_Location</th>\n",
       "      <th>Partner</th>\n",
       "      <th>Promo_friends</th>\n",
       "      <th>Phone</th>\n",
       "      <th>Contract_period</th>\n",
       "      <th>Group_visits</th>\n",
       "      <th>Age</th>\n",
       "      <th>Avg_additional_charges_total</th>\n",
       "      <th>Month_to_end_contract</th>\n",
       "      <th>Lifetime</th>\n",
       "      <th>Avg_class_frequency_total</th>\n",
       "      <th>Avg_class_frequency_current_month</th>\n",
       "      <th>Churn</th>\n",
       "    </tr>\n",
       "    <tr>\n",
       "      <th>cluster</th>\n",
       "      <th></th>\n",
       "      <th></th>\n",
       "      <th></th>\n",
       "      <th></th>\n",
       "      <th></th>\n",
       "      <th></th>\n",
       "      <th></th>\n",
       "      <th></th>\n",
       "      <th></th>\n",
       "      <th></th>\n",
       "      <th></th>\n",
       "      <th></th>\n",
       "      <th></th>\n",
       "      <th></th>\n",
       "    </tr>\n",
       "  </thead>\n",
       "  <tbody>\n",
       "    <tr>\n",
       "      <th>0</th>\n",
       "      <td>0.503676</td>\n",
       "      <td>0.000000</td>\n",
       "      <td>0.459559</td>\n",
       "      <td>0.075368</td>\n",
       "      <td>0.917279</td>\n",
       "      <td>2.069853</td>\n",
       "      <td>0.211397</td>\n",
       "      <td>28.522059</td>\n",
       "      <td>132.741216</td>\n",
       "      <td>1.950368</td>\n",
       "      <td>2.757353</td>\n",
       "      <td>1.706629</td>\n",
       "      <td>1.515890</td>\n",
       "      <td>0.450368</td>\n",
       "    </tr>\n",
       "    <tr>\n",
       "      <th>1</th>\n",
       "      <td>0.492829</td>\n",
       "      <td>0.936115</td>\n",
       "      <td>0.764016</td>\n",
       "      <td>0.534550</td>\n",
       "      <td>0.919166</td>\n",
       "      <td>10.447197</td>\n",
       "      <td>0.516297</td>\n",
       "      <td>29.962190</td>\n",
       "      <td>161.853561</td>\n",
       "      <td>9.477184</td>\n",
       "      <td>4.833116</td>\n",
       "      <td>2.788103</td>\n",
       "      <td>2.786919</td>\n",
       "      <td>0.007823</td>\n",
       "    </tr>\n",
       "    <tr>\n",
       "      <th>2</th>\n",
       "      <td>0.507917</td>\n",
       "      <td>1.000000</td>\n",
       "      <td>0.323995</td>\n",
       "      <td>0.213155</td>\n",
       "      <td>0.903776</td>\n",
       "      <td>1.546894</td>\n",
       "      <td>0.287454</td>\n",
       "      <td>26.926918</td>\n",
       "      <td>113.173051</td>\n",
       "      <td>1.500609</td>\n",
       "      <td>1.031669</td>\n",
       "      <td>1.449720</td>\n",
       "      <td>1.037592</td>\n",
       "      <td>0.961023</td>\n",
       "    </tr>\n",
       "    <tr>\n",
       "      <th>3</th>\n",
       "      <td>0.521186</td>\n",
       "      <td>0.996610</td>\n",
       "      <td>0.282203</td>\n",
       "      <td>0.208475</td>\n",
       "      <td>0.904237</td>\n",
       "      <td>1.882203</td>\n",
       "      <td>0.452542</td>\n",
       "      <td>30.237288</td>\n",
       "      <td>157.988625</td>\n",
       "      <td>1.794915</td>\n",
       "      <td>4.923729</td>\n",
       "      <td>2.203432</td>\n",
       "      <td>2.207359</td>\n",
       "      <td>0.003390</td>\n",
       "    </tr>\n",
       "    <tr>\n",
       "      <th>4</th>\n",
       "      <td>0.518895</td>\n",
       "      <td>0.968023</td>\n",
       "      <td>0.744186</td>\n",
       "      <td>0.526163</td>\n",
       "      <td>0.873547</td>\n",
       "      <td>8.859012</td>\n",
       "      <td>0.534884</td>\n",
       "      <td>29.728198</td>\n",
       "      <td>162.907495</td>\n",
       "      <td>8.155523</td>\n",
       "      <td>4.411337</td>\n",
       "      <td>0.957744</td>\n",
       "      <td>0.943967</td>\n",
       "      <td>0.024709</td>\n",
       "    </tr>\n",
       "  </tbody>\n",
       "</table>\n",
       "</div>"
      ],
      "text/plain": [
       "           gender  Near_Location   Partner  Promo_friends     Phone  \\\n",
       "cluster                                                               \n",
       "0        0.503676       0.000000  0.459559       0.075368  0.917279   \n",
       "1        0.492829       0.936115  0.764016       0.534550  0.919166   \n",
       "2        0.507917       1.000000  0.323995       0.213155  0.903776   \n",
       "3        0.521186       0.996610  0.282203       0.208475  0.904237   \n",
       "4        0.518895       0.968023  0.744186       0.526163  0.873547   \n",
       "\n",
       "         Contract_period  Group_visits        Age  \\\n",
       "cluster                                             \n",
       "0               2.069853      0.211397  28.522059   \n",
       "1              10.447197      0.516297  29.962190   \n",
       "2               1.546894      0.287454  26.926918   \n",
       "3               1.882203      0.452542  30.237288   \n",
       "4               8.859012      0.534884  29.728198   \n",
       "\n",
       "         Avg_additional_charges_total  Month_to_end_contract  Lifetime  \\\n",
       "cluster                                                                  \n",
       "0                          132.741216               1.950368  2.757353   \n",
       "1                          161.853561               9.477184  4.833116   \n",
       "2                          113.173051               1.500609  1.031669   \n",
       "3                          157.988625               1.794915  4.923729   \n",
       "4                          162.907495               8.155523  4.411337   \n",
       "\n",
       "         Avg_class_frequency_total  Avg_class_frequency_current_month  \\\n",
       "cluster                                                                 \n",
       "0                         1.706629                           1.515890   \n",
       "1                         2.788103                           2.786919   \n",
       "2                         1.449720                           1.037592   \n",
       "3                         2.203432                           2.207359   \n",
       "4                         0.957744                           0.943967   \n",
       "\n",
       "            Churn  \n",
       "cluster            \n",
       "0        0.450368  \n",
       "1        0.007823  \n",
       "2        0.961023  \n",
       "3        0.003390  \n",
       "4        0.024709  "
      ]
     },
     "metadata": {},
     "output_type": "display_data"
    }
   ],
   "source": [
    "display(data.groupby('cluster').mean())"
   ]
  },
  {
   "cell_type": "code",
   "execution_count": 38,
   "metadata": {},
   "outputs": [],
   "source": [
    "data_0 = data.query(\"Churn==1\")"
   ]
  },
  {
   "cell_type": "code",
   "execution_count": 40,
   "metadata": {},
   "outputs": [
    {
     "data": {
      "image/png": "[encoded data removed]",
      "text/plain": [
       "<Figure size 1800x1800 with 12 Axes>"
      ]
     },
     "metadata": {
      "needs_background": "light"
     },
     "output_type": "display_data"
    }
   ],
   "source": [
    "\n",
    "boxplot = ['Age', 'Avg_additional_charges_total', 'Lifetime', 'Avg_class_frequency_total', \n",
    "           'Avg_class_frequency_current_month','Month_to_end_contract']\n",
    "\n",
    "plt.figure(figsize=(25, 25))\n",
    "for i, column in enumerate(data.drop(['Churn', 'cluster','Avg_class_frequency_current_month'], axis=1).columns): \n",
    "    if column in boxplot:\n",
    "        ax = plt.subplot(4, 3, i + 1)\n",
    "        sns.boxplot(x=data['cluster'], y=data[column])\n",
    "    else:\n",
    "        ax = plt.subplot(4, 3, i + 1)\n",
    "        sns.countplot(data=data, x=column, hue='cluster')"
   ]
  },
  {
   "cell_type": "markdown",
   "metadata": {},
   "source": [
    "### Для каждого полученного кластера посчитайте долю оттока (методом groupby()). Отличаются ли они по доле оттока? Какие кластеры склонны к оттоку, а какие — надёжны?"
   ]
  },
  {
   "cell_type": "code",
   "execution_count": 41,
   "metadata": {},
   "outputs": [
    {
     "data": {
      "text/html": [
       "<div>\n",
       "<style scoped>\n",
       "    .dataframe tbody tr th:only-of-type {\n",
       "        vertical-align: middle;\n",
       "    }\n",
       "\n",
       "    .dataframe tbody tr th {\n",
       "        vertical-align: top;\n",
       "    }\n",
       "\n",
       "    .dataframe thead th {\n",
       "        text-align: right;\n",
       "    }\n",
       "</style>\n",
       "<table border=\"1\" class=\"dataframe\">\n",
       "  <thead>\n",
       "    <tr style=\"text-align: right;\">\n",
       "      <th></th>\n",
       "      <th>Churn</th>\n",
       "      <th>toll</th>\n",
       "      <th>%</th>\n",
       "    </tr>\n",
       "    <tr>\n",
       "      <th>cluster</th>\n",
       "      <th></th>\n",
       "      <th></th>\n",
       "      <th></th>\n",
       "    </tr>\n",
       "  </thead>\n",
       "  <tbody>\n",
       "    <tr>\n",
       "      <th>0</th>\n",
       "      <td>245</td>\n",
       "      <td>544</td>\n",
       "      <td>0.450368</td>\n",
       "    </tr>\n",
       "    <tr>\n",
       "      <th>1</th>\n",
       "      <td>6</td>\n",
       "      <td>767</td>\n",
       "      <td>0.007823</td>\n",
       "    </tr>\n",
       "    <tr>\n",
       "      <th>2</th>\n",
       "      <td>789</td>\n",
       "      <td>821</td>\n",
       "      <td>0.961023</td>\n",
       "    </tr>\n",
       "    <tr>\n",
       "      <th>3</th>\n",
       "      <td>4</td>\n",
       "      <td>1180</td>\n",
       "      <td>0.003390</td>\n",
       "    </tr>\n",
       "    <tr>\n",
       "      <th>4</th>\n",
       "      <td>17</td>\n",
       "      <td>688</td>\n",
       "      <td>0.024709</td>\n",
       "    </tr>\n",
       "  </tbody>\n",
       "</table>\n",
       "</div>"
      ],
      "text/plain": [
       "         Churn  toll         %\n",
       "cluster                       \n",
       "0          245   544  0.450368\n",
       "1            6   767  0.007823\n",
       "2          789   821  0.961023\n",
       "3            4  1180  0.003390\n",
       "4           17   688  0.024709"
      ]
     },
     "execution_count": 41,
     "metadata": {},
     "output_type": "execute_result"
    }
   ],
   "source": [
    "data_nicht_zuruck = data_0.pivot_table(index = 'cluster',values = 'Churn', aggfunc='count' )\n",
    "data_nicht_zuruck['toll'] = data.groupby(\"cluster\")['Churn'].count()\n",
    "data_nicht_zuruck['%'] = data_nicht_zuruck['Churn']/data_nicht_zuruck['toll']\n",
    "data_nicht_zuruck"
   ]
  },
  {
   "cell_type": "code",
   "execution_count": 42,
   "metadata": {},
   "outputs": [
    {
     "data": {
      "image/png": "[encoded data removed]",
      "text/plain": [
       "<Figure size 432x288 with 2 Axes>"
      ]
     },
     "metadata": {
      "needs_background": "light"
     },
     "output_type": "display_data"
    }
   ],
   "source": [
    "sns.heatmap(data_nicht_zuruck.drop(columns=['Churn','toll']), annot=True, fmt='.002%', cmap= 'coolwarm')\n",
    "plt.title('Тепловая карта ушедших клиентов по кластерам')\n",
    "plt.show()"
   ]
  },
  {
   "cell_type": "markdown",
   "metadata": {},
   "source": [
    "Больше всего ушло из 2 кластера - 96% - 789 клиентов, и 0 го 45% - 245 клиентов, в остальных кластерах потеря клиентов не велика и состовляет в 1 и 3 не больше 0,5% и в 4 2,5%"
   ]
  },
  {
   "cell_type": "markdown",
   "metadata": {},
   "source": [
    "## Шаг 5. Сформулируйте выводы и сделайте базовые рекомендации по работе с клиентами"
   ]
  },
  {
   "cell_type": "markdown",
   "metadata": {},
   "source": [
    "Почему уходят люди? по данным полученым в анализе видно изза -\n",
    " - возраст 25-26 лет, Абонемент при аоплате на 1-2 месяца высокий шанс что клент уйдет, и срок до конца абонемента при 1-2 месяце, плюс типа халявщики которые пришли по акции попробовали и ушли, и по услугам фитнес центра, те кто не пользовались уходили.\n",
    " Как уменьшить отток - если с местом расположения трудно всем угодить как и с халявщиками, то с клиентами которые уходят улучшить качество продаваемых товаров в том же самом центре допольнительных услуг, по ситуации.\n",
    " - раз люди чаще уходят изза небольшого срока по абонементу 1-2 меясца и окончание его в тот же срок можно вводить акции разовые или постоянные на удержание клиента.\n",
    " - если смотрет по модели что обучилась то она показывает что основной уход у клиентов в возрасте 26-28 лет, у них и траты на допуслуги меньше чем по другим кластерам и абонемент максимум на пару месяцев и хоть есть кто пришол по приглашения или сотрудник всеравно не задерживается, значит что то людей не устраивает и с этим чтото надо делать, остальные кластер имеют низкий процент ухода но там и взрослее люди часто фитнес зал находится около дома или работы и посещаемость выше\n",
    " "
   ]
  }
 ],
 "metadata": {
  "ExecuteTimeLog": [
   {
    "duration": 424,
    "start_time": "2022-10-02T14:54:42.921Z"
   },
   {
    "duration": 127,
    "start_time": "2022-10-02T14:54:44.121Z"
   },
   {
    "duration": 20,
    "start_time": "2022-10-02T14:54:52.419Z"
   },
   {
    "duration": 11,
    "start_time": "2022-10-02T14:55:07.079Z"
   },
   {
    "duration": 3,
    "start_time": "2022-10-02T14:57:16.550Z"
   },
   {
    "duration": 429,
    "start_time": "2022-10-03T12:37:50.195Z"
   },
   {
    "duration": 71,
    "start_time": "2022-10-03T12:37:51.256Z"
   },
   {
    "duration": 17,
    "start_time": "2022-10-03T12:37:51.859Z"
   },
   {
    "duration": 11,
    "start_time": "2022-10-03T12:37:52.610Z"
   },
   {
    "duration": 10,
    "start_time": "2022-10-03T12:37:54.414Z"
   },
   {
    "duration": 7,
    "start_time": "2022-10-03T12:38:02.633Z"
   },
   {
    "duration": 6,
    "start_time": "2022-10-03T12:40:07.745Z"
   },
   {
    "duration": 38,
    "start_time": "2022-10-03T12:40:21.445Z"
   },
   {
    "duration": 2,
    "start_time": "2022-10-03T12:43:58.466Z"
   },
   {
    "duration": 3,
    "start_time": "2022-10-03T12:43:58.915Z"
   },
   {
    "duration": 4,
    "start_time": "2022-10-03T12:44:09.787Z"
   },
   {
    "duration": 70,
    "start_time": "2022-10-03T12:47:08.918Z"
   },
   {
    "duration": 4,
    "start_time": "2022-10-03T12:47:09.284Z"
   },
   {
    "duration": 2,
    "start_time": "2022-10-03T12:47:37.536Z"
   },
   {
    "duration": 3,
    "start_time": "2022-10-03T12:47:39.425Z"
   },
   {
    "duration": 3,
    "start_time": "2022-10-03T12:47:52.574Z"
   },
   {
    "duration": 3,
    "start_time": "2022-10-03T12:48:09.876Z"
   },
   {
    "duration": 13,
    "start_time": "2022-10-03T12:48:40.746Z"
   },
   {
    "duration": 7,
    "start_time": "2022-10-03T12:57:03.900Z"
   },
   {
    "duration": 81,
    "start_time": "2022-10-03T12:57:57.811Z"
   },
   {
    "duration": 424,
    "start_time": "2022-10-03T12:58:45.145Z"
   },
   {
    "duration": 21,
    "start_time": "2022-10-03T12:59:08.095Z"
   },
   {
    "duration": 506,
    "start_time": "2022-10-03T13:00:30.585Z"
   },
   {
    "duration": 2533,
    "start_time": "2022-10-03T13:00:35.965Z"
   },
   {
    "duration": 549,
    "start_time": "2022-10-03T13:00:51.112Z"
   },
   {
    "duration": 13143,
    "start_time": "2022-10-03T13:03:30.346Z"
   },
   {
    "duration": 5,
    "start_time": "2022-10-03T13:04:10.304Z"
   },
   {
    "duration": 126,
    "start_time": "2022-10-03T13:04:30.856Z"
   },
   {
    "duration": 131,
    "start_time": "2022-10-03T13:04:41.915Z"
   },
   {
    "duration": 1185,
    "start_time": "2022-10-03T13:05:41.986Z"
   },
   {
    "duration": 2429,
    "start_time": "2022-10-03T13:05:58.816Z"
   },
   {
    "duration": 1804,
    "start_time": "2022-10-03T13:07:45.724Z"
   },
   {
    "duration": 10,
    "start_time": "2022-10-03T13:09:53.245Z"
   },
   {
    "duration": 496,
    "start_time": "2022-10-03T13:11:32.305Z"
   },
   {
    "duration": 1056,
    "start_time": "2022-10-03T13:12:38.440Z"
   },
   {
    "duration": 33,
    "start_time": "2022-10-03T13:12:39.498Z"
   },
   {
    "duration": 16,
    "start_time": "2022-10-03T13:12:39.532Z"
   },
   {
    "duration": 14,
    "start_time": "2022-10-03T13:12:39.549Z"
   },
   {
    "duration": 7,
    "start_time": "2022-10-03T13:12:39.565Z"
   },
   {
    "duration": 7,
    "start_time": "2022-10-03T13:12:39.573Z"
   },
   {
    "duration": 43,
    "start_time": "2022-10-03T13:12:39.581Z"
   },
   {
    "duration": 15,
    "start_time": "2022-10-03T13:12:39.625Z"
   },
   {
    "duration": 2032,
    "start_time": "2022-10-03T13:12:39.641Z"
   },
   {
    "duration": 1964,
    "start_time": "2022-10-03T13:12:41.675Z"
   },
   {
    "duration": 182632,
    "start_time": "2022-10-03T13:12:43.640Z"
   },
   {
    "duration": 6,
    "start_time": "2022-10-03T13:15:46.274Z"
   },
   {
    "duration": 1256,
    "start_time": "2022-10-03T13:15:46.281Z"
   },
   {
    "duration": 6,
    "start_time": "2022-10-03T13:17:07.058Z"
   },
   {
    "duration": 1288,
    "start_time": "2022-10-03T13:17:11.468Z"
   },
   {
    "duration": 1270,
    "start_time": "2022-10-03T13:18:22.208Z"
   },
   {
    "duration": 1556,
    "start_time": "2022-10-03T13:24:52.211Z"
   },
   {
    "duration": 1506,
    "start_time": "2022-10-03T13:25:40.126Z"
   },
   {
    "duration": 1408,
    "start_time": "2022-10-03T13:26:31.275Z"
   },
   {
    "duration": 1498,
    "start_time": "2022-10-03T13:26:59.275Z"
   },
   {
    "duration": 1554,
    "start_time": "2022-10-03T13:27:21.765Z"
   },
   {
    "duration": 81,
    "start_time": "2022-10-03T13:27:32.012Z"
   },
   {
    "duration": 1531,
    "start_time": "2022-10-03T13:27:41.356Z"
   },
   {
    "duration": 108,
    "start_time": "2022-10-03T13:33:44.285Z"
   },
   {
    "duration": 10,
    "start_time": "2022-10-03T13:33:51.216Z"
   },
   {
    "duration": 4,
    "start_time": "2022-10-03T13:33:56.805Z"
   },
   {
    "duration": 5,
    "start_time": "2022-10-03T13:46:14.576Z"
   },
   {
    "duration": 8,
    "start_time": "2022-10-03T13:49:23.996Z"
   },
   {
    "duration": 352,
    "start_time": "2022-10-03T13:49:48.045Z"
   },
   {
    "duration": 5,
    "start_time": "2022-10-03T13:49:55.555Z"
   },
   {
    "duration": 3,
    "start_time": "2022-10-03T13:50:43.728Z"
   },
   {
    "duration": 8,
    "start_time": "2022-10-03T13:50:51.455Z"
   },
   {
    "duration": 5,
    "start_time": "2022-10-03T13:51:09.435Z"
   },
   {
    "duration": 4,
    "start_time": "2022-10-03T13:51:51.775Z"
   },
   {
    "duration": 4,
    "start_time": "2022-10-03T13:52:07.694Z"
   },
   {
    "duration": 1548,
    "start_time": "2022-10-03T18:24:58.060Z"
   },
   {
    "duration": 129,
    "start_time": "2022-10-03T18:24:59.609Z"
   },
   {
    "duration": 17,
    "start_time": "2022-10-03T18:24:59.739Z"
   },
   {
    "duration": 12,
    "start_time": "2022-10-03T18:24:59.759Z"
   },
   {
    "duration": 10,
    "start_time": "2022-10-03T18:24:59.774Z"
   },
   {
    "duration": 19,
    "start_time": "2022-10-03T18:24:59.786Z"
   },
   {
    "duration": 75,
    "start_time": "2022-10-03T18:24:59.806Z"
   },
   {
    "duration": 22,
    "start_time": "2022-10-03T18:24:59.882Z"
   },
   {
    "duration": 2272,
    "start_time": "2022-10-03T18:24:59.906Z"
   },
   {
    "duration": 2241,
    "start_time": "2022-10-03T18:25:02.181Z"
   },
   {
    "duration": 6,
    "start_time": "2022-10-03T18:25:04.424Z"
   },
   {
    "duration": 1541,
    "start_time": "2022-10-03T18:25:04.431Z"
   },
   {
    "duration": 1816,
    "start_time": "2022-10-03T18:25:05.974Z"
   },
   {
    "duration": 4,
    "start_time": "2022-10-03T18:25:07.792Z"
   },
   {
    "duration": 16,
    "start_time": "2022-10-03T18:25:07.798Z"
   },
   {
    "duration": 21,
    "start_time": "2022-10-03T18:25:07.816Z"
   },
   {
    "duration": 28,
    "start_time": "2022-10-03T18:25:14.752Z"
   },
   {
    "duration": 18,
    "start_time": "2022-10-03T18:25:31.623Z"
   },
   {
    "duration": 5,
    "start_time": "2022-10-03T18:25:39.873Z"
   },
   {
    "duration": 6,
    "start_time": "2022-10-03T18:25:54.176Z"
   },
   {
    "duration": 98,
    "start_time": "2022-10-03T18:28:13.598Z"
   },
   {
    "duration": 24,
    "start_time": "2022-10-03T18:28:18.569Z"
   },
   {
    "duration": 3,
    "start_time": "2022-10-03T18:28:23.708Z"
   },
   {
    "duration": 15,
    "start_time": "2022-10-03T18:28:24.580Z"
   },
   {
    "duration": 6,
    "start_time": "2022-10-03T18:28:45.968Z"
   },
   {
    "duration": 3,
    "start_time": "2022-10-03T18:28:47.949Z"
   },
   {
    "duration": 18,
    "start_time": "2022-10-03T18:28:48.595Z"
   },
   {
    "duration": 3,
    "start_time": "2022-10-03T18:30:17.104Z"
   },
   {
    "duration": 35,
    "start_time": "2022-10-03T18:30:17.800Z"
   },
   {
    "duration": 17,
    "start_time": "2022-10-03T18:30:48.033Z"
   },
   {
    "duration": 9,
    "start_time": "2022-10-03T18:31:03.220Z"
   },
   {
    "duration": 4,
    "start_time": "2022-10-03T18:31:57.673Z"
   },
   {
    "duration": 4,
    "start_time": "2022-10-03T18:32:08.879Z"
   },
   {
    "duration": 9,
    "start_time": "2022-10-03T18:32:17.161Z"
   },
   {
    "duration": 11,
    "start_time": "2022-10-03T18:32:25.361Z"
   },
   {
    "duration": 27,
    "start_time": "2022-10-03T18:33:25.045Z"
   },
   {
    "duration": 4,
    "start_time": "2022-10-03T18:33:40.685Z"
   },
   {
    "duration": 5,
    "start_time": "2022-10-03T18:34:19.225Z"
   },
   {
    "duration": 3,
    "start_time": "2022-10-03T18:34:21.783Z"
   },
   {
    "duration": 22,
    "start_time": "2022-10-03T18:34:22.552Z"
   },
   {
    "duration": 11,
    "start_time": "2022-10-03T18:34:23.329Z"
   },
   {
    "duration": 5,
    "start_time": "2022-10-03T18:34:24.000Z"
   },
   {
    "duration": 11,
    "start_time": "2022-10-03T18:34:26.282Z"
   },
   {
    "duration": 3,
    "start_time": "2022-10-03T18:35:22.348Z"
   },
   {
    "duration": 11,
    "start_time": "2022-10-03T18:35:47.430Z"
   },
   {
    "duration": 294,
    "start_time": "2022-10-03T18:36:31.497Z"
   },
   {
    "duration": 47,
    "start_time": "2022-10-03T18:37:04.113Z"
   },
   {
    "duration": 5,
    "start_time": "2022-10-03T18:38:48.537Z"
   },
   {
    "duration": 8,
    "start_time": "2022-10-03T18:38:55.170Z"
   },
   {
    "duration": 4,
    "start_time": "2022-10-03T18:40:14.824Z"
   },
   {
    "duration": 10,
    "start_time": "2022-10-03T18:41:24.027Z"
   },
   {
    "duration": 9,
    "start_time": "2022-10-03T18:41:50.381Z"
   },
   {
    "duration": 7,
    "start_time": "2022-10-03T18:41:55.502Z"
   },
   {
    "duration": 5,
    "start_time": "2022-10-03T18:44:24.488Z"
   },
   {
    "duration": 16,
    "start_time": "2022-10-03T18:44:37.270Z"
   },
   {
    "duration": 17,
    "start_time": "2022-10-03T18:44:52.582Z"
   },
   {
    "duration": 16,
    "start_time": "2022-10-03T18:45:06.822Z"
   },
   {
    "duration": 13,
    "start_time": "2022-10-03T18:45:11.025Z"
   },
   {
    "duration": 6,
    "start_time": "2022-10-03T18:45:23.000Z"
   },
   {
    "duration": 10,
    "start_time": "2022-10-03T18:47:38.812Z"
   },
   {
    "duration": 23,
    "start_time": "2022-10-03T18:50:38.022Z"
   },
   {
    "duration": 3,
    "start_time": "2022-10-03T18:52:09.557Z"
   },
   {
    "duration": 580,
    "start_time": "2022-10-03T18:52:46.164Z"
   },
   {
    "duration": 104319,
    "start_time": "2022-10-03T18:53:30.739Z"
   },
   {
    "duration": 4,
    "start_time": "2022-10-03T18:56:38.621Z"
   },
   {
    "duration": 1186,
    "start_time": "2022-10-03T18:56:39.309Z"
   },
   {
    "duration": 3,
    "start_time": "2022-10-03T18:57:31.474Z"
   },
   {
    "duration": 12,
    "start_time": "2022-10-03T18:57:56.062Z"
   },
   {
    "duration": 17,
    "start_time": "2022-10-03T18:58:04.152Z"
   },
   {
    "duration": 13,
    "start_time": "2022-10-03T18:59:49.293Z"
   },
   {
    "duration": 4,
    "start_time": "2022-10-03T19:00:11.213Z"
   },
   {
    "duration": 12,
    "start_time": "2022-10-03T19:00:19.671Z"
   },
   {
    "duration": 4,
    "start_time": "2022-10-03T19:01:46.475Z"
   },
   {
    "duration": 31492,
    "start_time": "2022-10-03T19:01:47.249Z"
   },
   {
    "duration": 5,
    "start_time": "2022-10-03T19:05:06.783Z"
   },
   {
    "duration": 19,
    "start_time": "2022-10-03T19:05:07.733Z"
   },
   {
    "duration": 9,
    "start_time": "2022-10-03T19:05:28.590Z"
   },
   {
    "duration": 515,
    "start_time": "2022-10-03T19:05:29.446Z"
   },
   {
    "duration": 103556,
    "start_time": "2022-10-03T19:05:30.130Z"
   },
   {
    "duration": 35176,
    "start_time": "2022-10-03T19:07:13.687Z"
   },
   {
    "duration": 4,
    "start_time": "2022-10-03T19:07:48.864Z"
   },
   {
    "duration": 3,
    "start_time": "2022-10-03T19:13:08.157Z"
   },
   {
    "duration": 925,
    "start_time": "2022-10-03T19:13:08.670Z"
   },
   {
    "duration": 3,
    "start_time": "2022-10-03T19:13:10.356Z"
   },
   {
    "duration": 17,
    "start_time": "2022-10-03T19:13:15.383Z"
   },
   {
    "duration": 4,
    "start_time": "2022-10-03T19:13:29.270Z"
   },
   {
    "duration": 35155,
    "start_time": "2022-10-03T19:13:32.154Z"
   },
   {
    "duration": 4,
    "start_time": "2022-10-03T19:18:09.902Z"
   },
   {
    "duration": 6,
    "start_time": "2022-10-03T19:18:27.460Z"
   },
   {
    "duration": 6,
    "start_time": "2022-10-03T19:19:09.713Z"
   },
   {
    "duration": 7,
    "start_time": "2022-10-03T19:19:10.490Z"
   },
   {
    "duration": 11,
    "start_time": "2022-10-03T19:21:41.598Z"
   },
   {
    "duration": 14,
    "start_time": "2022-10-03T19:21:51.251Z"
   },
   {
    "duration": 17,
    "start_time": "2022-10-03T19:22:06.701Z"
   },
   {
    "duration": 13,
    "start_time": "2022-10-03T19:22:17.641Z"
   },
   {
    "duration": 29,
    "start_time": "2022-10-03T19:22:30.901Z"
   },
   {
    "duration": 7,
    "start_time": "2022-10-03T19:22:42.614Z"
   },
   {
    "duration": 12,
    "start_time": "2022-10-03T19:23:01.604Z"
   },
   {
    "duration": 6,
    "start_time": "2022-10-03T19:23:05.835Z"
   },
   {
    "duration": 11,
    "start_time": "2022-10-03T19:23:31.256Z"
   },
   {
    "duration": 13,
    "start_time": "2022-10-03T19:23:39.628Z"
   },
   {
    "duration": 6,
    "start_time": "2022-10-03T19:24:56.169Z"
   },
   {
    "duration": 7,
    "start_time": "2022-10-03T19:24:56.777Z"
   },
   {
    "duration": 11,
    "start_time": "2022-10-03T19:25:02.371Z"
   },
   {
    "duration": 54,
    "start_time": "2022-10-04T08:20:08.736Z"
   },
   {
    "duration": 1742,
    "start_time": "2022-10-04T08:20:15.624Z"
   },
   {
    "duration": 239,
    "start_time": "2022-10-04T08:20:17.368Z"
   },
   {
    "duration": 23,
    "start_time": "2022-10-04T08:20:19.033Z"
   },
   {
    "duration": 16,
    "start_time": "2022-10-04T08:20:19.957Z"
   },
   {
    "duration": 7,
    "start_time": "2022-10-04T08:20:22.604Z"
   },
   {
    "duration": 1369,
    "start_time": "2022-10-04T09:18:46.001Z"
   },
   {
    "duration": 31,
    "start_time": "2022-10-04T09:18:47.372Z"
   },
   {
    "duration": 15,
    "start_time": "2022-10-04T09:18:47.405Z"
   },
   {
    "duration": 11,
    "start_time": "2022-10-04T09:18:47.421Z"
   },
   {
    "duration": 7,
    "start_time": "2022-10-04T09:18:47.433Z"
   },
   {
    "duration": 7,
    "start_time": "2022-10-04T09:18:47.441Z"
   },
   {
    "duration": 46,
    "start_time": "2022-10-04T09:18:47.450Z"
   },
   {
    "duration": 38,
    "start_time": "2022-10-04T09:18:47.498Z"
   },
   {
    "duration": 2074,
    "start_time": "2022-10-04T09:18:47.538Z"
   },
   {
    "duration": 2234,
    "start_time": "2022-10-04T09:18:49.614Z"
   },
   {
    "duration": 7,
    "start_time": "2022-10-04T09:18:51.850Z"
   },
   {
    "duration": 1502,
    "start_time": "2022-10-04T09:18:51.858Z"
   },
   {
    "duration": 2422,
    "start_time": "2022-10-04T09:18:53.362Z"
   },
   {
    "duration": 3,
    "start_time": "2022-10-04T09:18:55.786Z"
   },
   {
    "duration": 9,
    "start_time": "2022-10-04T09:18:55.790Z"
   },
   {
    "duration": 20,
    "start_time": "2022-10-04T09:18:55.800Z"
   },
   {
    "duration": 7,
    "start_time": "2022-10-04T09:18:55.821Z"
   },
   {
    "duration": 25,
    "start_time": "2022-10-04T09:18:55.829Z"
   },
   {
    "duration": 7,
    "start_time": "2022-10-04T09:18:55.855Z"
   },
   {
    "duration": 63,
    "start_time": "2022-10-04T09:18:55.863Z"
   },
   {
    "duration": 102,
    "start_time": "2022-10-04T09:18:55.928Z"
   },
   {
    "duration": 18,
    "start_time": "2022-10-04T09:18:56.032Z"
   },
   {
    "duration": 349,
    "start_time": "2022-10-04T09:18:56.052Z"
   },
   {
    "duration": 53,
    "start_time": "2022-10-04T09:18:56.403Z"
   },
   {
    "duration": 5,
    "start_time": "2022-10-04T09:18:56.458Z"
   },
   {
    "duration": 18,
    "start_time": "2022-10-04T09:18:56.464Z"
   },
   {
    "duration": 15,
    "start_time": "2022-10-04T09:18:56.484Z"
   },
   {
    "duration": 19,
    "start_time": "2022-10-04T09:18:56.503Z"
   },
   {
    "duration": 28,
    "start_time": "2022-10-04T09:18:56.523Z"
   },
   {
    "duration": 115,
    "start_time": "2022-10-04T09:18:56.553Z"
   },
   {
    "duration": 0,
    "start_time": "2022-10-04T09:18:56.669Z"
   },
   {
    "duration": 0,
    "start_time": "2022-10-04T09:18:56.670Z"
   },
   {
    "duration": 0,
    "start_time": "2022-10-04T09:18:56.671Z"
   },
   {
    "duration": 0,
    "start_time": "2022-10-04T09:18:56.672Z"
   },
   {
    "duration": 0,
    "start_time": "2022-10-04T09:18:56.673Z"
   },
   {
    "duration": 0,
    "start_time": "2022-10-04T09:18:56.674Z"
   },
   {
    "duration": 0,
    "start_time": "2022-10-04T09:18:56.675Z"
   },
   {
    "duration": 0,
    "start_time": "2022-10-04T09:18:56.676Z"
   },
   {
    "duration": 0,
    "start_time": "2022-10-04T09:18:56.677Z"
   },
   {
    "duration": 0,
    "start_time": "2022-10-04T09:18:56.678Z"
   },
   {
    "duration": 0,
    "start_time": "2022-10-04T09:18:56.679Z"
   },
   {
    "duration": 3,
    "start_time": "2022-10-04T09:38:18.138Z"
   },
   {
    "duration": 1250,
    "start_time": "2022-10-04T09:38:45.198Z"
   },
   {
    "duration": 1652,
    "start_time": "2022-10-04T09:38:55.562Z"
   },
   {
    "duration": 4,
    "start_time": "2022-10-04T09:46:47.977Z"
   },
   {
    "duration": 8,
    "start_time": "2022-10-04T09:46:49.547Z"
   },
   {
    "duration": 3,
    "start_time": "2022-10-04T09:46:58.274Z"
   },
   {
    "duration": 28,
    "start_time": "2022-10-04T09:47:16.419Z"
   },
   {
    "duration": 22,
    "start_time": "2022-10-04T09:47:19.018Z"
   },
   {
    "duration": 3,
    "start_time": "2022-10-04T09:47:29.377Z"
   },
   {
    "duration": 316,
    "start_time": "2022-10-04T09:47:30.032Z"
   },
   {
    "duration": 58,
    "start_time": "2022-10-04T09:47:30.977Z"
   },
   {
    "duration": 9,
    "start_time": "2022-10-04T09:47:35.135Z"
   },
   {
    "duration": 8,
    "start_time": "2022-10-04T09:47:37.277Z"
   },
   {
    "duration": 12,
    "start_time": "2022-10-04T09:48:21.017Z"
   },
   {
    "duration": 2,
    "start_time": "2022-10-04T09:48:32.478Z"
   },
   {
    "duration": 565,
    "start_time": "2022-10-04T09:59:51.946Z"
   },
   {
    "duration": 1458,
    "start_time": "2022-10-04T10:01:40.408Z"
   },
   {
    "duration": 31,
    "start_time": "2022-10-04T10:01:41.868Z"
   },
   {
    "duration": 15,
    "start_time": "2022-10-04T10:01:41.900Z"
   },
   {
    "duration": 13,
    "start_time": "2022-10-04T10:01:41.917Z"
   },
   {
    "duration": 17,
    "start_time": "2022-10-04T10:01:41.933Z"
   },
   {
    "duration": 8,
    "start_time": "2022-10-04T10:01:41.952Z"
   },
   {
    "duration": 49,
    "start_time": "2022-10-04T10:01:41.961Z"
   },
   {
    "duration": 25,
    "start_time": "2022-10-04T10:01:42.012Z"
   },
   {
    "duration": 2072,
    "start_time": "2022-10-04T10:01:42.039Z"
   },
   {
    "duration": 2117,
    "start_time": "2022-10-04T10:01:44.112Z"
   },
   {
    "duration": 8,
    "start_time": "2022-10-04T10:01:46.231Z"
   },
   {
    "duration": 1439,
    "start_time": "2022-10-04T10:01:46.241Z"
   },
   {
    "duration": 1799,
    "start_time": "2022-10-04T10:01:47.682Z"
   },
   {
    "duration": 3,
    "start_time": "2022-10-04T10:01:49.484Z"
   },
   {
    "duration": 10,
    "start_time": "2022-10-04T10:01:49.488Z"
   },
   {
    "duration": 8,
    "start_time": "2022-10-04T10:01:49.499Z"
   },
   {
    "duration": 9,
    "start_time": "2022-10-04T10:01:49.509Z"
   },
   {
    "duration": 34,
    "start_time": "2022-10-04T10:01:49.524Z"
   },
   {
    "duration": 73,
    "start_time": "2022-10-04T10:01:49.560Z"
   },
   {
    "duration": 104,
    "start_time": "2022-10-04T10:01:49.639Z"
   },
   {
    "duration": 15,
    "start_time": "2022-10-04T10:01:49.745Z"
   },
   {
    "duration": 6,
    "start_time": "2022-10-04T10:01:49.761Z"
   },
   {
    "duration": 345,
    "start_time": "2022-10-04T10:01:49.768Z"
   },
   {
    "duration": 55,
    "start_time": "2022-10-04T10:01:50.115Z"
   },
   {
    "duration": 7,
    "start_time": "2022-10-04T10:01:50.172Z"
   },
   {
    "duration": 33,
    "start_time": "2022-10-04T10:01:50.181Z"
   },
   {
    "duration": 24,
    "start_time": "2022-10-04T10:01:50.216Z"
   },
   {
    "duration": 12,
    "start_time": "2022-10-04T10:01:50.242Z"
   },
   {
    "duration": 10,
    "start_time": "2022-10-04T10:01:50.256Z"
   },
   {
    "duration": 31,
    "start_time": "2022-10-04T10:01:50.268Z"
   },
   {
    "duration": 583,
    "start_time": "2022-10-04T10:01:50.301Z"
   },
   {
    "duration": 106305,
    "start_time": "2022-10-04T10:01:50.885Z"
   },
   {
    "duration": 3,
    "start_time": "2022-10-04T10:03:37.191Z"
   },
   {
    "duration": 1232,
    "start_time": "2022-10-04T10:03:37.196Z"
   },
   {
    "duration": 7,
    "start_time": "2022-10-04T10:03:38.432Z"
   },
   {
    "duration": 112,
    "start_time": "2022-10-04T10:03:38.442Z"
   },
   {
    "duration": 3,
    "start_time": "2022-10-04T10:03:38.556Z"
   },
   {
    "duration": 35913,
    "start_time": "2022-10-04T10:03:38.560Z"
   },
   {
    "duration": 5,
    "start_time": "2022-10-04T10:04:14.475Z"
   },
   {
    "duration": 13,
    "start_time": "2022-10-04T10:04:14.481Z"
   },
   {
    "duration": 16,
    "start_time": "2022-10-04T10:04:14.496Z"
   },
   {
    "duration": 31519,
    "start_time": "2022-10-04T10:13:05.645Z"
   },
   {
    "duration": 108,
    "start_time": "2022-10-04T10:15:00.200Z"
   },
   {
    "duration": 107991,
    "start_time": "2022-10-04T10:17:52.998Z"
   },
   {
    "duration": 0,
    "start_time": "2022-10-04T10:19:40.991Z"
   },
   {
    "duration": 105915,
    "start_time": "2022-10-04T10:21:21.519Z"
   },
   {
    "duration": 4,
    "start_time": "2022-10-04T10:24:51.463Z"
   },
   {
    "duration": 122,
    "start_time": "2022-10-04T10:24:59.439Z"
   },
   {
    "duration": 121,
    "start_time": "2022-10-04T10:25:09.940Z"
   },
   {
    "duration": 148,
    "start_time": "2022-10-04T10:25:28.859Z"
   },
   {
    "duration": 131,
    "start_time": "2022-10-04T10:25:45.423Z"
   },
   {
    "duration": 4,
    "start_time": "2022-10-04T10:28:52.512Z"
   },
   {
    "duration": 34631,
    "start_time": "2022-10-04T10:28:55.254Z"
   },
   {
    "duration": 4,
    "start_time": "2022-10-04T10:29:43.823Z"
   },
   {
    "duration": 34330,
    "start_time": "2022-10-04T10:29:44.579Z"
   },
   {
    "duration": 3,
    "start_time": "2022-10-04T10:32:01.991Z"
   },
   {
    "duration": 23,
    "start_time": "2022-10-04T10:32:04.119Z"
   },
   {
    "duration": 5,
    "start_time": "2022-10-04T10:32:29.104Z"
   },
   {
    "duration": 4,
    "start_time": "2022-10-04T10:33:03.596Z"
   },
   {
    "duration": 35286,
    "start_time": "2022-10-04T10:33:03.601Z"
   },
   {
    "duration": 4,
    "start_time": "2022-10-04T10:33:38.888Z"
   },
   {
    "duration": 12,
    "start_time": "2022-10-04T10:36:33.519Z"
   },
   {
    "duration": 15,
    "start_time": "2022-10-04T10:38:31.388Z"
   },
   {
    "duration": 262,
    "start_time": "2022-10-04T10:40:03.019Z"
   },
   {
    "duration": 106,
    "start_time": "2022-10-04T16:36:10.419Z"
   },
   {
    "duration": 65,
    "start_time": "2022-10-04T17:05:01.046Z"
   },
   {
    "duration": 1646,
    "start_time": "2022-10-04T17:10:03.420Z"
   },
   {
    "duration": 74,
    "start_time": "2022-10-04T17:10:05.067Z"
   },
   {
    "duration": 17,
    "start_time": "2022-10-04T17:10:05.811Z"
   },
   {
    "duration": 13,
    "start_time": "2022-10-04T17:10:06.385Z"
   },
   {
    "duration": 8,
    "start_time": "2022-10-04T17:10:10.256Z"
   },
   {
    "duration": 7,
    "start_time": "2022-10-04T17:10:11.272Z"
   },
   {
    "duration": 44,
    "start_time": "2022-10-04T17:10:14.594Z"
   },
   {
    "duration": 17,
    "start_time": "2022-10-04T17:10:18.337Z"
   },
   {
    "duration": 2038,
    "start_time": "2022-10-04T17:10:24.906Z"
   },
   {
    "duration": 2150,
    "start_time": "2022-10-04T17:10:27.698Z"
   },
   {
    "duration": 5,
    "start_time": "2022-10-04T17:10:32.434Z"
   },
   {
    "duration": 1525,
    "start_time": "2022-10-04T17:10:33.194Z"
   },
   {
    "duration": 4,
    "start_time": "2022-10-04T17:10:44.113Z"
   },
   {
    "duration": 4,
    "start_time": "2022-10-04T17:10:46.858Z"
   },
   {
    "duration": 7,
    "start_time": "2022-10-04T17:10:47.308Z"
   },
   {
    "duration": 3,
    "start_time": "2022-10-04T17:10:52.031Z"
   },
   {
    "duration": 23,
    "start_time": "2022-10-04T17:10:52.736Z"
   },
   {
    "duration": 15,
    "start_time": "2022-10-04T17:10:58.172Z"
   },
   {
    "duration": 2,
    "start_time": "2022-10-04T17:11:01.600Z"
   },
   {
    "duration": 3,
    "start_time": "2022-10-04T17:11:01.989Z"
   },
   {
    "duration": 3,
    "start_time": "2022-10-04T17:11:13.156Z"
   },
   {
    "duration": 311,
    "start_time": "2022-10-04T17:11:15.661Z"
   },
   {
    "duration": 50,
    "start_time": "2022-10-04T17:11:16.637Z"
   },
   {
    "duration": 3,
    "start_time": "2022-10-04T17:11:18.646Z"
   },
   {
    "duration": 3,
    "start_time": "2022-10-04T17:11:19.175Z"
   },
   {
    "duration": 4,
    "start_time": "2022-10-04T17:11:21.374Z"
   },
   {
    "duration": 8,
    "start_time": "2022-10-04T17:11:22.245Z"
   },
   {
    "duration": 6,
    "start_time": "2022-10-04T17:11:23.628Z"
   },
   {
    "duration": 9,
    "start_time": "2022-10-04T17:11:28.476Z"
   },
   {
    "duration": 3,
    "start_time": "2022-10-04T17:11:39.422Z"
   },
   {
    "duration": 1656,
    "start_time": "2022-10-04T17:11:45.183Z"
   },
   {
    "duration": 3,
    "start_time": "2022-10-04T17:11:49.287Z"
   },
   {
    "duration": 18,
    "start_time": "2022-10-04T17:11:52.288Z"
   },
   {
    "duration": 2,
    "start_time": "2022-10-04T17:11:59.640Z"
   },
   {
    "duration": 2,
    "start_time": "2022-10-04T17:12:00.515Z"
   },
   {
    "duration": 77,
    "start_time": "2022-10-04T17:12:01.783Z"
   },
   {
    "duration": 69,
    "start_time": "2022-10-04T17:13:03.672Z"
   },
   {
    "duration": 3,
    "start_time": "2022-10-04T17:13:15.124Z"
   },
   {
    "duration": 123,
    "start_time": "2022-10-04T17:13:16.924Z"
   },
   {
    "duration": 760,
    "start_time": "2022-10-04T17:14:19.393Z"
   },
   {
    "duration": 3,
    "start_time": "2022-10-04T17:15:34.702Z"
   },
   {
    "duration": 28,
    "start_time": "2022-10-04T17:15:35.429Z"
   },
   {
    "duration": 3,
    "start_time": "2022-10-04T17:16:46.867Z"
   },
   {
    "duration": 3,
    "start_time": "2022-10-04T17:16:47.426Z"
   },
   {
    "duration": 17,
    "start_time": "2022-10-04T17:17:44.849Z"
   },
   {
    "duration": 12,
    "start_time": "2022-10-04T17:21:32.886Z"
   },
   {
    "duration": 19,
    "start_time": "2022-10-04T17:22:01.851Z"
   },
   {
    "duration": 18,
    "start_time": "2022-10-04T17:22:32.599Z"
   },
   {
    "duration": 478,
    "start_time": "2022-10-04T17:22:46.642Z"
   },
   {
    "duration": 15,
    "start_time": "2022-10-04T17:24:17.099Z"
   },
   {
    "duration": 14,
    "start_time": "2022-10-04T17:24:35.748Z"
   },
   {
    "duration": 8,
    "start_time": "2022-10-04T17:24:56.776Z"
   },
   {
    "duration": 4,
    "start_time": "2022-10-04T17:25:59.804Z"
   },
   {
    "duration": 5,
    "start_time": "2022-10-04T17:26:22.604Z"
   },
   {
    "duration": 14,
    "start_time": "2022-10-04T17:27:23.673Z"
   },
   {
    "duration": 1380,
    "start_time": "2022-10-04T17:31:02.459Z"
   },
   {
    "duration": 32,
    "start_time": "2022-10-04T17:31:03.841Z"
   },
   {
    "duration": 16,
    "start_time": "2022-10-04T17:31:03.875Z"
   },
   {
    "duration": 10,
    "start_time": "2022-10-04T17:31:03.893Z"
   },
   {
    "duration": 6,
    "start_time": "2022-10-04T17:31:03.905Z"
   },
   {
    "duration": 6,
    "start_time": "2022-10-04T17:31:04.066Z"
   },
   {
    "duration": 45,
    "start_time": "2022-10-04T17:31:04.427Z"
   },
   {
    "duration": 16,
    "start_time": "2022-10-04T17:31:04.786Z"
   },
   {
    "duration": 2208,
    "start_time": "2022-10-04T17:31:05.999Z"
   },
   {
    "duration": 2213,
    "start_time": "2022-10-04T17:31:08.209Z"
   },
   {
    "duration": 6,
    "start_time": "2022-10-04T17:31:10.423Z"
   },
   {
    "duration": 1549,
    "start_time": "2022-10-04T17:31:10.438Z"
   },
   {
    "duration": 3,
    "start_time": "2022-10-04T17:31:16.931Z"
   },
   {
    "duration": 4,
    "start_time": "2022-10-04T17:31:19.715Z"
   },
   {
    "duration": 6,
    "start_time": "2022-10-04T17:31:20.365Z"
   },
   {
    "duration": 3,
    "start_time": "2022-10-04T17:31:22.574Z"
   },
   {
    "duration": 24,
    "start_time": "2022-10-04T17:31:25.909Z"
   },
   {
    "duration": 11,
    "start_time": "2022-10-04T17:31:26.189Z"
   },
   {
    "duration": 3,
    "start_time": "2022-10-04T17:31:26.667Z"
   },
   {
    "duration": 2,
    "start_time": "2022-10-04T17:31:27.035Z"
   },
   {
    "duration": 3,
    "start_time": "2022-10-04T17:31:31.276Z"
   },
   {
    "duration": 326,
    "start_time": "2022-10-04T17:31:31.675Z"
   },
   {
    "duration": 62,
    "start_time": "2022-10-04T17:31:32.655Z"
   },
   {
    "duration": 3,
    "start_time": "2022-10-04T17:31:33.332Z"
   },
   {
    "duration": 3,
    "start_time": "2022-10-04T17:31:33.547Z"
   },
   {
    "duration": 4,
    "start_time": "2022-10-04T17:31:36.733Z"
   },
   {
    "duration": 9,
    "start_time": "2022-10-04T17:31:37.229Z"
   },
   {
    "duration": 9,
    "start_time": "2022-10-04T17:31:38.989Z"
   },
   {
    "duration": 8,
    "start_time": "2022-10-04T17:31:46.021Z"
   },
   {
    "duration": 3,
    "start_time": "2022-10-04T17:31:51.693Z"
   },
   {
    "duration": 1530,
    "start_time": "2022-10-04T17:31:52.109Z"
   },
   {
    "duration": 4,
    "start_time": "2022-10-04T17:31:53.642Z"
   },
   {
    "duration": 24,
    "start_time": "2022-10-04T17:31:57.366Z"
   },
   {
    "duration": 19,
    "start_time": "2022-10-04T17:32:04.438Z"
   },
   {
    "duration": 4523,
    "start_time": "2022-10-04T17:32:13.982Z"
   },
   {
    "duration": 24,
    "start_time": "2022-10-04T17:36:07.137Z"
   },
   {
    "duration": 114,
    "start_time": "2022-10-04T17:36:18.989Z"
   },
   {
    "duration": 19,
    "start_time": "2022-10-04T17:36:24.703Z"
   },
   {
    "duration": 13,
    "start_time": "2022-10-04T17:36:25.263Z"
   },
   {
    "duration": 4540,
    "start_time": "2022-10-04T17:37:02.234Z"
   },
   {
    "duration": 20,
    "start_time": "2022-10-04T17:39:21.491Z"
   },
   {
    "duration": 4536,
    "start_time": "2022-10-04T17:39:49.252Z"
   },
   {
    "duration": 20,
    "start_time": "2022-10-04T17:40:53.744Z"
   },
   {
    "duration": 4431,
    "start_time": "2022-10-04T17:40:57.592Z"
   },
   {
    "duration": 4555,
    "start_time": "2022-10-04T17:41:22.368Z"
   },
   {
    "duration": 48,
    "start_time": "2022-10-04T17:42:27.639Z"
   },
   {
    "duration": 7615,
    "start_time": "2022-10-04T17:42:34.358Z"
   },
   {
    "duration": 6,
    "start_time": "2022-10-04T17:46:02.579Z"
   },
   {
    "duration": 6705,
    "start_time": "2022-10-04T17:46:24.708Z"
   },
   {
    "duration": 46,
    "start_time": "2022-10-04T17:47:25.361Z"
   },
   {
    "duration": 7543,
    "start_time": "2022-10-04T17:47:36.186Z"
   },
   {
    "duration": 7881,
    "start_time": "2022-10-04T17:49:52.395Z"
   },
   {
    "duration": 12,
    "start_time": "2022-10-04T17:52:12.468Z"
   },
   {
    "duration": 13,
    "start_time": "2022-10-04T17:52:21.000Z"
   },
   {
    "duration": 1369,
    "start_time": "2022-10-04T17:57:16.177Z"
   },
   {
    "duration": 34,
    "start_time": "2022-10-04T17:57:17.548Z"
   },
   {
    "duration": 16,
    "start_time": "2022-10-04T17:57:17.583Z"
   },
   {
    "duration": 11,
    "start_time": "2022-10-04T17:57:17.600Z"
   },
   {
    "duration": 6,
    "start_time": "2022-10-04T17:57:17.613Z"
   },
   {
    "duration": 5,
    "start_time": "2022-10-04T17:57:17.621Z"
   },
   {
    "duration": 50,
    "start_time": "2022-10-04T17:57:17.628Z"
   },
   {
    "duration": 15,
    "start_time": "2022-10-04T17:57:17.679Z"
   },
   {
    "duration": 2213,
    "start_time": "2022-10-04T17:57:17.696Z"
   },
   {
    "duration": 2218,
    "start_time": "2022-10-04T17:57:19.911Z"
   },
   {
    "duration": 9,
    "start_time": "2022-10-04T17:57:22.131Z"
   },
   {
    "duration": 1554,
    "start_time": "2022-10-04T17:57:22.142Z"
   },
   {
    "duration": 4,
    "start_time": "2022-10-04T17:57:23.697Z"
   },
   {
    "duration": 7,
    "start_time": "2022-10-04T17:57:23.702Z"
   },
   {
    "duration": 11,
    "start_time": "2022-10-04T17:57:23.710Z"
   },
   {
    "duration": 6,
    "start_time": "2022-10-04T17:57:23.722Z"
   },
   {
    "duration": 26,
    "start_time": "2022-10-04T17:57:23.729Z"
   },
   {
    "duration": 12,
    "start_time": "2022-10-04T17:57:23.756Z"
   },
   {
    "duration": 77,
    "start_time": "2022-10-04T17:57:23.770Z"
   },
   {
    "duration": 98,
    "start_time": "2022-10-04T17:57:23.849Z"
   },
   {
    "duration": 8,
    "start_time": "2022-10-04T17:57:23.949Z"
   },
   {
    "duration": 331,
    "start_time": "2022-10-04T17:57:23.958Z"
   },
   {
    "duration": 65,
    "start_time": "2022-10-04T17:57:24.291Z"
   },
   {
    "duration": 2,
    "start_time": "2022-10-04T17:57:24.358Z"
   },
   {
    "duration": 11,
    "start_time": "2022-10-04T17:57:24.362Z"
   },
   {
    "duration": 6,
    "start_time": "2022-10-04T17:57:24.375Z"
   },
   {
    "duration": 10,
    "start_time": "2022-10-04T17:57:24.382Z"
   },
   {
    "duration": 7,
    "start_time": "2022-10-04T17:57:24.396Z"
   },
   {
    "duration": 12,
    "start_time": "2022-10-04T17:57:24.405Z"
   },
   {
    "duration": 651,
    "start_time": "2022-10-04T17:57:24.418Z"
   },
   {
    "duration": 117251,
    "start_time": "2022-10-04T17:57:25.071Z"
   },
   {
    "duration": 14,
    "start_time": "2022-10-04T17:59:22.324Z"
   },
   {
    "duration": 1505,
    "start_time": "2022-10-04T17:59:22.340Z"
   },
   {
    "duration": 92,
    "start_time": "2022-10-04T17:59:23.847Z"
   },
   {
    "duration": 24,
    "start_time": "2022-10-04T17:59:23.941Z"
   },
   {
    "duration": 3,
    "start_time": "2022-10-04T17:59:23.967Z"
   },
   {
    "duration": 14,
    "start_time": "2022-10-04T17:59:23.971Z"
   },
   {
    "duration": 29,
    "start_time": "2022-10-04T17:59:23.986Z"
   },
   {
    "duration": 65,
    "start_time": "2022-10-04T18:05:17.230Z"
   },
   {
    "duration": 1465,
    "start_time": "2022-10-04T18:05:22.257Z"
   },
   {
    "duration": 33,
    "start_time": "2022-10-04T18:05:23.724Z"
   },
   {
    "duration": 16,
    "start_time": "2022-10-04T18:05:23.759Z"
   },
   {
    "duration": 12,
    "start_time": "2022-10-04T18:05:23.777Z"
   },
   {
    "duration": 9,
    "start_time": "2022-10-04T18:05:24.693Z"
   },
   {
    "duration": 6,
    "start_time": "2022-10-04T18:05:25.885Z"
   },
   {
    "duration": 45,
    "start_time": "2022-10-04T18:05:26.751Z"
   },
   {
    "duration": 18,
    "start_time": "2022-10-04T18:05:27.789Z"
   },
   {
    "duration": 2202,
    "start_time": "2022-10-04T18:05:30.062Z"
   },
   {
    "duration": 2139,
    "start_time": "2022-10-04T18:05:32.266Z"
   },
   {
    "duration": 2344,
    "start_time": "2022-10-04T18:05:48.727Z"
   },
   {
    "duration": 2209,
    "start_time": "2022-10-04T18:05:51.072Z"
   },
   {
    "duration": 2422,
    "start_time": "2022-10-04T18:05:58.867Z"
   },
   {
    "duration": 2210,
    "start_time": "2022-10-04T18:06:01.291Z"
   },
   {
    "duration": 5,
    "start_time": "2022-10-04T18:06:04.265Z"
   },
   {
    "duration": 1526,
    "start_time": "2022-10-04T18:06:05.249Z"
   },
   {
    "duration": 4,
    "start_time": "2022-10-04T18:06:12.504Z"
   },
   {
    "duration": 4,
    "start_time": "2022-10-04T18:06:14.184Z"
   },
   {
    "duration": 5,
    "start_time": "2022-10-04T18:06:14.919Z"
   },
   {
    "duration": 3,
    "start_time": "2022-10-04T18:06:18.048Z"
   },
   {
    "duration": 24,
    "start_time": "2022-10-04T18:06:18.673Z"
   },
   {
    "duration": 13,
    "start_time": "2022-10-04T18:06:19.192Z"
   },
   {
    "duration": 3,
    "start_time": "2022-10-04T18:06:19.776Z"
   },
   {
    "duration": 3,
    "start_time": "2022-10-04T18:06:20.153Z"
   },
   {
    "duration": 3,
    "start_time": "2022-10-04T18:06:21.904Z"
   },
   {
    "duration": 340,
    "start_time": "2022-10-04T18:06:22.489Z"
   },
   {
    "duration": 60,
    "start_time": "2022-10-04T18:06:23.609Z"
   },
   {
    "duration": 2,
    "start_time": "2022-10-04T18:06:24.305Z"
   },
   {
    "duration": 2,
    "start_time": "2022-10-04T18:06:24.715Z"
   },
   {
    "duration": 3,
    "start_time": "2022-10-04T18:06:26.481Z"
   },
   {
    "duration": 10,
    "start_time": "2022-10-04T18:06:28.314Z"
   },
   {
    "duration": 8,
    "start_time": "2022-10-04T18:06:29.209Z"
   },
   {
    "duration": 9,
    "start_time": "2022-10-04T18:06:33.650Z"
   },
   {
    "duration": 2,
    "start_time": "2022-10-04T18:06:39.762Z"
   },
   {
    "duration": 1583,
    "start_time": "2022-10-04T18:06:40.362Z"
   },
   {
    "duration": 91,
    "start_time": "2022-10-04T18:06:41.948Z"
   },
   {
    "duration": 18,
    "start_time": "2022-10-04T18:06:45.570Z"
   },
   {
    "duration": 17,
    "start_time": "2022-10-04T18:06:52.762Z"
   },
   {
    "duration": 1327,
    "start_time": "2022-10-04T18:08:44.366Z"
   },
   {
    "duration": 34,
    "start_time": "2022-10-04T18:08:45.695Z"
   },
   {
    "duration": 16,
    "start_time": "2022-10-04T18:08:45.731Z"
   },
   {
    "duration": 11,
    "start_time": "2022-10-04T18:08:46.431Z"
   },
   {
    "duration": 8,
    "start_time": "2022-10-04T18:08:47.694Z"
   },
   {
    "duration": 6,
    "start_time": "2022-10-04T18:08:48.549Z"
   },
   {
    "duration": 47,
    "start_time": "2022-10-04T18:08:49.455Z"
   },
   {
    "duration": 19,
    "start_time": "2022-10-04T18:08:50.286Z"
   },
   {
    "duration": 2115,
    "start_time": "2022-10-04T18:08:52.103Z"
   },
   {
    "duration": 2169,
    "start_time": "2022-10-04T18:08:54.219Z"
   },
   {
    "duration": 6,
    "start_time": "2022-10-04T18:08:56.750Z"
   },
   {
    "duration": 1566,
    "start_time": "2022-10-04T18:08:57.694Z"
   },
   {
    "duration": 4,
    "start_time": "2022-10-04T18:09:03.487Z"
   },
   {
    "duration": 4,
    "start_time": "2022-10-04T18:09:04.479Z"
   },
   {
    "duration": 6,
    "start_time": "2022-10-04T18:09:04.936Z"
   },
   {
    "duration": 2,
    "start_time": "2022-10-04T18:09:06.885Z"
   },
   {
    "duration": 31,
    "start_time": "2022-10-04T18:09:07.351Z"
   },
   {
    "duration": 11,
    "start_time": "2022-10-04T18:09:07.815Z"
   },
   {
    "duration": 3,
    "start_time": "2022-10-04T18:09:08.534Z"
   },
   {
    "duration": 3,
    "start_time": "2022-10-04T18:09:08.934Z"
   },
   {
    "duration": 3,
    "start_time": "2022-10-04T18:09:10.767Z"
   },
   {
    "duration": 325,
    "start_time": "2022-10-04T18:09:11.349Z"
   },
   {
    "duration": 53,
    "start_time": "2022-10-04T18:09:11.792Z"
   },
   {
    "duration": 3,
    "start_time": "2022-10-04T18:09:13.080Z"
   },
   {
    "duration": 2,
    "start_time": "2022-10-04T18:09:13.288Z"
   },
   {
    "duration": 4,
    "start_time": "2022-10-04T18:09:15.247Z"
   },
   {
    "duration": 7,
    "start_time": "2022-10-04T18:09:16.463Z"
   },
   {
    "duration": 7,
    "start_time": "2022-10-04T18:09:18.016Z"
   },
   {
    "duration": 9,
    "start_time": "2022-10-04T18:09:21.847Z"
   },
   {
    "duration": 3,
    "start_time": "2022-10-04T18:09:29.224Z"
   },
   {
    "duration": 1568,
    "start_time": "2022-10-04T18:09:29.872Z"
   },
   {
    "duration": 3,
    "start_time": "2022-10-04T18:09:31.443Z"
   },
   {
    "duration": 17,
    "start_time": "2022-10-04T18:09:32.994Z"
   },
   {
    "duration": 3,
    "start_time": "2022-10-04T18:09:37.113Z"
   },
   {
    "duration": 2,
    "start_time": "2022-10-04T18:09:37.786Z"
   },
   {
    "duration": 18,
    "start_time": "2022-10-04T18:09:39.745Z"
   },
   {
    "duration": 4429,
    "start_time": "2022-10-04T18:09:40.985Z"
   },
   {
    "duration": 6,
    "start_time": "2022-10-04T18:09:56.344Z"
   },
   {
    "duration": 1497,
    "start_time": "2022-10-04T18:10:33.209Z"
   },
   {
    "duration": 32,
    "start_time": "2022-10-04T18:10:34.708Z"
   },
   {
    "duration": 14,
    "start_time": "2022-10-04T18:10:34.742Z"
   },
   {
    "duration": 10,
    "start_time": "2022-10-04T18:10:34.760Z"
   },
   {
    "duration": 8,
    "start_time": "2022-10-04T18:10:36.010Z"
   },
   {
    "duration": 6,
    "start_time": "2022-10-04T18:10:36.812Z"
   },
   {
    "duration": 46,
    "start_time": "2022-10-04T18:10:37.701Z"
   },
   {
    "duration": 17,
    "start_time": "2022-10-04T18:10:38.445Z"
   },
   {
    "duration": 2052,
    "start_time": "2022-10-04T18:10:39.277Z"
   },
   {
    "duration": 2160,
    "start_time": "2022-10-04T18:10:41.330Z"
   },
   {
    "duration": 6,
    "start_time": "2022-10-04T18:10:43.491Z"
   },
   {
    "duration": 1513,
    "start_time": "2022-10-04T18:10:48.566Z"
   },
   {
    "duration": 5,
    "start_time": "2022-10-04T18:10:55.046Z"
   },
   {
    "duration": 4,
    "start_time": "2022-10-04T18:10:55.942Z"
   },
   {
    "duration": 6,
    "start_time": "2022-10-04T18:10:56.318Z"
   },
   {
    "duration": 3,
    "start_time": "2022-10-04T18:10:58.837Z"
   },
   {
    "duration": 22,
    "start_time": "2022-10-04T18:10:59.695Z"
   },
   {
    "duration": 107,
    "start_time": "2022-10-04T18:11:01.337Z"
   },
   {
    "duration": 2,
    "start_time": "2022-10-04T18:11:01.743Z"
   },
   {
    "duration": 3,
    "start_time": "2022-10-04T18:11:02.134Z"
   },
   {
    "duration": 3,
    "start_time": "2022-10-04T18:11:03.950Z"
   },
   {
    "duration": 310,
    "start_time": "2022-10-04T18:11:04.903Z"
   },
   {
    "duration": 56,
    "start_time": "2022-10-04T18:11:05.558Z"
   },
   {
    "duration": 3,
    "start_time": "2022-10-04T18:11:06.351Z"
   },
   {
    "duration": 2,
    "start_time": "2022-10-04T18:11:06.703Z"
   },
   {
    "duration": 4,
    "start_time": "2022-10-04T18:11:09.074Z"
   },
   {
    "duration": 8,
    "start_time": "2022-10-04T18:11:10.072Z"
   },
   {
    "duration": 8,
    "start_time": "2022-10-04T18:11:10.639Z"
   },
   {
    "duration": 7,
    "start_time": "2022-10-04T18:11:13.967Z"
   },
   {
    "duration": 578,
    "start_time": "2022-10-04T18:11:14.986Z"
   },
   {
    "duration": 3,
    "start_time": "2022-10-04T18:11:20.320Z"
   },
   {
    "duration": 1614,
    "start_time": "2022-10-04T18:11:20.825Z"
   },
   {
    "duration": 3,
    "start_time": "2022-10-04T18:11:23.960Z"
   },
   {
    "duration": 18,
    "start_time": "2022-10-04T18:11:25.354Z"
   },
   {
    "duration": 3,
    "start_time": "2022-10-04T18:11:27.480Z"
   },
   {
    "duration": 3,
    "start_time": "2022-10-04T18:11:27.838Z"
   },
   {
    "duration": 17,
    "start_time": "2022-10-04T18:11:28.873Z"
   },
   {
    "duration": 4429,
    "start_time": "2022-10-04T18:11:29.585Z"
   },
   {
    "duration": 6,
    "start_time": "2022-10-04T18:11:41.505Z"
   },
   {
    "duration": 4504,
    "start_time": "2022-10-04T18:11:42.409Z"
   },
   {
    "duration": 5,
    "start_time": "2022-10-04T18:13:32.025Z"
   },
   {
    "duration": 15,
    "start_time": "2022-10-04T18:13:38.249Z"
   },
   {
    "duration": 251,
    "start_time": "2022-10-04T18:13:39.369Z"
   },
   {
    "duration": 28,
    "start_time": "2022-10-04T18:23:52.702Z"
   },
   {
    "duration": 28,
    "start_time": "2022-10-04T18:27:07.569Z"
   },
   {
    "duration": 113,
    "start_time": "2022-10-04T18:27:44.177Z"
   },
   {
    "duration": 4513,
    "start_time": "2022-10-04T18:27:59.844Z"
   },
   {
    "duration": 1411,
    "start_time": "2022-10-04T18:29:21.576Z"
   },
   {
    "duration": 34,
    "start_time": "2022-10-04T18:29:22.989Z"
   },
   {
    "duration": 16,
    "start_time": "2022-10-04T18:29:23.025Z"
   },
   {
    "duration": 13,
    "start_time": "2022-10-04T18:29:23.043Z"
   },
   {
    "duration": 7,
    "start_time": "2022-10-04T18:29:23.058Z"
   },
   {
    "duration": 18,
    "start_time": "2022-10-04T18:29:23.066Z"
   },
   {
    "duration": 62,
    "start_time": "2022-10-04T18:29:23.085Z"
   },
   {
    "duration": 18,
    "start_time": "2022-10-04T18:29:23.148Z"
   },
   {
    "duration": 2243,
    "start_time": "2022-10-04T18:29:23.168Z"
   },
   {
    "duration": 2291,
    "start_time": "2022-10-04T18:29:25.413Z"
   },
   {
    "duration": 6,
    "start_time": "2022-10-04T18:29:27.706Z"
   },
   {
    "duration": 1662,
    "start_time": "2022-10-04T18:29:27.714Z"
   },
   {
    "duration": 4,
    "start_time": "2022-10-04T18:29:29.378Z"
   },
   {
    "duration": 9,
    "start_time": "2022-10-04T18:29:29.384Z"
   },
   {
    "duration": 12,
    "start_time": "2022-10-04T18:29:29.395Z"
   },
   {
    "duration": 10,
    "start_time": "2022-10-04T18:29:29.408Z"
   },
   {
    "duration": 29,
    "start_time": "2022-10-04T18:29:29.419Z"
   },
   {
    "duration": 96,
    "start_time": "2022-10-04T18:29:29.450Z"
   },
   {
    "duration": 192,
    "start_time": "2022-10-04T18:29:29.549Z"
   },
   {
    "duration": 11,
    "start_time": "2022-10-04T18:29:29.743Z"
   },
   {
    "duration": 10,
    "start_time": "2022-10-04T18:29:29.756Z"
   },
   {
    "duration": 338,
    "start_time": "2022-10-04T18:29:29.768Z"
   },
   {
    "duration": 59,
    "start_time": "2022-10-04T18:29:30.108Z"
   },
   {
    "duration": 2,
    "start_time": "2022-10-04T18:29:30.169Z"
   },
   {
    "duration": 15,
    "start_time": "2022-10-04T18:29:30.173Z"
   },
   {
    "duration": 11,
    "start_time": "2022-10-04T18:29:30.190Z"
   },
   {
    "duration": 16,
    "start_time": "2022-10-04T18:29:30.203Z"
   },
   {
    "duration": 17,
    "start_time": "2022-10-04T18:29:30.223Z"
   },
   {
    "duration": 9,
    "start_time": "2022-10-04T18:29:30.242Z"
   },
   {
    "duration": 566,
    "start_time": "2022-10-04T18:29:30.253Z"
   },
   {
    "duration": 118601,
    "start_time": "2022-10-04T18:29:30.821Z"
   },
   {
    "duration": 3,
    "start_time": "2022-10-04T18:31:29.424Z"
   },
   {
    "duration": 2015,
    "start_time": "2022-10-04T18:31:29.429Z"
   },
   {
    "duration": 4,
    "start_time": "2022-10-04T18:31:31.447Z"
   },
   {
    "duration": 30,
    "start_time": "2022-10-04T18:31:31.454Z"
   },
   {
    "duration": 52,
    "start_time": "2022-10-04T18:31:31.486Z"
   },
   {
    "duration": 4758,
    "start_time": "2022-10-04T18:31:31.540Z"
   },
   {
    "duration": 6,
    "start_time": "2022-10-04T18:31:36.300Z"
   },
   {
    "duration": 5167,
    "start_time": "2022-10-04T18:31:36.309Z"
   },
   {
    "duration": 23,
    "start_time": "2022-10-04T18:31:41.480Z"
   },
   {
    "duration": 348,
    "start_time": "2022-10-04T18:31:41.505Z"
   },
   {
    "duration": 1697,
    "start_time": "2022-10-05T01:54:45.067Z"
   },
   {
    "duration": 73,
    "start_time": "2022-10-05T01:54:46.766Z"
   },
   {
    "duration": 17,
    "start_time": "2022-10-05T01:54:46.841Z"
   },
   {
    "duration": 17,
    "start_time": "2022-10-05T01:54:46.860Z"
   },
   {
    "duration": 8,
    "start_time": "2022-10-05T01:54:46.879Z"
   },
   {
    "duration": 8,
    "start_time": "2022-10-05T01:54:46.888Z"
   },
   {
    "duration": 65,
    "start_time": "2022-10-05T01:54:46.897Z"
   },
   {
    "duration": 19,
    "start_time": "2022-10-05T01:54:46.965Z"
   },
   {
    "duration": 2292,
    "start_time": "2022-10-05T01:54:46.986Z"
   },
   {
    "duration": 2385,
    "start_time": "2022-10-05T01:54:49.281Z"
   },
   {
    "duration": 9,
    "start_time": "2022-10-05T01:54:51.668Z"
   },
   {
    "duration": 1634,
    "start_time": "2022-10-05T01:54:51.679Z"
   },
   {
    "duration": 4,
    "start_time": "2022-10-05T01:54:53.315Z"
   },
   {
    "duration": 21,
    "start_time": "2022-10-05T01:54:53.321Z"
   },
   {
    "duration": 12,
    "start_time": "2022-10-05T01:54:53.344Z"
   },
   {
    "duration": 19,
    "start_time": "2022-10-05T01:54:53.358Z"
   },
   {
    "duration": 30,
    "start_time": "2022-10-05T01:54:53.379Z"
   },
   {
    "duration": 47,
    "start_time": "2022-10-05T01:54:53.411Z"
   },
   {
    "duration": 94,
    "start_time": "2022-10-05T01:54:53.461Z"
   },
   {
    "duration": 105,
    "start_time": "2022-10-05T01:54:53.557Z"
   },
   {
    "duration": 16,
    "start_time": "2022-10-05T01:54:53.664Z"
   },
   {
    "duration": 327,
    "start_time": "2022-10-05T01:54:53.682Z"
   },
   {
    "duration": 60,
    "start_time": "2022-10-05T01:54:54.011Z"
   },
   {
    "duration": 3,
    "start_time": "2022-10-05T01:54:54.072Z"
   },
   {
    "duration": 7,
    "start_time": "2022-10-05T01:54:54.076Z"
   },
   {
    "duration": 9,
    "start_time": "2022-10-05T01:54:54.084Z"
   },
   {
    "duration": 11,
    "start_time": "2022-10-05T01:54:54.095Z"
   },
   {
    "duration": 7,
    "start_time": "2022-10-05T01:54:54.109Z"
   },
   {
    "duration": 10,
    "start_time": "2022-10-05T01:54:54.117Z"
   },
   {
    "duration": 651,
    "start_time": "2022-10-05T01:54:54.128Z"
   },
   {
    "duration": 117502,
    "start_time": "2022-10-05T01:54:54.780Z"
   },
   {
    "duration": 3,
    "start_time": "2022-10-05T01:56:52.284Z"
   },
   {
    "duration": 1566,
    "start_time": "2022-10-05T01:56:52.288Z"
   },
   {
    "duration": 93,
    "start_time": "2022-10-05T01:56:53.861Z"
   },
   {
    "duration": 23,
    "start_time": "2022-10-05T01:56:53.956Z"
   },
   {
    "duration": 17,
    "start_time": "2022-10-05T01:56:53.981Z"
   },
   {
    "duration": 4783,
    "start_time": "2022-10-05T01:56:54.000Z"
   },
   {
    "duration": 5,
    "start_time": "2022-10-05T01:56:58.785Z"
   },
   {
    "duration": 4970,
    "start_time": "2022-10-05T01:56:58.792Z"
   },
   {
    "duration": 16,
    "start_time": "2022-10-05T01:57:03.764Z"
   },
   {
    "duration": 280,
    "start_time": "2022-10-05T01:57:03.782Z"
   },
   {
    "duration": 134,
    "start_time": "2022-10-05T01:57:42.658Z"
   },
   {
    "duration": 2116,
    "start_time": "2022-10-05T01:57:47.319Z"
   },
   {
    "duration": 2033,
    "start_time": "2022-10-05T01:57:59.236Z"
   },
   {
    "duration": 64,
    "start_time": "2022-10-20T08:48:59.840Z"
   },
   {
    "duration": 1417,
    "start_time": "2022-10-20T08:49:17.174Z"
   },
   {
    "duration": 45,
    "start_time": "2022-10-20T08:49:18.593Z"
   },
   {
    "duration": 30,
    "start_time": "2022-10-20T08:49:18.640Z"
   },
   {
    "duration": 103,
    "start_time": "2022-10-20T08:49:18.672Z"
   },
   {
    "duration": 9,
    "start_time": "2022-10-20T08:49:18.777Z"
   },
   {
    "duration": 19,
    "start_time": "2022-10-20T08:49:18.788Z"
   },
   {
    "duration": 84,
    "start_time": "2022-10-20T08:49:18.809Z"
   },
   {
    "duration": 17,
    "start_time": "2022-10-20T08:49:18.895Z"
   },
   {
    "duration": 2148,
    "start_time": "2022-10-20T08:49:18.914Z"
   },
   {
    "duration": 2246,
    "start_time": "2022-10-20T08:49:21.064Z"
   },
   {
    "duration": 6,
    "start_time": "2022-10-20T08:49:23.313Z"
   },
   {
    "duration": 1484,
    "start_time": "2022-10-20T08:49:23.321Z"
   },
   {
    "duration": 5,
    "start_time": "2022-10-20T08:49:24.807Z"
   },
   {
    "duration": 7,
    "start_time": "2022-10-20T08:49:24.814Z"
   },
   {
    "duration": 14,
    "start_time": "2022-10-20T08:49:24.822Z"
   },
   {
    "duration": 18,
    "start_time": "2022-10-20T08:49:24.837Z"
   },
   {
    "duration": 30,
    "start_time": "2022-10-20T08:49:24.857Z"
   },
   {
    "duration": 29,
    "start_time": "2022-10-20T08:49:24.888Z"
   },
   {
    "duration": 3,
    "start_time": "2022-10-20T08:49:24.918Z"
   },
   {
    "duration": 98,
    "start_time": "2022-10-20T08:49:24.923Z"
   },
   {
    "duration": 92,
    "start_time": "2022-10-20T08:49:25.022Z"
   },
   {
    "duration": 379,
    "start_time": "2022-10-20T08:49:25.116Z"
   },
   {
    "duration": 50,
    "start_time": "2022-10-20T08:49:25.497Z"
   },
   {
    "duration": 2,
    "start_time": "2022-10-20T08:49:25.549Z"
   },
   {
    "duration": 5,
    "start_time": "2022-10-20T08:49:25.553Z"
   },
   {
    "duration": 8,
    "start_time": "2022-10-20T08:49:25.560Z"
   },
   {
    "duration": 13,
    "start_time": "2022-10-20T08:49:25.570Z"
   },
   {
    "duration": 26,
    "start_time": "2022-10-20T08:49:25.587Z"
   },
   {
    "duration": 9,
    "start_time": "2022-10-20T08:49:25.616Z"
   },
   {
    "duration": 516,
    "start_time": "2022-10-20T08:49:25.626Z"
   },
   {
    "duration": 107085,
    "start_time": "2022-10-20T08:49:26.144Z"
   },
   {
    "duration": 3,
    "start_time": "2022-10-20T08:51:13.230Z"
   },
   {
    "duration": 1387,
    "start_time": "2022-10-20T08:51:13.236Z"
   },
   {
    "duration": 90,
    "start_time": "2022-10-20T08:51:14.625Z"
   },
   {
    "duration": 48,
    "start_time": "2022-10-20T08:51:14.717Z"
   },
   {
    "duration": 15,
    "start_time": "2022-10-20T08:51:14.767Z"
   },
   {
    "duration": 4634,
    "start_time": "2022-10-20T08:51:14.784Z"
   },
   {
    "duration": 6,
    "start_time": "2022-10-20T08:51:19.419Z"
   },
   {
    "duration": 4819,
    "start_time": "2022-10-20T08:51:19.427Z"
   },
   {
    "duration": 1804,
    "start_time": "2022-10-20T08:51:24.248Z"
   },
   {
    "duration": 21,
    "start_time": "2022-10-20T08:51:26.054Z"
   },
   {
    "duration": 295,
    "start_time": "2022-10-20T08:51:26.077Z"
   }
  ],
  "kernelspec": {
   "display_name": "Python 3 (ipykernel)",
   "language": "python",
   "name": "python3"
  },
  "language_info": {
   "codemirror_mode": {
    "name": "ipython",
    "version": 3
   },
   "file_extension": ".py",
   "mimetype": "text/x-python",
   "name": "python",
   "nbconvert_exporter": "python",
   "pygments_lexer": "ipython3",
   "version": "3.9.12"
  },
  "toc": {
   "base_numbering": 1,
   "nav_menu": {},
   "number_sections": true,
   "sideBar": true,
   "skip_h1_title": true,
   "title_cell": "Table of Contents",
   "title_sidebar": "Contents",
   "toc_cell": false,
   "toc_position": {
    "height": "calc(100% - 180px)",
    "left": "10px",
    "top": "150px",
    "width": "369px"
   },
   "toc_section_display": true,
   "toc_window_display": true
  }
 },
 "nbformat": 4,
 "nbformat_minor": 2
}
